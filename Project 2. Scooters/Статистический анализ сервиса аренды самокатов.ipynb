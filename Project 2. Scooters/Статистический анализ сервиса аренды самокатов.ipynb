{
 "cells": [
  {
   "cell_type": "markdown",
   "id": "39f923a1",
   "metadata": {},
   "source": [
    "# Исследование данных о пользователях и совершенных ими поездках на самокатах сервиса аренды самокатов GoFast.\n",
    "\n",
    "В нашем распоряжении данные о некоторых пользователях из нескольких городов, а также об их поездках: \n",
    "- файл `users_go.csv` содержит информацию о пользователях: уникальный идентификатор пользователя (user_id), имя пользователя (name), возраст (age), город (city), тип подписки - free или ultra (subscription_type);\n",
    "- файл `rides_go.csv` содержит информацию о пользователях: уникальный идентификатор пользователя (user_id), расстояние, которое пользователь проехал в текущей сессии в метрах (distance), продолжительность сессии в минутах — время с того момента, как пользователь нажал кнопку «Начать поездку» до момента, как он нажал кнопку «Завершить поездку» (duration), дата совершения поездки (date);\n",
    "- файл `subscriptions_go.csv` содержит информацию о тарифах аренды: тип подписки (subscription_type), стоимость одной минуты поездки по данной подписке (minute_price), стоимость начала поездки (start_ride_price), стоимость ежемесячного платежа (subscription_fee).\n",
    "\n",
    "Чтобы совершать поездки по городу, пользователи сервиса GoFast пользуются мобильным приложением. Сервисом можно пользоваться:\n",
    "- без подписки:\n",
    "    - абонентская плата отсутствует;\n",
    "    - стоимость одной минуты поездки — 8 рублей;\n",
    "    - стоимость старта (начала поездки) — 50 рублей;\n",
    "- с подпиской Ultra:\n",
    "    - абонентская плата — 199 рублей в месяц;\n",
    "    - стоимость одной минуты поездки — 6 рублей;\n",
    "    - стоимость старта — бесплатно.\n",
    "\n",
    "**Цель исследования** - проверить следующие ***гипотезы***, которые могут помочь бизнесу вырасти в результате проведения акций, способствующих увеличению количества пользователей с подпиской:\n",
    "1. Пользователи с подпиской тратят больше времени на поездки. Если гипотеза не опровергнется, то пользователи с подпиской могут быть «выгоднее» для компании. Для проверки гипотезы используем исходные данные о продолжительности каждой сессии — отдельно для подписчиков и тех, у кого нет подписки.\n",
    "2. Среднее расстояние, которое проезжают пользователи с подпиской за одну поездку, не превышает оптимального расстояния с точки зрения износа самоката (3130 метров). Проверим гипотезу, используя исходные данные о расстоянии каждой сессии пользователей с подпиской. Если гипотеза не опровергнется, то пользователи с подпиской могут быть причиной быстрого износа парка самокатов, что увеличивает расходы компании, тем самым снижая прибыль.\n",
    "3. Помесячная выручка от пользователей с подпиской по месяцам выше, чем выручка от пользователей без подписки. Проверим гипотезу, используя исходные данные о количестве и длительности поездок пользователей и тарифах аренды. Если гипотеза не опровергнется, то пользователи с подпиской могут быть «выгоднее» для компании.\n",
    "\n",
    "*Иследование проведем по следующим этапам*:\n",
    "1. Изучим содержание данных, выявим наличие данных, требующих их предобработки (неудобный тип данных, дубликаты и пропуски).\n",
    "2. Проведем предобработку данных:\n",
    "    - приведем к удобному формату данных;    \n",
    "    - удалим дубликаты при наличии;\n",
    "    - заполним пропуски значений, где это возможно;\n",
    "    - добавим при необходимости дополнительные столбцы с данными.\n",
    "3. Проведем исследовательский анализ данных о пользователях и поездках:\n",
    "    - частота встречаемости городов, в которых совершены поездки;\n",
    "    - соотношение пользователей с подпиской и без подписки;\n",
    "    - возраст пользователей;\n",
    "    - расстояние, которое пользователь преодолел за одну поездку;\n",
    "    - продолжительность поездок, совершенных пользователями;\n",
    "    - расстояние и продолжительность поездок для пользователей разных категорий: с подпиской и без нее;\n",
    "    - рассчитаем объем помесячной выручки от пользователей.\n",
    "4. Проверим сформулированные выше гипотезы.\n",
    "5. Оформим полученные результаты."
   ]
  },
  {
   "cell_type": "code",
   "execution_count": 1,
   "id": "0adf1406",
   "metadata": {},
   "outputs": [],
   "source": [
    "# импортируем необходимые библиотеки:\n",
    "import pandas as pd\n",
    "import numpy as np\n",
    "from scipy import stats as st\n",
    "import matplotlib.pyplot as plt\n",
    "from scipy.stats import binom, norm"
   ]
  },
  {
   "cell_type": "markdown",
   "id": "2c0eac2c",
   "metadata": {},
   "source": [
    "#### Шаг 1. Загрузка данных"
   ]
  },
  {
   "cell_type": "markdown",
   "id": "0db9e612",
   "metadata": {},
   "source": [
    "1. Изучим файл с информацией о пользователях."
   ]
  },
  {
   "cell_type": "code",
   "execution_count": 2,
   "id": "5f5dc645",
   "metadata": {},
   "outputs": [
    {
     "data": {
      "text/html": [
       "<div>\n",
       "<style scoped>\n",
       "    .dataframe tbody tr th:only-of-type {\n",
       "        vertical-align: middle;\n",
       "    }\n",
       "\n",
       "    .dataframe tbody tr th {\n",
       "        vertical-align: top;\n",
       "    }\n",
       "\n",
       "    .dataframe thead th {\n",
       "        text-align: right;\n",
       "    }\n",
       "</style>\n",
       "<table border=\"1\" class=\"dataframe\">\n",
       "  <thead>\n",
       "    <tr style=\"text-align: right;\">\n",
       "      <th></th>\n",
       "      <th>user_id</th>\n",
       "      <th>name</th>\n",
       "      <th>age</th>\n",
       "      <th>city</th>\n",
       "      <th>subscription_type</th>\n",
       "    </tr>\n",
       "  </thead>\n",
       "  <tbody>\n",
       "    <tr>\n",
       "      <th>0</th>\n",
       "      <td>1</td>\n",
       "      <td>Кира</td>\n",
       "      <td>22</td>\n",
       "      <td>Тюмень</td>\n",
       "      <td>ultra</td>\n",
       "    </tr>\n",
       "    <tr>\n",
       "      <th>1</th>\n",
       "      <td>2</td>\n",
       "      <td>Станислав</td>\n",
       "      <td>31</td>\n",
       "      <td>Омск</td>\n",
       "      <td>ultra</td>\n",
       "    </tr>\n",
       "    <tr>\n",
       "      <th>2</th>\n",
       "      <td>3</td>\n",
       "      <td>Алексей</td>\n",
       "      <td>20</td>\n",
       "      <td>Москва</td>\n",
       "      <td>ultra</td>\n",
       "    </tr>\n",
       "    <tr>\n",
       "      <th>3</th>\n",
       "      <td>4</td>\n",
       "      <td>Константин</td>\n",
       "      <td>26</td>\n",
       "      <td>Ростов-на-Дону</td>\n",
       "      <td>ultra</td>\n",
       "    </tr>\n",
       "    <tr>\n",
       "      <th>4</th>\n",
       "      <td>5</td>\n",
       "      <td>Адель</td>\n",
       "      <td>28</td>\n",
       "      <td>Омск</td>\n",
       "      <td>ultra</td>\n",
       "    </tr>\n",
       "  </tbody>\n",
       "</table>\n",
       "</div>"
      ],
      "text/plain": [
       "   user_id        name  age            city subscription_type\n",
       "0        1        Кира   22          Тюмень             ultra\n",
       "1        2   Станислав   31            Омск             ultra\n",
       "2        3     Алексей   20          Москва             ultra\n",
       "3        4  Константин   26  Ростов-на-Дону             ultra\n",
       "4        5       Адель   28            Омск             ultra"
      ]
     },
     "execution_count": 2,
     "metadata": {},
     "output_type": "execute_result"
    }
   ],
   "source": [
    "users = pd.read_csv ('/datasets/users_go.csv')\n",
    "users.head()"
   ]
  },
  {
   "cell_type": "code",
   "execution_count": 3,
   "id": "818b54e7",
   "metadata": {},
   "outputs": [
    {
     "name": "stdout",
     "output_type": "stream",
     "text": [
      "<class 'pandas.core.frame.DataFrame'>\n",
      "RangeIndex: 1565 entries, 0 to 1564\n",
      "Data columns (total 5 columns):\n",
      " #   Column             Non-Null Count  Dtype \n",
      "---  ------             --------------  ----- \n",
      " 0   user_id            1565 non-null   int64 \n",
      " 1   name               1565 non-null   object\n",
      " 2   age                1565 non-null   int64 \n",
      " 3   city               1565 non-null   object\n",
      " 4   subscription_type  1565 non-null   object\n",
      "dtypes: int64(2), object(3)\n",
      "memory usage: 61.3+ KB\n"
     ]
    }
   ],
   "source": [
    "users.info()"
   ]
  },
  {
   "cell_type": "markdown",
   "id": "02804ac5",
   "metadata": {},
   "source": [
    "Файл содержит информацию о 1565 пользователях, в том числе их уникальный номер, имя, возраст, город и тип выбранного тарифа."
   ]
  },
  {
   "cell_type": "markdown",
   "id": "c48fb1cf",
   "metadata": {},
   "source": [
    "2. Изучим файл с информацией о поездках пользователей."
   ]
  },
  {
   "cell_type": "code",
   "execution_count": 4,
   "id": "54092f46",
   "metadata": {},
   "outputs": [
    {
     "data": {
      "text/html": [
       "<div>\n",
       "<style scoped>\n",
       "    .dataframe tbody tr th:only-of-type {\n",
       "        vertical-align: middle;\n",
       "    }\n",
       "\n",
       "    .dataframe tbody tr th {\n",
       "        vertical-align: top;\n",
       "    }\n",
       "\n",
       "    .dataframe thead th {\n",
       "        text-align: right;\n",
       "    }\n",
       "</style>\n",
       "<table border=\"1\" class=\"dataframe\">\n",
       "  <thead>\n",
       "    <tr style=\"text-align: right;\">\n",
       "      <th></th>\n",
       "      <th>user_id</th>\n",
       "      <th>distance</th>\n",
       "      <th>duration</th>\n",
       "      <th>date</th>\n",
       "    </tr>\n",
       "  </thead>\n",
       "  <tbody>\n",
       "    <tr>\n",
       "      <th>0</th>\n",
       "      <td>1</td>\n",
       "      <td>4409.919140</td>\n",
       "      <td>25.599769</td>\n",
       "      <td>2021-01-01</td>\n",
       "    </tr>\n",
       "    <tr>\n",
       "      <th>1</th>\n",
       "      <td>1</td>\n",
       "      <td>2617.592153</td>\n",
       "      <td>15.816871</td>\n",
       "      <td>2021-01-18</td>\n",
       "    </tr>\n",
       "    <tr>\n",
       "      <th>2</th>\n",
       "      <td>1</td>\n",
       "      <td>754.159807</td>\n",
       "      <td>6.232113</td>\n",
       "      <td>2021-04-20</td>\n",
       "    </tr>\n",
       "    <tr>\n",
       "      <th>3</th>\n",
       "      <td>1</td>\n",
       "      <td>2694.783254</td>\n",
       "      <td>18.511000</td>\n",
       "      <td>2021-08-11</td>\n",
       "    </tr>\n",
       "    <tr>\n",
       "      <th>4</th>\n",
       "      <td>1</td>\n",
       "      <td>4028.687306</td>\n",
       "      <td>26.265803</td>\n",
       "      <td>2021-08-28</td>\n",
       "    </tr>\n",
       "  </tbody>\n",
       "</table>\n",
       "</div>"
      ],
      "text/plain": [
       "   user_id     distance   duration        date\n",
       "0        1  4409.919140  25.599769  2021-01-01\n",
       "1        1  2617.592153  15.816871  2021-01-18\n",
       "2        1   754.159807   6.232113  2021-04-20\n",
       "3        1  2694.783254  18.511000  2021-08-11\n",
       "4        1  4028.687306  26.265803  2021-08-28"
      ]
     },
     "execution_count": 4,
     "metadata": {},
     "output_type": "execute_result"
    }
   ],
   "source": [
    "rides = pd.read_csv ('/datasets/rides_go.csv')\n",
    "rides.head()"
   ]
  },
  {
   "cell_type": "code",
   "execution_count": 5,
   "id": "45f1c6f1",
   "metadata": {},
   "outputs": [
    {
     "name": "stdout",
     "output_type": "stream",
     "text": [
      "<class 'pandas.core.frame.DataFrame'>\n",
      "RangeIndex: 18068 entries, 0 to 18067\n",
      "Data columns (total 4 columns):\n",
      " #   Column    Non-Null Count  Dtype  \n",
      "---  ------    --------------  -----  \n",
      " 0   user_id   18068 non-null  int64  \n",
      " 1   distance  18068 non-null  float64\n",
      " 2   duration  18068 non-null  float64\n",
      " 3   date      18068 non-null  object \n",
      "dtypes: float64(2), int64(1), object(1)\n",
      "memory usage: 564.8+ KB\n"
     ]
    }
   ],
   "source": [
    "rides.info()"
   ]
  },
  {
   "cell_type": "code",
   "execution_count": 6,
   "id": "728982a1",
   "metadata": {},
   "outputs": [
    {
     "data": {
      "text/plain": [
       "'2021-12-30'"
      ]
     },
     "execution_count": 6,
     "metadata": {},
     "output_type": "execute_result"
    }
   ],
   "source": [
    "rides ['date'].max()"
   ]
  },
  {
   "cell_type": "code",
   "execution_count": 7,
   "id": "1000f1bc",
   "metadata": {},
   "outputs": [
    {
     "data": {
      "text/plain": [
       "'2021-01-01'"
      ]
     },
     "execution_count": 7,
     "metadata": {},
     "output_type": "execute_result"
    }
   ],
   "source": [
    "rides ['date'].min()"
   ]
  },
  {
   "cell_type": "markdown",
   "id": "bff36e4f",
   "metadata": {},
   "source": [
    "Файл содержит информацию о 18068 поездках, совершенных пользователями в период с 1 января по 30 декабря 2021 года, в том числе уникальный номер пользователя, расстояние поездки, длительность поездки и дата поездки."
   ]
  },
  {
   "cell_type": "markdown",
   "id": "d0243406",
   "metadata": {},
   "source": [
    "3. Изучим файл с информацией о тарифах аренды."
   ]
  },
  {
   "cell_type": "code",
   "execution_count": 8,
   "id": "83f55d83",
   "metadata": {},
   "outputs": [
    {
     "data": {
      "text/html": [
       "<div>\n",
       "<style scoped>\n",
       "    .dataframe tbody tr th:only-of-type {\n",
       "        vertical-align: middle;\n",
       "    }\n",
       "\n",
       "    .dataframe tbody tr th {\n",
       "        vertical-align: top;\n",
       "    }\n",
       "\n",
       "    .dataframe thead th {\n",
       "        text-align: right;\n",
       "    }\n",
       "</style>\n",
       "<table border=\"1\" class=\"dataframe\">\n",
       "  <thead>\n",
       "    <tr style=\"text-align: right;\">\n",
       "      <th></th>\n",
       "      <th>subscription_type</th>\n",
       "      <th>minute_price</th>\n",
       "      <th>start_ride_price</th>\n",
       "      <th>subscription_fee</th>\n",
       "    </tr>\n",
       "  </thead>\n",
       "  <tbody>\n",
       "    <tr>\n",
       "      <th>0</th>\n",
       "      <td>free</td>\n",
       "      <td>8</td>\n",
       "      <td>50</td>\n",
       "      <td>0</td>\n",
       "    </tr>\n",
       "    <tr>\n",
       "      <th>1</th>\n",
       "      <td>ultra</td>\n",
       "      <td>6</td>\n",
       "      <td>0</td>\n",
       "      <td>199</td>\n",
       "    </tr>\n",
       "  </tbody>\n",
       "</table>\n",
       "</div>"
      ],
      "text/plain": [
       "  subscription_type  minute_price  start_ride_price  subscription_fee\n",
       "0              free             8                50                 0\n",
       "1             ultra             6                 0               199"
      ]
     },
     "execution_count": 8,
     "metadata": {},
     "output_type": "execute_result"
    }
   ],
   "source": [
    "prices = pd.read_csv ('/datasets/subscriptions_go.csv')\n",
    "prices"
   ]
  },
  {
   "cell_type": "code",
   "execution_count": 9,
   "id": "4e9a4302",
   "metadata": {},
   "outputs": [
    {
     "name": "stdout",
     "output_type": "stream",
     "text": [
      "<class 'pandas.core.frame.DataFrame'>\n",
      "RangeIndex: 2 entries, 0 to 1\n",
      "Data columns (total 4 columns):\n",
      " #   Column             Non-Null Count  Dtype \n",
      "---  ------             --------------  ----- \n",
      " 0   subscription_type  2 non-null      object\n",
      " 1   minute_price       2 non-null      int64 \n",
      " 2   start_ride_price   2 non-null      int64 \n",
      " 3   subscription_fee   2 non-null      int64 \n",
      "dtypes: int64(3), object(1)\n",
      "memory usage: 192.0+ bytes\n"
     ]
    }
   ],
   "source": [
    "prices.info()"
   ]
  },
  {
   "cell_type": "markdown",
   "id": "21e59083",
   "metadata": {},
   "source": [
    "Всего представлены 2 тарифа - с подпиской Ultra и без нее, включающме в себя стоимость минуты поездки, стоимость старта (для тарифа без подписки) и стоимость абонентской платы в месяц (для тарифа с подпиской Ultra)."
   ]
  },
  {
   "cell_type": "markdown",
   "id": "d2ac52c2",
   "metadata": {},
   "source": [
    "#### Шаг 2. Предобработка данных"
   ]
  },
  {
   "cell_type": "markdown",
   "id": "9eabde6c",
   "metadata": {},
   "source": [
    "Cтолбец `date` в файле с информацией о поездках имеет текстовый тип данных \"object\", при этом в нем отражена дата поездки. Для удобства последующей обработки данных изменим формат типа данных в этом столбце на тип даты \"date\":"
   ]
  },
  {
   "cell_type": "code",
   "execution_count": 10,
   "id": "49d982bc",
   "metadata": {},
   "outputs": [],
   "source": [
    "rides ['date'] = pd.to_datetime(rides ['date'], format='%Y-%m-%d')"
   ]
  },
  {
   "cell_type": "markdown",
   "id": "02813f1e",
   "metadata": {},
   "source": [
    "Для последующего расчета общей стоимости поездок, совершенных пользователем за месяц, добавим в файл с информацией о поездках столбец, содержащий сведения о месяце совершения поездки:"
   ]
  },
  {
   "cell_type": "code",
   "execution_count": 11,
   "id": "937960ab",
   "metadata": {},
   "outputs": [
    {
     "data": {
      "text/html": [
       "<div>\n",
       "<style scoped>\n",
       "    .dataframe tbody tr th:only-of-type {\n",
       "        vertical-align: middle;\n",
       "    }\n",
       "\n",
       "    .dataframe tbody tr th {\n",
       "        vertical-align: top;\n",
       "    }\n",
       "\n",
       "    .dataframe thead th {\n",
       "        text-align: right;\n",
       "    }\n",
       "</style>\n",
       "<table border=\"1\" class=\"dataframe\">\n",
       "  <thead>\n",
       "    <tr style=\"text-align: right;\">\n",
       "      <th></th>\n",
       "      <th>user_id</th>\n",
       "      <th>distance</th>\n",
       "      <th>duration</th>\n",
       "      <th>date</th>\n",
       "      <th>month</th>\n",
       "    </tr>\n",
       "  </thead>\n",
       "  <tbody>\n",
       "    <tr>\n",
       "      <th>0</th>\n",
       "      <td>1</td>\n",
       "      <td>4409.919140</td>\n",
       "      <td>25.599769</td>\n",
       "      <td>2021-01-01</td>\n",
       "      <td>1</td>\n",
       "    </tr>\n",
       "    <tr>\n",
       "      <th>1</th>\n",
       "      <td>1</td>\n",
       "      <td>2617.592153</td>\n",
       "      <td>15.816871</td>\n",
       "      <td>2021-01-18</td>\n",
       "      <td>1</td>\n",
       "    </tr>\n",
       "    <tr>\n",
       "      <th>2</th>\n",
       "      <td>1</td>\n",
       "      <td>754.159807</td>\n",
       "      <td>6.232113</td>\n",
       "      <td>2021-04-20</td>\n",
       "      <td>4</td>\n",
       "    </tr>\n",
       "    <tr>\n",
       "      <th>3</th>\n",
       "      <td>1</td>\n",
       "      <td>2694.783254</td>\n",
       "      <td>18.511000</td>\n",
       "      <td>2021-08-11</td>\n",
       "      <td>8</td>\n",
       "    </tr>\n",
       "    <tr>\n",
       "      <th>4</th>\n",
       "      <td>1</td>\n",
       "      <td>4028.687306</td>\n",
       "      <td>26.265803</td>\n",
       "      <td>2021-08-28</td>\n",
       "      <td>8</td>\n",
       "    </tr>\n",
       "  </tbody>\n",
       "</table>\n",
       "</div>"
      ],
      "text/plain": [
       "   user_id     distance   duration       date  month\n",
       "0        1  4409.919140  25.599769 2021-01-01      1\n",
       "1        1  2617.592153  15.816871 2021-01-18      1\n",
       "2        1   754.159807   6.232113 2021-04-20      4\n",
       "3        1  2694.783254  18.511000 2021-08-11      8\n",
       "4        1  4028.687306  26.265803 2021-08-28      8"
      ]
     },
     "execution_count": 11,
     "metadata": {},
     "output_type": "execute_result"
    }
   ],
   "source": [
    "rides ['month'] = pd.DatetimeIndex (rides ['date']).month\n",
    "rides.head()"
   ]
  },
  {
   "cell_type": "markdown",
   "id": "585be7e7",
   "metadata": {},
   "source": [
    "Пропущенные значения в файлах отсутствуют. Проверим на наличие дубликатов и в случае обнаружения удалим их."
   ]
  },
  {
   "cell_type": "code",
   "execution_count": 12,
   "id": "b48981fc",
   "metadata": {},
   "outputs": [
    {
     "data": {
      "text/plain": [
       "31"
      ]
     },
     "execution_count": 12,
     "metadata": {},
     "output_type": "execute_result"
    }
   ],
   "source": [
    "users.duplicated().sum()"
   ]
  },
  {
   "cell_type": "code",
   "execution_count": 13,
   "id": "e0d52202",
   "metadata": {},
   "outputs": [
    {
     "data": {
      "text/plain": [
       "0"
      ]
     },
     "execution_count": 13,
     "metadata": {},
     "output_type": "execute_result"
    }
   ],
   "source": [
    "rides.duplicated().sum()"
   ]
  },
  {
   "cell_type": "code",
   "execution_count": 14,
   "id": "6c4a703c",
   "metadata": {},
   "outputs": [
    {
     "name": "stdout",
     "output_type": "stream",
     "text": [
      "<class 'pandas.core.frame.DataFrame'>\n",
      "RangeIndex: 1534 entries, 0 to 1533\n",
      "Data columns (total 5 columns):\n",
      " #   Column             Non-Null Count  Dtype \n",
      "---  ------             --------------  ----- \n",
      " 0   user_id            1534 non-null   int64 \n",
      " 1   name               1534 non-null   object\n",
      " 2   age                1534 non-null   int64 \n",
      " 3   city               1534 non-null   object\n",
      " 4   subscription_type  1534 non-null   object\n",
      "dtypes: int64(2), object(3)\n",
      "memory usage: 60.0+ KB\n"
     ]
    }
   ],
   "source": [
    "users = users.drop_duplicates().reset_index(drop=True)\n",
    "users.info()"
   ]
  },
  {
   "cell_type": "markdown",
   "id": "94e9a86d",
   "metadata": {},
   "source": [
    "После удаления 31 повторяющейся строки в файле с информацией о пользователях, осталось 1534 уникальных пользователя."
   ]
  },
  {
   "cell_type": "markdown",
   "id": "12ffb923",
   "metadata": {},
   "source": [
    "#### Шаг 3. Исследовательский анализ данных"
   ]
  },
  {
   "cell_type": "markdown",
   "id": "371cafc9",
   "metadata": {},
   "source": [
    "1. Посмотрим в каких *городах* пользователи чаще пользуются услугой аренды самокатов GoFast."
   ]
  },
  {
   "cell_type": "code",
   "execution_count": 15,
   "id": "f5877b4a",
   "metadata": {},
   "outputs": [
    {
     "data": {
      "text/plain": [
       "Москва            168\n",
       "Тюмень            180\n",
       "Омск              183\n",
       "Сочи              189\n",
       "Краснодар         193\n",
       "Ростов-на-Дону    198\n",
       "Екатеринбург      204\n",
       "Пятигорск         219\n",
       "Name: city, dtype: int64"
      ]
     },
     "execution_count": 15,
     "metadata": {},
     "output_type": "execute_result"
    }
   ],
   "source": [
    "cities = users['city'].value_counts(ascending=True)\n",
    "cities"
   ]
  },
  {
   "cell_type": "code",
   "execution_count": 16,
   "id": "166b9dd4",
   "metadata": {},
   "outputs": [
    {
     "data": {
      "image/png": "[encoded data removed]",
      "text/plain": [
       "<Figure size 432x288 with 1 Axes>"
      ]
     },
     "metadata": {
      "needs_background": "light"
     },
     "output_type": "display_data"
    }
   ],
   "source": [
    "cities.plot(kind='barh', x='city', title='Распределение пользователей по городам', grid=True, color='purple');"
   ]
  },
  {
   "cell_type": "markdown",
   "id": "5d95793f",
   "metadata": {},
   "source": [
    "Услугой аренды самокатов GoFast пользуются в 8 городах примерно одинаково, но наибольшее распространение услуга имеет в г. Пятигорске (219 пользователей), меньше всего представлены пользователи из г. Москвы (168 пользователей)."
   ]
  },
  {
   "cell_type": "markdown",
   "id": "f25cafe2",
   "metadata": {},
   "source": [
    "2. Посмотрим на соотношение пользователей с *подпиской* Ultra и без нее."
   ]
  },
  {
   "cell_type": "code",
   "execution_count": 17,
   "id": "38bbc262",
   "metadata": {},
   "outputs": [
    {
     "data": {
      "text/plain": [
       "free     835\n",
       "ultra    699\n",
       "Name: subscription_type, dtype: int64"
      ]
     },
     "execution_count": 17,
     "metadata": {},
     "output_type": "execute_result"
    }
   ],
   "source": [
    "users['subscription_type'].value_counts()"
   ]
  },
  {
   "cell_type": "code",
   "execution_count": 18,
   "id": "b36864c8",
   "metadata": {},
   "outputs": [
    {
     "data": {
      "text/plain": [
       "<AxesSubplot:title={'center':'Распределение пользователей в зависимости от наличия подписки'}, ylabel='subscription_type'>"
      ]
     },
     "execution_count": 18,
     "metadata": {},
     "output_type": "execute_result"
    },
    {
     "data": {
      "image/png": "[encoded data removed]",
      "text/plain": [
       "<Figure size 432x288 with 1 Axes>"
      ]
     },
     "metadata": {},
     "output_type": "display_data"
    }
   ],
   "source": [
    "(\n",
    "    users['subscription_type']\n",
    "    .value_counts()\n",
    "    .plot(kind='pie', autopct='%1.0f%%', title='Распределение пользователей в зависимости от наличия подписки')\n",
    ")"
   ]
  },
  {
   "cell_type": "markdown",
   "id": "c1ea6265",
   "metadata": {},
   "source": [
    "Пользователей без подписки на 8% больше, чем пользователей, оформивших подписку Ultra."
   ]
  },
  {
   "cell_type": "markdown",
   "id": "fa7ccc7c",
   "metadata": {},
   "source": [
    "3. Посмотрим на распределение пользователей услуги аренды самокатов GoFast в зависимости от их *возраста*."
   ]
  },
  {
   "cell_type": "code",
   "execution_count": 19,
   "id": "7eb45836",
   "metadata": {},
   "outputs": [
    {
     "data": {
      "text/plain": [
       "25    145\n",
       "24    132\n",
       "26    131\n",
       "23    129\n",
       "27    119\n",
       "22    119\n",
       "28    112\n",
       "21     93\n",
       "20     71\n",
       "30     68\n",
       "Name: age, dtype: int64"
      ]
     },
     "execution_count": 19,
     "metadata": {},
     "output_type": "execute_result"
    }
   ],
   "source": [
    "users['age'].value_counts().head(10)"
   ]
  },
  {
   "cell_type": "code",
   "execution_count": 20,
   "id": "1712beeb",
   "metadata": {},
   "outputs": [
    {
     "data": {
      "text/plain": [
       "Text(0, 0.5, 'Количество пользователей')"
      ]
     },
     "execution_count": 20,
     "metadata": {},
     "output_type": "execute_result"
    },
    {
     "data": {
      "image/png": "[encoded data removed]",
      "text/plain": [
       "<Figure size 432x288 with 1 Axes>"
      ]
     },
     "metadata": {
      "needs_background": "light"
     },
     "output_type": "display_data"
    }
   ],
   "source": [
    "users['age'].hist()\n",
    "plt.title('Возраст пользователей услуги аренды самокатов GoFast')\n",
    "plt.xlabel('Возраст')\n",
    "plt.ylabel('Количество пользователей')"
   ]
  },
  {
   "cell_type": "code",
   "execution_count": 21,
   "id": "3e4d22a9",
   "metadata": {},
   "outputs": [
    {
     "data": {
      "text/plain": [
       "count    1534.000000\n",
       "mean       24.903520\n",
       "std         4.572367\n",
       "min        12.000000\n",
       "25%        22.000000\n",
       "50%        25.000000\n",
       "75%        28.000000\n",
       "max        43.000000\n",
       "Name: age, dtype: float64"
      ]
     },
     "execution_count": 21,
     "metadata": {},
     "output_type": "execute_result"
    }
   ],
   "source": [
    "users['age'].describe()"
   ]
  },
  {
   "cell_type": "markdown",
   "id": "38951eaa",
   "metadata": {},
   "source": [
    "Услугой аренды самокатов GoFast пользуются люди от 12 до 43 лет, средний возраст пользователя - 25 лет, большинство пользователей в возрасте от 22 до 30 лет."
   ]
  },
  {
   "cell_type": "markdown",
   "id": "0299eaff",
   "metadata": {},
   "source": [
    "4. Посмотрим, какие *расстояния* преодолевают пользователи услуги аренды самокатов GoFast за 1 поездку."
   ]
  },
  {
   "cell_type": "code",
   "execution_count": 22,
   "id": "1fcfc06d",
   "metadata": {},
   "outputs": [
    {
     "data": {
      "text/plain": [
       "Text(0, 0.5, 'Количество поездок')"
      ]
     },
     "execution_count": 22,
     "metadata": {},
     "output_type": "execute_result"
    },
    {
     "data": {
      "image/png": "[encoded data removed]",
      "text/plain": [
       "<Figure size 432x288 with 1 Axes>"
      ]
     },
     "metadata": {
      "needs_background": "light"
     },
     "output_type": "display_data"
    }
   ],
   "source": [
    "rides['distance'].hist(bins=20)\n",
    "plt.title('Дистанция 1 поездки (в метрах)')\n",
    "plt.xlabel('Расстояние в метрах')\n",
    "plt.ylabel('Количество поездок')"
   ]
  },
  {
   "cell_type": "code",
   "execution_count": 23,
   "id": "237cbec9",
   "metadata": {},
   "outputs": [
    {
     "data": {
      "text/plain": [
       "count    18068.000000\n",
       "mean      3070.659976\n",
       "std       1116.831209\n",
       "min          0.855683\n",
       "25%       2543.226360\n",
       "50%       3133.609994\n",
       "75%       3776.222735\n",
       "max       7211.007745\n",
       "Name: distance, dtype: float64"
      ]
     },
     "execution_count": 23,
     "metadata": {},
     "output_type": "execute_result"
    }
   ],
   "source": [
    "rides['distance'].describe()  "
   ]
  },
  {
   "cell_type": "code",
   "execution_count": 24,
   "id": "31df1b4e",
   "metadata": {},
   "outputs": [
    {
     "data": {
      "image/png": "[encoded data removed]",
      "text/plain": [
       "<Figure size 432x288 with 1 Axes>"
      ]
     },
     "metadata": {
      "needs_background": "light"
     },
     "output_type": "display_data"
    }
   ],
   "source": [
    "rides['distance'].plot.box(grid=True)\n",
    "plt.title('Размах дистанций поездок')\n",
    "plt.ylabel('Расстояние в метрах');"
   ]
  },
  {
   "cell_type": "markdown",
   "id": "eae667f5",
   "metadata": {},
   "source": [
    "Средняя продолжительность поездки составляет около 3100 метров. Большая часть поездок пользователей имеет протяженность от 2000 до 4200 метров. "
   ]
  },
  {
   "cell_type": "markdown",
   "id": "15938a4e",
   "metadata": {},
   "source": [
    "5. Посмотрим, сколько *времени* пользователи тратят на 1 поездку на самокате GoFast."
   ]
  },
  {
   "cell_type": "code",
   "execution_count": 25,
   "id": "b2cdedd2",
   "metadata": {},
   "outputs": [
    {
     "data": {
      "text/plain": [
       "Text(0, 0.5, 'Количество поездок')"
      ]
     },
     "execution_count": 25,
     "metadata": {},
     "output_type": "execute_result"
    },
    {
     "data": {
      "image/png": "[encoded data removed]",
      "text/plain": [
       "<Figure size 432x288 with 1 Axes>"
      ]
     },
     "metadata": {
      "needs_background": "light"
     },
     "output_type": "display_data"
    }
   ],
   "source": [
    "rides['duration'].hist()\n",
    "plt.title('Продолжительность 1 поездки (в минутах)')\n",
    "plt.xlabel('Длительность поездки в минутах')\n",
    "plt.ylabel('Количество поездок')"
   ]
  },
  {
   "cell_type": "code",
   "execution_count": 26,
   "id": "62a1c33a",
   "metadata": {},
   "outputs": [
    {
     "data": {
      "text/plain": [
       "count    18068.000000\n",
       "mean        17.805011\n",
       "std          6.091051\n",
       "min          0.500000\n",
       "25%         13.597563\n",
       "50%         17.678395\n",
       "75%         21.724800\n",
       "max         40.823963\n",
       "Name: duration, dtype: float64"
      ]
     },
     "execution_count": 26,
     "metadata": {},
     "output_type": "execute_result"
    }
   ],
   "source": [
    "rides['duration'].describe()  "
   ]
  },
  {
   "cell_type": "markdown",
   "id": "e04c20ff",
   "metadata": {},
   "source": [
    "В среднем пользователи тратят на 1 поездку около 18 минут. Большинство поездок имеют продолжительность от 10 до 25 минут. "
   ]
  },
  {
   "cell_type": "markdown",
   "id": "d1e9e1bc",
   "metadata": {},
   "source": [
    "__Вывод__: представлены пользователи из 8 городов с наибольшей долей в г. Пятигорске (14%) и наименьшей - в г. Москве (11%), большинство из которых имеют подписку Ultra на услугу аренды самокатов GoFast (54% против 46% пользователей, не оформивших подписку). Большинство поездок совершаются на расстояние от 2000 до 4200 метров длительностью от 10 до 25 минут. Средняя протяженность 1 поездки - 3100 метров, средняя длительность 1 поездки - 18 минут.  "
   ]
  },
  {
   "cell_type": "markdown",
   "id": "d7020f65",
   "metadata": {},
   "source": [
    "#### Шаг 4. Объединение данных"
   ]
  },
  {
   "cell_type": "markdown",
   "id": "fd738536",
   "metadata": {},
   "source": [
    "Для удобства дальнейшего анализа добавим в файл с информацией о поездках сведения о пользователях."
   ]
  },
  {
   "cell_type": "code",
   "execution_count": 27,
   "id": "b387577e",
   "metadata": {},
   "outputs": [
    {
     "data": {
      "text/plain": [
       "(18068, 12)"
      ]
     },
     "execution_count": 27,
     "metadata": {},
     "output_type": "execute_result"
    }
   ],
   "source": [
    "rides_plus = rides.merge(users, on='user_id', how='left')\n",
    "rides_plus = rides_plus.merge(prices, on='subscription_type', how='left')\n",
    "rides_plus.shape"
   ]
  },
  {
   "cell_type": "code",
   "execution_count": 28,
   "id": "d5647788",
   "metadata": {},
   "outputs": [
    {
     "data": {
      "text/html": [
       "<div>\n",
       "<style scoped>\n",
       "    .dataframe tbody tr th:only-of-type {\n",
       "        vertical-align: middle;\n",
       "    }\n",
       "\n",
       "    .dataframe tbody tr th {\n",
       "        vertical-align: top;\n",
       "    }\n",
       "\n",
       "    .dataframe thead th {\n",
       "        text-align: right;\n",
       "    }\n",
       "</style>\n",
       "<table border=\"1\" class=\"dataframe\">\n",
       "  <thead>\n",
       "    <tr style=\"text-align: right;\">\n",
       "      <th></th>\n",
       "      <th>user_id</th>\n",
       "      <th>distance</th>\n",
       "      <th>duration</th>\n",
       "      <th>date</th>\n",
       "      <th>month</th>\n",
       "      <th>name</th>\n",
       "      <th>age</th>\n",
       "      <th>city</th>\n",
       "      <th>subscription_type</th>\n",
       "      <th>minute_price</th>\n",
       "      <th>start_ride_price</th>\n",
       "      <th>subscription_fee</th>\n",
       "    </tr>\n",
       "  </thead>\n",
       "  <tbody>\n",
       "    <tr>\n",
       "      <th>13624</th>\n",
       "      <td>1219</td>\n",
       "      <td>4265.118727</td>\n",
       "      <td>23.236285</td>\n",
       "      <td>2021-02-15</td>\n",
       "      <td>2</td>\n",
       "      <td>Ксения</td>\n",
       "      <td>25</td>\n",
       "      <td>Пятигорск</td>\n",
       "      <td>free</td>\n",
       "      <td>8</td>\n",
       "      <td>50</td>\n",
       "      <td>0</td>\n",
       "    </tr>\n",
       "    <tr>\n",
       "      <th>3584</th>\n",
       "      <td>385</td>\n",
       "      <td>3048.714247</td>\n",
       "      <td>18.194857</td>\n",
       "      <td>2021-12-21</td>\n",
       "      <td>12</td>\n",
       "      <td>Мирон</td>\n",
       "      <td>24</td>\n",
       "      <td>Москва</td>\n",
       "      <td>ultra</td>\n",
       "      <td>6</td>\n",
       "      <td>0</td>\n",
       "      <td>199</td>\n",
       "    </tr>\n",
       "    <tr>\n",
       "      <th>12035</th>\n",
       "      <td>1104</td>\n",
       "      <td>4069.869371</td>\n",
       "      <td>20.174673</td>\n",
       "      <td>2021-09-30</td>\n",
       "      <td>9</td>\n",
       "      <td>Ольга</td>\n",
       "      <td>24</td>\n",
       "      <td>Краснодар</td>\n",
       "      <td>free</td>\n",
       "      <td>8</td>\n",
       "      <td>50</td>\n",
       "      <td>0</td>\n",
       "    </tr>\n",
       "    <tr>\n",
       "      <th>11192</th>\n",
       "      <td>1043</td>\n",
       "      <td>488.559314</td>\n",
       "      <td>5.954237</td>\n",
       "      <td>2021-06-04</td>\n",
       "      <td>6</td>\n",
       "      <td>Оксана</td>\n",
       "      <td>28</td>\n",
       "      <td>Москва</td>\n",
       "      <td>free</td>\n",
       "      <td>8</td>\n",
       "      <td>50</td>\n",
       "      <td>0</td>\n",
       "    </tr>\n",
       "    <tr>\n",
       "      <th>1046</th>\n",
       "      <td>112</td>\n",
       "      <td>4067.117884</td>\n",
       "      <td>18.761083</td>\n",
       "      <td>2021-07-09</td>\n",
       "      <td>7</td>\n",
       "      <td>Святослав</td>\n",
       "      <td>24</td>\n",
       "      <td>Краснодар</td>\n",
       "      <td>ultra</td>\n",
       "      <td>6</td>\n",
       "      <td>0</td>\n",
       "      <td>199</td>\n",
       "    </tr>\n",
       "  </tbody>\n",
       "</table>\n",
       "</div>"
      ],
      "text/plain": [
       "       user_id     distance   duration       date  month       name  age  \\\n",
       "13624     1219  4265.118727  23.236285 2021-02-15      2     Ксения   25   \n",
       "3584       385  3048.714247  18.194857 2021-12-21     12      Мирон   24   \n",
       "12035     1104  4069.869371  20.174673 2021-09-30      9      Ольга   24   \n",
       "11192     1043   488.559314   5.954237 2021-06-04      6     Оксана   28   \n",
       "1046       112  4067.117884  18.761083 2021-07-09      7  Святослав   24   \n",
       "\n",
       "            city subscription_type  minute_price  start_ride_price  \\\n",
       "13624  Пятигорск              free             8                50   \n",
       "3584      Москва             ultra             6                 0   \n",
       "12035  Краснодар              free             8                50   \n",
       "11192     Москва              free             8                50   \n",
       "1046   Краснодар             ultra             6                 0   \n",
       "\n",
       "       subscription_fee  \n",
       "13624                 0  \n",
       "3584                199  \n",
       "12035                 0  \n",
       "11192                 0  \n",
       "1046                199  "
      ]
     },
     "execution_count": 28,
     "metadata": {},
     "output_type": "execute_result"
    }
   ],
   "source": [
    "rides_plus.sample(5)"
   ]
  },
  {
   "cell_type": "code",
   "execution_count": 29,
   "id": "a8e8a4f5",
   "metadata": {},
   "outputs": [
    {
     "data": {
      "image/png": "[encoded data removed]",
      "text/plain": [
       "<Figure size 432x288 with 1 Axes>"
      ]
     },
     "metadata": {},
     "output_type": "display_data"
    }
   ],
   "source": [
    "ax = (\n",
    "    rides_plus['subscription_type']\n",
    "    .value_counts()\n",
    "    .plot(kind='pie', autopct='%1.0f%%', title='Распределение поездок пользователей в зависимости от наличия подписки')\n",
    ")\n",
    "ax.axes.yaxis.set_visible(False)\n",
    "plt.show()"
   ]
  },
  {
   "cell_type": "markdown",
   "id": "0fd3d9fd",
   "metadata": {},
   "source": [
    "Пользователи без подписки совершают в 2 раза больше поездок, чем пользователи с подпиской."
   ]
  },
  {
   "cell_type": "markdown",
   "id": "40e6c971",
   "metadata": {},
   "source": [
    "Разделим датасет с расширенной информацией о поездках на два датафрейма:\n",
    "- c данными о пользователях без подписки;\n",
    "- с данными о пользователях с подпиской."
   ]
  },
  {
   "cell_type": "code",
   "execution_count": 30,
   "id": "91a4c629",
   "metadata": {},
   "outputs": [
    {
     "data": {
      "text/plain": [
       "array(['ultra', 'free'], dtype=object)"
      ]
     },
     "execution_count": 30,
     "metadata": {},
     "output_type": "execute_result"
    }
   ],
   "source": [
    "rides_plus['subscription_type'].unique()"
   ]
  },
  {
   "cell_type": "code",
   "execution_count": 31,
   "id": "8ebb4d84",
   "metadata": {},
   "outputs": [
    {
     "name": "stdout",
     "output_type": "stream",
     "text": [
      "(11568, 12)\n"
     ]
    },
    {
     "data": {
      "text/html": [
       "<div>\n",
       "<style scoped>\n",
       "    .dataframe tbody tr th:only-of-type {\n",
       "        vertical-align: middle;\n",
       "    }\n",
       "\n",
       "    .dataframe tbody tr th {\n",
       "        vertical-align: top;\n",
       "    }\n",
       "\n",
       "    .dataframe thead th {\n",
       "        text-align: right;\n",
       "    }\n",
       "</style>\n",
       "<table border=\"1\" class=\"dataframe\">\n",
       "  <thead>\n",
       "    <tr style=\"text-align: right;\">\n",
       "      <th></th>\n",
       "      <th>user_id</th>\n",
       "      <th>distance</th>\n",
       "      <th>duration</th>\n",
       "      <th>date</th>\n",
       "      <th>month</th>\n",
       "      <th>name</th>\n",
       "      <th>age</th>\n",
       "      <th>city</th>\n",
       "      <th>subscription_type</th>\n",
       "      <th>minute_price</th>\n",
       "      <th>start_ride_price</th>\n",
       "      <th>subscription_fee</th>\n",
       "    </tr>\n",
       "  </thead>\n",
       "  <tbody>\n",
       "    <tr>\n",
       "      <th>6500</th>\n",
       "      <td>700</td>\n",
       "      <td>2515.690719</td>\n",
       "      <td>14.944286</td>\n",
       "      <td>2021-01-02</td>\n",
       "      <td>1</td>\n",
       "      <td>Айдар</td>\n",
       "      <td>22</td>\n",
       "      <td>Омск</td>\n",
       "      <td>free</td>\n",
       "      <td>8</td>\n",
       "      <td>50</td>\n",
       "      <td>0</td>\n",
       "    </tr>\n",
       "    <tr>\n",
       "      <th>6501</th>\n",
       "      <td>700</td>\n",
       "      <td>846.932642</td>\n",
       "      <td>16.234663</td>\n",
       "      <td>2021-02-01</td>\n",
       "      <td>2</td>\n",
       "      <td>Айдар</td>\n",
       "      <td>22</td>\n",
       "      <td>Омск</td>\n",
       "      <td>free</td>\n",
       "      <td>8</td>\n",
       "      <td>50</td>\n",
       "      <td>0</td>\n",
       "    </tr>\n",
       "    <tr>\n",
       "      <th>6502</th>\n",
       "      <td>700</td>\n",
       "      <td>4004.434142</td>\n",
       "      <td>20.016628</td>\n",
       "      <td>2021-02-04</td>\n",
       "      <td>2</td>\n",
       "      <td>Айдар</td>\n",
       "      <td>22</td>\n",
       "      <td>Омск</td>\n",
       "      <td>free</td>\n",
       "      <td>8</td>\n",
       "      <td>50</td>\n",
       "      <td>0</td>\n",
       "    </tr>\n",
       "    <tr>\n",
       "      <th>6503</th>\n",
       "      <td>700</td>\n",
       "      <td>1205.911290</td>\n",
       "      <td>9.782872</td>\n",
       "      <td>2021-02-10</td>\n",
       "      <td>2</td>\n",
       "      <td>Айдар</td>\n",
       "      <td>22</td>\n",
       "      <td>Омск</td>\n",
       "      <td>free</td>\n",
       "      <td>8</td>\n",
       "      <td>50</td>\n",
       "      <td>0</td>\n",
       "    </tr>\n",
       "    <tr>\n",
       "      <th>6504</th>\n",
       "      <td>700</td>\n",
       "      <td>3047.379435</td>\n",
       "      <td>17.427673</td>\n",
       "      <td>2021-02-14</td>\n",
       "      <td>2</td>\n",
       "      <td>Айдар</td>\n",
       "      <td>22</td>\n",
       "      <td>Омск</td>\n",
       "      <td>free</td>\n",
       "      <td>8</td>\n",
       "      <td>50</td>\n",
       "      <td>0</td>\n",
       "    </tr>\n",
       "  </tbody>\n",
       "</table>\n",
       "</div>"
      ],
      "text/plain": [
       "      user_id     distance   duration       date  month   name  age  city  \\\n",
       "6500      700  2515.690719  14.944286 2021-01-02      1  Айдар   22  Омск   \n",
       "6501      700   846.932642  16.234663 2021-02-01      2  Айдар   22  Омск   \n",
       "6502      700  4004.434142  20.016628 2021-02-04      2  Айдар   22  Омск   \n",
       "6503      700  1205.911290   9.782872 2021-02-10      2  Айдар   22  Омск   \n",
       "6504      700  3047.379435  17.427673 2021-02-14      2  Айдар   22  Омск   \n",
       "\n",
       "     subscription_type  minute_price  start_ride_price  subscription_fee  \n",
       "6500              free             8                50                 0  \n",
       "6501              free             8                50                 0  \n",
       "6502              free             8                50                 0  \n",
       "6503              free             8                50                 0  \n",
       "6504              free             8                50                 0  "
      ]
     },
     "execution_count": 31,
     "metadata": {},
     "output_type": "execute_result"
    }
   ],
   "source": [
    "#данные о пользователях без подписки:\n",
    "rides_plus_free = rides_plus[rides_plus['subscription_type'] == 'free']\n",
    "print(rides_plus_free.shape)\n",
    "rides_plus_free.head()"
   ]
  },
  {
   "cell_type": "code",
   "execution_count": 32,
   "id": "49c355f0",
   "metadata": {},
   "outputs": [
    {
     "name": "stdout",
     "output_type": "stream",
     "text": [
      "(6500, 12)\n"
     ]
    },
    {
     "data": {
      "text/html": [
       "<div>\n",
       "<style scoped>\n",
       "    .dataframe tbody tr th:only-of-type {\n",
       "        vertical-align: middle;\n",
       "    }\n",
       "\n",
       "    .dataframe tbody tr th {\n",
       "        vertical-align: top;\n",
       "    }\n",
       "\n",
       "    .dataframe thead th {\n",
       "        text-align: right;\n",
       "    }\n",
       "</style>\n",
       "<table border=\"1\" class=\"dataframe\">\n",
       "  <thead>\n",
       "    <tr style=\"text-align: right;\">\n",
       "      <th></th>\n",
       "      <th>user_id</th>\n",
       "      <th>distance</th>\n",
       "      <th>duration</th>\n",
       "      <th>date</th>\n",
       "      <th>month</th>\n",
       "      <th>name</th>\n",
       "      <th>age</th>\n",
       "      <th>city</th>\n",
       "      <th>subscription_type</th>\n",
       "      <th>minute_price</th>\n",
       "      <th>start_ride_price</th>\n",
       "      <th>subscription_fee</th>\n",
       "    </tr>\n",
       "  </thead>\n",
       "  <tbody>\n",
       "    <tr>\n",
       "      <th>0</th>\n",
       "      <td>1</td>\n",
       "      <td>4409.919140</td>\n",
       "      <td>25.599769</td>\n",
       "      <td>2021-01-01</td>\n",
       "      <td>1</td>\n",
       "      <td>Кира</td>\n",
       "      <td>22</td>\n",
       "      <td>Тюмень</td>\n",
       "      <td>ultra</td>\n",
       "      <td>6</td>\n",
       "      <td>0</td>\n",
       "      <td>199</td>\n",
       "    </tr>\n",
       "    <tr>\n",
       "      <th>1</th>\n",
       "      <td>1</td>\n",
       "      <td>2617.592153</td>\n",
       "      <td>15.816871</td>\n",
       "      <td>2021-01-18</td>\n",
       "      <td>1</td>\n",
       "      <td>Кира</td>\n",
       "      <td>22</td>\n",
       "      <td>Тюмень</td>\n",
       "      <td>ultra</td>\n",
       "      <td>6</td>\n",
       "      <td>0</td>\n",
       "      <td>199</td>\n",
       "    </tr>\n",
       "    <tr>\n",
       "      <th>2</th>\n",
       "      <td>1</td>\n",
       "      <td>754.159807</td>\n",
       "      <td>6.232113</td>\n",
       "      <td>2021-04-20</td>\n",
       "      <td>4</td>\n",
       "      <td>Кира</td>\n",
       "      <td>22</td>\n",
       "      <td>Тюмень</td>\n",
       "      <td>ultra</td>\n",
       "      <td>6</td>\n",
       "      <td>0</td>\n",
       "      <td>199</td>\n",
       "    </tr>\n",
       "    <tr>\n",
       "      <th>3</th>\n",
       "      <td>1</td>\n",
       "      <td>2694.783254</td>\n",
       "      <td>18.511000</td>\n",
       "      <td>2021-08-11</td>\n",
       "      <td>8</td>\n",
       "      <td>Кира</td>\n",
       "      <td>22</td>\n",
       "      <td>Тюмень</td>\n",
       "      <td>ultra</td>\n",
       "      <td>6</td>\n",
       "      <td>0</td>\n",
       "      <td>199</td>\n",
       "    </tr>\n",
       "    <tr>\n",
       "      <th>4</th>\n",
       "      <td>1</td>\n",
       "      <td>4028.687306</td>\n",
       "      <td>26.265803</td>\n",
       "      <td>2021-08-28</td>\n",
       "      <td>8</td>\n",
       "      <td>Кира</td>\n",
       "      <td>22</td>\n",
       "      <td>Тюмень</td>\n",
       "      <td>ultra</td>\n",
       "      <td>6</td>\n",
       "      <td>0</td>\n",
       "      <td>199</td>\n",
       "    </tr>\n",
       "  </tbody>\n",
       "</table>\n",
       "</div>"
      ],
      "text/plain": [
       "   user_id     distance   duration       date  month  name  age    city  \\\n",
       "0        1  4409.919140  25.599769 2021-01-01      1  Кира   22  Тюмень   \n",
       "1        1  2617.592153  15.816871 2021-01-18      1  Кира   22  Тюмень   \n",
       "2        1   754.159807   6.232113 2021-04-20      4  Кира   22  Тюмень   \n",
       "3        1  2694.783254  18.511000 2021-08-11      8  Кира   22  Тюмень   \n",
       "4        1  4028.687306  26.265803 2021-08-28      8  Кира   22  Тюмень   \n",
       "\n",
       "  subscription_type  minute_price  start_ride_price  subscription_fee  \n",
       "0             ultra             6                 0               199  \n",
       "1             ultra             6                 0               199  \n",
       "2             ultra             6                 0               199  \n",
       "3             ultra             6                 0               199  \n",
       "4             ultra             6                 0               199  "
      ]
     },
     "execution_count": 32,
     "metadata": {},
     "output_type": "execute_result"
    }
   ],
   "source": [
    "#данные о пользователях с подпиской:\n",
    "rides_plus_ultra = rides_plus[rides_plus['subscription_type'] == 'ultra']\n",
    "print(rides_plus_ultra.shape)\n",
    "rides_plus_ultra.head()"
   ]
  },
  {
   "cell_type": "markdown",
   "id": "2dc31e3a",
   "metadata": {},
   "source": [
    "Посмотрим, на какие *расстояния* совершают поездки пользователи услуги аренды самокатов GoFast c подпиской Ultra и без нее."
   ]
  },
  {
   "cell_type": "code",
   "execution_count": 33,
   "id": "abccdd89",
   "metadata": {},
   "outputs": [
    {
     "data": {
      "image/png": "[encoded data removed]",
      "text/plain": [
       "<Figure size 432x288 with 1 Axes>"
      ]
     },
     "metadata": {
      "needs_background": "light"
     },
     "output_type": "display_data"
    }
   ],
   "source": [
    "ax = rides_plus_free.plot(kind='hist', y='distance', histtype='step', linewidth=3, label='без подписки', grid=True, legend=True)\n",
    "rides_plus_ultra.plot(kind='hist', y='distance', histtype='step', ax=ax, bins=15, color='green', linewidth=3, label='c подпиской')\n",
    "plt.title('Дистанция 1 поездки (в метрах) пользователей')\n",
    "plt.xlabel('Расстояние в метрах')\n",
    "plt.ylabel('Количество поездок')\n",
    "plt.show()"
   ]
  },
  {
   "cell_type": "code",
   "execution_count": 34,
   "id": "72007e88",
   "metadata": {},
   "outputs": [
    {
     "data": {
      "text/plain": [
       "count    11568.000000\n",
       "mean      3045.495282\n",
       "std       1246.173806\n",
       "min          0.855683\n",
       "25%       2366.562689\n",
       "50%       3114.648465\n",
       "75%       3905.697894\n",
       "max       7211.007745\n",
       "Name: distance, dtype: float64"
      ]
     },
     "execution_count": 34,
     "metadata": {},
     "output_type": "execute_result"
    }
   ],
   "source": [
    "rides_plus_free['distance'].describe()"
   ]
  },
  {
   "cell_type": "code",
   "execution_count": 35,
   "id": "570ebc92",
   "metadata": {},
   "outputs": [
    {
     "data": {
      "text/plain": [
       "count    6500.000000\n",
       "mean     3115.445388\n",
       "std       836.895330\n",
       "min       244.210438\n",
       "25%      2785.444017\n",
       "50%      3148.637229\n",
       "75%      3560.574425\n",
       "max      5699.769662\n",
       "Name: distance, dtype: float64"
      ]
     },
     "execution_count": 35,
     "metadata": {},
     "output_type": "execute_result"
    }
   ],
   "source": [
    "rides_plus_ultra['distance'].describe()"
   ]
  },
  {
   "cell_type": "markdown",
   "id": "8484a266",
   "metadata": {},
   "source": [
    "Пользователи, не оформившие подписку, совершили 11 568 поездок (64% от общего количества), cредняя протяженность 1 поездки составила около 3100 метров, половина поездок совершена на расстояние от 2300 до 3900 метров. Пользователи с подпиской Uitra совершили 6 500 поездок (36% от общего количества), cредняя протяженность 1 поездки также составила около 3100 метров, при этом половина поездок совершена на расстояние от 2700 до 3600 метров."
   ]
  },
  {
   "cell_type": "markdown",
   "id": "fe1f660a",
   "metadata": {},
   "source": [
    "Посмотрим, за какое *время* совершают поездки пользователи услуги аренды самокатов GoFast c подпиской Ultra и без нее."
   ]
  },
  {
   "cell_type": "code",
   "execution_count": 36,
   "id": "c610eac0",
   "metadata": {},
   "outputs": [
    {
     "data": {
      "image/png": "[encoded data removed]",
      "text/plain": [
       "<Figure size 432x288 with 1 Axes>"
      ]
     },
     "metadata": {
      "needs_background": "light"
     },
     "output_type": "display_data"
    }
   ],
   "source": [
    "ax = rides_plus_free.plot(kind='hist', y='duration', histtype='step', color='red', linewidth=3, label='без подписки', grid=True, legend=True)\n",
    "rides_plus_ultra.plot(kind='hist', y='duration', histtype='step', ax=ax, bins=15, color='orange', linewidth=3, label='c подпиской')\n",
    "plt.title('Продолжительность 1 поездки (в минутах) пользователей')\n",
    "plt.xlabel('Длительность в минутах')\n",
    "plt.ylabel('Количество поездок')\n",
    "plt.show()"
   ]
  },
  {
   "cell_type": "code",
   "execution_count": 37,
   "id": "dacb1b94",
   "metadata": {},
   "outputs": [
    {
     "data": {
      "text/plain": [
       "count    11568.000000\n",
       "mean        17.390909\n",
       "std          6.326803\n",
       "min          0.500000\n",
       "25%         12.958437\n",
       "50%         17.326890\n",
       "75%         21.594071\n",
       "max         34.948498\n",
       "Name: duration, dtype: float64"
      ]
     },
     "execution_count": 37,
     "metadata": {},
     "output_type": "execute_result"
    }
   ],
   "source": [
    "rides_plus_free['duration'].describe()"
   ]
  },
  {
   "cell_type": "code",
   "execution_count": 38,
   "id": "f47c047f",
   "metadata": {},
   "outputs": [
    {
     "data": {
      "text/plain": [
       "count    6500.000000\n",
       "mean       18.541985\n",
       "std         5.572048\n",
       "min         3.760353\n",
       "25%        14.524654\n",
       "50%        18.178153\n",
       "75%        21.884129\n",
       "max        40.823963\n",
       "Name: duration, dtype: float64"
      ]
     },
     "execution_count": 38,
     "metadata": {},
     "output_type": "execute_result"
    }
   ],
   "source": [
    "rides_plus_ultra['duration'].describe()"
   ]
  },
  {
   "cell_type": "markdown",
   "id": "bd2838e9",
   "metadata": {},
   "source": [
    "Средняя продолжительность 1 поездки пользователей без подписки составила 17.4 минут, половина поездок совершена за время от 12.9 до 21.6 минут. Средняя продолжительность 1 поездки пользователей с подпиской Ultra составила 18.5 минут, половина поездок совершена за время от 14.5 до 21.9 минут.  "
   ]
  },
  {
   "cell_type": "markdown",
   "id": "141e9cc8",
   "metadata": {},
   "source": [
    "#### Шаг 5. Подсчёт выручки"
   ]
  },
  {
   "cell_type": "markdown",
   "id": "842096b6",
   "metadata": {},
   "source": [
    "Агрегируем данные о поездках: найдем суммарное расстояние, количество поездок и суммарное время для каждого пользователя за каждый месяц."
   ]
  },
  {
   "cell_type": "code",
   "execution_count": 39,
   "id": "bea2dbbb",
   "metadata": {},
   "outputs": [
    {
     "data": {
      "text/html": [
       "<div>\n",
       "<style scoped>\n",
       "    .dataframe tbody tr th:only-of-type {\n",
       "        vertical-align: middle;\n",
       "    }\n",
       "\n",
       "    .dataframe tbody tr th {\n",
       "        vertical-align: top;\n",
       "    }\n",
       "\n",
       "    .dataframe thead th {\n",
       "        text-align: right;\n",
       "    }\n",
       "</style>\n",
       "<table border=\"1\" class=\"dataframe\">\n",
       "  <thead>\n",
       "    <tr style=\"text-align: right;\">\n",
       "      <th></th>\n",
       "      <th>user_id</th>\n",
       "      <th>month</th>\n",
       "      <th>subscription_type</th>\n",
       "      <th>quantity</th>\n",
       "      <th>total_distance</th>\n",
       "      <th>total_duration</th>\n",
       "      <th>minute_price</th>\n",
       "      <th>start_ride_price</th>\n",
       "      <th>subscription_fee</th>\n",
       "    </tr>\n",
       "  </thead>\n",
       "  <tbody>\n",
       "    <tr>\n",
       "      <th>6186</th>\n",
       "      <td>909</td>\n",
       "      <td>7</td>\n",
       "      <td>free</td>\n",
       "      <td>2</td>\n",
       "      <td>9389.187982</td>\n",
       "      <td>51.0</td>\n",
       "      <td>8</td>\n",
       "      <td>50</td>\n",
       "      <td>0</td>\n",
       "    </tr>\n",
       "    <tr>\n",
       "      <th>9301</th>\n",
       "      <td>1286</td>\n",
       "      <td>1</td>\n",
       "      <td>free</td>\n",
       "      <td>1</td>\n",
       "      <td>4030.894595</td>\n",
       "      <td>27.0</td>\n",
       "      <td>8</td>\n",
       "      <td>50</td>\n",
       "      <td>0</td>\n",
       "    </tr>\n",
       "    <tr>\n",
       "      <th>9935</th>\n",
       "      <td>1366</td>\n",
       "      <td>10</td>\n",
       "      <td>free</td>\n",
       "      <td>1</td>\n",
       "      <td>4317.393541</td>\n",
       "      <td>28.0</td>\n",
       "      <td>8</td>\n",
       "      <td>50</td>\n",
       "      <td>0</td>\n",
       "    </tr>\n",
       "    <tr>\n",
       "      <th>2795</th>\n",
       "      <td>429</td>\n",
       "      <td>6</td>\n",
       "      <td>ultra</td>\n",
       "      <td>1</td>\n",
       "      <td>2005.410200</td>\n",
       "      <td>13.0</td>\n",
       "      <td>6</td>\n",
       "      <td>0</td>\n",
       "      <td>199</td>\n",
       "    </tr>\n",
       "    <tr>\n",
       "      <th>7365</th>\n",
       "      <td>1051</td>\n",
       "      <td>3</td>\n",
       "      <td>free</td>\n",
       "      <td>1</td>\n",
       "      <td>2084.649191</td>\n",
       "      <td>15.0</td>\n",
       "      <td>8</td>\n",
       "      <td>50</td>\n",
       "      <td>0</td>\n",
       "    </tr>\n",
       "  </tbody>\n",
       "</table>\n",
       "</div>"
      ],
      "text/plain": [
       "      user_id  month subscription_type  quantity  total_distance  \\\n",
       "6186      909      7              free         2     9389.187982   \n",
       "9301     1286      1              free         1     4030.894595   \n",
       "9935     1366     10              free         1     4317.393541   \n",
       "2795      429      6             ultra         1     2005.410200   \n",
       "7365     1051      3              free         1     2084.649191   \n",
       "\n",
       "      total_duration  minute_price  start_ride_price  subscription_fee  \n",
       "6186            51.0             8                50                 0  \n",
       "9301            27.0             8                50                 0  \n",
       "9935            28.0             8                50                 0  \n",
       "2795            13.0             6                 0               199  \n",
       "7365            15.0             8                50                 0  "
      ]
     },
     "execution_count": 39,
     "metadata": {},
     "output_type": "execute_result"
    }
   ],
   "source": [
    "rides_plus['duration'] = np.ceil(rides_plus['duration'])\n",
    "rides_plus_agr = rides_plus.groupby(['user_id', 'month', 'subscription_type']).agg({'distance': ['count', 'sum'], 'duration': ['sum']})\n",
    "rides_plus_agr.columns = ['quantity', 'total_distance', 'total_duration']\n",
    "rides_plus_agr = rides_plus_agr.reset_index()\n",
    "rides_plus_agr = rides_plus_agr.merge(prices, on='subscription_type', how='left')\n",
    "rides_plus_agr.sample(5)"
   ]
  },
  {
   "cell_type": "markdown",
   "id": "8884effa",
   "metadata": {},
   "source": [
    "Рассчитаем помесячную выручку, которую принёс каждый пользователь с учетом выбранного им тарифа. "
   ]
  },
  {
   "cell_type": "code",
   "execution_count": 40,
   "id": "4cc924d4",
   "metadata": {},
   "outputs": [
    {
     "data": {
      "text/plain": [
       "array(['ultra', 'free'], dtype=object)"
      ]
     },
     "execution_count": 40,
     "metadata": {},
     "output_type": "execute_result"
    }
   ],
   "source": [
    "rides_plus_agr ['subscription_type'].unique()"
   ]
  },
  {
   "cell_type": "code",
   "execution_count": 41,
   "id": "81680f9a",
   "metadata": {},
   "outputs": [
    {
     "data": {
      "text/html": [
       "<div>\n",
       "<style scoped>\n",
       "    .dataframe tbody tr th:only-of-type {\n",
       "        vertical-align: middle;\n",
       "    }\n",
       "\n",
       "    .dataframe tbody tr th {\n",
       "        vertical-align: top;\n",
       "    }\n",
       "\n",
       "    .dataframe thead th {\n",
       "        text-align: right;\n",
       "    }\n",
       "</style>\n",
       "<table border=\"1\" class=\"dataframe\">\n",
       "  <thead>\n",
       "    <tr style=\"text-align: right;\">\n",
       "      <th></th>\n",
       "      <th>user_id</th>\n",
       "      <th>month</th>\n",
       "      <th>subscription_type</th>\n",
       "      <th>quantity</th>\n",
       "      <th>total_distance</th>\n",
       "      <th>total_duration</th>\n",
       "      <th>minute_price</th>\n",
       "      <th>start_ride_price</th>\n",
       "      <th>subscription_fee</th>\n",
       "      <th>monthly_income</th>\n",
       "    </tr>\n",
       "  </thead>\n",
       "  <tbody>\n",
       "    <tr>\n",
       "      <th>4400</th>\n",
       "      <td>677</td>\n",
       "      <td>3</td>\n",
       "      <td>ultra</td>\n",
       "      <td>1</td>\n",
       "      <td>5699.769662</td>\n",
       "      <td>19.0</td>\n",
       "      <td>6</td>\n",
       "      <td>0</td>\n",
       "      <td>199</td>\n",
       "      <td>313.0</td>\n",
       "    </tr>\n",
       "    <tr>\n",
       "      <th>7381</th>\n",
       "      <td>1053</td>\n",
       "      <td>4</td>\n",
       "      <td>free</td>\n",
       "      <td>1</td>\n",
       "      <td>4045.138890</td>\n",
       "      <td>27.0</td>\n",
       "      <td>8</td>\n",
       "      <td>50</td>\n",
       "      <td>0</td>\n",
       "      <td>266.0</td>\n",
       "    </tr>\n",
       "    <tr>\n",
       "      <th>6108</th>\n",
       "      <td>899</td>\n",
       "      <td>9</td>\n",
       "      <td>free</td>\n",
       "      <td>1</td>\n",
       "      <td>4612.215250</td>\n",
       "      <td>26.0</td>\n",
       "      <td>8</td>\n",
       "      <td>50</td>\n",
       "      <td>0</td>\n",
       "      <td>258.0</td>\n",
       "    </tr>\n",
       "    <tr>\n",
       "      <th>10555</th>\n",
       "      <td>1440</td>\n",
       "      <td>7</td>\n",
       "      <td>free</td>\n",
       "      <td>1</td>\n",
       "      <td>1959.218584</td>\n",
       "      <td>11.0</td>\n",
       "      <td>8</td>\n",
       "      <td>50</td>\n",
       "      <td>0</td>\n",
       "      <td>138.0</td>\n",
       "    </tr>\n",
       "    <tr>\n",
       "      <th>9080</th>\n",
       "      <td>1259</td>\n",
       "      <td>2</td>\n",
       "      <td>free</td>\n",
       "      <td>4</td>\n",
       "      <td>12702.644141</td>\n",
       "      <td>81.0</td>\n",
       "      <td>8</td>\n",
       "      <td>50</td>\n",
       "      <td>0</td>\n",
       "      <td>848.0</td>\n",
       "    </tr>\n",
       "  </tbody>\n",
       "</table>\n",
       "</div>"
      ],
      "text/plain": [
       "       user_id  month subscription_type  quantity  total_distance  \\\n",
       "4400       677      3             ultra         1     5699.769662   \n",
       "7381      1053      4              free         1     4045.138890   \n",
       "6108       899      9              free         1     4612.215250   \n",
       "10555     1440      7              free         1     1959.218584   \n",
       "9080      1259      2              free         4    12702.644141   \n",
       "\n",
       "       total_duration  minute_price  start_ride_price  subscription_fee  \\\n",
       "4400             19.0             6                 0               199   \n",
       "7381             27.0             8                50                 0   \n",
       "6108             26.0             8                50                 0   \n",
       "10555            11.0             8                50                 0   \n",
       "9080             81.0             8                50                 0   \n",
       "\n",
       "       monthly_income  \n",
       "4400            313.0  \n",
       "7381            266.0  \n",
       "6108            258.0  \n",
       "10555           138.0  \n",
       "9080            848.0  "
      ]
     },
     "execution_count": 41,
     "metadata": {},
     "output_type": "execute_result"
    }
   ],
   "source": [
    "rides_plus_agr['monthly_income'] = rides_plus_agr['subscription_fee'] + \\\n",
    "     rides_plus_agr['start_ride_price'] * rides_plus_agr['quantity'] + \\\n",
    "     rides_plus_agr['minute_price'] * rides_plus_agr['total_duration']\n",
    "rides_plus_agr.sample(5)"
   ]
  },
  {
   "cell_type": "code",
   "execution_count": 42,
   "id": "9b71eac3",
   "metadata": {},
   "outputs": [
    {
     "data": {
      "text/plain": [
       "0"
      ]
     },
     "execution_count": 42,
     "metadata": {},
     "output_type": "execute_result"
    }
   ],
   "source": [
    "# проверим новый столбец на наличие в нем пропусков\n",
    "rides_plus_agr['subscription_type'].isna().sum()"
   ]
  },
  {
   "cell_type": "code",
   "execution_count": 43,
   "id": "da80b0a3",
   "metadata": {},
   "outputs": [
    {
     "data": {
      "text/plain": [
       "(11331, 10)"
      ]
     },
     "execution_count": 43,
     "metadata": {},
     "output_type": "execute_result"
    }
   ],
   "source": [
    "# посмотрим на размер нового датафрейма:\n",
    "rides_plus_agr.shape"
   ]
  },
  {
   "cell_type": "markdown",
   "id": "f7d989e4",
   "metadata": {},
   "source": [
    "Созданный датафрейм `rides_plus_agr` содержит информацию о совершенных пользователями поездках в каждом месяце 2021 года (их количество, общая длительность в минутах и общая протяженность в метрах), а также информацию о размере помесячной выручки, полученной компанией от каждого пользователя. "
   ]
  },
  {
   "cell_type": "markdown",
   "id": "d019a312",
   "metadata": {},
   "source": [
    "#### Шаг 6. Проверка гипотез"
   ]
  },
  {
   "cell_type": "markdown",
   "id": "a0181f95",
   "metadata": {},
   "source": [
    "Перейдем к проверке гипотез.\n",
    "\n",
    "6.1. **Гипотеза № 1:** *пользователи с подпиской тратят больше времени на поездки*."
   ]
  },
  {
   "cell_type": "markdown",
   "id": "0fd00d41",
   "metadata": {},
   "source": [
    "Сформулируем нулевую гипотезу H0 как равенство длительности поездок у пользователей с подпиской и без нее. Альтернативную гипотезу H1 определим как длительность поездок пользователей с подпиской Ultra, больше чем у у пользователей, не оформивших подписку (правосторонняя гипотеза). Для проверки гипотезы № 1 проведем двухвыборочный t-test для независимых выборок."
   ]
  },
  {
   "cell_type": "code",
   "execution_count": 44,
   "id": "038f340f",
   "metadata": {},
   "outputs": [
    {
     "name": "stdout",
     "output_type": "stream",
     "text": [
      "Средняя длительность совершенных поездок пользователями с подпиской Ultra (в минутах): 18.54198516280583\n",
      "Средняя длительность совершенных поездок пользователями без подписки (в минутах): 17.39090929866399\n",
      "p-value: 1.2804098316645618e-34\n",
      "Отвергаем нулевую гипотезу. Гипотеза № 1 не опровергнута - пользователи с подпиской тратят больше времени на поездки.\n"
     ]
    }
   ],
   "source": [
    "# уровень статистической значимости зададим = 5%\n",
    "alpha = 0.05\n",
    "rides_dur_ultra = rides_plus_ultra['duration']\n",
    "print (f'Средняя длительность совершенных поездок пользователями с подпиской Ultra (в минутах): {np.mean(rides_dur_ultra)}')\n",
    "rides_dur_free = pd.Series(rides_plus_free['duration'])\n",
    "print (f'Средняя длительность совершенных поездок пользователями без подписки (в минутах): {np.mean(rides_dur_free)}')\n",
    "results = st.ttest_ind(rides_dur_ultra, rides_dur_free, alternative='greater')\n",
    "print('p-value:', results.pvalue)\n",
    "if results.pvalue < alpha:\n",
    "    print ('Отвергаем нулевую гипотезу. Гипотеза № 1 не опровергнута - пользователи с подпиской тратят больше времени на поездки.')\n",
    "else:\n",
    "    print ('Не получилось отвергнуть нулевую гипотезу. Пользователи с подпиской не тратят больше времени на поездки.')"
   ]
  },
  {
   "cell_type": "code",
   "execution_count": 45,
   "id": "3a1458ae",
   "metadata": {},
   "outputs": [
    {
     "data": {
      "text/plain": [
       "pandas.core.series.Series"
      ]
     },
     "execution_count": 45,
     "metadata": {},
     "output_type": "execute_result"
    }
   ],
   "source": [
    "# код ревьюера\n",
    "type(rides_plus_free['duration'])"
   ]
  },
  {
   "cell_type": "markdown",
   "id": "deb30895",
   "metadata": {},
   "source": [
    "**Вывод № 1:** гипотеза № 1 не отвергается - более вероятно, что пользователи с подпиской тратят больше времени на поездки, чем пользователи, не оформившие подписку, то есть пользователи с подпиской могут быть «выгоднее» для компании.\n",
    "\n",
    "6.2. **Гипотеза № 2:** *среднее расстояние, которое проезжают пользователи с подпиской за одну поездку, не превышает 3130 метров*.\n",
    "\n",
    "Сформулируем нулевую гипотезу H0 как среднее расстрояние поездок у пользователей с подпиской = 3130 метров. Альтернативную гипотезу H1 определим как как среднее расстрояние поездок у пользователей с подпиской больше 3130 метров (правосторонняя гипотеза). Для проверки гипотезы № 2 проведем одновыборочный t-test."
   ]
  },
  {
   "cell_type": "code",
   "execution_count": 46,
   "id": "553d0c52",
   "metadata": {},
   "outputs": [
    {
     "name": "stdout",
     "output_type": "stream",
     "text": [
      "Средняя протяженность совершенных поездок пользователями с подпиской Ultra (в метрах): 3115.4453880370247\n",
      "p-value: 0.932968630297281\n",
      "Не получилось отвергнуть нулевую гипотезу. Среднее расстояние, которое проезжают пользователи с подпиской за одну поездку, не превышает 3130 метров.\n"
     ]
    }
   ],
   "source": [
    "# уровень статистической значимости зададим = 5%\n",
    "alpha = 0.05\n",
    "rides_dist_ultra = pd.Series(rides_plus_ultra['distance'])\n",
    "print (f'Средняя протяженность совершенных поездок пользователями с подпиской Ultra (в метрах): {np.mean(rides_dist_ultra)}')\n",
    "limit = 3131\n",
    "\n",
    "results = st.ttest_1samp(rides_dist_ultra, limit, alternative='greater')\n",
    "print('p-value:', results.pvalue)\n",
    "if results.pvalue < alpha:\n",
    "    print ('Отвергаем нулевую гипотезу. Пользователи с подпиской в среднем проезжают за одну поездку больше 3130 метров.')\n",
    "else:\n",
    "    print ('Не получилось отвергнуть нулевую гипотезу. Среднее расстояние, которое проезжают пользователи с подпиской за одну поездку, не превышает 3130 метров.')"
   ]
  },
  {
   "cell_type": "markdown",
   "id": "0793fe40",
   "metadata": {},
   "source": [
    "**Вывод № 2:** гипотеза № 2 не отвергается - среднее расстояние, которое проезжают пользователи с подпиской за одну поездку, с высокой долей вероятности не превышает 3130 метров, что означает, что наличие подписки не влияет на длительность поездок и не способствуют износу парка самокатов и, как следствие, увеличению расходов компании.\n",
    "\n",
    "6.3. **Гипотеза № 3:** *помесячная выручка от пользователей с подпиской по месяцам выше, чем выручка от пользователей без подписки*.\n",
    "\n",
    "Сформулируем нулевую гипотезу H0 как равенство средних размеров ежемесячной выручки, вырученной от сдачи в аренду самокатов пользователям с подпиской Ultra и пользователям, не оформившим подписку. Альтернативную гипотезу H1 определим как \"средний размер ежемесячной выручки, вырученной от сдачи в аренду самокатов пользователям с подпиской Ultra, больше чем средний размер ежемесячной выручки, вырученной от сдачи в аренду самокатов пользователям, не оформившим подписку (правосторонняя гипотеза). Для проверки гипотезы № 3 проведем двухвыборочный t-test для независимых выборок.\n",
    "\n",
    "Для проверки данной гипотезы разделим датасет, содержащий информацию о выручке, помесячно полученной компанией от сдачи в аренду самокатов пользователям, на два датафрейма:\n",
    "- c данными о пользователях без подписки;\n",
    "- с данными о пользователях с подпиской."
   ]
  },
  {
   "cell_type": "code",
   "execution_count": 47,
   "id": "bb0c4c49",
   "metadata": {},
   "outputs": [
    {
     "name": "stdout",
     "output_type": "stream",
     "text": [
      "Размер сводных данных о поездках пользователей с подпиской Ultra: (4533, 10)\n",
      "Размер сводных данных о поездках пользователей без подписки Ultra: (6798, 10)\n"
     ]
    }
   ],
   "source": [
    "rides_income_ultra = rides_plus_agr[rides_plus_agr['subscription_type'] == 'ultra']\n",
    "print('Размер сводных данных о поездках пользователей с подпиской Ultra:', rides_income_ultra.shape)\n",
    "rides_income_free = rides_plus_agr[rides_plus_agr['subscription_type'] == 'free']\n",
    "print('Размер сводных данных о поездках пользователей без подписки Ultra:', rides_income_free.shape)"
   ]
  },
  {
   "cell_type": "code",
   "execution_count": 48,
   "id": "29441de5",
   "metadata": {},
   "outputs": [
    {
     "name": "stdout",
     "output_type": "stream",
     "text": [
      "Среднемесячная выручка от совершенных поездок пользователями с подпиской Ultra (в рублях): 362.7921906022502\n",
      "Среднемесячная выручка от совершенных поездок пользователями без подписки (в рублях): 328.6413651073845\n",
      "p-value: 1.8850394384715216e-31\n",
      "Отвергаем нулевую гипотезу. Гипотеза № 3 не опровергнута - выручка от пользователей с подпиской по месяцам выше, чем выручка от пользователей без подписки.\n"
     ]
    }
   ],
   "source": [
    "# уровень статистической значимости зададим = 5%\n",
    "alpha = 0.05\n",
    "income_ultra = pd.Series(rides_income_ultra['monthly_income'])\n",
    "print (f'Среднемесячная выручка от совершенных поездок пользователями с подпиской Ultra (в рублях): {np.mean(income_ultra)}')\n",
    "income_free = pd.Series(rides_income_free['monthly_income'])\n",
    "print (f'Среднемесячная выручка от совершенных поездок пользователями без подписки (в рублях): {np.mean(income_free)}')\n",
    "\n",
    "results = st.ttest_ind(income_ultra, income_free, alternative='greater')\n",
    "print('p-value:', results.pvalue)\n",
    "if results.pvalue < alpha:\n",
    "    print ('Отвергаем нулевую гипотезу. Гипотеза № 3 не опровергнута - выручка от пользователей с подпиской по месяцам выше, чем выручка от пользователей без подписки.')\n",
    "else:\n",
    "    print ('Не получилось отвергнуть нулевую гипотезу. Выручка от пользователей с подпиской по месяцам не выше, чем выручка от пользователей без подписки.')"
   ]
  },
  {
   "cell_type": "markdown",
   "id": "dbfe45d4",
   "metadata": {},
   "source": [
    "**Вывод № 3:** гипотеза № 3 не отвергается - более вероятно, что выручка от пользователей с подпиской по месяцам выше, чем выручка от пользователей, не оформивших подписку, то есть акции, направленные на увеличение пользователей, оформивших подписку Ultra, могут привести к увеличению прибыли компании в будущем."
   ]
  },
  {
   "cell_type": "markdown",
   "id": "2c113ac8",
   "metadata": {},
   "source": [
    "6.4. В случае, если техническая команда сервиса обновит сервера, с которыми взаимодействует мобильное приложение, с целью значимого снижения количества обращений в техподдержку, и предоставит информацию, содержащую для каждого пользователя данные о количестве обращений до обновления и после него, то возможно провести двухвыборочный t-тест для зависимых выборок для проверки гипотезы, что количество обращений пользователей после обновления серверов снизилось. \n",
    "\n",
    "Нулевая гипотеза H0 в данном случае будет определена как равенство среднего количества обращений пользователей до обновления серверов и после обновления. Альтернативную гипотезу H1 определим как \"среднее количество обращений пользователей после обновления серверов меньше, чем до обновления\" (левосторонняя гипотеза)."
   ]
  },
  {
   "cell_type": "markdown",
   "id": "809ce93b",
   "metadata": {},
   "source": [
    "#### Шаг 7. Распределения"
   ]
  },
  {
   "cell_type": "markdown",
   "id": "fdd3b22b",
   "metadata": {},
   "source": [
    "**7.1.** Задача отдела маркетинга GoFast: нужно провести акцию с раздачей промокодов на один бесплатный месяц подписки, в рамках которой как минимум 100 существующих клиентов должны продлить эту подписку, то есть по завершении периода действия подписки пользователь может либо отказаться от неё, либо продлить, совершив соответствующий платёж. \n",
    "\n",
    "Эта акция уже проводилась ранее и по итогу выяснилось, что после бесплатного пробного периода подписку продлевают 10 % пользователей. \n",
    "\n",
    "Выясним, какое минимальное количество промокодов нужно разослать, чтобы вероятность не выполнить план была примерно 5 %. \n",
    "Для этого используем биномиальное распределение, которое описывает указанную ситуацию."
   ]
  },
  {
   "cell_type": "code",
   "execution_count": 49,
   "id": "f92918db",
   "metadata": {},
   "outputs": [
    {
     "name": "stdout",
     "output_type": "stream",
     "text": [
      "Вероятность, что из 1160 пользователей, получивших промокод на один бесплатный месяц подписки, \n",
      "100 продлят подписку составляет 0.95\n"
     ]
    },
    {
     "name": "stderr",
     "output_type": "stream",
     "text": [
      "/opt/conda/lib/python3.9/site-packages/scipy/stats/_discrete_distns.py:78: RuntimeWarning: divide by zero encountered in _binom_pdf\n",
      "  return _boost._binom_pdf(x, n, p)\n"
     ]
    },
    {
     "data": {
      "image/png": "[encoded data removed]",
      "text/plain": [
       "<Figure size 432x288 with 1 Axes>"
      ]
     },
     "metadata": {
      "needs_background": "light"
     },
     "output_type": "display_data"
    }
   ],
   "source": [
    "n = 1160 # количество клиентов, которым нужно раздать промокоды\n",
    "p = 0.1 # вероятность успеха\n",
    "\n",
    "print (f'''Вероятность, что из {n} пользователей, получивших промокод на один бесплатный месяц подписки, \n",
    "100 продлят подписку составляет {round(1-binom.cdf(99, n, p), 2)}''')\n",
    "\n",
    "distr = []\n",
    "\n",
    "for k in range(0, n + 1):\n",
    "    current_value = binom.pmf(k, n, p)\n",
    "    distr.append(current_value)\n",
    "    \n",
    "plt.bar(range(0, n + 1), distr)\n",
    "plt.title('Распределение вероятности продления подписки')\n",
    "plt.xlabel('Количество пользователей с подпиской')\n",
    "plt.ylabel('Вероятность')\n",
    "plt.show();"
   ]
  },
  {
   "cell_type": "markdown",
   "id": "812f5b4c",
   "metadata": {},
   "source": [
    "***Вывод:*** согласно построенному биноминальному распределению необходимо разослать минимум 1160 промокодов, чтобы вероятность не выполнить план была примерно 5 %."
   ]
  },
  {
   "cell_type": "markdown",
   "id": "8b4debb5",
   "metadata": {},
   "source": [
    "**7.2.** Отдел маркетинга рассылает клиентам push-уведомления в мобильном приложении. Известно, что уведомления открывают около \n",
    "40 % получивших клиентов. Отдел планирует разослать 1 млн уведомлений. \n",
    "\n",
    "Найдем вероятность того, что уведомление откроют не более 399,5 тыс. пользователей."
   ]
  },
  {
   "cell_type": "code",
   "execution_count": 50,
   "id": "2883a7a0",
   "metadata": {},
   "outputs": [
    {
     "data": {
      "image/png": "[encoded data removed]",
      "text/plain": [
       "<Figure size 432x288 with 1 Axes>"
      ]
     },
     "metadata": {
      "needs_background": "light"
     },
     "output_type": "display_data"
    },
    {
     "name": "stdout",
     "output_type": "stream",
     "text": [
      "Вывод: вероятность того, что уведомление откроют не более 399,5 тыс. пользователей составляет: 0.15\n"
     ]
    }
   ],
   "source": [
    "from math import sqrt\n",
    "# задаём параметры биномиального распределения\n",
    "n = 1000000\n",
    "p = 0.4\n",
    "# зададим мат.ожидание и ст.отклонение нормального распределения равными \n",
    "# мат.ожиданию и ст.отклонению биномиального распределения\n",
    "mu = n * p\n",
    "sigma = sqrt(n * p * (1 - p))\n",
    "# задаём нормальное распределение\n",
    "distr = st.norm(mu, sigma) \n",
    "# считаем вероятность того, что уведомление откроют не более 399,5 тыс. пользователей:\n",
    "result = distr.cdf(399500)\n",
    "\n",
    "# построим график нормального распределения\n",
    "def linspace(start, stop, num):\n",
    "    step = (stop - start) / (num - 1)\n",
    "    result = []\n",
    "    for i in range(num):\n",
    "        result.append(start + step * i)\n",
    "    return result\n",
    "left = int(n * p - 4 * sqrt(n * p * (1 - p)))\n",
    "right = int(n * p + 4 * sqrt(n * p * (1 - p)))\n",
    "x = linspace(left, right, 1000)\n",
    "plt.plot(x, norm.pdf(x, mu, sigma), 'g-', lw=3, alpha=0.3, label='Вероятность прочтения push-уведомлений')\n",
    "plt.legend(loc='best')\n",
    "plt.show()\n",
    "print(f'Вывод: вероятность того, что уведомление откроют не более 399,5 тыс. пользователей составляет: {round(result,2)}')\n"
   ]
  },
  {
   "cell_type": "markdown",
   "id": "332c9323",
   "metadata": {},
   "source": [
    "#### Вывод"
   ]
  },
  {
   "cell_type": "markdown",
   "id": "17264163",
   "metadata": {},
   "source": [
    "**Исходные данные:** в ходе исследования был проведен анализ данных о пользователях и совершенных ими поездках на самокатах сервиса аренды самокатов GoFast.\n",
    "\n",
    "**Цель исследования** - проверить гипотезы, которые могут помочь бизнесу вырасти в результате проведения акций, способствующих увеличению количества пользователей с подпиской Ultra.\n",
    "    \n",
    "Исходные данные включают в себя информацию о 1565 пользователях и 18068 совершенных ими поездках, а также информацию о тарифах на аренду самокатов (с подпиской Ultra и без подписки). В ходе преобработки исходных данных обнаружен 31 дубликат в строках, содержащих информацию о пользователях, которые были удалены, в результате чего количество уникальных пользователей составило 1534.\n",
    "\n",
    "Для анализа дополнительно добавлены новые данные, исходя из имеющихся данных в других столбцах, а также информации от тарифах на аренду самокатов:\n",
    "* месяц совешения поездки;\n",
    "* ежемесячная выручка компании от услуги аренды самокатов в разрезе пользователей.\n",
    "    \n",
    "**Исследование:** \n",
    "\n",
    "1. В ходе исследования выявлено, что услугой аренды самокатов GoFast пользуются в 8 городах примерно одинаково, но наибольшее распространение услуга имеет в г. Пятигорске (219 пользователей), меньше всего представлены пользователи из г. Москвы (168 пользователей).\n",
    "\n",
    "2. Пользователей без подписки на 8% больше, чем пользователей, оформивших подписку Ultra (54% против 46%).\n",
    "\n",
    "3. Услугой аренды самокатов GoFast пользуются люди от 12 до 43 лет, средний возраст пользователя - 25 лет, большинство пользователей в возрасте от 22 до 30 лет.\n",
    "\n",
    "4. Средняя продолжительность поездки составляет около 3100 метров. Большая часть поездок пользователей имеет протяженность от 2000 до 4200 метров. \n",
    "\n",
    "5. В среднем пользователи тратят на 1 поездку около 18 минут. Большинство поездок имеют продолжительность от 10 до 25 минут. \n",
    "\n",
    "6. Пользователи без подписки совершают в 2 раза больше поездок, чем пользователи с подпиской (64% против 36%).\n",
    "\n",
    "7. Средняя протяженность 1 поездки пользователей с подпиской Uitra и пользователей без подписки примерно равна и составляет около 3100 метров. При этам половина поездок пользователями без подписки совершена на расстояние от 2300 до 3900 метров, а пользователями с подпиской Uitra - на расстояние от 2700 до 3600 метров.\n",
    "\n",
    "8. Средняя продолжительность 1 поездки пользователей без подписки составила 17.4 минут, половина поездок совершена за время от 12.9 до 21.6 минут. Средняя продолжительность 1 поездки пользователей с подпиской Ultra составила 18.5 минут, половина поездок совершена за время от 14.5 до 21.9 минут.  \n",
    "\n",
    "9. Среднемесячная выручка от совершенных поездок пользователями с подпиской Ultra составляеь 362.79 рублей.\n",
    "Среднемесячная выручка от совершенных поездок пользователями без подписки - 328.64 рублей.\n",
    "\n",
    "    \n",
    "**Проверка гипотез:**\n",
    "\n",
    "В ходе исследования были проверены 3 гипотезы.\n",
    "\n",
    "**Гипотеза № 1**, что пользователи с подпиской тратят больше времени на поездки, не отвергнута - более вероятно, что пользователи с подпиской тратят больше времени на поездки, чем пользователи, не оформившие подписку, то есть пользователи с подпиской могут быть «выгоднее» для компании. Этот вывод можно учитывать при подготовке промо-акций для увеличения пользователей улуги аренды самокатов с подпиской Ultra.\n",
    "\n",
    "**Гипотеза № 2**, что среднее расстояние, которое проезжают пользователи с подпиской за одну поездку, не превышает оптимального расстояния с точки зрения износа самоката (3130 метров), не отвергнута - с высокой долей вероятности среднее расстояние, которое проезжают пользователи с подпиской за одну поездку, не превышает 3130 метров, что означает, что наличие подписки не влияет на длительность поездок и не способствуют износу парка самокатов и, как следствие, увеличению расходов компании.\n",
    "\n",
    "**Гипотеза № 3**, что помесячная выручка от пользователей с подпиской по месяцам выше, чем выручка от пользователей без подписки, не отвергнута - более вероятно, что выручка от пользователей с подпиской по месяцам выше, чем выручка от пользователей, не оформивших подписку, то есть промо-акции, направленные на увеличение пользователей, оформивших подписку Ultra, могут привести к увеличению прибыли компании в будущем.\n",
    "\n",
    "С учетом ранее проведенных промо-акций для получения 100 новых подписчиков Ultra при существующей вероятности продления подписки в 10 % требется раздать 1160 промокодов на 1 бесплатный месяц подписки.\n",
    "\n",
    "С учетом ранее проведенных рассылок с вероятностью в 85% больше половины из 1000000 разосланных push-уведомления в мобильном приложении будут прочтены пользователями.\n",
    "\n",
    "\n",
    "***Рекомендации:***\n",
    "1. Рассмотреть целесообразность введения системы мониторинга протяженности непрерывных поездок на самокатах для своевременного выявления неоходимости проведения их техобслуживания с целью снижения незапланированных расходов.\n",
    "2. В силу того, что все три гипотезы не были отвергнуты, есть все основания полагать, что пользователи с подпиской являются более \"выгодными\" для компании, в связи с чем имеет смысл разработать план проведения промо-акций с целью привлечения потребителей оформить/продлить подписку Ultra как более прибыльную для компании с учетом имеющегося опыта ранее проведенных промо-акций.\n",
    "3. Использовать рассылку push-уведомлений в мобильном приложении как достаточно эффективный способ связи с потребителями."
   ]
  }
 ],
 "metadata": {
  "ExecuteTimeLog": [
   {
    "duration": 370,
    "start_time": "2024-03-03T14:53:26.470Z"
   },
   {
    "duration": 58,
    "start_time": "2024-03-03T14:56:03.456Z"
   },
   {
    "duration": 6,
    "start_time": "2024-03-03T14:56:11.494Z"
   },
   {
    "duration": 15,
    "start_time": "2024-03-03T14:56:44.097Z"
   },
   {
    "duration": 382,
    "start_time": "2024-03-03T14:56:55.005Z"
   },
   {
    "duration": 67,
    "start_time": "2024-03-03T14:59:38.670Z"
   },
   {
    "duration": 86,
    "start_time": "2024-03-03T15:00:10.563Z"
   },
   {
    "duration": 6,
    "start_time": "2024-03-03T15:00:15.028Z"
   },
   {
    "duration": 46,
    "start_time": "2024-03-03T15:00:22.972Z"
   },
   {
    "duration": 71,
    "start_time": "2024-03-03T15:00:36.890Z"
   },
   {
    "duration": 82,
    "start_time": "2024-03-03T15:00:58.625Z"
   },
   {
    "duration": 9,
    "start_time": "2024-03-03T15:01:24.264Z"
   },
   {
    "duration": 9,
    "start_time": "2024-03-03T15:01:46.993Z"
   },
   {
    "duration": 8,
    "start_time": "2024-03-03T15:01:50.181Z"
   },
   {
    "duration": 5,
    "start_time": "2024-03-03T15:02:03.427Z"
   },
   {
    "duration": 78,
    "start_time": "2024-03-03T15:05:22.071Z"
   },
   {
    "duration": 9,
    "start_time": "2024-03-03T15:05:40.527Z"
   },
   {
    "duration": 84,
    "start_time": "2024-03-03T15:09:24.109Z"
   },
   {
    "duration": 64,
    "start_time": "2024-03-03T15:10:23.070Z"
   },
   {
    "duration": 8,
    "start_time": "2024-03-03T15:10:28.641Z"
   },
   {
    "duration": 29,
    "start_time": "2024-03-03T15:10:41.526Z"
   },
   {
    "duration": 6,
    "start_time": "2024-03-03T15:22:20.159Z"
   },
   {
    "duration": 7,
    "start_time": "2024-03-03T15:22:35.898Z"
   },
   {
    "duration": 7,
    "start_time": "2024-03-03T15:22:53.269Z"
   },
   {
    "duration": 9,
    "start_time": "2024-03-03T15:22:59.065Z"
   },
   {
    "duration": 7,
    "start_time": "2024-03-03T15:23:22.456Z"
   },
   {
    "duration": 4,
    "start_time": "2024-03-03T15:24:36.788Z"
   },
   {
    "duration": 4,
    "start_time": "2024-03-03T15:25:02.210Z"
   },
   {
    "duration": 2,
    "start_time": "2024-03-03T15:25:51.089Z"
   },
   {
    "duration": 41,
    "start_time": "2024-03-03T15:25:51.098Z"
   },
   {
    "duration": 9,
    "start_time": "2024-03-03T15:25:51.141Z"
   },
   {
    "duration": 34,
    "start_time": "2024-03-03T15:25:51.151Z"
   },
   {
    "duration": 9,
    "start_time": "2024-03-03T15:25:51.187Z"
   },
   {
    "duration": 14,
    "start_time": "2024-03-03T15:25:51.197Z"
   },
   {
    "duration": 6,
    "start_time": "2024-03-03T15:25:51.212Z"
   },
   {
    "duration": 23,
    "start_time": "2024-03-03T15:25:51.219Z"
   },
   {
    "duration": 8,
    "start_time": "2024-03-03T15:25:51.243Z"
   },
   {
    "duration": 6,
    "start_time": "2024-03-03T15:25:51.252Z"
   },
   {
    "duration": 4,
    "start_time": "2024-03-03T15:31:41.324Z"
   },
   {
    "duration": 8,
    "start_time": "2024-03-03T15:31:59.738Z"
   },
   {
    "duration": 8,
    "start_time": "2024-03-03T15:34:12.556Z"
   },
   {
    "duration": 7,
    "start_time": "2024-03-03T15:34:17.910Z"
   },
   {
    "duration": 5,
    "start_time": "2024-03-03T15:35:01.261Z"
   },
   {
    "duration": 7,
    "start_time": "2024-03-03T15:35:18.555Z"
   },
   {
    "duration": 3,
    "start_time": "2024-03-03T15:37:27.805Z"
   },
   {
    "duration": 6,
    "start_time": "2024-03-03T15:37:35.574Z"
   },
   {
    "duration": 6,
    "start_time": "2024-03-03T15:38:50.035Z"
   },
   {
    "duration": 6,
    "start_time": "2024-03-03T15:40:13.854Z"
   },
   {
    "duration": 7,
    "start_time": "2024-03-03T15:42:03.301Z"
   },
   {
    "duration": 6,
    "start_time": "2024-03-03T15:42:14.792Z"
   },
   {
    "duration": 7,
    "start_time": "2024-03-03T15:42:26.801Z"
   },
   {
    "duration": 7,
    "start_time": "2024-03-03T15:43:30.822Z"
   },
   {
    "duration": 7,
    "start_time": "2024-03-03T15:43:38.530Z"
   },
   {
    "duration": 7,
    "start_time": "2024-03-03T15:43:57.616Z"
   },
   {
    "duration": 6,
    "start_time": "2024-03-03T15:44:00.806Z"
   },
   {
    "duration": 6,
    "start_time": "2024-03-03T15:46:32.110Z"
   },
   {
    "duration": 8,
    "start_time": "2024-03-03T15:46:55.065Z"
   },
   {
    "duration": 6,
    "start_time": "2024-03-03T15:47:09.107Z"
   },
   {
    "duration": 7,
    "start_time": "2024-03-03T15:47:45.230Z"
   },
   {
    "duration": 6,
    "start_time": "2024-03-03T15:47:56.998Z"
   },
   {
    "duration": 6,
    "start_time": "2024-03-03T15:48:08.731Z"
   },
   {
    "duration": 8,
    "start_time": "2024-03-03T15:49:30.837Z"
   },
   {
    "duration": 10,
    "start_time": "2024-03-03T15:52:38.397Z"
   },
   {
    "duration": 6,
    "start_time": "2024-03-03T15:52:46.861Z"
   },
   {
    "duration": 7,
    "start_time": "2024-03-03T16:03:44.909Z"
   },
   {
    "duration": 6,
    "start_time": "2024-03-03T16:03:50.684Z"
   },
   {
    "duration": 6,
    "start_time": "2024-03-03T16:05:23.361Z"
   },
   {
    "duration": 6,
    "start_time": "2024-03-03T16:06:52.169Z"
   },
   {
    "duration": 6,
    "start_time": "2024-03-03T16:06:58.388Z"
   },
   {
    "duration": 2,
    "start_time": "2024-03-03T16:07:08.130Z"
   },
   {
    "duration": 47,
    "start_time": "2024-03-03T16:07:08.133Z"
   },
   {
    "duration": 8,
    "start_time": "2024-03-03T16:07:08.181Z"
   },
   {
    "duration": 41,
    "start_time": "2024-03-03T16:07:08.190Z"
   },
   {
    "duration": 8,
    "start_time": "2024-03-03T16:07:08.233Z"
   },
   {
    "duration": 9,
    "start_time": "2024-03-03T16:07:08.243Z"
   },
   {
    "duration": 18,
    "start_time": "2024-03-03T16:07:08.253Z"
   },
   {
    "duration": 31,
    "start_time": "2024-03-03T16:07:08.273Z"
   },
   {
    "duration": 8,
    "start_time": "2024-03-03T16:07:08.305Z"
   },
   {
    "duration": 9,
    "start_time": "2024-03-03T16:07:08.314Z"
   },
   {
    "duration": 12,
    "start_time": "2024-03-03T16:07:08.324Z"
   },
   {
    "duration": 17,
    "start_time": "2024-03-03T16:07:08.337Z"
   },
   {
    "duration": 12,
    "start_time": "2024-03-03T16:07:08.355Z"
   },
   {
    "duration": 13,
    "start_time": "2024-03-03T16:07:08.370Z"
   },
   {
    "duration": 4,
    "start_time": "2024-03-03T16:07:08.385Z"
   },
   {
    "duration": 5,
    "start_time": "2024-03-03T16:07:45.385Z"
   },
   {
    "duration": 8,
    "start_time": "2024-03-03T16:13:05.726Z"
   },
   {
    "duration": 5,
    "start_time": "2024-03-03T16:13:15.064Z"
   },
   {
    "duration": 403,
    "start_time": "2024-03-03T16:14:26.541Z"
   },
   {
    "duration": 31,
    "start_time": "2024-03-03T16:14:26.946Z"
   },
   {
    "duration": 8,
    "start_time": "2024-03-03T16:14:26.978Z"
   },
   {
    "duration": 34,
    "start_time": "2024-03-03T16:14:26.988Z"
   },
   {
    "duration": 8,
    "start_time": "2024-03-03T16:14:27.023Z"
   },
   {
    "duration": 4,
    "start_time": "2024-03-03T16:14:27.032Z"
   },
   {
    "duration": 4,
    "start_time": "2024-03-03T16:14:27.037Z"
   },
   {
    "duration": 20,
    "start_time": "2024-03-03T16:14:27.042Z"
   },
   {
    "duration": 8,
    "start_time": "2024-03-03T16:14:27.063Z"
   },
   {
    "duration": 8,
    "start_time": "2024-03-03T16:14:27.073Z"
   },
   {
    "duration": 7,
    "start_time": "2024-03-03T16:14:27.082Z"
   },
   {
    "duration": 4,
    "start_time": "2024-03-03T16:14:27.090Z"
   },
   {
    "duration": 14,
    "start_time": "2024-03-03T16:14:27.096Z"
   },
   {
    "duration": 9,
    "start_time": "2024-03-03T16:14:27.111Z"
   },
   {
    "duration": 4,
    "start_time": "2024-03-03T16:14:27.121Z"
   },
   {
    "duration": 293,
    "start_time": "2024-03-03T16:15:29.602Z"
   },
   {
    "duration": 5,
    "start_time": "2024-03-03T16:16:03.505Z"
   },
   {
    "duration": 90,
    "start_time": "2024-03-03T16:16:16.890Z"
   },
   {
    "duration": 93,
    "start_time": "2024-03-03T16:19:54.073Z"
   },
   {
    "duration": 103,
    "start_time": "2024-03-03T16:21:10.960Z"
   },
   {
    "duration": 5,
    "start_time": "2024-03-03T16:29:29.254Z"
   },
   {
    "duration": 288,
    "start_time": "2024-03-03T16:29:47.489Z"
   },
   {
    "duration": 8,
    "start_time": "2024-03-03T16:30:22.198Z"
   },
   {
    "duration": 268,
    "start_time": "2024-03-03T16:30:40.200Z"
   },
   {
    "duration": 7,
    "start_time": "2024-03-03T16:30:43.734Z"
   },
   {
    "duration": 273,
    "start_time": "2024-03-03T16:30:54.639Z"
   },
   {
    "duration": 7,
    "start_time": "2024-03-03T16:31:11.126Z"
   },
   {
    "duration": 274,
    "start_time": "2024-03-03T16:31:20.392Z"
   },
   {
    "duration": 10,
    "start_time": "2024-03-03T16:32:16.792Z"
   },
   {
    "duration": 13,
    "start_time": "2024-03-03T16:32:22.995Z"
   },
   {
    "duration": 10,
    "start_time": "2024-03-03T16:32:36.995Z"
   },
   {
    "duration": 64,
    "start_time": "2024-03-03T16:32:51.247Z"
   },
   {
    "duration": 72,
    "start_time": "2024-03-03T16:33:26.983Z"
   },
   {
    "duration": 69,
    "start_time": "2024-03-03T16:33:41.090Z"
   },
   {
    "duration": 71,
    "start_time": "2024-03-03T16:33:49.017Z"
   },
   {
    "duration": 72,
    "start_time": "2024-03-03T16:34:14.816Z"
   },
   {
    "duration": 82,
    "start_time": "2024-03-03T16:34:20.024Z"
   },
   {
    "duration": 5,
    "start_time": "2024-03-03T16:45:38.134Z"
   },
   {
    "duration": 86,
    "start_time": "2024-03-03T16:46:28.463Z"
   },
   {
    "duration": 109,
    "start_time": "2024-03-03T16:46:38.997Z"
   },
   {
    "duration": 111,
    "start_time": "2024-03-03T16:46:48.282Z"
   },
   {
    "duration": 103,
    "start_time": "2024-03-03T16:47:11.255Z"
   },
   {
    "duration": 5,
    "start_time": "2024-03-03T16:47:48.030Z"
   },
   {
    "duration": 6,
    "start_time": "2024-03-03T16:48:06.562Z"
   },
   {
    "duration": 5,
    "start_time": "2024-03-03T16:49:41.737Z"
   },
   {
    "duration": 142,
    "start_time": "2024-03-03T16:49:42.863Z"
   },
   {
    "duration": 6,
    "start_time": "2024-03-03T16:49:43.733Z"
   },
   {
    "duration": 102,
    "start_time": "2024-03-03T16:53:26.019Z"
   },
   {
    "duration": 121,
    "start_time": "2024-03-03T16:57:02.208Z"
   },
   {
    "duration": 6,
    "start_time": "2024-03-03T16:57:47.218Z"
   },
   {
    "duration": 8,
    "start_time": "2024-03-03T17:06:34.513Z"
   },
   {
    "duration": 8,
    "start_time": "2024-03-03T17:07:26.742Z"
   },
   {
    "duration": 13135,
    "start_time": "2024-03-03T17:07:30.479Z"
   },
   {
    "duration": 119,
    "start_time": "2024-03-03T17:07:55.396Z"
   },
   {
    "duration": 6,
    "start_time": "2024-03-03T17:08:07.757Z"
   },
   {
    "duration": 5,
    "start_time": "2024-03-03T17:08:15.082Z"
   },
   {
    "duration": 121,
    "start_time": "2024-03-03T17:08:16.740Z"
   },
   {
    "duration": 7,
    "start_time": "2024-03-03T17:08:17.410Z"
   },
   {
    "duration": 238,
    "start_time": "2024-03-03T17:09:39.935Z"
   },
   {
    "duration": 7,
    "start_time": "2024-03-03T17:10:25.005Z"
   },
   {
    "duration": 7,
    "start_time": "2024-03-03T17:16:24.727Z"
   },
   {
    "duration": 82,
    "start_time": "2024-03-03T17:16:35.688Z"
   },
   {
    "duration": 94,
    "start_time": "2024-03-03T17:17:20.063Z"
   },
   {
    "duration": 118,
    "start_time": "2024-03-03T17:27:09.403Z"
   },
   {
    "duration": 7,
    "start_time": "2024-03-03T17:27:48.738Z"
   },
   {
    "duration": 2,
    "start_time": "2024-03-03T17:40:52.427Z"
   },
   {
    "duration": 33,
    "start_time": "2024-03-03T17:40:52.431Z"
   },
   {
    "duration": 8,
    "start_time": "2024-03-03T17:40:52.465Z"
   },
   {
    "duration": 28,
    "start_time": "2024-03-03T17:40:52.475Z"
   },
   {
    "duration": 8,
    "start_time": "2024-03-03T17:40:52.504Z"
   },
   {
    "duration": 5,
    "start_time": "2024-03-03T17:40:52.513Z"
   },
   {
    "duration": 4,
    "start_time": "2024-03-03T17:40:52.519Z"
   },
   {
    "duration": 19,
    "start_time": "2024-03-03T17:40:52.524Z"
   },
   {
    "duration": 15,
    "start_time": "2024-03-03T17:40:52.544Z"
   },
   {
    "duration": 5,
    "start_time": "2024-03-03T17:40:52.560Z"
   },
   {
    "duration": 8,
    "start_time": "2024-03-03T17:40:52.566Z"
   },
   {
    "duration": 5,
    "start_time": "2024-03-03T17:40:52.576Z"
   },
   {
    "duration": 7,
    "start_time": "2024-03-03T17:40:52.582Z"
   },
   {
    "duration": 9,
    "start_time": "2024-03-03T17:40:52.591Z"
   },
   {
    "duration": 5,
    "start_time": "2024-03-03T17:40:52.601Z"
   },
   {
    "duration": 135,
    "start_time": "2024-03-03T17:40:52.607Z"
   },
   {
    "duration": 14,
    "start_time": "2024-03-03T17:40:52.743Z"
   },
   {
    "duration": 69,
    "start_time": "2024-03-03T17:40:52.759Z"
   },
   {
    "duration": 4,
    "start_time": "2024-03-03T17:40:52.830Z"
   },
   {
    "duration": 144,
    "start_time": "2024-03-03T17:40:52.835Z"
   },
   {
    "duration": 6,
    "start_time": "2024-03-03T17:40:52.980Z"
   },
   {
    "duration": 125,
    "start_time": "2024-03-03T17:40:52.987Z"
   },
   {
    "duration": 7,
    "start_time": "2024-03-03T17:40:53.113Z"
   },
   {
    "duration": 100,
    "start_time": "2024-03-03T17:40:53.121Z"
   },
   {
    "duration": 128,
    "start_time": "2024-03-03T17:40:53.223Z"
   },
   {
    "duration": 10,
    "start_time": "2024-03-03T17:40:53.353Z"
   },
   {
    "duration": 12,
    "start_time": "2024-03-03T17:55:39.313Z"
   },
   {
    "duration": 12,
    "start_time": "2024-03-03T17:56:02.631Z"
   },
   {
    "duration": 15,
    "start_time": "2024-03-03T17:56:09.395Z"
   },
   {
    "duration": 12,
    "start_time": "2024-03-03T17:56:35.561Z"
   },
   {
    "duration": 10,
    "start_time": "2024-03-03T17:56:39.373Z"
   },
   {
    "duration": 9,
    "start_time": "2024-03-03T17:57:25.579Z"
   },
   {
    "duration": 8,
    "start_time": "2024-03-03T18:02:04.286Z"
   },
   {
    "duration": 4,
    "start_time": "2024-03-03T18:02:39.389Z"
   },
   {
    "duration": 8,
    "start_time": "2024-03-03T18:02:44.185Z"
   },
   {
    "duration": 13,
    "start_time": "2024-03-03T18:03:08.768Z"
   },
   {
    "duration": 11,
    "start_time": "2024-03-03T18:03:54.143Z"
   },
   {
    "duration": 10,
    "start_time": "2024-03-03T18:05:11.520Z"
   },
   {
    "duration": 12,
    "start_time": "2024-03-03T18:05:14.688Z"
   },
   {
    "duration": 452,
    "start_time": "2024-03-03T18:11:25.266Z"
   },
   {
    "duration": 945,
    "start_time": "2024-03-03T18:15:40.073Z"
   },
   {
    "duration": 67,
    "start_time": "2024-03-03T18:15:41.020Z"
   },
   {
    "duration": 9,
    "start_time": "2024-03-03T18:15:41.088Z"
   },
   {
    "duration": 38,
    "start_time": "2024-03-03T18:15:41.099Z"
   },
   {
    "duration": 12,
    "start_time": "2024-03-03T18:15:41.140Z"
   },
   {
    "duration": 7,
    "start_time": "2024-03-03T18:15:41.153Z"
   },
   {
    "duration": 6,
    "start_time": "2024-03-03T18:15:41.162Z"
   },
   {
    "duration": 33,
    "start_time": "2024-03-03T18:15:41.169Z"
   },
   {
    "duration": 8,
    "start_time": "2024-03-03T18:15:41.204Z"
   },
   {
    "duration": 7,
    "start_time": "2024-03-03T18:15:41.214Z"
   },
   {
    "duration": 12,
    "start_time": "2024-03-03T18:15:41.222Z"
   },
   {
    "duration": 6,
    "start_time": "2024-03-03T18:15:41.235Z"
   },
   {
    "duration": 16,
    "start_time": "2024-03-03T18:15:41.242Z"
   },
   {
    "duration": 13,
    "start_time": "2024-03-03T18:15:41.260Z"
   },
   {
    "duration": 5,
    "start_time": "2024-03-03T18:15:41.275Z"
   },
   {
    "duration": 152,
    "start_time": "2024-03-03T18:15:41.281Z"
   },
   {
    "duration": 4,
    "start_time": "2024-03-03T18:15:41.434Z"
   },
   {
    "duration": 81,
    "start_time": "2024-03-03T18:15:41.439Z"
   },
   {
    "duration": 5,
    "start_time": "2024-03-03T18:15:41.521Z"
   },
   {
    "duration": 139,
    "start_time": "2024-03-03T18:15:41.527Z"
   },
   {
    "duration": 7,
    "start_time": "2024-03-03T18:15:41.667Z"
   },
   {
    "duration": 137,
    "start_time": "2024-03-03T18:15:41.676Z"
   },
   {
    "duration": 7,
    "start_time": "2024-03-03T18:15:41.815Z"
   },
   {
    "duration": 120,
    "start_time": "2024-03-03T18:15:41.823Z"
   },
   {
    "duration": 137,
    "start_time": "2024-03-03T18:15:41.945Z"
   },
   {
    "duration": 7,
    "start_time": "2024-03-03T18:15:42.083Z"
   },
   {
    "duration": 8,
    "start_time": "2024-03-03T18:15:42.092Z"
   },
   {
    "duration": 24,
    "start_time": "2024-03-03T18:15:42.101Z"
   },
   {
    "duration": 7,
    "start_time": "2024-03-03T18:15:42.126Z"
   },
   {
    "duration": 24,
    "start_time": "2024-03-03T18:15:42.134Z"
   },
   {
    "duration": 21,
    "start_time": "2024-03-03T18:15:42.160Z"
   },
   {
    "duration": 118,
    "start_time": "2024-03-03T18:15:42.183Z"
   },
   {
    "duration": 1208,
    "start_time": "2024-03-03T18:16:18.130Z"
   },
   {
    "duration": 841,
    "start_time": "2024-03-03T18:16:34.806Z"
   },
   {
    "duration": 198,
    "start_time": "2024-03-03T18:17:22.238Z"
   },
   {
    "duration": 287,
    "start_time": "2024-03-03T18:19:14.520Z"
   },
   {
    "duration": 254,
    "start_time": "2024-03-03T18:20:00.296Z"
   },
   {
    "duration": 8,
    "start_time": "2024-03-03T18:20:52.042Z"
   },
   {
    "duration": 328,
    "start_time": "2024-03-03T18:22:39.337Z"
   },
   {
    "duration": 274,
    "start_time": "2024-03-03T18:23:06.389Z"
   },
   {
    "duration": 18,
    "start_time": "2024-03-03T18:23:50.628Z"
   },
   {
    "duration": 80,
    "start_time": "2024-03-03T18:24:45.376Z"
   },
   {
    "duration": 119,
    "start_time": "2024-03-03T18:26:16.711Z"
   },
   {
    "duration": 84,
    "start_time": "2024-03-03T18:27:42.300Z"
   },
   {
    "duration": 120,
    "start_time": "2024-03-03T18:27:48.679Z"
   },
   {
    "duration": 130,
    "start_time": "2024-03-03T18:30:42.104Z"
   },
   {
    "duration": 129,
    "start_time": "2024-03-03T18:30:57.889Z"
   },
   {
    "duration": 126,
    "start_time": "2024-03-03T18:31:14.088Z"
   },
   {
    "duration": 81,
    "start_time": "2024-03-03T18:31:19.787Z"
   },
   {
    "duration": 87,
    "start_time": "2024-03-03T18:31:29.394Z"
   },
   {
    "duration": 116,
    "start_time": "2024-03-03T18:31:33.071Z"
   },
   {
    "duration": 84,
    "start_time": "2024-03-03T18:33:33.264Z"
   },
   {
    "duration": 93,
    "start_time": "2024-03-03T18:33:38.134Z"
   },
   {
    "duration": 148,
    "start_time": "2024-03-03T18:34:03.519Z"
   },
   {
    "duration": 104,
    "start_time": "2024-03-03T18:34:31.656Z"
   },
   {
    "duration": 95,
    "start_time": "2024-03-03T18:34:58.270Z"
   },
   {
    "duration": 120,
    "start_time": "2024-03-03T18:35:10.506Z"
   },
   {
    "duration": 123,
    "start_time": "2024-03-03T18:35:54.611Z"
   },
   {
    "duration": 5,
    "start_time": "2024-03-03T18:36:14.742Z"
   },
   {
    "duration": 19,
    "start_time": "2024-03-03T18:36:16.214Z"
   },
   {
    "duration": 12,
    "start_time": "2024-03-03T18:36:18.111Z"
   },
   {
    "duration": 232,
    "start_time": "2024-03-03T18:36:25.707Z"
   },
   {
    "duration": 7,
    "start_time": "2024-03-03T18:37:02.695Z"
   },
   {
    "duration": 9,
    "start_time": "2024-03-03T18:37:16.412Z"
   },
   {
    "duration": 131,
    "start_time": "2024-03-03T18:37:46.984Z"
   },
   {
    "duration": 235,
    "start_time": "2024-03-03T18:37:55.082Z"
   },
   {
    "duration": 7,
    "start_time": "2024-03-03T18:38:02.615Z"
   },
   {
    "duration": 6,
    "start_time": "2024-03-03T18:38:03.098Z"
   },
   {
    "duration": 234,
    "start_time": "2024-03-03T18:43:17.532Z"
   },
   {
    "duration": 251,
    "start_time": "2024-03-03T18:43:45.057Z"
   },
   {
    "duration": 185,
    "start_time": "2024-03-03T18:45:32.133Z"
   },
   {
    "duration": 7,
    "start_time": "2024-03-03T18:50:26.426Z"
   },
   {
    "duration": 8,
    "start_time": "2024-03-03T18:52:59.912Z"
   },
   {
    "duration": 8,
    "start_time": "2024-03-03T18:53:25.148Z"
   },
   {
    "duration": 9,
    "start_time": "2024-03-03T18:53:36.746Z"
   },
   {
    "duration": 11,
    "start_time": "2024-03-03T18:57:30.872Z"
   },
   {
    "duration": 221,
    "start_time": "2024-03-03T18:57:49.175Z"
   },
   {
    "duration": 224,
    "start_time": "2024-03-03T18:58:14.938Z"
   },
   {
    "duration": 71,
    "start_time": "2024-03-03T18:58:31.317Z"
   },
   {
    "duration": 215,
    "start_time": "2024-03-03T18:58:35.577Z"
   },
   {
    "duration": 137,
    "start_time": "2024-03-03T18:58:56.256Z"
   },
   {
    "duration": 8,
    "start_time": "2024-03-03T19:00:13.042Z"
   },
   {
    "duration": 8,
    "start_time": "2024-03-03T19:03:37.589Z"
   },
   {
    "duration": 131,
    "start_time": "2024-03-03T19:03:44.248Z"
   },
   {
    "duration": 221,
    "start_time": "2024-03-03T19:03:53.296Z"
   },
   {
    "duration": 209,
    "start_time": "2024-03-03T19:04:17.352Z"
   },
   {
    "duration": 68,
    "start_time": "2024-03-03T19:04:31.055Z"
   },
   {
    "duration": 217,
    "start_time": "2024-03-03T19:04:44.756Z"
   },
   {
    "duration": 138,
    "start_time": "2024-03-03T19:14:41.157Z"
   },
   {
    "duration": 131,
    "start_time": "2024-03-03T19:15:14.822Z"
   },
   {
    "duration": 7,
    "start_time": "2024-03-03T19:16:34.798Z"
   },
   {
    "duration": 6,
    "start_time": "2024-03-03T19:16:53.820Z"
   },
   {
    "duration": 126,
    "start_time": "2024-03-03T19:37:14.489Z"
   },
   {
    "duration": 3,
    "start_time": "2024-03-03T19:37:26.550Z"
   },
   {
    "duration": 74,
    "start_time": "2024-03-03T19:37:26.555Z"
   },
   {
    "duration": 9,
    "start_time": "2024-03-03T19:37:26.630Z"
   },
   {
    "duration": 37,
    "start_time": "2024-03-03T19:37:26.640Z"
   },
   {
    "duration": 9,
    "start_time": "2024-03-03T19:37:26.678Z"
   },
   {
    "duration": 20,
    "start_time": "2024-03-03T19:37:26.688Z"
   },
   {
    "duration": 9,
    "start_time": "2024-03-03T19:37:26.709Z"
   },
   {
    "duration": 29,
    "start_time": "2024-03-03T19:37:26.719Z"
   },
   {
    "duration": 85,
    "start_time": "2024-03-03T19:37:26.749Z"
   },
   {
    "duration": 37,
    "start_time": "2024-03-03T19:37:26.835Z"
   },
   {
    "duration": 28,
    "start_time": "2024-03-03T19:37:26.873Z"
   },
   {
    "duration": 4,
    "start_time": "2024-03-03T19:37:26.903Z"
   },
   {
    "duration": 15,
    "start_time": "2024-03-03T19:37:26.908Z"
   },
   {
    "duration": 16,
    "start_time": "2024-03-03T19:37:26.925Z"
   },
   {
    "duration": 4,
    "start_time": "2024-03-03T19:37:26.942Z"
   },
   {
    "duration": 107,
    "start_time": "2024-03-03T19:37:26.947Z"
   },
   {
    "duration": 4,
    "start_time": "2024-03-03T19:37:27.057Z"
   },
   {
    "duration": 86,
    "start_time": "2024-03-03T19:37:27.062Z"
   },
   {
    "duration": 5,
    "start_time": "2024-03-03T19:37:27.149Z"
   },
   {
    "duration": 122,
    "start_time": "2024-03-03T19:37:27.155Z"
   },
   {
    "duration": 6,
    "start_time": "2024-03-03T19:37:27.279Z"
   },
   {
    "duration": 149,
    "start_time": "2024-03-03T19:37:27.286Z"
   },
   {
    "duration": 7,
    "start_time": "2024-03-03T19:37:27.436Z"
   },
   {
    "duration": 86,
    "start_time": "2024-03-03T19:37:27.444Z"
   },
   {
    "duration": 126,
    "start_time": "2024-03-03T19:37:27.531Z"
   },
   {
    "duration": 7,
    "start_time": "2024-03-03T19:37:27.658Z"
   },
   {
    "duration": 7,
    "start_time": "2024-03-03T19:37:27.666Z"
   },
   {
    "duration": 8,
    "start_time": "2024-03-03T19:37:27.674Z"
   },
   {
    "duration": 131,
    "start_time": "2024-03-03T19:37:27.684Z"
   },
   {
    "duration": 4,
    "start_time": "2024-03-03T19:37:27.816Z"
   },
   {
    "duration": 13,
    "start_time": "2024-03-03T19:37:27.821Z"
   },
   {
    "duration": 24,
    "start_time": "2024-03-03T19:37:27.836Z"
   },
   {
    "duration": 134,
    "start_time": "2024-03-03T19:37:27.861Z"
   },
   {
    "duration": 6,
    "start_time": "2024-03-03T19:37:27.996Z"
   },
   {
    "duration": 5,
    "start_time": "2024-03-03T19:37:28.004Z"
   },
   {
    "duration": 139,
    "start_time": "2024-03-03T19:37:28.011Z"
   },
   {
    "duration": 11,
    "start_time": "2024-03-03T19:37:28.151Z"
   },
   {
    "duration": 246,
    "start_time": "2024-03-03T19:37:28.163Z"
   },
   {
    "duration": 130,
    "start_time": "2024-03-03T19:38:45.767Z"
   },
   {
    "duration": 7,
    "start_time": "2024-03-03T19:41:48.989Z"
   },
   {
    "duration": 7,
    "start_time": "2024-03-03T19:41:51.210Z"
   },
   {
    "duration": 7,
    "start_time": "2024-03-03T19:58:38.195Z"
   },
   {
    "duration": 10,
    "start_time": "2024-03-03T19:58:53.061Z"
   },
   {
    "duration": 8,
    "start_time": "2024-03-03T19:59:03.542Z"
   },
   {
    "duration": 8,
    "start_time": "2024-03-03T19:59:37.118Z"
   },
   {
    "duration": 9,
    "start_time": "2024-03-03T20:03:26.969Z"
   },
   {
    "duration": 8,
    "start_time": "2024-03-03T20:03:46.277Z"
   },
   {
    "duration": 16,
    "start_time": "2024-03-03T20:03:51.415Z"
   },
   {
    "duration": 895,
    "start_time": "2024-03-03T20:04:10.091Z"
   },
   {
    "duration": 18,
    "start_time": "2024-03-03T20:04:16.775Z"
   },
   {
    "duration": 16,
    "start_time": "2024-03-03T20:06:12.473Z"
   },
   {
    "duration": 15,
    "start_time": "2024-03-03T20:06:26.106Z"
   },
   {
    "duration": 15,
    "start_time": "2024-03-03T20:07:45.941Z"
   },
   {
    "duration": 75,
    "start_time": "2024-03-03T20:11:59.907Z"
   },
   {
    "duration": 100,
    "start_time": "2024-03-03T20:12:48.974Z"
   },
   {
    "duration": 15,
    "start_time": "2024-03-03T20:13:13.053Z"
   },
   {
    "duration": 18,
    "start_time": "2024-03-03T20:13:40.295Z"
   },
   {
    "duration": 15,
    "start_time": "2024-03-03T20:16:09.709Z"
   },
   {
    "duration": 15,
    "start_time": "2024-03-03T20:16:23.323Z"
   },
   {
    "duration": 15,
    "start_time": "2024-03-03T20:16:43.052Z"
   },
   {
    "duration": 17,
    "start_time": "2024-03-03T20:19:34.212Z"
   },
   {
    "duration": 17,
    "start_time": "2024-03-03T20:19:54.533Z"
   },
   {
    "duration": 67,
    "start_time": "2024-03-03T20:22:27.129Z"
   },
   {
    "duration": 18,
    "start_time": "2024-03-03T20:22:44.377Z"
   },
   {
    "duration": 16,
    "start_time": "2024-03-03T20:23:03.255Z"
   },
   {
    "duration": 18,
    "start_time": "2024-03-03T20:24:36.874Z"
   },
   {
    "duration": 17,
    "start_time": "2024-03-03T20:25:00.631Z"
   },
   {
    "duration": 14,
    "start_time": "2024-03-03T20:25:18.177Z"
   },
   {
    "duration": 14,
    "start_time": "2024-03-03T20:25:29.613Z"
   },
   {
    "duration": 14,
    "start_time": "2024-03-03T20:26:22.221Z"
   },
   {
    "duration": 16,
    "start_time": "2024-03-03T20:26:48.736Z"
   },
   {
    "duration": 15,
    "start_time": "2024-03-03T20:27:06.120Z"
   },
   {
    "duration": 83,
    "start_time": "2024-03-03T20:27:13.070Z"
   },
   {
    "duration": 69,
    "start_time": "2024-03-03T20:27:24.503Z"
   },
   {
    "duration": 15,
    "start_time": "2024-03-03T20:27:41.566Z"
   },
   {
    "duration": 14,
    "start_time": "2024-03-03T20:27:51.646Z"
   },
   {
    "duration": 294,
    "start_time": "2024-03-03T20:36:12.983Z"
   },
   {
    "duration": 16,
    "start_time": "2024-03-03T20:36:27.175Z"
   },
   {
    "duration": 266,
    "start_time": "2024-03-03T20:36:54.653Z"
   },
   {
    "duration": 67,
    "start_time": "2024-03-03T20:37:15.999Z"
   },
   {
    "duration": 16,
    "start_time": "2024-03-03T20:37:20.971Z"
   },
   {
    "duration": 15,
    "start_time": "2024-03-03T20:37:28.535Z"
   },
   {
    "duration": 19,
    "start_time": "2024-03-03T20:42:00.103Z"
   },
   {
    "duration": 20,
    "start_time": "2024-03-03T20:42:09.434Z"
   },
   {
    "duration": 8,
    "start_time": "2024-03-03T20:43:07.238Z"
   },
   {
    "duration": 8,
    "start_time": "2024-03-03T20:43:17.727Z"
   },
   {
    "duration": 21,
    "start_time": "2024-03-03T20:43:24.780Z"
   },
   {
    "duration": 73,
    "start_time": "2024-03-03T20:43:55.449Z"
   },
   {
    "duration": 20,
    "start_time": "2024-03-03T20:44:15.864Z"
   },
   {
    "duration": 25,
    "start_time": "2024-03-03T20:46:24.537Z"
   },
   {
    "duration": 20,
    "start_time": "2024-03-03T20:46:33.503Z"
   },
   {
    "duration": 20,
    "start_time": "2024-03-03T20:46:37.551Z"
   },
   {
    "duration": 21,
    "start_time": "2024-03-03T20:48:52.396Z"
   },
   {
    "duration": 86,
    "start_time": "2024-03-03T20:49:00.302Z"
   },
   {
    "duration": 21,
    "start_time": "2024-03-03T20:49:20.167Z"
   },
   {
    "duration": 22,
    "start_time": "2024-03-03T20:51:02.796Z"
   },
   {
    "duration": 24,
    "start_time": "2024-03-03T20:52:45.988Z"
   },
   {
    "duration": 22,
    "start_time": "2024-03-03T20:52:54.019Z"
   },
   {
    "duration": 22,
    "start_time": "2024-03-03T20:52:57.754Z"
   },
   {
    "duration": 9,
    "start_time": "2024-03-03T20:55:04.479Z"
   },
   {
    "duration": 73,
    "start_time": "2024-03-03T21:03:04.087Z"
   },
   {
    "duration": 3,
    "start_time": "2024-03-03T21:03:14.912Z"
   },
   {
    "duration": 4,
    "start_time": "2024-03-03T21:03:47.898Z"
   },
   {
    "duration": 71,
    "start_time": "2024-03-03T21:03:51.567Z"
   },
   {
    "duration": 77,
    "start_time": "2024-03-03T21:05:00.119Z"
   },
   {
    "duration": 10,
    "start_time": "2024-03-03T21:05:04.445Z"
   },
   {
    "duration": 11,
    "start_time": "2024-03-03T21:05:38.474Z"
   },
   {
    "duration": 62,
    "start_time": "2024-03-03T21:05:46.053Z"
   },
   {
    "duration": 11,
    "start_time": "2024-03-03T21:09:03.261Z"
   },
   {
    "duration": 10,
    "start_time": "2024-03-03T21:09:13.374Z"
   },
   {
    "duration": 9,
    "start_time": "2024-03-03T21:12:38.051Z"
   },
   {
    "duration": 11,
    "start_time": "2024-03-03T21:13:36.854Z"
   },
   {
    "duration": 10,
    "start_time": "2024-03-03T21:14:03.536Z"
   },
   {
    "duration": 10,
    "start_time": "2024-03-03T21:14:56.745Z"
   },
   {
    "duration": 10,
    "start_time": "2024-03-03T21:15:07.942Z"
   },
   {
    "duration": 10,
    "start_time": "2024-03-03T21:16:24.503Z"
   },
   {
    "duration": 67,
    "start_time": "2024-03-03T21:17:50.461Z"
   },
   {
    "duration": 10,
    "start_time": "2024-03-03T21:18:00.739Z"
   },
   {
    "duration": 3,
    "start_time": "2024-03-03T21:18:15.100Z"
   },
   {
    "duration": 68,
    "start_time": "2024-03-03T21:18:15.104Z"
   },
   {
    "duration": 8,
    "start_time": "2024-03-03T21:18:15.174Z"
   },
   {
    "duration": 43,
    "start_time": "2024-03-03T21:18:15.183Z"
   },
   {
    "duration": 9,
    "start_time": "2024-03-03T21:18:15.228Z"
   },
   {
    "duration": 20,
    "start_time": "2024-03-03T21:18:15.238Z"
   },
   {
    "duration": 31,
    "start_time": "2024-03-03T21:18:15.260Z"
   },
   {
    "duration": 58,
    "start_time": "2024-03-03T21:18:15.292Z"
   },
   {
    "duration": 21,
    "start_time": "2024-03-03T21:18:15.351Z"
   },
   {
    "duration": 46,
    "start_time": "2024-03-03T21:18:15.374Z"
   },
   {
    "duration": 20,
    "start_time": "2024-03-03T21:18:15.421Z"
   },
   {
    "duration": 8,
    "start_time": "2024-03-03T21:18:15.442Z"
   },
   {
    "duration": 16,
    "start_time": "2024-03-03T21:18:15.451Z"
   },
   {
    "duration": 26,
    "start_time": "2024-03-03T21:18:15.470Z"
   },
   {
    "duration": 6,
    "start_time": "2024-03-03T21:18:15.497Z"
   },
   {
    "duration": 175,
    "start_time": "2024-03-03T21:18:15.504Z"
   },
   {
    "duration": 5,
    "start_time": "2024-03-03T21:18:15.680Z"
   },
   {
    "duration": 72,
    "start_time": "2024-03-03T21:18:15.686Z"
   },
   {
    "duration": 4,
    "start_time": "2024-03-03T21:18:15.759Z"
   },
   {
    "duration": 127,
    "start_time": "2024-03-03T21:18:15.764Z"
   },
   {
    "duration": 6,
    "start_time": "2024-03-03T21:18:15.893Z"
   },
   {
    "duration": 122,
    "start_time": "2024-03-03T21:18:15.900Z"
   },
   {
    "duration": 6,
    "start_time": "2024-03-03T21:18:16.023Z"
   },
   {
    "duration": 90,
    "start_time": "2024-03-03T21:18:16.030Z"
   },
   {
    "duration": 120,
    "start_time": "2024-03-03T21:18:16.121Z"
   },
   {
    "duration": 16,
    "start_time": "2024-03-03T21:18:16.243Z"
   },
   {
    "duration": 8,
    "start_time": "2024-03-03T21:18:16.260Z"
   },
   {
    "duration": 8,
    "start_time": "2024-03-03T21:18:16.269Z"
   },
   {
    "duration": 131,
    "start_time": "2024-03-03T21:18:16.278Z"
   },
   {
    "duration": 4,
    "start_time": "2024-03-03T21:18:16.410Z"
   },
   {
    "duration": 31,
    "start_time": "2024-03-03T21:18:16.415Z"
   },
   {
    "duration": 12,
    "start_time": "2024-03-03T21:18:16.447Z"
   },
   {
    "duration": 135,
    "start_time": "2024-03-03T21:18:16.460Z"
   },
   {
    "duration": 7,
    "start_time": "2024-03-03T21:18:16.597Z"
   },
   {
    "duration": 9,
    "start_time": "2024-03-03T21:18:16.605Z"
   },
   {
    "duration": 143,
    "start_time": "2024-03-03T21:18:16.616Z"
   },
   {
    "duration": 7,
    "start_time": "2024-03-03T21:18:16.760Z"
   },
   {
    "duration": 6,
    "start_time": "2024-03-03T21:18:16.769Z"
   },
   {
    "duration": 22,
    "start_time": "2024-03-03T21:18:16.776Z"
   },
   {
    "duration": 10,
    "start_time": "2024-03-03T21:18:16.799Z"
   },
   {
    "duration": 9,
    "start_time": "2024-03-03T21:18:57.862Z"
   },
   {
    "duration": 85,
    "start_time": "2024-03-03T21:19:03.062Z"
   },
   {
    "duration": 10,
    "start_time": "2024-03-03T21:19:10.485Z"
   },
   {
    "duration": 9,
    "start_time": "2024-03-03T21:19:22.013Z"
   },
   {
    "duration": 10,
    "start_time": "2024-03-03T21:19:50.955Z"
   },
   {
    "duration": 9,
    "start_time": "2024-03-03T21:20:05.250Z"
   },
   {
    "duration": 11,
    "start_time": "2024-03-03T21:20:30.065Z"
   },
   {
    "duration": 74,
    "start_time": "2024-03-03T21:20:44.237Z"
   },
   {
    "duration": 11,
    "start_time": "2024-03-03T21:20:50.849Z"
   },
   {
    "duration": 13,
    "start_time": "2024-03-03T21:23:14.402Z"
   },
   {
    "duration": 2,
    "start_time": "2024-03-03T21:25:21.887Z"
   },
   {
    "duration": 58,
    "start_time": "2024-03-03T21:25:21.891Z"
   },
   {
    "duration": 8,
    "start_time": "2024-03-03T21:25:21.950Z"
   },
   {
    "duration": 33,
    "start_time": "2024-03-03T21:25:21.959Z"
   },
   {
    "duration": 8,
    "start_time": "2024-03-03T21:25:21.994Z"
   },
   {
    "duration": 21,
    "start_time": "2024-03-03T21:25:22.003Z"
   },
   {
    "duration": 9,
    "start_time": "2024-03-03T21:25:22.025Z"
   },
   {
    "duration": 20,
    "start_time": "2024-03-03T21:25:22.035Z"
   },
   {
    "duration": 7,
    "start_time": "2024-03-03T21:25:22.056Z"
   },
   {
    "duration": 20,
    "start_time": "2024-03-03T21:25:22.064Z"
   },
   {
    "duration": 12,
    "start_time": "2024-03-03T21:25:22.085Z"
   },
   {
    "duration": 5,
    "start_time": "2024-03-03T21:25:22.098Z"
   },
   {
    "duration": 7,
    "start_time": "2024-03-03T21:25:22.104Z"
   },
   {
    "duration": 24,
    "start_time": "2024-03-03T21:25:22.113Z"
   },
   {
    "duration": 16,
    "start_time": "2024-03-03T21:25:22.138Z"
   },
   {
    "duration": 119,
    "start_time": "2024-03-03T21:25:22.155Z"
   },
   {
    "duration": 4,
    "start_time": "2024-03-03T21:25:22.276Z"
   },
   {
    "duration": 77,
    "start_time": "2024-03-03T21:25:22.281Z"
   },
   {
    "duration": 4,
    "start_time": "2024-03-03T21:25:22.360Z"
   },
   {
    "duration": 130,
    "start_time": "2024-03-03T21:25:22.365Z"
   },
   {
    "duration": 6,
    "start_time": "2024-03-03T21:25:22.496Z"
   },
   {
    "duration": 139,
    "start_time": "2024-03-03T21:25:22.503Z"
   },
   {
    "duration": 16,
    "start_time": "2024-03-03T21:25:22.644Z"
   },
   {
    "duration": 82,
    "start_time": "2024-03-03T21:25:22.661Z"
   },
   {
    "duration": 124,
    "start_time": "2024-03-03T21:25:22.744Z"
   },
   {
    "duration": 6,
    "start_time": "2024-03-03T21:25:22.869Z"
   },
   {
    "duration": 10,
    "start_time": "2024-03-03T21:25:22.876Z"
   },
   {
    "duration": 8,
    "start_time": "2024-03-03T21:25:22.887Z"
   },
   {
    "duration": 132,
    "start_time": "2024-03-03T21:25:22.896Z"
   },
   {
    "duration": 4,
    "start_time": "2024-03-03T21:25:23.029Z"
   },
   {
    "duration": 24,
    "start_time": "2024-03-03T21:25:23.034Z"
   },
   {
    "duration": 10,
    "start_time": "2024-03-03T21:25:23.059Z"
   },
   {
    "duration": 139,
    "start_time": "2024-03-03T21:25:23.070Z"
   },
   {
    "duration": 6,
    "start_time": "2024-03-03T21:25:23.210Z"
   },
   {
    "duration": 6,
    "start_time": "2024-03-03T21:25:23.217Z"
   },
   {
    "duration": 233,
    "start_time": "2024-03-03T21:25:23.224Z"
   },
   {
    "duration": 6,
    "start_time": "2024-03-03T21:25:23.458Z"
   },
   {
    "duration": 6,
    "start_time": "2024-03-03T21:25:23.465Z"
   },
   {
    "duration": 21,
    "start_time": "2024-03-03T21:25:23.472Z"
   },
   {
    "duration": 11,
    "start_time": "2024-03-03T21:25:23.494Z"
   },
   {
    "duration": 12,
    "start_time": "2024-03-03T21:25:35.450Z"
   },
   {
    "duration": 44,
    "start_time": "2024-03-04T05:02:12.429Z"
   },
   {
    "duration": 1118,
    "start_time": "2024-03-04T05:02:26.230Z"
   },
   {
    "duration": 142,
    "start_time": "2024-03-04T05:02:27.350Z"
   },
   {
    "duration": 11,
    "start_time": "2024-03-04T05:02:27.493Z"
   },
   {
    "duration": 86,
    "start_time": "2024-03-04T05:02:27.505Z"
   },
   {
    "duration": 10,
    "start_time": "2024-03-04T05:02:27.593Z"
   },
   {
    "duration": 5,
    "start_time": "2024-03-04T05:02:27.604Z"
   },
   {
    "duration": 15,
    "start_time": "2024-03-04T05:02:27.611Z"
   },
   {
    "duration": 81,
    "start_time": "2024-03-04T05:02:27.628Z"
   },
   {
    "duration": 9,
    "start_time": "2024-03-04T05:02:27.710Z"
   },
   {
    "duration": 11,
    "start_time": "2024-03-04T05:02:27.721Z"
   },
   {
    "duration": 15,
    "start_time": "2024-03-04T05:02:27.733Z"
   },
   {
    "duration": 13,
    "start_time": "2024-03-04T05:02:27.750Z"
   },
   {
    "duration": 17,
    "start_time": "2024-03-04T05:02:27.765Z"
   },
   {
    "duration": 21,
    "start_time": "2024-03-04T05:02:27.783Z"
   },
   {
    "duration": 11,
    "start_time": "2024-03-04T05:02:27.805Z"
   },
   {
    "duration": 152,
    "start_time": "2024-03-04T05:02:27.818Z"
   },
   {
    "duration": 5,
    "start_time": "2024-03-04T05:02:27.972Z"
   },
   {
    "duration": 99,
    "start_time": "2024-03-04T05:02:27.979Z"
   },
   {
    "duration": 6,
    "start_time": "2024-03-04T05:02:28.079Z"
   },
   {
    "duration": 161,
    "start_time": "2024-03-04T05:02:28.086Z"
   },
   {
    "duration": 7,
    "start_time": "2024-03-04T05:02:28.248Z"
   },
   {
    "duration": 152,
    "start_time": "2024-03-04T05:02:28.256Z"
   },
   {
    "duration": 8,
    "start_time": "2024-03-04T05:02:28.410Z"
   },
   {
    "duration": 116,
    "start_time": "2024-03-04T05:02:28.420Z"
   },
   {
    "duration": 166,
    "start_time": "2024-03-04T05:02:28.537Z"
   },
   {
    "duration": 8,
    "start_time": "2024-03-04T05:02:28.705Z"
   },
   {
    "duration": 15,
    "start_time": "2024-03-04T05:02:28.714Z"
   },
   {
    "duration": 33,
    "start_time": "2024-03-04T05:02:28.732Z"
   },
   {
    "duration": 157,
    "start_time": "2024-03-04T05:02:28.767Z"
   },
   {
    "duration": 5,
    "start_time": "2024-03-04T05:02:28.925Z"
   },
   {
    "duration": 39,
    "start_time": "2024-03-04T05:02:28.931Z"
   },
   {
    "duration": 26,
    "start_time": "2024-03-04T05:02:28.971Z"
   },
   {
    "duration": 154,
    "start_time": "2024-03-04T05:02:28.998Z"
   },
   {
    "duration": 15,
    "start_time": "2024-03-04T05:02:29.154Z"
   },
   {
    "duration": 7,
    "start_time": "2024-03-04T05:02:29.170Z"
   },
   {
    "duration": 173,
    "start_time": "2024-03-04T05:02:29.178Z"
   },
   {
    "duration": 16,
    "start_time": "2024-03-04T05:02:29.352Z"
   },
   {
    "duration": 42,
    "start_time": "2024-03-04T05:02:29.369Z"
   },
   {
    "duration": 36,
    "start_time": "2024-03-04T05:02:29.412Z"
   },
   {
    "duration": 14,
    "start_time": "2024-03-04T05:02:29.449Z"
   },
   {
    "duration": 20,
    "start_time": "2024-03-04T05:02:29.464Z"
   },
   {
    "duration": 3,
    "start_time": "2024-03-04T05:13:25.706Z"
   },
   {
    "duration": 72,
    "start_time": "2024-03-04T05:13:43.109Z"
   },
   {
    "duration": 46,
    "start_time": "2024-03-04T05:16:11.393Z"
   },
   {
    "duration": 1035,
    "start_time": "2024-03-04T05:16:15.793Z"
   },
   {
    "duration": 107,
    "start_time": "2024-03-04T05:16:16.830Z"
   },
   {
    "duration": 11,
    "start_time": "2024-03-04T05:16:16.938Z"
   },
   {
    "duration": 95,
    "start_time": "2024-03-04T05:16:16.951Z"
   },
   {
    "duration": 11,
    "start_time": "2024-03-04T05:16:17.048Z"
   },
   {
    "duration": 6,
    "start_time": "2024-03-04T05:16:17.060Z"
   },
   {
    "duration": 14,
    "start_time": "2024-03-04T05:16:17.067Z"
   },
   {
    "duration": 79,
    "start_time": "2024-03-04T05:16:17.082Z"
   },
   {
    "duration": 12,
    "start_time": "2024-03-04T05:16:17.163Z"
   },
   {
    "duration": 30,
    "start_time": "2024-03-04T05:16:17.177Z"
   },
   {
    "duration": 16,
    "start_time": "2024-03-04T05:16:17.209Z"
   },
   {
    "duration": 6,
    "start_time": "2024-03-04T05:16:17.227Z"
   },
   {
    "duration": 25,
    "start_time": "2024-03-04T05:16:17.234Z"
   },
   {
    "duration": 33,
    "start_time": "2024-03-04T05:16:17.262Z"
   },
   {
    "duration": 22,
    "start_time": "2024-03-04T05:16:17.297Z"
   },
   {
    "duration": 199,
    "start_time": "2024-03-04T05:16:17.321Z"
   },
   {
    "duration": 6,
    "start_time": "2024-03-04T05:16:17.522Z"
   },
   {
    "duration": 97,
    "start_time": "2024-03-04T05:16:17.529Z"
   },
   {
    "duration": 5,
    "start_time": "2024-03-04T05:16:17.628Z"
   },
   {
    "duration": 164,
    "start_time": "2024-03-04T05:16:17.635Z"
   },
   {
    "duration": 7,
    "start_time": "2024-03-04T05:16:17.801Z"
   },
   {
    "duration": 167,
    "start_time": "2024-03-04T05:16:17.809Z"
   },
   {
    "duration": 8,
    "start_time": "2024-03-04T05:16:17.978Z"
   },
   {
    "duration": 120,
    "start_time": "2024-03-04T05:16:17.987Z"
   },
   {
    "duration": 161,
    "start_time": "2024-03-04T05:16:18.108Z"
   },
   {
    "duration": 8,
    "start_time": "2024-03-04T05:16:18.270Z"
   },
   {
    "duration": 14,
    "start_time": "2024-03-04T05:16:18.280Z"
   },
   {
    "duration": 22,
    "start_time": "2024-03-04T05:16:18.295Z"
   },
   {
    "duration": 161,
    "start_time": "2024-03-04T05:16:18.319Z"
   },
   {
    "duration": 5,
    "start_time": "2024-03-04T05:16:18.481Z"
   },
   {
    "duration": 22,
    "start_time": "2024-03-04T05:16:18.487Z"
   },
   {
    "duration": 22,
    "start_time": "2024-03-04T05:16:18.511Z"
   },
   {
    "duration": 251,
    "start_time": "2024-03-04T05:16:18.534Z"
   },
   {
    "duration": 9,
    "start_time": "2024-03-04T05:16:18.787Z"
   },
   {
    "duration": 9,
    "start_time": "2024-03-04T05:16:18.798Z"
   },
   {
    "duration": 208,
    "start_time": "2024-03-04T05:16:18.809Z"
   },
   {
    "duration": 7,
    "start_time": "2024-03-04T05:16:19.019Z"
   },
   {
    "duration": 15,
    "start_time": "2024-03-04T05:16:19.028Z"
   },
   {
    "duration": 44,
    "start_time": "2024-03-04T05:16:19.045Z"
   },
   {
    "duration": 47,
    "start_time": "2024-03-04T05:17:05.402Z"
   },
   {
    "duration": 1090,
    "start_time": "2024-03-04T05:19:59.142Z"
   },
   {
    "duration": 141,
    "start_time": "2024-03-04T05:20:00.234Z"
   },
   {
    "duration": 13,
    "start_time": "2024-03-04T05:20:00.377Z"
   },
   {
    "duration": 439,
    "start_time": "2024-03-04T05:20:00.392Z"
   },
   {
    "duration": 145,
    "start_time": "2024-03-04T05:20:00.833Z"
   },
   {
    "duration": 264,
    "start_time": "2024-03-04T05:20:00.979Z"
   },
   {
    "duration": 216,
    "start_time": "2024-03-04T05:20:01.244Z"
   },
   {
    "duration": 267,
    "start_time": "2024-03-04T05:20:01.461Z"
   },
   {
    "duration": 77,
    "start_time": "2024-03-04T05:20:01.729Z"
   },
   {
    "duration": 109,
    "start_time": "2024-03-04T05:20:01.808Z"
   },
   {
    "duration": 267,
    "start_time": "2024-03-04T05:20:01.918Z"
   },
   {
    "duration": 123,
    "start_time": "2024-03-04T05:20:02.187Z"
   },
   {
    "duration": 87,
    "start_time": "2024-03-04T05:20:02.311Z"
   },
   {
    "duration": 121,
    "start_time": "2024-03-04T05:20:02.401Z"
   },
   {
    "duration": 28,
    "start_time": "2024-03-04T05:20:02.524Z"
   },
   {
    "duration": 198,
    "start_time": "2024-03-04T05:20:02.553Z"
   },
   {
    "duration": 5,
    "start_time": "2024-03-04T05:20:02.753Z"
   },
   {
    "duration": 116,
    "start_time": "2024-03-04T05:20:02.759Z"
   },
   {
    "duration": 5,
    "start_time": "2024-03-04T05:20:02.876Z"
   },
   {
    "duration": 163,
    "start_time": "2024-03-04T05:20:02.883Z"
   },
   {
    "duration": 8,
    "start_time": "2024-03-04T05:20:03.048Z"
   },
   {
    "duration": 200,
    "start_time": "2024-03-04T05:20:03.057Z"
   },
   {
    "duration": 9,
    "start_time": "2024-03-04T05:20:03.258Z"
   },
   {
    "duration": 136,
    "start_time": "2024-03-04T05:20:03.268Z"
   },
   {
    "duration": 163,
    "start_time": "2024-03-04T05:20:03.406Z"
   },
   {
    "duration": 9,
    "start_time": "2024-03-04T05:20:03.570Z"
   },
   {
    "duration": 71,
    "start_time": "2024-03-04T05:20:03.580Z"
   },
   {
    "duration": 78,
    "start_time": "2024-03-04T05:20:03.653Z"
   },
   {
    "duration": 176,
    "start_time": "2024-03-04T05:20:03.733Z"
   },
   {
    "duration": 5,
    "start_time": "2024-03-04T05:20:03.911Z"
   },
   {
    "duration": 48,
    "start_time": "2024-03-04T05:20:03.917Z"
   },
   {
    "duration": 85,
    "start_time": "2024-03-04T05:20:03.967Z"
   },
   {
    "duration": 231,
    "start_time": "2024-03-04T05:20:04.053Z"
   },
   {
    "duration": 8,
    "start_time": "2024-03-04T05:20:04.285Z"
   },
   {
    "duration": 43,
    "start_time": "2024-03-04T05:20:04.295Z"
   },
   {
    "duration": 190,
    "start_time": "2024-03-04T05:20:04.340Z"
   },
   {
    "duration": 8,
    "start_time": "2024-03-04T05:20:04.531Z"
   },
   {
    "duration": 53,
    "start_time": "2024-03-04T05:20:04.540Z"
   },
   {
    "duration": 66,
    "start_time": "2024-03-04T05:20:04.594Z"
   },
   {
    "duration": 63,
    "start_time": "2024-03-04T17:53:05.956Z"
   },
   {
    "duration": 8,
    "start_time": "2024-03-04T17:54:25.295Z"
   },
   {
    "duration": 1317,
    "start_time": "2024-03-04T17:54:32.116Z"
   },
   {
    "duration": 155,
    "start_time": "2024-03-04T17:54:33.436Z"
   },
   {
    "duration": 11,
    "start_time": "2024-03-04T17:54:33.593Z"
   },
   {
    "duration": 161,
    "start_time": "2024-03-04T17:54:33.606Z"
   },
   {
    "duration": 13,
    "start_time": "2024-03-04T17:54:33.769Z"
   },
   {
    "duration": 7,
    "start_time": "2024-03-04T17:54:33.783Z"
   },
   {
    "duration": 11,
    "start_time": "2024-03-04T17:54:33.791Z"
   },
   {
    "duration": 62,
    "start_time": "2024-03-04T17:54:33.804Z"
   },
   {
    "duration": 10,
    "start_time": "2024-03-04T17:54:33.868Z"
   },
   {
    "duration": 20,
    "start_time": "2024-03-04T17:54:33.879Z"
   },
   {
    "duration": 24,
    "start_time": "2024-03-04T17:54:33.900Z"
   },
   {
    "duration": 17,
    "start_time": "2024-03-04T17:54:33.925Z"
   },
   {
    "duration": 23,
    "start_time": "2024-03-04T17:54:33.944Z"
   },
   {
    "duration": 14,
    "start_time": "2024-03-04T17:54:33.970Z"
   },
   {
    "duration": 18,
    "start_time": "2024-03-04T17:54:33.986Z"
   },
   {
    "duration": 176,
    "start_time": "2024-03-04T17:54:34.006Z"
   },
   {
    "duration": 7,
    "start_time": "2024-03-04T17:54:34.185Z"
   },
   {
    "duration": 110,
    "start_time": "2024-03-04T17:54:34.193Z"
   },
   {
    "duration": 6,
    "start_time": "2024-03-04T17:54:34.305Z"
   },
   {
    "duration": 201,
    "start_time": "2024-03-04T17:54:34.312Z"
   },
   {
    "duration": 8,
    "start_time": "2024-03-04T17:54:34.514Z"
   },
   {
    "duration": 180,
    "start_time": "2024-03-04T17:54:34.523Z"
   },
   {
    "duration": 8,
    "start_time": "2024-03-04T17:54:34.705Z"
   },
   {
    "duration": 134,
    "start_time": "2024-03-04T17:54:34.715Z"
   },
   {
    "duration": 186,
    "start_time": "2024-03-04T17:54:34.851Z"
   },
   {
    "duration": 8,
    "start_time": "2024-03-04T17:54:35.039Z"
   },
   {
    "duration": 27,
    "start_time": "2024-03-04T17:54:35.048Z"
   },
   {
    "duration": 16,
    "start_time": "2024-03-04T17:54:35.077Z"
   },
   {
    "duration": 170,
    "start_time": "2024-03-04T17:54:35.095Z"
   },
   {
    "duration": 6,
    "start_time": "2024-03-04T17:54:35.272Z"
   },
   {
    "duration": 22,
    "start_time": "2024-03-04T17:54:35.280Z"
   },
   {
    "duration": 15,
    "start_time": "2024-03-04T17:54:35.303Z"
   },
   {
    "duration": 235,
    "start_time": "2024-03-04T17:54:35.319Z"
   },
   {
    "duration": 19,
    "start_time": "2024-03-04T17:54:35.555Z"
   },
   {
    "duration": 19,
    "start_time": "2024-03-04T17:54:35.576Z"
   },
   {
    "duration": 203,
    "start_time": "2024-03-04T17:54:35.597Z"
   },
   {
    "duration": 8,
    "start_time": "2024-03-04T17:54:35.802Z"
   },
   {
    "duration": 8,
    "start_time": "2024-03-04T17:54:35.811Z"
   },
   {
    "duration": 32,
    "start_time": "2024-03-04T17:54:35.820Z"
   },
   {
    "duration": 34,
    "start_time": "2024-03-04T17:54:35.853Z"
   },
   {
    "duration": 6,
    "start_time": "2024-03-04T17:54:35.892Z"
   },
   {
    "duration": 16,
    "start_time": "2024-03-04T17:56:26.167Z"
   },
   {
    "duration": 18,
    "start_time": "2024-03-04T17:58:25.287Z"
   },
   {
    "duration": 15,
    "start_time": "2024-03-04T18:00:29.795Z"
   },
   {
    "duration": 21,
    "start_time": "2024-03-04T18:01:50.249Z"
   },
   {
    "duration": 16,
    "start_time": "2024-03-04T18:03:09.228Z"
   },
   {
    "duration": 3,
    "start_time": "2024-03-04T18:03:21.108Z"
   },
   {
    "duration": 34,
    "start_time": "2024-03-04T18:03:21.120Z"
   },
   {
    "duration": 11,
    "start_time": "2024-03-04T18:03:21.156Z"
   },
   {
    "duration": 43,
    "start_time": "2024-03-04T18:03:21.168Z"
   },
   {
    "duration": 11,
    "start_time": "2024-03-04T18:03:21.214Z"
   },
   {
    "duration": 13,
    "start_time": "2024-03-04T18:03:21.227Z"
   },
   {
    "duration": 16,
    "start_time": "2024-03-04T18:03:21.242Z"
   },
   {
    "duration": 33,
    "start_time": "2024-03-04T18:03:21.260Z"
   },
   {
    "duration": 19,
    "start_time": "2024-03-04T18:03:21.294Z"
   },
   {
    "duration": 15,
    "start_time": "2024-03-04T18:03:21.315Z"
   },
   {
    "duration": 15,
    "start_time": "2024-03-04T18:03:21.333Z"
   },
   {
    "duration": 5,
    "start_time": "2024-03-04T18:03:21.350Z"
   },
   {
    "duration": 26,
    "start_time": "2024-03-04T18:03:21.357Z"
   },
   {
    "duration": 16,
    "start_time": "2024-03-04T18:03:21.385Z"
   },
   {
    "duration": 5,
    "start_time": "2024-03-04T18:03:21.402Z"
   },
   {
    "duration": 160,
    "start_time": "2024-03-04T18:03:21.409Z"
   },
   {
    "duration": 9,
    "start_time": "2024-03-04T18:03:21.571Z"
   },
   {
    "duration": 171,
    "start_time": "2024-03-04T18:03:21.582Z"
   },
   {
    "duration": 19,
    "start_time": "2024-03-04T18:03:21.755Z"
   },
   {
    "duration": 181,
    "start_time": "2024-03-04T18:03:21.777Z"
   },
   {
    "duration": 19,
    "start_time": "2024-03-04T18:03:21.960Z"
   },
   {
    "duration": 192,
    "start_time": "2024-03-04T18:03:21.981Z"
   },
   {
    "duration": 12,
    "start_time": "2024-03-04T18:03:22.175Z"
   },
   {
    "duration": 141,
    "start_time": "2024-03-04T18:03:22.189Z"
   },
   {
    "duration": 186,
    "start_time": "2024-03-04T18:03:22.332Z"
   },
   {
    "duration": 9,
    "start_time": "2024-03-04T18:03:22.519Z"
   },
   {
    "duration": 15,
    "start_time": "2024-03-04T18:03:22.529Z"
   },
   {
    "duration": 40,
    "start_time": "2024-03-04T18:03:22.545Z"
   },
   {
    "duration": 172,
    "start_time": "2024-03-04T18:03:22.603Z"
   },
   {
    "duration": 6,
    "start_time": "2024-03-04T18:03:22.777Z"
   },
   {
    "duration": 26,
    "start_time": "2024-03-04T18:03:22.784Z"
   },
   {
    "duration": 15,
    "start_time": "2024-03-04T18:03:22.811Z"
   },
   {
    "duration": 205,
    "start_time": "2024-03-04T18:03:22.827Z"
   },
   {
    "duration": 9,
    "start_time": "2024-03-04T18:03:23.033Z"
   },
   {
    "duration": 7,
    "start_time": "2024-03-04T18:03:23.044Z"
   },
   {
    "duration": 208,
    "start_time": "2024-03-04T18:03:23.053Z"
   },
   {
    "duration": 16,
    "start_time": "2024-03-04T18:03:23.263Z"
   },
   {
    "duration": 9,
    "start_time": "2024-03-04T18:03:23.282Z"
   },
   {
    "duration": 39,
    "start_time": "2024-03-04T18:03:23.293Z"
   },
   {
    "duration": 15,
    "start_time": "2024-03-04T18:03:23.334Z"
   },
   {
    "duration": 38,
    "start_time": "2024-03-04T18:03:23.350Z"
   },
   {
    "duration": 17,
    "start_time": "2024-03-04T18:03:28.487Z"
   },
   {
    "duration": 13,
    "start_time": "2024-03-04T18:04:49.158Z"
   },
   {
    "duration": 19,
    "start_time": "2024-03-04T18:04:54.484Z"
   },
   {
    "duration": 15,
    "start_time": "2024-03-04T18:05:23.155Z"
   },
   {
    "duration": 15,
    "start_time": "2024-03-04T18:07:09.506Z"
   },
   {
    "duration": 16,
    "start_time": "2024-03-04T18:12:28.324Z"
   },
   {
    "duration": 14,
    "start_time": "2024-03-04T18:14:26.706Z"
   },
   {
    "duration": 15,
    "start_time": "2024-03-04T18:15:28.616Z"
   },
   {
    "duration": 17,
    "start_time": "2024-03-04T18:16:46.690Z"
   },
   {
    "duration": 14,
    "start_time": "2024-03-04T18:21:05.995Z"
   },
   {
    "duration": 3,
    "start_time": "2024-03-04T18:21:13.434Z"
   },
   {
    "duration": 39,
    "start_time": "2024-03-04T18:21:13.439Z"
   },
   {
    "duration": 17,
    "start_time": "2024-03-04T18:21:13.480Z"
   },
   {
    "duration": 36,
    "start_time": "2024-03-04T18:21:13.500Z"
   },
   {
    "duration": 12,
    "start_time": "2024-03-04T18:21:13.538Z"
   },
   {
    "duration": 5,
    "start_time": "2024-03-04T18:21:13.552Z"
   },
   {
    "duration": 22,
    "start_time": "2024-03-04T18:21:13.572Z"
   },
   {
    "duration": 29,
    "start_time": "2024-03-04T18:21:13.595Z"
   },
   {
    "duration": 9,
    "start_time": "2024-03-04T18:21:13.627Z"
   },
   {
    "duration": 11,
    "start_time": "2024-03-04T18:21:13.638Z"
   },
   {
    "duration": 11,
    "start_time": "2024-03-04T18:21:13.651Z"
   },
   {
    "duration": 15,
    "start_time": "2024-03-04T18:21:13.663Z"
   },
   {
    "duration": 15,
    "start_time": "2024-03-04T18:21:13.679Z"
   },
   {
    "duration": 18,
    "start_time": "2024-03-04T18:21:13.696Z"
   },
   {
    "duration": 14,
    "start_time": "2024-03-04T18:21:13.715Z"
   },
   {
    "duration": 162,
    "start_time": "2024-03-04T18:21:13.730Z"
   },
   {
    "duration": 7,
    "start_time": "2024-03-04T18:21:13.894Z"
   },
   {
    "duration": 112,
    "start_time": "2024-03-04T18:21:13.903Z"
   },
   {
    "duration": 13,
    "start_time": "2024-03-04T18:21:14.016Z"
   },
   {
    "duration": 209,
    "start_time": "2024-03-04T18:21:14.031Z"
   },
   {
    "duration": 8,
    "start_time": "2024-03-04T18:21:14.242Z"
   },
   {
    "duration": 177,
    "start_time": "2024-03-04T18:21:14.252Z"
   },
   {
    "duration": 8,
    "start_time": "2024-03-04T18:21:14.431Z"
   },
   {
    "duration": 216,
    "start_time": "2024-03-04T18:21:14.442Z"
   },
   {
    "duration": 173,
    "start_time": "2024-03-04T18:21:14.660Z"
   },
   {
    "duration": 9,
    "start_time": "2024-03-04T18:21:14.835Z"
   },
   {
    "duration": 29,
    "start_time": "2024-03-04T18:21:14.846Z"
   },
   {
    "duration": 14,
    "start_time": "2024-03-04T18:21:14.877Z"
   },
   {
    "duration": 185,
    "start_time": "2024-03-04T18:21:14.892Z"
   },
   {
    "duration": 6,
    "start_time": "2024-03-04T18:21:15.079Z"
   },
   {
    "duration": 59,
    "start_time": "2024-03-04T18:21:15.087Z"
   },
   {
    "duration": 16,
    "start_time": "2024-03-04T18:21:15.148Z"
   },
   {
    "duration": 196,
    "start_time": "2024-03-04T18:21:15.166Z"
   },
   {
    "duration": 10,
    "start_time": "2024-03-04T18:21:15.364Z"
   },
   {
    "duration": 40,
    "start_time": "2024-03-04T18:21:15.375Z"
   },
   {
    "duration": 206,
    "start_time": "2024-03-04T18:21:15.417Z"
   },
   {
    "duration": 8,
    "start_time": "2024-03-04T18:21:15.625Z"
   },
   {
    "duration": 8,
    "start_time": "2024-03-04T18:21:15.635Z"
   },
   {
    "duration": 47,
    "start_time": "2024-03-04T18:21:15.644Z"
   },
   {
    "duration": 12,
    "start_time": "2024-03-04T18:21:15.693Z"
   },
   {
    "duration": 25,
    "start_time": "2024-03-04T18:21:15.707Z"
   },
   {
    "duration": 20,
    "start_time": "2024-03-04T18:21:36.173Z"
   },
   {
    "duration": 13,
    "start_time": "2024-03-04T18:22:00.243Z"
   },
   {
    "duration": 3,
    "start_time": "2024-03-04T18:22:05.972Z"
   },
   {
    "duration": 47,
    "start_time": "2024-03-04T18:22:05.977Z"
   },
   {
    "duration": 13,
    "start_time": "2024-03-04T18:22:06.026Z"
   },
   {
    "duration": 44,
    "start_time": "2024-03-04T18:22:06.040Z"
   },
   {
    "duration": 15,
    "start_time": "2024-03-04T18:22:06.087Z"
   },
   {
    "duration": 30,
    "start_time": "2024-03-04T18:22:06.104Z"
   },
   {
    "duration": 12,
    "start_time": "2024-03-04T18:22:06.136Z"
   },
   {
    "duration": 28,
    "start_time": "2024-03-04T18:22:06.150Z"
   },
   {
    "duration": 14,
    "start_time": "2024-03-04T18:22:06.181Z"
   },
   {
    "duration": 11,
    "start_time": "2024-03-04T18:22:06.197Z"
   },
   {
    "duration": 13,
    "start_time": "2024-03-04T18:22:06.210Z"
   },
   {
    "duration": 6,
    "start_time": "2024-03-04T18:22:06.225Z"
   },
   {
    "duration": 26,
    "start_time": "2024-03-04T18:22:06.232Z"
   },
   {
    "duration": 15,
    "start_time": "2024-03-04T18:22:06.272Z"
   },
   {
    "duration": 7,
    "start_time": "2024-03-04T18:22:06.289Z"
   },
   {
    "duration": 163,
    "start_time": "2024-03-04T18:22:06.297Z"
   },
   {
    "duration": 12,
    "start_time": "2024-03-04T18:22:06.461Z"
   },
   {
    "duration": 114,
    "start_time": "2024-03-04T18:22:06.474Z"
   },
   {
    "duration": 6,
    "start_time": "2024-03-04T18:22:06.589Z"
   },
   {
    "duration": 178,
    "start_time": "2024-03-04T18:22:06.597Z"
   },
   {
    "duration": 9,
    "start_time": "2024-03-04T18:22:06.776Z"
   },
   {
    "duration": 177,
    "start_time": "2024-03-04T18:22:06.787Z"
   },
   {
    "duration": 18,
    "start_time": "2024-03-04T18:22:06.965Z"
   },
   {
    "duration": 147,
    "start_time": "2024-03-04T18:22:06.985Z"
   },
   {
    "duration": 191,
    "start_time": "2024-03-04T18:22:07.133Z"
   },
   {
    "duration": 9,
    "start_time": "2024-03-04T18:22:07.325Z"
   },
   {
    "duration": 52,
    "start_time": "2024-03-04T18:22:07.336Z"
   },
   {
    "duration": 27,
    "start_time": "2024-03-04T18:22:07.390Z"
   },
   {
    "duration": 160,
    "start_time": "2024-03-04T18:22:07.418Z"
   },
   {
    "duration": 9,
    "start_time": "2024-03-04T18:22:07.580Z"
   },
   {
    "duration": 21,
    "start_time": "2024-03-04T18:22:07.591Z"
   },
   {
    "duration": 23,
    "start_time": "2024-03-04T18:22:07.614Z"
   },
   {
    "duration": 190,
    "start_time": "2024-03-04T18:22:07.639Z"
   },
   {
    "duration": 9,
    "start_time": "2024-03-04T18:22:07.830Z"
   },
   {
    "duration": 13,
    "start_time": "2024-03-04T18:22:07.840Z"
   },
   {
    "duration": 218,
    "start_time": "2024-03-04T18:22:07.855Z"
   },
   {
    "duration": 10,
    "start_time": "2024-03-04T18:22:08.075Z"
   },
   {
    "duration": 9,
    "start_time": "2024-03-04T18:22:08.087Z"
   },
   {
    "duration": 33,
    "start_time": "2024-03-04T18:22:08.098Z"
   },
   {
    "duration": 12,
    "start_time": "2024-03-04T18:22:08.132Z"
   },
   {
    "duration": 6,
    "start_time": "2024-03-04T18:22:08.172Z"
   },
   {
    "duration": 14,
    "start_time": "2024-03-04T18:23:38.693Z"
   },
   {
    "duration": 14,
    "start_time": "2024-03-04T18:24:05.241Z"
   },
   {
    "duration": 26,
    "start_time": "2024-03-04T18:26:48.686Z"
   },
   {
    "duration": 18,
    "start_time": "2024-03-04T18:27:00.959Z"
   },
   {
    "duration": 23,
    "start_time": "2024-03-04T18:35:13.642Z"
   },
   {
    "duration": 6,
    "start_time": "2024-03-04T18:35:48.909Z"
   },
   {
    "duration": 23,
    "start_time": "2024-03-04T18:36:03.218Z"
   },
   {
    "duration": 5,
    "start_time": "2024-03-04T18:36:34.764Z"
   },
   {
    "duration": 3,
    "start_time": "2024-03-04T18:36:41.939Z"
   },
   {
    "duration": 41,
    "start_time": "2024-03-04T18:36:41.943Z"
   },
   {
    "duration": 12,
    "start_time": "2024-03-04T18:36:41.986Z"
   },
   {
    "duration": 39,
    "start_time": "2024-03-04T18:36:41.999Z"
   },
   {
    "duration": 12,
    "start_time": "2024-03-04T18:36:42.041Z"
   },
   {
    "duration": 7,
    "start_time": "2024-03-04T18:36:42.073Z"
   },
   {
    "duration": 14,
    "start_time": "2024-03-04T18:36:42.082Z"
   },
   {
    "duration": 24,
    "start_time": "2024-03-04T18:36:42.098Z"
   },
   {
    "duration": 11,
    "start_time": "2024-03-04T18:36:42.124Z"
   },
   {
    "duration": 7,
    "start_time": "2024-03-04T18:36:42.137Z"
   },
   {
    "duration": 34,
    "start_time": "2024-03-04T18:36:42.146Z"
   },
   {
    "duration": 7,
    "start_time": "2024-03-04T18:36:42.181Z"
   },
   {
    "duration": 22,
    "start_time": "2024-03-04T18:36:42.192Z"
   },
   {
    "duration": 13,
    "start_time": "2024-03-04T18:36:42.216Z"
   },
   {
    "duration": 6,
    "start_time": "2024-03-04T18:36:42.231Z"
   },
   {
    "duration": 183,
    "start_time": "2024-03-04T18:36:42.239Z"
   },
   {
    "duration": 6,
    "start_time": "2024-03-04T18:36:42.423Z"
   },
   {
    "duration": 219,
    "start_time": "2024-03-04T18:36:42.431Z"
   },
   {
    "duration": 6,
    "start_time": "2024-03-04T18:36:42.651Z"
   },
   {
    "duration": 201,
    "start_time": "2024-03-04T18:36:42.659Z"
   },
   {
    "duration": 20,
    "start_time": "2024-03-04T18:36:42.862Z"
   },
   {
    "duration": 188,
    "start_time": "2024-03-04T18:36:42.885Z"
   },
   {
    "duration": 10,
    "start_time": "2024-03-04T18:36:43.075Z"
   },
   {
    "duration": 146,
    "start_time": "2024-03-04T18:36:43.087Z"
   },
   {
    "duration": 172,
    "start_time": "2024-03-04T18:36:43.235Z"
   },
   {
    "duration": 10,
    "start_time": "2024-03-04T18:36:43.409Z"
   },
   {
    "duration": 26,
    "start_time": "2024-03-04T18:36:43.420Z"
   },
   {
    "duration": 12,
    "start_time": "2024-03-04T18:36:43.447Z"
   },
   {
    "duration": 196,
    "start_time": "2024-03-04T18:36:43.460Z"
   },
   {
    "duration": 5,
    "start_time": "2024-03-04T18:36:43.657Z"
   },
   {
    "duration": 17,
    "start_time": "2024-03-04T18:36:43.673Z"
   },
   {
    "duration": 15,
    "start_time": "2024-03-04T18:36:43.692Z"
   },
   {
    "duration": 215,
    "start_time": "2024-03-04T18:36:43.708Z"
   },
   {
    "duration": 9,
    "start_time": "2024-03-04T18:36:43.924Z"
   },
   {
    "duration": 8,
    "start_time": "2024-03-04T18:36:43.935Z"
   },
   {
    "duration": 211,
    "start_time": "2024-03-04T18:36:43.945Z"
   },
   {
    "duration": 16,
    "start_time": "2024-03-04T18:36:44.159Z"
   },
   {
    "duration": 10,
    "start_time": "2024-03-04T18:36:44.176Z"
   },
   {
    "duration": 33,
    "start_time": "2024-03-04T18:36:44.188Z"
   },
   {
    "duration": 4,
    "start_time": "2024-03-04T18:36:44.223Z"
   },
   {
    "duration": 54,
    "start_time": "2024-03-04T18:36:44.238Z"
   },
   {
    "duration": 26,
    "start_time": "2024-03-04T18:40:03.859Z"
   },
   {
    "duration": 3,
    "start_time": "2024-03-04T18:40:11.325Z"
   },
   {
    "duration": 43,
    "start_time": "2024-03-04T18:40:11.329Z"
   },
   {
    "duration": 12,
    "start_time": "2024-03-04T18:40:11.374Z"
   },
   {
    "duration": 44,
    "start_time": "2024-03-04T18:40:11.388Z"
   },
   {
    "duration": 11,
    "start_time": "2024-03-04T18:40:11.434Z"
   },
   {
    "duration": 6,
    "start_time": "2024-03-04T18:40:11.446Z"
   },
   {
    "duration": 7,
    "start_time": "2024-03-04T18:40:11.473Z"
   },
   {
    "duration": 25,
    "start_time": "2024-03-04T18:40:11.482Z"
   },
   {
    "duration": 12,
    "start_time": "2024-03-04T18:40:11.508Z"
   },
   {
    "duration": 14,
    "start_time": "2024-03-04T18:40:11.523Z"
   },
   {
    "duration": 27,
    "start_time": "2024-03-04T18:40:11.540Z"
   },
   {
    "duration": 15,
    "start_time": "2024-03-04T18:40:11.569Z"
   },
   {
    "duration": 14,
    "start_time": "2024-03-04T18:40:11.588Z"
   },
   {
    "duration": 13,
    "start_time": "2024-03-04T18:40:11.604Z"
   },
   {
    "duration": 5,
    "start_time": "2024-03-04T18:40:11.619Z"
   },
   {
    "duration": 161,
    "start_time": "2024-03-04T18:40:11.625Z"
   },
   {
    "duration": 6,
    "start_time": "2024-03-04T18:40:11.789Z"
   },
   {
    "duration": 107,
    "start_time": "2024-03-04T18:40:11.797Z"
   },
   {
    "duration": 5,
    "start_time": "2024-03-04T18:40:11.905Z"
   },
   {
    "duration": 177,
    "start_time": "2024-03-04T18:40:11.912Z"
   },
   {
    "duration": 9,
    "start_time": "2024-03-04T18:40:12.091Z"
   },
   {
    "duration": 192,
    "start_time": "2024-03-04T18:40:12.102Z"
   },
   {
    "duration": 9,
    "start_time": "2024-03-04T18:40:12.296Z"
   },
   {
    "duration": 132,
    "start_time": "2024-03-04T18:40:12.306Z"
   },
   {
    "duration": 166,
    "start_time": "2024-03-04T18:40:12.439Z"
   },
   {
    "duration": 9,
    "start_time": "2024-03-04T18:40:12.607Z"
   },
   {
    "duration": 16,
    "start_time": "2024-03-04T18:40:12.618Z"
   },
   {
    "duration": 19,
    "start_time": "2024-03-04T18:40:12.636Z"
   },
   {
    "duration": 183,
    "start_time": "2024-03-04T18:40:12.658Z"
   },
   {
    "duration": 7,
    "start_time": "2024-03-04T18:40:12.843Z"
   },
   {
    "duration": 37,
    "start_time": "2024-03-04T18:40:12.851Z"
   },
   {
    "duration": 15,
    "start_time": "2024-03-04T18:40:12.890Z"
   },
   {
    "duration": 201,
    "start_time": "2024-03-04T18:40:12.906Z"
   },
   {
    "duration": 8,
    "start_time": "2024-03-04T18:40:13.109Z"
   },
   {
    "duration": 33,
    "start_time": "2024-03-04T18:40:13.119Z"
   },
   {
    "duration": 202,
    "start_time": "2024-03-04T18:40:13.153Z"
   },
   {
    "duration": 8,
    "start_time": "2024-03-04T18:40:13.356Z"
   },
   {
    "duration": 11,
    "start_time": "2024-03-04T18:40:13.373Z"
   },
   {
    "duration": 44,
    "start_time": "2024-03-04T18:40:13.385Z"
   },
   {
    "duration": 26,
    "start_time": "2024-03-04T18:40:13.430Z"
   },
   {
    "duration": 51,
    "start_time": "2024-03-04T18:40:13.458Z"
   },
   {
    "duration": 18,
    "start_time": "2024-03-04T18:40:30.411Z"
   },
   {
    "duration": 17,
    "start_time": "2024-03-04T18:40:40.253Z"
   },
   {
    "duration": 4,
    "start_time": "2024-03-04T18:41:48.949Z"
   },
   {
    "duration": 40,
    "start_time": "2024-03-04T18:41:48.954Z"
   },
   {
    "duration": 10,
    "start_time": "2024-03-04T18:41:48.996Z"
   },
   {
    "duration": 37,
    "start_time": "2024-03-04T18:41:49.008Z"
   },
   {
    "duration": 11,
    "start_time": "2024-03-04T18:41:49.047Z"
   },
   {
    "duration": 15,
    "start_time": "2024-03-04T18:41:49.060Z"
   },
   {
    "duration": 7,
    "start_time": "2024-03-04T18:41:49.077Z"
   },
   {
    "duration": 26,
    "start_time": "2024-03-04T18:41:49.086Z"
   },
   {
    "duration": 137,
    "start_time": "2024-03-04T18:41:49.114Z"
   },
   {
    "duration": 21,
    "start_time": "2024-03-04T18:41:49.252Z"
   },
   {
    "duration": 29,
    "start_time": "2024-03-04T18:41:49.275Z"
   },
   {
    "duration": 9,
    "start_time": "2024-03-04T18:41:49.305Z"
   },
   {
    "duration": 9,
    "start_time": "2024-03-04T18:41:49.319Z"
   },
   {
    "duration": 12,
    "start_time": "2024-03-04T18:41:49.330Z"
   },
   {
    "duration": 13,
    "start_time": "2024-03-04T18:41:49.343Z"
   },
   {
    "duration": 186,
    "start_time": "2024-03-04T18:41:49.357Z"
   },
   {
    "duration": 5,
    "start_time": "2024-03-04T18:41:49.545Z"
   },
   {
    "duration": 109,
    "start_time": "2024-03-04T18:41:49.551Z"
   },
   {
    "duration": 23,
    "start_time": "2024-03-04T18:41:49.662Z"
   },
   {
    "duration": 184,
    "start_time": "2024-03-04T18:41:49.688Z"
   },
   {
    "duration": 11,
    "start_time": "2024-03-04T18:41:49.879Z"
   },
   {
    "duration": 185,
    "start_time": "2024-03-04T18:41:49.899Z"
   },
   {
    "duration": 11,
    "start_time": "2024-03-04T18:41:50.086Z"
   },
   {
    "duration": 146,
    "start_time": "2024-03-04T18:41:50.099Z"
   },
   {
    "duration": 195,
    "start_time": "2024-03-04T18:41:50.247Z"
   },
   {
    "duration": 10,
    "start_time": "2024-03-04T18:41:50.445Z"
   },
   {
    "duration": 34,
    "start_time": "2024-03-04T18:41:50.457Z"
   },
   {
    "duration": 12,
    "start_time": "2024-03-04T18:41:50.493Z"
   },
   {
    "duration": 199,
    "start_time": "2024-03-04T18:41:50.507Z"
   },
   {
    "duration": 7,
    "start_time": "2024-03-04T18:41:50.708Z"
   },
   {
    "duration": 25,
    "start_time": "2024-03-04T18:41:50.717Z"
   },
   {
    "duration": 25,
    "start_time": "2024-03-04T18:41:50.743Z"
   },
   {
    "duration": 215,
    "start_time": "2024-03-04T18:41:50.773Z"
   },
   {
    "duration": 10,
    "start_time": "2024-03-04T18:41:50.989Z"
   },
   {
    "duration": 23,
    "start_time": "2024-03-04T18:41:51.000Z"
   },
   {
    "duration": 212,
    "start_time": "2024-03-04T18:41:51.025Z"
   },
   {
    "duration": 8,
    "start_time": "2024-03-04T18:41:51.241Z"
   },
   {
    "duration": 8,
    "start_time": "2024-03-04T18:41:51.251Z"
   },
   {
    "duration": 38,
    "start_time": "2024-03-04T18:41:51.273Z"
   },
   {
    "duration": 4,
    "start_time": "2024-03-04T18:41:51.313Z"
   },
   {
    "duration": 33,
    "start_time": "2024-03-04T18:41:51.319Z"
   },
   {
    "duration": 18,
    "start_time": "2024-03-04T18:42:44.308Z"
   },
   {
    "duration": 18,
    "start_time": "2024-03-04T18:42:55.949Z"
   },
   {
    "duration": 3,
    "start_time": "2024-03-04T18:43:05.649Z"
   },
   {
    "duration": 36,
    "start_time": "2024-03-04T18:43:05.657Z"
   },
   {
    "duration": 12,
    "start_time": "2024-03-04T18:43:05.695Z"
   },
   {
    "duration": 35,
    "start_time": "2024-03-04T18:43:05.708Z"
   },
   {
    "duration": 12,
    "start_time": "2024-03-04T18:43:05.744Z"
   },
   {
    "duration": 19,
    "start_time": "2024-03-04T18:43:05.758Z"
   },
   {
    "duration": 20,
    "start_time": "2024-03-04T18:43:05.778Z"
   },
   {
    "duration": 45,
    "start_time": "2024-03-04T18:43:05.799Z"
   },
   {
    "duration": 12,
    "start_time": "2024-03-04T18:43:05.845Z"
   },
   {
    "duration": 8,
    "start_time": "2024-03-04T18:43:05.858Z"
   },
   {
    "duration": 14,
    "start_time": "2024-03-04T18:43:05.867Z"
   },
   {
    "duration": 7,
    "start_time": "2024-03-04T18:43:05.882Z"
   },
   {
    "duration": 15,
    "start_time": "2024-03-04T18:43:05.891Z"
   },
   {
    "duration": 13,
    "start_time": "2024-03-04T18:43:05.907Z"
   },
   {
    "duration": 5,
    "start_time": "2024-03-04T18:43:05.923Z"
   },
   {
    "duration": 165,
    "start_time": "2024-03-04T18:43:05.930Z"
   },
   {
    "duration": 6,
    "start_time": "2024-03-04T18:43:06.097Z"
   },
   {
    "duration": 112,
    "start_time": "2024-03-04T18:43:06.104Z"
   },
   {
    "duration": 6,
    "start_time": "2024-03-04T18:43:06.217Z"
   },
   {
    "duration": 187,
    "start_time": "2024-03-04T18:43:06.224Z"
   },
   {
    "duration": 9,
    "start_time": "2024-03-04T18:43:06.414Z"
   },
   {
    "duration": 176,
    "start_time": "2024-03-04T18:43:06.424Z"
   },
   {
    "duration": 9,
    "start_time": "2024-03-04T18:43:06.602Z"
   },
   {
    "duration": 135,
    "start_time": "2024-03-04T18:43:06.612Z"
   },
   {
    "duration": 202,
    "start_time": "2024-03-04T18:43:06.749Z"
   },
   {
    "duration": 11,
    "start_time": "2024-03-04T18:43:06.953Z"
   },
   {
    "duration": 20,
    "start_time": "2024-03-04T18:43:06.974Z"
   },
   {
    "duration": 18,
    "start_time": "2024-03-04T18:43:06.996Z"
   },
   {
    "duration": 191,
    "start_time": "2024-03-04T18:43:07.016Z"
   },
   {
    "duration": 5,
    "start_time": "2024-03-04T18:43:07.209Z"
   },
   {
    "duration": 34,
    "start_time": "2024-03-04T18:43:07.215Z"
   },
   {
    "duration": 14,
    "start_time": "2024-03-04T18:43:07.251Z"
   },
   {
    "duration": 197,
    "start_time": "2024-03-04T18:43:07.272Z"
   },
   {
    "duration": 11,
    "start_time": "2024-03-04T18:43:07.473Z"
   },
   {
    "duration": 10,
    "start_time": "2024-03-04T18:43:07.486Z"
   },
   {
    "duration": 211,
    "start_time": "2024-03-04T18:43:07.498Z"
   },
   {
    "duration": 8,
    "start_time": "2024-03-04T18:43:07.711Z"
   },
   {
    "duration": 12,
    "start_time": "2024-03-04T18:43:07.721Z"
   },
   {
    "duration": 60,
    "start_time": "2024-03-04T18:43:07.734Z"
   },
   {
    "duration": 5,
    "start_time": "2024-03-04T18:43:07.796Z"
   },
   {
    "duration": 20,
    "start_time": "2024-03-04T18:43:07.802Z"
   },
   {
    "duration": 6,
    "start_time": "2024-03-04T18:45:35.499Z"
   },
   {
    "duration": 19,
    "start_time": "2024-03-04T18:57:35.409Z"
   },
   {
    "duration": 6,
    "start_time": "2024-03-04T18:59:01.948Z"
   },
   {
    "duration": 68,
    "start_time": "2024-03-04T19:03:09.930Z"
   },
   {
    "duration": 3,
    "start_time": "2024-03-04T19:03:49.009Z"
   },
   {
    "duration": 3,
    "start_time": "2024-03-04T19:04:20.436Z"
   },
   {
    "duration": 7,
    "start_time": "2024-03-04T19:04:27.043Z"
   },
   {
    "duration": 17,
    "start_time": "2024-03-04T19:05:09.589Z"
   },
   {
    "duration": 9,
    "start_time": "2024-03-04T19:05:22.812Z"
   },
   {
    "duration": 9,
    "start_time": "2024-03-04T19:06:57.539Z"
   },
   {
    "duration": 14,
    "start_time": "2024-03-04T19:35:05.633Z"
   },
   {
    "duration": 11,
    "start_time": "2024-03-04T19:35:40.325Z"
   },
   {
    "duration": 10,
    "start_time": "2024-03-04T19:35:59.902Z"
   },
   {
    "duration": 10,
    "start_time": "2024-03-04T19:36:08.512Z"
   },
   {
    "duration": 14,
    "start_time": "2024-03-04T19:36:21.445Z"
   },
   {
    "duration": 16,
    "start_time": "2024-03-04T19:36:32.275Z"
   },
   {
    "duration": 13,
    "start_time": "2024-03-04T19:46:30.707Z"
   },
   {
    "duration": 12,
    "start_time": "2024-03-04T19:47:04.828Z"
   },
   {
    "duration": 23,
    "start_time": "2024-03-04T19:48:04.273Z"
   },
   {
    "duration": 138,
    "start_time": "2024-03-04T19:48:38.914Z"
   },
   {
    "duration": 12,
    "start_time": "2024-03-04T19:49:14.923Z"
   },
   {
    "duration": 10,
    "start_time": "2024-03-04T19:49:57.819Z"
   },
   {
    "duration": 10,
    "start_time": "2024-03-04T19:49:59.819Z"
   },
   {
    "duration": 11,
    "start_time": "2024-03-04T19:50:13.113Z"
   },
   {
    "duration": 10,
    "start_time": "2024-03-04T19:50:16.844Z"
   },
   {
    "duration": 10,
    "start_time": "2024-03-04T19:50:50.308Z"
   },
   {
    "duration": 11,
    "start_time": "2024-03-04T19:50:59.803Z"
   },
   {
    "duration": 17,
    "start_time": "2024-03-04T19:51:20.073Z"
   },
   {
    "duration": 14,
    "start_time": "2024-03-04T19:51:35.266Z"
   },
   {
    "duration": 4,
    "start_time": "2024-03-04T19:55:50.186Z"
   },
   {
    "duration": 9,
    "start_time": "2024-03-04T19:55:57.003Z"
   },
   {
    "duration": 9,
    "start_time": "2024-03-04T20:00:25.014Z"
   },
   {
    "duration": 9,
    "start_time": "2024-03-04T20:00:48.705Z"
   },
   {
    "duration": 10,
    "start_time": "2024-03-04T20:01:49.624Z"
   },
   {
    "duration": 11,
    "start_time": "2024-03-04T20:03:01.244Z"
   },
   {
    "duration": 7,
    "start_time": "2024-03-04T20:04:01.581Z"
   },
   {
    "duration": 217,
    "start_time": "2024-03-04T20:10:14.227Z"
   },
   {
    "duration": 7,
    "start_time": "2024-03-04T20:12:13.133Z"
   },
   {
    "duration": 8,
    "start_time": "2024-03-04T20:15:15.101Z"
   },
   {
    "duration": 3,
    "start_time": "2024-03-04T20:16:26.362Z"
   },
   {
    "duration": 35,
    "start_time": "2024-03-04T20:16:26.372Z"
   },
   {
    "duration": 10,
    "start_time": "2024-03-04T20:16:26.409Z"
   },
   {
    "duration": 41,
    "start_time": "2024-03-04T20:16:26.420Z"
   },
   {
    "duration": 11,
    "start_time": "2024-03-04T20:16:26.463Z"
   },
   {
    "duration": 6,
    "start_time": "2024-03-04T20:16:26.476Z"
   },
   {
    "duration": 23,
    "start_time": "2024-03-04T20:16:26.484Z"
   },
   {
    "duration": 22,
    "start_time": "2024-03-04T20:16:26.509Z"
   },
   {
    "duration": 9,
    "start_time": "2024-03-04T20:16:26.533Z"
   },
   {
    "duration": 7,
    "start_time": "2024-03-04T20:16:26.544Z"
   },
   {
    "duration": 12,
    "start_time": "2024-03-04T20:16:26.552Z"
   },
   {
    "duration": 12,
    "start_time": "2024-03-04T20:16:26.565Z"
   },
   {
    "duration": 10,
    "start_time": "2024-03-04T20:16:26.579Z"
   },
   {
    "duration": 22,
    "start_time": "2024-03-04T20:16:26.590Z"
   },
   {
    "duration": 5,
    "start_time": "2024-03-04T20:16:26.616Z"
   },
   {
    "duration": 183,
    "start_time": "2024-03-04T20:16:26.622Z"
   },
   {
    "duration": 8,
    "start_time": "2024-03-04T20:16:26.807Z"
   },
   {
    "duration": 109,
    "start_time": "2024-03-04T20:16:26.817Z"
   },
   {
    "duration": 6,
    "start_time": "2024-03-04T20:16:26.928Z"
   },
   {
    "duration": 210,
    "start_time": "2024-03-04T20:16:26.935Z"
   },
   {
    "duration": 8,
    "start_time": "2024-03-04T20:16:27.146Z"
   },
   {
    "duration": 184,
    "start_time": "2024-03-04T20:16:27.156Z"
   },
   {
    "duration": 8,
    "start_time": "2024-03-04T20:16:27.341Z"
   },
   {
    "duration": 142,
    "start_time": "2024-03-04T20:16:27.351Z"
   },
   {
    "duration": 177,
    "start_time": "2024-03-04T20:16:27.494Z"
   },
   {
    "duration": 13,
    "start_time": "2024-03-04T20:16:27.672Z"
   },
   {
    "duration": 29,
    "start_time": "2024-03-04T20:16:27.686Z"
   },
   {
    "duration": 10,
    "start_time": "2024-03-04T20:16:27.717Z"
   },
   {
    "duration": 184,
    "start_time": "2024-03-04T20:16:27.729Z"
   },
   {
    "duration": 5,
    "start_time": "2024-03-04T20:16:27.915Z"
   },
   {
    "duration": 31,
    "start_time": "2024-03-04T20:16:27.922Z"
   },
   {
    "duration": 19,
    "start_time": "2024-03-04T20:16:27.955Z"
   },
   {
    "duration": 221,
    "start_time": "2024-03-04T20:16:27.975Z"
   },
   {
    "duration": 9,
    "start_time": "2024-03-04T20:16:28.198Z"
   },
   {
    "duration": 9,
    "start_time": "2024-03-04T20:16:28.209Z"
   },
   {
    "duration": 201,
    "start_time": "2024-03-04T20:16:28.219Z"
   },
   {
    "duration": 8,
    "start_time": "2024-03-04T20:16:28.422Z"
   },
   {
    "duration": 7,
    "start_time": "2024-03-04T20:16:28.431Z"
   },
   {
    "duration": 55,
    "start_time": "2024-03-04T20:16:28.439Z"
   },
   {
    "duration": 6,
    "start_time": "2024-03-04T20:16:28.496Z"
   },
   {
    "duration": 22,
    "start_time": "2024-03-04T20:16:28.504Z"
   },
   {
    "duration": 10,
    "start_time": "2024-03-04T20:16:28.530Z"
   },
   {
    "duration": 20,
    "start_time": "2024-03-04T20:16:28.541Z"
   },
   {
    "duration": 10,
    "start_time": "2024-03-04T20:16:28.563Z"
   },
   {
    "duration": 14,
    "start_time": "2024-03-04T20:16:28.575Z"
   },
   {
    "duration": 17,
    "start_time": "2024-03-04T20:16:28.591Z"
   },
   {
    "duration": 9,
    "start_time": "2024-03-04T20:16:28.610Z"
   },
   {
    "duration": 8,
    "start_time": "2024-03-04T20:17:43.744Z"
   },
   {
    "duration": 8,
    "start_time": "2024-03-04T20:17:49.460Z"
   },
   {
    "duration": 9,
    "start_time": "2024-03-04T20:23:33.745Z"
   },
   {
    "duration": 8,
    "start_time": "2024-03-04T20:23:42.300Z"
   },
   {
    "duration": 1590,
    "start_time": "2024-03-04T20:34:33.676Z"
   },
   {
    "duration": 1720,
    "start_time": "2024-03-04T20:34:51.522Z"
   },
   {
    "duration": 7,
    "start_time": "2024-03-04T20:36:23.816Z"
   },
   {
    "duration": 7,
    "start_time": "2024-03-04T20:39:27.064Z"
   },
   {
    "duration": 6,
    "start_time": "2024-03-04T20:44:44.060Z"
   },
   {
    "duration": 7,
    "start_time": "2024-03-04T20:45:57.461Z"
   },
   {
    "duration": 6,
    "start_time": "2024-03-04T20:46:10.988Z"
   },
   {
    "duration": 6,
    "start_time": "2024-03-04T21:03:10.224Z"
   },
   {
    "duration": 8,
    "start_time": "2024-03-04T21:03:50.683Z"
   },
   {
    "duration": 16,
    "start_time": "2024-03-04T21:04:01.402Z"
   },
   {
    "duration": 9,
    "start_time": "2024-03-04T21:04:13.463Z"
   },
   {
    "duration": 15,
    "start_time": "2024-03-04T21:05:43.284Z"
   },
   {
    "duration": 20,
    "start_time": "2024-03-04T21:07:47.272Z"
   },
   {
    "duration": 9,
    "start_time": "2024-03-04T21:08:01.685Z"
   },
   {
    "duration": 9,
    "start_time": "2024-03-04T21:14:39.314Z"
   },
   {
    "duration": 8,
    "start_time": "2024-03-04T21:15:55.471Z"
   },
   {
    "duration": 1699,
    "start_time": "2024-03-04T21:45:01.249Z"
   },
   {
    "duration": 1692,
    "start_time": "2024-03-04T21:46:31.438Z"
   },
   {
    "duration": 3,
    "start_time": "2024-03-04T22:08:55.671Z"
   },
   {
    "duration": 71,
    "start_time": "2024-03-04T22:08:55.676Z"
   },
   {
    "duration": 10,
    "start_time": "2024-03-04T22:08:55.749Z"
   },
   {
    "duration": 49,
    "start_time": "2024-03-04T22:08:55.761Z"
   },
   {
    "duration": 13,
    "start_time": "2024-03-04T22:08:55.812Z"
   },
   {
    "duration": 36,
    "start_time": "2024-03-04T22:08:55.827Z"
   },
   {
    "duration": 18,
    "start_time": "2024-03-04T22:08:55.865Z"
   },
   {
    "duration": 50,
    "start_time": "2024-03-04T22:08:55.885Z"
   },
   {
    "duration": 11,
    "start_time": "2024-03-04T22:08:55.936Z"
   },
   {
    "duration": 37,
    "start_time": "2024-03-04T22:08:55.949Z"
   },
   {
    "duration": 27,
    "start_time": "2024-03-04T22:08:55.989Z"
   },
   {
    "duration": 14,
    "start_time": "2024-03-04T22:08:56.018Z"
   },
   {
    "duration": 19,
    "start_time": "2024-03-04T22:08:56.034Z"
   },
   {
    "duration": 26,
    "start_time": "2024-03-04T22:08:56.055Z"
   },
   {
    "duration": 22,
    "start_time": "2024-03-04T22:08:56.083Z"
   },
   {
    "duration": 152,
    "start_time": "2024-03-04T22:08:56.107Z"
   },
   {
    "duration": 6,
    "start_time": "2024-03-04T22:08:56.260Z"
   },
   {
    "duration": 103,
    "start_time": "2024-03-04T22:08:56.267Z"
   },
   {
    "duration": 6,
    "start_time": "2024-03-04T22:08:56.373Z"
   },
   {
    "duration": 170,
    "start_time": "2024-03-04T22:08:56.380Z"
   },
   {
    "duration": 8,
    "start_time": "2024-03-04T22:08:56.551Z"
   },
   {
    "duration": 174,
    "start_time": "2024-03-04T22:08:56.560Z"
   },
   {
    "duration": 8,
    "start_time": "2024-03-04T22:08:56.736Z"
   },
   {
    "duration": 398,
    "start_time": "2024-03-04T22:08:56.745Z"
   },
   {
    "duration": 166,
    "start_time": "2024-03-04T22:08:57.145Z"
   },
   {
    "duration": 8,
    "start_time": "2024-03-04T22:08:57.313Z"
   },
   {
    "duration": 13,
    "start_time": "2024-03-04T22:08:57.322Z"
   },
   {
    "duration": 15,
    "start_time": "2024-03-04T22:08:57.337Z"
   },
   {
    "duration": 154,
    "start_time": "2024-03-04T22:08:57.372Z"
   },
   {
    "duration": 5,
    "start_time": "2024-03-04T22:08:57.528Z"
   },
   {
    "duration": 34,
    "start_time": "2024-03-04T22:08:57.534Z"
   },
   {
    "duration": 20,
    "start_time": "2024-03-04T22:08:57.569Z"
   },
   {
    "duration": 192,
    "start_time": "2024-03-04T22:08:57.590Z"
   },
   {
    "duration": 9,
    "start_time": "2024-03-04T22:08:57.784Z"
   },
   {
    "duration": 17,
    "start_time": "2024-03-04T22:08:57.794Z"
   },
   {
    "duration": 180,
    "start_time": "2024-03-04T22:08:57.813Z"
   },
   {
    "duration": 9,
    "start_time": "2024-03-04T22:08:57.994Z"
   },
   {
    "duration": 18,
    "start_time": "2024-03-04T22:08:58.004Z"
   },
   {
    "duration": 54,
    "start_time": "2024-03-04T22:08:58.024Z"
   },
   {
    "duration": 5,
    "start_time": "2024-03-04T22:08:58.080Z"
   },
   {
    "duration": 51,
    "start_time": "2024-03-04T22:08:58.087Z"
   },
   {
    "duration": 7,
    "start_time": "2024-03-04T22:08:58.140Z"
   },
   {
    "duration": 21,
    "start_time": "2024-03-04T22:08:58.149Z"
   },
   {
    "duration": 27,
    "start_time": "2024-03-04T22:08:58.171Z"
   },
   {
    "duration": 48,
    "start_time": "2024-03-04T22:08:58.200Z"
   },
   {
    "duration": 33,
    "start_time": "2024-03-04T22:08:58.250Z"
   },
   {
    "duration": 23,
    "start_time": "2024-03-04T22:08:58.285Z"
   },
   {
    "duration": 54,
    "start_time": "2024-03-04T22:08:58.310Z"
   },
   {
    "duration": 0,
    "start_time": "2024-03-04T22:08:58.366Z"
   },
   {
    "duration": 12,
    "start_time": "2024-03-04T22:12:42.022Z"
   },
   {
    "duration": 1507,
    "start_time": "2024-03-04T22:12:48.302Z"
   },
   {
    "duration": 2506,
    "start_time": "2024-03-04T22:12:55.520Z"
   },
   {
    "duration": 2549,
    "start_time": "2024-03-04T22:13:07.872Z"
   },
   {
    "duration": 1962,
    "start_time": "2024-03-04T22:13:13.192Z"
   },
   {
    "duration": 1484,
    "start_time": "2024-03-04T22:24:17.782Z"
   },
   {
    "duration": 97,
    "start_time": "2024-03-04T22:29:08.184Z"
   },
   {
    "duration": 95,
    "start_time": "2024-03-04T22:29:26.203Z"
   },
   {
    "duration": 93,
    "start_time": "2024-03-04T22:29:33.584Z"
   },
   {
    "duration": 1993,
    "start_time": "2024-03-04T22:30:20.471Z"
   },
   {
    "duration": 269,
    "start_time": "2024-03-04T22:32:52.556Z"
   },
   {
    "duration": 1510,
    "start_time": "2024-03-04T22:33:03.776Z"
   },
   {
    "duration": 2420,
    "start_time": "2024-03-04T22:37:24.128Z"
   },
   {
    "duration": 1736,
    "start_time": "2024-03-04T22:37:43.403Z"
   },
   {
    "duration": 2385,
    "start_time": "2024-03-04T22:37:50.639Z"
   },
   {
    "duration": 1717,
    "start_time": "2024-03-04T22:38:38.903Z"
   },
   {
    "duration": 131,
    "start_time": "2024-03-04T22:39:38.656Z"
   },
   {
    "duration": 126,
    "start_time": "2024-03-04T22:39:58.437Z"
   },
   {
    "duration": 104,
    "start_time": "2024-03-04T22:40:13.831Z"
   },
   {
    "duration": 113,
    "start_time": "2024-03-04T22:40:55.997Z"
   },
   {
    "duration": 109,
    "start_time": "2024-03-04T22:41:10.904Z"
   },
   {
    "duration": 2549,
    "start_time": "2024-03-04T22:41:18.616Z"
   },
   {
    "duration": 1726,
    "start_time": "2024-03-04T22:43:35.077Z"
   },
   {
    "duration": 1778,
    "start_time": "2024-03-04T22:44:16.599Z"
   },
   {
    "duration": 2722,
    "start_time": "2024-03-04T22:44:38.199Z"
   },
   {
    "duration": 1769,
    "start_time": "2024-03-04T22:45:05.013Z"
   },
   {
    "duration": 1770,
    "start_time": "2024-03-04T22:50:28.918Z"
   },
   {
    "duration": 3076,
    "start_time": "2024-03-04T22:50:35.318Z"
   },
   {
    "duration": 350,
    "start_time": "2024-03-04T22:50:44.448Z"
   },
   {
    "duration": 263,
    "start_time": "2024-03-04T22:50:49.018Z"
   },
   {
    "duration": 1900,
    "start_time": "2024-03-04T22:51:05.476Z"
   },
   {
    "duration": 1866,
    "start_time": "2024-03-04T22:51:11.359Z"
   },
   {
    "duration": 297,
    "start_time": "2024-03-04T22:51:16.926Z"
   },
   {
    "duration": 321,
    "start_time": "2024-03-04T22:51:19.988Z"
   },
   {
    "duration": 304,
    "start_time": "2024-03-04T22:51:22.845Z"
   },
   {
    "duration": 351,
    "start_time": "2024-03-04T22:51:26.526Z"
   },
   {
    "duration": 311,
    "start_time": "2024-03-04T22:51:30.707Z"
   },
   {
    "duration": 1921,
    "start_time": "2024-03-04T22:51:35.738Z"
   },
   {
    "duration": 3269,
    "start_time": "2024-03-04T22:51:48.305Z"
   },
   {
    "duration": 1771,
    "start_time": "2024-03-04T22:58:31.384Z"
   },
   {
    "duration": 8,
    "start_time": "2024-03-04T23:10:28.474Z"
   },
   {
    "duration": 6,
    "start_time": "2024-03-04T23:11:49.376Z"
   },
   {
    "duration": 6,
    "start_time": "2024-03-04T23:12:01.855Z"
   },
   {
    "duration": 5,
    "start_time": "2024-03-04T23:12:25.563Z"
   },
   {
    "duration": 6,
    "start_time": "2024-03-04T23:12:37.443Z"
   },
   {
    "duration": 6,
    "start_time": "2024-03-04T23:12:58.611Z"
   },
   {
    "duration": 6,
    "start_time": "2024-03-04T23:13:24.951Z"
   },
   {
    "duration": 19,
    "start_time": "2024-03-04T23:16:22.176Z"
   },
   {
    "duration": 13,
    "start_time": "2024-03-04T23:18:25.851Z"
   },
   {
    "duration": 12,
    "start_time": "2024-03-04T23:21:51.020Z"
   },
   {
    "duration": 13,
    "start_time": "2024-03-04T23:22:57.103Z"
   },
   {
    "duration": 260,
    "start_time": "2024-03-04T23:23:22.671Z"
   },
   {
    "duration": 229,
    "start_time": "2024-03-04T23:24:05.119Z"
   },
   {
    "duration": 160,
    "start_time": "2024-03-04T23:27:40.372Z"
   },
   {
    "duration": 161,
    "start_time": "2024-03-04T23:31:58.431Z"
   },
   {
    "duration": 123,
    "start_time": "2024-03-04T23:33:05.527Z"
   },
   {
    "duration": 106,
    "start_time": "2024-03-04T23:33:45.090Z"
   },
   {
    "duration": 108,
    "start_time": "2024-03-04T23:34:01.750Z"
   },
   {
    "duration": 14,
    "start_time": "2024-03-04T23:34:35.826Z"
   },
   {
    "duration": 154,
    "start_time": "2024-03-04T23:34:51.962Z"
   },
   {
    "duration": 167,
    "start_time": "2024-03-04T23:35:20.743Z"
   },
   {
    "duration": 163,
    "start_time": "2024-03-04T23:35:46.040Z"
   },
   {
    "duration": 150,
    "start_time": "2024-03-04T23:37:52.300Z"
   },
   {
    "duration": 190,
    "start_time": "2024-03-04T23:39:00.393Z"
   },
   {
    "duration": 182,
    "start_time": "2024-03-04T23:39:24.763Z"
   },
   {
    "duration": 179,
    "start_time": "2024-03-04T23:39:36.153Z"
   },
   {
    "duration": 195,
    "start_time": "2024-03-04T23:39:47.882Z"
   },
   {
    "duration": 177,
    "start_time": "2024-03-04T23:40:01.833Z"
   },
   {
    "duration": 180,
    "start_time": "2024-03-04T23:40:09.421Z"
   },
   {
    "duration": 188,
    "start_time": "2024-03-04T23:40:26.278Z"
   },
   {
    "duration": 186,
    "start_time": "2024-03-04T23:40:36.526Z"
   },
   {
    "duration": 185,
    "start_time": "2024-03-04T23:42:15.320Z"
   },
   {
    "duration": 187,
    "start_time": "2024-03-04T23:42:24.043Z"
   },
   {
    "duration": 172,
    "start_time": "2024-03-04T23:44:23.563Z"
   },
   {
    "duration": 174,
    "start_time": "2024-03-04T23:46:44.087Z"
   },
   {
    "duration": 223,
    "start_time": "2024-03-04T23:51:03.205Z"
   },
   {
    "duration": 171,
    "start_time": "2024-03-05T00:35:39.110Z"
   },
   {
    "duration": 3,
    "start_time": "2024-03-05T00:44:04.368Z"
   },
   {
    "duration": 38,
    "start_time": "2024-03-05T00:44:04.373Z"
   },
   {
    "duration": 10,
    "start_time": "2024-03-05T00:44:04.412Z"
   },
   {
    "duration": 37,
    "start_time": "2024-03-05T00:44:04.424Z"
   },
   {
    "duration": 11,
    "start_time": "2024-03-05T00:44:04.463Z"
   },
   {
    "duration": 5,
    "start_time": "2024-03-05T00:44:04.475Z"
   },
   {
    "duration": 7,
    "start_time": "2024-03-05T00:44:04.482Z"
   },
   {
    "duration": 24,
    "start_time": "2024-03-05T00:44:04.491Z"
   },
   {
    "duration": 10,
    "start_time": "2024-03-05T00:44:04.517Z"
   },
   {
    "duration": 15,
    "start_time": "2024-03-05T00:44:04.528Z"
   },
   {
    "duration": 17,
    "start_time": "2024-03-05T00:44:04.544Z"
   },
   {
    "duration": 15,
    "start_time": "2024-03-05T00:44:04.563Z"
   },
   {
    "duration": 11,
    "start_time": "2024-03-05T00:44:04.580Z"
   },
   {
    "duration": 22,
    "start_time": "2024-03-05T00:44:04.593Z"
   },
   {
    "duration": 8,
    "start_time": "2024-03-05T00:44:04.617Z"
   },
   {
    "duration": 183,
    "start_time": "2024-03-05T00:44:04.626Z"
   },
   {
    "duration": 5,
    "start_time": "2024-03-05T00:44:04.811Z"
   },
   {
    "duration": 105,
    "start_time": "2024-03-05T00:44:04.817Z"
   },
   {
    "duration": 5,
    "start_time": "2024-03-05T00:44:04.923Z"
   },
   {
    "duration": 179,
    "start_time": "2024-03-05T00:44:04.930Z"
   },
   {
    "duration": 8,
    "start_time": "2024-03-05T00:44:05.110Z"
   },
   {
    "duration": 165,
    "start_time": "2024-03-05T00:44:05.119Z"
   },
   {
    "duration": 8,
    "start_time": "2024-03-05T00:44:05.286Z"
   },
   {
    "duration": 127,
    "start_time": "2024-03-05T00:44:05.297Z"
   },
   {
    "duration": 149,
    "start_time": "2024-03-05T00:44:05.425Z"
   },
   {
    "duration": 8,
    "start_time": "2024-03-05T00:44:05.576Z"
   },
   {
    "duration": 16,
    "start_time": "2024-03-05T00:44:05.585Z"
   },
   {
    "duration": 11,
    "start_time": "2024-03-05T00:44:05.603Z"
   },
   {
    "duration": 162,
    "start_time": "2024-03-05T00:44:05.616Z"
   },
   {
    "duration": 5,
    "start_time": "2024-03-05T00:44:05.780Z"
   },
   {
    "duration": 22,
    "start_time": "2024-03-05T00:44:05.786Z"
   },
   {
    "duration": 13,
    "start_time": "2024-03-05T00:44:05.810Z"
   },
   {
    "duration": 210,
    "start_time": "2024-03-05T00:44:05.825Z"
   },
   {
    "duration": 8,
    "start_time": "2024-03-05T00:44:06.036Z"
   },
   {
    "duration": 8,
    "start_time": "2024-03-05T00:44:06.046Z"
   },
   {
    "duration": 184,
    "start_time": "2024-03-05T00:44:06.055Z"
   },
   {
    "duration": 8,
    "start_time": "2024-03-05T00:44:06.241Z"
   },
   {
    "duration": 22,
    "start_time": "2024-03-05T00:44:06.251Z"
   },
   {
    "duration": 30,
    "start_time": "2024-03-05T00:44:06.275Z"
   },
   {
    "duration": 4,
    "start_time": "2024-03-05T00:44:06.307Z"
   },
   {
    "duration": 17,
    "start_time": "2024-03-05T00:44:06.312Z"
   },
   {
    "duration": 5,
    "start_time": "2024-03-05T00:44:06.330Z"
   },
   {
    "duration": 17,
    "start_time": "2024-03-05T00:44:06.336Z"
   },
   {
    "duration": 24,
    "start_time": "2024-03-05T00:44:06.354Z"
   },
   {
    "duration": 6,
    "start_time": "2024-03-05T00:44:06.380Z"
   },
   {
    "duration": 15,
    "start_time": "2024-03-05T00:44:06.387Z"
   },
   {
    "duration": 7,
    "start_time": "2024-03-05T00:44:06.404Z"
   },
   {
    "duration": 1726,
    "start_time": "2024-03-05T00:44:06.412Z"
   },
   {
    "duration": 193,
    "start_time": "2024-03-05T00:44:08.140Z"
   },
   {
    "duration": 1749,
    "start_time": "2024-03-05T00:46:42.721Z"
   },
   {
    "duration": 3,
    "start_time": "2024-03-05T00:46:50.848Z"
   },
   {
    "duration": 44,
    "start_time": "2024-03-05T00:46:50.853Z"
   },
   {
    "duration": 11,
    "start_time": "2024-03-05T00:46:50.898Z"
   },
   {
    "duration": 41,
    "start_time": "2024-03-05T00:46:50.911Z"
   },
   {
    "duration": 11,
    "start_time": "2024-03-05T00:46:50.954Z"
   },
   {
    "duration": 11,
    "start_time": "2024-03-05T00:46:50.967Z"
   },
   {
    "duration": 9,
    "start_time": "2024-03-05T00:46:50.979Z"
   },
   {
    "duration": 34,
    "start_time": "2024-03-05T00:46:50.990Z"
   },
   {
    "duration": 10,
    "start_time": "2024-03-05T00:46:51.025Z"
   },
   {
    "duration": 8,
    "start_time": "2024-03-05T00:46:51.037Z"
   },
   {
    "duration": 16,
    "start_time": "2024-03-05T00:46:51.047Z"
   },
   {
    "duration": 5,
    "start_time": "2024-03-05T00:46:51.065Z"
   },
   {
    "duration": 9,
    "start_time": "2024-03-05T00:46:51.072Z"
   },
   {
    "duration": 11,
    "start_time": "2024-03-05T00:46:51.084Z"
   },
   {
    "duration": 5,
    "start_time": "2024-03-05T00:46:51.097Z"
   },
   {
    "duration": 155,
    "start_time": "2024-03-05T00:46:51.103Z"
   },
   {
    "duration": 14,
    "start_time": "2024-03-05T00:46:51.260Z"
   },
   {
    "duration": 101,
    "start_time": "2024-03-05T00:46:51.276Z"
   },
   {
    "duration": 6,
    "start_time": "2024-03-05T00:46:51.378Z"
   },
   {
    "duration": 174,
    "start_time": "2024-03-05T00:46:51.385Z"
   },
   {
    "duration": 14,
    "start_time": "2024-03-05T00:46:51.560Z"
   },
   {
    "duration": 164,
    "start_time": "2024-03-05T00:46:51.575Z"
   },
   {
    "duration": 8,
    "start_time": "2024-03-05T00:46:51.741Z"
   },
   {
    "duration": 1885,
    "start_time": "2024-03-05T00:46:51.751Z"
   },
   {
    "duration": 160,
    "start_time": "2024-03-05T00:46:53.638Z"
   },
   {
    "duration": 9,
    "start_time": "2024-03-05T00:46:53.799Z"
   },
   {
    "duration": 9,
    "start_time": "2024-03-05T00:46:53.810Z"
   },
   {
    "duration": 10,
    "start_time": "2024-03-05T00:46:53.821Z"
   },
   {
    "duration": 180,
    "start_time": "2024-03-05T00:46:53.833Z"
   },
   {
    "duration": 5,
    "start_time": "2024-03-05T00:46:54.015Z"
   },
   {
    "duration": 17,
    "start_time": "2024-03-05T00:46:54.021Z"
   },
   {
    "duration": 34,
    "start_time": "2024-03-05T00:46:54.040Z"
   },
   {
    "duration": 175,
    "start_time": "2024-03-05T00:46:54.076Z"
   },
   {
    "duration": 9,
    "start_time": "2024-03-05T00:46:54.253Z"
   },
   {
    "duration": 8,
    "start_time": "2024-03-05T00:46:54.272Z"
   },
   {
    "duration": 175,
    "start_time": "2024-03-05T00:46:54.282Z"
   },
   {
    "duration": 17,
    "start_time": "2024-03-05T00:46:54.458Z"
   },
   {
    "duration": 7,
    "start_time": "2024-03-05T00:46:54.477Z"
   },
   {
    "duration": 39,
    "start_time": "2024-03-05T00:46:54.486Z"
   },
   {
    "duration": 5,
    "start_time": "2024-03-05T00:46:54.527Z"
   },
   {
    "duration": 20,
    "start_time": "2024-03-05T00:46:54.536Z"
   },
   {
    "duration": 17,
    "start_time": "2024-03-05T00:46:54.557Z"
   },
   {
    "duration": 4,
    "start_time": "2024-03-05T00:46:54.575Z"
   },
   {
    "duration": 17,
    "start_time": "2024-03-05T00:46:54.581Z"
   },
   {
    "duration": 19,
    "start_time": "2024-03-05T00:46:54.600Z"
   },
   {
    "duration": 20,
    "start_time": "2024-03-05T00:46:54.621Z"
   },
   {
    "duration": 9,
    "start_time": "2024-03-05T00:46:54.643Z"
   },
   {
    "duration": 1712,
    "start_time": "2024-03-05T00:46:54.653Z"
   },
   {
    "duration": 179,
    "start_time": "2024-03-05T00:46:56.367Z"
   },
   {
    "duration": 1167,
    "start_time": "2024-03-05T07:21:04.743Z"
   },
   {
    "duration": 148,
    "start_time": "2024-03-05T07:21:05.912Z"
   },
   {
    "duration": 11,
    "start_time": "2024-03-05T07:21:06.061Z"
   },
   {
    "duration": 84,
    "start_time": "2024-03-05T07:21:06.074Z"
   },
   {
    "duration": 11,
    "start_time": "2024-03-05T07:21:06.159Z"
   },
   {
    "duration": 5,
    "start_time": "2024-03-05T07:21:06.171Z"
   },
   {
    "duration": 6,
    "start_time": "2024-03-05T07:21:06.178Z"
   },
   {
    "duration": 60,
    "start_time": "2024-03-05T07:21:06.185Z"
   },
   {
    "duration": 10,
    "start_time": "2024-03-05T07:21:06.246Z"
   },
   {
    "duration": 8,
    "start_time": "2024-03-05T07:21:06.258Z"
   },
   {
    "duration": 13,
    "start_time": "2024-03-05T07:21:06.267Z"
   },
   {
    "duration": 5,
    "start_time": "2024-03-05T07:21:06.282Z"
   },
   {
    "duration": 17,
    "start_time": "2024-03-05T07:21:06.288Z"
   },
   {
    "duration": 11,
    "start_time": "2024-03-05T07:21:06.307Z"
   },
   {
    "duration": 5,
    "start_time": "2024-03-05T07:21:06.319Z"
   },
   {
    "duration": 156,
    "start_time": "2024-03-05T07:21:06.325Z"
   },
   {
    "duration": 5,
    "start_time": "2024-03-05T07:21:06.483Z"
   },
   {
    "duration": 90,
    "start_time": "2024-03-05T07:21:06.489Z"
   },
   {
    "duration": 5,
    "start_time": "2024-03-05T07:21:06.581Z"
   },
   {
    "duration": 160,
    "start_time": "2024-03-05T07:21:06.587Z"
   },
   {
    "duration": 7,
    "start_time": "2024-03-05T07:21:06.748Z"
   },
   {
    "duration": 144,
    "start_time": "2024-03-05T07:21:06.756Z"
   },
   {
    "duration": 8,
    "start_time": "2024-03-05T07:21:06.901Z"
   },
   {
    "duration": 103,
    "start_time": "2024-03-05T07:21:06.917Z"
   },
   {
    "duration": 141,
    "start_time": "2024-03-05T07:21:07.022Z"
   },
   {
    "duration": 8,
    "start_time": "2024-03-05T07:21:07.164Z"
   },
   {
    "duration": 41,
    "start_time": "2024-03-05T07:21:07.173Z"
   },
   {
    "duration": 25,
    "start_time": "2024-03-05T07:21:07.218Z"
   },
   {
    "duration": 138,
    "start_time": "2024-03-05T07:21:07.244Z"
   },
   {
    "duration": 4,
    "start_time": "2024-03-05T07:21:07.384Z"
   },
   {
    "duration": 33,
    "start_time": "2024-03-05T07:21:07.390Z"
   },
   {
    "duration": 20,
    "start_time": "2024-03-05T07:21:07.425Z"
   },
   {
    "duration": 186,
    "start_time": "2024-03-05T07:21:07.447Z"
   },
   {
    "duration": 9,
    "start_time": "2024-03-05T07:21:07.634Z"
   },
   {
    "duration": 21,
    "start_time": "2024-03-05T07:21:07.645Z"
   },
   {
    "duration": 181,
    "start_time": "2024-03-05T07:21:07.668Z"
   },
   {
    "duration": 8,
    "start_time": "2024-03-05T07:21:07.850Z"
   },
   {
    "duration": 33,
    "start_time": "2024-03-05T07:21:07.860Z"
   },
   {
    "duration": 50,
    "start_time": "2024-03-05T07:21:07.894Z"
   },
   {
    "duration": 11,
    "start_time": "2024-03-05T07:21:07.946Z"
   },
   {
    "duration": 25,
    "start_time": "2024-03-05T07:21:07.959Z"
   },
   {
    "duration": 9,
    "start_time": "2024-03-05T07:21:07.985Z"
   },
   {
    "duration": 11,
    "start_time": "2024-03-05T07:21:07.996Z"
   },
   {
    "duration": 26,
    "start_time": "2024-03-05T07:21:08.008Z"
   },
   {
    "duration": 48,
    "start_time": "2024-03-05T07:21:08.036Z"
   },
   {
    "duration": 41,
    "start_time": "2024-03-05T07:21:08.085Z"
   },
   {
    "duration": 28,
    "start_time": "2024-03-05T07:21:08.127Z"
   },
   {
    "duration": 1756,
    "start_time": "2024-03-05T07:21:08.157Z"
   },
   {
    "duration": 164,
    "start_time": "2024-03-05T07:21:09.918Z"
   },
   {
    "duration": 8,
    "start_time": "2024-03-05T07:29:01.880Z"
   },
   {
    "duration": 89,
    "start_time": "2024-03-05T07:29:58.750Z"
   },
   {
    "duration": 4,
    "start_time": "2024-03-05T07:30:02.069Z"
   },
   {
    "duration": 1054,
    "start_time": "2024-03-05T07:35:08.075Z"
   },
   {
    "duration": 85,
    "start_time": "2024-03-05T07:35:09.131Z"
   },
   {
    "duration": 12,
    "start_time": "2024-03-05T07:35:09.217Z"
   },
   {
    "duration": 36,
    "start_time": "2024-03-05T07:35:09.231Z"
   },
   {
    "duration": 12,
    "start_time": "2024-03-05T07:35:09.269Z"
   },
   {
    "duration": 6,
    "start_time": "2024-03-05T07:35:09.283Z"
   },
   {
    "duration": 29,
    "start_time": "2024-03-05T07:35:09.291Z"
   },
   {
    "duration": 20,
    "start_time": "2024-03-05T07:35:09.321Z"
   },
   {
    "duration": 10,
    "start_time": "2024-03-05T07:35:09.342Z"
   },
   {
    "duration": 7,
    "start_time": "2024-03-05T07:35:09.355Z"
   },
   {
    "duration": 19,
    "start_time": "2024-03-05T07:35:09.363Z"
   },
   {
    "duration": 5,
    "start_time": "2024-03-05T07:35:09.384Z"
   },
   {
    "duration": 28,
    "start_time": "2024-03-05T07:35:09.391Z"
   },
   {
    "duration": 15,
    "start_time": "2024-03-05T07:35:09.420Z"
   },
   {
    "duration": 7,
    "start_time": "2024-03-05T07:35:09.436Z"
   },
   {
    "duration": 173,
    "start_time": "2024-03-05T07:35:09.445Z"
   },
   {
    "duration": 6,
    "start_time": "2024-03-05T07:35:09.619Z"
   },
   {
    "duration": 114,
    "start_time": "2024-03-05T07:35:09.626Z"
   },
   {
    "duration": 5,
    "start_time": "2024-03-05T07:35:09.742Z"
   },
   {
    "duration": 179,
    "start_time": "2024-03-05T07:35:09.748Z"
   },
   {
    "duration": 10,
    "start_time": "2024-03-05T07:35:09.929Z"
   },
   {
    "duration": 179,
    "start_time": "2024-03-05T07:35:09.941Z"
   },
   {
    "duration": 8,
    "start_time": "2024-03-05T07:35:10.122Z"
   },
   {
    "duration": 116,
    "start_time": "2024-03-05T07:35:10.131Z"
   },
   {
    "duration": 151,
    "start_time": "2024-03-05T07:35:10.249Z"
   },
   {
    "duration": 21,
    "start_time": "2024-03-05T07:35:10.402Z"
   },
   {
    "duration": 15,
    "start_time": "2024-03-05T07:35:10.425Z"
   },
   {
    "duration": 12,
    "start_time": "2024-03-05T07:35:10.444Z"
   },
   {
    "duration": 156,
    "start_time": "2024-03-05T07:35:10.457Z"
   },
   {
    "duration": 4,
    "start_time": "2024-03-05T07:35:10.615Z"
   },
   {
    "duration": 17,
    "start_time": "2024-03-05T07:35:10.620Z"
   },
   {
    "duration": 13,
    "start_time": "2024-03-05T07:35:10.638Z"
   },
   {
    "duration": 187,
    "start_time": "2024-03-05T07:35:10.652Z"
   },
   {
    "duration": 7,
    "start_time": "2024-03-05T07:35:10.841Z"
   },
   {
    "duration": 8,
    "start_time": "2024-03-05T07:35:10.850Z"
   },
   {
    "duration": 179,
    "start_time": "2024-03-05T07:35:10.860Z"
   },
   {
    "duration": 7,
    "start_time": "2024-03-05T07:35:11.041Z"
   },
   {
    "duration": 7,
    "start_time": "2024-03-05T07:35:11.050Z"
   },
   {
    "duration": 30,
    "start_time": "2024-03-05T07:35:11.059Z"
   },
   {
    "duration": 28,
    "start_time": "2024-03-05T07:35:11.091Z"
   },
   {
    "duration": 20,
    "start_time": "2024-03-05T07:35:11.121Z"
   },
   {
    "duration": 5,
    "start_time": "2024-03-05T07:35:11.142Z"
   },
   {
    "duration": 5,
    "start_time": "2024-03-05T07:35:11.148Z"
   },
   {
    "duration": 7,
    "start_time": "2024-03-05T07:35:11.154Z"
   },
   {
    "duration": 7,
    "start_time": "2024-03-05T07:35:11.163Z"
   },
   {
    "duration": 13,
    "start_time": "2024-03-05T07:35:11.172Z"
   },
   {
    "duration": 34,
    "start_time": "2024-03-05T07:35:11.186Z"
   },
   {
    "duration": 8,
    "start_time": "2024-03-05T07:35:11.222Z"
   },
   {
    "duration": 1808,
    "start_time": "2024-03-05T07:35:11.232Z"
   },
   {
    "duration": 160,
    "start_time": "2024-03-05T07:35:13.041Z"
   },
   {
    "duration": 119,
    "start_time": "2024-03-05T20:17:00.400Z"
   },
   {
    "duration": 1339,
    "start_time": "2024-03-05T20:17:06.239Z"
   },
   {
    "duration": 3,
    "start_time": "2024-03-05T20:19:13.876Z"
   },
   {
    "duration": 107,
    "start_time": "2024-03-05T20:19:13.881Z"
   },
   {
    "duration": 19,
    "start_time": "2024-03-05T20:19:13.990Z"
   },
   {
    "duration": 153,
    "start_time": "2024-03-05T20:19:14.012Z"
   },
   {
    "duration": 10,
    "start_time": "2024-03-05T20:19:14.168Z"
   },
   {
    "duration": 5,
    "start_time": "2024-03-05T20:19:14.180Z"
   },
   {
    "duration": 7,
    "start_time": "2024-03-05T20:19:14.186Z"
   },
   {
    "duration": 72,
    "start_time": "2024-03-05T20:19:14.194Z"
   },
   {
    "duration": 9,
    "start_time": "2024-03-05T20:19:14.268Z"
   },
   {
    "duration": 24,
    "start_time": "2024-03-05T20:19:14.278Z"
   },
   {
    "duration": 11,
    "start_time": "2024-03-05T20:19:14.310Z"
   },
   {
    "duration": 5,
    "start_time": "2024-03-05T20:19:14.322Z"
   },
   {
    "duration": 20,
    "start_time": "2024-03-05T20:19:14.328Z"
   },
   {
    "duration": 20,
    "start_time": "2024-03-05T20:19:14.350Z"
   },
   {
    "duration": 8,
    "start_time": "2024-03-05T20:19:14.372Z"
   },
   {
    "duration": 135,
    "start_time": "2024-03-05T20:19:14.382Z"
   },
   {
    "duration": 0,
    "start_time": "2024-03-05T20:19:14.519Z"
   },
   {
    "duration": 0,
    "start_time": "2024-03-05T20:19:14.520Z"
   },
   {
    "duration": 0,
    "start_time": "2024-03-05T20:19:14.521Z"
   },
   {
    "duration": 0,
    "start_time": "2024-03-05T20:19:14.522Z"
   },
   {
    "duration": 0,
    "start_time": "2024-03-05T20:19:14.523Z"
   },
   {
    "duration": 0,
    "start_time": "2024-03-05T20:19:14.524Z"
   },
   {
    "duration": 0,
    "start_time": "2024-03-05T20:19:14.525Z"
   },
   {
    "duration": 0,
    "start_time": "2024-03-05T20:19:14.526Z"
   },
   {
    "duration": 0,
    "start_time": "2024-03-05T20:19:14.527Z"
   },
   {
    "duration": 0,
    "start_time": "2024-03-05T20:19:14.528Z"
   },
   {
    "duration": 0,
    "start_time": "2024-03-05T20:19:14.529Z"
   },
   {
    "duration": 0,
    "start_time": "2024-03-05T20:19:14.530Z"
   },
   {
    "duration": 0,
    "start_time": "2024-03-05T20:19:14.531Z"
   },
   {
    "duration": 0,
    "start_time": "2024-03-05T20:19:14.532Z"
   },
   {
    "duration": 0,
    "start_time": "2024-03-05T20:19:14.533Z"
   },
   {
    "duration": 0,
    "start_time": "2024-03-05T20:19:14.534Z"
   },
   {
    "duration": 0,
    "start_time": "2024-03-05T20:19:14.535Z"
   },
   {
    "duration": 0,
    "start_time": "2024-03-05T20:19:14.536Z"
   },
   {
    "duration": 0,
    "start_time": "2024-03-05T20:19:14.537Z"
   },
   {
    "duration": 0,
    "start_time": "2024-03-05T20:19:14.538Z"
   },
   {
    "duration": 0,
    "start_time": "2024-03-05T20:19:14.539Z"
   },
   {
    "duration": 0,
    "start_time": "2024-03-05T20:19:14.540Z"
   },
   {
    "duration": 0,
    "start_time": "2024-03-05T20:19:14.541Z"
   },
   {
    "duration": 0,
    "start_time": "2024-03-05T20:19:14.542Z"
   },
   {
    "duration": 0,
    "start_time": "2024-03-05T20:19:14.543Z"
   },
   {
    "duration": 0,
    "start_time": "2024-03-05T20:19:14.543Z"
   },
   {
    "duration": 0,
    "start_time": "2024-03-05T20:19:14.544Z"
   },
   {
    "duration": 0,
    "start_time": "2024-03-05T20:19:14.596Z"
   },
   {
    "duration": 0,
    "start_time": "2024-03-05T20:19:14.596Z"
   },
   {
    "duration": 0,
    "start_time": "2024-03-05T20:19:14.600Z"
   },
   {
    "duration": 0,
    "start_time": "2024-03-05T20:19:14.602Z"
   },
   {
    "duration": 0,
    "start_time": "2024-03-05T20:19:14.603Z"
   },
   {
    "duration": 0,
    "start_time": "2024-03-05T20:19:14.604Z"
   },
   {
    "duration": 0,
    "start_time": "2024-03-05T20:19:14.607Z"
   },
   {
    "duration": 143,
    "start_time": "2024-03-05T20:20:35.189Z"
   },
   {
    "duration": 119,
    "start_time": "2024-03-05T20:20:51.448Z"
   },
   {
    "duration": 16,
    "start_time": "2024-03-05T20:21:46.639Z"
   },
   {
    "duration": 12,
    "start_time": "2024-03-05T20:21:53.254Z"
   },
   {
    "duration": 335,
    "start_time": "2024-03-05T20:23:46.210Z"
   },
   {
    "duration": 297,
    "start_time": "2024-03-05T20:24:19.010Z"
   },
   {
    "duration": 16,
    "start_time": "2024-03-05T20:28:44.846Z"
   },
   {
    "duration": 168,
    "start_time": "2024-03-05T20:29:21.703Z"
   },
   {
    "duration": 124,
    "start_time": "2024-03-05T20:29:28.207Z"
   },
   {
    "duration": 142,
    "start_time": "2024-03-05T20:34:03.835Z"
   },
   {
    "duration": 143,
    "start_time": "2024-03-05T20:34:35.522Z"
   },
   {
    "duration": 217,
    "start_time": "2024-03-05T20:37:35.464Z"
   },
   {
    "duration": 6,
    "start_time": "2024-03-05T20:37:41.660Z"
   },
   {
    "duration": 133,
    "start_time": "2024-03-05T20:37:42.718Z"
   },
   {
    "duration": 6,
    "start_time": "2024-03-05T20:37:50.351Z"
   },
   {
    "duration": 141,
    "start_time": "2024-03-05T20:37:52.825Z"
   },
   {
    "duration": 3,
    "start_time": "2024-03-05T20:38:02.675Z"
   },
   {
    "duration": 64,
    "start_time": "2024-03-05T20:38:02.680Z"
   },
   {
    "duration": 11,
    "start_time": "2024-03-05T20:38:02.745Z"
   },
   {
    "duration": 45,
    "start_time": "2024-03-05T20:38:02.758Z"
   },
   {
    "duration": 12,
    "start_time": "2024-03-05T20:38:02.805Z"
   },
   {
    "duration": 10,
    "start_time": "2024-03-05T20:38:02.818Z"
   },
   {
    "duration": 31,
    "start_time": "2024-03-05T20:38:02.830Z"
   },
   {
    "duration": 49,
    "start_time": "2024-03-05T20:38:02.862Z"
   },
   {
    "duration": 39,
    "start_time": "2024-03-05T20:38:02.913Z"
   },
   {
    "duration": 93,
    "start_time": "2024-03-05T20:38:02.954Z"
   },
   {
    "duration": 44,
    "start_time": "2024-03-05T20:38:03.048Z"
   },
   {
    "duration": 35,
    "start_time": "2024-03-05T20:38:03.093Z"
   },
   {
    "duration": 42,
    "start_time": "2024-03-05T20:38:03.129Z"
   },
   {
    "duration": 136,
    "start_time": "2024-03-05T20:38:03.173Z"
   },
   {
    "duration": 59,
    "start_time": "2024-03-05T20:38:03.311Z"
   },
   {
    "duration": 184,
    "start_time": "2024-03-05T20:38:03.371Z"
   },
   {
    "duration": 6,
    "start_time": "2024-03-05T20:38:03.556Z"
   },
   {
    "duration": 123,
    "start_time": "2024-03-05T20:38:03.563Z"
   },
   {
    "duration": 53,
    "start_time": "2024-03-05T20:38:03.687Z"
   },
   {
    "duration": 267,
    "start_time": "2024-03-05T20:38:03.742Z"
   },
   {
    "duration": 13,
    "start_time": "2024-03-05T20:38:04.010Z"
   },
   {
    "duration": 213,
    "start_time": "2024-03-05T20:38:04.024Z"
   },
   {
    "duration": 17,
    "start_time": "2024-03-05T20:38:04.238Z"
   },
   {
    "duration": 195,
    "start_time": "2024-03-05T20:38:04.256Z"
   },
   {
    "duration": 164,
    "start_time": "2024-03-05T20:38:04.453Z"
   },
   {
    "duration": 11,
    "start_time": "2024-03-05T20:38:04.621Z"
   },
   {
    "duration": 17,
    "start_time": "2024-03-05T20:38:04.633Z"
   },
   {
    "duration": 10,
    "start_time": "2024-03-05T20:38:04.653Z"
   },
   {
    "duration": 169,
    "start_time": "2024-03-05T20:38:04.664Z"
   },
   {
    "duration": 4,
    "start_time": "2024-03-05T20:38:04.835Z"
   },
   {
    "duration": 18,
    "start_time": "2024-03-05T20:38:04.840Z"
   },
   {
    "duration": 13,
    "start_time": "2024-03-05T20:38:04.859Z"
   },
   {
    "duration": 202,
    "start_time": "2024-03-05T20:38:04.873Z"
   },
   {
    "duration": 29,
    "start_time": "2024-03-05T20:38:05.076Z"
   },
   {
    "duration": 21,
    "start_time": "2024-03-05T20:38:05.106Z"
   },
   {
    "duration": 276,
    "start_time": "2024-03-05T20:38:05.130Z"
   },
   {
    "duration": 16,
    "start_time": "2024-03-05T20:38:05.408Z"
   },
   {
    "duration": 11,
    "start_time": "2024-03-05T20:38:05.427Z"
   },
   {
    "duration": 38,
    "start_time": "2024-03-05T20:38:05.440Z"
   },
   {
    "duration": 5,
    "start_time": "2024-03-05T20:38:05.480Z"
   },
   {
    "duration": 27,
    "start_time": "2024-03-05T20:38:05.487Z"
   },
   {
    "duration": 8,
    "start_time": "2024-03-05T20:38:05.521Z"
   },
   {
    "duration": 10,
    "start_time": "2024-03-05T20:38:05.530Z"
   },
   {
    "duration": 12,
    "start_time": "2024-03-05T20:38:05.542Z"
   },
   {
    "duration": 15,
    "start_time": "2024-03-05T20:38:05.555Z"
   },
   {
    "duration": 16,
    "start_time": "2024-03-05T20:38:05.572Z"
   },
   {
    "duration": 50,
    "start_time": "2024-03-05T20:38:05.590Z"
   },
   {
    "duration": 23,
    "start_time": "2024-03-05T20:38:05.642Z"
   },
   {
    "duration": 1841,
    "start_time": "2024-03-05T20:38:05.666Z"
   },
   {
    "duration": 165,
    "start_time": "2024-03-05T20:38:07.514Z"
   },
   {
    "duration": 126,
    "start_time": "2024-03-05T20:38:47.917Z"
   },
   {
    "duration": 136,
    "start_time": "2024-03-05T20:40:34.733Z"
   },
   {
    "duration": 144,
    "start_time": "2024-03-05T20:40:58.908Z"
   },
   {
    "duration": 162,
    "start_time": "2024-03-05T20:41:10.068Z"
   },
   {
    "duration": 151,
    "start_time": "2024-03-05T20:41:24.077Z"
   },
   {
    "duration": 129,
    "start_time": "2024-03-05T20:41:35.224Z"
   },
   {
    "duration": 273,
    "start_time": "2024-03-05T20:44:20.794Z"
   },
   {
    "duration": 271,
    "start_time": "2024-03-05T20:44:26.578Z"
   },
   {
    "duration": 204,
    "start_time": "2024-03-05T20:44:53.084Z"
   },
   {
    "duration": 207,
    "start_time": "2024-03-05T20:45:10.269Z"
   },
   {
    "duration": 221,
    "start_time": "2024-03-05T20:45:16.649Z"
   },
   {
    "duration": 192,
    "start_time": "2024-03-05T20:45:33.449Z"
   },
   {
    "duration": 180,
    "start_time": "2024-03-05T20:47:38.742Z"
   },
   {
    "duration": 144,
    "start_time": "2024-03-05T20:47:47.806Z"
   },
   {
    "duration": 154,
    "start_time": "2024-03-05T20:47:53.632Z"
   },
   {
    "duration": 136,
    "start_time": "2024-03-05T20:49:49.782Z"
   },
   {
    "duration": 117,
    "start_time": "2024-03-05T20:49:58.022Z"
   },
   {
    "duration": 131,
    "start_time": "2024-03-05T20:50:13.092Z"
   },
   {
    "duration": 136,
    "start_time": "2024-03-05T20:51:11.601Z"
   },
   {
    "duration": 120,
    "start_time": "2024-03-05T20:51:28.801Z"
   },
   {
    "duration": 261,
    "start_time": "2024-03-05T20:51:48.721Z"
   },
   {
    "duration": 115,
    "start_time": "2024-03-05T20:52:19.443Z"
   },
   {
    "duration": 15,
    "start_time": "2024-03-05T20:57:17.978Z"
   },
   {
    "duration": 10,
    "start_time": "2024-03-05T20:57:24.258Z"
   },
   {
    "duration": 12,
    "start_time": "2024-03-05T20:57:53.125Z"
   },
   {
    "duration": 16,
    "start_time": "2024-03-05T20:57:57.812Z"
   },
   {
    "duration": 134,
    "start_time": "2024-03-05T20:58:48.049Z"
   },
   {
    "duration": 165,
    "start_time": "2024-03-05T20:59:23.858Z"
   },
   {
    "duration": 87,
    "start_time": "2024-03-05T20:59:28.558Z"
   },
   {
    "duration": 96,
    "start_time": "2024-03-05T20:59:34.679Z"
   },
   {
    "duration": 100,
    "start_time": "2024-03-05T21:01:27.381Z"
   },
   {
    "duration": 96,
    "start_time": "2024-03-05T21:01:44.729Z"
   },
   {
    "duration": 111,
    "start_time": "2024-03-05T21:02:11.481Z"
   },
   {
    "duration": 94,
    "start_time": "2024-03-05T21:02:22.010Z"
   },
   {
    "duration": 38,
    "start_time": "2024-03-05T21:02:37.322Z"
   },
   {
    "duration": 165,
    "start_time": "2024-03-05T21:03:07.561Z"
   },
   {
    "duration": 101,
    "start_time": "2024-03-05T21:03:19.051Z"
   },
   {
    "duration": 97,
    "start_time": "2024-03-05T21:03:34.792Z"
   },
   {
    "duration": 90,
    "start_time": "2024-03-05T21:05:41.215Z"
   },
   {
    "duration": 89,
    "start_time": "2024-03-05T21:05:47.899Z"
   },
   {
    "duration": 107,
    "start_time": "2024-03-05T21:06:04.114Z"
   },
   {
    "duration": 100,
    "start_time": "2024-03-05T21:06:53.770Z"
   },
   {
    "duration": 90,
    "start_time": "2024-03-05T21:07:05.705Z"
   },
   {
    "duration": 98,
    "start_time": "2024-03-05T21:07:26.332Z"
   },
   {
    "duration": 97,
    "start_time": "2024-03-05T21:07:33.542Z"
   },
   {
    "duration": 101,
    "start_time": "2024-03-05T21:07:58.548Z"
   },
   {
    "duration": 97,
    "start_time": "2024-03-05T21:09:48.552Z"
   },
   {
    "duration": 105,
    "start_time": "2024-03-05T21:10:11.884Z"
   },
   {
    "duration": 96,
    "start_time": "2024-03-05T21:10:46.173Z"
   },
   {
    "duration": 101,
    "start_time": "2024-03-05T21:11:10.984Z"
   },
   {
    "duration": 92,
    "start_time": "2024-03-05T21:11:19.683Z"
   },
   {
    "duration": 96,
    "start_time": "2024-03-05T21:11:27.541Z"
   },
   {
    "duration": 84,
    "start_time": "2024-03-05T21:11:38.781Z"
   },
   {
    "duration": 164,
    "start_time": "2024-03-05T21:13:14.623Z"
   },
   {
    "duration": 161,
    "start_time": "2024-03-05T21:13:24.625Z"
   },
   {
    "duration": 162,
    "start_time": "2024-03-05T21:13:36.522Z"
   },
   {
    "duration": 183,
    "start_time": "2024-03-05T21:14:07.241Z"
   },
   {
    "duration": 36,
    "start_time": "2024-03-05T21:18:24.946Z"
   },
   {
    "duration": 3,
    "start_time": "2024-03-05T21:18:37.557Z"
   },
   {
    "duration": 37,
    "start_time": "2024-03-05T21:18:37.562Z"
   },
   {
    "duration": 10,
    "start_time": "2024-03-05T21:18:37.601Z"
   },
   {
    "duration": 40,
    "start_time": "2024-03-05T21:18:37.612Z"
   },
   {
    "duration": 189,
    "start_time": "2024-03-05T21:18:37.654Z"
   },
   {
    "duration": 5,
    "start_time": "2024-03-05T21:18:37.845Z"
   },
   {
    "duration": 7,
    "start_time": "2024-03-05T21:18:37.851Z"
   },
   {
    "duration": 49,
    "start_time": "2024-03-05T21:18:37.860Z"
   },
   {
    "duration": 11,
    "start_time": "2024-03-05T21:18:37.910Z"
   },
   {
    "duration": 6,
    "start_time": "2024-03-05T21:18:37.922Z"
   },
   {
    "duration": 12,
    "start_time": "2024-03-05T21:18:37.930Z"
   },
   {
    "duration": 12,
    "start_time": "2024-03-05T21:18:37.944Z"
   },
   {
    "duration": 30,
    "start_time": "2024-03-05T21:18:37.957Z"
   },
   {
    "duration": 33,
    "start_time": "2024-03-05T21:18:37.990Z"
   },
   {
    "duration": 6,
    "start_time": "2024-03-05T21:18:38.024Z"
   },
   {
    "duration": 152,
    "start_time": "2024-03-05T21:18:38.031Z"
   },
   {
    "duration": 5,
    "start_time": "2024-03-05T21:18:38.185Z"
   },
   {
    "duration": 93,
    "start_time": "2024-03-05T21:18:38.193Z"
   },
   {
    "duration": 6,
    "start_time": "2024-03-05T21:18:38.287Z"
   },
   {
    "duration": 158,
    "start_time": "2024-03-05T21:18:38.299Z"
   },
   {
    "duration": 6,
    "start_time": "2024-03-05T21:18:38.459Z"
   },
   {
    "duration": 199,
    "start_time": "2024-03-05T21:18:38.466Z"
   },
   {
    "duration": 8,
    "start_time": "2024-03-05T21:18:38.666Z"
   },
   {
    "duration": 144,
    "start_time": "2024-03-05T21:18:38.675Z"
   },
   {
    "duration": 178,
    "start_time": "2024-03-05T21:18:38.823Z"
   },
   {
    "duration": 13,
    "start_time": "2024-03-05T21:18:39.002Z"
   },
   {
    "duration": 29,
    "start_time": "2024-03-05T21:18:39.016Z"
   },
   {
    "duration": 12,
    "start_time": "2024-03-05T21:18:39.046Z"
   },
   {
    "duration": 93,
    "start_time": "2024-03-05T21:18:39.060Z"
   },
   {
    "duration": 5,
    "start_time": "2024-03-05T21:18:39.154Z"
   },
   {
    "duration": 35,
    "start_time": "2024-03-05T21:18:39.160Z"
   },
   {
    "duration": 26,
    "start_time": "2024-03-05T21:18:39.201Z"
   },
   {
    "duration": 162,
    "start_time": "2024-03-05T21:18:39.228Z"
   },
   {
    "duration": 26,
    "start_time": "2024-03-05T21:18:39.391Z"
   },
   {
    "duration": 10,
    "start_time": "2024-03-05T21:18:39.419Z"
   },
   {
    "duration": 177,
    "start_time": "2024-03-05T21:18:39.430Z"
   },
   {
    "duration": 15,
    "start_time": "2024-03-05T21:18:39.608Z"
   },
   {
    "duration": 35,
    "start_time": "2024-03-05T21:18:39.625Z"
   },
   {
    "duration": 52,
    "start_time": "2024-03-05T21:18:39.661Z"
   },
   {
    "duration": 7,
    "start_time": "2024-03-05T21:18:39.714Z"
   },
   {
    "duration": 20,
    "start_time": "2024-03-05T21:18:39.724Z"
   },
   {
    "duration": 5,
    "start_time": "2024-03-05T21:18:39.745Z"
   },
   {
    "duration": 12,
    "start_time": "2024-03-05T21:18:39.751Z"
   },
   {
    "duration": 23,
    "start_time": "2024-03-05T21:18:39.764Z"
   },
   {
    "duration": 22,
    "start_time": "2024-03-05T21:18:39.789Z"
   },
   {
    "duration": 15,
    "start_time": "2024-03-05T21:18:39.814Z"
   },
   {
    "duration": 44,
    "start_time": "2024-03-05T21:18:39.831Z"
   },
   {
    "duration": 39,
    "start_time": "2024-03-05T21:18:39.877Z"
   },
   {
    "duration": 1916,
    "start_time": "2024-03-05T21:18:39.918Z"
   },
   {
    "duration": 189,
    "start_time": "2024-03-05T21:18:41.835Z"
   },
   {
    "duration": 2,
    "start_time": "2024-03-05T21:20:02.956Z"
   },
   {
    "duration": 6,
    "start_time": "2024-03-05T21:23:07.521Z"
   },
   {
    "duration": 15,
    "start_time": "2024-03-05T21:23:50.180Z"
   },
   {
    "duration": 10,
    "start_time": "2024-03-05T21:26:15.676Z"
   },
   {
    "duration": 10,
    "start_time": "2024-03-05T21:30:10.493Z"
   },
   {
    "duration": 8,
    "start_time": "2024-03-05T21:34:17.708Z"
   },
   {
    "duration": 3,
    "start_time": "2024-03-05T21:51:17.684Z"
   },
   {
    "duration": 3,
    "start_time": "2024-03-05T21:51:21.763Z"
   },
   {
    "duration": 46,
    "start_time": "2024-03-05T21:51:21.768Z"
   },
   {
    "duration": 11,
    "start_time": "2024-03-05T21:51:21.817Z"
   },
   {
    "duration": 36,
    "start_time": "2024-03-05T21:51:21.830Z"
   },
   {
    "duration": 10,
    "start_time": "2024-03-05T21:51:21.868Z"
   },
   {
    "duration": 16,
    "start_time": "2024-03-05T21:51:21.879Z"
   },
   {
    "duration": 14,
    "start_time": "2024-03-05T21:51:21.896Z"
   },
   {
    "duration": 20,
    "start_time": "2024-03-05T21:51:21.912Z"
   },
   {
    "duration": 10,
    "start_time": "2024-03-05T21:51:21.935Z"
   },
   {
    "duration": 24,
    "start_time": "2024-03-05T21:51:21.946Z"
   },
   {
    "duration": 16,
    "start_time": "2024-03-05T21:51:21.971Z"
   },
   {
    "duration": 19,
    "start_time": "2024-03-05T21:51:21.989Z"
   },
   {
    "duration": 17,
    "start_time": "2024-03-05T21:51:22.012Z"
   },
   {
    "duration": 13,
    "start_time": "2024-03-05T21:51:22.031Z"
   },
   {
    "duration": 6,
    "start_time": "2024-03-05T21:51:22.045Z"
   },
   {
    "duration": 163,
    "start_time": "2024-03-05T21:51:22.052Z"
   },
   {
    "duration": 11,
    "start_time": "2024-03-05T21:51:22.219Z"
   },
   {
    "duration": 91,
    "start_time": "2024-03-05T21:51:22.231Z"
   },
   {
    "duration": 5,
    "start_time": "2024-03-05T21:51:22.326Z"
   },
   {
    "duration": 171,
    "start_time": "2024-03-05T21:51:22.332Z"
   },
   {
    "duration": 11,
    "start_time": "2024-03-05T21:51:22.505Z"
   },
   {
    "duration": 176,
    "start_time": "2024-03-05T21:51:22.519Z"
   },
   {
    "duration": 15,
    "start_time": "2024-03-05T21:51:22.699Z"
   },
   {
    "duration": 127,
    "start_time": "2024-03-05T21:51:22.720Z"
   },
   {
    "duration": 153,
    "start_time": "2024-03-05T21:51:22.848Z"
   },
   {
    "duration": 15,
    "start_time": "2024-03-05T21:51:23.008Z"
   },
   {
    "duration": 28,
    "start_time": "2024-03-05T21:51:23.025Z"
   },
   {
    "duration": 13,
    "start_time": "2024-03-05T21:51:23.055Z"
   },
   {
    "duration": 86,
    "start_time": "2024-03-05T21:51:23.069Z"
   },
   {
    "duration": 4,
    "start_time": "2024-03-05T21:51:23.157Z"
   },
   {
    "duration": 27,
    "start_time": "2024-03-05T21:51:23.162Z"
   },
   {
    "duration": 29,
    "start_time": "2024-03-05T21:51:23.190Z"
   },
   {
    "duration": 161,
    "start_time": "2024-03-05T21:51:23.220Z"
   },
   {
    "duration": 15,
    "start_time": "2024-03-05T21:51:23.382Z"
   },
   {
    "duration": 14,
    "start_time": "2024-03-05T21:51:23.399Z"
   },
   {
    "duration": 182,
    "start_time": "2024-03-05T21:51:23.415Z"
   },
   {
    "duration": 17,
    "start_time": "2024-03-05T21:51:23.600Z"
   },
   {
    "duration": 20,
    "start_time": "2024-03-05T21:51:23.625Z"
   },
   {
    "duration": 37,
    "start_time": "2024-03-05T21:51:23.647Z"
   },
   {
    "duration": 4,
    "start_time": "2024-03-05T21:51:23.686Z"
   },
   {
    "duration": 30,
    "start_time": "2024-03-05T21:51:23.691Z"
   },
   {
    "duration": 4,
    "start_time": "2024-03-05T21:51:23.723Z"
   },
   {
    "duration": 11,
    "start_time": "2024-03-05T21:51:23.728Z"
   },
   {
    "duration": 228,
    "start_time": "2024-03-05T21:51:23.740Z"
   },
   {
    "duration": 3,
    "start_time": "2024-03-05T21:51:23.970Z"
   },
   {
    "duration": 8,
    "start_time": "2024-03-05T21:51:23.975Z"
   },
   {
    "duration": 14,
    "start_time": "2024-03-05T21:51:23.997Z"
   },
   {
    "duration": 9,
    "start_time": "2024-03-05T21:51:24.018Z"
   },
   {
    "duration": 1764,
    "start_time": "2024-03-05T21:51:24.028Z"
   },
   {
    "duration": 450,
    "start_time": "2024-03-05T21:51:25.794Z"
   },
   {
    "duration": 1722,
    "start_time": "2024-03-05T21:53:00.865Z"
   },
   {
    "duration": 2045,
    "start_time": "2024-03-05T21:54:11.462Z"
   },
   {
    "duration": 2109,
    "start_time": "2024-03-05T21:55:29.757Z"
   },
   {
    "duration": 1720,
    "start_time": "2024-03-05T21:57:38.573Z"
   },
   {
    "duration": 2154,
    "start_time": "2024-03-05T21:57:47.727Z"
   },
   {
    "duration": 2161,
    "start_time": "2024-03-05T22:02:14.404Z"
   },
   {
    "duration": 2077,
    "start_time": "2024-03-05T22:03:58.972Z"
   },
   {
    "duration": 6,
    "start_time": "2024-03-05T22:10:49.409Z"
   },
   {
    "duration": 40,
    "start_time": "2024-03-05T22:10:49.422Z"
   },
   {
    "duration": 14,
    "start_time": "2024-03-05T22:10:49.465Z"
   },
   {
    "duration": 46,
    "start_time": "2024-03-05T22:10:49.481Z"
   },
   {
    "duration": 10,
    "start_time": "2024-03-05T22:10:49.529Z"
   },
   {
    "duration": 10,
    "start_time": "2024-03-05T22:10:49.540Z"
   },
   {
    "duration": 17,
    "start_time": "2024-03-05T22:10:49.551Z"
   },
   {
    "duration": 33,
    "start_time": "2024-03-05T22:10:49.569Z"
   },
   {
    "duration": 16,
    "start_time": "2024-03-05T22:10:49.603Z"
   },
   {
    "duration": 6,
    "start_time": "2024-03-05T22:10:49.621Z"
   },
   {
    "duration": 25,
    "start_time": "2024-03-05T22:10:49.629Z"
   },
   {
    "duration": 6,
    "start_time": "2024-03-05T22:10:49.655Z"
   },
   {
    "duration": 28,
    "start_time": "2024-03-05T22:10:49.663Z"
   },
   {
    "duration": 31,
    "start_time": "2024-03-05T22:10:49.693Z"
   },
   {
    "duration": 5,
    "start_time": "2024-03-05T22:10:49.725Z"
   },
   {
    "duration": 152,
    "start_time": "2024-03-05T22:10:49.732Z"
   },
   {
    "duration": 5,
    "start_time": "2024-03-05T22:10:49.886Z"
   },
   {
    "duration": 91,
    "start_time": "2024-03-05T22:10:49.897Z"
   },
   {
    "duration": 16,
    "start_time": "2024-03-05T22:10:49.989Z"
   },
   {
    "duration": 173,
    "start_time": "2024-03-05T22:10:50.009Z"
   },
   {
    "duration": 15,
    "start_time": "2024-03-05T22:10:50.183Z"
   },
   {
    "duration": 191,
    "start_time": "2024-03-05T22:10:50.199Z"
   },
   {
    "duration": 24,
    "start_time": "2024-03-05T22:10:50.391Z"
   },
   {
    "duration": 117,
    "start_time": "2024-03-05T22:10:50.417Z"
   },
   {
    "duration": 182,
    "start_time": "2024-03-05T22:10:50.535Z"
   },
   {
    "duration": 9,
    "start_time": "2024-03-05T22:10:50.718Z"
   },
   {
    "duration": 22,
    "start_time": "2024-03-05T22:10:50.728Z"
   },
   {
    "duration": 13,
    "start_time": "2024-03-05T22:10:50.751Z"
   },
   {
    "duration": 106,
    "start_time": "2024-03-05T22:10:50.767Z"
   },
   {
    "duration": 5,
    "start_time": "2024-03-05T22:10:50.874Z"
   },
   {
    "duration": 55,
    "start_time": "2024-03-05T22:10:50.880Z"
   },
   {
    "duration": 34,
    "start_time": "2024-03-05T22:10:50.936Z"
   },
   {
    "duration": 171,
    "start_time": "2024-03-05T22:10:50.972Z"
   },
   {
    "duration": 8,
    "start_time": "2024-03-05T22:10:51.144Z"
   },
   {
    "duration": 8,
    "start_time": "2024-03-05T22:10:51.153Z"
   },
   {
    "duration": 197,
    "start_time": "2024-03-05T22:10:51.162Z"
   },
   {
    "duration": 8,
    "start_time": "2024-03-05T22:10:51.360Z"
   },
   {
    "duration": 14,
    "start_time": "2024-03-05T22:10:51.369Z"
   },
   {
    "duration": 49,
    "start_time": "2024-03-05T22:10:51.384Z"
   },
   {
    "duration": 5,
    "start_time": "2024-03-05T22:10:51.435Z"
   },
   {
    "duration": 40,
    "start_time": "2024-03-05T22:10:51.441Z"
   },
   {
    "duration": 5,
    "start_time": "2024-03-05T22:10:51.483Z"
   },
   {
    "duration": 28,
    "start_time": "2024-03-05T22:10:51.495Z"
   },
   {
    "duration": 24,
    "start_time": "2024-03-05T22:10:51.524Z"
   },
   {
    "duration": 34,
    "start_time": "2024-03-05T22:10:51.550Z"
   },
   {
    "duration": 11,
    "start_time": "2024-03-05T22:10:51.586Z"
   },
   {
    "duration": 35,
    "start_time": "2024-03-05T22:10:51.605Z"
   },
   {
    "duration": 20,
    "start_time": "2024-03-05T22:10:51.641Z"
   },
   {
    "duration": 2210,
    "start_time": "2024-03-05T22:10:51.663Z"
   },
   {
    "duration": 185,
    "start_time": "2024-03-05T22:10:53.876Z"
   },
   {
    "duration": 1093,
    "start_time": "2024-03-06T13:44:45.476Z"
   },
   {
    "duration": 89,
    "start_time": "2024-03-06T13:44:46.571Z"
   },
   {
    "duration": 11,
    "start_time": "2024-03-06T13:44:46.662Z"
   },
   {
    "duration": 38,
    "start_time": "2024-03-06T13:44:46.684Z"
   },
   {
    "duration": 12,
    "start_time": "2024-03-06T13:44:46.724Z"
   },
   {
    "duration": 18,
    "start_time": "2024-03-06T13:44:46.738Z"
   },
   {
    "duration": 24,
    "start_time": "2024-03-06T13:44:46.758Z"
   },
   {
    "duration": 43,
    "start_time": "2024-03-06T13:44:46.783Z"
   },
   {
    "duration": 12,
    "start_time": "2024-03-06T13:44:46.828Z"
   },
   {
    "duration": 16,
    "start_time": "2024-03-06T13:44:46.842Z"
   },
   {
    "duration": 27,
    "start_time": "2024-03-06T13:44:46.860Z"
   },
   {
    "duration": 6,
    "start_time": "2024-03-06T13:44:46.888Z"
   },
   {
    "duration": 8,
    "start_time": "2024-03-06T13:44:46.896Z"
   },
   {
    "duration": 13,
    "start_time": "2024-03-06T13:44:46.906Z"
   },
   {
    "duration": 5,
    "start_time": "2024-03-06T13:44:46.921Z"
   },
   {
    "duration": 176,
    "start_time": "2024-03-06T13:44:46.927Z"
   },
   {
    "duration": 5,
    "start_time": "2024-03-06T13:44:47.104Z"
   },
   {
    "duration": 103,
    "start_time": "2024-03-06T13:44:47.110Z"
   },
   {
    "duration": 5,
    "start_time": "2024-03-06T13:44:47.215Z"
   },
   {
    "duration": 174,
    "start_time": "2024-03-06T13:44:47.222Z"
   },
   {
    "duration": 8,
    "start_time": "2024-03-06T13:44:47.398Z"
   },
   {
    "duration": 186,
    "start_time": "2024-03-06T13:44:47.408Z"
   },
   {
    "duration": 8,
    "start_time": "2024-03-06T13:44:47.595Z"
   },
   {
    "duration": 133,
    "start_time": "2024-03-06T13:44:47.605Z"
   },
   {
    "duration": 165,
    "start_time": "2024-03-06T13:44:47.740Z"
   },
   {
    "duration": 9,
    "start_time": "2024-03-06T13:44:47.907Z"
   },
   {
    "duration": 54,
    "start_time": "2024-03-06T13:44:47.918Z"
   },
   {
    "duration": 18,
    "start_time": "2024-03-06T13:44:47.975Z"
   },
   {
    "duration": 93,
    "start_time": "2024-03-06T13:44:47.995Z"
   },
   {
    "duration": 4,
    "start_time": "2024-03-06T13:44:48.090Z"
   },
   {
    "duration": 44,
    "start_time": "2024-03-06T13:44:48.096Z"
   },
   {
    "duration": 64,
    "start_time": "2024-03-06T13:44:48.142Z"
   },
   {
    "duration": 184,
    "start_time": "2024-03-06T13:44:48.208Z"
   },
   {
    "duration": 9,
    "start_time": "2024-03-06T13:44:48.394Z"
   },
   {
    "duration": 7,
    "start_time": "2024-03-06T13:44:48.405Z"
   },
   {
    "duration": 187,
    "start_time": "2024-03-06T13:44:48.414Z"
   },
   {
    "duration": 8,
    "start_time": "2024-03-06T13:44:48.603Z"
   },
   {
    "duration": 27,
    "start_time": "2024-03-06T13:44:48.612Z"
   },
   {
    "duration": 45,
    "start_time": "2024-03-06T13:44:48.641Z"
   },
   {
    "duration": 4,
    "start_time": "2024-03-06T13:44:48.688Z"
   },
   {
    "duration": 33,
    "start_time": "2024-03-06T13:44:48.694Z"
   },
   {
    "duration": 55,
    "start_time": "2024-03-06T13:44:48.729Z"
   },
   {
    "duration": 20,
    "start_time": "2024-03-06T13:44:48.786Z"
   },
   {
    "duration": 18,
    "start_time": "2024-03-06T13:44:48.807Z"
   },
   {
    "duration": 9,
    "start_time": "2024-03-06T13:44:48.826Z"
   },
   {
    "duration": 34,
    "start_time": "2024-03-06T13:44:48.836Z"
   },
   {
    "duration": 31,
    "start_time": "2024-03-06T13:44:48.871Z"
   },
   {
    "duration": 23,
    "start_time": "2024-03-06T13:44:48.903Z"
   },
   {
    "duration": 1897,
    "start_time": "2024-03-06T13:44:48.927Z"
   },
   {
    "duration": 175,
    "start_time": "2024-03-06T13:44:50.826Z"
   },
   {
    "duration": 7,
    "start_time": "2024-03-06T13:46:31.348Z"
   },
   {
    "duration": 43,
    "start_time": "2024-03-07T14:08:06.125Z"
   },
   {
    "duration": 979,
    "start_time": "2024-03-07T14:08:09.207Z"
   },
   {
    "duration": 127,
    "start_time": "2024-03-07T14:08:10.188Z"
   },
   {
    "duration": 10,
    "start_time": "2024-03-07T14:08:10.316Z"
   },
   {
    "duration": 93,
    "start_time": "2024-03-07T14:08:10.328Z"
   },
   {
    "duration": 8,
    "start_time": "2024-03-07T14:08:10.423Z"
   },
   {
    "duration": 9,
    "start_time": "2024-03-07T14:08:10.432Z"
   },
   {
    "duration": 16,
    "start_time": "2024-03-07T14:08:10.441Z"
   },
   {
    "duration": 77,
    "start_time": "2024-03-07T14:08:10.458Z"
   },
   {
    "duration": 8,
    "start_time": "2024-03-07T14:08:10.536Z"
   },
   {
    "duration": 23,
    "start_time": "2024-03-07T14:08:10.546Z"
   },
   {
    "duration": 10,
    "start_time": "2024-03-07T14:08:10.570Z"
   },
   {
    "duration": 8,
    "start_time": "2024-03-07T14:08:10.581Z"
   },
   {
    "duration": 32,
    "start_time": "2024-03-07T14:08:10.590Z"
   },
   {
    "duration": 19,
    "start_time": "2024-03-07T14:08:10.623Z"
   },
   {
    "duration": 6,
    "start_time": "2024-03-07T14:08:10.643Z"
   },
   {
    "duration": 121,
    "start_time": "2024-03-07T14:08:10.650Z"
   },
   {
    "duration": 5,
    "start_time": "2024-03-07T14:08:10.772Z"
   },
   {
    "duration": 77,
    "start_time": "2024-03-07T14:08:10.778Z"
   },
   {
    "duration": 5,
    "start_time": "2024-03-07T14:08:10.856Z"
   },
   {
    "duration": 131,
    "start_time": "2024-03-07T14:08:10.862Z"
   },
   {
    "duration": 10,
    "start_time": "2024-03-07T14:08:10.995Z"
   },
   {
    "duration": 134,
    "start_time": "2024-03-07T14:08:11.007Z"
   },
   {
    "duration": 7,
    "start_time": "2024-03-07T14:08:11.143Z"
   },
   {
    "duration": 117,
    "start_time": "2024-03-07T14:08:11.151Z"
   },
   {
    "duration": 133,
    "start_time": "2024-03-07T14:08:11.270Z"
   },
   {
    "duration": 7,
    "start_time": "2024-03-07T14:08:11.404Z"
   },
   {
    "duration": 15,
    "start_time": "2024-03-07T14:08:11.412Z"
   },
   {
    "duration": 11,
    "start_time": "2024-03-07T14:08:11.430Z"
   },
   {
    "duration": 95,
    "start_time": "2024-03-07T14:08:11.442Z"
   },
   {
    "duration": 4,
    "start_time": "2024-03-07T14:08:11.538Z"
   },
   {
    "duration": 12,
    "start_time": "2024-03-07T14:08:11.543Z"
   },
   {
    "duration": 10,
    "start_time": "2024-03-07T14:08:11.556Z"
   },
   {
    "duration": 156,
    "start_time": "2024-03-07T14:08:11.568Z"
   },
   {
    "duration": 7,
    "start_time": "2024-03-07T14:08:11.726Z"
   },
   {
    "duration": 7,
    "start_time": "2024-03-07T14:08:11.734Z"
   },
   {
    "duration": 150,
    "start_time": "2024-03-07T14:08:11.742Z"
   },
   {
    "duration": 12,
    "start_time": "2024-03-07T14:08:11.894Z"
   },
   {
    "duration": 7,
    "start_time": "2024-03-07T14:08:11.907Z"
   },
   {
    "duration": 30,
    "start_time": "2024-03-07T14:08:11.915Z"
   },
   {
    "duration": 4,
    "start_time": "2024-03-07T14:08:11.946Z"
   },
   {
    "duration": 17,
    "start_time": "2024-03-07T14:08:11.951Z"
   },
   {
    "duration": 4,
    "start_time": "2024-03-07T14:08:11.969Z"
   },
   {
    "duration": 28,
    "start_time": "2024-03-07T14:08:11.974Z"
   },
   {
    "duration": 5,
    "start_time": "2024-03-07T14:08:12.003Z"
   },
   {
    "duration": 2,
    "start_time": "2024-03-07T14:08:12.010Z"
   },
   {
    "duration": 11,
    "start_time": "2024-03-07T14:08:12.014Z"
   },
   {
    "duration": 9,
    "start_time": "2024-03-07T14:08:12.026Z"
   },
   {
    "duration": 5,
    "start_time": "2024-03-07T14:08:12.036Z"
   },
   {
    "duration": 1379,
    "start_time": "2024-03-07T14:08:12.043Z"
   },
   {
    "duration": 138,
    "start_time": "2024-03-07T14:08:13.423Z"
   },
   {
    "duration": 5,
    "start_time": "2024-03-07T14:10:38.077Z"
   },
   {
    "duration": 1378,
    "start_time": "2025-06-10T20:02:34.914Z"
   },
   {
    "duration": 107,
    "start_time": "2025-06-10T20:02:36.295Z"
   },
   {
    "duration": 14,
    "start_time": "2025-06-10T20:02:36.404Z"
   },
   {
    "duration": 59,
    "start_time": "2025-06-10T20:02:36.419Z"
   },
   {
    "duration": 13,
    "start_time": "2025-06-10T20:02:36.480Z"
   },
   {
    "duration": 8,
    "start_time": "2025-06-10T20:02:36.494Z"
   },
   {
    "duration": 7,
    "start_time": "2025-06-10T20:02:36.504Z"
   },
   {
    "duration": 49,
    "start_time": "2025-06-10T20:02:36.513Z"
   },
   {
    "duration": 12,
    "start_time": "2025-06-10T20:02:36.563Z"
   },
   {
    "duration": 17,
    "start_time": "2025-06-10T20:02:36.577Z"
   },
   {
    "duration": 18,
    "start_time": "2025-06-10T20:02:36.596Z"
   },
   {
    "duration": 6,
    "start_time": "2025-06-10T20:02:36.616Z"
   },
   {
    "duration": 13,
    "start_time": "2025-06-10T20:02:36.623Z"
   },
   {
    "duration": 15,
    "start_time": "2025-06-10T20:02:36.661Z"
   },
   {
    "duration": 7,
    "start_time": "2025-06-10T20:02:36.678Z"
   },
   {
    "duration": 193,
    "start_time": "2025-06-10T20:02:36.687Z"
   },
   {
    "duration": 7,
    "start_time": "2025-06-10T20:02:36.883Z"
   },
   {
    "duration": 122,
    "start_time": "2025-06-10T20:02:36.892Z"
   },
   {
    "duration": 7,
    "start_time": "2025-06-10T20:02:37.016Z"
   },
   {
    "duration": 231,
    "start_time": "2025-06-10T20:02:37.025Z"
   },
   {
    "duration": 9,
    "start_time": "2025-06-10T20:02:37.260Z"
   },
   {
    "duration": 235,
    "start_time": "2025-06-10T20:02:37.271Z"
   },
   {
    "duration": 10,
    "start_time": "2025-06-10T20:02:37.507Z"
   },
   {
    "duration": 145,
    "start_time": "2025-06-10T20:02:37.519Z"
   },
   {
    "duration": 179,
    "start_time": "2025-06-10T20:02:37.666Z"
   },
   {
    "duration": 18,
    "start_time": "2025-06-10T20:02:37.846Z"
   },
   {
    "duration": 19,
    "start_time": "2025-06-10T20:02:37.866Z"
   },
   {
    "duration": 15,
    "start_time": "2025-06-10T20:02:37.887Z"
   },
   {
    "duration": 119,
    "start_time": "2025-06-10T20:02:37.903Z"
   },
   {
    "duration": 5,
    "start_time": "2025-06-10T20:02:38.024Z"
   },
   {
    "duration": 122,
    "start_time": "2025-06-10T20:02:38.031Z"
   },
   {
    "duration": 16,
    "start_time": "2025-06-10T20:02:38.154Z"
   },
   {
    "duration": 192,
    "start_time": "2025-06-10T20:02:38.172Z"
   },
   {
    "duration": 9,
    "start_time": "2025-06-10T20:02:38.366Z"
   },
   {
    "duration": 10,
    "start_time": "2025-06-10T20:02:38.377Z"
   },
   {
    "duration": 205,
    "start_time": "2025-06-10T20:02:38.388Z"
   },
   {
    "duration": 8,
    "start_time": "2025-06-10T20:02:38.595Z"
   },
   {
    "duration": 8,
    "start_time": "2025-06-10T20:02:38.605Z"
   },
   {
    "duration": 63,
    "start_time": "2025-06-10T20:02:38.615Z"
   },
   {
    "duration": 4,
    "start_time": "2025-06-10T20:02:38.680Z"
   },
   {
    "duration": 15,
    "start_time": "2025-06-10T20:02:38.688Z"
   },
   {
    "duration": 12,
    "start_time": "2025-06-10T20:02:38.705Z"
   },
   {
    "duration": 7,
    "start_time": "2025-06-10T20:02:38.719Z"
   },
   {
    "duration": 8,
    "start_time": "2025-06-10T20:02:38.728Z"
   },
   {
    "duration": 5,
    "start_time": "2025-06-10T20:02:38.759Z"
   },
   {
    "duration": 18,
    "start_time": "2025-06-10T20:02:38.766Z"
   },
   {
    "duration": 19,
    "start_time": "2025-06-10T20:02:38.786Z"
   },
   {
    "duration": 9,
    "start_time": "2025-06-10T20:02:38.806Z"
   },
   {
    "duration": 2094,
    "start_time": "2025-06-10T20:02:38.817Z"
   },
   {
    "duration": 197,
    "start_time": "2025-06-10T20:02:40.912Z"
   }
  ],
  "kernelspec": {
   "display_name": "Python 3 (ipykernel)",
   "language": "python",
   "name": "python3"
  },
  "language_info": {
   "codemirror_mode": {
    "name": "ipython",
    "version": 3
   },
   "file_extension": ".py",
   "mimetype": "text/x-python",
   "name": "python",
   "nbconvert_exporter": "python",
   "pygments_lexer": "ipython3",
   "version": "3.9.5"
  },
  "toc": {
   "base_numbering": 1,
   "nav_menu": {},
   "number_sections": true,
   "sideBar": true,
   "skip_h1_title": true,
   "title_cell": "Table of Contents",
   "title_sidebar": "Contents",
   "toc_cell": false,
   "toc_position": {
    "height": "calc(100% - 180px)",
    "left": "10px",
    "top": "150px",
    "width": "185.26px"
   },
   "toc_section_display": true,
   "toc_window_display": true
  }
 },
 "nbformat": 4,
 "nbformat_minor": 5
}
