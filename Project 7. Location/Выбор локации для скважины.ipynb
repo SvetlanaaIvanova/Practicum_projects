{
 "cells": [
  {
   "cell_type": "markdown",
   "metadata": {},
   "source": [
    "# Выбор локации для скважины добывающей компании."
   ]
  },
  {
   "cell_type": "markdown",
   "metadata": {},
   "source": [
    "**Цель**: добывающей компании нужно решить, где бурить новую скважину.\n",
    "\n",
    "**Исходные данные**: предоставлены пробы нефти в трёх регионах - в каждом 100 000 месторождений, где измерили качество нефти и объём её запасов. \n",
    "\n",
    "**Задачи**: построить модель машинного обучения, которая поможет определить регион, где добыча принесёт наибольшую прибыль, проанализировать возможную прибыль и риски (Bootstrap)."
   ]
  },
  {
   "cell_type": "markdown",
   "metadata": {},
   "source": [
    "## Загрузка и подготовка данных"
   ]
  },
  {
   "cell_type": "code",
   "execution_count": 1,
   "metadata": {},
   "outputs": [
    {
     "name": "stdout",
     "output_type": "stream",
     "text": [
      "\u001b[33mWARNING: Error parsing dependencies of ipykernel: Expected matching RIGHT_PARENTHESIS for LEFT_PARENTHESIS, after version specifier\r\n",
      "    matplotlib-inline (<0.2.0appnope,>=0.1.0) ; platform_system == \"Darwin\"\r\n",
      "                      ~~~~~~~~^\u001b[0m\u001b[33m\r\n",
      "\u001b[0m"
     ]
    }
   ],
   "source": [
    "! pip install phik -q"
   ]
  },
  {
   "cell_type": "code",
   "execution_count": 2,
   "metadata": {},
   "outputs": [],
   "source": [
    "# импортируем необходимые библиотеки:\n",
    "import pandas as pd\n",
    "import numpy as np\n",
    "from sklearn.model_selection import train_test_split\n",
    "from sklearn.pipeline import Pipeline\n",
    "# загружаем функцию для работы с метриками\n",
    "from sklearn.metrics import mean_squared_error\n",
    "# импортируем класс:\n",
    "from sklearn.model_selection import RandomizedSearchCV\n",
    "# загружаем нужную модель\n",
    "from sklearn.linear_model import LinearRegression\n",
    "\n",
    "from phik import phik_matrix\n",
    "from phik.report import plot_correlation_matrix"
   ]
  },
  {
   "cell_type": "code",
   "execution_count": 3,
   "metadata": {},
   "outputs": [
    {
     "data": {
      "text/html": [
       "<div>\n",
       "<style scoped>\n",
       "    .dataframe tbody tr th:only-of-type {\n",
       "        vertical-align: middle;\n",
       "    }\n",
       "\n",
       "    .dataframe tbody tr th {\n",
       "        vertical-align: top;\n",
       "    }\n",
       "\n",
       "    .dataframe thead th {\n",
       "        text-align: right;\n",
       "    }\n",
       "</style>\n",
       "<table border=\"1\" class=\"dataframe\">\n",
       "  <thead>\n",
       "    <tr style=\"text-align: right;\">\n",
       "      <th></th>\n",
       "      <th>id</th>\n",
       "      <th>f0</th>\n",
       "      <th>f1</th>\n",
       "      <th>f2</th>\n",
       "      <th>product</th>\n",
       "    </tr>\n",
       "  </thead>\n",
       "  <tbody>\n",
       "    <tr>\n",
       "      <th>0</th>\n",
       "      <td>txEyH</td>\n",
       "      <td>0.705745</td>\n",
       "      <td>-0.497823</td>\n",
       "      <td>1.221170</td>\n",
       "      <td>105.280062</td>\n",
       "    </tr>\n",
       "    <tr>\n",
       "      <th>1</th>\n",
       "      <td>2acmU</td>\n",
       "      <td>1.334711</td>\n",
       "      <td>-0.340164</td>\n",
       "      <td>4.365080</td>\n",
       "      <td>73.037750</td>\n",
       "    </tr>\n",
       "    <tr>\n",
       "      <th>2</th>\n",
       "      <td>409Wp</td>\n",
       "      <td>1.022732</td>\n",
       "      <td>0.151990</td>\n",
       "      <td>1.419926</td>\n",
       "      <td>85.265647</td>\n",
       "    </tr>\n",
       "    <tr>\n",
       "      <th>3</th>\n",
       "      <td>iJLyR</td>\n",
       "      <td>-0.032172</td>\n",
       "      <td>0.139033</td>\n",
       "      <td>2.978566</td>\n",
       "      <td>168.620776</td>\n",
       "    </tr>\n",
       "    <tr>\n",
       "      <th>4</th>\n",
       "      <td>Xdl7t</td>\n",
       "      <td>1.988431</td>\n",
       "      <td>0.155413</td>\n",
       "      <td>4.751769</td>\n",
       "      <td>154.036647</td>\n",
       "    </tr>\n",
       "  </tbody>\n",
       "</table>\n",
       "</div>"
      ],
      "text/plain": [
       "      id        f0        f1        f2     product\n",
       "0  txEyH  0.705745 -0.497823  1.221170  105.280062\n",
       "1  2acmU  1.334711 -0.340164  4.365080   73.037750\n",
       "2  409Wp  1.022732  0.151990  1.419926   85.265647\n",
       "3  iJLyR -0.032172  0.139033  2.978566  168.620776\n",
       "4  Xdl7t  1.988431  0.155413  4.751769  154.036647"
      ]
     },
     "metadata": {},
     "output_type": "display_data"
    },
    {
     "name": "stdout",
     "output_type": "stream",
     "text": [
      "<class 'pandas.core.frame.DataFrame'>\n",
      "RangeIndex: 100000 entries, 0 to 99999\n",
      "Data columns (total 5 columns):\n",
      " #   Column   Non-Null Count   Dtype  \n",
      "---  ------   --------------   -----  \n",
      " 0   id       100000 non-null  object \n",
      " 1   f0       100000 non-null  float64\n",
      " 2   f1       100000 non-null  float64\n",
      " 3   f2       100000 non-null  float64\n",
      " 4   product  100000 non-null  float64\n",
      "dtypes: float64(4), object(1)\n",
      "memory usage: 3.8+ MB\n"
     ]
    }
   ],
   "source": [
    "# данные первого региона:\n",
    "region1 = pd.read_csv ('/datasets/geo_data_0.csv')\n",
    "display(region1.head())\n",
    "region1.info()"
   ]
  },
  {
   "cell_type": "code",
   "execution_count": 4,
   "metadata": {},
   "outputs": [
    {
     "data": {
      "text/html": [
       "<div>\n",
       "<style scoped>\n",
       "    .dataframe tbody tr th:only-of-type {\n",
       "        vertical-align: middle;\n",
       "    }\n",
       "\n",
       "    .dataframe tbody tr th {\n",
       "        vertical-align: top;\n",
       "    }\n",
       "\n",
       "    .dataframe thead th {\n",
       "        text-align: right;\n",
       "    }\n",
       "</style>\n",
       "<table border=\"1\" class=\"dataframe\">\n",
       "  <thead>\n",
       "    <tr style=\"text-align: right;\">\n",
       "      <th></th>\n",
       "      <th>id</th>\n",
       "      <th>f0</th>\n",
       "      <th>f1</th>\n",
       "      <th>f2</th>\n",
       "      <th>product</th>\n",
       "    </tr>\n",
       "  </thead>\n",
       "  <tbody>\n",
       "    <tr>\n",
       "      <th>0</th>\n",
       "      <td>kBEdx</td>\n",
       "      <td>-15.001348</td>\n",
       "      <td>-8.276000</td>\n",
       "      <td>-0.005876</td>\n",
       "      <td>3.179103</td>\n",
       "    </tr>\n",
       "    <tr>\n",
       "      <th>1</th>\n",
       "      <td>62mP7</td>\n",
       "      <td>14.272088</td>\n",
       "      <td>-3.475083</td>\n",
       "      <td>0.999183</td>\n",
       "      <td>26.953261</td>\n",
       "    </tr>\n",
       "    <tr>\n",
       "      <th>2</th>\n",
       "      <td>vyE1P</td>\n",
       "      <td>6.263187</td>\n",
       "      <td>-5.948386</td>\n",
       "      <td>5.001160</td>\n",
       "      <td>134.766305</td>\n",
       "    </tr>\n",
       "    <tr>\n",
       "      <th>3</th>\n",
       "      <td>KcrkZ</td>\n",
       "      <td>-13.081196</td>\n",
       "      <td>-11.506057</td>\n",
       "      <td>4.999415</td>\n",
       "      <td>137.945408</td>\n",
       "    </tr>\n",
       "    <tr>\n",
       "      <th>4</th>\n",
       "      <td>AHL4O</td>\n",
       "      <td>12.702195</td>\n",
       "      <td>-8.147433</td>\n",
       "      <td>5.004363</td>\n",
       "      <td>134.766305</td>\n",
       "    </tr>\n",
       "  </tbody>\n",
       "</table>\n",
       "</div>"
      ],
      "text/plain": [
       "      id         f0         f1        f2     product\n",
       "0  kBEdx -15.001348  -8.276000 -0.005876    3.179103\n",
       "1  62mP7  14.272088  -3.475083  0.999183   26.953261\n",
       "2  vyE1P   6.263187  -5.948386  5.001160  134.766305\n",
       "3  KcrkZ -13.081196 -11.506057  4.999415  137.945408\n",
       "4  AHL4O  12.702195  -8.147433  5.004363  134.766305"
      ]
     },
     "metadata": {},
     "output_type": "display_data"
    },
    {
     "name": "stdout",
     "output_type": "stream",
     "text": [
      "<class 'pandas.core.frame.DataFrame'>\n",
      "RangeIndex: 100000 entries, 0 to 99999\n",
      "Data columns (total 5 columns):\n",
      " #   Column   Non-Null Count   Dtype  \n",
      "---  ------   --------------   -----  \n",
      " 0   id       100000 non-null  object \n",
      " 1   f0       100000 non-null  float64\n",
      " 2   f1       100000 non-null  float64\n",
      " 3   f2       100000 non-null  float64\n",
      " 4   product  100000 non-null  float64\n",
      "dtypes: float64(4), object(1)\n",
      "memory usage: 3.8+ MB\n"
     ]
    }
   ],
   "source": [
    "# данные второго региона:\n",
    "region2 = pd.read_csv ('/datasets/geo_data_1.csv')\n",
    "display(region2.head())\n",
    "region2.info()"
   ]
  },
  {
   "cell_type": "code",
   "execution_count": 5,
   "metadata": {},
   "outputs": [
    {
     "data": {
      "text/html": [
       "<div>\n",
       "<style scoped>\n",
       "    .dataframe tbody tr th:only-of-type {\n",
       "        vertical-align: middle;\n",
       "    }\n",
       "\n",
       "    .dataframe tbody tr th {\n",
       "        vertical-align: top;\n",
       "    }\n",
       "\n",
       "    .dataframe thead th {\n",
       "        text-align: right;\n",
       "    }\n",
       "</style>\n",
       "<table border=\"1\" class=\"dataframe\">\n",
       "  <thead>\n",
       "    <tr style=\"text-align: right;\">\n",
       "      <th></th>\n",
       "      <th>id</th>\n",
       "      <th>f0</th>\n",
       "      <th>f1</th>\n",
       "      <th>f2</th>\n",
       "      <th>product</th>\n",
       "    </tr>\n",
       "  </thead>\n",
       "  <tbody>\n",
       "    <tr>\n",
       "      <th>0</th>\n",
       "      <td>fwXo0</td>\n",
       "      <td>-1.146987</td>\n",
       "      <td>0.963328</td>\n",
       "      <td>-0.828965</td>\n",
       "      <td>27.758673</td>\n",
       "    </tr>\n",
       "    <tr>\n",
       "      <th>1</th>\n",
       "      <td>WJtFt</td>\n",
       "      <td>0.262778</td>\n",
       "      <td>0.269839</td>\n",
       "      <td>-2.530187</td>\n",
       "      <td>56.069697</td>\n",
       "    </tr>\n",
       "    <tr>\n",
       "      <th>2</th>\n",
       "      <td>ovLUW</td>\n",
       "      <td>0.194587</td>\n",
       "      <td>0.289035</td>\n",
       "      <td>-5.586433</td>\n",
       "      <td>62.871910</td>\n",
       "    </tr>\n",
       "    <tr>\n",
       "      <th>3</th>\n",
       "      <td>q6cA6</td>\n",
       "      <td>2.236060</td>\n",
       "      <td>-0.553760</td>\n",
       "      <td>0.930038</td>\n",
       "      <td>114.572842</td>\n",
       "    </tr>\n",
       "    <tr>\n",
       "      <th>4</th>\n",
       "      <td>WPMUX</td>\n",
       "      <td>-0.515993</td>\n",
       "      <td>1.716266</td>\n",
       "      <td>5.899011</td>\n",
       "      <td>149.600746</td>\n",
       "    </tr>\n",
       "  </tbody>\n",
       "</table>\n",
       "</div>"
      ],
      "text/plain": [
       "      id        f0        f1        f2     product\n",
       "0  fwXo0 -1.146987  0.963328 -0.828965   27.758673\n",
       "1  WJtFt  0.262778  0.269839 -2.530187   56.069697\n",
       "2  ovLUW  0.194587  0.289035 -5.586433   62.871910\n",
       "3  q6cA6  2.236060 -0.553760  0.930038  114.572842\n",
       "4  WPMUX -0.515993  1.716266  5.899011  149.600746"
      ]
     },
     "metadata": {},
     "output_type": "display_data"
    },
    {
     "name": "stdout",
     "output_type": "stream",
     "text": [
      "<class 'pandas.core.frame.DataFrame'>\n",
      "RangeIndex: 100000 entries, 0 to 99999\n",
      "Data columns (total 5 columns):\n",
      " #   Column   Non-Null Count   Dtype  \n",
      "---  ------   --------------   -----  \n",
      " 0   id       100000 non-null  object \n",
      " 1   f0       100000 non-null  float64\n",
      " 2   f1       100000 non-null  float64\n",
      " 3   f2       100000 non-null  float64\n",
      " 4   product  100000 non-null  float64\n",
      "dtypes: float64(4), object(1)\n",
      "memory usage: 3.8+ MB\n"
     ]
    }
   ],
   "source": [
    "# данные третьего региона:\n",
    "region3 = pd.read_csv ('/datasets/geo_data_2.csv')\n",
    "display(region3.head())\n",
    "region3.info()"
   ]
  },
  {
   "cell_type": "code",
   "execution_count": 6,
   "metadata": {},
   "outputs": [
    {
     "name": "stdout",
     "output_type": "stream",
     "text": [
      "Кол-во дубликатов в region1: 0\n",
      "Кол-во дубликатов в region2: 0\n",
      "Кол-во дубликатов в region3: 0\n"
     ]
    }
   ],
   "source": [
    "# проверим данные на наличие дубликатов:\n",
    "print (f'Кол-во дубликатов в region1:', region1.duplicated().sum())\n",
    "print (f'Кол-во дубликатов в region2:', region2.duplicated().sum())\n",
    "print (f'Кол-во дубликатов в region3:', region3.duplicated().sum())"
   ]
  },
  {
   "cell_type": "markdown",
   "metadata": {},
   "source": [
    "Каждый из 3 датасетов содержит информацию о 100 000 скважинах, имеющих уникальный идентификатор, и их 3 признаках, характеризующих качество нефти в скважине, а также информацию об объёмах запасов нефти в скважине в тыс. баррелей. Пропуски и явные дубликаты в данных отсутствуют, типы данных имеют соответствующий содержимому формат. "
   ]
  },
  {
   "cell_type": "code",
   "execution_count": 7,
   "metadata": {},
   "outputs": [
    {
     "data": {
      "image/png": "[encoded data removed]",
      "text/plain": [
       "<Figure size 720x432 with 4 Axes>"
      ]
     },
     "metadata": {
      "needs_background": "light"
     },
     "output_type": "display_data"
    }
   ],
   "source": [
    "# посмотрим на распределение признаков в регионе 1:\n",
    "region1.drop('id', axis=1).hist(bins=10, figsize=(10, 6));"
   ]
  },
  {
   "cell_type": "code",
   "execution_count": 8,
   "metadata": {},
   "outputs": [
    {
     "data": {
      "image/png": "[encoded data removed]",
      "text/plain": [
       "<Figure size 720x432 with 4 Axes>"
      ]
     },
     "metadata": {
      "needs_background": "light"
     },
     "output_type": "display_data"
    }
   ],
   "source": [
    "# посмотрим на распределение признаков в регионе 2:\n",
    "region2.drop('id', axis=1).hist(bins=10, figsize=(10, 6));"
   ]
  },
  {
   "cell_type": "code",
   "execution_count": 9,
   "metadata": {},
   "outputs": [
    {
     "data": {
      "image/png": "[encoded data removed]",
      "text/plain": [
       "<Figure size 720x432 with 4 Axes>"
      ]
     },
     "metadata": {
      "needs_background": "light"
     },
     "output_type": "display_data"
    }
   ],
   "source": [
    "# посмотрим на распределение признаков в регионе 3:\n",
    "region3.drop('id', axis=1).hist(bins=10, figsize=(10, 6));"
   ]
  },
  {
   "cell_type": "markdown",
   "metadata": {},
   "source": [
    "Признаки месторождений 1 и 3 регионов распределены нормально в отличии от признаков месторождений второго региона, где признак f2, а также целевой признак имеют несколько пиков. Выбросы и аномальные значения в данных не наблюдаются.\n",
    "\n",
    "Проведем корреляционный анализ признаков:"
   ]
  },
  {
   "cell_type": "code",
   "execution_count": 10,
   "metadata": {},
   "outputs": [
    {
     "name": "stdout",
     "output_type": "stream",
     "text": [
      "interval columns not set, guessing: ['f0', 'f1', 'f2', 'product']\n"
     ]
    },
    {
     "data": {
      "image/png": "[encoded data removed]",
      "text/plain": [
       "<Figure size 360x216 with 2 Axes>"
      ]
     },
     "metadata": {
      "needs_background": "light"
     },
     "output_type": "display_data"
    }
   ],
   "source": [
    "# посмотрим на распределение признаков в регионе 1:\n",
    "phik_overview = phik_matrix(region1.drop('id', axis=1))\n",
    "plot_correlation_matrix(\n",
    "    phik_overview.values,\n",
    "    x_labels=phik_overview.columns,\n",
    "    y_labels=phik_overview.index,\n",
    "    vmin=0, vmax=1, color_map='Greens',\n",
    "    title=r'Матрица корреляции признаков в регионе 1',\n",
    "    fontsize_factor=0.8,\n",
    "    figsize=(5, 3)\n",
    ");"
   ]
  },
  {
   "cell_type": "code",
   "execution_count": 11,
   "metadata": {},
   "outputs": [
    {
     "name": "stdout",
     "output_type": "stream",
     "text": [
      "interval columns not set, guessing: ['f0', 'f1', 'f2', 'product']\n"
     ]
    },
    {
     "data": {
      "image/png": "[encoded data removed]",
      "text/plain": [
       "<Figure size 360x216 with 2 Axes>"
      ]
     },
     "metadata": {
      "needs_background": "light"
     },
     "output_type": "display_data"
    }
   ],
   "source": [
    "# посмотрим на распределение признаков в регионе 2:\n",
    "phik_overview = phik_matrix(region2.drop('id', axis=1))\n",
    "plot_correlation_matrix(\n",
    "    phik_overview.values,\n",
    "    x_labels=phik_overview.columns,\n",
    "    y_labels=phik_overview.index,\n",
    "    vmin=0, vmax=1, color_map='Greens',\n",
    "    title=r'Матрица корреляции признаков в регионе 2',\n",
    "    fontsize_factor=0.8,\n",
    "    figsize=(5, 3)\n",
    ");"
   ]
  },
  {
   "cell_type": "code",
   "execution_count": 12,
   "metadata": {},
   "outputs": [
    {
     "name": "stdout",
     "output_type": "stream",
     "text": [
      "interval columns not set, guessing: ['f0', 'f1', 'f2', 'product']\n"
     ]
    },
    {
     "data": {
      "image/png": "[encoded data removed]",
      "text/plain": [
       "<Figure size 360x216 with 2 Axes>"
      ]
     },
     "metadata": {
      "needs_background": "light"
     },
     "output_type": "display_data"
    }
   ],
   "source": [
    "# посмотрим на распределение признаков в регионе 3:\n",
    "phik_overview = phik_matrix(region3.drop('id', axis=1))\n",
    "plot_correlation_matrix(\n",
    "    phik_overview.values,\n",
    "    x_labels=phik_overview.columns,\n",
    "    y_labels=phik_overview.index,\n",
    "    vmin=0, vmax=1, color_map='Greens',\n",
    "    title=r'Матрица корреляции признаков в регионе 3',\n",
    "    fontsize_factor=0.8,\n",
    "    figsize=(5, 3)\n",
    ");"
   ]
  },
  {
   "cell_type": "markdown",
   "metadata": {},
   "source": [
    "Мультиколлинеарность между входными признаками не наблюдается. Наибольшее влияние на целевой признак оказывает признак f2, при это сильнее всего он оказывает влияние в регионе 2 (0,98 против 0,48 и 0,44 в регионах 1 и 2)."
   ]
  },
  {
   "cell_type": "markdown",
   "metadata": {},
   "source": [
    "## Обучение и проверка модели"
   ]
  },
  {
   "cell_type": "markdown",
   "metadata": {},
   "source": [
    "Разделим данные 3 регионов на обучающую и валидационную выборки в соотношении 75:25."
   ]
  },
  {
   "cell_type": "code",
   "execution_count": 13,
   "metadata": {},
   "outputs": [],
   "source": [
    "# сделаем это через функцию:\n",
    "RANDOM_STATE = 42 # создание константы RANDOM_STATE\n",
    "\n",
    "def prepare_data(name):\n",
    "    # id превращаем в индексы строк, т.к. данный признак не понадобится в моделировании\n",
    "    name = name.set_index('id')\n",
    "    # выделим целевой и обучающие признаки:\n",
    "    X = name.drop(columns='product')\n",
    "    y = name['product']\n",
    "    X_train, X_test, y_train, y_test = train_test_split(X, y, random_state=RANDOM_STATE)\n",
    "    return X_train, X_test, y_train, y_test"
   ]
  },
  {
   "cell_type": "markdown",
   "metadata": {},
   "source": [
    "Обучим модель линейной регрессии и сделаем предсказания на валидационной выборке."
   ]
  },
  {
   "cell_type": "code",
   "execution_count": 14,
   "metadata": {},
   "outputs": [],
   "source": [
    "# инициализация модели:\n",
    "model = LinearRegression()"
   ]
  },
  {
   "cell_type": "code",
   "execution_count": 15,
   "metadata": {},
   "outputs": [
    {
     "name": "stdout",
     "output_type": "stream",
     "text": [
      "Cредний запас предсказанного сырья в регионе 1: 92.39879990657768, среднее отклонение от истинного значения: 37.75660035026169\n",
      "Cредний запас предсказанного сырья в регионе 2: 68.71287803913762, среднее отклонение от истинного значения: 0.890280100102884\n",
      "Cредний запас предсказанного сырья в регионе 3: 94.77102387765939, среднее отклонение от истинного значения: 40.145872311342174\n"
     ]
    }
   ],
   "source": [
    "regions = [region1, region2, region3]\n",
    "num = 0\n",
    "for reg in regions:\n",
    "    num += 1\n",
    "    X_train, X_test, y_train, y_test = prepare_data(reg)\n",
    "    model = model.fit(X_train, y_train)\n",
    "    preds = model.predict(X_test)\n",
    "    rmse = np.sqrt(mean_squared_error(y_test, preds))\n",
    "    print(f'Cредний запас предсказанного сырья в регионе {num}: {preds.mean()}, среднее отклонение от истинного значения: {rmse}');"
   ]
  },
  {
   "cell_type": "markdown",
   "metadata": {},
   "source": [
    "Модель линейной регрессии лучше всего предсказывает объем сырья в регионе 2, где средний объем сырья = 68,7 +/- 0,9 тыс. баррелей. В регионе 1 и 2 средние объемы предсказанного сырья - 92 и 94 тыс. баррелей соответственно, но отклонение предсказания от истинных значений при этом 38 и 40 тыс. бареллей."
   ]
  },
  {
   "cell_type": "markdown",
   "metadata": {},
   "source": [
    "## Подготовка к расчёту прибыли"
   ]
  },
  {
   "cell_type": "code",
   "execution_count": 16,
   "metadata": {},
   "outputs": [],
   "source": [
    "# обозначим ключевые значения для расчётов отдельными переменными:\n",
    "BUDGET = 10_000_000\n",
    "PROFIT = 450\n",
    "POINTS = 500\n",
    "BEST_POINTS = 200\n",
    "LOSSES = 0.025"
   ]
  },
  {
   "cell_type": "markdown",
   "metadata": {},
   "source": [
    "Рассчитаем достаточный объём сырья для безубыточной разработки новой скважины. "
   ]
  },
  {
   "cell_type": "code",
   "execution_count": 17,
   "metadata": {},
   "outputs": [
    {
     "data": {
      "text/plain": [
       "111.11"
      ]
     },
     "execution_count": 17,
     "metadata": {},
     "output_type": "execute_result"
    }
   ],
   "source": [
    "volume = BUDGET/(BEST_POINTS * PROFIT)\n",
    "round(volume, 2)"
   ]
  },
  {
   "cell_type": "markdown",
   "metadata": {},
   "source": [
    "Для безубыточной разработки необходимо добывать не менее 111,11 тыс. баррелей в каждой из скважин, это больше, чем расчитанный средний объем в каждом из трех регионов, при этом меньше всего подходящих скважин находятся во втором регионе. Что значит, что в каждом регионе нужно отобрать наиболее производительные скважины, исключив скважины с маленьким предсказанным объемом добычи, в целях минимизации риска убытков."
   ]
  },
  {
   "cell_type": "markdown",
   "metadata": {},
   "source": [
    "Функция для расчёта прибыли по выбранным скважинам и предсказаниям модели:"
   ]
  },
  {
   "cell_type": "code",
   "execution_count": 18,
   "metadata": {},
   "outputs": [],
   "source": [
    "def total_profit(data):\n",
    "    data = data.sort_values(by='preds', ascending = False)\n",
    "    best_data = data [:BEST_POINTS]\n",
    "    profit_200 = (best_data ['product'].sum()) * PROFIT\n",
    "    return profit_200 - BUDGET"
   ]
  },
  {
   "cell_type": "code",
   "execution_count": 19,
   "metadata": {},
   "outputs": [
    {
     "name": "stdout",
     "output_type": "stream",
     "text": [
      "Общая прибыль от добычи в 200 лучших скважинах региона 1: 3359141.11 тыс.руб.\n",
      "Общая прибыль от добычи в 200 лучших скважинах региона 2: 2415086.7 тыс.руб.\n",
      "Общая прибыль от добычи в 200 лучших скважинах региона 3: 2598571.76 тыс.руб.\n"
     ]
    }
   ],
   "source": [
    "num = 0\n",
    "for reg in regions:\n",
    "    num += 1\n",
    "    X_train, X_test, y_train, y_test = prepare_data(reg)\n",
    "    model = model.fit(X_train, y_train)\n",
    "    X_test['preds'] = model.predict(X_test)\n",
    "    X_test['product'] = y_test\n",
    "    print (f'Общая прибыль от добычи в 200 лучших скважинах региона {num}: {round(total_profit(X_test), 2)} тыс.руб.')"
   ]
  },
  {
   "cell_type": "markdown",
   "metadata": {},
   "source": [
    "На валидационных данных лучший показатель прибыльности 200 скважин продемонстрировал регион 1."
   ]
  },
  {
   "cell_type": "markdown",
   "metadata": {},
   "source": [
    "## Расчёт прибыли и рисков "
   ]
  },
  {
   "cell_type": "markdown",
   "metadata": {},
   "source": [
    "Применим технику Bootstrap с 1000 выборок, чтобы найти распределение прибыли в каждом регионе."
   ]
  },
  {
   "cell_type": "code",
   "execution_count": 20,
   "metadata": {},
   "outputs": [
    {
     "name": "stdout",
     "output_type": "stream",
     "text": [
      "Cредняя прибыль 200 лучших скважин регионе 1: 406278.78 тыс. руб.\n",
      "C вероятностью 95 % будет в среднем получена прибыль от -117742.14 до 911737.05 тыс. руб.\n",
      "Вероятность убытков (в среднем = -123640.02 тыс. руб.) составляет 6.7 %.\n",
      "\n",
      "Cредняя прибыль 200 лучших скважин регионе 2: 441504.28 тыс. руб.\n",
      "C вероятностью 95 % будет в среднем получена прибыль от 35728.49 до 828006.64 тыс. руб.\n",
      "Вероятность убытков (в среднем = -88483.8 тыс. руб.) составляет 1.6 %.\n",
      "\n",
      "Cредняя прибыль 200 лучших скважин регионе 3: 385213.2 тыс. руб.\n",
      "C вероятностью 95 % будет в среднем получена прибыль от -164785.17 до 888206.23 тыс. руб.\n",
      "Вероятность убытков (в среднем = -126558.61 тыс. руб.) составляет 7.8 %.\n",
      "\n"
     ]
    }
   ],
   "source": [
    "state = np.random.RandomState(12345)\n",
    "num = 0\n",
    "for reg in regions:    \n",
    "    num += 1\n",
    "    X_train, X_test, y_train, y_test = prepare_data(reg)\n",
    "    model = model.fit(X_train, y_train)\n",
    "    X_test['preds'] = model.predict(X_test)\n",
    "    X_test['product'] = y_test \n",
    "    values = []\n",
    "    for i in range(1000):\n",
    "        subsample = X_test.sample(frac=POINTS/X_test.shape[0], replace=True, random_state=state)\n",
    "        values.append(total_profit(subsample))\n",
    "    values = pd.Series(values)\n",
    "    lower = values.quantile(0.025) #  95%-й доверительный интервал\n",
    "    upper = values.quantile(0.975)\n",
    "    mean = values.mean() # средняя прибыль\n",
    "    print(f'Cредняя прибыль 200 лучших скважин регионе {num}: {round(mean, 2)} тыс. руб.')\n",
    "    print(f'C вероятностью 95 % будет в среднем получена прибыль от {round(lower, 2)} до {round(upper, 2)} тыс. руб.')\n",
    "    print(f'Вероятность убытков (в среднем = {round(values[values < 0].mean(), 2)} тыс. руб.) составляет', \n",
    "          f'{round((len(values[values < 0]) / len(values)) * 100, 2)} %.')\n",
    "    print()"
   ]
  },
  {
   "cell_type": "markdown",
   "metadata": {},
   "source": [
    "**Вывод**: исходя из проведенного исследования наибольшую инвестиционную привлекательность имеет регион 2, т. к. прогнозируемая прибыль от разработки 200 лучших месторождений нефти в нем принесет в среднем прибыль = 441 504.28 тыс. руб. (наилучший показатель в трех регионах), при этом риск получения убытка находится в пределах допустимого значения (менее 2,5%) и убыток возможен в среднем около 88 483.8 тыс. руб. Регионы 1 и 3 не является привлекательным для инвестирования, т.к. риск возникновения убытков при инвестировании в них выше допустимого значения в 2,5 %."
   ]
  }
 ],
 "metadata": {
  "ExecuteTimeLog": [
   {
    "duration": 14973,
    "start_time": "2024-06-16T19:01:08.620Z"
   },
   {
    "duration": 2113,
    "start_time": "2024-06-16T19:02:07.714Z"
   },
   {
    "duration": 265,
    "start_time": "2024-06-16T19:03:39.073Z"
   },
   {
    "duration": 5,
    "start_time": "2024-06-16T19:04:01.815Z"
   },
   {
    "duration": 160,
    "start_time": "2024-06-16T19:04:04.604Z"
   },
   {
    "duration": 241,
    "start_time": "2024-06-16T19:04:31.455Z"
   },
   {
    "duration": 159,
    "start_time": "2024-06-16T19:04:54.287Z"
   },
   {
    "duration": 243,
    "start_time": "2024-06-16T19:05:36.139Z"
   },
   {
    "duration": 13713,
    "start_time": "2024-06-17T18:58:19.302Z"
   },
   {
    "duration": 1830,
    "start_time": "2024-06-17T18:58:33.017Z"
   },
   {
    "duration": 545,
    "start_time": "2024-06-17T18:58:34.849Z"
   },
   {
    "duration": 502,
    "start_time": "2024-06-17T18:58:35.396Z"
   },
   {
    "duration": 514,
    "start_time": "2024-06-17T18:58:35.900Z"
   },
   {
    "duration": 47,
    "start_time": "2024-06-17T19:01:01.619Z"
   },
   {
    "duration": 129,
    "start_time": "2024-06-17T19:01:06.356Z"
   },
   {
    "duration": 131,
    "start_time": "2024-06-17T19:01:42.387Z"
   },
   {
    "duration": 132,
    "start_time": "2024-06-17T19:01:56.596Z"
   },
   {
    "duration": 4,
    "start_time": "2024-06-17T19:02:19.779Z"
   },
   {
    "duration": 54,
    "start_time": "2024-06-17T19:02:23.006Z"
   },
   {
    "duration": 130,
    "start_time": "2024-06-17T19:02:54.055Z"
   },
   {
    "duration": 131,
    "start_time": "2024-06-17T19:04:51.239Z"
   },
   {
    "duration": 124,
    "start_time": "2024-06-17T19:05:12.424Z"
   },
   {
    "duration": 129,
    "start_time": "2024-06-17T19:05:27.787Z"
   },
   {
    "duration": 9,
    "start_time": "2024-06-17T19:06:13.202Z"
   },
   {
    "duration": 119,
    "start_time": "2024-06-17T19:07:07.737Z"
   },
   {
    "duration": 105,
    "start_time": "2024-06-17T19:08:24.081Z"
   },
   {
    "duration": 128,
    "start_time": "2024-06-17T19:09:35.922Z"
   },
   {
    "duration": 139,
    "start_time": "2024-06-17T19:09:53.083Z"
   },
   {
    "duration": 140,
    "start_time": "2024-06-17T19:10:10.823Z"
   },
   {
    "duration": 135,
    "start_time": "2024-06-17T19:10:13.722Z"
   },
   {
    "duration": 135,
    "start_time": "2024-06-17T19:10:32.742Z"
   },
   {
    "duration": 136,
    "start_time": "2024-06-17T19:10:45.740Z"
   },
   {
    "duration": 105,
    "start_time": "2024-06-17T19:10:53.315Z"
   },
   {
    "duration": 3,
    "start_time": "2024-06-17T19:49:04.863Z"
   },
   {
    "duration": 23,
    "start_time": "2024-06-17T19:49:45.909Z"
   },
   {
    "duration": 12,
    "start_time": "2024-06-17T19:50:21.019Z"
   },
   {
    "duration": 136,
    "start_time": "2024-06-17T19:53:22.775Z"
   },
   {
    "duration": 134,
    "start_time": "2024-06-17T19:53:22.912Z"
   },
   {
    "duration": 139,
    "start_time": "2024-06-17T19:53:23.048Z"
   },
   {
    "duration": 126,
    "start_time": "2024-06-17T19:53:23.189Z"
   },
   {
    "duration": 3,
    "start_time": "2024-06-17T19:53:23.317Z"
   },
   {
    "duration": 20,
    "start_time": "2024-06-17T19:53:23.322Z"
   },
   {
    "duration": 24,
    "start_time": "2024-06-17T19:53:53.116Z"
   },
   {
    "duration": 11,
    "start_time": "2024-06-17T19:54:57.257Z"
   },
   {
    "duration": 12,
    "start_time": "2024-06-17T19:55:20.605Z"
   },
   {
    "duration": 13,
    "start_time": "2024-06-17T19:55:49.770Z"
   },
   {
    "duration": 4,
    "start_time": "2024-06-17T19:55:58.442Z"
   },
   {
    "duration": 16,
    "start_time": "2024-06-17T19:55:59.116Z"
   },
   {
    "duration": 2,
    "start_time": "2024-06-17T19:56:50.995Z"
   },
   {
    "duration": 20,
    "start_time": "2024-06-17T19:57:25.545Z"
   },
   {
    "duration": 11,
    "start_time": "2024-06-17T19:57:54.706Z"
   },
   {
    "duration": 13,
    "start_time": "2024-06-17T19:58:07.456Z"
   },
   {
    "duration": 7,
    "start_time": "2024-06-17T19:58:20.426Z"
   },
   {
    "duration": 10,
    "start_time": "2024-06-17T19:58:52.465Z"
   },
   {
    "duration": 11,
    "start_time": "2024-06-17T19:58:58.458Z"
   },
   {
    "duration": 20,
    "start_time": "2024-06-17T19:59:16.968Z"
   },
   {
    "duration": 99,
    "start_time": "2024-06-17T20:00:38.103Z"
   },
   {
    "duration": 47,
    "start_time": "2024-06-17T20:01:13.490Z"
   },
   {
    "duration": 46,
    "start_time": "2024-06-17T20:01:19.299Z"
   },
   {
    "duration": 45,
    "start_time": "2024-06-17T20:01:42.060Z"
   },
   {
    "duration": 47,
    "start_time": "2024-06-17T20:01:46.912Z"
   },
   {
    "duration": 42,
    "start_time": "2024-06-17T20:01:52.616Z"
   },
   {
    "duration": 44,
    "start_time": "2024-06-17T20:02:29.221Z"
   },
   {
    "duration": 85,
    "start_time": "2024-06-17T20:03:13.760Z"
   },
   {
    "duration": 46,
    "start_time": "2024-06-17T20:03:43.689Z"
   },
   {
    "duration": 138,
    "start_time": "2024-06-17T20:03:54.963Z"
   },
   {
    "duration": 81,
    "start_time": "2024-06-17T20:07:55.011Z"
   },
   {
    "duration": 81,
    "start_time": "2024-06-17T20:08:07.442Z"
   },
   {
    "duration": 40,
    "start_time": "2024-06-17T20:09:03.538Z"
   },
   {
    "duration": 44,
    "start_time": "2024-06-17T20:09:05.856Z"
   },
   {
    "duration": 85,
    "start_time": "2024-06-17T20:09:19.697Z"
   },
   {
    "duration": 5,
    "start_time": "2024-06-17T20:10:24.040Z"
   },
   {
    "duration": 11,
    "start_time": "2024-06-17T20:10:31.536Z"
   },
   {
    "duration": 4,
    "start_time": "2024-06-17T20:10:51.728Z"
   },
   {
    "duration": 16,
    "start_time": "2024-06-17T20:10:52.436Z"
   },
   {
    "duration": 3,
    "start_time": "2024-06-17T20:11:02.813Z"
   },
   {
    "duration": 14,
    "start_time": "2024-06-17T20:11:04.196Z"
   },
   {
    "duration": 97,
    "start_time": "2024-06-17T20:11:22.095Z"
   },
   {
    "duration": 4,
    "start_time": "2024-06-17T20:11:35.815Z"
   },
   {
    "duration": 38,
    "start_time": "2024-06-17T20:11:36.175Z"
   },
   {
    "duration": 41,
    "start_time": "2024-06-17T20:11:49.901Z"
   },
   {
    "duration": 4,
    "start_time": "2024-06-17T20:14:00.952Z"
   },
   {
    "duration": 4,
    "start_time": "2024-06-17T20:14:08.696Z"
   },
   {
    "duration": 60,
    "start_time": "2024-06-17T20:14:17.418Z"
   },
   {
    "duration": 43,
    "start_time": "2024-06-17T20:14:34.426Z"
   },
   {
    "duration": 4,
    "start_time": "2024-06-17T20:18:43.568Z"
   },
   {
    "duration": 3,
    "start_time": "2024-06-17T20:18:47.768Z"
   },
   {
    "duration": 220,
    "start_time": "2024-06-17T20:18:48.674Z"
   },
   {
    "duration": 232,
    "start_time": "2024-06-17T20:18:59.160Z"
   },
   {
    "duration": 160,
    "start_time": "2024-06-17T20:19:03.678Z"
   },
   {
    "duration": 219,
    "start_time": "2024-06-17T20:19:07.920Z"
   },
   {
    "duration": 223,
    "start_time": "2024-06-17T20:19:19.292Z"
   },
   {
    "duration": 223,
    "start_time": "2024-06-17T20:19:25.195Z"
   },
   {
    "duration": 203,
    "start_time": "2024-06-17T20:19:55.197Z"
   },
   {
    "duration": 138,
    "start_time": "2024-06-17T20:20:01.520Z"
   },
   {
    "duration": 234,
    "start_time": "2024-06-17T20:20:15.345Z"
   },
   {
    "duration": 230,
    "start_time": "2024-06-17T20:20:21.271Z"
   },
   {
    "duration": 192,
    "start_time": "2024-06-17T20:21:28.871Z"
   },
   {
    "duration": 208,
    "start_time": "2024-06-17T20:21:36.046Z"
   },
   {
    "duration": 141,
    "start_time": "2024-06-17T20:21:42.464Z"
   },
   {
    "duration": 205,
    "start_time": "2024-06-17T20:21:52.515Z"
   },
   {
    "duration": 201,
    "start_time": "2024-06-17T20:21:57.066Z"
   },
   {
    "duration": 4,
    "start_time": "2024-06-17T20:22:25.030Z"
   },
   {
    "duration": 252,
    "start_time": "2024-06-17T20:22:25.785Z"
   },
   {
    "duration": 4,
    "start_time": "2024-06-17T20:22:48.760Z"
   },
   {
    "duration": 198,
    "start_time": "2024-06-17T20:22:50.254Z"
   },
   {
    "duration": 120,
    "start_time": "2024-06-17T20:22:51.608Z"
   },
   {
    "duration": 191,
    "start_time": "2024-06-17T20:23:12.694Z"
   },
   {
    "duration": 186,
    "start_time": "2024-06-17T20:23:25.534Z"
   },
   {
    "duration": 201,
    "start_time": "2024-06-17T20:23:32.934Z"
   },
   {
    "duration": 191,
    "start_time": "2024-06-17T20:24:15.554Z"
   },
   {
    "duration": 200,
    "start_time": "2024-06-17T20:24:25.652Z"
   },
   {
    "duration": 3,
    "start_time": "2024-06-17T20:25:28.886Z"
   },
   {
    "duration": 33,
    "start_time": "2024-06-17T20:25:29.433Z"
   },
   {
    "duration": 50,
    "start_time": "2024-06-17T20:25:31.423Z"
   },
   {
    "duration": 34,
    "start_time": "2024-06-17T20:25:32.573Z"
   },
   {
    "duration": 75,
    "start_time": "2024-06-17T20:26:03.250Z"
   },
   {
    "duration": 77,
    "start_time": "2024-06-17T20:26:38.655Z"
   },
   {
    "duration": 21,
    "start_time": "2024-06-17T20:28:33.293Z"
   },
   {
    "duration": 52,
    "start_time": "2024-06-17T20:29:45.474Z"
   },
   {
    "duration": 76,
    "start_time": "2024-06-17T20:29:57.312Z"
   },
   {
    "duration": 2,
    "start_time": "2024-06-17T20:30:44.605Z"
   },
   {
    "duration": 10,
    "start_time": "2024-06-17T20:46:56.905Z"
   },
   {
    "duration": 10,
    "start_time": "2024-06-17T20:47:31.423Z"
   },
   {
    "duration": 1894,
    "start_time": "2024-06-18T20:41:33.233Z"
   },
   {
    "duration": 14412,
    "start_time": "2024-06-18T20:41:40.427Z"
   },
   {
    "duration": 18,
    "start_time": "2024-06-18T20:41:54.842Z"
   },
   {
    "duration": 0,
    "start_time": "2024-06-18T20:41:54.862Z"
   },
   {
    "duration": 0,
    "start_time": "2024-06-18T20:41:54.863Z"
   },
   {
    "duration": 0,
    "start_time": "2024-06-18T20:41:54.865Z"
   },
   {
    "duration": 0,
    "start_time": "2024-06-18T20:41:54.866Z"
   },
   {
    "duration": 0,
    "start_time": "2024-06-18T20:41:54.867Z"
   },
   {
    "duration": 0,
    "start_time": "2024-06-18T20:41:54.868Z"
   },
   {
    "duration": 0,
    "start_time": "2024-06-18T20:41:54.869Z"
   },
   {
    "duration": 12272,
    "start_time": "2024-06-18T20:52:07.997Z"
   },
   {
    "duration": 486,
    "start_time": "2024-06-18T20:52:20.271Z"
   },
   {
    "duration": 0,
    "start_time": "2024-06-18T20:52:37.976Z"
   },
   {
    "duration": 0,
    "start_time": "2024-06-18T20:52:37.977Z"
   },
   {
    "duration": 1,
    "start_time": "2024-06-18T20:52:37.978Z"
   },
   {
    "duration": 0,
    "start_time": "2024-06-18T20:52:37.980Z"
   },
   {
    "duration": 1,
    "start_time": "2024-06-18T20:52:37.981Z"
   },
   {
    "duration": 0,
    "start_time": "2024-06-18T20:52:37.983Z"
   },
   {
    "duration": 0,
    "start_time": "2024-06-18T20:52:37.985Z"
   },
   {
    "duration": 0,
    "start_time": "2024-06-18T20:52:37.987Z"
   },
   {
    "duration": 0,
    "start_time": "2024-06-18T20:52:37.988Z"
   },
   {
    "duration": 10962,
    "start_time": "2024-06-18T20:56:31.115Z"
   },
   {
    "duration": 455,
    "start_time": "2024-06-18T20:56:42.080Z"
   },
   {
    "duration": 0,
    "start_time": "2024-06-18T20:56:42.537Z"
   },
   {
    "duration": 0,
    "start_time": "2024-06-18T20:56:42.539Z"
   },
   {
    "duration": 0,
    "start_time": "2024-06-18T20:56:42.540Z"
   },
   {
    "duration": 0,
    "start_time": "2024-06-18T20:56:42.541Z"
   },
   {
    "duration": 0,
    "start_time": "2024-06-18T20:56:42.542Z"
   },
   {
    "duration": 0,
    "start_time": "2024-06-18T20:56:42.543Z"
   },
   {
    "duration": 0,
    "start_time": "2024-06-18T20:56:42.544Z"
   },
   {
    "duration": 14470,
    "start_time": "2024-06-18T20:59:01.249Z"
   },
   {
    "duration": 427,
    "start_time": "2024-06-18T21:07:01.618Z"
   },
   {
    "duration": 18,
    "start_time": "2024-06-18T21:07:26.854Z"
   },
   {
    "duration": 8444,
    "start_time": "2024-06-18T21:07:32.615Z"
   },
   {
    "duration": 28,
    "start_time": "2024-06-18T21:07:41.062Z"
   },
   {
    "duration": 0,
    "start_time": "2024-06-18T21:07:41.093Z"
   },
   {
    "duration": 0,
    "start_time": "2024-06-18T21:07:41.094Z"
   },
   {
    "duration": 0,
    "start_time": "2024-06-18T21:07:41.095Z"
   },
   {
    "duration": 0,
    "start_time": "2024-06-18T21:07:41.097Z"
   },
   {
    "duration": 0,
    "start_time": "2024-06-18T21:07:41.099Z"
   },
   {
    "duration": 0,
    "start_time": "2024-06-18T21:07:41.100Z"
   },
   {
    "duration": 0,
    "start_time": "2024-06-18T21:07:41.102Z"
   },
   {
    "duration": 8567,
    "start_time": "2024-06-18T21:09:15.725Z"
   },
   {
    "duration": 28,
    "start_time": "2024-06-18T21:09:24.295Z"
   },
   {
    "duration": 8404,
    "start_time": "2024-06-18T21:10:39.198Z"
   },
   {
    "duration": 1914,
    "start_time": "2024-06-18T21:10:47.605Z"
   },
   {
    "duration": 267,
    "start_time": "2024-06-18T21:10:49.520Z"
   },
   {
    "duration": 229,
    "start_time": "2024-06-18T21:10:49.790Z"
   },
   {
    "duration": 237,
    "start_time": "2024-06-18T21:10:50.021Z"
   },
   {
    "duration": 149,
    "start_time": "2024-06-18T21:10:50.260Z"
   },
   {
    "duration": 4,
    "start_time": "2024-06-18T21:10:50.411Z"
   },
   {
    "duration": 178,
    "start_time": "2024-06-18T21:10:50.417Z"
   },
   {
    "duration": 3,
    "start_time": "2024-06-18T21:10:50.597Z"
   },
   {
    "duration": 525,
    "start_time": "2024-06-18T21:12:37.358Z"
   },
   {
    "duration": 144,
    "start_time": "2024-06-18T21:15:05.537Z"
   },
   {
    "duration": 48,
    "start_time": "2024-06-18T21:15:11.735Z"
   },
   {
    "duration": 550,
    "start_time": "2024-06-18T21:17:01.731Z"
   },
   {
    "duration": 619,
    "start_time": "2024-06-18T21:17:37.851Z"
   },
   {
    "duration": 513,
    "start_time": "2024-06-18T21:18:00.180Z"
   },
   {
    "duration": 758,
    "start_time": "2024-06-18T21:22:00.934Z"
   },
   {
    "duration": 646,
    "start_time": "2024-06-18T21:22:24.376Z"
   },
   {
    "duration": 637,
    "start_time": "2024-06-18T21:22:28.515Z"
   },
   {
    "duration": 734,
    "start_time": "2024-06-18T21:22:33.737Z"
   },
   {
    "duration": 642,
    "start_time": "2024-06-18T21:22:39.096Z"
   },
   {
    "duration": 631,
    "start_time": "2024-06-18T21:23:37.275Z"
   },
   {
    "duration": 781,
    "start_time": "2024-06-18T21:24:03.590Z"
   },
   {
    "duration": 4,
    "start_time": "2024-06-18T21:27:53.675Z"
   },
   {
    "duration": 133,
    "start_time": "2024-06-18T21:27:54.457Z"
   },
   {
    "duration": 3,
    "start_time": "2024-06-18T21:31:46.433Z"
   },
   {
    "duration": 48,
    "start_time": "2024-06-18T21:34:47.317Z"
   },
   {
    "duration": 12,
    "start_time": "2024-06-18T21:34:52.127Z"
   },
   {
    "duration": 15,
    "start_time": "2024-06-18T21:34:58.426Z"
   },
   {
    "duration": 111,
    "start_time": "2024-06-18T21:37:18.854Z"
   },
   {
    "duration": 153,
    "start_time": "2024-06-18T21:37:30.116Z"
   },
   {
    "duration": 5,
    "start_time": "2024-06-18T21:41:59.753Z"
   },
   {
    "duration": 174,
    "start_time": "2024-06-18T21:41:59.759Z"
   },
   {
    "duration": 163,
    "start_time": "2024-06-18T21:41:59.935Z"
   },
   {
    "duration": 164,
    "start_time": "2024-06-18T21:42:00.100Z"
   },
   {
    "duration": 148,
    "start_time": "2024-06-18T21:42:00.266Z"
   },
   {
    "duration": 541,
    "start_time": "2024-06-18T21:42:00.415Z"
   },
   {
    "duration": 570,
    "start_time": "2024-06-18T21:42:00.960Z"
   },
   {
    "duration": 552,
    "start_time": "2024-06-18T21:42:01.532Z"
   },
   {
    "duration": 774,
    "start_time": "2024-06-18T21:42:02.087Z"
   },
   {
    "duration": 665,
    "start_time": "2024-06-18T21:42:02.863Z"
   },
   {
    "duration": 609,
    "start_time": "2024-06-18T21:42:03.531Z"
   },
   {
    "duration": 4,
    "start_time": "2024-06-18T21:42:04.141Z"
   },
   {
    "duration": 164,
    "start_time": "2024-06-18T21:42:04.146Z"
   },
   {
    "duration": 3,
    "start_time": "2024-06-18T21:42:04.311Z"
   },
   {
    "duration": 68,
    "start_time": "2024-06-18T21:42:04.316Z"
   },
   {
    "duration": 333,
    "start_time": "2024-06-18T21:50:43.331Z"
   },
   {
    "duration": 149,
    "start_time": "2024-06-18T21:51:07.121Z"
   },
   {
    "duration": 264,
    "start_time": "2024-06-18T21:51:20.997Z"
   },
   {
    "duration": 656,
    "start_time": "2024-06-18T21:54:35.111Z"
   },
   {
    "duration": 77,
    "start_time": "2024-06-18T21:55:20.203Z"
   },
   {
    "duration": 671,
    "start_time": "2024-06-18T21:55:25.391Z"
   },
   {
    "duration": 217,
    "start_time": "2024-06-18T21:56:14.945Z"
   },
   {
    "duration": 540,
    "start_time": "2024-06-18T21:56:31.224Z"
   },
   {
    "duration": 4,
    "start_time": "2024-06-18T21:57:00.143Z"
   },
   {
    "duration": 64,
    "start_time": "2024-06-18T21:57:00.149Z"
   },
   {
    "duration": 54,
    "start_time": "2024-06-18T21:57:00.214Z"
   },
   {
    "duration": 53,
    "start_time": "2024-06-18T21:57:00.270Z"
   },
   {
    "duration": 543,
    "start_time": "2024-06-18T21:57:00.325Z"
   },
   {
    "duration": 671,
    "start_time": "2024-06-18T21:57:39.791Z"
   },
   {
    "duration": 75,
    "start_time": "2024-06-18T21:57:54.697Z"
   },
   {
    "duration": 511,
    "start_time": "2024-06-18T21:58:41.151Z"
   },
   {
    "duration": 577,
    "start_time": "2024-06-18T21:59:51.488Z"
   },
   {
    "duration": 499,
    "start_time": "2024-06-18T22:00:52.965Z"
   },
   {
    "duration": 548,
    "start_time": "2024-06-18T22:04:43.117Z"
   },
   {
    "duration": 235,
    "start_time": "2024-06-18T22:04:54.326Z"
   },
   {
    "duration": 482,
    "start_time": "2024-06-18T22:05:28.684Z"
   },
   {
    "duration": 185,
    "start_time": "2024-06-18T22:05:53.977Z"
   },
   {
    "duration": 5,
    "start_time": "2024-06-18T22:06:46.376Z"
   },
   {
    "duration": 215,
    "start_time": "2024-06-18T22:07:19.049Z"
   },
   {
    "duration": 12,
    "start_time": "2024-06-18T22:08:14.377Z"
   },
   {
    "duration": 489,
    "start_time": "2024-06-18T22:08:29.380Z"
   },
   {
    "duration": 525,
    "start_time": "2024-06-18T22:08:34.337Z"
   },
   {
    "duration": 576,
    "start_time": "2024-06-18T22:09:06.291Z"
   },
   {
    "duration": 4,
    "start_time": "2024-06-18T22:32:09.634Z"
   },
   {
    "duration": 4,
    "start_time": "2024-06-18T22:35:54.008Z"
   },
   {
    "duration": 7,
    "start_time": "2024-06-19T19:19:37.728Z"
   },
   {
    "duration": 7,
    "start_time": "2024-06-19T19:19:39.979Z"
   },
   {
    "duration": 45,
    "start_time": "2024-06-19T19:19:55.250Z"
   },
   {
    "duration": 13637,
    "start_time": "2024-06-19T19:20:10.731Z"
   },
   {
    "duration": 2025,
    "start_time": "2024-06-19T19:20:24.371Z"
   },
   {
    "duration": 635,
    "start_time": "2024-06-19T19:20:26.399Z"
   },
   {
    "duration": 557,
    "start_time": "2024-06-19T19:20:27.037Z"
   },
   {
    "duration": 567,
    "start_time": "2024-06-19T19:20:27.596Z"
   },
   {
    "duration": 121,
    "start_time": "2024-06-19T19:20:28.165Z"
   },
   {
    "duration": 509,
    "start_time": "2024-06-19T19:20:28.287Z"
   },
   {
    "duration": 476,
    "start_time": "2024-06-19T19:20:28.798Z"
   },
   {
    "duration": 598,
    "start_time": "2024-06-19T19:20:29.276Z"
   },
   {
    "duration": 731,
    "start_time": "2024-06-19T19:20:29.877Z"
   },
   {
    "duration": 563,
    "start_time": "2024-06-19T19:20:30.610Z"
   },
   {
    "duration": 596,
    "start_time": "2024-06-19T19:20:31.175Z"
   },
   {
    "duration": 4,
    "start_time": "2024-06-19T19:20:31.772Z"
   },
   {
    "duration": 27,
    "start_time": "2024-06-19T19:20:31.777Z"
   },
   {
    "duration": 34,
    "start_time": "2024-06-19T19:20:31.805Z"
   },
   {
    "duration": 30,
    "start_time": "2024-06-19T19:20:31.840Z"
   },
   {
    "duration": 634,
    "start_time": "2024-06-19T19:20:31.871Z"
   },
   {
    "duration": 90,
    "start_time": "2024-06-19T19:20:32.510Z"
   },
   {
    "duration": 4,
    "start_time": "2024-06-19T19:20:32.602Z"
   },
   {
    "duration": 51,
    "start_time": "2024-06-19T19:20:32.608Z"
   },
   {
    "duration": 50,
    "start_time": "2024-06-19T19:21:50.505Z"
   },
   {
    "duration": 5,
    "start_time": "2024-06-19T19:25:18.722Z"
   },
   {
    "duration": 4,
    "start_time": "2024-06-19T19:33:40.642Z"
   },
   {
    "duration": 452,
    "start_time": "2024-06-19T19:34:17.590Z"
   },
   {
    "duration": 410,
    "start_time": "2024-06-19T19:34:38.423Z"
   },
   {
    "duration": 3,
    "start_time": "2024-06-19T19:34:59.246Z"
   },
   {
    "duration": 457,
    "start_time": "2024-06-19T19:34:59.783Z"
   },
   {
    "duration": 4,
    "start_time": "2024-06-19T19:35:31.811Z"
   },
   {
    "duration": 51,
    "start_time": "2024-06-19T19:36:14.179Z"
   },
   {
    "duration": 67,
    "start_time": "2024-06-19T19:36:44.023Z"
   },
   {
    "duration": 3,
    "start_time": "2024-06-19T19:36:58.412Z"
   },
   {
    "duration": 44,
    "start_time": "2024-06-19T19:37:00.627Z"
   },
   {
    "duration": 46,
    "start_time": "2024-06-19T19:37:49.181Z"
   },
   {
    "duration": 50,
    "start_time": "2024-06-19T19:38:04.505Z"
   },
   {
    "duration": 49,
    "start_time": "2024-06-19T19:41:33.070Z"
   },
   {
    "duration": 49,
    "start_time": "2024-06-19T19:41:40.327Z"
   },
   {
    "duration": 41,
    "start_time": "2024-06-19T19:42:34.273Z"
   },
   {
    "duration": 48,
    "start_time": "2024-06-19T19:42:49.864Z"
   },
   {
    "duration": 43,
    "start_time": "2024-06-19T19:43:08.994Z"
   },
   {
    "duration": 43,
    "start_time": "2024-06-19T19:43:50.606Z"
   },
   {
    "duration": 7735,
    "start_time": "2024-06-19T19:43:55.416Z"
   },
   {
    "duration": 5,
    "start_time": "2024-06-19T19:44:03.153Z"
   },
   {
    "duration": 179,
    "start_time": "2024-06-19T19:44:03.160Z"
   },
   {
    "duration": 147,
    "start_time": "2024-06-19T19:44:03.341Z"
   },
   {
    "duration": 148,
    "start_time": "2024-06-19T19:44:03.490Z"
   },
   {
    "duration": 125,
    "start_time": "2024-06-19T19:44:03.640Z"
   },
   {
    "duration": 496,
    "start_time": "2024-06-19T19:44:03.766Z"
   },
   {
    "duration": 595,
    "start_time": "2024-06-19T19:44:04.264Z"
   },
   {
    "duration": 489,
    "start_time": "2024-06-19T19:44:04.861Z"
   },
   {
    "duration": 674,
    "start_time": "2024-06-19T19:44:05.351Z"
   },
   {
    "duration": 578,
    "start_time": "2024-06-19T19:44:06.026Z"
   },
   {
    "duration": 569,
    "start_time": "2024-06-19T19:44:06.605Z"
   },
   {
    "duration": 4,
    "start_time": "2024-06-19T19:44:07.175Z"
   },
   {
    "duration": 5,
    "start_time": "2024-06-19T19:44:07.180Z"
   },
   {
    "duration": 2,
    "start_time": "2024-06-19T19:44:07.199Z"
   },
   {
    "duration": 4,
    "start_time": "2024-06-19T19:44:07.203Z"
   },
   {
    "duration": 595,
    "start_time": "2024-06-19T19:44:07.208Z"
   },
   {
    "duration": 3,
    "start_time": "2024-06-19T19:44:07.805Z"
   },
   {
    "duration": 6,
    "start_time": "2024-06-19T19:44:07.900Z"
   },
   {
    "duration": 48,
    "start_time": "2024-06-19T19:44:07.908Z"
   },
   {
    "duration": 0,
    "start_time": "2024-06-19T19:44:07.958Z"
   },
   {
    "duration": 2,
    "start_time": "2024-06-19T19:45:24.870Z"
   },
   {
    "duration": 49,
    "start_time": "2024-06-19T19:45:26.392Z"
   },
   {
    "duration": 3,
    "start_time": "2024-06-19T19:49:28.901Z"
   },
   {
    "duration": 50,
    "start_time": "2024-06-19T19:53:32.901Z"
   },
   {
    "duration": 489,
    "start_time": "2024-06-19T19:54:26.318Z"
   },
   {
    "duration": 4,
    "start_time": "2024-06-19T19:55:27.093Z"
   },
   {
    "duration": 5,
    "start_time": "2024-06-19T19:55:52.937Z"
   },
   {
    "duration": 522,
    "start_time": "2024-06-19T19:56:11.282Z"
   },
   {
    "duration": 533,
    "start_time": "2024-06-19T19:56:29.776Z"
   },
   {
    "duration": 3,
    "start_time": "2024-06-19T19:57:58.904Z"
   },
   {
    "duration": 50,
    "start_time": "2024-06-19T19:58:07.771Z"
   },
   {
    "duration": 45,
    "start_time": "2024-06-19T19:58:45.874Z"
   },
   {
    "duration": 2,
    "start_time": "2024-06-19T20:00:28.416Z"
   },
   {
    "duration": 66,
    "start_time": "2024-06-19T20:00:29.997Z"
   },
   {
    "duration": 3,
    "start_time": "2024-06-19T20:12:06.657Z"
   },
   {
    "duration": 48,
    "start_time": "2024-06-19T20:12:08.027Z"
   },
   {
    "duration": 53,
    "start_time": "2024-06-19T20:14:39.604Z"
   },
   {
    "duration": 58,
    "start_time": "2024-06-19T20:15:03.157Z"
   },
   {
    "duration": 3,
    "start_time": "2024-06-19T20:24:08.037Z"
   },
   {
    "duration": 48,
    "start_time": "2024-06-19T20:24:09.337Z"
   },
   {
    "duration": 49,
    "start_time": "2024-06-19T20:24:38.248Z"
   },
   {
    "duration": 3,
    "start_time": "2024-06-19T20:29:34.592Z"
   },
   {
    "duration": 52,
    "start_time": "2024-06-19T20:30:25.001Z"
   },
   {
    "duration": 46,
    "start_time": "2024-06-19T20:30:30.501Z"
   },
   {
    "duration": 3,
    "start_time": "2024-06-19T20:30:50.399Z"
   },
   {
    "duration": 46,
    "start_time": "2024-06-19T20:30:51.340Z"
   },
   {
    "duration": 511,
    "start_time": "2024-06-19T20:31:34.790Z"
   },
   {
    "duration": 522,
    "start_time": "2024-06-19T20:32:19.086Z"
   },
   {
    "duration": 508,
    "start_time": "2024-06-19T20:33:21.593Z"
   },
   {
    "duration": 613,
    "start_time": "2024-06-19T20:33:43.287Z"
   },
   {
    "duration": 629,
    "start_time": "2024-06-19T20:34:31.271Z"
   },
   {
    "duration": 567,
    "start_time": "2024-06-19T20:34:50.536Z"
   },
   {
    "duration": 573,
    "start_time": "2024-06-19T20:35:07.736Z"
   },
   {
    "duration": 510,
    "start_time": "2024-06-19T20:35:20.196Z"
   },
   {
    "duration": 480,
    "start_time": "2024-06-19T20:36:18.828Z"
   },
   {
    "duration": 475,
    "start_time": "2024-06-19T20:36:26.426Z"
   },
   {
    "duration": 7821,
    "start_time": "2024-06-19T20:36:41.674Z"
   },
   {
    "duration": 5,
    "start_time": "2024-06-19T20:36:49.497Z"
   },
   {
    "duration": 164,
    "start_time": "2024-06-19T20:36:49.504Z"
   },
   {
    "duration": 147,
    "start_time": "2024-06-19T20:36:49.670Z"
   },
   {
    "duration": 149,
    "start_time": "2024-06-19T20:36:49.819Z"
   },
   {
    "duration": 117,
    "start_time": "2024-06-19T20:36:49.969Z"
   },
   {
    "duration": 632,
    "start_time": "2024-06-19T20:36:50.088Z"
   },
   {
    "duration": 462,
    "start_time": "2024-06-19T20:36:50.722Z"
   },
   {
    "duration": 472,
    "start_time": "2024-06-19T20:36:51.186Z"
   },
   {
    "duration": 650,
    "start_time": "2024-06-19T20:36:51.660Z"
   },
   {
    "duration": 565,
    "start_time": "2024-06-19T20:36:52.311Z"
   },
   {
    "duration": 583,
    "start_time": "2024-06-19T20:36:52.877Z"
   },
   {
    "duration": 4,
    "start_time": "2024-06-19T20:36:53.462Z"
   },
   {
    "duration": 4,
    "start_time": "2024-06-19T20:36:53.467Z"
   },
   {
    "duration": 630,
    "start_time": "2024-06-19T20:36:53.473Z"
   },
   {
    "duration": 4,
    "start_time": "2024-06-19T20:36:54.105Z"
   },
   {
    "duration": 5,
    "start_time": "2024-06-19T20:36:54.200Z"
   },
   {
    "duration": 3,
    "start_time": "2024-06-19T20:36:54.206Z"
   },
   {
    "duration": 507,
    "start_time": "2024-06-19T20:36:54.211Z"
   },
   {
    "duration": 614,
    "start_time": "2024-06-19T20:38:44.585Z"
   },
   {
    "duration": 564,
    "start_time": "2024-06-19T20:39:11.136Z"
   },
   {
    "duration": 3,
    "start_time": "2024-06-19T20:39:21.066Z"
   },
   {
    "duration": 505,
    "start_time": "2024-06-19T20:39:22.595Z"
   },
   {
    "duration": 2,
    "start_time": "2024-06-19T20:39:35.845Z"
   },
   {
    "duration": 5,
    "start_time": "2024-06-19T20:39:35.856Z"
   },
   {
    "duration": 15,
    "start_time": "2024-06-19T20:39:35.863Z"
   },
   {
    "duration": 620,
    "start_time": "2024-06-19T20:39:35.880Z"
   },
   {
    "duration": 3,
    "start_time": "2024-06-19T20:40:14.923Z"
   },
   {
    "duration": 49,
    "start_time": "2024-06-19T20:40:36.702Z"
   },
   {
    "duration": 3,
    "start_time": "2024-06-19T20:40:50.524Z"
   },
   {
    "duration": 45,
    "start_time": "2024-06-19T20:40:50.962Z"
   },
   {
    "duration": 2,
    "start_time": "2024-06-19T20:40:57.247Z"
   },
   {
    "duration": 5,
    "start_time": "2024-06-19T20:40:57.251Z"
   },
   {
    "duration": 3,
    "start_time": "2024-06-19T20:40:57.257Z"
   },
   {
    "duration": 54,
    "start_time": "2024-06-19T20:40:57.262Z"
   },
   {
    "duration": 46,
    "start_time": "2024-06-19T20:43:01.420Z"
   },
   {
    "duration": 66,
    "start_time": "2024-06-19T20:44:44.163Z"
   },
   {
    "duration": 3,
    "start_time": "2024-06-19T20:45:30.136Z"
   },
   {
    "duration": 3,
    "start_time": "2024-06-19T20:45:36.772Z"
   },
   {
    "duration": 57,
    "start_time": "2024-06-19T20:45:37.288Z"
   },
   {
    "duration": 50,
    "start_time": "2024-06-19T20:47:18.349Z"
   },
   {
    "duration": 46,
    "start_time": "2024-06-19T20:47:34.913Z"
   },
   {
    "duration": 3,
    "start_time": "2024-06-19T20:47:55.080Z"
   },
   {
    "duration": 12,
    "start_time": "2024-06-19T20:47:55.084Z"
   },
   {
    "duration": 5,
    "start_time": "2024-06-19T20:47:55.098Z"
   },
   {
    "duration": 53,
    "start_time": "2024-06-19T20:47:55.104Z"
   },
   {
    "duration": 560,
    "start_time": "2024-06-19T20:48:21.440Z"
   },
   {
    "duration": 46,
    "start_time": "2024-06-19T20:51:36.619Z"
   },
   {
    "duration": 558,
    "start_time": "2024-06-19T20:51:41.543Z"
   },
   {
    "duration": 574,
    "start_time": "2024-06-19T20:52:06.334Z"
   },
   {
    "duration": 3,
    "start_time": "2024-06-19T20:52:29.165Z"
   },
   {
    "duration": 9,
    "start_time": "2024-06-19T20:52:29.170Z"
   },
   {
    "duration": 520,
    "start_time": "2024-06-19T20:52:29.180Z"
   },
   {
    "duration": 4,
    "start_time": "2024-06-19T20:52:29.703Z"
   },
   {
    "duration": 94,
    "start_time": "2024-06-19T20:52:29.709Z"
   },
   {
    "duration": 7,
    "start_time": "2024-06-19T20:52:29.804Z"
   },
   {
    "duration": 588,
    "start_time": "2024-06-19T20:52:29.812Z"
   },
   {
    "duration": 130,
    "start_time": "2024-06-19T20:52:51.240Z"
   },
   {
    "duration": 13,
    "start_time": "2024-06-19T20:53:14.789Z"
   },
   {
    "duration": 527,
    "start_time": "2024-06-19T20:53:36.477Z"
   },
   {
    "duration": 527,
    "start_time": "2024-06-19T20:53:58.079Z"
   },
   {
    "duration": 53,
    "start_time": "2024-06-19T21:15:56.656Z"
   },
   {
    "duration": 3046,
    "start_time": "2024-06-19T21:16:02.691Z"
   },
   {
    "duration": 3019,
    "start_time": "2024-06-19T21:16:12.100Z"
   },
   {
    "duration": 2996,
    "start_time": "2024-06-19T21:16:38.613Z"
   },
   {
    "duration": 3069,
    "start_time": "2024-06-19T21:17:30.835Z"
   },
   {
    "duration": 3,
    "start_time": "2024-06-19T21:19:20.561Z"
   },
   {
    "duration": 178,
    "start_time": "2024-06-19T21:19:20.567Z"
   },
   {
    "duration": 147,
    "start_time": "2024-06-19T21:19:20.747Z"
   },
   {
    "duration": 149,
    "start_time": "2024-06-19T21:19:20.899Z"
   },
   {
    "duration": 117,
    "start_time": "2024-06-19T21:19:21.050Z"
   },
   {
    "duration": 471,
    "start_time": "2024-06-19T21:19:21.168Z"
   },
   {
    "duration": 462,
    "start_time": "2024-06-19T21:19:21.641Z"
   },
   {
    "duration": 482,
    "start_time": "2024-06-19T21:19:22.104Z"
   },
   {
    "duration": 733,
    "start_time": "2024-06-19T21:19:22.588Z"
   },
   {
    "duration": 582,
    "start_time": "2024-06-19T21:19:23.322Z"
   },
   {
    "duration": 594,
    "start_time": "2024-06-19T21:19:23.906Z"
   },
   {
    "duration": 3,
    "start_time": "2024-06-19T21:19:24.502Z"
   },
   {
    "duration": 3,
    "start_time": "2024-06-19T21:19:24.507Z"
   },
   {
    "duration": 490,
    "start_time": "2024-06-19T21:19:24.511Z"
   },
   {
    "duration": 4,
    "start_time": "2024-06-19T21:19:25.003Z"
   },
   {
    "duration": 5,
    "start_time": "2024-06-19T21:19:25.099Z"
   },
   {
    "duration": 4,
    "start_time": "2024-06-19T21:19:25.106Z"
   },
   {
    "duration": 587,
    "start_time": "2024-06-19T21:19:25.112Z"
   },
   {
    "duration": 3132,
    "start_time": "2024-06-19T21:19:25.701Z"
   },
   {
    "duration": 55,
    "start_time": "2024-06-19T21:30:33.444Z"
   },
   {
    "duration": 50,
    "start_time": "2024-06-19T21:31:38.609Z"
   },
   {
    "duration": 59,
    "start_time": "2024-06-19T21:32:17.326Z"
   },
   {
    "duration": 47,
    "start_time": "2024-06-19T21:32:22.075Z"
   },
   {
    "duration": 48,
    "start_time": "2024-06-19T21:32:35.387Z"
   },
   {
    "duration": 48,
    "start_time": "2024-06-19T21:33:17.207Z"
   },
   {
    "duration": 3008,
    "start_time": "2024-06-19T21:33:24.911Z"
   },
   {
    "duration": 51,
    "start_time": "2024-06-19T21:34:09.949Z"
   },
   {
    "duration": 47,
    "start_time": "2024-06-19T21:34:26.922Z"
   },
   {
    "duration": 3092,
    "start_time": "2024-06-19T21:34:38.618Z"
   },
   {
    "duration": 3072,
    "start_time": "2024-06-19T21:39:16.140Z"
   },
   {
    "duration": 4,
    "start_time": "2024-06-19T21:51:00.908Z"
   },
   {
    "duration": 11,
    "start_time": "2024-06-19T21:55:53.354Z"
   },
   {
    "duration": 13,
    "start_time": "2024-06-19T21:56:00.883Z"
   },
   {
    "duration": 22,
    "start_time": "2024-06-19T21:56:11.148Z"
   },
   {
    "duration": 54,
    "start_time": "2024-06-19T22:14:57.127Z"
   },
   {
    "duration": 63,
    "start_time": "2024-06-19T22:15:17.078Z"
   },
   {
    "duration": 56,
    "start_time": "2024-06-19T22:15:21.012Z"
   },
   {
    "duration": 64,
    "start_time": "2024-06-19T22:15:51.170Z"
   },
   {
    "duration": 300,
    "start_time": "2024-06-19T22:16:04.450Z"
   },
   {
    "duration": 10,
    "start_time": "2024-06-19T22:19:36.866Z"
   },
   {
    "duration": 2,
    "start_time": "2024-06-19T22:23:59.759Z"
   },
   {
    "duration": 7649,
    "start_time": "2024-06-19T22:24:04.766Z"
   },
   {
    "duration": 4,
    "start_time": "2024-06-19T22:24:12.418Z"
   },
   {
    "duration": 174,
    "start_time": "2024-06-19T22:24:12.423Z"
   },
   {
    "duration": 157,
    "start_time": "2024-06-19T22:24:12.599Z"
   },
   {
    "duration": 146,
    "start_time": "2024-06-19T22:24:12.758Z"
   },
   {
    "duration": 133,
    "start_time": "2024-06-19T22:24:12.906Z"
   },
   {
    "duration": 510,
    "start_time": "2024-06-19T22:24:13.041Z"
   },
   {
    "duration": 481,
    "start_time": "2024-06-19T22:24:13.552Z"
   },
   {
    "duration": 538,
    "start_time": "2024-06-19T22:24:14.034Z"
   },
   {
    "duration": 667,
    "start_time": "2024-06-19T22:24:14.575Z"
   },
   {
    "duration": 581,
    "start_time": "2024-06-19T22:24:15.243Z"
   },
   {
    "duration": 801,
    "start_time": "2024-06-19T22:24:15.825Z"
   },
   {
    "duration": 4,
    "start_time": "2024-06-19T22:24:16.628Z"
   },
   {
    "duration": 4,
    "start_time": "2024-06-19T22:24:16.634Z"
   },
   {
    "duration": 561,
    "start_time": "2024-06-19T22:24:16.640Z"
   },
   {
    "duration": 3,
    "start_time": "2024-06-19T22:24:17.203Z"
   },
   {
    "duration": 5,
    "start_time": "2024-06-19T22:24:17.208Z"
   },
   {
    "duration": 91,
    "start_time": "2024-06-19T22:24:17.214Z"
   },
   {
    "duration": 595,
    "start_time": "2024-06-19T22:24:17.307Z"
   },
   {
    "duration": 3056,
    "start_time": "2024-06-19T22:24:17.904Z"
   },
   {
    "duration": 14031,
    "start_time": "2024-06-20T19:47:36.942Z"
   },
   {
    "duration": 1747,
    "start_time": "2024-06-20T19:47:50.975Z"
   },
   {
    "duration": 587,
    "start_time": "2024-06-20T19:47:52.724Z"
   },
   {
    "duration": 522,
    "start_time": "2024-06-20T19:47:53.313Z"
   },
   {
    "duration": 542,
    "start_time": "2024-06-20T19:47:53.837Z"
   },
   {
    "duration": 105,
    "start_time": "2024-06-20T19:47:54.380Z"
   },
   {
    "duration": 416,
    "start_time": "2024-06-20T19:47:54.486Z"
   },
   {
    "duration": 408,
    "start_time": "2024-06-20T19:47:54.904Z"
   },
   {
    "duration": 480,
    "start_time": "2024-06-20T19:47:55.313Z"
   },
   {
    "duration": 614,
    "start_time": "2024-06-20T19:47:55.795Z"
   },
   {
    "duration": 477,
    "start_time": "2024-06-20T19:47:56.410Z"
   },
   {
    "duration": 490,
    "start_time": "2024-06-20T19:47:56.888Z"
   },
   {
    "duration": 3,
    "start_time": "2024-06-20T19:47:57.379Z"
   },
   {
    "duration": 9,
    "start_time": "2024-06-20T19:47:57.384Z"
   },
   {
    "duration": 454,
    "start_time": "2024-06-20T19:47:57.395Z"
   },
   {
    "duration": 73,
    "start_time": "2024-06-20T19:47:57.850Z"
   },
   {
    "duration": 96,
    "start_time": "2024-06-20T19:47:57.925Z"
   },
   {
    "duration": 3,
    "start_time": "2024-06-20T19:47:58.023Z"
   },
   {
    "duration": 496,
    "start_time": "2024-06-20T19:47:58.027Z"
   },
   {
    "duration": 2360,
    "start_time": "2024-06-20T19:47:58.525Z"
   },
   {
    "duration": 2,
    "start_time": "2024-06-20T19:55:00.621Z"
   },
   {
    "duration": 3,
    "start_time": "2024-06-20T20:25:09.444Z"
   },
   {
    "duration": 1186,
    "start_time": "2024-06-20T20:25:17.036Z"
   },
   {
    "duration": 505,
    "start_time": "2024-06-20T20:26:22.816Z"
   },
   {
    "duration": 9,
    "start_time": "2024-06-20T20:29:45.389Z"
   },
   {
    "duration": 12431,
    "start_time": "2024-06-20T20:29:59.597Z"
   },
   {
    "duration": 238,
    "start_time": "2024-06-20T20:30:17.443Z"
   },
   {
    "duration": 142,
    "start_time": "2024-06-20T20:30:17.683Z"
   },
   {
    "duration": 122,
    "start_time": "2024-06-20T20:30:17.826Z"
   },
   {
    "duration": 126,
    "start_time": "2024-06-20T20:30:17.950Z"
   },
   {
    "duration": 116,
    "start_time": "2024-06-20T20:30:18.078Z"
   },
   {
    "duration": 528,
    "start_time": "2024-06-20T20:30:18.195Z"
   },
   {
    "duration": 398,
    "start_time": "2024-06-20T20:30:18.725Z"
   },
   {
    "duration": 408,
    "start_time": "2024-06-20T20:30:19.124Z"
   },
   {
    "duration": 936,
    "start_time": "2024-06-20T20:30:19.534Z"
   },
   {
    "duration": 789,
    "start_time": "2024-06-20T20:30:20.471Z"
   },
   {
    "duration": 509,
    "start_time": "2024-06-20T20:30:21.262Z"
   },
   {
    "duration": 3,
    "start_time": "2024-06-20T20:30:21.772Z"
   },
   {
    "duration": 7,
    "start_time": "2024-06-20T20:30:21.776Z"
   },
   {
    "duration": 469,
    "start_time": "2024-06-20T20:30:21.785Z"
   },
   {
    "duration": 3,
    "start_time": "2024-06-20T20:30:22.321Z"
   },
   {
    "duration": 94,
    "start_time": "2024-06-20T20:30:22.325Z"
   },
   {
    "duration": 3,
    "start_time": "2024-06-20T20:30:22.421Z"
   },
   {
    "duration": 502,
    "start_time": "2024-06-20T20:30:22.425Z"
   },
   {
    "duration": 1193,
    "start_time": "2024-06-20T20:30:22.928Z"
   },
   {
    "duration": 9989,
    "start_time": "2024-06-20T20:32:58.763Z"
   },
   {
    "duration": 9,
    "start_time": "2024-06-20T20:36:48.898Z"
   },
   {
    "duration": 33117,
    "start_time": "2024-06-20T20:37:18.723Z"
   },
   {
    "duration": 0,
    "start_time": "2024-06-20T20:51:44.299Z"
   },
   {
    "duration": 13801,
    "start_time": "2024-06-20T20:56:06.524Z"
   },
   {
    "duration": 155,
    "start_time": "2024-06-20T20:56:20.327Z"
   },
   {
    "duration": 3546,
    "start_time": "2024-06-20T20:56:41.474Z"
   },
   {
    "duration": 13,
    "start_time": "2024-06-20T20:59:29.978Z"
   },
   {
    "duration": 16588,
    "start_time": "2024-06-20T20:59:58.610Z"
   },
   {
    "duration": 23,
    "start_time": "2024-06-20T21:00:59.096Z"
   },
   {
    "duration": 15580,
    "start_time": "2024-06-20T21:02:31.093Z"
   },
   {
    "duration": 26,
    "start_time": "2024-06-20T21:07:13.100Z"
   },
   {
    "duration": 15163,
    "start_time": "2024-06-20T21:07:23.114Z"
   },
   {
    "duration": 3848,
    "start_time": "2024-06-20T21:07:38.279Z"
   },
   {
    "duration": 589,
    "start_time": "2024-06-20T21:07:42.129Z"
   },
   {
    "duration": 528,
    "start_time": "2024-06-20T21:07:42.720Z"
   },
   {
    "duration": 538,
    "start_time": "2024-06-20T21:07:43.250Z"
   },
   {
    "duration": 113,
    "start_time": "2024-06-20T21:07:43.790Z"
   },
   {
    "duration": 512,
    "start_time": "2024-06-20T21:07:43.904Z"
   },
   {
    "duration": 431,
    "start_time": "2024-06-20T21:07:44.417Z"
   },
   {
    "duration": 412,
    "start_time": "2024-06-20T21:07:44.849Z"
   },
   {
    "duration": 639,
    "start_time": "2024-06-20T21:07:45.263Z"
   },
   {
    "duration": 484,
    "start_time": "2024-06-20T21:07:45.903Z"
   },
   {
    "duration": 486,
    "start_time": "2024-06-20T21:07:46.389Z"
   },
   {
    "duration": 3515,
    "start_time": "2024-06-20T21:07:46.876Z"
   },
   {
    "duration": 1,
    "start_time": "2024-06-20T21:07:50.392Z"
   },
   {
    "duration": 0,
    "start_time": "2024-06-20T21:07:50.394Z"
   },
   {
    "duration": 0,
    "start_time": "2024-06-20T21:07:50.394Z"
   },
   {
    "duration": 0,
    "start_time": "2024-06-20T21:07:50.395Z"
   },
   {
    "duration": 0,
    "start_time": "2024-06-20T21:07:50.396Z"
   },
   {
    "duration": 0,
    "start_time": "2024-06-20T21:07:50.397Z"
   },
   {
    "duration": 0,
    "start_time": "2024-06-20T21:07:50.398Z"
   },
   {
    "duration": 0,
    "start_time": "2024-06-20T21:07:50.398Z"
   },
   {
    "duration": 46,
    "start_time": "2024-06-20T21:10:46.877Z"
   },
   {
    "duration": 54,
    "start_time": "2024-06-20T21:10:56.741Z"
   },
   {
    "duration": 10,
    "start_time": "2024-06-20T21:11:19.112Z"
   },
   {
    "duration": 5,
    "start_time": "2024-06-20T21:11:39.320Z"
   },
   {
    "duration": 135,
    "start_time": "2024-06-20T21:11:39.327Z"
   },
   {
    "duration": 116,
    "start_time": "2024-06-20T21:11:39.463Z"
   },
   {
    "duration": 120,
    "start_time": "2024-06-20T21:11:39.582Z"
   },
   {
    "duration": 104,
    "start_time": "2024-06-20T21:11:39.704Z"
   },
   {
    "duration": 443,
    "start_time": "2024-06-20T21:11:39.810Z"
   },
   {
    "duration": 437,
    "start_time": "2024-06-20T21:11:40.254Z"
   },
   {
    "duration": 455,
    "start_time": "2024-06-20T21:11:40.693Z"
   },
   {
    "duration": 888,
    "start_time": "2024-06-20T21:11:41.150Z"
   },
   {
    "duration": 713,
    "start_time": "2024-06-20T21:11:42.039Z"
   },
   {
    "duration": 523,
    "start_time": "2024-06-20T21:11:42.753Z"
   },
   {
    "duration": 13,
    "start_time": "2024-06-20T21:11:43.277Z"
   },
   {
    "duration": 0,
    "start_time": "2024-06-20T21:11:43.291Z"
   },
   {
    "duration": 0,
    "start_time": "2024-06-20T21:11:43.292Z"
   },
   {
    "duration": 0,
    "start_time": "2024-06-20T21:11:43.293Z"
   },
   {
    "duration": 0,
    "start_time": "2024-06-20T21:11:43.294Z"
   },
   {
    "duration": 0,
    "start_time": "2024-06-20T21:11:43.295Z"
   },
   {
    "duration": 0,
    "start_time": "2024-06-20T21:11:43.296Z"
   },
   {
    "duration": 0,
    "start_time": "2024-06-20T21:11:43.296Z"
   },
   {
    "duration": 0,
    "start_time": "2024-06-20T21:11:43.297Z"
   },
   {
    "duration": 0,
    "start_time": "2024-06-20T21:11:43.298Z"
   },
   {
    "duration": 10,
    "start_time": "2024-06-20T21:12:19.483Z"
   },
   {
    "duration": 10,
    "start_time": "2024-06-20T21:16:25.221Z"
   },
   {
    "duration": 5972,
    "start_time": "2024-06-20T21:17:59.712Z"
   },
   {
    "duration": 5286,
    "start_time": "2024-06-20T21:23:02.946Z"
   },
   {
    "duration": 22935,
    "start_time": "2024-06-20T21:25:33.180Z"
   },
   {
    "duration": 4,
    "start_time": "2024-06-20T21:25:56.117Z"
   },
   {
    "duration": 144,
    "start_time": "2024-06-20T21:25:56.122Z"
   },
   {
    "duration": 121,
    "start_time": "2024-06-20T21:25:56.268Z"
   },
   {
    "duration": 118,
    "start_time": "2024-06-20T21:25:56.390Z"
   },
   {
    "duration": 99,
    "start_time": "2024-06-20T21:25:56.509Z"
   },
   {
    "duration": 431,
    "start_time": "2024-06-20T21:25:56.610Z"
   },
   {
    "duration": 422,
    "start_time": "2024-06-20T21:25:57.042Z"
   },
   {
    "duration": 434,
    "start_time": "2024-06-20T21:25:57.466Z"
   },
   {
    "duration": 520,
    "start_time": "2024-06-20T21:25:57.902Z"
   },
   {
    "duration": 496,
    "start_time": "2024-06-20T21:25:58.424Z"
   },
   {
    "duration": 465,
    "start_time": "2024-06-20T21:25:58.921Z"
   },
   {
    "duration": 5373,
    "start_time": "2024-06-20T21:25:59.387Z"
   },
   {
    "duration": 0,
    "start_time": "2024-06-20T21:26:04.762Z"
   },
   {
    "duration": 0,
    "start_time": "2024-06-20T21:26:04.763Z"
   },
   {
    "duration": 0,
    "start_time": "2024-06-20T21:26:04.764Z"
   },
   {
    "duration": 0,
    "start_time": "2024-06-20T21:26:04.765Z"
   },
   {
    "duration": 0,
    "start_time": "2024-06-20T21:26:04.766Z"
   },
   {
    "duration": 0,
    "start_time": "2024-06-20T21:26:04.766Z"
   },
   {
    "duration": 0,
    "start_time": "2024-06-20T21:26:04.767Z"
   },
   {
    "duration": 0,
    "start_time": "2024-06-20T21:26:04.768Z"
   },
   {
    "duration": 0,
    "start_time": "2024-06-20T21:26:04.769Z"
   },
   {
    "duration": 25742,
    "start_time": "2024-06-20T21:26:39.013Z"
   },
   {
    "duration": 2521,
    "start_time": "2024-06-20T21:27:04.757Z"
   },
   {
    "duration": 142,
    "start_time": "2024-06-20T21:27:07.279Z"
   },
   {
    "duration": 116,
    "start_time": "2024-06-20T21:27:07.423Z"
   },
   {
    "duration": 118,
    "start_time": "2024-06-20T21:27:07.541Z"
   },
   {
    "duration": 117,
    "start_time": "2024-06-20T21:27:07.661Z"
   },
   {
    "duration": 481,
    "start_time": "2024-06-20T21:27:07.780Z"
   },
   {
    "duration": 381,
    "start_time": "2024-06-20T21:27:08.262Z"
   },
   {
    "duration": 399,
    "start_time": "2024-06-20T21:27:08.644Z"
   },
   {
    "duration": 650,
    "start_time": "2024-06-20T21:27:09.045Z"
   },
   {
    "duration": 468,
    "start_time": "2024-06-20T21:27:09.697Z"
   },
   {
    "duration": 491,
    "start_time": "2024-06-20T21:27:10.167Z"
   },
   {
    "duration": 25080,
    "start_time": "2024-06-20T21:27:10.659Z"
   },
   {
    "duration": 3255,
    "start_time": "2024-06-20T21:27:35.741Z"
   },
   {
    "duration": 0,
    "start_time": "2024-06-20T21:27:38.997Z"
   },
   {
    "duration": 0,
    "start_time": "2024-06-20T21:27:38.999Z"
   },
   {
    "duration": 0,
    "start_time": "2024-06-20T21:27:39.000Z"
   },
   {
    "duration": 0,
    "start_time": "2024-06-20T21:27:39.002Z"
   },
   {
    "duration": 0,
    "start_time": "2024-06-20T21:27:39.003Z"
   },
   {
    "duration": 0,
    "start_time": "2024-06-20T21:27:39.004Z"
   },
   {
    "duration": 0,
    "start_time": "2024-06-20T21:27:39.005Z"
   },
   {
    "duration": 0,
    "start_time": "2024-06-20T21:27:39.006Z"
   },
   {
    "duration": 9280,
    "start_time": "2024-06-20T21:33:34.223Z"
   },
   {
    "duration": 8636,
    "start_time": "2024-06-20T21:35:39.012Z"
   },
   {
    "duration": 4304,
    "start_time": "2024-06-20T21:36:59.373Z"
   },
   {
    "duration": 8582,
    "start_time": "2024-06-20T21:39:11.560Z"
   },
   {
    "duration": 8832,
    "start_time": "2024-06-20T21:39:37.740Z"
   },
   {
    "duration": 4,
    "start_time": "2024-06-20T21:42:07.469Z"
   },
   {
    "duration": 142,
    "start_time": "2024-06-20T21:42:07.474Z"
   },
   {
    "duration": 112,
    "start_time": "2024-06-20T21:42:07.620Z"
   },
   {
    "duration": 115,
    "start_time": "2024-06-20T21:42:07.734Z"
   },
   {
    "duration": 109,
    "start_time": "2024-06-20T21:42:07.851Z"
   },
   {
    "duration": 425,
    "start_time": "2024-06-20T21:42:07.961Z"
   },
   {
    "duration": 376,
    "start_time": "2024-06-20T21:42:08.388Z"
   },
   {
    "duration": 390,
    "start_time": "2024-06-20T21:42:08.766Z"
   },
   {
    "duration": 500,
    "start_time": "2024-06-20T21:42:09.158Z"
   },
   {
    "duration": 500,
    "start_time": "2024-06-20T21:42:09.660Z"
   },
   {
    "duration": 505,
    "start_time": "2024-06-20T21:42:10.161Z"
   },
   {
    "duration": 0,
    "start_time": "2024-06-20T21:42:50.432Z"
   },
   {
    "duration": 0,
    "start_time": "2024-06-20T21:42:50.433Z"
   },
   {
    "duration": 0,
    "start_time": "2024-06-20T21:42:50.434Z"
   },
   {
    "duration": 0,
    "start_time": "2024-06-20T21:42:50.435Z"
   },
   {
    "duration": 0,
    "start_time": "2024-06-20T21:42:50.436Z"
   },
   {
    "duration": 0,
    "start_time": "2024-06-20T21:42:50.437Z"
   },
   {
    "duration": 0,
    "start_time": "2024-06-20T21:42:50.438Z"
   },
   {
    "duration": 0,
    "start_time": "2024-06-20T21:42:50.439Z"
   },
   {
    "duration": 0,
    "start_time": "2024-06-20T21:42:50.440Z"
   },
   {
    "duration": 0,
    "start_time": "2024-06-20T21:42:50.441Z"
   },
   {
    "duration": 0,
    "start_time": "2024-06-20T21:42:50.442Z"
   },
   {
    "duration": 0,
    "start_time": "2024-06-20T21:42:50.443Z"
   },
   {
    "duration": 0,
    "start_time": "2024-06-20T21:42:50.444Z"
   },
   {
    "duration": 0,
    "start_time": "2024-06-20T21:42:50.444Z"
   },
   {
    "duration": 0,
    "start_time": "2024-06-20T21:42:50.446Z"
   },
   {
    "duration": 0,
    "start_time": "2024-06-20T21:42:50.446Z"
   },
   {
    "duration": 0,
    "start_time": "2024-06-20T21:42:50.447Z"
   },
   {
    "duration": 0,
    "start_time": "2024-06-20T21:42:50.448Z"
   },
   {
    "duration": 0,
    "start_time": "2024-06-20T21:42:50.449Z"
   },
   {
    "duration": 0,
    "start_time": "2024-06-20T21:42:50.450Z"
   },
   {
    "duration": 0,
    "start_time": "2024-06-20T21:42:50.451Z"
   },
   {
    "duration": 0,
    "start_time": "2024-06-20T21:42:50.452Z"
   },
   {
    "duration": 0,
    "start_time": "2024-06-20T21:42:50.453Z"
   },
   {
    "duration": 21904,
    "start_time": "2024-06-20T21:43:43.411Z"
   },
   {
    "duration": 5,
    "start_time": "2024-06-20T21:44:05.317Z"
   },
   {
    "duration": 153,
    "start_time": "2024-06-20T21:44:05.323Z"
   },
   {
    "duration": 110,
    "start_time": "2024-06-20T21:44:05.478Z"
   },
   {
    "duration": 109,
    "start_time": "2024-06-20T21:44:05.589Z"
   },
   {
    "duration": 111,
    "start_time": "2024-06-20T21:44:05.699Z"
   },
   {
    "duration": 416,
    "start_time": "2024-06-20T21:44:05.811Z"
   },
   {
    "duration": 401,
    "start_time": "2024-06-20T21:44:06.228Z"
   },
   {
    "duration": 381,
    "start_time": "2024-06-20T21:44:06.630Z"
   },
   {
    "duration": 516,
    "start_time": "2024-06-20T21:44:07.013Z"
   },
   {
    "duration": 500,
    "start_time": "2024-06-20T21:44:07.531Z"
   },
   {
    "duration": 504,
    "start_time": "2024-06-20T21:44:08.032Z"
   },
   {
    "duration": 25730,
    "start_time": "2024-06-20T21:44:08.537Z"
   },
   {
    "duration": 8994,
    "start_time": "2024-06-20T21:44:34.269Z"
   },
   {
    "duration": 4602,
    "start_time": "2024-06-20T21:44:43.264Z"
   },
   {
    "duration": 3,
    "start_time": "2024-06-20T21:44:47.868Z"
   },
   {
    "duration": 24,
    "start_time": "2024-06-20T21:44:47.872Z"
   },
   {
    "duration": 468,
    "start_time": "2024-06-20T21:44:47.897Z"
   },
   {
    "duration": 4,
    "start_time": "2024-06-20T21:44:48.421Z"
   },
   {
    "duration": 97,
    "start_time": "2024-06-20T21:44:48.426Z"
   },
   {
    "duration": 5,
    "start_time": "2024-06-20T21:44:48.525Z"
   },
   {
    "duration": 198,
    "start_time": "2024-06-20T21:44:48.532Z"
   },
   {
    "duration": 0,
    "start_time": "2024-06-20T21:44:48.732Z"
   },
   {
    "duration": 4,
    "start_time": "2024-06-20T21:47:46.689Z"
   },
   {
    "duration": 10,
    "start_time": "2024-06-20T21:47:51.333Z"
   },
   {
    "duration": 4,
    "start_time": "2024-06-20T21:47:56.301Z"
   },
   {
    "duration": 3,
    "start_time": "2024-06-20T21:55:36.887Z"
   },
   {
    "duration": 3,
    "start_time": "2024-06-20T21:55:57.391Z"
   },
   {
    "duration": 9,
    "start_time": "2024-06-20T21:55:57.396Z"
   },
   {
    "duration": 440,
    "start_time": "2024-06-20T21:55:57.406Z"
   },
   {
    "duration": 76,
    "start_time": "2024-06-20T21:55:57.847Z"
   },
   {
    "duration": 95,
    "start_time": "2024-06-20T21:55:57.926Z"
   },
   {
    "duration": 3,
    "start_time": "2024-06-20T21:55:58.022Z"
   },
   {
    "duration": 495,
    "start_time": "2024-06-20T21:55:58.026Z"
   },
   {
    "duration": 200,
    "start_time": "2024-06-20T21:55:58.522Z"
   },
   {
    "duration": 389,
    "start_time": "2024-06-20T21:56:23.927Z"
   },
   {
    "duration": 345,
    "start_time": "2024-06-20T21:56:34.371Z"
   },
   {
    "duration": 362,
    "start_time": "2024-06-20T21:56:43.566Z"
   },
   {
    "duration": 488,
    "start_time": "2024-06-20T21:56:52.301Z"
   },
   {
    "duration": 449,
    "start_time": "2024-06-20T21:57:04.928Z"
   },
   {
    "duration": 468,
    "start_time": "2024-06-20T21:57:09.082Z"
   },
   {
    "duration": 1074,
    "start_time": "2024-06-20T22:02:43.514Z"
   },
   {
    "duration": 2428,
    "start_time": "2024-06-20T22:03:52.141Z"
   },
   {
    "duration": 70120,
    "start_time": "2025-06-15T19:33:42.565Z"
   },
   {
    "duration": 3537,
    "start_time": "2025-06-15T19:34:52.688Z"
   },
   {
    "duration": 0,
    "start_time": "2025-06-15T19:34:56.228Z"
   },
   {
    "duration": 0,
    "start_time": "2025-06-15T19:34:56.230Z"
   },
   {
    "duration": 0,
    "start_time": "2025-06-15T19:34:56.232Z"
   },
   {
    "duration": 0,
    "start_time": "2025-06-15T19:34:56.233Z"
   },
   {
    "duration": 0,
    "start_time": "2025-06-15T19:34:56.235Z"
   },
   {
    "duration": 0,
    "start_time": "2025-06-15T19:34:56.236Z"
   },
   {
    "duration": 0,
    "start_time": "2025-06-15T19:34:56.238Z"
   },
   {
    "duration": 0,
    "start_time": "2025-06-15T19:34:56.239Z"
   },
   {
    "duration": 0,
    "start_time": "2025-06-15T19:34:56.259Z"
   },
   {
    "duration": 0,
    "start_time": "2025-06-15T19:34:56.260Z"
   },
   {
    "duration": 0,
    "start_time": "2025-06-15T19:34:56.263Z"
   },
   {
    "duration": 0,
    "start_time": "2025-06-15T19:34:56.264Z"
   },
   {
    "duration": 0,
    "start_time": "2025-06-15T19:34:56.266Z"
   },
   {
    "duration": 0,
    "start_time": "2025-06-15T19:34:56.267Z"
   },
   {
    "duration": 0,
    "start_time": "2025-06-15T19:34:56.269Z"
   },
   {
    "duration": 0,
    "start_time": "2025-06-15T19:34:56.271Z"
   },
   {
    "duration": 0,
    "start_time": "2025-06-15T19:34:56.272Z"
   },
   {
    "duration": 0,
    "start_time": "2025-06-15T19:34:56.274Z"
   },
   {
    "duration": 0,
    "start_time": "2025-06-15T19:34:56.275Z"
   },
   {
    "duration": 0,
    "start_time": "2025-06-15T19:34:56.276Z"
   },
   {
    "duration": 1,
    "start_time": "2025-06-15T19:34:56.278Z"
   },
   {
    "duration": 21831,
    "start_time": "2025-06-15T19:36:55.079Z"
   },
   {
    "duration": 3100,
    "start_time": "2025-06-15T19:37:16.912Z"
   },
   {
    "duration": 0,
    "start_time": "2025-06-15T19:37:20.014Z"
   },
   {
    "duration": 0,
    "start_time": "2025-06-15T19:37:20.016Z"
   },
   {
    "duration": 0,
    "start_time": "2025-06-15T19:37:20.016Z"
   },
   {
    "duration": 0,
    "start_time": "2025-06-15T19:37:20.018Z"
   },
   {
    "duration": 0,
    "start_time": "2025-06-15T19:37:20.019Z"
   },
   {
    "duration": 0,
    "start_time": "2025-06-15T19:37:20.021Z"
   },
   {
    "duration": 0,
    "start_time": "2025-06-15T19:37:20.022Z"
   },
   {
    "duration": 0,
    "start_time": "2025-06-15T19:37:20.023Z"
   },
   {
    "duration": 0,
    "start_time": "2025-06-15T19:37:20.024Z"
   },
   {
    "duration": 0,
    "start_time": "2025-06-15T19:37:20.025Z"
   },
   {
    "duration": 0,
    "start_time": "2025-06-15T19:37:20.026Z"
   },
   {
    "duration": 0,
    "start_time": "2025-06-15T19:37:20.028Z"
   },
   {
    "duration": 0,
    "start_time": "2025-06-15T19:37:20.028Z"
   },
   {
    "duration": 0,
    "start_time": "2025-06-15T19:37:20.030Z"
   },
   {
    "duration": 0,
    "start_time": "2025-06-15T19:37:20.031Z"
   },
   {
    "duration": 0,
    "start_time": "2025-06-15T19:37:20.058Z"
   },
   {
    "duration": 0,
    "start_time": "2025-06-15T19:37:20.059Z"
   },
   {
    "duration": 0,
    "start_time": "2025-06-15T19:37:20.061Z"
   },
   {
    "duration": 0,
    "start_time": "2025-06-15T19:37:20.062Z"
   },
   {
    "duration": 0,
    "start_time": "2025-06-15T19:37:20.063Z"
   },
   {
    "duration": 0,
    "start_time": "2025-06-15T19:37:20.065Z"
   },
   {
    "duration": 4,
    "start_time": "2025-06-15T19:38:28.919Z"
   },
   {
    "duration": 3371,
    "start_time": "2025-06-15T19:38:28.929Z"
   },
   {
    "duration": 0,
    "start_time": "2025-06-15T19:38:32.303Z"
   },
   {
    "duration": 0,
    "start_time": "2025-06-15T19:38:32.304Z"
   },
   {
    "duration": 0,
    "start_time": "2025-06-15T19:38:32.307Z"
   },
   {
    "duration": 0,
    "start_time": "2025-06-15T19:38:32.308Z"
   },
   {
    "duration": 0,
    "start_time": "2025-06-15T19:38:32.309Z"
   },
   {
    "duration": 0,
    "start_time": "2025-06-15T19:38:32.311Z"
   },
   {
    "duration": 0,
    "start_time": "2025-06-15T19:38:32.312Z"
   },
   {
    "duration": 0,
    "start_time": "2025-06-15T19:38:32.313Z"
   },
   {
    "duration": 0,
    "start_time": "2025-06-15T19:38:32.314Z"
   },
   {
    "duration": 0,
    "start_time": "2025-06-15T19:38:32.316Z"
   },
   {
    "duration": 0,
    "start_time": "2025-06-15T19:38:32.317Z"
   },
   {
    "duration": 0,
    "start_time": "2025-06-15T19:38:32.319Z"
   },
   {
    "duration": 0,
    "start_time": "2025-06-15T19:38:32.320Z"
   },
   {
    "duration": 0,
    "start_time": "2025-06-15T19:38:32.357Z"
   },
   {
    "duration": 0,
    "start_time": "2025-06-15T19:38:32.359Z"
   },
   {
    "duration": 0,
    "start_time": "2025-06-15T19:38:32.360Z"
   },
   {
    "duration": 0,
    "start_time": "2025-06-15T19:38:32.362Z"
   },
   {
    "duration": 1,
    "start_time": "2025-06-15T19:38:32.362Z"
   },
   {
    "duration": 0,
    "start_time": "2025-06-15T19:38:32.364Z"
   },
   {
    "duration": 0,
    "start_time": "2025-06-15T19:38:32.364Z"
   },
   {
    "duration": 0,
    "start_time": "2025-06-15T19:38:32.366Z"
   },
   {
    "duration": 3995,
    "start_time": "2025-06-15T19:39:10.937Z"
   },
   {
    "duration": 3064,
    "start_time": "2025-06-15T19:39:14.934Z"
   },
   {
    "duration": 0,
    "start_time": "2025-06-15T19:39:18.000Z"
   },
   {
    "duration": 0,
    "start_time": "2025-06-15T19:39:18.002Z"
   },
   {
    "duration": 0,
    "start_time": "2025-06-15T19:39:18.004Z"
   },
   {
    "duration": 0,
    "start_time": "2025-06-15T19:39:18.005Z"
   },
   {
    "duration": 0,
    "start_time": "2025-06-15T19:39:18.007Z"
   },
   {
    "duration": 0,
    "start_time": "2025-06-15T19:39:18.008Z"
   },
   {
    "duration": 0,
    "start_time": "2025-06-15T19:39:18.011Z"
   },
   {
    "duration": 0,
    "start_time": "2025-06-15T19:39:18.012Z"
   },
   {
    "duration": 0,
    "start_time": "2025-06-15T19:39:18.014Z"
   },
   {
    "duration": 0,
    "start_time": "2025-06-15T19:39:18.016Z"
   },
   {
    "duration": 0,
    "start_time": "2025-06-15T19:39:18.018Z"
   },
   {
    "duration": 0,
    "start_time": "2025-06-15T19:39:18.019Z"
   },
   {
    "duration": 0,
    "start_time": "2025-06-15T19:39:18.021Z"
   },
   {
    "duration": 0,
    "start_time": "2025-06-15T19:39:18.059Z"
   },
   {
    "duration": 0,
    "start_time": "2025-06-15T19:39:18.060Z"
   },
   {
    "duration": 0,
    "start_time": "2025-06-15T19:39:18.062Z"
   },
   {
    "duration": 1,
    "start_time": "2025-06-15T19:39:18.063Z"
   },
   {
    "duration": 0,
    "start_time": "2025-06-15T19:39:18.065Z"
   },
   {
    "duration": 0,
    "start_time": "2025-06-15T19:39:18.067Z"
   },
   {
    "duration": 0,
    "start_time": "2025-06-15T19:39:18.068Z"
   },
   {
    "duration": 0,
    "start_time": "2025-06-15T19:39:18.069Z"
   },
   {
    "duration": 7850,
    "start_time": "2025-06-15T19:40:30.150Z"
   },
   {
    "duration": 3056,
    "start_time": "2025-06-15T19:40:38.003Z"
   },
   {
    "duration": 0,
    "start_time": "2025-06-15T19:40:41.062Z"
   },
   {
    "duration": 0,
    "start_time": "2025-06-15T19:40:41.063Z"
   },
   {
    "duration": 0,
    "start_time": "2025-06-15T19:40:41.064Z"
   },
   {
    "duration": 0,
    "start_time": "2025-06-15T19:40:41.065Z"
   },
   {
    "duration": 0,
    "start_time": "2025-06-15T19:40:41.066Z"
   },
   {
    "duration": 0,
    "start_time": "2025-06-15T19:40:41.067Z"
   },
   {
    "duration": 0,
    "start_time": "2025-06-15T19:40:41.069Z"
   },
   {
    "duration": 0,
    "start_time": "2025-06-15T19:40:41.070Z"
   },
   {
    "duration": 0,
    "start_time": "2025-06-15T19:40:41.075Z"
   },
   {
    "duration": 0,
    "start_time": "2025-06-15T19:40:41.077Z"
   },
   {
    "duration": 0,
    "start_time": "2025-06-15T19:40:41.078Z"
   },
   {
    "duration": 0,
    "start_time": "2025-06-15T19:40:41.080Z"
   },
   {
    "duration": 0,
    "start_time": "2025-06-15T19:40:41.081Z"
   },
   {
    "duration": 0,
    "start_time": "2025-06-15T19:40:41.082Z"
   },
   {
    "duration": 0,
    "start_time": "2025-06-15T19:40:41.084Z"
   },
   {
    "duration": 0,
    "start_time": "2025-06-15T19:40:41.085Z"
   },
   {
    "duration": 0,
    "start_time": "2025-06-15T19:40:41.086Z"
   },
   {
    "duration": 0,
    "start_time": "2025-06-15T19:40:41.088Z"
   },
   {
    "duration": 0,
    "start_time": "2025-06-15T19:40:41.089Z"
   },
   {
    "duration": 0,
    "start_time": "2025-06-15T19:40:41.090Z"
   },
   {
    "duration": 0,
    "start_time": "2025-06-15T19:40:41.092Z"
   },
   {
    "duration": 5950,
    "start_time": "2025-06-15T19:41:13.134Z"
   },
   {
    "duration": 2599,
    "start_time": "2025-06-15T19:41:19.087Z"
   },
   {
    "duration": 1,
    "start_time": "2025-06-15T19:41:21.688Z"
   },
   {
    "duration": 0,
    "start_time": "2025-06-15T19:41:21.690Z"
   },
   {
    "duration": 0,
    "start_time": "2025-06-15T19:41:21.691Z"
   },
   {
    "duration": 0,
    "start_time": "2025-06-15T19:41:21.693Z"
   },
   {
    "duration": 0,
    "start_time": "2025-06-15T19:41:21.695Z"
   },
   {
    "duration": 0,
    "start_time": "2025-06-15T19:41:21.696Z"
   },
   {
    "duration": 0,
    "start_time": "2025-06-15T19:41:21.698Z"
   },
   {
    "duration": 0,
    "start_time": "2025-06-15T19:41:21.699Z"
   },
   {
    "duration": 0,
    "start_time": "2025-06-15T19:41:21.700Z"
   },
   {
    "duration": 0,
    "start_time": "2025-06-15T19:41:21.702Z"
   },
   {
    "duration": 0,
    "start_time": "2025-06-15T19:41:21.704Z"
   },
   {
    "duration": 0,
    "start_time": "2025-06-15T19:41:21.705Z"
   },
   {
    "duration": 1,
    "start_time": "2025-06-15T19:41:21.706Z"
   },
   {
    "duration": 0,
    "start_time": "2025-06-15T19:41:21.708Z"
   },
   {
    "duration": 0,
    "start_time": "2025-06-15T19:41:21.709Z"
   },
   {
    "duration": 0,
    "start_time": "2025-06-15T19:41:21.710Z"
   },
   {
    "duration": 0,
    "start_time": "2025-06-15T19:41:21.711Z"
   },
   {
    "duration": 0,
    "start_time": "2025-06-15T19:41:21.713Z"
   },
   {
    "duration": 0,
    "start_time": "2025-06-15T19:41:21.714Z"
   },
   {
    "duration": 0,
    "start_time": "2025-06-15T19:41:21.757Z"
   },
   {
    "duration": 0,
    "start_time": "2025-06-15T19:41:21.766Z"
   },
   {
    "duration": 8437,
    "start_time": "2025-06-15T19:46:45.466Z"
   },
   {
    "duration": 2715,
    "start_time": "2025-06-15T19:46:53.906Z"
   },
   {
    "duration": 0,
    "start_time": "2025-06-15T19:46:56.624Z"
   },
   {
    "duration": 0,
    "start_time": "2025-06-15T19:46:56.625Z"
   },
   {
    "duration": 0,
    "start_time": "2025-06-15T19:46:56.626Z"
   },
   {
    "duration": 0,
    "start_time": "2025-06-15T19:46:56.627Z"
   },
   {
    "duration": 0,
    "start_time": "2025-06-15T19:46:56.628Z"
   },
   {
    "duration": 0,
    "start_time": "2025-06-15T19:46:56.629Z"
   },
   {
    "duration": 0,
    "start_time": "2025-06-15T19:46:56.630Z"
   },
   {
    "duration": 0,
    "start_time": "2025-06-15T19:46:56.632Z"
   },
   {
    "duration": 0,
    "start_time": "2025-06-15T19:46:56.633Z"
   },
   {
    "duration": 0,
    "start_time": "2025-06-15T19:46:56.635Z"
   },
   {
    "duration": 0,
    "start_time": "2025-06-15T19:46:56.636Z"
   },
   {
    "duration": 0,
    "start_time": "2025-06-15T19:46:56.658Z"
   },
   {
    "duration": 0,
    "start_time": "2025-06-15T19:46:56.662Z"
   },
   {
    "duration": 1,
    "start_time": "2025-06-15T19:46:56.663Z"
   },
   {
    "duration": 0,
    "start_time": "2025-06-15T19:46:56.665Z"
   },
   {
    "duration": 0,
    "start_time": "2025-06-15T19:46:56.667Z"
   },
   {
    "duration": 0,
    "start_time": "2025-06-15T19:46:56.668Z"
   },
   {
    "duration": 0,
    "start_time": "2025-06-15T19:46:56.670Z"
   },
   {
    "duration": 0,
    "start_time": "2025-06-15T19:46:56.671Z"
   },
   {
    "duration": 0,
    "start_time": "2025-06-15T19:46:56.673Z"
   },
   {
    "duration": 0,
    "start_time": "2025-06-15T19:46:56.674Z"
   },
   {
    "duration": 1902,
    "start_time": "2025-06-15T20:05:46.515Z"
   },
   {
    "duration": 1644,
    "start_time": "2025-06-15T20:05:48.419Z"
   },
   {
    "duration": 163,
    "start_time": "2025-06-15T20:05:50.065Z"
   },
   {
    "duration": 147,
    "start_time": "2025-06-15T20:05:50.229Z"
   },
   {
    "duration": 149,
    "start_time": "2025-06-15T20:05:50.378Z"
   },
   {
    "duration": 118,
    "start_time": "2025-06-15T20:05:50.529Z"
   },
   {
    "duration": 779,
    "start_time": "2025-06-15T20:05:50.649Z"
   },
   {
    "duration": 739,
    "start_time": "2025-06-15T20:05:51.430Z"
   },
   {
    "duration": 735,
    "start_time": "2025-06-15T20:05:52.171Z"
   },
   {
    "duration": 644,
    "start_time": "2025-06-15T20:05:52.908Z"
   },
   {
    "duration": 80,
    "start_time": "2025-06-15T20:05:53.558Z"
   },
   {
    "duration": 0,
    "start_time": "2025-06-15T20:05:53.641Z"
   },
   {
    "duration": 0,
    "start_time": "2025-06-15T20:05:53.643Z"
   },
   {
    "duration": 0,
    "start_time": "2025-06-15T20:05:53.644Z"
   },
   {
    "duration": 0,
    "start_time": "2025-06-15T20:05:53.646Z"
   },
   {
    "duration": 0,
    "start_time": "2025-06-15T20:05:53.647Z"
   },
   {
    "duration": 0,
    "start_time": "2025-06-15T20:05:53.649Z"
   },
   {
    "duration": 0,
    "start_time": "2025-06-15T20:05:53.651Z"
   },
   {
    "duration": 0,
    "start_time": "2025-06-15T20:05:53.652Z"
   },
   {
    "duration": 0,
    "start_time": "2025-06-15T20:05:53.654Z"
   },
   {
    "duration": 0,
    "start_time": "2025-06-15T20:05:53.655Z"
   },
   {
    "duration": 0,
    "start_time": "2025-06-15T20:05:53.656Z"
   },
   {
    "duration": 0,
    "start_time": "2025-06-15T20:05:53.660Z"
   },
   {
    "duration": 1931,
    "start_time": "2025-06-15T20:06:16.257Z"
   },
   {
    "duration": 1725,
    "start_time": "2025-06-15T20:06:18.191Z"
   },
   {
    "duration": 160,
    "start_time": "2025-06-15T20:06:19.917Z"
   },
   {
    "duration": 142,
    "start_time": "2025-06-15T20:06:20.079Z"
   },
   {
    "duration": 144,
    "start_time": "2025-06-15T20:06:20.222Z"
   },
   {
    "duration": 131,
    "start_time": "2025-06-15T20:06:20.367Z"
   },
   {
    "duration": 809,
    "start_time": "2025-06-15T20:06:20.500Z"
   },
   {
    "duration": 735,
    "start_time": "2025-06-15T20:06:21.311Z"
   },
   {
    "duration": 682,
    "start_time": "2025-06-15T20:06:22.048Z"
   },
   {
    "duration": 638,
    "start_time": "2025-06-15T20:06:22.732Z"
   },
   {
    "duration": 666,
    "start_time": "2025-06-15T20:06:23.372Z"
   },
   {
    "duration": 628,
    "start_time": "2025-06-15T20:06:24.040Z"
   },
   {
    "duration": 125,
    "start_time": "2025-06-15T20:06:24.669Z"
   },
   {
    "duration": 0,
    "start_time": "2025-06-15T20:06:24.796Z"
   },
   {
    "duration": 0,
    "start_time": "2025-06-15T20:06:24.797Z"
   },
   {
    "duration": 0,
    "start_time": "2025-06-15T20:06:24.798Z"
   },
   {
    "duration": 0,
    "start_time": "2025-06-15T20:06:24.800Z"
   },
   {
    "duration": 0,
    "start_time": "2025-06-15T20:06:24.800Z"
   },
   {
    "duration": 0,
    "start_time": "2025-06-15T20:06:24.801Z"
   },
   {
    "duration": 0,
    "start_time": "2025-06-15T20:06:24.803Z"
   },
   {
    "duration": 0,
    "start_time": "2025-06-15T20:06:24.804Z"
   },
   {
    "duration": 0,
    "start_time": "2025-06-15T20:06:24.805Z"
   },
   {
    "duration": 0,
    "start_time": "2025-06-15T20:06:24.806Z"
   },
   {
    "duration": 1920,
    "start_time": "2025-06-15T20:07:21.414Z"
   },
   {
    "duration": 1831,
    "start_time": "2025-06-15T20:07:23.337Z"
   },
   {
    "duration": 171,
    "start_time": "2025-06-15T20:07:25.172Z"
   },
   {
    "duration": 158,
    "start_time": "2025-06-15T20:07:25.345Z"
   },
   {
    "duration": 147,
    "start_time": "2025-06-15T20:07:25.504Z"
   },
   {
    "duration": 123,
    "start_time": "2025-06-15T20:07:25.653Z"
   },
   {
    "duration": 805,
    "start_time": "2025-06-15T20:07:25.778Z"
   },
   {
    "duration": 734,
    "start_time": "2025-06-15T20:07:26.585Z"
   },
   {
    "duration": 682,
    "start_time": "2025-06-15T20:07:27.321Z"
   },
   {
    "duration": 646,
    "start_time": "2025-06-15T20:07:28.005Z"
   },
   {
    "duration": 617,
    "start_time": "2025-06-15T20:07:28.658Z"
   },
   {
    "duration": 636,
    "start_time": "2025-06-15T20:07:29.276Z"
   },
   {
    "duration": 4,
    "start_time": "2025-06-15T20:07:29.914Z"
   },
   {
    "duration": 5,
    "start_time": "2025-06-15T20:07:29.919Z"
   },
   {
    "duration": 353,
    "start_time": "2025-06-15T20:07:29.925Z"
   },
   {
    "duration": 0,
    "start_time": "2025-06-15T20:07:30.280Z"
   },
   {
    "duration": 0,
    "start_time": "2025-06-15T20:07:30.281Z"
   },
   {
    "duration": 0,
    "start_time": "2025-06-15T20:07:30.283Z"
   },
   {
    "duration": 0,
    "start_time": "2025-06-15T20:07:30.284Z"
   },
   {
    "duration": 0,
    "start_time": "2025-06-15T20:07:30.285Z"
   },
   {
    "duration": 234,
    "start_time": "2025-06-15T20:08:57.025Z"
   },
   {
    "duration": 485,
    "start_time": "2025-06-15T20:09:05.577Z"
   },
   {
    "duration": 534,
    "start_time": "2025-06-15T20:11:49.225Z"
   },
   {
    "duration": 1922,
    "start_time": "2025-06-15T20:12:14.546Z"
   },
   {
    "duration": 1758,
    "start_time": "2025-06-15T20:12:16.471Z"
   },
   {
    "duration": 164,
    "start_time": "2025-06-15T20:12:18.231Z"
   },
   {
    "duration": 145,
    "start_time": "2025-06-15T20:12:18.397Z"
   },
   {
    "duration": 148,
    "start_time": "2025-06-15T20:12:18.544Z"
   },
   {
    "duration": 127,
    "start_time": "2025-06-15T20:12:18.694Z"
   },
   {
    "duration": 769,
    "start_time": "2025-06-15T20:12:18.823Z"
   },
   {
    "duration": 737,
    "start_time": "2025-06-15T20:12:19.594Z"
   },
   {
    "duration": 677,
    "start_time": "2025-06-15T20:12:20.333Z"
   },
   {
    "duration": 686,
    "start_time": "2025-06-15T20:12:21.014Z"
   },
   {
    "duration": 648,
    "start_time": "2025-06-15T20:12:21.701Z"
   },
   {
    "duration": 621,
    "start_time": "2025-06-15T20:12:22.350Z"
   },
   {
    "duration": 5,
    "start_time": "2025-06-15T20:12:22.973Z"
   },
   {
    "duration": 5,
    "start_time": "2025-06-15T20:12:22.979Z"
   },
   {
    "duration": 577,
    "start_time": "2025-06-15T20:12:22.986Z"
   },
   {
    "duration": 4,
    "start_time": "2025-06-15T20:12:23.565Z"
   },
   {
    "duration": 5,
    "start_time": "2025-06-15T20:12:23.659Z"
   },
   {
    "duration": 4,
    "start_time": "2025-06-15T20:12:23.666Z"
   },
   {
    "duration": 594,
    "start_time": "2025-06-15T20:12:23.671Z"
   },
   {
    "duration": 2898,
    "start_time": "2025-06-15T20:12:24.267Z"
   }
  ],
  "kernelspec": {
   "display_name": "Python 3 (ipykernel)",
   "language": "python",
   "name": "python3"
  },
  "language_info": {
   "codemirror_mode": {
    "name": "ipython",
    "version": 3
   },
   "file_extension": ".py",
   "mimetype": "text/x-python",
   "name": "python",
   "nbconvert_exporter": "python",
   "pygments_lexer": "ipython3",
   "version": "3.9.5"
  },
  "toc": {
   "base_numbering": 1,
   "nav_menu": {},
   "number_sections": true,
   "sideBar": true,
   "skip_h1_title": true,
   "title_cell": "Table of Contents",
   "title_sidebar": "Contents",
   "toc_cell": false,
   "toc_position": {
    "height": "calc(100% - 180px)",
    "left": "10px",
    "top": "150px",
    "width": "226.263px"
   },
   "toc_section_display": true,
   "toc_window_display": true
  }
 },
 "nbformat": 4,
 "nbformat_minor": 2
}
