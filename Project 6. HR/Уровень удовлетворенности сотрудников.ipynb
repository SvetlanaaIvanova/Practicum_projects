{
 "cells": [
  {
   "cell_type": "markdown",
   "id": "4a52143f",
   "metadata": {},
   "source": [
    "# Модели машинного обучения для предсказания уровня удовлетворённости сотрудников и  предсказания увольнений сотрудников компании"
   ]
  },
  {
   "cell_type": "markdown",
   "id": "3fd834f1",
   "metadata": {},
   "source": [
    "**Исходные данные**, предоставленные компанией, содержат характеристи сотрудников компании, в том числе уровень удовлетворённости сотрудника работой в компании. Информация получена из форм обратной связи: заполненных сотрудниками тест-опросников, по которым рассчитана доля их удовлетворённости от 0 до 1, где 0 — совершенно неудовлетворён, 1 — полностью удовлетворён. \n",
    "\n",
    "**Цель исследования** - разработать модели машинного обучения, предсказывающие уровень удовлетворённости сотрудников и вероятность увольнения сотрудников компании, что позволит компании оптимизировать управление персоналом в целях снижения финансовых потерь и оттока сотрудников.\n",
    "\n",
    "**Этапы**:\n",
    "1. Построить модель для предсказания уровня удовлетворённости сотрудника на основе данных заказчика.\n",
    "2. Построить модель для предсказания на основе исходных данных увольнение сотрудника из компании."
   ]
  },
  {
   "cell_type": "code",
   "execution_count": 1,
   "id": "7d305233",
   "metadata": {},
   "outputs": [],
   "source": [
    "# установка библиотек:\n",
    "! pip install -U scikit-learn -q\n",
    "! pip install shap -q\n",
    "! pip install phik -q"
   ]
  },
  {
   "cell_type": "code",
   "execution_count": 2,
   "id": "45ae7050",
   "metadata": {},
   "outputs": [],
   "source": [
    "# импорт необходимых библиотек:\n",
    "import pandas as pd\n",
    "import numpy as np\n",
    "import matplotlib.pyplot as plt\n",
    "import seaborn as sns\n",
    "from sklearn.model_selection import train_test_split\n",
    "from sklearn.pipeline import Pipeline\n",
    "# загрузка классов для подготовки данных\n",
    "from sklearn.preprocessing import (\n",
    "    OneHotEncoder,\n",
    "    OrdinalEncoder, \n",
    "    StandardScaler, \n",
    "    MinMaxScaler,\n",
    "    RobustScaler,\n",
    "    LabelEncoder\n",
    ")\n",
    "from sklearn.compose import ColumnTransformer\n",
    "# загрузка классов для работы с пропусками\n",
    "from sklearn.impute import SimpleImputer\n",
    "# загрузка функции для работы с метриками\n",
    "from sklearn.metrics import f1_score, roc_auc_score, make_scorer\n",
    "# импорт класса RandomizedSearchCV\n",
    "from sklearn.model_selection import GridSearchCV\n",
    "# загрузка моделей\n",
    "from sklearn.linear_model import LogisticRegression, LinearRegression\n",
    "from sklearn.tree import DecisionTreeRegressor, DecisionTreeClassifier\n",
    "from sklearn.neighbors import KNeighborsClassifier\n",
    "from sklearn.svm import SVC\n",
    "\n",
    "import shap\n",
    "\n",
    "from phik import phik_matrix\n",
    "from phik.report import plot_correlation_matrix"
   ]
  },
  {
   "cell_type": "markdown",
   "id": "a712f6ad",
   "metadata": {},
   "source": [
    "## Предсказание уровня удовлетворённости сотрудника."
   ]
  },
  {
   "cell_type": "markdown",
   "id": "e76ed9f0",
   "metadata": {},
   "source": [
    "Удовлетворённость работой напрямую влияет на отток сотрудников, предсказание оттока уменьшит вероятность внезапных увольнений, которые несут в себе риски для компании."
   ]
  },
  {
   "cell_type": "markdown",
   "id": "97d5d112",
   "metadata": {},
   "source": [
    "### Импорт и предобработка  данных."
   ]
  },
  {
   "cell_type": "code",
   "execution_count": 3,
   "id": "56db9ad3",
   "metadata": {},
   "outputs": [
    {
     "name": "stdout",
     "output_type": "stream",
     "text": [
      "<class 'pandas.core.frame.DataFrame'>\n",
      "RangeIndex: 4000 entries, 0 to 3999\n",
      "Data columns (total 10 columns):\n",
      " #   Column                 Non-Null Count  Dtype  \n",
      "---  ------                 --------------  -----  \n",
      " 0   id                     4000 non-null   int64  \n",
      " 1   dept                   3994 non-null   object \n",
      " 2   level                  3996 non-null   object \n",
      " 3   workload               4000 non-null   object \n",
      " 4   employment_years       4000 non-null   int64  \n",
      " 5   last_year_promo        4000 non-null   object \n",
      " 6   last_year_violations   4000 non-null   object \n",
      " 7   supervisor_evaluation  4000 non-null   int64  \n",
      " 8   salary                 4000 non-null   int64  \n",
      " 9   job_satisfaction_rate  4000 non-null   float64\n",
      "dtypes: float64(1), int64(4), object(5)\n",
      "memory usage: 312.6+ KB\n",
      "None\n",
      "\n",
      "Наименования столбцов:  Index(['id', 'dept', 'level', 'workload', 'employment_years',\n",
      "       'last_year_promo', 'last_year_violations', 'supervisor_evaluation',\n",
      "       'salary', 'job_satisfaction_rate'],\n",
      "      dtype='object')\n"
     ]
    }
   ],
   "source": [
    "# данные файла \"train_job_satisfaction_rate.csv\":\n",
    "train = pd.read_csv ('/datasets/train_job_satisfaction_rate.csv')\n",
    "print (train.info())\n",
    "print ()\n",
    "print ('Наименования столбцов: ', train.columns)"
   ]
  },
  {
   "cell_type": "code",
   "execution_count": 4,
   "id": "877b92c4",
   "metadata": {},
   "outputs": [
    {
     "data": {
      "text/html": [
       "<div>\n",
       "<style scoped>\n",
       "    .dataframe tbody tr th:only-of-type {\n",
       "        vertical-align: middle;\n",
       "    }\n",
       "\n",
       "    .dataframe tbody tr th {\n",
       "        vertical-align: top;\n",
       "    }\n",
       "\n",
       "    .dataframe thead th {\n",
       "        text-align: right;\n",
       "    }\n",
       "</style>\n",
       "<table border=\"1\" class=\"dataframe\">\n",
       "  <thead>\n",
       "    <tr style=\"text-align: right;\">\n",
       "      <th></th>\n",
       "      <th>id</th>\n",
       "      <th>dept</th>\n",
       "      <th>level</th>\n",
       "      <th>workload</th>\n",
       "      <th>employment_years</th>\n",
       "      <th>last_year_promo</th>\n",
       "      <th>last_year_violations</th>\n",
       "      <th>supervisor_evaluation</th>\n",
       "      <th>salary</th>\n",
       "      <th>job_satisfaction_rate</th>\n",
       "    </tr>\n",
       "  </thead>\n",
       "  <tbody>\n",
       "    <tr>\n",
       "      <th>1209</th>\n",
       "      <td>631073</td>\n",
       "      <td>sales</td>\n",
       "      <td>NaN</td>\n",
       "      <td>medium</td>\n",
       "      <td>1</td>\n",
       "      <td>no</td>\n",
       "      <td>no</td>\n",
       "      <td>4</td>\n",
       "      <td>27600</td>\n",
       "      <td>0.66</td>\n",
       "    </tr>\n",
       "    <tr>\n",
       "      <th>1469</th>\n",
       "      <td>416327</td>\n",
       "      <td>sales</td>\n",
       "      <td>NaN</td>\n",
       "      <td>low</td>\n",
       "      <td>1</td>\n",
       "      <td>no</td>\n",
       "      <td>no</td>\n",
       "      <td>5</td>\n",
       "      <td>18000</td>\n",
       "      <td>0.73</td>\n",
       "    </tr>\n",
       "    <tr>\n",
       "      <th>1526</th>\n",
       "      <td>694746</td>\n",
       "      <td>NaN</td>\n",
       "      <td>junior</td>\n",
       "      <td>medium</td>\n",
       "      <td>5</td>\n",
       "      <td>no</td>\n",
       "      <td>no</td>\n",
       "      <td>4</td>\n",
       "      <td>21600</td>\n",
       "      <td>0.62</td>\n",
       "    </tr>\n",
       "    <tr>\n",
       "      <th>1630</th>\n",
       "      <td>814624</td>\n",
       "      <td>NaN</td>\n",
       "      <td>junior</td>\n",
       "      <td>medium</td>\n",
       "      <td>3</td>\n",
       "      <td>no</td>\n",
       "      <td>no</td>\n",
       "      <td>4</td>\n",
       "      <td>24000</td>\n",
       "      <td>0.88</td>\n",
       "    </tr>\n",
       "    <tr>\n",
       "      <th>1633</th>\n",
       "      <td>475114</td>\n",
       "      <td>NaN</td>\n",
       "      <td>junior</td>\n",
       "      <td>high</td>\n",
       "      <td>4</td>\n",
       "      <td>no</td>\n",
       "      <td>no</td>\n",
       "      <td>4</td>\n",
       "      <td>31200</td>\n",
       "      <td>0.63</td>\n",
       "    </tr>\n",
       "    <tr>\n",
       "      <th>1745</th>\n",
       "      <td>135043</td>\n",
       "      <td>sales</td>\n",
       "      <td>NaN</td>\n",
       "      <td>medium</td>\n",
       "      <td>1</td>\n",
       "      <td>no</td>\n",
       "      <td>no</td>\n",
       "      <td>3</td>\n",
       "      <td>26400</td>\n",
       "      <td>0.30</td>\n",
       "    </tr>\n",
       "    <tr>\n",
       "      <th>2522</th>\n",
       "      <td>998838</td>\n",
       "      <td>sales</td>\n",
       "      <td>NaN</td>\n",
       "      <td>medium</td>\n",
       "      <td>1</td>\n",
       "      <td>no</td>\n",
       "      <td>no</td>\n",
       "      <td>5</td>\n",
       "      <td>27600</td>\n",
       "      <td>0.71</td>\n",
       "    </tr>\n",
       "    <tr>\n",
       "      <th>2781</th>\n",
       "      <td>497243</td>\n",
       "      <td>NaN</td>\n",
       "      <td>junior</td>\n",
       "      <td>medium</td>\n",
       "      <td>1</td>\n",
       "      <td>no</td>\n",
       "      <td>no</td>\n",
       "      <td>3</td>\n",
       "      <td>26400</td>\n",
       "      <td>0.28</td>\n",
       "    </tr>\n",
       "    <tr>\n",
       "      <th>2975</th>\n",
       "      <td>168668</td>\n",
       "      <td>NaN</td>\n",
       "      <td>junior</td>\n",
       "      <td>low</td>\n",
       "      <td>3</td>\n",
       "      <td>no</td>\n",
       "      <td>no</td>\n",
       "      <td>4</td>\n",
       "      <td>18000</td>\n",
       "      <td>0.88</td>\n",
       "    </tr>\n",
       "    <tr>\n",
       "      <th>3866</th>\n",
       "      <td>641150</td>\n",
       "      <td>NaN</td>\n",
       "      <td>junior</td>\n",
       "      <td>low</td>\n",
       "      <td>3</td>\n",
       "      <td>no</td>\n",
       "      <td>yes</td>\n",
       "      <td>4</td>\n",
       "      <td>12000</td>\n",
       "      <td>0.54</td>\n",
       "    </tr>\n",
       "  </tbody>\n",
       "</table>\n",
       "</div>"
      ],
      "text/plain": [
       "          id   dept   level workload  employment_years last_year_promo  \\\n",
       "1209  631073  sales     NaN   medium                 1              no   \n",
       "1469  416327  sales     NaN      low                 1              no   \n",
       "1526  694746    NaN  junior   medium                 5              no   \n",
       "1630  814624    NaN  junior   medium                 3              no   \n",
       "1633  475114    NaN  junior     high                 4              no   \n",
       "1745  135043  sales     NaN   medium                 1              no   \n",
       "2522  998838  sales     NaN   medium                 1              no   \n",
       "2781  497243    NaN  junior   medium                 1              no   \n",
       "2975  168668    NaN  junior      low                 3              no   \n",
       "3866  641150    NaN  junior      low                 3              no   \n",
       "\n",
       "     last_year_violations  supervisor_evaluation  salary  \\\n",
       "1209                   no                      4   27600   \n",
       "1469                   no                      5   18000   \n",
       "1526                   no                      4   21600   \n",
       "1630                   no                      4   24000   \n",
       "1633                   no                      4   31200   \n",
       "1745                   no                      3   26400   \n",
       "2522                   no                      5   27600   \n",
       "2781                   no                      3   26400   \n",
       "2975                   no                      4   18000   \n",
       "3866                  yes                      4   12000   \n",
       "\n",
       "      job_satisfaction_rate  \n",
       "1209                   0.66  \n",
       "1469                   0.73  \n",
       "1526                   0.62  \n",
       "1630                   0.88  \n",
       "1633                   0.63  \n",
       "1745                   0.30  \n",
       "2522                   0.71  \n",
       "2781                   0.28  \n",
       "2975                   0.88  \n",
       "3866                   0.54  "
      ]
     },
     "execution_count": 4,
     "metadata": {},
     "output_type": "execute_result"
    }
   ],
   "source": [
    "# посмотрим на строки, содержащие пропуски\n",
    "train[train['dept'].isna() | train['level'].isna()]"
   ]
  },
  {
   "cell_type": "code",
   "execution_count": 5,
   "id": "fa10c562",
   "metadata": {},
   "outputs": [
    {
     "name": "stdout",
     "output_type": "stream",
     "text": [
      "<class 'pandas.core.frame.DataFrame'>\n",
      "Int64Index: 2000 entries, 0 to 1999\n",
      "Data columns (total 10 columns):\n",
      " #   Column                 Non-Null Count  Dtype  \n",
      "---  ------                 --------------  -----  \n",
      " 0   id                     2000 non-null   int64  \n",
      " 1   dept                   1998 non-null   object \n",
      " 2   level                  1999 non-null   object \n",
      " 3   workload               2000 non-null   object \n",
      " 4   employment_years       2000 non-null   int64  \n",
      " 5   last_year_promo        2000 non-null   object \n",
      " 6   last_year_violations   2000 non-null   object \n",
      " 7   supervisor_evaluation  2000 non-null   int64  \n",
      " 8   salary                 2000 non-null   int64  \n",
      " 9   job_satisfaction_rate  2000 non-null   float64\n",
      "dtypes: float64(1), int64(4), object(5)\n",
      "memory usage: 171.9+ KB\n",
      "None\n",
      "\n"
     ]
    }
   ],
   "source": [
    "# данные файла \"train_job_satisfaction_rate.csv\" и \"test_target_job_satisfaction_rate\":\n",
    "test_features = pd.read_csv ('/datasets/test_features.csv')\n",
    "test_target = pd.read_csv ('/datasets/test_target_job_satisfaction_rate.csv')\n",
    "test = test_features.merge (test_target, on = 'id', how = 'inner')\n",
    "print (test.info())\n",
    "print ()"
   ]
  },
  {
   "cell_type": "code",
   "execution_count": 6,
   "id": "fb1dc106",
   "metadata": {},
   "outputs": [
    {
     "data": {
      "text/html": [
       "<div>\n",
       "<style scoped>\n",
       "    .dataframe tbody tr th:only-of-type {\n",
       "        vertical-align: middle;\n",
       "    }\n",
       "\n",
       "    .dataframe tbody tr th {\n",
       "        vertical-align: top;\n",
       "    }\n",
       "\n",
       "    .dataframe thead th {\n",
       "        text-align: right;\n",
       "    }\n",
       "</style>\n",
       "<table border=\"1\" class=\"dataframe\">\n",
       "  <thead>\n",
       "    <tr style=\"text-align: right;\">\n",
       "      <th></th>\n",
       "      <th>id</th>\n",
       "      <th>dept</th>\n",
       "      <th>level</th>\n",
       "      <th>workload</th>\n",
       "      <th>employment_years</th>\n",
       "      <th>last_year_promo</th>\n",
       "      <th>last_year_violations</th>\n",
       "      <th>supervisor_evaluation</th>\n",
       "      <th>salary</th>\n",
       "      <th>job_satisfaction_rate</th>\n",
       "    </tr>\n",
       "  </thead>\n",
       "  <tbody>\n",
       "    <tr>\n",
       "      <th>191</th>\n",
       "      <td>609865</td>\n",
       "      <td>NaN</td>\n",
       "      <td>junior</td>\n",
       "      <td>medium</td>\n",
       "      <td>1</td>\n",
       "      <td>no</td>\n",
       "      <td>no</td>\n",
       "      <td>1</td>\n",
       "      <td>20400</td>\n",
       "      <td>0.12</td>\n",
       "    </tr>\n",
       "    <tr>\n",
       "      <th>312</th>\n",
       "      <td>471990</td>\n",
       "      <td>sales</td>\n",
       "      <td>NaN</td>\n",
       "      <td>low</td>\n",
       "      <td>1</td>\n",
       "      <td>no</td>\n",
       "      <td>no</td>\n",
       "      <td>3</td>\n",
       "      <td>12000</td>\n",
       "      <td>0.17</td>\n",
       "    </tr>\n",
       "    <tr>\n",
       "      <th>1196</th>\n",
       "      <td>832342</td>\n",
       "      <td>NaN</td>\n",
       "      <td>junior</td>\n",
       "      <td>medium</td>\n",
       "      <td>1</td>\n",
       "      <td>no</td>\n",
       "      <td>no</td>\n",
       "      <td>4</td>\n",
       "      <td>28800</td>\n",
       "      <td>0.61</td>\n",
       "    </tr>\n",
       "  </tbody>\n",
       "</table>\n",
       "</div>"
      ],
      "text/plain": [
       "          id   dept   level workload  employment_years last_year_promo  \\\n",
       "191   609865    NaN  junior   medium                 1              no   \n",
       "312   471990  sales     NaN      low                 1              no   \n",
       "1196  832342    NaN  junior   medium                 1              no   \n",
       "\n",
       "     last_year_violations  supervisor_evaluation  salary  \\\n",
       "191                    no                      1   20400   \n",
       "312                    no                      3   12000   \n",
       "1196                   no                      4   28800   \n",
       "\n",
       "      job_satisfaction_rate  \n",
       "191                    0.12  \n",
       "312                    0.17  \n",
       "1196                   0.61  "
      ]
     },
     "execution_count": 6,
     "metadata": {},
     "output_type": "execute_result"
    }
   ],
   "source": [
    "# в тестовых данных также присутствуют пропуски\n",
    "test[test['dept'].isna() | test['level'].isna()]"
   ]
  },
  {
   "cell_type": "markdown",
   "id": "503fc0e3",
   "metadata": {},
   "source": [
    "Заполним пропуски в данных. Так как признаки с пропусками - категориальные, логичнее использовать самое частотное значение в выборке."
   ]
  },
  {
   "cell_type": "code",
   "execution_count": 7,
   "id": "611b136e",
   "metadata": {},
   "outputs": [
    {
     "data": {
      "text/html": [
       "<div>\n",
       "<style scoped>\n",
       "    .dataframe tbody tr th:only-of-type {\n",
       "        vertical-align: middle;\n",
       "    }\n",
       "\n",
       "    .dataframe tbody tr th {\n",
       "        vertical-align: top;\n",
       "    }\n",
       "\n",
       "    .dataframe thead th {\n",
       "        text-align: right;\n",
       "    }\n",
       "</style>\n",
       "<table border=\"1\" class=\"dataframe\">\n",
       "  <thead>\n",
       "    <tr style=\"text-align: right;\">\n",
       "      <th></th>\n",
       "      <th>id</th>\n",
       "      <th>dept</th>\n",
       "      <th>level</th>\n",
       "      <th>workload</th>\n",
       "      <th>employment_years</th>\n",
       "      <th>last_year_promo</th>\n",
       "      <th>last_year_violations</th>\n",
       "      <th>supervisor_evaluation</th>\n",
       "      <th>salary</th>\n",
       "      <th>job_satisfaction_rate</th>\n",
       "    </tr>\n",
       "  </thead>\n",
       "  <tbody>\n",
       "    <tr>\n",
       "      <th>1209</th>\n",
       "      <td>631073</td>\n",
       "      <td>sales</td>\n",
       "      <td>junior</td>\n",
       "      <td>medium</td>\n",
       "      <td>1</td>\n",
       "      <td>no</td>\n",
       "      <td>no</td>\n",
       "      <td>4</td>\n",
       "      <td>27600</td>\n",
       "      <td>0.66</td>\n",
       "    </tr>\n",
       "    <tr>\n",
       "      <th>1526</th>\n",
       "      <td>694746</td>\n",
       "      <td>sales</td>\n",
       "      <td>junior</td>\n",
       "      <td>medium</td>\n",
       "      <td>5</td>\n",
       "      <td>no</td>\n",
       "      <td>no</td>\n",
       "      <td>4</td>\n",
       "      <td>21600</td>\n",
       "      <td>0.62</td>\n",
       "    </tr>\n",
       "  </tbody>\n",
       "</table>\n",
       "</div>"
      ],
      "text/plain": [
       "          id   dept   level workload  employment_years last_year_promo  \\\n",
       "1209  631073  sales  junior   medium                 1              no   \n",
       "1526  694746  sales  junior   medium                 5              no   \n",
       "\n",
       "     last_year_violations  supervisor_evaluation  salary  \\\n",
       "1209                   no                      4   27600   \n",
       "1526                   no                      4   21600   \n",
       "\n",
       "      job_satisfaction_rate  \n",
       "1209                   0.66  \n",
       "1526                   0.62  "
      ]
     },
     "execution_count": 7,
     "metadata": {},
     "output_type": "execute_result"
    }
   ],
   "source": [
    "simple_imputer = SimpleImputer(strategy='most_frequent')\n",
    "pipe_si = Pipeline([('imputer', simple_imputer)])\n",
    "train['dept'] = pipe_si.fit_transform(train[['dept']])\n",
    "train['level'] = pipe_si.fit_transform(train[['level']])\n",
    "train.loc[[1209, 1526]]"
   ]
  },
  {
   "cell_type": "code",
   "execution_count": 8,
   "id": "bf05490b",
   "metadata": {},
   "outputs": [
    {
     "data": {
      "text/html": [
       "<div>\n",
       "<style scoped>\n",
       "    .dataframe tbody tr th:only-of-type {\n",
       "        vertical-align: middle;\n",
       "    }\n",
       "\n",
       "    .dataframe tbody tr th {\n",
       "        vertical-align: top;\n",
       "    }\n",
       "\n",
       "    .dataframe thead th {\n",
       "        text-align: right;\n",
       "    }\n",
       "</style>\n",
       "<table border=\"1\" class=\"dataframe\">\n",
       "  <thead>\n",
       "    <tr style=\"text-align: right;\">\n",
       "      <th></th>\n",
       "      <th>id</th>\n",
       "      <th>dept</th>\n",
       "      <th>level</th>\n",
       "      <th>workload</th>\n",
       "      <th>employment_years</th>\n",
       "      <th>last_year_promo</th>\n",
       "      <th>last_year_violations</th>\n",
       "      <th>supervisor_evaluation</th>\n",
       "      <th>salary</th>\n",
       "      <th>job_satisfaction_rate</th>\n",
       "    </tr>\n",
       "  </thead>\n",
       "  <tbody>\n",
       "    <tr>\n",
       "      <th>191</th>\n",
       "      <td>609865</td>\n",
       "      <td>sales</td>\n",
       "      <td>junior</td>\n",
       "      <td>medium</td>\n",
       "      <td>1</td>\n",
       "      <td>no</td>\n",
       "      <td>no</td>\n",
       "      <td>1</td>\n",
       "      <td>20400</td>\n",
       "      <td>0.12</td>\n",
       "    </tr>\n",
       "    <tr>\n",
       "      <th>312</th>\n",
       "      <td>471990</td>\n",
       "      <td>sales</td>\n",
       "      <td>junior</td>\n",
       "      <td>low</td>\n",
       "      <td>1</td>\n",
       "      <td>no</td>\n",
       "      <td>no</td>\n",
       "      <td>3</td>\n",
       "      <td>12000</td>\n",
       "      <td>0.17</td>\n",
       "    </tr>\n",
       "    <tr>\n",
       "      <th>1196</th>\n",
       "      <td>832342</td>\n",
       "      <td>sales</td>\n",
       "      <td>junior</td>\n",
       "      <td>medium</td>\n",
       "      <td>1</td>\n",
       "      <td>no</td>\n",
       "      <td>no</td>\n",
       "      <td>4</td>\n",
       "      <td>28800</td>\n",
       "      <td>0.61</td>\n",
       "    </tr>\n",
       "  </tbody>\n",
       "</table>\n",
       "</div>"
      ],
      "text/plain": [
       "          id   dept   level workload  employment_years last_year_promo  \\\n",
       "191   609865  sales  junior   medium                 1              no   \n",
       "312   471990  sales  junior      low                 1              no   \n",
       "1196  832342  sales  junior   medium                 1              no   \n",
       "\n",
       "     last_year_violations  supervisor_evaluation  salary  \\\n",
       "191                    no                      1   20400   \n",
       "312                    no                      3   12000   \n",
       "1196                   no                      4   28800   \n",
       "\n",
       "      job_satisfaction_rate  \n",
       "191                    0.12  \n",
       "312                    0.17  \n",
       "1196                   0.61  "
      ]
     },
     "execution_count": 8,
     "metadata": {},
     "output_type": "execute_result"
    }
   ],
   "source": [
    "test['dept'] = pipe_si.fit(train[['dept']]).transform(test[['dept']])\n",
    "test['level'] = pipe_si.fit(train[['level']]).transform(test[['level']])\n",
    "test.loc[[191, 312, 1196]]"
   ]
  },
  {
   "cell_type": "markdown",
   "id": "2d70a682",
   "metadata": {},
   "source": [
    "Пропуски в тренировочных и тестовых данных заменены на наиболее часто встречающееся значение."
   ]
  },
  {
   "cell_type": "code",
   "execution_count": 9,
   "id": "e665cde4",
   "metadata": {},
   "outputs": [
    {
     "name": "stdout",
     "output_type": "stream",
     "text": [
      "Кол-во дубликатов в тренировочных данных:  0\n",
      "Кол-во дубликатов в тестовых данных:  0\n"
     ]
    }
   ],
   "source": [
    "# проверим данные на наличие дубликатов:\n",
    "print ('Кол-во дубликатов в тренировочных данных: ', train.duplicated().sum())\n",
    "print ('Кол-во дубликатов в тестовых данных: ', test.duplicated().sum())"
   ]
  },
  {
   "cell_type": "markdown",
   "id": "fa435642",
   "metadata": {},
   "source": [
    "Явные дубликаты отсутствуют. Исследуем уникальные значения строковых признаков."
   ]
  },
  {
   "cell_type": "code",
   "execution_count": 10,
   "id": "55979247",
   "metadata": {
    "scrolled": true
   },
   "outputs": [
    {
     "name": "stdout",
     "output_type": "stream",
     "text": [
      "Значения столбца тренировочной выборки dept: ['sales' 'hr' 'technology' 'purchasing' 'marketing']\n",
      "Значения столбца тренировочной выборки level: ['junior' 'middle' 'sinior']\n",
      "Значения столбца тренировочной выборки workload: ['medium' 'high' 'low']\n",
      "Значения столбца тренировочной выборки last_year_promo: ['no' 'yes']\n",
      "Значения столбца тренировочной выборки last_year_violations: ['no' 'yes']\n",
      "\n",
      "Значения столбца тестовой выборки dept: ['marketing' 'hr' 'sales' 'purchasing' 'technology' ' ']\n",
      "Значения столбца тестовой выборки level: ['junior' 'middle' 'sinior']\n",
      "Значения столбца тестовой выборки workload: ['medium' 'low' 'high' ' ']\n",
      "Значения столбца тестовой выборки last_year_promo: ['no' 'yes']\n",
      "Значения столбца тестовой выборки last_year_violations: ['no' 'yes']\n"
     ]
    }
   ],
   "source": [
    "# ['dept', 'level', 'workload', 'last_year_promo', 'last_year_violations']\n",
    "cat_col = train.select_dtypes(include=['object']).columns.to_list()\n",
    "for col in cat_col: \n",
    "    print(f'Значения столбца тренировочной выборки {col}: {train[col].unique()}')\n",
    "print()\n",
    "for col in cat_col: \n",
    "    print(f'Значения столбца тестовой выборки {col}: {test[col].unique()}')\n"
   ]
  },
  {
   "cell_type": "markdown",
   "id": "261544b9",
   "metadata": {},
   "source": [
    "Неявные дубликаты также отсутствуют. Но в тестовой выборке есть пустые значения в столбце \"dept\" и \"workload\"."
   ]
  },
  {
   "cell_type": "code",
   "execution_count": 11,
   "id": "3b644170",
   "metadata": {},
   "outputs": [
    {
     "data": {
      "text/html": [
       "<div>\n",
       "<style scoped>\n",
       "    .dataframe tbody tr th:only-of-type {\n",
       "        vertical-align: middle;\n",
       "    }\n",
       "\n",
       "    .dataframe tbody tr th {\n",
       "        vertical-align: top;\n",
       "    }\n",
       "\n",
       "    .dataframe thead th {\n",
       "        text-align: right;\n",
       "    }\n",
       "</style>\n",
       "<table border=\"1\" class=\"dataframe\">\n",
       "  <thead>\n",
       "    <tr style=\"text-align: right;\">\n",
       "      <th></th>\n",
       "      <th>id</th>\n",
       "      <th>dept</th>\n",
       "      <th>level</th>\n",
       "      <th>workload</th>\n",
       "      <th>employment_years</th>\n",
       "      <th>last_year_promo</th>\n",
       "      <th>last_year_violations</th>\n",
       "      <th>supervisor_evaluation</th>\n",
       "      <th>salary</th>\n",
       "      <th>job_satisfaction_rate</th>\n",
       "    </tr>\n",
       "  </thead>\n",
       "  <tbody>\n",
       "    <tr>\n",
       "      <th>1699</th>\n",
       "      <td>822186</td>\n",
       "      <td></td>\n",
       "      <td>middle</td>\n",
       "      <td>medium</td>\n",
       "      <td>3</td>\n",
       "      <td>no</td>\n",
       "      <td>no</td>\n",
       "      <td>4</td>\n",
       "      <td>38400</td>\n",
       "      <td>0.64</td>\n",
       "    </tr>\n",
       "  </tbody>\n",
       "</table>\n",
       "</div>"
      ],
      "text/plain": [
       "          id dept   level workload  employment_years last_year_promo  \\\n",
       "1699  822186       middle   medium                 3              no   \n",
       "\n",
       "     last_year_violations  supervisor_evaluation  salary  \\\n",
       "1699                   no                      4   38400   \n",
       "\n",
       "      job_satisfaction_rate  \n",
       "1699                   0.64  "
      ]
     },
     "execution_count": 11,
     "metadata": {},
     "output_type": "execute_result"
    }
   ],
   "source": [
    "test[~test['dept'].isin(['marketing', 'hr', 'sales', 'purchasing', 'technology'])]"
   ]
  },
  {
   "cell_type": "code",
   "execution_count": 12,
   "id": "066d3601",
   "metadata": {},
   "outputs": [
    {
     "data": {
      "text/html": [
       "<div>\n",
       "<style scoped>\n",
       "    .dataframe tbody tr th:only-of-type {\n",
       "        vertical-align: middle;\n",
       "    }\n",
       "\n",
       "    .dataframe tbody tr th {\n",
       "        vertical-align: top;\n",
       "    }\n",
       "\n",
       "    .dataframe thead th {\n",
       "        text-align: right;\n",
       "    }\n",
       "</style>\n",
       "<table border=\"1\" class=\"dataframe\">\n",
       "  <thead>\n",
       "    <tr style=\"text-align: right;\">\n",
       "      <th></th>\n",
       "      <th>id</th>\n",
       "      <th>dept</th>\n",
       "      <th>level</th>\n",
       "      <th>workload</th>\n",
       "      <th>employment_years</th>\n",
       "      <th>last_year_promo</th>\n",
       "      <th>last_year_violations</th>\n",
       "      <th>supervisor_evaluation</th>\n",
       "      <th>salary</th>\n",
       "      <th>job_satisfaction_rate</th>\n",
       "    </tr>\n",
       "  </thead>\n",
       "  <tbody>\n",
       "    <tr>\n",
       "      <th>15</th>\n",
       "      <td>590867</td>\n",
       "      <td>marketing</td>\n",
       "      <td>junior</td>\n",
       "      <td></td>\n",
       "      <td>4</td>\n",
       "      <td>no</td>\n",
       "      <td>no</td>\n",
       "      <td>4</td>\n",
       "      <td>28800</td>\n",
       "      <td>0.79</td>\n",
       "    </tr>\n",
       "  </tbody>\n",
       "</table>\n",
       "</div>"
      ],
      "text/plain": [
       "        id       dept   level workload  employment_years last_year_promo  \\\n",
       "15  590867  marketing  junior                          4              no   \n",
       "\n",
       "   last_year_violations  supervisor_evaluation  salary  job_satisfaction_rate  \n",
       "15                   no                      4   28800                   0.79  "
      ]
     },
     "execution_count": 12,
     "metadata": {},
     "output_type": "execute_result"
    }
   ],
   "source": [
    "test[~test['workload'].isin(['medium', 'low', 'high'])]"
   ]
  },
  {
   "cell_type": "markdown",
   "id": "92f56fe1",
   "metadata": {},
   "source": [
    "Обнаружилось по одному пустому значению в каждом признаке - заполним их на этапе кодирования данных."
   ]
  },
  {
   "cell_type": "markdown",
   "id": "678dd252",
   "metadata": {},
   "source": [
    "### Исследовательский анализ данных."
   ]
  },
  {
   "cell_type": "markdown",
   "id": "c8e35313",
   "metadata": {},
   "source": [
    "Исследуем признаки."
   ]
  },
  {
   "cell_type": "markdown",
   "id": "68f4d11d",
   "metadata": {},
   "source": [
    "#### Распределение сотрудников по категориальным признакам"
   ]
  },
  {
   "cell_type": "code",
   "execution_count": 13,
   "id": "f8fa1ef0",
   "metadata": {},
   "outputs": [
    {
     "data": {
      "text/plain": [
       "'Размер данных: (6000, 10)'"
      ]
     },
     "metadata": {},
     "output_type": "display_data"
    },
    {
     "data": {
      "image/png": "[encoded data removed]",
      "text/plain": [
       "<Figure size 1440x720 with 5 Axes>"
      ]
     },
     "metadata": {},
     "output_type": "display_data"
    }
   ],
   "source": [
    "train_test = pd.concat([train, test])\n",
    "display(f'Размер данных: {train_test.shape}')\n",
    "plt.figure(figsize=(20, 10))\n",
    "plt.suptitle('Распределение признаков среди сотрудников', fontsize=18, y=0.95)\n",
    "#plt.subplots_adjust(hspace=0.2)\n",
    "#axe = axes.ravel()\n",
    "for index, i in enumerate(cat_col):\n",
    "    ax = plt.subplot(round(len(cat_col)/3), 3, index + 1)\n",
    "    train_test[i].value_counts().plot(kind='pie', autopct='%1.0f%%', ax = ax, \n",
    "                                      title=f'Признак \"{i}\"', ylabel='')"
   ]
  },
  {
   "cell_type": "markdown",
   "id": "e8d8931f",
   "metadata": {},
   "source": [
    "Графики показывают, что:\n",
    "- большая часть сотрудников (38%) работают в отделе продаж, на втором месте (22%) - IT;\n",
    "- больше всего сотрудников на позиции junior (48%), сотрудников среднего звена - 43% и старших сотрудников - 9%;\n",
    "- 52 % сотрудников имеют средний уровень загруженности (workload), 30% - низкую и 18% - высокую;\n",
    "- повышение за последний год (last_year_promo) получили 3 % сотрудников;\n",
    "- 14% сотрудников нарушали трудовой договор за последний год."
   ]
  },
  {
   "cell_type": "markdown",
   "id": "91f985a5",
   "metadata": {},
   "source": [
    "***Сравнение распределения признаков на тренировочных и тестовых данных:***"
   ]
  },
  {
   "cell_type": "code",
   "execution_count": 14,
   "id": "28dc0a6b",
   "metadata": {},
   "outputs": [
    {
     "data": {
      "image/png": "[encoded data removed]",
      "text/plain": [
       "<Figure size 1440x720 with 5 Axes>"
      ]
     },
     "metadata": {},
     "output_type": "display_data"
    }
   ],
   "source": [
    "plt.figure(figsize=(20, 10))\n",
    "plt.suptitle('Распределение признаков на тренировочных данных', fontsize=15, y=0.95)\n",
    "for index, i in enumerate(cat_col):\n",
    "    ax = plt.subplot(round(len(cat_col)/3), 3, index + 1)\n",
    "    train[i].value_counts().plot(kind='pie', autopct='%1.0f%%', ax = ax, title=f'Признак \"{i}\"', ylabel='')"
   ]
  },
  {
   "cell_type": "code",
   "execution_count": 15,
   "id": "5ca953ba",
   "metadata": {},
   "outputs": [
    {
     "data": {
      "image/png": "[encoded data removed]",
      "text/plain": [
       "<Figure size 1440x720 with 5 Axes>"
      ]
     },
     "metadata": {},
     "output_type": "display_data"
    }
   ],
   "source": [
    "plt.figure(figsize=(20, 10))\n",
    "plt.suptitle('Распределение признаков на тестовых данных', fontsize=15, y=0.95)\n",
    "for index, i in enumerate(cat_col):\n",
    "    ax1 = plt.subplot(round(len(cat_col)/3), 3, index + 1)\n",
    "    test[i].value_counts().plot(kind='pie', autopct='%1.0f%%', ax = ax1, \n",
    "                                    title=f'Признак \"{i}\"', ylabel='')"
   ]
  },
  {
   "cell_type": "markdown",
   "id": "e78d5b21",
   "metadata": {},
   "source": [
    "Сравнение распределения категориальных признаков на тестовых и тренировочных данных не выявило сильных различий: распределение признаков 'workload' и 'last_year_promo' идентично, разница распределения признаков 'dept', 'level' и 'last_year_violations' в пределах 1-2%."
   ]
  },
  {
   "cell_type": "markdown",
   "id": "777c3013",
   "metadata": {},
   "source": [
    "#### Распределение сотрудников по количественным признакам"
   ]
  },
  {
   "cell_type": "code",
   "execution_count": 16,
   "id": "43f12ac8",
   "metadata": {},
   "outputs": [
    {
     "name": "stdout",
     "output_type": "stream",
     "text": [
      "['id', 'employment_years', 'supervisor_evaluation', 'salary', 'job_satisfaction_rate']\n"
     ]
    }
   ],
   "source": [
    "num_сol = train_test.select_dtypes(include=['number']).columns.to_list()\n",
    "print (num_сol)"
   ]
  },
  {
   "cell_type": "code",
   "execution_count": 17,
   "id": "a5ed0d5b",
   "metadata": {},
   "outputs": [
    {
     "data": {
      "image/png": "[encoded data removed]",
      "text/plain": [
       "<Figure size 864x576 with 4 Axes>"
      ]
     },
     "metadata": {
      "needs_background": "light"
     },
     "output_type": "display_data"
    }
   ],
   "source": [
    "train_test.drop('id', axis=1).hist(bins=10, figsize=(12, 8));"
   ]
  },
  {
   "cell_type": "markdown",
   "id": "1a4cbd0a",
   "metadata": {},
   "source": [
    "Выбросы и аномалиии в числовых данных не наблюдаются."
   ]
  },
  {
   "cell_type": "code",
   "execution_count": 18,
   "id": "79cd9142",
   "metadata": {},
   "outputs": [
    {
     "data": {
      "text/html": [
       "<div>\n",
       "<style scoped>\n",
       "    .dataframe tbody tr th:only-of-type {\n",
       "        vertical-align: middle;\n",
       "    }\n",
       "\n",
       "    .dataframe tbody tr th {\n",
       "        vertical-align: top;\n",
       "    }\n",
       "\n",
       "    .dataframe thead th {\n",
       "        text-align: right;\n",
       "    }\n",
       "</style>\n",
       "<table border=\"1\" class=\"dataframe\">\n",
       "  <thead>\n",
       "    <tr style=\"text-align: right;\">\n",
       "      <th></th>\n",
       "      <th>employment_years</th>\n",
       "      <th>supervisor_evaluation</th>\n",
       "      <th>salary</th>\n",
       "      <th>job_satisfaction_rate</th>\n",
       "    </tr>\n",
       "  </thead>\n",
       "  <tbody>\n",
       "    <tr>\n",
       "      <th>count</th>\n",
       "      <td>6000.000000</td>\n",
       "      <td>6000.000000</td>\n",
       "      <td>6000.000000</td>\n",
       "      <td>6000.000000</td>\n",
       "    </tr>\n",
       "    <tr>\n",
       "      <th>mean</th>\n",
       "      <td>3.701167</td>\n",
       "      <td>3.493167</td>\n",
       "      <td>33973.400000</td>\n",
       "      <td>0.538923</td>\n",
       "    </tr>\n",
       "    <tr>\n",
       "      <th>std</th>\n",
       "      <td>2.540658</td>\n",
       "      <td>1.005048</td>\n",
       "      <td>15067.302669</td>\n",
       "      <td>0.223692</td>\n",
       "    </tr>\n",
       "    <tr>\n",
       "      <th>min</th>\n",
       "      <td>1.000000</td>\n",
       "      <td>1.000000</td>\n",
       "      <td>12000.000000</td>\n",
       "      <td>0.030000</td>\n",
       "    </tr>\n",
       "    <tr>\n",
       "      <th>25%</th>\n",
       "      <td>2.000000</td>\n",
       "      <td>3.000000</td>\n",
       "      <td>22800.000000</td>\n",
       "      <td>0.360000</td>\n",
       "    </tr>\n",
       "    <tr>\n",
       "      <th>50%</th>\n",
       "      <td>3.000000</td>\n",
       "      <td>4.000000</td>\n",
       "      <td>30000.000000</td>\n",
       "      <td>0.570000</td>\n",
       "    </tr>\n",
       "    <tr>\n",
       "      <th>75%</th>\n",
       "      <td>6.000000</td>\n",
       "      <td>4.000000</td>\n",
       "      <td>43200.000000</td>\n",
       "      <td>0.710000</td>\n",
       "    </tr>\n",
       "    <tr>\n",
       "      <th>max</th>\n",
       "      <td>10.000000</td>\n",
       "      <td>5.000000</td>\n",
       "      <td>98400.000000</td>\n",
       "      <td>1.000000</td>\n",
       "    </tr>\n",
       "  </tbody>\n",
       "</table>\n",
       "</div>"
      ],
      "text/plain": [
       "       employment_years  supervisor_evaluation        salary  \\\n",
       "count       6000.000000            6000.000000   6000.000000   \n",
       "mean           3.701167               3.493167  33973.400000   \n",
       "std            2.540658               1.005048  15067.302669   \n",
       "min            1.000000               1.000000  12000.000000   \n",
       "25%            2.000000               3.000000  22800.000000   \n",
       "50%            3.000000               4.000000  30000.000000   \n",
       "75%            6.000000               4.000000  43200.000000   \n",
       "max           10.000000               5.000000  98400.000000   \n",
       "\n",
       "       job_satisfaction_rate  \n",
       "count            6000.000000  \n",
       "mean                0.538923  \n",
       "std                 0.223692  \n",
       "min                 0.030000  \n",
       "25%                 0.360000  \n",
       "50%                 0.570000  \n",
       "75%                 0.710000  \n",
       "max                 1.000000  "
      ]
     },
     "execution_count": 18,
     "metadata": {},
     "output_type": "execute_result"
    }
   ],
   "source": [
    "#посмотрим на описание числовых признаков\n",
    "train_test.drop('id', axis=1).describe()"
   ]
  },
  {
   "cell_type": "markdown",
   "id": "8726b686",
   "metadata": {},
   "source": [
    "Исходя из графиков и описательной статистики количественных показателей:\n",
    "- сотрудники работают в компании от 1 до 10 лет, в среднем длительность работы в компании (employment_years) составляет 3,7 года;\n",
    "- средняя оценка качества работы сотрудников руководителем (supervisor_evaluation) равна 3,5 по 5-балльной шкале;\n",
    "- средняя зарплата (salary) сотрудников составляет около  34 тыс.руб. (от 12 тыс. руб. до 98 400 тыс. руб.), при этом половина сотрудников получает 30 тыс.руб. и менее, 25 % сотрудников получают 43,2 тыс. руб. и выше;\n",
    "- уровень удовлетворённости сотрудника работой в компании (job_satisfaction_rate) принимает значение от 0 до 1, среднее значение целевого признака job_satisfaction_rate = 0,54."
   ]
  },
  {
   "cell_type": "markdown",
   "id": "5db69733",
   "metadata": {},
   "source": [
    "***Сравнение распределения числовых признаков на тренировочных и тестовых данных:***"
   ]
  },
  {
   "cell_type": "code",
   "execution_count": 19,
   "id": "32400dc3",
   "metadata": {},
   "outputs": [
    {
     "data": {
      "image/png": "[encoded data removed]",
      "text/plain": [
       "<Figure size 432x288 with 1 Axes>"
      ]
     },
     "metadata": {
      "needs_background": "light"
     },
     "output_type": "display_data"
    },
    {
     "data": {
      "image/png": "[encoded data removed]",
      "text/plain": [
       "<Figure size 432x288 with 1 Axes>"
      ]
     },
     "metadata": {
      "needs_background": "light"
     },
     "output_type": "display_data"
    },
    {
     "data": {
      "image/png": "[encoded data removed]",
      "text/plain": [
       "<Figure size 432x288 with 1 Axes>"
      ]
     },
     "metadata": {
      "needs_background": "light"
     },
     "output_type": "display_data"
    },
    {
     "data": {
      "image/png": "[encoded data removed]",
      "text/plain": [
       "<Figure size 432x288 with 1 Axes>"
      ]
     },
     "metadata": {
      "needs_background": "light"
     },
     "output_type": "display_data"
    }
   ],
   "source": [
    "for i in num_сol [1:]:\n",
    "    ax = train.plot(kind='hist', y = i, histtype='step', linewidth=2, label='train', grid=True, legend=True)\n",
    "    test.plot(kind='hist', y = i, histtype='step', ax=ax, bins=15, color='green', linewidth=2, label='test', legend=True)\n",
    "    plt.title(f'Распределение сотрудников по признаку \"{i}\"')\n",
    "    plt.xlabel(i)\n",
    "    plt.ylabel('Количество сотрудников')\n",
    "    plt.show()"
   ]
  },
  {
   "cell_type": "markdown",
   "id": "48d90bf0",
   "metadata": {},
   "source": [
    "Числовые признаки также имеют схожее распределение в тестовых и тренировочных данных."
   ]
  },
  {
   "cell_type": "markdown",
   "id": "0f45ebee",
   "metadata": {},
   "source": [
    "### Корреляционных анализ данных."
   ]
  },
  {
   "cell_type": "markdown",
   "id": "429f4972",
   "metadata": {},
   "source": [
    "Посмотрим на влияние признаков на целевой признак и друг на друга:"
   ]
  },
  {
   "cell_type": "code",
   "execution_count": 20,
   "id": "e9ab88eb",
   "metadata": {},
   "outputs": [
    {
     "name": "stdout",
     "output_type": "stream",
     "text": [
      "interval columns not set, guessing: ['employment_years', 'supervisor_evaluation', 'salary', 'job_satisfaction_rate']\n"
     ]
    },
    {
     "data": {
      "image/png": "[encoded data removed]",
      "text/plain": [
       "<Figure size 576x360 with 2 Axes>"
      ]
     },
     "metadata": {
      "needs_background": "light"
     },
     "output_type": "display_data"
    }
   ],
   "source": [
    "phik_overview = phik_matrix(train_test.drop('id', axis=1))\n",
    "plot_correlation_matrix(\n",
    "    phik_overview.values,\n",
    "    x_labels=phik_overview.columns,\n",
    "    y_labels=phik_overview.index,\n",
    "    vmin=0, vmax=1, color_map='Greens',\n",
    "    title=r'Матрица корреляции признаков',\n",
    "    fontsize_factor=0.8,\n",
    "    figsize=(8, 5)\n",
    ") "
   ]
  },
  {
   "cell_type": "markdown",
   "id": "7f57ea50",
   "metadata": {},
   "source": [
    "Мультиколлинеарность (значения коэффициентов корреляции от 0.9 до 0.95 по модулю) входных признаков не наблюдается. На целевой признак уровня удовлетворённости сотрудника работой в компании (job_satisfaction_rate) наибольшее влияние оказывает оценка качества работы сотрудника, которую дал руководитель (supervisor_evaluation), также заметное влияние оказывают нарушения сотрудниками трудового договора (last_year_violations) и длительность работы в компании (employment_years). Слабое влияние на уровнень удовлетворённости сотрудников имеют размер ежемесячной зарплаты (salary) и повышения за последний год (last_year_promo). И практически не влияют на уровень удовлетворённости сотрудников уровень их загруженности (workload), отдел, в котором они работают, (dept) и уровень занимаемой должности (level)."
   ]
  },
  {
   "cell_type": "markdown",
   "id": "2d61883a",
   "metadata": {},
   "source": [
    "### Подготовка данных."
   ]
  },
  {
   "cell_type": "markdown",
   "id": "0b764b0f",
   "metadata": {},
   "source": [
    "Создадим пайплайны для кодирования категориальных признаков и масштабирования количественных."
   ]
  },
  {
   "cell_type": "code",
   "execution_count": 21,
   "id": "0b04cf95",
   "metadata": {},
   "outputs": [],
   "source": [
    "# разделим столбцы на подходящие им типы кодирования\n",
    "num_сol = ['employment_years', 'supervisor_evaluation', 'salary']\n",
    "ohe_col = ['last_year_promo', 'last_year_violations', 'dept']\n",
    "ord_col = ['level', 'workload']"
   ]
  },
  {
   "cell_type": "code",
   "execution_count": 22,
   "id": "0519f5aa",
   "metadata": {},
   "outputs": [],
   "source": [
    "# создаём пайплайн для подготовки признаков из списка ohe_columns: \n",
    "ohe_pipe = Pipeline(\n",
    "    [('simpleImputer_ohe', SimpleImputer(missing_values=np.nan, strategy='most_frequent')),\n",
    "     ('ohe', OneHotEncoder(drop='first', handle_unknown='ignore'))]\n",
    "\n",
    ")\n",
    "# создаём пайплайн для подготовки признаков из списка ord_columns: \n",
    "ord_pipe = Pipeline(\n",
    "    [('simpleImputer_before_ord', SimpleImputer(missing_values=np.nan, strategy='most_frequent')),\n",
    "     ('ord',  OrdinalEncoder(\n",
    "                categories=[\n",
    "                    ['junior', 'middle', 'sinior'],\n",
    "                    ['low', 'medium', 'high'],\n",
    "                    \n",
    "                ], \n",
    "                handle_unknown='use_encoded_value', unknown_value=np.nan\n",
    "            )\n",
    "        ),\n",
    "     ('simpleImputer_after_ord', SimpleImputer(missing_values=np.nan, strategy='most_frequent'))\n",
    "    ]\n",
    ")"
   ]
  },
  {
   "cell_type": "code",
   "execution_count": 23,
   "id": "0ec5d03e",
   "metadata": {},
   "outputs": [],
   "source": [
    "# создаём общий пайплайн для подготовки данных\n",
    "data_preprocessor = ColumnTransformer(\n",
    "    [('ohe', ohe_pipe, ohe_col),\n",
    "     ('ord', ord_pipe, ord_col),\n",
    "     ('num', MinMaxScaler(), num_сol)\n",
    "    ], \n",
    "    remainder='passthrough'\n",
    ")"
   ]
  },
  {
   "cell_type": "markdown",
   "id": "50e49103",
   "metadata": {},
   "source": [
    "Проверим появятся ли дубликаты в тренировочных данных после удаления столбца 'id':"
   ]
  },
  {
   "cell_type": "code",
   "execution_count": 24,
   "id": "c00ff775",
   "metadata": {},
   "outputs": [
    {
     "data": {
      "text/plain": [
       "248"
      ]
     },
     "execution_count": 24,
     "metadata": {},
     "output_type": "execute_result"
    }
   ],
   "source": [
    "train.drop(['id'], axis = 1).duplicated().sum()"
   ]
  },
  {
   "cell_type": "markdown",
   "id": "e4c3f59c",
   "metadata": {},
   "source": [
    "Очистим тренировочную выборку от дубликатов без учета 'id':"
   ]
  },
  {
   "cell_type": "code",
   "execution_count": 25,
   "id": "671919c2",
   "metadata": {},
   "outputs": [
    {
     "name": "stdout",
     "output_type": "stream",
     "text": [
      "После удаления размер тренировочной выборки составляет 3752 строки.\n"
     ]
    }
   ],
   "source": [
    "train = train.drop(['id'], axis = 1).drop_duplicates()\n",
    "print(f'После удаления размер тренировочной выборки составляет {train.shape[0]} строки.')"
   ]
  },
  {
   "cell_type": "code",
   "execution_count": 26,
   "id": "b9ae837a",
   "metadata": {},
   "outputs": [],
   "source": [
    "# выделим из тренировочной и тестовой входные признаки и целевой признак:\n",
    "X_train = train.drop(['job_satisfaction_rate'], axis = 1)\n",
    "y_train = pd.Series(train['job_satisfaction_rate'])\n",
    "X_test = test.drop(['job_satisfaction_rate', 'id'], axis = 1)\n",
    "y_test = pd.Series(test['job_satisfaction_rate'])"
   ]
  },
  {
   "cell_type": "markdown",
   "id": "33fd64b8",
   "metadata": {},
   "source": [
    "### Обучение моделей."
   ]
  },
  {
   "cell_type": "code",
   "execution_count": 27,
   "id": "044fb97d",
   "metadata": {},
   "outputs": [],
   "source": [
    "# зададим константу\n",
    "RANDOM_STATE = 42"
   ]
  },
  {
   "cell_type": "markdown",
   "id": "ba84de95",
   "metadata": {},
   "source": [
    "Выбирать лучшую модель и проверять её качество будем на основе метрики SMAPE («симметричное среднее абсолютное процентное отклонение»). Для этого создадим эту метрику:"
   ]
  },
  {
   "cell_type": "code",
   "execution_count": 28,
   "id": "f9aaeb38",
   "metadata": {},
   "outputs": [],
   "source": [
    "def SMAPE (y_true, y_pred):\n",
    "    dif = np.abs(y_true - y_pred)\n",
    "    avg = (np.abs(y_true) + np.abs(y_pred))/2\n",
    "    return np.mean(dif/avg)*100\n",
    "scorer = make_scorer(SMAPE, greater_is_better = False)"
   ]
  },
  {
   "cell_type": "markdown",
   "id": "772edaa6",
   "metadata": {},
   "source": [
    "#### Модель линейной регрессии."
   ]
  },
  {
   "cell_type": "code",
   "execution_count": 29,
   "id": "c96d1c2c",
   "metadata": {},
   "outputs": [],
   "source": [
    "# создаём пайплайн для обучения модели линейной регрессии: \n",
    "pipe_linal = Pipeline([\n",
    "    ('preprocessor', data_preprocessor),\n",
    "    ('models', LinearRegression())\n",
    "])\n",
    "\n",
    "param_grid_linal = [\n",
    "    # словарь для модели LinearRegression()\n",
    "    {\n",
    "        'models': [LinearRegression()],\n",
    "        'preprocessor__num': [StandardScaler(), MinMaxScaler(), RobustScaler(), 'passthrough']  \n",
    "    }\n",
    "]"
   ]
  },
  {
   "cell_type": "code",
   "execution_count": 30,
   "id": "291363ab",
   "metadata": {},
   "outputs": [
    {
     "name": "stdout",
     "output_type": "stream",
     "text": [
      "Лучшие параметры модели линейной регрессии:\n",
      "\n",
      " Pipeline(steps=[('preprocessor',\n",
      "                 ColumnTransformer(remainder='passthrough',\n",
      "                                   transformers=[('ohe',\n",
      "                                                  Pipeline(steps=[('simpleImputer_ohe',\n",
      "                                                                   SimpleImputer(strategy='most_frequent')),\n",
      "                                                                  ('ohe',\n",
      "                                                                   OneHotEncoder(drop='first',\n",
      "                                                                                 handle_unknown='ignore'))]),\n",
      "                                                  ['last_year_promo',\n",
      "                                                   'last_year_violations',\n",
      "                                                   'dept']),\n",
      "                                                 ('ord',\n",
      "                                                  Pipeline(steps=[('simpleImputer_before_ord',\n",
      "                                                                   SimpleImputer...t')),\n",
      "                                                                  ('ord',\n",
      "                                                                   OrdinalEncoder(categories=[['junior',\n",
      "                                                                                               'middle',\n",
      "                                                                                               'sinior'],\n",
      "                                                                                              ['low',\n",
      "                                                                                               'medium',\n",
      "                                                                                               'high']],\n",
      "                                                                                  handle_unknown='use_encoded_value',\n",
      "                                                                                  unknown_value=nan)),\n",
      "                                                                  ('simpleImputer_after_ord',\n",
      "                                                                   SimpleImputer(strategy='most_frequent'))]),\n",
      "                                                  ['level', 'workload']),\n",
      "                                                 ('num', 'passthrough',\n",
      "                                                  ['employment_years',\n",
      "                                                   'supervisor_evaluation',\n",
      "                                                   'salary'])])),\n",
      "                ('models', LinearRegression())])\n",
      "Метрика лучшей модели линейной регрессии на тренировочной выборке: 24.991163758387533\n",
      "Метрика SMAPE на тестовых данных: 23.565458128407748\n"
     ]
    },
    {
     "name": "stderr",
     "output_type": "stream",
     "text": [
      "/opt/conda/lib/python3.9/site-packages/sklearn/preprocessing/_encoders.py:246: UserWarning: Found unknown categories in columns [2] during transform. These unknown categories will be encoded as all zeros\n",
      "  warnings.warn(\n"
     ]
    }
   ],
   "source": [
    "# подберем лучшие параметры для линейной регрессии:\n",
    "grid_linal = GridSearchCV(\n",
    "    pipe_linal, \n",
    "    param_grid_linal, \n",
    "    cv=5,\n",
    "    scoring=scorer,\n",
    "    n_jobs=-1\n",
    ")\n",
    "grid_linal.fit(X_train, y_train)\n",
    "\n",
    "print('Лучшие параметры модели линейной регрессии:\\n\\n', grid_linal.best_estimator_)\n",
    "print ('Метрика лучшей модели линейной регрессии на тренировочной выборке:', np.abs(grid_linal.best_score_))\n",
    "\n",
    "# на тестовой выборке\n",
    "y_test_pred = grid_linal.predict(X_test)\n",
    "print(f'Метрика SMAPE на тестовых данных: {SMAPE(y_test, y_test_pred)}');\n"
   ]
  },
  {
   "cell_type": "markdown",
   "id": "ffcbec3b",
   "metadata": {},
   "source": [
    "#### Модель регрессии дерева решений."
   ]
  },
  {
   "cell_type": "code",
   "execution_count": 31,
   "id": "4ffc7e17",
   "metadata": {},
   "outputs": [],
   "source": [
    "# создаём пайплайн для обучения модели дерева регрессии: \n",
    "pipe_tree = Pipeline([\n",
    "    ('preprocessor', data_preprocessor),\n",
    "    ('models', DecisionTreeRegressor(random_state=RANDOM_STATE))\n",
    "])\n",
    "\n",
    "param_grid_tree = [\n",
    "    # словарь для модели DecisionTreeRegressor()\n",
    "    {\n",
    "        'models': [DecisionTreeRegressor(random_state=RANDOM_STATE)],\n",
    "        'models__max_depth': range(5, 15),\n",
    "        'models__max_features': range(1, 15),\n",
    "        'preprocessor__num': [StandardScaler(), MinMaxScaler(), RobustScaler(), 'passthrough']  \n",
    "    }\n",
    "]"
   ]
  },
  {
   "cell_type": "code",
   "execution_count": 32,
   "id": "17f659c2",
   "metadata": {
    "scrolled": false
   },
   "outputs": [
    {
     "name": "stdout",
     "output_type": "stream",
     "text": [
      "Лучшие параметры модели дерева регрессии:\n",
      "\n",
      " Pipeline(steps=[('preprocessor',\n",
      "                 ColumnTransformer(remainder='passthrough',\n",
      "                                   transformers=[('ohe',\n",
      "                                                  Pipeline(steps=[('simpleImputer_ohe',\n",
      "                                                                   SimpleImputer(strategy='most_frequent')),\n",
      "                                                                  ('ohe',\n",
      "                                                                   OneHotEncoder(drop='first',\n",
      "                                                                                 handle_unknown='ignore'))]),\n",
      "                                                  ['last_year_promo',\n",
      "                                                   'last_year_violations',\n",
      "                                                   'dept']),\n",
      "                                                 ('ord',\n",
      "                                                  Pipeline(steps=[('simpleImputer_before_ord',\n",
      "                                                                   SimpleImputer...\n",
      "                                                                                               'middle',\n",
      "                                                                                               'sinior'],\n",
      "                                                                                              ['low',\n",
      "                                                                                               'medium',\n",
      "                                                                                               'high']],\n",
      "                                                                                  handle_unknown='use_encoded_value',\n",
      "                                                                                  unknown_value=nan)),\n",
      "                                                                  ('simpleImputer_after_ord',\n",
      "                                                                   SimpleImputer(strategy='most_frequent'))]),\n",
      "                                                  ['level', 'workload']),\n",
      "                                                 ('num', StandardScaler(),\n",
      "                                                  ['employment_years',\n",
      "                                                   'supervisor_evaluation',\n",
      "                                                   'salary'])])),\n",
      "                ('models',\n",
      "                 DecisionTreeRegressor(max_depth=11, max_features=10,\n",
      "                                       random_state=42))])\n",
      "Метрика лучшей модели дерева регрессии на тренировочной выборке: 15.380298440110911\n",
      "Метрика SMAPE на тестовых данных: 14.499486763449973\n"
     ]
    },
    {
     "name": "stderr",
     "output_type": "stream",
     "text": [
      "/opt/conda/lib/python3.9/site-packages/sklearn/preprocessing/_encoders.py:246: UserWarning: Found unknown categories in columns [2] during transform. These unknown categories will be encoded as all zeros\n",
      "  warnings.warn(\n"
     ]
    }
   ],
   "source": [
    "# подберем лучшие параметры для дерева регрессии:\n",
    "grid_tree = GridSearchCV(\n",
    "    pipe_tree, \n",
    "    param_grid_tree, \n",
    "    cv=5,\n",
    "    scoring=scorer,\n",
    "    n_jobs=-1\n",
    ")\n",
    "grid_tree.fit(X_train, y_train)\n",
    "\n",
    "print('Лучшие параметры модели дерева регрессии:\\n\\n', grid_tree.best_estimator_)\n",
    "print ('Метрика лучшей модели дерева регрессии на тренировочной выборке:', np.abs(grid_tree.best_score_))\n",
    "\n",
    "# на тестовой выборке\n",
    "y_test_pred = grid_tree.predict(X_test)\n",
    "print(f'Метрика SMAPE на тестовых данных: {SMAPE(y_test, y_test_pred)}');"
   ]
  },
  {
   "cell_type": "markdown",
   "id": "74b7fe68",
   "metadata": {},
   "source": [
    "### Вывод о модели уровня удовлетворенности сотрудника."
   ]
  },
  {
   "cell_type": "markdown",
   "id": "c134a16c",
   "metadata": {},
   "source": [
    "Лучшие показатели прогнозирования уровня удовлетворенности сотрудников - у модели дерева регрессии с глубиной = 11 и 10 учитываемыми признаками."
   ]
  },
  {
   "cell_type": "markdown",
   "id": "9c0e94a2",
   "metadata": {},
   "source": [
    "## Предсказание вероятности увольнения сотрудника."
   ]
  },
  {
   "cell_type": "markdown",
   "id": "49fbed39",
   "metadata": {},
   "source": [
    "Модель № 2 будет предсказывать факт увольнения сотрудника."
   ]
  },
  {
   "cell_type": "markdown",
   "id": "6e1e547b",
   "metadata": {},
   "source": [
    "### Импорт и предобработка  данных."
   ]
  },
  {
   "cell_type": "code",
   "execution_count": 33,
   "id": "0b5427c6",
   "metadata": {},
   "outputs": [
    {
     "name": "stdout",
     "output_type": "stream",
     "text": [
      "<class 'pandas.core.frame.DataFrame'>\n",
      "RangeIndex: 4000 entries, 0 to 3999\n",
      "Data columns (total 10 columns):\n",
      " #   Column                 Non-Null Count  Dtype \n",
      "---  ------                 --------------  ----- \n",
      " 0   id                     4000 non-null   int64 \n",
      " 1   dept                   4000 non-null   object\n",
      " 2   level                  4000 non-null   object\n",
      " 3   workload               4000 non-null   object\n",
      " 4   employment_years       4000 non-null   int64 \n",
      " 5   last_year_promo        4000 non-null   object\n",
      " 6   last_year_violations   4000 non-null   object\n",
      " 7   supervisor_evaluation  4000 non-null   int64 \n",
      " 8   salary                 4000 non-null   int64 \n",
      " 9   quit                   4000 non-null   object\n",
      "dtypes: int64(4), object(6)\n",
      "memory usage: 312.6+ KB\n",
      "None\n"
     ]
    }
   ],
   "source": [
    "# данные файла \"train_job_satisfaction_rate.csv\":\n",
    "train2 = pd.read_csv ('/datasets/train_quit.csv')\n",
    "print (train2.info())"
   ]
  },
  {
   "cell_type": "markdown",
   "id": "2086e3a7",
   "metadata": {},
   "source": [
    "Данные второй тренировочной выборки не содержат пропусков."
   ]
  },
  {
   "cell_type": "code",
   "execution_count": 34,
   "id": "c8d48879",
   "metadata": {},
   "outputs": [
    {
     "name": "stdout",
     "output_type": "stream",
     "text": [
      "<class 'pandas.core.frame.DataFrame'>\n",
      "Int64Index: 2000 entries, 0 to 1999\n",
      "Data columns (total 10 columns):\n",
      " #   Column                 Non-Null Count  Dtype \n",
      "---  ------                 --------------  ----- \n",
      " 0   id                     2000 non-null   int64 \n",
      " 1   dept                   1998 non-null   object\n",
      " 2   level                  1999 non-null   object\n",
      " 3   workload               2000 non-null   object\n",
      " 4   employment_years       2000 non-null   int64 \n",
      " 5   last_year_promo        2000 non-null   object\n",
      " 6   last_year_violations   2000 non-null   object\n",
      " 7   supervisor_evaluation  2000 non-null   int64 \n",
      " 8   salary                 2000 non-null   int64 \n",
      " 9   quit                   2000 non-null   object\n",
      "dtypes: int64(4), object(6)\n",
      "memory usage: 171.9+ KB\n",
      "None\n"
     ]
    }
   ],
   "source": [
    "# данные файла \"test_features.csv\" и \"test_target_quit.csv\":\n",
    "test_features2 = pd.read_csv ('/datasets/test_features.csv')\n",
    "test_target2 = pd.read_csv ('/datasets/test_target_quit.csv')\n",
    "test2 = test_features.merge (test_target2, on = 'id', how = 'inner')\n",
    "print (test2.info())"
   ]
  },
  {
   "cell_type": "code",
   "execution_count": 35,
   "id": "ef6983d8",
   "metadata": {},
   "outputs": [
    {
     "data": {
      "text/html": [
       "<div>\n",
       "<style scoped>\n",
       "    .dataframe tbody tr th:only-of-type {\n",
       "        vertical-align: middle;\n",
       "    }\n",
       "\n",
       "    .dataframe tbody tr th {\n",
       "        vertical-align: top;\n",
       "    }\n",
       "\n",
       "    .dataframe thead th {\n",
       "        text-align: right;\n",
       "    }\n",
       "</style>\n",
       "<table border=\"1\" class=\"dataframe\">\n",
       "  <thead>\n",
       "    <tr style=\"text-align: right;\">\n",
       "      <th></th>\n",
       "      <th>id</th>\n",
       "      <th>dept</th>\n",
       "      <th>level</th>\n",
       "      <th>workload</th>\n",
       "      <th>employment_years</th>\n",
       "      <th>last_year_promo</th>\n",
       "      <th>last_year_violations</th>\n",
       "      <th>supervisor_evaluation</th>\n",
       "      <th>salary</th>\n",
       "      <th>quit</th>\n",
       "    </tr>\n",
       "  </thead>\n",
       "  <tbody>\n",
       "    <tr>\n",
       "      <th>191</th>\n",
       "      <td>609865</td>\n",
       "      <td>NaN</td>\n",
       "      <td>junior</td>\n",
       "      <td>medium</td>\n",
       "      <td>1</td>\n",
       "      <td>no</td>\n",
       "      <td>no</td>\n",
       "      <td>1</td>\n",
       "      <td>20400</td>\n",
       "      <td>yes</td>\n",
       "    </tr>\n",
       "    <tr>\n",
       "      <th>312</th>\n",
       "      <td>471990</td>\n",
       "      <td>sales</td>\n",
       "      <td>NaN</td>\n",
       "      <td>low</td>\n",
       "      <td>1</td>\n",
       "      <td>no</td>\n",
       "      <td>no</td>\n",
       "      <td>3</td>\n",
       "      <td>12000</td>\n",
       "      <td>yes</td>\n",
       "    </tr>\n",
       "    <tr>\n",
       "      <th>1196</th>\n",
       "      <td>832342</td>\n",
       "      <td>NaN</td>\n",
       "      <td>junior</td>\n",
       "      <td>medium</td>\n",
       "      <td>1</td>\n",
       "      <td>no</td>\n",
       "      <td>no</td>\n",
       "      <td>4</td>\n",
       "      <td>28800</td>\n",
       "      <td>no</td>\n",
       "    </tr>\n",
       "  </tbody>\n",
       "</table>\n",
       "</div>"
      ],
      "text/plain": [
       "          id   dept   level workload  employment_years last_year_promo  \\\n",
       "191   609865    NaN  junior   medium                 1              no   \n",
       "312   471990  sales     NaN      low                 1              no   \n",
       "1196  832342    NaN  junior   medium                 1              no   \n",
       "\n",
       "     last_year_violations  supervisor_evaluation  salary quit  \n",
       "191                    no                      1   20400  yes  \n",
       "312                    no                      3   12000  yes  \n",
       "1196                   no                      4   28800   no  "
      ]
     },
     "execution_count": 35,
     "metadata": {},
     "output_type": "execute_result"
    }
   ],
   "source": [
    "# в тестовых данных присутствуют пропуски\n",
    "test2[test2['dept'].isna() | test2['level'].isna()]"
   ]
  },
  {
   "cell_type": "markdown",
   "id": "4a821653",
   "metadata": {},
   "source": [
    "Заполним пропуски в данных при моделировании."
   ]
  },
  {
   "cell_type": "code",
   "execution_count": 36,
   "id": "886b0b3d",
   "metadata": {},
   "outputs": [
    {
     "name": "stdout",
     "output_type": "stream",
     "text": [
      "Кол-во дубликатов в тренировочных данных:  0\n",
      "Кол-во дубликатов в тестовых данных:  0\n"
     ]
    }
   ],
   "source": [
    "# проверим данные на наличие дубликатов:\n",
    "print ('Кол-во дубликатов в тренировочных данных: ', train2.duplicated().sum())\n",
    "print ('Кол-во дубликатов в тестовых данных: ', test2.duplicated().sum())"
   ]
  },
  {
   "cell_type": "code",
   "execution_count": 37,
   "id": "dd80a726",
   "metadata": {},
   "outputs": [
    {
     "name": "stdout",
     "output_type": "stream",
     "text": [
      "Значения столбца тренировочной выборки dept: ['sales' 'purchasing' 'marketing' 'technology' 'hr']\n",
      "Значения столбца тренировочной выборки level: ['middle' 'junior' 'sinior']\n",
      "Значения столбца тренировочной выборки workload: ['high' 'medium' 'low']\n",
      "Значения столбца тренировочной выборки last_year_promo: ['no' 'yes']\n",
      "Значения столбца тренировочной выборки last_year_violations: ['no' 'yes']\n",
      "Значения столбца тренировочной выборки quit: ['no' 'yes']\n",
      "\n",
      "Значения столбца тестовой выборки dept: ['marketing' 'hr' 'sales' 'purchasing' 'technology' nan ' ']\n",
      "Значения столбца тестовой выборки level: ['junior' 'middle' 'sinior' nan]\n",
      "Значения столбца тестовой выборки workload: ['medium' 'low' 'high' ' ']\n",
      "Значения столбца тестовой выборки last_year_promo: ['no' 'yes']\n",
      "Значения столбца тестовой выборки last_year_violations: ['no' 'yes']\n",
      "Значения столбца тестовой выборки quit: ['no' 'yes']\n"
     ]
    }
   ],
   "source": [
    "cat_col = train2.select_dtypes(include=['object']).columns.to_list()\n",
    "for col in cat_col: \n",
    "    print(f'Значения столбца тренировочной выборки {col}: {train2[col].unique()}')\n",
    "print()\n",
    "for col in cat_col: \n",
    "    print(f'Значения столбца тестовой выборки {col}: {test2[col].unique()}')"
   ]
  },
  {
   "cell_type": "code",
   "execution_count": 38,
   "id": "f0f6809e",
   "metadata": {},
   "outputs": [
    {
     "data": {
      "text/html": [
       "<div>\n",
       "<style scoped>\n",
       "    .dataframe tbody tr th:only-of-type {\n",
       "        vertical-align: middle;\n",
       "    }\n",
       "\n",
       "    .dataframe tbody tr th {\n",
       "        vertical-align: top;\n",
       "    }\n",
       "\n",
       "    .dataframe thead th {\n",
       "        text-align: right;\n",
       "    }\n",
       "</style>\n",
       "<table border=\"1\" class=\"dataframe\">\n",
       "  <thead>\n",
       "    <tr style=\"text-align: right;\">\n",
       "      <th></th>\n",
       "      <th>id</th>\n",
       "      <th>dept</th>\n",
       "      <th>level</th>\n",
       "      <th>workload</th>\n",
       "      <th>employment_years</th>\n",
       "      <th>last_year_promo</th>\n",
       "      <th>last_year_violations</th>\n",
       "      <th>supervisor_evaluation</th>\n",
       "      <th>salary</th>\n",
       "      <th>quit</th>\n",
       "    </tr>\n",
       "  </thead>\n",
       "  <tbody>\n",
       "    <tr>\n",
       "      <th>191</th>\n",
       "      <td>609865</td>\n",
       "      <td>NaN</td>\n",
       "      <td>junior</td>\n",
       "      <td>medium</td>\n",
       "      <td>1</td>\n",
       "      <td>no</td>\n",
       "      <td>no</td>\n",
       "      <td>1</td>\n",
       "      <td>20400</td>\n",
       "      <td>yes</td>\n",
       "    </tr>\n",
       "    <tr>\n",
       "      <th>1196</th>\n",
       "      <td>832342</td>\n",
       "      <td>NaN</td>\n",
       "      <td>junior</td>\n",
       "      <td>medium</td>\n",
       "      <td>1</td>\n",
       "      <td>no</td>\n",
       "      <td>no</td>\n",
       "      <td>4</td>\n",
       "      <td>28800</td>\n",
       "      <td>no</td>\n",
       "    </tr>\n",
       "    <tr>\n",
       "      <th>1699</th>\n",
       "      <td>822186</td>\n",
       "      <td></td>\n",
       "      <td>middle</td>\n",
       "      <td>medium</td>\n",
       "      <td>3</td>\n",
       "      <td>no</td>\n",
       "      <td>no</td>\n",
       "      <td>4</td>\n",
       "      <td>38400</td>\n",
       "      <td>no</td>\n",
       "    </tr>\n",
       "  </tbody>\n",
       "</table>\n",
       "</div>"
      ],
      "text/plain": [
       "          id dept   level workload  employment_years last_year_promo  \\\n",
       "191   609865  NaN  junior   medium                 1              no   \n",
       "1196  832342  NaN  junior   medium                 1              no   \n",
       "1699  822186       middle   medium                 3              no   \n",
       "\n",
       "     last_year_violations  supervisor_evaluation  salary quit  \n",
       "191                    no                      1   20400  yes  \n",
       "1196                   no                      4   28800   no  \n",
       "1699                   no                      4   38400   no  "
      ]
     },
     "execution_count": 38,
     "metadata": {},
     "output_type": "execute_result"
    }
   ],
   "source": [
    "test2[~test2['dept'].isin(['marketing', 'hr', 'sales', 'purchasing', 'technology'])]"
   ]
  },
  {
   "cell_type": "code",
   "execution_count": 39,
   "id": "f41a0b89",
   "metadata": {},
   "outputs": [
    {
     "data": {
      "text/html": [
       "<div>\n",
       "<style scoped>\n",
       "    .dataframe tbody tr th:only-of-type {\n",
       "        vertical-align: middle;\n",
       "    }\n",
       "\n",
       "    .dataframe tbody tr th {\n",
       "        vertical-align: top;\n",
       "    }\n",
       "\n",
       "    .dataframe thead th {\n",
       "        text-align: right;\n",
       "    }\n",
       "</style>\n",
       "<table border=\"1\" class=\"dataframe\">\n",
       "  <thead>\n",
       "    <tr style=\"text-align: right;\">\n",
       "      <th></th>\n",
       "      <th>id</th>\n",
       "      <th>dept</th>\n",
       "      <th>level</th>\n",
       "      <th>workload</th>\n",
       "      <th>employment_years</th>\n",
       "      <th>last_year_promo</th>\n",
       "      <th>last_year_violations</th>\n",
       "      <th>supervisor_evaluation</th>\n",
       "      <th>salary</th>\n",
       "      <th>quit</th>\n",
       "    </tr>\n",
       "  </thead>\n",
       "  <tbody>\n",
       "    <tr>\n",
       "      <th>15</th>\n",
       "      <td>590867</td>\n",
       "      <td>marketing</td>\n",
       "      <td>junior</td>\n",
       "      <td></td>\n",
       "      <td>4</td>\n",
       "      <td>no</td>\n",
       "      <td>no</td>\n",
       "      <td>4</td>\n",
       "      <td>28800</td>\n",
       "      <td>no</td>\n",
       "    </tr>\n",
       "  </tbody>\n",
       "</table>\n",
       "</div>"
      ],
      "text/plain": [
       "        id       dept   level workload  employment_years last_year_promo  \\\n",
       "15  590867  marketing  junior                          4              no   \n",
       "\n",
       "   last_year_violations  supervisor_evaluation  salary quit  \n",
       "15                   no                      4   28800   no  "
      ]
     },
     "execution_count": 39,
     "metadata": {},
     "output_type": "execute_result"
    }
   ],
   "source": [
    "test2[~test2['workload'].isin(['medium', 'low', 'high'])]"
   ]
  },
  {
   "cell_type": "markdown",
   "id": "cb809192",
   "metadata": {},
   "source": [
    "Пропуски и пустые значения наблюдаются в признаках \"dept\", \"level\" и \"workload\". Опечаток в данных нет. Т.к. количество некорректно заполненных данных незначительно, то они не скажутся на результатах исследователького анализа, поэтому их обработаем на этапе моделирования."
   ]
  },
  {
   "cell_type": "markdown",
   "id": "74a92e09",
   "metadata": {},
   "source": [
    "### Исследовательский анализ данных."
   ]
  },
  {
   "cell_type": "markdown",
   "id": "46acd91b",
   "metadata": {},
   "source": [
    "Посмотрим на распределение сотрудников по их статусу (действующий - no или уволен - yes):"
   ]
  },
  {
   "cell_type": "code",
   "execution_count": 40,
   "id": "a776aa4f",
   "metadata": {},
   "outputs": [
    {
     "name": "stdout",
     "output_type": "stream",
     "text": [
      "no     4308\n",
      "yes    1692\n",
      "Name: quit, dtype: int64\n"
     ]
    }
   ],
   "source": [
    "train_test2 = pd.concat([train2, test2])\n",
    "print (train_test2 ['quit'].value_counts())"
   ]
  },
  {
   "cell_type": "code",
   "execution_count": 41,
   "id": "ecce42a5",
   "metadata": {},
   "outputs": [
    {
     "data": {
      "image/png": "[encoded data removed]",
      "text/plain": [
       "<Figure size 432x288 with 1 Axes>"
      ]
     },
     "metadata": {
      "needs_background": "light"
     },
     "output_type": "display_data"
    }
   ],
   "source": [
    "train_test2 ['quit'].value_counts(normalize=True).plot(kind='bar', rot = 0, title = 'Распределение сотрудников по статусу увольнения в долях'); "
   ]
  },
  {
   "cell_type": "markdown",
   "id": "883013ef",
   "metadata": {},
   "source": [
    "Почти 30 % сотрудников увольняется. Посмотрим на отличительные признаки этого сегмента сотрудников:"
   ]
  },
  {
   "cell_type": "code",
   "execution_count": 42,
   "id": "d39ddd06",
   "metadata": {},
   "outputs": [
    {
     "data": {
      "image/png": "[encoded data removed]",
      "text/plain": [
       "<Figure size 1584x360 with 3 Axes>"
      ]
     },
     "metadata": {
      "needs_background": "light"
     },
     "output_type": "display_data"
    }
   ],
   "source": [
    "# распределение по категориальным признакам\n",
    "fig, ax = plt.subplots(1, len(ohe_col), figsize=(22, 5))\n",
    "for index, i in enumerate(ohe_col):\n",
    "    train_test2.pivot_table (columns = 'quit', index = i, values = 'salary', \n",
    "                        aggfunc='count').plot(kind='bar', ax = ax [index],\n",
    "                                              title=f'Распределение покупателей по признаку \"{i}\"')"
   ]
  },
  {
   "cell_type": "markdown",
   "id": "63b44e3f",
   "metadata": {},
   "source": [
    "Уволившиеся сотрудники также получали повышение за последний год (last_year_promo) как и оставшиеся работать, а вот доля сотрудников, нарушавших условия трудового договора за последний год, среди уволившихся сотрудников меньше."
   ]
  },
  {
   "cell_type": "code",
   "execution_count": 43,
   "id": "9b066ea7",
   "metadata": {
    "scrolled": true
   },
   "outputs": [
    {
     "data": {
      "image/png": "[encoded data removed]",
      "text/plain": [
       "<Figure size 864x288 with 2 Axes>"
      ]
     },
     "metadata": {
      "needs_background": "light"
     },
     "output_type": "display_data"
    }
   ],
   "source": [
    "# распределение по категориальным признакам\n",
    "fig, ax = plt.subplots(1, len(ord_col), figsize=(12, 4))\n",
    "for index, i in enumerate(ord_col):\n",
    "    train_test2.pivot_table (columns = 'quit', index = i, values = 'salary', \n",
    "                        aggfunc='count').plot(kind='bar', ax = ax [index], \n",
    "                                              title=f'Распределение покупателей по признаку \"{i}\"')"
   ]
  },
  {
   "cell_type": "markdown",
   "id": "91fe0f49",
   "metadata": {},
   "source": [
    "Доли уволившихся в разных департаментах (dept) примерно одинаковы. Сотрудники среднего (middle) и высшего (sinior) звена увольняются гораздо чаще, чем сотрудники с маленьким опытом (junior). Также доля уволившихся сотрудников с высоким и средним уровнем загруженности (workload) на работе выше, чем у слабозагруженных сотрудников.\n"
   ]
  },
  {
   "cell_type": "markdown",
   "id": "b237534b",
   "metadata": {},
   "source": [
    "***Распределение категориальных признаков среди сотрудников в долях***"
   ]
  },
  {
   "cell_type": "code",
   "execution_count": 44,
   "id": "6a7449b7",
   "metadata": {},
   "outputs": [
    {
     "data": {
      "image/png": "[encoded data removed]",
      "text/plain": [
       "<Figure size 1440x288 with 5 Axes>"
      ]
     },
     "metadata": {
      "needs_background": "light"
     },
     "output_type": "display_data"
    }
   ],
   "source": [
    "fig, ax = plt.subplots(1, len(ord_col+ohe_col), figsize=(20, 4))\n",
    "for index, i in enumerate(ord_col+ohe_col):\n",
    "    train_test2.groupby(i)['quit'].value_counts(normalize=True).plot(kind='bar', color=['pink', 'steelblue'], \n",
    "                                                                     ax = ax [index], title=f'Признак \"{i}\", в долях')"
   ]
  },
  {
   "cell_type": "markdown",
   "id": "b4ca5d28",
   "metadata": {},
   "source": [
    "Чаще увольняются сотрудники начального звена (> 40%), с низким уровнем загруженности (> 40%), не получившие повышения по службе за последний год (> 90%) и не нарушавшие трудовой договор за последний год (> 40%). Доля уволившихся сотрудников в разных департаментах примерна равна и составляет от 20 до 30 %."
   ]
  },
  {
   "cell_type": "code",
   "execution_count": 45,
   "id": "3deffdc9",
   "metadata": {
    "scrolled": true
   },
   "outputs": [
    {
     "data": {
      "image/png": "[encoded data removed]",
      "text/plain": [
       "<Figure size 432x288 with 1 Axes>"
      ]
     },
     "metadata": {
      "needs_background": "light"
     },
     "output_type": "display_data"
    },
    {
     "data": {
      "image/png": "[encoded data removed]",
      "text/plain": [
       "<Figure size 432x288 with 1 Axes>"
      ]
     },
     "metadata": {
      "needs_background": "light"
     },
     "output_type": "display_data"
    },
    {
     "data": {
      "image/png": "[encoded data removed]",
      "text/plain": [
       "<Figure size 432x288 with 1 Axes>"
      ]
     },
     "metadata": {
      "needs_background": "light"
     },
     "output_type": "display_data"
    }
   ],
   "source": [
    "# распределение по количественным признакам\n",
    "for i in num_сol:\n",
    "    ax = train_test2[train_test2['quit']=='yes'].plot(kind='hist', y = i, histtype='step', density=True,\n",
    "                                                      linewidth=3, label='Уволен', grid=True, legend=True)\n",
    "    train_test2[train_test2['quit']=='no'].plot(kind='hist', y = i, histtype='step', density=True, ax=ax, \n",
    "                                                color='pink', linewidth=3, label='Работает')\n",
    "    plt.title(f'Распределение сотрудников по признаку \"{i}\"')\n",
    "    plt.xlabel(i)\n",
    "    plt.ylabel('Количество сотрудников (в долях)')\n",
    "    plt.show()"
   ]
  },
  {
   "cell_type": "markdown",
   "id": "42087063",
   "metadata": {},
   "source": [
    "Чаще всего увольняются сотрудники, проработавшие меньше 3 лет в компании (employment_years), а продолжают работать сотрудники, получившие хорошие оценки качества работы (4-5 по 5-бальной шкале) от руководителя (supervisor_evaluation). Высокая доля уволившихся сотрудников с ежемесячной зарплатой ниже 20 000 у.е., и практически нет уволившихся сотрудников с ежемесячной зарплатой выше 80 000 у.е."
   ]
  },
  {
   "cell_type": "markdown",
   "id": "b9cb2f17",
   "metadata": {},
   "source": [
    "Таким образом, увольнение возможно, если:\n",
    "- сотрудник нарушает условия трудового договора за последний год,\n",
    "- является сотрудником среднего или высшего звена с высокой или средней загруженностью на работе,\n",
    "- проработал в компании менее 3-х лет;\n",
    "- получил низкие оценки качества работы (3 и менее) от руководителя;\n",
    "- получает менее 20 000 у.е."
   ]
  },
  {
   "cell_type": "markdown",
   "id": "ed00a85d",
   "metadata": {},
   "source": [
    "Сравним распределение уровня удовлетворённости сотрудников работой в компании (job_satisfaction_rate) для ушедших и оставшихся сотрудников"
   ]
  },
  {
   "cell_type": "code",
   "execution_count": 46,
   "id": "fc037bd5",
   "metadata": {},
   "outputs": [
    {
     "data": {
      "image/png": "[encoded data removed]",
      "text/plain": [
       "<Figure size 432x288 with 1 Axes>"
      ]
     },
     "metadata": {
      "needs_background": "light"
     },
     "output_type": "display_data"
    }
   ],
   "source": [
    "df = test2.merge(test_target, on = 'id', how = 'inner')\n",
    "ax = df[df['quit']=='yes'].plot(kind='hist', y = 'job_satisfaction_rate', histtype='step', density=True,\n",
    "                                                      linewidth=3, label='Уволен', grid=True, legend=True)\n",
    "df[df['quit']=='no'].plot(kind='hist', y = 'job_satisfaction_rate', histtype='step', density=True, ax=ax, \n",
    "                                                color='pink', linewidth=3, label='Работает')\n",
    "plt.title ('Влияние уровня удовлетворенности сотрудника на его увольнение')\n",
    "plt.xlabel('job_satisfaction_rate')\n",
    "plt.ylabel('Количество сотрудников (в долях)')\n",
    "plt.show()"
   ]
  },
  {
   "cell_type": "markdown",
   "id": "9a935bdc",
   "metadata": {},
   "source": [
    "Предположение аналитиков подтвердилось - уровень удовлетворённости сотрудника работой в компании действительно влияет на то, уволится ли он: чем ниже уровень удовлетворенности, тем выше вероятность увольнения."
   ]
  },
  {
   "cell_type": "markdown",
   "id": "49dfcce1",
   "metadata": {},
   "source": [
    "### Подготовка данных и добавление нового признака."
   ]
  },
  {
   "cell_type": "code",
   "execution_count": 47,
   "id": "0e3b99cb",
   "metadata": {},
   "outputs": [
    {
     "name": "stderr",
     "output_type": "stream",
     "text": [
      "/opt/conda/lib/python3.9/site-packages/sklearn/preprocessing/_encoders.py:246: UserWarning: Found unknown categories in columns [2] during transform. These unknown categories will be encoded as all zeros\n",
      "  warnings.warn(\n"
     ]
    }
   ],
   "source": [
    "# добавим признак удовлетворенности сотрудников \"job_satisfaction_rate\", предсказанный лучшей моделью первой задачи:\n",
    "train2 ['job_satisfaction_rate'] = grid_linal.predict(train2)\n",
    "test2 ['job_satisfaction_rate'] = grid_linal.predict(test2)"
   ]
  },
  {
   "cell_type": "code",
   "execution_count": 48,
   "id": "7cfba473",
   "metadata": {},
   "outputs": [],
   "source": [
    "# обновим список числовых признаков с учетом вновь добавленных\n",
    "num_сol = ['employment_years', 'supervisor_evaluation', 'salary', 'job_satisfaction_rate']"
   ]
  },
  {
   "cell_type": "code",
   "execution_count": 49,
   "id": "d7542936",
   "metadata": {},
   "outputs": [],
   "source": [
    "# выделим из тренировочной и тестовой входные признаки и целевой признак:\n",
    "X_train2 = train2.drop(['quit', 'id'], axis = 1)\n",
    "y_train2 = train2['quit']\n",
    "X_test2 = test2.drop(['quit', 'id'], axis = 1)\n",
    "y_test2 = test2['quit']"
   ]
  },
  {
   "cell_type": "code",
   "execution_count": 50,
   "id": "575a1074",
   "metadata": {},
   "outputs": [],
   "source": [
    "# закодируем целевой признак\n",
    "# 0 - Работает\n",
    "# 1 - Уволен\n",
    "label_encoder  = LabelEncoder ()\n",
    "y_train2 = label_encoder.fit_transform(y_train2)\n",
    "y_test2 = label_encoder.transform(y_test2)"
   ]
  },
  {
   "cell_type": "markdown",
   "id": "9ea1eb43",
   "metadata": {},
   "source": [
    "### Обучение моделей."
   ]
  },
  {
   "cell_type": "markdown",
   "id": "f85fc505",
   "metadata": {},
   "source": [
    "Для предсказания увольнения сотрудников обучим четыре модели: KNeighborsClassifier(), DecisionTreeClassifier(), LogisticRegression() и  SVC() и выберем лучшую из них. "
   ]
  },
  {
   "cell_type": "code",
   "execution_count": 51,
   "id": "849aad76",
   "metadata": {},
   "outputs": [],
   "source": [
    "# создаём итоговый пайплайн: подготовка данных и модель\n",
    "pipe_class = Pipeline([\n",
    "    ('preprocessor', data_preprocessor),\n",
    "    ('models', DecisionTreeClassifier(random_state=RANDOM_STATE))\n",
    "])\n",
    "\n",
    "param_grid_class = [\n",
    "    # словарь для модели DecisionTreeClassifier()\n",
    "    {\n",
    "        'models': [DecisionTreeClassifier(random_state=RANDOM_STATE)],\n",
    "        'models__max_depth': range(4, 12),\n",
    "        'models__max_features': range(2, 8),\n",
    "        'preprocessor__num': [StandardScaler(), MinMaxScaler(), RobustScaler(), 'passthrough']  \n",
    "    },\n",
    "    # словарь для модели KNeighborsClassifier() \n",
    "    {\n",
    "        'models': [KNeighborsClassifier()],\n",
    "        'models__n_neighbors': range(2, 8),\n",
    "        'preprocessor__num': [StandardScaler(), MinMaxScaler(), RobustScaler(), 'passthrough']   \n",
    "    },\n",
    "    # словарь для модели LogisticRegression()\n",
    "    {\n",
    "        'models': [LogisticRegression(\n",
    "            random_state=RANDOM_STATE, \n",
    "            solver='liblinear', \n",
    "            penalty='l1'\n",
    "        )],\n",
    "        'models__C': range(1, 8),\n",
    "        'preprocessor__num': [StandardScaler(), MinMaxScaler(), RobustScaler(), 'passthrough']  \n",
    "    },\n",
    "    # словарь для модели SVC()\n",
    "    {\n",
    "        'models': [SVC(random_state=RANDOM_STATE, kernel = 'poly', probability=True)],\n",
    "        'preprocessor__num': [StandardScaler(), MinMaxScaler(), RobustScaler(), 'passthrough']  \n",
    "\n",
    "    }\n",
    "]"
   ]
  },
  {
   "cell_type": "code",
   "execution_count": 52,
   "id": "ed7f50b3",
   "metadata": {
    "scrolled": true
   },
   "outputs": [
    {
     "name": "stdout",
     "output_type": "stream",
     "text": [
      "Лучшая модель и её параметры:\n",
      "\n",
      " Pipeline(steps=[('preprocessor',\n",
      "                 ColumnTransformer(remainder='passthrough',\n",
      "                                   transformers=[('ohe',\n",
      "                                                  Pipeline(steps=[('simpleImputer_ohe',\n",
      "                                                                   SimpleImputer(strategy='most_frequent')),\n",
      "                                                                  ('ohe',\n",
      "                                                                   OneHotEncoder(drop='first',\n",
      "                                                                                 handle_unknown='ignore'))]),\n",
      "                                                  ['last_year_promo',\n",
      "                                                   'last_year_violations',\n",
      "                                                   'dept']),\n",
      "                                                 ('ord',\n",
      "                                                  Pipeline(steps=[('simpleImputer_before_ord',\n",
      "                                                                   SimpleImputer...\n",
      "                                                                   OrdinalEncoder(categories=[['junior',\n",
      "                                                                                               'middle',\n",
      "                                                                                               'sinior'],\n",
      "                                                                                              ['low',\n",
      "                                                                                               'medium',\n",
      "                                                                                               'high']],\n",
      "                                                                                  handle_unknown='use_encoded_value',\n",
      "                                                                                  unknown_value=nan)),\n",
      "                                                                  ('simpleImputer_after_ord',\n",
      "                                                                   SimpleImputer(strategy='most_frequent'))]),\n",
      "                                                  ['level', 'workload']),\n",
      "                                                 ('num', StandardScaler(),\n",
      "                                                  ['employment_years',\n",
      "                                                   'supervisor_evaluation',\n",
      "                                                   'salary'])])),\n",
      "                ('models', KNeighborsClassifier(n_neighbors=7))])\n",
      "Метрика лучшей модели на тренировочной выборке: 0.9225050701980884\n",
      "Площадь ROC-кривой: 0.9103190007704618\n"
     ]
    },
    {
     "name": "stderr",
     "output_type": "stream",
     "text": [
      "/opt/conda/lib/python3.9/site-packages/sklearn/preprocessing/_encoders.py:246: UserWarning: Found unknown categories in columns [2] during transform. These unknown categories will be encoded as all zeros\n",
      "  warnings.warn(\n",
      "/opt/conda/lib/python3.9/site-packages/sklearn/preprocessing/_encoders.py:246: UserWarning: Found unknown categories in columns [2] during transform. These unknown categories will be encoded as all zeros\n",
      "  warnings.warn(\n"
     ]
    }
   ],
   "source": [
    "# определяем лучшую модель и ее параметры:\n",
    "grid_class = GridSearchCV(\n",
    "    pipe_class, \n",
    "    param_grid_class, \n",
    "    cv=5,\n",
    "    scoring= 'roc_auc',\n",
    "    #random_state=RANDOM_STATE,\n",
    "    n_jobs=-1\n",
    ")\n",
    "grid_class.fit(X_train2, y_train2)\n",
    "\n",
    "print('Лучшая модель и её параметры:\\n\\n', grid_class.best_estimator_)\n",
    "print ('Метрика лучшей модели на тренировочной выборке:', grid_class.best_score_)\n",
    "\n",
    "# проверьте работу модели на тестовой выборке\n",
    "# рассчитайте прогноз на тестовых данных\n",
    "y_test_pred = grid_class.predict(X_test2)\n",
    "probabilities = grid_class.predict_proba(X_test2)\n",
    "probabilities_one = probabilities[:, 1]\n",
    "print(f'Площадь ROC-кривой: {roc_auc_score(y_test2, probabilities_one)}');"
   ]
  },
  {
   "cell_type": "code",
   "execution_count": 53,
   "id": "f2fd6922",
   "metadata": {},
   "outputs": [
    {
     "data": {
      "text/html": [
       "<div>\n",
       "<style scoped>\n",
       "    .dataframe tbody tr th:only-of-type {\n",
       "        vertical-align: middle;\n",
       "    }\n",
       "\n",
       "    .dataframe tbody tr th {\n",
       "        vertical-align: top;\n",
       "    }\n",
       "\n",
       "    .dataframe thead th {\n",
       "        text-align: right;\n",
       "    }\n",
       "</style>\n",
       "<table border=\"1\" class=\"dataframe\">\n",
       "  <thead>\n",
       "    <tr style=\"text-align: right;\">\n",
       "      <th></th>\n",
       "      <th>rank_test_score</th>\n",
       "      <th>param_models</th>\n",
       "      <th>mean_test_score</th>\n",
       "      <th>params</th>\n",
       "    </tr>\n",
       "  </thead>\n",
       "  <tbody>\n",
       "    <tr>\n",
       "      <th>212</th>\n",
       "      <td>1</td>\n",
       "      <td>KNeighborsClassifier()</td>\n",
       "      <td>0.922505</td>\n",
       "      <td>{'models': KNeighborsClassifier(), 'models__n_neighbors': 7, 'preprocessor__num': StandardScaler()}</td>\n",
       "    </tr>\n",
       "    <tr>\n",
       "      <th>67</th>\n",
       "      <td>2</td>\n",
       "      <td>DecisionTreeClassifier(random_state=42)</td>\n",
       "      <td>0.921469</td>\n",
       "      <td>{'models': DecisionTreeClassifier(random_state=42), 'models__max_depth': 6, 'models__max_features': 6, 'preprocessor__num': 'passthrough'}</td>\n",
       "    </tr>\n",
       "    <tr>\n",
       "      <th>65</th>\n",
       "      <td>2</td>\n",
       "      <td>DecisionTreeClassifier(random_state=42)</td>\n",
       "      <td>0.921469</td>\n",
       "      <td>{'models': DecisionTreeClassifier(random_state=42), 'models__max_depth': 6, 'models__max_features': 6, 'preprocessor__num': MinMaxScaler()}</td>\n",
       "    </tr>\n",
       "    <tr>\n",
       "      <th>66</th>\n",
       "      <td>4</td>\n",
       "      <td>DecisionTreeClassifier(random_state=42)</td>\n",
       "      <td>0.921449</td>\n",
       "      <td>{'models': DecisionTreeClassifier(random_state=42), 'models__max_depth': 6, 'models__max_features': 6, 'preprocessor__num': RobustScaler()}</td>\n",
       "    </tr>\n",
       "    <tr>\n",
       "      <th>64</th>\n",
       "      <td>4</td>\n",
       "      <td>DecisionTreeClassifier(random_state=42)</td>\n",
       "      <td>0.921449</td>\n",
       "      <td>{'models': DecisionTreeClassifier(random_state=42), 'models__max_depth': 6, 'models__max_features': 6, 'preprocessor__num': StandardScaler()}</td>\n",
       "    </tr>\n",
       "    <tr>\n",
       "      <th>214</th>\n",
       "      <td>6</td>\n",
       "      <td>KNeighborsClassifier()</td>\n",
       "      <td>0.920452</td>\n",
       "      <td>{'models': KNeighborsClassifier(), 'models__n_neighbors': 7, 'preprocessor__num': RobustScaler()}</td>\n",
       "    </tr>\n",
       "    <tr>\n",
       "      <th>244</th>\n",
       "      <td>7</td>\n",
       "      <td>SVC(kernel='poly', probability=True, random_state=42)</td>\n",
       "      <td>0.919886</td>\n",
       "      <td>{'models': SVC(kernel='poly', probability=True, random_state=42), 'preprocessor__num': StandardScaler()}</td>\n",
       "    </tr>\n",
       "    <tr>\n",
       "      <th>208</th>\n",
       "      <td>8</td>\n",
       "      <td>KNeighborsClassifier()</td>\n",
       "      <td>0.919566</td>\n",
       "      <td>{'models': KNeighborsClassifier(), 'models__n_neighbors': 6, 'preprocessor__num': StandardScaler()}</td>\n",
       "    </tr>\n",
       "    <tr>\n",
       "      <th>43</th>\n",
       "      <td>9</td>\n",
       "      <td>DecisionTreeClassifier(random_state=42)</td>\n",
       "      <td>0.918902</td>\n",
       "      <td>{'models': DecisionTreeClassifier(random_state=42), 'models__max_depth': 5, 'models__max_features': 6, 'preprocessor__num': 'passthrough'}</td>\n",
       "    </tr>\n",
       "    <tr>\n",
       "      <th>42</th>\n",
       "      <td>9</td>\n",
       "      <td>DecisionTreeClassifier(random_state=42)</td>\n",
       "      <td>0.918902</td>\n",
       "      <td>{'models': DecisionTreeClassifier(random_state=42), 'models__max_depth': 5, 'models__max_features': 6, 'preprocessor__num': RobustScaler()}</td>\n",
       "    </tr>\n",
       "  </tbody>\n",
       "</table>\n",
       "</div>"
      ],
      "text/plain": [
       "     rank_test_score                                           param_models  \\\n",
       "212                1                                 KNeighborsClassifier()   \n",
       "67                 2                DecisionTreeClassifier(random_state=42)   \n",
       "65                 2                DecisionTreeClassifier(random_state=42)   \n",
       "66                 4                DecisionTreeClassifier(random_state=42)   \n",
       "64                 4                DecisionTreeClassifier(random_state=42)   \n",
       "214                6                                 KNeighborsClassifier()   \n",
       "244                7  SVC(kernel='poly', probability=True, random_state=42)   \n",
       "208                8                                 KNeighborsClassifier()   \n",
       "43                 9                DecisionTreeClassifier(random_state=42)   \n",
       "42                 9                DecisionTreeClassifier(random_state=42)   \n",
       "\n",
       "     mean_test_score  \\\n",
       "212         0.922505   \n",
       "67          0.921469   \n",
       "65          0.921469   \n",
       "66          0.921449   \n",
       "64          0.921449   \n",
       "214         0.920452   \n",
       "244         0.919886   \n",
       "208         0.919566   \n",
       "43          0.918902   \n",
       "42          0.918902   \n",
       "\n",
       "                                                                                                                                            params  \n",
       "212                                            {'models': KNeighborsClassifier(), 'models__n_neighbors': 7, 'preprocessor__num': StandardScaler()}  \n",
       "67      {'models': DecisionTreeClassifier(random_state=42), 'models__max_depth': 6, 'models__max_features': 6, 'preprocessor__num': 'passthrough'}  \n",
       "65     {'models': DecisionTreeClassifier(random_state=42), 'models__max_depth': 6, 'models__max_features': 6, 'preprocessor__num': MinMaxScaler()}  \n",
       "66     {'models': DecisionTreeClassifier(random_state=42), 'models__max_depth': 6, 'models__max_features': 6, 'preprocessor__num': RobustScaler()}  \n",
       "64   {'models': DecisionTreeClassifier(random_state=42), 'models__max_depth': 6, 'models__max_features': 6, 'preprocessor__num': StandardScaler()}  \n",
       "214                                              {'models': KNeighborsClassifier(), 'models__n_neighbors': 7, 'preprocessor__num': RobustScaler()}  \n",
       "244                                       {'models': SVC(kernel='poly', probability=True, random_state=42), 'preprocessor__num': StandardScaler()}  \n",
       "208                                            {'models': KNeighborsClassifier(), 'models__n_neighbors': 6, 'preprocessor__num': StandardScaler()}  \n",
       "43      {'models': DecisionTreeClassifier(random_state=42), 'models__max_depth': 5, 'models__max_features': 6, 'preprocessor__num': 'passthrough'}  \n",
       "42     {'models': DecisionTreeClassifier(random_state=42), 'models__max_depth': 5, 'models__max_features': 6, 'preprocessor__num': RobustScaler()}  "
      ]
     },
     "execution_count": 53,
     "metadata": {},
     "output_type": "execute_result"
    }
   ],
   "source": [
    "# топ-10 лучших моделей:\n",
    "pd.set_option('display.max_colwidth', 300)\n",
    "pd.DataFrame(grid_class.cv_results_)[\n",
    "    ['rank_test_score', 'param_models', 'mean_test_score','params']\n",
    "].sort_values('rank_test_score').head(10)\n"
   ]
  },
  {
   "cell_type": "markdown",
   "id": "0050680b",
   "metadata": {},
   "source": [
    "### Вывод о модели вероятности увольнения сотрудника."
   ]
  },
  {
   "cell_type": "markdown",
   "id": "b53ac145",
   "metadata": {},
   "source": [
    "Лучшие показатели прогнозирования вероятности увольнения сотрудников - у модели 7 ближайших соседей, которая имеет наилучшую метрику качества roc_auc_score на тренировочных данных = 0.9225, на тестовых = 0.9103."
   ]
  },
  {
   "cell_type": "markdown",
   "id": "65b118ed",
   "metadata": {},
   "source": [
    "## Общий вывод."
   ]
  },
  {
   "cell_type": "markdown",
   "id": "a1dbb15a",
   "metadata": {},
   "source": [
    "**Исходные данные**, предоставленные компанией «Работа с заботой» содержат информацию о 6000 сотрудниках, в том числе об отделе, в котором они работают, уровне занимаемой должности, уровне загруженности, длительность работы в компании (в годах), повышениях за последний год, нарушениях трудового договора за последний год, оценках качества работы руководителем, ежемесячной зарплате, а также 2 целевых признака - уровень удовлетворенности сотрудника работой в компании и статус увольнения. Данные досточно высокого качества, присутствует лишь незначительные пропуски в признаках, характеризующих отдел, уровень занимаемой должности и уровень загруженности у 5 сотрудников.\n",
    "\n",
    "**Цель исследования**: для снижения расходов компании на поиск и обучение новых сотрудников в результате уменьшения оттока действующих сотрудников разработать 2 модели машинного обучения:\n",
    "1. Для определения уровня удовлетворённости сотрудников работой в компании.\n",
    "2. Для предсказания увольнения сотрудников.\n",
    "\n",
    "Исследовательский анализ данных всех сотрудников выявил, что:\n",
    "\n",
    "- сотрудники работают в компании от года до 10 лет, в среднем длительность работы в компании (employment_years) составляет 3,7 года;\n",
    "- средняя оценка качества работы сотрудников руководителем (supervisor_evaluation) равна 3,5 по 5-балльной шкале;\n",
    "- средняя зарплата (salary) сотрудников составляет около 34 тыс.руб. (от 12 тыс. руб. до 98 400 тыс. руб.), при этом половина сотрудников получает 30 тыс.руб. и менее, 25 % сотрудников получают 43,2 тыс. руб. и выше;\n",
    "- большая часть сотрудников (38%) работают в отделе продаж, на втором месте (22%) - IT;\n",
    "- больше всего сотрудников на позиции junior (48%), сотрудников среднего звена - 43% и старших сотрудников - 9%;\n",
    "- 52 % сотрудников имеют средний уровень загруженности (workload), 30% - низкую и 18% - высокую;\n",
    "- повышение за последний год (last_year_promo) получили 3 % сотрудников;\n",
    "- 14% сотрудников нарушали трудовой договор за последний год.\n",
    "\n",
    "Анализ взамосвязей данных выявил, что на целевой признак 'Уровень удовлетворённости сотрудника работой в компании':\n",
    "- наибольшее влияние оказывает оценка качества работы сотрудника, которую дал руководитель (supervisor_evaluation), \n",
    "- также заметное влияние оказывают нарушения сотрудниками трудового договора (last_year_violations) и длительность работы в компании (employment_years);\n",
    "- слабое влияние на уровнень удовлетворённости сотрудников имеют размер ежемесячной зарплаты (salary) и повышения за последний год (last_year_promo),\n",
    "- практически не влияют на уровень удовлетворённости сотрудников уровень их загруженности (workload), отдел, в котором они работают, (dept) и уровень занимаемой должности (level). \n",
    "\n",
    "***Модель № 1:***\n",
    "для предсказания уровня удовлетворённости сотрудника работой в компании проведено обучение 2 разных моделей машинного обучения с разными параметрами (LinearRegression() и DecisionTreeRegressor()), в результате которого лучший результат по метрике SMAPE показала модель дерева регрессии с глубиной = 11 и 10 учитываемыми признаками. \n",
    "\n",
    "Анализ сотрудников в зависимости от статуса их трудоустройства показал, что:\n",
    "- около 30 % сотрудников увольняется;\n",
    "- доля сотрудников, нарушавших условия трудового договора за последний год, среди уволившихся сотрудников меньше;\n",
    "- сотрудники среднего (middle) и высшего (sinior) звена увольняются гораздо чаще, чем сотрудники с маленьким опытом (junior);\n",
    "- доля уволившихся сотрудников с высоким и средним уровнем загруженности (workload) на работе выше, чем у слабозагруженных сотрудников;\n",
    "- чаще всего увольняются сотрудники, проработавшие меньше 3 лет в компании (employment_years), а продолжают работать сотрудники, получившие хорошие оценки качества работы (4-5 по 5-бальной шкале) от руководителя (supervisor_evaluation);\n",
    "- высокая доля уволившихся сотрудников с ежемесячной зарплатой ниже 20 000 у.е., и практически нет уволившихся сотрудников с ежемесячной зарплатой выше 80 000 у.е.;\n",
    "- показатель уровеня удовлетворённости сотрудника работой в компании влияет на то, уволится ли он: чем ниже уровень удовлетворенности, тем выше вероятность увольнения. \n",
    "\n",
    "***Модель № 2:***\n",
    "для предсказания вероятности увольнения сотрудника проведено обучение 4 разных моделей машинного обучения с разными параметрами (KNeighborsClassifier(), DecisionTreeClassifier(), LogisticRegression() и SVC()), в результате которого лучший результат по метрике качества roc_auc_score на тренировочных данных показала модель 7 ближайших соседей (0.9225), на тестовых roc_auc_score составила 0.9103.  \n",
    "\n",
    "\n",
    "На основании проведенного ислледования ***рекомендуем***:\n",
    "\n",
    "1. Несмотря на достаточное высокое качество предоставленных данных (отсутствие дубликатов и высокая заполненность данных), усилить контроль за заполнением в целях исключения пропусков и нестандартных значений в данных.\n",
    "2. Использовать обученую модель дерева регрессии для прогнозирования уровня удовлетворённости сотрудников работой в компании для разработки внутрикорпоративного протокола повышения корпоративного духа.\n",
    "3. Использовать обученую модель ближайших соседей для прогнозирования увольнения ценных сотрудников для подготовки персональных предложений и снижения расходов компании в результате их оттока.\n",
    "4. Пересмотреть распределение нагрузки между сотрудниками для ее выравнивания.\n",
    "5. Внедрить систему стимулирующих выплат и/или нематериальных благ за хорошие показатели качества работы, для увеличения заинтересованности сотрудников в их достижении. \n",
    "5. В случае появления новых признаков либо существенных изменений в данных текущих признаков обратиться за обновлением моделей машинного обучения."
   ]
  }
 ],
 "metadata": {
  "ExecuteTimeLog": [
   {
    "duration": 1758,
    "start_time": "2024-05-29T21:08:19.278Z"
   },
   {
    "duration": 8163,
    "start_time": "2024-05-29T21:08:49.306Z"
   },
   {
    "duration": 5008,
    "start_time": "2024-05-29T21:09:07.618Z"
   },
   {
    "duration": 110,
    "start_time": "2024-05-29T21:10:09.741Z"
   },
   {
    "duration": 58,
    "start_time": "2024-05-30T20:04:14.966Z"
   },
   {
    "duration": 9655,
    "start_time": "2024-05-30T20:04:18.261Z"
   },
   {
    "duration": 130,
    "start_time": "2024-05-30T20:04:27.919Z"
   },
   {
    "duration": 80,
    "start_time": "2024-05-30T20:05:37.934Z"
   },
   {
    "duration": 93,
    "start_time": "2024-05-30T20:05:42.602Z"
   },
   {
    "duration": 39,
    "start_time": "2024-05-30T20:05:51.887Z"
   },
   {
    "duration": 119,
    "start_time": "2024-05-30T20:07:30.331Z"
   },
   {
    "duration": 63,
    "start_time": "2024-05-30T20:07:38.555Z"
   },
   {
    "duration": 62,
    "start_time": "2024-05-30T20:07:54.076Z"
   },
   {
    "duration": 171,
    "start_time": "2024-05-30T20:08:58.756Z"
   },
   {
    "duration": 70,
    "start_time": "2024-05-30T20:09:21.844Z"
   },
   {
    "duration": 64,
    "start_time": "2024-05-30T20:09:27.118Z"
   },
   {
    "duration": 89,
    "start_time": "2024-05-30T20:10:08.162Z"
   },
   {
    "duration": 72,
    "start_time": "2024-05-30T20:10:49.325Z"
   },
   {
    "duration": 85,
    "start_time": "2024-05-30T20:11:31.181Z"
   },
   {
    "duration": 72,
    "start_time": "2024-05-30T20:11:45.607Z"
   },
   {
    "duration": 65,
    "start_time": "2024-05-30T20:11:52.147Z"
   },
   {
    "duration": 49,
    "start_time": "2024-05-30T20:12:13.209Z"
   },
   {
    "duration": 11,
    "start_time": "2024-05-30T20:13:46.810Z"
   },
   {
    "duration": 17,
    "start_time": "2024-05-30T20:15:07.889Z"
   },
   {
    "duration": 16,
    "start_time": "2024-05-30T20:16:15.182Z"
   },
   {
    "duration": 12,
    "start_time": "2024-05-30T20:18:00.650Z"
   },
   {
    "duration": 66,
    "start_time": "2024-05-30T20:19:15.960Z"
   },
   {
    "duration": 13,
    "start_time": "2024-05-30T20:19:44.117Z"
   },
   {
    "duration": 10,
    "start_time": "2024-05-30T20:22:42.225Z"
   },
   {
    "duration": 13,
    "start_time": "2024-05-30T20:26:43.400Z"
   },
   {
    "duration": 10,
    "start_time": "2024-05-30T20:27:05.623Z"
   },
   {
    "duration": 10,
    "start_time": "2024-05-30T20:27:26.511Z"
   },
   {
    "duration": 14,
    "start_time": "2024-05-30T20:27:44.641Z"
   },
   {
    "duration": 13,
    "start_time": "2024-05-30T20:28:15.341Z"
   },
   {
    "duration": 4,
    "start_time": "2024-05-30T20:28:40.672Z"
   },
   {
    "duration": 22,
    "start_time": "2024-05-30T20:28:49.939Z"
   },
   {
    "duration": 10,
    "start_time": "2024-05-30T20:29:05.762Z"
   },
   {
    "duration": 10,
    "start_time": "2024-05-30T20:29:09.872Z"
   },
   {
    "duration": 10,
    "start_time": "2024-05-30T20:30:03.883Z"
   },
   {
    "duration": 10,
    "start_time": "2024-05-30T20:31:10.645Z"
   },
   {
    "duration": 11,
    "start_time": "2024-05-30T20:31:21.283Z"
   },
   {
    "duration": 10,
    "start_time": "2024-05-30T20:32:43.246Z"
   },
   {
    "duration": 10,
    "start_time": "2024-05-30T20:34:17.637Z"
   },
   {
    "duration": 8,
    "start_time": "2024-05-30T20:34:44.556Z"
   },
   {
    "duration": 69,
    "start_time": "2024-05-30T20:36:53.198Z"
   },
   {
    "duration": 8,
    "start_time": "2024-05-30T20:37:01.845Z"
   },
   {
    "duration": 10,
    "start_time": "2024-05-30T20:37:36.079Z"
   },
   {
    "duration": 9,
    "start_time": "2024-05-30T20:38:37.248Z"
   },
   {
    "duration": 9,
    "start_time": "2024-05-30T20:38:47.319Z"
   },
   {
    "duration": 8,
    "start_time": "2024-05-30T20:39:16.729Z"
   },
   {
    "duration": 18,
    "start_time": "2024-05-30T20:53:12.429Z"
   },
   {
    "duration": 13,
    "start_time": "2024-05-30T20:53:16.660Z"
   },
   {
    "duration": 15,
    "start_time": "2024-05-30T20:53:29.819Z"
   },
   {
    "duration": 9,
    "start_time": "2024-05-30T20:54:04.280Z"
   },
   {
    "duration": 14,
    "start_time": "2024-05-30T20:54:05.010Z"
   },
   {
    "duration": 10,
    "start_time": "2024-05-30T20:54:10.004Z"
   },
   {
    "duration": 17,
    "start_time": "2024-05-30T20:54:18.405Z"
   },
   {
    "duration": 13,
    "start_time": "2024-05-30T20:54:19.000Z"
   },
   {
    "duration": 10,
    "start_time": "2024-05-30T20:54:20.351Z"
   },
   {
    "duration": 13,
    "start_time": "2024-05-30T20:55:47.106Z"
   },
   {
    "duration": 15,
    "start_time": "2024-05-30T20:56:10.587Z"
   },
   {
    "duration": 20,
    "start_time": "2024-05-30T20:56:40.145Z"
   },
   {
    "duration": 17,
    "start_time": "2024-05-30T20:57:03.627Z"
   },
   {
    "duration": 5065,
    "start_time": "2024-05-30T20:57:25.667Z"
   },
   {
    "duration": 47,
    "start_time": "2024-05-30T20:57:30.735Z"
   },
   {
    "duration": 67,
    "start_time": "2024-05-30T20:57:30.784Z"
   },
   {
    "duration": 126,
    "start_time": "2024-05-30T20:57:30.853Z"
   },
   {
    "duration": 22,
    "start_time": "2024-05-30T20:57:30.982Z"
   },
   {
    "duration": 132,
    "start_time": "2024-05-30T20:57:31.006Z"
   },
   {
    "duration": 71,
    "start_time": "2024-05-30T20:57:31.140Z"
   },
   {
    "duration": 49,
    "start_time": "2024-05-30T20:57:31.213Z"
   },
   {
    "duration": 48,
    "start_time": "2024-05-30T20:58:30.897Z"
   },
   {
    "duration": 24,
    "start_time": "2024-05-30T21:00:29.087Z"
   },
   {
    "duration": 5667,
    "start_time": "2024-05-30T21:00:33.858Z"
   },
   {
    "duration": 47,
    "start_time": "2024-05-30T21:00:39.527Z"
   },
   {
    "duration": 14,
    "start_time": "2024-05-30T21:00:39.575Z"
   },
   {
    "duration": 61,
    "start_time": "2024-05-30T21:00:39.591Z"
   },
   {
    "duration": 12,
    "start_time": "2024-05-30T21:00:39.654Z"
   },
   {
    "duration": 33,
    "start_time": "2024-05-30T21:00:39.668Z"
   },
   {
    "duration": 0,
    "start_time": "2024-05-30T21:00:39.702Z"
   },
   {
    "duration": 0,
    "start_time": "2024-05-30T21:00:39.703Z"
   },
   {
    "duration": 22,
    "start_time": "2024-05-30T21:00:50.786Z"
   },
   {
    "duration": 34,
    "start_time": "2024-05-30T21:00:59.534Z"
   },
   {
    "duration": 31,
    "start_time": "2024-05-30T21:03:38.035Z"
   },
   {
    "duration": 4,
    "start_time": "2024-05-30T21:03:47.636Z"
   },
   {
    "duration": 35,
    "start_time": "2024-05-30T21:03:50.376Z"
   },
   {
    "duration": 33,
    "start_time": "2024-05-30T21:04:40.562Z"
   },
   {
    "duration": 8098,
    "start_time": "2024-05-30T21:06:01.463Z"
   },
   {
    "duration": 51,
    "start_time": "2024-05-30T21:06:09.564Z"
   },
   {
    "duration": 14,
    "start_time": "2024-05-30T21:06:09.617Z"
   },
   {
    "duration": 61,
    "start_time": "2024-05-30T21:06:09.633Z"
   },
   {
    "duration": 12,
    "start_time": "2024-05-30T21:06:09.695Z"
   },
   {
    "duration": 40,
    "start_time": "2024-05-30T21:06:09.708Z"
   },
   {
    "duration": 0,
    "start_time": "2024-05-30T21:06:09.750Z"
   },
   {
    "duration": 0,
    "start_time": "2024-05-30T21:06:09.751Z"
   },
   {
    "duration": 18,
    "start_time": "2024-05-30T21:06:47.686Z"
   },
   {
    "duration": 8047,
    "start_time": "2024-05-30T21:07:03.828Z"
   },
   {
    "duration": 45,
    "start_time": "2024-05-30T21:07:11.878Z"
   },
   {
    "duration": 16,
    "start_time": "2024-05-30T21:07:11.925Z"
   },
   {
    "duration": 68,
    "start_time": "2024-05-30T21:07:11.942Z"
   },
   {
    "duration": 13,
    "start_time": "2024-05-30T21:07:12.013Z"
   },
   {
    "duration": 32,
    "start_time": "2024-05-30T21:07:12.027Z"
   },
   {
    "duration": 0,
    "start_time": "2024-05-30T21:07:12.060Z"
   },
   {
    "duration": 0,
    "start_time": "2024-05-30T21:07:12.062Z"
   },
   {
    "duration": 69,
    "start_time": "2024-05-31T20:59:59.819Z"
   },
   {
    "duration": 26251,
    "start_time": "2024-05-31T21:00:04.540Z"
   },
   {
    "duration": 229,
    "start_time": "2024-05-31T21:00:30.793Z"
   },
   {
    "duration": 17,
    "start_time": "2024-05-31T21:00:31.024Z"
   },
   {
    "duration": 253,
    "start_time": "2024-05-31T21:00:31.043Z"
   },
   {
    "duration": 14,
    "start_time": "2024-05-31T21:00:31.299Z"
   },
   {
    "duration": 167,
    "start_time": "2024-05-31T21:00:31.315Z"
   },
   {
    "duration": 0,
    "start_time": "2024-05-31T21:00:31.485Z"
   },
   {
    "duration": 1,
    "start_time": "2024-05-31T21:00:31.486Z"
   },
   {
    "duration": 45,
    "start_time": "2024-05-31T21:06:41.765Z"
   },
   {
    "duration": 14,
    "start_time": "2024-05-31T21:07:02.635Z"
   },
   {
    "duration": 16,
    "start_time": "2024-05-31T21:07:21.264Z"
   },
   {
    "duration": 19,
    "start_time": "2024-05-31T21:07:31.337Z"
   },
   {
    "duration": 16,
    "start_time": "2024-05-31T21:07:48.643Z"
   },
   {
    "duration": 25,
    "start_time": "2024-05-31T21:08:29.971Z"
   },
   {
    "duration": 14,
    "start_time": "2024-05-31T21:09:15.675Z"
   },
   {
    "duration": 18,
    "start_time": "2024-05-31T21:10:03.210Z"
   },
   {
    "duration": 12,
    "start_time": "2024-05-31T21:10:21.995Z"
   },
   {
    "duration": 20,
    "start_time": "2024-05-31T21:11:57.821Z"
   },
   {
    "duration": 31,
    "start_time": "2024-05-31T21:12:06.166Z"
   },
   {
    "duration": 9899,
    "start_time": "2024-05-31T21:12:17.219Z"
   },
   {
    "duration": 65,
    "start_time": "2024-05-31T21:12:27.120Z"
   },
   {
    "duration": 14,
    "start_time": "2024-05-31T21:12:27.187Z"
   },
   {
    "duration": 56,
    "start_time": "2024-05-31T21:12:27.202Z"
   },
   {
    "duration": 17,
    "start_time": "2024-05-31T21:12:27.261Z"
   },
   {
    "duration": 19,
    "start_time": "2024-05-31T21:12:27.280Z"
   },
   {
    "duration": 12,
    "start_time": "2024-05-31T21:12:27.301Z"
   },
   {
    "duration": 9,
    "start_time": "2024-05-31T21:12:27.315Z"
   },
   {
    "duration": 36,
    "start_time": "2024-05-31T21:13:39.264Z"
   },
   {
    "duration": 38,
    "start_time": "2024-05-31T21:14:35.891Z"
   },
   {
    "duration": 452,
    "start_time": "2024-05-31T21:15:07.811Z"
   },
   {
    "duration": 24,
    "start_time": "2024-05-31T21:15:21.597Z"
   },
   {
    "duration": 940,
    "start_time": "2024-05-31T21:16:38.644Z"
   },
   {
    "duration": 4,
    "start_time": "2024-05-31T21:16:51.284Z"
   },
   {
    "duration": 4,
    "start_time": "2024-05-31T21:17:04.044Z"
   },
   {
    "duration": 16,
    "start_time": "2024-05-31T21:18:50.396Z"
   },
   {
    "duration": 24,
    "start_time": "2024-05-31T21:20:04.492Z"
   },
   {
    "duration": 15,
    "start_time": "2024-05-31T21:20:20.301Z"
   },
   {
    "duration": 31,
    "start_time": "2024-05-31T21:20:32.735Z"
   },
   {
    "duration": 23,
    "start_time": "2024-05-31T21:20:41.765Z"
   },
   {
    "duration": 15,
    "start_time": "2024-05-31T21:21:01.171Z"
   },
   {
    "duration": 8957,
    "start_time": "2024-05-31T21:21:17.736Z"
   },
   {
    "duration": 57,
    "start_time": "2024-05-31T21:21:26.696Z"
   },
   {
    "duration": 25,
    "start_time": "2024-05-31T21:21:26.757Z"
   },
   {
    "duration": 55,
    "start_time": "2024-05-31T21:21:26.783Z"
   },
   {
    "duration": 12,
    "start_time": "2024-05-31T21:21:26.839Z"
   },
   {
    "duration": 37,
    "start_time": "2024-05-31T21:21:26.852Z"
   },
   {
    "duration": 15,
    "start_time": "2024-05-31T21:21:26.890Z"
   },
   {
    "duration": 12,
    "start_time": "2024-05-31T21:21:26.906Z"
   },
   {
    "duration": 8,
    "start_time": "2024-05-31T21:21:26.920Z"
   },
   {
    "duration": 255,
    "start_time": "2024-05-31T21:25:51.953Z"
   },
   {
    "duration": 8443,
    "start_time": "2024-05-31T21:26:12.781Z"
   },
   {
    "duration": 46,
    "start_time": "2024-05-31T21:26:21.226Z"
   },
   {
    "duration": 14,
    "start_time": "2024-05-31T21:26:21.273Z"
   },
   {
    "duration": 63,
    "start_time": "2024-05-31T21:26:21.289Z"
   },
   {
    "duration": 12,
    "start_time": "2024-05-31T21:26:21.355Z"
   },
   {
    "duration": 26,
    "start_time": "2024-05-31T21:26:21.369Z"
   },
   {
    "duration": 15,
    "start_time": "2024-05-31T21:26:21.397Z"
   },
   {
    "duration": 13,
    "start_time": "2024-05-31T21:26:21.413Z"
   },
   {
    "duration": 40,
    "start_time": "2024-05-31T21:26:21.427Z"
   },
   {
    "duration": 259,
    "start_time": "2024-05-31T21:26:21.469Z"
   },
   {
    "duration": 9,
    "start_time": "2024-05-31T21:31:31.693Z"
   },
   {
    "duration": 9,
    "start_time": "2024-05-31T21:31:43.922Z"
   },
   {
    "duration": 11,
    "start_time": "2024-05-31T21:31:52.892Z"
   },
   {
    "duration": 11,
    "start_time": "2024-05-31T21:34:03.463Z"
   },
   {
    "duration": 12,
    "start_time": "2024-05-31T21:34:12.323Z"
   },
   {
    "duration": 507,
    "start_time": "2024-05-31T21:52:29.676Z"
   },
   {
    "duration": 498,
    "start_time": "2024-05-31T21:53:53.974Z"
   },
   {
    "duration": 82638,
    "start_time": "2024-05-31T21:55:01.013Z"
   },
   {
    "duration": 0,
    "start_time": "2024-05-31T22:00:53.985Z"
   },
   {
    "duration": 45,
    "start_time": "2024-06-01T10:40:06.283Z"
   },
   {
    "duration": 15276,
    "start_time": "2024-06-01T10:40:09.868Z"
   },
   {
    "duration": 147,
    "start_time": "2024-06-01T10:40:25.146Z"
   },
   {
    "duration": 16,
    "start_time": "2024-06-01T10:40:25.295Z"
   },
   {
    "duration": 147,
    "start_time": "2024-06-01T10:40:25.313Z"
   },
   {
    "duration": 12,
    "start_time": "2024-06-01T10:40:25.462Z"
   },
   {
    "duration": 27,
    "start_time": "2024-06-01T10:40:25.475Z"
   },
   {
    "duration": 15,
    "start_time": "2024-06-01T10:40:25.503Z"
   },
   {
    "duration": 13,
    "start_time": "2024-06-01T10:40:25.519Z"
   },
   {
    "duration": 10,
    "start_time": "2024-06-01T10:40:25.533Z"
   },
   {
    "duration": 70330,
    "start_time": "2024-06-01T10:40:25.545Z"
   },
   {
    "duration": 128,
    "start_time": "2024-06-01T10:41:35.876Z"
   },
   {
    "duration": 43,
    "start_time": "2024-06-01T10:48:39.811Z"
   },
   {
    "duration": 50,
    "start_time": "2024-06-01T10:49:06.049Z"
   },
   {
    "duration": 49,
    "start_time": "2024-06-01T10:51:12.435Z"
   },
   {
    "duration": 57,
    "start_time": "2024-06-01T10:52:09.509Z"
   },
   {
    "duration": 72636,
    "start_time": "2024-06-01T10:52:46.203Z"
   },
   {
    "duration": 10,
    "start_time": "2024-06-01T10:57:49.878Z"
   },
   {
    "duration": 15,
    "start_time": "2024-06-01T10:58:13.368Z"
   },
   {
    "duration": 15,
    "start_time": "2024-06-01T10:58:40.822Z"
   },
   {
    "duration": 7409,
    "start_time": "2024-06-01T10:58:59.380Z"
   },
   {
    "duration": 45,
    "start_time": "2024-06-01T10:59:06.791Z"
   },
   {
    "duration": 13,
    "start_time": "2024-06-01T10:59:06.837Z"
   },
   {
    "duration": 54,
    "start_time": "2024-06-01T10:59:06.851Z"
   },
   {
    "duration": 12,
    "start_time": "2024-06-01T10:59:06.906Z"
   },
   {
    "duration": 24,
    "start_time": "2024-06-01T10:59:06.919Z"
   },
   {
    "duration": 13,
    "start_time": "2024-06-01T10:59:06.944Z"
   },
   {
    "duration": 11,
    "start_time": "2024-06-01T10:59:06.958Z"
   },
   {
    "duration": 31,
    "start_time": "2024-06-01T10:59:06.971Z"
   },
   {
    "duration": 13,
    "start_time": "2024-06-01T10:59:07.003Z"
   },
   {
    "duration": 15,
    "start_time": "2024-06-01T10:59:07.018Z"
   },
   {
    "duration": 12,
    "start_time": "2024-06-01T11:01:22.176Z"
   },
   {
    "duration": 8,
    "start_time": "2024-06-01T11:01:38.527Z"
   },
   {
    "duration": 434,
    "start_time": "2024-06-01T11:02:05.601Z"
   },
   {
    "duration": 403,
    "start_time": "2024-06-01T11:02:26.266Z"
   },
   {
    "duration": 394,
    "start_time": "2024-06-01T11:02:33.592Z"
   },
   {
    "duration": 421,
    "start_time": "2024-06-01T11:03:33.837Z"
   },
   {
    "duration": 417,
    "start_time": "2024-06-01T11:13:00.035Z"
   },
   {
    "duration": 1360,
    "start_time": "2024-06-01T11:13:05.480Z"
   },
   {
    "duration": 171,
    "start_time": "2024-06-01T11:13:59.710Z"
   },
   {
    "duration": 22,
    "start_time": "2024-06-01T11:22:07.249Z"
   },
   {
    "duration": 20,
    "start_time": "2024-06-01T11:23:33.340Z"
   },
   {
    "duration": 22,
    "start_time": "2024-06-01T11:24:42.806Z"
   },
   {
    "duration": 21,
    "start_time": "2024-06-01T11:25:04.688Z"
   },
   {
    "duration": 474,
    "start_time": "2024-06-01T11:25:26.130Z"
   },
   {
    "duration": 455,
    "start_time": "2024-06-01T11:26:00.625Z"
   },
   {
    "duration": 454,
    "start_time": "2024-06-01T11:26:40.991Z"
   },
   {
    "duration": 12,
    "start_time": "2024-06-01T11:26:55.731Z"
   },
   {
    "duration": 570,
    "start_time": "2024-06-01T11:27:07.661Z"
   },
   {
    "duration": 471,
    "start_time": "2024-06-01T11:27:27.369Z"
   },
   {
    "duration": 456,
    "start_time": "2024-06-01T11:28:43.689Z"
   },
   {
    "duration": 447,
    "start_time": "2024-06-01T11:29:27.729Z"
   },
   {
    "duration": 453,
    "start_time": "2024-06-01T11:32:43.366Z"
   },
   {
    "duration": 594,
    "start_time": "2024-06-01T11:33:23.658Z"
   },
   {
    "duration": 480,
    "start_time": "2024-06-01T11:34:05.522Z"
   },
   {
    "duration": 7236,
    "start_time": "2024-06-01T11:34:21.955Z"
   },
   {
    "duration": 45,
    "start_time": "2024-06-01T11:34:29.193Z"
   },
   {
    "duration": 12,
    "start_time": "2024-06-01T11:34:29.239Z"
   },
   {
    "duration": 55,
    "start_time": "2024-06-01T11:34:29.253Z"
   },
   {
    "duration": 12,
    "start_time": "2024-06-01T11:34:29.310Z"
   },
   {
    "duration": 25,
    "start_time": "2024-06-01T11:34:29.324Z"
   },
   {
    "duration": 14,
    "start_time": "2024-06-01T11:34:29.351Z"
   },
   {
    "duration": 37,
    "start_time": "2024-06-01T11:34:29.367Z"
   },
   {
    "duration": 8,
    "start_time": "2024-06-01T11:34:29.406Z"
   },
   {
    "duration": 485,
    "start_time": "2024-06-01T11:34:29.416Z"
   },
   {
    "duration": 0,
    "start_time": "2024-06-01T11:34:29.903Z"
   },
   {
    "duration": 565,
    "start_time": "2024-06-01T11:38:18.894Z"
   },
   {
    "duration": 571,
    "start_time": "2024-06-01T11:38:26.614Z"
   },
   {
    "duration": 21,
    "start_time": "2024-06-01T11:39:02.438Z"
   },
   {
    "duration": 782,
    "start_time": "2024-06-01T11:39:25.807Z"
   },
   {
    "duration": 628,
    "start_time": "2024-06-01T11:40:07.335Z"
   },
   {
    "duration": 598,
    "start_time": "2024-06-01T11:40:13.601Z"
   },
   {
    "duration": 807,
    "start_time": "2024-06-01T11:44:20.522Z"
   },
   {
    "duration": 16,
    "start_time": "2024-06-01T11:48:27.430Z"
   },
   {
    "duration": 407,
    "start_time": "2024-06-01T11:48:48.689Z"
   },
   {
    "duration": 417,
    "start_time": "2024-06-01T11:48:58.760Z"
   },
   {
    "duration": 393,
    "start_time": "2024-06-01T11:49:41.971Z"
   },
   {
    "duration": 422,
    "start_time": "2024-06-01T11:50:05.731Z"
   },
   {
    "duration": 390,
    "start_time": "2024-06-01T11:50:24.567Z"
   },
   {
    "duration": 521,
    "start_time": "2024-06-01T11:50:29.421Z"
   },
   {
    "duration": 425,
    "start_time": "2024-06-01T11:50:35.670Z"
   },
   {
    "duration": 426,
    "start_time": "2024-06-01T11:51:09.600Z"
   },
   {
    "duration": 394,
    "start_time": "2024-06-01T11:51:17.511Z"
   },
   {
    "duration": 396,
    "start_time": "2024-06-01T11:51:29.019Z"
   },
   {
    "duration": 600,
    "start_time": "2024-06-01T11:52:41.976Z"
   },
   {
    "duration": 431,
    "start_time": "2024-06-01T11:53:24.216Z"
   },
   {
    "duration": 413,
    "start_time": "2024-06-01T11:53:33.077Z"
   },
   {
    "duration": 399,
    "start_time": "2024-06-01T11:54:43.007Z"
   },
   {
    "duration": 378,
    "start_time": "2024-06-01T11:54:55.267Z"
   },
   {
    "duration": 11,
    "start_time": "2024-06-01T12:14:48.082Z"
   },
   {
    "duration": 5,
    "start_time": "2024-06-01T12:15:07.298Z"
   },
   {
    "duration": 22,
    "start_time": "2024-06-01T12:18:30.693Z"
   },
   {
    "duration": 21,
    "start_time": "2024-06-01T12:19:29.641Z"
   },
   {
    "duration": 40,
    "start_time": "2024-06-01T12:19:45.751Z"
   },
   {
    "duration": 13,
    "start_time": "2024-06-01T12:19:45.793Z"
   },
   {
    "duration": 61,
    "start_time": "2024-06-01T12:19:45.809Z"
   },
   {
    "duration": 12,
    "start_time": "2024-06-01T12:19:45.871Z"
   },
   {
    "duration": 36,
    "start_time": "2024-06-01T12:19:45.885Z"
   },
   {
    "duration": 0,
    "start_time": "2024-06-01T12:19:45.923Z"
   },
   {
    "duration": 0,
    "start_time": "2024-06-01T12:19:45.924Z"
   },
   {
    "duration": 0,
    "start_time": "2024-06-01T12:19:45.925Z"
   },
   {
    "duration": 0,
    "start_time": "2024-06-01T12:19:45.926Z"
   },
   {
    "duration": 0,
    "start_time": "2024-06-01T12:19:45.928Z"
   },
   {
    "duration": 25,
    "start_time": "2024-06-01T12:20:40.598Z"
   },
   {
    "duration": 24,
    "start_time": "2024-06-01T12:21:35.066Z"
   },
   {
    "duration": 20,
    "start_time": "2024-06-01T12:21:42.977Z"
   },
   {
    "duration": 13,
    "start_time": "2024-06-01T12:30:08.716Z"
   },
   {
    "duration": 53,
    "start_time": "2024-06-01T12:31:59.659Z"
   },
   {
    "duration": 12,
    "start_time": "2024-06-01T12:32:49.018Z"
   },
   {
    "duration": 42,
    "start_time": "2024-06-01T12:33:55.981Z"
   },
   {
    "duration": 20,
    "start_time": "2024-06-01T12:44:03.985Z"
   },
   {
    "duration": 10,
    "start_time": "2024-06-01T12:44:25.167Z"
   },
   {
    "duration": 20,
    "start_time": "2024-06-01T12:44:32.758Z"
   },
   {
    "duration": 19,
    "start_time": "2024-06-01T12:44:57.309Z"
   },
   {
    "duration": 2,
    "start_time": "2024-06-01T12:45:03.592Z"
   },
   {
    "duration": 21,
    "start_time": "2024-06-01T12:45:05.967Z"
   },
   {
    "duration": 15,
    "start_time": "2024-06-01T12:46:12.967Z"
   },
   {
    "duration": 19,
    "start_time": "2024-06-01T12:47:22.216Z"
   },
   {
    "duration": 64,
    "start_time": "2024-06-01T12:47:40.165Z"
   },
   {
    "duration": 11,
    "start_time": "2024-06-01T12:47:40.231Z"
   },
   {
    "duration": 3,
    "start_time": "2024-06-01T12:47:40.244Z"
   },
   {
    "duration": 19,
    "start_time": "2024-06-01T12:47:40.249Z"
   },
   {
    "duration": 18,
    "start_time": "2024-06-01T12:47:40.269Z"
   },
   {
    "duration": 18,
    "start_time": "2024-06-01T12:47:40.289Z"
   },
   {
    "duration": 8,
    "start_time": "2024-06-01T12:47:40.309Z"
   },
   {
    "duration": 416,
    "start_time": "2024-06-01T12:47:40.319Z"
   },
   {
    "duration": 6,
    "start_time": "2024-06-01T12:47:40.737Z"
   },
   {
    "duration": 10,
    "start_time": "2024-06-01T12:53:09.969Z"
   },
   {
    "duration": 8,
    "start_time": "2024-06-01T12:53:24.250Z"
   },
   {
    "duration": 23,
    "start_time": "2024-06-01T12:53:30.409Z"
   },
   {
    "duration": 28,
    "start_time": "2024-06-01T12:53:30.434Z"
   },
   {
    "duration": 34,
    "start_time": "2024-06-01T12:53:30.464Z"
   },
   {
    "duration": 563,
    "start_time": "2024-06-01T12:53:30.500Z"
   },
   {
    "duration": 6,
    "start_time": "2024-06-01T12:53:31.064Z"
   },
   {
    "duration": 14,
    "start_time": "2024-06-01T13:03:34.265Z"
   },
   {
    "duration": 61,
    "start_time": "2024-06-01T13:03:50.070Z"
   },
   {
    "duration": 47,
    "start_time": "2024-06-01T13:03:59.545Z"
   },
   {
    "duration": 17,
    "start_time": "2024-06-01T13:04:47.165Z"
   },
   {
    "duration": 40,
    "start_time": "2024-06-01T13:05:01.875Z"
   },
   {
    "duration": 41,
    "start_time": "2024-06-01T13:05:05.323Z"
   },
   {
    "duration": 15,
    "start_time": "2024-06-01T13:05:09.295Z"
   },
   {
    "duration": 10,
    "start_time": "2024-06-01T13:05:44.862Z"
   },
   {
    "duration": 17,
    "start_time": "2024-06-01T13:06:35.538Z"
   },
   {
    "duration": 8,
    "start_time": "2024-06-01T13:07:45.714Z"
   },
   {
    "duration": 10,
    "start_time": "2024-06-01T13:08:43.404Z"
   },
   {
    "duration": 17,
    "start_time": "2024-06-01T13:08:45.643Z"
   },
   {
    "duration": 10,
    "start_time": "2024-06-01T13:09:28.403Z"
   },
   {
    "duration": 10,
    "start_time": "2024-06-01T13:10:00.395Z"
   },
   {
    "duration": 11,
    "start_time": "2024-06-01T13:10:01.114Z"
   },
   {
    "duration": 8,
    "start_time": "2024-06-01T13:10:11.061Z"
   },
   {
    "duration": 11,
    "start_time": "2024-06-01T13:10:11.070Z"
   },
   {
    "duration": 11,
    "start_time": "2024-06-01T13:10:11.082Z"
   },
   {
    "duration": 382,
    "start_time": "2024-06-01T13:10:11.094Z"
   },
   {
    "duration": 6,
    "start_time": "2024-06-01T13:10:11.477Z"
   },
   {
    "duration": 5,
    "start_time": "2024-06-01T13:15:04.644Z"
   },
   {
    "duration": 11,
    "start_time": "2024-06-01T13:17:15.866Z"
   },
   {
    "duration": 485,
    "start_time": "2024-06-01T13:17:29.837Z"
   },
   {
    "duration": 436,
    "start_time": "2024-06-01T13:17:44.263Z"
   },
   {
    "duration": 452,
    "start_time": "2024-06-01T13:17:56.455Z"
   },
   {
    "duration": 553,
    "start_time": "2024-06-01T13:18:02.575Z"
   },
   {
    "duration": 19,
    "start_time": "2024-06-01T13:18:46.126Z"
   },
   {
    "duration": 20,
    "start_time": "2024-06-01T13:24:04.915Z"
   },
   {
    "duration": 1464,
    "start_time": "2024-06-01T13:35:40.694Z"
   },
   {
    "duration": 1237,
    "start_time": "2024-06-01T13:35:53.453Z"
   },
   {
    "duration": 1222,
    "start_time": "2024-06-01T13:36:07.822Z"
   },
   {
    "duration": 1219,
    "start_time": "2024-06-01T13:36:22.893Z"
   },
   {
    "duration": 47,
    "start_time": "2024-06-01T13:36:41.717Z"
   },
   {
    "duration": 300,
    "start_time": "2024-06-01T13:36:44.943Z"
   },
   {
    "duration": 1209,
    "start_time": "2024-06-01T13:36:51.006Z"
   },
   {
    "duration": 1330,
    "start_time": "2024-06-01T13:37:12.321Z"
   },
   {
    "duration": 44,
    "start_time": "2024-06-01T13:37:35.602Z"
   },
   {
    "duration": 293,
    "start_time": "2024-06-01T13:37:39.935Z"
   },
   {
    "duration": 1246,
    "start_time": "2024-06-01T13:37:46.703Z"
   },
   {
    "duration": 1262,
    "start_time": "2024-06-01T13:41:33.023Z"
   },
   {
    "duration": 1067,
    "start_time": "2024-06-01T13:47:43.829Z"
   },
   {
    "duration": 1068,
    "start_time": "2024-06-01T13:48:02.523Z"
   },
   {
    "duration": 1037,
    "start_time": "2024-06-01T13:48:09.254Z"
   },
   {
    "duration": 1015,
    "start_time": "2024-06-01T13:48:18.792Z"
   },
   {
    "duration": 1088,
    "start_time": "2024-06-01T13:48:33.865Z"
   },
   {
    "duration": 16589,
    "start_time": "2024-06-03T05:10:05.430Z"
   },
   {
    "duration": 144,
    "start_time": "2024-06-03T05:10:22.023Z"
   },
   {
    "duration": 20,
    "start_time": "2024-06-03T05:10:22.169Z"
   },
   {
    "duration": 156,
    "start_time": "2024-06-03T05:10:22.191Z"
   },
   {
    "duration": 13,
    "start_time": "2024-06-03T05:10:22.349Z"
   },
   {
    "duration": 31,
    "start_time": "2024-06-03T05:10:22.363Z"
   },
   {
    "duration": 31,
    "start_time": "2024-06-03T05:10:22.395Z"
   },
   {
    "duration": 11,
    "start_time": "2024-06-03T05:10:22.427Z"
   },
   {
    "duration": 17,
    "start_time": "2024-06-03T05:10:22.440Z"
   },
   {
    "duration": 30,
    "start_time": "2024-06-03T05:10:22.459Z"
   },
   {
    "duration": 23,
    "start_time": "2024-06-03T05:10:22.490Z"
   },
   {
    "duration": 176,
    "start_time": "2024-06-03T05:10:22.516Z"
   },
   {
    "duration": 0,
    "start_time": "2024-06-03T05:10:22.695Z"
   },
   {
    "duration": 0,
    "start_time": "2024-06-03T05:10:22.696Z"
   },
   {
    "duration": 0,
    "start_time": "2024-06-03T05:10:22.698Z"
   },
   {
    "duration": 0,
    "start_time": "2024-06-03T05:10:22.699Z"
   },
   {
    "duration": 21,
    "start_time": "2024-06-03T05:12:48.835Z"
   },
   {
    "duration": 21,
    "start_time": "2024-06-03T05:13:18.809Z"
   },
   {
    "duration": 20,
    "start_time": "2024-06-03T05:13:44.652Z"
   },
   {
    "duration": 20,
    "start_time": "2024-06-03T05:13:52.592Z"
   },
   {
    "duration": 27,
    "start_time": "2024-06-03T05:14:20.434Z"
   },
   {
    "duration": 21,
    "start_time": "2024-06-03T05:15:20.309Z"
   },
   {
    "duration": 20,
    "start_time": "2024-06-03T05:15:27.664Z"
   },
   {
    "duration": 19,
    "start_time": "2024-06-03T05:15:47.134Z"
   },
   {
    "duration": 20,
    "start_time": "2024-06-03T05:15:51.436Z"
   },
   {
    "duration": 639,
    "start_time": "2024-06-03T05:19:32.797Z"
   },
   {
    "duration": 534,
    "start_time": "2024-06-03T05:20:00.398Z"
   },
   {
    "duration": 15,
    "start_time": "2024-06-03T05:20:00.935Z"
   },
   {
    "duration": 0,
    "start_time": "2024-06-03T05:20:00.952Z"
   },
   {
    "duration": 0,
    "start_time": "2024-06-03T05:20:00.954Z"
   },
   {
    "duration": 0,
    "start_time": "2024-06-03T05:20:00.955Z"
   },
   {
    "duration": 457,
    "start_time": "2024-06-03T05:20:18.908Z"
   },
   {
    "duration": 13,
    "start_time": "2024-06-03T05:20:19.488Z"
   },
   {
    "duration": 0,
    "start_time": "2024-06-03T05:20:19.502Z"
   },
   {
    "duration": 0,
    "start_time": "2024-06-03T05:20:19.503Z"
   },
   {
    "duration": 1370,
    "start_time": "2024-06-03T05:20:20.378Z"
   },
   {
    "duration": 6,
    "start_time": "2024-06-03T05:20:42.417Z"
   },
   {
    "duration": 6,
    "start_time": "2024-06-03T05:20:51.161Z"
   },
   {
    "duration": 553,
    "start_time": "2024-06-03T05:20:51.169Z"
   },
   {
    "duration": 24,
    "start_time": "2024-06-03T05:20:51.723Z"
   },
   {
    "duration": 1425,
    "start_time": "2024-06-03T05:20:51.749Z"
   },
   {
    "duration": 2,
    "start_time": "2024-06-03T05:22:27.705Z"
   },
   {
    "duration": 5,
    "start_time": "2024-06-03T05:26:16.300Z"
   },
   {
    "duration": 5,
    "start_time": "2024-06-03T05:50:00.511Z"
   },
   {
    "duration": 5,
    "start_time": "2024-06-03T05:52:21.397Z"
   },
   {
    "duration": 4,
    "start_time": "2024-06-03T05:52:48.241Z"
   },
   {
    "duration": 5,
    "start_time": "2024-06-03T05:53:36.024Z"
   },
   {
    "duration": 4,
    "start_time": "2024-06-03T05:53:48.227Z"
   },
   {
    "duration": 3,
    "start_time": "2024-06-03T05:54:46.818Z"
   },
   {
    "duration": 5,
    "start_time": "2024-06-03T05:55:09.653Z"
   },
   {
    "duration": 5,
    "start_time": "2024-06-03T05:56:06.754Z"
   },
   {
    "duration": 4,
    "start_time": "2024-06-03T05:56:15.088Z"
   },
   {
    "duration": 16,
    "start_time": "2024-06-03T05:56:53.120Z"
   },
   {
    "duration": 4,
    "start_time": "2024-06-03T05:57:27.849Z"
   },
   {
    "duration": 3,
    "start_time": "2024-06-03T05:58:10.072Z"
   },
   {
    "duration": 14,
    "start_time": "2024-06-03T06:02:50.438Z"
   },
   {
    "duration": 8434,
    "start_time": "2024-06-03T06:03:12.384Z"
   },
   {
    "duration": 46,
    "start_time": "2024-06-03T06:03:20.821Z"
   },
   {
    "duration": 15,
    "start_time": "2024-06-03T06:03:20.869Z"
   },
   {
    "duration": 89,
    "start_time": "2024-06-03T06:03:20.886Z"
   },
   {
    "duration": 13,
    "start_time": "2024-06-03T06:03:20.976Z"
   },
   {
    "duration": 36,
    "start_time": "2024-06-03T06:03:20.990Z"
   },
   {
    "duration": 20,
    "start_time": "2024-06-03T06:03:21.028Z"
   },
   {
    "duration": 13,
    "start_time": "2024-06-03T06:03:21.049Z"
   },
   {
    "duration": 10,
    "start_time": "2024-06-03T06:03:21.063Z"
   },
   {
    "duration": 25,
    "start_time": "2024-06-03T06:03:21.076Z"
   },
   {
    "duration": 16,
    "start_time": "2024-06-03T06:03:21.103Z"
   },
   {
    "duration": 473,
    "start_time": "2024-06-03T06:03:21.121Z"
   },
   {
    "duration": 7,
    "start_time": "2024-06-03T06:03:21.596Z"
   },
   {
    "duration": 545,
    "start_time": "2024-06-03T06:03:21.605Z"
   },
   {
    "duration": 23,
    "start_time": "2024-06-03T06:03:22.153Z"
   },
   {
    "duration": 1286,
    "start_time": "2024-06-03T06:03:22.178Z"
   },
   {
    "duration": 3,
    "start_time": "2024-06-03T06:03:23.466Z"
   },
   {
    "duration": 25,
    "start_time": "2024-06-03T06:03:23.471Z"
   },
   {
    "duration": 25,
    "start_time": "2024-06-03T06:03:23.498Z"
   },
   {
    "duration": 84,
    "start_time": "2024-06-03T06:03:23.525Z"
   },
   {
    "duration": 68,
    "start_time": "2024-06-03T06:03:23.611Z"
   },
   {
    "duration": 8300,
    "start_time": "2024-06-03T06:05:01.515Z"
   },
   {
    "duration": 48,
    "start_time": "2024-06-03T06:05:09.818Z"
   },
   {
    "duration": 15,
    "start_time": "2024-06-03T06:05:09.868Z"
   },
   {
    "duration": 55,
    "start_time": "2024-06-03T06:05:09.885Z"
   },
   {
    "duration": 13,
    "start_time": "2024-06-03T06:05:09.942Z"
   },
   {
    "duration": 51,
    "start_time": "2024-06-03T06:05:09.956Z"
   },
   {
    "duration": 25,
    "start_time": "2024-06-03T06:05:10.009Z"
   },
   {
    "duration": 34,
    "start_time": "2024-06-03T06:05:10.035Z"
   },
   {
    "duration": 38,
    "start_time": "2024-06-03T06:05:10.071Z"
   },
   {
    "duration": 12,
    "start_time": "2024-06-03T06:05:10.111Z"
   },
   {
    "duration": 23,
    "start_time": "2024-06-03T06:05:10.125Z"
   },
   {
    "duration": 494,
    "start_time": "2024-06-03T06:05:10.149Z"
   },
   {
    "duration": 8,
    "start_time": "2024-06-03T06:05:10.645Z"
   },
   {
    "duration": 762,
    "start_time": "2024-06-03T06:05:10.655Z"
   },
   {
    "duration": 24,
    "start_time": "2024-06-03T06:05:11.419Z"
   },
   {
    "duration": 1311,
    "start_time": "2024-06-03T06:05:11.445Z"
   },
   {
    "duration": 2,
    "start_time": "2024-06-03T06:05:12.758Z"
   },
   {
    "duration": 10,
    "start_time": "2024-06-03T06:05:12.762Z"
   },
   {
    "duration": 5,
    "start_time": "2024-06-03T06:05:12.773Z"
   },
   {
    "duration": 12,
    "start_time": "2024-06-03T06:05:12.780Z"
   },
   {
    "duration": 16,
    "start_time": "2024-06-03T06:05:12.794Z"
   },
   {
    "duration": 13,
    "start_time": "2024-06-03T06:08:45.067Z"
   },
   {
    "duration": 12,
    "start_time": "2024-06-03T06:09:09.724Z"
   },
   {
    "duration": 66,
    "start_time": "2024-06-03T06:09:30.546Z"
   },
   {
    "duration": 45,
    "start_time": "2024-06-03T06:09:43.415Z"
   },
   {
    "duration": 4,
    "start_time": "2024-06-03T06:10:23.674Z"
   },
   {
    "duration": 15094,
    "start_time": "2024-06-03T17:36:41.369Z"
   },
   {
    "duration": 139,
    "start_time": "2024-06-03T17:36:56.465Z"
   },
   {
    "duration": 19,
    "start_time": "2024-06-03T17:36:56.605Z"
   },
   {
    "duration": 141,
    "start_time": "2024-06-03T17:36:56.627Z"
   },
   {
    "duration": 11,
    "start_time": "2024-06-03T17:36:56.769Z"
   },
   {
    "duration": 20,
    "start_time": "2024-06-03T17:36:56.782Z"
   },
   {
    "duration": 19,
    "start_time": "2024-06-03T17:36:56.803Z"
   },
   {
    "duration": 9,
    "start_time": "2024-06-03T17:36:56.824Z"
   },
   {
    "duration": 10,
    "start_time": "2024-06-03T17:36:56.835Z"
   },
   {
    "duration": 39,
    "start_time": "2024-06-03T17:36:56.847Z"
   },
   {
    "duration": 12,
    "start_time": "2024-06-03T17:36:56.887Z"
   },
   {
    "duration": 476,
    "start_time": "2024-06-03T17:36:56.901Z"
   },
   {
    "duration": 6,
    "start_time": "2024-06-03T17:36:57.379Z"
   },
   {
    "duration": 509,
    "start_time": "2024-06-03T17:36:57.386Z"
   },
   {
    "duration": 22,
    "start_time": "2024-06-03T17:36:57.897Z"
   },
   {
    "duration": 1397,
    "start_time": "2024-06-03T17:36:57.920Z"
   },
   {
    "duration": 3,
    "start_time": "2024-06-03T17:36:59.318Z"
   },
   {
    "duration": 33,
    "start_time": "2024-06-03T17:36:59.323Z"
   },
   {
    "duration": 22,
    "start_time": "2024-06-03T17:36:59.358Z"
   },
   {
    "duration": 22,
    "start_time": "2024-06-03T17:36:59.381Z"
   },
   {
    "duration": 18,
    "start_time": "2024-06-03T17:36:59.404Z"
   },
   {
    "duration": 7953,
    "start_time": "2024-06-03T18:03:13.180Z"
   },
   {
    "duration": 43,
    "start_time": "2024-06-03T18:03:21.135Z"
   },
   {
    "duration": 14,
    "start_time": "2024-06-03T18:03:21.180Z"
   },
   {
    "duration": 53,
    "start_time": "2024-06-03T18:03:21.196Z"
   },
   {
    "duration": 12,
    "start_time": "2024-06-03T18:03:21.251Z"
   },
   {
    "duration": 20,
    "start_time": "2024-06-03T18:03:21.264Z"
   },
   {
    "duration": 19,
    "start_time": "2024-06-03T18:03:21.286Z"
   },
   {
    "duration": 14,
    "start_time": "2024-06-03T18:03:21.306Z"
   },
   {
    "duration": 9,
    "start_time": "2024-06-03T18:03:21.321Z"
   },
   {
    "duration": 15,
    "start_time": "2024-06-03T18:03:21.332Z"
   },
   {
    "duration": 32,
    "start_time": "2024-06-03T18:03:21.348Z"
   },
   {
    "duration": 435,
    "start_time": "2024-06-03T18:03:21.382Z"
   },
   {
    "duration": 5,
    "start_time": "2024-06-03T18:03:21.819Z"
   },
   {
    "duration": 508,
    "start_time": "2024-06-03T18:03:21.826Z"
   },
   {
    "duration": 22,
    "start_time": "2024-06-03T18:03:22.336Z"
   },
   {
    "duration": 1264,
    "start_time": "2024-06-03T18:03:22.359Z"
   },
   {
    "duration": 2,
    "start_time": "2024-06-03T18:03:23.625Z"
   },
   {
    "duration": 12,
    "start_time": "2024-06-03T18:03:23.629Z"
   },
   {
    "duration": 20,
    "start_time": "2024-06-03T18:03:23.643Z"
   },
   {
    "duration": 17,
    "start_time": "2024-06-03T18:03:23.665Z"
   },
   {
    "duration": 9,
    "start_time": "2024-06-03T18:03:23.684Z"
   },
   {
    "duration": 48,
    "start_time": "2024-06-03T18:25:50.111Z"
   },
   {
    "duration": 49,
    "start_time": "2024-06-03T18:27:27.650Z"
   },
   {
    "duration": 43,
    "start_time": "2024-06-03T18:27:52.622Z"
   },
   {
    "duration": 7991,
    "start_time": "2024-06-03T18:27:56.094Z"
   },
   {
    "duration": 45,
    "start_time": "2024-06-03T18:28:04.088Z"
   },
   {
    "duration": 15,
    "start_time": "2024-06-03T18:28:04.135Z"
   },
   {
    "duration": 56,
    "start_time": "2024-06-03T18:28:04.151Z"
   },
   {
    "duration": 13,
    "start_time": "2024-06-03T18:28:04.209Z"
   },
   {
    "duration": 34,
    "start_time": "2024-06-03T18:28:04.223Z"
   },
   {
    "duration": 21,
    "start_time": "2024-06-03T18:28:04.259Z"
   },
   {
    "duration": 12,
    "start_time": "2024-06-03T18:28:04.282Z"
   },
   {
    "duration": 20,
    "start_time": "2024-06-03T18:28:04.296Z"
   },
   {
    "duration": 15,
    "start_time": "2024-06-03T18:28:04.319Z"
   },
   {
    "duration": 15,
    "start_time": "2024-06-03T18:28:04.336Z"
   },
   {
    "duration": 491,
    "start_time": "2024-06-03T18:28:04.353Z"
   },
   {
    "duration": 7,
    "start_time": "2024-06-03T18:28:04.846Z"
   },
   {
    "duration": 636,
    "start_time": "2024-06-03T18:28:04.856Z"
   },
   {
    "duration": 22,
    "start_time": "2024-06-03T18:28:05.494Z"
   },
   {
    "duration": 1259,
    "start_time": "2024-06-03T18:28:05.517Z"
   },
   {
    "duration": 3,
    "start_time": "2024-06-03T18:28:06.777Z"
   },
   {
    "duration": 16,
    "start_time": "2024-06-03T18:28:06.782Z"
   },
   {
    "duration": 5,
    "start_time": "2024-06-03T18:28:06.799Z"
   },
   {
    "duration": 8,
    "start_time": "2024-06-03T18:28:06.805Z"
   },
   {
    "duration": 4,
    "start_time": "2024-06-03T18:28:06.815Z"
   },
   {
    "duration": 46,
    "start_time": "2024-06-03T18:28:06.821Z"
   },
   {
    "duration": 142,
    "start_time": "2024-06-03T18:29:48.441Z"
   },
   {
    "duration": 4,
    "start_time": "2024-06-03T18:29:56.924Z"
   },
   {
    "duration": 4,
    "start_time": "2024-06-03T18:30:11.694Z"
   },
   {
    "duration": 43,
    "start_time": "2024-06-03T18:30:35.975Z"
   },
   {
    "duration": 49,
    "start_time": "2024-06-03T18:32:31.934Z"
   },
   {
    "duration": 44,
    "start_time": "2024-06-03T18:33:08.374Z"
   },
   {
    "duration": 50,
    "start_time": "2024-06-03T18:33:18.125Z"
   },
   {
    "duration": 45,
    "start_time": "2024-06-03T18:33:24.886Z"
   },
   {
    "duration": 47,
    "start_time": "2024-06-03T18:34:47.446Z"
   },
   {
    "duration": 45,
    "start_time": "2024-06-03T18:35:20.596Z"
   },
   {
    "duration": 68,
    "start_time": "2024-06-03T18:35:36.376Z"
   },
   {
    "duration": 49,
    "start_time": "2024-06-03T18:36:04.006Z"
   },
   {
    "duration": 47,
    "start_time": "2024-06-03T18:36:13.424Z"
   },
   {
    "duration": 47,
    "start_time": "2024-06-03T18:36:50.906Z"
   },
   {
    "duration": 54,
    "start_time": "2024-06-03T18:38:03.030Z"
   },
   {
    "duration": 52,
    "start_time": "2024-06-03T18:38:10.847Z"
   },
   {
    "duration": 63,
    "start_time": "2024-06-03T18:39:40.848Z"
   },
   {
    "duration": 18,
    "start_time": "2024-06-03T18:41:24.128Z"
   },
   {
    "duration": 4,
    "start_time": "2024-06-03T18:41:38.428Z"
   },
   {
    "duration": 7,
    "start_time": "2024-06-03T18:42:28.088Z"
   },
   {
    "duration": 6,
    "start_time": "2024-06-03T18:43:00.430Z"
   },
   {
    "duration": 6,
    "start_time": "2024-06-03T18:43:17.489Z"
   },
   {
    "duration": 6,
    "start_time": "2024-06-03T18:43:30.269Z"
   },
   {
    "duration": 7,
    "start_time": "2024-06-03T18:43:40.070Z"
   },
   {
    "duration": 7,
    "start_time": "2024-06-03T18:44:50.209Z"
   },
   {
    "duration": 7,
    "start_time": "2024-06-03T18:45:00.389Z"
   },
   {
    "duration": 7,
    "start_time": "2024-06-03T18:45:07.899Z"
   },
   {
    "duration": 6,
    "start_time": "2024-06-03T18:45:36.270Z"
   },
   {
    "duration": 4,
    "start_time": "2024-06-03T18:46:17.881Z"
   },
   {
    "duration": 5,
    "start_time": "2024-06-03T18:46:30.550Z"
   },
   {
    "duration": 5,
    "start_time": "2024-06-03T18:46:45.971Z"
   },
   {
    "duration": 5,
    "start_time": "2024-06-03T18:46:56.189Z"
   },
   {
    "duration": 6,
    "start_time": "2024-06-03T18:47:24.469Z"
   },
   {
    "duration": 5,
    "start_time": "2024-06-03T18:47:45.020Z"
   },
   {
    "duration": 5,
    "start_time": "2024-06-03T18:47:56.510Z"
   },
   {
    "duration": 6,
    "start_time": "2024-06-03T18:48:12.459Z"
   },
   {
    "duration": 13,
    "start_time": "2024-06-03T18:48:41.429Z"
   },
   {
    "duration": 14,
    "start_time": "2024-06-03T18:49:03.486Z"
   },
   {
    "duration": 6,
    "start_time": "2024-06-03T18:49:13.938Z"
   },
   {
    "duration": 14,
    "start_time": "2024-06-03T18:50:08.860Z"
   },
   {
    "duration": 7,
    "start_time": "2024-06-03T18:50:40.352Z"
   },
   {
    "duration": 14,
    "start_time": "2024-06-03T18:50:55.630Z"
   },
   {
    "duration": 7,
    "start_time": "2024-06-03T18:52:21.969Z"
   },
   {
    "duration": 14,
    "start_time": "2024-06-03T18:52:28.831Z"
   },
   {
    "duration": 7,
    "start_time": "2024-06-03T18:52:34.461Z"
   },
   {
    "duration": 17,
    "start_time": "2024-06-03T18:52:44.440Z"
   },
   {
    "duration": 16,
    "start_time": "2024-06-03T18:52:57.142Z"
   },
   {
    "duration": 19,
    "start_time": "2024-06-03T18:55:03.622Z"
   },
   {
    "duration": 18,
    "start_time": "2024-06-03T18:57:43.863Z"
   },
   {
    "duration": 7,
    "start_time": "2024-06-03T18:57:52.911Z"
   },
   {
    "duration": 44,
    "start_time": "2024-06-03T18:59:49.462Z"
   },
   {
    "duration": 7,
    "start_time": "2024-06-03T18:59:59.349Z"
   },
   {
    "duration": 56,
    "start_time": "2024-06-03T19:01:13.270Z"
   },
   {
    "duration": 6,
    "start_time": "2024-06-03T19:01:19.071Z"
   },
   {
    "duration": 5,
    "start_time": "2024-06-03T19:04:29.591Z"
   },
   {
    "duration": 8151,
    "start_time": "2024-06-03T19:06:54.071Z"
   },
   {
    "duration": 50,
    "start_time": "2024-06-03T19:07:02.225Z"
   },
   {
    "duration": 15,
    "start_time": "2024-06-03T19:07:02.277Z"
   },
   {
    "duration": 163,
    "start_time": "2024-06-03T19:07:02.294Z"
   },
   {
    "duration": 107,
    "start_time": "2024-06-03T19:07:02.458Z"
   },
   {
    "duration": 350,
    "start_time": "2024-06-03T19:07:02.566Z"
   },
   {
    "duration": 41,
    "start_time": "2024-06-03T19:07:02.917Z"
   },
   {
    "duration": 14,
    "start_time": "2024-06-03T19:07:02.960Z"
   },
   {
    "duration": 10,
    "start_time": "2024-06-03T19:07:02.976Z"
   },
   {
    "duration": 12,
    "start_time": "2024-06-03T19:07:02.988Z"
   },
   {
    "duration": 18,
    "start_time": "2024-06-03T19:07:03.002Z"
   },
   {
    "duration": 497,
    "start_time": "2024-06-03T19:07:03.022Z"
   },
   {
    "duration": 7,
    "start_time": "2024-06-03T19:07:03.522Z"
   },
   {
    "duration": 539,
    "start_time": "2024-06-03T19:07:03.531Z"
   },
   {
    "duration": 26,
    "start_time": "2024-06-03T19:07:04.071Z"
   },
   {
    "duration": 1226,
    "start_time": "2024-06-03T19:07:04.098Z"
   },
   {
    "duration": 3,
    "start_time": "2024-06-03T19:07:05.325Z"
   },
   {
    "duration": 7,
    "start_time": "2024-06-03T19:07:05.329Z"
   },
   {
    "duration": 5,
    "start_time": "2024-06-03T19:07:05.338Z"
   },
   {
    "duration": 19,
    "start_time": "2024-06-03T19:07:05.344Z"
   },
   {
    "duration": 7,
    "start_time": "2024-06-03T19:07:05.365Z"
   },
   {
    "duration": 21,
    "start_time": "2024-06-03T19:07:05.374Z"
   },
   {
    "duration": 31,
    "start_time": "2024-06-03T19:07:05.396Z"
   },
   {
    "duration": 24,
    "start_time": "2024-06-03T19:17:38.422Z"
   },
   {
    "duration": 14,
    "start_time": "2024-06-03T19:19:02.448Z"
   },
   {
    "duration": 5,
    "start_time": "2024-06-03T19:19:15.449Z"
   },
   {
    "duration": 16,
    "start_time": "2024-06-03T19:19:21.690Z"
   },
   {
    "duration": 7,
    "start_time": "2024-06-03T19:20:21.906Z"
   },
   {
    "duration": 19,
    "start_time": "2024-06-03T19:20:38.901Z"
   },
   {
    "duration": 17,
    "start_time": "2024-06-03T19:21:11.594Z"
   },
   {
    "duration": 10,
    "start_time": "2024-06-03T19:21:16.552Z"
   },
   {
    "duration": 15,
    "start_time": "2024-06-03T19:22:04.136Z"
   },
   {
    "duration": 7,
    "start_time": "2024-06-03T19:22:13.965Z"
   },
   {
    "duration": 3,
    "start_time": "2024-06-03T19:22:16.885Z"
   },
   {
    "duration": 4,
    "start_time": "2024-06-03T19:22:17.576Z"
   },
   {
    "duration": 5,
    "start_time": "2024-06-03T19:22:18.995Z"
   },
   {
    "duration": 15,
    "start_time": "2024-06-03T19:22:20.406Z"
   },
   {
    "duration": 6,
    "start_time": "2024-06-03T19:24:03.542Z"
   },
   {
    "duration": 26800,
    "start_time": "2024-06-03T19:24:11.476Z"
   },
   {
    "duration": 5,
    "start_time": "2024-06-03T19:27:02.403Z"
   },
   {
    "duration": 3,
    "start_time": "2024-06-03T19:28:19.631Z"
   },
   {
    "duration": 1558,
    "start_time": "2024-06-03T19:28:31.496Z"
   },
   {
    "duration": 863,
    "start_time": "2024-06-03T19:34:04.217Z"
   },
   {
    "duration": 8563,
    "start_time": "2024-06-03T19:35:16.488Z"
   },
   {
    "duration": 44,
    "start_time": "2024-06-03T19:35:25.053Z"
   },
   {
    "duration": 15,
    "start_time": "2024-06-03T19:35:25.098Z"
   },
   {
    "duration": 73,
    "start_time": "2024-06-03T19:35:25.114Z"
   },
   {
    "duration": 12,
    "start_time": "2024-06-03T19:35:25.189Z"
   },
   {
    "duration": 33,
    "start_time": "2024-06-03T19:35:25.203Z"
   },
   {
    "duration": 26,
    "start_time": "2024-06-03T19:35:25.238Z"
   },
   {
    "duration": 50,
    "start_time": "2024-06-03T19:35:25.265Z"
   },
   {
    "duration": 19,
    "start_time": "2024-06-03T19:35:25.316Z"
   },
   {
    "duration": 25,
    "start_time": "2024-06-03T19:35:25.337Z"
   },
   {
    "duration": 13,
    "start_time": "2024-06-03T19:35:25.364Z"
   },
   {
    "duration": 662,
    "start_time": "2024-06-03T19:35:25.379Z"
   },
   {
    "duration": 7,
    "start_time": "2024-06-03T19:35:26.043Z"
   },
   {
    "duration": 510,
    "start_time": "2024-06-03T19:35:26.053Z"
   },
   {
    "duration": 33,
    "start_time": "2024-06-03T19:35:26.564Z"
   },
   {
    "duration": 1347,
    "start_time": "2024-06-03T19:35:26.600Z"
   },
   {
    "duration": 4,
    "start_time": "2024-06-03T19:35:27.949Z"
   },
   {
    "duration": 8,
    "start_time": "2024-06-03T19:35:27.955Z"
   },
   {
    "duration": 17,
    "start_time": "2024-06-03T19:35:27.965Z"
   },
   {
    "duration": 11,
    "start_time": "2024-06-03T19:35:27.983Z"
   },
   {
    "duration": 37,
    "start_time": "2024-06-03T19:35:27.996Z"
   },
   {
    "duration": 12,
    "start_time": "2024-06-03T19:35:28.035Z"
   },
   {
    "duration": 860,
    "start_time": "2024-06-03T19:35:28.048Z"
   },
   {
    "duration": 0,
    "start_time": "2024-06-03T19:35:28.910Z"
   },
   {
    "duration": 21,
    "start_time": "2024-06-03T19:37:15.585Z"
   },
   {
    "duration": 3,
    "start_time": "2024-06-03T19:37:31.105Z"
   },
   {
    "duration": 102,
    "start_time": "2024-06-03T19:37:31.109Z"
   },
   {
    "duration": 1,
    "start_time": "2024-06-03T19:37:31.212Z"
   },
   {
    "duration": 0,
    "start_time": "2024-06-03T19:37:31.214Z"
   },
   {
    "duration": 0,
    "start_time": "2024-06-03T19:37:31.215Z"
   },
   {
    "duration": 0,
    "start_time": "2024-06-03T19:37:31.217Z"
   },
   {
    "duration": 64,
    "start_time": "2024-06-03T19:37:56.214Z"
   },
   {
    "duration": 22,
    "start_time": "2024-06-03T19:38:09.034Z"
   },
   {
    "duration": 24,
    "start_time": "2024-06-03T19:38:14.755Z"
   },
   {
    "duration": 16,
    "start_time": "2024-06-03T19:38:32.955Z"
   },
   {
    "duration": 22,
    "start_time": "2024-06-03T19:39:02.675Z"
   },
   {
    "duration": 6,
    "start_time": "2024-06-03T19:39:13.557Z"
   },
   {
    "duration": 5,
    "start_time": "2024-06-03T19:39:13.565Z"
   },
   {
    "duration": 11,
    "start_time": "2024-06-03T19:39:13.571Z"
   },
   {
    "duration": 965,
    "start_time": "2024-06-03T19:39:13.584Z"
   },
   {
    "duration": 0,
    "start_time": "2024-06-03T19:39:14.551Z"
   },
   {
    "duration": 18,
    "start_time": "2024-06-03T19:40:44.595Z"
   },
   {
    "duration": 14,
    "start_time": "2024-06-03T19:42:16.328Z"
   },
   {
    "duration": 7,
    "start_time": "2024-06-03T19:42:47.892Z"
   },
   {
    "duration": 4,
    "start_time": "2024-06-03T19:43:48.544Z"
   },
   {
    "duration": 4,
    "start_time": "2024-06-03T19:43:48.553Z"
   },
   {
    "duration": 7,
    "start_time": "2024-06-03T19:43:48.559Z"
   },
   {
    "duration": 13,
    "start_time": "2024-06-03T19:43:48.567Z"
   },
   {
    "duration": 8,
    "start_time": "2024-06-03T19:43:48.582Z"
   },
   {
    "duration": 7,
    "start_time": "2024-06-03T19:43:48.591Z"
   },
   {
    "duration": 182,
    "start_time": "2024-06-03T19:43:48.599Z"
   },
   {
    "duration": 1780,
    "start_time": "2024-06-03T19:43:48.783Z"
   },
   {
    "duration": 16,
    "start_time": "2024-06-03T19:44:00.861Z"
   },
   {
    "duration": 5,
    "start_time": "2024-06-03T19:44:21.984Z"
   },
   {
    "duration": 3,
    "start_time": "2024-06-03T19:44:23.223Z"
   },
   {
    "duration": 5,
    "start_time": "2024-06-03T19:44:24.531Z"
   },
   {
    "duration": 210,
    "start_time": "2024-06-03T19:44:26.070Z"
   },
   {
    "duration": 50,
    "start_time": "2024-06-03T19:44:47.162Z"
   },
   {
    "duration": 1718,
    "start_time": "2024-06-03T19:45:41.239Z"
   },
   {
    "duration": 1114,
    "start_time": "2024-06-03T19:47:12.065Z"
   },
   {
    "duration": 56,
    "start_time": "2024-06-03T19:48:53.948Z"
   },
   {
    "duration": 14,
    "start_time": "2024-06-03T19:53:37.258Z"
   },
   {
    "duration": 6,
    "start_time": "2024-06-03T19:54:09.385Z"
   },
   {
    "duration": 17,
    "start_time": "2024-06-03T19:55:02.565Z"
   },
   {
    "duration": 55,
    "start_time": "2024-06-03T19:55:14.445Z"
   },
   {
    "duration": 90,
    "start_time": "2024-06-03T19:55:14.503Z"
   },
   {
    "duration": 52,
    "start_time": "2024-06-03T19:58:55.148Z"
   },
   {
    "duration": 4,
    "start_time": "2024-06-03T19:59:11.191Z"
   },
   {
    "duration": 45,
    "start_time": "2024-06-03T19:59:13.977Z"
   },
   {
    "duration": 6,
    "start_time": "2024-06-03T20:00:11.293Z"
   },
   {
    "duration": 10,
    "start_time": "2024-06-03T20:00:17.156Z"
   },
   {
    "duration": 8,
    "start_time": "2024-06-03T20:00:26.950Z"
   },
   {
    "duration": 6,
    "start_time": "2024-06-03T20:00:40.254Z"
   },
   {
    "duration": 2,
    "start_time": "2024-06-03T20:00:42.455Z"
   },
   {
    "duration": 4,
    "start_time": "2024-06-03T20:00:43.510Z"
   },
   {
    "duration": 57,
    "start_time": "2024-06-03T20:00:44.558Z"
   },
   {
    "duration": 30,
    "start_time": "2024-06-03T20:00:45.592Z"
   },
   {
    "duration": 29,
    "start_time": "2024-06-03T20:02:42.568Z"
   },
   {
    "duration": 1006,
    "start_time": "2024-06-03T20:12:55.116Z"
   },
   {
    "duration": 176,
    "start_time": "2024-06-03T20:15:17.805Z"
   },
   {
    "duration": 1459,
    "start_time": "2024-06-03T20:15:18.221Z"
   },
   {
    "duration": 1405,
    "start_time": "2024-06-03T20:17:55.579Z"
   },
   {
    "duration": 4,
    "start_time": "2024-06-03T20:18:41.301Z"
   },
   {
    "duration": 1300,
    "start_time": "2024-06-03T20:18:44.788Z"
   },
   {
    "duration": 43,
    "start_time": "2024-06-03T20:22:40.020Z"
   },
   {
    "duration": 4,
    "start_time": "2024-06-03T20:22:49.554Z"
   },
   {
    "duration": 3,
    "start_time": "2024-06-03T20:22:50.978Z"
   },
   {
    "duration": 1157,
    "start_time": "2024-06-03T20:22:55.442Z"
   },
   {
    "duration": 7,
    "start_time": "2024-06-03T20:23:36.493Z"
   },
   {
    "duration": 9,
    "start_time": "2024-06-03T20:23:36.502Z"
   },
   {
    "duration": 22,
    "start_time": "2024-06-03T20:23:36.513Z"
   },
   {
    "duration": 47,
    "start_time": "2024-06-03T20:23:36.537Z"
   },
   {
    "duration": 1295,
    "start_time": "2024-06-03T20:23:36.586Z"
   },
   {
    "duration": 4,
    "start_time": "2024-06-03T20:27:53.378Z"
   },
   {
    "duration": 8176,
    "start_time": "2024-06-03T20:28:50.284Z"
   },
   {
    "duration": 5,
    "start_time": "2024-06-03T20:29:22.422Z"
   },
   {
    "duration": 1454,
    "start_time": "2024-06-03T20:29:22.430Z"
   },
   {
    "duration": 9,
    "start_time": "2024-06-03T20:29:23.886Z"
   },
   {
    "duration": 19,
    "start_time": "2024-06-03T20:29:52.815Z"
   },
   {
    "duration": 4,
    "start_time": "2024-06-03T20:30:05.604Z"
   },
   {
    "duration": 1275,
    "start_time": "2024-06-03T20:30:06.105Z"
   },
   {
    "duration": 65,
    "start_time": "2024-06-03T20:30:39.469Z"
   },
   {
    "duration": 1224,
    "start_time": "2024-06-03T20:31:03.762Z"
   },
   {
    "duration": 3,
    "start_time": "2024-06-03T20:31:14.447Z"
   },
   {
    "duration": 12,
    "start_time": "2024-06-03T20:33:21.426Z"
   },
   {
    "duration": 5,
    "start_time": "2024-06-03T20:33:27.866Z"
   },
   {
    "duration": 11,
    "start_time": "2024-06-03T20:33:28.274Z"
   },
   {
    "duration": 8042,
    "start_time": "2024-06-03T20:33:38.325Z"
   },
   {
    "duration": 4,
    "start_time": "2024-06-03T20:35:29.489Z"
   },
   {
    "duration": 17657,
    "start_time": "2024-06-03T20:35:35.148Z"
   },
   {
    "duration": 5,
    "start_time": "2024-06-03T20:36:50.987Z"
   },
   {
    "duration": 42701,
    "start_time": "2024-06-03T20:36:56.579Z"
   },
   {
    "duration": 50,
    "start_time": "2024-06-03T20:39:10.093Z"
   },
   {
    "duration": 42235,
    "start_time": "2024-06-03T20:39:10.569Z"
   },
   {
    "duration": 4,
    "start_time": "2024-06-03T20:40:06.201Z"
   },
   {
    "duration": 4,
    "start_time": "2024-06-03T20:42:13.753Z"
   },
   {
    "duration": 126735,
    "start_time": "2024-06-03T20:42:13.759Z"
   },
   {
    "duration": 4,
    "start_time": "2024-06-03T20:47:49.552Z"
   },
   {
    "duration": 1527,
    "start_time": "2024-06-03T20:47:50.376Z"
   },
   {
    "duration": 4,
    "start_time": "2024-06-03T20:47:59.484Z"
   },
   {
    "duration": 143392,
    "start_time": "2024-06-03T20:48:00.455Z"
   },
   {
    "duration": 19,
    "start_time": "2024-06-03T20:58:48.723Z"
   },
   {
    "duration": 57,
    "start_time": "2024-06-03T21:07:17.400Z"
   },
   {
    "duration": 46,
    "start_time": "2024-06-03T21:08:28.537Z"
   },
   {
    "duration": 41,
    "start_time": "2024-06-03T21:08:33.056Z"
   },
   {
    "duration": 12,
    "start_time": "2024-06-03T21:09:17.328Z"
   },
   {
    "duration": 13,
    "start_time": "2024-06-03T21:09:31.411Z"
   },
   {
    "duration": 13,
    "start_time": "2024-06-03T21:10:52.542Z"
   },
   {
    "duration": 14,
    "start_time": "2024-06-03T21:11:31.244Z"
   },
   {
    "duration": 10,
    "start_time": "2024-06-03T21:12:41.679Z"
   },
   {
    "duration": 12,
    "start_time": "2024-06-03T21:13:24.771Z"
   },
   {
    "duration": 601,
    "start_time": "2024-06-03T21:13:30.650Z"
   },
   {
    "duration": 131,
    "start_time": "2024-06-03T21:18:22.805Z"
   },
   {
    "duration": 14,
    "start_time": "2024-06-03T21:18:45.911Z"
   },
   {
    "duration": 47,
    "start_time": "2024-06-03T21:21:50.324Z"
   },
   {
    "duration": 36,
    "start_time": "2024-06-03T21:22:21.956Z"
   },
   {
    "duration": 37,
    "start_time": "2024-06-03T21:23:03.399Z"
   },
   {
    "duration": 35,
    "start_time": "2024-06-03T21:24:10.806Z"
   },
   {
    "duration": 34,
    "start_time": "2024-06-03T21:24:32.713Z"
   },
   {
    "duration": 41,
    "start_time": "2024-06-03T21:25:28.090Z"
   },
   {
    "duration": 13,
    "start_time": "2024-06-03T21:25:53.138Z"
   },
   {
    "duration": 11,
    "start_time": "2024-06-03T21:26:06.987Z"
   },
   {
    "duration": 12,
    "start_time": "2024-06-03T21:29:01.847Z"
   },
   {
    "duration": 3,
    "start_time": "2024-06-03T21:29:07.452Z"
   },
   {
    "duration": 20,
    "start_time": "2024-06-03T21:29:07.770Z"
   },
   {
    "duration": 16,
    "start_time": "2024-06-03T21:29:16.001Z"
   },
   {
    "duration": 20,
    "start_time": "2024-06-03T21:29:27.212Z"
   },
   {
    "duration": 25,
    "start_time": "2024-06-03T21:30:13.674Z"
   },
   {
    "duration": 15,
    "start_time": "2024-06-03T21:30:53.176Z"
   },
   {
    "duration": 3,
    "start_time": "2024-06-03T21:31:01.710Z"
   },
   {
    "duration": 22,
    "start_time": "2024-06-03T21:31:02.029Z"
   },
   {
    "duration": 12,
    "start_time": "2024-06-03T21:31:14.048Z"
   },
   {
    "duration": 11,
    "start_time": "2024-06-03T21:32:55.276Z"
   },
   {
    "duration": 18,
    "start_time": "2024-06-03T21:33:22.639Z"
   },
   {
    "duration": 37,
    "start_time": "2024-06-03T21:33:32.188Z"
   },
   {
    "duration": 35,
    "start_time": "2024-06-03T21:33:32.227Z"
   },
   {
    "duration": 22,
    "start_time": "2024-06-03T21:33:32.263Z"
   },
   {
    "duration": 51,
    "start_time": "2024-06-03T21:33:32.286Z"
   },
   {
    "duration": 41,
    "start_time": "2024-06-03T21:33:32.339Z"
   },
   {
    "duration": 111,
    "start_time": "2024-06-03T21:35:13.940Z"
   },
   {
    "duration": 61,
    "start_time": "2024-06-03T21:35:44.607Z"
   },
   {
    "duration": 10,
    "start_time": "2024-06-03T21:36:16.778Z"
   },
   {
    "duration": 39,
    "start_time": "2024-06-03T21:36:25.148Z"
   },
   {
    "duration": 50,
    "start_time": "2024-06-03T21:36:25.188Z"
   },
   {
    "duration": 11,
    "start_time": "2024-06-03T21:36:25.240Z"
   },
   {
    "duration": 28,
    "start_time": "2024-06-03T21:36:25.253Z"
   },
   {
    "duration": 1144,
    "start_time": "2024-06-03T21:36:25.283Z"
   },
   {
    "duration": 9,
    "start_time": "2024-06-03T21:37:09.178Z"
   },
   {
    "duration": 11,
    "start_time": "2024-06-03T21:43:59.917Z"
   },
   {
    "duration": 10,
    "start_time": "2024-06-03T21:44:21.346Z"
   },
   {
    "duration": 8,
    "start_time": "2024-06-03T21:51:42.053Z"
   },
   {
    "duration": 8,
    "start_time": "2024-06-03T21:53:36.677Z"
   },
   {
    "duration": 125,
    "start_time": "2024-06-03T21:53:50.486Z"
   },
   {
    "duration": 114,
    "start_time": "2024-06-03T21:54:06.511Z"
   },
   {
    "duration": 134,
    "start_time": "2024-06-03T21:54:10.536Z"
   },
   {
    "duration": 106,
    "start_time": "2024-06-03T21:54:17.303Z"
   },
   {
    "duration": 121,
    "start_time": "2024-06-03T21:54:53.365Z"
   },
   {
    "duration": 121,
    "start_time": "2024-06-03T21:55:05.267Z"
   },
   {
    "duration": 4,
    "start_time": "2024-06-03T21:55:35.238Z"
   },
   {
    "duration": 9,
    "start_time": "2024-06-03T21:56:26.618Z"
   },
   {
    "duration": 4,
    "start_time": "2024-06-03T21:57:02.637Z"
   },
   {
    "duration": 486,
    "start_time": "2024-06-03T21:59:37.679Z"
   },
   {
    "duration": 520,
    "start_time": "2024-06-03T21:59:48.151Z"
   },
   {
    "duration": 629,
    "start_time": "2024-06-03T21:59:56.840Z"
   },
   {
    "duration": 950,
    "start_time": "2024-06-03T22:00:11.155Z"
   },
   {
    "duration": 12,
    "start_time": "2024-06-03T22:02:18.271Z"
   },
   {
    "duration": 4,
    "start_time": "2024-06-03T22:02:42.332Z"
   },
   {
    "duration": 41,
    "start_time": "2024-06-03T22:03:35.503Z"
   },
   {
    "duration": 47,
    "start_time": "2024-06-03T22:03:58.921Z"
   },
   {
    "duration": 41,
    "start_time": "2024-06-03T22:04:29.730Z"
   },
   {
    "duration": 4,
    "start_time": "2024-06-03T22:04:30.522Z"
   },
   {
    "duration": 4,
    "start_time": "2024-06-03T22:04:44.682Z"
   },
   {
    "duration": 3,
    "start_time": "2024-06-03T22:05:00.973Z"
   },
   {
    "duration": 5,
    "start_time": "2024-06-03T22:05:15.343Z"
   },
   {
    "duration": 343,
    "start_time": "2024-06-03T22:05:38.603Z"
   },
   {
    "duration": 270,
    "start_time": "2024-06-03T22:05:46.564Z"
   },
   {
    "duration": 288,
    "start_time": "2024-06-03T22:05:53.484Z"
   },
   {
    "duration": 316,
    "start_time": "2024-06-03T22:06:02.535Z"
   },
   {
    "duration": 398,
    "start_time": "2024-06-03T22:06:11.244Z"
   },
   {
    "duration": 271,
    "start_time": "2024-06-03T22:06:20.645Z"
   },
   {
    "duration": 3,
    "start_time": "2024-06-03T22:11:53.716Z"
   },
   {
    "duration": 422,
    "start_time": "2024-06-03T22:12:10.747Z"
   },
   {
    "duration": 411,
    "start_time": "2024-06-03T22:15:26.827Z"
   },
   {
    "duration": 427,
    "start_time": "2024-06-03T22:16:47.705Z"
   },
   {
    "duration": 518,
    "start_time": "2024-06-03T22:25:04.717Z"
   },
   {
    "duration": 854,
    "start_time": "2024-06-03T22:25:30.245Z"
   },
   {
    "duration": 738,
    "start_time": "2024-06-03T22:26:00.235Z"
   },
   {
    "duration": 519,
    "start_time": "2024-06-03T22:26:26.804Z"
   },
   {
    "duration": 23,
    "start_time": "2024-06-03T22:43:54.840Z"
   },
   {
    "duration": 160,
    "start_time": "2024-06-03T22:44:02.620Z"
   },
   {
    "duration": 122,
    "start_time": "2024-06-03T22:46:32.360Z"
   },
   {
    "duration": 251,
    "start_time": "2024-06-03T22:46:47.229Z"
   },
   {
    "duration": 75,
    "start_time": "2024-06-03T22:46:56.909Z"
   },
   {
    "duration": 243,
    "start_time": "2024-06-03T22:47:01.939Z"
   },
   {
    "duration": 64,
    "start_time": "2024-06-03T22:47:11.417Z"
   },
   {
    "duration": 4,
    "start_time": "2024-06-03T22:48:17.930Z"
   },
   {
    "duration": 6,
    "start_time": "2024-06-03T22:51:15.207Z"
   },
   {
    "duration": 19,
    "start_time": "2024-06-03T22:51:22.379Z"
   },
   {
    "duration": 8,
    "start_time": "2024-06-03T22:51:29.275Z"
   },
   {
    "duration": 20,
    "start_time": "2024-06-03T22:52:10.810Z"
   },
   {
    "duration": 8,
    "start_time": "2024-06-03T22:52:15.938Z"
   },
   {
    "duration": 5,
    "start_time": "2024-06-03T22:52:47.181Z"
   },
   {
    "duration": 9,
    "start_time": "2024-06-03T22:53:37.357Z"
   },
   {
    "duration": 4,
    "start_time": "2024-06-03T22:53:58.716Z"
   },
   {
    "duration": 12,
    "start_time": "2024-06-03T22:54:08.140Z"
   },
   {
    "duration": 5,
    "start_time": "2024-06-03T22:54:15.899Z"
   },
   {
    "duration": 5,
    "start_time": "2024-06-03T22:54:55.442Z"
   },
   {
    "duration": 6,
    "start_time": "2024-06-03T22:55:04.759Z"
   },
   {
    "duration": 4,
    "start_time": "2024-06-03T22:55:08.659Z"
   },
   {
    "duration": 16,
    "start_time": "2024-06-03T23:05:17.198Z"
   },
   {
    "duration": 8118,
    "start_time": "2024-06-03T23:06:13.976Z"
   },
   {
    "duration": 21,
    "start_time": "2024-06-03T23:06:24.823Z"
   },
   {
    "duration": 7963,
    "start_time": "2024-06-03T23:06:45.962Z"
   },
   {
    "duration": 7,
    "start_time": "2024-06-03T23:07:03.031Z"
   },
   {
    "duration": 6,
    "start_time": "2024-06-03T23:08:39.903Z"
   },
   {
    "duration": 19,
    "start_time": "2024-06-03T23:09:37.624Z"
   },
   {
    "duration": 60356,
    "start_time": "2024-06-03T23:09:52.964Z"
   },
   {
    "duration": 33,
    "start_time": "2024-06-03T23:22:39.176Z"
   },
   {
    "duration": 1417,
    "start_time": "2024-06-03T23:27:46.882Z"
   },
   {
    "duration": 1497,
    "start_time": "2024-06-03T23:28:06.113Z"
   },
   {
    "duration": 79,
    "start_time": "2024-06-03T23:28:07.611Z"
   },
   {
    "duration": 4,
    "start_time": "2024-06-03T23:28:07.782Z"
   },
   {
    "duration": 94,
    "start_time": "2024-06-03T23:28:07.789Z"
   },
   {
    "duration": 5,
    "start_time": "2024-06-03T23:28:07.886Z"
   },
   {
    "duration": 8,
    "start_time": "2024-06-03T23:28:07.892Z"
   },
   {
    "duration": 641,
    "start_time": "2024-06-03T23:29:07.820Z"
   },
   {
    "duration": 1437,
    "start_time": "2024-06-03T23:29:08.462Z"
   },
   {
    "duration": 179,
    "start_time": "2024-06-03T23:29:09.901Z"
   },
   {
    "duration": 4,
    "start_time": "2024-06-03T23:29:10.083Z"
   },
   {
    "duration": 95,
    "start_time": "2024-06-03T23:29:10.089Z"
   },
   {
    "duration": 6,
    "start_time": "2024-06-03T23:29:10.185Z"
   },
   {
    "duration": 8,
    "start_time": "2024-06-03T23:29:10.194Z"
   },
   {
    "duration": 59667,
    "start_time": "2024-06-03T23:29:10.204Z"
   },
   {
    "duration": 8351,
    "start_time": "2024-06-03T23:30:50.967Z"
   },
   {
    "duration": 82,
    "start_time": "2024-06-03T23:30:59.321Z"
   },
   {
    "duration": 20,
    "start_time": "2024-06-03T23:30:59.405Z"
   },
   {
    "duration": 59,
    "start_time": "2024-06-03T23:30:59.479Z"
   },
   {
    "duration": 50,
    "start_time": "2024-06-03T23:30:59.540Z"
   },
   {
    "duration": 21,
    "start_time": "2024-06-03T23:30:59.592Z"
   },
   {
    "duration": 73,
    "start_time": "2024-06-03T23:30:59.614Z"
   },
   {
    "duration": 9,
    "start_time": "2024-06-03T23:30:59.689Z"
   },
   {
    "duration": 9,
    "start_time": "2024-06-03T23:30:59.700Z"
   },
   {
    "duration": 73,
    "start_time": "2024-06-03T23:30:59.712Z"
   },
   {
    "duration": 39,
    "start_time": "2024-06-03T23:30:59.786Z"
   },
   {
    "duration": 591,
    "start_time": "2024-06-03T23:30:59.826Z"
   },
   {
    "duration": 6,
    "start_time": "2024-06-03T23:31:00.419Z"
   },
   {
    "duration": 636,
    "start_time": "2024-06-03T23:31:00.427Z"
   },
   {
    "duration": 30,
    "start_time": "2024-06-03T23:31:01.065Z"
   },
   {
    "duration": 1362,
    "start_time": "2024-06-03T23:31:01.097Z"
   },
   {
    "duration": 4,
    "start_time": "2024-06-03T23:31:02.461Z"
   },
   {
    "duration": 53,
    "start_time": "2024-06-03T23:31:02.466Z"
   },
   {
    "duration": 46,
    "start_time": "2024-06-03T23:31:02.521Z"
   },
   {
    "duration": 31,
    "start_time": "2024-06-03T23:31:02.568Z"
   },
   {
    "duration": 4,
    "start_time": "2024-06-03T23:31:02.601Z"
   },
   {
    "duration": 16,
    "start_time": "2024-06-03T23:31:02.607Z"
   },
   {
    "duration": 5,
    "start_time": "2024-06-03T23:31:02.625Z"
   },
   {
    "duration": 1752,
    "start_time": "2024-06-03T23:31:02.632Z"
   },
   {
    "duration": 92,
    "start_time": "2024-06-03T23:31:04.389Z"
   },
   {
    "duration": 100456,
    "start_time": "2024-06-03T23:31:04.483Z"
   },
   {
    "duration": 37,
    "start_time": "2024-06-03T23:32:44.941Z"
   },
   {
    "duration": 52,
    "start_time": "2024-06-03T23:32:44.981Z"
   },
   {
    "duration": 11,
    "start_time": "2024-06-03T23:32:45.034Z"
   },
   {
    "duration": 36,
    "start_time": "2024-06-03T23:32:45.047Z"
   },
   {
    "duration": 29,
    "start_time": "2024-06-03T23:32:45.085Z"
   },
   {
    "duration": 31,
    "start_time": "2024-06-03T23:32:45.115Z"
   },
   {
    "duration": 26,
    "start_time": "2024-06-03T23:32:45.148Z"
   },
   {
    "duration": 15,
    "start_time": "2024-06-03T23:32:45.176Z"
   },
   {
    "duration": 126,
    "start_time": "2024-06-03T23:32:45.193Z"
   },
   {
    "duration": 290,
    "start_time": "2024-06-03T23:32:45.321Z"
   },
   {
    "duration": 451,
    "start_time": "2024-06-03T23:32:45.612Z"
   },
   {
    "duration": 508,
    "start_time": "2024-06-03T23:32:46.064Z"
   },
   {
    "duration": 108,
    "start_time": "2024-06-03T23:32:46.579Z"
   },
   {
    "duration": 93,
    "start_time": "2024-06-03T23:32:46.689Z"
   },
   {
    "duration": 100,
    "start_time": "2024-06-03T23:32:46.784Z"
   },
   {
    "duration": 9,
    "start_time": "2024-06-03T23:32:46.885Z"
   },
   {
    "duration": 6,
    "start_time": "2024-06-03T23:32:46.895Z"
   },
   {
    "duration": 60223,
    "start_time": "2024-06-03T23:32:46.903Z"
   },
   {
    "duration": 609,
    "start_time": "2024-06-04T00:00:37.943Z"
   },
   {
    "duration": 568,
    "start_time": "2024-06-04T00:00:55.483Z"
   },
   {
    "duration": 13,
    "start_time": "2024-06-04T00:02:20.722Z"
   },
   {
    "duration": 12,
    "start_time": "2024-06-04T00:03:27.037Z"
   },
   {
    "duration": 11,
    "start_time": "2024-06-04T00:07:32.925Z"
   },
   {
    "duration": 13,
    "start_time": "2024-06-04T00:07:36.605Z"
   },
   {
    "duration": 29,
    "start_time": "2024-06-04T00:09:48.561Z"
   },
   {
    "duration": 7809,
    "start_time": "2024-06-04T00:34:18.647Z"
   },
   {
    "duration": 50,
    "start_time": "2024-06-04T00:34:26.458Z"
   },
   {
    "duration": 15,
    "start_time": "2024-06-04T00:34:26.510Z"
   },
   {
    "duration": 64,
    "start_time": "2024-06-04T00:34:26.526Z"
   },
   {
    "duration": 11,
    "start_time": "2024-06-04T00:34:26.592Z"
   },
   {
    "duration": 23,
    "start_time": "2024-06-04T00:34:26.605Z"
   },
   {
    "duration": 19,
    "start_time": "2024-06-04T00:34:26.630Z"
   },
   {
    "duration": 39,
    "start_time": "2024-06-04T00:34:26.651Z"
   },
   {
    "duration": 20,
    "start_time": "2024-06-04T00:34:26.692Z"
   },
   {
    "duration": 11,
    "start_time": "2024-06-04T00:34:26.713Z"
   },
   {
    "duration": 11,
    "start_time": "2024-06-04T00:34:26.725Z"
   },
   {
    "duration": 467,
    "start_time": "2024-06-04T00:34:26.738Z"
   },
   {
    "duration": 6,
    "start_time": "2024-06-04T00:34:27.207Z"
   },
   {
    "duration": 511,
    "start_time": "2024-06-04T00:34:27.216Z"
   },
   {
    "duration": 20,
    "start_time": "2024-06-04T00:34:27.729Z"
   },
   {
    "duration": 1276,
    "start_time": "2024-06-04T00:34:27.750Z"
   },
   {
    "duration": 4,
    "start_time": "2024-06-04T00:34:29.028Z"
   },
   {
    "duration": 27,
    "start_time": "2024-06-04T00:34:29.033Z"
   },
   {
    "duration": 10,
    "start_time": "2024-06-04T00:34:29.061Z"
   },
   {
    "duration": 10,
    "start_time": "2024-06-04T00:34:29.072Z"
   },
   {
    "duration": 3,
    "start_time": "2024-06-04T00:34:29.083Z"
   },
   {
    "duration": 7,
    "start_time": "2024-06-04T00:34:29.088Z"
   },
   {
    "duration": 11,
    "start_time": "2024-06-04T00:34:29.096Z"
   },
   {
    "duration": 1579,
    "start_time": "2024-06-04T00:34:29.109Z"
   },
   {
    "duration": 91,
    "start_time": "2024-06-04T00:34:30.690Z"
   },
   {
    "duration": 96848,
    "start_time": "2024-06-04T00:34:30.783Z"
   },
   {
    "duration": 39,
    "start_time": "2024-06-04T00:36:07.632Z"
   },
   {
    "duration": 51,
    "start_time": "2024-06-04T00:36:07.672Z"
   },
   {
    "duration": 11,
    "start_time": "2024-06-04T00:36:07.724Z"
   },
   {
    "duration": 23,
    "start_time": "2024-06-04T00:36:07.737Z"
   },
   {
    "duration": 9,
    "start_time": "2024-06-04T00:36:07.762Z"
   },
   {
    "duration": 22,
    "start_time": "2024-06-04T00:36:07.772Z"
   },
   {
    "duration": 9,
    "start_time": "2024-06-04T00:36:07.795Z"
   },
   {
    "duration": 9,
    "start_time": "2024-06-04T00:36:07.806Z"
   },
   {
    "duration": 118,
    "start_time": "2024-06-04T00:36:07.816Z"
   },
   {
    "duration": 447,
    "start_time": "2024-06-04T00:36:07.936Z"
   },
   {
    "duration": 484,
    "start_time": "2024-06-04T00:36:08.384Z"
   },
   {
    "duration": 532,
    "start_time": "2024-06-04T00:36:08.870Z"
   },
   {
    "duration": 87,
    "start_time": "2024-06-04T00:36:09.403Z"
   },
   {
    "duration": 94,
    "start_time": "2024-06-04T00:36:09.587Z"
   },
   {
    "duration": 11,
    "start_time": "2024-06-04T00:36:09.684Z"
   },
   {
    "duration": 6,
    "start_time": "2024-06-04T00:36:09.696Z"
   },
   {
    "duration": 7,
    "start_time": "2024-06-04T00:36:09.703Z"
   },
   {
    "duration": 58111,
    "start_time": "2024-06-04T00:36:09.711Z"
   },
   {
    "duration": 18002,
    "start_time": "2024-06-04T10:15:31.521Z"
   },
   {
    "duration": 96,
    "start_time": "2024-06-04T10:15:49.526Z"
   },
   {
    "duration": 17,
    "start_time": "2024-06-04T10:15:49.624Z"
   },
   {
    "duration": 155,
    "start_time": "2024-06-04T10:15:49.643Z"
   },
   {
    "duration": 11,
    "start_time": "2024-06-04T10:15:49.801Z"
   },
   {
    "duration": 22,
    "start_time": "2024-06-04T10:15:49.814Z"
   },
   {
    "duration": 28,
    "start_time": "2024-06-04T10:15:49.837Z"
   },
   {
    "duration": 13,
    "start_time": "2024-06-04T10:15:49.867Z"
   },
   {
    "duration": 13,
    "start_time": "2024-06-04T10:15:49.882Z"
   },
   {
    "duration": 10,
    "start_time": "2024-06-04T10:15:49.896Z"
   },
   {
    "duration": 16,
    "start_time": "2024-06-04T10:15:49.907Z"
   },
   {
    "duration": 840,
    "start_time": "2024-06-04T10:15:49.925Z"
   },
   {
    "duration": 5,
    "start_time": "2024-06-04T10:15:50.767Z"
   },
   {
    "duration": 990,
    "start_time": "2024-06-04T10:15:50.775Z"
   },
   {
    "duration": 24,
    "start_time": "2024-06-04T10:15:51.767Z"
   },
   {
    "duration": 1390,
    "start_time": "2024-06-04T10:15:51.792Z"
   },
   {
    "duration": 2,
    "start_time": "2024-06-04T10:15:53.184Z"
   },
   {
    "duration": 6,
    "start_time": "2024-06-04T10:15:53.188Z"
   },
   {
    "duration": 7,
    "start_time": "2024-06-04T10:15:53.195Z"
   },
   {
    "duration": 6,
    "start_time": "2024-06-04T10:15:53.204Z"
   },
   {
    "duration": 7,
    "start_time": "2024-06-04T10:15:53.211Z"
   },
   {
    "duration": 4,
    "start_time": "2024-06-04T10:15:53.219Z"
   },
   {
    "duration": 12,
    "start_time": "2024-06-04T10:15:53.225Z"
   },
   {
    "duration": 1830,
    "start_time": "2024-06-04T10:15:53.239Z"
   },
   {
    "duration": 92,
    "start_time": "2024-06-04T10:15:55.074Z"
   },
   {
    "duration": 93772,
    "start_time": "2024-06-04T10:15:55.167Z"
   },
   {
    "duration": 86,
    "start_time": "2024-06-04T10:17:28.940Z"
   },
   {
    "duration": 103,
    "start_time": "2024-06-04T10:17:29.027Z"
   },
   {
    "duration": 10,
    "start_time": "2024-06-04T10:17:29.132Z"
   },
   {
    "duration": 11,
    "start_time": "2024-06-04T10:17:29.144Z"
   },
   {
    "duration": 10,
    "start_time": "2024-06-04T10:17:29.156Z"
   },
   {
    "duration": 10,
    "start_time": "2024-06-04T10:17:29.168Z"
   },
   {
    "duration": 15,
    "start_time": "2024-06-04T10:17:29.180Z"
   },
   {
    "duration": 7,
    "start_time": "2024-06-04T10:17:29.197Z"
   },
   {
    "duration": 129,
    "start_time": "2024-06-04T10:17:29.205Z"
   },
   {
    "duration": 300,
    "start_time": "2024-06-04T10:17:29.335Z"
   },
   {
    "duration": 445,
    "start_time": "2024-06-04T10:17:29.637Z"
   },
   {
    "duration": 619,
    "start_time": "2024-06-04T10:17:30.083Z"
   },
   {
    "duration": 167,
    "start_time": "2024-06-04T10:17:30.703Z"
   },
   {
    "duration": 245,
    "start_time": "2024-06-04T10:17:30.872Z"
   },
   {
    "duration": 68,
    "start_time": "2024-06-04T10:17:31.122Z"
   },
   {
    "duration": 47,
    "start_time": "2024-06-04T10:17:31.192Z"
   },
   {
    "duration": 41,
    "start_time": "2024-06-04T10:17:31.241Z"
   },
   {
    "duration": 56270,
    "start_time": "2024-06-04T10:17:31.284Z"
   },
   {
    "duration": 14276,
    "start_time": "2024-06-05T18:51:01.716Z"
   },
   {
    "duration": 7585,
    "start_time": "2024-06-05T18:51:17.528Z"
   },
   {
    "duration": 1991,
    "start_time": "2024-06-05T18:51:39.947Z"
   },
   {
    "duration": 86,
    "start_time": "2024-06-05T18:51:44.028Z"
   },
   {
    "duration": 15,
    "start_time": "2024-06-05T18:51:44.116Z"
   },
   {
    "duration": 290,
    "start_time": "2024-06-05T18:51:44.133Z"
   },
   {
    "duration": 12,
    "start_time": "2024-06-05T18:51:44.425Z"
   },
   {
    "duration": 149,
    "start_time": "2024-06-05T18:51:44.438Z"
   },
   {
    "duration": 96,
    "start_time": "2024-06-05T18:51:44.588Z"
   },
   {
    "duration": 45,
    "start_time": "2024-06-05T18:51:44.686Z"
   },
   {
    "duration": 14,
    "start_time": "2024-06-05T18:51:44.733Z"
   },
   {
    "duration": 12,
    "start_time": "2024-06-05T18:51:44.749Z"
   },
   {
    "duration": 13,
    "start_time": "2024-06-05T18:51:44.764Z"
   },
   {
    "duration": 516,
    "start_time": "2024-06-05T18:51:44.778Z"
   },
   {
    "duration": 6,
    "start_time": "2024-06-05T18:51:45.296Z"
   },
   {
    "duration": 503,
    "start_time": "2024-06-05T18:51:45.303Z"
   },
   {
    "duration": 20,
    "start_time": "2024-06-05T18:51:45.807Z"
   },
   {
    "duration": 2353,
    "start_time": "2024-06-05T18:51:45.828Z"
   },
   {
    "duration": 3,
    "start_time": "2024-06-05T18:51:48.182Z"
   },
   {
    "duration": 59,
    "start_time": "2024-06-05T18:51:48.187Z"
   },
   {
    "duration": 13,
    "start_time": "2024-06-05T18:51:48.248Z"
   },
   {
    "duration": 13,
    "start_time": "2024-06-05T18:51:48.263Z"
   },
   {
    "duration": 7,
    "start_time": "2024-06-05T18:51:48.277Z"
   },
   {
    "duration": 7,
    "start_time": "2024-06-05T18:51:48.285Z"
   },
   {
    "duration": 9,
    "start_time": "2024-06-05T18:51:48.294Z"
   },
   {
    "duration": 2304,
    "start_time": "2024-06-05T18:51:48.344Z"
   },
   {
    "duration": 6,
    "start_time": "2024-06-05T18:51:50.650Z"
   },
   {
    "duration": 93022,
    "start_time": "2024-06-05T18:51:50.658Z"
   },
   {
    "duration": 81,
    "start_time": "2024-06-05T18:53:23.681Z"
   },
   {
    "duration": 105,
    "start_time": "2024-06-05T18:53:23.764Z"
   },
   {
    "duration": 12,
    "start_time": "2024-06-05T18:53:23.873Z"
   },
   {
    "duration": 24,
    "start_time": "2024-06-05T18:53:23.886Z"
   },
   {
    "duration": 31,
    "start_time": "2024-06-05T18:53:23.912Z"
   },
   {
    "duration": 11,
    "start_time": "2024-06-05T18:53:23.944Z"
   },
   {
    "duration": 39,
    "start_time": "2024-06-05T18:53:23.957Z"
   },
   {
    "duration": 51,
    "start_time": "2024-06-05T18:53:23.998Z"
   },
   {
    "duration": 115,
    "start_time": "2024-06-05T18:53:24.050Z"
   },
   {
    "duration": 282,
    "start_time": "2024-06-05T18:53:24.166Z"
   },
   {
    "duration": 440,
    "start_time": "2024-06-05T18:53:24.450Z"
   },
   {
    "duration": 575,
    "start_time": "2024-06-05T18:53:24.891Z"
   },
   {
    "duration": 78,
    "start_time": "2024-06-05T18:53:25.468Z"
   },
   {
    "duration": 197,
    "start_time": "2024-06-05T18:53:25.549Z"
   },
   {
    "duration": 20,
    "start_time": "2024-06-05T18:53:25.747Z"
   },
   {
    "duration": 39,
    "start_time": "2024-06-05T18:53:25.769Z"
   },
   {
    "duration": 22,
    "start_time": "2024-06-05T18:53:25.810Z"
   },
   {
    "duration": 55935,
    "start_time": "2024-06-05T18:53:25.834Z"
   },
   {
    "duration": 3,
    "start_time": "2024-06-05T18:54:21.771Z"
   },
   {
    "duration": 21,
    "start_time": "2024-06-05T18:59:42.959Z"
   },
   {
    "duration": 8,
    "start_time": "2024-06-05T19:00:33.168Z"
   },
   {
    "duration": 5,
    "start_time": "2024-06-05T19:00:33.178Z"
   },
   {
    "duration": 27,
    "start_time": "2024-06-05T19:00:33.184Z"
   },
   {
    "duration": 18,
    "start_time": "2024-06-05T19:00:33.212Z"
   },
   {
    "duration": 9,
    "start_time": "2024-06-05T19:00:33.232Z"
   },
   {
    "duration": 25,
    "start_time": "2024-06-05T19:00:33.243Z"
   },
   {
    "duration": 16,
    "start_time": "2024-06-05T19:00:33.270Z"
   },
   {
    "duration": 52,
    "start_time": "2024-06-05T19:00:33.288Z"
   },
   {
    "duration": 427,
    "start_time": "2024-06-05T19:00:33.342Z"
   },
   {
    "duration": 6,
    "start_time": "2024-06-05T19:00:33.770Z"
   },
   {
    "duration": 452,
    "start_time": "2024-06-05T19:00:33.778Z"
   },
   {
    "duration": 27,
    "start_time": "2024-06-05T19:00:34.231Z"
   },
   {
    "duration": 1160,
    "start_time": "2024-06-05T19:00:34.261Z"
   },
   {
    "duration": 3,
    "start_time": "2024-06-05T19:00:35.422Z"
   },
   {
    "duration": 31,
    "start_time": "2024-06-05T19:00:35.426Z"
   },
   {
    "duration": 6,
    "start_time": "2024-06-05T19:00:35.458Z"
   },
   {
    "duration": 9,
    "start_time": "2024-06-05T19:00:35.465Z"
   },
   {
    "duration": 18,
    "start_time": "2024-06-05T19:00:35.475Z"
   },
   {
    "duration": 27,
    "start_time": "2024-06-05T19:00:35.496Z"
   },
   {
    "duration": 25,
    "start_time": "2024-06-05T19:00:35.525Z"
   },
   {
    "duration": 1494,
    "start_time": "2024-06-05T19:00:35.551Z"
   },
   {
    "duration": 5,
    "start_time": "2024-06-05T19:00:37.048Z"
   },
   {
    "duration": 20,
    "start_time": "2024-06-05T19:03:12.060Z"
   },
   {
    "duration": 89,
    "start_time": "2024-06-05T19:03:12.082Z"
   },
   {
    "duration": 9,
    "start_time": "2024-06-05T19:03:12.172Z"
   },
   {
    "duration": 8,
    "start_time": "2024-06-05T19:03:12.183Z"
   },
   {
    "duration": 12,
    "start_time": "2024-06-05T19:03:12.193Z"
   },
   {
    "duration": 32,
    "start_time": "2024-06-05T19:03:12.206Z"
   },
   {
    "duration": 553,
    "start_time": "2024-06-05T19:03:12.240Z"
   },
   {
    "duration": 7,
    "start_time": "2024-06-05T19:03:12.795Z"
   },
   {
    "duration": 474,
    "start_time": "2024-06-05T19:03:12.804Z"
   },
   {
    "duration": 19,
    "start_time": "2024-06-05T19:03:13.280Z"
   },
   {
    "duration": 1139,
    "start_time": "2024-06-05T19:03:13.301Z"
   },
   {
    "duration": 4,
    "start_time": "2024-06-05T19:03:14.441Z"
   },
   {
    "duration": 7,
    "start_time": "2024-06-05T19:03:14.446Z"
   },
   {
    "duration": 6,
    "start_time": "2024-06-05T19:03:14.454Z"
   },
   {
    "duration": 15,
    "start_time": "2024-06-05T19:03:14.461Z"
   },
   {
    "duration": 4,
    "start_time": "2024-06-05T19:03:14.477Z"
   },
   {
    "duration": 6,
    "start_time": "2024-06-05T19:03:14.482Z"
   },
   {
    "duration": 5,
    "start_time": "2024-06-05T19:03:14.489Z"
   },
   {
    "duration": 1450,
    "start_time": "2024-06-05T19:03:14.495Z"
   },
   {
    "duration": 7,
    "start_time": "2024-06-05T19:03:15.947Z"
   },
   {
    "duration": 95228,
    "start_time": "2024-06-05T19:03:16.044Z"
   },
   {
    "duration": 36,
    "start_time": "2024-06-05T19:04:51.274Z"
   },
   {
    "duration": 50,
    "start_time": "2024-06-05T19:04:51.311Z"
   },
   {
    "duration": 11,
    "start_time": "2024-06-05T19:04:51.363Z"
   },
   {
    "duration": 35,
    "start_time": "2024-06-05T19:04:51.375Z"
   },
   {
    "duration": 30,
    "start_time": "2024-06-05T19:04:51.411Z"
   },
   {
    "duration": 17,
    "start_time": "2024-06-05T19:04:51.443Z"
   },
   {
    "duration": 45,
    "start_time": "2024-06-05T19:04:51.462Z"
   },
   {
    "duration": 39,
    "start_time": "2024-06-05T19:04:51.509Z"
   },
   {
    "duration": 141,
    "start_time": "2024-06-05T19:04:51.550Z"
   },
   {
    "duration": 281,
    "start_time": "2024-06-05T19:04:51.693Z"
   },
   {
    "duration": 550,
    "start_time": "2024-06-05T19:04:51.976Z"
   },
   {
    "duration": 476,
    "start_time": "2024-06-05T19:04:52.528Z"
   },
   {
    "duration": 240,
    "start_time": "2024-06-05T19:04:53.005Z"
   },
   {
    "duration": 5,
    "start_time": "2024-06-05T19:04:53.248Z"
   },
   {
    "duration": 101,
    "start_time": "2024-06-05T19:04:53.255Z"
   },
   {
    "duration": 10,
    "start_time": "2024-06-05T19:04:53.357Z"
   },
   {
    "duration": 19,
    "start_time": "2024-06-05T19:04:53.368Z"
   },
   {
    "duration": 57693,
    "start_time": "2024-06-05T19:04:53.389Z"
   },
   {
    "duration": 19,
    "start_time": "2024-06-05T19:06:19.714Z"
   },
   {
    "duration": 138,
    "start_time": "2024-06-05T19:08:33.776Z"
   },
   {
    "duration": 15,
    "start_time": "2024-06-05T19:08:48.635Z"
   },
   {
    "duration": 27,
    "start_time": "2024-06-05T19:08:57.304Z"
   },
   {
    "duration": 17,
    "start_time": "2024-06-05T19:08:57.333Z"
   },
   {
    "duration": 0,
    "start_time": "2024-06-05T19:08:57.351Z"
   },
   {
    "duration": 0,
    "start_time": "2024-06-05T19:08:57.353Z"
   },
   {
    "duration": 0,
    "start_time": "2024-06-05T19:08:57.354Z"
   },
   {
    "duration": 0,
    "start_time": "2024-06-05T19:08:57.355Z"
   },
   {
    "duration": 0,
    "start_time": "2024-06-05T19:08:57.356Z"
   },
   {
    "duration": 0,
    "start_time": "2024-06-05T19:08:57.357Z"
   },
   {
    "duration": 0,
    "start_time": "2024-06-05T19:08:57.358Z"
   },
   {
    "duration": 0,
    "start_time": "2024-06-05T19:08:57.359Z"
   },
   {
    "duration": 0,
    "start_time": "2024-06-05T19:08:57.361Z"
   },
   {
    "duration": 4,
    "start_time": "2024-06-05T19:08:57.363Z"
   },
   {
    "duration": 9,
    "start_time": "2024-06-05T19:08:57.373Z"
   },
   {
    "duration": 22,
    "start_time": "2024-06-05T19:08:57.385Z"
   },
   {
    "duration": 9,
    "start_time": "2024-06-05T19:08:57.409Z"
   },
   {
    "duration": 17,
    "start_time": "2024-06-05T19:08:57.419Z"
   },
   {
    "duration": 15,
    "start_time": "2024-06-05T19:08:57.446Z"
   },
   {
    "duration": 42,
    "start_time": "2024-06-05T19:08:57.463Z"
   },
   {
    "duration": 1572,
    "start_time": "2024-06-05T19:08:57.507Z"
   },
   {
    "duration": 73,
    "start_time": "2024-06-05T19:08:59.081Z"
   },
   {
    "duration": 96955,
    "start_time": "2024-06-05T19:08:59.156Z"
   },
   {
    "duration": 40,
    "start_time": "2024-06-05T19:10:36.113Z"
   },
   {
    "duration": 52,
    "start_time": "2024-06-05T19:10:36.155Z"
   },
   {
    "duration": 14,
    "start_time": "2024-06-05T19:10:36.209Z"
   },
   {
    "duration": 24,
    "start_time": "2024-06-05T19:10:36.224Z"
   },
   {
    "duration": 13,
    "start_time": "2024-06-05T19:10:36.249Z"
   },
   {
    "duration": 10,
    "start_time": "2024-06-05T19:10:36.264Z"
   },
   {
    "duration": 12,
    "start_time": "2024-06-05T19:10:36.275Z"
   },
   {
    "duration": 16,
    "start_time": "2024-06-05T19:10:36.288Z"
   },
   {
    "duration": 122,
    "start_time": "2024-06-05T19:10:36.305Z"
   },
   {
    "duration": 281,
    "start_time": "2024-06-05T19:10:36.429Z"
   },
   {
    "duration": 538,
    "start_time": "2024-06-05T19:10:36.712Z"
   },
   {
    "duration": 558,
    "start_time": "2024-06-05T19:10:37.252Z"
   },
   {
    "duration": 233,
    "start_time": "2024-06-05T19:10:37.812Z"
   },
   {
    "duration": 5,
    "start_time": "2024-06-05T19:10:38.047Z"
   },
   {
    "duration": 90,
    "start_time": "2024-06-05T19:10:38.055Z"
   },
   {
    "duration": 17,
    "start_time": "2024-06-05T19:10:38.147Z"
   },
   {
    "duration": 7,
    "start_time": "2024-06-05T19:10:38.166Z"
   },
   {
    "duration": 56781,
    "start_time": "2024-06-05T19:10:38.176Z"
   },
   {
    "duration": 22,
    "start_time": "2024-06-05T19:12:04.549Z"
   },
   {
    "duration": 27,
    "start_time": "2024-06-05T19:12:39.356Z"
   },
   {
    "duration": 22,
    "start_time": "2024-06-05T19:13:13.391Z"
   },
   {
    "duration": 20,
    "start_time": "2024-06-05T19:13:37.162Z"
   },
   {
    "duration": 16,
    "start_time": "2024-06-05T19:14:02.585Z"
   },
   {
    "duration": 20,
    "start_time": "2024-06-05T19:14:50.913Z"
   },
   {
    "duration": 21,
    "start_time": "2024-06-05T19:19:45.390Z"
   },
   {
    "duration": 23,
    "start_time": "2024-06-05T19:20:04.958Z"
   },
   {
    "duration": 27,
    "start_time": "2024-06-05T19:20:23.718Z"
   },
   {
    "duration": 20,
    "start_time": "2024-06-05T19:20:45.675Z"
   },
   {
    "duration": 31,
    "start_time": "2024-06-05T19:20:45.696Z"
   },
   {
    "duration": 10,
    "start_time": "2024-06-05T19:20:45.729Z"
   },
   {
    "duration": 12,
    "start_time": "2024-06-05T19:20:45.740Z"
   },
   {
    "duration": 16,
    "start_time": "2024-06-05T19:20:45.754Z"
   },
   {
    "duration": 27,
    "start_time": "2024-06-05T19:20:45.771Z"
   },
   {
    "duration": 438,
    "start_time": "2024-06-05T19:20:45.800Z"
   },
   {
    "duration": 9,
    "start_time": "2024-06-05T19:20:46.239Z"
   },
   {
    "duration": 453,
    "start_time": "2024-06-05T19:20:46.251Z"
   },
   {
    "duration": 19,
    "start_time": "2024-06-05T19:20:46.706Z"
   },
   {
    "duration": 1214,
    "start_time": "2024-06-05T19:20:46.727Z"
   },
   {
    "duration": 3,
    "start_time": "2024-06-05T19:20:47.945Z"
   },
   {
    "duration": 6,
    "start_time": "2024-06-05T19:20:47.950Z"
   },
   {
    "duration": 14,
    "start_time": "2024-06-05T19:20:47.957Z"
   },
   {
    "duration": 23,
    "start_time": "2024-06-05T19:20:47.972Z"
   },
   {
    "duration": 13,
    "start_time": "2024-06-05T19:20:47.996Z"
   },
   {
    "duration": 34,
    "start_time": "2024-06-05T19:20:48.011Z"
   },
   {
    "duration": 18,
    "start_time": "2024-06-05T19:20:48.047Z"
   },
   {
    "duration": 2488,
    "start_time": "2024-06-05T19:20:48.067Z"
   },
   {
    "duration": 6,
    "start_time": "2024-06-05T19:20:50.559Z"
   },
   {
    "duration": 93637,
    "start_time": "2024-06-05T19:20:50.567Z"
   },
   {
    "duration": 36,
    "start_time": "2024-06-05T19:22:24.205Z"
   },
   {
    "duration": 70,
    "start_time": "2024-06-05T19:22:24.244Z"
   },
   {
    "duration": 11,
    "start_time": "2024-06-05T19:22:24.316Z"
   },
   {
    "duration": 30,
    "start_time": "2024-06-05T19:22:24.328Z"
   },
   {
    "duration": 25,
    "start_time": "2024-06-05T19:22:24.359Z"
   },
   {
    "duration": 30,
    "start_time": "2024-06-05T19:22:24.386Z"
   },
   {
    "duration": 13,
    "start_time": "2024-06-05T19:22:24.417Z"
   },
   {
    "duration": 20,
    "start_time": "2024-06-05T19:22:24.431Z"
   },
   {
    "duration": 119,
    "start_time": "2024-06-05T19:22:24.452Z"
   },
   {
    "duration": 275,
    "start_time": "2024-06-05T19:22:24.573Z"
   },
   {
    "duration": 434,
    "start_time": "2024-06-05T19:22:24.850Z"
   },
   {
    "duration": 462,
    "start_time": "2024-06-05T19:22:25.286Z"
   },
   {
    "duration": 97,
    "start_time": "2024-06-05T19:22:25.750Z"
   },
   {
    "duration": 4,
    "start_time": "2024-06-05T19:22:25.849Z"
   },
   {
    "duration": 99,
    "start_time": "2024-06-05T19:22:25.854Z"
   },
   {
    "duration": 93,
    "start_time": "2024-06-05T19:22:25.955Z"
   },
   {
    "duration": 33,
    "start_time": "2024-06-05T19:22:26.049Z"
   },
   {
    "duration": 72,
    "start_time": "2024-06-05T19:23:22.758Z"
   },
   {
    "duration": 32,
    "start_time": "2024-06-05T19:23:22.832Z"
   },
   {
    "duration": 21,
    "start_time": "2024-06-05T19:23:22.865Z"
   },
   {
    "duration": 22,
    "start_time": "2024-06-05T19:23:22.888Z"
   },
   {
    "duration": 16,
    "start_time": "2024-06-05T19:23:22.912Z"
   },
   {
    "duration": 13,
    "start_time": "2024-06-05T19:23:22.930Z"
   },
   {
    "duration": 576,
    "start_time": "2024-06-05T19:23:22.945Z"
   },
   {
    "duration": 7,
    "start_time": "2024-06-05T19:23:23.522Z"
   },
   {
    "duration": 472,
    "start_time": "2024-06-05T19:23:23.531Z"
   },
   {
    "duration": 22,
    "start_time": "2024-06-05T19:23:24.004Z"
   },
   {
    "duration": 1201,
    "start_time": "2024-06-05T19:23:24.027Z"
   },
   {
    "duration": 3,
    "start_time": "2024-06-05T19:23:25.230Z"
   },
   {
    "duration": 18,
    "start_time": "2024-06-05T19:23:25.234Z"
   },
   {
    "duration": 7,
    "start_time": "2024-06-05T19:23:25.253Z"
   },
   {
    "duration": 18,
    "start_time": "2024-06-05T19:23:25.261Z"
   },
   {
    "duration": 3,
    "start_time": "2024-06-05T19:23:25.280Z"
   },
   {
    "duration": 9,
    "start_time": "2024-06-05T19:23:25.285Z"
   },
   {
    "duration": 5,
    "start_time": "2024-06-05T19:23:25.296Z"
   },
   {
    "duration": 1345,
    "start_time": "2024-06-05T19:23:25.303Z"
   },
   {
    "duration": 95,
    "start_time": "2024-06-05T19:23:26.650Z"
   },
   {
    "duration": 92471,
    "start_time": "2024-06-05T19:23:26.747Z"
   },
   {
    "duration": 37,
    "start_time": "2024-06-05T19:24:59.220Z"
   },
   {
    "duration": 50,
    "start_time": "2024-06-05T19:24:59.259Z"
   },
   {
    "duration": 11,
    "start_time": "2024-06-05T19:24:59.310Z"
   },
   {
    "duration": 24,
    "start_time": "2024-06-05T19:24:59.322Z"
   },
   {
    "duration": 23,
    "start_time": "2024-06-05T19:24:59.348Z"
   },
   {
    "duration": 22,
    "start_time": "2024-06-05T19:24:59.372Z"
   },
   {
    "duration": 31,
    "start_time": "2024-06-05T19:24:59.395Z"
   },
   {
    "duration": 24,
    "start_time": "2024-06-05T19:24:59.427Z"
   },
   {
    "duration": 118,
    "start_time": "2024-06-05T19:24:59.452Z"
   },
   {
    "duration": 264,
    "start_time": "2024-06-05T19:24:59.571Z"
   },
   {
    "duration": 525,
    "start_time": "2024-06-05T19:24:59.837Z"
   },
   {
    "duration": 492,
    "start_time": "2024-06-05T19:25:00.363Z"
   },
   {
    "duration": 190,
    "start_time": "2024-06-05T19:25:00.857Z"
   },
   {
    "duration": 97,
    "start_time": "2024-06-05T19:25:01.049Z"
   },
   {
    "duration": 113,
    "start_time": "2024-06-05T19:25:01.149Z"
   },
   {
    "duration": 76,
    "start_time": "2024-06-05T19:25:01.264Z"
   },
   {
    "duration": 82,
    "start_time": "2024-06-05T19:25:01.342Z"
   },
   {
    "duration": 55619,
    "start_time": "2024-06-05T19:25:01.426Z"
   },
   {
    "duration": 1838,
    "start_time": "2024-06-05T19:31:01.499Z"
   },
   {
    "duration": 123,
    "start_time": "2024-06-05T19:32:41.986Z"
   },
   {
    "duration": 1472,
    "start_time": "2024-06-05T19:35:54.626Z"
   },
   {
    "duration": 1480,
    "start_time": "2024-06-05T19:36:04.898Z"
   },
   {
    "duration": 1474,
    "start_time": "2024-06-05T19:37:08.625Z"
   },
   {
    "duration": 1301,
    "start_time": "2024-06-05T19:37:43.712Z"
   },
   {
    "duration": 1425,
    "start_time": "2024-06-05T19:38:08.481Z"
   },
   {
    "duration": 1511,
    "start_time": "2024-06-05T19:38:24.047Z"
   },
   {
    "duration": 1600,
    "start_time": "2024-06-05T19:38:29.305Z"
   },
   {
    "duration": 1368,
    "start_time": "2024-06-05T19:38:55.931Z"
   },
   {
    "duration": 1446,
    "start_time": "2024-06-05T19:38:59.948Z"
   },
   {
    "duration": 1429,
    "start_time": "2024-06-05T19:40:08.750Z"
   },
   {
    "duration": 1486,
    "start_time": "2024-06-05T19:40:25.426Z"
   },
   {
    "duration": 7460,
    "start_time": "2024-06-05T19:40:35.753Z"
   },
   {
    "duration": 5,
    "start_time": "2024-06-05T19:40:43.216Z"
   },
   {
    "duration": 50,
    "start_time": "2024-06-05T19:40:43.222Z"
   },
   {
    "duration": 12,
    "start_time": "2024-06-05T19:40:43.273Z"
   },
   {
    "duration": 60,
    "start_time": "2024-06-05T19:40:43.286Z"
   },
   {
    "duration": 10,
    "start_time": "2024-06-05T19:40:43.348Z"
   },
   {
    "duration": 4,
    "start_time": "2024-06-05T19:40:43.359Z"
   },
   {
    "duration": 23,
    "start_time": "2024-06-05T19:40:43.364Z"
   },
   {
    "duration": 18,
    "start_time": "2024-06-05T19:40:43.388Z"
   },
   {
    "duration": 9,
    "start_time": "2024-06-05T19:40:43.409Z"
   },
   {
    "duration": 33,
    "start_time": "2024-06-05T19:40:43.419Z"
   },
   {
    "duration": 11,
    "start_time": "2024-06-05T19:40:43.453Z"
   },
   {
    "duration": 11,
    "start_time": "2024-06-05T19:40:43.465Z"
   },
   {
    "duration": 616,
    "start_time": "2024-06-05T19:40:43.477Z"
   },
   {
    "duration": 701,
    "start_time": "2024-06-05T19:40:44.095Z"
   },
   {
    "duration": 7,
    "start_time": "2024-06-05T19:40:44.798Z"
   },
   {
    "duration": 445,
    "start_time": "2024-06-05T19:40:44.806Z"
   },
   {
    "duration": 19,
    "start_time": "2024-06-05T19:40:45.253Z"
   },
   {
    "duration": 1142,
    "start_time": "2024-06-05T19:40:45.274Z"
   },
   {
    "duration": 2,
    "start_time": "2024-06-05T19:40:46.418Z"
   },
   {
    "duration": 9,
    "start_time": "2024-06-05T19:40:46.422Z"
   },
   {
    "duration": 12,
    "start_time": "2024-06-05T19:40:46.433Z"
   },
   {
    "duration": 4,
    "start_time": "2024-06-05T19:40:46.446Z"
   },
   {
    "duration": 14,
    "start_time": "2024-06-05T19:40:46.452Z"
   },
   {
    "duration": 5,
    "start_time": "2024-06-05T19:40:46.467Z"
   },
   {
    "duration": 4,
    "start_time": "2024-06-05T19:40:46.473Z"
   },
   {
    "duration": 1468,
    "start_time": "2024-06-05T19:40:46.478Z"
   },
   {
    "duration": 3,
    "start_time": "2024-06-05T19:40:48.045Z"
   },
   {
    "duration": 1456,
    "start_time": "2024-06-05T19:43:17.137Z"
   },
   {
    "duration": 0,
    "start_time": "2024-06-05T19:43:18.595Z"
   },
   {
    "duration": 0,
    "start_time": "2024-06-05T19:43:18.597Z"
   },
   {
    "duration": 0,
    "start_time": "2024-06-05T19:43:18.598Z"
   },
   {
    "duration": 0,
    "start_time": "2024-06-05T19:43:18.599Z"
   },
   {
    "duration": 0,
    "start_time": "2024-06-05T19:43:18.600Z"
   },
   {
    "duration": 0,
    "start_time": "2024-06-05T19:43:18.601Z"
   },
   {
    "duration": 0,
    "start_time": "2024-06-05T19:43:18.602Z"
   },
   {
    "duration": 0,
    "start_time": "2024-06-05T19:43:18.603Z"
   },
   {
    "duration": 0,
    "start_time": "2024-06-05T19:43:18.604Z"
   },
   {
    "duration": 0,
    "start_time": "2024-06-05T19:43:18.605Z"
   },
   {
    "duration": 0,
    "start_time": "2024-06-05T19:43:18.606Z"
   },
   {
    "duration": 0,
    "start_time": "2024-06-05T19:43:18.607Z"
   },
   {
    "duration": 0,
    "start_time": "2024-06-05T19:43:18.608Z"
   },
   {
    "duration": 0,
    "start_time": "2024-06-05T19:43:18.609Z"
   },
   {
    "duration": 0,
    "start_time": "2024-06-05T19:43:18.609Z"
   },
   {
    "duration": 0,
    "start_time": "2024-06-05T19:43:18.610Z"
   },
   {
    "duration": 0,
    "start_time": "2024-06-05T19:43:18.611Z"
   },
   {
    "duration": 0,
    "start_time": "2024-06-05T19:43:18.612Z"
   },
   {
    "duration": 0,
    "start_time": "2024-06-05T19:43:18.645Z"
   },
   {
    "duration": 0,
    "start_time": "2024-06-05T19:43:18.646Z"
   },
   {
    "duration": 1,
    "start_time": "2024-06-05T19:43:18.647Z"
   },
   {
    "duration": 0,
    "start_time": "2024-06-05T19:43:18.649Z"
   },
   {
    "duration": 0,
    "start_time": "2024-06-05T19:43:18.650Z"
   },
   {
    "duration": 0,
    "start_time": "2024-06-05T19:43:18.651Z"
   },
   {
    "duration": 0,
    "start_time": "2024-06-05T19:43:18.652Z"
   },
   {
    "duration": 0,
    "start_time": "2024-06-05T19:43:18.653Z"
   },
   {
    "duration": 0,
    "start_time": "2024-06-05T19:43:18.654Z"
   },
   {
    "duration": 0,
    "start_time": "2024-06-05T19:43:18.655Z"
   },
   {
    "duration": 0,
    "start_time": "2024-06-05T19:43:18.656Z"
   },
   {
    "duration": 0,
    "start_time": "2024-06-05T19:43:18.657Z"
   },
   {
    "duration": 0,
    "start_time": "2024-06-05T19:43:18.658Z"
   },
   {
    "duration": 0,
    "start_time": "2024-06-05T19:43:18.659Z"
   },
   {
    "duration": 7615,
    "start_time": "2024-06-05T19:44:59.519Z"
   },
   {
    "duration": 6,
    "start_time": "2024-06-05T19:45:07.136Z"
   },
   {
    "duration": 70,
    "start_time": "2024-06-05T19:45:07.144Z"
   },
   {
    "duration": 13,
    "start_time": "2024-06-05T19:45:07.217Z"
   },
   {
    "duration": 62,
    "start_time": "2024-06-05T19:45:07.231Z"
   },
   {
    "duration": 12,
    "start_time": "2024-06-05T19:45:07.294Z"
   },
   {
    "duration": 41,
    "start_time": "2024-06-05T19:45:07.307Z"
   },
   {
    "duration": 34,
    "start_time": "2024-06-05T19:45:07.350Z"
   },
   {
    "duration": 19,
    "start_time": "2024-06-05T19:45:07.385Z"
   },
   {
    "duration": 171,
    "start_time": "2024-06-05T19:45:07.406Z"
   },
   {
    "duration": 9,
    "start_time": "2024-06-05T19:45:07.578Z"
   },
   {
    "duration": 22,
    "start_time": "2024-06-05T19:45:07.589Z"
   },
   {
    "duration": 25,
    "start_time": "2024-06-05T19:45:07.613Z"
   },
   {
    "duration": 439,
    "start_time": "2024-06-05T19:45:07.639Z"
   },
   {
    "duration": 760,
    "start_time": "2024-06-05T19:45:08.079Z"
   },
   {
    "duration": 6,
    "start_time": "2024-06-05T19:45:08.844Z"
   },
   {
    "duration": 440,
    "start_time": "2024-06-05T19:45:08.851Z"
   },
   {
    "duration": 19,
    "start_time": "2024-06-05T19:45:09.293Z"
   },
   {
    "duration": 1211,
    "start_time": "2024-06-05T19:45:09.313Z"
   },
   {
    "duration": 3,
    "start_time": "2024-06-05T19:45:10.526Z"
   },
   {
    "duration": 57,
    "start_time": "2024-06-05T19:45:10.530Z"
   },
   {
    "duration": 21,
    "start_time": "2024-06-05T19:45:10.589Z"
   },
   {
    "duration": 26,
    "start_time": "2024-06-05T19:45:10.612Z"
   },
   {
    "duration": 25,
    "start_time": "2024-06-05T19:45:10.639Z"
   },
   {
    "duration": 17,
    "start_time": "2024-06-05T19:45:10.665Z"
   },
   {
    "duration": 33,
    "start_time": "2024-06-05T19:45:10.683Z"
   },
   {
    "duration": 1455,
    "start_time": "2024-06-05T19:45:10.718Z"
   },
   {
    "duration": 5,
    "start_time": "2024-06-05T19:45:12.246Z"
   },
   {
    "duration": 7573,
    "start_time": "2024-06-05T19:47:42.765Z"
   },
   {
    "duration": 6,
    "start_time": "2024-06-05T19:47:50.340Z"
   },
   {
    "duration": 80,
    "start_time": "2024-06-05T19:47:50.348Z"
   },
   {
    "duration": 13,
    "start_time": "2024-06-05T19:47:50.429Z"
   },
   {
    "duration": 53,
    "start_time": "2024-06-05T19:47:50.444Z"
   },
   {
    "duration": 10,
    "start_time": "2024-06-05T19:47:50.499Z"
   },
   {
    "duration": 12,
    "start_time": "2024-06-05T19:47:50.511Z"
   },
   {
    "duration": 41,
    "start_time": "2024-06-05T19:47:50.524Z"
   },
   {
    "duration": 27,
    "start_time": "2024-06-05T19:47:50.567Z"
   },
   {
    "duration": 12,
    "start_time": "2024-06-05T19:47:50.595Z"
   },
   {
    "duration": 41,
    "start_time": "2024-06-05T19:47:50.608Z"
   },
   {
    "duration": 11,
    "start_time": "2024-06-05T19:47:50.651Z"
   },
   {
    "duration": 18,
    "start_time": "2024-06-05T19:47:50.663Z"
   },
   {
    "duration": 545,
    "start_time": "2024-06-05T19:47:50.683Z"
   },
   {
    "duration": 742,
    "start_time": "2024-06-05T19:47:51.229Z"
   },
   {
    "duration": 6,
    "start_time": "2024-06-05T19:47:51.973Z"
   },
   {
    "duration": 457,
    "start_time": "2024-06-05T19:47:51.980Z"
   },
   {
    "duration": 23,
    "start_time": "2024-06-05T19:47:52.439Z"
   },
   {
    "duration": 1425,
    "start_time": "2024-06-05T19:47:52.463Z"
   },
   {
    "duration": 56,
    "start_time": "2024-06-05T19:47:53.889Z"
   },
   {
    "duration": 6,
    "start_time": "2024-06-05T19:47:53.947Z"
   },
   {
    "duration": 6,
    "start_time": "2024-06-05T19:47:53.954Z"
   },
   {
    "duration": 8,
    "start_time": "2024-06-05T19:47:53.962Z"
   },
   {
    "duration": 12,
    "start_time": "2024-06-05T19:47:53.971Z"
   },
   {
    "duration": 5,
    "start_time": "2024-06-05T19:47:53.984Z"
   },
   {
    "duration": 55,
    "start_time": "2024-06-05T19:47:53.990Z"
   },
   {
    "duration": 1832,
    "start_time": "2024-06-05T19:47:54.047Z"
   },
   {
    "duration": 7,
    "start_time": "2024-06-05T19:47:55.946Z"
   },
   {
    "duration": 91721,
    "start_time": "2024-06-05T19:47:55.954Z"
   },
   {
    "duration": 42,
    "start_time": "2024-06-05T19:49:27.677Z"
   },
   {
    "duration": 52,
    "start_time": "2024-06-05T19:49:27.721Z"
   },
   {
    "duration": 11,
    "start_time": "2024-06-05T19:49:27.774Z"
   },
   {
    "duration": 9,
    "start_time": "2024-06-05T19:49:27.786Z"
   },
   {
    "duration": 10,
    "start_time": "2024-06-05T19:49:27.796Z"
   },
   {
    "duration": 10,
    "start_time": "2024-06-05T19:49:27.807Z"
   },
   {
    "duration": 10,
    "start_time": "2024-06-05T19:49:27.818Z"
   },
   {
    "duration": 19,
    "start_time": "2024-06-05T19:49:27.829Z"
   },
   {
    "duration": 116,
    "start_time": "2024-06-05T19:49:27.850Z"
   },
   {
    "duration": 389,
    "start_time": "2024-06-05T19:49:27.967Z"
   },
   {
    "duration": 397,
    "start_time": "2024-06-05T19:49:28.358Z"
   },
   {
    "duration": 474,
    "start_time": "2024-06-05T19:49:28.757Z"
   },
   {
    "duration": 117,
    "start_time": "2024-06-05T19:49:29.233Z"
   },
   {
    "duration": 93,
    "start_time": "2024-06-05T19:49:29.353Z"
   },
   {
    "duration": 97,
    "start_time": "2024-06-05T19:49:29.448Z"
   },
   {
    "duration": 7,
    "start_time": "2024-06-05T19:49:29.547Z"
   },
   {
    "duration": 24,
    "start_time": "2024-06-05T19:49:29.555Z"
   },
   {
    "duration": 55773,
    "start_time": "2024-06-05T19:49:29.581Z"
   },
   {
    "duration": 1372,
    "start_time": "2024-06-05T19:50:25.358Z"
   },
   {
    "duration": 37,
    "start_time": "2024-06-05T19:50:48.475Z"
   },
   {
    "duration": 12,
    "start_time": "2024-06-05T19:50:48.514Z"
   },
   {
    "duration": 50,
    "start_time": "2024-06-05T19:50:48.527Z"
   },
   {
    "duration": 12,
    "start_time": "2024-06-05T19:50:48.578Z"
   },
   {
    "duration": 3,
    "start_time": "2024-06-05T19:50:48.591Z"
   },
   {
    "duration": 19,
    "start_time": "2024-06-05T19:50:48.595Z"
   },
   {
    "duration": 20,
    "start_time": "2024-06-05T19:50:48.615Z"
   },
   {
    "duration": 9,
    "start_time": "2024-06-05T19:50:48.644Z"
   },
   {
    "duration": 8,
    "start_time": "2024-06-05T19:50:48.654Z"
   },
   {
    "duration": 8,
    "start_time": "2024-06-05T19:50:48.664Z"
   },
   {
    "duration": 58,
    "start_time": "2024-06-05T19:50:48.674Z"
   },
   {
    "duration": 390,
    "start_time": "2024-06-05T19:50:48.733Z"
   },
   {
    "duration": 522,
    "start_time": "2024-06-05T19:50:49.125Z"
   },
   {
    "duration": 327,
    "start_time": "2024-06-05T19:50:49.650Z"
   },
   {
    "duration": 5,
    "start_time": "2024-06-05T19:50:49.978Z"
   },
   {
    "duration": 470,
    "start_time": "2024-06-05T19:50:49.985Z"
   },
   {
    "duration": 20,
    "start_time": "2024-06-05T19:50:50.456Z"
   },
   {
    "duration": 1820,
    "start_time": "2024-06-05T19:50:50.477Z"
   },
   {
    "duration": 3,
    "start_time": "2024-06-05T19:50:52.298Z"
   },
   {
    "duration": 58,
    "start_time": "2024-06-05T19:50:52.302Z"
   },
   {
    "duration": 43,
    "start_time": "2024-06-05T19:50:52.362Z"
   },
   {
    "duration": 11,
    "start_time": "2024-06-05T19:50:52.407Z"
   },
   {
    "duration": 7,
    "start_time": "2024-06-05T19:50:52.420Z"
   },
   {
    "duration": 6,
    "start_time": "2024-06-05T19:50:52.428Z"
   },
   {
    "duration": 7,
    "start_time": "2024-06-05T19:50:52.436Z"
   },
   {
    "duration": 1321,
    "start_time": "2024-06-05T19:50:52.445Z"
   },
   {
    "duration": 6,
    "start_time": "2024-06-05T19:50:53.846Z"
   },
   {
    "duration": 90012,
    "start_time": "2024-06-05T19:50:53.853Z"
   },
   {
    "duration": 40,
    "start_time": "2024-06-05T19:52:23.866Z"
   },
   {
    "duration": 51,
    "start_time": "2024-06-05T19:52:23.907Z"
   },
   {
    "duration": 10,
    "start_time": "2024-06-05T19:52:23.959Z"
   },
   {
    "duration": 11,
    "start_time": "2024-06-05T19:52:23.970Z"
   },
   {
    "duration": 24,
    "start_time": "2024-06-05T19:52:23.982Z"
   },
   {
    "duration": 10,
    "start_time": "2024-06-05T19:52:24.007Z"
   },
   {
    "duration": 13,
    "start_time": "2024-06-05T19:52:24.018Z"
   },
   {
    "duration": 18,
    "start_time": "2024-06-05T19:52:24.033Z"
   },
   {
    "duration": 127,
    "start_time": "2024-06-05T19:52:24.052Z"
   },
   {
    "duration": 277,
    "start_time": "2024-06-05T19:52:24.181Z"
   },
   {
    "duration": 387,
    "start_time": "2024-06-05T19:52:24.460Z"
   },
   {
    "duration": 477,
    "start_time": "2024-06-05T19:52:24.848Z"
   },
   {
    "duration": 122,
    "start_time": "2024-06-05T19:52:25.328Z"
   },
   {
    "duration": 6,
    "start_time": "2024-06-05T19:52:25.452Z"
   },
   {
    "duration": 7,
    "start_time": "2024-06-05T19:52:25.545Z"
   },
   {
    "duration": 99,
    "start_time": "2024-06-05T19:52:25.554Z"
   },
   {
    "duration": 24,
    "start_time": "2024-06-05T19:52:25.654Z"
   },
   {
    "duration": 54296,
    "start_time": "2024-06-05T19:52:25.680Z"
   },
   {
    "duration": 1470,
    "start_time": "2024-06-05T19:53:19.977Z"
   },
   {
    "duration": 38,
    "start_time": "2024-06-05T19:53:36.415Z"
   },
   {
    "duration": 12,
    "start_time": "2024-06-05T19:53:36.455Z"
   },
   {
    "duration": 50,
    "start_time": "2024-06-05T19:53:36.469Z"
   },
   {
    "duration": 11,
    "start_time": "2024-06-05T19:53:36.521Z"
   },
   {
    "duration": 6,
    "start_time": "2024-06-05T19:53:36.533Z"
   },
   {
    "duration": 20,
    "start_time": "2024-06-05T19:53:36.544Z"
   },
   {
    "duration": 20,
    "start_time": "2024-06-05T19:53:36.566Z"
   },
   {
    "duration": 9,
    "start_time": "2024-06-05T19:53:36.587Z"
   },
   {
    "duration": 9,
    "start_time": "2024-06-05T19:53:36.598Z"
   },
   {
    "duration": 11,
    "start_time": "2024-06-05T19:53:36.644Z"
   },
   {
    "duration": 29,
    "start_time": "2024-06-05T19:53:36.656Z"
   },
   {
    "duration": 562,
    "start_time": "2024-06-05T19:53:36.687Z"
   },
   {
    "duration": 405,
    "start_time": "2024-06-05T19:53:37.250Z"
   },
   {
    "duration": 409,
    "start_time": "2024-06-05T19:53:37.657Z"
   },
   {
    "duration": 6,
    "start_time": "2024-06-05T19:53:38.067Z"
   },
   {
    "duration": 453,
    "start_time": "2024-06-05T19:53:38.074Z"
   },
   {
    "duration": 26,
    "start_time": "2024-06-05T19:53:38.528Z"
   },
   {
    "duration": 1124,
    "start_time": "2024-06-05T19:53:38.556Z"
   },
   {
    "duration": 3,
    "start_time": "2024-06-05T19:53:39.681Z"
   },
   {
    "duration": 6,
    "start_time": "2024-06-05T19:53:39.686Z"
   },
   {
    "duration": 4,
    "start_time": "2024-06-05T19:53:39.693Z"
   },
   {
    "duration": 6,
    "start_time": "2024-06-05T19:53:39.698Z"
   },
   {
    "duration": 4,
    "start_time": "2024-06-05T19:53:39.706Z"
   },
   {
    "duration": 8,
    "start_time": "2024-06-05T19:53:39.711Z"
   },
   {
    "duration": 10,
    "start_time": "2024-06-05T19:53:39.720Z"
   },
   {
    "duration": 1419,
    "start_time": "2024-06-05T19:53:39.732Z"
   },
   {
    "duration": 92,
    "start_time": "2024-06-05T19:53:41.153Z"
   },
   {
    "duration": 91842,
    "start_time": "2024-06-05T19:53:41.249Z"
   },
   {
    "duration": 42,
    "start_time": "2024-06-05T19:55:13.093Z"
   },
   {
    "duration": 49,
    "start_time": "2024-06-05T19:55:13.137Z"
   },
   {
    "duration": 11,
    "start_time": "2024-06-05T19:55:13.187Z"
   },
   {
    "duration": 12,
    "start_time": "2024-06-05T19:55:13.199Z"
   },
   {
    "duration": 35,
    "start_time": "2024-06-05T19:55:13.212Z"
   },
   {
    "duration": 38,
    "start_time": "2024-06-05T19:55:13.248Z"
   },
   {
    "duration": 27,
    "start_time": "2024-06-05T19:55:13.288Z"
   },
   {
    "duration": 20,
    "start_time": "2024-06-05T19:55:13.317Z"
   },
   {
    "duration": 109,
    "start_time": "2024-06-05T19:55:13.339Z"
   },
   {
    "duration": 287,
    "start_time": "2024-06-05T19:55:13.450Z"
   },
   {
    "duration": 398,
    "start_time": "2024-06-05T19:55:13.744Z"
   },
   {
    "duration": 485,
    "start_time": "2024-06-05T19:55:14.144Z"
   },
   {
    "duration": 123,
    "start_time": "2024-06-05T19:55:14.631Z"
   },
   {
    "duration": 94,
    "start_time": "2024-06-05T19:55:14.851Z"
   },
   {
    "duration": 6,
    "start_time": "2024-06-05T19:55:14.947Z"
   },
   {
    "duration": 7,
    "start_time": "2024-06-05T19:55:14.954Z"
   },
   {
    "duration": 7,
    "start_time": "2024-06-05T19:55:14.963Z"
   },
   {
    "duration": 55259,
    "start_time": "2024-06-05T19:55:14.972Z"
   },
   {
    "duration": 543,
    "start_time": "2024-06-05T20:05:04.164Z"
   },
   {
    "duration": 687,
    "start_time": "2024-06-05T20:05:24.032Z"
   },
   {
    "duration": 8051,
    "start_time": "2024-06-05T20:05:51.684Z"
   },
   {
    "duration": 6,
    "start_time": "2024-06-05T20:05:59.738Z"
   },
   {
    "duration": 61,
    "start_time": "2024-06-05T20:05:59.746Z"
   },
   {
    "duration": 13,
    "start_time": "2024-06-05T20:05:59.809Z"
   },
   {
    "duration": 80,
    "start_time": "2024-06-05T20:05:59.824Z"
   },
   {
    "duration": 12,
    "start_time": "2024-06-05T20:05:59.906Z"
   },
   {
    "duration": 42,
    "start_time": "2024-06-05T20:05:59.919Z"
   },
   {
    "duration": 45,
    "start_time": "2024-06-05T20:05:59.962Z"
   },
   {
    "duration": 51,
    "start_time": "2024-06-05T20:06:00.009Z"
   },
   {
    "duration": 35,
    "start_time": "2024-06-05T20:06:00.062Z"
   },
   {
    "duration": 45,
    "start_time": "2024-06-05T20:06:00.099Z"
   },
   {
    "duration": 60,
    "start_time": "2024-06-05T20:06:00.146Z"
   },
   {
    "duration": 67,
    "start_time": "2024-06-05T20:06:00.208Z"
   },
   {
    "duration": 462,
    "start_time": "2024-06-05T20:06:00.277Z"
   },
   {
    "duration": 390,
    "start_time": "2024-06-05T20:06:00.740Z"
   },
   {
    "duration": 403,
    "start_time": "2024-06-05T20:06:01.132Z"
   },
   {
    "duration": 7,
    "start_time": "2024-06-05T20:06:17.693Z"
   },
   {
    "duration": 462,
    "start_time": "2024-06-05T20:06:17.702Z"
   },
   {
    "duration": 27,
    "start_time": "2024-06-05T20:06:18.166Z"
   },
   {
    "duration": 830,
    "start_time": "2024-06-05T20:06:18.195Z"
   },
   {
    "duration": 1834,
    "start_time": "2024-06-05T20:06:19.027Z"
   },
   {
    "duration": 3,
    "start_time": "2024-06-05T20:06:20.862Z"
   },
   {
    "duration": 12,
    "start_time": "2024-06-05T20:06:20.866Z"
   },
   {
    "duration": 9,
    "start_time": "2024-06-05T20:06:20.880Z"
   },
   {
    "duration": 8,
    "start_time": "2024-06-05T20:06:20.891Z"
   },
   {
    "duration": 4,
    "start_time": "2024-06-05T20:06:20.901Z"
   },
   {
    "duration": 4,
    "start_time": "2024-06-05T20:06:20.907Z"
   },
   {
    "duration": 4,
    "start_time": "2024-06-05T20:06:20.912Z"
   },
   {
    "duration": 1447,
    "start_time": "2024-06-05T20:06:20.918Z"
   },
   {
    "duration": 77,
    "start_time": "2024-06-05T20:06:22.369Z"
   },
   {
    "duration": 90134,
    "start_time": "2024-06-05T20:06:22.449Z"
   },
   {
    "duration": 38,
    "start_time": "2024-06-05T20:07:52.584Z"
   },
   {
    "duration": 51,
    "start_time": "2024-06-05T20:07:52.623Z"
   },
   {
    "duration": 11,
    "start_time": "2024-06-05T20:07:52.675Z"
   },
   {
    "duration": 16,
    "start_time": "2024-06-05T20:07:52.687Z"
   },
   {
    "duration": 11,
    "start_time": "2024-06-05T20:07:52.705Z"
   },
   {
    "duration": 10,
    "start_time": "2024-06-05T20:07:52.717Z"
   },
   {
    "duration": 10,
    "start_time": "2024-06-05T20:07:52.728Z"
   },
   {
    "duration": 8,
    "start_time": "2024-06-05T20:07:52.744Z"
   },
   {
    "duration": 114,
    "start_time": "2024-06-05T20:07:52.754Z"
   },
   {
    "duration": 277,
    "start_time": "2024-06-05T20:07:52.870Z"
   },
   {
    "duration": 403,
    "start_time": "2024-06-05T20:07:53.149Z"
   },
   {
    "duration": 619,
    "start_time": "2024-06-05T20:07:53.554Z"
   },
   {
    "duration": 73,
    "start_time": "2024-06-05T20:07:54.174Z"
   },
   {
    "duration": 4,
    "start_time": "2024-06-05T20:07:54.248Z"
   },
   {
    "duration": 96,
    "start_time": "2024-06-05T20:07:54.254Z"
   },
   {
    "duration": 92,
    "start_time": "2024-06-05T20:07:54.353Z"
   },
   {
    "duration": 6,
    "start_time": "2024-06-05T20:07:54.447Z"
   },
   {
    "duration": 38,
    "start_time": "2024-06-05T20:08:51.703Z"
   },
   {
    "duration": 12,
    "start_time": "2024-06-05T20:08:51.742Z"
   },
   {
    "duration": 54,
    "start_time": "2024-06-05T20:08:51.755Z"
   },
   {
    "duration": 11,
    "start_time": "2024-06-05T20:08:51.810Z"
   },
   {
    "duration": 11,
    "start_time": "2024-06-05T20:08:51.822Z"
   },
   {
    "duration": 28,
    "start_time": "2024-06-05T20:08:51.834Z"
   },
   {
    "duration": 19,
    "start_time": "2024-06-05T20:08:51.863Z"
   },
   {
    "duration": 9,
    "start_time": "2024-06-05T20:08:51.884Z"
   },
   {
    "duration": 20,
    "start_time": "2024-06-05T20:08:51.894Z"
   },
   {
    "duration": 11,
    "start_time": "2024-06-05T20:08:51.916Z"
   },
   {
    "duration": 22,
    "start_time": "2024-06-05T20:08:51.929Z"
   },
   {
    "duration": 411,
    "start_time": "2024-06-05T20:08:51.953Z"
   },
   {
    "duration": 401,
    "start_time": "2024-06-05T20:08:52.365Z"
   },
   {
    "duration": 509,
    "start_time": "2024-06-05T20:08:52.767Z"
   },
   {
    "duration": 6,
    "start_time": "2024-06-05T20:08:53.278Z"
   },
   {
    "duration": 461,
    "start_time": "2024-06-05T20:08:53.286Z"
   },
   {
    "duration": 19,
    "start_time": "2024-06-05T20:08:53.749Z"
   },
   {
    "duration": 755,
    "start_time": "2024-06-05T20:08:53.769Z"
   },
   {
    "duration": 1112,
    "start_time": "2024-06-05T20:08:54.525Z"
   },
   {
    "duration": 2,
    "start_time": "2024-06-05T20:08:55.639Z"
   },
   {
    "duration": 8,
    "start_time": "2024-06-05T20:08:55.645Z"
   },
   {
    "duration": 9,
    "start_time": "2024-06-05T20:08:55.654Z"
   },
   {
    "duration": 11,
    "start_time": "2024-06-05T20:08:55.664Z"
   },
   {
    "duration": 20,
    "start_time": "2024-06-05T20:08:55.676Z"
   },
   {
    "duration": 4,
    "start_time": "2024-06-05T20:08:55.697Z"
   },
   {
    "duration": 4,
    "start_time": "2024-06-05T20:08:55.703Z"
   },
   {
    "duration": 1339,
    "start_time": "2024-06-05T20:08:55.708Z"
   },
   {
    "duration": 5,
    "start_time": "2024-06-05T20:08:57.049Z"
   },
   {
    "duration": 91389,
    "start_time": "2024-06-05T20:08:57.145Z"
   },
   {
    "duration": 36,
    "start_time": "2024-06-05T20:10:28.535Z"
   },
   {
    "duration": 47,
    "start_time": "2024-06-05T20:10:28.573Z"
   },
   {
    "duration": 11,
    "start_time": "2024-06-05T20:10:28.621Z"
   },
   {
    "duration": 14,
    "start_time": "2024-06-05T20:10:28.633Z"
   },
   {
    "duration": 8,
    "start_time": "2024-06-05T20:10:28.649Z"
   },
   {
    "duration": 10,
    "start_time": "2024-06-05T20:10:28.658Z"
   },
   {
    "duration": 10,
    "start_time": "2024-06-05T20:10:28.669Z"
   },
   {
    "duration": 23,
    "start_time": "2024-06-05T20:10:28.680Z"
   },
   {
    "duration": 110,
    "start_time": "2024-06-05T20:10:28.705Z"
   },
   {
    "duration": 276,
    "start_time": "2024-06-05T20:10:28.817Z"
   },
   {
    "duration": 418,
    "start_time": "2024-06-05T20:10:29.095Z"
   },
   {
    "duration": 480,
    "start_time": "2024-06-05T20:10:29.515Z"
   },
   {
    "duration": 54,
    "start_time": "2024-06-05T20:10:29.997Z"
   },
   {
    "duration": 194,
    "start_time": "2024-06-05T20:10:30.052Z"
   },
   {
    "duration": 28,
    "start_time": "2024-06-05T20:10:30.248Z"
   },
   {
    "duration": 42,
    "start_time": "2024-06-05T20:10:30.277Z"
   },
   {
    "duration": 26,
    "start_time": "2024-06-05T20:10:30.320Z"
   },
   {
    "duration": 55167,
    "start_time": "2024-06-05T20:10:30.348Z"
   },
   {
    "duration": 14,
    "start_time": "2024-06-05T20:18:32.190Z"
   },
   {
    "duration": 610,
    "start_time": "2024-06-05T20:19:07.782Z"
   },
   {
    "duration": 1557,
    "start_time": "2024-06-05T20:19:21.663Z"
   },
   {
    "duration": 0,
    "start_time": "2024-06-05T20:19:23.223Z"
   },
   {
    "duration": 0,
    "start_time": "2024-06-05T20:19:23.224Z"
   },
   {
    "duration": 0,
    "start_time": "2024-06-05T20:19:23.225Z"
   },
   {
    "duration": 0,
    "start_time": "2024-06-05T20:19:23.226Z"
   },
   {
    "duration": 0,
    "start_time": "2024-06-05T20:19:23.227Z"
   },
   {
    "duration": 0,
    "start_time": "2024-06-05T20:19:23.228Z"
   },
   {
    "duration": 0,
    "start_time": "2024-06-05T20:19:23.229Z"
   },
   {
    "duration": 0,
    "start_time": "2024-06-05T20:19:23.230Z"
   },
   {
    "duration": 0,
    "start_time": "2024-06-05T20:19:23.246Z"
   },
   {
    "duration": 0,
    "start_time": "2024-06-05T20:19:23.247Z"
   },
   {
    "duration": 0,
    "start_time": "2024-06-05T20:19:23.248Z"
   },
   {
    "duration": 0,
    "start_time": "2024-06-05T20:19:23.249Z"
   },
   {
    "duration": 0,
    "start_time": "2024-06-05T20:19:23.250Z"
   },
   {
    "duration": 0,
    "start_time": "2024-06-05T20:19:23.251Z"
   },
   {
    "duration": 0,
    "start_time": "2024-06-05T20:19:23.252Z"
   },
   {
    "duration": 0,
    "start_time": "2024-06-05T20:19:23.253Z"
   },
   {
    "duration": 0,
    "start_time": "2024-06-05T20:19:23.254Z"
   },
   {
    "duration": 0,
    "start_time": "2024-06-05T20:19:23.255Z"
   },
   {
    "duration": 0,
    "start_time": "2024-06-05T20:19:23.256Z"
   },
   {
    "duration": 0,
    "start_time": "2024-06-05T20:19:23.257Z"
   },
   {
    "duration": 0,
    "start_time": "2024-06-05T20:19:23.258Z"
   },
   {
    "duration": 0,
    "start_time": "2024-06-05T20:19:23.259Z"
   },
   {
    "duration": 0,
    "start_time": "2024-06-05T20:19:23.260Z"
   },
   {
    "duration": 0,
    "start_time": "2024-06-05T20:19:23.261Z"
   },
   {
    "duration": 0,
    "start_time": "2024-06-05T20:19:23.261Z"
   },
   {
    "duration": 0,
    "start_time": "2024-06-05T20:19:23.262Z"
   },
   {
    "duration": 0,
    "start_time": "2024-06-05T20:19:23.263Z"
   },
   {
    "duration": 0,
    "start_time": "2024-06-05T20:19:23.264Z"
   },
   {
    "duration": 0,
    "start_time": "2024-06-05T20:19:23.264Z"
   },
   {
    "duration": 0,
    "start_time": "2024-06-05T20:19:23.265Z"
   },
   {
    "duration": 0,
    "start_time": "2024-06-05T20:19:23.266Z"
   },
   {
    "duration": 0,
    "start_time": "2024-06-05T20:19:23.267Z"
   },
   {
    "duration": 1,
    "start_time": "2024-06-05T20:19:23.267Z"
   },
   {
    "duration": 0,
    "start_time": "2024-06-05T20:19:23.268Z"
   },
   {
    "duration": 0,
    "start_time": "2024-06-05T20:19:23.269Z"
   },
   {
    "duration": 38,
    "start_time": "2024-06-05T20:19:42.094Z"
   },
   {
    "duration": 13,
    "start_time": "2024-06-05T20:19:42.134Z"
   },
   {
    "duration": 50,
    "start_time": "2024-06-05T20:19:42.148Z"
   },
   {
    "duration": 11,
    "start_time": "2024-06-05T20:19:42.200Z"
   },
   {
    "duration": 7,
    "start_time": "2024-06-05T20:19:42.212Z"
   },
   {
    "duration": 19,
    "start_time": "2024-06-05T20:19:42.221Z"
   },
   {
    "duration": 19,
    "start_time": "2024-06-05T20:19:42.241Z"
   },
   {
    "duration": 18,
    "start_time": "2024-06-05T20:19:42.262Z"
   },
   {
    "duration": 15,
    "start_time": "2024-06-05T20:19:42.281Z"
   },
   {
    "duration": 11,
    "start_time": "2024-06-05T20:19:42.298Z"
   },
   {
    "duration": 10,
    "start_time": "2024-06-05T20:19:42.310Z"
   },
   {
    "duration": 466,
    "start_time": "2024-06-05T20:19:42.322Z"
   },
   {
    "duration": 381,
    "start_time": "2024-06-05T20:19:42.790Z"
   },
   {
    "duration": 397,
    "start_time": "2024-06-05T20:19:43.172Z"
   },
   {
    "duration": 7,
    "start_time": "2024-06-05T20:19:43.570Z"
   },
   {
    "duration": 438,
    "start_time": "2024-06-05T20:19:43.578Z"
   },
   {
    "duration": 32,
    "start_time": "2024-06-05T20:19:44.017Z"
   },
   {
    "duration": 963,
    "start_time": "2024-06-05T20:19:44.050Z"
   },
   {
    "duration": 0,
    "start_time": "2024-06-05T20:19:45.016Z"
   },
   {
    "duration": 0,
    "start_time": "2024-06-05T20:19:45.017Z"
   },
   {
    "duration": 0,
    "start_time": "2024-06-05T20:19:45.019Z"
   },
   {
    "duration": 0,
    "start_time": "2024-06-05T20:19:45.021Z"
   },
   {
    "duration": 0,
    "start_time": "2024-06-05T20:19:45.022Z"
   },
   {
    "duration": 0,
    "start_time": "2024-06-05T20:19:45.023Z"
   },
   {
    "duration": 0,
    "start_time": "2024-06-05T20:19:45.025Z"
   },
   {
    "duration": 0,
    "start_time": "2024-06-05T20:19:45.046Z"
   },
   {
    "duration": 0,
    "start_time": "2024-06-05T20:19:45.047Z"
   },
   {
    "duration": 0,
    "start_time": "2024-06-05T20:19:45.049Z"
   },
   {
    "duration": 0,
    "start_time": "2024-06-05T20:19:45.050Z"
   },
   {
    "duration": 0,
    "start_time": "2024-06-05T20:19:45.051Z"
   },
   {
    "duration": 0,
    "start_time": "2024-06-05T20:19:45.052Z"
   },
   {
    "duration": 0,
    "start_time": "2024-06-05T20:19:45.054Z"
   },
   {
    "duration": 0,
    "start_time": "2024-06-05T20:19:45.055Z"
   },
   {
    "duration": 0,
    "start_time": "2024-06-05T20:19:45.056Z"
   },
   {
    "duration": 0,
    "start_time": "2024-06-05T20:19:45.057Z"
   },
   {
    "duration": 0,
    "start_time": "2024-06-05T20:19:45.059Z"
   },
   {
    "duration": 0,
    "start_time": "2024-06-05T20:19:45.060Z"
   },
   {
    "duration": 0,
    "start_time": "2024-06-05T20:19:45.062Z"
   },
   {
    "duration": 0,
    "start_time": "2024-06-05T20:19:45.063Z"
   },
   {
    "duration": 0,
    "start_time": "2024-06-05T20:19:45.064Z"
   },
   {
    "duration": 0,
    "start_time": "2024-06-05T20:19:45.066Z"
   },
   {
    "duration": 0,
    "start_time": "2024-06-05T20:19:45.067Z"
   },
   {
    "duration": 0,
    "start_time": "2024-06-05T20:19:45.068Z"
   },
   {
    "duration": 0,
    "start_time": "2024-06-05T20:19:45.069Z"
   },
   {
    "duration": 0,
    "start_time": "2024-06-05T20:19:45.070Z"
   },
   {
    "duration": 0,
    "start_time": "2024-06-05T20:19:45.072Z"
   },
   {
    "duration": 0,
    "start_time": "2024-06-05T20:19:45.073Z"
   },
   {
    "duration": 708,
    "start_time": "2024-06-05T20:21:55.445Z"
   },
   {
    "duration": 38,
    "start_time": "2024-06-05T20:22:14.506Z"
   },
   {
    "duration": 12,
    "start_time": "2024-06-05T20:22:14.546Z"
   },
   {
    "duration": 57,
    "start_time": "2024-06-05T20:22:14.560Z"
   },
   {
    "duration": 12,
    "start_time": "2024-06-05T20:22:14.619Z"
   },
   {
    "duration": 2,
    "start_time": "2024-06-05T20:22:14.633Z"
   },
   {
    "duration": 28,
    "start_time": "2024-06-05T20:22:14.637Z"
   },
   {
    "duration": 23,
    "start_time": "2024-06-05T20:22:14.667Z"
   },
   {
    "duration": 11,
    "start_time": "2024-06-05T20:22:14.693Z"
   },
   {
    "duration": 43,
    "start_time": "2024-06-05T20:22:14.705Z"
   },
   {
    "duration": 11,
    "start_time": "2024-06-05T20:22:14.750Z"
   },
   {
    "duration": 16,
    "start_time": "2024-06-05T20:22:14.763Z"
   },
   {
    "duration": 435,
    "start_time": "2024-06-05T20:22:14.781Z"
   },
   {
    "duration": 427,
    "start_time": "2024-06-05T20:22:15.218Z"
   },
   {
    "duration": 401,
    "start_time": "2024-06-05T20:22:15.646Z"
   },
   {
    "duration": 6,
    "start_time": "2024-06-05T20:22:16.049Z"
   },
   {
    "duration": 435,
    "start_time": "2024-06-05T20:22:16.057Z"
   },
   {
    "duration": 20,
    "start_time": "2024-06-05T20:22:16.493Z"
   },
   {
    "duration": 770,
    "start_time": "2024-06-05T20:22:16.514Z"
   },
   {
    "duration": 1164,
    "start_time": "2024-06-05T20:22:17.286Z"
   },
   {
    "duration": 3,
    "start_time": "2024-06-05T20:22:18.453Z"
   },
   {
    "duration": 74,
    "start_time": "2024-06-05T20:22:18.457Z"
   },
   {
    "duration": 9,
    "start_time": "2024-06-05T20:22:18.532Z"
   },
   {
    "duration": 9,
    "start_time": "2024-06-05T20:22:18.542Z"
   },
   {
    "duration": 5,
    "start_time": "2024-06-05T20:22:18.552Z"
   },
   {
    "duration": 6,
    "start_time": "2024-06-05T20:22:18.558Z"
   },
   {
    "duration": 9,
    "start_time": "2024-06-05T20:22:18.565Z"
   },
   {
    "duration": 1370,
    "start_time": "2024-06-05T20:22:18.575Z"
   },
   {
    "duration": 10,
    "start_time": "2024-06-05T20:22:19.947Z"
   },
   {
    "duration": 92395,
    "start_time": "2024-06-05T20:22:19.958Z"
   },
   {
    "duration": 36,
    "start_time": "2024-06-05T20:23:52.354Z"
   },
   {
    "duration": 49,
    "start_time": "2024-06-05T20:23:52.392Z"
   },
   {
    "duration": 10,
    "start_time": "2024-06-05T20:23:52.442Z"
   },
   {
    "duration": 30,
    "start_time": "2024-06-05T20:23:52.453Z"
   },
   {
    "duration": 8,
    "start_time": "2024-06-05T20:23:52.485Z"
   },
   {
    "duration": 12,
    "start_time": "2024-06-05T20:23:52.494Z"
   },
   {
    "duration": 15,
    "start_time": "2024-06-05T20:23:52.508Z"
   },
   {
    "duration": 18,
    "start_time": "2024-06-05T20:23:52.524Z"
   },
   {
    "duration": 107,
    "start_time": "2024-06-05T20:23:52.543Z"
   },
   {
    "duration": 293,
    "start_time": "2024-06-05T20:23:52.652Z"
   },
   {
    "duration": 406,
    "start_time": "2024-06-05T20:23:52.947Z"
   },
   {
    "duration": 606,
    "start_time": "2024-06-05T20:23:53.354Z"
   },
   {
    "duration": 94,
    "start_time": "2024-06-05T20:23:53.962Z"
   },
   {
    "duration": 4,
    "start_time": "2024-06-05T20:23:54.145Z"
   },
   {
    "duration": 100,
    "start_time": "2024-06-05T20:23:54.151Z"
   },
   {
    "duration": 42,
    "start_time": "2024-06-05T20:23:54.252Z"
   },
   {
    "duration": 7,
    "start_time": "2024-06-05T20:23:54.295Z"
   },
   {
    "duration": 54778,
    "start_time": "2024-06-05T20:23:54.303Z"
   },
   {
    "duration": 2,
    "start_time": "2024-06-05T20:26:55.936Z"
   },
   {
    "duration": 4,
    "start_time": "2024-06-05T20:28:03.417Z"
   },
   {
    "duration": 3,
    "start_time": "2024-06-05T20:28:06.711Z"
   },
   {
    "duration": 5,
    "start_time": "2024-06-05T20:28:09.180Z"
   },
   {
    "duration": 9,
    "start_time": "2024-06-05T20:34:22.014Z"
   },
   {
    "duration": 8,
    "start_time": "2024-06-05T20:35:18.218Z"
   },
   {
    "duration": 8,
    "start_time": "2024-06-05T20:36:04.748Z"
   },
   {
    "duration": 3,
    "start_time": "2024-06-05T20:36:11.286Z"
   },
   {
    "duration": 9,
    "start_time": "2024-06-05T20:36:11.290Z"
   },
   {
    "duration": 6,
    "start_time": "2024-06-05T20:36:11.301Z"
   },
   {
    "duration": 5,
    "start_time": "2024-06-05T20:36:11.309Z"
   },
   {
    "duration": 9,
    "start_time": "2024-06-05T20:36:11.316Z"
   },
   {
    "duration": 24,
    "start_time": "2024-06-05T20:36:11.326Z"
   },
   {
    "duration": 2628,
    "start_time": "2024-06-05T20:36:11.352Z"
   },
   {
    "duration": 0,
    "start_time": "2024-06-05T20:36:13.982Z"
   },
   {
    "duration": 0,
    "start_time": "2024-06-05T20:36:13.984Z"
   },
   {
    "duration": 0,
    "start_time": "2024-06-05T20:36:13.985Z"
   },
   {
    "duration": 0,
    "start_time": "2024-06-05T20:36:13.986Z"
   },
   {
    "duration": 0,
    "start_time": "2024-06-05T20:36:13.987Z"
   },
   {
    "duration": 0,
    "start_time": "2024-06-05T20:36:13.988Z"
   },
   {
    "duration": 0,
    "start_time": "2024-06-05T20:36:13.989Z"
   },
   {
    "duration": 0,
    "start_time": "2024-06-05T20:36:13.990Z"
   },
   {
    "duration": 0,
    "start_time": "2024-06-05T20:36:13.991Z"
   },
   {
    "duration": 0,
    "start_time": "2024-06-05T20:36:13.992Z"
   },
   {
    "duration": 0,
    "start_time": "2024-06-05T20:36:14.045Z"
   },
   {
    "duration": 0,
    "start_time": "2024-06-05T20:36:14.046Z"
   },
   {
    "duration": 0,
    "start_time": "2024-06-05T20:36:14.047Z"
   },
   {
    "duration": 0,
    "start_time": "2024-06-05T20:36:14.048Z"
   },
   {
    "duration": 0,
    "start_time": "2024-06-05T20:36:14.049Z"
   },
   {
    "duration": 0,
    "start_time": "2024-06-05T20:36:14.050Z"
   },
   {
    "duration": 0,
    "start_time": "2024-06-05T20:36:14.051Z"
   },
   {
    "duration": 0,
    "start_time": "2024-06-05T20:36:14.052Z"
   },
   {
    "duration": 0,
    "start_time": "2024-06-05T20:36:14.053Z"
   },
   {
    "duration": 0,
    "start_time": "2024-06-05T20:36:14.053Z"
   },
   {
    "duration": 9,
    "start_time": "2024-06-05T20:38:35.627Z"
   },
   {
    "duration": 15,
    "start_time": "2024-06-05T20:38:47.566Z"
   },
   {
    "duration": 0,
    "start_time": "2024-06-05T20:38:47.583Z"
   },
   {
    "duration": 0,
    "start_time": "2024-06-05T20:38:47.584Z"
   },
   {
    "duration": 0,
    "start_time": "2024-06-05T20:38:47.585Z"
   },
   {
    "duration": 0,
    "start_time": "2024-06-05T20:38:47.586Z"
   },
   {
    "duration": 0,
    "start_time": "2024-06-05T20:38:47.587Z"
   },
   {
    "duration": 0,
    "start_time": "2024-06-05T20:38:47.588Z"
   },
   {
    "duration": 0,
    "start_time": "2024-06-05T20:38:47.589Z"
   },
   {
    "duration": 0,
    "start_time": "2024-06-05T20:40:21.958Z"
   },
   {
    "duration": 0,
    "start_time": "2024-06-05T20:40:21.959Z"
   },
   {
    "duration": 0,
    "start_time": "2024-06-05T20:40:21.960Z"
   },
   {
    "duration": 0,
    "start_time": "2024-06-05T20:40:21.961Z"
   },
   {
    "duration": 0,
    "start_time": "2024-06-05T20:40:21.962Z"
   },
   {
    "duration": 0,
    "start_time": "2024-06-05T20:40:21.962Z"
   },
   {
    "duration": 0,
    "start_time": "2024-06-05T20:40:21.964Z"
   },
   {
    "duration": 1,
    "start_time": "2024-06-05T20:40:21.964Z"
   },
   {
    "duration": 0,
    "start_time": "2024-06-05T20:40:21.966Z"
   },
   {
    "duration": 0,
    "start_time": "2024-06-05T20:40:21.967Z"
   },
   {
    "duration": 0,
    "start_time": "2024-06-05T20:40:21.968Z"
   },
   {
    "duration": 0,
    "start_time": "2024-06-05T20:40:21.969Z"
   },
   {
    "duration": 0,
    "start_time": "2024-06-05T20:40:21.970Z"
   },
   {
    "duration": 0,
    "start_time": "2024-06-05T20:40:21.971Z"
   },
   {
    "duration": 0,
    "start_time": "2024-06-05T20:40:21.972Z"
   },
   {
    "duration": 0,
    "start_time": "2024-06-05T20:40:21.974Z"
   },
   {
    "duration": 0,
    "start_time": "2024-06-05T20:40:21.975Z"
   },
   {
    "duration": 0,
    "start_time": "2024-06-05T20:40:21.976Z"
   },
   {
    "duration": 0,
    "start_time": "2024-06-05T20:40:21.978Z"
   },
   {
    "duration": 0,
    "start_time": "2024-06-05T20:40:21.979Z"
   },
   {
    "duration": 0,
    "start_time": "2024-06-05T20:40:21.980Z"
   },
   {
    "duration": 0,
    "start_time": "2024-06-05T20:40:21.982Z"
   },
   {
    "duration": 1,
    "start_time": "2024-06-05T20:40:21.985Z"
   },
   {
    "duration": 0,
    "start_time": "2024-06-05T20:40:22.045Z"
   },
   {
    "duration": 0,
    "start_time": "2024-06-05T20:40:22.046Z"
   },
   {
    "duration": 0,
    "start_time": "2024-06-05T20:40:22.047Z"
   },
   {
    "duration": 0,
    "start_time": "2024-06-05T20:40:22.048Z"
   },
   {
    "duration": 0,
    "start_time": "2024-06-05T20:40:22.049Z"
   },
   {
    "duration": 0,
    "start_time": "2024-06-05T20:40:22.050Z"
   },
   {
    "duration": 0,
    "start_time": "2024-06-05T20:40:22.051Z"
   },
   {
    "duration": 3,
    "start_time": "2024-06-05T20:41:20.659Z"
   },
   {
    "duration": 15,
    "start_time": "2024-06-05T20:41:20.663Z"
   },
   {
    "duration": 15,
    "start_time": "2024-06-05T20:41:20.679Z"
   },
   {
    "duration": 17,
    "start_time": "2024-06-05T20:41:20.695Z"
   },
   {
    "duration": 0,
    "start_time": "2024-06-05T20:41:20.714Z"
   },
   {
    "duration": 0,
    "start_time": "2024-06-05T20:41:20.714Z"
   },
   {
    "duration": 0,
    "start_time": "2024-06-05T20:41:20.715Z"
   },
   {
    "duration": 0,
    "start_time": "2024-06-05T20:41:20.716Z"
   },
   {
    "duration": 0,
    "start_time": "2024-06-05T20:41:20.717Z"
   },
   {
    "duration": 2024,
    "start_time": "2024-06-05T20:41:20.737Z"
   },
   {
    "duration": 0,
    "start_time": "2024-06-05T20:41:22.764Z"
   },
   {
    "duration": 0,
    "start_time": "2024-06-05T20:41:22.844Z"
   },
   {
    "duration": 0,
    "start_time": "2024-06-05T20:41:22.845Z"
   },
   {
    "duration": 0,
    "start_time": "2024-06-05T20:41:22.846Z"
   },
   {
    "duration": 0,
    "start_time": "2024-06-05T20:41:22.847Z"
   },
   {
    "duration": 0,
    "start_time": "2024-06-05T20:41:22.848Z"
   },
   {
    "duration": 0,
    "start_time": "2024-06-05T20:41:22.849Z"
   },
   {
    "duration": 0,
    "start_time": "2024-06-05T20:41:22.850Z"
   },
   {
    "duration": 0,
    "start_time": "2024-06-05T20:41:22.851Z"
   },
   {
    "duration": 0,
    "start_time": "2024-06-05T20:41:22.852Z"
   },
   {
    "duration": 0,
    "start_time": "2024-06-05T20:41:22.853Z"
   },
   {
    "duration": 0,
    "start_time": "2024-06-05T20:41:22.854Z"
   },
   {
    "duration": 0,
    "start_time": "2024-06-05T20:41:22.855Z"
   },
   {
    "duration": 0,
    "start_time": "2024-06-05T20:41:22.855Z"
   },
   {
    "duration": 0,
    "start_time": "2024-06-05T20:41:22.856Z"
   },
   {
    "duration": 0,
    "start_time": "2024-06-05T20:41:22.857Z"
   },
   {
    "duration": 0,
    "start_time": "2024-06-05T20:41:22.858Z"
   },
   {
    "duration": 0,
    "start_time": "2024-06-05T20:41:22.860Z"
   },
   {
    "duration": 0,
    "start_time": "2024-06-05T20:41:22.861Z"
   },
   {
    "duration": 0,
    "start_time": "2024-06-05T20:41:22.861Z"
   },
   {
    "duration": 7436,
    "start_time": "2024-06-05T20:42:01.349Z"
   },
   {
    "duration": 5,
    "start_time": "2024-06-05T20:42:08.788Z"
   },
   {
    "duration": 65,
    "start_time": "2024-06-05T20:42:08.794Z"
   },
   {
    "duration": 13,
    "start_time": "2024-06-05T20:42:08.861Z"
   },
   {
    "duration": 50,
    "start_time": "2024-06-05T20:42:08.876Z"
   },
   {
    "duration": 10,
    "start_time": "2024-06-05T20:42:08.927Z"
   },
   {
    "duration": 6,
    "start_time": "2024-06-05T20:42:08.939Z"
   },
   {
    "duration": 23,
    "start_time": "2024-06-05T20:42:08.946Z"
   },
   {
    "duration": 18,
    "start_time": "2024-06-05T20:42:08.970Z"
   },
   {
    "duration": 15,
    "start_time": "2024-06-05T20:42:08.990Z"
   },
   {
    "duration": 15,
    "start_time": "2024-06-05T20:42:09.006Z"
   },
   {
    "duration": 15,
    "start_time": "2024-06-05T20:42:09.023Z"
   },
   {
    "duration": 34,
    "start_time": "2024-06-05T20:42:09.040Z"
   },
   {
    "duration": 404,
    "start_time": "2024-06-05T20:42:09.076Z"
   },
   {
    "duration": 395,
    "start_time": "2024-06-05T20:42:09.482Z"
   },
   {
    "duration": 409,
    "start_time": "2024-06-05T20:42:09.879Z"
   },
   {
    "duration": 6,
    "start_time": "2024-06-05T20:42:10.289Z"
   },
   {
    "duration": 448,
    "start_time": "2024-06-05T20:42:10.297Z"
   },
   {
    "duration": 19,
    "start_time": "2024-06-05T20:42:10.746Z"
   },
   {
    "duration": 752,
    "start_time": "2024-06-05T20:42:10.767Z"
   },
   {
    "duration": 1093,
    "start_time": "2024-06-05T20:42:11.520Z"
   },
   {
    "duration": 3,
    "start_time": "2024-06-05T20:42:12.614Z"
   },
   {
    "duration": 5,
    "start_time": "2024-06-05T20:42:12.618Z"
   },
   {
    "duration": 10,
    "start_time": "2024-06-05T20:42:12.624Z"
   },
   {
    "duration": 20,
    "start_time": "2024-06-05T20:42:12.636Z"
   },
   {
    "duration": 9,
    "start_time": "2024-06-05T20:42:12.658Z"
   },
   {
    "duration": 15,
    "start_time": "2024-06-05T20:42:12.668Z"
   },
   {
    "duration": 0,
    "start_time": "2024-06-05T20:42:12.685Z"
   },
   {
    "duration": 0,
    "start_time": "2024-06-05T20:42:12.686Z"
   },
   {
    "duration": 0,
    "start_time": "2024-06-05T20:42:12.687Z"
   },
   {
    "duration": 1,
    "start_time": "2024-06-05T20:42:12.688Z"
   },
   {
    "duration": 0,
    "start_time": "2024-06-05T20:42:12.690Z"
   },
   {
    "duration": 0,
    "start_time": "2024-06-05T20:42:12.691Z"
   },
   {
    "duration": 0,
    "start_time": "2024-06-05T20:42:12.692Z"
   },
   {
    "duration": 0,
    "start_time": "2024-06-05T20:42:12.693Z"
   },
   {
    "duration": 0,
    "start_time": "2024-06-05T20:42:12.694Z"
   },
   {
    "duration": 0,
    "start_time": "2024-06-05T20:42:12.695Z"
   },
   {
    "duration": 0,
    "start_time": "2024-06-05T20:42:12.696Z"
   },
   {
    "duration": 0,
    "start_time": "2024-06-05T20:42:12.697Z"
   },
   {
    "duration": 0,
    "start_time": "2024-06-05T20:42:12.698Z"
   },
   {
    "duration": 0,
    "start_time": "2024-06-05T20:42:12.699Z"
   },
   {
    "duration": 0,
    "start_time": "2024-06-05T20:42:12.700Z"
   },
   {
    "duration": 0,
    "start_time": "2024-06-05T20:42:12.702Z"
   },
   {
    "duration": 0,
    "start_time": "2024-06-05T20:42:12.703Z"
   },
   {
    "duration": 0,
    "start_time": "2024-06-05T20:42:12.704Z"
   },
   {
    "duration": 0,
    "start_time": "2024-06-05T20:42:12.745Z"
   },
   {
    "duration": 0,
    "start_time": "2024-06-05T20:42:12.746Z"
   },
   {
    "duration": 0,
    "start_time": "2024-06-05T20:42:12.748Z"
   },
   {
    "duration": 0,
    "start_time": "2024-06-05T20:42:12.749Z"
   },
   {
    "duration": 1,
    "start_time": "2024-06-05T20:42:12.749Z"
   },
   {
    "duration": 0,
    "start_time": "2024-06-05T20:42:12.750Z"
   },
   {
    "duration": 5,
    "start_time": "2024-06-05T20:44:48.578Z"
   },
   {
    "duration": 18,
    "start_time": "2024-06-05T20:46:06.828Z"
   },
   {
    "duration": 3,
    "start_time": "2024-06-05T20:46:15.029Z"
   },
   {
    "duration": 66,
    "start_time": "2024-06-05T20:46:15.034Z"
   },
   {
    "duration": 33,
    "start_time": "2024-06-05T20:46:15.102Z"
   },
   {
    "duration": 36,
    "start_time": "2024-06-05T20:46:15.137Z"
   },
   {
    "duration": 0,
    "start_time": "2024-06-05T20:46:15.175Z"
   },
   {
    "duration": 0,
    "start_time": "2024-06-05T20:46:15.176Z"
   },
   {
    "duration": 0,
    "start_time": "2024-06-05T20:46:15.177Z"
   },
   {
    "duration": 0,
    "start_time": "2024-06-05T20:46:15.178Z"
   },
   {
    "duration": 0,
    "start_time": "2024-06-05T20:46:15.179Z"
   },
   {
    "duration": 0,
    "start_time": "2024-06-05T20:46:15.180Z"
   },
   {
    "duration": 0,
    "start_time": "2024-06-05T20:46:15.181Z"
   },
   {
    "duration": 0,
    "start_time": "2024-06-05T20:46:15.182Z"
   },
   {
    "duration": 0,
    "start_time": "2024-06-05T20:46:15.183Z"
   },
   {
    "duration": 0,
    "start_time": "2024-06-05T20:46:15.184Z"
   },
   {
    "duration": 0,
    "start_time": "2024-06-05T20:46:15.185Z"
   },
   {
    "duration": 0,
    "start_time": "2024-06-05T20:46:15.186Z"
   },
   {
    "duration": 0,
    "start_time": "2024-06-05T20:46:15.187Z"
   },
   {
    "duration": 0,
    "start_time": "2024-06-05T20:46:15.188Z"
   },
   {
    "duration": 0,
    "start_time": "2024-06-05T20:46:15.189Z"
   },
   {
    "duration": 0,
    "start_time": "2024-06-05T20:46:15.190Z"
   },
   {
    "duration": 0,
    "start_time": "2024-06-05T20:46:15.191Z"
   },
   {
    "duration": 0,
    "start_time": "2024-06-05T20:46:15.192Z"
   },
   {
    "duration": 0,
    "start_time": "2024-06-05T20:46:15.193Z"
   },
   {
    "duration": 0,
    "start_time": "2024-06-05T20:46:15.194Z"
   },
   {
    "duration": 0,
    "start_time": "2024-06-05T20:46:15.195Z"
   },
   {
    "duration": 0,
    "start_time": "2024-06-05T20:46:15.196Z"
   },
   {
    "duration": 1,
    "start_time": "2024-06-05T20:46:15.196Z"
   },
   {
    "duration": 0,
    "start_time": "2024-06-05T20:46:15.198Z"
   },
   {
    "duration": 0,
    "start_time": "2024-06-05T20:46:15.199Z"
   },
   {
    "duration": 0,
    "start_time": "2024-06-05T20:46:15.200Z"
   },
   {
    "duration": 12,
    "start_time": "2024-06-05T20:46:43.877Z"
   },
   {
    "duration": 38,
    "start_time": "2024-06-05T20:46:55.765Z"
   },
   {
    "duration": 11,
    "start_time": "2024-06-05T20:46:55.805Z"
   },
   {
    "duration": 49,
    "start_time": "2024-06-05T20:46:55.818Z"
   },
   {
    "duration": 11,
    "start_time": "2024-06-05T20:46:55.869Z"
   },
   {
    "duration": 5,
    "start_time": "2024-06-05T20:46:55.882Z"
   },
   {
    "duration": 35,
    "start_time": "2024-06-05T20:46:55.889Z"
   },
   {
    "duration": 18,
    "start_time": "2024-06-05T20:46:55.926Z"
   },
   {
    "duration": 19,
    "start_time": "2024-06-05T20:46:55.945Z"
   },
   {
    "duration": 10,
    "start_time": "2024-06-05T20:46:55.966Z"
   },
   {
    "duration": 15,
    "start_time": "2024-06-05T20:46:55.978Z"
   },
   {
    "duration": 22,
    "start_time": "2024-06-05T20:46:55.995Z"
   },
   {
    "duration": 413,
    "start_time": "2024-06-05T20:46:56.019Z"
   },
   {
    "duration": 381,
    "start_time": "2024-06-05T20:46:56.433Z"
   },
   {
    "duration": 419,
    "start_time": "2024-06-05T20:46:56.817Z"
   },
   {
    "duration": 6,
    "start_time": "2024-06-05T20:46:57.244Z"
   },
   {
    "duration": 460,
    "start_time": "2024-06-05T20:46:57.251Z"
   },
   {
    "duration": 35,
    "start_time": "2024-06-05T20:46:57.713Z"
   },
   {
    "duration": 729,
    "start_time": "2024-06-05T20:46:57.750Z"
   },
   {
    "duration": 1113,
    "start_time": "2024-06-05T20:46:58.481Z"
   },
   {
    "duration": 3,
    "start_time": "2024-06-05T20:46:59.595Z"
   },
   {
    "duration": 5,
    "start_time": "2024-06-05T20:46:59.599Z"
   },
   {
    "duration": 4,
    "start_time": "2024-06-05T20:46:59.605Z"
   },
   {
    "duration": 12,
    "start_time": "2024-06-05T20:46:59.610Z"
   },
   {
    "duration": 24,
    "start_time": "2024-06-05T20:46:59.623Z"
   },
   {
    "duration": 5,
    "start_time": "2024-06-05T20:46:59.648Z"
   },
   {
    "duration": 17,
    "start_time": "2024-06-05T20:46:59.654Z"
   },
   {
    "duration": 8,
    "start_time": "2024-06-05T20:46:59.672Z"
   },
   {
    "duration": 12,
    "start_time": "2024-06-05T20:46:59.682Z"
   },
   {
    "duration": 2161,
    "start_time": "2024-06-05T20:46:59.695Z"
   },
   {
    "duration": 0,
    "start_time": "2024-06-05T20:47:01.858Z"
   },
   {
    "duration": 0,
    "start_time": "2024-06-05T20:47:01.859Z"
   },
   {
    "duration": 0,
    "start_time": "2024-06-05T20:47:01.860Z"
   },
   {
    "duration": 0,
    "start_time": "2024-06-05T20:47:01.861Z"
   },
   {
    "duration": 0,
    "start_time": "2024-06-05T20:47:01.862Z"
   },
   {
    "duration": 0,
    "start_time": "2024-06-05T20:47:01.863Z"
   },
   {
    "duration": 0,
    "start_time": "2024-06-05T20:47:01.864Z"
   },
   {
    "duration": 0,
    "start_time": "2024-06-05T20:47:01.865Z"
   },
   {
    "duration": 0,
    "start_time": "2024-06-05T20:47:01.866Z"
   },
   {
    "duration": 0,
    "start_time": "2024-06-05T20:47:01.868Z"
   },
   {
    "duration": 0,
    "start_time": "2024-06-05T20:47:01.869Z"
   },
   {
    "duration": 0,
    "start_time": "2024-06-05T20:47:01.945Z"
   },
   {
    "duration": 0,
    "start_time": "2024-06-05T20:47:01.946Z"
   },
   {
    "duration": 0,
    "start_time": "2024-06-05T20:47:01.948Z"
   },
   {
    "duration": 0,
    "start_time": "2024-06-05T20:47:01.949Z"
   },
   {
    "duration": 0,
    "start_time": "2024-06-05T20:47:01.950Z"
   },
   {
    "duration": 0,
    "start_time": "2024-06-05T20:47:01.951Z"
   },
   {
    "duration": 0,
    "start_time": "2024-06-05T20:47:01.952Z"
   },
   {
    "duration": 0,
    "start_time": "2024-06-05T20:47:01.953Z"
   },
   {
    "duration": 0,
    "start_time": "2024-06-05T20:47:01.954Z"
   },
   {
    "duration": 5,
    "start_time": "2024-06-05T20:53:15.005Z"
   },
   {
    "duration": 3,
    "start_time": "2024-06-05T20:53:15.539Z"
   },
   {
    "duration": 14,
    "start_time": "2024-06-05T20:53:16.837Z"
   },
   {
    "duration": 12,
    "start_time": "2024-06-05T20:53:18.332Z"
   },
   {
    "duration": 5,
    "start_time": "2024-06-05T20:53:19.118Z"
   },
   {
    "duration": 2,
    "start_time": "2024-06-05T20:53:21.407Z"
   },
   {
    "duration": 3,
    "start_time": "2024-06-05T20:53:22.647Z"
   },
   {
    "duration": 3,
    "start_time": "2024-06-05T20:53:26.591Z"
   },
   {
    "duration": 2109,
    "start_time": "2024-06-05T20:53:28.460Z"
   },
   {
    "duration": 3,
    "start_time": "2024-06-05T20:53:55.987Z"
   },
   {
    "duration": 23,
    "start_time": "2024-06-05T20:53:55.991Z"
   },
   {
    "duration": 13,
    "start_time": "2024-06-05T20:53:56.016Z"
   },
   {
    "duration": 43,
    "start_time": "2024-06-05T20:53:56.031Z"
   },
   {
    "duration": 0,
    "start_time": "2024-06-05T20:53:56.077Z"
   },
   {
    "duration": 0,
    "start_time": "2024-06-05T20:53:56.078Z"
   },
   {
    "duration": 0,
    "start_time": "2024-06-05T20:53:56.080Z"
   },
   {
    "duration": 0,
    "start_time": "2024-06-05T20:53:56.081Z"
   },
   {
    "duration": 0,
    "start_time": "2024-06-05T20:53:56.082Z"
   },
   {
    "duration": 0,
    "start_time": "2024-06-05T20:53:56.084Z"
   },
   {
    "duration": 0,
    "start_time": "2024-06-05T20:53:56.085Z"
   },
   {
    "duration": 0,
    "start_time": "2024-06-05T20:53:56.087Z"
   },
   {
    "duration": 0,
    "start_time": "2024-06-05T20:53:56.088Z"
   },
   {
    "duration": 0,
    "start_time": "2024-06-05T20:53:56.089Z"
   },
   {
    "duration": 0,
    "start_time": "2024-06-05T20:53:56.090Z"
   },
   {
    "duration": 0,
    "start_time": "2024-06-05T20:53:56.092Z"
   },
   {
    "duration": 0,
    "start_time": "2024-06-05T20:53:56.093Z"
   },
   {
    "duration": 0,
    "start_time": "2024-06-05T20:53:56.095Z"
   },
   {
    "duration": 0,
    "start_time": "2024-06-05T20:53:56.096Z"
   },
   {
    "duration": 0,
    "start_time": "2024-06-05T20:53:56.097Z"
   },
   {
    "duration": 0,
    "start_time": "2024-06-05T20:53:56.099Z"
   },
   {
    "duration": 0,
    "start_time": "2024-06-05T20:53:56.101Z"
   },
   {
    "duration": 0,
    "start_time": "2024-06-05T20:53:56.102Z"
   },
   {
    "duration": 0,
    "start_time": "2024-06-05T20:53:56.103Z"
   },
   {
    "duration": 0,
    "start_time": "2024-06-05T20:53:56.104Z"
   },
   {
    "duration": 0,
    "start_time": "2024-06-05T20:53:56.106Z"
   },
   {
    "duration": 0,
    "start_time": "2024-06-05T20:53:56.107Z"
   },
   {
    "duration": 0,
    "start_time": "2024-06-05T20:53:56.109Z"
   },
   {
    "duration": 0,
    "start_time": "2024-06-05T20:53:56.110Z"
   },
   {
    "duration": 0,
    "start_time": "2024-06-05T20:53:56.145Z"
   },
   {
    "duration": 39,
    "start_time": "2024-06-05T20:55:10.945Z"
   },
   {
    "duration": 11,
    "start_time": "2024-06-05T20:55:10.986Z"
   },
   {
    "duration": 63,
    "start_time": "2024-06-05T20:55:10.999Z"
   },
   {
    "duration": 10,
    "start_time": "2024-06-05T20:55:11.064Z"
   },
   {
    "duration": 38,
    "start_time": "2024-06-05T20:55:11.076Z"
   },
   {
    "duration": 56,
    "start_time": "2024-06-05T20:55:11.115Z"
   },
   {
    "duration": 24,
    "start_time": "2024-06-05T20:55:11.173Z"
   },
   {
    "duration": 11,
    "start_time": "2024-06-05T20:55:11.198Z"
   },
   {
    "duration": 30,
    "start_time": "2024-06-05T20:55:11.210Z"
   },
   {
    "duration": 9,
    "start_time": "2024-06-05T20:55:11.242Z"
   },
   {
    "duration": 27,
    "start_time": "2024-06-05T20:55:11.252Z"
   },
   {
    "duration": 399,
    "start_time": "2024-06-05T20:55:11.280Z"
   },
   {
    "duration": 407,
    "start_time": "2024-06-05T20:55:11.680Z"
   },
   {
    "duration": 393,
    "start_time": "2024-06-05T20:55:12.090Z"
   },
   {
    "duration": 6,
    "start_time": "2024-06-05T20:55:12.484Z"
   },
   {
    "duration": 560,
    "start_time": "2024-06-05T20:55:12.491Z"
   },
   {
    "duration": 20,
    "start_time": "2024-06-05T20:55:13.052Z"
   },
   {
    "duration": 619,
    "start_time": "2024-06-05T20:55:13.073Z"
   },
   {
    "duration": 1097,
    "start_time": "2024-06-05T20:55:13.693Z"
   },
   {
    "duration": 3,
    "start_time": "2024-06-05T20:55:14.792Z"
   },
   {
    "duration": 11,
    "start_time": "2024-06-05T20:55:14.796Z"
   },
   {
    "duration": 32,
    "start_time": "2024-06-05T20:55:14.808Z"
   },
   {
    "duration": 12,
    "start_time": "2024-06-05T20:55:14.841Z"
   },
   {
    "duration": 8,
    "start_time": "2024-06-05T20:55:14.855Z"
   },
   {
    "duration": 8,
    "start_time": "2024-06-05T20:55:14.864Z"
   },
   {
    "duration": 9,
    "start_time": "2024-06-05T20:55:14.873Z"
   },
   {
    "duration": 4,
    "start_time": "2024-06-05T20:55:14.884Z"
   },
   {
    "duration": 7,
    "start_time": "2024-06-05T20:55:14.890Z"
   },
   {
    "duration": 2168,
    "start_time": "2024-06-05T20:55:14.899Z"
   },
   {
    "duration": 0,
    "start_time": "2024-06-05T20:55:17.070Z"
   },
   {
    "duration": 0,
    "start_time": "2024-06-05T20:55:17.071Z"
   },
   {
    "duration": 0,
    "start_time": "2024-06-05T20:55:17.144Z"
   },
   {
    "duration": 0,
    "start_time": "2024-06-05T20:55:17.145Z"
   },
   {
    "duration": 0,
    "start_time": "2024-06-05T20:55:17.146Z"
   },
   {
    "duration": 0,
    "start_time": "2024-06-05T20:55:17.148Z"
   },
   {
    "duration": 0,
    "start_time": "2024-06-05T20:55:17.149Z"
   },
   {
    "duration": 0,
    "start_time": "2024-06-05T20:55:17.150Z"
   },
   {
    "duration": 0,
    "start_time": "2024-06-05T20:55:17.151Z"
   },
   {
    "duration": 0,
    "start_time": "2024-06-05T20:55:17.152Z"
   },
   {
    "duration": 0,
    "start_time": "2024-06-05T20:55:17.152Z"
   },
   {
    "duration": 0,
    "start_time": "2024-06-05T20:55:17.153Z"
   },
   {
    "duration": 0,
    "start_time": "2024-06-05T20:55:17.154Z"
   },
   {
    "duration": 0,
    "start_time": "2024-06-05T20:55:17.155Z"
   },
   {
    "duration": 0,
    "start_time": "2024-06-05T20:55:17.156Z"
   },
   {
    "duration": 0,
    "start_time": "2024-06-05T20:55:17.157Z"
   },
   {
    "duration": 0,
    "start_time": "2024-06-05T20:55:17.159Z"
   },
   {
    "duration": 0,
    "start_time": "2024-06-05T20:55:17.160Z"
   },
   {
    "duration": 0,
    "start_time": "2024-06-05T20:55:17.162Z"
   },
   {
    "duration": 0,
    "start_time": "2024-06-05T20:55:17.163Z"
   },
   {
    "duration": 11,
    "start_time": "2024-06-05T20:57:24.748Z"
   },
   {
    "duration": 4,
    "start_time": "2024-06-05T20:57:35.096Z"
   },
   {
    "duration": 3,
    "start_time": "2024-06-05T20:57:43.795Z"
   },
   {
    "duration": 14,
    "start_time": "2024-06-05T20:57:43.799Z"
   },
   {
    "duration": 17,
    "start_time": "2024-06-05T20:57:43.814Z"
   },
   {
    "duration": 20,
    "start_time": "2024-06-05T20:57:43.833Z"
   },
   {
    "duration": 0,
    "start_time": "2024-06-05T20:57:43.855Z"
   },
   {
    "duration": 0,
    "start_time": "2024-06-05T20:57:43.856Z"
   },
   {
    "duration": 0,
    "start_time": "2024-06-05T20:57:43.857Z"
   },
   {
    "duration": 0,
    "start_time": "2024-06-05T20:57:43.859Z"
   },
   {
    "duration": 0,
    "start_time": "2024-06-05T20:57:43.860Z"
   },
   {
    "duration": 0,
    "start_time": "2024-06-05T20:57:43.861Z"
   },
   {
    "duration": 0,
    "start_time": "2024-06-05T20:57:43.862Z"
   },
   {
    "duration": 0,
    "start_time": "2024-06-05T20:57:43.863Z"
   },
   {
    "duration": 0,
    "start_time": "2024-06-05T20:57:43.864Z"
   },
   {
    "duration": 0,
    "start_time": "2024-06-05T20:57:43.866Z"
   },
   {
    "duration": 0,
    "start_time": "2024-06-05T20:57:43.867Z"
   },
   {
    "duration": 0,
    "start_time": "2024-06-05T20:57:43.868Z"
   },
   {
    "duration": 0,
    "start_time": "2024-06-05T20:57:43.869Z"
   },
   {
    "duration": 15,
    "start_time": "2024-06-05T20:57:43.871Z"
   },
   {
    "duration": 58,
    "start_time": "2024-06-05T20:57:43.887Z"
   },
   {
    "duration": 13,
    "start_time": "2024-06-05T20:57:43.947Z"
   },
   {
    "duration": 109,
    "start_time": "2024-06-05T20:57:43.961Z"
   },
   {
    "duration": 395,
    "start_time": "2024-06-05T20:57:44.072Z"
   },
   {
    "duration": 272,
    "start_time": "2024-06-05T20:57:44.468Z"
   },
   {
    "duration": 466,
    "start_time": "2024-06-05T20:57:44.745Z"
   },
   {
    "duration": 139,
    "start_time": "2024-06-05T20:57:45.213Z"
   },
   {
    "duration": 0,
    "start_time": "2024-06-05T20:57:45.354Z"
   },
   {
    "duration": 0,
    "start_time": "2024-06-05T20:57:45.355Z"
   },
   {
    "duration": 0,
    "start_time": "2024-06-05T20:57:45.356Z"
   },
   {
    "duration": 0,
    "start_time": "2024-06-05T20:57:45.356Z"
   },
   {
    "duration": 0,
    "start_time": "2024-06-05T20:57:45.356Z"
   },
   {
    "duration": 37,
    "start_time": "2024-06-05T20:57:56.218Z"
   },
   {
    "duration": 12,
    "start_time": "2024-06-05T20:57:56.257Z"
   },
   {
    "duration": 55,
    "start_time": "2024-06-05T20:57:56.270Z"
   },
   {
    "duration": 14,
    "start_time": "2024-06-05T20:57:56.327Z"
   },
   {
    "duration": 2,
    "start_time": "2024-06-05T20:57:56.346Z"
   },
   {
    "duration": 20,
    "start_time": "2024-06-05T20:57:56.350Z"
   },
   {
    "duration": 19,
    "start_time": "2024-06-05T20:57:56.371Z"
   },
   {
    "duration": 8,
    "start_time": "2024-06-05T20:57:56.391Z"
   },
   {
    "duration": 9,
    "start_time": "2024-06-05T20:57:56.401Z"
   },
   {
    "duration": 42,
    "start_time": "2024-06-05T20:57:56.412Z"
   },
   {
    "duration": 11,
    "start_time": "2024-06-05T20:57:56.455Z"
   },
   {
    "duration": 541,
    "start_time": "2024-06-05T20:57:56.467Z"
   },
   {
    "duration": 389,
    "start_time": "2024-06-05T20:57:57.010Z"
   },
   {
    "duration": 430,
    "start_time": "2024-06-05T20:57:57.402Z"
   },
   {
    "duration": 13,
    "start_time": "2024-06-05T20:57:57.834Z"
   },
   {
    "duration": 432,
    "start_time": "2024-06-05T20:57:57.849Z"
   },
   {
    "duration": 19,
    "start_time": "2024-06-05T20:57:58.283Z"
   },
   {
    "duration": 587,
    "start_time": "2024-06-05T20:57:58.303Z"
   },
   {
    "duration": 1197,
    "start_time": "2024-06-05T20:57:58.891Z"
   },
   {
    "duration": 3,
    "start_time": "2024-06-05T20:58:00.089Z"
   },
   {
    "duration": 33,
    "start_time": "2024-06-05T20:58:00.093Z"
   },
   {
    "duration": 32,
    "start_time": "2024-06-05T20:58:00.128Z"
   },
   {
    "duration": 56,
    "start_time": "2024-06-05T20:58:00.162Z"
   },
   {
    "duration": 37,
    "start_time": "2024-06-05T20:58:00.220Z"
   },
   {
    "duration": 28,
    "start_time": "2024-06-05T20:58:00.258Z"
   },
   {
    "duration": 34,
    "start_time": "2024-06-05T20:58:00.287Z"
   },
   {
    "duration": 10,
    "start_time": "2024-06-05T20:58:00.322Z"
   },
   {
    "duration": 6,
    "start_time": "2024-06-05T20:58:00.333Z"
   },
   {
    "duration": 2309,
    "start_time": "2024-06-05T20:58:00.340Z"
   },
   {
    "duration": 95,
    "start_time": "2024-06-05T20:58:02.651Z"
   },
   {
    "duration": 90979,
    "start_time": "2024-06-05T20:58:02.747Z"
   },
   {
    "duration": 35,
    "start_time": "2024-06-05T20:59:33.728Z"
   },
   {
    "duration": 50,
    "start_time": "2024-06-05T20:59:33.764Z"
   },
   {
    "duration": 10,
    "start_time": "2024-06-05T20:59:33.816Z"
   },
   {
    "duration": 17,
    "start_time": "2024-06-05T20:59:33.827Z"
   },
   {
    "duration": 16,
    "start_time": "2024-06-05T20:59:33.845Z"
   },
   {
    "duration": 15,
    "start_time": "2024-06-05T20:59:33.863Z"
   },
   {
    "duration": 13,
    "start_time": "2024-06-05T20:59:33.879Z"
   },
   {
    "duration": 17,
    "start_time": "2024-06-05T20:59:33.894Z"
   },
   {
    "duration": 110,
    "start_time": "2024-06-05T20:59:33.912Z"
   },
   {
    "duration": 403,
    "start_time": "2024-06-05T20:59:34.025Z"
   },
   {
    "duration": 269,
    "start_time": "2024-06-05T20:59:34.429Z"
   },
   {
    "duration": 461,
    "start_time": "2024-06-05T20:59:34.700Z"
   },
   {
    "duration": 182,
    "start_time": "2024-06-05T20:59:35.162Z"
   },
   {
    "duration": 3,
    "start_time": "2024-06-05T20:59:35.347Z"
   },
   {
    "duration": 104,
    "start_time": "2024-06-05T20:59:35.352Z"
   },
   {
    "duration": 11,
    "start_time": "2024-06-05T20:59:35.458Z"
   },
   {
    "duration": 17,
    "start_time": "2024-06-05T20:59:35.471Z"
   },
   {
    "duration": 80418,
    "start_time": "2024-06-05T20:59:35.489Z"
   },
   {
    "duration": 3,
    "start_time": "2024-06-05T21:01:41.846Z"
   },
   {
    "duration": 91687,
    "start_time": "2024-06-05T21:01:44.918Z"
   },
   {
    "duration": 66,
    "start_time": "2024-06-05T21:08:13.586Z"
   },
   {
    "duration": 245,
    "start_time": "2024-06-05T21:08:20.496Z"
   },
   {
    "duration": 365,
    "start_time": "2024-06-05T21:15:27.283Z"
   },
   {
    "duration": 365,
    "start_time": "2024-06-05T21:16:04.405Z"
   },
   {
    "duration": 3,
    "start_time": "2024-06-05T21:18:09.094Z"
   },
   {
    "duration": 8,
    "start_time": "2024-06-05T21:18:12.716Z"
   },
   {
    "duration": 251,
    "start_time": "2024-06-05T21:19:14.597Z"
   },
   {
    "duration": 561,
    "start_time": "2024-06-05T21:19:34.437Z"
   },
   {
    "duration": 427,
    "start_time": "2024-06-05T21:19:46.986Z"
   },
   {
    "duration": 401,
    "start_time": "2024-06-05T21:20:04.126Z"
   },
   {
    "duration": 416,
    "start_time": "2024-06-05T21:20:09.853Z"
   },
   {
    "duration": 258,
    "start_time": "2024-06-05T21:20:23.775Z"
   },
   {
    "duration": 248,
    "start_time": "2024-06-05T21:20:29.375Z"
   },
   {
    "duration": 8,
    "start_time": "2024-06-05T21:20:46.936Z"
   },
   {
    "duration": 125,
    "start_time": "2024-06-05T21:23:01.846Z"
   },
   {
    "duration": 8,
    "start_time": "2024-06-05T21:23:17.276Z"
   },
   {
    "duration": 233,
    "start_time": "2024-06-05T21:29:08.434Z"
   },
   {
    "duration": 618,
    "start_time": "2024-06-05T21:29:49.397Z"
   },
   {
    "duration": 414,
    "start_time": "2024-06-05T21:30:17.616Z"
   },
   {
    "duration": 137,
    "start_time": "2024-06-05T21:32:03.912Z"
   },
   {
    "duration": 62,
    "start_time": "2024-06-05T21:34:24.393Z"
   },
   {
    "duration": 11,
    "start_time": "2024-06-05T21:34:32.586Z"
   },
   {
    "duration": 3,
    "start_time": "2024-06-05T21:34:53.499Z"
   },
   {
    "duration": 10,
    "start_time": "2024-06-05T21:35:01.947Z"
   },
   {
    "duration": 4,
    "start_time": "2024-06-05T21:35:07.378Z"
   },
   {
    "duration": 3,
    "start_time": "2024-06-05T21:35:16.255Z"
   },
   {
    "duration": 4,
    "start_time": "2024-06-05T21:36:09.575Z"
   },
   {
    "duration": 13,
    "start_time": "2024-06-05T21:36:37.194Z"
   },
   {
    "duration": 68,
    "start_time": "2024-06-05T21:41:32.839Z"
   },
   {
    "duration": 1165,
    "start_time": "2024-06-05T21:41:37.650Z"
   },
   {
    "duration": 9,
    "start_time": "2024-06-05T21:42:00.661Z"
   },
   {
    "duration": 115,
    "start_time": "2024-06-05T21:42:13.900Z"
   },
   {
    "duration": 121,
    "start_time": "2024-06-05T21:42:31.382Z"
   },
   {
    "duration": 1158,
    "start_time": "2024-06-05T21:42:43.459Z"
   },
   {
    "duration": 1129,
    "start_time": "2024-06-05T21:43:58.350Z"
   },
   {
    "duration": 170,
    "start_time": "2024-06-05T21:44:54.411Z"
   },
   {
    "duration": 169,
    "start_time": "2024-06-05T21:45:43.747Z"
   },
   {
    "duration": 2,
    "start_time": "2024-06-05T21:46:56.263Z"
   },
   {
    "duration": 68,
    "start_time": "2024-06-05T21:50:43.426Z"
   },
   {
    "duration": 62,
    "start_time": "2024-06-05T21:50:53.343Z"
   },
   {
    "duration": 540,
    "start_time": "2024-06-05T21:51:00.444Z"
   },
   {
    "duration": 669,
    "start_time": "2024-06-05T21:51:27.863Z"
   },
   {
    "duration": 724,
    "start_time": "2024-06-05T21:52:03.623Z"
   },
   {
    "duration": 624,
    "start_time": "2024-06-05T21:52:07.003Z"
   },
   {
    "duration": 625,
    "start_time": "2024-06-05T21:52:10.011Z"
   },
   {
    "duration": 622,
    "start_time": "2024-06-05T21:52:16.183Z"
   },
   {
    "duration": 612,
    "start_time": "2024-06-05T21:52:52.424Z"
   },
   {
    "duration": 603,
    "start_time": "2024-06-05T21:53:31.786Z"
   },
   {
    "duration": 834,
    "start_time": "2024-06-05T21:54:17.379Z"
   },
   {
    "duration": 583,
    "start_time": "2024-06-05T21:54:25.662Z"
   },
   {
    "duration": 594,
    "start_time": "2024-06-05T21:55:29.659Z"
   },
   {
    "duration": 68,
    "start_time": "2024-06-05T21:55:56.667Z"
   },
   {
    "duration": 4,
    "start_time": "2024-06-05T21:56:11.653Z"
   },
   {
    "duration": 15,
    "start_time": "2024-06-05T21:56:34.418Z"
   },
   {
    "duration": 15,
    "start_time": "2024-06-05T21:56:59.611Z"
   },
   {
    "duration": 88,
    "start_time": "2024-06-05T21:57:09.945Z"
   },
   {
    "duration": 5,
    "start_time": "2024-06-05T21:57:19.336Z"
   },
   {
    "duration": 624,
    "start_time": "2024-06-05T21:57:23.449Z"
   },
   {
    "duration": 290,
    "start_time": "2024-06-05T21:59:49.778Z"
   },
   {
    "duration": 3,
    "start_time": "2024-06-05T22:00:16.819Z"
   },
   {
    "duration": 501,
    "start_time": "2024-06-05T22:00:21.282Z"
   },
   {
    "duration": 744,
    "start_time": "2024-06-05T22:01:25.851Z"
   },
   {
    "duration": 352,
    "start_time": "2024-06-05T22:02:58.536Z"
   },
   {
    "duration": 15,
    "start_time": "2024-06-05T22:05:15.704Z"
   },
   {
    "duration": 644,
    "start_time": "2024-06-05T22:08:39.956Z"
   },
   {
    "duration": 1430,
    "start_time": "2024-06-05T22:12:09.765Z"
   },
   {
    "duration": 67,
    "start_time": "2024-06-05T22:12:44.210Z"
   },
   {
    "duration": 1490,
    "start_time": "2024-06-05T22:12:52.662Z"
   },
   {
    "duration": 1410,
    "start_time": "2024-06-05T22:17:36.533Z"
   },
   {
    "duration": 1461,
    "start_time": "2024-06-05T22:18:34.585Z"
   },
   {
    "duration": 1508,
    "start_time": "2024-06-05T22:19:15.835Z"
   },
   {
    "duration": 1559,
    "start_time": "2024-06-05T22:19:33.255Z"
   },
   {
    "duration": 11,
    "start_time": "2024-06-05T22:21:19.963Z"
   },
   {
    "duration": 125,
    "start_time": "2024-06-05T22:21:19.976Z"
   },
   {
    "duration": 475,
    "start_time": "2024-06-05T22:21:20.103Z"
   },
   {
    "duration": 290,
    "start_time": "2024-06-05T22:21:20.581Z"
   },
   {
    "duration": 681,
    "start_time": "2024-06-05T22:21:20.873Z"
   },
   {
    "duration": 2,
    "start_time": "2024-06-05T22:21:21.557Z"
   },
   {
    "duration": 685,
    "start_time": "2024-06-05T22:21:21.562Z"
   },
   {
    "duration": 106,
    "start_time": "2024-06-05T22:21:22.248Z"
   },
   {
    "duration": 3,
    "start_time": "2024-06-05T22:21:22.447Z"
   },
   {
    "duration": 96,
    "start_time": "2024-06-05T22:21:22.452Z"
   },
   {
    "duration": 6,
    "start_time": "2024-06-05T22:21:22.550Z"
   },
   {
    "duration": 8,
    "start_time": "2024-06-05T22:21:22.557Z"
   },
   {
    "duration": 85865,
    "start_time": "2024-06-05T22:21:22.567Z"
   },
   {
    "duration": 0,
    "start_time": "2024-06-05T22:22:48.734Z"
   },
   {
    "duration": 489,
    "start_time": "2024-06-05T22:22:57.393Z"
   },
   {
    "duration": 855,
    "start_time": "2024-06-05T22:27:09.105Z"
   },
   {
    "duration": 621,
    "start_time": "2024-06-05T22:27:28.745Z"
   },
   {
    "duration": 74,
    "start_time": "2024-06-05T22:29:25.064Z"
   },
   {
    "duration": 651,
    "start_time": "2024-06-05T22:29:50.034Z"
   },
   {
    "duration": 623,
    "start_time": "2024-06-05T22:30:40.490Z"
   },
   {
    "duration": 664,
    "start_time": "2024-06-05T22:30:53.210Z"
   },
   {
    "duration": 535,
    "start_time": "2024-06-05T22:31:23.415Z"
   },
   {
    "duration": 343,
    "start_time": "2024-06-05T22:34:27.843Z"
   },
   {
    "duration": 146,
    "start_time": "2024-06-05T22:34:43.064Z"
   },
   {
    "duration": 38,
    "start_time": "2024-06-05T22:34:57.290Z"
   },
   {
    "duration": 50,
    "start_time": "2024-06-05T22:34:57.331Z"
   },
   {
    "duration": 11,
    "start_time": "2024-06-05T22:34:57.383Z"
   },
   {
    "duration": 19,
    "start_time": "2024-06-05T22:34:57.395Z"
   },
   {
    "duration": 10,
    "start_time": "2024-06-05T22:34:57.416Z"
   },
   {
    "duration": 10,
    "start_time": "2024-06-05T22:34:57.428Z"
   },
   {
    "duration": 11,
    "start_time": "2024-06-05T22:34:57.440Z"
   },
   {
    "duration": 18,
    "start_time": "2024-06-05T22:34:57.453Z"
   },
   {
    "duration": 126,
    "start_time": "2024-06-05T22:34:57.473Z"
   },
   {
    "duration": 488,
    "start_time": "2024-06-05T22:34:57.602Z"
   },
   {
    "duration": 295,
    "start_time": "2024-06-05T22:34:58.092Z"
   },
   {
    "duration": 564,
    "start_time": "2024-06-05T22:34:58.389Z"
   },
   {
    "duration": 158,
    "start_time": "2024-06-05T22:34:58.954Z"
   },
   {
    "duration": 0,
    "start_time": "2024-06-05T22:34:59.113Z"
   },
   {
    "duration": 0,
    "start_time": "2024-06-05T22:34:59.114Z"
   },
   {
    "duration": 0,
    "start_time": "2024-06-05T22:34:59.115Z"
   },
   {
    "duration": 0,
    "start_time": "2024-06-05T22:34:59.116Z"
   },
   {
    "duration": 0,
    "start_time": "2024-06-05T22:34:59.117Z"
   },
   {
    "duration": 0,
    "start_time": "2024-06-05T22:34:59.118Z"
   },
   {
    "duration": 671,
    "start_time": "2024-06-05T22:36:45.874Z"
   },
   {
    "duration": 571,
    "start_time": "2024-06-05T22:43:45.867Z"
   },
   {
    "duration": 761,
    "start_time": "2024-06-05T22:52:09.437Z"
   },
   {
    "duration": 564,
    "start_time": "2024-06-05T22:52:23.715Z"
   },
   {
    "duration": 540,
    "start_time": "2024-06-05T22:52:32.194Z"
   },
   {
    "duration": 553,
    "start_time": "2024-06-05T22:52:37.546Z"
   },
   {
    "duration": 540,
    "start_time": "2024-06-05T22:56:59.131Z"
   },
   {
    "duration": 783,
    "start_time": "2024-06-05T22:58:13.124Z"
   },
   {
    "duration": 557,
    "start_time": "2024-06-05T22:58:26.254Z"
   },
   {
    "duration": 613,
    "start_time": "2024-06-05T22:58:31.278Z"
   },
   {
    "duration": 531,
    "start_time": "2024-06-05T22:58:43.971Z"
   },
   {
    "duration": 553,
    "start_time": "2024-06-05T22:59:34.670Z"
   },
   {
    "duration": 155,
    "start_time": "2024-06-05T23:00:54.911Z"
   },
   {
    "duration": 556,
    "start_time": "2024-06-05T23:01:33.220Z"
   },
   {
    "duration": 757,
    "start_time": "2024-06-05T23:01:45.170Z"
   },
   {
    "duration": 38,
    "start_time": "2024-06-05T23:02:47.380Z"
   },
   {
    "duration": 51,
    "start_time": "2024-06-05T23:02:47.420Z"
   },
   {
    "duration": 14,
    "start_time": "2024-06-05T23:02:47.473Z"
   },
   {
    "duration": 13,
    "start_time": "2024-06-05T23:02:47.490Z"
   },
   {
    "duration": 11,
    "start_time": "2024-06-05T23:02:47.505Z"
   },
   {
    "duration": 10,
    "start_time": "2024-06-05T23:02:47.517Z"
   },
   {
    "duration": 23,
    "start_time": "2024-06-05T23:02:47.528Z"
   },
   {
    "duration": 8,
    "start_time": "2024-06-05T23:02:47.553Z"
   },
   {
    "duration": 132,
    "start_time": "2024-06-05T23:02:47.563Z"
   },
   {
    "duration": 451,
    "start_time": "2024-06-05T23:02:47.698Z"
   },
   {
    "duration": 279,
    "start_time": "2024-06-05T23:02:48.151Z"
   },
   {
    "duration": 541,
    "start_time": "2024-06-05T23:02:48.432Z"
   },
   {
    "duration": 157,
    "start_time": "2024-06-05T23:02:48.975Z"
   },
   {
    "duration": 0,
    "start_time": "2024-06-05T23:02:49.134Z"
   },
   {
    "duration": 0,
    "start_time": "2024-06-05T23:02:49.135Z"
   },
   {
    "duration": 0,
    "start_time": "2024-06-05T23:02:49.136Z"
   },
   {
    "duration": 0,
    "start_time": "2024-06-05T23:02:49.145Z"
   },
   {
    "duration": 0,
    "start_time": "2024-06-05T23:02:49.146Z"
   },
   {
    "duration": 0,
    "start_time": "2024-06-05T23:02:49.147Z"
   },
   {
    "duration": 539,
    "start_time": "2024-06-05T23:03:28.440Z"
   },
   {
    "duration": 773,
    "start_time": "2024-06-05T23:06:05.968Z"
   },
   {
    "duration": 573,
    "start_time": "2024-06-05T23:06:26.198Z"
   },
   {
    "duration": 1471,
    "start_time": "2024-06-05T23:14:45.390Z"
   },
   {
    "duration": 17,
    "start_time": "2024-06-05T23:18:06.749Z"
   },
   {
    "duration": 38,
    "start_time": "2024-06-05T23:18:26.317Z"
   },
   {
    "duration": 51,
    "start_time": "2024-06-05T23:18:26.357Z"
   },
   {
    "duration": 11,
    "start_time": "2024-06-05T23:18:26.410Z"
   },
   {
    "duration": 38,
    "start_time": "2024-06-05T23:18:26.422Z"
   },
   {
    "duration": 16,
    "start_time": "2024-06-05T23:18:26.462Z"
   },
   {
    "duration": 29,
    "start_time": "2024-06-05T23:18:26.480Z"
   },
   {
    "duration": 40,
    "start_time": "2024-06-05T23:18:26.511Z"
   },
   {
    "duration": 14,
    "start_time": "2024-06-05T23:18:26.552Z"
   },
   {
    "duration": 117,
    "start_time": "2024-06-05T23:18:26.568Z"
   },
   {
    "duration": 476,
    "start_time": "2024-06-05T23:18:26.687Z"
   },
   {
    "duration": 306,
    "start_time": "2024-06-05T23:18:27.165Z"
   },
   {
    "duration": 593,
    "start_time": "2024-06-05T23:18:27.473Z"
   },
   {
    "duration": 1498,
    "start_time": "2024-06-05T23:18:28.068Z"
   },
   {
    "duration": 0,
    "start_time": "2024-06-05T23:18:29.568Z"
   },
   {
    "duration": 0,
    "start_time": "2024-06-05T23:18:29.569Z"
   },
   {
    "duration": 0,
    "start_time": "2024-06-05T23:18:29.570Z"
   },
   {
    "duration": 0,
    "start_time": "2024-06-05T23:18:29.571Z"
   },
   {
    "duration": 0,
    "start_time": "2024-06-05T23:18:29.572Z"
   },
   {
    "duration": 0,
    "start_time": "2024-06-05T23:18:29.573Z"
   },
   {
    "duration": 0,
    "start_time": "2024-06-05T23:18:29.574Z"
   },
   {
    "duration": 40,
    "start_time": "2024-06-05T23:22:06.908Z"
   },
   {
    "duration": 13,
    "start_time": "2024-06-05T23:22:06.950Z"
   },
   {
    "duration": 57,
    "start_time": "2024-06-05T23:22:06.964Z"
   },
   {
    "duration": 12,
    "start_time": "2024-06-05T23:22:07.022Z"
   },
   {
    "duration": 3,
    "start_time": "2024-06-05T23:22:07.036Z"
   },
   {
    "duration": 23,
    "start_time": "2024-06-05T23:22:07.040Z"
   },
   {
    "duration": 22,
    "start_time": "2024-06-05T23:22:07.064Z"
   },
   {
    "duration": 36,
    "start_time": "2024-06-05T23:22:07.088Z"
   },
   {
    "duration": 10,
    "start_time": "2024-06-05T23:22:07.126Z"
   },
   {
    "duration": 13,
    "start_time": "2024-06-05T23:22:07.145Z"
   },
   {
    "duration": 14,
    "start_time": "2024-06-05T23:22:07.160Z"
   },
   {
    "duration": 457,
    "start_time": "2024-06-05T23:22:07.175Z"
   },
   {
    "duration": 649,
    "start_time": "2024-06-05T23:22:07.633Z"
   },
   {
    "duration": 412,
    "start_time": "2024-06-05T23:22:08.286Z"
   },
   {
    "duration": 7,
    "start_time": "2024-06-05T23:22:08.700Z"
   },
   {
    "duration": 471,
    "start_time": "2024-06-05T23:22:08.709Z"
   },
   {
    "duration": 20,
    "start_time": "2024-06-05T23:22:09.182Z"
   },
   {
    "duration": 160,
    "start_time": "2024-06-05T23:22:09.204Z"
   },
   {
    "duration": 0,
    "start_time": "2024-06-05T23:22:09.366Z"
   },
   {
    "duration": 0,
    "start_time": "2024-06-05T23:22:09.367Z"
   },
   {
    "duration": 0,
    "start_time": "2024-06-05T23:22:09.368Z"
   },
   {
    "duration": 0,
    "start_time": "2024-06-05T23:22:09.370Z"
   },
   {
    "duration": 0,
    "start_time": "2024-06-05T23:22:09.371Z"
   },
   {
    "duration": 0,
    "start_time": "2024-06-05T23:22:09.372Z"
   },
   {
    "duration": 0,
    "start_time": "2024-06-05T23:22:09.374Z"
   },
   {
    "duration": 0,
    "start_time": "2024-06-05T23:22:09.375Z"
   },
   {
    "duration": 0,
    "start_time": "2024-06-05T23:22:09.377Z"
   },
   {
    "duration": 0,
    "start_time": "2024-06-05T23:22:09.379Z"
   },
   {
    "duration": 0,
    "start_time": "2024-06-05T23:22:09.380Z"
   },
   {
    "duration": 0,
    "start_time": "2024-06-05T23:22:09.382Z"
   },
   {
    "duration": 0,
    "start_time": "2024-06-05T23:22:09.383Z"
   },
   {
    "duration": 0,
    "start_time": "2024-06-05T23:22:09.385Z"
   },
   {
    "duration": 0,
    "start_time": "2024-06-05T23:22:09.386Z"
   },
   {
    "duration": 0,
    "start_time": "2024-06-05T23:22:09.388Z"
   },
   {
    "duration": 0,
    "start_time": "2024-06-05T23:22:09.389Z"
   },
   {
    "duration": 0,
    "start_time": "2024-06-05T23:22:09.390Z"
   },
   {
    "duration": 0,
    "start_time": "2024-06-05T23:22:09.392Z"
   },
   {
    "duration": 0,
    "start_time": "2024-06-05T23:22:09.393Z"
   },
   {
    "duration": 0,
    "start_time": "2024-06-05T23:22:09.395Z"
   },
   {
    "duration": 0,
    "start_time": "2024-06-05T23:22:09.396Z"
   },
   {
    "duration": 0,
    "start_time": "2024-06-05T23:22:09.447Z"
   },
   {
    "duration": 1,
    "start_time": "2024-06-05T23:22:09.449Z"
   },
   {
    "duration": 0,
    "start_time": "2024-06-05T23:22:09.451Z"
   },
   {
    "duration": 0,
    "start_time": "2024-06-05T23:22:09.452Z"
   },
   {
    "duration": 0,
    "start_time": "2024-06-05T23:22:09.454Z"
   },
   {
    "duration": 0,
    "start_time": "2024-06-05T23:22:09.456Z"
   },
   {
    "duration": 0,
    "start_time": "2024-06-05T23:22:09.458Z"
   },
   {
    "duration": 0,
    "start_time": "2024-06-05T23:22:09.459Z"
   },
   {
    "duration": 0,
    "start_time": "2024-06-05T23:22:09.461Z"
   },
   {
    "duration": 0,
    "start_time": "2024-06-05T23:22:09.462Z"
   },
   {
    "duration": 0,
    "start_time": "2024-06-05T23:22:09.464Z"
   },
   {
    "duration": 7939,
    "start_time": "2024-06-05T23:23:23.844Z"
   },
   {
    "duration": 6,
    "start_time": "2024-06-05T23:23:31.786Z"
   },
   {
    "duration": 75,
    "start_time": "2024-06-05T23:23:31.793Z"
   },
   {
    "duration": 15,
    "start_time": "2024-06-05T23:23:31.869Z"
   },
   {
    "duration": 78,
    "start_time": "2024-06-05T23:23:31.888Z"
   },
   {
    "duration": 14,
    "start_time": "2024-06-05T23:23:31.968Z"
   },
   {
    "duration": 29,
    "start_time": "2024-06-05T23:23:31.984Z"
   },
   {
    "duration": 25,
    "start_time": "2024-06-05T23:23:32.015Z"
   },
   {
    "duration": 22,
    "start_time": "2024-06-05T23:23:32.042Z"
   },
   {
    "duration": 27,
    "start_time": "2024-06-05T23:23:32.065Z"
   },
   {
    "duration": 9,
    "start_time": "2024-06-05T23:23:32.094Z"
   },
   {
    "duration": 25,
    "start_time": "2024-06-05T23:23:32.105Z"
   },
   {
    "duration": 32,
    "start_time": "2024-06-05T23:23:32.132Z"
   },
   {
    "duration": 427,
    "start_time": "2024-06-05T23:23:32.167Z"
   },
   {
    "duration": 406,
    "start_time": "2024-06-05T23:23:32.595Z"
   },
   {
    "duration": 450,
    "start_time": "2024-06-05T23:23:33.002Z"
   },
   {
    "duration": 6,
    "start_time": "2024-06-05T23:23:33.454Z"
   },
   {
    "duration": 730,
    "start_time": "2024-06-05T23:23:33.462Z"
   },
   {
    "duration": 20,
    "start_time": "2024-06-05T23:23:34.193Z"
   },
   {
    "duration": 161,
    "start_time": "2024-06-05T23:23:34.215Z"
   },
   {
    "duration": 0,
    "start_time": "2024-06-05T23:23:34.378Z"
   },
   {
    "duration": 0,
    "start_time": "2024-06-05T23:23:34.379Z"
   },
   {
    "duration": 0,
    "start_time": "2024-06-05T23:23:34.380Z"
   },
   {
    "duration": 0,
    "start_time": "2024-06-05T23:23:34.381Z"
   },
   {
    "duration": 0,
    "start_time": "2024-06-05T23:23:34.383Z"
   },
   {
    "duration": 0,
    "start_time": "2024-06-05T23:23:34.384Z"
   },
   {
    "duration": 0,
    "start_time": "2024-06-05T23:23:34.385Z"
   },
   {
    "duration": 1,
    "start_time": "2024-06-05T23:23:34.385Z"
   },
   {
    "duration": 0,
    "start_time": "2024-06-05T23:23:34.386Z"
   },
   {
    "duration": 0,
    "start_time": "2024-06-05T23:23:34.388Z"
   },
   {
    "duration": 0,
    "start_time": "2024-06-05T23:23:34.389Z"
   },
   {
    "duration": 0,
    "start_time": "2024-06-05T23:23:34.390Z"
   },
   {
    "duration": 0,
    "start_time": "2024-06-05T23:23:34.391Z"
   },
   {
    "duration": 0,
    "start_time": "2024-06-05T23:23:34.392Z"
   },
   {
    "duration": 0,
    "start_time": "2024-06-05T23:23:34.393Z"
   },
   {
    "duration": 0,
    "start_time": "2024-06-05T23:23:34.394Z"
   },
   {
    "duration": 0,
    "start_time": "2024-06-05T23:23:34.395Z"
   },
   {
    "duration": 0,
    "start_time": "2024-06-05T23:23:34.396Z"
   },
   {
    "duration": 0,
    "start_time": "2024-06-05T23:23:34.397Z"
   },
   {
    "duration": 0,
    "start_time": "2024-06-05T23:23:34.398Z"
   },
   {
    "duration": 0,
    "start_time": "2024-06-05T23:23:34.399Z"
   },
   {
    "duration": 0,
    "start_time": "2024-06-05T23:23:34.400Z"
   },
   {
    "duration": 0,
    "start_time": "2024-06-05T23:23:34.401Z"
   },
   {
    "duration": 0,
    "start_time": "2024-06-05T23:23:34.402Z"
   },
   {
    "duration": 0,
    "start_time": "2024-06-05T23:23:34.403Z"
   },
   {
    "duration": 0,
    "start_time": "2024-06-05T23:23:34.445Z"
   },
   {
    "duration": 0,
    "start_time": "2024-06-05T23:23:34.447Z"
   },
   {
    "duration": 0,
    "start_time": "2024-06-05T23:23:34.448Z"
   },
   {
    "duration": 0,
    "start_time": "2024-06-05T23:23:34.449Z"
   },
   {
    "duration": 0,
    "start_time": "2024-06-05T23:23:34.449Z"
   },
   {
    "duration": 0,
    "start_time": "2024-06-05T23:23:34.450Z"
   },
   {
    "duration": 0,
    "start_time": "2024-06-05T23:23:34.452Z"
   },
   {
    "duration": 0,
    "start_time": "2024-06-05T23:23:34.452Z"
   },
   {
    "duration": 7878,
    "start_time": "2024-06-05T23:25:04.434Z"
   },
   {
    "duration": 6,
    "start_time": "2024-06-05T23:25:12.315Z"
   },
   {
    "duration": 49,
    "start_time": "2024-06-05T23:25:12.322Z"
   },
   {
    "duration": 14,
    "start_time": "2024-06-05T23:25:12.372Z"
   },
   {
    "duration": 60,
    "start_time": "2024-06-05T23:25:12.389Z"
   },
   {
    "duration": 12,
    "start_time": "2024-06-05T23:25:12.451Z"
   },
   {
    "duration": 8,
    "start_time": "2024-06-05T23:25:12.464Z"
   },
   {
    "duration": 40,
    "start_time": "2024-06-05T23:25:12.474Z"
   },
   {
    "duration": 23,
    "start_time": "2024-06-05T23:25:12.515Z"
   },
   {
    "duration": 14,
    "start_time": "2024-06-05T23:25:12.539Z"
   },
   {
    "duration": 11,
    "start_time": "2024-06-05T23:25:12.555Z"
   },
   {
    "duration": 19,
    "start_time": "2024-06-05T23:25:12.568Z"
   },
   {
    "duration": 11,
    "start_time": "2024-06-05T23:25:12.589Z"
   },
   {
    "duration": 462,
    "start_time": "2024-06-05T23:25:12.603Z"
   },
   {
    "duration": 433,
    "start_time": "2024-06-05T23:25:13.066Z"
   },
   {
    "duration": 448,
    "start_time": "2024-06-05T23:25:13.501Z"
   },
   {
    "duration": 6,
    "start_time": "2024-06-05T23:25:13.951Z"
   },
   {
    "duration": 479,
    "start_time": "2024-06-05T23:25:13.959Z"
   },
   {
    "duration": 22,
    "start_time": "2024-06-05T23:25:14.440Z"
   },
   {
    "duration": 600,
    "start_time": "2024-06-05T23:25:14.464Z"
   },
   {
    "duration": 1238,
    "start_time": "2024-06-05T23:25:15.066Z"
   },
   {
    "duration": 3,
    "start_time": "2024-06-05T23:25:16.306Z"
   },
   {
    "duration": 8,
    "start_time": "2024-06-05T23:25:16.310Z"
   },
   {
    "duration": 17,
    "start_time": "2024-06-05T23:25:16.320Z"
   },
   {
    "duration": 12,
    "start_time": "2024-06-05T23:25:16.338Z"
   },
   {
    "duration": 8,
    "start_time": "2024-06-05T23:25:16.352Z"
   },
   {
    "duration": 5,
    "start_time": "2024-06-05T23:25:16.362Z"
   },
   {
    "duration": 3,
    "start_time": "2024-06-05T23:25:16.369Z"
   },
   {
    "duration": 30,
    "start_time": "2024-06-05T23:25:16.374Z"
   },
   {
    "duration": 37,
    "start_time": "2024-06-05T23:25:16.406Z"
   },
   {
    "duration": 2317,
    "start_time": "2024-06-05T23:25:16.445Z"
   },
   {
    "duration": 5,
    "start_time": "2024-06-05T23:25:18.847Z"
   },
   {
    "duration": 98617,
    "start_time": "2024-06-05T23:25:18.854Z"
   },
   {
    "duration": 38,
    "start_time": "2024-06-05T23:26:57.473Z"
   },
   {
    "duration": 53,
    "start_time": "2024-06-05T23:26:57.513Z"
   },
   {
    "duration": 11,
    "start_time": "2024-06-05T23:26:57.569Z"
   },
   {
    "duration": 10,
    "start_time": "2024-06-05T23:26:57.581Z"
   },
   {
    "duration": 11,
    "start_time": "2024-06-05T23:26:57.593Z"
   },
   {
    "duration": 19,
    "start_time": "2024-06-05T23:26:57.607Z"
   },
   {
    "duration": 27,
    "start_time": "2024-06-05T23:26:57.628Z"
   },
   {
    "duration": 17,
    "start_time": "2024-06-05T23:26:57.660Z"
   },
   {
    "duration": 126,
    "start_time": "2024-06-05T23:26:57.678Z"
   },
   {
    "duration": 490,
    "start_time": "2024-06-05T23:26:57.806Z"
   },
   {
    "duration": 294,
    "start_time": "2024-06-05T23:26:58.298Z"
   },
   {
    "duration": 551,
    "start_time": "2024-06-05T23:26:58.594Z"
   },
   {
    "duration": 466,
    "start_time": "2024-06-05T23:26:59.146Z"
   },
   {
    "duration": 15,
    "start_time": "2024-06-05T23:26:59.614Z"
   },
   {
    "duration": 121,
    "start_time": "2024-06-05T23:26:59.631Z"
   },
   {
    "duration": 92,
    "start_time": "2024-06-05T23:26:59.754Z"
   },
   {
    "duration": 102,
    "start_time": "2024-06-05T23:26:59.849Z"
   },
   {
    "duration": 9,
    "start_time": "2024-06-05T23:26:59.952Z"
   },
   {
    "duration": 6,
    "start_time": "2024-06-05T23:26:59.962Z"
   },
   {
    "duration": 84149,
    "start_time": "2024-06-05T23:26:59.970Z"
   },
   {
    "duration": 10,
    "start_time": "2024-06-05T23:36:08.970Z"
   },
   {
    "duration": 19,
    "start_time": "2024-06-05T23:36:49.979Z"
   },
   {
    "duration": 17,
    "start_time": "2024-06-05T23:37:14.900Z"
   },
   {
    "duration": 34,
    "start_time": "2024-06-05T23:37:14.919Z"
   },
   {
    "duration": 4,
    "start_time": "2024-06-05T23:37:15.046Z"
   },
   {
    "duration": 96,
    "start_time": "2024-06-05T23:37:15.053Z"
   },
   {
    "duration": 66,
    "start_time": "2024-06-05T23:37:15.151Z"
   },
   {
    "duration": 10,
    "start_time": "2024-06-05T23:37:15.218Z"
   },
   {
    "duration": 7766,
    "start_time": "2024-06-05T23:38:40.202Z"
   },
   {
    "duration": 7,
    "start_time": "2024-06-05T23:38:47.971Z"
   },
   {
    "duration": 86,
    "start_time": "2024-06-05T23:38:47.980Z"
   },
   {
    "duration": 13,
    "start_time": "2024-06-05T23:38:48.068Z"
   },
   {
    "duration": 60,
    "start_time": "2024-06-05T23:38:48.083Z"
   },
   {
    "duration": 12,
    "start_time": "2024-06-05T23:38:48.144Z"
   },
   {
    "duration": 11,
    "start_time": "2024-06-05T23:38:48.159Z"
   },
   {
    "duration": 48,
    "start_time": "2024-06-05T23:38:48.171Z"
   },
   {
    "duration": 29,
    "start_time": "2024-06-05T23:38:48.220Z"
   },
   {
    "duration": 15,
    "start_time": "2024-06-05T23:38:48.250Z"
   },
   {
    "duration": 31,
    "start_time": "2024-06-05T23:38:48.267Z"
   },
   {
    "duration": 22,
    "start_time": "2024-06-05T23:38:48.301Z"
   },
   {
    "duration": 40,
    "start_time": "2024-06-05T23:38:48.324Z"
   },
   {
    "duration": 446,
    "start_time": "2024-06-05T23:38:48.366Z"
   },
   {
    "duration": 623,
    "start_time": "2024-06-05T23:38:48.814Z"
   },
   {
    "duration": 447,
    "start_time": "2024-06-05T23:38:49.439Z"
   },
   {
    "duration": 7,
    "start_time": "2024-06-05T23:38:49.888Z"
   },
   {
    "duration": 483,
    "start_time": "2024-06-05T23:38:49.896Z"
   },
   {
    "duration": 21,
    "start_time": "2024-06-05T23:38:50.381Z"
   },
   {
    "duration": 624,
    "start_time": "2024-06-05T23:38:50.404Z"
   },
   {
    "duration": 1222,
    "start_time": "2024-06-05T23:38:51.030Z"
   },
   {
    "duration": 4,
    "start_time": "2024-06-05T23:38:52.254Z"
   },
   {
    "duration": 6,
    "start_time": "2024-06-05T23:38:52.260Z"
   },
   {
    "duration": 12,
    "start_time": "2024-06-05T23:38:52.268Z"
   },
   {
    "duration": 26,
    "start_time": "2024-06-05T23:38:52.284Z"
   },
   {
    "duration": 8,
    "start_time": "2024-06-05T23:38:52.312Z"
   },
   {
    "duration": 20,
    "start_time": "2024-06-05T23:38:52.321Z"
   },
   {
    "duration": 21,
    "start_time": "2024-06-05T23:38:52.343Z"
   },
   {
    "duration": 5,
    "start_time": "2024-06-05T23:38:52.366Z"
   },
   {
    "duration": 4,
    "start_time": "2024-06-05T23:38:52.372Z"
   },
   {
    "duration": 2272,
    "start_time": "2024-06-05T23:38:52.377Z"
   },
   {
    "duration": 93,
    "start_time": "2024-06-05T23:38:54.654Z"
   },
   {
    "duration": 96242,
    "start_time": "2024-06-05T23:38:54.749Z"
   },
   {
    "duration": 38,
    "start_time": "2024-06-05T23:40:30.993Z"
   },
   {
    "duration": 104,
    "start_time": "2024-06-05T23:40:31.032Z"
   },
   {
    "duration": 10,
    "start_time": "2024-06-05T23:40:31.138Z"
   },
   {
    "duration": 136,
    "start_time": "2024-06-05T23:40:31.150Z"
   },
   {
    "duration": 108,
    "start_time": "2024-06-05T23:40:31.288Z"
   },
   {
    "duration": 109,
    "start_time": "2024-06-05T23:40:31.398Z"
   },
   {
    "duration": 60,
    "start_time": "2024-06-05T23:40:31.509Z"
   },
   {
    "duration": 56,
    "start_time": "2024-06-05T23:40:31.571Z"
   },
   {
    "duration": 157,
    "start_time": "2024-06-05T23:40:31.629Z"
   },
   {
    "duration": 459,
    "start_time": "2024-06-05T23:40:31.788Z"
   },
   {
    "duration": 276,
    "start_time": "2024-06-05T23:40:32.249Z"
   },
   {
    "duration": 806,
    "start_time": "2024-06-05T23:40:32.527Z"
   },
   {
    "duration": 497,
    "start_time": "2024-06-05T23:40:33.335Z"
   },
   {
    "duration": 25,
    "start_time": "2024-06-05T23:40:33.834Z"
   },
   {
    "duration": 189,
    "start_time": "2024-06-05T23:40:33.860Z"
   },
   {
    "duration": 94,
    "start_time": "2024-06-05T23:40:34.054Z"
   },
   {
    "duration": 30,
    "start_time": "2024-06-05T23:40:34.151Z"
   },
   {
    "duration": 9,
    "start_time": "2024-06-05T23:40:34.183Z"
   },
   {
    "duration": 16,
    "start_time": "2024-06-05T23:40:34.194Z"
   },
   {
    "duration": 82701,
    "start_time": "2024-06-05T23:40:34.211Z"
   },
   {
    "duration": 22,
    "start_time": "2024-06-05T23:43:02.166Z"
   },
   {
    "duration": 2,
    "start_time": "2024-06-05T23:43:23.409Z"
   },
   {
    "duration": 23,
    "start_time": "2024-06-05T23:43:26.959Z"
   },
   {
    "duration": 123,
    "start_time": "2024-06-05T23:43:42.124Z"
   },
   {
    "duration": 1131,
    "start_time": "2024-06-05T23:49:00.150Z"
   },
   {
    "duration": 7836,
    "start_time": "2024-06-05T23:49:09.069Z"
   },
   {
    "duration": 6,
    "start_time": "2024-06-05T23:49:16.908Z"
   },
   {
    "duration": 49,
    "start_time": "2024-06-05T23:49:16.916Z"
   },
   {
    "duration": 16,
    "start_time": "2024-06-05T23:49:16.967Z"
   },
   {
    "duration": 62,
    "start_time": "2024-06-05T23:49:16.984Z"
   },
   {
    "duration": 12,
    "start_time": "2024-06-05T23:49:17.048Z"
   },
   {
    "duration": 4,
    "start_time": "2024-06-05T23:49:17.062Z"
   },
   {
    "duration": 21,
    "start_time": "2024-06-05T23:49:17.068Z"
   },
   {
    "duration": 21,
    "start_time": "2024-06-05T23:49:17.091Z"
   },
   {
    "duration": 11,
    "start_time": "2024-06-05T23:49:17.144Z"
   },
   {
    "duration": 13,
    "start_time": "2024-06-05T23:49:17.157Z"
   },
   {
    "duration": 12,
    "start_time": "2024-06-05T23:49:17.172Z"
   },
   {
    "duration": 33,
    "start_time": "2024-06-05T23:49:17.185Z"
   },
   {
    "duration": 505,
    "start_time": "2024-06-05T23:49:17.220Z"
   },
   {
    "duration": 438,
    "start_time": "2024-06-05T23:49:17.727Z"
   },
   {
    "duration": 427,
    "start_time": "2024-06-05T23:49:18.167Z"
   },
   {
    "duration": 6,
    "start_time": "2024-06-05T23:49:18.596Z"
   },
   {
    "duration": 459,
    "start_time": "2024-06-05T23:49:18.603Z"
   },
   {
    "duration": 20,
    "start_time": "2024-06-05T23:49:19.064Z"
   },
   {
    "duration": 830,
    "start_time": "2024-06-05T23:49:19.085Z"
   },
   {
    "duration": 1267,
    "start_time": "2024-06-05T23:49:19.916Z"
   },
   {
    "duration": 3,
    "start_time": "2024-06-05T23:49:21.185Z"
   },
   {
    "duration": 9,
    "start_time": "2024-06-05T23:49:21.189Z"
   },
   {
    "duration": 7,
    "start_time": "2024-06-05T23:49:21.199Z"
   },
   {
    "duration": 9,
    "start_time": "2024-06-05T23:49:21.208Z"
   },
   {
    "duration": 31,
    "start_time": "2024-06-05T23:49:21.219Z"
   },
   {
    "duration": 5,
    "start_time": "2024-06-05T23:49:21.251Z"
   },
   {
    "duration": 2,
    "start_time": "2024-06-05T23:49:21.260Z"
   },
   {
    "duration": 9,
    "start_time": "2024-06-05T23:49:21.263Z"
   },
   {
    "duration": 12,
    "start_time": "2024-06-05T23:49:21.273Z"
   },
   {
    "duration": 2266,
    "start_time": "2024-06-05T23:49:21.286Z"
   },
   {
    "duration": 4,
    "start_time": "2024-06-05T23:49:23.644Z"
   },
   {
    "duration": 97174,
    "start_time": "2024-06-05T23:49:23.650Z"
   },
   {
    "duration": 39,
    "start_time": "2024-06-05T23:51:00.826Z"
   },
   {
    "duration": 81,
    "start_time": "2024-06-05T23:51:00.866Z"
   },
   {
    "duration": 11,
    "start_time": "2024-06-05T23:51:00.949Z"
   },
   {
    "duration": 52,
    "start_time": "2024-06-05T23:51:00.961Z"
   },
   {
    "duration": 30,
    "start_time": "2024-06-05T23:51:01.014Z"
   },
   {
    "duration": 22,
    "start_time": "2024-06-05T23:51:01.046Z"
   },
   {
    "duration": 40,
    "start_time": "2024-06-05T23:51:01.069Z"
   },
   {
    "duration": 58,
    "start_time": "2024-06-05T23:51:01.111Z"
   },
   {
    "duration": 167,
    "start_time": "2024-06-05T23:51:01.171Z"
   },
   {
    "duration": 461,
    "start_time": "2024-06-05T23:51:01.340Z"
   },
   {
    "duration": 289,
    "start_time": "2024-06-05T23:51:01.803Z"
   },
   {
    "duration": 580,
    "start_time": "2024-06-05T23:51:02.094Z"
   },
   {
    "duration": 473,
    "start_time": "2024-06-05T23:51:02.676Z"
   },
   {
    "duration": 155,
    "start_time": "2024-06-05T23:51:03.151Z"
   },
   {
    "duration": 141,
    "start_time": "2024-06-05T23:51:03.308Z"
   },
   {
    "duration": 4,
    "start_time": "2024-06-05T23:51:03.451Z"
   },
   {
    "duration": 104,
    "start_time": "2024-06-05T23:51:03.456Z"
   },
   {
    "duration": 8,
    "start_time": "2024-06-05T23:51:03.562Z"
   },
   {
    "duration": 19,
    "start_time": "2024-06-05T23:51:03.572Z"
   },
   {
    "duration": 84236,
    "start_time": "2024-06-05T23:51:03.593Z"
   },
   {
    "duration": 15,
    "start_time": "2024-06-05T23:53:49.370Z"
   },
   {
    "duration": 138,
    "start_time": "2024-06-05T23:55:25.459Z"
   },
   {
    "duration": 15,
    "start_time": "2024-06-05T23:56:45.915Z"
   },
   {
    "duration": 11,
    "start_time": "2024-06-05T23:57:14.639Z"
   },
   {
    "duration": 16,
    "start_time": "2024-06-05T23:57:55.709Z"
   },
   {
    "duration": 16,
    "start_time": "2024-06-05T23:58:20.131Z"
   },
   {
    "duration": 941,
    "start_time": "2024-06-06T00:00:43.952Z"
   },
   {
    "duration": 21,
    "start_time": "2024-06-06T00:03:38.503Z"
   },
   {
    "duration": 38,
    "start_time": "2024-06-06T00:04:03.073Z"
   },
   {
    "duration": 51,
    "start_time": "2024-06-06T00:04:03.114Z"
   },
   {
    "duration": 11,
    "start_time": "2024-06-06T00:04:03.166Z"
   },
   {
    "duration": 14,
    "start_time": "2024-06-06T00:04:03.179Z"
   },
   {
    "duration": 10,
    "start_time": "2024-06-06T00:04:03.195Z"
   },
   {
    "duration": 25,
    "start_time": "2024-06-06T00:04:03.206Z"
   },
   {
    "duration": 21,
    "start_time": "2024-06-06T00:04:03.233Z"
   },
   {
    "duration": 12,
    "start_time": "2024-06-06T00:04:03.256Z"
   },
   {
    "duration": 132,
    "start_time": "2024-06-06T00:04:03.270Z"
   },
   {
    "duration": 469,
    "start_time": "2024-06-06T00:04:03.404Z"
   },
   {
    "duration": 305,
    "start_time": "2024-06-06T00:04:03.875Z"
   },
   {
    "duration": 564,
    "start_time": "2024-06-06T00:04:04.182Z"
   },
   {
    "duration": 1659,
    "start_time": "2024-06-06T00:04:04.748Z"
   },
   {
    "duration": 0,
    "start_time": "2024-06-06T00:04:06.409Z"
   },
   {
    "duration": 0,
    "start_time": "2024-06-06T00:04:06.410Z"
   },
   {
    "duration": 0,
    "start_time": "2024-06-06T00:04:06.411Z"
   },
   {
    "duration": 0,
    "start_time": "2024-06-06T00:04:06.412Z"
   },
   {
    "duration": 0,
    "start_time": "2024-06-06T00:04:06.413Z"
   },
   {
    "duration": 0,
    "start_time": "2024-06-06T00:04:06.414Z"
   },
   {
    "duration": 0,
    "start_time": "2024-06-06T00:04:06.415Z"
   },
   {
    "duration": 0,
    "start_time": "2024-06-06T00:04:06.416Z"
   },
   {
    "duration": 283,
    "start_time": "2024-06-06T00:07:17.721Z"
   },
   {
    "duration": 150,
    "start_time": "2024-06-06T00:07:35.295Z"
   },
   {
    "duration": 153,
    "start_time": "2024-06-06T00:12:24.458Z"
   },
   {
    "duration": 7785,
    "start_time": "2024-06-06T00:15:38.284Z"
   },
   {
    "duration": 1814,
    "start_time": "2024-06-06T00:15:46.072Z"
   },
   {
    "duration": 46,
    "start_time": "2024-06-06T00:15:47.888Z"
   },
   {
    "duration": 20,
    "start_time": "2024-06-06T00:15:47.937Z"
   },
   {
    "duration": 53,
    "start_time": "2024-06-06T00:15:47.958Z"
   },
   {
    "duration": 12,
    "start_time": "2024-06-06T00:15:48.013Z"
   },
   {
    "duration": 2,
    "start_time": "2024-06-06T00:15:48.026Z"
   },
   {
    "duration": 31,
    "start_time": "2024-06-06T00:15:48.030Z"
   },
   {
    "duration": 24,
    "start_time": "2024-06-06T00:15:48.062Z"
   },
   {
    "duration": 10,
    "start_time": "2024-06-06T00:15:48.089Z"
   },
   {
    "duration": 9,
    "start_time": "2024-06-06T00:15:48.101Z"
   },
   {
    "duration": 11,
    "start_time": "2024-06-06T00:15:48.146Z"
   },
   {
    "duration": 14,
    "start_time": "2024-06-06T00:15:48.159Z"
   },
   {
    "duration": 471,
    "start_time": "2024-06-06T00:15:48.175Z"
   },
   {
    "duration": 412,
    "start_time": "2024-06-06T00:15:48.647Z"
   },
   {
    "duration": 535,
    "start_time": "2024-06-06T00:15:49.061Z"
   },
   {
    "duration": 7,
    "start_time": "2024-06-06T00:15:49.599Z"
   },
   {
    "duration": 477,
    "start_time": "2024-06-06T00:15:49.608Z"
   },
   {
    "duration": 24,
    "start_time": "2024-06-06T00:15:50.087Z"
   },
   {
    "duration": 640,
    "start_time": "2024-06-06T00:15:50.113Z"
   },
   {
    "duration": 1324,
    "start_time": "2024-06-06T00:15:50.754Z"
   },
   {
    "duration": 4,
    "start_time": "2024-06-06T00:15:52.087Z"
   },
   {
    "duration": 8,
    "start_time": "2024-06-06T00:15:52.093Z"
   },
   {
    "duration": 7,
    "start_time": "2024-06-06T00:15:52.104Z"
   },
   {
    "duration": 38,
    "start_time": "2024-06-06T00:15:52.113Z"
   },
   {
    "duration": 9,
    "start_time": "2024-06-06T00:15:52.153Z"
   },
   {
    "duration": 44,
    "start_time": "2024-06-06T00:15:52.164Z"
   },
   {
    "duration": 6,
    "start_time": "2024-06-06T00:15:52.211Z"
   },
   {
    "duration": 24,
    "start_time": "2024-06-06T00:15:52.219Z"
   },
   {
    "duration": 18,
    "start_time": "2024-06-06T00:15:52.245Z"
   },
   {
    "duration": 2385,
    "start_time": "2024-06-06T00:15:52.264Z"
   },
   {
    "duration": 93,
    "start_time": "2024-06-06T00:15:54.653Z"
   },
   {
    "duration": 95730,
    "start_time": "2024-06-06T00:15:54.747Z"
   },
   {
    "duration": 38,
    "start_time": "2024-06-06T00:17:30.478Z"
   },
   {
    "duration": 51,
    "start_time": "2024-06-06T00:17:30.517Z"
   },
   {
    "duration": 11,
    "start_time": "2024-06-06T00:17:30.570Z"
   },
   {
    "duration": 85,
    "start_time": "2024-06-06T00:17:30.583Z"
   },
   {
    "duration": 68,
    "start_time": "2024-06-06T00:17:30.670Z"
   },
   {
    "duration": 70,
    "start_time": "2024-06-06T00:17:30.740Z"
   },
   {
    "duration": 91,
    "start_time": "2024-06-06T00:17:30.812Z"
   },
   {
    "duration": 74,
    "start_time": "2024-06-06T00:17:30.904Z"
   },
   {
    "duration": 156,
    "start_time": "2024-06-06T00:17:30.980Z"
   },
   {
    "duration": 449,
    "start_time": "2024-06-06T00:17:31.138Z"
   },
   {
    "duration": 268,
    "start_time": "2024-06-06T00:17:31.589Z"
   },
   {
    "duration": 569,
    "start_time": "2024-06-06T00:17:31.859Z"
   },
   {
    "duration": 474,
    "start_time": "2024-06-06T00:17:32.429Z"
   },
   {
    "duration": 182,
    "start_time": "2024-06-06T00:17:32.905Z"
   },
   {
    "duration": 157,
    "start_time": "2024-06-06T00:17:33.090Z"
   },
   {
    "duration": 3,
    "start_time": "2024-06-06T00:17:33.250Z"
   },
   {
    "duration": 132,
    "start_time": "2024-06-06T00:17:33.255Z"
   },
   {
    "duration": 57,
    "start_time": "2024-06-06T00:17:33.389Z"
   },
   {
    "duration": 130,
    "start_time": "2024-06-06T00:17:33.448Z"
   },
   {
    "duration": 94926,
    "start_time": "2024-06-06T00:17:33.579Z"
   },
   {
    "duration": 16,
    "start_time": "2024-06-06T00:19:08.506Z"
   },
   {
    "duration": 22,
    "start_time": "2024-06-06T00:22:42.256Z"
   },
   {
    "duration": 17,
    "start_time": "2024-06-06T00:24:17.979Z"
   },
   {
    "duration": 14,
    "start_time": "2024-06-06T00:24:33.478Z"
   },
   {
    "duration": 23,
    "start_time": "2024-06-06T00:24:43.158Z"
   },
   {
    "duration": 24,
    "start_time": "2024-06-06T00:24:52.358Z"
   },
   {
    "duration": 20,
    "start_time": "2024-06-06T00:24:59.649Z"
   },
   {
    "duration": 21,
    "start_time": "2024-06-06T00:25:26.896Z"
   },
   {
    "duration": 7908,
    "start_time": "2024-06-06T00:27:42.967Z"
   },
   {
    "duration": 5,
    "start_time": "2024-06-06T00:27:50.878Z"
   },
   {
    "duration": 53,
    "start_time": "2024-06-06T00:27:50.884Z"
   },
   {
    "duration": 13,
    "start_time": "2024-06-06T00:27:50.939Z"
   },
   {
    "duration": 55,
    "start_time": "2024-06-06T00:27:50.953Z"
   },
   {
    "duration": 12,
    "start_time": "2024-06-06T00:27:51.009Z"
   },
   {
    "duration": 6,
    "start_time": "2024-06-06T00:27:51.022Z"
   },
   {
    "duration": 29,
    "start_time": "2024-06-06T00:27:51.029Z"
   },
   {
    "duration": 25,
    "start_time": "2024-06-06T00:27:51.060Z"
   },
   {
    "duration": 10,
    "start_time": "2024-06-06T00:27:51.087Z"
   },
   {
    "duration": 23,
    "start_time": "2024-06-06T00:27:51.099Z"
   },
   {
    "duration": 11,
    "start_time": "2024-06-06T00:27:51.145Z"
   },
   {
    "duration": 36,
    "start_time": "2024-06-06T00:27:51.157Z"
   },
   {
    "duration": 433,
    "start_time": "2024-06-06T00:27:51.195Z"
   },
   {
    "duration": 452,
    "start_time": "2024-06-06T00:27:51.630Z"
   },
   {
    "duration": 407,
    "start_time": "2024-06-06T00:27:52.084Z"
   },
   {
    "duration": 5,
    "start_time": "2024-06-06T00:27:52.493Z"
   },
   {
    "duration": 467,
    "start_time": "2024-06-06T00:27:52.500Z"
   },
   {
    "duration": 22,
    "start_time": "2024-06-06T00:27:52.968Z"
   },
   {
    "duration": 822,
    "start_time": "2024-06-06T00:27:52.992Z"
   },
   {
    "duration": 1199,
    "start_time": "2024-06-06T00:27:53.815Z"
   },
   {
    "duration": 3,
    "start_time": "2024-06-06T00:27:55.016Z"
   },
   {
    "duration": 9,
    "start_time": "2024-06-06T00:27:55.020Z"
   },
   {
    "duration": 15,
    "start_time": "2024-06-06T00:27:55.030Z"
   },
   {
    "duration": 11,
    "start_time": "2024-06-06T00:27:55.047Z"
   },
   {
    "duration": 8,
    "start_time": "2024-06-06T00:27:55.059Z"
   },
   {
    "duration": 5,
    "start_time": "2024-06-06T00:27:55.069Z"
   },
   {
    "duration": 5,
    "start_time": "2024-06-06T00:27:55.078Z"
   },
   {
    "duration": 5,
    "start_time": "2024-06-06T00:27:55.084Z"
   },
   {
    "duration": 6,
    "start_time": "2024-06-06T00:27:55.090Z"
   },
   {
    "duration": 2955,
    "start_time": "2024-06-06T00:27:55.097Z"
   },
   {
    "duration": 4,
    "start_time": "2024-06-06T00:27:58.054Z"
   },
   {
    "duration": 97381,
    "start_time": "2024-06-06T00:27:58.146Z"
   },
   {
    "duration": 38,
    "start_time": "2024-06-06T00:29:35.529Z"
   },
   {
    "duration": 52,
    "start_time": "2024-06-06T00:29:35.568Z"
   },
   {
    "duration": 11,
    "start_time": "2024-06-06T00:29:35.622Z"
   },
   {
    "duration": 11,
    "start_time": "2024-06-06T00:29:35.635Z"
   },
   {
    "duration": 12,
    "start_time": "2024-06-06T00:29:35.647Z"
   },
   {
    "duration": 11,
    "start_time": "2024-06-06T00:29:35.660Z"
   },
   {
    "duration": 14,
    "start_time": "2024-06-06T00:29:35.673Z"
   },
   {
    "duration": 15,
    "start_time": "2024-06-06T00:29:35.689Z"
   },
   {
    "duration": 164,
    "start_time": "2024-06-06T00:29:35.706Z"
   },
   {
    "duration": 458,
    "start_time": "2024-06-06T00:29:35.871Z"
   },
   {
    "duration": 279,
    "start_time": "2024-06-06T00:29:36.331Z"
   },
   {
    "duration": 728,
    "start_time": "2024-06-06T00:29:36.612Z"
   },
   {
    "duration": 501,
    "start_time": "2024-06-06T00:29:37.344Z"
   },
   {
    "duration": 174,
    "start_time": "2024-06-06T00:29:37.846Z"
   },
   {
    "duration": 130,
    "start_time": "2024-06-06T00:29:38.022Z"
   },
   {
    "duration": 91,
    "start_time": "2024-06-06T00:29:38.154Z"
   },
   {
    "duration": 97,
    "start_time": "2024-06-06T00:29:38.248Z"
   },
   {
    "duration": 15,
    "start_time": "2024-06-06T00:29:38.347Z"
   },
   {
    "duration": 9,
    "start_time": "2024-06-06T00:29:38.364Z"
   },
   {
    "duration": 95190,
    "start_time": "2024-06-06T00:29:38.374Z"
   },
   {
    "duration": 22,
    "start_time": "2024-06-06T00:31:13.566Z"
   },
   {
    "duration": 7877,
    "start_time": "2024-06-06T00:44:17.791Z"
   },
   {
    "duration": 6,
    "start_time": "2024-06-06T00:44:25.670Z"
   },
   {
    "duration": 54,
    "start_time": "2024-06-06T00:44:25.678Z"
   },
   {
    "duration": 13,
    "start_time": "2024-06-06T00:44:25.734Z"
   },
   {
    "duration": 54,
    "start_time": "2024-06-06T00:44:25.748Z"
   },
   {
    "duration": 12,
    "start_time": "2024-06-06T00:44:25.803Z"
   },
   {
    "duration": 10,
    "start_time": "2024-06-06T00:44:25.817Z"
   },
   {
    "duration": 25,
    "start_time": "2024-06-06T00:44:25.829Z"
   },
   {
    "duration": 23,
    "start_time": "2024-06-06T00:44:25.855Z"
   },
   {
    "duration": 11,
    "start_time": "2024-06-06T00:44:25.880Z"
   },
   {
    "duration": 11,
    "start_time": "2024-06-06T00:44:25.892Z"
   },
   {
    "duration": 50,
    "start_time": "2024-06-06T00:44:25.904Z"
   },
   {
    "duration": 19,
    "start_time": "2024-06-06T00:44:25.955Z"
   },
   {
    "duration": 450,
    "start_time": "2024-06-06T00:44:25.975Z"
   },
   {
    "duration": 439,
    "start_time": "2024-06-06T00:44:26.426Z"
   },
   {
    "duration": 617,
    "start_time": "2024-06-06T00:44:26.867Z"
   },
   {
    "duration": 6,
    "start_time": "2024-06-06T00:44:27.486Z"
   },
   {
    "duration": 487,
    "start_time": "2024-06-06T00:44:27.494Z"
   },
   {
    "duration": 21,
    "start_time": "2024-06-06T00:44:27.983Z"
   },
   {
    "duration": 682,
    "start_time": "2024-06-06T00:44:28.005Z"
   },
   {
    "duration": 1158,
    "start_time": "2024-06-06T00:44:28.689Z"
   },
   {
    "duration": 3,
    "start_time": "2024-06-06T00:44:29.849Z"
   },
   {
    "duration": 16,
    "start_time": "2024-06-06T00:44:29.854Z"
   },
   {
    "duration": 7,
    "start_time": "2024-06-06T00:44:29.872Z"
   },
   {
    "duration": 30,
    "start_time": "2024-06-06T00:44:29.881Z"
   },
   {
    "duration": 8,
    "start_time": "2024-06-06T00:44:29.912Z"
   },
   {
    "duration": 23,
    "start_time": "2024-06-06T00:44:29.922Z"
   },
   {
    "duration": 24,
    "start_time": "2024-06-06T00:44:29.950Z"
   },
   {
    "duration": 12,
    "start_time": "2024-06-06T00:44:29.975Z"
   },
   {
    "duration": 5,
    "start_time": "2024-06-06T00:44:29.988Z"
   },
   {
    "duration": 2360,
    "start_time": "2024-06-06T00:44:29.995Z"
   },
   {
    "duration": 90,
    "start_time": "2024-06-06T00:44:32.358Z"
   },
   {
    "duration": 94808,
    "start_time": "2024-06-06T00:44:32.450Z"
   },
   {
    "duration": 38,
    "start_time": "2024-06-06T00:46:07.261Z"
   },
   {
    "duration": 51,
    "start_time": "2024-06-06T00:46:07.301Z"
   },
   {
    "duration": 13,
    "start_time": "2024-06-06T00:46:07.354Z"
   },
   {
    "duration": 13,
    "start_time": "2024-06-06T00:46:07.369Z"
   },
   {
    "duration": 11,
    "start_time": "2024-06-06T00:46:07.384Z"
   },
   {
    "duration": 50,
    "start_time": "2024-06-06T00:46:07.397Z"
   },
   {
    "duration": 63,
    "start_time": "2024-06-06T00:46:07.449Z"
   },
   {
    "duration": 23,
    "start_time": "2024-06-06T00:46:07.513Z"
   },
   {
    "duration": 112,
    "start_time": "2024-06-06T00:46:07.538Z"
   },
   {
    "duration": 586,
    "start_time": "2024-06-06T00:46:07.652Z"
   },
   {
    "duration": 282,
    "start_time": "2024-06-06T00:46:08.240Z"
   },
   {
    "duration": 573,
    "start_time": "2024-06-06T00:46:08.523Z"
   },
   {
    "duration": 482,
    "start_time": "2024-06-06T00:46:09.097Z"
   },
   {
    "duration": 165,
    "start_time": "2024-06-06T00:46:09.580Z"
   },
   {
    "duration": 107,
    "start_time": "2024-06-06T00:46:09.746Z"
   },
   {
    "duration": 4,
    "start_time": "2024-06-06T00:46:09.944Z"
   },
   {
    "duration": 100,
    "start_time": "2024-06-06T00:46:09.949Z"
   },
   {
    "duration": 34,
    "start_time": "2024-06-06T00:46:10.050Z"
   },
   {
    "duration": 15,
    "start_time": "2024-06-06T00:46:10.086Z"
   },
   {
    "duration": 93271,
    "start_time": "2024-06-06T00:46:10.103Z"
   },
   {
    "duration": 23,
    "start_time": "2024-06-06T00:47:43.375Z"
   },
   {
    "duration": 9936,
    "start_time": "2024-06-06T11:03:15.131Z"
   },
   {
    "duration": 2745,
    "start_time": "2024-06-06T11:03:25.069Z"
   },
   {
    "duration": 93,
    "start_time": "2024-06-06T11:03:27.816Z"
   },
   {
    "duration": 22,
    "start_time": "2024-06-06T11:03:27.911Z"
   },
   {
    "duration": 148,
    "start_time": "2024-06-06T11:03:27.934Z"
   },
   {
    "duration": 12,
    "start_time": "2024-06-06T11:03:28.084Z"
   },
   {
    "duration": 3,
    "start_time": "2024-06-06T11:03:28.098Z"
   },
   {
    "duration": 5,
    "start_time": "2024-06-06T11:03:28.103Z"
   },
   {
    "duration": 24,
    "start_time": "2024-06-06T11:03:28.109Z"
   },
   {
    "duration": 16,
    "start_time": "2024-06-06T11:03:28.136Z"
   },
   {
    "duration": 9,
    "start_time": "2024-06-06T11:03:28.153Z"
   },
   {
    "duration": 13,
    "start_time": "2024-06-06T11:03:28.164Z"
   },
   {
    "duration": 10,
    "start_time": "2024-06-06T11:03:28.178Z"
   },
   {
    "duration": 797,
    "start_time": "2024-06-06T11:03:28.190Z"
   },
   {
    "duration": 598,
    "start_time": "2024-06-06T11:03:28.989Z"
   },
   {
    "duration": 623,
    "start_time": "2024-06-06T11:03:29.589Z"
   },
   {
    "duration": 4,
    "start_time": "2024-06-06T11:03:30.214Z"
   },
   {
    "duration": 938,
    "start_time": "2024-06-06T11:03:30.220Z"
   },
   {
    "duration": 19,
    "start_time": "2024-06-06T11:03:31.160Z"
   },
   {
    "duration": 1303,
    "start_time": "2024-06-06T11:03:31.181Z"
   },
   {
    "duration": 1238,
    "start_time": "2024-06-06T11:03:32.486Z"
   },
   {
    "duration": 3,
    "start_time": "2024-06-06T11:03:33.726Z"
   },
   {
    "duration": 16,
    "start_time": "2024-06-06T11:03:33.731Z"
   },
   {
    "duration": 6,
    "start_time": "2024-06-06T11:03:33.749Z"
   },
   {
    "duration": 13,
    "start_time": "2024-06-06T11:03:33.757Z"
   },
   {
    "duration": 11,
    "start_time": "2024-06-06T11:03:33.772Z"
   },
   {
    "duration": 8,
    "start_time": "2024-06-06T11:03:33.785Z"
   },
   {
    "duration": 8,
    "start_time": "2024-06-06T11:03:33.798Z"
   },
   {
    "duration": 15,
    "start_time": "2024-06-06T11:03:33.807Z"
   },
   {
    "duration": 31,
    "start_time": "2024-06-06T11:03:33.823Z"
   },
   {
    "duration": 2414,
    "start_time": "2024-06-06T11:03:33.855Z"
   },
   {
    "duration": 80,
    "start_time": "2024-06-06T11:03:36.271Z"
   },
   {
    "duration": 101173,
    "start_time": "2024-06-06T11:03:36.354Z"
   },
   {
    "duration": 84,
    "start_time": "2024-06-06T11:05:17.529Z"
   },
   {
    "duration": 97,
    "start_time": "2024-06-06T11:05:17.614Z"
   },
   {
    "duration": 12,
    "start_time": "2024-06-06T11:05:17.713Z"
   },
   {
    "duration": 17,
    "start_time": "2024-06-06T11:05:17.726Z"
   },
   {
    "duration": 19,
    "start_time": "2024-06-06T11:05:17.745Z"
   },
   {
    "duration": 23,
    "start_time": "2024-06-06T11:05:17.766Z"
   },
   {
    "duration": 26,
    "start_time": "2024-06-06T11:05:17.791Z"
   },
   {
    "duration": 15,
    "start_time": "2024-06-06T11:05:17.819Z"
   },
   {
    "duration": 331,
    "start_time": "2024-06-06T11:05:17.835Z"
   },
   {
    "duration": 808,
    "start_time": "2024-06-06T11:05:18.167Z"
   },
   {
    "duration": 513,
    "start_time": "2024-06-06T11:05:18.977Z"
   },
   {
    "duration": 1201,
    "start_time": "2024-06-06T11:05:19.493Z"
   },
   {
    "duration": 1170,
    "start_time": "2024-06-06T11:05:20.696Z"
   },
   {
    "duration": 313,
    "start_time": "2024-06-06T11:05:21.868Z"
   },
   {
    "duration": 263,
    "start_time": "2024-06-06T11:05:22.183Z"
   },
   {
    "duration": 6,
    "start_time": "2024-06-06T11:05:22.448Z"
   },
   {
    "duration": 96,
    "start_time": "2024-06-06T11:05:22.456Z"
   },
   {
    "duration": 18,
    "start_time": "2024-06-06T11:05:22.555Z"
   },
   {
    "duration": 17,
    "start_time": "2024-06-06T11:05:22.575Z"
   },
   {
    "duration": 102839,
    "start_time": "2024-06-06T11:05:22.595Z"
   },
   {
    "duration": 28,
    "start_time": "2024-06-06T11:07:05.435Z"
   },
   {
    "duration": 55,
    "start_time": "2024-06-06T20:18:28.600Z"
   },
   {
    "duration": 14203,
    "start_time": "2024-06-06T20:18:32.988Z"
   },
   {
    "duration": 1989,
    "start_time": "2024-06-06T20:18:47.193Z"
   },
   {
    "duration": 147,
    "start_time": "2024-06-06T20:18:49.183Z"
   },
   {
    "duration": 19,
    "start_time": "2024-06-06T20:18:49.332Z"
   },
   {
    "duration": 150,
    "start_time": "2024-06-06T20:18:49.352Z"
   },
   {
    "duration": 13,
    "start_time": "2024-06-06T20:18:49.504Z"
   },
   {
    "duration": 12,
    "start_time": "2024-06-06T20:18:49.519Z"
   },
   {
    "duration": 28,
    "start_time": "2024-06-06T20:18:49.532Z"
   },
   {
    "duration": 9,
    "start_time": "2024-06-06T20:18:49.561Z"
   },
   {
    "duration": 26,
    "start_time": "2024-06-06T20:18:49.573Z"
   },
   {
    "duration": 10,
    "start_time": "2024-06-06T20:18:49.601Z"
   },
   {
    "duration": 43,
    "start_time": "2024-06-06T20:18:49.612Z"
   },
   {
    "duration": 27,
    "start_time": "2024-06-06T20:18:49.656Z"
   },
   {
    "duration": 538,
    "start_time": "2024-06-06T20:18:49.685Z"
   },
   {
    "duration": 421,
    "start_time": "2024-06-06T20:18:50.225Z"
   },
   {
    "duration": 527,
    "start_time": "2024-06-06T20:18:50.647Z"
   },
   {
    "duration": 6,
    "start_time": "2024-06-06T20:18:51.176Z"
   },
   {
    "duration": 502,
    "start_time": "2024-06-06T20:18:51.183Z"
   },
   {
    "duration": 21,
    "start_time": "2024-06-06T20:18:51.686Z"
   },
   {
    "duration": 667,
    "start_time": "2024-06-06T20:18:51.709Z"
   },
   {
    "duration": 1392,
    "start_time": "2024-06-06T20:18:52.377Z"
   },
   {
    "duration": 3,
    "start_time": "2024-06-06T20:18:53.770Z"
   },
   {
    "duration": 14,
    "start_time": "2024-06-06T20:18:53.775Z"
   },
   {
    "duration": 6,
    "start_time": "2024-06-06T20:18:53.790Z"
   },
   {
    "duration": 10,
    "start_time": "2024-06-06T20:18:53.798Z"
   },
   {
    "duration": 9,
    "start_time": "2024-06-06T20:18:53.810Z"
   },
   {
    "duration": 5,
    "start_time": "2024-06-06T20:18:53.821Z"
   },
   {
    "duration": 3,
    "start_time": "2024-06-06T20:18:53.858Z"
   },
   {
    "duration": 33,
    "start_time": "2024-06-06T20:18:53.862Z"
   },
   {
    "duration": 13,
    "start_time": "2024-06-06T20:18:53.897Z"
   },
   {
    "duration": 2858,
    "start_time": "2024-06-06T20:18:53.911Z"
   },
   {
    "duration": 86,
    "start_time": "2024-06-06T20:18:56.772Z"
   },
   {
    "duration": 103070,
    "start_time": "2024-06-06T20:18:56.864Z"
   },
   {
    "duration": 140,
    "start_time": "2024-06-06T20:20:39.936Z"
   },
   {
    "duration": 102,
    "start_time": "2024-06-06T20:20:40.078Z"
   },
   {
    "duration": 14,
    "start_time": "2024-06-06T20:20:40.182Z"
   },
   {
    "duration": 16,
    "start_time": "2024-06-06T20:20:40.197Z"
   },
   {
    "duration": 11,
    "start_time": "2024-06-06T20:20:40.214Z"
   },
   {
    "duration": 12,
    "start_time": "2024-06-06T20:20:40.226Z"
   },
   {
    "duration": 24,
    "start_time": "2024-06-06T20:20:40.239Z"
   },
   {
    "duration": 24,
    "start_time": "2024-06-06T20:20:40.264Z"
   },
   {
    "duration": 125,
    "start_time": "2024-06-06T20:20:40.290Z"
   },
   {
    "duration": 530,
    "start_time": "2024-06-06T20:20:40.417Z"
   },
   {
    "duration": 288,
    "start_time": "2024-06-06T20:20:40.949Z"
   },
   {
    "duration": 569,
    "start_time": "2024-06-06T20:20:41.239Z"
   },
   {
    "duration": 499,
    "start_time": "2024-06-06T20:20:41.809Z"
   },
   {
    "duration": 199,
    "start_time": "2024-06-06T20:20:42.309Z"
   },
   {
    "duration": 148,
    "start_time": "2024-06-06T20:20:42.509Z"
   },
   {
    "duration": 3,
    "start_time": "2024-06-06T20:20:42.660Z"
   },
   {
    "duration": 91,
    "start_time": "2024-06-06T20:20:42.665Z"
   },
   {
    "duration": 5,
    "start_time": "2024-06-06T20:20:42.757Z"
   },
   {
    "duration": 137,
    "start_time": "2024-06-06T20:20:42.763Z"
   },
   {
    "duration": 100627,
    "start_time": "2024-06-06T20:20:42.901Z"
   },
   {
    "duration": 7,
    "start_time": "2024-06-06T20:22:23.529Z"
   },
   {
    "duration": 8,
    "start_time": "2024-06-06T20:22:34.168Z"
   },
   {
    "duration": 32,
    "start_time": "2024-06-06T20:22:46.249Z"
   },
   {
    "duration": 22,
    "start_time": "2024-06-06T20:23:04.734Z"
   },
   {
    "duration": 22,
    "start_time": "2024-06-06T20:23:12.851Z"
   },
   {
    "duration": 8502,
    "start_time": "2024-06-06T20:23:48.199Z"
   },
   {
    "duration": 6,
    "start_time": "2024-06-06T20:23:56.704Z"
   },
   {
    "duration": 58,
    "start_time": "2024-06-06T20:23:56.713Z"
   },
   {
    "duration": 15,
    "start_time": "2024-06-06T20:23:56.773Z"
   },
   {
    "duration": 82,
    "start_time": "2024-06-06T20:23:56.789Z"
   },
   {
    "duration": 14,
    "start_time": "2024-06-06T20:23:56.873Z"
   },
   {
    "duration": 5,
    "start_time": "2024-06-06T20:23:56.888Z"
   },
   {
    "duration": 24,
    "start_time": "2024-06-06T20:23:56.894Z"
   },
   {
    "duration": 46,
    "start_time": "2024-06-06T20:23:56.920Z"
   },
   {
    "duration": 11,
    "start_time": "2024-06-06T20:23:56.968Z"
   },
   {
    "duration": 16,
    "start_time": "2024-06-06T20:23:56.981Z"
   },
   {
    "duration": 13,
    "start_time": "2024-06-06T20:23:56.998Z"
   },
   {
    "duration": 15,
    "start_time": "2024-06-06T20:23:57.012Z"
   },
   {
    "duration": 488,
    "start_time": "2024-06-06T20:23:57.029Z"
   },
   {
    "duration": 436,
    "start_time": "2024-06-06T20:23:57.518Z"
   },
   {
    "duration": 459,
    "start_time": "2024-06-06T20:23:57.955Z"
   },
   {
    "duration": 8,
    "start_time": "2024-06-06T20:23:58.415Z"
   },
   {
    "duration": 510,
    "start_time": "2024-06-06T20:23:58.424Z"
   },
   {
    "duration": 31,
    "start_time": "2024-06-06T20:23:58.936Z"
   },
   {
    "duration": 830,
    "start_time": "2024-06-06T20:23:58.969Z"
   },
   {
    "duration": 1360,
    "start_time": "2024-06-06T20:23:59.801Z"
   },
   {
    "duration": 4,
    "start_time": "2024-06-06T20:24:01.163Z"
   },
   {
    "duration": 57,
    "start_time": "2024-06-06T20:24:01.168Z"
   },
   {
    "duration": 27,
    "start_time": "2024-06-06T20:24:01.227Z"
   },
   {
    "duration": 62,
    "start_time": "2024-06-06T20:24:01.256Z"
   },
   {
    "duration": 61,
    "start_time": "2024-06-06T20:24:01.320Z"
   },
   {
    "duration": 50,
    "start_time": "2024-06-06T20:24:01.383Z"
   },
   {
    "duration": 54,
    "start_time": "2024-06-06T20:24:01.437Z"
   },
   {
    "duration": 47,
    "start_time": "2024-06-06T20:24:01.493Z"
   },
   {
    "duration": 42,
    "start_time": "2024-06-06T20:24:01.541Z"
   },
   {
    "duration": 2572,
    "start_time": "2024-06-06T20:24:01.584Z"
   },
   {
    "duration": 5,
    "start_time": "2024-06-06T20:24:04.158Z"
   },
   {
    "duration": 102665,
    "start_time": "2024-06-06T20:24:04.165Z"
   },
   {
    "duration": 40,
    "start_time": "2024-06-06T20:25:46.832Z"
   },
   {
    "duration": 54,
    "start_time": "2024-06-06T20:25:46.873Z"
   },
   {
    "duration": 13,
    "start_time": "2024-06-06T20:25:46.928Z"
   },
   {
    "duration": 24,
    "start_time": "2024-06-06T20:25:46.942Z"
   },
   {
    "duration": 13,
    "start_time": "2024-06-06T20:25:46.967Z"
   },
   {
    "duration": 17,
    "start_time": "2024-06-06T20:25:46.981Z"
   },
   {
    "duration": 39,
    "start_time": "2024-06-06T20:25:47.000Z"
   },
   {
    "duration": 18,
    "start_time": "2024-06-06T20:25:47.041Z"
   },
   {
    "duration": 134,
    "start_time": "2024-06-06T20:25:47.061Z"
   },
   {
    "duration": 475,
    "start_time": "2024-06-06T20:25:47.197Z"
   },
   {
    "duration": 291,
    "start_time": "2024-06-06T20:25:47.675Z"
   },
   {
    "duration": 740,
    "start_time": "2024-06-06T20:25:47.968Z"
   },
   {
    "duration": 516,
    "start_time": "2024-06-06T20:25:48.710Z"
   },
   {
    "duration": 181,
    "start_time": "2024-06-06T20:25:49.228Z"
   },
   {
    "duration": 144,
    "start_time": "2024-06-06T20:25:49.411Z"
   },
   {
    "duration": 4,
    "start_time": "2024-06-06T20:25:49.558Z"
   },
   {
    "duration": 92,
    "start_time": "2024-06-06T20:25:49.565Z"
   },
   {
    "duration": 6,
    "start_time": "2024-06-06T20:25:49.659Z"
   },
   {
    "duration": 7,
    "start_time": "2024-06-06T20:25:49.666Z"
   },
   {
    "duration": 101200,
    "start_time": "2024-06-06T20:25:49.675Z"
   },
   {
    "duration": 23,
    "start_time": "2024-06-06T20:27:30.877Z"
   },
   {
    "duration": 8446,
    "start_time": "2024-11-04T22:40:01.199Z"
   },
   {
    "duration": 71,
    "start_time": "2024-11-04T22:40:09.647Z"
   },
   {
    "duration": 0,
    "start_time": "2024-11-04T22:40:09.720Z"
   },
   {
    "duration": 0,
    "start_time": "2024-11-04T22:40:09.722Z"
   },
   {
    "duration": 0,
    "start_time": "2024-11-04T22:40:09.723Z"
   },
   {
    "duration": 0,
    "start_time": "2024-11-04T22:40:09.725Z"
   },
   {
    "duration": 0,
    "start_time": "2024-11-04T22:40:09.726Z"
   },
   {
    "duration": 0,
    "start_time": "2024-11-04T22:40:09.727Z"
   },
   {
    "duration": 0,
    "start_time": "2024-11-04T22:40:09.728Z"
   },
   {
    "duration": 0,
    "start_time": "2024-11-04T22:40:09.730Z"
   },
   {
    "duration": 0,
    "start_time": "2024-11-04T22:40:09.731Z"
   },
   {
    "duration": 0,
    "start_time": "2024-11-04T22:40:09.732Z"
   },
   {
    "duration": 0,
    "start_time": "2024-11-04T22:40:09.734Z"
   },
   {
    "duration": 0,
    "start_time": "2024-11-04T22:40:09.736Z"
   },
   {
    "duration": 0,
    "start_time": "2024-11-04T22:40:09.737Z"
   },
   {
    "duration": 0,
    "start_time": "2024-11-04T22:40:09.739Z"
   },
   {
    "duration": 0,
    "start_time": "2024-11-04T22:40:09.740Z"
   },
   {
    "duration": 0,
    "start_time": "2024-11-04T22:40:09.741Z"
   },
   {
    "duration": 0,
    "start_time": "2024-11-04T22:40:09.742Z"
   },
   {
    "duration": 0,
    "start_time": "2024-11-04T22:40:09.744Z"
   },
   {
    "duration": 0,
    "start_time": "2024-11-04T22:40:09.745Z"
   },
   {
    "duration": 1,
    "start_time": "2024-11-04T22:40:09.746Z"
   },
   {
    "duration": 0,
    "start_time": "2024-11-04T22:40:09.748Z"
   },
   {
    "duration": 0,
    "start_time": "2024-11-04T22:40:09.749Z"
   },
   {
    "duration": 0,
    "start_time": "2024-11-04T22:40:09.751Z"
   },
   {
    "duration": 0,
    "start_time": "2024-11-04T22:40:09.752Z"
   },
   {
    "duration": 0,
    "start_time": "2024-11-04T22:40:09.754Z"
   },
   {
    "duration": 0,
    "start_time": "2024-11-04T22:40:09.755Z"
   },
   {
    "duration": 0,
    "start_time": "2024-11-04T22:40:09.756Z"
   },
   {
    "duration": 0,
    "start_time": "2024-11-04T22:40:09.760Z"
   },
   {
    "duration": 0,
    "start_time": "2024-11-04T22:40:09.761Z"
   },
   {
    "duration": 0,
    "start_time": "2024-11-04T22:40:09.761Z"
   },
   {
    "duration": 0,
    "start_time": "2024-11-04T22:40:09.762Z"
   },
   {
    "duration": 0,
    "start_time": "2024-11-04T22:40:09.762Z"
   },
   {
    "duration": 0,
    "start_time": "2024-11-04T22:40:09.763Z"
   },
   {
    "duration": 0,
    "start_time": "2024-11-04T22:40:09.763Z"
   },
   {
    "duration": 0,
    "start_time": "2024-11-04T22:40:09.764Z"
   },
   {
    "duration": 0,
    "start_time": "2024-11-04T22:40:09.764Z"
   },
   {
    "duration": 0,
    "start_time": "2024-11-04T22:40:09.765Z"
   },
   {
    "duration": 0,
    "start_time": "2024-11-04T22:40:09.765Z"
   },
   {
    "duration": 0,
    "start_time": "2024-11-04T22:40:09.766Z"
   },
   {
    "duration": 0,
    "start_time": "2024-11-04T22:40:09.766Z"
   },
   {
    "duration": 1,
    "start_time": "2024-11-04T22:40:09.770Z"
   },
   {
    "duration": 0,
    "start_time": "2024-11-04T22:40:09.772Z"
   },
   {
    "duration": 0,
    "start_time": "2024-11-04T22:40:09.773Z"
   },
   {
    "duration": 0,
    "start_time": "2024-11-04T22:40:09.775Z"
   },
   {
    "duration": 0,
    "start_time": "2024-11-04T22:40:09.776Z"
   },
   {
    "duration": 0,
    "start_time": "2024-11-04T22:40:09.777Z"
   },
   {
    "duration": 0,
    "start_time": "2024-11-04T22:40:09.777Z"
   },
   {
    "duration": 0,
    "start_time": "2024-11-04T22:40:09.778Z"
   },
   {
    "duration": 0,
    "start_time": "2024-11-04T22:40:09.779Z"
   },
   {
    "duration": 0,
    "start_time": "2024-11-04T22:40:09.780Z"
   },
   {
    "duration": 0,
    "start_time": "2024-11-04T22:40:09.781Z"
   },
   {
    "duration": 0,
    "start_time": "2024-11-04T22:40:09.782Z"
   },
   {
    "duration": 9254,
    "start_time": "2024-11-04T22:43:04.657Z"
   },
   {
    "duration": 1561,
    "start_time": "2024-11-04T22:43:13.913Z"
   },
   {
    "duration": 92,
    "start_time": "2024-11-04T22:43:15.475Z"
   },
   {
    "duration": 14,
    "start_time": "2024-11-04T22:43:15.568Z"
   },
   {
    "duration": 146,
    "start_time": "2024-11-04T22:43:15.584Z"
   },
   {
    "duration": 10,
    "start_time": "2024-11-04T22:43:15.732Z"
   },
   {
    "duration": 5,
    "start_time": "2024-11-04T22:43:15.743Z"
   },
   {
    "duration": 26,
    "start_time": "2024-11-04T22:43:15.749Z"
   },
   {
    "duration": 18,
    "start_time": "2024-11-04T22:43:15.777Z"
   },
   {
    "duration": 23,
    "start_time": "2024-11-04T22:43:15.797Z"
   },
   {
    "duration": 25,
    "start_time": "2024-11-04T22:43:15.821Z"
   },
   {
    "duration": 21,
    "start_time": "2024-11-04T22:43:15.848Z"
   },
   {
    "duration": 28,
    "start_time": "2024-11-04T22:43:15.870Z"
   },
   {
    "duration": 431,
    "start_time": "2024-11-04T22:43:15.901Z"
   },
   {
    "duration": 386,
    "start_time": "2024-11-04T22:43:16.333Z"
   },
   {
    "duration": 479,
    "start_time": "2024-11-04T22:43:16.720Z"
   },
   {
    "duration": 5,
    "start_time": "2024-11-04T22:43:17.201Z"
   },
   {
    "duration": 414,
    "start_time": "2024-11-04T22:43:17.207Z"
   },
   {
    "duration": 17,
    "start_time": "2024-11-04T22:43:17.622Z"
   },
   {
    "duration": 186,
    "start_time": "2024-11-04T22:43:17.641Z"
   },
   {
    "duration": 0,
    "start_time": "2024-11-04T22:43:17.829Z"
   },
   {
    "duration": 0,
    "start_time": "2024-11-04T22:43:17.830Z"
   },
   {
    "duration": 0,
    "start_time": "2024-11-04T22:43:17.831Z"
   },
   {
    "duration": 0,
    "start_time": "2024-11-04T22:43:17.832Z"
   },
   {
    "duration": 0,
    "start_time": "2024-11-04T22:43:17.832Z"
   },
   {
    "duration": 0,
    "start_time": "2024-11-04T22:43:17.833Z"
   },
   {
    "duration": 0,
    "start_time": "2024-11-04T22:43:17.834Z"
   },
   {
    "duration": 0,
    "start_time": "2024-11-04T22:43:17.835Z"
   },
   {
    "duration": 0,
    "start_time": "2024-11-04T22:43:17.836Z"
   },
   {
    "duration": 0,
    "start_time": "2024-11-04T22:43:17.837Z"
   },
   {
    "duration": 0,
    "start_time": "2024-11-04T22:43:17.837Z"
   },
   {
    "duration": 0,
    "start_time": "2024-11-04T22:43:17.838Z"
   },
   {
    "duration": 0,
    "start_time": "2024-11-04T22:43:17.839Z"
   },
   {
    "duration": 0,
    "start_time": "2024-11-04T22:43:17.840Z"
   },
   {
    "duration": 0,
    "start_time": "2024-11-04T22:43:17.841Z"
   },
   {
    "duration": 0,
    "start_time": "2024-11-04T22:43:17.841Z"
   },
   {
    "duration": 0,
    "start_time": "2024-11-04T22:43:17.843Z"
   },
   {
    "duration": 0,
    "start_time": "2024-11-04T22:43:17.844Z"
   },
   {
    "duration": 0,
    "start_time": "2024-11-04T22:43:17.845Z"
   },
   {
    "duration": 0,
    "start_time": "2024-11-04T22:43:17.846Z"
   },
   {
    "duration": 0,
    "start_time": "2024-11-04T22:43:17.847Z"
   },
   {
    "duration": 0,
    "start_time": "2024-11-04T22:43:17.848Z"
   },
   {
    "duration": 0,
    "start_time": "2024-11-04T22:43:17.849Z"
   },
   {
    "duration": 0,
    "start_time": "2024-11-04T22:43:17.849Z"
   },
   {
    "duration": 0,
    "start_time": "2024-11-04T22:43:17.850Z"
   },
   {
    "duration": 0,
    "start_time": "2024-11-04T22:43:17.851Z"
   },
   {
    "duration": 0,
    "start_time": "2024-11-04T22:43:17.852Z"
   },
   {
    "duration": 0,
    "start_time": "2024-11-04T22:43:17.853Z"
   },
   {
    "duration": 0,
    "start_time": "2024-11-04T22:43:17.854Z"
   },
   {
    "duration": 0,
    "start_time": "2024-11-04T22:43:17.854Z"
   },
   {
    "duration": 0,
    "start_time": "2024-11-04T22:43:17.855Z"
   },
   {
    "duration": 0,
    "start_time": "2024-11-04T22:43:17.856Z"
   },
   {
    "duration": 1,
    "start_time": "2024-11-04T22:43:17.858Z"
   },
   {
    "duration": 0,
    "start_time": "2024-11-04T22:43:17.859Z"
   },
   {
    "duration": 8458,
    "start_time": "2024-11-04T22:43:45.040Z"
   },
   {
    "duration": 5,
    "start_time": "2024-11-04T22:43:53.500Z"
   },
   {
    "duration": 67,
    "start_time": "2024-11-04T22:43:53.506Z"
   },
   {
    "duration": 11,
    "start_time": "2024-11-04T22:43:53.575Z"
   },
   {
    "duration": 49,
    "start_time": "2024-11-04T22:43:53.588Z"
   },
   {
    "duration": 10,
    "start_time": "2024-11-04T22:43:53.638Z"
   },
   {
    "duration": 5,
    "start_time": "2024-11-04T22:43:53.650Z"
   },
   {
    "duration": 27,
    "start_time": "2024-11-04T22:43:53.657Z"
   },
   {
    "duration": 18,
    "start_time": "2024-11-04T22:43:53.686Z"
   },
   {
    "duration": 10,
    "start_time": "2024-11-04T22:43:53.706Z"
   },
   {
    "duration": 7,
    "start_time": "2024-11-04T22:43:53.718Z"
   },
   {
    "duration": 9,
    "start_time": "2024-11-04T22:43:53.727Z"
   },
   {
    "duration": 35,
    "start_time": "2024-11-04T22:43:53.737Z"
   },
   {
    "duration": 399,
    "start_time": "2024-11-04T22:43:53.773Z"
   },
   {
    "duration": 394,
    "start_time": "2024-11-04T22:43:54.173Z"
   },
   {
    "duration": 374,
    "start_time": "2024-11-04T22:43:54.569Z"
   },
   {
    "duration": 5,
    "start_time": "2024-11-04T22:43:54.945Z"
   },
   {
    "duration": 564,
    "start_time": "2024-11-04T22:43:54.963Z"
   },
   {
    "duration": 40,
    "start_time": "2024-11-04T22:43:55.529Z"
   },
   {
    "duration": 560,
    "start_time": "2024-11-04T22:43:55.571Z"
   },
   {
    "duration": 1195,
    "start_time": "2024-11-04T22:43:56.133Z"
   },
   {
    "duration": 3,
    "start_time": "2024-11-04T22:43:57.330Z"
   },
   {
    "duration": 6,
    "start_time": "2024-11-04T22:43:57.335Z"
   },
   {
    "duration": 25,
    "start_time": "2024-11-04T22:43:57.342Z"
   },
   {
    "duration": 9,
    "start_time": "2024-11-04T22:43:57.369Z"
   },
   {
    "duration": 7,
    "start_time": "2024-11-04T22:43:57.379Z"
   },
   {
    "duration": 4,
    "start_time": "2024-11-04T22:43:57.387Z"
   },
   {
    "duration": 2,
    "start_time": "2024-11-04T22:43:57.394Z"
   },
   {
    "duration": 5,
    "start_time": "2024-11-04T22:43:57.398Z"
   },
   {
    "duration": 6,
    "start_time": "2024-11-04T22:43:57.404Z"
   },
   {
    "duration": 2258,
    "start_time": "2024-11-04T22:43:57.411Z"
   },
   {
    "duration": 85,
    "start_time": "2024-11-04T22:43:59.674Z"
   },
   {
    "duration": 86920,
    "start_time": "2024-11-04T22:43:59.771Z"
   },
   {
    "duration": 79,
    "start_time": "2024-11-04T22:45:26.692Z"
   },
   {
    "duration": 95,
    "start_time": "2024-11-04T22:45:26.772Z"
   },
   {
    "duration": 11,
    "start_time": "2024-11-04T22:45:26.869Z"
   },
   {
    "duration": 8,
    "start_time": "2024-11-04T22:45:26.881Z"
   },
   {
    "duration": 8,
    "start_time": "2024-11-04T22:45:26.890Z"
   },
   {
    "duration": 9,
    "start_time": "2024-11-04T22:45:26.899Z"
   },
   {
    "duration": 7,
    "start_time": "2024-11-04T22:45:26.910Z"
   },
   {
    "duration": 11,
    "start_time": "2024-11-04T22:45:26.918Z"
   },
   {
    "duration": 140,
    "start_time": "2024-11-04T22:45:26.930Z"
   },
   {
    "duration": 480,
    "start_time": "2024-11-04T22:45:27.072Z"
   },
   {
    "duration": 249,
    "start_time": "2024-11-04T22:45:27.553Z"
   },
   {
    "duration": 497,
    "start_time": "2024-11-04T22:45:27.804Z"
   },
   {
    "duration": 452,
    "start_time": "2024-11-04T22:45:28.302Z"
   },
   {
    "duration": 163,
    "start_time": "2024-11-04T22:45:28.757Z"
   },
   {
    "duration": 54,
    "start_time": "2024-11-04T22:45:28.921Z"
   },
   {
    "duration": 91,
    "start_time": "2024-11-04T22:45:28.977Z"
   },
   {
    "duration": 98,
    "start_time": "2024-11-04T22:45:29.069Z"
   },
   {
    "duration": 4,
    "start_time": "2024-11-04T22:45:29.171Z"
   },
   {
    "duration": 5,
    "start_time": "2024-11-04T22:45:29.177Z"
   },
   {
    "duration": 93074,
    "start_time": "2024-11-04T22:45:29.183Z"
   },
   {
    "duration": 29,
    "start_time": "2024-11-04T22:47:02.272Z"
   },
   {
    "duration": 9055,
    "start_time": "2025-06-14T07:30:05.339Z"
   },
   {
    "duration": 2321,
    "start_time": "2025-06-14T07:30:14.396Z"
   },
   {
    "duration": 49,
    "start_time": "2025-06-14T07:30:16.719Z"
   },
   {
    "duration": 115,
    "start_time": "2025-06-14T07:30:16.770Z"
   },
   {
    "duration": 66,
    "start_time": "2025-06-14T07:30:16.887Z"
   },
   {
    "duration": 16,
    "start_time": "2025-06-14T07:30:16.955Z"
   },
   {
    "duration": 52,
    "start_time": "2025-06-14T07:30:16.973Z"
   },
   {
    "duration": 32,
    "start_time": "2025-06-14T07:30:17.027Z"
   },
   {
    "duration": 27,
    "start_time": "2025-06-14T07:30:17.061Z"
   },
   {
    "duration": 12,
    "start_time": "2025-06-14T07:30:17.090Z"
   },
   {
    "duration": 10,
    "start_time": "2025-06-14T07:30:17.104Z"
   },
   {
    "duration": 46,
    "start_time": "2025-06-14T07:30:17.116Z"
   },
   {
    "duration": 13,
    "start_time": "2025-06-14T07:30:17.164Z"
   },
   {
    "duration": 699,
    "start_time": "2025-06-14T07:30:17.182Z"
   },
   {
    "duration": 559,
    "start_time": "2025-06-14T07:30:17.883Z"
   },
   {
    "duration": 573,
    "start_time": "2025-06-14T07:30:18.444Z"
   },
   {
    "duration": 8,
    "start_time": "2025-06-14T07:30:19.019Z"
   },
   {
    "duration": 843,
    "start_time": "2025-06-14T07:30:19.029Z"
   },
   {
    "duration": 24,
    "start_time": "2025-06-14T07:30:19.874Z"
   },
   {
    "duration": 1198,
    "start_time": "2025-06-14T07:30:19.900Z"
   },
   {
    "duration": 1028,
    "start_time": "2025-06-14T07:30:21.100Z"
   },
   {
    "duration": 3,
    "start_time": "2025-06-14T07:30:22.130Z"
   },
   {
    "duration": 5,
    "start_time": "2025-06-14T07:30:22.135Z"
   },
   {
    "duration": 20,
    "start_time": "2025-06-14T07:30:22.141Z"
   },
   {
    "duration": 12,
    "start_time": "2025-06-14T07:30:22.163Z"
   },
   {
    "duration": 10,
    "start_time": "2025-06-14T07:30:22.176Z"
   },
   {
    "duration": 6,
    "start_time": "2025-06-14T07:30:22.188Z"
   },
   {
    "duration": 4,
    "start_time": "2025-06-14T07:30:22.196Z"
   },
   {
    "duration": 4,
    "start_time": "2025-06-14T07:30:22.202Z"
   },
   {
    "duration": 7,
    "start_time": "2025-06-14T07:30:22.208Z"
   },
   {
    "duration": 3156,
    "start_time": "2025-06-14T07:30:22.216Z"
   },
   {
    "duration": 89,
    "start_time": "2025-06-14T07:30:25.375Z"
   },
   {
    "duration": 129776,
    "start_time": "2025-06-14T07:30:25.466Z"
   },
   {
    "duration": 38,
    "start_time": "2025-06-14T07:32:35.244Z"
   },
   {
    "duration": 57,
    "start_time": "2025-06-14T07:32:35.284Z"
   },
   {
    "duration": 13,
    "start_time": "2025-06-14T07:32:35.343Z"
   },
   {
    "duration": 22,
    "start_time": "2025-06-14T07:32:35.358Z"
   },
   {
    "duration": 9,
    "start_time": "2025-06-14T07:32:35.382Z"
   },
   {
    "duration": 19,
    "start_time": "2025-06-14T07:32:35.393Z"
   },
   {
    "duration": 29,
    "start_time": "2025-06-14T07:32:35.414Z"
   },
   {
    "duration": 24,
    "start_time": "2025-06-14T07:32:35.448Z"
   },
   {
    "duration": 327,
    "start_time": "2025-06-14T07:32:35.475Z"
   },
   {
    "duration": 840,
    "start_time": "2025-06-14T07:32:35.805Z"
   },
   {
    "duration": 544,
    "start_time": "2025-06-14T07:32:36.647Z"
   },
   {
    "duration": 1037,
    "start_time": "2025-06-14T07:32:37.193Z"
   },
   {
    "duration": 1438,
    "start_time": "2025-06-14T07:32:38.232Z"
   },
   {
    "duration": 319,
    "start_time": "2025-06-14T07:32:39.674Z"
   },
   {
    "duration": 183,
    "start_time": "2025-06-14T07:32:39.995Z"
   },
   {
    "duration": 93,
    "start_time": "2025-06-14T07:32:40.180Z"
   },
   {
    "duration": 83,
    "start_time": "2025-06-14T07:32:40.280Z"
   },
   {
    "duration": 15,
    "start_time": "2025-06-14T07:32:40.371Z"
   },
   {
    "duration": 7,
    "start_time": "2025-06-14T07:32:40.389Z"
   },
   {
    "duration": 117685,
    "start_time": "2025-06-14T07:32:40.398Z"
   },
   {
    "duration": 25,
    "start_time": "2025-06-14T07:34:38.085Z"
   },
   {
    "duration": 9767,
    "start_time": "2025-06-14T07:38:13.269Z"
   },
   {
    "duration": 7,
    "start_time": "2025-06-14T07:38:23.039Z"
   },
   {
    "duration": 57,
    "start_time": "2025-06-14T07:38:23.048Z"
   },
   {
    "duration": 18,
    "start_time": "2025-06-14T07:38:23.107Z"
   },
   {
    "duration": 71,
    "start_time": "2025-06-14T07:38:23.127Z"
   },
   {
    "duration": 26,
    "start_time": "2025-06-14T07:38:23.200Z"
   },
   {
    "duration": 26,
    "start_time": "2025-06-14T07:38:23.228Z"
   },
   {
    "duration": 27,
    "start_time": "2025-06-14T07:38:23.256Z"
   },
   {
    "duration": 13,
    "start_time": "2025-06-14T07:38:23.286Z"
   },
   {
    "duration": 11,
    "start_time": "2025-06-14T07:38:23.301Z"
   },
   {
    "duration": 14,
    "start_time": "2025-06-14T07:38:23.314Z"
   },
   {
    "duration": 42,
    "start_time": "2025-06-14T07:38:23.330Z"
   },
   {
    "duration": 630,
    "start_time": "2025-06-14T07:38:23.374Z"
   },
   {
    "duration": 567,
    "start_time": "2025-06-14T07:38:24.008Z"
   },
   {
    "duration": 619,
    "start_time": "2025-06-14T07:38:24.577Z"
   },
   {
    "duration": 8,
    "start_time": "2025-06-14T07:38:25.197Z"
   },
   {
    "duration": 1174,
    "start_time": "2025-06-14T07:38:25.207Z"
   },
   {
    "duration": 29,
    "start_time": "2025-06-14T07:38:26.383Z"
   },
   {
    "duration": 1279,
    "start_time": "2025-06-14T07:38:26.414Z"
   },
   {
    "duration": 1054,
    "start_time": "2025-06-14T07:38:27.695Z"
   },
   {
    "duration": 4,
    "start_time": "2025-06-14T07:38:28.750Z"
   },
   {
    "duration": 124,
    "start_time": "2025-06-14T07:38:28.759Z"
   },
   {
    "duration": 4,
    "start_time": "2025-06-14T07:38:28.885Z"
   },
   {
    "duration": 12,
    "start_time": "2025-06-14T07:38:28.891Z"
   },
   {
    "duration": 11,
    "start_time": "2025-06-14T07:38:28.904Z"
   },
   {
    "duration": 7,
    "start_time": "2025-06-14T07:38:28.916Z"
   },
   {
    "duration": 17,
    "start_time": "2025-06-14T07:38:28.925Z"
   },
   {
    "duration": 8,
    "start_time": "2025-06-14T07:38:28.944Z"
   },
   {
    "duration": 64,
    "start_time": "2025-06-14T07:38:28.954Z"
   },
   {
    "duration": 3168,
    "start_time": "2025-06-14T07:38:29.021Z"
   },
   {
    "duration": 10,
    "start_time": "2025-06-14T07:38:32.263Z"
   },
   {
    "duration": 132180,
    "start_time": "2025-06-14T07:38:32.275Z"
   },
   {
    "duration": 44,
    "start_time": "2025-06-14T07:40:44.460Z"
   },
   {
    "duration": 82,
    "start_time": "2025-06-14T07:40:44.506Z"
   },
   {
    "duration": 12,
    "start_time": "2025-06-14T07:40:44.591Z"
   },
   {
    "duration": 12,
    "start_time": "2025-06-14T07:40:44.605Z"
   },
   {
    "duration": 12,
    "start_time": "2025-06-14T07:40:44.619Z"
   },
   {
    "duration": 41,
    "start_time": "2025-06-14T07:40:44.633Z"
   },
   {
    "duration": 13,
    "start_time": "2025-06-14T07:40:44.677Z"
   },
   {
    "duration": 10,
    "start_time": "2025-06-14T07:40:44.692Z"
   },
   {
    "duration": 445,
    "start_time": "2025-06-14T07:40:44.707Z"
   },
   {
    "duration": 818,
    "start_time": "2025-06-14T07:40:45.153Z"
   },
   {
    "duration": 679,
    "start_time": "2025-06-14T07:40:45.978Z"
   },
   {
    "duration": 982,
    "start_time": "2025-06-14T07:40:46.669Z"
   },
   {
    "duration": 1225,
    "start_time": "2025-06-14T07:40:47.653Z"
   },
   {
    "duration": 318,
    "start_time": "2025-06-14T07:40:48.880Z"
   },
   {
    "duration": 162,
    "start_time": "2025-06-14T07:40:49.200Z"
   },
   {
    "duration": 5,
    "start_time": "2025-06-14T07:40:49.364Z"
   },
   {
    "duration": 91,
    "start_time": "2025-06-14T07:40:49.372Z"
   },
   {
    "duration": 11,
    "start_time": "2025-06-14T07:40:49.465Z"
   },
   {
    "duration": 19,
    "start_time": "2025-06-14T07:40:49.478Z"
   },
   {
    "duration": 114023,
    "start_time": "2025-06-14T07:40:49.499Z"
   },
   {
    "duration": 36,
    "start_time": "2025-06-14T07:42:43.524Z"
   },
   {
    "duration": 9460,
    "start_time": "2025-06-14T08:03:48.636Z"
   },
   {
    "duration": 2281,
    "start_time": "2025-06-14T08:03:58.098Z"
   },
   {
    "duration": 49,
    "start_time": "2025-06-14T08:04:00.381Z"
   },
   {
    "duration": 24,
    "start_time": "2025-06-14T08:04:00.433Z"
   },
   {
    "duration": 58,
    "start_time": "2025-06-14T08:04:00.459Z"
   },
   {
    "duration": 14,
    "start_time": "2025-06-14T08:04:00.518Z"
   },
   {
    "duration": 24,
    "start_time": "2025-06-14T08:04:00.534Z"
   },
   {
    "duration": 33,
    "start_time": "2025-06-14T08:04:00.560Z"
   },
   {
    "duration": 30,
    "start_time": "2025-06-14T08:04:00.595Z"
   },
   {
    "duration": 12,
    "start_time": "2025-06-14T08:04:00.628Z"
   },
   {
    "duration": 24,
    "start_time": "2025-06-14T08:04:00.641Z"
   },
   {
    "duration": 21,
    "start_time": "2025-06-14T08:04:00.667Z"
   },
   {
    "duration": 715,
    "start_time": "2025-06-14T08:04:00.690Z"
   },
   {
    "duration": 565,
    "start_time": "2025-06-14T08:04:01.407Z"
   },
   {
    "duration": 573,
    "start_time": "2025-06-14T08:04:01.975Z"
   },
   {
    "duration": 13,
    "start_time": "2025-06-14T08:04:02.550Z"
   },
   {
    "duration": 853,
    "start_time": "2025-06-14T08:04:02.565Z"
   },
   {
    "duration": 40,
    "start_time": "2025-06-14T08:04:03.420Z"
   },
   {
    "duration": 1217,
    "start_time": "2025-06-14T08:04:03.463Z"
   },
   {
    "duration": 1000,
    "start_time": "2025-06-14T08:04:04.681Z"
   },
   {
    "duration": 3,
    "start_time": "2025-06-14T08:04:05.683Z"
   },
   {
    "duration": 8,
    "start_time": "2025-06-14T08:04:05.687Z"
   },
   {
    "duration": 4,
    "start_time": "2025-06-14T08:04:05.697Z"
   },
   {
    "duration": 47,
    "start_time": "2025-06-14T08:04:05.703Z"
   },
   {
    "duration": 14,
    "start_time": "2025-06-14T08:04:05.752Z"
   },
   {
    "duration": 14,
    "start_time": "2025-06-14T08:04:05.769Z"
   },
   {
    "duration": 21,
    "start_time": "2025-06-14T08:04:05.785Z"
   },
   {
    "duration": 21,
    "start_time": "2025-06-14T08:04:05.810Z"
   },
   {
    "duration": 81,
    "start_time": "2025-06-14T08:04:05.833Z"
   },
   {
    "duration": 2944,
    "start_time": "2025-06-14T08:04:05.916Z"
   },
   {
    "duration": 6,
    "start_time": "2025-06-14T08:04:08.863Z"
   },
   {
    "duration": 126444,
    "start_time": "2025-06-14T08:04:08.965Z"
   },
   {
    "duration": 31,
    "start_time": "2025-06-14T08:06:15.411Z"
   },
   {
    "duration": 57,
    "start_time": "2025-06-14T08:06:15.444Z"
   },
   {
    "duration": 14,
    "start_time": "2025-06-14T08:06:15.502Z"
   },
   {
    "duration": 15,
    "start_time": "2025-06-14T08:06:15.518Z"
   },
   {
    "duration": 14,
    "start_time": "2025-06-14T08:06:15.535Z"
   },
   {
    "duration": 13,
    "start_time": "2025-06-14T08:06:15.550Z"
   },
   {
    "duration": 13,
    "start_time": "2025-06-14T08:06:15.565Z"
   },
   {
    "duration": 10,
    "start_time": "2025-06-14T08:06:15.580Z"
   },
   {
    "duration": 293,
    "start_time": "2025-06-14T08:06:15.591Z"
   },
   {
    "duration": 768,
    "start_time": "2025-06-14T08:06:15.885Z"
   },
   {
    "duration": 506,
    "start_time": "2025-06-14T08:06:16.655Z"
   },
   {
    "duration": 939,
    "start_time": "2025-06-14T08:06:17.163Z"
   },
   {
    "duration": 1181,
    "start_time": "2025-06-14T08:06:18.104Z"
   },
   {
    "duration": 386,
    "start_time": "2025-06-14T08:06:19.287Z"
   },
   {
    "duration": 92,
    "start_time": "2025-06-14T08:06:19.675Z"
   },
   {
    "duration": 4,
    "start_time": "2025-06-14T08:06:19.769Z"
   },
   {
    "duration": 101,
    "start_time": "2025-06-14T08:06:19.863Z"
   },
   {
    "duration": 5,
    "start_time": "2025-06-14T08:06:19.966Z"
   },
   {
    "duration": 6,
    "start_time": "2025-06-14T08:06:19.973Z"
   },
   {
    "duration": 112472,
    "start_time": "2025-06-14T08:06:19.981Z"
   },
   {
    "duration": 26,
    "start_time": "2025-06-14T08:08:12.455Z"
   }
  ],
  "kernelspec": {
   "display_name": "Python 3 (ipykernel)",
   "language": "python",
   "name": "python3"
  },
  "language_info": {
   "codemirror_mode": {
    "name": "ipython",
    "version": 3
   },
   "file_extension": ".py",
   "mimetype": "text/x-python",
   "name": "python",
   "nbconvert_exporter": "python",
   "pygments_lexer": "ipython3",
   "version": "3.9.5"
  },
  "toc": {
   "base_numbering": 1,
   "nav_menu": {},
   "number_sections": true,
   "sideBar": true,
   "skip_h1_title": true,
   "title_cell": "Table of Contents",
   "title_sidebar": "Contents",
   "toc_cell": false,
   "toc_position": {
    "height": "calc(100% - 180px)",
    "left": "10px",
    "top": "150px",
    "width": "357.448px"
   },
   "toc_section_display": true,
   "toc_window_display": true
  }
 },
 "nbformat": 4,
 "nbformat_minor": 5
}
