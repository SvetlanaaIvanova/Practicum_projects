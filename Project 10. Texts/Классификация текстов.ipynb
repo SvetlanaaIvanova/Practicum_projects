{
 "cells": [
  {
   "cell_type": "markdown",
   "metadata": {
    "toc": true
   },
   "source": [
    "<h1>Содержание<span class=\"tocSkip\"></span></h1>\n",
    "<div class=\"toc\"><ul class=\"toc-item\"><li><span><a href=\"#Подготовка\" data-toc-modified-id=\"Подготовка-1\"><span class=\"toc-item-num\">1&nbsp;&nbsp;</span>Подготовка</a></span></li><li><span><a href=\"#Обучение\" data-toc-modified-id=\"Обучение-2\"><span class=\"toc-item-num\">2&nbsp;&nbsp;</span>Обучение</a></span></li><li><span><a href=\"#Выводы\" data-toc-modified-id=\"Выводы-3\"><span class=\"toc-item-num\">3&nbsp;&nbsp;</span>Выводы</a></span></li><li><span><a href=\"#Чек-лист-проверки\" data-toc-modified-id=\"Чек-лист-проверки-4\"><span class=\"toc-item-num\">4&nbsp;&nbsp;</span>Чек-лист проверки</a></span></li></ul></div>"
   ]
  },
  {
   "cell_type": "markdown",
   "metadata": {},
   "source": [
    "# Проект для интернет-магазина с BERT"
   ]
  },
  {
   "cell_type": "markdown",
   "metadata": {},
   "source": [
    "Интернет-магазин запускает новый сервис: пользователи могут редактировать и дополнять описания товаров, как в вики-сообществах, то есть клиенты предлагают свои правки и комментируют изменения других. Магазину нужен инструмент, который будет искать токсичные комментарии и отправлять их на модерацию. \n",
    "\n",
    "**Описание данных:** набор данных (текстов комментариев) с разметкой о токсичности правок.\n",
    "\n",
    "**Задача**: обучить модель для классификации комментарии на позитивные и негативные. \n",
    "\n",
    "\n",
    "**Этапы:**\n",
    "\n",
    "1. Загрузка и подготовка данных.\n",
    "2. Обучение разных моделей. \n",
    "3. Выводы."
   ]
  },
  {
   "cell_type": "markdown",
   "metadata": {},
   "source": [
    "## Подготовка"
   ]
  },
  {
   "cell_type": "code",
   "execution_count": 1,
   "metadata": {},
   "outputs": [
    {
     "name": "stdout",
     "output_type": "stream",
     "text": [
      "\u001b[33mWARNING: Error parsing dependencies of ipykernel: Expected matching RIGHT_PARENTHESIS for LEFT_PARENTHESIS, after version specifier\n",
      "    matplotlib-inline (<0.2.0appnope,>=0.1.0) ; platform_system == \"Darwin\"\n",
      "                      ~~~~~~~~^\u001b[0m\u001b[33m\n",
      "\u001b[0mRequirement already satisfied: pip in /opt/conda/lib/python3.9/site-packages (25.1.1)\n",
      "\u001b[33mWARNING: Error parsing dependencies of ipykernel: Expected matching RIGHT_PARENTHESIS for LEFT_PARENTHESIS, after version specifier\n",
      "    matplotlib-inline (<0.2.0appnope,>=0.1.0) ; platform_system == \"Darwin\"\n",
      "                      ~~~~~~~~^\u001b[0m\u001b[33m\n",
      "\u001b[0mRequirement already satisfied: pillow in /opt/conda/lib/python3.9/site-packages (11.2.1)\n",
      "\u001b[33mWARNING: Error parsing dependencies of ipykernel: Expected matching RIGHT_PARENTHESIS for LEFT_PARENTHESIS, after version specifier\n",
      "    matplotlib-inline (<0.2.0appnope,>=0.1.0) ; platform_system == \"Darwin\"\n",
      "                      ~~~~~~~~^\u001b[0m\u001b[33m\n",
      "\u001b[0m"
     ]
    }
   ],
   "source": [
    "!pip install wordcloud -q # подключаем библиотеку для создания облака слов\n",
    "!pip install --upgrade pip\n",
    "!pip install --upgrade pillow"
   ]
  },
  {
   "cell_type": "code",
   "execution_count": 2,
   "metadata": {},
   "outputs": [
    {
     "name": "stderr",
     "output_type": "stream",
     "text": [
      "[nltk_data] Downloading package punkt to /home/jovyan/nltk_data...\n",
      "[nltk_data]   Package punkt is already up-to-date!\n",
      "[nltk_data] Downloading package stopwords to /home/jovyan/nltk_data...\n",
      "[nltk_data]   Package stopwords is already up-to-date!\n"
     ]
    }
   ],
   "source": [
    "import numpy as np\n",
    "import pandas as pd\n",
    "import torch\n",
    "import transformers\n",
    "import seaborn as sns\n",
    "\n",
    "from wordcloud import WordCloud\n",
    "import matplotlib.pyplot as plt\n",
    "%matplotlib inline\n",
    "\n",
    "from tqdm import notebook\n",
    "from sklearn.linear_model import LogisticRegression\n",
    "from sklearn.neighbors import KNeighborsClassifier\n",
    "from sklearn.tree import DecisionTreeClassifier\n",
    "from sklearn.svm import SVC\n",
    "from sklearn.model_selection import cross_val_score\n",
    "from sklearn.model_selection import train_test_split\n",
    "from sklearn.pipeline import Pipeline\n",
    "from sklearn.model_selection import RandomizedSearchCV\n",
    "\n",
    "import nltk\n",
    "from nltk.tokenize import word_tokenize\n",
    "import re\n",
    "\n",
    "nltk.download('punkt') # делит текст на список предложений\n",
    "from sklearn.feature_extraction.text import CountVectorizer #преобразователь корпуса текстов в мешок слов\n",
    "from nltk.corpus import stopwords\n",
    "nltk.download(\"stopwords\") # поддерживает удаление стоп-слов\n",
    "\n",
    "from sklearn.metrics import f1_score"
   ]
  },
  {
   "cell_type": "code",
   "execution_count": 3,
   "metadata": {},
   "outputs": [
    {
     "data": {
      "text/html": [
       "<div>\n",
       "<style scoped>\n",
       "    .dataframe tbody tr th:only-of-type {\n",
       "        vertical-align: middle;\n",
       "    }\n",
       "\n",
       "    .dataframe tbody tr th {\n",
       "        vertical-align: top;\n",
       "    }\n",
       "\n",
       "    .dataframe thead th {\n",
       "        text-align: right;\n",
       "    }\n",
       "</style>\n",
       "<table border=\"1\" class=\"dataframe\">\n",
       "  <thead>\n",
       "    <tr style=\"text-align: right;\">\n",
       "      <th></th>\n",
       "      <th>text</th>\n",
       "      <th>toxic</th>\n",
       "    </tr>\n",
       "  </thead>\n",
       "  <tbody>\n",
       "    <tr>\n",
       "      <th>0</th>\n",
       "      <td>Explanation\\nWhy the edits made under my usern...</td>\n",
       "      <td>0</td>\n",
       "    </tr>\n",
       "    <tr>\n",
       "      <th>1</th>\n",
       "      <td>D'aww! He matches this background colour I'm s...</td>\n",
       "      <td>0</td>\n",
       "    </tr>\n",
       "    <tr>\n",
       "      <th>2</th>\n",
       "      <td>Hey man, I'm really not trying to edit war. It...</td>\n",
       "      <td>0</td>\n",
       "    </tr>\n",
       "    <tr>\n",
       "      <th>3</th>\n",
       "      <td>\"\\nMore\\nI can't make any real suggestions on ...</td>\n",
       "      <td>0</td>\n",
       "    </tr>\n",
       "    <tr>\n",
       "      <th>4</th>\n",
       "      <td>You, sir, are my hero. Any chance you remember...</td>\n",
       "      <td>0</td>\n",
       "    </tr>\n",
       "  </tbody>\n",
       "</table>\n",
       "</div>"
      ],
      "text/plain": [
       "                                                text  toxic\n",
       "0  Explanation\\nWhy the edits made under my usern...      0\n",
       "1  D'aww! He matches this background colour I'm s...      0\n",
       "2  Hey man, I'm really not trying to edit war. It...      0\n",
       "3  \"\\nMore\\nI can't make any real suggestions on ...      0\n",
       "4  You, sir, are my hero. Any chance you remember...      0"
      ]
     },
     "execution_count": 3,
     "metadata": {},
     "output_type": "execute_result"
    }
   ],
   "source": [
    "# загрузка данных\n",
    "toxic_comments = pd.read_csv('/datasets/toxic_comments.csv', index_col=[0])\n",
    "toxic_comments.head()"
   ]
  },
  {
   "cell_type": "code",
   "execution_count": 4,
   "metadata": {},
   "outputs": [
    {
     "name": "stdout",
     "output_type": "stream",
     "text": [
      "<class 'pandas.core.frame.DataFrame'>\n",
      "Int64Index: 159292 entries, 0 to 159450\n",
      "Data columns (total 2 columns):\n",
      " #   Column  Non-Null Count   Dtype \n",
      "---  ------  --------------   ----- \n",
      " 0   text    159292 non-null  object\n",
      " 1   toxic   159292 non-null  int64 \n",
      "dtypes: int64(1), object(1)\n",
      "memory usage: 3.6+ MB\n"
     ]
    }
   ],
   "source": [
    "# общая информация о данных\n",
    "toxic_comments.info()"
   ]
  },
  {
   "cell_type": "code",
   "execution_count": 5,
   "metadata": {
    "scrolled": true
   },
   "outputs": [
    {
     "data": {
      "text/plain": [
       "Text(0, 0.5, 'Количество')"
      ]
     },
     "execution_count": 5,
     "metadata": {},
     "output_type": "execute_result"
    },
    {
     "data": {
      "image/png": "[encoded data removed]",
      "text/plain": [
       "<Figure size 432x288 with 1 Axes>"
      ]
     },
     "metadata": {
      "needs_background": "light"
     },
     "output_type": "display_data"
    }
   ],
   "source": [
    "# визуализация содержания комментариев\n",
    "sns.countplot(data=toxic_comments, x=\"toxic\")\n",
    "plt.title ('Распределение текстов', fontsize=15)\n",
    "plt.xticks(np.linspace(0, 1, 2),  # место отметки\n",
    "           (r'$Позитивные$', r'$Негативные$'))\n",
    "plt.xlabel ('Токсичность', fontsize=12)\n",
    "plt.ylabel ('Количество', fontsize=12)"
   ]
  },
  {
   "cell_type": "markdown",
   "metadata": {},
   "source": [
    "Очистка текста"
   ]
  },
  {
   "cell_type": "code",
   "execution_count": 6,
   "metadata": {},
   "outputs": [],
   "source": [
    "# функция для очистки текста\n",
    "def clear_text(text):\n",
    "    text=text.lower()\n",
    "    return \" \".join(re.sub(r'[^a-zA-Z ]', ' ', text).split())"
   ]
  },
  {
   "cell_type": "code",
   "execution_count": 7,
   "metadata": {},
   "outputs": [
    {
     "data": {
      "text/html": [
       "<div>\n",
       "<style scoped>\n",
       "    .dataframe tbody tr th:only-of-type {\n",
       "        vertical-align: middle;\n",
       "    }\n",
       "\n",
       "    .dataframe tbody tr th {\n",
       "        vertical-align: top;\n",
       "    }\n",
       "\n",
       "    .dataframe thead th {\n",
       "        text-align: right;\n",
       "    }\n",
       "</style>\n",
       "<table border=\"1\" class=\"dataframe\">\n",
       "  <thead>\n",
       "    <tr style=\"text-align: right;\">\n",
       "      <th></th>\n",
       "      <th>text</th>\n",
       "      <th>toxic</th>\n",
       "      <th>text_lemm</th>\n",
       "    </tr>\n",
       "  </thead>\n",
       "  <tbody>\n",
       "    <tr>\n",
       "      <th>0</th>\n",
       "      <td>Explanation\\nWhy the edits made under my usern...</td>\n",
       "      <td>0</td>\n",
       "      <td>explanation why the edits made under my userna...</td>\n",
       "    </tr>\n",
       "    <tr>\n",
       "      <th>1</th>\n",
       "      <td>D'aww! He matches this background colour I'm s...</td>\n",
       "      <td>0</td>\n",
       "      <td>d aww he matches this background colour i m se...</td>\n",
       "    </tr>\n",
       "    <tr>\n",
       "      <th>2</th>\n",
       "      <td>Hey man, I'm really not trying to edit war. It...</td>\n",
       "      <td>0</td>\n",
       "      <td>hey man i m really not trying to edit war it s...</td>\n",
       "    </tr>\n",
       "    <tr>\n",
       "      <th>3</th>\n",
       "      <td>\"\\nMore\\nI can't make any real suggestions on ...</td>\n",
       "      <td>0</td>\n",
       "      <td>more i can t make any real suggestions on impr...</td>\n",
       "    </tr>\n",
       "    <tr>\n",
       "      <th>4</th>\n",
       "      <td>You, sir, are my hero. Any chance you remember...</td>\n",
       "      <td>0</td>\n",
       "      <td>you sir are my hero any chance you remember wh...</td>\n",
       "    </tr>\n",
       "  </tbody>\n",
       "</table>\n",
       "</div>"
      ],
      "text/plain": [
       "                                                text  toxic  \\\n",
       "0  Explanation\\nWhy the edits made under my usern...      0   \n",
       "1  D'aww! He matches this background colour I'm s...      0   \n",
       "2  Hey man, I'm really not trying to edit war. It...      0   \n",
       "3  \"\\nMore\\nI can't make any real suggestions on ...      0   \n",
       "4  You, sir, are my hero. Any chance you remember...      0   \n",
       "\n",
       "                                           text_lemm  \n",
       "0  explanation why the edits made under my userna...  \n",
       "1  d aww he matches this background colour i m se...  \n",
       "2  hey man i m really not trying to edit war it s...  \n",
       "3  more i can t make any real suggestions on impr...  \n",
       "4  you sir are my hero any chance you remember wh...  "
      ]
     },
     "execution_count": 7,
     "metadata": {},
     "output_type": "execute_result"
    }
   ],
   "source": [
    "# очищенный текст\n",
    "toxic_comments['text_lemm'] = toxic_comments['text'].apply(clear_text)\n",
    "toxic_comments.head()"
   ]
  },
  {
   "cell_type": "markdown",
   "metadata": {},
   "source": [
    "Лемматизация текстов:"
   ]
  },
  {
   "cell_type": "code",
   "execution_count": 8,
   "metadata": {},
   "outputs": [],
   "source": [
    "w_tokenizer = nltk.tokenize.WhitespaceTokenizer()\n",
    "lemmatizer = nltk.stem.WordNetLemmatizer()\n",
    "\n",
    "def lemmatize_text(text):\n",
    "    return [lemmatizer.lemmatize(w) for w in w_tokenizer.tokenize(text)]"
   ]
  },
  {
   "cell_type": "code",
   "execution_count": 9,
   "metadata": {},
   "outputs": [
    {
     "name": "stdout",
     "output_type": "stream",
     "text": [
      "CPU times: user 44.1 s, sys: 673 ms, total: 44.8 s\n",
      "Wall time: 45.1 s\n"
     ]
    }
   ],
   "source": [
    "%%time\n",
    "toxic_comments['text_lemm'] = toxic_comments['text_lemm'].apply(lemmatize_text)"
   ]
  },
  {
   "cell_type": "code",
   "execution_count": 10,
   "metadata": {
    "scrolled": true
   },
   "outputs": [
    {
     "data": {
      "text/html": [
       "<div>\n",
       "<style scoped>\n",
       "    .dataframe tbody tr th:only-of-type {\n",
       "        vertical-align: middle;\n",
       "    }\n",
       "\n",
       "    .dataframe tbody tr th {\n",
       "        vertical-align: top;\n",
       "    }\n",
       "\n",
       "    .dataframe thead th {\n",
       "        text-align: right;\n",
       "    }\n",
       "</style>\n",
       "<table border=\"1\" class=\"dataframe\">\n",
       "  <thead>\n",
       "    <tr style=\"text-align: right;\">\n",
       "      <th></th>\n",
       "      <th>text</th>\n",
       "      <th>toxic</th>\n",
       "      <th>text_lemm</th>\n",
       "    </tr>\n",
       "  </thead>\n",
       "  <tbody>\n",
       "    <tr>\n",
       "      <th>0</th>\n",
       "      <td>Explanation\\nWhy the edits made under my usern...</td>\n",
       "      <td>0</td>\n",
       "      <td>[explanation, why, the, edits, made, under, my...</td>\n",
       "    </tr>\n",
       "    <tr>\n",
       "      <th>1</th>\n",
       "      <td>D'aww! He matches this background colour I'm s...</td>\n",
       "      <td>0</td>\n",
       "      <td>[d, aww, he, match, this, background, colour, ...</td>\n",
       "    </tr>\n",
       "    <tr>\n",
       "      <th>2</th>\n",
       "      <td>Hey man, I'm really not trying to edit war. It...</td>\n",
       "      <td>0</td>\n",
       "      <td>[hey, man, i, m, really, not, trying, to, edit...</td>\n",
       "    </tr>\n",
       "    <tr>\n",
       "      <th>3</th>\n",
       "      <td>\"\\nMore\\nI can't make any real suggestions on ...</td>\n",
       "      <td>0</td>\n",
       "      <td>[more, i, can, t, make, any, real, suggestion,...</td>\n",
       "    </tr>\n",
       "    <tr>\n",
       "      <th>4</th>\n",
       "      <td>You, sir, are my hero. Any chance you remember...</td>\n",
       "      <td>0</td>\n",
       "      <td>[you, sir, are, my, hero, any, chance, you, re...</td>\n",
       "    </tr>\n",
       "  </tbody>\n",
       "</table>\n",
       "</div>"
      ],
      "text/plain": [
       "                                                text  toxic  \\\n",
       "0  Explanation\\nWhy the edits made under my usern...      0   \n",
       "1  D'aww! He matches this background colour I'm s...      0   \n",
       "2  Hey man, I'm really not trying to edit war. It...      0   \n",
       "3  \"\\nMore\\nI can't make any real suggestions on ...      0   \n",
       "4  You, sir, are my hero. Any chance you remember...      0   \n",
       "\n",
       "                                           text_lemm  \n",
       "0  [explanation, why, the, edits, made, under, my...  \n",
       "1  [d, aww, he, match, this, background, colour, ...  \n",
       "2  [hey, man, i, m, really, not, trying, to, edit...  \n",
       "3  [more, i, can, t, make, any, real, suggestion,...  \n",
       "4  [you, sir, are, my, hero, any, chance, you, re...  "
      ]
     },
     "execution_count": 10,
     "metadata": {},
     "output_type": "execute_result"
    }
   ],
   "source": [
    "toxic_comments.head()"
   ]
  },
  {
   "cell_type": "markdown",
   "metadata": {},
   "source": [
    "Очистка от стоп-слов."
   ]
  },
  {
   "cell_type": "code",
   "execution_count": 11,
   "metadata": {},
   "outputs": [],
   "source": [
    "stop_words = set(stopwords.words('english'))\n",
    "def no_stopwords(text):\n",
    "    return [word for word in text if word.lower() not in stop_words]"
   ]
  },
  {
   "cell_type": "code",
   "execution_count": 12,
   "metadata": {},
   "outputs": [],
   "source": [
    "toxic_comments['text_lemm'] = toxic_comments['text_lemm'].apply(no_stopwords)"
   ]
  },
  {
   "cell_type": "code",
   "execution_count": 13,
   "metadata": {},
   "outputs": [
    {
     "data": {
      "text/html": [
       "<div>\n",
       "<style scoped>\n",
       "    .dataframe tbody tr th:only-of-type {\n",
       "        vertical-align: middle;\n",
       "    }\n",
       "\n",
       "    .dataframe tbody tr th {\n",
       "        vertical-align: top;\n",
       "    }\n",
       "\n",
       "    .dataframe thead th {\n",
       "        text-align: right;\n",
       "    }\n",
       "</style>\n",
       "<table border=\"1\" class=\"dataframe\">\n",
       "  <thead>\n",
       "    <tr style=\"text-align: right;\">\n",
       "      <th></th>\n",
       "      <th>text</th>\n",
       "      <th>toxic</th>\n",
       "      <th>text_lemm</th>\n",
       "      <th>text_lemm_clear</th>\n",
       "    </tr>\n",
       "  </thead>\n",
       "  <tbody>\n",
       "    <tr>\n",
       "      <th>0</th>\n",
       "      <td>Explanation\\nWhy the edits made under my usern...</td>\n",
       "      <td>0</td>\n",
       "      <td>[explanation, edits, made, username, hardcore,...</td>\n",
       "      <td>explanation edits made username hardcore metal...</td>\n",
       "    </tr>\n",
       "    <tr>\n",
       "      <th>1</th>\n",
       "      <td>D'aww! He matches this background colour I'm s...</td>\n",
       "      <td>0</td>\n",
       "      <td>[aww, match, background, colour, seemingly, st...</td>\n",
       "      <td>aww match background colour seemingly stuck th...</td>\n",
       "    </tr>\n",
       "    <tr>\n",
       "      <th>2</th>\n",
       "      <td>Hey man, I'm really not trying to edit war. It...</td>\n",
       "      <td>0</td>\n",
       "      <td>[hey, man, really, trying, edit, war, guy, con...</td>\n",
       "      <td>hey man really trying edit war guy constantly ...</td>\n",
       "    </tr>\n",
       "    <tr>\n",
       "      <th>3</th>\n",
       "      <td>\"\\nMore\\nI can't make any real suggestions on ...</td>\n",
       "      <td>0</td>\n",
       "      <td>[make, real, suggestion, improvement, wondered...</td>\n",
       "      <td>make real suggestion improvement wondered sect...</td>\n",
       "    </tr>\n",
       "    <tr>\n",
       "      <th>4</th>\n",
       "      <td>You, sir, are my hero. Any chance you remember...</td>\n",
       "      <td>0</td>\n",
       "      <td>[sir, hero, chance, remember, page]</td>\n",
       "      <td>sir hero chance remember page</td>\n",
       "    </tr>\n",
       "  </tbody>\n",
       "</table>\n",
       "</div>"
      ],
      "text/plain": [
       "                                                text  toxic  \\\n",
       "0  Explanation\\nWhy the edits made under my usern...      0   \n",
       "1  D'aww! He matches this background colour I'm s...      0   \n",
       "2  Hey man, I'm really not trying to edit war. It...      0   \n",
       "3  \"\\nMore\\nI can't make any real suggestions on ...      0   \n",
       "4  You, sir, are my hero. Any chance you remember...      0   \n",
       "\n",
       "                                           text_lemm  \\\n",
       "0  [explanation, edits, made, username, hardcore,...   \n",
       "1  [aww, match, background, colour, seemingly, st...   \n",
       "2  [hey, man, really, trying, edit, war, guy, con...   \n",
       "3  [make, real, suggestion, improvement, wondered...   \n",
       "4                [sir, hero, chance, remember, page]   \n",
       "\n",
       "                                     text_lemm_clear  \n",
       "0  explanation edits made username hardcore metal...  \n",
       "1  aww match background colour seemingly stuck th...  \n",
       "2  hey man really trying edit war guy constantly ...  \n",
       "3  make real suggestion improvement wondered sect...  \n",
       "4                      sir hero chance remember page  "
      ]
     },
     "execution_count": 13,
     "metadata": {},
     "output_type": "execute_result"
    }
   ],
   "source": [
    "def join_words(text):\n",
    "    return \" \".join(text)\n",
    "toxic_comments['text_lemm_clear'] = toxic_comments['text_lemm'].apply(join_words)\n",
    "toxic_comments.head()"
   ]
  },
  {
   "cell_type": "markdown",
   "metadata": {},
   "source": [
    "Визуализируем частотность слов"
   ]
  },
  {
   "cell_type": "code",
   "execution_count": 14,
   "metadata": {},
   "outputs": [
    {
     "name": "stdout",
     "output_type": "stream",
     "text": [
      "CPU times: user 3 µs, sys: 0 ns, total: 3 µs\n",
      "Wall time: 6.91 µs\n"
     ]
    }
   ],
   "source": [
    "# разделим на токены\n",
    "%time\n",
    "tokens = word_tokenize(' '.join(toxic_comments['text_lemm_clear']))\n",
    "text = nltk.Text(tokens)"
   ]
  },
  {
   "cell_type": "code",
   "execution_count": 15,
   "metadata": {},
   "outputs": [],
   "source": [
    "text_raw = ' '.join(text)"
   ]
  },
  {
   "cell_type": "code",
   "execution_count": 16,
   "metadata": {},
   "outputs": [],
   "source": [
    "# генерация облака слов\n",
    "wordcloud = WordCloud().generate(text_raw)"
   ]
  },
  {
   "cell_type": "code",
   "execution_count": 17,
   "metadata": {},
   "outputs": [
    {
     "data": {
      "image/png": "[encoded data removed]",
      "text/plain": [
       "<Figure size 720x360 with 1 Axes>"
      ]
     },
     "metadata": {
      "needs_background": "light"
     },
     "output_type": "display_data"
    }
   ],
   "source": [
    "# визуализация слов\n",
    "plt.figure(figsize=(10, 5))\n",
    "plt.imshow(wordcloud, interpolation='bilinear')\n",
    "plt.axis('off')\n",
    "plt.title('Облако слов')\n",
    "plt.show()"
   ]
  },
  {
   "cell_type": "code",
   "execution_count": 18,
   "metadata": {},
   "outputs": [
    {
     "name": "stdout",
     "output_type": "stream",
     "text": [
      "Количество позитивных коментариев: 159292\n"
     ]
    }
   ],
   "source": [
    "toxic_comments_0 = toxic_comments.where(toxic_comments['toxic']==0)\n",
    "print ('Количество позитивных коментариев:', toxic_comments_0.shape[0])"
   ]
  },
  {
   "cell_type": "code",
   "execution_count": 19,
   "metadata": {},
   "outputs": [
    {
     "name": "stdout",
     "output_type": "stream",
     "text": [
      "Количество негативных коментариев: 16186\n"
     ]
    }
   ],
   "source": [
    "toxic_comments_1 = toxic_comments[toxic_comments['toxic']==1]\n",
    "print ('Количество негативных коментариев:', toxic_comments_1.shape[0])"
   ]
  },
  {
   "cell_type": "markdown",
   "metadata": {},
   "source": [
    "Для дальнейшего анализа отберем случайным образом 400 комментариев."
   ]
  },
  {
   "cell_type": "code",
   "execution_count": 20,
   "metadata": {},
   "outputs": [
    {
     "data": {
      "text/plain": [
       "0    356\n",
       "1     44\n",
       "Name: toxic, dtype: int64"
      ]
     },
     "execution_count": 20,
     "metadata": {},
     "output_type": "execute_result"
    }
   ],
   "source": [
    "toxic_comments_400 = toxic_comments.sample(400, random_state=5, replace = False)\n",
    "toxic_comments_400['toxic'].value_counts()"
   ]
  },
  {
   "cell_type": "code",
   "execution_count": 21,
   "metadata": {},
   "outputs": [
    {
     "name": "stdout",
     "output_type": "stream",
     "text": [
      "<class 'pandas.core.frame.DataFrame'>\n",
      "Int64Index: 400 entries, 27036 to 83385\n",
      "Data columns (total 4 columns):\n",
      " #   Column           Non-Null Count  Dtype \n",
      "---  ------           --------------  ----- \n",
      " 0   text             400 non-null    object\n",
      " 1   toxic            400 non-null    int64 \n",
      " 2   text_lemm        400 non-null    object\n",
      " 3   text_lemm_clear  400 non-null    object\n",
      "dtypes: int64(1), object(3)\n",
      "memory usage: 15.6+ KB\n"
     ]
    }
   ],
   "source": [
    "toxic_comments_400 = toxic_comments_400.dropna()\n",
    "toxic_comments_400.info()"
   ]
  },
  {
   "cell_type": "markdown",
   "metadata": {},
   "source": [
    "Разделим данные на обучающую и тестовую выборки:"
   ]
  },
  {
   "cell_type": "code",
   "execution_count": 22,
   "metadata": {},
   "outputs": [],
   "source": [
    "X_train, X_test, y_train, y_test = train_test_split (\n",
    "    toxic_comments_400['text_lemm_clear'], toxic_comments_400['toxic'], test_size = 0.25,\n",
    "    random_state=0, stratify = toxic_comments_400['toxic'])"
   ]
  },
  {
   "cell_type": "markdown",
   "metadata": {},
   "source": [
    "Количество негативных комментариев в несколько раз меньше позитивных. Для более точного прогнозирования увеличим их количество в обучающей выборке."
   ]
  },
  {
   "cell_type": "code",
   "execution_count": 23,
   "metadata": {},
   "outputs": [
    {
     "data": {
      "text/plain": [
       "0    267\n",
       "1     33\n",
       "Name: toxic, dtype: int64"
      ]
     },
     "execution_count": 23,
     "metadata": {},
     "output_type": "execute_result"
    }
   ],
   "source": [
    "y_train.value_counts()"
   ]
  },
  {
   "cell_type": "markdown",
   "metadata": {},
   "source": [
    "Добавим из исходной выборки дополнительно в обучающую 100 комментарием со значением в столбце 'toxic' = 1. Для избежания утечки данных удалим строки из тестовой выборки."
   ]
  },
  {
   "cell_type": "code",
   "execution_count": 24,
   "metadata": {},
   "outputs": [],
   "source": [
    "extra = toxic_comments_1[~toxic_comments_1.index.isin(list(toxic_comments_400.index))]\n",
    "extra_100 = extra.sample(100, random_state=5, replace = False)"
   ]
  },
  {
   "cell_type": "code",
   "execution_count": 25,
   "metadata": {},
   "outputs": [],
   "source": [
    "X_train = pd.concat([X_train, extra_100['text_lemm_clear']])\n",
    "y_train = pd.concat([y_train, extra_100['toxic']])"
   ]
  },
  {
   "cell_type": "code",
   "execution_count": 26,
   "metadata": {},
   "outputs": [
    {
     "name": "stdout",
     "output_type": "stream",
     "text": [
      "Размер обучающей выборки: (400,)\n",
      "Размер тестовой выборки: (100,)\n"
     ]
    }
   ],
   "source": [
    "print ('Размер обучающей выборки:', X_train.shape)\n",
    "print ('Размер тестовой выборки:', X_test.shape)"
   ]
  },
  {
   "cell_type": "code",
   "execution_count": 27,
   "metadata": {},
   "outputs": [
    {
     "data": {
      "text/plain": [
       "25599                                          payback get\n",
       "88572    version according version audio bully bang ban...\n",
       "88971    bishonen wrong provides evidence little bit po...\n",
       "99570    bnp ha history anti semitism ha bnp member jew...\n",
       "77850    horrid little shit monitoring editing pattern ...\n",
       "Name: text_lemm_clear, dtype: object"
      ]
     },
     "execution_count": 27,
     "metadata": {},
     "output_type": "execute_result"
    }
   ],
   "source": [
    "X_train.head()"
   ]
  },
  {
   "cell_type": "code",
   "execution_count": 28,
   "metadata": {},
   "outputs": [
    {
     "name": "stdout",
     "output_type": "stream",
     "text": [
      "Распределение целевого признака в обучающей выборке: \n",
      " 0    267\n",
      "1    133\n",
      "Name: toxic, dtype: int64\n",
      "Распределение целевого признака в тестовой выборке: \n",
      " 0    89\n",
      "1    11\n",
      "Name: toxic, dtype: int64\n"
     ]
    }
   ],
   "source": [
    "print ('Распределение целевого признака в обучающей выборке:', '\\n', y_train.value_counts())\n",
    "print ('Распределение целевого признака в тестовой выборке:', '\\n', y_test.value_counts())"
   ]
  },
  {
   "cell_type": "code",
   "execution_count": 29,
   "metadata": {},
   "outputs": [],
   "source": [
    "tokenizer = transformers.AutoTokenizer.from_pretrained(\"unitary/toxic-bert\")\n",
    "# трансформируем обучающую выборку:\n",
    "tokenized_tr = X_train.apply(lambda x: tokenizer.encode(str(x), add_special_tokens=True, truncation=True, max_length=260))\n",
    "max_len = 0\n",
    "for i in tokenized_tr.values:\n",
    "    if len(i) > max_len:\n",
    "        max_len = len(i)\n",
    "\n",
    "padded_tr = np.array([i + [0]*(max_len - len(i)) for i in tokenized_tr.values])\n",
    "\n",
    "attention_mask_tr = np.where(padded_tr != 0, 1, 0)"
   ]
  },
  {
   "cell_type": "code",
   "execution_count": 30,
   "metadata": {},
   "outputs": [
    {
     "data": {
      "text/plain": [
       "(400, 260)"
      ]
     },
     "execution_count": 30,
     "metadata": {},
     "output_type": "execute_result"
    }
   ],
   "source": [
    "padded_tr.shape"
   ]
  },
  {
   "cell_type": "code",
   "execution_count": 31,
   "metadata": {},
   "outputs": [
    {
     "data": {
      "text/plain": [
       "(100, 260)"
      ]
     },
     "execution_count": 31,
     "metadata": {},
     "output_type": "execute_result"
    }
   ],
   "source": [
    "# трансформируем тестовую выборку:\n",
    "tokenized_test = X_test.apply(lambda x: tokenizer.encode(str(x), add_special_tokens=True, truncation=True, max_length=260))\n",
    "for i in tokenized_test.values:\n",
    "    if len(i) > max_len:\n",
    "        max_len = len(i)\n",
    "\n",
    "padded_test = np.array([i + [0]*(max_len - len(i)) for i in tokenized_test.values])\n",
    "attention_mask_test = np.where(padded_test != 0, 1, 0)\n",
    "padded_test.shape"
   ]
  },
  {
   "cell_type": "code",
   "execution_count": 32,
   "metadata": {},
   "outputs": [
    {
     "name": "stderr",
     "output_type": "stream",
     "text": [
      "Some weights of the model checkpoint at unitary/toxic-bert were not used when initializing BertModel: ['classifier.bias', 'classifier.weight']\n",
      "- This IS expected if you are initializing BertModel from the checkpoint of a model trained on another task or with another architecture (e.g. initializing a BertForSequenceClassification model from a BertForPreTraining model).\n",
      "- This IS NOT expected if you are initializing BertModel from the checkpoint of a model that you expect to be exactly identical (initializing a BertForSequenceClassification model from a BertForSequenceClassification model).\n"
     ]
    }
   ],
   "source": [
    "# инициализируем модель\n",
    "model = transformers.AutoModel.from_pretrained(\"unitary/toxic-bert\")"
   ]
  },
  {
   "cell_type": "code",
   "execution_count": 33,
   "metadata": {},
   "outputs": [],
   "source": [
    "# для ускорения расчетов воспользуемся графическим процессором.\n",
    "device = torch.device('cuda' if torch.cuda.is_available() else 'cpu')"
   ]
  },
  {
   "cell_type": "code",
   "execution_count": 34,
   "metadata": {},
   "outputs": [
    {
     "data": {
      "application/vnd.jupyter.widget-view+json": {
       "model_id": "39025b4b4f884faaa3956c273cf157a9",
       "version_major": 2,
       "version_minor": 0
      },
      "text/plain": [
       "  0%|          | 0/8 [00:00<?, ?it/s]"
      ]
     },
     "metadata": {},
     "output_type": "display_data"
    }
   ],
   "source": [
    "batch_size = 50\n",
    "embeddings_tr = []\n",
    "for i in notebook.tqdm(range(padded_tr.shape[0] // batch_size)):\n",
    "        batch = torch.LongTensor(padded_tr[batch_size*i:batch_size*(i+1)]).to(device)\n",
    "        attention_mask_batch = torch.LongTensor(attention_mask_tr[batch_size*i:batch_size*(i+1)]).to(device)\n",
    "        with torch.no_grad():\n",
    "            batch_embeddings = model(batch, attention_mask=attention_mask_batch)\n",
    "        embeddings_tr.append(batch_embeddings[0][:,0,:].cpu().numpy())"
   ]
  },
  {
   "cell_type": "code",
   "execution_count": 35,
   "metadata": {},
   "outputs": [
    {
     "data": {
      "application/vnd.jupyter.widget-view+json": {
       "model_id": "f14b003a5cbe4a25a9667f326a0782f4",
       "version_major": 2,
       "version_minor": 0
      },
      "text/plain": [
       "  0%|          | 0/2 [00:00<?, ?it/s]"
      ]
     },
     "metadata": {},
     "output_type": "display_data"
    }
   ],
   "source": [
    "# эмбединги для тестовой выборки \n",
    "embeddings_test = []\n",
    "for i in notebook.tqdm(range(padded_test.shape[0] // batch_size)):\n",
    "        batch = torch.LongTensor(padded_test[batch_size*i:batch_size*(i+1)]) \n",
    "        attention_mask_batch = torch.LongTensor(attention_mask_test[batch_size*i:batch_size*(i+1)])\n",
    "        \n",
    "        with torch.no_grad():\n",
    "            batch_embeddings = model(batch, attention_mask=attention_mask_batch)\n",
    "        \n",
    "        embeddings_test.append(batch_embeddings[0][:,0,:].cpu().numpy())"
   ]
  },
  {
   "cell_type": "code",
   "execution_count": 36,
   "metadata": {},
   "outputs": [
    {
     "data": {
      "text/plain": [
       "(400, 768)"
      ]
     },
     "execution_count": 36,
     "metadata": {},
     "output_type": "execute_result"
    }
   ],
   "source": [
    "# признаки тренировочной выборки \n",
    "features_train = np.concatenate(embeddings_tr)\n",
    "features_train.shape"
   ]
  },
  {
   "cell_type": "code",
   "execution_count": 37,
   "metadata": {},
   "outputs": [
    {
     "data": {
      "text/plain": [
       "(100, 768)"
      ]
     },
     "execution_count": 37,
     "metadata": {},
     "output_type": "execute_result"
    }
   ],
   "source": [
    "# признаки тестовой выборки \n",
    "features_test = np.concatenate(embeddings_test)\n",
    "features_test.shape"
   ]
  },
  {
   "cell_type": "markdown",
   "metadata": {},
   "source": [
    "## Обучение"
   ]
  },
  {
   "cell_type": "markdown",
   "metadata": {},
   "source": [
    "Обучим четыре модели: KNeighborsClassifier(), DecisionTreeClassifier(), LogisticRegression() и SVC() и выберем лучшую модель."
   ]
  },
  {
   "cell_type": "code",
   "execution_count": 38,
   "metadata": {},
   "outputs": [],
   "source": [
    "RANDOM_STATE = 42\n",
    "pipe_final = Pipeline([\n",
    "    ('models', DecisionTreeClassifier(random_state=RANDOM_STATE))\n",
    "])\n",
    "\n",
    "param_grid = [\n",
    "    # словарь для модели DecisionTreeClassifier()\n",
    "    {\n",
    "        'models': [DecisionTreeClassifier(random_state=RANDOM_STATE)],\n",
    "        'models__max_depth': range(2, 16),\n",
    "        'models__max_features': range(2, 16)  \n",
    "    },\n",
    "    # словарь для модели KNeighborsClassifier() \n",
    "    {\n",
    "        'models': [KNeighborsClassifier()],\n",
    "        'models__n_neighbors': range(2, 16),\n",
    "    },\n",
    "    # словарь для модели LogisticRegression()\n",
    "    {\n",
    "        'models': [LogisticRegression(\n",
    "            random_state=RANDOM_STATE, \n",
    "            solver='liblinear', \n",
    "            penalty='l1'\n",
    "        )],\n",
    "        'models__C': range(1, 5)\n",
    "    },\n",
    "    # словарь для модели SVC()\n",
    "    {\n",
    "        'models': [SVC(random_state=RANDOM_STATE, kernel = 'poly')]\n",
    "    }\n",
    "]"
   ]
  },
  {
   "cell_type": "code",
   "execution_count": 39,
   "metadata": {},
   "outputs": [
    {
     "name": "stdout",
     "output_type": "stream",
     "text": [
      "huggingface/tokenizers: The current process just got forked, after parallelism has already been used. Disabling parallelism to avoid deadlocks...\n",
      "To disable this warning, you can either:\n",
      "\t- Avoid using `tokenizers` before the fork if possible\n",
      "\t- Explicitly set the environment variable TOKENIZERS_PARALLELISM=(true | false)\n",
      "Лучшая модель и её параметры:\n",
      "\n",
      " Pipeline(steps=[('models', KNeighborsClassifier(n_neighbors=6))])\n",
      "Метрика лучшей модели на тренировочной выборке: 0.9411409544950056\n",
      "F1-мера: 0.7692307692307693\n"
     ]
    }
   ],
   "source": [
    "randomized_search = RandomizedSearchCV(\n",
    "    pipe_final, \n",
    "    param_grid, \n",
    "    cv=5,\n",
    "    scoring='f1',\n",
    "    random_state=RANDOM_STATE,\n",
    "    n_jobs=-1\n",
    ")\n",
    "randomized_search.fit(features_train, y_train)\n",
    "\n",
    "print('Лучшая модель и её параметры:\\n\\n', randomized_search.best_estimator_)\n",
    "print ('Метрика лучшей модели на тренировочной выборке:', randomized_search.best_score_)\n",
    "\n",
    "# прогноз на тестовых данных\n",
    "y_test_pred = randomized_search.predict(features_test)\n",
    "# проверка модели на тестовой выборке\n",
    "print(f'F1-мера: {f1_score(y_test, y_test_pred)}');"
   ]
  },
  {
   "cell_type": "markdown",
   "metadata": {},
   "source": [
    "## Выводы"
   ]
  },
  {
   "cell_type": "markdown",
   "metadata": {},
   "source": [
    "Исходные комментарии в количестве 159292 обработаны моделью BERT. Для обучения и подбора лучшей модели отобраны случайным образом 500 строк, в том числе 400 включены в тренировочную выборку, а 100 - в тестовую. На отобранных данных проведено обучение 4 разных моделей машинного обучения с разными параметрами, в результате которого лучший результат по метрике точности f1 показала модель 6 ближайших соседей (f1-мера на тренировочной выборке показала результат, равный 0.94, а на тестовой - 0.77)."
   ]
  }
 ],
 "metadata": {
  "ExecuteTimeLog": [
   {
    "duration": 2122,
    "start_time": "2024-09-08T19:39:35.827Z"
   },
   {
    "duration": 3,
    "start_time": "2024-09-08T19:39:46.769Z"
   },
   {
    "duration": 3622,
    "start_time": "2024-09-08T19:41:47.276Z"
   },
   {
    "duration": 842,
    "start_time": "2024-09-08T19:42:19.417Z"
   },
   {
    "duration": 6,
    "start_time": "2024-09-08T19:45:34.296Z"
   },
   {
    "duration": 30,
    "start_time": "2024-09-08T19:45:39.161Z"
   },
   {
    "duration": 28,
    "start_time": "2024-09-08T19:46:00.208Z"
   },
   {
    "duration": 5,
    "start_time": "2024-09-08T19:49:42.268Z"
   },
   {
    "duration": 13,
    "start_time": "2024-09-08T19:51:36.833Z"
   },
   {
    "duration": 13,
    "start_time": "2024-09-08T19:52:02.373Z"
   },
   {
    "duration": 58,
    "start_time": "2024-09-22T16:10:15.939Z"
   },
   {
    "duration": 2940,
    "start_time": "2024-09-22T16:10:26.862Z"
   },
   {
    "duration": 1345,
    "start_time": "2024-09-22T16:10:29.805Z"
   },
   {
    "duration": 36,
    "start_time": "2024-09-22T16:10:31.152Z"
   },
   {
    "duration": 132,
    "start_time": "2024-09-22T16:10:31.190Z"
   },
   {
    "duration": 130,
    "start_time": "2024-09-22T16:10:31.323Z"
   },
   {
    "duration": 137,
    "start_time": "2024-09-22T16:11:09.777Z"
   },
   {
    "duration": 133,
    "start_time": "2024-09-22T16:11:20.571Z"
   },
   {
    "duration": 129,
    "start_time": "2024-09-22T16:11:30.384Z"
   },
   {
    "duration": 125,
    "start_time": "2024-09-22T16:11:46.752Z"
   },
   {
    "duration": 4,
    "start_time": "2024-09-22T16:13:13.482Z"
   },
   {
    "duration": 970,
    "start_time": "2024-09-22T16:13:13.976Z"
   },
   {
    "duration": 40,
    "start_time": "2024-09-22T16:13:14.948Z"
   },
   {
    "duration": 129,
    "start_time": "2024-09-22T16:13:15.527Z"
   },
   {
    "duration": 451,
    "start_time": "2024-09-22T16:14:55.132Z"
   },
   {
    "duration": 965,
    "start_time": "2024-09-22T16:14:58.009Z"
   },
   {
    "duration": 32,
    "start_time": "2024-09-22T16:14:58.980Z"
   },
   {
    "duration": 118,
    "start_time": "2024-09-22T16:14:59.156Z"
   },
   {
    "duration": 43,
    "start_time": "2024-09-22T16:17:19.760Z"
   },
   {
    "duration": 9,
    "start_time": "2024-09-22T16:17:30.193Z"
   },
   {
    "duration": 16,
    "start_time": "2024-09-22T16:17:50.854Z"
   },
   {
    "duration": 22,
    "start_time": "2024-09-22T16:18:24.661Z"
   },
   {
    "duration": 9,
    "start_time": "2024-09-22T16:18:32.941Z"
   },
   {
    "duration": 71,
    "start_time": "2024-09-22T16:19:55.143Z"
   },
   {
    "duration": 6,
    "start_time": "2024-09-22T16:20:06.780Z"
   },
   {
    "duration": 15,
    "start_time": "2024-09-22T16:20:07.658Z"
   },
   {
    "duration": 6,
    "start_time": "2024-09-22T16:20:52.538Z"
   },
   {
    "duration": 12,
    "start_time": "2024-09-22T16:20:54.244Z"
   },
   {
    "duration": 18,
    "start_time": "2024-09-22T16:21:47.565Z"
   },
   {
    "duration": 18,
    "start_time": "2024-09-22T16:22:03.368Z"
   },
   {
    "duration": 6,
    "start_time": "2024-09-22T16:37:46.892Z"
   },
   {
    "duration": 2044,
    "start_time": "2024-09-22T16:53:20.713Z"
   },
   {
    "duration": 255735,
    "start_time": "2024-09-22T17:00:46.339Z"
   },
   {
    "duration": 18,
    "start_time": "2024-09-22T17:05:02.076Z"
   },
   {
    "duration": 79,
    "start_time": "2024-09-22T17:07:26.030Z"
   },
   {
    "duration": 7,
    "start_time": "2024-09-22T17:07:43.382Z"
   },
   {
    "duration": 6,
    "start_time": "2024-09-22T17:07:56.713Z"
   },
   {
    "duration": 5,
    "start_time": "2024-09-22T17:08:12.138Z"
   },
   {
    "duration": 4,
    "start_time": "2024-09-22T17:08:20.434Z"
   },
   {
    "duration": 70,
    "start_time": "2024-09-22T17:21:10.155Z"
   },
   {
    "duration": 67,
    "start_time": "2024-09-22T17:21:12.573Z"
   },
   {
    "duration": 67,
    "start_time": "2024-09-22T17:21:29.565Z"
   },
   {
    "duration": 25,
    "start_time": "2024-09-22T17:21:45.606Z"
   },
   {
    "duration": 22,
    "start_time": "2024-09-22T17:21:57.845Z"
   },
   {
    "duration": 282,
    "start_time": "2024-09-22T17:22:18.536Z"
   },
   {
    "duration": 912,
    "start_time": "2024-09-22T17:22:18.820Z"
   },
   {
    "duration": 41,
    "start_time": "2024-09-22T17:22:19.734Z"
   },
   {
    "duration": 137,
    "start_time": "2024-09-22T17:22:19.777Z"
   },
   {
    "duration": 26,
    "start_time": "2024-09-22T17:22:19.916Z"
   },
   {
    "duration": 42,
    "start_time": "2024-09-22T17:22:19.944Z"
   },
   {
    "duration": 64,
    "start_time": "2024-09-22T17:22:19.988Z"
   },
   {
    "duration": 0,
    "start_time": "2024-09-22T17:26:36.687Z"
   },
   {
    "duration": 0,
    "start_time": "2024-09-22T17:26:36.688Z"
   },
   {
    "duration": 0,
    "start_time": "2024-09-22T17:26:36.689Z"
   },
   {
    "duration": 0,
    "start_time": "2024-09-22T17:26:36.691Z"
   },
   {
    "duration": 0,
    "start_time": "2024-09-22T17:26:36.691Z"
   },
   {
    "duration": 0,
    "start_time": "2024-09-22T17:26:36.692Z"
   },
   {
    "duration": 0,
    "start_time": "2024-09-22T17:26:36.693Z"
   },
   {
    "duration": 0,
    "start_time": "2024-09-22T17:26:36.694Z"
   },
   {
    "duration": 0,
    "start_time": "2024-09-22T17:26:36.695Z"
   },
   {
    "duration": 0,
    "start_time": "2024-09-22T17:26:36.696Z"
   },
   {
    "duration": 0,
    "start_time": "2024-09-22T17:26:36.697Z"
   },
   {
    "duration": 6,
    "start_time": "2024-09-22T17:27:47.657Z"
   },
   {
    "duration": 970,
    "start_time": "2024-09-22T17:27:47.664Z"
   },
   {
    "duration": 39,
    "start_time": "2024-09-22T17:27:48.636Z"
   },
   {
    "duration": 142,
    "start_time": "2024-09-22T17:27:48.678Z"
   },
   {
    "duration": 26,
    "start_time": "2024-09-22T17:27:48.821Z"
   },
   {
    "duration": 25,
    "start_time": "2024-09-22T17:27:48.848Z"
   },
   {
    "duration": 63,
    "start_time": "2024-09-22T17:27:48.875Z"
   },
   {
    "duration": 263478,
    "start_time": "2024-09-22T17:27:48.940Z"
   },
   {
    "duration": 19,
    "start_time": "2024-09-22T17:32:12.420Z"
   },
   {
    "duration": 0,
    "start_time": "2024-09-22T17:32:12.445Z"
   },
   {
    "duration": 0,
    "start_time": "2024-09-22T17:32:12.446Z"
   },
   {
    "duration": 1,
    "start_time": "2024-09-22T17:32:12.465Z"
   },
   {
    "duration": 0,
    "start_time": "2024-09-22T17:32:12.467Z"
   },
   {
    "duration": 0,
    "start_time": "2024-09-22T17:32:12.468Z"
   },
   {
    "duration": 0,
    "start_time": "2024-09-22T17:32:12.477Z"
   },
   {
    "duration": 0,
    "start_time": "2024-09-22T17:32:12.478Z"
   },
   {
    "duration": 0,
    "start_time": "2024-09-22T17:32:12.481Z"
   },
   {
    "duration": 0,
    "start_time": "2024-09-22T17:32:12.483Z"
   },
   {
    "duration": 0,
    "start_time": "2024-09-22T17:32:12.484Z"
   },
   {
    "duration": 6,
    "start_time": "2024-09-22T17:36:01.631Z"
   },
   {
    "duration": 922,
    "start_time": "2024-09-22T17:36:04.283Z"
   },
   {
    "duration": 33,
    "start_time": "2024-09-22T17:36:06.376Z"
   },
   {
    "duration": 126,
    "start_time": "2024-09-22T17:36:10.204Z"
   },
   {
    "duration": 26,
    "start_time": "2024-09-22T17:36:11.815Z"
   },
   {
    "duration": 7,
    "start_time": "2024-09-22T17:36:14.154Z"
   },
   {
    "duration": 13,
    "start_time": "2024-09-22T17:36:18.495Z"
   },
   {
    "duration": 10,
    "start_time": "2024-09-22T17:36:56.914Z"
   },
   {
    "duration": 13,
    "start_time": "2024-09-22T17:38:09.680Z"
   },
   {
    "duration": 34,
    "start_time": "2024-09-22T17:38:38.263Z"
   },
   {
    "duration": 11,
    "start_time": "2024-09-22T17:41:44.001Z"
   },
   {
    "duration": 12,
    "start_time": "2024-09-22T17:42:29.345Z"
   },
   {
    "duration": 15,
    "start_time": "2024-09-22T17:42:43.244Z"
   },
   {
    "duration": 12,
    "start_time": "2024-09-22T17:42:54.586Z"
   },
   {
    "duration": 993,
    "start_time": "2024-09-22T17:43:14.913Z"
   },
   {
    "duration": 33,
    "start_time": "2024-09-22T17:43:15.908Z"
   },
   {
    "duration": 147,
    "start_time": "2024-09-22T17:43:15.943Z"
   },
   {
    "duration": 26,
    "start_time": "2024-09-22T17:43:16.092Z"
   },
   {
    "duration": 7,
    "start_time": "2024-09-22T17:43:16.120Z"
   },
   {
    "duration": 12,
    "start_time": "2024-09-22T17:43:16.128Z"
   },
   {
    "duration": 78,
    "start_time": "2024-09-22T17:43:16.168Z"
   },
   {
    "duration": 9,
    "start_time": "2024-09-22T17:43:16.247Z"
   },
   {
    "duration": 33,
    "start_time": "2024-09-22T17:43:16.258Z"
   },
   {
    "duration": 17,
    "start_time": "2024-09-22T17:45:03.281Z"
   },
   {
    "duration": 18,
    "start_time": "2024-09-22T17:46:04.815Z"
   },
   {
    "duration": 19,
    "start_time": "2024-09-22T17:46:42.065Z"
   },
   {
    "duration": 17,
    "start_time": "2024-09-22T17:46:50.304Z"
   },
   {
    "duration": 18,
    "start_time": "2024-09-22T17:47:18.095Z"
   },
   {
    "duration": 18,
    "start_time": "2024-09-22T17:47:34.320Z"
   },
   {
    "duration": 17,
    "start_time": "2024-09-22T17:48:09.845Z"
   },
   {
    "duration": 25,
    "start_time": "2024-09-22T17:48:29.815Z"
   },
   {
    "duration": 7,
    "start_time": "2024-09-22T17:48:30.413Z"
   },
   {
    "duration": 18,
    "start_time": "2024-09-22T17:48:32.844Z"
   },
   {
    "duration": 20,
    "start_time": "2024-09-22T17:48:58.285Z"
   },
   {
    "duration": 16,
    "start_time": "2024-09-22T17:49:29.405Z"
   },
   {
    "duration": 18,
    "start_time": "2024-09-22T17:49:51.405Z"
   },
   {
    "duration": 24,
    "start_time": "2024-09-22T17:50:17.016Z"
   },
   {
    "duration": 21,
    "start_time": "2024-09-22T17:50:22.021Z"
   },
   {
    "duration": 7,
    "start_time": "2024-09-22T17:50:36.433Z"
   },
   {
    "duration": 955,
    "start_time": "2024-09-22T17:50:36.443Z"
   },
   {
    "duration": 25,
    "start_time": "2024-09-22T17:50:37.399Z"
   },
   {
    "duration": 130,
    "start_time": "2024-09-22T17:50:37.426Z"
   },
   {
    "duration": 30,
    "start_time": "2024-09-22T17:50:37.557Z"
   },
   {
    "duration": 21,
    "start_time": "2024-09-22T17:50:37.588Z"
   },
   {
    "duration": 49,
    "start_time": "2024-09-22T17:50:37.611Z"
   },
   {
    "duration": 36,
    "start_time": "2024-09-22T17:50:37.662Z"
   },
   {
    "duration": 0,
    "start_time": "2024-09-22T17:50:37.700Z"
   },
   {
    "duration": 0,
    "start_time": "2024-09-22T17:50:37.701Z"
   },
   {
    "duration": 9,
    "start_time": "2024-09-22T17:52:26.713Z"
   },
   {
    "duration": 456,
    "start_time": "2024-09-22T17:53:05.366Z"
   },
   {
    "duration": 6,
    "start_time": "2024-09-22T17:53:38.149Z"
   },
   {
    "duration": 17,
    "start_time": "2024-09-22T17:53:50.174Z"
   },
   {
    "duration": 7,
    "start_time": "2024-09-22T17:54:07.534Z"
   },
   {
    "duration": 1424,
    "start_time": "2024-09-22T17:54:09.181Z"
   },
   {
    "duration": 1531,
    "start_time": "2024-09-22T17:54:59.411Z"
   },
   {
    "duration": 4877,
    "start_time": "2024-09-22T17:55:36.192Z"
   },
   {
    "duration": 52,
    "start_time": "2024-09-22T17:56:11.964Z"
   },
   {
    "duration": 47,
    "start_time": "2024-09-22T17:57:27.395Z"
   },
   {
    "duration": 18,
    "start_time": "2024-09-22T18:00:44.470Z"
   },
   {
    "duration": 17,
    "start_time": "2024-09-22T18:00:51.621Z"
   },
   {
    "duration": 20,
    "start_time": "2024-09-22T18:01:32.299Z"
   },
   {
    "duration": 29,
    "start_time": "2024-09-22T18:02:09.408Z"
   },
   {
    "duration": 9,
    "start_time": "2024-09-22T18:02:11.509Z"
   },
   {
    "duration": 25,
    "start_time": "2024-09-22T18:02:44.681Z"
   },
   {
    "duration": 46,
    "start_time": "2024-09-22T18:02:52.512Z"
   },
   {
    "duration": 16,
    "start_time": "2024-09-22T18:02:59.775Z"
   },
   {
    "duration": 25,
    "start_time": "2024-09-22T18:03:17.779Z"
   },
   {
    "duration": 7,
    "start_time": "2024-09-22T18:03:22.433Z"
   },
   {
    "duration": 32,
    "start_time": "2024-09-22T18:03:52.401Z"
   },
   {
    "duration": 13,
    "start_time": "2024-09-22T18:03:57.417Z"
   },
   {
    "duration": 30,
    "start_time": "2024-09-22T18:04:50.593Z"
   },
   {
    "duration": 29,
    "start_time": "2024-09-22T18:05:00.433Z"
   },
   {
    "duration": 6,
    "start_time": "2024-09-22T18:05:51.543Z"
   },
   {
    "duration": 932,
    "start_time": "2024-09-22T18:05:51.551Z"
   },
   {
    "duration": 31,
    "start_time": "2024-09-22T18:05:52.484Z"
   },
   {
    "duration": 162,
    "start_time": "2024-09-22T18:05:52.516Z"
   },
   {
    "duration": 33,
    "start_time": "2024-09-22T18:05:52.681Z"
   },
   {
    "duration": 12,
    "start_time": "2024-09-22T18:05:52.716Z"
   },
   {
    "duration": 41,
    "start_time": "2024-09-22T18:05:52.730Z"
   },
   {
    "duration": 19,
    "start_time": "2024-09-22T18:05:52.773Z"
   },
   {
    "duration": 1521,
    "start_time": "2024-09-22T18:05:52.794Z"
   },
   {
    "duration": 2602,
    "start_time": "2024-09-22T18:05:54.317Z"
   },
   {
    "duration": 64,
    "start_time": "2024-09-22T18:05:56.921Z"
   },
   {
    "duration": 0,
    "start_time": "2024-09-22T18:05:56.987Z"
   },
   {
    "duration": 0,
    "start_time": "2024-09-22T18:05:56.988Z"
   },
   {
    "duration": 0,
    "start_time": "2024-09-22T18:05:56.990Z"
   },
   {
    "duration": 30,
    "start_time": "2024-09-22T18:06:13.001Z"
   },
   {
    "duration": 8,
    "start_time": "2024-09-22T18:06:18.924Z"
   },
   {
    "duration": 5462,
    "start_time": "2024-09-22T18:06:29.417Z"
   },
   {
    "duration": 1267,
    "start_time": "2024-09-22T18:06:34.882Z"
   },
   {
    "duration": 34,
    "start_time": "2024-09-22T18:06:36.151Z"
   },
   {
    "duration": 132,
    "start_time": "2024-09-22T18:06:36.187Z"
   },
   {
    "duration": 27,
    "start_time": "2024-09-22T18:06:36.321Z"
   },
   {
    "duration": 16,
    "start_time": "2024-09-22T18:06:36.350Z"
   },
   {
    "duration": 18,
    "start_time": "2024-09-22T18:06:36.368Z"
   },
   {
    "duration": 5,
    "start_time": "2024-09-22T18:06:36.388Z"
   },
   {
    "duration": 3593,
    "start_time": "2024-09-22T18:06:36.394Z"
   },
   {
    "duration": 4391,
    "start_time": "2024-09-22T18:06:39.989Z"
   },
   {
    "duration": 371,
    "start_time": "2024-09-22T18:06:44.382Z"
   },
   {
    "duration": 0,
    "start_time": "2024-09-22T18:06:44.755Z"
   },
   {
    "duration": 0,
    "start_time": "2024-09-22T18:06:44.756Z"
   },
   {
    "duration": 0,
    "start_time": "2024-09-22T18:06:44.757Z"
   },
   {
    "duration": 4,
    "start_time": "2024-09-22T18:07:36.549Z"
   },
   {
    "duration": 27,
    "start_time": "2024-09-22T18:07:51.745Z"
   },
   {
    "duration": 17,
    "start_time": "2024-09-22T18:08:06.409Z"
   },
   {
    "duration": 18,
    "start_time": "2024-09-22T18:08:18.756Z"
   },
   {
    "duration": 17,
    "start_time": "2024-09-22T18:08:30.522Z"
   },
   {
    "duration": 17,
    "start_time": "2024-09-22T18:08:37.605Z"
   },
   {
    "duration": 20,
    "start_time": "2024-09-22T18:11:23.409Z"
   },
   {
    "duration": 20,
    "start_time": "2024-09-22T18:11:31.603Z"
   },
   {
    "duration": 237,
    "start_time": "2024-09-22T18:12:32.054Z"
   },
   {
    "duration": 19,
    "start_time": "2024-09-22T18:15:10.115Z"
   },
   {
    "duration": 17,
    "start_time": "2024-09-22T18:15:34.274Z"
   },
   {
    "duration": 16,
    "start_time": "2024-09-22T18:15:46.431Z"
   },
   {
    "duration": 9,
    "start_time": "2024-09-22T18:16:24.222Z"
   },
   {
    "duration": 28,
    "start_time": "2024-09-22T18:16:52.914Z"
   },
   {
    "duration": 22,
    "start_time": "2024-09-22T18:16:59.574Z"
   },
   {
    "duration": 18,
    "start_time": "2024-09-22T18:17:24.906Z"
   },
   {
    "duration": 6,
    "start_time": "2024-09-22T18:17:29.394Z"
   },
   {
    "duration": 11,
    "start_time": "2024-09-22T18:17:36.944Z"
   },
   {
    "duration": 6,
    "start_time": "2024-09-22T18:18:06.224Z"
   },
   {
    "duration": 5,
    "start_time": "2024-09-22T18:18:12.906Z"
   },
   {
    "duration": 9,
    "start_time": "2024-09-22T18:18:22.613Z"
   },
   {
    "duration": 19,
    "start_time": "2024-09-22T18:18:36.821Z"
   },
   {
    "duration": 21,
    "start_time": "2024-09-22T18:18:40.744Z"
   },
   {
    "duration": 13,
    "start_time": "2024-09-22T18:18:55.152Z"
   },
   {
    "duration": 12,
    "start_time": "2024-09-22T18:19:08.865Z"
   },
   {
    "duration": 6,
    "start_time": "2024-09-22T18:19:34.046Z"
   },
   {
    "duration": 886,
    "start_time": "2024-09-22T18:19:34.054Z"
   },
   {
    "duration": 36,
    "start_time": "2024-09-22T18:19:34.941Z"
   },
   {
    "duration": 154,
    "start_time": "2024-09-22T18:19:34.979Z"
   },
   {
    "duration": 36,
    "start_time": "2024-09-22T18:19:35.135Z"
   },
   {
    "duration": 7,
    "start_time": "2024-09-22T18:19:35.172Z"
   },
   {
    "duration": 21,
    "start_time": "2024-09-22T18:19:35.180Z"
   },
   {
    "duration": 15,
    "start_time": "2024-09-22T18:19:35.202Z"
   },
   {
    "duration": 1680,
    "start_time": "2024-09-22T18:19:35.219Z"
   },
   {
    "duration": 2658,
    "start_time": "2024-09-22T18:19:36.901Z"
   },
   {
    "duration": 47,
    "start_time": "2024-09-22T18:19:39.561Z"
   },
   {
    "duration": 0,
    "start_time": "2024-09-22T18:19:39.609Z"
   },
   {
    "duration": 0,
    "start_time": "2024-09-22T18:19:39.611Z"
   },
   {
    "duration": 0,
    "start_time": "2024-09-22T18:19:39.613Z"
   },
   {
    "duration": 1557,
    "start_time": "2024-09-22T18:26:38.565Z"
   },
   {
    "duration": 1688,
    "start_time": "2024-09-22T18:26:47.720Z"
   },
   {
    "duration": 1721,
    "start_time": "2024-09-22T18:27:28.294Z"
   },
   {
    "duration": 2539,
    "start_time": "2024-09-22T18:27:30.017Z"
   },
   {
    "duration": 48,
    "start_time": "2024-09-22T18:27:37.335Z"
   },
   {
    "duration": 4,
    "start_time": "2024-09-22T18:28:41.504Z"
   },
   {
    "duration": 4,
    "start_time": "2024-09-22T18:28:49.956Z"
   },
   {
    "duration": 1631,
    "start_time": "2024-09-22T18:31:05.634Z"
   },
   {
    "duration": 4,
    "start_time": "2024-09-22T18:31:07.873Z"
   },
   {
    "duration": 2555,
    "start_time": "2024-09-22T18:31:12.544Z"
   },
   {
    "duration": 3002,
    "start_time": "2024-09-22T18:31:36.030Z"
   },
   {
    "duration": 1208,
    "start_time": "2024-09-22T18:31:39.033Z"
   },
   {
    "duration": 33,
    "start_time": "2024-09-22T18:31:40.242Z"
   },
   {
    "duration": 142,
    "start_time": "2024-09-22T18:31:40.277Z"
   },
   {
    "duration": 26,
    "start_time": "2024-09-22T18:31:40.422Z"
   },
   {
    "duration": 16,
    "start_time": "2024-09-22T18:31:40.450Z"
   },
   {
    "duration": 13,
    "start_time": "2024-09-22T18:31:40.467Z"
   },
   {
    "duration": 11,
    "start_time": "2024-09-22T18:31:40.481Z"
   },
   {
    "duration": 3563,
    "start_time": "2024-09-22T18:31:40.493Z"
   },
   {
    "duration": 4,
    "start_time": "2024-09-22T18:31:44.057Z"
   },
   {
    "duration": 4734,
    "start_time": "2024-09-22T18:31:44.062Z"
   },
   {
    "duration": 2966,
    "start_time": "2024-09-22T18:32:24.614Z"
   },
   {
    "duration": 1282,
    "start_time": "2024-09-22T18:32:27.582Z"
   },
   {
    "duration": 33,
    "start_time": "2024-09-22T18:32:28.866Z"
   },
   {
    "duration": 135,
    "start_time": "2024-09-22T18:32:28.902Z"
   },
   {
    "duration": 42,
    "start_time": "2024-09-22T18:32:29.038Z"
   },
   {
    "duration": 8,
    "start_time": "2024-09-22T18:32:29.083Z"
   },
   {
    "duration": 13,
    "start_time": "2024-09-22T18:32:29.093Z"
   },
   {
    "duration": 14,
    "start_time": "2024-09-22T18:32:29.107Z"
   },
   {
    "duration": 3557,
    "start_time": "2024-09-22T18:32:29.122Z"
   },
   {
    "duration": 4,
    "start_time": "2024-09-22T18:32:32.681Z"
   },
   {
    "duration": 4732,
    "start_time": "2024-09-22T18:32:32.686Z"
   },
   {
    "duration": 55,
    "start_time": "2024-09-22T18:33:13.795Z"
   },
   {
    "duration": 2880,
    "start_time": "2024-09-22T18:33:32.814Z"
   },
   {
    "duration": 1266,
    "start_time": "2024-09-22T18:33:35.696Z"
   },
   {
    "duration": 32,
    "start_time": "2024-09-22T18:33:36.963Z"
   },
   {
    "duration": 132,
    "start_time": "2024-09-22T18:33:36.996Z"
   },
   {
    "duration": 37,
    "start_time": "2024-09-22T18:33:37.131Z"
   },
   {
    "duration": 7,
    "start_time": "2024-09-22T18:33:37.170Z"
   },
   {
    "duration": 17,
    "start_time": "2024-09-22T18:33:37.178Z"
   },
   {
    "duration": 142,
    "start_time": "2024-09-22T18:33:37.196Z"
   },
   {
    "duration": 0,
    "start_time": "2024-09-22T18:33:37.339Z"
   },
   {
    "duration": 0,
    "start_time": "2024-09-22T18:33:37.340Z"
   },
   {
    "duration": 0,
    "start_time": "2024-09-22T18:33:37.342Z"
   },
   {
    "duration": 0,
    "start_time": "2024-09-22T18:33:37.343Z"
   },
   {
    "duration": 0,
    "start_time": "2024-09-22T18:33:37.344Z"
   },
   {
    "duration": 0,
    "start_time": "2024-09-22T18:33:37.345Z"
   },
   {
    "duration": 0,
    "start_time": "2024-09-22T18:33:37.346Z"
   },
   {
    "duration": 13,
    "start_time": "2024-09-22T18:33:57.973Z"
   },
   {
    "duration": 2778,
    "start_time": "2024-09-22T18:34:01.075Z"
   },
   {
    "duration": 5,
    "start_time": "2024-09-22T18:34:04.933Z"
   },
   {
    "duration": 4731,
    "start_time": "2024-09-22T18:34:08.907Z"
   },
   {
    "duration": 2972,
    "start_time": "2024-09-22T18:34:30.346Z"
   },
   {
    "duration": 1228,
    "start_time": "2024-09-22T18:34:33.321Z"
   },
   {
    "duration": 34,
    "start_time": "2024-09-22T18:34:34.551Z"
   },
   {
    "duration": 134,
    "start_time": "2024-09-22T18:34:34.589Z"
   },
   {
    "duration": 27,
    "start_time": "2024-09-22T18:34:34.725Z"
   },
   {
    "duration": 16,
    "start_time": "2024-09-22T18:34:34.753Z"
   },
   {
    "duration": 52,
    "start_time": "2024-09-22T18:34:34.771Z"
   },
   {
    "duration": 20,
    "start_time": "2024-09-22T18:34:34.824Z"
   },
   {
    "duration": 2643,
    "start_time": "2024-09-22T18:34:34.845Z"
   },
   {
    "duration": 4,
    "start_time": "2024-09-22T18:34:37.490Z"
   },
   {
    "duration": 4748,
    "start_time": "2024-09-22T18:34:37.495Z"
   },
   {
    "duration": 51,
    "start_time": "2024-09-22T18:35:05.515Z"
   },
   {
    "duration": 2964,
    "start_time": "2024-09-22T18:35:11.355Z"
   },
   {
    "duration": 1227,
    "start_time": "2024-09-22T18:35:14.321Z"
   },
   {
    "duration": 31,
    "start_time": "2024-09-22T18:35:15.550Z"
   },
   {
    "duration": 155,
    "start_time": "2024-09-22T18:35:15.582Z"
   },
   {
    "duration": 33,
    "start_time": "2024-09-22T18:35:15.739Z"
   },
   {
    "duration": 7,
    "start_time": "2024-09-22T18:35:15.774Z"
   },
   {
    "duration": 68,
    "start_time": "2024-09-22T18:35:15.783Z"
   },
   {
    "duration": 20,
    "start_time": "2024-09-22T18:35:15.853Z"
   },
   {
    "duration": 2625,
    "start_time": "2024-09-22T18:35:15.874Z"
   },
   {
    "duration": 4,
    "start_time": "2024-09-22T18:35:18.501Z"
   },
   {
    "duration": 4662,
    "start_time": "2024-09-22T18:35:18.506Z"
   },
   {
    "duration": 3022,
    "start_time": "2024-09-22T18:43:55.741Z"
   },
   {
    "duration": 1243,
    "start_time": "2024-09-22T18:43:58.765Z"
   },
   {
    "duration": 33,
    "start_time": "2024-09-22T18:44:00.010Z"
   },
   {
    "duration": 159,
    "start_time": "2024-09-22T18:44:00.044Z"
   },
   {
    "duration": 26,
    "start_time": "2024-09-22T18:44:00.205Z"
   },
   {
    "duration": 6,
    "start_time": "2024-09-22T18:44:00.233Z"
   },
   {
    "duration": 28,
    "start_time": "2024-09-22T18:44:00.241Z"
   },
   {
    "duration": 27,
    "start_time": "2024-09-22T18:44:00.270Z"
   },
   {
    "duration": 2630,
    "start_time": "2024-09-22T18:44:00.299Z"
   },
   {
    "duration": 4,
    "start_time": "2024-09-22T18:44:02.930Z"
   },
   {
    "duration": 2980,
    "start_time": "2024-09-22T18:44:07.133Z"
   },
   {
    "duration": 920,
    "start_time": "2024-09-22T18:44:10.115Z"
   },
   {
    "duration": 39,
    "start_time": "2024-09-22T18:44:11.036Z"
   },
   {
    "duration": 140,
    "start_time": "2024-09-22T18:44:11.077Z"
   },
   {
    "duration": 28,
    "start_time": "2024-09-22T18:44:11.219Z"
   },
   {
    "duration": 17,
    "start_time": "2024-09-22T18:44:11.249Z"
   },
   {
    "duration": 14,
    "start_time": "2024-09-22T18:44:11.268Z"
   },
   {
    "duration": 12,
    "start_time": "2024-09-22T18:44:11.284Z"
   },
   {
    "duration": 2480,
    "start_time": "2024-09-22T18:44:11.298Z"
   },
   {
    "duration": 4,
    "start_time": "2024-09-22T18:44:13.780Z"
   },
   {
    "duration": 4315,
    "start_time": "2024-09-22T18:44:13.785Z"
   },
   {
    "duration": 354319,
    "start_time": "2024-09-22T18:44:18.101Z"
   },
   {
    "duration": 359,
    "start_time": "2024-09-22T18:50:12.422Z"
   },
   {
    "duration": 0,
    "start_time": "2024-09-22T18:50:12.783Z"
   },
   {
    "duration": 0,
    "start_time": "2024-09-22T18:50:12.784Z"
   },
   {
    "duration": 4,
    "start_time": "2024-09-22T18:52:47.152Z"
   },
   {
    "duration": 22,
    "start_time": "2024-09-22T18:57:18.891Z"
   },
   {
    "duration": 21,
    "start_time": "2024-09-22T19:00:48.302Z"
   },
   {
    "duration": 4,
    "start_time": "2024-09-22T19:02:22.794Z"
   },
   {
    "duration": 6,
    "start_time": "2024-09-22T19:07:35.354Z"
   },
   {
    "duration": 949,
    "start_time": "2024-09-22T19:07:35.362Z"
   },
   {
    "duration": 29,
    "start_time": "2024-09-22T19:07:36.313Z"
   },
   {
    "duration": 140,
    "start_time": "2024-09-22T19:07:36.343Z"
   },
   {
    "duration": 35,
    "start_time": "2024-09-22T19:07:36.485Z"
   },
   {
    "duration": 7,
    "start_time": "2024-09-22T19:07:36.522Z"
   },
   {
    "duration": 35,
    "start_time": "2024-09-22T19:07:36.531Z"
   },
   {
    "duration": 12,
    "start_time": "2024-09-22T19:07:36.568Z"
   },
   {
    "duration": 720,
    "start_time": "2024-09-22T19:07:36.582Z"
   },
   {
    "duration": 4,
    "start_time": "2024-09-22T19:07:37.303Z"
   },
   {
    "duration": 3793,
    "start_time": "2024-09-22T19:07:37.309Z"
   },
   {
    "duration": 3008,
    "start_time": "2024-09-22T19:08:02.103Z"
   },
   {
    "duration": 1272,
    "start_time": "2024-09-22T19:08:05.113Z"
   },
   {
    "duration": 31,
    "start_time": "2024-09-22T19:08:06.387Z"
   },
   {
    "duration": 135,
    "start_time": "2024-09-22T19:08:06.420Z"
   },
   {
    "duration": 33,
    "start_time": "2024-09-22T19:08:06.557Z"
   },
   {
    "duration": 6,
    "start_time": "2024-09-22T19:08:06.591Z"
   },
   {
    "duration": 21,
    "start_time": "2024-09-22T19:08:06.598Z"
   },
   {
    "duration": 12,
    "start_time": "2024-09-22T19:08:06.620Z"
   },
   {
    "duration": 2734,
    "start_time": "2024-09-22T19:08:06.634Z"
   },
   {
    "duration": 3,
    "start_time": "2024-09-22T19:08:09.370Z"
   },
   {
    "duration": 4975,
    "start_time": "2024-09-22T19:08:09.375Z"
   },
   {
    "duration": 2932,
    "start_time": "2024-09-22T19:09:14.456Z"
   },
   {
    "duration": 1210,
    "start_time": "2024-09-22T19:09:17.390Z"
   },
   {
    "duration": 33,
    "start_time": "2024-09-22T19:09:18.602Z"
   },
   {
    "duration": 134,
    "start_time": "2024-09-22T19:09:18.637Z"
   },
   {
    "duration": 36,
    "start_time": "2024-09-22T19:09:18.773Z"
   },
   {
    "duration": 8,
    "start_time": "2024-09-22T19:09:18.811Z"
   },
   {
    "duration": 13,
    "start_time": "2024-09-22T19:09:18.821Z"
   },
   {
    "duration": 43,
    "start_time": "2024-09-22T19:09:18.836Z"
   },
   {
    "duration": 2590,
    "start_time": "2024-09-22T19:09:18.881Z"
   },
   {
    "duration": 4,
    "start_time": "2024-09-22T19:09:21.473Z"
   },
   {
    "duration": 2663,
    "start_time": "2024-09-22T19:09:21.479Z"
   },
   {
    "duration": 426224,
    "start_time": "2024-09-22T19:09:24.144Z"
   },
   {
    "duration": 4,
    "start_time": "2024-09-22T19:16:30.370Z"
   },
   {
    "duration": 33,
    "start_time": "2024-09-22T19:16:30.376Z"
   },
   {
    "duration": 25,
    "start_time": "2024-09-22T19:16:30.411Z"
   },
   {
    "duration": 35,
    "start_time": "2024-09-22T19:16:30.437Z"
   },
   {
    "duration": 354,
    "start_time": "2024-09-22T19:16:30.473Z"
   },
   {
    "duration": 6,
    "start_time": "2024-09-22T19:26:54.465Z"
   },
   {
    "duration": 4,
    "start_time": "2024-09-22T19:27:22.419Z"
   },
   {
    "duration": 5,
    "start_time": "2024-09-22T19:27:28.917Z"
   },
   {
    "duration": 7,
    "start_time": "2024-09-22T19:27:35.370Z"
   },
   {
    "duration": 6,
    "start_time": "2024-09-22T19:27:42.050Z"
   },
   {
    "duration": 6,
    "start_time": "2024-09-22T19:28:23.018Z"
   },
   {
    "duration": 5,
    "start_time": "2024-09-22T19:28:37.925Z"
   },
   {
    "duration": 6,
    "start_time": "2024-09-22T19:28:43.564Z"
   },
   {
    "duration": 7,
    "start_time": "2024-09-22T19:28:54.579Z"
   },
   {
    "duration": 6,
    "start_time": "2024-09-22T19:29:44.956Z"
   },
   {
    "duration": 7,
    "start_time": "2024-09-22T19:30:34.321Z"
   },
   {
    "duration": 6,
    "start_time": "2024-09-22T19:30:53.857Z"
   },
   {
    "duration": 26,
    "start_time": "2024-09-22T19:34:28.401Z"
   },
   {
    "duration": 4,
    "start_time": "2024-09-22T19:35:29.060Z"
   },
   {
    "duration": 8,
    "start_time": "2024-09-22T19:36:20.468Z"
   },
   {
    "duration": 25,
    "start_time": "2024-09-22T19:38:11.405Z"
   },
   {
    "duration": 19,
    "start_time": "2024-09-22T19:38:19.647Z"
   },
   {
    "duration": 19,
    "start_time": "2024-09-22T19:38:54.970Z"
   },
   {
    "duration": 9,
    "start_time": "2024-09-22T19:39:01.616Z"
   },
   {
    "duration": 5,
    "start_time": "2024-09-22T19:39:06.004Z"
   },
   {
    "duration": 2852,
    "start_time": "2024-09-22T19:39:38.613Z"
   },
   {
    "duration": 2918,
    "start_time": "2024-09-22T19:41:06.257Z"
   },
   {
    "duration": 5,
    "start_time": "2024-09-22T19:41:45.385Z"
   },
   {
    "duration": 2100,
    "start_time": "2024-09-22T19:43:06.729Z"
   },
   {
    "duration": 7,
    "start_time": "2024-09-22T19:45:09.060Z"
   },
   {
    "duration": 1257,
    "start_time": "2024-09-22T19:45:09.069Z"
   },
   {
    "duration": 33,
    "start_time": "2024-09-22T19:45:10.328Z"
   },
   {
    "duration": 127,
    "start_time": "2024-09-22T19:45:10.362Z"
   },
   {
    "duration": 36,
    "start_time": "2024-09-22T19:45:10.493Z"
   },
   {
    "duration": 8,
    "start_time": "2024-09-22T19:45:10.531Z"
   },
   {
    "duration": 41,
    "start_time": "2024-09-22T19:45:10.541Z"
   },
   {
    "duration": 15,
    "start_time": "2024-09-22T19:45:10.584Z"
   },
   {
    "duration": 851,
    "start_time": "2024-09-22T19:45:10.601Z"
   },
   {
    "duration": 4,
    "start_time": "2024-09-22T19:45:11.453Z"
   },
   {
    "duration": 3648,
    "start_time": "2024-09-22T19:45:11.459Z"
   },
   {
    "duration": 3131,
    "start_time": "2024-09-22T19:46:02.650Z"
   },
   {
    "duration": 1251,
    "start_time": "2024-09-22T19:46:05.783Z"
   },
   {
    "duration": 33,
    "start_time": "2024-09-22T19:46:07.036Z"
   },
   {
    "duration": 148,
    "start_time": "2024-09-22T19:46:07.071Z"
   },
   {
    "duration": 27,
    "start_time": "2024-09-22T19:46:07.221Z"
   },
   {
    "duration": 19,
    "start_time": "2024-09-22T19:46:07.250Z"
   },
   {
    "duration": 11,
    "start_time": "2024-09-22T19:46:07.271Z"
   },
   {
    "duration": 11,
    "start_time": "2024-09-22T19:46:07.284Z"
   },
   {
    "duration": 2582,
    "start_time": "2024-09-22T19:46:07.296Z"
   },
   {
    "duration": 4,
    "start_time": "2024-09-22T19:46:09.881Z"
   },
   {
    "duration": 4866,
    "start_time": "2024-09-22T19:46:09.886Z"
   },
   {
    "duration": 455659,
    "start_time": "2024-09-22T19:46:14.754Z"
   },
   {
    "duration": 4,
    "start_time": "2024-09-22T19:53:50.416Z"
   },
   {
    "duration": 13,
    "start_time": "2024-09-22T19:53:50.421Z"
   },
   {
    "duration": 11,
    "start_time": "2024-09-22T19:53:50.435Z"
   },
   {
    "duration": 20,
    "start_time": "2024-09-22T19:53:50.447Z"
   },
   {
    "duration": 2398,
    "start_time": "2024-09-22T19:53:50.468Z"
   },
   {
    "duration": 95,
    "start_time": "2024-09-22T20:03:18.442Z"
   },
   {
    "duration": 70,
    "start_time": "2024-09-22T20:03:25.989Z"
   },
   {
    "duration": 43,
    "start_time": "2024-09-22T20:03:35.761Z"
   },
   {
    "duration": 32,
    "start_time": "2024-09-22T20:03:47.722Z"
   },
   {
    "duration": 45,
    "start_time": "2024-09-22T20:04:08.586Z"
   },
   {
    "duration": 25,
    "start_time": "2024-09-22T20:04:28.303Z"
   },
   {
    "duration": 23,
    "start_time": "2024-09-22T20:06:11.285Z"
   },
   {
    "duration": 68,
    "start_time": "2024-09-22T20:06:14.289Z"
   },
   {
    "duration": 70,
    "start_time": "2024-09-22T20:06:20.704Z"
   },
   {
    "duration": 647,
    "start_time": "2024-09-22T20:06:28.036Z"
   },
   {
    "duration": 4,
    "start_time": "2024-09-22T20:07:00.207Z"
   },
   {
    "duration": 6,
    "start_time": "2024-09-22T20:07:02.271Z"
   },
   {
    "duration": 12,
    "start_time": "2024-09-22T20:07:08.302Z"
   },
   {
    "duration": 11,
    "start_time": "2024-09-22T20:07:23.421Z"
   },
   {
    "duration": 28,
    "start_time": "2024-09-22T20:08:49.684Z"
   },
   {
    "duration": 64,
    "start_time": "2024-09-22T20:09:02.478Z"
   },
   {
    "duration": 72,
    "start_time": "2024-09-22T20:09:07.920Z"
   },
   {
    "duration": 73,
    "start_time": "2024-09-22T20:09:39.379Z"
   },
   {
    "duration": 54,
    "start_time": "2024-09-22T20:09:50.732Z"
   },
   {
    "duration": 3152,
    "start_time": "2024-09-22T20:11:58.214Z"
   },
   {
    "duration": 1278,
    "start_time": "2024-09-22T20:12:01.368Z"
   },
   {
    "duration": 35,
    "start_time": "2024-09-22T20:12:02.648Z"
   },
   {
    "duration": 137,
    "start_time": "2024-09-22T20:12:02.686Z"
   },
   {
    "duration": 27,
    "start_time": "2024-09-22T20:12:02.825Z"
   },
   {
    "duration": 7,
    "start_time": "2024-09-22T20:12:02.865Z"
   },
   {
    "duration": 12,
    "start_time": "2024-09-22T20:12:02.873Z"
   },
   {
    "duration": 12,
    "start_time": "2024-09-22T20:12:02.887Z"
   },
   {
    "duration": 2565,
    "start_time": "2024-09-22T20:12:02.900Z"
   },
   {
    "duration": 3,
    "start_time": "2024-09-22T20:12:05.468Z"
   },
   {
    "duration": 4248,
    "start_time": "2024-09-22T20:12:05.473Z"
   },
   {
    "duration": 477767,
    "start_time": "2024-09-22T20:12:09.723Z"
   },
   {
    "duration": 5,
    "start_time": "2024-09-22T20:20:07.492Z"
   },
   {
    "duration": 6,
    "start_time": "2024-09-22T20:20:07.498Z"
   },
   {
    "duration": 7,
    "start_time": "2024-09-22T20:20:07.506Z"
   },
   {
    "duration": 6,
    "start_time": "2024-09-22T20:20:07.515Z"
   },
   {
    "duration": 2443,
    "start_time": "2024-09-22T20:20:07.523Z"
   },
   {
    "duration": 5,
    "start_time": "2024-09-22T20:24:21.804Z"
   },
   {
    "duration": 30,
    "start_time": "2024-09-22T20:24:28.398Z"
   },
   {
    "duration": 7,
    "start_time": "2024-09-22T20:25:00.870Z"
   },
   {
    "duration": 13,
    "start_time": "2024-09-22T20:25:12.737Z"
   },
   {
    "duration": 7,
    "start_time": "2024-09-22T20:26:24.677Z"
   },
   {
    "duration": 1229,
    "start_time": "2024-09-22T20:26:24.685Z"
   },
   {
    "duration": 41,
    "start_time": "2024-09-22T20:26:25.916Z"
   },
   {
    "duration": 129,
    "start_time": "2024-09-22T20:26:25.960Z"
   },
   {
    "duration": 23,
    "start_time": "2024-09-22T20:26:26.090Z"
   },
   {
    "duration": 7,
    "start_time": "2024-09-22T20:26:26.115Z"
   },
   {
    "duration": 47,
    "start_time": "2024-09-22T20:26:26.124Z"
   },
   {
    "duration": 16,
    "start_time": "2024-09-22T20:26:26.172Z"
   },
   {
    "duration": 956,
    "start_time": "2024-09-22T20:26:26.190Z"
   },
   {
    "duration": 3,
    "start_time": "2024-09-22T20:26:27.149Z"
   },
   {
    "duration": 4541,
    "start_time": "2024-09-22T20:26:27.153Z"
   },
   {
    "duration": 2863,
    "start_time": "2024-09-22T20:28:13.317Z"
   },
   {
    "duration": 1251,
    "start_time": "2024-09-22T20:28:16.182Z"
   },
   {
    "duration": 32,
    "start_time": "2024-09-22T20:28:17.435Z"
   },
   {
    "duration": 143,
    "start_time": "2024-09-22T20:28:17.468Z"
   },
   {
    "duration": 27,
    "start_time": "2024-09-22T20:28:17.613Z"
   },
   {
    "duration": 6,
    "start_time": "2024-09-22T20:28:17.641Z"
   },
   {
    "duration": 27,
    "start_time": "2024-09-22T20:28:17.649Z"
   },
   {
    "duration": 12,
    "start_time": "2024-09-22T20:28:17.677Z"
   },
   {
    "duration": 2757,
    "start_time": "2024-09-22T20:28:17.690Z"
   },
   {
    "duration": 4,
    "start_time": "2024-09-22T20:28:20.449Z"
   },
   {
    "duration": 4775,
    "start_time": "2024-09-22T20:28:20.455Z"
   },
   {
    "duration": 2894,
    "start_time": "2024-09-22T20:33:44.417Z"
   },
   {
    "duration": 1233,
    "start_time": "2024-09-22T20:33:47.313Z"
   },
   {
    "duration": 31,
    "start_time": "2024-09-22T20:33:48.548Z"
   },
   {
    "duration": 133,
    "start_time": "2024-09-22T20:33:48.581Z"
   },
   {
    "duration": 26,
    "start_time": "2024-09-22T20:33:48.716Z"
   },
   {
    "duration": 22,
    "start_time": "2024-09-22T20:33:48.744Z"
   },
   {
    "duration": 18,
    "start_time": "2024-09-22T20:33:48.767Z"
   },
   {
    "duration": 21,
    "start_time": "2024-09-22T20:33:48.787Z"
   },
   {
    "duration": 2606,
    "start_time": "2024-09-22T20:33:48.809Z"
   },
   {
    "duration": 3,
    "start_time": "2024-09-22T20:33:51.418Z"
   },
   {
    "duration": 4912,
    "start_time": "2024-09-22T20:33:51.423Z"
   },
   {
    "duration": 48,
    "start_time": "2024-09-22T20:39:18.656Z"
   },
   {
    "duration": 2934,
    "start_time": "2024-09-22T20:39:27.494Z"
   },
   {
    "duration": 1245,
    "start_time": "2024-09-22T20:39:30.431Z"
   },
   {
    "duration": 32,
    "start_time": "2024-09-22T20:39:31.678Z"
   },
   {
    "duration": 140,
    "start_time": "2024-09-22T20:39:31.712Z"
   },
   {
    "duration": 34,
    "start_time": "2024-09-22T20:39:31.854Z"
   },
   {
    "duration": 7,
    "start_time": "2024-09-22T20:39:31.890Z"
   },
   {
    "duration": 31,
    "start_time": "2024-09-22T20:39:31.898Z"
   },
   {
    "duration": 12,
    "start_time": "2024-09-22T20:39:31.931Z"
   },
   {
    "duration": 2778,
    "start_time": "2024-09-22T20:39:31.945Z"
   },
   {
    "duration": 4,
    "start_time": "2024-09-22T20:39:34.725Z"
   },
   {
    "duration": 4713,
    "start_time": "2024-09-22T20:39:34.730Z"
   },
   {
    "duration": 2829,
    "start_time": "2024-09-22T20:43:10.727Z"
   },
   {
    "duration": 1246,
    "start_time": "2024-09-22T20:43:13.559Z"
   },
   {
    "duration": 32,
    "start_time": "2024-09-22T20:43:14.806Z"
   },
   {
    "duration": 117,
    "start_time": "2024-09-22T20:43:14.840Z"
   },
   {
    "duration": 31,
    "start_time": "2024-09-22T20:43:14.958Z"
   },
   {
    "duration": 6,
    "start_time": "2024-09-22T20:43:14.991Z"
   },
   {
    "duration": 13,
    "start_time": "2024-09-22T20:43:14.998Z"
   },
   {
    "duration": 208,
    "start_time": "2024-09-22T20:43:15.012Z"
   },
   {
    "duration": 0,
    "start_time": "2024-09-22T20:43:15.222Z"
   },
   {
    "duration": 0,
    "start_time": "2024-09-22T20:43:15.224Z"
   },
   {
    "duration": 0,
    "start_time": "2024-09-22T20:43:15.225Z"
   },
   {
    "duration": 0,
    "start_time": "2024-09-22T20:43:15.227Z"
   },
   {
    "duration": 0,
    "start_time": "2024-09-22T20:43:15.228Z"
   },
   {
    "duration": 1,
    "start_time": "2024-09-22T20:43:15.229Z"
   },
   {
    "duration": 0,
    "start_time": "2024-09-22T20:43:15.231Z"
   },
   {
    "duration": 0,
    "start_time": "2024-09-22T20:43:15.232Z"
   },
   {
    "duration": 0,
    "start_time": "2024-09-22T20:43:15.234Z"
   },
   {
    "duration": 12,
    "start_time": "2024-09-22T20:43:37.603Z"
   },
   {
    "duration": 12,
    "start_time": "2024-09-22T20:43:46.568Z"
   },
   {
    "duration": 13,
    "start_time": "2024-09-22T20:43:59.522Z"
   },
   {
    "duration": 15,
    "start_time": "2024-09-22T20:44:17.163Z"
   },
   {
    "duration": 14,
    "start_time": "2024-09-22T20:44:27.366Z"
   },
   {
    "duration": 13,
    "start_time": "2024-09-22T20:44:48.131Z"
   },
   {
    "duration": 14,
    "start_time": "2024-09-22T20:45:02.262Z"
   },
   {
    "duration": 16,
    "start_time": "2024-09-22T20:45:14.352Z"
   },
   {
    "duration": 6,
    "start_time": "2024-09-22T20:45:49.975Z"
   },
   {
    "duration": 918,
    "start_time": "2024-09-22T20:45:49.983Z"
   },
   {
    "duration": 30,
    "start_time": "2024-09-22T20:45:50.903Z"
   },
   {
    "duration": 131,
    "start_time": "2024-09-22T20:45:50.934Z"
   },
   {
    "duration": 27,
    "start_time": "2024-09-22T20:45:51.067Z"
   },
   {
    "duration": 6,
    "start_time": "2024-09-22T20:45:51.095Z"
   },
   {
    "duration": 11,
    "start_time": "2024-09-22T20:45:51.103Z"
   },
   {
    "duration": 16,
    "start_time": "2024-09-22T20:45:51.115Z"
   },
   {
    "duration": 2753,
    "start_time": "2024-09-22T20:45:51.132Z"
   },
   {
    "duration": 5,
    "start_time": "2024-09-22T20:45:53.887Z"
   },
   {
    "duration": 4684,
    "start_time": "2024-09-22T20:45:53.894Z"
   },
   {
    "duration": 525992,
    "start_time": "2024-09-22T20:45:58.579Z"
   },
   {
    "duration": 5,
    "start_time": "2024-09-22T20:54:44.573Z"
   },
   {
    "duration": 8,
    "start_time": "2024-09-22T20:54:44.581Z"
   },
   {
    "duration": 6,
    "start_time": "2024-09-22T20:54:44.591Z"
   },
   {
    "duration": 5,
    "start_time": "2024-09-22T20:54:44.599Z"
   },
   {
    "duration": 2461,
    "start_time": "2024-09-22T20:54:44.605Z"
   },
   {
    "duration": 20602,
    "start_time": "2024-09-22T21:17:19.286Z"
   },
   {
    "duration": 3969,
    "start_time": "2024-09-22T21:17:39.890Z"
   },
   {
    "duration": 31,
    "start_time": "2024-09-22T21:17:43.860Z"
   },
   {
    "duration": 133,
    "start_time": "2024-09-22T21:17:43.893Z"
   },
   {
    "duration": 26,
    "start_time": "2024-09-22T21:17:44.028Z"
   },
   {
    "duration": 6,
    "start_time": "2024-09-22T21:17:44.055Z"
   },
   {
    "duration": 80,
    "start_time": "2024-09-22T21:17:44.063Z"
   },
   {
    "duration": 12,
    "start_time": "2024-09-22T21:17:44.145Z"
   },
   {
    "duration": 2595,
    "start_time": "2024-09-22T21:20:58.342Z"
   },
   {
    "duration": 4,
    "start_time": "2024-09-22T21:21:05.454Z"
   },
   {
    "duration": 792,
    "start_time": "2024-09-22T21:21:14.843Z"
   },
   {
    "duration": 4,
    "start_time": "2024-09-22T21:21:15.637Z"
   },
   {
    "duration": 33783,
    "start_time": "2024-09-22T21:21:15.717Z"
   },
   {
    "duration": 3336,
    "start_time": "2024-09-23T18:58:22.379Z"
   },
   {
    "duration": 1427,
    "start_time": "2024-09-23T18:58:25.718Z"
   },
   {
    "duration": 33,
    "start_time": "2024-09-23T18:58:27.147Z"
   },
   {
    "duration": 147,
    "start_time": "2024-09-23T18:58:27.181Z"
   },
   {
    "duration": 28,
    "start_time": "2024-09-23T18:58:27.330Z"
   },
   {
    "duration": 6,
    "start_time": "2024-09-23T18:58:27.359Z"
   },
   {
    "duration": 39,
    "start_time": "2024-09-23T18:58:27.367Z"
   },
   {
    "duration": 19,
    "start_time": "2024-09-23T18:58:27.409Z"
   },
   {
    "duration": 2702,
    "start_time": "2024-09-23T18:58:27.430Z"
   },
   {
    "duration": 4,
    "start_time": "2024-09-23T18:58:30.134Z"
   },
   {
    "duration": 5648,
    "start_time": "2024-09-23T18:58:30.139Z"
   },
   {
    "duration": 595336,
    "start_time": "2024-09-23T18:58:35.789Z"
   },
   {
    "duration": 4,
    "start_time": "2024-09-23T19:08:31.127Z"
   },
   {
    "duration": 4,
    "start_time": "2024-09-23T19:08:31.134Z"
   },
   {
    "duration": 8,
    "start_time": "2024-09-23T19:08:31.140Z"
   },
   {
    "duration": 4,
    "start_time": "2024-09-23T19:08:31.150Z"
   },
   {
    "duration": 2462,
    "start_time": "2024-09-23T19:08:31.156Z"
   },
   {
    "duration": 4636,
    "start_time": "2024-09-23T19:27:00.095Z"
   },
   {
    "duration": 41,
    "start_time": "2024-09-23T19:42:34.434Z"
   },
   {
    "duration": 4959,
    "start_time": "2024-09-23T19:43:36.931Z"
   },
   {
    "duration": 4059,
    "start_time": "2024-09-23T19:43:54.450Z"
   },
   {
    "duration": 2696,
    "start_time": "2024-09-23T19:44:16.841Z"
   },
   {
    "duration": 13294,
    "start_time": "2024-09-23T19:44:28.993Z"
   },
   {
    "duration": 5358,
    "start_time": "2024-09-23T19:44:53.532Z"
   },
   {
    "duration": 63,
    "start_time": "2024-09-23T19:45:01.744Z"
   },
   {
    "duration": 9,
    "start_time": "2024-09-23T19:45:26.260Z"
   },
   {
    "duration": 74,
    "start_time": "2024-09-23T19:49:07.645Z"
   },
   {
    "duration": 65,
    "start_time": "2024-09-23T19:49:16.555Z"
   },
   {
    "duration": 16941,
    "start_time": "2024-09-23T19:52:16.959Z"
   },
   {
    "duration": 53,
    "start_time": "2024-09-27T17:02:01.724Z"
   },
   {
    "duration": 14200,
    "start_time": "2024-09-27T17:02:08.406Z"
   },
   {
    "duration": 5425,
    "start_time": "2024-09-27T17:02:22.609Z"
   },
   {
    "duration": 1428,
    "start_time": "2024-09-27T17:02:28.036Z"
   },
   {
    "duration": 34,
    "start_time": "2024-09-27T17:02:29.466Z"
   },
   {
    "duration": 136,
    "start_time": "2024-09-27T17:02:49.244Z"
   },
   {
    "duration": 31,
    "start_time": "2024-09-27T17:02:53.249Z"
   },
   {
    "duration": 78,
    "start_time": "2024-09-27T17:04:39.513Z"
   },
   {
    "duration": 61,
    "start_time": "2024-09-27T17:04:42.744Z"
   },
   {
    "duration": 68,
    "start_time": "2024-09-27T17:04:46.984Z"
   },
   {
    "duration": 5182,
    "start_time": "2024-09-27T17:23:32.276Z"
   },
   {
    "duration": 4598,
    "start_time": "2024-09-27T17:23:37.461Z"
   },
   {
    "duration": 936,
    "start_time": "2024-09-27T17:23:42.061Z"
   },
   {
    "duration": 32,
    "start_time": "2024-09-27T17:23:42.999Z"
   },
   {
    "duration": 142,
    "start_time": "2024-09-27T17:23:43.033Z"
   },
   {
    "duration": 3,
    "start_time": "2024-09-27T17:23:43.177Z"
   },
   {
    "duration": 314,
    "start_time": "2024-09-27T17:23:43.182Z"
   },
   {
    "duration": 0,
    "start_time": "2024-09-27T17:23:43.498Z"
   },
   {
    "duration": 0,
    "start_time": "2024-09-27T17:23:43.500Z"
   },
   {
    "duration": 0,
    "start_time": "2024-09-27T17:23:43.505Z"
   },
   {
    "duration": 0,
    "start_time": "2024-09-27T17:23:43.506Z"
   },
   {
    "duration": 0,
    "start_time": "2024-09-27T17:23:43.684Z"
   },
   {
    "duration": 0,
    "start_time": "2024-09-27T17:23:43.685Z"
   },
   {
    "duration": 0,
    "start_time": "2024-09-27T17:23:43.687Z"
   },
   {
    "duration": 0,
    "start_time": "2024-09-27T17:23:43.688Z"
   },
   {
    "duration": 0,
    "start_time": "2024-09-27T17:23:43.689Z"
   },
   {
    "duration": 0,
    "start_time": "2024-09-27T17:23:43.690Z"
   },
   {
    "duration": 0,
    "start_time": "2024-09-27T17:23:43.691Z"
   },
   {
    "duration": 0,
    "start_time": "2024-09-27T17:23:43.705Z"
   },
   {
    "duration": 0,
    "start_time": "2024-09-27T17:23:43.706Z"
   },
   {
    "duration": 0,
    "start_time": "2024-09-27T17:23:43.708Z"
   },
   {
    "duration": 2,
    "start_time": "2024-09-27T17:26:23.528Z"
   },
   {
    "duration": 3,
    "start_time": "2024-09-27T17:26:23.966Z"
   },
   {
    "duration": 36803,
    "start_time": "2024-09-27T17:26:48.105Z"
   },
   {
    "duration": 11,
    "start_time": "2024-09-27T17:27:47.887Z"
   },
   {
    "duration": 297,
    "start_time": "2024-09-27T17:30:15.607Z"
   },
   {
    "duration": 2,
    "start_time": "2024-09-27T17:30:29.797Z"
   },
   {
    "duration": 365,
    "start_time": "2024-09-27T17:30:30.968Z"
   },
   {
    "duration": 3,
    "start_time": "2024-09-27T17:31:47.016Z"
   },
   {
    "duration": 3,
    "start_time": "2024-09-27T17:31:47.286Z"
   },
   {
    "duration": 5072,
    "start_time": "2024-09-27T17:41:00.894Z"
   },
   {
    "duration": 4442,
    "start_time": "2024-09-27T17:41:05.969Z"
   },
   {
    "duration": 969,
    "start_time": "2024-09-27T17:41:10.414Z"
   },
   {
    "duration": 36,
    "start_time": "2024-09-27T17:41:11.385Z"
   },
   {
    "duration": 177,
    "start_time": "2024-09-27T17:41:11.423Z"
   },
   {
    "duration": 3,
    "start_time": "2024-09-27T17:41:11.604Z"
   },
   {
    "duration": 37456,
    "start_time": "2024-09-27T17:41:11.609Z"
   },
   {
    "duration": 11,
    "start_time": "2024-09-27T17:41:49.067Z"
   },
   {
    "duration": 16,
    "start_time": "2024-09-27T17:41:49.080Z"
   },
   {
    "duration": 816,
    "start_time": "2024-09-27T17:41:49.099Z"
   },
   {
    "duration": 0,
    "start_time": "2024-09-27T17:41:49.917Z"
   },
   {
    "duration": 0,
    "start_time": "2024-09-27T17:41:49.918Z"
   },
   {
    "duration": 0,
    "start_time": "2024-09-27T17:41:49.919Z"
   },
   {
    "duration": 0,
    "start_time": "2024-09-27T17:41:49.920Z"
   },
   {
    "duration": 0,
    "start_time": "2024-09-27T17:41:49.921Z"
   },
   {
    "duration": 0,
    "start_time": "2024-09-27T17:41:49.922Z"
   },
   {
    "duration": 0,
    "start_time": "2024-09-27T17:41:49.923Z"
   },
   {
    "duration": 0,
    "start_time": "2024-09-27T17:41:49.925Z"
   },
   {
    "duration": 0,
    "start_time": "2024-09-27T17:41:49.926Z"
   },
   {
    "duration": 0,
    "start_time": "2024-09-27T17:41:49.927Z"
   },
   {
    "duration": 0,
    "start_time": "2024-09-27T17:41:49.928Z"
   },
   {
    "duration": 1,
    "start_time": "2024-09-27T17:41:49.928Z"
   },
   {
    "duration": 0,
    "start_time": "2024-09-27T17:41:49.930Z"
   },
   {
    "duration": 316,
    "start_time": "2024-09-27T17:43:02.121Z"
   },
   {
    "duration": 286,
    "start_time": "2024-09-27T17:44:11.756Z"
   },
   {
    "duration": 4,
    "start_time": "2024-09-27T17:46:39.116Z"
   },
   {
    "duration": 14234,
    "start_time": "2024-09-27T17:46:39.963Z"
   },
   {
    "duration": 4,
    "start_time": "2024-09-27T17:47:13.213Z"
   },
   {
    "duration": 140,
    "start_time": "2024-09-27T17:47:13.904Z"
   },
   {
    "duration": 10,
    "start_time": "2024-09-27T17:48:08.786Z"
   },
   {
    "duration": 3,
    "start_time": "2024-09-27T17:51:54.994Z"
   },
   {
    "duration": 35818,
    "start_time": "2024-09-27T17:51:58.233Z"
   },
   {
    "duration": 10,
    "start_time": "2024-09-27T17:52:34.053Z"
   },
   {
    "duration": 3,
    "start_time": "2024-09-27T17:53:52.502Z"
   },
   {
    "duration": 4,
    "start_time": "2024-09-27T17:54:28.273Z"
   },
   {
    "duration": 2531,
    "start_time": "2024-09-27T17:54:29.232Z"
   },
   {
    "duration": 4,
    "start_time": "2024-09-27T17:54:46.193Z"
   },
   {
    "duration": 38767,
    "start_time": "2024-09-27T17:54:46.199Z"
   },
   {
    "duration": 10,
    "start_time": "2024-09-27T17:55:24.968Z"
   },
   {
    "duration": 249,
    "start_time": "2024-09-27T17:59:22.585Z"
   },
   {
    "duration": 4,
    "start_time": "2024-09-27T18:00:00.092Z"
   },
   {
    "duration": 19,
    "start_time": "2024-09-27T18:00:58.351Z"
   },
   {
    "duration": 7,
    "start_time": "2024-09-27T18:02:51.030Z"
   },
   {
    "duration": 4,
    "start_time": "2024-09-27T18:02:56.923Z"
   },
   {
    "duration": 293,
    "start_time": "2024-09-27T18:05:54.054Z"
   },
   {
    "duration": 302,
    "start_time": "2024-09-27T18:06:19.304Z"
   },
   {
    "duration": 543,
    "start_time": "2024-09-27T18:06:23.434Z"
   },
   {
    "duration": 1267,
    "start_time": "2024-09-27T18:06:38.806Z"
   },
   {
    "duration": 1189,
    "start_time": "2024-09-27T18:08:11.316Z"
   },
   {
    "duration": 6,
    "start_time": "2024-09-27T18:08:42.135Z"
   },
   {
    "duration": 6,
    "start_time": "2024-09-27T18:08:55.047Z"
   },
   {
    "duration": 23,
    "start_time": "2024-09-27T18:09:34.225Z"
   },
   {
    "duration": 6,
    "start_time": "2024-09-27T18:09:50.262Z"
   },
   {
    "duration": 3,
    "start_time": "2024-09-27T18:10:01.229Z"
   },
   {
    "duration": 1304,
    "start_time": "2024-09-27T18:10:02.221Z"
   },
   {
    "duration": 323,
    "start_time": "2024-09-27T18:14:51.216Z"
   },
   {
    "duration": 282,
    "start_time": "2024-09-27T18:15:07.125Z"
   },
   {
    "duration": 68,
    "start_time": "2024-09-27T18:15:21.145Z"
   },
   {
    "duration": 3,
    "start_time": "2024-09-27T18:15:27.200Z"
   },
   {
    "duration": 320,
    "start_time": "2024-09-27T18:15:29.326Z"
   },
   {
    "duration": 340,
    "start_time": "2024-09-27T18:15:45.440Z"
   },
   {
    "duration": 6007,
    "start_time": "2024-09-27T18:15:51.894Z"
   },
   {
    "duration": 10,
    "start_time": "2024-09-27T18:15:57.905Z"
   },
   {
    "duration": 1082,
    "start_time": "2024-09-27T18:15:57.918Z"
   },
   {
    "duration": 41,
    "start_time": "2024-09-27T18:15:59.002Z"
   },
   {
    "duration": 329,
    "start_time": "2024-09-27T18:15:59.045Z"
   },
   {
    "duration": 3,
    "start_time": "2024-09-27T18:15:59.376Z"
   },
   {
    "duration": 2789,
    "start_time": "2024-09-27T18:15:59.381Z"
   },
   {
    "duration": 4,
    "start_time": "2024-09-27T18:16:02.172Z"
   },
   {
    "duration": 40537,
    "start_time": "2024-09-27T18:16:02.178Z"
   },
   {
    "duration": 16,
    "start_time": "2024-09-27T18:16:42.718Z"
   },
   {
    "duration": 5,
    "start_time": "2024-09-27T18:16:42.736Z"
   },
   {
    "duration": 38,
    "start_time": "2024-09-27T18:16:42.743Z"
   },
   {
    "duration": 0,
    "start_time": "2024-09-27T18:16:42.806Z"
   },
   {
    "duration": 0,
    "start_time": "2024-09-27T18:16:42.807Z"
   },
   {
    "duration": 0,
    "start_time": "2024-09-27T18:16:42.809Z"
   },
   {
    "duration": 0,
    "start_time": "2024-09-27T18:16:42.810Z"
   },
   {
    "duration": 0,
    "start_time": "2024-09-27T18:16:42.811Z"
   },
   {
    "duration": 0,
    "start_time": "2024-09-27T18:16:42.813Z"
   },
   {
    "duration": 0,
    "start_time": "2024-09-27T18:16:42.814Z"
   },
   {
    "duration": 0,
    "start_time": "2024-09-27T18:16:42.816Z"
   },
   {
    "duration": 0,
    "start_time": "2024-09-27T18:16:42.817Z"
   },
   {
    "duration": 0,
    "start_time": "2024-09-27T18:16:42.820Z"
   },
   {
    "duration": 0,
    "start_time": "2024-09-27T18:16:42.821Z"
   },
   {
    "duration": 0,
    "start_time": "2024-09-27T18:16:42.822Z"
   },
   {
    "duration": 0,
    "start_time": "2024-09-27T18:16:42.824Z"
   },
   {
    "duration": 19,
    "start_time": "2024-09-27T18:22:19.920Z"
   },
   {
    "duration": 1000273,
    "start_time": "2024-09-27T18:26:29.575Z"
   },
   {
    "duration": 26,
    "start_time": "2024-09-27T18:49:12.488Z"
   },
   {
    "duration": 19,
    "start_time": "2024-09-27T18:50:54.564Z"
   },
   {
    "duration": 37,
    "start_time": "2024-09-27T18:51:07.335Z"
   },
   {
    "duration": 685,
    "start_time": "2024-09-27T18:51:32.656Z"
   },
   {
    "duration": 32,
    "start_time": "2024-09-27T18:51:50.892Z"
   },
   {
    "duration": 714,
    "start_time": "2024-09-27T18:52:10.526Z"
   },
   {
    "duration": 574,
    "start_time": "2024-09-27T18:54:40.756Z"
   },
   {
    "duration": 20,
    "start_time": "2024-09-27T18:58:41.467Z"
   },
   {
    "duration": 3,
    "start_time": "2024-09-27T18:58:54.144Z"
   },
   {
    "duration": 17,
    "start_time": "2024-09-27T18:59:12.593Z"
   },
   {
    "duration": 905,
    "start_time": "2024-09-27T18:59:19.896Z"
   },
   {
    "duration": 41,
    "start_time": "2024-09-27T18:59:29.890Z"
   },
   {
    "duration": 4988,
    "start_time": "2024-09-27T18:59:39.536Z"
   },
   {
    "duration": 850,
    "start_time": "2024-09-27T18:59:44.528Z"
   },
   {
    "duration": 2993,
    "start_time": "2024-09-27T18:59:45.381Z"
   },
   {
    "duration": 0,
    "start_time": "2024-09-27T18:59:48.377Z"
   },
   {
    "duration": 0,
    "start_time": "2024-09-27T18:59:48.378Z"
   },
   {
    "duration": 1,
    "start_time": "2024-09-27T18:59:48.379Z"
   },
   {
    "duration": 0,
    "start_time": "2024-09-27T18:59:48.381Z"
   },
   {
    "duration": 0,
    "start_time": "2024-09-27T18:59:48.382Z"
   },
   {
    "duration": 0,
    "start_time": "2024-09-27T18:59:48.384Z"
   },
   {
    "duration": 0,
    "start_time": "2024-09-27T18:59:48.385Z"
   },
   {
    "duration": 0,
    "start_time": "2024-09-27T18:59:48.386Z"
   },
   {
    "duration": 0,
    "start_time": "2024-09-27T18:59:48.387Z"
   },
   {
    "duration": 0,
    "start_time": "2024-09-27T18:59:48.405Z"
   },
   {
    "duration": 0,
    "start_time": "2024-09-27T18:59:48.406Z"
   },
   {
    "duration": 0,
    "start_time": "2024-09-27T18:59:48.408Z"
   },
   {
    "duration": 0,
    "start_time": "2024-09-27T18:59:48.409Z"
   },
   {
    "duration": 0,
    "start_time": "2024-09-27T18:59:48.410Z"
   },
   {
    "duration": 0,
    "start_time": "2024-09-27T18:59:48.411Z"
   },
   {
    "duration": 0,
    "start_time": "2024-09-27T18:59:48.413Z"
   },
   {
    "duration": 0,
    "start_time": "2024-09-27T18:59:48.415Z"
   },
   {
    "duration": 0,
    "start_time": "2024-09-27T18:59:48.417Z"
   },
   {
    "duration": 0,
    "start_time": "2024-09-27T18:59:48.418Z"
   },
   {
    "duration": 0,
    "start_time": "2024-09-27T18:59:48.421Z"
   },
   {
    "duration": 0,
    "start_time": "2024-09-27T18:59:48.422Z"
   },
   {
    "duration": 0,
    "start_time": "2024-09-27T18:59:48.423Z"
   },
   {
    "duration": 0,
    "start_time": "2024-09-27T18:59:48.425Z"
   },
   {
    "duration": 0,
    "start_time": "2024-09-27T18:59:48.426Z"
   },
   {
    "duration": 0,
    "start_time": "2024-09-27T18:59:48.428Z"
   },
   {
    "duration": 15,
    "start_time": "2024-09-27T19:00:13.121Z"
   },
   {
    "duration": 79,
    "start_time": "2024-09-27T19:00:49.637Z"
   },
   {
    "duration": 68,
    "start_time": "2024-09-27T19:01:03.364Z"
   },
   {
    "duration": 71,
    "start_time": "2024-09-27T19:01:21.543Z"
   },
   {
    "duration": 3396,
    "start_time": "2024-09-27T19:01:35.634Z"
   },
   {
    "duration": 2500,
    "start_time": "2024-09-27T19:01:46.037Z"
   },
   {
    "duration": 5576,
    "start_time": "2024-09-27T19:01:57.086Z"
   },
   {
    "duration": 2787,
    "start_time": "2024-09-27T19:02:02.665Z"
   },
   {
    "duration": 12,
    "start_time": "2024-09-27T19:02:05.454Z"
   },
   {
    "duration": 1181,
    "start_time": "2024-09-27T19:02:05.468Z"
   },
   {
    "duration": 34,
    "start_time": "2024-09-27T19:02:06.651Z"
   },
   {
    "duration": 361,
    "start_time": "2024-09-27T19:02:06.687Z"
   },
   {
    "duration": 3,
    "start_time": "2024-09-27T19:02:07.049Z"
   },
   {
    "duration": 2603,
    "start_time": "2024-09-27T19:02:07.054Z"
   },
   {
    "duration": 4,
    "start_time": "2024-09-27T19:02:09.659Z"
   },
   {
    "duration": 43319,
    "start_time": "2024-09-27T19:02:09.665Z"
   },
   {
    "duration": 10,
    "start_time": "2024-09-27T19:02:52.985Z"
   },
   {
    "duration": 12,
    "start_time": "2024-09-27T19:02:52.996Z"
   },
   {
    "duration": 5195,
    "start_time": "2024-09-27T19:19:15.159Z"
   },
   {
    "duration": 2561,
    "start_time": "2024-09-27T19:19:20.357Z"
   },
   {
    "duration": 4652,
    "start_time": "2024-09-27T19:19:22.920Z"
   },
   {
    "duration": 973,
    "start_time": "2024-09-27T19:19:27.574Z"
   },
   {
    "duration": 33,
    "start_time": "2024-09-27T19:19:28.549Z"
   },
   {
    "duration": 148,
    "start_time": "2024-09-27T19:19:28.584Z"
   },
   {
    "duration": 3,
    "start_time": "2024-09-27T19:19:28.734Z"
   },
   {
    "duration": 2353,
    "start_time": "2024-09-27T19:19:28.738Z"
   },
   {
    "duration": 3,
    "start_time": "2024-09-27T19:19:31.093Z"
   },
   {
    "duration": 41720,
    "start_time": "2024-09-27T19:19:31.116Z"
   },
   {
    "duration": 11,
    "start_time": "2024-09-27T19:20:12.838Z"
   },
   {
    "duration": 12,
    "start_time": "2024-09-27T19:20:12.851Z"
   },
   {
    "duration": 1061297,
    "start_time": "2024-09-27T19:20:12.865Z"
   },
   {
    "duration": 1133,
    "start_time": "2024-09-27T19:37:54.163Z"
   },
   {
    "duration": 0,
    "start_time": "2024-09-27T19:37:55.298Z"
   },
   {
    "duration": 0,
    "start_time": "2024-09-27T19:37:55.299Z"
   },
   {
    "duration": 0,
    "start_time": "2024-09-27T19:37:55.300Z"
   },
   {
    "duration": 0,
    "start_time": "2024-09-27T19:37:55.308Z"
   },
   {
    "duration": 0,
    "start_time": "2024-09-27T19:37:55.309Z"
   },
   {
    "duration": 0,
    "start_time": "2024-09-27T19:37:55.310Z"
   },
   {
    "duration": 0,
    "start_time": "2024-09-27T19:37:55.311Z"
   },
   {
    "duration": 0,
    "start_time": "2024-09-27T19:37:55.313Z"
   },
   {
    "duration": 0,
    "start_time": "2024-09-27T19:37:55.334Z"
   },
   {
    "duration": 0,
    "start_time": "2024-09-27T19:37:55.336Z"
   },
   {
    "duration": 0,
    "start_time": "2024-09-27T19:37:55.337Z"
   },
   {
    "duration": 0,
    "start_time": "2024-09-27T19:37:55.339Z"
   },
   {
    "duration": 0,
    "start_time": "2024-09-27T19:37:55.340Z"
   },
   {
    "duration": 0,
    "start_time": "2024-09-27T19:37:55.342Z"
   },
   {
    "duration": 27,
    "start_time": "2024-09-27T19:43:58.582Z"
   },
   {
    "duration": 20,
    "start_time": "2024-09-27T19:47:40.087Z"
   },
   {
    "duration": 705,
    "start_time": "2024-09-27T19:48:00.942Z"
   },
   {
    "duration": 38,
    "start_time": "2024-09-27T19:55:13.310Z"
   },
   {
    "duration": 78,
    "start_time": "2024-09-27T19:58:19.820Z"
   },
   {
    "duration": 4,
    "start_time": "2024-09-27T19:58:27.060Z"
   },
   {
    "duration": 407,
    "start_time": "2024-09-27T19:59:22.022Z"
   },
   {
    "duration": 296,
    "start_time": "2024-09-27T20:01:10.941Z"
   },
   {
    "duration": 53,
    "start_time": "2024-09-27T20:01:30.318Z"
   },
   {
    "duration": 17,
    "start_time": "2024-09-27T20:02:16.581Z"
   },
   {
    "duration": 17,
    "start_time": "2024-09-27T20:02:24.428Z"
   },
   {
    "duration": 20,
    "start_time": "2024-09-27T20:02:38.698Z"
   },
   {
    "duration": 36,
    "start_time": "2024-09-27T20:04:50.567Z"
   },
   {
    "duration": 3,
    "start_time": "2024-09-27T20:06:27.241Z"
   },
   {
    "duration": 237,
    "start_time": "2024-09-27T20:07:11.561Z"
   },
   {
    "duration": 2,
    "start_time": "2024-09-27T20:07:51.140Z"
   },
   {
    "duration": 20,
    "start_time": "2024-09-27T20:08:17.960Z"
   },
   {
    "duration": 79,
    "start_time": "2024-09-27T20:08:43.702Z"
   },
   {
    "duration": 23,
    "start_time": "2024-09-27T20:09:22.043Z"
   },
   {
    "duration": 49,
    "start_time": "2024-09-27T20:11:26.533Z"
   },
   {
    "duration": 5243,
    "start_time": "2024-09-27T20:11:48.073Z"
   },
   {
    "duration": 2982,
    "start_time": "2024-09-27T20:11:53.319Z"
   },
   {
    "duration": 5249,
    "start_time": "2024-09-27T20:11:56.303Z"
   },
   {
    "duration": 1517,
    "start_time": "2024-09-27T20:12:01.554Z"
   },
   {
    "duration": 42,
    "start_time": "2024-09-27T20:12:03.072Z"
   },
   {
    "duration": 168,
    "start_time": "2024-09-27T20:12:03.119Z"
   },
   {
    "duration": 3,
    "start_time": "2024-09-27T20:12:03.289Z"
   },
   {
    "duration": 2647,
    "start_time": "2024-09-27T20:12:03.294Z"
   },
   {
    "duration": 3,
    "start_time": "2024-09-27T20:12:05.943Z"
   },
   {
    "duration": 44406,
    "start_time": "2024-09-27T20:12:05.949Z"
   },
   {
    "duration": 10,
    "start_time": "2024-09-27T20:12:50.357Z"
   },
   {
    "duration": 12,
    "start_time": "2024-09-27T20:12:50.369Z"
   },
   {
    "duration": 999249,
    "start_time": "2024-09-27T20:12:50.383Z"
   },
   {
    "duration": 213,
    "start_time": "2024-09-27T20:29:29.634Z"
   },
   {
    "duration": 48,
    "start_time": "2024-09-27T20:30:16.490Z"
   },
   {
    "duration": 48,
    "start_time": "2024-09-27T20:30:34.946Z"
   },
   {
    "duration": 8,
    "start_time": "2024-09-27T20:30:43.915Z"
   },
   {
    "duration": 6,
    "start_time": "2024-09-27T20:33:37.164Z"
   },
   {
    "duration": 50,
    "start_time": "2024-09-27T20:33:57.147Z"
   },
   {
    "duration": 7,
    "start_time": "2024-09-27T20:34:09.888Z"
   },
   {
    "duration": 0,
    "start_time": "2024-09-27T20:34:09.898Z"
   },
   {
    "duration": 0,
    "start_time": "2024-09-27T20:34:09.899Z"
   },
   {
    "duration": 0,
    "start_time": "2024-09-27T20:34:09.901Z"
   },
   {
    "duration": 0,
    "start_time": "2024-09-27T20:34:09.903Z"
   },
   {
    "duration": 0,
    "start_time": "2024-09-27T20:34:09.904Z"
   },
   {
    "duration": 0,
    "start_time": "2024-09-27T20:34:09.905Z"
   },
   {
    "duration": 0,
    "start_time": "2024-09-27T20:34:09.907Z"
   },
   {
    "duration": 0,
    "start_time": "2024-09-27T20:34:09.908Z"
   },
   {
    "duration": 0,
    "start_time": "2024-09-27T20:34:09.909Z"
   },
   {
    "duration": 0,
    "start_time": "2024-09-27T20:34:09.910Z"
   },
   {
    "duration": 0,
    "start_time": "2024-09-27T20:34:09.911Z"
   },
   {
    "duration": 0,
    "start_time": "2024-09-27T20:34:09.912Z"
   },
   {
    "duration": 0,
    "start_time": "2024-09-27T20:34:09.913Z"
   },
   {
    "duration": 0,
    "start_time": "2024-09-27T20:34:09.914Z"
   },
   {
    "duration": 5101,
    "start_time": "2024-09-27T20:36:39.405Z"
   },
   {
    "duration": 2697,
    "start_time": "2024-09-27T20:36:44.509Z"
   },
   {
    "duration": 4910,
    "start_time": "2024-09-27T20:36:47.209Z"
   },
   {
    "duration": 1321,
    "start_time": "2024-09-27T20:36:52.122Z"
   },
   {
    "duration": 35,
    "start_time": "2024-09-27T20:36:53.445Z"
   },
   {
    "duration": 155,
    "start_time": "2024-09-27T20:36:53.482Z"
   },
   {
    "duration": 3,
    "start_time": "2024-09-27T20:36:53.639Z"
   },
   {
    "duration": 2248,
    "start_time": "2024-09-27T20:36:53.643Z"
   },
   {
    "duration": 3,
    "start_time": "2024-09-27T20:36:55.893Z"
   },
   {
    "duration": 39703,
    "start_time": "2024-09-27T20:36:55.899Z"
   },
   {
    "duration": 11,
    "start_time": "2024-09-27T20:37:35.604Z"
   },
   {
    "duration": 38,
    "start_time": "2024-09-27T20:37:35.617Z"
   },
   {
    "duration": 1050894,
    "start_time": "2024-09-27T20:37:35.657Z"
   },
   {
    "duration": 215,
    "start_time": "2024-09-27T20:55:06.553Z"
   },
   {
    "duration": 70,
    "start_time": "2024-09-27T20:55:06.770Z"
   },
   {
    "duration": 29,
    "start_time": "2024-09-27T20:55:06.842Z"
   },
   {
    "duration": 2,
    "start_time": "2024-09-27T20:55:06.873Z"
   },
   {
    "duration": 70,
    "start_time": "2024-09-27T20:55:06.877Z"
   },
   {
    "duration": 14,
    "start_time": "2024-09-27T20:55:06.949Z"
   },
   {
    "duration": 1063,
    "start_time": "2024-09-27T20:55:06.964Z"
   },
   {
    "duration": 4,
    "start_time": "2024-09-27T20:55:08.029Z"
   },
   {
    "duration": 11829,
    "start_time": "2024-09-27T20:55:08.034Z"
   },
   {
    "duration": 0,
    "start_time": "2024-09-27T20:55:19.864Z"
   },
   {
    "duration": 0,
    "start_time": "2024-09-27T20:55:19.866Z"
   },
   {
    "duration": 0,
    "start_time": "2024-09-27T20:55:19.867Z"
   },
   {
    "duration": 0,
    "start_time": "2024-09-27T20:55:19.868Z"
   },
   {
    "duration": 0,
    "start_time": "2024-09-27T20:55:19.870Z"
   },
   {
    "duration": 0,
    "start_time": "2024-09-27T20:55:19.871Z"
   },
   {
    "duration": 9,
    "start_time": "2024-09-27T20:57:35.177Z"
   },
   {
    "duration": 111,
    "start_time": "2024-09-27T20:58:25.885Z"
   },
   {
    "duration": 16,
    "start_time": "2024-09-27T20:59:13.538Z"
   },
   {
    "duration": 15,
    "start_time": "2024-09-27T21:00:10.612Z"
   },
   {
    "duration": 68,
    "start_time": "2024-09-27T21:00:15.232Z"
   },
   {
    "duration": 11,
    "start_time": "2024-09-27T21:02:14.102Z"
   },
   {
    "duration": 10,
    "start_time": "2024-09-27T21:02:28.039Z"
   },
   {
    "duration": 36,
    "start_time": "2024-09-27T21:02:58.642Z"
   },
   {
    "duration": 10,
    "start_time": "2024-09-27T21:03:21.459Z"
   },
   {
    "duration": 70,
    "start_time": "2024-09-27T21:05:18.520Z"
   },
   {
    "duration": 3,
    "start_time": "2024-09-27T21:05:52.400Z"
   },
   {
    "duration": 18,
    "start_time": "2024-09-27T21:05:56.510Z"
   },
   {
    "duration": 4,
    "start_time": "2024-09-27T21:06:27.630Z"
   },
   {
    "duration": 23,
    "start_time": "2024-09-27T21:06:30.305Z"
   },
   {
    "duration": 20,
    "start_time": "2024-09-27T21:15:56.727Z"
   },
   {
    "duration": 7,
    "start_time": "2024-09-27T21:16:45.091Z"
   },
   {
    "duration": 6,
    "start_time": "2024-09-27T21:19:17.087Z"
   },
   {
    "duration": 5,
    "start_time": "2024-09-27T21:19:28.064Z"
   },
   {
    "duration": 5,
    "start_time": "2024-09-27T21:19:52.721Z"
   },
   {
    "duration": 7,
    "start_time": "2024-09-27T21:20:33.701Z"
   },
   {
    "duration": 6,
    "start_time": "2024-09-27T21:20:35.993Z"
   },
   {
    "duration": 7,
    "start_time": "2024-09-27T21:22:15.040Z"
   },
   {
    "duration": 5,
    "start_time": "2024-09-27T21:22:21.273Z"
   },
   {
    "duration": 4,
    "start_time": "2024-09-27T21:22:46.417Z"
   },
   {
    "duration": 11,
    "start_time": "2024-09-27T21:23:22.050Z"
   },
   {
    "duration": 7,
    "start_time": "2024-09-27T21:23:24.201Z"
   },
   {
    "duration": 7,
    "start_time": "2024-09-27T21:23:30.891Z"
   },
   {
    "duration": 6,
    "start_time": "2024-09-27T21:23:36.072Z"
   },
   {
    "duration": 5,
    "start_time": "2024-09-27T21:32:19.074Z"
   },
   {
    "duration": 23,
    "start_time": "2024-09-27T21:32:38.450Z"
   },
   {
    "duration": 9,
    "start_time": "2024-09-27T21:32:42.101Z"
   },
   {
    "duration": 70,
    "start_time": "2024-09-27T21:35:15.430Z"
   },
   {
    "duration": 23,
    "start_time": "2024-09-27T21:35:24.478Z"
   },
   {
    "duration": 18,
    "start_time": "2024-09-27T21:36:33.390Z"
   },
   {
    "duration": 8,
    "start_time": "2024-09-27T21:38:14.068Z"
   },
   {
    "duration": 17,
    "start_time": "2024-09-27T21:38:30.720Z"
   },
   {
    "duration": 4,
    "start_time": "2024-09-27T21:40:28.441Z"
   },
   {
    "duration": 64,
    "start_time": "2024-09-27T21:40:36.169Z"
   },
   {
    "duration": 13,
    "start_time": "2024-09-27T21:40:41.990Z"
   },
   {
    "duration": 12,
    "start_time": "2024-09-27T21:40:57.320Z"
   },
   {
    "duration": 12,
    "start_time": "2024-09-27T21:41:27.761Z"
   },
   {
    "duration": 13,
    "start_time": "2024-09-27T21:41:36.661Z"
   },
   {
    "duration": 11,
    "start_time": "2024-09-27T21:42:33.977Z"
   },
   {
    "duration": 13,
    "start_time": "2024-09-27T21:42:46.598Z"
   },
   {
    "duration": 11,
    "start_time": "2024-09-27T21:42:49.010Z"
   },
   {
    "duration": 13,
    "start_time": "2024-09-27T21:42:49.580Z"
   },
   {
    "duration": 8,
    "start_time": "2024-09-27T21:42:59.448Z"
   },
   {
    "duration": 10,
    "start_time": "2024-09-27T21:44:12.230Z"
   },
   {
    "duration": 10,
    "start_time": "2024-09-27T21:44:17.839Z"
   },
   {
    "duration": 13,
    "start_time": "2024-09-27T21:44:27.599Z"
   },
   {
    "duration": 54,
    "start_time": "2024-09-27T21:44:56.319Z"
   },
   {
    "duration": 8,
    "start_time": "2024-09-27T21:44:56.376Z"
   },
   {
    "duration": 300,
    "start_time": "2024-09-27T21:44:56.386Z"
   },
   {
    "duration": 0,
    "start_time": "2024-09-27T21:44:56.688Z"
   },
   {
    "duration": 0,
    "start_time": "2024-09-27T21:44:56.689Z"
   },
   {
    "duration": 0,
    "start_time": "2024-09-27T21:44:56.690Z"
   },
   {
    "duration": 0,
    "start_time": "2024-09-27T21:44:56.691Z"
   },
   {
    "duration": 0,
    "start_time": "2024-09-27T21:44:56.692Z"
   },
   {
    "duration": 0,
    "start_time": "2024-09-27T21:44:56.693Z"
   },
   {
    "duration": 0,
    "start_time": "2024-09-27T21:44:56.695Z"
   },
   {
    "duration": 0,
    "start_time": "2024-09-27T21:44:56.696Z"
   },
   {
    "duration": 0,
    "start_time": "2024-09-27T21:44:56.698Z"
   },
   {
    "duration": 0,
    "start_time": "2024-09-27T21:44:56.699Z"
   },
   {
    "duration": 0,
    "start_time": "2024-09-27T21:44:56.701Z"
   },
   {
    "duration": 0,
    "start_time": "2024-09-27T21:44:56.702Z"
   },
   {
    "duration": 0,
    "start_time": "2024-09-27T21:44:56.703Z"
   },
   {
    "duration": 0,
    "start_time": "2024-09-27T21:44:56.705Z"
   },
   {
    "duration": 0,
    "start_time": "2024-09-27T21:44:56.706Z"
   },
   {
    "duration": 0,
    "start_time": "2024-09-27T21:44:56.707Z"
   },
   {
    "duration": 10,
    "start_time": "2024-09-27T21:45:12.291Z"
   },
   {
    "duration": 14,
    "start_time": "2024-09-27T21:45:14.449Z"
   },
   {
    "duration": 13,
    "start_time": "2024-09-27T21:45:39.329Z"
   },
   {
    "duration": 7,
    "start_time": "2024-09-27T21:45:49.019Z"
   },
   {
    "duration": 9,
    "start_time": "2024-09-27T21:46:25.147Z"
   },
   {
    "duration": 63,
    "start_time": "2024-09-27T21:46:25.158Z"
   },
   {
    "duration": 0,
    "start_time": "2024-09-27T21:46:25.223Z"
   },
   {
    "duration": 0,
    "start_time": "2024-09-27T21:46:25.224Z"
   },
   {
    "duration": 0,
    "start_time": "2024-09-27T21:46:25.225Z"
   },
   {
    "duration": 0,
    "start_time": "2024-09-27T21:46:25.226Z"
   },
   {
    "duration": 0,
    "start_time": "2024-09-27T21:46:25.227Z"
   },
   {
    "duration": 0,
    "start_time": "2024-09-27T21:46:25.228Z"
   },
   {
    "duration": 0,
    "start_time": "2024-09-27T21:46:25.229Z"
   },
   {
    "duration": 0,
    "start_time": "2024-09-27T21:46:25.230Z"
   },
   {
    "duration": 0,
    "start_time": "2024-09-27T21:46:25.231Z"
   },
   {
    "duration": 0,
    "start_time": "2024-09-27T21:46:25.232Z"
   },
   {
    "duration": 0,
    "start_time": "2024-09-27T21:46:25.233Z"
   },
   {
    "duration": 0,
    "start_time": "2024-09-27T21:46:25.234Z"
   },
   {
    "duration": 0,
    "start_time": "2024-09-27T21:46:25.235Z"
   },
   {
    "duration": 0,
    "start_time": "2024-09-27T21:46:25.236Z"
   },
   {
    "duration": 0,
    "start_time": "2024-09-27T21:46:25.237Z"
   },
   {
    "duration": 0,
    "start_time": "2024-09-27T21:46:25.238Z"
   },
   {
    "duration": 11,
    "start_time": "2024-09-27T21:46:42.717Z"
   },
   {
    "duration": 14,
    "start_time": "2024-09-27T21:46:47.159Z"
   },
   {
    "duration": 8,
    "start_time": "2024-09-27T21:46:51.140Z"
   },
   {
    "duration": 6,
    "start_time": "2024-09-27T21:47:04.360Z"
   },
   {
    "duration": 4,
    "start_time": "2024-09-27T21:47:20.199Z"
   },
   {
    "duration": 10,
    "start_time": "2024-09-27T21:47:43.210Z"
   },
   {
    "duration": 4,
    "start_time": "2024-09-27T21:49:22.000Z"
   },
   {
    "duration": 7,
    "start_time": "2024-09-27T21:51:13.037Z"
   },
   {
    "duration": 6,
    "start_time": "2024-09-27T21:51:22.549Z"
   },
   {
    "duration": 20,
    "start_time": "2024-09-27T21:51:40.388Z"
   },
   {
    "duration": 74,
    "start_time": "2024-09-27T21:51:59.228Z"
   },
   {
    "duration": 67,
    "start_time": "2024-09-27T21:52:51.594Z"
   },
   {
    "duration": 8,
    "start_time": "2024-09-27T21:52:58.840Z"
   },
   {
    "duration": 6,
    "start_time": "2024-09-27T21:53:05.819Z"
   },
   {
    "duration": 7,
    "start_time": "2024-09-27T21:53:19.037Z"
   },
   {
    "duration": 6,
    "start_time": "2024-09-27T21:59:00.512Z"
   },
   {
    "duration": 2,
    "start_time": "2024-09-27T21:59:11.252Z"
   },
   {
    "duration": 1254,
    "start_time": "2024-09-27T21:59:42.475Z"
   },
   {
    "duration": 1223,
    "start_time": "2024-09-27T22:01:02.643Z"
   },
   {
    "duration": 1475,
    "start_time": "2024-09-27T22:02:45.472Z"
   },
   {
    "duration": 4,
    "start_time": "2024-09-27T22:03:10.571Z"
   },
   {
    "duration": 622,
    "start_time": "2024-09-27T22:04:20.841Z"
   },
   {
    "duration": 1306,
    "start_time": "2024-09-27T22:05:52.203Z"
   },
   {
    "duration": 4,
    "start_time": "2024-09-27T22:05:55.002Z"
   },
   {
    "duration": 77,
    "start_time": "2024-09-27T22:06:11.074Z"
   },
   {
    "duration": 610,
    "start_time": "2024-09-27T22:06:16.933Z"
   },
   {
    "duration": 625,
    "start_time": "2024-09-27T22:06:25.795Z"
   },
   {
    "duration": 1416,
    "start_time": "2024-09-27T22:06:50.444Z"
   },
   {
    "duration": 4,
    "start_time": "2024-09-27T22:06:51.862Z"
   },
   {
    "duration": 1530,
    "start_time": "2024-09-27T22:07:08.012Z"
   },
   {
    "duration": 4,
    "start_time": "2024-09-27T22:07:09.544Z"
   },
   {
    "duration": 707,
    "start_time": "2024-09-27T22:07:20.694Z"
   },
   {
    "duration": 3443,
    "start_time": "2024-09-27T22:07:57.614Z"
   },
   {
    "duration": 13099,
    "start_time": "2024-09-28T14:28:01.394Z"
   },
   {
    "duration": 3383,
    "start_time": "2024-09-28T14:28:14.495Z"
   },
   {
    "duration": 4907,
    "start_time": "2024-09-28T14:28:17.880Z"
   },
   {
    "duration": 1271,
    "start_time": "2024-09-28T14:28:22.789Z"
   },
   {
    "duration": 31,
    "start_time": "2024-09-28T14:28:24.062Z"
   },
   {
    "duration": 123,
    "start_time": "2024-09-28T14:28:24.095Z"
   },
   {
    "duration": 2,
    "start_time": "2024-09-28T14:28:24.220Z"
   },
   {
    "duration": 2217,
    "start_time": "2024-09-28T14:28:24.224Z"
   },
   {
    "duration": 4,
    "start_time": "2024-09-28T14:28:26.442Z"
   },
   {
    "duration": 37989,
    "start_time": "2024-09-28T14:28:26.448Z"
   },
   {
    "duration": 10,
    "start_time": "2024-09-28T14:29:04.439Z"
   },
   {
    "duration": 35,
    "start_time": "2024-09-28T14:29:04.451Z"
   },
   {
    "duration": 988243,
    "start_time": "2024-09-28T14:29:04.488Z"
   },
   {
    "duration": 247,
    "start_time": "2024-09-28T14:45:32.735Z"
   },
   {
    "duration": 56,
    "start_time": "2024-09-28T14:45:32.984Z"
   },
   {
    "duration": 34,
    "start_time": "2024-09-28T14:45:33.042Z"
   },
   {
    "duration": 39,
    "start_time": "2024-09-28T14:45:33.078Z"
   },
   {
    "duration": 61,
    "start_time": "2024-09-28T14:45:33.119Z"
   },
   {
    "duration": 39,
    "start_time": "2024-09-28T14:45:33.182Z"
   },
   {
    "duration": 29,
    "start_time": "2024-09-28T14:45:33.223Z"
   },
   {
    "duration": 15,
    "start_time": "2024-09-28T14:45:33.254Z"
   },
   {
    "duration": 363,
    "start_time": "2024-09-28T14:45:33.271Z"
   },
   {
    "duration": 0,
    "start_time": "2024-09-28T14:45:33.636Z"
   },
   {
    "duration": 0,
    "start_time": "2024-09-28T14:45:33.637Z"
   },
   {
    "duration": 0,
    "start_time": "2024-09-28T14:45:33.639Z"
   },
   {
    "duration": 0,
    "start_time": "2024-09-28T14:45:33.641Z"
   },
   {
    "duration": 0,
    "start_time": "2024-09-28T14:45:33.643Z"
   },
   {
    "duration": 0,
    "start_time": "2024-09-28T14:45:33.644Z"
   },
   {
    "duration": 0,
    "start_time": "2024-09-28T14:45:33.646Z"
   },
   {
    "duration": 0,
    "start_time": "2024-09-28T14:45:33.647Z"
   },
   {
    "duration": 0,
    "start_time": "2024-09-28T14:45:33.649Z"
   },
   {
    "duration": 0,
    "start_time": "2024-09-28T14:45:33.650Z"
   },
   {
    "duration": 0,
    "start_time": "2024-09-28T14:45:33.652Z"
   },
   {
    "duration": 1,
    "start_time": "2024-09-28T14:45:33.653Z"
   },
   {
    "duration": 9,
    "start_time": "2024-09-28T14:46:29.753Z"
   },
   {
    "duration": 4,
    "start_time": "2024-09-28T14:46:31.654Z"
   },
   {
    "duration": 7,
    "start_time": "2024-09-28T14:46:34.354Z"
   },
   {
    "duration": 2,
    "start_time": "2024-09-28T14:47:03.395Z"
   },
   {
    "duration": 93,
    "start_time": "2024-09-28T14:47:05.502Z"
   },
   {
    "duration": 1486,
    "start_time": "2024-09-28T14:47:12.147Z"
   },
   {
    "duration": 4,
    "start_time": "2024-09-28T14:47:15.625Z"
   },
   {
    "duration": 77,
    "start_time": "2024-09-28T14:47:17.694Z"
   },
   {
    "duration": 460,
    "start_time": "2024-09-28T14:47:22.766Z"
   },
   {
    "duration": 26,
    "start_time": "2024-09-28T14:47:24.045Z"
   },
   {
    "duration": 10361,
    "start_time": "2024-09-28T14:47:48.655Z"
   },
   {
    "duration": 32,
    "start_time": "2024-09-28T14:48:52.876Z"
   },
   {
    "duration": 51,
    "start_time": "2024-09-28T14:49:37.374Z"
   },
   {
    "duration": 55,
    "start_time": "2024-09-28T14:50:34.681Z"
   },
   {
    "duration": 101,
    "start_time": "2024-09-28T14:50:59.213Z"
   },
   {
    "duration": 1290,
    "start_time": "2024-09-28T14:57:11.275Z"
   },
   {
    "duration": 5,
    "start_time": "2024-09-28T14:57:14.679Z"
   },
   {
    "duration": 430,
    "start_time": "2024-09-28T14:57:20.052Z"
   },
   {
    "duration": 3187,
    "start_time": "2024-09-28T14:57:21.128Z"
   },
   {
    "duration": 60,
    "start_time": "2024-09-28T14:57:28.621Z"
   },
   {
    "duration": 95,
    "start_time": "2024-09-28T15:00:47.113Z"
   },
   {
    "duration": 3,
    "start_time": "2024-09-28T15:01:17.430Z"
   },
   {
    "duration": 69,
    "start_time": "2024-09-28T15:01:22.086Z"
   },
   {
    "duration": 4,
    "start_time": "2024-09-28T15:01:24.558Z"
   },
   {
    "duration": 3,
    "start_time": "2024-09-28T15:01:36.694Z"
   },
   {
    "duration": 34,
    "start_time": "2024-09-28T15:02:26.129Z"
   },
   {
    "duration": 33,
    "start_time": "2024-09-28T15:02:57.592Z"
   },
   {
    "duration": 60,
    "start_time": "2024-09-28T15:09:43.240Z"
   },
   {
    "duration": 5,
    "start_time": "2024-09-28T15:25:42.493Z"
   },
   {
    "duration": 3,
    "start_time": "2024-09-28T15:26:02.788Z"
   },
   {
    "duration": 58,
    "start_time": "2024-09-28T15:26:59.043Z"
   },
   {
    "duration": 74,
    "start_time": "2024-09-28T15:27:06.883Z"
   },
   {
    "duration": 55,
    "start_time": "2024-09-28T15:27:15.672Z"
   },
   {
    "duration": 57,
    "start_time": "2024-09-28T15:27:29.752Z"
   },
   {
    "duration": 55,
    "start_time": "2024-09-28T15:30:07.623Z"
   },
   {
    "duration": 55,
    "start_time": "2024-09-28T15:30:38.643Z"
   },
   {
    "duration": 4,
    "start_time": "2024-09-28T15:33:41.575Z"
   },
   {
    "duration": 4,
    "start_time": "2024-09-28T15:34:01.597Z"
   },
   {
    "duration": 43,
    "start_time": "2024-09-28T15:34:33.677Z"
   },
   {
    "duration": 3,
    "start_time": "2024-09-28T15:34:48.173Z"
   },
   {
    "duration": 56,
    "start_time": "2024-09-28T15:34:49.133Z"
   },
   {
    "duration": 1425,
    "start_time": "2024-09-28T15:39:02.939Z"
   },
   {
    "duration": 4,
    "start_time": "2024-09-28T15:39:04.365Z"
   },
   {
    "duration": 472,
    "start_time": "2024-09-28T15:39:04.371Z"
   },
   {
    "duration": 2181,
    "start_time": "2024-09-28T15:39:04.845Z"
   },
   {
    "duration": 4,
    "start_time": "2024-09-28T15:39:07.029Z"
   },
   {
    "duration": 121,
    "start_time": "2024-09-28T15:39:07.035Z"
   },
   {
    "duration": 0,
    "start_time": "2024-09-28T15:39:07.158Z"
   },
   {
    "duration": 0,
    "start_time": "2024-09-28T15:39:07.160Z"
   },
   {
    "duration": 0,
    "start_time": "2024-09-28T15:39:07.206Z"
   },
   {
    "duration": 0,
    "start_time": "2024-09-28T15:39:07.208Z"
   },
   {
    "duration": 0,
    "start_time": "2024-09-28T15:39:07.209Z"
   },
   {
    "duration": 1390,
    "start_time": "2024-09-28T15:39:53.175Z"
   },
   {
    "duration": 4,
    "start_time": "2024-09-28T15:39:54.567Z"
   },
   {
    "duration": 517,
    "start_time": "2024-09-28T15:39:54.572Z"
   },
   {
    "duration": 2322,
    "start_time": "2024-09-28T15:39:55.091Z"
   },
   {
    "duration": 2,
    "start_time": "2024-09-28T15:39:57.416Z"
   },
   {
    "duration": 124,
    "start_time": "2024-09-28T15:39:57.420Z"
   },
   {
    "duration": 0,
    "start_time": "2024-09-28T15:39:57.546Z"
   },
   {
    "duration": 0,
    "start_time": "2024-09-28T15:39:57.547Z"
   },
   {
    "duration": 0,
    "start_time": "2024-09-28T15:39:57.548Z"
   },
   {
    "duration": 0,
    "start_time": "2024-09-28T15:39:57.549Z"
   },
   {
    "duration": 0,
    "start_time": "2024-09-28T15:39:57.549Z"
   },
   {
    "duration": 5496,
    "start_time": "2024-09-28T15:40:37.189Z"
   },
   {
    "duration": 2621,
    "start_time": "2024-09-28T15:40:42.688Z"
   },
   {
    "duration": 5007,
    "start_time": "2024-09-28T15:40:45.312Z"
   },
   {
    "duration": 1382,
    "start_time": "2024-09-28T15:40:50.321Z"
   },
   {
    "duration": 38,
    "start_time": "2024-09-28T15:40:51.706Z"
   },
   {
    "duration": 176,
    "start_time": "2024-09-28T15:40:51.746Z"
   },
   {
    "duration": 3,
    "start_time": "2024-09-28T15:40:51.923Z"
   },
   {
    "duration": 2362,
    "start_time": "2024-09-28T15:40:51.928Z"
   },
   {
    "duration": 3,
    "start_time": "2024-09-28T15:40:54.292Z"
   },
   {
    "duration": 42494,
    "start_time": "2024-09-28T15:40:54.296Z"
   },
   {
    "duration": 14,
    "start_time": "2024-09-28T15:41:36.792Z"
   },
   {
    "duration": 25,
    "start_time": "2024-09-28T15:41:36.809Z"
   },
   {
    "duration": 1019605,
    "start_time": "2024-09-28T15:41:36.836Z"
   },
   {
    "duration": 228,
    "start_time": "2024-09-28T15:58:36.446Z"
   },
   {
    "duration": 67,
    "start_time": "2024-09-28T15:58:36.675Z"
   },
   {
    "duration": 37,
    "start_time": "2024-09-28T15:58:36.744Z"
   },
   {
    "duration": 24,
    "start_time": "2024-09-28T15:58:36.783Z"
   },
   {
    "duration": 49,
    "start_time": "2024-09-28T15:58:36.809Z"
   },
   {
    "duration": 74,
    "start_time": "2024-09-28T15:58:36.861Z"
   },
   {
    "duration": 24,
    "start_time": "2024-09-28T15:58:36.937Z"
   },
   {
    "duration": 29,
    "start_time": "2024-09-28T15:58:36.963Z"
   },
   {
    "duration": 56,
    "start_time": "2024-09-28T15:58:36.994Z"
   },
   {
    "duration": 28,
    "start_time": "2024-09-28T15:58:37.052Z"
   },
   {
    "duration": 10,
    "start_time": "2024-09-28T15:58:37.082Z"
   },
   {
    "duration": 3,
    "start_time": "2024-09-28T15:58:37.093Z"
   },
   {
    "duration": 1469,
    "start_time": "2024-09-28T15:58:37.098Z"
   },
   {
    "duration": 4,
    "start_time": "2024-09-28T15:58:38.569Z"
   },
   {
    "duration": 454,
    "start_time": "2024-09-28T15:58:38.575Z"
   },
   {
    "duration": 5294,
    "start_time": "2024-09-28T15:58:39.030Z"
   },
   {
    "duration": 3,
    "start_time": "2024-09-28T15:58:44.326Z"
   },
   {
    "duration": 482,
    "start_time": "2024-09-28T15:58:44.331Z"
   },
   {
    "duration": 0,
    "start_time": "2024-09-28T15:58:44.815Z"
   },
   {
    "duration": 0,
    "start_time": "2024-09-28T15:58:44.817Z"
   },
   {
    "duration": 0,
    "start_time": "2024-09-28T15:58:44.819Z"
   },
   {
    "duration": 0,
    "start_time": "2024-09-28T15:58:44.820Z"
   },
   {
    "duration": 0,
    "start_time": "2024-09-28T15:58:44.821Z"
   },
   {
    "duration": 6,
    "start_time": "2024-09-28T16:02:02.242Z"
   },
   {
    "duration": 13,
    "start_time": "2024-09-28T16:02:34.896Z"
   },
   {
    "duration": 7,
    "start_time": "2024-09-28T16:02:58.064Z"
   },
   {
    "duration": 5285,
    "start_time": "2024-09-28T16:03:57.846Z"
   },
   {
    "duration": 3584,
    "start_time": "2024-09-28T16:04:03.134Z"
   },
   {
    "duration": 26,
    "start_time": "2024-09-28T16:04:06.720Z"
   },
   {
    "duration": 1041,
    "start_time": "2024-09-28T16:04:06.748Z"
   },
   {
    "duration": 38,
    "start_time": "2024-09-28T16:04:07.791Z"
   },
   {
    "duration": 134,
    "start_time": "2024-09-28T16:04:07.830Z"
   },
   {
    "duration": 3,
    "start_time": "2024-09-28T16:04:07.966Z"
   },
   {
    "duration": 2349,
    "start_time": "2024-09-28T16:04:07.970Z"
   },
   {
    "duration": 3,
    "start_time": "2024-09-28T16:04:10.321Z"
   },
   {
    "duration": 37528,
    "start_time": "2024-09-28T16:04:10.326Z"
   },
   {
    "duration": 10,
    "start_time": "2024-09-28T16:04:47.856Z"
   },
   {
    "duration": 6,
    "start_time": "2024-09-28T16:04:47.868Z"
   },
   {
    "duration": 980581,
    "start_time": "2024-09-28T16:04:47.876Z"
   },
   {
    "duration": 271,
    "start_time": "2024-09-28T16:21:08.461Z"
   },
   {
    "duration": 71,
    "start_time": "2024-09-28T16:21:08.734Z"
   },
   {
    "duration": 34,
    "start_time": "2024-09-28T16:21:08.807Z"
   },
   {
    "duration": 13,
    "start_time": "2024-09-28T16:21:08.843Z"
   },
   {
    "duration": 38,
    "start_time": "2024-09-28T16:21:08.857Z"
   },
   {
    "duration": 44,
    "start_time": "2024-09-28T16:21:08.897Z"
   },
   {
    "duration": 20,
    "start_time": "2024-09-28T16:21:08.943Z"
   },
   {
    "duration": 37,
    "start_time": "2024-09-28T16:21:08.965Z"
   },
   {
    "duration": 32,
    "start_time": "2024-09-28T16:21:09.004Z"
   },
   {
    "duration": 27,
    "start_time": "2024-09-28T16:21:09.038Z"
   },
   {
    "duration": 25,
    "start_time": "2024-09-28T16:21:09.067Z"
   },
   {
    "duration": 31,
    "start_time": "2024-09-28T16:21:09.093Z"
   },
   {
    "duration": 26,
    "start_time": "2024-09-28T16:21:09.126Z"
   },
   {
    "duration": 277,
    "start_time": "2024-09-28T16:21:09.154Z"
   },
   {
    "duration": 0,
    "start_time": "2024-09-28T16:21:09.433Z"
   },
   {
    "duration": 0,
    "start_time": "2024-09-28T16:21:09.434Z"
   },
   {
    "duration": 0,
    "start_time": "2024-09-28T16:21:09.436Z"
   },
   {
    "duration": 0,
    "start_time": "2024-09-28T16:21:09.437Z"
   },
   {
    "duration": 0,
    "start_time": "2024-09-28T16:21:09.438Z"
   },
   {
    "duration": 0,
    "start_time": "2024-09-28T16:21:09.439Z"
   },
   {
    "duration": 0,
    "start_time": "2024-09-28T16:21:09.441Z"
   },
   {
    "duration": 0,
    "start_time": "2024-09-28T16:21:09.442Z"
   },
   {
    "duration": 0,
    "start_time": "2024-09-28T16:21:09.443Z"
   },
   {
    "duration": 0,
    "start_time": "2024-09-28T16:21:09.444Z"
   },
   {
    "duration": 203,
    "start_time": "2024-09-28T16:23:17.127Z"
   },
   {
    "duration": 17,
    "start_time": "2024-09-28T16:24:12.361Z"
   },
   {
    "duration": 21,
    "start_time": "2024-09-28T16:24:18.753Z"
   },
   {
    "duration": 12,
    "start_time": "2024-09-28T16:26:15.173Z"
   },
   {
    "duration": 4,
    "start_time": "2024-09-28T16:26:19.789Z"
   },
   {
    "duration": 13,
    "start_time": "2024-09-28T16:26:21.025Z"
   },
   {
    "duration": 5102,
    "start_time": "2024-09-28T16:26:57.271Z"
   },
   {
    "duration": 2529,
    "start_time": "2024-09-28T16:27:02.375Z"
   },
   {
    "duration": 18,
    "start_time": "2024-09-28T16:27:04.906Z"
   },
   {
    "duration": 1006,
    "start_time": "2024-09-28T16:27:04.926Z"
   },
   {
    "duration": 32,
    "start_time": "2024-09-28T16:27:05.933Z"
   },
   {
    "duration": 146,
    "start_time": "2024-09-28T16:27:05.967Z"
   },
   {
    "duration": 3,
    "start_time": "2024-09-28T16:27:06.115Z"
   },
   {
    "duration": 2266,
    "start_time": "2024-09-28T16:27:06.119Z"
   },
   {
    "duration": 4,
    "start_time": "2024-09-28T16:27:08.387Z"
   },
   {
    "duration": 37388,
    "start_time": "2024-09-28T16:27:08.393Z"
   },
   {
    "duration": 11,
    "start_time": "2024-09-28T16:27:45.782Z"
   },
   {
    "duration": 13,
    "start_time": "2024-09-28T16:27:45.794Z"
   },
   {
    "duration": 1011763,
    "start_time": "2024-09-28T16:27:45.808Z"
   },
   {
    "duration": 272,
    "start_time": "2024-09-28T16:44:37.573Z"
   },
   {
    "duration": 74,
    "start_time": "2024-09-28T16:44:37.847Z"
   },
   {
    "duration": 37,
    "start_time": "2024-09-28T16:44:37.923Z"
   },
   {
    "duration": 13,
    "start_time": "2024-09-28T16:44:37.962Z"
   },
   {
    "duration": 43,
    "start_time": "2024-09-28T16:44:37.976Z"
   },
   {
    "duration": 7,
    "start_time": "2024-09-28T16:44:38.022Z"
   },
   {
    "duration": 6,
    "start_time": "2024-09-28T16:44:38.031Z"
   },
   {
    "duration": 6,
    "start_time": "2024-09-28T16:44:38.039Z"
   },
   {
    "duration": 11,
    "start_time": "2024-09-28T16:44:38.047Z"
   },
   {
    "duration": 19,
    "start_time": "2024-09-28T16:44:38.060Z"
   },
   {
    "duration": 6,
    "start_time": "2024-09-28T16:44:38.109Z"
   },
   {
    "duration": 18,
    "start_time": "2024-09-28T16:44:38.117Z"
   },
   {
    "duration": 9,
    "start_time": "2024-09-28T16:44:38.137Z"
   },
   {
    "duration": 1481,
    "start_time": "2024-09-28T16:44:38.148Z"
   },
   {
    "duration": 5,
    "start_time": "2024-09-28T16:44:39.633Z"
   },
   {
    "duration": 602,
    "start_time": "2024-09-28T16:44:39.640Z"
   },
   {
    "duration": 2487,
    "start_time": "2024-09-28T16:44:40.244Z"
   },
   {
    "duration": 3,
    "start_time": "2024-09-28T16:44:42.733Z"
   },
   {
    "duration": 189,
    "start_time": "2024-09-28T16:44:42.738Z"
   },
   {
    "duration": 0,
    "start_time": "2024-09-28T16:44:42.929Z"
   },
   {
    "duration": 0,
    "start_time": "2024-09-28T16:44:42.931Z"
   },
   {
    "duration": 0,
    "start_time": "2024-09-28T16:44:42.933Z"
   },
   {
    "duration": 0,
    "start_time": "2024-09-28T16:44:42.934Z"
   },
   {
    "duration": 0,
    "start_time": "2024-09-28T16:44:42.937Z"
   },
   {
    "duration": 5,
    "start_time": "2024-09-28T16:51:30.373Z"
   },
   {
    "duration": 30,
    "start_time": "2024-09-28T16:51:30.399Z"
   },
   {
    "duration": 4,
    "start_time": "2024-09-28T16:51:30.447Z"
   },
   {
    "duration": 7,
    "start_time": "2024-09-28T16:51:30.498Z"
   },
   {
    "duration": 11,
    "start_time": "2024-09-28T16:51:30.507Z"
   },
   {
    "duration": 1977,
    "start_time": "2024-09-28T16:51:30.523Z"
   },
   {
    "duration": 4,
    "start_time": "2024-09-28T16:51:32.502Z"
   },
   {
    "duration": 462,
    "start_time": "2024-09-28T16:51:32.508Z"
   },
   {
    "duration": 3341,
    "start_time": "2024-09-28T16:51:32.973Z"
   },
   {
    "duration": 3,
    "start_time": "2024-09-28T16:51:36.316Z"
   },
   {
    "duration": 129,
    "start_time": "2024-09-28T16:51:36.321Z"
   },
   {
    "duration": 0,
    "start_time": "2024-09-28T16:51:36.451Z"
   },
   {
    "duration": 0,
    "start_time": "2024-09-28T16:51:36.453Z"
   },
   {
    "duration": 0,
    "start_time": "2024-09-28T16:51:36.453Z"
   },
   {
    "duration": 0,
    "start_time": "2024-09-28T16:51:36.454Z"
   },
   {
    "duration": 0,
    "start_time": "2024-09-28T16:51:36.455Z"
   },
   {
    "duration": 25,
    "start_time": "2024-09-28T16:53:01.469Z"
   },
   {
    "duration": 11,
    "start_time": "2024-09-28T16:53:06.416Z"
   },
   {
    "duration": 30,
    "start_time": "2024-09-28T16:53:06.429Z"
   },
   {
    "duration": 0,
    "start_time": "2024-09-28T16:53:06.461Z"
   },
   {
    "duration": 0,
    "start_time": "2024-09-28T16:53:06.462Z"
   },
   {
    "duration": 0,
    "start_time": "2024-09-28T16:53:06.463Z"
   },
   {
    "duration": 0,
    "start_time": "2024-09-28T16:53:06.464Z"
   },
   {
    "duration": 25,
    "start_time": "2024-09-28T16:53:06.467Z"
   },
   {
    "duration": 5,
    "start_time": "2024-09-28T16:53:06.500Z"
   },
   {
    "duration": 12,
    "start_time": "2024-09-28T16:53:06.508Z"
   },
   {
    "duration": 17,
    "start_time": "2024-09-28T16:53:06.522Z"
   },
   {
    "duration": 2608,
    "start_time": "2024-09-28T16:53:06.541Z"
   },
   {
    "duration": 3,
    "start_time": "2024-09-28T16:53:09.151Z"
   },
   {
    "duration": 470,
    "start_time": "2024-09-28T16:53:09.156Z"
   },
   {
    "duration": 49,
    "start_time": "2024-09-28T16:53:27.757Z"
   },
   {
    "duration": 0,
    "start_time": "2024-09-28T16:53:27.807Z"
   },
   {
    "duration": 0,
    "start_time": "2024-09-28T16:53:27.808Z"
   },
   {
    "duration": 0,
    "start_time": "2024-09-28T16:53:27.809Z"
   },
   {
    "duration": 0,
    "start_time": "2024-09-28T16:53:27.810Z"
   },
   {
    "duration": 0,
    "start_time": "2024-09-28T16:53:27.811Z"
   },
   {
    "duration": 5,
    "start_time": "2024-09-28T16:53:27.820Z"
   },
   {
    "duration": 0,
    "start_time": "2024-09-28T16:53:27.827Z"
   },
   {
    "duration": 3,
    "start_time": "2024-09-28T16:53:27.828Z"
   },
   {
    "duration": 7,
    "start_time": "2024-09-28T16:53:27.854Z"
   },
   {
    "duration": 0,
    "start_time": "2024-09-28T16:53:27.863Z"
   },
   {
    "duration": 7,
    "start_time": "2024-09-28T16:53:27.869Z"
   },
   {
    "duration": 67,
    "start_time": "2024-09-28T16:53:27.881Z"
   },
   {
    "duration": 0,
    "start_time": "2024-09-28T16:53:27.950Z"
   },
   {
    "duration": 0,
    "start_time": "2024-09-28T16:53:27.951Z"
   },
   {
    "duration": 0,
    "start_time": "2024-09-28T16:53:27.952Z"
   },
   {
    "duration": 0,
    "start_time": "2024-09-28T16:53:27.953Z"
   },
   {
    "duration": 0,
    "start_time": "2024-09-28T16:53:27.954Z"
   },
   {
    "duration": 8,
    "start_time": "2024-09-28T16:53:27.963Z"
   },
   {
    "duration": 8,
    "start_time": "2024-09-28T16:53:27.977Z"
   },
   {
    "duration": 5366,
    "start_time": "2024-09-28T16:55:09.510Z"
   },
   {
    "duration": 2664,
    "start_time": "2024-09-28T16:55:14.879Z"
   },
   {
    "duration": 5317,
    "start_time": "2024-09-28T16:55:17.545Z"
   },
   {
    "duration": 1347,
    "start_time": "2024-09-28T16:55:22.864Z"
   },
   {
    "duration": 32,
    "start_time": "2024-09-28T16:55:24.213Z"
   },
   {
    "duration": 134,
    "start_time": "2024-09-28T16:55:24.247Z"
   },
   {
    "duration": 3,
    "start_time": "2024-09-28T16:55:24.382Z"
   },
   {
    "duration": 2383,
    "start_time": "2024-09-28T16:55:24.387Z"
   },
   {
    "duration": 3,
    "start_time": "2024-09-28T16:55:26.772Z"
   },
   {
    "duration": 41051,
    "start_time": "2024-09-28T16:55:26.778Z"
   },
   {
    "duration": 11,
    "start_time": "2024-09-28T16:56:07.831Z"
   },
   {
    "duration": 17,
    "start_time": "2024-09-28T16:56:07.844Z"
   },
   {
    "duration": 1945,
    "start_time": "2024-09-28T16:56:07.863Z"
   },
   {
    "duration": 0,
    "start_time": "2024-09-28T16:56:09.811Z"
   },
   {
    "duration": 0,
    "start_time": "2024-09-28T16:56:09.812Z"
   },
   {
    "duration": 0,
    "start_time": "2024-09-28T16:56:09.814Z"
   },
   {
    "duration": 0,
    "start_time": "2024-09-28T16:56:09.815Z"
   },
   {
    "duration": 0,
    "start_time": "2024-09-28T16:56:09.817Z"
   },
   {
    "duration": 0,
    "start_time": "2024-09-28T16:56:09.819Z"
   },
   {
    "duration": 0,
    "start_time": "2024-09-28T16:56:09.821Z"
   },
   {
    "duration": 0,
    "start_time": "2024-09-28T16:56:09.822Z"
   },
   {
    "duration": 0,
    "start_time": "2024-09-28T16:56:09.824Z"
   },
   {
    "duration": 0,
    "start_time": "2024-09-28T16:56:09.826Z"
   },
   {
    "duration": 1,
    "start_time": "2024-09-28T16:56:09.827Z"
   },
   {
    "duration": 0,
    "start_time": "2024-09-28T16:56:09.829Z"
   },
   {
    "duration": 0,
    "start_time": "2024-09-28T16:56:09.831Z"
   },
   {
    "duration": 0,
    "start_time": "2024-09-28T16:56:09.833Z"
   },
   {
    "duration": 0,
    "start_time": "2024-09-28T16:56:09.835Z"
   },
   {
    "duration": 0,
    "start_time": "2024-09-28T16:56:09.836Z"
   },
   {
    "duration": 0,
    "start_time": "2024-09-28T16:56:09.838Z"
   },
   {
    "duration": 0,
    "start_time": "2024-09-28T16:56:09.840Z"
   },
   {
    "duration": 0,
    "start_time": "2024-09-28T16:56:09.842Z"
   },
   {
    "duration": 0,
    "start_time": "2024-09-28T16:56:09.843Z"
   },
   {
    "duration": 0,
    "start_time": "2024-09-28T16:56:09.845Z"
   },
   {
    "duration": 0,
    "start_time": "2024-09-28T16:56:09.847Z"
   },
   {
    "duration": 0,
    "start_time": "2024-09-28T16:56:09.848Z"
   },
   {
    "duration": 4,
    "start_time": "2024-09-28T16:56:57.159Z"
   },
   {
    "duration": 5097,
    "start_time": "2024-09-28T17:04:34.219Z"
   },
   {
    "duration": 2450,
    "start_time": "2024-09-28T17:04:39.319Z"
   },
   {
    "duration": 4687,
    "start_time": "2024-09-28T17:04:41.772Z"
   },
   {
    "duration": 990,
    "start_time": "2024-09-28T17:04:46.461Z"
   },
   {
    "duration": 33,
    "start_time": "2024-09-28T17:04:47.453Z"
   },
   {
    "duration": 145,
    "start_time": "2024-09-28T17:04:47.487Z"
   },
   {
    "duration": 35,
    "start_time": "2024-09-28T17:04:47.634Z"
   },
   {
    "duration": 7,
    "start_time": "2024-09-28T17:04:47.670Z"
   },
   {
    "duration": 2,
    "start_time": "2024-09-28T17:04:47.679Z"
   },
   {
    "duration": 2144,
    "start_time": "2024-09-28T17:04:47.705Z"
   },
   {
    "duration": 165,
    "start_time": "2024-09-28T17:04:49.851Z"
   },
   {
    "duration": 39832,
    "start_time": "2024-09-28T17:04:50.018Z"
   },
   {
    "duration": 11,
    "start_time": "2024-09-28T17:05:29.852Z"
   },
   {
    "duration": 16,
    "start_time": "2024-09-28T17:05:29.865Z"
   },
   {
    "duration": 1027399,
    "start_time": "2024-09-28T17:05:29.882Z"
   },
   {
    "duration": 224,
    "start_time": "2024-09-28T17:22:37.284Z"
   },
   {
    "duration": 39,
    "start_time": "2024-09-28T17:22:37.510Z"
   },
   {
    "duration": 15,
    "start_time": "2024-09-28T17:22:37.551Z"
   },
   {
    "duration": 29,
    "start_time": "2024-09-28T17:22:37.568Z"
   },
   {
    "duration": 14,
    "start_time": "2024-09-28T17:22:37.599Z"
   },
   {
    "duration": 4,
    "start_time": "2024-09-28T17:22:37.616Z"
   },
   {
    "duration": 1430,
    "start_time": "2024-09-28T17:22:37.622Z"
   },
   {
    "duration": 0,
    "start_time": "2024-09-28T17:22:39.055Z"
   },
   {
    "duration": 0,
    "start_time": "2024-09-28T17:22:39.056Z"
   },
   {
    "duration": 0,
    "start_time": "2024-09-28T17:22:39.058Z"
   },
   {
    "duration": 0,
    "start_time": "2024-09-28T17:22:39.061Z"
   },
   {
    "duration": 0,
    "start_time": "2024-09-28T17:22:39.063Z"
   },
   {
    "duration": 0,
    "start_time": "2024-09-28T17:22:39.064Z"
   },
   {
    "duration": 0,
    "start_time": "2024-09-28T17:22:39.065Z"
   },
   {
    "duration": 0,
    "start_time": "2024-09-28T17:22:39.067Z"
   },
   {
    "duration": 0,
    "start_time": "2024-09-28T17:22:39.068Z"
   },
   {
    "duration": 0,
    "start_time": "2024-09-28T17:22:39.070Z"
   },
   {
    "duration": 0,
    "start_time": "2024-09-28T17:22:39.071Z"
   },
   {
    "duration": 0,
    "start_time": "2024-09-28T17:22:39.072Z"
   },
   {
    "duration": 0,
    "start_time": "2024-09-28T17:22:39.073Z"
   },
   {
    "duration": 0,
    "start_time": "2024-09-28T17:22:39.074Z"
   },
   {
    "duration": 1148,
    "start_time": "2024-09-28T17:26:18.485Z"
   },
   {
    "duration": 1058,
    "start_time": "2024-09-28T17:26:39.211Z"
   },
   {
    "duration": 11,
    "start_time": "2024-09-28T17:27:39.742Z"
   },
   {
    "duration": 26,
    "start_time": "2024-09-28T17:27:39.755Z"
   },
   {
    "duration": 6,
    "start_time": "2024-09-28T17:27:39.783Z"
   },
   {
    "duration": 6,
    "start_time": "2024-09-28T17:27:39.791Z"
   },
   {
    "duration": 4,
    "start_time": "2024-09-28T17:27:39.799Z"
   },
   {
    "duration": 1008,
    "start_time": "2024-09-28T17:27:39.820Z"
   },
   {
    "duration": 0,
    "start_time": "2024-09-28T17:27:40.830Z"
   },
   {
    "duration": 0,
    "start_time": "2024-09-28T17:27:40.832Z"
   },
   {
    "duration": 0,
    "start_time": "2024-09-28T17:27:40.834Z"
   },
   {
    "duration": 0,
    "start_time": "2024-09-28T17:27:40.835Z"
   },
   {
    "duration": 0,
    "start_time": "2024-09-28T17:27:40.837Z"
   },
   {
    "duration": 0,
    "start_time": "2024-09-28T17:27:40.838Z"
   },
   {
    "duration": 0,
    "start_time": "2024-09-28T17:27:40.840Z"
   },
   {
    "duration": 0,
    "start_time": "2024-09-28T17:27:40.841Z"
   },
   {
    "duration": 0,
    "start_time": "2024-09-28T17:27:40.842Z"
   },
   {
    "duration": 0,
    "start_time": "2024-09-28T17:27:40.844Z"
   },
   {
    "duration": 0,
    "start_time": "2024-09-28T17:27:40.845Z"
   },
   {
    "duration": 0,
    "start_time": "2024-09-28T17:27:40.847Z"
   },
   {
    "duration": 0,
    "start_time": "2024-09-28T17:27:40.848Z"
   },
   {
    "duration": 0,
    "start_time": "2024-09-28T17:27:40.849Z"
   },
   {
    "duration": 19,
    "start_time": "2024-09-28T17:28:15.973Z"
   },
   {
    "duration": 15,
    "start_time": "2024-09-28T17:29:10.202Z"
   },
   {
    "duration": 15,
    "start_time": "2024-09-28T17:29:19.962Z"
   },
   {
    "duration": 50,
    "start_time": "2024-09-28T17:30:16.341Z"
   },
   {
    "duration": 9,
    "start_time": "2024-09-28T17:30:16.393Z"
   },
   {
    "duration": 12,
    "start_time": "2024-09-28T17:30:16.403Z"
   },
   {
    "duration": 15,
    "start_time": "2024-09-28T17:30:16.416Z"
   },
   {
    "duration": 11,
    "start_time": "2024-09-28T17:30:16.433Z"
   },
   {
    "duration": 16,
    "start_time": "2024-09-28T17:30:16.445Z"
   },
   {
    "duration": 14,
    "start_time": "2024-09-28T17:30:16.463Z"
   },
   {
    "duration": 45,
    "start_time": "2024-09-28T17:30:16.479Z"
   },
   {
    "duration": 4,
    "start_time": "2024-09-28T17:30:16.526Z"
   },
   {
    "duration": 8,
    "start_time": "2024-09-28T17:30:16.532Z"
   },
   {
    "duration": 14,
    "start_time": "2024-09-28T17:30:16.541Z"
   },
   {
    "duration": 4,
    "start_time": "2024-09-28T17:30:16.557Z"
   },
   {
    "duration": 1535,
    "start_time": "2024-09-28T17:30:16.563Z"
   },
   {
    "duration": 4,
    "start_time": "2024-09-28T17:30:18.101Z"
   },
   {
    "duration": 461,
    "start_time": "2024-09-28T17:30:18.107Z"
   },
   {
    "duration": 7957,
    "start_time": "2024-09-28T17:30:18.570Z"
   },
   {
    "duration": 4,
    "start_time": "2024-09-28T17:30:26.605Z"
   },
   {
    "duration": 145,
    "start_time": "2024-09-28T17:30:26.611Z"
   },
   {
    "duration": 0,
    "start_time": "2024-09-28T17:30:26.758Z"
   },
   {
    "duration": 0,
    "start_time": "2024-09-28T17:30:26.760Z"
   },
   {
    "duration": 0,
    "start_time": "2024-09-28T17:30:26.761Z"
   },
   {
    "duration": 0,
    "start_time": "2024-09-28T17:30:26.762Z"
   },
   {
    "duration": 0,
    "start_time": "2024-09-28T17:30:26.764Z"
   },
   {
    "duration": 3,
    "start_time": "2024-09-28T17:35:41.249Z"
   },
   {
    "duration": 102,
    "start_time": "2024-09-28T17:35:41.711Z"
   },
   {
    "duration": 1331,
    "start_time": "2024-09-28T17:36:23.607Z"
   },
   {
    "duration": 4,
    "start_time": "2024-09-28T17:36:24.940Z"
   },
   {
    "duration": 426,
    "start_time": "2024-09-28T17:36:24.946Z"
   },
   {
    "duration": 2042,
    "start_time": "2024-09-28T17:36:25.374Z"
   },
   {
    "duration": 3,
    "start_time": "2024-09-28T17:36:27.418Z"
   },
   {
    "duration": 115,
    "start_time": "2024-09-28T17:36:27.423Z"
   },
   {
    "duration": 0,
    "start_time": "2024-09-28T17:36:27.541Z"
   },
   {
    "duration": 0,
    "start_time": "2024-09-28T17:36:27.542Z"
   },
   {
    "duration": 0,
    "start_time": "2024-09-28T17:36:27.544Z"
   },
   {
    "duration": 0,
    "start_time": "2024-09-28T17:36:27.545Z"
   },
   {
    "duration": 0,
    "start_time": "2024-09-28T17:36:27.546Z"
   },
   {
    "duration": 1271,
    "start_time": "2024-09-28T17:36:44.807Z"
   },
   {
    "duration": 5,
    "start_time": "2024-09-28T17:36:46.081Z"
   },
   {
    "duration": 429,
    "start_time": "2024-09-28T17:36:46.088Z"
   },
   {
    "duration": 1908,
    "start_time": "2024-09-28T17:36:46.519Z"
   },
   {
    "duration": 76,
    "start_time": "2024-09-28T17:36:48.429Z"
   },
   {
    "duration": 99,
    "start_time": "2024-09-28T17:36:48.507Z"
   },
   {
    "duration": 0,
    "start_time": "2024-09-28T17:36:48.608Z"
   },
   {
    "duration": 0,
    "start_time": "2024-09-28T17:36:48.609Z"
   },
   {
    "duration": 0,
    "start_time": "2024-09-28T17:36:48.610Z"
   },
   {
    "duration": 0,
    "start_time": "2024-09-28T17:36:48.612Z"
   },
   {
    "duration": 0,
    "start_time": "2024-09-28T17:36:48.613Z"
   },
   {
    "duration": 1384,
    "start_time": "2024-09-28T17:37:07.860Z"
   },
   {
    "duration": 4,
    "start_time": "2024-09-28T17:37:09.247Z"
   },
   {
    "duration": 473,
    "start_time": "2024-09-28T17:37:09.252Z"
   },
   {
    "duration": 2004,
    "start_time": "2024-09-28T17:37:09.727Z"
   },
   {
    "duration": 3,
    "start_time": "2024-09-28T17:37:11.807Z"
   },
   {
    "duration": 119,
    "start_time": "2024-09-28T17:37:11.812Z"
   },
   {
    "duration": 0,
    "start_time": "2024-09-28T17:37:11.934Z"
   },
   {
    "duration": 0,
    "start_time": "2024-09-28T17:37:11.935Z"
   },
   {
    "duration": 0,
    "start_time": "2024-09-28T17:37:11.937Z"
   },
   {
    "duration": 0,
    "start_time": "2024-09-28T17:37:11.938Z"
   },
   {
    "duration": 0,
    "start_time": "2024-09-28T17:37:11.940Z"
   },
   {
    "duration": 1337,
    "start_time": "2024-09-28T17:37:32.116Z"
   },
   {
    "duration": 4,
    "start_time": "2024-09-28T17:37:33.455Z"
   },
   {
    "duration": 479,
    "start_time": "2024-09-28T17:37:33.461Z"
   },
   {
    "duration": 49,
    "start_time": "2024-09-28T17:39:57.836Z"
   },
   {
    "duration": 5271,
    "start_time": "2024-09-28T17:40:04.886Z"
   },
   {
    "duration": 2603,
    "start_time": "2024-09-28T17:40:10.160Z"
   },
   {
    "duration": 4843,
    "start_time": "2024-09-28T17:40:12.765Z"
   },
   {
    "duration": 1321,
    "start_time": "2024-09-28T17:40:17.611Z"
   },
   {
    "duration": 34,
    "start_time": "2024-09-28T17:40:18.934Z"
   },
   {
    "duration": 162,
    "start_time": "2024-09-28T17:40:18.969Z"
   },
   {
    "duration": 4,
    "start_time": "2024-09-28T17:40:19.132Z"
   },
   {
    "duration": 2284,
    "start_time": "2024-09-28T17:40:19.137Z"
   },
   {
    "duration": 4,
    "start_time": "2024-09-28T17:40:21.423Z"
   },
   {
    "duration": 40516,
    "start_time": "2024-09-28T17:40:21.429Z"
   },
   {
    "duration": 15,
    "start_time": "2024-09-28T17:41:01.947Z"
   },
   {
    "duration": 27,
    "start_time": "2024-09-28T17:41:01.964Z"
   },
   {
    "duration": 376,
    "start_time": "2024-09-28T17:41:01.993Z"
   },
   {
    "duration": 87,
    "start_time": "2024-09-28T17:41:02.371Z"
   },
   {
    "duration": 57,
    "start_time": "2024-09-28T17:41:02.461Z"
   },
   {
    "duration": 11,
    "start_time": "2024-09-28T17:41:02.520Z"
   },
   {
    "duration": 32,
    "start_time": "2024-09-28T17:41:02.532Z"
   },
   {
    "duration": 27,
    "start_time": "2024-09-28T17:41:02.566Z"
   },
   {
    "duration": 17,
    "start_time": "2024-09-28T17:41:02.595Z"
   },
   {
    "duration": 52,
    "start_time": "2024-09-28T17:41:02.613Z"
   },
   {
    "duration": 30,
    "start_time": "2024-09-28T17:41:02.667Z"
   },
   {
    "duration": 16,
    "start_time": "2024-09-28T17:41:02.699Z"
   },
   {
    "duration": 47,
    "start_time": "2024-09-28T17:41:02.717Z"
   },
   {
    "duration": 35,
    "start_time": "2024-09-28T17:41:02.766Z"
   },
   {
    "duration": 50451,
    "start_time": "2024-09-28T17:41:02.803Z"
   },
   {
    "duration": 3,
    "start_time": "2024-09-28T17:41:53.256Z"
   },
   {
    "duration": 630,
    "start_time": "2024-09-28T17:41:53.261Z"
   },
   {
    "duration": 4,
    "start_time": "2024-09-28T17:41:53.894Z"
   },
   {
    "duration": 94,
    "start_time": "2024-09-28T17:41:53.900Z"
   },
   {
    "duration": 8103,
    "start_time": "2024-09-28T17:41:54.005Z"
   },
   {
    "duration": 3,
    "start_time": "2024-09-28T17:42:02.110Z"
   },
   {
    "duration": 5015,
    "start_time": "2024-09-28T17:43:26.434Z"
   },
   {
    "duration": 2522,
    "start_time": "2024-09-28T17:43:31.451Z"
   },
   {
    "duration": 4904,
    "start_time": "2024-09-28T17:43:33.976Z"
   },
   {
    "duration": 1289,
    "start_time": "2024-09-28T17:43:38.882Z"
   },
   {
    "duration": 40,
    "start_time": "2024-09-28T17:43:40.174Z"
   },
   {
    "duration": 146,
    "start_time": "2024-09-28T17:43:40.215Z"
   },
   {
    "duration": 4,
    "start_time": "2024-09-28T17:43:40.363Z"
   },
   {
    "duration": 2249,
    "start_time": "2024-09-28T17:43:40.368Z"
   },
   {
    "duration": 4,
    "start_time": "2024-09-28T17:43:42.618Z"
   },
   {
    "duration": 40766,
    "start_time": "2024-09-28T17:43:42.624Z"
   },
   {
    "duration": 15,
    "start_time": "2024-09-28T17:44:23.392Z"
   },
   {
    "duration": 6,
    "start_time": "2024-09-28T17:44:23.409Z"
   },
   {
    "duration": 328,
    "start_time": "2024-09-28T17:44:23.417Z"
   },
   {
    "duration": 83,
    "start_time": "2024-09-28T17:44:23.748Z"
   },
   {
    "duration": 48,
    "start_time": "2024-09-28T17:44:23.834Z"
   },
   {
    "duration": 28,
    "start_time": "2024-09-28T17:44:23.884Z"
   },
   {
    "duration": 24,
    "start_time": "2024-09-28T17:44:23.914Z"
   },
   {
    "duration": 8,
    "start_time": "2024-09-28T17:44:23.940Z"
   },
   {
    "duration": 7,
    "start_time": "2024-09-28T17:44:23.950Z"
   },
   {
    "duration": 3,
    "start_time": "2024-09-28T17:44:23.959Z"
   },
   {
    "duration": 43,
    "start_time": "2024-09-28T17:44:23.964Z"
   },
   {
    "duration": 6,
    "start_time": "2024-09-28T17:44:24.009Z"
   },
   {
    "duration": 12,
    "start_time": "2024-09-28T17:44:24.017Z"
   },
   {
    "duration": 9,
    "start_time": "2024-09-28T17:44:24.030Z"
   },
   {
    "duration": 52303,
    "start_time": "2024-09-28T17:44:24.041Z"
   },
   {
    "duration": 3,
    "start_time": "2024-09-28T17:45:16.345Z"
   },
   {
    "duration": 663,
    "start_time": "2024-09-28T17:45:16.350Z"
   },
   {
    "duration": 4,
    "start_time": "2024-09-28T17:45:17.014Z"
   },
   {
    "duration": 127,
    "start_time": "2024-09-28T17:45:17.020Z"
   },
   {
    "duration": 7876,
    "start_time": "2024-09-28T17:45:17.149Z"
   },
   {
    "duration": 3,
    "start_time": "2024-09-28T17:45:25.027Z"
   },
   {
    "duration": 4911,
    "start_time": "2024-09-28T17:46:40.784Z"
   },
   {
    "duration": 2464,
    "start_time": "2024-09-28T17:46:45.697Z"
   },
   {
    "duration": 4505,
    "start_time": "2024-09-28T17:46:48.164Z"
   },
   {
    "duration": 1292,
    "start_time": "2024-09-28T17:46:52.671Z"
   },
   {
    "duration": 30,
    "start_time": "2024-09-28T17:46:53.965Z"
   },
   {
    "duration": 131,
    "start_time": "2024-09-28T17:46:53.996Z"
   },
   {
    "duration": 3,
    "start_time": "2024-09-28T17:46:54.129Z"
   },
   {
    "duration": 2155,
    "start_time": "2024-09-28T17:46:54.133Z"
   },
   {
    "duration": 4,
    "start_time": "2024-09-28T17:46:56.289Z"
   },
   {
    "duration": 38560,
    "start_time": "2024-09-28T17:46:56.294Z"
   },
   {
    "duration": 11,
    "start_time": "2024-09-28T17:47:34.856Z"
   },
   {
    "duration": 29,
    "start_time": "2024-09-28T17:47:34.869Z"
   },
   {
    "duration": 330,
    "start_time": "2024-09-28T17:47:34.900Z"
   },
   {
    "duration": 84,
    "start_time": "2024-09-28T17:47:35.233Z"
   },
   {
    "duration": 48,
    "start_time": "2024-09-28T17:47:35.319Z"
   },
   {
    "duration": 13,
    "start_time": "2024-09-28T17:47:35.369Z"
   },
   {
    "duration": 39,
    "start_time": "2024-09-28T17:47:35.384Z"
   },
   {
    "duration": 5,
    "start_time": "2024-09-28T17:47:35.426Z"
   },
   {
    "duration": 13,
    "start_time": "2024-09-28T17:47:35.433Z"
   },
   {
    "duration": 21,
    "start_time": "2024-09-28T17:47:35.448Z"
   },
   {
    "duration": 19,
    "start_time": "2024-09-28T17:47:35.470Z"
   },
   {
    "duration": 5,
    "start_time": "2024-09-28T17:47:35.491Z"
   },
   {
    "duration": 8,
    "start_time": "2024-09-28T17:47:35.497Z"
   },
   {
    "duration": 32,
    "start_time": "2024-09-28T17:47:35.506Z"
   },
   {
    "duration": 47605,
    "start_time": "2024-09-28T17:47:35.540Z"
   },
   {
    "duration": 3,
    "start_time": "2024-09-28T17:48:23.146Z"
   },
   {
    "duration": 586,
    "start_time": "2024-09-28T17:48:23.151Z"
   },
   {
    "duration": 4,
    "start_time": "2024-09-28T17:48:23.739Z"
   },
   {
    "duration": 119,
    "start_time": "2024-09-28T17:48:23.745Z"
   },
   {
    "duration": 7952,
    "start_time": "2024-09-28T17:48:23.866Z"
   },
   {
    "duration": 3,
    "start_time": "2024-09-28T17:48:31.820Z"
   },
   {
    "duration": 990809,
    "start_time": "2024-09-28T17:48:31.825Z"
   },
   {
    "duration": 295501,
    "start_time": "2024-09-28T18:05:02.636Z"
   },
   {
    "duration": 382,
    "start_time": "2024-09-28T18:09:58.139Z"
   },
   {
    "duration": 0,
    "start_time": "2024-09-28T18:09:58.523Z"
   },
   {
    "duration": 0,
    "start_time": "2024-09-28T18:09:58.524Z"
   },
   {
    "duration": 0,
    "start_time": "2024-09-28T18:09:58.525Z"
   },
   {
    "duration": 9,
    "start_time": "2024-09-28T18:10:02.475Z"
   },
   {
    "duration": 4,
    "start_time": "2024-09-28T18:10:03.650Z"
   },
   {
    "duration": 5,
    "start_time": "2024-09-28T18:10:08.078Z"
   },
   {
    "duration": 4935,
    "start_time": "2024-09-28T18:10:13.773Z"
   },
   {
    "duration": 53,
    "start_time": "2024-09-28T18:15:18.030Z"
   },
   {
    "duration": 20,
    "start_time": "2024-09-28T18:15:33.470Z"
   },
   {
    "duration": 25,
    "start_time": "2024-09-28T18:16:53.301Z"
   },
   {
    "duration": 55,
    "start_time": "2024-09-28T18:17:09.253Z"
   },
   {
    "duration": 38,
    "start_time": "2024-09-28T18:17:30.773Z"
   },
   {
    "duration": 35,
    "start_time": "2024-09-28T18:17:35.221Z"
   },
   {
    "duration": 35,
    "start_time": "2024-09-28T18:17:46.620Z"
   },
   {
    "duration": 159,
    "start_time": "2024-09-28T18:17:47.339Z"
   },
   {
    "duration": 20,
    "start_time": "2024-09-28T18:18:12.645Z"
   },
   {
    "duration": 32,
    "start_time": "2024-09-28T18:18:54.460Z"
   },
   {
    "duration": 146,
    "start_time": "2024-09-28T18:18:55.693Z"
   },
   {
    "duration": 2859,
    "start_time": "2024-09-28T18:19:06.174Z"
   },
   {
    "duration": 3,
    "start_time": "2024-09-28T18:20:37.371Z"
   },
   {
    "duration": 2485,
    "start_time": "2024-09-28T18:20:38.471Z"
   },
   {
    "duration": 4,
    "start_time": "2024-09-28T18:20:59.895Z"
   },
   {
    "duration": 40698,
    "start_time": "2024-09-28T18:21:00.648Z"
   },
   {
    "duration": 12,
    "start_time": "2024-09-28T18:21:41.348Z"
   },
   {
    "duration": 9,
    "start_time": "2024-09-28T18:21:41.362Z"
   },
   {
    "duration": 338,
    "start_time": "2024-09-28T18:21:41.373Z"
   },
   {
    "duration": 34,
    "start_time": "2024-09-28T18:21:41.712Z"
   },
   {
    "duration": 5109,
    "start_time": "2024-09-28T18:26:09.480Z"
   },
   {
    "duration": 2555,
    "start_time": "2024-09-28T18:26:14.592Z"
   },
   {
    "duration": 4783,
    "start_time": "2024-09-28T18:26:17.150Z"
   },
   {
    "duration": 1405,
    "start_time": "2024-09-28T18:26:21.936Z"
   },
   {
    "duration": 35,
    "start_time": "2024-09-28T18:26:23.342Z"
   },
   {
    "duration": 134,
    "start_time": "2024-09-28T18:26:23.379Z"
   },
   {
    "duration": 3,
    "start_time": "2024-09-28T18:26:23.515Z"
   },
   {
    "duration": 2395,
    "start_time": "2024-09-28T18:26:23.520Z"
   },
   {
    "duration": 3,
    "start_time": "2024-09-28T18:26:25.917Z"
   },
   {
    "duration": 40468,
    "start_time": "2024-09-28T18:26:25.923Z"
   },
   {
    "duration": 13,
    "start_time": "2024-09-28T18:27:06.393Z"
   },
   {
    "duration": 10,
    "start_time": "2024-09-28T18:27:06.408Z"
   },
   {
    "duration": 363,
    "start_time": "2024-09-28T18:27:06.420Z"
   },
   {
    "duration": 39,
    "start_time": "2024-09-28T18:27:35.043Z"
   },
   {
    "duration": 346,
    "start_time": "2024-09-28T18:27:36.693Z"
   },
   {
    "duration": 64,
    "start_time": "2024-09-28T18:28:54.744Z"
   },
   {
    "duration": 91,
    "start_time": "2024-09-28T18:30:40.726Z"
   },
   {
    "duration": 34,
    "start_time": "2024-09-28T18:32:06.372Z"
   },
   {
    "duration": 69,
    "start_time": "2024-09-28T18:32:57.378Z"
   },
   {
    "duration": 39755,
    "start_time": "2024-09-28T18:33:01.009Z"
   },
   {
    "duration": 22,
    "start_time": "2024-09-28T18:33:56.380Z"
   },
   {
    "duration": 4,
    "start_time": "2024-09-28T18:34:14.249Z"
   },
   {
    "duration": 19,
    "start_time": "2024-09-28T18:35:25.731Z"
   },
   {
    "duration": 5013,
    "start_time": "2024-09-28T18:37:51.468Z"
   },
   {
    "duration": 2562,
    "start_time": "2024-09-28T18:37:56.484Z"
   },
   {
    "duration": 2894,
    "start_time": "2024-09-28T18:37:59.048Z"
   },
   {
    "duration": 1337,
    "start_time": "2024-09-28T18:38:01.945Z"
   },
   {
    "duration": 33,
    "start_time": "2024-09-28T18:38:03.283Z"
   },
   {
    "duration": 139,
    "start_time": "2024-09-28T18:38:03.318Z"
   },
   {
    "duration": 3,
    "start_time": "2024-09-28T18:38:03.459Z"
   },
   {
    "duration": 2467,
    "start_time": "2024-09-28T18:38:03.464Z"
   },
   {
    "duration": 3,
    "start_time": "2024-09-28T18:38:05.933Z"
   },
   {
    "duration": 39555,
    "start_time": "2024-09-28T18:38:05.939Z"
   },
   {
    "duration": 12,
    "start_time": "2024-09-28T18:38:45.496Z"
   },
   {
    "duration": 25,
    "start_time": "2024-09-28T18:38:45.510Z"
   },
   {
    "duration": 313,
    "start_time": "2024-09-28T18:38:45.537Z"
   },
   {
    "duration": 40474,
    "start_time": "2024-09-28T18:38:45.852Z"
   },
   {
    "duration": 50,
    "start_time": "2024-09-28T18:41:49.294Z"
   },
   {
    "duration": 8,
    "start_time": "2024-09-28T18:41:54.746Z"
   },
   {
    "duration": 4998,
    "start_time": "2024-09-28T18:41:59.875Z"
   },
   {
    "duration": 2559,
    "start_time": "2024-09-28T18:42:04.876Z"
   },
   {
    "duration": 3042,
    "start_time": "2024-09-28T18:42:07.438Z"
   },
   {
    "duration": 1340,
    "start_time": "2024-09-28T18:42:10.482Z"
   },
   {
    "duration": 34,
    "start_time": "2024-09-28T18:42:11.824Z"
   },
   {
    "duration": 175,
    "start_time": "2024-09-28T18:42:11.860Z"
   },
   {
    "duration": 4,
    "start_time": "2024-09-28T18:42:12.037Z"
   },
   {
    "duration": 2500,
    "start_time": "2024-09-28T18:42:12.044Z"
   },
   {
    "duration": 3,
    "start_time": "2024-09-28T18:42:14.546Z"
   },
   {
    "duration": 41264,
    "start_time": "2024-09-28T18:42:14.552Z"
   },
   {
    "duration": 11,
    "start_time": "2024-09-28T18:42:55.818Z"
   },
   {
    "duration": 8,
    "start_time": "2024-09-28T18:42:55.831Z"
   },
   {
    "duration": 354,
    "start_time": "2024-09-28T18:42:55.840Z"
   },
   {
    "duration": 39836,
    "start_time": "2024-09-28T18:42:56.195Z"
   },
   {
    "duration": 358,
    "start_time": "2024-09-28T18:43:42.795Z"
   },
   {
    "duration": 83,
    "start_time": "2024-09-28T18:44:36.606Z"
   },
   {
    "duration": 3,
    "start_time": "2024-09-28T18:44:38.554Z"
   },
   {
    "duration": 4,
    "start_time": "2024-09-28T18:44:47.390Z"
   },
   {
    "duration": 3,
    "start_time": "2024-09-28T18:45:10.101Z"
   },
   {
    "duration": 23,
    "start_time": "2024-09-28T18:45:17.204Z"
   },
   {
    "duration": 57,
    "start_time": "2024-09-28T18:46:37.058Z"
   },
   {
    "duration": 63,
    "start_time": "2024-09-28T18:47:21.507Z"
   },
   {
    "duration": 17,
    "start_time": "2024-09-28T18:48:07.517Z"
   },
   {
    "duration": 10890,
    "start_time": "2024-09-28T18:48:48.396Z"
   },
   {
    "duration": 39961,
    "start_time": "2024-09-28T18:49:30.575Z"
   },
   {
    "duration": 3,
    "start_time": "2024-09-28T18:50:10.539Z"
   },
   {
    "duration": 202,
    "start_time": "2024-09-28T18:50:10.545Z"
   },
   {
    "duration": 6255,
    "start_time": "2024-09-28T18:54:56.396Z"
   },
   {
    "duration": 37,
    "start_time": "2024-09-28T18:56:04.123Z"
   },
   {
    "duration": 2,
    "start_time": "2024-09-28T18:56:40.503Z"
   },
   {
    "duration": 6616,
    "start_time": "2024-09-28T18:56:40.507Z"
   },
   {
    "duration": 270,
    "start_time": "2024-09-28T18:56:47.126Z"
   },
   {
    "duration": 941,
    "start_time": "2024-09-28T18:56:47.397Z"
   },
   {
    "duration": 37,
    "start_time": "2024-09-28T18:56:48.340Z"
   },
   {
    "duration": 171,
    "start_time": "2024-09-28T18:56:48.379Z"
   },
   {
    "duration": 3,
    "start_time": "2024-09-28T18:56:48.552Z"
   },
   {
    "duration": 2327,
    "start_time": "2024-09-28T18:56:48.556Z"
   },
   {
    "duration": 3,
    "start_time": "2024-09-28T18:56:50.885Z"
   },
   {
    "duration": 39519,
    "start_time": "2024-09-28T18:56:50.890Z"
   },
   {
    "duration": 11,
    "start_time": "2024-09-28T18:57:30.412Z"
   },
   {
    "duration": 34,
    "start_time": "2024-09-28T18:57:30.425Z"
   },
   {
    "duration": 365,
    "start_time": "2024-09-28T18:57:30.461Z"
   },
   {
    "duration": 39331,
    "start_time": "2024-09-28T18:57:30.828Z"
   },
   {
    "duration": 3,
    "start_time": "2024-09-28T18:58:10.161Z"
   },
   {
    "duration": 186,
    "start_time": "2024-09-28T18:58:10.166Z"
   },
   {
    "duration": 0,
    "start_time": "2024-09-28T18:58:10.355Z"
   },
   {
    "duration": 0,
    "start_time": "2024-09-28T18:58:10.356Z"
   },
   {
    "duration": 0,
    "start_time": "2024-09-28T18:58:10.358Z"
   },
   {
    "duration": 0,
    "start_time": "2024-09-28T18:58:10.359Z"
   },
   {
    "duration": 0,
    "start_time": "2024-09-28T18:58:10.361Z"
   },
   {
    "duration": 0,
    "start_time": "2024-09-28T18:58:10.362Z"
   },
   {
    "duration": 0,
    "start_time": "2024-09-28T18:58:10.364Z"
   },
   {
    "duration": 0,
    "start_time": "2024-09-28T18:58:10.365Z"
   },
   {
    "duration": 0,
    "start_time": "2024-09-28T18:58:10.366Z"
   },
   {
    "duration": 0,
    "start_time": "2024-09-28T18:58:10.368Z"
   },
   {
    "duration": 0,
    "start_time": "2024-09-28T18:58:10.369Z"
   },
   {
    "duration": 0,
    "start_time": "2024-09-28T18:58:10.370Z"
   },
   {
    "duration": 0,
    "start_time": "2024-09-28T18:58:10.371Z"
   },
   {
    "duration": 0,
    "start_time": "2024-09-28T18:58:10.404Z"
   },
   {
    "duration": 0,
    "start_time": "2024-09-28T18:58:10.406Z"
   },
   {
    "duration": 0,
    "start_time": "2024-09-28T18:58:10.408Z"
   },
   {
    "duration": 0,
    "start_time": "2024-09-28T18:58:10.410Z"
   },
   {
    "duration": 0,
    "start_time": "2024-09-28T18:58:10.411Z"
   },
   {
    "duration": 0,
    "start_time": "2024-09-28T18:58:10.412Z"
   },
   {
    "duration": 0,
    "start_time": "2024-09-28T18:58:10.413Z"
   },
   {
    "duration": 0,
    "start_time": "2024-09-28T18:58:10.415Z"
   },
   {
    "duration": 0,
    "start_time": "2024-09-28T18:58:10.416Z"
   },
   {
    "duration": 0,
    "start_time": "2024-09-28T18:58:10.417Z"
   },
   {
    "duration": 0,
    "start_time": "2024-09-28T18:58:10.418Z"
   },
   {
    "duration": 0,
    "start_time": "2024-09-28T18:58:10.419Z"
   },
   {
    "duration": 3337,
    "start_time": "2024-09-28T19:02:41.602Z"
   },
   {
    "duration": 2085,
    "start_time": "2024-09-28T19:03:00.070Z"
   },
   {
    "duration": 73,
    "start_time": "2024-09-28T19:03:58.683Z"
   },
   {
    "duration": 4,
    "start_time": "2024-09-28T19:06:34.923Z"
   },
   {
    "duration": 4,
    "start_time": "2024-09-28T19:09:33.505Z"
   },
   {
    "duration": 6360,
    "start_time": "2024-09-28T19:09:33.510Z"
   },
   {
    "duration": 3045,
    "start_time": "2024-09-28T19:09:39.873Z"
   },
   {
    "duration": 949,
    "start_time": "2024-09-28T19:09:42.920Z"
   },
   {
    "duration": 38,
    "start_time": "2024-09-28T19:09:43.871Z"
   },
   {
    "duration": 135,
    "start_time": "2024-09-28T19:09:43.911Z"
   },
   {
    "duration": 3,
    "start_time": "2024-09-28T19:09:44.047Z"
   },
   {
    "duration": 2489,
    "start_time": "2024-09-28T19:09:44.052Z"
   },
   {
    "duration": 3,
    "start_time": "2024-09-28T19:09:46.543Z"
   },
   {
    "duration": 39632,
    "start_time": "2024-09-28T19:09:46.547Z"
   },
   {
    "duration": 10,
    "start_time": "2024-09-28T19:10:26.183Z"
   },
   {
    "duration": 16,
    "start_time": "2024-09-28T19:10:26.195Z"
   },
   {
    "duration": 333,
    "start_time": "2024-09-28T19:10:26.212Z"
   },
   {
    "duration": 38660,
    "start_time": "2024-09-28T19:10:26.547Z"
   },
   {
    "duration": 168,
    "start_time": "2024-09-28T19:11:05.209Z"
   },
   {
    "duration": 63,
    "start_time": "2024-09-28T19:11:05.379Z"
   },
   {
    "duration": 351,
    "start_time": "2024-09-28T19:11:05.444Z"
   },
   {
    "duration": 0,
    "start_time": "2024-09-28T19:11:05.798Z"
   },
   {
    "duration": 0,
    "start_time": "2024-09-28T19:11:05.799Z"
   },
   {
    "duration": 0,
    "start_time": "2024-09-28T19:11:05.800Z"
   },
   {
    "duration": 0,
    "start_time": "2024-09-28T19:11:05.801Z"
   },
   {
    "duration": 0,
    "start_time": "2024-09-28T19:11:05.802Z"
   },
   {
    "duration": 0,
    "start_time": "2024-09-28T19:11:05.805Z"
   },
   {
    "duration": 0,
    "start_time": "2024-09-28T19:11:05.806Z"
   },
   {
    "duration": 0,
    "start_time": "2024-09-28T19:11:05.807Z"
   },
   {
    "duration": 0,
    "start_time": "2024-09-28T19:11:05.809Z"
   },
   {
    "duration": 0,
    "start_time": "2024-09-28T19:11:05.810Z"
   },
   {
    "duration": 0,
    "start_time": "2024-09-28T19:11:05.811Z"
   },
   {
    "duration": 0,
    "start_time": "2024-09-28T19:11:05.812Z"
   },
   {
    "duration": 0,
    "start_time": "2024-09-28T19:11:05.813Z"
   },
   {
    "duration": 0,
    "start_time": "2024-09-28T19:11:05.815Z"
   },
   {
    "duration": 0,
    "start_time": "2024-09-28T19:11:05.816Z"
   },
   {
    "duration": 0,
    "start_time": "2024-09-28T19:11:05.818Z"
   },
   {
    "duration": 0,
    "start_time": "2024-09-28T19:11:05.820Z"
   },
   {
    "duration": 0,
    "start_time": "2024-09-28T19:11:05.821Z"
   },
   {
    "duration": 0,
    "start_time": "2024-09-28T19:11:05.822Z"
   },
   {
    "duration": 0,
    "start_time": "2024-09-28T19:11:05.824Z"
   },
   {
    "duration": 0,
    "start_time": "2024-09-28T19:11:05.825Z"
   },
   {
    "duration": 0,
    "start_time": "2024-09-28T19:11:05.827Z"
   },
   {
    "duration": 1,
    "start_time": "2024-09-28T19:11:05.828Z"
   },
   {
    "duration": 0,
    "start_time": "2024-09-28T19:11:05.830Z"
   },
   {
    "duration": 13,
    "start_time": "2024-09-28T19:14:11.840Z"
   },
   {
    "duration": 177,
    "start_time": "2024-09-28T19:14:16.500Z"
   },
   {
    "duration": 4,
    "start_time": "2024-09-28T19:14:34.220Z"
   },
   {
    "duration": 70,
    "start_time": "2024-09-28T19:15:07.980Z"
   },
   {
    "duration": 59,
    "start_time": "2024-09-28T19:15:15.679Z"
   },
   {
    "duration": 95,
    "start_time": "2024-09-28T19:15:30.269Z"
   },
   {
    "duration": 66,
    "start_time": "2024-09-28T19:15:32.640Z"
   },
   {
    "duration": 68,
    "start_time": "2024-09-28T19:15:40.440Z"
   },
   {
    "duration": 12,
    "start_time": "2024-09-28T19:16:08.381Z"
   },
   {
    "duration": 4,
    "start_time": "2024-09-28T19:16:47.349Z"
   },
   {
    "duration": 269,
    "start_time": "2024-09-28T19:16:57.257Z"
   },
   {
    "duration": 251,
    "start_time": "2024-09-28T19:16:58.877Z"
   },
   {
    "duration": 178,
    "start_time": "2024-09-28T19:19:35.779Z"
   },
   {
    "duration": 42,
    "start_time": "2024-09-28T19:21:57.520Z"
   },
   {
    "duration": 5,
    "start_time": "2024-09-28T19:22:21.097Z"
   },
   {
    "duration": 20,
    "start_time": "2024-09-28T19:22:32.233Z"
   },
   {
    "duration": 20,
    "start_time": "2024-09-28T19:23:01.638Z"
   },
   {
    "duration": 29,
    "start_time": "2024-09-28T19:23:16.315Z"
   },
   {
    "duration": 38,
    "start_time": "2024-09-28T19:23:42.767Z"
   },
   {
    "duration": 21,
    "start_time": "2024-09-28T19:23:44.257Z"
   },
   {
    "duration": 263,
    "start_time": "2024-09-28T19:23:44.985Z"
   },
   {
    "duration": 40308,
    "start_time": "2024-09-28T19:24:12.086Z"
   },
   {
    "duration": 15,
    "start_time": "2024-09-28T19:24:52.396Z"
   },
   {
    "duration": 0,
    "start_time": "2024-09-28T19:24:52.413Z"
   },
   {
    "duration": 2,
    "start_time": "2024-09-28T19:25:03.865Z"
   },
   {
    "duration": 6770,
    "start_time": "2024-09-28T19:25:03.870Z"
   },
   {
    "duration": 175,
    "start_time": "2024-09-28T19:25:10.645Z"
   },
   {
    "duration": 987,
    "start_time": "2024-09-28T19:25:10.823Z"
   },
   {
    "duration": 32,
    "start_time": "2024-09-28T19:25:11.812Z"
   },
   {
    "duration": 139,
    "start_time": "2024-09-28T19:25:11.845Z"
   },
   {
    "duration": 4,
    "start_time": "2024-09-28T19:25:11.986Z"
   },
   {
    "duration": 2641,
    "start_time": "2024-09-28T19:25:11.992Z"
   },
   {
    "duration": 4,
    "start_time": "2024-09-28T19:25:14.634Z"
   },
   {
    "duration": 41269,
    "start_time": "2024-09-28T19:25:14.640Z"
   },
   {
    "duration": 10,
    "start_time": "2024-09-28T19:25:55.910Z"
   },
   {
    "duration": 7,
    "start_time": "2024-09-28T19:25:55.922Z"
   },
   {
    "duration": 355,
    "start_time": "2024-09-28T19:25:55.931Z"
   },
   {
    "duration": 39,
    "start_time": "2024-09-28T19:25:56.287Z"
   },
   {
    "duration": 24,
    "start_time": "2024-09-28T19:25:56.328Z"
   },
   {
    "duration": 0,
    "start_time": "2024-09-28T19:25:56.353Z"
   },
   {
    "duration": 0,
    "start_time": "2024-09-28T19:25:56.366Z"
   },
   {
    "duration": 0,
    "start_time": "2024-09-28T19:25:56.367Z"
   },
   {
    "duration": 0,
    "start_time": "2024-09-28T19:25:56.368Z"
   },
   {
    "duration": 0,
    "start_time": "2024-09-28T19:25:56.370Z"
   },
   {
    "duration": 0,
    "start_time": "2024-09-28T19:25:56.371Z"
   },
   {
    "duration": 0,
    "start_time": "2024-09-28T19:25:56.372Z"
   },
   {
    "duration": 0,
    "start_time": "2024-09-28T19:25:56.374Z"
   },
   {
    "duration": 0,
    "start_time": "2024-09-28T19:25:56.405Z"
   },
   {
    "duration": 0,
    "start_time": "2024-09-28T19:25:56.406Z"
   },
   {
    "duration": 0,
    "start_time": "2024-09-28T19:25:56.407Z"
   },
   {
    "duration": 0,
    "start_time": "2024-09-28T19:25:56.409Z"
   },
   {
    "duration": 0,
    "start_time": "2024-09-28T19:25:56.410Z"
   },
   {
    "duration": 0,
    "start_time": "2024-09-28T19:25:56.412Z"
   },
   {
    "duration": 0,
    "start_time": "2024-09-28T19:25:56.413Z"
   },
   {
    "duration": 0,
    "start_time": "2024-09-28T19:25:56.415Z"
   },
   {
    "duration": 0,
    "start_time": "2024-09-28T19:25:56.416Z"
   },
   {
    "duration": 0,
    "start_time": "2024-09-28T19:25:56.417Z"
   },
   {
    "duration": 0,
    "start_time": "2024-09-28T19:25:56.418Z"
   },
   {
    "duration": 0,
    "start_time": "2024-09-28T19:25:56.419Z"
   },
   {
    "duration": 0,
    "start_time": "2024-09-28T19:25:56.421Z"
   },
   {
    "duration": 0,
    "start_time": "2024-09-28T19:25:56.422Z"
   },
   {
    "duration": 0,
    "start_time": "2024-09-28T19:25:56.423Z"
   },
   {
    "duration": 0,
    "start_time": "2024-09-28T19:25:56.424Z"
   },
   {
    "duration": 0,
    "start_time": "2024-09-28T19:25:56.425Z"
   },
   {
    "duration": 4,
    "start_time": "2024-09-28T19:26:23.562Z"
   },
   {
    "duration": 6513,
    "start_time": "2024-09-28T19:26:23.570Z"
   },
   {
    "duration": 3146,
    "start_time": "2024-09-28T19:26:30.086Z"
   },
   {
    "duration": 979,
    "start_time": "2024-09-28T19:26:33.233Z"
   },
   {
    "duration": 35,
    "start_time": "2024-09-28T19:26:34.215Z"
   },
   {
    "duration": 141,
    "start_time": "2024-09-28T19:26:34.251Z"
   },
   {
    "duration": 3,
    "start_time": "2024-09-28T19:26:34.393Z"
   },
   {
    "duration": 2589,
    "start_time": "2024-09-28T19:26:34.405Z"
   },
   {
    "duration": 11,
    "start_time": "2024-09-28T19:26:36.995Z"
   },
   {
    "duration": 39365,
    "start_time": "2024-09-28T19:26:37.007Z"
   },
   {
    "duration": 9,
    "start_time": "2024-09-28T19:27:16.375Z"
   },
   {
    "duration": 19,
    "start_time": "2024-09-28T19:27:16.386Z"
   },
   {
    "duration": 348,
    "start_time": "2024-09-28T19:27:16.407Z"
   },
   {
    "duration": 38,
    "start_time": "2024-09-28T19:27:16.757Z"
   },
   {
    "duration": 223,
    "start_time": "2024-09-28T19:27:16.797Z"
   },
   {
    "duration": 0,
    "start_time": "2024-09-28T19:27:17.021Z"
   },
   {
    "duration": 0,
    "start_time": "2024-09-28T19:27:17.023Z"
   },
   {
    "duration": 0,
    "start_time": "2024-09-28T19:27:17.024Z"
   },
   {
    "duration": 0,
    "start_time": "2024-09-28T19:27:17.025Z"
   },
   {
    "duration": 0,
    "start_time": "2024-09-28T19:27:17.026Z"
   },
   {
    "duration": 0,
    "start_time": "2024-09-28T19:27:17.027Z"
   },
   {
    "duration": 0,
    "start_time": "2024-09-28T19:27:17.029Z"
   },
   {
    "duration": 0,
    "start_time": "2024-09-28T19:27:17.030Z"
   },
   {
    "duration": 0,
    "start_time": "2024-09-28T19:27:17.031Z"
   },
   {
    "duration": 0,
    "start_time": "2024-09-28T19:27:17.033Z"
   },
   {
    "duration": 0,
    "start_time": "2024-09-28T19:27:17.033Z"
   },
   {
    "duration": 0,
    "start_time": "2024-09-28T19:27:17.035Z"
   },
   {
    "duration": 0,
    "start_time": "2024-09-28T19:27:17.036Z"
   },
   {
    "duration": 0,
    "start_time": "2024-09-28T19:27:17.037Z"
   },
   {
    "duration": 0,
    "start_time": "2024-09-28T19:27:17.038Z"
   },
   {
    "duration": 0,
    "start_time": "2024-09-28T19:27:17.039Z"
   },
   {
    "duration": 0,
    "start_time": "2024-09-28T19:27:17.040Z"
   },
   {
    "duration": 0,
    "start_time": "2024-09-28T19:27:17.041Z"
   },
   {
    "duration": 0,
    "start_time": "2024-09-28T19:27:17.042Z"
   },
   {
    "duration": 0,
    "start_time": "2024-09-28T19:27:17.044Z"
   },
   {
    "duration": 0,
    "start_time": "2024-09-28T19:27:17.045Z"
   },
   {
    "duration": 0,
    "start_time": "2024-09-28T19:27:17.046Z"
   },
   {
    "duration": 0,
    "start_time": "2024-09-28T19:27:17.047Z"
   },
   {
    "duration": 0,
    "start_time": "2024-09-28T19:27:17.048Z"
   },
   {
    "duration": 0,
    "start_time": "2024-09-28T19:27:17.049Z"
   },
   {
    "duration": 38478,
    "start_time": "2024-09-28T19:28:09.919Z"
   },
   {
    "duration": 15,
    "start_time": "2024-09-28T19:28:48.398Z"
   },
   {
    "duration": 38981,
    "start_time": "2024-09-28T19:29:14.926Z"
   },
   {
    "duration": 98,
    "start_time": "2024-09-28T19:30:35.904Z"
   },
   {
    "duration": 74,
    "start_time": "2024-09-28T19:31:31.054Z"
   },
   {
    "duration": 61,
    "start_time": "2024-09-28T19:31:35.153Z"
   },
   {
    "duration": 262,
    "start_time": "2024-09-28T19:31:36.143Z"
   },
   {
    "duration": 116,
    "start_time": "2024-09-28T19:31:38.273Z"
   },
   {
    "duration": 45,
    "start_time": "2024-09-28T19:31:58.704Z"
   },
   {
    "duration": 46,
    "start_time": "2024-09-28T19:31:59.344Z"
   },
   {
    "duration": 138,
    "start_time": "2024-09-28T19:31:59.903Z"
   },
   {
    "duration": 54,
    "start_time": "2024-09-28T19:32:17.925Z"
   },
   {
    "duration": 57,
    "start_time": "2024-09-28T19:32:18.584Z"
   },
   {
    "duration": 125,
    "start_time": "2024-09-28T19:32:19.294Z"
   },
   {
    "duration": 19,
    "start_time": "2024-09-28T19:32:32.250Z"
   },
   {
    "duration": 113,
    "start_time": "2024-09-28T19:32:32.744Z"
   },
   {
    "duration": 87,
    "start_time": "2024-09-28T19:32:53.707Z"
   },
   {
    "duration": 11,
    "start_time": "2024-09-28T19:32:57.463Z"
   },
   {
    "duration": 18,
    "start_time": "2024-09-28T19:32:58.672Z"
   },
   {
    "duration": 0,
    "start_time": "2024-09-28T19:32:58.692Z"
   },
   {
    "duration": 48,
    "start_time": "2024-09-28T19:33:16.425Z"
   },
   {
    "duration": 68,
    "start_time": "2024-09-28T19:34:49.392Z"
   },
   {
    "duration": 43,
    "start_time": "2024-09-28T19:35:04.281Z"
   },
   {
    "duration": 63,
    "start_time": "2024-09-28T19:35:45.225Z"
   },
   {
    "duration": 40738,
    "start_time": "2024-09-28T19:36:22.046Z"
   },
   {
    "duration": 26,
    "start_time": "2024-09-28T19:37:02.787Z"
   },
   {
    "duration": 0,
    "start_time": "2024-09-28T19:37:02.815Z"
   },
   {
    "duration": 15,
    "start_time": "2024-09-28T19:38:46.373Z"
   },
   {
    "duration": 40737,
    "start_time": "2024-09-28T19:39:11.735Z"
   },
   {
    "duration": 25,
    "start_time": "2024-09-28T19:40:56.071Z"
   },
   {
    "duration": 17,
    "start_time": "2024-09-28T19:41:01.094Z"
   },
   {
    "duration": 40759,
    "start_time": "2024-09-28T19:41:08.959Z"
   },
   {
    "duration": 4,
    "start_time": "2024-09-28T19:44:20.815Z"
   },
   {
    "duration": 6574,
    "start_time": "2024-09-28T19:44:20.822Z"
   },
   {
    "duration": 3222,
    "start_time": "2024-09-28T19:44:27.398Z"
   },
   {
    "duration": 1426,
    "start_time": "2024-09-28T19:44:30.623Z"
   },
   {
    "duration": 35,
    "start_time": "2024-09-28T19:44:32.051Z"
   },
   {
    "duration": 153,
    "start_time": "2024-09-28T19:44:32.089Z"
   },
   {
    "duration": 3,
    "start_time": "2024-09-28T19:44:32.243Z"
   },
   {
    "duration": 2472,
    "start_time": "2024-09-28T19:44:32.248Z"
   },
   {
    "duration": 3,
    "start_time": "2024-09-28T19:44:34.724Z"
   },
   {
    "duration": 42429,
    "start_time": "2024-09-28T19:44:34.729Z"
   },
   {
    "duration": 11,
    "start_time": "2024-09-28T19:45:17.160Z"
   },
   {
    "duration": 12,
    "start_time": "2024-09-28T19:45:17.172Z"
   },
   {
    "duration": 346,
    "start_time": "2024-09-28T19:45:17.185Z"
   },
   {
    "duration": 1058103,
    "start_time": "2024-09-28T19:45:17.533Z"
   },
   {
    "duration": 472,
    "start_time": "2024-09-28T20:02:55.638Z"
   },
   {
    "duration": 192,
    "start_time": "2024-09-28T20:02:56.113Z"
   },
   {
    "duration": 0,
    "start_time": "2024-09-28T20:02:56.308Z"
   },
   {
    "duration": 0,
    "start_time": "2024-09-28T20:02:56.309Z"
   },
   {
    "duration": 0,
    "start_time": "2024-09-28T20:02:56.311Z"
   },
   {
    "duration": 0,
    "start_time": "2024-09-28T20:02:56.313Z"
   },
   {
    "duration": 0,
    "start_time": "2024-09-28T20:02:56.314Z"
   },
   {
    "duration": 0,
    "start_time": "2024-09-28T20:02:56.316Z"
   },
   {
    "duration": 0,
    "start_time": "2024-09-28T20:02:56.318Z"
   },
   {
    "duration": 0,
    "start_time": "2024-09-28T20:02:56.319Z"
   },
   {
    "duration": 0,
    "start_time": "2024-09-28T20:02:56.320Z"
   },
   {
    "duration": 0,
    "start_time": "2024-09-28T20:02:56.322Z"
   },
   {
    "duration": 0,
    "start_time": "2024-09-28T20:02:56.323Z"
   },
   {
    "duration": 0,
    "start_time": "2024-09-28T20:02:56.325Z"
   },
   {
    "duration": 0,
    "start_time": "2024-09-28T20:02:56.326Z"
   },
   {
    "duration": 0,
    "start_time": "2024-09-28T20:02:56.328Z"
   },
   {
    "duration": 0,
    "start_time": "2024-09-28T20:02:56.329Z"
   },
   {
    "duration": 0,
    "start_time": "2024-09-28T20:02:56.330Z"
   },
   {
    "duration": 0,
    "start_time": "2024-09-28T20:02:56.331Z"
   },
   {
    "duration": 0,
    "start_time": "2024-09-28T20:02:56.332Z"
   },
   {
    "duration": 0,
    "start_time": "2024-09-28T20:02:56.334Z"
   },
   {
    "duration": 0,
    "start_time": "2024-09-28T20:02:56.335Z"
   },
   {
    "duration": 0,
    "start_time": "2024-09-28T20:02:56.336Z"
   },
   {
    "duration": 0,
    "start_time": "2024-09-28T20:02:56.337Z"
   },
   {
    "duration": 0,
    "start_time": "2024-09-28T20:02:56.338Z"
   },
   {
    "duration": 0,
    "start_time": "2024-09-28T20:02:56.340Z"
   },
   {
    "duration": 0,
    "start_time": "2024-09-28T20:02:56.341Z"
   },
   {
    "duration": 44550,
    "start_time": "2024-09-28T20:11:49.160Z"
   },
   {
    "duration": 2272,
    "start_time": "2024-09-28T20:12:33.713Z"
   },
   {
    "duration": 2,
    "start_time": "2024-09-28T20:25:24.217Z"
   },
   {
    "duration": 3,
    "start_time": "2024-09-28T20:28:39.739Z"
   },
   {
    "duration": 6203,
    "start_time": "2024-09-28T20:28:39.744Z"
   },
   {
    "duration": 3054,
    "start_time": "2024-09-28T20:28:45.950Z"
   },
   {
    "duration": 938,
    "start_time": "2024-09-28T20:28:49.006Z"
   },
   {
    "duration": 35,
    "start_time": "2024-09-28T20:28:49.947Z"
   },
   {
    "duration": 144,
    "start_time": "2024-09-28T20:28:49.985Z"
   },
   {
    "duration": 3,
    "start_time": "2024-09-28T20:28:50.131Z"
   },
   {
    "duration": 2460,
    "start_time": "2024-09-28T20:28:50.136Z"
   },
   {
    "duration": 8,
    "start_time": "2024-09-28T20:28:52.597Z"
   },
   {
    "duration": 42093,
    "start_time": "2024-09-28T20:28:52.607Z"
   },
   {
    "duration": 10,
    "start_time": "2024-09-28T20:29:34.703Z"
   },
   {
    "duration": 26,
    "start_time": "2024-09-28T20:29:34.715Z"
   },
   {
    "duration": 371,
    "start_time": "2024-09-28T20:29:34.743Z"
   },
   {
    "duration": 41587,
    "start_time": "2024-09-28T20:29:35.115Z"
   },
   {
    "duration": 2613,
    "start_time": "2024-09-28T20:30:16.704Z"
   },
   {
    "duration": 408,
    "start_time": "2024-09-28T20:30:19.319Z"
   },
   {
    "duration": 0,
    "start_time": "2024-09-28T20:30:19.729Z"
   },
   {
    "duration": 0,
    "start_time": "2024-09-28T20:30:19.731Z"
   },
   {
    "duration": 0,
    "start_time": "2024-09-28T20:30:19.732Z"
   },
   {
    "duration": 0,
    "start_time": "2024-09-28T20:30:19.733Z"
   },
   {
    "duration": 0,
    "start_time": "2024-09-28T20:30:19.735Z"
   },
   {
    "duration": 0,
    "start_time": "2024-09-28T20:30:19.736Z"
   },
   {
    "duration": 0,
    "start_time": "2024-09-28T20:30:19.737Z"
   },
   {
    "duration": 0,
    "start_time": "2024-09-28T20:30:19.738Z"
   },
   {
    "duration": 0,
    "start_time": "2024-09-28T20:30:19.739Z"
   },
   {
    "duration": 0,
    "start_time": "2024-09-28T20:30:19.740Z"
   },
   {
    "duration": 0,
    "start_time": "2024-09-28T20:30:19.740Z"
   },
   {
    "duration": 0,
    "start_time": "2024-09-28T20:30:19.742Z"
   },
   {
    "duration": 0,
    "start_time": "2024-09-28T20:30:19.743Z"
   },
   {
    "duration": 0,
    "start_time": "2024-09-28T20:30:19.744Z"
   },
   {
    "duration": 0,
    "start_time": "2024-09-28T20:30:19.745Z"
   },
   {
    "duration": 0,
    "start_time": "2024-09-28T20:30:19.747Z"
   },
   {
    "duration": 0,
    "start_time": "2024-09-28T20:30:19.748Z"
   },
   {
    "duration": 0,
    "start_time": "2024-09-28T20:30:19.805Z"
   },
   {
    "duration": 0,
    "start_time": "2024-09-28T20:30:19.806Z"
   },
   {
    "duration": 0,
    "start_time": "2024-09-28T20:30:19.808Z"
   },
   {
    "duration": 0,
    "start_time": "2024-09-28T20:30:19.808Z"
   },
   {
    "duration": 0,
    "start_time": "2024-09-28T20:30:19.809Z"
   },
   {
    "duration": 0,
    "start_time": "2024-09-28T20:30:19.810Z"
   },
   {
    "duration": 0,
    "start_time": "2024-09-28T20:30:19.811Z"
   },
   {
    "duration": 0,
    "start_time": "2024-09-28T20:30:19.813Z"
   },
   {
    "duration": 3,
    "start_time": "2024-09-28T20:30:49.881Z"
   },
   {
    "duration": 5,
    "start_time": "2024-09-28T20:32:57.769Z"
   },
   {
    "duration": 6477,
    "start_time": "2024-09-28T20:32:57.777Z"
   },
   {
    "duration": 3259,
    "start_time": "2024-09-28T20:33:04.256Z"
   },
   {
    "duration": 994,
    "start_time": "2024-09-28T20:33:07.518Z"
   },
   {
    "duration": 36,
    "start_time": "2024-09-28T20:33:08.514Z"
   },
   {
    "duration": 155,
    "start_time": "2024-09-28T20:33:08.552Z"
   },
   {
    "duration": 3,
    "start_time": "2024-09-28T20:33:08.709Z"
   },
   {
    "duration": 2469,
    "start_time": "2024-09-28T20:33:08.714Z"
   },
   {
    "duration": 3,
    "start_time": "2024-09-28T20:33:11.186Z"
   },
   {
    "duration": 41772,
    "start_time": "2024-09-28T20:33:11.191Z"
   },
   {
    "duration": 11,
    "start_time": "2024-09-28T20:33:52.966Z"
   },
   {
    "duration": 10,
    "start_time": "2024-09-28T20:33:52.979Z"
   },
   {
    "duration": 337,
    "start_time": "2024-09-28T20:33:53.006Z"
   },
   {
    "duration": 42052,
    "start_time": "2024-09-28T20:33:53.345Z"
   },
   {
    "duration": 461,
    "start_time": "2024-09-28T20:34:35.399Z"
   },
   {
    "duration": 214,
    "start_time": "2024-09-28T20:34:35.862Z"
   },
   {
    "duration": 0,
    "start_time": "2024-09-28T20:34:36.078Z"
   },
   {
    "duration": 0,
    "start_time": "2024-09-28T20:34:36.080Z"
   },
   {
    "duration": 0,
    "start_time": "2024-09-28T20:34:36.082Z"
   },
   {
    "duration": 0,
    "start_time": "2024-09-28T20:34:36.083Z"
   },
   {
    "duration": 0,
    "start_time": "2024-09-28T20:34:36.085Z"
   },
   {
    "duration": 0,
    "start_time": "2024-09-28T20:34:36.087Z"
   },
   {
    "duration": 0,
    "start_time": "2024-09-28T20:34:36.088Z"
   },
   {
    "duration": 0,
    "start_time": "2024-09-28T20:34:36.107Z"
   },
   {
    "duration": 0,
    "start_time": "2024-09-28T20:34:36.107Z"
   },
   {
    "duration": 0,
    "start_time": "2024-09-28T20:34:36.108Z"
   },
   {
    "duration": 0,
    "start_time": "2024-09-28T20:34:36.120Z"
   },
   {
    "duration": 0,
    "start_time": "2024-09-28T20:34:36.122Z"
   },
   {
    "duration": 0,
    "start_time": "2024-09-28T20:34:36.124Z"
   },
   {
    "duration": 0,
    "start_time": "2024-09-28T20:34:36.125Z"
   },
   {
    "duration": 0,
    "start_time": "2024-09-28T20:34:36.126Z"
   },
   {
    "duration": 0,
    "start_time": "2024-09-28T20:34:36.128Z"
   },
   {
    "duration": 0,
    "start_time": "2024-09-28T20:34:36.130Z"
   },
   {
    "duration": 0,
    "start_time": "2024-09-28T20:34:36.132Z"
   },
   {
    "duration": 0,
    "start_time": "2024-09-28T20:34:36.133Z"
   },
   {
    "duration": 0,
    "start_time": "2024-09-28T20:34:36.135Z"
   },
   {
    "duration": 0,
    "start_time": "2024-09-28T20:34:36.137Z"
   },
   {
    "duration": 1,
    "start_time": "2024-09-28T20:34:36.139Z"
   },
   {
    "duration": 0,
    "start_time": "2024-09-28T20:34:36.141Z"
   },
   {
    "duration": 0,
    "start_time": "2024-09-28T20:34:36.142Z"
   },
   {
    "duration": 0,
    "start_time": "2024-09-28T20:34:36.144Z"
   },
   {
    "duration": 41032,
    "start_time": "2024-09-28T20:35:57.565Z"
   },
   {
    "duration": 3,
    "start_time": "2024-09-28T20:36:38.599Z"
   },
   {
    "duration": 17,
    "start_time": "2024-09-28T20:36:53.288Z"
   },
   {
    "duration": 38531,
    "start_time": "2024-09-28T20:38:35.528Z"
   },
   {
    "duration": 4,
    "start_time": "2024-09-28T20:39:45.211Z"
   },
   {
    "duration": 16,
    "start_time": "2024-09-28T20:39:52.276Z"
   },
   {
    "duration": 3,
    "start_time": "2024-09-28T20:41:12.092Z"
   },
   {
    "duration": 6828,
    "start_time": "2024-09-28T20:41:12.097Z"
   },
   {
    "duration": 3333,
    "start_time": "2024-09-28T20:41:18.927Z"
   },
   {
    "duration": 1240,
    "start_time": "2024-09-28T20:41:22.261Z"
   },
   {
    "duration": 33,
    "start_time": "2024-09-28T20:41:23.502Z"
   },
   {
    "duration": 176,
    "start_time": "2024-09-28T20:41:23.536Z"
   },
   {
    "duration": 4,
    "start_time": "2024-09-28T20:41:23.713Z"
   },
   {
    "duration": 2311,
    "start_time": "2024-09-28T20:41:23.719Z"
   },
   {
    "duration": 4,
    "start_time": "2024-09-28T20:41:26.032Z"
   },
   {
    "duration": 40963,
    "start_time": "2024-09-28T20:41:26.038Z"
   },
   {
    "duration": 11,
    "start_time": "2024-09-28T20:42:07.005Z"
   },
   {
    "duration": 19,
    "start_time": "2024-09-28T20:42:07.017Z"
   },
   {
    "duration": 328,
    "start_time": "2024-09-28T20:42:07.038Z"
   },
   {
    "duration": 109629,
    "start_time": "2024-09-28T20:42:07.368Z"
   },
   {
    "duration": 489,
    "start_time": "2024-09-28T20:43:56.999Z"
   },
   {
    "duration": 206,
    "start_time": "2024-09-28T20:43:57.490Z"
   },
   {
    "duration": 0,
    "start_time": "2024-09-28T20:43:57.698Z"
   },
   {
    "duration": 0,
    "start_time": "2024-09-28T20:43:57.700Z"
   },
   {
    "duration": 0,
    "start_time": "2024-09-28T20:43:57.705Z"
   },
   {
    "duration": 0,
    "start_time": "2024-09-28T20:43:57.706Z"
   },
   {
    "duration": 0,
    "start_time": "2024-09-28T20:43:57.707Z"
   },
   {
    "duration": 0,
    "start_time": "2024-09-28T20:43:57.708Z"
   },
   {
    "duration": 0,
    "start_time": "2024-09-28T20:43:57.709Z"
   },
   {
    "duration": 0,
    "start_time": "2024-09-28T20:43:57.710Z"
   },
   {
    "duration": 0,
    "start_time": "2024-09-28T20:43:57.711Z"
   },
   {
    "duration": 0,
    "start_time": "2024-09-28T20:43:57.712Z"
   },
   {
    "duration": 0,
    "start_time": "2024-09-28T20:43:57.714Z"
   },
   {
    "duration": 0,
    "start_time": "2024-09-28T20:43:57.715Z"
   },
   {
    "duration": 0,
    "start_time": "2024-09-28T20:43:57.716Z"
   },
   {
    "duration": 0,
    "start_time": "2024-09-28T20:43:57.717Z"
   },
   {
    "duration": 0,
    "start_time": "2024-09-28T20:43:57.718Z"
   },
   {
    "duration": 0,
    "start_time": "2024-09-28T20:43:57.719Z"
   },
   {
    "duration": 0,
    "start_time": "2024-09-28T20:43:57.720Z"
   },
   {
    "duration": 0,
    "start_time": "2024-09-28T20:43:57.721Z"
   },
   {
    "duration": 0,
    "start_time": "2024-09-28T20:43:57.722Z"
   },
   {
    "duration": 0,
    "start_time": "2024-09-28T20:43:57.723Z"
   },
   {
    "duration": 0,
    "start_time": "2024-09-28T20:43:57.724Z"
   },
   {
    "duration": 0,
    "start_time": "2024-09-28T20:43:57.725Z"
   },
   {
    "duration": 0,
    "start_time": "2024-09-28T20:43:57.726Z"
   },
   {
    "duration": 0,
    "start_time": "2024-09-28T20:43:57.728Z"
   },
   {
    "duration": 0,
    "start_time": "2024-09-28T20:43:57.729Z"
   },
   {
    "duration": 4,
    "start_time": "2024-09-28T20:46:52.343Z"
   },
   {
    "duration": 6794,
    "start_time": "2024-09-28T20:46:52.349Z"
   },
   {
    "duration": 3159,
    "start_time": "2024-09-28T20:46:59.145Z"
   },
   {
    "duration": 1253,
    "start_time": "2024-09-28T20:47:02.306Z"
   },
   {
    "duration": 32,
    "start_time": "2024-09-28T20:47:03.561Z"
   },
   {
    "duration": 180,
    "start_time": "2024-09-28T20:47:03.595Z"
   },
   {
    "duration": 3,
    "start_time": "2024-09-28T20:47:03.777Z"
   },
   {
    "duration": 2353,
    "start_time": "2024-09-28T20:47:03.781Z"
   },
   {
    "duration": 3,
    "start_time": "2024-09-28T20:47:06.135Z"
   },
   {
    "duration": 39542,
    "start_time": "2024-09-28T20:47:06.141Z"
   },
   {
    "duration": 12,
    "start_time": "2024-09-28T20:47:45.684Z"
   },
   {
    "duration": 4,
    "start_time": "2024-09-28T20:47:45.705Z"
   },
   {
    "duration": 360,
    "start_time": "2024-09-28T20:47:45.711Z"
   },
   {
    "duration": 177,
    "start_time": "2024-09-28T20:47:46.072Z"
   },
   {
    "duration": 0,
    "start_time": "2024-09-28T20:47:46.251Z"
   },
   {
    "duration": 0,
    "start_time": "2024-09-28T20:47:46.252Z"
   },
   {
    "duration": 0,
    "start_time": "2024-09-28T20:47:46.253Z"
   },
   {
    "duration": 0,
    "start_time": "2024-09-28T20:47:46.254Z"
   },
   {
    "duration": 0,
    "start_time": "2024-09-28T20:47:46.255Z"
   },
   {
    "duration": 0,
    "start_time": "2024-09-28T20:47:46.256Z"
   },
   {
    "duration": 0,
    "start_time": "2024-09-28T20:47:46.258Z"
   },
   {
    "duration": 0,
    "start_time": "2024-09-28T20:47:46.258Z"
   },
   {
    "duration": 0,
    "start_time": "2024-09-28T20:47:46.260Z"
   },
   {
    "duration": 0,
    "start_time": "2024-09-28T20:47:46.261Z"
   },
   {
    "duration": 0,
    "start_time": "2024-09-28T20:47:46.262Z"
   },
   {
    "duration": 0,
    "start_time": "2024-09-28T20:47:46.263Z"
   },
   {
    "duration": 0,
    "start_time": "2024-09-28T20:47:46.264Z"
   },
   {
    "duration": 0,
    "start_time": "2024-09-28T20:47:46.265Z"
   },
   {
    "duration": 0,
    "start_time": "2024-09-28T20:47:46.266Z"
   },
   {
    "duration": 0,
    "start_time": "2024-09-28T20:47:46.267Z"
   },
   {
    "duration": 0,
    "start_time": "2024-09-28T20:47:46.268Z"
   },
   {
    "duration": 0,
    "start_time": "2024-09-28T20:47:46.270Z"
   },
   {
    "duration": 0,
    "start_time": "2024-09-28T20:47:46.305Z"
   },
   {
    "duration": 0,
    "start_time": "2024-09-28T20:47:46.307Z"
   },
   {
    "duration": 0,
    "start_time": "2024-09-28T20:47:46.308Z"
   },
   {
    "duration": 0,
    "start_time": "2024-09-28T20:47:46.309Z"
   },
   {
    "duration": 0,
    "start_time": "2024-09-28T20:47:46.310Z"
   },
   {
    "duration": 0,
    "start_time": "2024-09-28T20:47:46.311Z"
   },
   {
    "duration": 0,
    "start_time": "2024-09-28T20:47:46.311Z"
   },
   {
    "duration": 0,
    "start_time": "2024-09-28T20:47:46.313Z"
   },
   {
    "duration": 0,
    "start_time": "2024-09-28T20:47:46.314Z"
   },
   {
    "duration": 39491,
    "start_time": "2024-09-28T20:48:50.484Z"
   },
   {
    "duration": 1683,
    "start_time": "2024-09-28T20:50:14.420Z"
   },
   {
    "duration": 28333,
    "start_time": "2024-09-28T20:50:17.170Z"
   },
   {
    "duration": 205,
    "start_time": "2024-09-28T20:51:03.372Z"
   },
   {
    "duration": 68,
    "start_time": "2024-09-28T20:52:42.975Z"
   },
   {
    "duration": 60,
    "start_time": "2024-09-28T20:52:43.045Z"
   },
   {
    "duration": 14,
    "start_time": "2024-09-28T20:52:43.107Z"
   },
   {
    "duration": 18,
    "start_time": "2024-09-28T20:52:43.123Z"
   },
   {
    "duration": 7,
    "start_time": "2024-09-28T20:52:43.144Z"
   },
   {
    "duration": 6,
    "start_time": "2024-09-28T20:52:43.153Z"
   },
   {
    "duration": 9,
    "start_time": "2024-09-28T20:52:43.161Z"
   },
   {
    "duration": 39,
    "start_time": "2024-09-28T20:52:43.172Z"
   },
   {
    "duration": 4,
    "start_time": "2024-09-28T20:52:43.213Z"
   },
   {
    "duration": 10,
    "start_time": "2024-09-28T20:52:43.219Z"
   },
   {
    "duration": 7,
    "start_time": "2024-09-28T20:52:43.231Z"
   },
   {
    "duration": 42240,
    "start_time": "2024-09-28T20:52:43.240Z"
   },
   {
    "duration": 2,
    "start_time": "2024-09-28T20:53:25.482Z"
   },
   {
    "duration": 2768,
    "start_time": "2024-09-28T20:53:25.486Z"
   },
   {
    "duration": 4,
    "start_time": "2024-09-28T20:53:28.255Z"
   },
   {
    "duration": 94,
    "start_time": "2024-09-28T20:53:28.261Z"
   },
   {
    "duration": 7962,
    "start_time": "2024-09-28T20:53:28.357Z"
   },
   {
    "duration": 3,
    "start_time": "2024-09-28T20:53:36.321Z"
   },
   {
    "duration": 55,
    "start_time": "2024-09-28T20:54:08.656Z"
   },
   {
    "duration": 4,
    "start_time": "2024-09-28T20:54:17.054Z"
   },
   {
    "duration": 6726,
    "start_time": "2024-09-28T20:54:17.060Z"
   },
   {
    "duration": 3307,
    "start_time": "2024-09-28T20:54:23.789Z"
   },
   {
    "duration": 1325,
    "start_time": "2024-09-28T20:54:27.098Z"
   },
   {
    "duration": 32,
    "start_time": "2024-09-28T20:54:28.425Z"
   },
   {
    "duration": 149,
    "start_time": "2024-09-28T20:54:28.459Z"
   },
   {
    "duration": 3,
    "start_time": "2024-09-28T20:54:28.610Z"
   },
   {
    "duration": 2458,
    "start_time": "2024-09-28T20:54:28.615Z"
   },
   {
    "duration": 4,
    "start_time": "2024-09-28T20:54:31.075Z"
   },
   {
    "duration": 39968,
    "start_time": "2024-09-28T20:54:31.081Z"
   },
   {
    "duration": 10,
    "start_time": "2024-09-28T20:55:11.052Z"
   },
   {
    "duration": 12,
    "start_time": "2024-09-28T20:55:11.064Z"
   },
   {
    "duration": 337,
    "start_time": "2024-09-28T20:55:11.078Z"
   },
   {
    "duration": 38608,
    "start_time": "2024-09-28T20:55:11.416Z"
   },
   {
    "duration": 1869,
    "start_time": "2024-09-28T20:55:50.026Z"
   },
   {
    "duration": 28374,
    "start_time": "2024-09-28T20:55:51.897Z"
   },
   {
    "duration": 196,
    "start_time": "2024-09-28T20:56:20.273Z"
   },
   {
    "duration": 56,
    "start_time": "2024-09-28T20:56:20.471Z"
   },
   {
    "duration": 52,
    "start_time": "2024-09-28T20:56:20.529Z"
   },
   {
    "duration": 24,
    "start_time": "2024-09-28T20:56:20.583Z"
   },
   {
    "duration": 15,
    "start_time": "2024-09-28T20:56:20.609Z"
   },
   {
    "duration": 7,
    "start_time": "2024-09-28T20:56:20.625Z"
   },
   {
    "duration": 9,
    "start_time": "2024-09-28T20:56:20.633Z"
   },
   {
    "duration": 15,
    "start_time": "2024-09-28T20:56:20.643Z"
   },
   {
    "duration": 23,
    "start_time": "2024-09-28T20:56:20.659Z"
   },
   {
    "duration": 15,
    "start_time": "2024-09-28T20:56:20.684Z"
   },
   {
    "duration": 43,
    "start_time": "2024-09-28T20:56:20.700Z"
   },
   {
    "duration": 6,
    "start_time": "2024-09-28T20:56:20.745Z"
   },
   {
    "duration": 42129,
    "start_time": "2024-09-28T20:56:20.754Z"
   },
   {
    "duration": 4,
    "start_time": "2024-09-28T20:57:02.885Z"
   },
   {
    "duration": 2658,
    "start_time": "2024-09-28T20:57:02.890Z"
   },
   {
    "duration": 4,
    "start_time": "2024-09-28T20:57:05.549Z"
   },
   {
    "duration": 113,
    "start_time": "2024-09-28T20:57:05.554Z"
   },
   {
    "duration": 8057,
    "start_time": "2024-09-28T20:57:05.669Z"
   },
   {
    "duration": 3,
    "start_time": "2024-09-28T20:57:13.728Z"
   },
   {
    "duration": 4,
    "start_time": "2024-09-28T21:02:51.046Z"
   },
   {
    "duration": 6512,
    "start_time": "2024-09-28T21:02:51.052Z"
   },
   {
    "duration": 3044,
    "start_time": "2024-09-28T21:02:57.566Z"
   },
   {
    "duration": 1293,
    "start_time": "2024-09-28T21:03:00.612Z"
   },
   {
    "duration": 33,
    "start_time": "2024-09-28T21:03:01.907Z"
   },
   {
    "duration": 173,
    "start_time": "2024-09-28T21:03:01.941Z"
   },
   {
    "duration": 3,
    "start_time": "2024-09-28T21:03:02.116Z"
   },
   {
    "duration": 2245,
    "start_time": "2024-09-28T21:03:02.121Z"
   },
   {
    "duration": 4,
    "start_time": "2024-09-28T21:03:04.368Z"
   },
   {
    "duration": 38591,
    "start_time": "2024-09-28T21:03:04.374Z"
   },
   {
    "duration": 14,
    "start_time": "2024-09-28T21:03:42.967Z"
   },
   {
    "duration": 13,
    "start_time": "2024-09-28T21:03:42.983Z"
   },
   {
    "duration": 356,
    "start_time": "2024-09-28T21:03:42.999Z"
   },
   {
    "duration": 39867,
    "start_time": "2024-09-28T21:03:43.356Z"
   },
   {
    "duration": 1868,
    "start_time": "2024-09-28T21:04:23.225Z"
   },
   {
    "duration": 29093,
    "start_time": "2024-09-28T21:04:25.095Z"
   },
   {
    "duration": 224,
    "start_time": "2024-09-28T21:04:54.189Z"
   },
   {
    "duration": 63,
    "start_time": "2024-09-28T21:04:54.415Z"
   },
   {
    "duration": 77,
    "start_time": "2024-09-28T21:04:54.480Z"
   },
   {
    "duration": 11,
    "start_time": "2024-09-28T21:04:54.560Z"
   },
   {
    "duration": 14,
    "start_time": "2024-09-28T21:04:54.572Z"
   },
   {
    "duration": 20,
    "start_time": "2024-09-28T21:04:54.588Z"
   },
   {
    "duration": 7,
    "start_time": "2024-09-28T21:04:54.609Z"
   },
   {
    "duration": 12,
    "start_time": "2024-09-28T21:04:54.617Z"
   },
   {
    "duration": 17,
    "start_time": "2024-09-28T21:04:54.630Z"
   },
   {
    "duration": 4,
    "start_time": "2024-09-28T21:04:54.649Z"
   },
   {
    "duration": 5,
    "start_time": "2024-09-28T21:04:54.654Z"
   },
   {
    "duration": 10,
    "start_time": "2024-09-28T21:04:54.663Z"
   },
   {
    "duration": 43151,
    "start_time": "2024-09-28T21:04:54.675Z"
   },
   {
    "duration": 2,
    "start_time": "2024-09-28T21:05:37.828Z"
   },
   {
    "duration": 2701,
    "start_time": "2024-09-28T21:05:37.832Z"
   },
   {
    "duration": 5,
    "start_time": "2024-09-28T21:05:40.535Z"
   },
   {
    "duration": 97,
    "start_time": "2024-09-28T21:05:40.541Z"
   },
   {
    "duration": 8086,
    "start_time": "2024-09-28T21:05:40.640Z"
   },
   {
    "duration": 4,
    "start_time": "2024-09-28T21:05:48.727Z"
   },
   {
    "duration": 4,
    "start_time": "2024-09-28T21:19:22.979Z"
   },
   {
    "duration": 6594,
    "start_time": "2024-09-28T21:19:22.988Z"
   },
   {
    "duration": 3279,
    "start_time": "2024-09-28T21:19:29.585Z"
   },
   {
    "duration": 1261,
    "start_time": "2024-09-28T21:19:32.866Z"
   },
   {
    "duration": 31,
    "start_time": "2024-09-28T21:19:34.129Z"
   },
   {
    "duration": 152,
    "start_time": "2024-09-28T21:19:34.161Z"
   },
   {
    "duration": 3,
    "start_time": "2024-09-28T21:19:34.315Z"
   },
   {
    "duration": 2357,
    "start_time": "2024-09-28T21:19:34.320Z"
   },
   {
    "duration": 4,
    "start_time": "2024-09-28T21:19:36.680Z"
   },
   {
    "duration": 38821,
    "start_time": "2024-09-28T21:19:36.686Z"
   },
   {
    "duration": 10,
    "start_time": "2024-09-28T21:20:15.510Z"
   },
   {
    "duration": 48,
    "start_time": "2024-09-28T21:20:15.521Z"
   },
   {
    "duration": 316,
    "start_time": "2024-09-28T21:20:15.571Z"
   },
   {
    "duration": 39566,
    "start_time": "2024-09-28T21:20:15.889Z"
   },
   {
    "duration": 2081,
    "start_time": "2024-09-28T21:20:55.457Z"
   },
   {
    "duration": 29796,
    "start_time": "2024-09-28T21:20:57.540Z"
   },
   {
    "duration": 212,
    "start_time": "2024-09-28T21:21:27.338Z"
   },
   {
    "duration": 59,
    "start_time": "2024-09-28T21:21:27.552Z"
   },
   {
    "duration": 54,
    "start_time": "2024-09-28T21:21:27.612Z"
   },
   {
    "duration": 10,
    "start_time": "2024-09-28T21:21:27.668Z"
   },
   {
    "duration": 28,
    "start_time": "2024-09-28T21:21:27.680Z"
   },
   {
    "duration": 32,
    "start_time": "2024-09-28T21:21:27.709Z"
   },
   {
    "duration": 27,
    "start_time": "2024-09-28T21:21:27.743Z"
   },
   {
    "duration": 5,
    "start_time": "2024-09-28T21:21:27.771Z"
   },
   {
    "duration": 13,
    "start_time": "2024-09-28T21:21:27.777Z"
   },
   {
    "duration": 4,
    "start_time": "2024-09-28T21:21:27.791Z"
   },
   {
    "duration": 28,
    "start_time": "2024-09-28T21:21:27.797Z"
   },
   {
    "duration": 8,
    "start_time": "2024-09-28T21:21:27.826Z"
   },
   {
    "duration": 43197,
    "start_time": "2024-09-28T21:21:27.838Z"
   },
   {
    "duration": 2,
    "start_time": "2024-09-28T21:22:11.037Z"
   },
   {
    "duration": 2835,
    "start_time": "2024-09-28T21:22:11.041Z"
   },
   {
    "duration": 4,
    "start_time": "2024-09-28T21:22:13.877Z"
   },
   {
    "duration": 125,
    "start_time": "2024-09-28T21:22:13.883Z"
   },
   {
    "duration": 8410,
    "start_time": "2024-09-28T21:22:14.010Z"
   },
   {
    "duration": 3,
    "start_time": "2024-09-28T21:22:22.422Z"
   },
   {
    "duration": 3,
    "start_time": "2024-09-28T21:28:56.466Z"
   },
   {
    "duration": 6301,
    "start_time": "2024-09-28T21:28:56.471Z"
   },
   {
    "duration": 3135,
    "start_time": "2024-09-28T21:29:02.775Z"
   },
   {
    "duration": 1349,
    "start_time": "2024-09-28T21:29:05.912Z"
   },
   {
    "duration": 33,
    "start_time": "2024-09-28T21:29:07.263Z"
   },
   {
    "duration": 148,
    "start_time": "2024-09-28T21:29:07.297Z"
   },
   {
    "duration": 3,
    "start_time": "2024-09-28T21:29:07.447Z"
   },
   {
    "duration": 2262,
    "start_time": "2024-09-28T21:29:07.451Z"
   },
   {
    "duration": 3,
    "start_time": "2024-09-28T21:29:09.715Z"
   },
   {
    "duration": 39571,
    "start_time": "2024-09-28T21:29:09.720Z"
   },
   {
    "duration": 15,
    "start_time": "2024-09-28T21:29:49.295Z"
   },
   {
    "duration": 14,
    "start_time": "2024-09-28T21:29:49.312Z"
   },
   {
    "duration": 331,
    "start_time": "2024-09-28T21:29:49.327Z"
   },
   {
    "duration": 38831,
    "start_time": "2024-09-28T21:29:49.660Z"
   },
   {
    "duration": 2002,
    "start_time": "2024-09-28T21:30:28.493Z"
   },
   {
    "duration": 28583,
    "start_time": "2024-09-28T21:30:30.497Z"
   },
   {
    "duration": 208,
    "start_time": "2024-09-28T21:30:59.081Z"
   },
   {
    "duration": 55,
    "start_time": "2024-09-28T21:30:59.291Z"
   },
   {
    "duration": 58,
    "start_time": "2024-09-28T21:30:59.348Z"
   },
   {
    "duration": 11,
    "start_time": "2024-09-28T21:30:59.407Z"
   },
   {
    "duration": 22,
    "start_time": "2024-09-28T21:30:59.419Z"
   },
   {
    "duration": 12,
    "start_time": "2024-09-28T21:30:59.443Z"
   },
   {
    "duration": 11,
    "start_time": "2024-09-28T21:30:59.456Z"
   },
   {
    "duration": 13,
    "start_time": "2024-09-28T21:30:59.469Z"
   },
   {
    "duration": 14,
    "start_time": "2024-09-28T21:30:59.483Z"
   },
   {
    "duration": 5,
    "start_time": "2024-09-28T21:30:59.504Z"
   },
   {
    "duration": 15,
    "start_time": "2024-09-28T21:30:59.510Z"
   },
   {
    "duration": 24,
    "start_time": "2024-09-28T21:30:59.527Z"
   },
   {
    "duration": 42351,
    "start_time": "2024-09-28T21:30:59.554Z"
   },
   {
    "duration": 3,
    "start_time": "2024-09-28T21:31:41.906Z"
   },
   {
    "duration": 2693,
    "start_time": "2024-09-28T21:31:41.910Z"
   },
   {
    "duration": 4,
    "start_time": "2024-09-28T21:31:44.605Z"
   },
   {
    "duration": 86,
    "start_time": "2024-09-28T21:31:44.610Z"
   },
   {
    "duration": 8025,
    "start_time": "2024-09-28T21:31:44.698Z"
   },
   {
    "duration": 4,
    "start_time": "2024-09-28T21:31:52.724Z"
   },
   {
    "duration": 4,
    "start_time": "2024-09-28T21:41:41.638Z"
   },
   {
    "duration": 6768,
    "start_time": "2024-09-28T21:41:41.644Z"
   },
   {
    "duration": 3120,
    "start_time": "2024-09-28T21:41:48.414Z"
   },
   {
    "duration": 1290,
    "start_time": "2024-09-28T21:41:51.536Z"
   },
   {
    "duration": 34,
    "start_time": "2024-09-28T21:41:52.829Z"
   },
   {
    "duration": 167,
    "start_time": "2024-09-28T21:41:52.865Z"
   },
   {
    "duration": 3,
    "start_time": "2024-09-28T21:41:53.033Z"
   },
   {
    "duration": 2267,
    "start_time": "2024-09-28T21:41:53.037Z"
   },
   {
    "duration": 3,
    "start_time": "2024-09-28T21:41:55.306Z"
   },
   {
    "duration": 39116,
    "start_time": "2024-09-28T21:41:55.310Z"
   },
   {
    "duration": 10,
    "start_time": "2024-09-28T21:42:34.429Z"
   },
   {
    "duration": 15,
    "start_time": "2024-09-28T21:42:34.441Z"
   },
   {
    "duration": 332,
    "start_time": "2024-09-28T21:42:34.457Z"
   },
   {
    "duration": 38660,
    "start_time": "2024-09-28T21:42:34.791Z"
   },
   {
    "duration": 1924,
    "start_time": "2024-09-28T21:43:13.453Z"
   },
   {
    "duration": 29307,
    "start_time": "2024-09-28T21:43:15.379Z"
   },
   {
    "duration": 217,
    "start_time": "2024-09-28T21:43:44.688Z"
   },
   {
    "duration": 62,
    "start_time": "2024-09-28T21:43:44.907Z"
   },
   {
    "duration": 77,
    "start_time": "2024-09-28T21:43:44.971Z"
   },
   {
    "duration": 11,
    "start_time": "2024-09-28T21:43:45.049Z"
   },
   {
    "duration": 41,
    "start_time": "2024-09-28T21:43:45.062Z"
   },
   {
    "duration": 54,
    "start_time": "2024-09-28T21:43:45.106Z"
   },
   {
    "duration": 5,
    "start_time": "2024-09-28T21:43:45.162Z"
   },
   {
    "duration": 27,
    "start_time": "2024-09-28T21:43:45.169Z"
   },
   {
    "duration": 28,
    "start_time": "2024-09-28T21:43:45.198Z"
   },
   {
    "duration": 41,
    "start_time": "2024-09-28T21:43:45.228Z"
   },
   {
    "duration": 35,
    "start_time": "2024-09-28T21:43:45.272Z"
   },
   {
    "duration": 41,
    "start_time": "2024-09-28T21:43:45.309Z"
   },
   {
    "duration": 45047,
    "start_time": "2024-09-28T21:43:45.353Z"
   },
   {
    "duration": 3,
    "start_time": "2024-09-28T21:44:30.401Z"
   },
   {
    "duration": 2763,
    "start_time": "2024-09-28T21:44:30.405Z"
   },
   {
    "duration": 4,
    "start_time": "2024-09-28T21:44:33.170Z"
   },
   {
    "duration": 100,
    "start_time": "2024-09-28T21:44:33.176Z"
   },
   {
    "duration": 8038,
    "start_time": "2024-09-28T21:44:33.277Z"
   },
   {
    "duration": 3,
    "start_time": "2024-09-28T21:44:41.317Z"
   },
   {
    "duration": 4,
    "start_time": "2024-09-28T21:55:36.643Z"
   },
   {
    "duration": 6518,
    "start_time": "2024-09-28T21:55:36.651Z"
   },
   {
    "duration": 3239,
    "start_time": "2024-09-28T21:55:43.171Z"
   },
   {
    "duration": 1303,
    "start_time": "2024-09-28T21:55:46.412Z"
   },
   {
    "duration": 34,
    "start_time": "2024-09-28T21:55:47.717Z"
   },
   {
    "duration": 147,
    "start_time": "2024-09-28T21:55:47.753Z"
   },
   {
    "duration": 3,
    "start_time": "2024-09-28T21:55:47.902Z"
   },
   {
    "duration": 2326,
    "start_time": "2024-09-28T21:55:47.907Z"
   },
   {
    "duration": 3,
    "start_time": "2024-09-28T21:55:50.235Z"
   },
   {
    "duration": 39789,
    "start_time": "2024-09-28T21:55:50.239Z"
   },
   {
    "duration": 10,
    "start_time": "2024-09-28T21:56:30.031Z"
   },
   {
    "duration": 54,
    "start_time": "2024-09-28T21:56:30.042Z"
   },
   {
    "duration": 352,
    "start_time": "2024-09-28T21:56:30.097Z"
   },
   {
    "duration": 38782,
    "start_time": "2024-09-28T21:56:30.451Z"
   },
   {
    "duration": 1969,
    "start_time": "2024-09-28T21:57:09.234Z"
   },
   {
    "duration": 28910,
    "start_time": "2024-09-28T21:57:11.205Z"
   },
   {
    "duration": 189,
    "start_time": "2024-09-28T21:57:40.116Z"
   },
   {
    "duration": 59,
    "start_time": "2024-09-28T21:57:40.307Z"
   },
   {
    "duration": 77,
    "start_time": "2024-09-28T21:57:40.368Z"
   },
   {
    "duration": 11,
    "start_time": "2024-09-28T21:57:40.446Z"
   },
   {
    "duration": 21,
    "start_time": "2024-09-28T21:57:40.459Z"
   },
   {
    "duration": 23,
    "start_time": "2024-09-28T21:57:40.482Z"
   },
   {
    "duration": 12,
    "start_time": "2024-09-28T21:57:40.507Z"
   },
   {
    "duration": 12,
    "start_time": "2024-09-28T21:57:40.522Z"
   },
   {
    "duration": 20,
    "start_time": "2024-09-28T21:57:40.536Z"
   },
   {
    "duration": 15,
    "start_time": "2024-09-28T21:57:40.558Z"
   },
   {
    "duration": 16,
    "start_time": "2024-09-28T21:57:40.575Z"
   },
   {
    "duration": 31,
    "start_time": "2024-09-28T21:57:40.593Z"
   },
   {
    "duration": 42413,
    "start_time": "2024-09-28T21:57:40.627Z"
   },
   {
    "duration": 2,
    "start_time": "2024-09-28T21:58:23.042Z"
   },
   {
    "duration": 2722,
    "start_time": "2024-09-28T21:58:23.045Z"
   },
   {
    "duration": 4,
    "start_time": "2024-09-28T21:58:25.769Z"
   },
   {
    "duration": 93,
    "start_time": "2024-09-28T21:58:25.775Z"
   },
   {
    "duration": 8042,
    "start_time": "2024-09-28T21:58:25.869Z"
   },
   {
    "duration": 4,
    "start_time": "2024-09-28T21:58:33.913Z"
   },
   {
    "duration": 3,
    "start_time": "2024-09-28T22:12:01.476Z"
   },
   {
    "duration": 7062,
    "start_time": "2024-09-28T22:12:01.481Z"
   },
   {
    "duration": 3199,
    "start_time": "2024-09-28T22:12:08.545Z"
   },
   {
    "duration": 1365,
    "start_time": "2024-09-28T22:12:11.746Z"
   },
   {
    "duration": 34,
    "start_time": "2024-09-28T22:12:13.113Z"
   },
   {
    "duration": 145,
    "start_time": "2024-09-28T22:12:13.149Z"
   },
   {
    "duration": 3,
    "start_time": "2024-09-28T22:12:13.296Z"
   },
   {
    "duration": 2469,
    "start_time": "2024-09-28T22:12:13.300Z"
   },
   {
    "duration": 3,
    "start_time": "2024-09-28T22:12:15.771Z"
   },
   {
    "duration": 40007,
    "start_time": "2024-09-28T22:12:15.776Z"
   },
   {
    "duration": 13,
    "start_time": "2024-09-28T22:12:55.785Z"
   },
   {
    "duration": 5,
    "start_time": "2024-09-28T22:12:55.805Z"
   },
   {
    "duration": 374,
    "start_time": "2024-09-28T22:12:55.812Z"
   },
   {
    "duration": 38766,
    "start_time": "2024-09-28T22:12:56.190Z"
   },
   {
    "duration": 2114,
    "start_time": "2024-09-28T22:13:34.958Z"
   },
   {
    "duration": 28327,
    "start_time": "2024-09-28T22:13:37.074Z"
   },
   {
    "duration": 206,
    "start_time": "2024-09-28T22:14:05.403Z"
   },
   {
    "duration": 62,
    "start_time": "2024-09-28T22:14:05.611Z"
   },
   {
    "duration": 67,
    "start_time": "2024-09-28T22:14:05.674Z"
   },
   {
    "duration": 11,
    "start_time": "2024-09-28T22:14:05.743Z"
   },
   {
    "duration": 15,
    "start_time": "2024-09-28T22:14:05.756Z"
   },
   {
    "duration": 15,
    "start_time": "2024-09-28T22:14:05.773Z"
   },
   {
    "duration": 30,
    "start_time": "2024-09-28T22:14:05.790Z"
   },
   {
    "duration": 24,
    "start_time": "2024-09-28T22:14:05.822Z"
   },
   {
    "duration": 37,
    "start_time": "2024-09-28T22:14:05.848Z"
   },
   {
    "duration": 63,
    "start_time": "2024-09-28T22:14:05.887Z"
   },
   {
    "duration": 26,
    "start_time": "2024-09-28T22:14:05.952Z"
   },
   {
    "duration": 25,
    "start_time": "2024-09-28T22:14:05.979Z"
   },
   {
    "duration": 43050,
    "start_time": "2024-09-28T22:14:06.006Z"
   },
   {
    "duration": 3,
    "start_time": "2024-09-28T22:14:49.057Z"
   },
   {
    "duration": 2677,
    "start_time": "2024-09-28T22:14:49.061Z"
   },
   {
    "duration": 3,
    "start_time": "2024-09-28T22:14:51.740Z"
   },
   {
    "duration": 118,
    "start_time": "2024-09-28T22:14:51.744Z"
   },
   {
    "duration": 8163,
    "start_time": "2024-09-28T22:14:51.863Z"
   },
   {
    "duration": 3,
    "start_time": "2024-09-28T22:15:00.028Z"
   },
   {
    "duration": 3,
    "start_time": "2024-09-28T22:27:30.498Z"
   },
   {
    "duration": 6978,
    "start_time": "2024-09-28T22:27:30.502Z"
   },
   {
    "duration": 3218,
    "start_time": "2024-09-28T22:27:37.482Z"
   },
   {
    "duration": 1356,
    "start_time": "2024-09-28T22:27:40.702Z"
   },
   {
    "duration": 38,
    "start_time": "2024-09-28T22:27:42.060Z"
   },
   {
    "duration": 148,
    "start_time": "2024-09-28T22:27:42.100Z"
   },
   {
    "duration": 4,
    "start_time": "2024-09-28T22:27:42.249Z"
   },
   {
    "duration": 2385,
    "start_time": "2024-09-28T22:27:42.254Z"
   },
   {
    "duration": 3,
    "start_time": "2024-09-28T22:27:44.642Z"
   },
   {
    "duration": 40851,
    "start_time": "2024-09-28T22:27:44.647Z"
   },
   {
    "duration": 11,
    "start_time": "2024-09-28T22:28:25.501Z"
   },
   {
    "duration": 16,
    "start_time": "2024-09-28T22:28:25.513Z"
   },
   {
    "duration": 320,
    "start_time": "2024-09-28T22:28:25.531Z"
   },
   {
    "duration": 38237,
    "start_time": "2024-09-28T22:28:25.853Z"
   },
   {
    "duration": 2024,
    "start_time": "2024-09-28T22:29:04.092Z"
   },
   {
    "duration": 29444,
    "start_time": "2024-09-28T22:29:06.118Z"
   },
   {
    "duration": 214,
    "start_time": "2024-09-28T22:29:35.563Z"
   },
   {
    "duration": 57,
    "start_time": "2024-09-28T22:29:35.779Z"
   },
   {
    "duration": 67,
    "start_time": "2024-09-28T22:29:35.838Z"
   },
   {
    "duration": 12,
    "start_time": "2024-09-28T22:29:35.907Z"
   },
   {
    "duration": 67,
    "start_time": "2024-09-28T22:29:35.920Z"
   },
   {
    "duration": 52,
    "start_time": "2024-09-28T22:29:35.988Z"
   },
   {
    "duration": 13,
    "start_time": "2024-09-28T22:29:36.041Z"
   },
   {
    "duration": 4,
    "start_time": "2024-09-28T22:29:36.056Z"
   },
   {
    "duration": 12,
    "start_time": "2024-09-28T22:29:36.062Z"
   },
   {
    "duration": 11,
    "start_time": "2024-09-28T22:29:36.076Z"
   },
   {
    "duration": 8,
    "start_time": "2024-09-28T22:29:36.089Z"
   },
   {
    "duration": 9,
    "start_time": "2024-09-28T22:29:36.099Z"
   },
   {
    "duration": 43939,
    "start_time": "2024-09-28T22:29:36.111Z"
   },
   {
    "duration": 3,
    "start_time": "2024-09-28T22:30:20.052Z"
   },
   {
    "duration": 2760,
    "start_time": "2024-09-28T22:30:20.057Z"
   },
   {
    "duration": 4,
    "start_time": "2024-09-28T22:30:22.820Z"
   },
   {
    "duration": 97,
    "start_time": "2024-09-28T22:30:22.826Z"
   },
   {
    "duration": 8383,
    "start_time": "2024-09-28T22:30:22.925Z"
   },
   {
    "duration": 3,
    "start_time": "2024-09-28T22:30:31.310Z"
   },
   {
    "duration": 3,
    "start_time": "2024-09-28T22:45:22.765Z"
   },
   {
    "duration": 6738,
    "start_time": "2024-09-28T22:45:22.770Z"
   },
   {
    "duration": 3419,
    "start_time": "2024-09-28T22:45:29.510Z"
   },
   {
    "duration": 1395,
    "start_time": "2024-09-28T22:45:32.931Z"
   },
   {
    "duration": 34,
    "start_time": "2024-09-28T22:45:34.328Z"
   },
   {
    "duration": 154,
    "start_time": "2024-09-28T22:45:34.365Z"
   },
   {
    "duration": 4,
    "start_time": "2024-09-28T22:45:34.521Z"
   },
   {
    "duration": 2654,
    "start_time": "2024-09-28T22:45:34.527Z"
   },
   {
    "duration": 3,
    "start_time": "2024-09-28T22:45:37.183Z"
   },
   {
    "duration": 42736,
    "start_time": "2024-09-28T22:45:37.188Z"
   },
   {
    "duration": 11,
    "start_time": "2024-09-28T22:46:19.926Z"
   },
   {
    "duration": 35,
    "start_time": "2024-09-28T22:46:19.939Z"
   },
   {
    "duration": 407,
    "start_time": "2024-09-28T22:46:19.976Z"
   },
   {
    "duration": 40572,
    "start_time": "2024-09-28T22:46:20.385Z"
   },
   {
    "duration": 2040,
    "start_time": "2024-09-28T22:47:00.959Z"
   },
   {
    "duration": 29452,
    "start_time": "2024-09-28T22:47:03.001Z"
   },
   {
    "duration": 231,
    "start_time": "2024-09-28T22:47:32.454Z"
   },
   {
    "duration": 61,
    "start_time": "2024-09-28T22:47:32.687Z"
   },
   {
    "duration": 60,
    "start_time": "2024-09-28T22:47:32.749Z"
   },
   {
    "duration": 10,
    "start_time": "2024-09-28T22:47:32.811Z"
   },
   {
    "duration": 199,
    "start_time": "2024-09-28T22:47:32.823Z"
   },
   {
    "duration": 0,
    "start_time": "2024-09-28T22:47:33.025Z"
   },
   {
    "duration": 0,
    "start_time": "2024-09-28T22:47:33.026Z"
   },
   {
    "duration": 0,
    "start_time": "2024-09-28T22:47:33.027Z"
   },
   {
    "duration": 0,
    "start_time": "2024-09-28T22:47:33.028Z"
   },
   {
    "duration": 0,
    "start_time": "2024-09-28T22:47:33.029Z"
   },
   {
    "duration": 0,
    "start_time": "2024-09-28T22:47:33.030Z"
   },
   {
    "duration": 0,
    "start_time": "2024-09-28T22:47:33.032Z"
   },
   {
    "duration": 0,
    "start_time": "2024-09-28T22:47:33.033Z"
   },
   {
    "duration": 0,
    "start_time": "2024-09-28T22:47:33.034Z"
   },
   {
    "duration": 0,
    "start_time": "2024-09-28T22:47:33.035Z"
   },
   {
    "duration": 0,
    "start_time": "2024-09-28T22:47:33.036Z"
   },
   {
    "duration": 0,
    "start_time": "2024-09-28T22:47:33.037Z"
   },
   {
    "duration": 0,
    "start_time": "2024-09-28T22:47:33.038Z"
   },
   {
    "duration": 0,
    "start_time": "2024-09-28T22:47:33.039Z"
   },
   {
    "duration": 0,
    "start_time": "2024-09-28T22:47:33.040Z"
   },
   {
    "duration": 0,
    "start_time": "2024-09-28T22:47:33.041Z"
   },
   {
    "duration": 0,
    "start_time": "2024-09-28T22:47:33.042Z"
   },
   {
    "duration": 0,
    "start_time": "2024-09-28T22:47:33.043Z"
   },
   {
    "duration": 0,
    "start_time": "2024-09-28T22:47:33.044Z"
   },
   {
    "duration": 18,
    "start_time": "2024-09-28T22:49:13.657Z"
   },
   {
    "duration": 18,
    "start_time": "2024-09-28T22:49:13.678Z"
   },
   {
    "duration": 7,
    "start_time": "2024-09-28T22:49:13.697Z"
   },
   {
    "duration": 6,
    "start_time": "2024-09-28T22:49:13.706Z"
   },
   {
    "duration": 12,
    "start_time": "2024-09-28T22:49:13.714Z"
   },
   {
    "duration": 6,
    "start_time": "2024-09-28T22:49:13.728Z"
   },
   {
    "duration": 6,
    "start_time": "2024-09-28T22:49:13.736Z"
   },
   {
    "duration": 9,
    "start_time": "2024-09-28T22:49:13.744Z"
   },
   {
    "duration": 16369,
    "start_time": "2024-09-28T22:49:13.755Z"
   },
   {
    "duration": 2,
    "start_time": "2024-09-28T22:49:30.126Z"
   },
   {
    "duration": 2812,
    "start_time": "2024-09-28T22:49:30.130Z"
   },
   {
    "duration": 4,
    "start_time": "2024-09-28T22:49:32.944Z"
   },
   {
    "duration": 47,
    "start_time": "2024-09-28T22:49:32.950Z"
   },
   {
    "duration": 8206,
    "start_time": "2024-09-28T22:49:33.014Z"
   },
   {
    "duration": 3,
    "start_time": "2024-09-28T22:49:41.222Z"
   },
   {
    "duration": 272396,
    "start_time": "2024-09-28T22:49:41.227Z"
   },
   {
    "duration": 134511,
    "start_time": "2024-09-28T22:54:13.625Z"
   },
   {
    "duration": 5,
    "start_time": "2024-09-28T22:56:28.137Z"
   },
   {
    "duration": 29,
    "start_time": "2024-09-28T22:56:28.143Z"
   },
   {
    "duration": 27,
    "start_time": "2024-09-28T22:56:28.173Z"
   },
   {
    "duration": 275,
    "start_time": "2024-09-28T22:56:28.203Z"
   },
   {
    "duration": 4,
    "start_time": "2024-09-28T22:58:00.957Z"
   },
   {
    "duration": 6277,
    "start_time": "2024-09-28T22:58:00.970Z"
   },
   {
    "duration": 3101,
    "start_time": "2024-09-28T22:58:07.249Z"
   },
   {
    "duration": 1312,
    "start_time": "2024-09-28T22:58:10.351Z"
   },
   {
    "duration": 38,
    "start_time": "2024-09-28T22:58:11.665Z"
   },
   {
    "duration": 143,
    "start_time": "2024-09-28T22:58:11.705Z"
   },
   {
    "duration": 3,
    "start_time": "2024-09-28T22:58:11.849Z"
   },
   {
    "duration": 2563,
    "start_time": "2024-09-28T22:58:11.854Z"
   },
   {
    "duration": 3,
    "start_time": "2024-09-28T22:58:14.418Z"
   },
   {
    "duration": 39795,
    "start_time": "2024-09-28T22:58:14.423Z"
   },
   {
    "duration": 11,
    "start_time": "2024-09-28T22:58:54.220Z"
   },
   {
    "duration": 7,
    "start_time": "2024-09-28T22:58:54.232Z"
   },
   {
    "duration": 348,
    "start_time": "2024-09-28T22:58:54.240Z"
   },
   {
    "duration": 39632,
    "start_time": "2024-09-28T22:58:54.589Z"
   },
   {
    "duration": 2082,
    "start_time": "2024-09-28T22:59:34.223Z"
   },
   {
    "duration": 30440,
    "start_time": "2024-09-28T22:59:36.307Z"
   },
   {
    "duration": 224,
    "start_time": "2024-09-28T23:00:06.749Z"
   },
   {
    "duration": 79,
    "start_time": "2024-09-28T23:00:06.975Z"
   },
   {
    "duration": 63,
    "start_time": "2024-09-28T23:00:07.055Z"
   },
   {
    "duration": 18,
    "start_time": "2024-09-28T23:00:07.120Z"
   },
   {
    "duration": 12,
    "start_time": "2024-09-28T23:00:07.139Z"
   },
   {
    "duration": 172,
    "start_time": "2024-09-28T23:00:07.153Z"
   },
   {
    "duration": 0,
    "start_time": "2024-09-28T23:00:07.326Z"
   },
   {
    "duration": 0,
    "start_time": "2024-09-28T23:00:07.328Z"
   },
   {
    "duration": 0,
    "start_time": "2024-09-28T23:00:07.330Z"
   },
   {
    "duration": 0,
    "start_time": "2024-09-28T23:00:07.331Z"
   },
   {
    "duration": 0,
    "start_time": "2024-09-28T23:00:07.333Z"
   },
   {
    "duration": 0,
    "start_time": "2024-09-28T23:00:07.334Z"
   },
   {
    "duration": 0,
    "start_time": "2024-09-28T23:00:07.335Z"
   },
   {
    "duration": 0,
    "start_time": "2024-09-28T23:00:07.336Z"
   },
   {
    "duration": 0,
    "start_time": "2024-09-28T23:00:07.337Z"
   },
   {
    "duration": 0,
    "start_time": "2024-09-28T23:00:07.339Z"
   },
   {
    "duration": 0,
    "start_time": "2024-09-28T23:00:07.340Z"
   },
   {
    "duration": 0,
    "start_time": "2024-09-28T23:00:07.341Z"
   },
   {
    "duration": 0,
    "start_time": "2024-09-28T23:00:07.342Z"
   },
   {
    "duration": 0,
    "start_time": "2024-09-28T23:00:07.343Z"
   },
   {
    "duration": 0,
    "start_time": "2024-09-28T23:00:07.344Z"
   },
   {
    "duration": 0,
    "start_time": "2024-09-28T23:00:07.345Z"
   },
   {
    "duration": 0,
    "start_time": "2024-09-28T23:00:07.347Z"
   },
   {
    "duration": 0,
    "start_time": "2024-09-28T23:00:07.348Z"
   },
   {
    "duration": 5,
    "start_time": "2024-09-28T23:07:14.339Z"
   },
   {
    "duration": 5,
    "start_time": "2024-09-28T23:07:14.347Z"
   },
   {
    "duration": 13,
    "start_time": "2024-09-28T23:07:14.353Z"
   },
   {
    "duration": 0,
    "start_time": "2024-09-28T23:07:14.367Z"
   },
   {
    "duration": 0,
    "start_time": "2024-09-28T23:07:14.369Z"
   },
   {
    "duration": 0,
    "start_time": "2024-09-28T23:07:14.370Z"
   },
   {
    "duration": 0,
    "start_time": "2024-09-28T23:07:14.371Z"
   },
   {
    "duration": 0,
    "start_time": "2024-09-28T23:07:14.372Z"
   },
   {
    "duration": 0,
    "start_time": "2024-09-28T23:07:14.373Z"
   },
   {
    "duration": 0,
    "start_time": "2024-09-28T23:07:14.374Z"
   },
   {
    "duration": 0,
    "start_time": "2024-09-28T23:07:14.375Z"
   },
   {
    "duration": 0,
    "start_time": "2024-09-28T23:07:14.377Z"
   },
   {
    "duration": 4,
    "start_time": "2024-09-28T23:07:14.379Z"
   },
   {
    "duration": 30,
    "start_time": "2024-09-28T23:07:14.384Z"
   },
   {
    "duration": 0,
    "start_time": "2024-09-28T23:07:14.416Z"
   },
   {
    "duration": 0,
    "start_time": "2024-09-28T23:07:14.417Z"
   },
   {
    "duration": 0,
    "start_time": "2024-09-28T23:07:14.418Z"
   },
   {
    "duration": 0,
    "start_time": "2024-09-28T23:07:14.419Z"
   },
   {
    "duration": 0,
    "start_time": "2024-09-28T23:07:14.421Z"
   },
   {
    "duration": 10,
    "start_time": "2024-09-28T23:07:49.126Z"
   },
   {
    "duration": 24,
    "start_time": "2024-09-28T23:07:49.138Z"
   },
   {
    "duration": 12,
    "start_time": "2024-09-28T23:07:49.164Z"
   },
   {
    "duration": 16,
    "start_time": "2024-09-28T23:07:49.178Z"
   },
   {
    "duration": 36,
    "start_time": "2024-09-28T23:07:49.196Z"
   },
   {
    "duration": 8,
    "start_time": "2024-09-28T23:07:49.234Z"
   },
   {
    "duration": 11,
    "start_time": "2024-09-28T23:07:49.244Z"
   },
   {
    "duration": 39,
    "start_time": "2024-09-28T23:07:49.256Z"
   },
   {
    "duration": 15314,
    "start_time": "2024-09-28T23:07:49.297Z"
   },
   {
    "duration": 3,
    "start_time": "2024-09-28T23:08:04.613Z"
   },
   {
    "duration": 2839,
    "start_time": "2024-09-28T23:08:04.618Z"
   },
   {
    "duration": 4,
    "start_time": "2024-09-28T23:08:07.459Z"
   },
   {
    "duration": 40,
    "start_time": "2024-09-28T23:08:07.465Z"
   },
   {
    "duration": 6417,
    "start_time": "2024-09-28T23:08:07.507Z"
   },
   {
    "duration": 4,
    "start_time": "2024-09-28T23:08:14.004Z"
   },
   {
    "duration": 451715,
    "start_time": "2024-09-28T23:08:14.010Z"
   },
   {
    "duration": 3,
    "start_time": "2024-09-28T23:18:12.997Z"
   },
   {
    "duration": 6460,
    "start_time": "2024-09-28T23:18:13.002Z"
   },
   {
    "duration": 3114,
    "start_time": "2024-09-28T23:18:19.464Z"
   },
   {
    "duration": 1282,
    "start_time": "2024-09-28T23:18:22.580Z"
   },
   {
    "duration": 33,
    "start_time": "2024-09-28T23:18:23.863Z"
   },
   {
    "duration": 141,
    "start_time": "2024-09-28T23:18:23.898Z"
   },
   {
    "duration": 2,
    "start_time": "2024-09-28T23:18:24.041Z"
   },
   {
    "duration": 2339,
    "start_time": "2024-09-28T23:18:24.045Z"
   },
   {
    "duration": 4,
    "start_time": "2024-09-28T23:18:26.386Z"
   },
   {
    "duration": 39029,
    "start_time": "2024-09-28T23:18:26.391Z"
   },
   {
    "duration": 10,
    "start_time": "2024-09-28T23:19:05.422Z"
   },
   {
    "duration": 11,
    "start_time": "2024-09-28T23:19:05.434Z"
   },
   {
    "duration": 333,
    "start_time": "2024-09-28T23:19:05.446Z"
   },
   {
    "duration": 39210,
    "start_time": "2024-09-28T23:19:05.780Z"
   },
   {
    "duration": 2078,
    "start_time": "2024-09-28T23:19:44.992Z"
   },
   {
    "duration": 30199,
    "start_time": "2024-09-28T23:19:47.072Z"
   },
   {
    "duration": 304,
    "start_time": "2024-09-28T23:20:17.273Z"
   },
   {
    "duration": 70,
    "start_time": "2024-09-28T23:20:17.579Z"
   },
   {
    "duration": 74,
    "start_time": "2024-09-28T23:20:17.651Z"
   },
   {
    "duration": 10,
    "start_time": "2024-09-28T23:20:17.727Z"
   },
   {
    "duration": 33,
    "start_time": "2024-09-28T23:20:17.739Z"
   },
   {
    "duration": 37,
    "start_time": "2024-09-28T23:20:17.774Z"
   },
   {
    "duration": 36,
    "start_time": "2024-09-28T23:20:17.813Z"
   },
   {
    "duration": 47,
    "start_time": "2024-09-28T23:20:17.853Z"
   },
   {
    "duration": 39,
    "start_time": "2024-09-28T23:20:17.902Z"
   },
   {
    "duration": 49,
    "start_time": "2024-09-28T23:20:17.943Z"
   },
   {
    "duration": 41,
    "start_time": "2024-09-28T23:20:17.994Z"
   },
   {
    "duration": 15164,
    "start_time": "2024-09-28T23:20:18.036Z"
   },
   {
    "duration": 2,
    "start_time": "2024-09-28T23:20:33.202Z"
   },
   {
    "duration": 2701,
    "start_time": "2024-09-28T23:20:33.207Z"
   },
   {
    "duration": 3,
    "start_time": "2024-09-28T23:20:35.910Z"
   },
   {
    "duration": 45,
    "start_time": "2024-09-28T23:20:35.915Z"
   },
   {
    "duration": 8353,
    "start_time": "2024-09-28T23:20:35.962Z"
   },
   {
    "duration": 3,
    "start_time": "2024-09-28T23:20:44.316Z"
   },
   {
    "duration": 414287,
    "start_time": "2024-09-28T23:20:44.321Z"
   },
   {
    "duration": 103321,
    "start_time": "2024-09-28T23:27:38.610Z"
   },
   {
    "duration": 4,
    "start_time": "2024-09-28T23:29:21.933Z"
   },
   {
    "duration": 16,
    "start_time": "2024-09-28T23:29:21.939Z"
   },
   {
    "duration": 8,
    "start_time": "2024-09-28T23:29:21.957Z"
   },
   {
    "duration": 2388,
    "start_time": "2024-09-28T23:29:21.967Z"
   },
   {
    "duration": 4,
    "start_time": "2024-09-28T23:31:18.120Z"
   },
   {
    "duration": 6097,
    "start_time": "2024-09-28T23:31:18.125Z"
   },
   {
    "duration": 3122,
    "start_time": "2024-09-28T23:31:24.224Z"
   },
   {
    "duration": 1252,
    "start_time": "2024-09-28T23:31:27.348Z"
   },
   {
    "duration": 33,
    "start_time": "2024-09-28T23:31:28.602Z"
   },
   {
    "duration": 152,
    "start_time": "2024-09-28T23:31:28.637Z"
   },
   {
    "duration": 3,
    "start_time": "2024-09-28T23:31:28.791Z"
   },
   {
    "duration": 2318,
    "start_time": "2024-09-28T23:31:28.796Z"
   },
   {
    "duration": 4,
    "start_time": "2024-09-28T23:31:31.115Z"
   },
   {
    "duration": 38965,
    "start_time": "2024-09-28T23:31:31.120Z"
   },
   {
    "duration": 10,
    "start_time": "2024-09-28T23:32:10.088Z"
   },
   {
    "duration": 9,
    "start_time": "2024-09-28T23:32:10.100Z"
   },
   {
    "duration": 330,
    "start_time": "2024-09-28T23:32:10.111Z"
   },
   {
    "duration": 38047,
    "start_time": "2024-09-28T23:32:10.443Z"
   },
   {
    "duration": 1988,
    "start_time": "2024-09-28T23:32:48.492Z"
   },
   {
    "duration": 28822,
    "start_time": "2024-09-28T23:32:50.481Z"
   },
   {
    "duration": 196,
    "start_time": "2024-09-28T23:33:19.305Z"
   },
   {
    "duration": 56,
    "start_time": "2024-09-28T23:33:19.503Z"
   },
   {
    "duration": 57,
    "start_time": "2024-09-28T23:33:19.560Z"
   },
   {
    "duration": 9,
    "start_time": "2024-09-28T23:33:19.619Z"
   },
   {
    "duration": 21,
    "start_time": "2024-09-28T23:33:19.629Z"
   },
   {
    "duration": 7,
    "start_time": "2024-09-28T23:33:19.652Z"
   },
   {
    "duration": 26,
    "start_time": "2024-09-28T23:33:19.660Z"
   },
   {
    "duration": 6,
    "start_time": "2024-09-28T23:33:19.687Z"
   },
   {
    "duration": 4,
    "start_time": "2024-09-28T23:33:19.695Z"
   },
   {
    "duration": 9,
    "start_time": "2024-09-28T23:33:19.701Z"
   },
   {
    "duration": 9,
    "start_time": "2024-09-28T23:33:19.711Z"
   },
   {
    "duration": 12694,
    "start_time": "2024-09-28T23:33:19.721Z"
   },
   {
    "duration": 3,
    "start_time": "2024-09-28T23:33:32.418Z"
   },
   {
    "duration": 2583,
    "start_time": "2024-09-28T23:33:32.423Z"
   },
   {
    "duration": 4,
    "start_time": "2024-09-28T23:33:35.008Z"
   },
   {
    "duration": 32,
    "start_time": "2024-09-28T23:33:35.014Z"
   },
   {
    "duration": 7281,
    "start_time": "2024-09-28T23:33:35.048Z"
   },
   {
    "duration": 76,
    "start_time": "2024-09-28T23:33:42.331Z"
   },
   {
    "duration": 346130,
    "start_time": "2024-09-28T23:33:42.409Z"
   },
   {
    "duration": 4,
    "start_time": "2024-09-28T23:42:27.074Z"
   },
   {
    "duration": 6531,
    "start_time": "2024-09-28T23:42:27.081Z"
   },
   {
    "duration": 3242,
    "start_time": "2024-09-28T23:42:33.613Z"
   },
   {
    "duration": 1268,
    "start_time": "2024-09-28T23:42:36.857Z"
   },
   {
    "duration": 32,
    "start_time": "2024-09-28T23:42:38.127Z"
   },
   {
    "duration": 127,
    "start_time": "2024-09-28T23:42:38.161Z"
   },
   {
    "duration": 2,
    "start_time": "2024-09-28T23:42:38.290Z"
   },
   {
    "duration": 2321,
    "start_time": "2024-09-28T23:42:38.294Z"
   },
   {
    "duration": 3,
    "start_time": "2024-09-28T23:42:40.617Z"
   },
   {
    "duration": 38670,
    "start_time": "2024-09-28T23:42:40.622Z"
   },
   {
    "duration": 15,
    "start_time": "2024-09-28T23:43:19.294Z"
   },
   {
    "duration": 16,
    "start_time": "2024-09-28T23:43:19.310Z"
   },
   {
    "duration": 329,
    "start_time": "2024-09-28T23:43:19.327Z"
   },
   {
    "duration": 37932,
    "start_time": "2024-09-28T23:43:19.659Z"
   },
   {
    "duration": 1980,
    "start_time": "2024-09-28T23:43:57.593Z"
   },
   {
    "duration": 29032,
    "start_time": "2024-09-28T23:43:59.575Z"
   },
   {
    "duration": 228,
    "start_time": "2024-09-28T23:44:28.609Z"
   },
   {
    "duration": 63,
    "start_time": "2024-09-28T23:44:28.839Z"
   },
   {
    "duration": 54,
    "start_time": "2024-09-28T23:44:28.904Z"
   },
   {
    "duration": 12,
    "start_time": "2024-09-28T23:44:28.960Z"
   },
   {
    "duration": 38,
    "start_time": "2024-09-28T23:44:28.973Z"
   },
   {
    "duration": 17,
    "start_time": "2024-09-28T23:44:29.013Z"
   },
   {
    "duration": 26,
    "start_time": "2024-09-28T23:44:29.031Z"
   },
   {
    "duration": 5,
    "start_time": "2024-09-28T23:44:29.059Z"
   },
   {
    "duration": 11,
    "start_time": "2024-09-28T23:44:29.065Z"
   },
   {
    "duration": 7,
    "start_time": "2024-09-28T23:44:29.078Z"
   },
   {
    "duration": 7,
    "start_time": "2024-09-28T23:44:29.087Z"
   },
   {
    "duration": 12669,
    "start_time": "2024-09-28T23:44:29.096Z"
   },
   {
    "duration": 3,
    "start_time": "2024-09-28T23:44:41.766Z"
   },
   {
    "duration": 2613,
    "start_time": "2024-09-28T23:44:41.770Z"
   },
   {
    "duration": 4,
    "start_time": "2024-09-28T23:44:44.385Z"
   },
   {
    "duration": 41,
    "start_time": "2024-09-28T23:44:44.390Z"
   },
   {
    "duration": 8082,
    "start_time": "2024-09-28T23:44:44.433Z"
   },
   {
    "duration": 3,
    "start_time": "2024-09-28T23:44:52.516Z"
   },
   {
    "duration": 316916,
    "start_time": "2024-09-28T23:44:52.521Z"
   },
   {
    "duration": 105777,
    "start_time": "2024-09-28T23:50:09.439Z"
   },
   {
    "duration": 4,
    "start_time": "2024-09-28T23:51:55.218Z"
   },
   {
    "duration": 23,
    "start_time": "2024-09-28T23:51:55.224Z"
   },
   {
    "duration": 6,
    "start_time": "2024-09-28T23:51:55.249Z"
   },
   {
    "duration": 2173,
    "start_time": "2024-09-28T23:51:55.257Z"
   },
   {
    "duration": 3,
    "start_time": "2024-09-29T00:04:00.305Z"
   },
   {
    "duration": 6368,
    "start_time": "2024-09-29T00:04:00.310Z"
   },
   {
    "duration": 3295,
    "start_time": "2024-09-29T00:04:06.679Z"
   },
   {
    "duration": 1327,
    "start_time": "2024-09-29T00:04:09.975Z"
   },
   {
    "duration": 34,
    "start_time": "2024-09-29T00:04:11.305Z"
   },
   {
    "duration": 148,
    "start_time": "2024-09-29T00:04:11.340Z"
   },
   {
    "duration": 3,
    "start_time": "2024-09-29T00:04:11.490Z"
   },
   {
    "duration": 2523,
    "start_time": "2024-09-29T00:04:11.494Z"
   },
   {
    "duration": 3,
    "start_time": "2024-09-29T00:04:14.019Z"
   },
   {
    "duration": 39155,
    "start_time": "2024-09-29T00:04:14.024Z"
   },
   {
    "duration": 10,
    "start_time": "2024-09-29T00:04:53.181Z"
   },
   {
    "duration": 17,
    "start_time": "2024-09-29T00:04:53.192Z"
   },
   {
    "duration": 317,
    "start_time": "2024-09-29T00:04:53.211Z"
   },
   {
    "duration": 38143,
    "start_time": "2024-09-29T00:04:53.532Z"
   },
   {
    "duration": 2001,
    "start_time": "2024-09-29T00:05:31.677Z"
   },
   {
    "duration": 28092,
    "start_time": "2024-09-29T00:05:33.680Z"
   },
   {
    "duration": 183,
    "start_time": "2024-09-29T00:06:01.773Z"
   },
   {
    "duration": 81,
    "start_time": "2024-09-29T00:06:01.957Z"
   },
   {
    "duration": 55,
    "start_time": "2024-09-29T00:06:02.040Z"
   },
   {
    "duration": 10,
    "start_time": "2024-09-29T00:06:02.104Z"
   },
   {
    "duration": 31,
    "start_time": "2024-09-29T00:06:02.116Z"
   },
   {
    "duration": 21,
    "start_time": "2024-09-29T00:06:02.149Z"
   },
   {
    "duration": 21,
    "start_time": "2024-09-29T00:06:02.171Z"
   },
   {
    "duration": 10,
    "start_time": "2024-09-29T00:06:02.193Z"
   },
   {
    "duration": 5,
    "start_time": "2024-09-29T00:06:02.205Z"
   },
   {
    "duration": 33,
    "start_time": "2024-09-29T00:06:02.212Z"
   },
   {
    "duration": 24,
    "start_time": "2024-09-29T00:06:02.246Z"
   },
   {
    "duration": 188,
    "start_time": "2024-09-29T00:06:02.272Z"
   },
   {
    "duration": 0,
    "start_time": "2024-09-29T00:06:02.462Z"
   },
   {
    "duration": 0,
    "start_time": "2024-09-29T00:06:02.463Z"
   },
   {
    "duration": 0,
    "start_time": "2024-09-29T00:06:02.464Z"
   },
   {
    "duration": 0,
    "start_time": "2024-09-29T00:06:02.465Z"
   },
   {
    "duration": 0,
    "start_time": "2024-09-29T00:06:02.466Z"
   },
   {
    "duration": 0,
    "start_time": "2024-09-29T00:06:02.467Z"
   },
   {
    "duration": 0,
    "start_time": "2024-09-29T00:06:02.468Z"
   },
   {
    "duration": 0,
    "start_time": "2024-09-29T00:06:02.469Z"
   },
   {
    "duration": 0,
    "start_time": "2024-09-29T00:06:02.470Z"
   },
   {
    "duration": 0,
    "start_time": "2024-09-29T00:06:02.471Z"
   },
   {
    "duration": 0,
    "start_time": "2024-09-29T00:06:02.473Z"
   },
   {
    "duration": 0,
    "start_time": "2024-09-29T00:06:02.474Z"
   },
   {
    "duration": 3,
    "start_time": "2024-09-29T00:08:04.410Z"
   },
   {
    "duration": 6313,
    "start_time": "2024-09-29T00:08:04.415Z"
   },
   {
    "duration": 3023,
    "start_time": "2024-09-29T00:08:10.730Z"
   },
   {
    "duration": 908,
    "start_time": "2024-09-29T00:08:13.755Z"
   },
   {
    "duration": 32,
    "start_time": "2024-09-29T00:08:14.665Z"
   },
   {
    "duration": 151,
    "start_time": "2024-09-29T00:08:14.698Z"
   },
   {
    "duration": 3,
    "start_time": "2024-09-29T00:08:14.851Z"
   },
   {
    "duration": 2367,
    "start_time": "2024-09-29T00:08:14.855Z"
   },
   {
    "duration": 3,
    "start_time": "2024-09-29T00:08:17.224Z"
   },
   {
    "duration": 38162,
    "start_time": "2024-09-29T00:08:17.228Z"
   },
   {
    "duration": 15,
    "start_time": "2024-09-29T00:08:55.391Z"
   },
   {
    "duration": 4,
    "start_time": "2024-09-29T00:08:55.408Z"
   },
   {
    "duration": 332,
    "start_time": "2024-09-29T00:08:55.413Z"
   },
   {
    "duration": 38009,
    "start_time": "2024-09-29T00:08:55.748Z"
   },
   {
    "duration": 2045,
    "start_time": "2024-09-29T00:09:33.759Z"
   },
   {
    "duration": 29737,
    "start_time": "2024-09-29T00:09:35.805Z"
   },
   {
    "duration": 216,
    "start_time": "2024-09-29T00:10:05.544Z"
   },
   {
    "duration": 90,
    "start_time": "2024-09-29T00:10:05.762Z"
   },
   {
    "duration": 68,
    "start_time": "2024-09-29T00:10:05.854Z"
   },
   {
    "duration": 13,
    "start_time": "2024-09-29T00:10:05.924Z"
   },
   {
    "duration": 69,
    "start_time": "2024-09-29T00:10:05.938Z"
   },
   {
    "duration": 25,
    "start_time": "2024-09-29T00:10:06.009Z"
   },
   {
    "duration": 7,
    "start_time": "2024-09-29T00:10:06.036Z"
   },
   {
    "duration": 32,
    "start_time": "2024-09-29T00:10:06.044Z"
   },
   {
    "duration": 8,
    "start_time": "2024-09-29T00:10:06.078Z"
   },
   {
    "duration": 18,
    "start_time": "2024-09-29T00:10:06.088Z"
   },
   {
    "duration": 7,
    "start_time": "2024-09-29T00:10:06.108Z"
   },
   {
    "duration": 15733,
    "start_time": "2024-09-29T00:10:06.116Z"
   },
   {
    "duration": 3,
    "start_time": "2024-09-29T00:10:21.850Z"
   },
   {
    "duration": 2693,
    "start_time": "2024-09-29T00:10:21.854Z"
   },
   {
    "duration": 4,
    "start_time": "2024-09-29T00:10:24.549Z"
   },
   {
    "duration": 36,
    "start_time": "2024-09-29T00:10:24.555Z"
   },
   {
    "duration": 7523,
    "start_time": "2024-09-29T00:10:24.593Z"
   },
   {
    "duration": 4,
    "start_time": "2024-09-29T00:10:32.118Z"
   },
   {
    "duration": 377209,
    "start_time": "2024-09-29T00:10:32.124Z"
   },
   {
    "duration": 96099,
    "start_time": "2024-09-29T00:16:49.335Z"
   },
   {
    "duration": 4,
    "start_time": "2024-09-29T00:18:25.436Z"
   },
   {
    "duration": 4,
    "start_time": "2024-09-29T00:18:25.506Z"
   },
   {
    "duration": 13,
    "start_time": "2024-09-29T00:18:25.512Z"
   },
   {
    "duration": 2317,
    "start_time": "2024-09-29T00:18:25.526Z"
   },
   {
    "duration": 4,
    "start_time": "2024-09-29T05:46:16.895Z"
   },
   {
    "duration": 11571,
    "start_time": "2024-09-29T05:46:16.909Z"
   },
   {
    "duration": 3270,
    "start_time": "2024-09-29T05:46:28.483Z"
   },
   {
    "duration": 1268,
    "start_time": "2024-09-29T05:46:31.754Z"
   },
   {
    "duration": 33,
    "start_time": "2024-09-29T05:46:33.024Z"
   },
   {
    "duration": 131,
    "start_time": "2024-09-29T05:46:33.058Z"
   },
   {
    "duration": 3,
    "start_time": "2024-09-29T05:46:33.191Z"
   },
   {
    "duration": 2363,
    "start_time": "2024-09-29T05:46:33.195Z"
   },
   {
    "duration": 3,
    "start_time": "2024-09-29T05:46:35.566Z"
   },
   {
    "duration": 38496,
    "start_time": "2024-09-29T05:46:35.570Z"
   },
   {
    "duration": 10,
    "start_time": "2024-09-29T05:47:14.069Z"
   },
   {
    "duration": 45,
    "start_time": "2024-09-29T05:47:14.080Z"
   },
   {
    "duration": 301,
    "start_time": "2024-09-29T05:47:14.127Z"
   },
   {
    "duration": 38215,
    "start_time": "2024-09-29T05:47:14.430Z"
   },
   {
    "duration": 1897,
    "start_time": "2024-09-29T05:47:52.647Z"
   },
   {
    "duration": 27803,
    "start_time": "2024-09-29T05:47:54.545Z"
   },
   {
    "duration": 202,
    "start_time": "2024-09-29T05:48:22.350Z"
   },
   {
    "duration": 58,
    "start_time": "2024-09-29T05:48:22.553Z"
   },
   {
    "duration": 55,
    "start_time": "2024-09-29T05:48:22.612Z"
   },
   {
    "duration": 10,
    "start_time": "2024-09-29T05:48:22.668Z"
   },
   {
    "duration": 26,
    "start_time": "2024-09-29T05:48:22.679Z"
   },
   {
    "duration": 15,
    "start_time": "2024-09-29T05:48:22.707Z"
   },
   {
    "duration": 19,
    "start_time": "2024-09-29T05:48:22.724Z"
   },
   {
    "duration": 26,
    "start_time": "2024-09-29T05:48:22.745Z"
   },
   {
    "duration": 9,
    "start_time": "2024-09-29T05:48:22.772Z"
   },
   {
    "duration": 32,
    "start_time": "2024-09-29T05:48:22.782Z"
   },
   {
    "duration": 31,
    "start_time": "2024-09-29T05:48:22.816Z"
   },
   {
    "duration": 10,
    "start_time": "2024-09-29T05:48:22.849Z"
   },
   {
    "duration": 21,
    "start_time": "2024-09-29T05:48:22.862Z"
   },
   {
    "duration": 3030,
    "start_time": "2024-09-29T05:48:22.885Z"
   },
   {
    "duration": 3,
    "start_time": "2024-09-29T05:48:25.917Z"
   },
   {
    "duration": 160,
    "start_time": "2024-09-29T05:48:25.922Z"
   },
   {
    "duration": 8195,
    "start_time": "2024-09-29T05:48:26.083Z"
   },
   {
    "duration": 4,
    "start_time": "2024-09-29T05:48:34.279Z"
   },
   {
    "duration": 449,
    "start_time": "2024-09-29T05:48:34.284Z"
   },
   {
    "duration": 0,
    "start_time": "2024-09-29T05:48:34.735Z"
   },
   {
    "duration": 0,
    "start_time": "2024-09-29T05:48:34.737Z"
   },
   {
    "duration": 0,
    "start_time": "2024-09-29T05:48:34.738Z"
   },
   {
    "duration": 0,
    "start_time": "2024-09-29T05:48:34.740Z"
   },
   {
    "duration": 0,
    "start_time": "2024-09-29T05:48:34.741Z"
   },
   {
    "duration": 3,
    "start_time": "2024-09-29T05:54:03.519Z"
   },
   {
    "duration": 6120,
    "start_time": "2024-09-29T05:54:03.524Z"
   },
   {
    "duration": 2981,
    "start_time": "2024-09-29T05:54:09.646Z"
   },
   {
    "duration": 911,
    "start_time": "2024-09-29T05:54:12.629Z"
   },
   {
    "duration": 30,
    "start_time": "2024-09-29T05:54:13.542Z"
   },
   {
    "duration": 127,
    "start_time": "2024-09-29T05:54:13.574Z"
   },
   {
    "duration": 3,
    "start_time": "2024-09-29T05:54:13.703Z"
   },
   {
    "duration": 2310,
    "start_time": "2024-09-29T05:54:13.708Z"
   },
   {
    "duration": 4,
    "start_time": "2024-09-29T05:54:16.020Z"
   },
   {
    "duration": 38061,
    "start_time": "2024-09-29T05:54:16.025Z"
   },
   {
    "duration": 9,
    "start_time": "2024-09-29T05:54:54.089Z"
   },
   {
    "duration": 16,
    "start_time": "2024-09-29T05:54:54.100Z"
   },
   {
    "duration": 301,
    "start_time": "2024-09-29T05:54:54.117Z"
   },
   {
    "duration": 37707,
    "start_time": "2024-09-29T05:54:54.420Z"
   },
   {
    "duration": 1819,
    "start_time": "2024-09-29T05:55:32.129Z"
   },
   {
    "duration": 27563,
    "start_time": "2024-09-29T05:55:33.950Z"
   },
   {
    "duration": 217,
    "start_time": "2024-09-29T05:56:01.515Z"
   },
   {
    "duration": 60,
    "start_time": "2024-09-29T05:56:01.734Z"
   },
   {
    "duration": 53,
    "start_time": "2024-09-29T05:56:01.796Z"
   },
   {
    "duration": 11,
    "start_time": "2024-09-29T05:56:01.864Z"
   },
   {
    "duration": 22,
    "start_time": "2024-09-29T05:56:01.877Z"
   },
   {
    "duration": 15,
    "start_time": "2024-09-29T05:56:01.901Z"
   },
   {
    "duration": 7,
    "start_time": "2024-09-29T05:56:01.917Z"
   },
   {
    "duration": 31,
    "start_time": "2024-09-29T05:56:01.926Z"
   },
   {
    "duration": 12,
    "start_time": "2024-09-29T05:56:01.959Z"
   },
   {
    "duration": 4,
    "start_time": "2024-09-29T05:56:01.972Z"
   },
   {
    "duration": 10,
    "start_time": "2024-09-29T05:56:01.979Z"
   },
   {
    "duration": 14888,
    "start_time": "2024-09-29T05:56:01.991Z"
   },
   {
    "duration": 3,
    "start_time": "2024-09-29T05:56:16.883Z"
   },
   {
    "duration": 7131,
    "start_time": "2024-09-29T05:56:16.888Z"
   },
   {
    "duration": 0,
    "start_time": "2024-09-29T05:56:24.021Z"
   },
   {
    "duration": 0,
    "start_time": "2024-09-29T05:56:24.024Z"
   },
   {
    "duration": 0,
    "start_time": "2024-09-29T05:56:24.025Z"
   },
   {
    "duration": 0,
    "start_time": "2024-09-29T05:56:24.027Z"
   },
   {
    "duration": 0,
    "start_time": "2024-09-29T05:56:24.029Z"
   },
   {
    "duration": 0,
    "start_time": "2024-09-29T05:56:24.030Z"
   },
   {
    "duration": 0,
    "start_time": "2024-09-29T05:56:24.032Z"
   },
   {
    "duration": 0,
    "start_time": "2024-09-29T05:56:24.034Z"
   },
   {
    "duration": 0,
    "start_time": "2024-09-29T05:56:24.036Z"
   },
   {
    "duration": 0,
    "start_time": "2024-09-29T05:56:24.037Z"
   },
   {
    "duration": 2790,
    "start_time": "2024-09-29T06:03:53.253Z"
   },
   {
    "duration": 9,
    "start_time": "2024-09-29T06:04:23.418Z"
   },
   {
    "duration": 8,
    "start_time": "2024-09-29T06:04:49.522Z"
   },
   {
    "duration": 19,
    "start_time": "2024-09-29T06:06:07.451Z"
   },
   {
    "duration": 0,
    "start_time": "2024-09-29T06:06:07.472Z"
   },
   {
    "duration": 0,
    "start_time": "2024-09-29T06:06:07.473Z"
   },
   {
    "duration": 0,
    "start_time": "2024-09-29T06:06:07.474Z"
   },
   {
    "duration": 0,
    "start_time": "2024-09-29T06:06:07.476Z"
   },
   {
    "duration": 0,
    "start_time": "2024-09-29T06:06:07.477Z"
   },
   {
    "duration": 0,
    "start_time": "2024-09-29T06:06:07.478Z"
   },
   {
    "duration": 0,
    "start_time": "2024-09-29T06:06:07.479Z"
   },
   {
    "duration": 6,
    "start_time": "2024-09-29T06:06:07.481Z"
   },
   {
    "duration": 24,
    "start_time": "2024-09-29T06:06:07.489Z"
   },
   {
    "duration": 0,
    "start_time": "2024-09-29T06:06:07.514Z"
   },
   {
    "duration": 0,
    "start_time": "2024-09-29T06:06:07.515Z"
   },
   {
    "duration": 0,
    "start_time": "2024-09-29T06:06:07.517Z"
   },
   {
    "duration": 0,
    "start_time": "2024-09-29T06:06:07.518Z"
   },
   {
    "duration": 0,
    "start_time": "2024-09-29T06:06:07.519Z"
   },
   {
    "duration": 12,
    "start_time": "2024-09-29T06:06:18.401Z"
   },
   {
    "duration": 16,
    "start_time": "2024-09-29T06:06:32.283Z"
   },
   {
    "duration": 8,
    "start_time": "2024-09-29T06:06:57.231Z"
   },
   {
    "duration": 11,
    "start_time": "2024-09-29T06:07:04.280Z"
   },
   {
    "duration": 3,
    "start_time": "2024-09-29T06:08:38.032Z"
   },
   {
    "duration": 6005,
    "start_time": "2024-09-29T06:08:38.037Z"
   },
   {
    "duration": 3016,
    "start_time": "2024-09-29T06:08:44.044Z"
   },
   {
    "duration": 894,
    "start_time": "2024-09-29T06:08:47.062Z"
   },
   {
    "duration": 35,
    "start_time": "2024-09-29T06:08:47.958Z"
   },
   {
    "duration": 131,
    "start_time": "2024-09-29T06:08:47.994Z"
   },
   {
    "duration": 3,
    "start_time": "2024-09-29T06:08:48.127Z"
   },
   {
    "duration": 2375,
    "start_time": "2024-09-29T06:08:48.132Z"
   },
   {
    "duration": 3,
    "start_time": "2024-09-29T06:08:50.508Z"
   },
   {
    "duration": 38224,
    "start_time": "2024-09-29T06:08:50.513Z"
   },
   {
    "duration": 10,
    "start_time": "2024-09-29T06:09:28.739Z"
   },
   {
    "duration": 18,
    "start_time": "2024-09-29T06:09:28.751Z"
   },
   {
    "duration": 303,
    "start_time": "2024-09-29T06:09:28.771Z"
   },
   {
    "duration": 37507,
    "start_time": "2024-09-29T06:09:29.077Z"
   },
   {
    "duration": 1871,
    "start_time": "2024-09-29T06:10:06.586Z"
   },
   {
    "duration": 28067,
    "start_time": "2024-09-29T06:10:08.459Z"
   },
   {
    "duration": 204,
    "start_time": "2024-09-29T06:10:36.528Z"
   },
   {
    "duration": 57,
    "start_time": "2024-09-29T06:10:36.734Z"
   },
   {
    "duration": 50,
    "start_time": "2024-09-29T06:10:36.793Z"
   },
   {
    "duration": 21,
    "start_time": "2024-09-29T06:10:36.845Z"
   },
   {
    "duration": 14,
    "start_time": "2024-09-29T06:10:36.868Z"
   },
   {
    "duration": 18,
    "start_time": "2024-09-29T06:10:36.883Z"
   },
   {
    "duration": 6,
    "start_time": "2024-09-29T06:10:36.903Z"
   },
   {
    "duration": 11,
    "start_time": "2024-09-29T06:10:36.911Z"
   },
   {
    "duration": 12,
    "start_time": "2024-09-29T06:10:36.923Z"
   },
   {
    "duration": 9,
    "start_time": "2024-09-29T06:10:36.936Z"
   },
   {
    "duration": 35,
    "start_time": "2024-09-29T06:10:36.946Z"
   },
   {
    "duration": 6,
    "start_time": "2024-09-29T06:10:36.983Z"
   },
   {
    "duration": 14854,
    "start_time": "2024-09-29T06:10:36.991Z"
   },
   {
    "duration": 3,
    "start_time": "2024-09-29T06:10:51.847Z"
   },
   {
    "duration": 5720,
    "start_time": "2024-09-29T06:10:51.852Z"
   },
   {
    "duration": 0,
    "start_time": "2024-09-29T06:10:57.574Z"
   },
   {
    "duration": 0,
    "start_time": "2024-09-29T06:10:57.576Z"
   },
   {
    "duration": 0,
    "start_time": "2024-09-29T06:10:57.577Z"
   },
   {
    "duration": 0,
    "start_time": "2024-09-29T06:10:57.579Z"
   },
   {
    "duration": 0,
    "start_time": "2024-09-29T06:10:57.580Z"
   },
   {
    "duration": 0,
    "start_time": "2024-09-29T06:10:57.581Z"
   },
   {
    "duration": 0,
    "start_time": "2024-09-29T06:10:57.583Z"
   },
   {
    "duration": 0,
    "start_time": "2024-09-29T06:10:57.584Z"
   },
   {
    "duration": 0,
    "start_time": "2024-09-29T06:10:57.585Z"
   },
   {
    "duration": 0,
    "start_time": "2024-09-29T06:10:57.586Z"
   },
   {
    "duration": 3320,
    "start_time": "2024-09-29T06:11:28.325Z"
   },
   {
    "duration": 7,
    "start_time": "2024-09-29T06:11:58.373Z"
   },
   {
    "duration": 3,
    "start_time": "2024-09-29T06:12:39.084Z"
   },
   {
    "duration": 6061,
    "start_time": "2024-09-29T06:12:39.091Z"
   },
   {
    "duration": 2931,
    "start_time": "2024-09-29T06:12:45.154Z"
   },
   {
    "duration": 923,
    "start_time": "2024-09-29T06:12:48.086Z"
   },
   {
    "duration": 36,
    "start_time": "2024-09-29T06:12:49.011Z"
   },
   {
    "duration": 157,
    "start_time": "2024-09-29T06:12:49.049Z"
   },
   {
    "duration": 3,
    "start_time": "2024-09-29T06:12:49.207Z"
   },
   {
    "duration": 2389,
    "start_time": "2024-09-29T06:12:49.212Z"
   },
   {
    "duration": 3,
    "start_time": "2024-09-29T06:12:51.603Z"
   },
   {
    "duration": 38295,
    "start_time": "2024-09-29T06:12:51.608Z"
   },
   {
    "duration": 10,
    "start_time": "2024-09-29T06:13:29.906Z"
   },
   {
    "duration": 7,
    "start_time": "2024-09-29T06:13:29.918Z"
   },
   {
    "duration": 322,
    "start_time": "2024-09-29T06:13:29.927Z"
   },
   {
    "duration": 37873,
    "start_time": "2024-09-29T06:13:30.251Z"
   },
   {
    "duration": 1844,
    "start_time": "2024-09-29T06:14:08.126Z"
   },
   {
    "duration": 27425,
    "start_time": "2024-09-29T06:14:09.972Z"
   },
   {
    "duration": 201,
    "start_time": "2024-09-29T06:14:37.399Z"
   },
   {
    "duration": 80,
    "start_time": "2024-09-29T06:14:37.601Z"
   },
   {
    "duration": 56,
    "start_time": "2024-09-29T06:14:37.683Z"
   },
   {
    "duration": 11,
    "start_time": "2024-09-29T06:14:37.742Z"
   },
   {
    "duration": 14,
    "start_time": "2024-09-29T06:14:37.764Z"
   },
   {
    "duration": 4,
    "start_time": "2024-09-29T06:14:37.780Z"
   },
   {
    "duration": 5,
    "start_time": "2024-09-29T06:14:37.786Z"
   },
   {
    "duration": 46,
    "start_time": "2024-09-29T06:14:37.792Z"
   },
   {
    "duration": 5,
    "start_time": "2024-09-29T06:14:37.839Z"
   },
   {
    "duration": 4,
    "start_time": "2024-09-29T06:14:37.845Z"
   },
   {
    "duration": 15,
    "start_time": "2024-09-29T06:14:37.851Z"
   },
   {
    "duration": 10,
    "start_time": "2024-09-29T06:14:37.867Z"
   },
   {
    "duration": 14836,
    "start_time": "2024-09-29T06:14:37.881Z"
   },
   {
    "duration": 3,
    "start_time": "2024-09-29T06:14:52.718Z"
   },
   {
    "duration": 5680,
    "start_time": "2024-09-29T06:14:52.723Z"
   },
   {
    "duration": 0,
    "start_time": "2024-09-29T06:14:58.405Z"
   },
   {
    "duration": 0,
    "start_time": "2024-09-29T06:14:58.407Z"
   },
   {
    "duration": 0,
    "start_time": "2024-09-29T06:14:58.408Z"
   },
   {
    "duration": 0,
    "start_time": "2024-09-29T06:14:58.409Z"
   },
   {
    "duration": 0,
    "start_time": "2024-09-29T06:14:58.410Z"
   },
   {
    "duration": 0,
    "start_time": "2024-09-29T06:14:58.411Z"
   },
   {
    "duration": 0,
    "start_time": "2024-09-29T06:14:58.412Z"
   },
   {
    "duration": 0,
    "start_time": "2024-09-29T06:14:58.413Z"
   },
   {
    "duration": 0,
    "start_time": "2024-09-29T06:14:58.415Z"
   },
   {
    "duration": 0,
    "start_time": "2024-09-29T06:14:58.416Z"
   },
   {
    "duration": 21,
    "start_time": "2024-09-29T06:24:13.568Z"
   },
   {
    "duration": 9,
    "start_time": "2024-09-29T06:24:18.291Z"
   },
   {
    "duration": 4203,
    "start_time": "2024-09-29T06:27:30.161Z"
   },
   {
    "duration": 3060,
    "start_time": "2024-09-29T06:28:25.571Z"
   },
   {
    "duration": 4,
    "start_time": "2024-09-29T06:28:42.152Z"
   },
   {
    "duration": 6245,
    "start_time": "2024-09-29T06:28:42.160Z"
   },
   {
    "duration": 2951,
    "start_time": "2024-09-29T06:28:48.408Z"
   },
   {
    "duration": 937,
    "start_time": "2024-09-29T06:28:51.361Z"
   },
   {
    "duration": 33,
    "start_time": "2024-09-29T06:28:52.300Z"
   },
   {
    "duration": 147,
    "start_time": "2024-09-29T06:28:52.334Z"
   },
   {
    "duration": 3,
    "start_time": "2024-09-29T06:28:52.483Z"
   },
   {
    "duration": 2368,
    "start_time": "2024-09-29T06:28:52.488Z"
   },
   {
    "duration": 10,
    "start_time": "2024-09-29T06:28:54.857Z"
   },
   {
    "duration": 38475,
    "start_time": "2024-09-29T06:28:54.868Z"
   },
   {
    "duration": 10,
    "start_time": "2024-09-29T06:29:33.346Z"
   },
   {
    "duration": 12,
    "start_time": "2024-09-29T06:29:33.358Z"
   },
   {
    "duration": 323,
    "start_time": "2024-09-29T06:29:33.371Z"
   },
   {
    "duration": 38940,
    "start_time": "2024-09-29T06:29:33.696Z"
   },
   {
    "duration": 1850,
    "start_time": "2024-09-29T06:30:12.638Z"
   },
   {
    "duration": 28252,
    "start_time": "2024-09-29T06:30:14.490Z"
   },
   {
    "duration": 217,
    "start_time": "2024-09-29T06:30:42.743Z"
   },
   {
    "duration": 58,
    "start_time": "2024-09-29T06:30:42.961Z"
   },
   {
    "duration": 63,
    "start_time": "2024-09-29T06:30:43.020Z"
   },
   {
    "duration": 11,
    "start_time": "2024-09-29T06:30:43.085Z"
   },
   {
    "duration": 13,
    "start_time": "2024-09-29T06:30:43.098Z"
   },
   {
    "duration": 6,
    "start_time": "2024-09-29T06:30:43.112Z"
   },
   {
    "duration": 10,
    "start_time": "2024-09-29T06:30:43.119Z"
   },
   {
    "duration": 35,
    "start_time": "2024-09-29T06:30:43.130Z"
   },
   {
    "duration": 7,
    "start_time": "2024-09-29T06:30:43.167Z"
   },
   {
    "duration": 24,
    "start_time": "2024-09-29T06:30:43.175Z"
   },
   {
    "duration": 5,
    "start_time": "2024-09-29T06:30:43.201Z"
   },
   {
    "duration": 7,
    "start_time": "2024-09-29T06:30:43.208Z"
   },
   {
    "duration": 14889,
    "start_time": "2024-09-29T06:30:43.218Z"
   },
   {
    "duration": 6,
    "start_time": "2024-09-29T06:30:58.109Z"
   },
   {
    "duration": 10,
    "start_time": "2024-09-29T06:30:58.116Z"
   },
   {
    "duration": 5485,
    "start_time": "2024-09-29T06:30:58.127Z"
   },
   {
    "duration": 4,
    "start_time": "2024-09-29T06:31:03.614Z"
   },
   {
    "duration": 609,
    "start_time": "2024-09-29T06:31:03.620Z"
   },
   {
    "duration": 0,
    "start_time": "2024-09-29T06:31:04.231Z"
   },
   {
    "duration": 0,
    "start_time": "2024-09-29T06:31:04.233Z"
   },
   {
    "duration": 0,
    "start_time": "2024-09-29T06:31:04.235Z"
   },
   {
    "duration": 0,
    "start_time": "2024-09-29T06:31:04.236Z"
   },
   {
    "duration": 0,
    "start_time": "2024-09-29T06:31:04.238Z"
   },
   {
    "duration": 0,
    "start_time": "2024-09-29T06:31:04.239Z"
   },
   {
    "duration": 0,
    "start_time": "2024-09-29T06:31:04.241Z"
   },
   {
    "duration": 0,
    "start_time": "2024-09-29T06:31:04.242Z"
   },
   {
    "duration": 4,
    "start_time": "2024-09-29T06:33:14.980Z"
   },
   {
    "duration": 6111,
    "start_time": "2024-09-29T06:33:14.986Z"
   },
   {
    "duration": 2760,
    "start_time": "2024-09-29T06:33:21.099Z"
   },
   {
    "duration": 913,
    "start_time": "2024-09-29T06:33:23.862Z"
   },
   {
    "duration": 31,
    "start_time": "2024-09-29T06:33:24.777Z"
   },
   {
    "duration": 129,
    "start_time": "2024-09-29T06:33:24.809Z"
   },
   {
    "duration": 3,
    "start_time": "2024-09-29T06:33:24.940Z"
   },
   {
    "duration": 2382,
    "start_time": "2024-09-29T06:33:24.945Z"
   },
   {
    "duration": 4,
    "start_time": "2024-09-29T06:33:27.329Z"
   },
   {
    "duration": 38332,
    "start_time": "2024-09-29T06:33:27.334Z"
   },
   {
    "duration": 11,
    "start_time": "2024-09-29T06:34:05.668Z"
   },
   {
    "duration": 17,
    "start_time": "2024-09-29T06:34:05.680Z"
   },
   {
    "duration": 310,
    "start_time": "2024-09-29T06:34:05.698Z"
   },
   {
    "duration": 38048,
    "start_time": "2024-09-29T06:34:06.012Z"
   },
   {
    "duration": 1830,
    "start_time": "2024-09-29T06:34:44.062Z"
   },
   {
    "duration": 27399,
    "start_time": "2024-09-29T06:34:45.894Z"
   },
   {
    "duration": 234,
    "start_time": "2024-09-29T06:35:13.294Z"
   },
   {
    "duration": 55,
    "start_time": "2024-09-29T06:35:13.529Z"
   },
   {
    "duration": 54,
    "start_time": "2024-09-29T06:35:13.586Z"
   },
   {
    "duration": 23,
    "start_time": "2024-09-29T06:35:13.642Z"
   },
   {
    "duration": 12,
    "start_time": "2024-09-29T06:35:13.667Z"
   },
   {
    "duration": 4,
    "start_time": "2024-09-29T06:35:13.681Z"
   },
   {
    "duration": 6,
    "start_time": "2024-09-29T06:35:13.686Z"
   },
   {
    "duration": 10,
    "start_time": "2024-09-29T06:35:13.693Z"
   },
   {
    "duration": 3,
    "start_time": "2024-09-29T06:35:13.705Z"
   },
   {
    "duration": 5,
    "start_time": "2024-09-29T06:35:13.709Z"
   },
   {
    "duration": 8,
    "start_time": "2024-09-29T06:35:13.716Z"
   },
   {
    "duration": 41,
    "start_time": "2024-09-29T06:35:13.726Z"
   },
   {
    "duration": 14908,
    "start_time": "2024-09-29T06:35:13.769Z"
   },
   {
    "duration": 6,
    "start_time": "2024-09-29T06:35:28.679Z"
   },
   {
    "duration": 6,
    "start_time": "2024-09-29T06:35:28.687Z"
   },
   {
    "duration": 5692,
    "start_time": "2024-09-29T06:35:28.694Z"
   },
   {
    "duration": 4,
    "start_time": "2024-09-29T06:35:34.388Z"
   },
   {
    "duration": 154,
    "start_time": "2024-09-29T06:35:34.393Z"
   },
   {
    "duration": 5230,
    "start_time": "2024-09-29T06:35:34.548Z"
   },
   {
    "duration": 4,
    "start_time": "2024-09-29T06:35:39.780Z"
   },
   {
    "duration": 350709,
    "start_time": "2024-09-29T06:35:39.786Z"
   },
   {
    "duration": 88119,
    "start_time": "2024-09-29T06:41:30.565Z"
   },
   {
    "duration": 4,
    "start_time": "2024-09-29T06:42:58.686Z"
   },
   {
    "duration": 6,
    "start_time": "2024-09-29T06:42:58.691Z"
   },
   {
    "duration": 4,
    "start_time": "2024-09-29T06:42:58.700Z"
   },
   {
    "duration": 2594,
    "start_time": "2024-09-29T06:42:58.706Z"
   },
   {
    "duration": 3,
    "start_time": "2024-09-29T06:48:56.722Z"
   },
   {
    "duration": 6299,
    "start_time": "2024-09-29T06:48:56.728Z"
   },
   {
    "duration": 3095,
    "start_time": "2024-09-29T06:49:03.029Z"
   },
   {
    "duration": 966,
    "start_time": "2024-09-29T06:49:06.127Z"
   },
   {
    "duration": 30,
    "start_time": "2024-09-29T06:49:07.095Z"
   },
   {
    "duration": 128,
    "start_time": "2024-09-29T06:49:07.127Z"
   },
   {
    "duration": 10,
    "start_time": "2024-09-29T06:49:07.257Z"
   },
   {
    "duration": 2391,
    "start_time": "2024-09-29T06:49:07.269Z"
   },
   {
    "duration": 5,
    "start_time": "2024-09-29T06:49:09.661Z"
   },
   {
    "duration": 38922,
    "start_time": "2024-09-29T06:49:09.668Z"
   },
   {
    "duration": 10,
    "start_time": "2024-09-29T06:49:48.591Z"
   },
   {
    "duration": 5,
    "start_time": "2024-09-29T06:49:48.602Z"
   },
   {
    "duration": 323,
    "start_time": "2024-09-29T06:49:48.608Z"
   },
   {
    "duration": 38081,
    "start_time": "2024-09-29T06:49:48.934Z"
   },
   {
    "duration": 1867,
    "start_time": "2024-09-29T06:50:27.017Z"
   },
   {
    "duration": 27942,
    "start_time": "2024-09-29T06:50:28.885Z"
   },
   {
    "duration": 196,
    "start_time": "2024-09-29T06:50:56.828Z"
   },
   {
    "duration": 56,
    "start_time": "2024-09-29T06:50:57.025Z"
   },
   {
    "duration": 45,
    "start_time": "2024-09-29T06:50:57.082Z"
   },
   {
    "duration": 9,
    "start_time": "2024-09-29T06:50:57.128Z"
   },
   {
    "duration": 26,
    "start_time": "2024-09-29T06:50:57.139Z"
   },
   {
    "duration": 7,
    "start_time": "2024-09-29T06:50:57.167Z"
   },
   {
    "duration": 11,
    "start_time": "2024-09-29T06:50:57.176Z"
   },
   {
    "duration": 12,
    "start_time": "2024-09-29T06:50:57.189Z"
   },
   {
    "duration": 4,
    "start_time": "2024-09-29T06:50:57.202Z"
   },
   {
    "duration": 11,
    "start_time": "2024-09-29T06:50:57.208Z"
   },
   {
    "duration": 10,
    "start_time": "2024-09-29T06:50:57.221Z"
   },
   {
    "duration": 23,
    "start_time": "2024-09-29T06:50:57.232Z"
   },
   {
    "duration": 29,
    "start_time": "2024-09-29T06:50:57.256Z"
   },
   {
    "duration": 8,
    "start_time": "2024-09-29T06:50:57.287Z"
   },
   {
    "duration": 4,
    "start_time": "2024-09-29T06:50:57.297Z"
   },
   {
    "duration": 5614,
    "start_time": "2024-09-29T06:50:57.303Z"
   },
   {
    "duration": 4,
    "start_time": "2024-09-29T06:51:02.919Z"
   },
   {
    "duration": 171,
    "start_time": "2024-09-29T06:51:02.924Z"
   },
   {
    "duration": 5182,
    "start_time": "2024-09-29T06:51:03.096Z"
   },
   {
    "duration": 4,
    "start_time": "2024-09-29T06:51:08.280Z"
   },
   {
    "duration": 364111,
    "start_time": "2024-09-29T06:51:08.286Z"
   },
   {
    "duration": 99472,
    "start_time": "2024-09-29T06:57:12.399Z"
   },
   {
    "duration": 6,
    "start_time": "2024-09-29T06:58:51.874Z"
   },
   {
    "duration": 15,
    "start_time": "2024-09-29T06:58:51.882Z"
   },
   {
    "duration": 6,
    "start_time": "2024-09-29T06:58:51.901Z"
   },
   {
    "duration": 2705,
    "start_time": "2024-09-29T06:58:51.908Z"
   },
   {
    "duration": 3,
    "start_time": "2024-09-29T07:02:12.227Z"
   },
   {
    "duration": 6708,
    "start_time": "2024-09-29T07:02:12.232Z"
   },
   {
    "duration": 3750,
    "start_time": "2024-09-29T07:02:18.942Z"
   },
   {
    "duration": 1050,
    "start_time": "2024-09-29T07:02:22.694Z"
   },
   {
    "duration": 36,
    "start_time": "2024-09-29T07:02:23.746Z"
   },
   {
    "duration": 142,
    "start_time": "2024-09-29T07:02:23.784Z"
   },
   {
    "duration": 2,
    "start_time": "2024-09-29T07:02:23.928Z"
   },
   {
    "duration": 2467,
    "start_time": "2024-09-29T07:02:23.932Z"
   },
   {
    "duration": 3,
    "start_time": "2024-09-29T07:02:26.400Z"
   },
   {
    "duration": 41421,
    "start_time": "2024-09-29T07:02:26.405Z"
   },
   {
    "duration": 10,
    "start_time": "2024-09-29T07:03:07.828Z"
   },
   {
    "duration": 19,
    "start_time": "2024-09-29T07:03:07.840Z"
   },
   {
    "duration": 321,
    "start_time": "2024-09-29T07:03:07.861Z"
   },
   {
    "duration": 41671,
    "start_time": "2024-09-29T07:03:08.185Z"
   },
   {
    "duration": 2118,
    "start_time": "2024-09-29T07:03:49.858Z"
   },
   {
    "duration": 30876,
    "start_time": "2024-09-29T07:03:51.978Z"
   },
   {
    "duration": 220,
    "start_time": "2024-09-29T07:04:22.856Z"
   },
   {
    "duration": 59,
    "start_time": "2024-09-29T07:04:23.078Z"
   },
   {
    "duration": 66,
    "start_time": "2024-09-29T07:04:23.139Z"
   },
   {
    "duration": 10,
    "start_time": "2024-09-29T07:04:23.207Z"
   },
   {
    "duration": 12,
    "start_time": "2024-09-29T07:04:23.218Z"
   },
   {
    "duration": 6,
    "start_time": "2024-09-29T07:04:23.232Z"
   },
   {
    "duration": 10,
    "start_time": "2024-09-29T07:04:23.239Z"
   },
   {
    "duration": 29,
    "start_time": "2024-09-29T07:04:23.250Z"
   },
   {
    "duration": 4,
    "start_time": "2024-09-29T07:04:23.281Z"
   },
   {
    "duration": 4,
    "start_time": "2024-09-29T07:04:23.287Z"
   },
   {
    "duration": 6,
    "start_time": "2024-09-29T07:04:23.293Z"
   },
   {
    "duration": 9,
    "start_time": "2024-09-29T07:04:23.301Z"
   },
   {
    "duration": 5,
    "start_time": "2024-09-29T07:04:23.312Z"
   },
   {
    "duration": 3,
    "start_time": "2024-09-29T07:04:23.319Z"
   },
   {
    "duration": 5482,
    "start_time": "2024-09-29T07:04:23.324Z"
   },
   {
    "duration": 3,
    "start_time": "2024-09-29T07:04:28.808Z"
   },
   {
    "duration": 34,
    "start_time": "2024-09-29T07:04:28.813Z"
   },
   {
    "duration": 5536,
    "start_time": "2024-09-29T07:04:28.849Z"
   },
   {
    "duration": 4,
    "start_time": "2024-09-29T07:04:34.386Z"
   },
   {
    "duration": 432902,
    "start_time": "2024-09-29T07:04:34.391Z"
   },
   {
    "duration": 106217,
    "start_time": "2024-09-29T07:11:47.295Z"
   },
   {
    "duration": 15,
    "start_time": "2024-09-29T07:13:33.570Z"
   },
   {
    "duration": 20,
    "start_time": "2024-09-29T07:13:33.587Z"
   },
   {
    "duration": 21,
    "start_time": "2024-09-29T07:13:33.608Z"
   },
   {
    "duration": 1932,
    "start_time": "2024-09-29T07:13:33.633Z"
   },
   {
    "duration": 5,
    "start_time": "2024-09-29T07:16:12.127Z"
   },
   {
    "duration": 367,
    "start_time": "2024-09-29T07:16:12.660Z"
   },
   {
    "duration": 3,
    "start_time": "2024-09-29T07:16:45.559Z"
   },
   {
    "duration": 6213,
    "start_time": "2024-09-29T07:16:45.564Z"
   },
   {
    "duration": 3006,
    "start_time": "2024-09-29T07:16:51.782Z"
   },
   {
    "duration": 1351,
    "start_time": "2024-09-29T07:16:54.790Z"
   },
   {
    "duration": 45,
    "start_time": "2024-09-29T07:16:56.143Z"
   },
   {
    "duration": 138,
    "start_time": "2024-09-29T07:16:56.190Z"
   },
   {
    "duration": 3,
    "start_time": "2024-09-29T07:16:56.330Z"
   },
   {
    "duration": 2524,
    "start_time": "2024-09-29T07:16:56.335Z"
   },
   {
    "duration": 17,
    "start_time": "2024-09-29T07:16:58.861Z"
   },
   {
    "duration": 41617,
    "start_time": "2024-09-29T07:16:58.880Z"
   },
   {
    "duration": 10,
    "start_time": "2024-09-29T07:17:40.500Z"
   },
   {
    "duration": 22,
    "start_time": "2024-09-29T07:17:40.511Z"
   },
   {
    "duration": 2744,
    "start_time": "2024-09-29T07:17:40.535Z"
   },
   {
    "duration": 214,
    "start_time": "2024-09-29T07:17:43.281Z"
   },
   {
    "duration": 27546,
    "start_time": "2024-09-29T07:17:43.496Z"
   },
   {
    "duration": 1497,
    "start_time": "2024-09-29T07:18:11.044Z"
   },
   {
    "duration": 35497,
    "start_time": "2024-09-29T07:18:12.542Z"
   },
   {
    "duration": 204,
    "start_time": "2024-09-29T07:18:48.040Z"
   },
   {
    "duration": 49,
    "start_time": "2024-09-29T07:18:48.245Z"
   },
   {
    "duration": 29,
    "start_time": "2024-09-29T07:18:48.297Z"
   },
   {
    "duration": 9,
    "start_time": "2024-09-29T07:18:48.328Z"
   },
   {
    "duration": 51,
    "start_time": "2024-09-29T07:18:48.339Z"
   },
   {
    "duration": 5,
    "start_time": "2024-09-29T07:18:48.392Z"
   },
   {
    "duration": 6,
    "start_time": "2024-09-29T07:18:48.399Z"
   },
   {
    "duration": 8,
    "start_time": "2024-09-29T07:18:48.407Z"
   },
   {
    "duration": 4,
    "start_time": "2024-09-29T07:18:48.416Z"
   },
   {
    "duration": 8,
    "start_time": "2024-09-29T07:18:48.422Z"
   },
   {
    "duration": 5,
    "start_time": "2024-09-29T07:18:48.431Z"
   },
   {
    "duration": 5,
    "start_time": "2024-09-29T07:18:48.439Z"
   },
   {
    "duration": 30,
    "start_time": "2024-09-29T07:18:48.445Z"
   },
   {
    "duration": 4455,
    "start_time": "2024-09-29T07:18:48.477Z"
   },
   {
    "duration": 4,
    "start_time": "2024-09-29T07:18:52.933Z"
   },
   {
    "duration": 48,
    "start_time": "2024-09-29T07:18:52.939Z"
   },
   {
    "duration": 4891,
    "start_time": "2024-09-29T07:18:52.989Z"
   },
   {
    "duration": 4,
    "start_time": "2024-09-29T07:18:57.882Z"
   },
   {
    "duration": 407595,
    "start_time": "2024-09-29T07:18:57.890Z"
   },
   {
    "duration": 103306,
    "start_time": "2024-09-29T07:25:45.487Z"
   },
   {
    "duration": 5,
    "start_time": "2024-09-29T07:27:28.795Z"
   },
   {
    "duration": 78,
    "start_time": "2024-09-29T07:27:28.802Z"
   },
   {
    "duration": 19,
    "start_time": "2024-09-29T07:27:28.882Z"
   },
   {
    "duration": 2162,
    "start_time": "2024-09-29T07:27:28.903Z"
   },
   {
    "duration": 6304,
    "start_time": "2024-09-29T07:40:36.833Z"
   },
   {
    "duration": 3097,
    "start_time": "2024-09-29T07:40:43.140Z"
   },
   {
    "duration": 966,
    "start_time": "2024-09-29T07:40:46.238Z"
   },
   {
    "duration": 30,
    "start_time": "2024-09-29T07:40:47.206Z"
   },
   {
    "duration": 146,
    "start_time": "2024-09-29T07:40:47.239Z"
   },
   {
    "duration": 3,
    "start_time": "2024-09-29T07:40:47.387Z"
   },
   {
    "duration": 2561,
    "start_time": "2024-09-29T07:40:47.392Z"
   },
   {
    "duration": 3,
    "start_time": "2024-09-29T07:40:49.955Z"
   },
   {
    "duration": 41118,
    "start_time": "2024-09-29T07:40:49.964Z"
   },
   {
    "duration": 10,
    "start_time": "2024-09-29T07:41:31.083Z"
   },
   {
    "duration": 36,
    "start_time": "2024-09-29T07:41:31.095Z"
   },
   {
    "duration": 2877,
    "start_time": "2024-09-29T07:41:31.132Z"
   },
   {
    "duration": 214,
    "start_time": "2024-09-29T07:41:34.011Z"
   },
   {
    "duration": 27546,
    "start_time": "2024-09-29T07:41:34.228Z"
   },
   {
    "duration": 1362,
    "start_time": "2024-09-29T07:42:01.777Z"
   },
   {
    "duration": 35023,
    "start_time": "2024-09-29T07:42:03.140Z"
   },
   {
    "duration": 195,
    "start_time": "2024-09-29T07:42:38.165Z"
   },
   {
    "duration": 43,
    "start_time": "2024-09-29T07:42:38.362Z"
   },
   {
    "duration": 29,
    "start_time": "2024-09-29T07:42:38.407Z"
   },
   {
    "duration": 18,
    "start_time": "2024-09-29T07:42:38.438Z"
   },
   {
    "duration": 21,
    "start_time": "2024-09-29T07:42:38.458Z"
   },
   {
    "duration": 5,
    "start_time": "2024-09-29T07:42:38.481Z"
   },
   {
    "duration": 6,
    "start_time": "2024-09-29T07:42:38.488Z"
   },
   {
    "duration": 8,
    "start_time": "2024-09-29T07:42:38.496Z"
   },
   {
    "duration": 4,
    "start_time": "2024-09-29T07:42:38.506Z"
   },
   {
    "duration": 5,
    "start_time": "2024-09-29T07:42:38.511Z"
   },
   {
    "duration": 5,
    "start_time": "2024-09-29T07:42:38.518Z"
   },
   {
    "duration": 6,
    "start_time": "2024-09-29T07:42:38.566Z"
   },
   {
    "duration": 6,
    "start_time": "2024-09-29T07:42:38.573Z"
   },
   {
    "duration": 4532,
    "start_time": "2024-09-29T07:42:38.581Z"
   },
   {
    "duration": 5,
    "start_time": "2024-09-29T07:42:43.115Z"
   },
   {
    "duration": 32,
    "start_time": "2024-09-29T07:42:43.121Z"
   },
   {
    "duration": 3214,
    "start_time": "2024-09-29T07:42:43.155Z"
   },
   {
    "duration": 3,
    "start_time": "2024-09-29T07:42:46.370Z"
   },
   {
    "duration": 411116,
    "start_time": "2024-09-29T07:42:46.375Z"
   },
   {
    "duration": 6280,
    "start_time": "2024-09-29T08:19:33.665Z"
   },
   {
    "duration": 3034,
    "start_time": "2024-09-29T08:19:39.947Z"
   },
   {
    "duration": 975,
    "start_time": "2024-09-29T08:19:42.983Z"
   },
   {
    "duration": 38,
    "start_time": "2024-09-29T08:19:43.960Z"
   },
   {
    "duration": 136,
    "start_time": "2024-09-29T08:19:44.000Z"
   },
   {
    "duration": 3,
    "start_time": "2024-09-29T08:19:44.138Z"
   },
   {
    "duration": 2571,
    "start_time": "2024-09-29T08:19:44.142Z"
   },
   {
    "duration": 3,
    "start_time": "2024-09-29T08:19:46.714Z"
   },
   {
    "duration": 41980,
    "start_time": "2024-09-29T08:19:46.718Z"
   },
   {
    "duration": 10,
    "start_time": "2024-09-29T08:20:28.700Z"
   },
   {
    "duration": 14,
    "start_time": "2024-09-29T08:20:28.712Z"
   },
   {
    "duration": 2812,
    "start_time": "2024-09-29T08:20:28.727Z"
   },
   {
    "duration": 238,
    "start_time": "2024-09-29T08:20:31.541Z"
   },
   {
    "duration": 28162,
    "start_time": "2024-09-29T08:20:31.781Z"
   },
   {
    "duration": 1574,
    "start_time": "2024-09-29T08:20:59.944Z"
   },
   {
    "duration": 35262,
    "start_time": "2024-09-29T08:21:01.519Z"
   },
   {
    "duration": 237,
    "start_time": "2024-09-29T08:21:36.783Z"
   },
   {
    "duration": 44,
    "start_time": "2024-09-29T08:21:37.022Z"
   },
   {
    "duration": 34,
    "start_time": "2024-09-29T08:21:37.068Z"
   },
   {
    "duration": 10,
    "start_time": "2024-09-29T08:21:37.104Z"
   },
   {
    "duration": 15,
    "start_time": "2024-09-29T08:21:37.116Z"
   },
   {
    "duration": 6,
    "start_time": "2024-09-29T08:21:37.134Z"
   },
   {
    "duration": 30,
    "start_time": "2024-09-29T08:21:37.142Z"
   },
   {
    "duration": 11,
    "start_time": "2024-09-29T08:21:37.174Z"
   },
   {
    "duration": 8,
    "start_time": "2024-09-29T08:21:37.187Z"
   },
   {
    "duration": 10,
    "start_time": "2024-09-29T08:21:37.196Z"
   },
   {
    "duration": 35,
    "start_time": "2024-09-29T08:21:37.207Z"
   },
   {
    "duration": 17,
    "start_time": "2024-09-29T08:21:37.245Z"
   },
   {
    "duration": 23,
    "start_time": "2024-09-29T08:21:37.264Z"
   },
   {
    "duration": 4488,
    "start_time": "2024-09-29T08:21:37.289Z"
   },
   {
    "duration": 5,
    "start_time": "2024-09-29T08:21:41.781Z"
   },
   {
    "duration": 46,
    "start_time": "2024-09-29T08:21:41.787Z"
   },
   {
    "duration": 3255,
    "start_time": "2024-09-29T08:21:41.834Z"
   },
   {
    "duration": 79,
    "start_time": "2024-09-29T08:21:45.091Z"
   },
   {
    "duration": 434114,
    "start_time": "2024-09-29T08:21:45.174Z"
   },
   {
    "duration": 11898,
    "start_time": "2025-06-17T20:36:34.889Z"
   },
   {
    "duration": 3371,
    "start_time": "2025-06-17T20:36:46.789Z"
   },
   {
    "duration": 998,
    "start_time": "2025-06-17T20:36:50.162Z"
   },
   {
    "duration": 35,
    "start_time": "2025-06-17T20:36:51.162Z"
   },
   {
    "duration": 139,
    "start_time": "2025-06-17T20:36:51.199Z"
   },
   {
    "duration": 3,
    "start_time": "2025-06-17T20:36:51.340Z"
   },
   {
    "duration": 2425,
    "start_time": "2025-06-17T20:36:51.344Z"
   },
   {
    "duration": 3,
    "start_time": "2025-06-17T20:36:53.771Z"
   },
   {
    "duration": 40834,
    "start_time": "2025-06-17T20:36:53.775Z"
   },
   {
    "duration": 11,
    "start_time": "2025-06-17T20:37:34.614Z"
   },
   {
    "duration": 9,
    "start_time": "2025-06-17T20:37:34.627Z"
   },
   {
    "duration": 3105,
    "start_time": "2025-06-17T20:37:34.638Z"
   },
   {
    "duration": 251,
    "start_time": "2025-06-17T20:37:37.745Z"
   },
   {
    "duration": 28124,
    "start_time": "2025-06-17T20:37:37.998Z"
   },
   {
    "duration": 1360,
    "start_time": "2025-06-17T20:38:06.124Z"
   },
   {
    "duration": 38975,
    "start_time": "2025-06-17T20:38:07.486Z"
   },
   {
    "duration": 181,
    "start_time": "2025-06-17T20:38:46.465Z"
   },
   {
    "duration": 61,
    "start_time": "2025-06-17T20:38:46.647Z"
   },
   {
    "duration": 56,
    "start_time": "2025-06-17T20:38:46.710Z"
   },
   {
    "duration": 11,
    "start_time": "2025-06-17T20:38:46.777Z"
   },
   {
    "duration": 13,
    "start_time": "2025-06-17T20:38:46.790Z"
   },
   {
    "duration": 6,
    "start_time": "2025-06-17T20:38:46.805Z"
   },
   {
    "duration": 6,
    "start_time": "2025-06-17T20:38:46.813Z"
   },
   {
    "duration": 22,
    "start_time": "2025-06-17T20:38:46.821Z"
   },
   {
    "duration": 5,
    "start_time": "2025-06-17T20:38:46.844Z"
   },
   {
    "duration": 14,
    "start_time": "2025-06-17T20:38:46.859Z"
   },
   {
    "duration": 5,
    "start_time": "2025-06-17T20:38:46.875Z"
   },
   {
    "duration": 8,
    "start_time": "2025-06-17T20:38:46.884Z"
   },
   {
    "duration": 6307,
    "start_time": "2025-06-17T20:38:46.894Z"
   },
   {
    "duration": 5,
    "start_time": "2025-06-17T20:38:53.203Z"
   },
   {
    "duration": 30,
    "start_time": "2025-06-17T20:38:53.209Z"
   },
   {
    "duration": 9238,
    "start_time": "2025-06-17T20:38:53.241Z"
   },
   {
    "duration": 3,
    "start_time": "2025-06-17T20:39:02.481Z"
   },
   {
    "duration": 563808,
    "start_time": "2025-06-17T20:39:02.486Z"
   },
   {
    "duration": 121685,
    "start_time": "2025-06-17T20:48:26.296Z"
   },
   {
    "duration": 5,
    "start_time": "2025-06-17T20:50:27.983Z"
   },
   {
    "duration": 4,
    "start_time": "2025-06-17T20:50:27.989Z"
   },
   {
    "duration": 5,
    "start_time": "2025-06-17T20:50:27.995Z"
   },
   {
    "duration": 1900,
    "start_time": "2025-06-17T20:50:28.001Z"
   },
   {
    "duration": 155,
    "start_time": "2025-06-17T20:50:29.904Z"
   },
   {
    "duration": 521,
    "start_time": "2025-06-17T20:50:32.483Z"
   },
   {
    "duration": 226,
    "start_time": "2025-06-17T20:50:43.588Z"
   },
   {
    "duration": 152,
    "start_time": "2025-06-17T20:50:51.844Z"
   },
   {
    "duration": 1019,
    "start_time": "2025-06-17T20:51:31.134Z"
   },
   {
    "duration": 140,
    "start_time": "2025-06-17T20:51:41.272Z"
   },
   {
    "duration": 245,
    "start_time": "2025-06-17T20:51:48.173Z"
   },
   {
    "duration": 158,
    "start_time": "2025-06-17T20:52:00.564Z"
   },
   {
    "duration": 140,
    "start_time": "2025-06-17T20:52:23.291Z"
   },
   {
    "duration": 151,
    "start_time": "2025-06-17T20:52:42.149Z"
   },
   {
    "duration": 158,
    "start_time": "2025-06-17T20:53:19.635Z"
   },
   {
    "duration": 180,
    "start_time": "2025-06-17T20:53:27.203Z"
   },
   {
    "duration": 168,
    "start_time": "2025-06-17T20:53:38.435Z"
   },
   {
    "duration": 177,
    "start_time": "2025-06-17T20:54:01.713Z"
   },
   {
    "duration": 7671,
    "start_time": "2025-06-17T21:00:33.678Z"
   },
   {
    "duration": 22,
    "start_time": "2025-06-17T21:00:41.353Z"
   },
   {
    "duration": 1208,
    "start_time": "2025-06-17T21:00:41.377Z"
   },
   {
    "duration": 37,
    "start_time": "2025-06-17T21:00:42.588Z"
   },
   {
    "duration": 210,
    "start_time": "2025-06-17T21:00:42.627Z"
   },
   {
    "duration": 4,
    "start_time": "2025-06-17T21:00:42.839Z"
   },
   {
    "duration": 2592,
    "start_time": "2025-06-17T21:00:42.845Z"
   },
   {
    "duration": 3,
    "start_time": "2025-06-17T21:00:45.439Z"
   },
   {
    "duration": 43238,
    "start_time": "2025-06-17T21:00:45.444Z"
   },
   {
    "duration": 12,
    "start_time": "2025-06-17T21:01:28.686Z"
   },
   {
    "duration": 6,
    "start_time": "2025-06-17T21:01:28.700Z"
   },
   {
    "duration": 3610,
    "start_time": "2025-06-17T21:01:28.708Z"
   },
   {
    "duration": 246,
    "start_time": "2025-06-17T21:01:32.320Z"
   },
   {
    "duration": 29046,
    "start_time": "2025-06-17T21:01:32.567Z"
   },
   {
    "duration": 1318,
    "start_time": "2025-06-17T21:02:01.617Z"
   },
   {
    "duration": 7719,
    "start_time": "2025-06-17T21:02:25.801Z"
   },
   {
    "duration": 4661,
    "start_time": "2025-06-17T21:02:33.522Z"
   },
   {
    "duration": 1047,
    "start_time": "2025-06-17T21:02:38.185Z"
   },
   {
    "duration": 46,
    "start_time": "2025-06-17T21:02:39.234Z"
   },
   {
    "duration": 424,
    "start_time": "2025-06-17T21:02:39.282Z"
   },
   {
    "duration": 6,
    "start_time": "2025-06-17T21:02:39.708Z"
   },
   {
    "duration": 2657,
    "start_time": "2025-06-17T21:02:39.717Z"
   },
   {
    "duration": 4,
    "start_time": "2025-06-17T21:02:42.375Z"
   },
   {
    "duration": 45076,
    "start_time": "2025-06-17T21:02:42.381Z"
   },
   {
    "duration": 17,
    "start_time": "2025-06-17T21:03:27.460Z"
   },
   {
    "duration": 5,
    "start_time": "2025-06-17T21:03:27.479Z"
   },
   {
    "duration": 3045,
    "start_time": "2025-06-17T21:03:27.486Z"
   },
   {
    "duration": 250,
    "start_time": "2025-06-17T21:03:30.533Z"
   },
   {
    "duration": 28662,
    "start_time": "2025-06-17T21:03:30.785Z"
   },
   {
    "duration": 1361,
    "start_time": "2025-06-17T21:03:59.449Z"
   },
   {
    "duration": 38978,
    "start_time": "2025-06-17T21:04:00.812Z"
   },
   {
    "duration": 178,
    "start_time": "2025-06-17T21:04:39.792Z"
   },
   {
    "duration": 57,
    "start_time": "2025-06-17T21:04:39.976Z"
   },
   {
    "duration": 50,
    "start_time": "2025-06-17T21:04:40.034Z"
   },
   {
    "duration": 11,
    "start_time": "2025-06-17T21:04:40.086Z"
   },
   {
    "duration": 14,
    "start_time": "2025-06-17T21:04:40.099Z"
   },
   {
    "duration": 16,
    "start_time": "2025-06-17T21:04:40.114Z"
   },
   {
    "duration": 6,
    "start_time": "2025-06-17T21:04:40.132Z"
   },
   {
    "duration": 37,
    "start_time": "2025-06-17T21:04:40.140Z"
   },
   {
    "duration": 9,
    "start_time": "2025-06-17T21:04:40.179Z"
   },
   {
    "duration": 5,
    "start_time": "2025-06-17T21:04:40.190Z"
   },
   {
    "duration": 8,
    "start_time": "2025-06-17T21:04:40.196Z"
   },
   {
    "duration": 20,
    "start_time": "2025-06-17T21:04:40.208Z"
   },
   {
    "duration": 5154,
    "start_time": "2025-06-17T21:04:40.230Z"
   },
   {
    "duration": 6,
    "start_time": "2025-06-17T21:04:45.386Z"
   },
   {
    "duration": 101,
    "start_time": "2025-06-17T21:04:45.394Z"
   },
   {
    "duration": 8078,
    "start_time": "2025-06-17T21:04:45.498Z"
   },
   {
    "duration": 4,
    "start_time": "2025-06-17T21:04:53.580Z"
   },
   {
    "duration": 478908,
    "start_time": "2025-06-17T21:04:53.585Z"
   },
   {
    "duration": 121710,
    "start_time": "2025-06-17T21:12:52.495Z"
   },
   {
    "duration": 10,
    "start_time": "2025-06-17T21:14:54.263Z"
   },
   {
    "duration": 58,
    "start_time": "2025-06-17T21:14:54.276Z"
   },
   {
    "duration": 5,
    "start_time": "2025-06-17T21:14:54.336Z"
   },
   {
    "duration": 1794,
    "start_time": "2025-06-17T21:14:54.343Z"
   }
  ],
  "kernelspec": {
   "display_name": "Python 3 (ipykernel)",
   "language": "python",
   "name": "python3"
  },
  "language_info": {
   "codemirror_mode": {
    "name": "ipython",
    "version": 3
   },
   "file_extension": ".py",
   "mimetype": "text/x-python",
   "name": "python",
   "nbconvert_exporter": "python",
   "pygments_lexer": "ipython3",
   "version": "3.9.5"
  },
  "toc": {
   "base_numbering": 1,
   "nav_menu": {},
   "number_sections": true,
   "sideBar": true,
   "skip_h1_title": true,
   "title_cell": "Содержание",
   "title_sidebar": "Contents",
   "toc_cell": true,
   "toc_position": {
    "height": "calc(100% - 180px)",
    "left": "10px",
    "top": "150px",
    "width": "302.383px"
   },
   "toc_section_display": true,
   "toc_window_display": true
  }
 },
 "nbformat": 4,
 "nbformat_minor": 2
}
