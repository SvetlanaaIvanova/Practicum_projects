{
 "cells": [
  {
   "cell_type": "markdown",
   "metadata": {},
   "source": [
    "# Исследование данных о продажах игр, оценок пользователей и экспертов, жанров и платформ."
   ]
  },
  {
   "cell_type": "markdown",
   "metadata": {},
   "source": [
    "В нашем распоряжении данные из открытых источников о продажах игр, оценках пользователей и экспертов, жанрах и платформах (например, Xbox или PlayStation).\n",
    "\n",
    "**Цель исследования** - выявить определяющие успешность игры закономерности, что позволит интернет-магазину сделать ставку на потенциально популярный продукт и спланировать рекламные кампании.\n",
    "\n",
    "*Иследование проведем по следующим этапам*:\n",
    "1. Изучим содержание данных, выявим наличие данных, требующих их предобработки (неудобный тип данных, дубликаты и пропуски).\n",
    "2. Проведем предобработку данных:\n",
    "    - приведем к удобному формату данных;    \n",
    "    - удалим дубликаты при наличии;\n",
    "    - заполним пропуски значений, где это возможно;\n",
    "    - добавим при необходимости дополнительные столбцы с данными.\n",
    "3. Проведем исследовательский анализ данных:\n",
    "    - изучим, сколько игр выпускалось в разные годы;\n",
    "    - изучим продажи по платформам и определим лидеров среди них;\n",
    "    - изучим, как влияют на продажи внутри одной платформы отзывы пользователей и критиков;\n",
    "    - изучим распределение игр по жанрам и определим самые прибыльные жанры;\n",
    "    - определим для пользователя каждого региона (Северной Америки, Европы и Японии) самые популярные платформы, жанры игр и влияние рейтинга ESRB на продажи.\n",
    "4. Проверим следующие гипотезы:\n",
    "    - средние пользовательские рейтинги платформ Xbox One и PC одинаковые;\n",
    "    - средние пользовательские рейтинги жанров \"Action\" и \"Sports\" разные.\n",
    "5. Оформим полученные результаты."
   ]
  },
  {
   "cell_type": "code",
   "execution_count": 1,
   "metadata": {},
   "outputs": [],
   "source": [
    "# импортируем необходимые библиотеки:\n",
    "import pandas as pd\n",
    "import numpy as np\n",
    "from scipy import stats as st\n",
    "import matplotlib.pyplot as plt"
   ]
  },
  {
   "cell_type": "markdown",
   "metadata": {},
   "source": [
    "### Загрузка данных."
   ]
  },
  {
   "cell_type": "code",
   "execution_count": 2,
   "metadata": {},
   "outputs": [
    {
     "data": {
      "text/html": [
       "<div>\n",
       "<style scoped>\n",
       "    .dataframe tbody tr th:only-of-type {\n",
       "        vertical-align: middle;\n",
       "    }\n",
       "\n",
       "    .dataframe tbody tr th {\n",
       "        vertical-align: top;\n",
       "    }\n",
       "\n",
       "    .dataframe thead th {\n",
       "        text-align: right;\n",
       "    }\n",
       "</style>\n",
       "<table border=\"1\" class=\"dataframe\">\n",
       "  <thead>\n",
       "    <tr style=\"text-align: right;\">\n",
       "      <th></th>\n",
       "      <th>Name</th>\n",
       "      <th>Platform</th>\n",
       "      <th>Year_of_Release</th>\n",
       "      <th>Genre</th>\n",
       "      <th>NA_sales</th>\n",
       "      <th>EU_sales</th>\n",
       "      <th>JP_sales</th>\n",
       "      <th>Other_sales</th>\n",
       "      <th>Critic_Score</th>\n",
       "      <th>User_Score</th>\n",
       "      <th>Rating</th>\n",
       "    </tr>\n",
       "  </thead>\n",
       "  <tbody>\n",
       "    <tr>\n",
       "      <th>0</th>\n",
       "      <td>Wii Sports</td>\n",
       "      <td>Wii</td>\n",
       "      <td>2006.0</td>\n",
       "      <td>Sports</td>\n",
       "      <td>41.36</td>\n",
       "      <td>28.96</td>\n",
       "      <td>3.77</td>\n",
       "      <td>8.45</td>\n",
       "      <td>76.0</td>\n",
       "      <td>8</td>\n",
       "      <td>E</td>\n",
       "    </tr>\n",
       "    <tr>\n",
       "      <th>1</th>\n",
       "      <td>Super Mario Bros.</td>\n",
       "      <td>NES</td>\n",
       "      <td>1985.0</td>\n",
       "      <td>Platform</td>\n",
       "      <td>29.08</td>\n",
       "      <td>3.58</td>\n",
       "      <td>6.81</td>\n",
       "      <td>0.77</td>\n",
       "      <td>NaN</td>\n",
       "      <td>NaN</td>\n",
       "      <td>NaN</td>\n",
       "    </tr>\n",
       "    <tr>\n",
       "      <th>2</th>\n",
       "      <td>Mario Kart Wii</td>\n",
       "      <td>Wii</td>\n",
       "      <td>2008.0</td>\n",
       "      <td>Racing</td>\n",
       "      <td>15.68</td>\n",
       "      <td>12.76</td>\n",
       "      <td>3.79</td>\n",
       "      <td>3.29</td>\n",
       "      <td>82.0</td>\n",
       "      <td>8.3</td>\n",
       "      <td>E</td>\n",
       "    </tr>\n",
       "    <tr>\n",
       "      <th>3</th>\n",
       "      <td>Wii Sports Resort</td>\n",
       "      <td>Wii</td>\n",
       "      <td>2009.0</td>\n",
       "      <td>Sports</td>\n",
       "      <td>15.61</td>\n",
       "      <td>10.93</td>\n",
       "      <td>3.28</td>\n",
       "      <td>2.95</td>\n",
       "      <td>80.0</td>\n",
       "      <td>8</td>\n",
       "      <td>E</td>\n",
       "    </tr>\n",
       "    <tr>\n",
       "      <th>4</th>\n",
       "      <td>Pokemon Red/Pokemon Blue</td>\n",
       "      <td>GB</td>\n",
       "      <td>1996.0</td>\n",
       "      <td>Role-Playing</td>\n",
       "      <td>11.27</td>\n",
       "      <td>8.89</td>\n",
       "      <td>10.22</td>\n",
       "      <td>1.00</td>\n",
       "      <td>NaN</td>\n",
       "      <td>NaN</td>\n",
       "      <td>NaN</td>\n",
       "    </tr>\n",
       "  </tbody>\n",
       "</table>\n",
       "</div>"
      ],
      "text/plain": [
       "                       Name Platform  Year_of_Release         Genre  NA_sales  \\\n",
       "0                Wii Sports      Wii           2006.0        Sports     41.36   \n",
       "1         Super Mario Bros.      NES           1985.0      Platform     29.08   \n",
       "2            Mario Kart Wii      Wii           2008.0        Racing     15.68   \n",
       "3         Wii Sports Resort      Wii           2009.0        Sports     15.61   \n",
       "4  Pokemon Red/Pokemon Blue       GB           1996.0  Role-Playing     11.27   \n",
       "\n",
       "   EU_sales  JP_sales  Other_sales  Critic_Score User_Score Rating  \n",
       "0     28.96      3.77         8.45          76.0          8      E  \n",
       "1      3.58      6.81         0.77           NaN        NaN    NaN  \n",
       "2     12.76      3.79         3.29          82.0        8.3      E  \n",
       "3     10.93      3.28         2.95          80.0          8      E  \n",
       "4      8.89     10.22         1.00           NaN        NaN    NaN  "
      ]
     },
     "execution_count": 2,
     "metadata": {},
     "output_type": "execute_result"
    }
   ],
   "source": [
    "games = pd.read_csv ('/datasets/games.csv')\n",
    "games.head()"
   ]
  },
  {
   "cell_type": "code",
   "execution_count": 3,
   "metadata": {},
   "outputs": [
    {
     "data": {
      "text/plain": [
       "(16715, 11)"
      ]
     },
     "execution_count": 3,
     "metadata": {},
     "output_type": "execute_result"
    }
   ],
   "source": [
    "#размер исходных данных\n",
    "shape_games = games.shape\n",
    "shape_games"
   ]
  },
  {
   "cell_type": "code",
   "execution_count": 4,
   "metadata": {},
   "outputs": [
    {
     "data": {
      "text/plain": [
       "Index(['Name', 'Platform', 'Year_of_Release', 'Genre', 'NA_sales', 'EU_sales',\n",
       "       'JP_sales', 'Other_sales', 'Critic_Score', 'User_Score', 'Rating'],\n",
       "      dtype='object')"
      ]
     },
     "execution_count": 4,
     "metadata": {},
     "output_type": "execute_result"
    }
   ],
   "source": [
    "# наименования столбцов\n",
    "games.columns"
   ]
  },
  {
   "cell_type": "code",
   "execution_count": 5,
   "metadata": {},
   "outputs": [
    {
     "data": {
      "text/plain": [
       "0"
      ]
     },
     "execution_count": 5,
     "metadata": {},
     "output_type": "execute_result"
    }
   ],
   "source": [
    "#проверим на наличие дубликатов\n",
    "games.duplicated().sum()"
   ]
  },
  {
   "cell_type": "markdown",
   "metadata": {},
   "source": [
    "Общая информация о данных:"
   ]
  },
  {
   "cell_type": "code",
   "execution_count": 6,
   "metadata": {},
   "outputs": [
    {
     "name": "stdout",
     "output_type": "stream",
     "text": [
      "<class 'pandas.core.frame.DataFrame'>\n",
      "RangeIndex: 16715 entries, 0 to 16714\n",
      "Data columns (total 11 columns):\n",
      " #   Column           Non-Null Count  Dtype  \n",
      "---  ------           --------------  -----  \n",
      " 0   Name             16713 non-null  object \n",
      " 1   Platform         16715 non-null  object \n",
      " 2   Year_of_Release  16446 non-null  float64\n",
      " 3   Genre            16713 non-null  object \n",
      " 4   NA_sales         16715 non-null  float64\n",
      " 5   EU_sales         16715 non-null  float64\n",
      " 6   JP_sales         16715 non-null  float64\n",
      " 7   Other_sales      16715 non-null  float64\n",
      " 8   Critic_Score     8137 non-null   float64\n",
      " 9   User_Score       10014 non-null  object \n",
      " 10  Rating           9949 non-null   object \n",
      "dtypes: float64(6), object(5)\n",
      "memory usage: 1.4+ MB\n"
     ]
    }
   ],
   "source": [
    "games.info()"
   ]
  },
  {
   "cell_type": "code",
   "execution_count": 7,
   "metadata": {},
   "outputs": [
    {
     "data": {
      "text/plain": [
       "array(['Wii Sports', 'Super Mario Bros.', 'Mario Kart Wii', ...,\n",
       "       'Woody Woodpecker in Crazy Castle 5', 'LMA Manager 2007',\n",
       "       'Haitaka no Psychedelica'], dtype=object)"
      ]
     },
     "execution_count": 7,
     "metadata": {},
     "output_type": "execute_result"
    }
   ],
   "source": [
    "#проверим на наличие неявных дубликатов в наименовании игры\n",
    "games['Name'].unique()"
   ]
  },
  {
   "cell_type": "code",
   "execution_count": 8,
   "metadata": {},
   "outputs": [
    {
     "data": {
      "text/plain": [
       "array(['Wii', 'NES', 'GB', 'DS', 'X360', 'PS3', 'PS2', 'SNES', 'GBA',\n",
       "       'PS4', '3DS', 'N64', 'PS', 'XB', 'PC', '2600', 'PSP', 'XOne',\n",
       "       'WiiU', 'GC', 'GEN', 'DC', 'PSV', 'SAT', 'SCD', 'WS', 'NG', 'TG16',\n",
       "       '3DO', 'GG', 'PCFX'], dtype=object)"
      ]
     },
     "execution_count": 8,
     "metadata": {},
     "output_type": "execute_result"
    }
   ],
   "source": [
    "#проверим на наличие неявных дубликатов в наименовании платформы\n",
    "games['Platform'].unique()"
   ]
  },
  {
   "cell_type": "code",
   "execution_count": 9,
   "metadata": {},
   "outputs": [
    {
     "data": {
      "text/plain": [
       "array(['Sports', 'Platform', 'Racing', 'Role-Playing', 'Puzzle', 'Misc',\n",
       "       'Shooter', 'Simulation', 'Action', 'Fighting', 'Adventure',\n",
       "       'Strategy', nan], dtype=object)"
      ]
     },
     "execution_count": 9,
     "metadata": {},
     "output_type": "execute_result"
    }
   ],
   "source": [
    "#проверим на наличие неявных дубликатов в наименовании жанра\n",
    "games['Genre'].unique()"
   ]
  },
  {
   "cell_type": "markdown",
   "metadata": {},
   "source": [
    "Исходные данные содержат информацию о 16715 играх, в том числе наименование игры, наименование платформы, год выпуска, жанр игры, продажи в регионах, оценки критиков и пользователей, рейтинг от организации ESRB. Данные содержат пропуски, тип данных и наименования столбцов требуют корректировки. Дубликаты в данных не обнаружены. "
   ]
  },
  {
   "cell_type": "markdown",
   "metadata": {},
   "source": [
    "### Предобработка данных."
   ]
  },
  {
   "cell_type": "markdown",
   "metadata": {},
   "source": [
    "#### Наименования столбцов.\n",
    "\n",
    "Наименования столбцов приведем к нижнему регистру:"
   ]
  },
  {
   "cell_type": "code",
   "execution_count": 10,
   "metadata": {},
   "outputs": [
    {
     "data": {
      "text/plain": [
       "Index(['name', 'platform', 'year_of_release', 'genre', 'na_sales', 'eu_sales',\n",
       "       'jp_sales', 'other_sales', 'critic_score', 'user_score', 'rating'],\n",
       "      dtype='object')"
      ]
     },
     "execution_count": 10,
     "metadata": {},
     "output_type": "execute_result"
    }
   ],
   "source": [
    "games.columns = games.columns.str.lower()\n",
    "games.columns"
   ]
  },
  {
   "cell_type": "markdown",
   "metadata": {},
   "source": [
    "#### Тип данных.\n",
    "\n"
   ]
  },
  {
   "cell_type": "markdown",
   "metadata": {},
   "source": [
    "Информация о столбцах выявила следующие типы данных, которые следует изменить:\n",
    "\n",
    "1) столбец `year_of_release` имеет вещественный тип данных \"float64\", при этом в нем отражена информация о годе выпуска игры, т.к. годы  обозначаются целымы числами, имеет смысл поменять тип данных в этом столбце с \"float64\" на \"int64\";\n",
    "\n",
    "2) столбец `user_score` содержит информацию об оценках пользователей, выраженных числами со значениями после запятой, поэтому данному столбцу больше подходит тип данных \"float64\".\n",
    "\n",
    "Приведем типы данных в столбцах к более подходящему виду:"
   ]
  },
  {
   "cell_type": "code",
   "execution_count": 11,
   "metadata": {},
   "outputs": [],
   "source": [
    "games['year_of_release'] = games['year_of_release'].astype('Int32')"
   ]
  },
  {
   "cell_type": "code",
   "execution_count": 12,
   "metadata": {},
   "outputs": [
    {
     "data": {
      "text/plain": [
       "array(['8', nan, '8.3', '8.5', '6.6', '8.4', '8.6', '7.7', '6.3', '7.4',\n",
       "       '8.2', '9', '7.9', '8.1', '8.7', '7.1', '3.4', '5.3', '4.8', '3.2',\n",
       "       '8.9', '6.4', '7.8', '7.5', '2.6', '7.2', '9.2', '7', '7.3', '4.3',\n",
       "       '7.6', '5.7', '5', '9.1', '6.5', 'tbd', '8.8', '6.9', '9.4', '6.8',\n",
       "       '6.1', '6.7', '5.4', '4', '4.9', '4.5', '9.3', '6.2', '4.2', '6',\n",
       "       '3.7', '4.1', '5.8', '5.6', '5.5', '4.4', '4.6', '5.9', '3.9',\n",
       "       '3.1', '2.9', '5.2', '3.3', '4.7', '5.1', '3.5', '2.5', '1.9', '3',\n",
       "       '2.7', '2.2', '2', '9.5', '2.1', '3.6', '2.8', '1.8', '3.8', '0',\n",
       "       '1.6', '9.6', '2.4', '1.7', '1.1', '0.3', '1.5', '0.7', '1.2',\n",
       "       '2.3', '0.5', '1.3', '0.2', '0.6', '1.4', '0.9', '1', '9.7'],\n",
       "      dtype=object)"
      ]
     },
     "execution_count": 12,
     "metadata": {},
     "output_type": "execute_result"
    }
   ],
   "source": [
    "games['user_score'].unique()"
   ]
  },
  {
   "cell_type": "markdown",
   "metadata": {},
   "source": [
    "В столбце, содержащем информацию об оценках пользователей, есть значение \"tbd\", котрое используется, если какая-то информация еще не определена или решение по вопросу не принято. Значит, оценка по данным играм не определена, и значение можно приравнять к пропуску."
   ]
  },
  {
   "cell_type": "code",
   "execution_count": 13,
   "metadata": {},
   "outputs": [
    {
     "data": {
      "text/plain": [
       "array([8. , nan, 8.3, 8.5, 6.6, 8.4, 8.6, 7.7, 6.3, 7.4, 8.2, 9. , 7.9,\n",
       "       8.1, 8.7, 7.1, 3.4, 5.3, 4.8, 3.2, 8.9, 6.4, 7.8, 7.5, 2.6, 7.2,\n",
       "       9.2, 7. , 7.3, 4.3, 7.6, 5.7, 5. , 9.1, 6.5, 8.8, 6.9, 9.4, 6.8,\n",
       "       6.1, 6.7, 5.4, 4. , 4.9, 4.5, 9.3, 6.2, 4.2, 6. , 3.7, 4.1, 5.8,\n",
       "       5.6, 5.5, 4.4, 4.6, 5.9, 3.9, 3.1, 2.9, 5.2, 3.3, 4.7, 5.1, 3.5,\n",
       "       2.5, 1.9, 3. , 2.7, 2.2, 2. , 9.5, 2.1, 3.6, 2.8, 1.8, 3.8, 0. ,\n",
       "       1.6, 9.6, 2.4, 1.7, 1.1, 0.3, 1.5, 0.7, 1.2, 2.3, 0.5, 1.3, 0.2,\n",
       "       0.6, 1.4, 0.9, 1. , 9.7])"
      ]
     },
     "execution_count": 13,
     "metadata": {},
     "output_type": "execute_result"
    }
   ],
   "source": [
    "games['user_score'] = pd.to_numeric (games['user_score'], errors='coerce')\n",
    "games['user_score'].unique()"
   ]
  },
  {
   "cell_type": "code",
   "execution_count": 14,
   "metadata": {},
   "outputs": [
    {
     "name": "stdout",
     "output_type": "stream",
     "text": [
      "<class 'pandas.core.frame.DataFrame'>\n",
      "RangeIndex: 16715 entries, 0 to 16714\n",
      "Data columns (total 11 columns):\n",
      " #   Column           Non-Null Count  Dtype  \n",
      "---  ------           --------------  -----  \n",
      " 0   name             16713 non-null  object \n",
      " 1   platform         16715 non-null  object \n",
      " 2   year_of_release  16446 non-null  Int32  \n",
      " 3   genre            16713 non-null  object \n",
      " 4   na_sales         16715 non-null  float64\n",
      " 5   eu_sales         16715 non-null  float64\n",
      " 6   jp_sales         16715 non-null  float64\n",
      " 7   other_sales      16715 non-null  float64\n",
      " 8   critic_score     8137 non-null   float64\n",
      " 9   user_score       7590 non-null   float64\n",
      " 10  rating           9949 non-null   object \n",
      "dtypes: Int32(1), float64(6), object(4)\n",
      "memory usage: 1.4+ MB\n"
     ]
    }
   ],
   "source": [
    "games.info()"
   ]
  },
  {
   "cell_type": "markdown",
   "metadata": {},
   "source": [
    "Типы данных в столбцах с информацией о годе выпуска игры и об оценке пользователей изменены на более подходящие."
   ]
  },
  {
   "cell_type": "markdown",
   "metadata": {},
   "source": [
    "#### Обработка пропущенных значений в столбцах.\n",
    "\n"
   ]
  },
  {
   "cell_type": "markdown",
   "metadata": {},
   "source": [
    "Проверим количество пропущенных значений в столбцах."
   ]
  },
  {
   "cell_type": "code",
   "execution_count": 15,
   "metadata": {},
   "outputs": [
    {
     "data": {
      "text/plain": [
       "name                  2\n",
       "platform              0\n",
       "year_of_release     269\n",
       "genre                 2\n",
       "na_sales              0\n",
       "eu_sales              0\n",
       "jp_sales              0\n",
       "other_sales           0\n",
       "critic_score       8578\n",
       "user_score         9125\n",
       "rating             6766\n",
       "dtype: int64"
      ]
     },
     "execution_count": 15,
     "metadata": {},
     "output_type": "execute_result"
    }
   ],
   "source": [
    "games.isna().sum()"
   ]
  },
  {
   "cell_type": "markdown",
   "metadata": {},
   "source": [
    "Итого получаем 2 пропуска в столбцах с наименованием игры и наименованием жанра, 269 пропусков в столбце с информацией о годе выпуска игры и достаточно большое количество пропусков в столбцах с информацией об оценках пользователей, оценках критиков и рейтинге игры.\n",
    "Заполнить пропуски в столбцах с информацией об оценках пользователей, оценках критиков и рейтинге игры, используя данные в других столбцах не представляется возможным, а их удаление может привести к искажению данных, т.к. количество пропусков в каждом из этих столбцов превышает 30% исходного объема, поэтому оставим их. Пропуски в остальных столбцах обработаем."
   ]
  },
  {
   "cell_type": "markdown",
   "metadata": {},
   "source": [
    "***Пропуски в наименовании игры:***"
   ]
  },
  {
   "cell_type": "code",
   "execution_count": 16,
   "metadata": {},
   "outputs": [
    {
     "data": {
      "text/html": [
       "<div>\n",
       "<style scoped>\n",
       "    .dataframe tbody tr th:only-of-type {\n",
       "        vertical-align: middle;\n",
       "    }\n",
       "\n",
       "    .dataframe tbody tr th {\n",
       "        vertical-align: top;\n",
       "    }\n",
       "\n",
       "    .dataframe thead th {\n",
       "        text-align: right;\n",
       "    }\n",
       "</style>\n",
       "<table border=\"1\" class=\"dataframe\">\n",
       "  <thead>\n",
       "    <tr style=\"text-align: right;\">\n",
       "      <th></th>\n",
       "      <th>name</th>\n",
       "      <th>platform</th>\n",
       "      <th>year_of_release</th>\n",
       "      <th>genre</th>\n",
       "      <th>na_sales</th>\n",
       "      <th>eu_sales</th>\n",
       "      <th>jp_sales</th>\n",
       "      <th>other_sales</th>\n",
       "      <th>critic_score</th>\n",
       "      <th>user_score</th>\n",
       "      <th>rating</th>\n",
       "    </tr>\n",
       "  </thead>\n",
       "  <tbody>\n",
       "    <tr>\n",
       "      <th>659</th>\n",
       "      <td>NaN</td>\n",
       "      <td>GEN</td>\n",
       "      <td>1993</td>\n",
       "      <td>NaN</td>\n",
       "      <td>1.78</td>\n",
       "      <td>0.53</td>\n",
       "      <td>0.00</td>\n",
       "      <td>0.08</td>\n",
       "      <td>NaN</td>\n",
       "      <td>NaN</td>\n",
       "      <td>NaN</td>\n",
       "    </tr>\n",
       "    <tr>\n",
       "      <th>14244</th>\n",
       "      <td>NaN</td>\n",
       "      <td>GEN</td>\n",
       "      <td>1993</td>\n",
       "      <td>NaN</td>\n",
       "      <td>0.00</td>\n",
       "      <td>0.00</td>\n",
       "      <td>0.03</td>\n",
       "      <td>0.00</td>\n",
       "      <td>NaN</td>\n",
       "      <td>NaN</td>\n",
       "      <td>NaN</td>\n",
       "    </tr>\n",
       "  </tbody>\n",
       "</table>\n",
       "</div>"
      ],
      "text/plain": [
       "      name platform  year_of_release genre  na_sales  eu_sales  jp_sales  \\\n",
       "659    NaN      GEN             1993   NaN      1.78      0.53      0.00   \n",
       "14244  NaN      GEN             1993   NaN      0.00      0.00      0.03   \n",
       "\n",
       "       other_sales  critic_score  user_score rating  \n",
       "659           0.08           NaN         NaN    NaN  \n",
       "14244         0.00           NaN         NaN    NaN  "
      ]
     },
     "execution_count": 16,
     "metadata": {},
     "output_type": "execute_result"
    }
   ],
   "source": [
    "games[games['name'].isna()]"
   ]
  },
  {
   "cell_type": "code",
   "execution_count": 17,
   "metadata": {},
   "outputs": [
    {
     "data": {
      "text/html": [
       "<div>\n",
       "<style scoped>\n",
       "    .dataframe tbody tr th:only-of-type {\n",
       "        vertical-align: middle;\n",
       "    }\n",
       "\n",
       "    .dataframe tbody tr th {\n",
       "        vertical-align: top;\n",
       "    }\n",
       "\n",
       "    .dataframe thead th {\n",
       "        text-align: right;\n",
       "    }\n",
       "</style>\n",
       "<table border=\"1\" class=\"dataframe\">\n",
       "  <thead>\n",
       "    <tr style=\"text-align: right;\">\n",
       "      <th></th>\n",
       "      <th>name</th>\n",
       "      <th>platform</th>\n",
       "      <th>year_of_release</th>\n",
       "      <th>genre</th>\n",
       "      <th>na_sales</th>\n",
       "      <th>eu_sales</th>\n",
       "      <th>jp_sales</th>\n",
       "      <th>other_sales</th>\n",
       "      <th>critic_score</th>\n",
       "      <th>user_score</th>\n",
       "      <th>rating</th>\n",
       "    </tr>\n",
       "  </thead>\n",
       "  <tbody>\n",
       "    <tr>\n",
       "      <th>659</th>\n",
       "      <td>NaN</td>\n",
       "      <td>GEN</td>\n",
       "      <td>1993</td>\n",
       "      <td>NaN</td>\n",
       "      <td>1.78</td>\n",
       "      <td>0.53</td>\n",
       "      <td>0.00</td>\n",
       "      <td>0.08</td>\n",
       "      <td>NaN</td>\n",
       "      <td>NaN</td>\n",
       "      <td>NaN</td>\n",
       "    </tr>\n",
       "    <tr>\n",
       "      <th>7885</th>\n",
       "      <td>Shining Force II</td>\n",
       "      <td>GEN</td>\n",
       "      <td>1993</td>\n",
       "      <td>Strategy</td>\n",
       "      <td>0.00</td>\n",
       "      <td>0.00</td>\n",
       "      <td>0.19</td>\n",
       "      <td>0.00</td>\n",
       "      <td>NaN</td>\n",
       "      <td>NaN</td>\n",
       "      <td>NaN</td>\n",
       "    </tr>\n",
       "    <tr>\n",
       "      <th>8893</th>\n",
       "      <td>Super Street Fighter II</td>\n",
       "      <td>GEN</td>\n",
       "      <td>1993</td>\n",
       "      <td>Fighting</td>\n",
       "      <td>0.00</td>\n",
       "      <td>0.00</td>\n",
       "      <td>0.15</td>\n",
       "      <td>0.00</td>\n",
       "      <td>NaN</td>\n",
       "      <td>NaN</td>\n",
       "      <td>NaN</td>\n",
       "    </tr>\n",
       "    <tr>\n",
       "      <th>11986</th>\n",
       "      <td>Ecco: The Tides of Time</td>\n",
       "      <td>GEN</td>\n",
       "      <td>1993</td>\n",
       "      <td>Adventure</td>\n",
       "      <td>0.00</td>\n",
       "      <td>0.00</td>\n",
       "      <td>0.07</td>\n",
       "      <td>0.00</td>\n",
       "      <td>NaN</td>\n",
       "      <td>NaN</td>\n",
       "      <td>NaN</td>\n",
       "    </tr>\n",
       "    <tr>\n",
       "      <th>12098</th>\n",
       "      <td>Street Fighter II': Special Champion Edition (...</td>\n",
       "      <td>GEN</td>\n",
       "      <td>1993</td>\n",
       "      <td>Action</td>\n",
       "      <td>0.00</td>\n",
       "      <td>0.00</td>\n",
       "      <td>0.07</td>\n",
       "      <td>0.00</td>\n",
       "      <td>NaN</td>\n",
       "      <td>NaN</td>\n",
       "      <td>NaN</td>\n",
       "    </tr>\n",
       "    <tr>\n",
       "      <th>12264</th>\n",
       "      <td>Streets of Rage 3</td>\n",
       "      <td>GEN</td>\n",
       "      <td>1993</td>\n",
       "      <td>Action</td>\n",
       "      <td>0.00</td>\n",
       "      <td>0.00</td>\n",
       "      <td>0.07</td>\n",
       "      <td>0.00</td>\n",
       "      <td>NaN</td>\n",
       "      <td>NaN</td>\n",
       "      <td>NaN</td>\n",
       "    </tr>\n",
       "    <tr>\n",
       "      <th>12984</th>\n",
       "      <td>Dynamite Headdy</td>\n",
       "      <td>GEN</td>\n",
       "      <td>1993</td>\n",
       "      <td>Platform</td>\n",
       "      <td>0.00</td>\n",
       "      <td>0.00</td>\n",
       "      <td>0.05</td>\n",
       "      <td>0.00</td>\n",
       "      <td>NaN</td>\n",
       "      <td>NaN</td>\n",
       "      <td>NaN</td>\n",
       "    </tr>\n",
       "    <tr>\n",
       "      <th>13343</th>\n",
       "      <td>Beyond Oasis</td>\n",
       "      <td>GEN</td>\n",
       "      <td>1993</td>\n",
       "      <td>Role-Playing</td>\n",
       "      <td>0.00</td>\n",
       "      <td>0.00</td>\n",
       "      <td>0.05</td>\n",
       "      <td>0.00</td>\n",
       "      <td>NaN</td>\n",
       "      <td>NaN</td>\n",
       "      <td>NaN</td>\n",
       "    </tr>\n",
       "    <tr>\n",
       "      <th>14244</th>\n",
       "      <td>NaN</td>\n",
       "      <td>GEN</td>\n",
       "      <td>1993</td>\n",
       "      <td>NaN</td>\n",
       "      <td>0.00</td>\n",
       "      <td>0.00</td>\n",
       "      <td>0.03</td>\n",
       "      <td>0.00</td>\n",
       "      <td>NaN</td>\n",
       "      <td>NaN</td>\n",
       "      <td>NaN</td>\n",
       "    </tr>\n",
       "  </tbody>\n",
       "</table>\n",
       "</div>"
      ],
      "text/plain": [
       "                                                    name platform  \\\n",
       "659                                                  NaN      GEN   \n",
       "7885                                    Shining Force II      GEN   \n",
       "8893                             Super Street Fighter II      GEN   \n",
       "11986                            Ecco: The Tides of Time      GEN   \n",
       "12098  Street Fighter II': Special Champion Edition (...      GEN   \n",
       "12264                                  Streets of Rage 3      GEN   \n",
       "12984                                    Dynamite Headdy      GEN   \n",
       "13343                                       Beyond Oasis      GEN   \n",
       "14244                                                NaN      GEN   \n",
       "\n",
       "       year_of_release         genre  na_sales  eu_sales  jp_sales  \\\n",
       "659               1993           NaN      1.78      0.53      0.00   \n",
       "7885              1993      Strategy      0.00      0.00      0.19   \n",
       "8893              1993      Fighting      0.00      0.00      0.15   \n",
       "11986             1993     Adventure      0.00      0.00      0.07   \n",
       "12098             1993        Action      0.00      0.00      0.07   \n",
       "12264             1993        Action      0.00      0.00      0.07   \n",
       "12984             1993      Platform      0.00      0.00      0.05   \n",
       "13343             1993  Role-Playing      0.00      0.00      0.05   \n",
       "14244             1993           NaN      0.00      0.00      0.03   \n",
       "\n",
       "       other_sales  critic_score  user_score rating  \n",
       "659           0.08           NaN         NaN    NaN  \n",
       "7885          0.00           NaN         NaN    NaN  \n",
       "8893          0.00           NaN         NaN    NaN  \n",
       "11986         0.00           NaN         NaN    NaN  \n",
       "12098         0.00           NaN         NaN    NaN  \n",
       "12264         0.00           NaN         NaN    NaN  \n",
       "12984         0.00           NaN         NaN    NaN  \n",
       "13343         0.00           NaN         NaN    NaN  \n",
       "14244         0.00           NaN         NaN    NaN  "
      ]
     },
     "execution_count": 17,
     "metadata": {},
     "output_type": "execute_result"
    }
   ],
   "source": [
    "games[(games['platform'] == 'GEN') & (games['year_of_release'] == 1993)]"
   ]
  },
  {
   "cell_type": "code",
   "execution_count": 18,
   "metadata": {},
   "outputs": [
    {
     "name": "stdout",
     "output_type": "stream",
     "text": [
      "Доля строк с пропусками в наименовании игры: {0.01} %\n"
     ]
    }
   ],
   "source": [
    "print (f'Доля строк с пропусками в наименовании игры:', {round(len(games[games['name'].isna()])/len(games)*100, 2)}, '%')"
   ]
  },
  {
   "cell_type": "markdown",
   "metadata": {},
   "source": [
    "На платформе GEN несколько разных игр 1993 года выпуска, в связи с чем логическую замену пропусков не произвести. Кроме того, в строках с пропусками в наименовании игры, пропущены также значения в наимновании жанра, оценке пользователей, оценке критиков и рейтинге. Пропуска всего 2, что составляет менее 0.1% от исходного объема данных. Таким образом удаление данных срок не приведет к серьезному искажению данных."
   ]
  },
  {
   "cell_type": "code",
   "execution_count": 19,
   "metadata": {},
   "outputs": [
    {
     "data": {
      "text/plain": [
       "(16713, 11)"
      ]
     },
     "execution_count": 19,
     "metadata": {},
     "output_type": "execute_result"
    }
   ],
   "source": [
    "games = games.dropna(subset=['name'])\n",
    "games.shape"
   ]
  },
  {
   "cell_type": "markdown",
   "metadata": {},
   "source": [
    "***Пропуски в столбце с информацией о годе выпуска игры***:"
   ]
  },
  {
   "cell_type": "markdown",
   "metadata": {},
   "source": [
    "Пропуски заменим на значения из строк с аналогичным наименованием игры. "
   ]
  },
  {
   "cell_type": "code",
   "execution_count": 20,
   "metadata": {},
   "outputs": [],
   "source": [
    "for name in games['name'].unique():\n",
    "    games.loc[(games['name'] == name) & (games['year_of_release'].isna()), 'year_of_release'] = \\\n",
    "    games.loc[(games['name'] == name), 'year_of_release'].min()"
   ]
  },
  {
   "cell_type": "code",
   "execution_count": 21,
   "metadata": {},
   "outputs": [
    {
     "data": {
      "text/plain": [
       "146"
      ]
     },
     "execution_count": 21,
     "metadata": {},
     "output_type": "execute_result"
    }
   ],
   "source": [
    "#проверим, сколько осталось пропусков после подстановки значений\n",
    "games['year_of_release'].isna().sum()"
   ]
  },
  {
   "cell_type": "code",
   "execution_count": 22,
   "metadata": {},
   "outputs": [
    {
     "data": {
      "text/plain": [
       "array(['wwe Smackdown vs. Raw 2006', 'Rock Band',\n",
       "       \"Frogger's Adventures: Temple of the Frog\", 'Triple Play 99',\n",
       "       'Adventure', 'Combat', 'Legacy of Kain: Soul Reaver',\n",
       "       'Donkey Kong Land III', 'Air-Sea Battle', 'Suikoden III',\n",
       "       'Yakuza 4', 'WarioWare: Twisted!', 'Test Drive Unlimited 2',\n",
       "       'Monster Hunter 2', 'Advance Wars: Days of Ruin', 'Fishing Derby',\n",
       "       'Karate', 'Circus Atari',\n",
       "       'The Chronicles of Riddick: Escape from Butcher Bay',\n",
       "       \"Maze Craze: A Game of Cops 'n Robbers\", 'Silent Hill: Homecoming',\n",
       "       'Super Breakout', \"Robert Ludlum's The Bourne Conspiracy\",\n",
       "       'NHL Slapshot', 'TERA', 'NFL GameDay 2003',\n",
       "       'Harvest Moon: Save the Homeland', 'Hangman',\n",
       "       \"Cubix Robots for Everyone: Clash 'n' Bash\",\n",
       "       'Dragon Ball Z: Budokai Tenkaichi 2 (JP sales)', 'Dragster',\n",
       "       'All-Star Baseball 2005', 'Slot Machine',\n",
       "       'The Dukes of Hazzard II: Daisy Dukes It Out',\n",
       "       'Haven: Call of the King',\n",
       "       'Unreal Championship 2: The Liandri Conflict',\n",
       "       'The Legend of Zelda: The Minish Cap(weekly JP sales)', 'Indy 500',\n",
       "       'Disgaea 3: Absence of Detention', 'Flag Capture', 'Jet X20',\n",
       "       'Tribes: Aerial Assault', 'Big Beach Sports 2',\n",
       "       'Yu Yu Hakusho: Dark Tournament', 'Ghostbusters II',\n",
       "       'Breakaway IV', 'Move Fitness',\n",
       "       'Valkyria Chronicles III: Unrecorded Chronicles',\n",
       "       'DanceDanceRevolution II', 'Famista 64', 'Pet Zombies',\n",
       "       'Backbreaker', 'Twisted Metal: Small Brawl', 'Otomedius Excellent',\n",
       "       'Trauma Team', 'Sword of the Samurai',\n",
       "       'Alone in the Dark: The New Nightmare', 'Vegas Party',\n",
       "       'Jurassic Park: The Game', 'Home Run', 'eJay Clubworld',\n",
       "       'Our House Party!', \"Disney's Cinderella: Magical Dreams\",\n",
       "       'Nintendo Puzzle Collection', 'Charm Girls Club: My Fashion Mall',\n",
       "       'Super Robot Wars OG Saga: Masou Kishin II - Revelation of Evil God',\n",
       "       'Saru! Get You! Million Monkeys', 'The Daring Game for Girls',\n",
       "       'GiFTPiA', 'Atsumare! Power Pro Kun no DS Koushien',\n",
       "       'My Healthy Cooking Coach', 'Luminous Arc 2 (JP sales)',\n",
       "       'Egg Monster Hero', 'Demon Chaos', 'Action Man-Operation Extreme',\n",
       "       'Super Puzzle Fighter II', 'Charm Girls Club: My Fashion Show',\n",
       "       'Face Racers: Photo Finish', 'Zero: Tsukihami no Kamen',\n",
       "       'The Hidden', 'Mega Man Battle Network: Operation Shooting Star',\n",
       "       'Port Royale 3', 'Dream Trigger 3D', 'Yoostar on MTV', 'Tornado',\n",
       "       \"McFarlane's Evil Prophecy\", 'Drake of the 99 Dragons',\n",
       "       'Build-A-Bear Workshop: Friendship Valley',\n",
       "       'Alex Rider: Stormbreaker', 'Chou Soujuu Mecha MG',\n",
       "       'Prinny: Can I Really Be The Hero? (US sales)',\n",
       "       'Combat Elite: WWII Paratroopers', \"Flip's Twisted World\",\n",
       "       'Mobile Ops: The One Year War',\n",
       "       \"Tom Clancy's Rainbow Six: Critical Hour\",\n",
       "       'Jewel Link Chronicles: Mountains of Madness',\n",
       "       'Mountain Bike Adrenaline', 'Drill Dozer', 'Tour de France 2011',\n",
       "       'Reader Rabbit 2nd Grade', 'Clockwork Empires',\n",
       "       'B.L.U.E.: Legend of Water', 'Sega Rally 2006',\n",
       "       'Half-Minute Hero 2', 'Housekeeping', 'Sabre Wulf', 'Swords',\n",
       "       'Beyond the Labyrinth', 'Bikkuriman Daijiten',\n",
       "       'Fullmetal Alchemist: Brotherhood',\n",
       "       'Samurai Spirits: Tenkaichi Kenkakuden', 'Super Duper Sumos',\n",
       "       'The King of Fighters: Maximum Impact - Maniax',\n",
       "       'Combat Wings: The Great Battles of WWII', 'Tube Slider',\n",
       "       'Umineko no Naku Koro ni San: Shinjitsu to Gensou no Yasoukyoku',\n",
       "       'Payout Poker & Casino', 'Wii de Asobu: Metroid Prime',\n",
       "       'Legacy of Ys: Books I & II', 'Saint', 'Steal Princess',\n",
       "       \"Yu-Gi-Oh! 5D's Wheelie Breakers (JP sales)\",\n",
       "       'Writing and Speaking Beautiful Japanese DS', 'Virtua Quest',\n",
       "       \"Shonen Jump's Yu-Gi-Oh! GX Card Almanac\", 'Jet Impulse',\n",
       "       'Dream Dancer', 'Football Manager 2007',\n",
       "       'Ferrari: The Race Experience', 'Homeworld Remastered Collection',\n",
       "       'Shorts', 'Agarest Senki: Re-appearance',\n",
       "       'Hakuouki: Shinsengumi Kitan'], dtype=object)"
      ]
     },
     "execution_count": 22,
     "metadata": {},
     "output_type": "execute_result"
    }
   ],
   "source": [
    "year_no = games[games['year_of_release'].isna()]\n",
    "year_no['name'].unique()"
   ]
  },
  {
   "cell_type": "markdown",
   "metadata": {},
   "source": [
    "Наименования игр 'wwe Smackdown vs. Raw 2006', 'Triple Play 99', 'NFL GameDay 2003', 'All-Star Baseball 2005', 'Tour de France 2011', 'Sega Rally 2006', 'Football Manager 2007' содержат год, который скорее всего означает год выпуска игры. Подставим эти значения в столбец с информацией о годе выпуска игры."
   ]
  },
  {
   "cell_type": "code",
   "execution_count": 23,
   "metadata": {},
   "outputs": [],
   "source": [
    "games.loc[(games['name'] == 'wwe Smackdown vs. Raw 2006') & (games['year_of_release'].isna()), 'year_of_release'] = 2006\n",
    "games.loc[(games['name'] == 'Triple Play 99') & (games['year_of_release'].isna()), 'year_of_release'] = 1999\n",
    "games.loc[(games['name'] == 'NFL GameDay 2003') & (games['year_of_release'].isna()), 'year_of_release'] = 2003\n",
    "games.loc[(games['name'] == 'All-Star Baseball 2005') & (games['year_of_release'].isna()), 'year_of_release'] = 2005\n",
    "games.loc[(games['name'] == 'Tour de France 2011') & (games['year_of_release'].isna()), 'year_of_release'] = 2011\n",
    "games.loc[(games['name'] == 'Sega Rally 2006') & (games['year_of_release'].isna()), 'year_of_release'] = 2006\n",
    "games.loc[(games['name'] == 'Football Manager 2007') & (games['year_of_release'].isna()), 'year_of_release'] = 2007"
   ]
  },
  {
   "cell_type": "code",
   "execution_count": 24,
   "metadata": {},
   "outputs": [
    {
     "data": {
      "text/plain": [
       "138"
      ]
     },
     "execution_count": 24,
     "metadata": {},
     "output_type": "execute_result"
    }
   ],
   "source": [
    "#проверим, сколько осталось пропусков после подстановки значений\n",
    "games['year_of_release'].isna().sum()"
   ]
  },
  {
   "cell_type": "code",
   "execution_count": 25,
   "metadata": {},
   "outputs": [
    {
     "data": {
      "text/html": [
       "<div>\n",
       "<style scoped>\n",
       "    .dataframe tbody tr th:only-of-type {\n",
       "        vertical-align: middle;\n",
       "    }\n",
       "\n",
       "    .dataframe tbody tr th {\n",
       "        vertical-align: top;\n",
       "    }\n",
       "\n",
       "    .dataframe thead th {\n",
       "        text-align: right;\n",
       "    }\n",
       "</style>\n",
       "<table border=\"1\" class=\"dataframe\">\n",
       "  <thead>\n",
       "    <tr style=\"text-align: right;\">\n",
       "      <th></th>\n",
       "      <th>name</th>\n",
       "      <th>platform</th>\n",
       "      <th>year_of_release</th>\n",
       "      <th>genre</th>\n",
       "      <th>na_sales</th>\n",
       "      <th>eu_sales</th>\n",
       "      <th>jp_sales</th>\n",
       "      <th>other_sales</th>\n",
       "      <th>critic_score</th>\n",
       "      <th>user_score</th>\n",
       "      <th>rating</th>\n",
       "    </tr>\n",
       "  </thead>\n",
       "  <tbody>\n",
       "    <tr>\n",
       "      <th>627</th>\n",
       "      <td>Rock Band</td>\n",
       "      <td>X360</td>\n",
       "      <td>&lt;NA&gt;</td>\n",
       "      <td>Misc</td>\n",
       "      <td>1.93</td>\n",
       "      <td>0.33</td>\n",
       "      <td>0.00</td>\n",
       "      <td>0.21</td>\n",
       "      <td>92.0</td>\n",
       "      <td>8.2</td>\n",
       "      <td>T</td>\n",
       "    </tr>\n",
       "    <tr>\n",
       "      <th>657</th>\n",
       "      <td>Frogger's Adventures: Temple of the Frog</td>\n",
       "      <td>GBA</td>\n",
       "      <td>&lt;NA&gt;</td>\n",
       "      <td>Adventure</td>\n",
       "      <td>2.15</td>\n",
       "      <td>0.18</td>\n",
       "      <td>0.00</td>\n",
       "      <td>0.07</td>\n",
       "      <td>73.0</td>\n",
       "      <td>NaN</td>\n",
       "      <td>E</td>\n",
       "    </tr>\n",
       "    <tr>\n",
       "      <th>805</th>\n",
       "      <td>Rock Band</td>\n",
       "      <td>Wii</td>\n",
       "      <td>&lt;NA&gt;</td>\n",
       "      <td>Misc</td>\n",
       "      <td>1.33</td>\n",
       "      <td>0.56</td>\n",
       "      <td>0.00</td>\n",
       "      <td>0.20</td>\n",
       "      <td>80.0</td>\n",
       "      <td>6.3</td>\n",
       "      <td>T</td>\n",
       "    </tr>\n",
       "    <tr>\n",
       "      <th>1142</th>\n",
       "      <td>Rock Band</td>\n",
       "      <td>PS3</td>\n",
       "      <td>&lt;NA&gt;</td>\n",
       "      <td>Misc</td>\n",
       "      <td>0.99</td>\n",
       "      <td>0.41</td>\n",
       "      <td>0.00</td>\n",
       "      <td>0.22</td>\n",
       "      <td>92.0</td>\n",
       "      <td>8.4</td>\n",
       "      <td>T</td>\n",
       "    </tr>\n",
       "    <tr>\n",
       "      <th>1506</th>\n",
       "      <td>Adventure</td>\n",
       "      <td>2600</td>\n",
       "      <td>&lt;NA&gt;</td>\n",
       "      <td>Adventure</td>\n",
       "      <td>1.21</td>\n",
       "      <td>0.08</td>\n",
       "      <td>0.00</td>\n",
       "      <td>0.01</td>\n",
       "      <td>NaN</td>\n",
       "      <td>NaN</td>\n",
       "      <td>NaN</td>\n",
       "    </tr>\n",
       "    <tr>\n",
       "      <th>...</th>\n",
       "      <td>...</td>\n",
       "      <td>...</td>\n",
       "      <td>...</td>\n",
       "      <td>...</td>\n",
       "      <td>...</td>\n",
       "      <td>...</td>\n",
       "      <td>...</td>\n",
       "      <td>...</td>\n",
       "      <td>...</td>\n",
       "      <td>...</td>\n",
       "      <td>...</td>\n",
       "    </tr>\n",
       "    <tr>\n",
       "      <th>16277</th>\n",
       "      <td>Homeworld Remastered Collection</td>\n",
       "      <td>PC</td>\n",
       "      <td>&lt;NA&gt;</td>\n",
       "      <td>Strategy</td>\n",
       "      <td>0.00</td>\n",
       "      <td>0.01</td>\n",
       "      <td>0.00</td>\n",
       "      <td>0.00</td>\n",
       "      <td>86.0</td>\n",
       "      <td>8.2</td>\n",
       "      <td>E10+</td>\n",
       "    </tr>\n",
       "    <tr>\n",
       "      <th>16288</th>\n",
       "      <td>Shorts</td>\n",
       "      <td>DS</td>\n",
       "      <td>&lt;NA&gt;</td>\n",
       "      <td>Platform</td>\n",
       "      <td>0.01</td>\n",
       "      <td>0.00</td>\n",
       "      <td>0.00</td>\n",
       "      <td>0.00</td>\n",
       "      <td>NaN</td>\n",
       "      <td>NaN</td>\n",
       "      <td>E10+</td>\n",
       "    </tr>\n",
       "    <tr>\n",
       "      <th>16348</th>\n",
       "      <td>Agarest Senki: Re-appearance</td>\n",
       "      <td>PS3</td>\n",
       "      <td>&lt;NA&gt;</td>\n",
       "      <td>Role-Playing</td>\n",
       "      <td>0.00</td>\n",
       "      <td>0.00</td>\n",
       "      <td>0.01</td>\n",
       "      <td>0.00</td>\n",
       "      <td>NaN</td>\n",
       "      <td>NaN</td>\n",
       "      <td>NaN</td>\n",
       "    </tr>\n",
       "    <tr>\n",
       "      <th>16458</th>\n",
       "      <td>Hakuouki: Shinsengumi Kitan</td>\n",
       "      <td>PS3</td>\n",
       "      <td>&lt;NA&gt;</td>\n",
       "      <td>Adventure</td>\n",
       "      <td>0.01</td>\n",
       "      <td>0.00</td>\n",
       "      <td>0.00</td>\n",
       "      <td>0.00</td>\n",
       "      <td>NaN</td>\n",
       "      <td>NaN</td>\n",
       "      <td>NaN</td>\n",
       "    </tr>\n",
       "    <tr>\n",
       "      <th>16522</th>\n",
       "      <td>Virtua Quest</td>\n",
       "      <td>GC</td>\n",
       "      <td>&lt;NA&gt;</td>\n",
       "      <td>Role-Playing</td>\n",
       "      <td>0.01</td>\n",
       "      <td>0.00</td>\n",
       "      <td>0.00</td>\n",
       "      <td>0.00</td>\n",
       "      <td>55.0</td>\n",
       "      <td>5.5</td>\n",
       "      <td>T</td>\n",
       "    </tr>\n",
       "  </tbody>\n",
       "</table>\n",
       "<p>138 rows × 11 columns</p>\n",
       "</div>"
      ],
      "text/plain": [
       "                                           name platform  year_of_release  \\\n",
       "627                                   Rock Band     X360             <NA>   \n",
       "657    Frogger's Adventures: Temple of the Frog      GBA             <NA>   \n",
       "805                                   Rock Band      Wii             <NA>   \n",
       "1142                                  Rock Band      PS3             <NA>   \n",
       "1506                                  Adventure     2600             <NA>   \n",
       "...                                         ...      ...              ...   \n",
       "16277           Homeworld Remastered Collection       PC             <NA>   \n",
       "16288                                    Shorts       DS             <NA>   \n",
       "16348              Agarest Senki: Re-appearance      PS3             <NA>   \n",
       "16458               Hakuouki: Shinsengumi Kitan      PS3             <NA>   \n",
       "16522                              Virtua Quest       GC             <NA>   \n",
       "\n",
       "              genre  na_sales  eu_sales  jp_sales  other_sales  critic_score  \\\n",
       "627            Misc      1.93      0.33      0.00         0.21          92.0   \n",
       "657       Adventure      2.15      0.18      0.00         0.07          73.0   \n",
       "805            Misc      1.33      0.56      0.00         0.20          80.0   \n",
       "1142           Misc      0.99      0.41      0.00         0.22          92.0   \n",
       "1506      Adventure      1.21      0.08      0.00         0.01           NaN   \n",
       "...             ...       ...       ...       ...          ...           ...   \n",
       "16277      Strategy      0.00      0.01      0.00         0.00          86.0   \n",
       "16288      Platform      0.01      0.00      0.00         0.00           NaN   \n",
       "16348  Role-Playing      0.00      0.00      0.01         0.00           NaN   \n",
       "16458     Adventure      0.01      0.00      0.00         0.00           NaN   \n",
       "16522  Role-Playing      0.01      0.00      0.00         0.00          55.0   \n",
       "\n",
       "       user_score rating  \n",
       "627           8.2      T  \n",
       "657           NaN      E  \n",
       "805           6.3      T  \n",
       "1142          8.4      T  \n",
       "1506          NaN    NaN  \n",
       "...           ...    ...  \n",
       "16277         8.2   E10+  \n",
       "16288         NaN   E10+  \n",
       "16348         NaN    NaN  \n",
       "16458         NaN    NaN  \n",
       "16522         5.5      T  \n",
       "\n",
       "[138 rows x 11 columns]"
      ]
     },
     "execution_count": 25,
     "metadata": {},
     "output_type": "execute_result"
    }
   ],
   "source": [
    "games[games['year_of_release'].isna()]"
   ]
  },
  {
   "cell_type": "markdown",
   "metadata": {},
   "source": [
    "Оставшиеся пропуски не подлежат логическому заполнению, исходя из сведений в других столбцах."
   ]
  },
  {
   "cell_type": "code",
   "execution_count": 26,
   "metadata": {},
   "outputs": [
    {
     "data": {
      "text/plain": [
       "name                  0\n",
       "platform              0\n",
       "year_of_release     138\n",
       "genre                 0\n",
       "na_sales              0\n",
       "eu_sales              0\n",
       "jp_sales              0\n",
       "other_sales           0\n",
       "critic_score       8576\n",
       "user_score         9123\n",
       "rating             6764\n",
       "dtype: int64"
      ]
     },
     "execution_count": 26,
     "metadata": {},
     "output_type": "execute_result"
    }
   ],
   "source": [
    "games.isna().sum()"
   ]
  },
  {
   "cell_type": "markdown",
   "metadata": {},
   "source": [
    "Появление пропусков в данных может быть связано с некачественным сбором данных.\n",
    "\n",
    "В ходе предобработки данных заполнена часть пропусков в столбце с информацией о годе выпуска, в результате чего их количество в данном столбце сократилось до 138."
   ]
  },
  {
   "cell_type": "markdown",
   "metadata": {},
   "source": [
    "#### Дополнение информацией о суммарных продажах во всех регионах.\n",
    "\n"
   ]
  },
  {
   "cell_type": "code",
   "execution_count": 27,
   "metadata": {},
   "outputs": [],
   "source": [
    "games['total_sales'] = games[['na_sales', 'eu_sales', 'jp_sales', 'other_sales']].sum(axis=1)"
   ]
  },
  {
   "cell_type": "code",
   "execution_count": 28,
   "metadata": {},
   "outputs": [
    {
     "data": {
      "text/html": [
       "<div>\n",
       "<style scoped>\n",
       "    .dataframe tbody tr th:only-of-type {\n",
       "        vertical-align: middle;\n",
       "    }\n",
       "\n",
       "    .dataframe tbody tr th {\n",
       "        vertical-align: top;\n",
       "    }\n",
       "\n",
       "    .dataframe thead th {\n",
       "        text-align: right;\n",
       "    }\n",
       "</style>\n",
       "<table border=\"1\" class=\"dataframe\">\n",
       "  <thead>\n",
       "    <tr style=\"text-align: right;\">\n",
       "      <th></th>\n",
       "      <th>name</th>\n",
       "      <th>platform</th>\n",
       "      <th>year_of_release</th>\n",
       "      <th>genre</th>\n",
       "      <th>na_sales</th>\n",
       "      <th>eu_sales</th>\n",
       "      <th>jp_sales</th>\n",
       "      <th>other_sales</th>\n",
       "      <th>critic_score</th>\n",
       "      <th>user_score</th>\n",
       "      <th>rating</th>\n",
       "      <th>total_sales</th>\n",
       "    </tr>\n",
       "  </thead>\n",
       "  <tbody>\n",
       "    <tr>\n",
       "      <th>16177</th>\n",
       "      <td>Destiny Links</td>\n",
       "      <td>DS</td>\n",
       "      <td>2009</td>\n",
       "      <td>Role-Playing</td>\n",
       "      <td>0.0</td>\n",
       "      <td>0.0</td>\n",
       "      <td>0.01</td>\n",
       "      <td>0.0</td>\n",
       "      <td>NaN</td>\n",
       "      <td>NaN</td>\n",
       "      <td>NaN</td>\n",
       "      <td>0.01</td>\n",
       "    </tr>\n",
       "  </tbody>\n",
       "</table>\n",
       "</div>"
      ],
      "text/plain": [
       "                name platform  year_of_release         genre  na_sales  \\\n",
       "16177  Destiny Links       DS             2009  Role-Playing       0.0   \n",
       "\n",
       "       eu_sales  jp_sales  other_sales  critic_score  user_score rating  \\\n",
       "16177       0.0      0.01          0.0           NaN         NaN    NaN   \n",
       "\n",
       "       total_sales  \n",
       "16177         0.01  "
      ]
     },
     "execution_count": 28,
     "metadata": {},
     "output_type": "execute_result"
    }
   ],
   "source": [
    "games.sample()"
   ]
  },
  {
   "cell_type": "markdown",
   "metadata": {},
   "source": [
    "В ходе **предобработки данных** приведены к нижнему регистру наименования столбцов для удобства их использования при написании кода, типы данных в столбцах с информацией о годе выпуска и информацией об оценках пользователей переведен в более подходящий (целочисленный в первом случае и вещественный - во втором), данные очищены от строк с пропусками в столбце с наименованием игры и заполнена часть пропусков в столбце с информацией о годе выпуска, в результате чего их количество в данном столбце сократилось с 269 до 138, а также добавлена дополнительная информация о суммарных продажах во всех регионах.\n"
   ]
  },
  {
   "cell_type": "markdown",
   "metadata": {},
   "source": [
    "### Исследовательский анализ данных."
   ]
  },
  {
   "cell_type": "markdown",
   "metadata": {},
   "source": [
    "В ходе исследовательского анализа данных изучим следующие тенденции:\n",
    "- количество игр, которые выпускались в разные годы;\n",
    "- продажи по платформам с определением лидеров среди них;\n",
    "- влияние на продажи внутри одной платформы отзывов пользователей и критиков;\n",
    "- распределение игр по жанрам с определением самых прибыльных жанров."
   ]
  },
  {
   "cell_type": "markdown",
   "metadata": {},
   "source": [
    "#### Количество выпущенных игр по годам.\n",
    "\n"
   ]
  },
  {
   "cell_type": "code",
   "execution_count": 29,
   "metadata": {},
   "outputs": [
    {
     "data": {
      "image/png": "[encoded data removed]",
      "text/plain": [
       "<Figure size 576x324 with 1 Axes>"
      ]
     },
     "metadata": {
      "needs_background": "light"
     },
     "output_type": "display_data"
    }
   ],
   "source": [
    "by_years = games.pivot_table (index='year_of_release', values='name', aggfunc='count')\n",
    "by_years.plot(grid=True, legend=False, figsize=(8,4.5))\n",
    "plt.title('Выпуск игр по годам')\n",
    "plt.xlabel('Год выпуска')\n",
    "plt.ylabel('Количество выпущенных игр')\n",
    "plt.show()"
   ]
  },
  {
   "cell_type": "markdown",
   "metadata": {},
   "source": [
    "Судя по графику, наблюдается рост выпуска игр, начиная с 1990 года, который достигает своего пика в 2008 году (свыше 1400 игр), после чего начинается спад и к 2016 снижается до 502. До 1990 года игры выпускались равномерно в малом количестве, данный период можно не учитывать в дальнейшем исследовании."
   ]
  },
  {
   "cell_type": "markdown",
   "metadata": {},
   "source": [
    "#### Продажи в зависимости от платформы игры.\n",
    "\n"
   ]
  },
  {
   "cell_type": "markdown",
   "metadata": {},
   "source": [
    "Отберем для исследования платформы с наибольшими суммарными продажами."
   ]
  },
  {
   "cell_type": "code",
   "execution_count": 30,
   "metadata": {},
   "outputs": [
    {
     "data": {
      "text/plain": [
       "platform\n",
       "PS2     1255.77\n",
       "X360     971.42\n",
       "PS3      939.65\n",
       "Wii      907.51\n",
       "DS       806.12\n",
       "PS       730.86\n",
       "GBA      317.85\n",
       "PS4      314.14\n",
       "PSP      294.05\n",
       "PC       259.52\n",
       "Name: total_sales, dtype: float64"
      ]
     },
     "execution_count": 30,
     "metadata": {},
     "output_type": "execute_result"
    }
   ],
   "source": [
    "#определим платформы с наибольшими суммарными продажами\n",
    "games.groupby('platform')['total_sales'].sum().sort_values(ascending=False).head(10)"
   ]
  },
  {
   "cell_type": "markdown",
   "metadata": {},
   "source": [
    "Наибольшие суммарные продажи у платформ PS2, X360, PS3, Wii, DS и PS.\n",
    "\n",
    "Построим по ним распределение по годам."
   ]
  },
  {
   "cell_type": "code",
   "execution_count": 31,
   "metadata": {},
   "outputs": [
    {
     "data": {
      "image/png": "[encoded data removed]",
      "text/plain": [
       "<Figure size 720x360 with 1 Axes>"
      ]
     },
     "metadata": {
      "needs_background": "light"
     },
     "output_type": "display_data"
    }
   ],
   "source": [
    "platforms = ['PS2', 'X360', 'PS3', 'Wii', 'DS', 'PS']\n",
    "other_top_pl = ['X360', 'PS3', 'Wii', 'DS', 'PS']\n",
    "\n",
    "lider = games[(games['platform'] == 'PS2') & (games['year_of_release'] > 1990)].pivot_table (index='year_of_release', values='total_sales', aggfunc='sum')\n",
    "ax = lider.plot(kind='line', label='PS2', figsize = (10, 5), grid=True)\n",
    "\n",
    "for i in other_top_pl:\n",
    "    sales = games[(games['platform'] == i) & (games['year_of_release'] > 1990)].pivot_table (index='year_of_release', values='total_sales', aggfunc='sum')\n",
    "    sales.plot(kind='line', ax=ax, label=i, grid=True)\n",
    "\n",
    "plt.title('Распределение продаж платформ по годам')\n",
    "plt.xlabel('Год')\n",
    "plt.ylabel('Количество проданных копий (млн.)')\n",
    "plt.legend(platforms)\n",
    "plt.show()"
   ]
  },
  {
   "cell_type": "markdown",
   "metadata": {},
   "source": [
    "Графики наглядно показывают, что активные продажи на платформах идут около 10 лет, причем первые 5 лет продажи растут, а далее начинается спад. Лидерами продаж являются PS2 и X360. Также графики отражают, что у платформ \"PS\" и PS2\" активные продажи закончили примерно в 2003 и 2011 годах соответственно с пиками примерно в 1997 и 2004 годах соотвественно. Несмотря на лидерство платформы \"PS2\" для дальнейшего анализа данные этих платформ неактуальны, поэтому исключим их из дальнейшего анализа. Сфера видеоигр достаточно быстро развивается, чтобы исключить неактуальные тренды, для дальнейшего анализа возьмем период, начиная с 2015 года, т.е. за последние 2 года."
   ]
  },
  {
   "cell_type": "code",
   "execution_count": 32,
   "metadata": {},
   "outputs": [
    {
     "data": {
      "text/plain": [
       "platform\n",
       "PS4     188.15\n",
       "XOne     86.29\n",
       "3DS      42.92\n",
       "WiiU     20.95\n",
       "PS3      20.42\n",
       "Name: total_sales, dtype: float64"
      ]
     },
     "execution_count": 32,
     "metadata": {},
     "output_type": "execute_result"
    }
   ],
   "source": [
    "# определим топ-5 платформ с наибольшими суммарными продажами по играм, выпущенным после 2014 года\n",
    "games[games['year_of_release'] > 2014].groupby('platform')['total_sales'].sum().sort_values(ascending=False).head(5)"
   ]
  },
  {
   "cell_type": "code",
   "execution_count": 33,
   "metadata": {},
   "outputs": [
    {
     "data": {
      "image/png": "[encoded data removed]",
      "text/plain": [
       "<Figure size 720x360 with 1 Axes>"
      ]
     },
     "metadata": {
      "needs_background": "light"
     },
     "output_type": "display_data"
    }
   ],
   "source": [
    "# построим диаграмму размаха продаж на платформах 'PS4', 'XOne', '3DS', 'WiiU', 'PS3'\n",
    "(\n",
    "    games[(games['platform'].isin (['PS4', 'XOne', '3DS',  'WiiU', 'PS3'])) & (games['year_of_release'] > 2014)]\n",
    "    .boxplot('total_sales', by='platform', grid=True, figsize=(10, 5))\n",
    ")\n",
    "plt.ylim(0, 1.5)\n",
    "plt.ylabel('Количество проданных копий (млн.)')\n",
    "plt.show()"
   ]
  },
  {
   "cell_type": "markdown",
   "metadata": {},
   "source": [
    "Данные диаграммы размаха показывают, что среди 5 лидеров последних двух лет среднемедианное значение продаж больше всего на платформе  WiiU (около 0.21 млн. проданных копий), далее идут платформы XOne (около 0.13 млн. проданных копий) и PS4 (около 0.12 млн. проданных копий), замыкают топ-5 платформы 3DS (около 0.09 млн. проданных копий) и PS3 (около 0.06 млн. проданных копий)."
   ]
  },
  {
   "cell_type": "markdown",
   "metadata": {},
   "source": [
    "####  Влияние на продажи отзывов пользователей и критиков.\n",
    "\n"
   ]
  },
  {
   "cell_type": "markdown",
   "metadata": {},
   "source": [
    "Для определения влияния на продажи отзывов пользователей и критиков построим диаграмму рассеивания и посчитаем коэффициент корреляции. Для иследования возьмем срез данных о продажах за последние два года на платформе с наибольшим среднемедианным значением продаж в этот период - WiiU."
   ]
  },
  {
   "cell_type": "markdown",
   "metadata": {},
   "source": [
    "***Влияние на продажи отзывов пользователей.***"
   ]
  },
  {
   "cell_type": "markdown",
   "metadata": {},
   "source": [
    "Построим диаграмму рассеивания данных, характеризующию зависимость продаж от оценок пользователей (максимум 10):"
   ]
  },
  {
   "cell_type": "code",
   "execution_count": 34,
   "metadata": {},
   "outputs": [
    {
     "data": {
      "image/png": "[encoded data removed]",
      "text/plain": [
       "<Figure size 432x216 with 1 Axes>"
      ]
     },
     "metadata": {
      "needs_background": "light"
     },
     "output_type": "display_data"
    }
   ],
   "source": [
    "WiiU = games[(games['platform'] == 'WiiU') & (games['year_of_release'] > 2014)] \n",
    "WiiU.plot (x='user_score', y='total_sales', kind='scatter', figsize=(6,3), alpha=0.5, grid=True)\n",
    "plt.title('Зависимость продаж от оценок пользователей')\n",
    "plt.ylabel('Количество проданных копий (млн.)')\n",
    "plt.yticks(range(0,5))\n",
    "plt.xticks(range(0,11))\n",
    "plt.show;"
   ]
  },
  {
   "cell_type": "code",
   "execution_count": 35,
   "metadata": {},
   "outputs": [
    {
     "name": "stdout",
     "output_type": "stream",
     "text": [
      "Коэффициент корреляции общих продаж и оценок пользователей = 0.3635\n"
     ]
    }
   ],
   "source": [
    "# рассчитаем коэффициент корреляции 2 факторов - общих продаж и оценок пользователей:\n",
    "print('Коэффициент корреляции общих продаж и оценок пользователей =', round(WiiU['user_score'].corr(WiiU['total_sales']),4))\n"
   ]
  },
  {
   "cell_type": "markdown",
   "metadata": {},
   "source": [
    "График и коэффициет корреляции показывают, что зависимость продаж от оценок пользователей присутствует, но небольшая. "
   ]
  },
  {
   "cell_type": "markdown",
   "metadata": {},
   "source": [
    "***Влияние на продажи отзывов критиков.***"
   ]
  },
  {
   "cell_type": "markdown",
   "metadata": {},
   "source": [
    "Построим диаграмму рассеивания данных, характеризующию зависимость продаж от оценок критиков (максимум 100):"
   ]
  },
  {
   "cell_type": "code",
   "execution_count": 36,
   "metadata": {},
   "outputs": [
    {
     "data": {
      "image/png": "[encoded data removed]",
      "text/plain": [
       "<Figure size 432x216 with 1 Axes>"
      ]
     },
     "metadata": {
      "needs_background": "light"
     },
     "output_type": "display_data"
    }
   ],
   "source": [
    "WiiU.plot (x='critic_score', y='total_sales', kind='scatter', figsize=(6,3), alpha=0.5, grid=True)\n",
    "plt.title('Зависимость продаж от оценок критиков')\n",
    "plt.ylabel('Количество проданных копий (млн.)')\n",
    "plt.yticks(range(0,10))\n",
    "plt.xticks([0,10,20,30,40,50,60,70,80,90,100])\n",
    "plt.show;"
   ]
  },
  {
   "cell_type": "code",
   "execution_count": 37,
   "metadata": {},
   "outputs": [
    {
     "name": "stdout",
     "output_type": "stream",
     "text": [
      "Коэффициент корреляции общих продаж и оценок критиков = 0.317\n"
     ]
    }
   ],
   "source": [
    "# рассчитаем коэффициент корреляции 2 факторов - общих продаж и оценок критиков:\n",
    "print('Коэффициент корреляции общих продаж и оценок критиков =', round(WiiU['critic_score'].corr(WiiU['total_sales']),4))"
   ]
  },
  {
   "cell_type": "markdown",
   "metadata": {},
   "source": [
    "График и коэффициет корреляции показывают, что зависимость продаж от оценок критиков также присутствует, но она еще слабее, чем от оценок пользователей. "
   ]
  },
  {
   "cell_type": "markdown",
   "metadata": {},
   "source": [
    "Проверим зависимость продаж от оценок пользователей и критиков на остальных популярных платформах в последние два года."
   ]
  },
  {
   "cell_type": "code",
   "execution_count": 38,
   "metadata": {},
   "outputs": [
    {
     "name": "stderr",
     "output_type": "stream",
     "text": [
      "/opt/conda/lib/python3.9/site-packages/numpy/lib/function_base.py:2683: RuntimeWarning: Degrees of freedom <= 0 for slice\n",
      "  c = cov(x, y, rowvar, dtype=dtype)\n",
      "/opt/conda/lib/python3.9/site-packages/numpy/lib/function_base.py:2542: RuntimeWarning: divide by zero encountered in true_divide\n",
      "  c *= np.true_divide(1, fact)\n"
     ]
    },
    {
     "data": {
      "text/html": [
       "<div>\n",
       "<style scoped>\n",
       "    .dataframe tbody tr th:only-of-type {\n",
       "        vertical-align: middle;\n",
       "    }\n",
       "\n",
       "    .dataframe tbody tr th {\n",
       "        vertical-align: top;\n",
       "    }\n",
       "\n",
       "    .dataframe thead th {\n",
       "        text-align: right;\n",
       "    }\n",
       "</style>\n",
       "<table border=\"1\" class=\"dataframe\">\n",
       "  <thead>\n",
       "    <tr style=\"text-align: right;\">\n",
       "      <th></th>\n",
       "      <th>PS4</th>\n",
       "      <th>XOne</th>\n",
       "      <th>3DS</th>\n",
       "      <th>PS3</th>\n",
       "    </tr>\n",
       "  </thead>\n",
       "  <tbody>\n",
       "    <tr>\n",
       "      <th>Коэффициент зависимости от оценок пользователей</th>\n",
       "      <td>-0.0597</td>\n",
       "      <td>-0.0415</td>\n",
       "      <td>0.1988</td>\n",
       "      <td>-0.1653</td>\n",
       "    </tr>\n",
       "    <tr>\n",
       "      <th>Коэффициент зависимости от оценок критиков</th>\n",
       "      <td>0.3928</td>\n",
       "      <td>0.4309</td>\n",
       "      <td>0.1776</td>\n",
       "      <td>NaN</td>\n",
       "    </tr>\n",
       "  </tbody>\n",
       "</table>\n",
       "</div>"
      ],
      "text/plain": [
       "                                                    PS4    XOne     3DS  \\\n",
       "Коэффициент зависимости от оценок пользователей -0.0597 -0.0415  0.1988   \n",
       "Коэффициент зависимости от оценок критиков       0.3928  0.4309  0.1776   \n",
       "\n",
       "                                                    PS3  \n",
       "Коэффициент зависимости от оценок пользователей -0.1653  \n",
       "Коэффициент зависимости от оценок критиков          NaN  "
      ]
     },
     "execution_count": 38,
     "metadata": {},
     "output_type": "execute_result"
    }
   ],
   "source": [
    "pl = ['PS4', 'XOne', '3DS', 'PS3']\n",
    "def korr_users (pl):\n",
    "    data = games[(games['platform'] == pl) & (games['year_of_release'] > 2014)]\n",
    "    k_users = round(data['user_score'].corr(data['total_sales']),4)\n",
    "    return k_users\n",
    "def korr_critics (pl):\n",
    "    data = games[(games['platform'] == pl) & (games['year_of_release'] > 2014) & (games['critic_score'] >= 0)]\n",
    "    k_critics = round(data['critic_score'].corr(data['total_sales']),4)\n",
    "    return k_critics\n",
    "data = {'PS4': [korr_users ('PS4'), korr_critics ('PS4')],\n",
    "        'XOne': [korr_users ('XOne'), korr_critics ('XOne')],\n",
    "        '3DS': [korr_users ('3DS'), korr_critics ('3DS')],\n",
    "        'PS3': [korr_users ('PS3'), korr_critics ('PS3')]}\n",
    "columns=['Коэффициент зависимости от оценок пользователей', 'Коэффициент зависимости от оценок критиков']            \n",
    "pd.DataFrame(data, columns)"
   ]
  },
  {
   "cell_type": "markdown",
   "metadata": {},
   "source": [
    "На остальных популярных площадках за последние 2 года прослеживается также слабая зависимость продаж от оценок критиков (на платформе PS3 значение не подсчитано из-за отсутсвия данных об оценках критиков на данной платформе). Зависимость же от оценок пользователей весьма противоречива, так на платформах PS4, XOne, и PS3 видна слабая обратная зависимость, а на платформе 3DS слабая прямая зависимость."
   ]
  },
  {
   "cell_type": "markdown",
   "metadata": {},
   "source": [
    "####  Распределение игр по жанрам.\n",
    "\n"
   ]
  },
  {
   "cell_type": "markdown",
   "metadata": {},
   "source": [
    "Визуализируем распределение игр по жанрам на графике."
   ]
  },
  {
   "cell_type": "code",
   "execution_count": 39,
   "metadata": {},
   "outputs": [
    {
     "data": {
      "image/png": "[encoded data removed]",
      "text/plain": [
       "<Figure size 576x324 with 1 Axes>"
      ]
     },
     "metadata": {
      "needs_background": "light"
     },
     "output_type": "display_data"
    }
   ],
   "source": [
    "by_genre_count = games[games['year_of_release']>2014].pivot_table (index='genre', values='name', aggfunc='count').sort_values(by='name', ascending=False)\n",
    "by_genre_count.plot(kind='bar' ,grid=True, legend=False, figsize=(8,4.5))\n",
    "plt.title('Выпуск игр по жанрам')\n",
    "plt.xlabel('Жанр игры')\n",
    "plt.ylabel('Количество выпущенных игр')\n",
    "plt.show()"
   ]
  },
  {
   "cell_type": "markdown",
   "metadata": {},
   "source": [
    "Судя по графику наибольшая популярность с весомым отрывом от конкурентов - у игр в жанре \"Action\" (более 400 в период с 2015 года), следующие по популярности жанры - \"Role-Playing\" и \"Adventure\" (более 100 в период с 2015 года в каждом). Меньше всего в последние два года представлены игры в жанре \"Puzzle\"."
   ]
  },
  {
   "cell_type": "markdown",
   "metadata": {},
   "source": [
    "Визуализируем распределение продаж игр по жанрам на графике."
   ]
  },
  {
   "cell_type": "code",
   "execution_count": 40,
   "metadata": {},
   "outputs": [
    {
     "data": {
      "image/png": "[encoded data removed]",
      "text/plain": [
       "<Figure size 576x324 with 1 Axes>"
      ]
     },
     "metadata": {
      "needs_background": "light"
     },
     "output_type": "display_data"
    }
   ],
   "source": [
    "by_genre_sales = games[games['year_of_release']>2014].pivot_table (index='genre', values='total_sales', aggfunc='mean').sort_values(by='total_sales', ascending=False)\n",
    "by_genre_sales.plot(kind='bar' ,grid=True, legend=False, figsize=(8,4.5))\n",
    "plt.title('Продажи игр по жанрам')\n",
    "plt.xlabel('Жанр игры')\n",
    "plt.ylabel('Средние продажи игр (млн.копий)')\n",
    "plt.show()"
   ]
  },
  {
   "cell_type": "markdown",
   "metadata": {},
   "source": [
    "Судя по графику в последние два года лучше всего продаются с весомым отрывом от конкурентов игры в жанре \"Shooter\" (в среднем около 1,3 млн. проданных копий), на втором месте - игры в жанре \"Sports\" (в среднем около 0,6 млн. проданных копий) и на третьем месте - игры в жанре \"Role-Playing\" (в среднем около 0,42 млн. проданных копий). Меньше всего продаж у игр в жанрах \"Adventure\", \"Puzzle\" и \"Strategy\" (в среднем около 0,1 млн. проданных копий в каждом)."
   ]
  },
  {
   "cell_type": "markdown",
   "metadata": {},
   "source": [
    "В ходе **исследовательского анализа** выявлено, что:\n",
    "- с 1990 начался рост выпуска игр, который достиг своего пика в 2008 году, после чего начался спад;\n",
    "- активные продажи на платформах идут около 10 лет, достигая своего пика примерно через 5 лет, после чего начинается спад;\n",
    "- лидером продаж в последние 2 года является платформа PS4;\n",
    "- прослеживается слабая зависимость продаж от оценок пользователей и более выраженная зависимость продаж от оценок критиков;\n",
    "- в последние 2 года больше всего выпущено игр в жанре \"Action\" (более 400), в жанре \"Role-Playing\" и \"Adventure\" (более 100 в каждом), меньше всего выпускались игры в жанре \"Puzzle\";\n",
    "- в последние 2 года лучше всего в среднем продаются игры в жанре \"Shooter\" (в среднем около 1,3 млн. проданных копий), на втором месте - игры в жанре \"Sports\" (в среднем около 0,6 млн. проданных копий) и на третьем месте - игры в жанре \"Role-Playing\" (в среднем около 0,42 млн. проданных копий), меньше всего продаж у игр в жанрах \"Adventure\", \"Puzzle\" и \"Strategy\" (в среднем около 0,1 млн. проданных копий в каждом)."
   ]
  },
  {
   "cell_type": "markdown",
   "metadata": {},
   "source": [
    "### Портреты пользователей Северной Америки, Европы и Японии."
   ]
  },
  {
   "cell_type": "markdown",
   "metadata": {},
   "source": [
    "####  Самые популярные платформы (топ-5) у пользователей Северной Америки, Европы и Японии. "
   ]
  },
  {
   "cell_type": "code",
   "execution_count": 41,
   "metadata": {},
   "outputs": [
    {
     "name": "stdout",
     "output_type": "stream",
     "text": [
      "Топ-5 популярных платформ у пользователей Северной Америки:\n"
     ]
    },
    {
     "data": {
      "text/html": [
       "<div>\n",
       "<style scoped>\n",
       "    .dataframe tbody tr th:only-of-type {\n",
       "        vertical-align: middle;\n",
       "    }\n",
       "\n",
       "    .dataframe tbody tr th {\n",
       "        vertical-align: top;\n",
       "    }\n",
       "\n",
       "    .dataframe thead th {\n",
       "        text-align: right;\n",
       "    }\n",
       "</style>\n",
       "<table border=\"1\" class=\"dataframe\">\n",
       "  <thead>\n",
       "    <tr style=\"text-align: right;\">\n",
       "      <th></th>\n",
       "      <th>platform</th>\n",
       "      <th>na_sales</th>\n",
       "    </tr>\n",
       "  </thead>\n",
       "  <tbody>\n",
       "    <tr>\n",
       "      <th>0</th>\n",
       "      <td>X360</td>\n",
       "      <td>602.47</td>\n",
       "    </tr>\n",
       "    <tr>\n",
       "      <th>1</th>\n",
       "      <td>PS2</td>\n",
       "      <td>583.84</td>\n",
       "    </tr>\n",
       "    <tr>\n",
       "      <th>2</th>\n",
       "      <td>Wii</td>\n",
       "      <td>496.90</td>\n",
       "    </tr>\n",
       "    <tr>\n",
       "      <th>3</th>\n",
       "      <td>PS3</td>\n",
       "      <td>393.49</td>\n",
       "    </tr>\n",
       "    <tr>\n",
       "      <th>4</th>\n",
       "      <td>DS</td>\n",
       "      <td>382.40</td>\n",
       "    </tr>\n",
       "  </tbody>\n",
       "</table>\n",
       "</div>"
      ],
      "text/plain": [
       "  platform  na_sales\n",
       "0     X360    602.47\n",
       "1      PS2    583.84\n",
       "2      Wii    496.90\n",
       "3      PS3    393.49\n",
       "4       DS    382.40"
      ]
     },
     "execution_count": 41,
     "metadata": {},
     "output_type": "execute_result"
    }
   ],
   "source": [
    "print('Топ-5 популярных платформ у пользователей Северной Америки:')\n",
    "top5_platform_na = games.groupby('platform')['na_sales'].sum().sort_values(ascending=False).head().reset_index()\n",
    "top5_platform_na"
   ]
  },
  {
   "cell_type": "code",
   "execution_count": 42,
   "metadata": {},
   "outputs": [
    {
     "name": "stdout",
     "output_type": "stream",
     "text": [
      "Топ-5 популярных платформ у пользователей Европы:\n"
     ]
    },
    {
     "data": {
      "text/html": [
       "<div>\n",
       "<style scoped>\n",
       "    .dataframe tbody tr th:only-of-type {\n",
       "        vertical-align: middle;\n",
       "    }\n",
       "\n",
       "    .dataframe tbody tr th {\n",
       "        vertical-align: top;\n",
       "    }\n",
       "\n",
       "    .dataframe thead th {\n",
       "        text-align: right;\n",
       "    }\n",
       "</style>\n",
       "<table border=\"1\" class=\"dataframe\">\n",
       "  <thead>\n",
       "    <tr style=\"text-align: right;\">\n",
       "      <th></th>\n",
       "      <th>platform</th>\n",
       "      <th>eu_sales</th>\n",
       "    </tr>\n",
       "  </thead>\n",
       "  <tbody>\n",
       "    <tr>\n",
       "      <th>0</th>\n",
       "      <td>PS2</td>\n",
       "      <td>339.29</td>\n",
       "    </tr>\n",
       "    <tr>\n",
       "      <th>1</th>\n",
       "      <td>PS3</td>\n",
       "      <td>330.29</td>\n",
       "    </tr>\n",
       "    <tr>\n",
       "      <th>2</th>\n",
       "      <td>X360</td>\n",
       "      <td>270.76</td>\n",
       "    </tr>\n",
       "    <tr>\n",
       "      <th>3</th>\n",
       "      <td>Wii</td>\n",
       "      <td>262.21</td>\n",
       "    </tr>\n",
       "    <tr>\n",
       "      <th>4</th>\n",
       "      <td>PS</td>\n",
       "      <td>213.61</td>\n",
       "    </tr>\n",
       "  </tbody>\n",
       "</table>\n",
       "</div>"
      ],
      "text/plain": [
       "  platform  eu_sales\n",
       "0      PS2    339.29\n",
       "1      PS3    330.29\n",
       "2     X360    270.76\n",
       "3      Wii    262.21\n",
       "4       PS    213.61"
      ]
     },
     "execution_count": 42,
     "metadata": {},
     "output_type": "execute_result"
    }
   ],
   "source": [
    "print('Топ-5 популярных платформ у пользователей Европы:')\n",
    "top5_platform_eu = games.groupby('platform')['eu_sales'].sum().sort_values(ascending=False).head().reset_index()\n",
    "top5_platform_eu"
   ]
  },
  {
   "cell_type": "code",
   "execution_count": 43,
   "metadata": {},
   "outputs": [
    {
     "name": "stdout",
     "output_type": "stream",
     "text": [
      "Топ-5 популярных платформ у пользователей Японии:\n"
     ]
    },
    {
     "data": {
      "text/html": [
       "<div>\n",
       "<style scoped>\n",
       "    .dataframe tbody tr th:only-of-type {\n",
       "        vertical-align: middle;\n",
       "    }\n",
       "\n",
       "    .dataframe tbody tr th {\n",
       "        vertical-align: top;\n",
       "    }\n",
       "\n",
       "    .dataframe thead th {\n",
       "        text-align: right;\n",
       "    }\n",
       "</style>\n",
       "<table border=\"1\" class=\"dataframe\">\n",
       "  <thead>\n",
       "    <tr style=\"text-align: right;\">\n",
       "      <th></th>\n",
       "      <th>platform</th>\n",
       "      <th>jp_sales</th>\n",
       "    </tr>\n",
       "  </thead>\n",
       "  <tbody>\n",
       "    <tr>\n",
       "      <th>0</th>\n",
       "      <td>DS</td>\n",
       "      <td>175.57</td>\n",
       "    </tr>\n",
       "    <tr>\n",
       "      <th>1</th>\n",
       "      <td>PS</td>\n",
       "      <td>139.82</td>\n",
       "    </tr>\n",
       "    <tr>\n",
       "      <th>2</th>\n",
       "      <td>PS2</td>\n",
       "      <td>139.20</td>\n",
       "    </tr>\n",
       "    <tr>\n",
       "      <th>3</th>\n",
       "      <td>SNES</td>\n",
       "      <td>116.55</td>\n",
       "    </tr>\n",
       "    <tr>\n",
       "      <th>4</th>\n",
       "      <td>3DS</td>\n",
       "      <td>100.67</td>\n",
       "    </tr>\n",
       "  </tbody>\n",
       "</table>\n",
       "</div>"
      ],
      "text/plain": [
       "  platform  jp_sales\n",
       "0       DS    175.57\n",
       "1       PS    139.82\n",
       "2      PS2    139.20\n",
       "3     SNES    116.55\n",
       "4      3DS    100.67"
      ]
     },
     "execution_count": 43,
     "metadata": {},
     "output_type": "execute_result"
    }
   ],
   "source": [
    "print('Топ-5 популярных платформ у пользователей Японии:')\n",
    "top5_platform_jp = games.groupby('platform')['jp_sales'].sum().sort_values(ascending=False).head().reset_index()\n",
    "top5_platform_jp"
   ]
  },
  {
   "cell_type": "code",
   "execution_count": 44,
   "metadata": {},
   "outputs": [
    {
     "data": {
      "text/html": [
       "<div>\n",
       "<style scoped>\n",
       "    .dataframe tbody tr th:only-of-type {\n",
       "        vertical-align: middle;\n",
       "    }\n",
       "\n",
       "    .dataframe tbody tr th {\n",
       "        vertical-align: top;\n",
       "    }\n",
       "\n",
       "    .dataframe thead th {\n",
       "        text-align: right;\n",
       "    }\n",
       "</style>\n",
       "<table border=\"1\" class=\"dataframe\">\n",
       "  <thead>\n",
       "    <tr style=\"text-align: right;\">\n",
       "      <th></th>\n",
       "      <th>platform</th>\n",
       "      <th>na_sales</th>\n",
       "      <th>eu_sales</th>\n",
       "      <th>jp_sales</th>\n",
       "    </tr>\n",
       "  </thead>\n",
       "  <tbody>\n",
       "    <tr>\n",
       "      <th>0</th>\n",
       "      <td>X360</td>\n",
       "      <td>602.47</td>\n",
       "      <td>270.76</td>\n",
       "      <td>NaN</td>\n",
       "    </tr>\n",
       "    <tr>\n",
       "      <th>1</th>\n",
       "      <td>PS2</td>\n",
       "      <td>583.84</td>\n",
       "      <td>339.29</td>\n",
       "      <td>139.20</td>\n",
       "    </tr>\n",
       "    <tr>\n",
       "      <th>2</th>\n",
       "      <td>Wii</td>\n",
       "      <td>496.90</td>\n",
       "      <td>262.21</td>\n",
       "      <td>NaN</td>\n",
       "    </tr>\n",
       "    <tr>\n",
       "      <th>3</th>\n",
       "      <td>PS3</td>\n",
       "      <td>393.49</td>\n",
       "      <td>330.29</td>\n",
       "      <td>NaN</td>\n",
       "    </tr>\n",
       "    <tr>\n",
       "      <th>4</th>\n",
       "      <td>DS</td>\n",
       "      <td>382.40</td>\n",
       "      <td>NaN</td>\n",
       "      <td>175.57</td>\n",
       "    </tr>\n",
       "    <tr>\n",
       "      <th>5</th>\n",
       "      <td>PS</td>\n",
       "      <td>NaN</td>\n",
       "      <td>213.61</td>\n",
       "      <td>139.82</td>\n",
       "    </tr>\n",
       "    <tr>\n",
       "      <th>6</th>\n",
       "      <td>SNES</td>\n",
       "      <td>NaN</td>\n",
       "      <td>NaN</td>\n",
       "      <td>116.55</td>\n",
       "    </tr>\n",
       "    <tr>\n",
       "      <th>7</th>\n",
       "      <td>3DS</td>\n",
       "      <td>NaN</td>\n",
       "      <td>NaN</td>\n",
       "      <td>100.67</td>\n",
       "    </tr>\n",
       "  </tbody>\n",
       "</table>\n",
       "</div>"
      ],
      "text/plain": [
       "  platform  na_sales  eu_sales  jp_sales\n",
       "0     X360    602.47    270.76       NaN\n",
       "1      PS2    583.84    339.29    139.20\n",
       "2      Wii    496.90    262.21       NaN\n",
       "3      PS3    393.49    330.29       NaN\n",
       "4       DS    382.40       NaN    175.57\n",
       "5       PS       NaN    213.61    139.82\n",
       "6     SNES       NaN       NaN    116.55\n",
       "7      3DS       NaN       NaN    100.67"
      ]
     },
     "execution_count": 44,
     "metadata": {},
     "output_type": "execute_result"
    }
   ],
   "source": [
    "#объединим таблицы:\n",
    "top5_platform_region = top5_platform_na.merge(top5_platform_eu, on='platform', how='outer')\n",
    "top5_platform_region = top5_platform_region.merge(top5_platform_jp, on='platform', how='outer')\n",
    "top5_platform_region"
   ]
  },
  {
   "cell_type": "code",
   "execution_count": 45,
   "metadata": {},
   "outputs": [
    {
     "data": {
      "image/png": "[encoded data removed]",
      "text/plain": [
       "<Figure size 576x288 with 1 Axes>"
      ]
     },
     "metadata": {
      "needs_background": "light"
     },
     "output_type": "display_data"
    }
   ],
   "source": [
    "top5_platform_region.plot (kind='bar', x='platform', figsize=(8, 4), grid=True)\n",
    "plt.title('Продажи на платформах по регионам')\n",
    "plt.legend(['Северная Америка', 'Европа','Япония'])\n",
    "plt.xlabel('Платформа')\n",
    "plt.ylabel('Количество проданных копий (млн.)')\n",
    "plt.show();"
   ]
  },
  {
   "cell_type": "code",
   "execution_count": 46,
   "metadata": {},
   "outputs": [
    {
     "name": "stdout",
     "output_type": "stream",
     "text": [
      "Суммарные продажи игр на топ-5 платформах Северной Америки: 2459.1  млн.копий; 54.08 %\n",
      "Суммарные продажи игр на топ-5 платформах Европы: 1416.16  млн.копий; 31.14 %\n",
      "Суммарные продажи игр на топ-5 платформах Японии: 671.81 млн.копий; 14.77 %\n"
     ]
    }
   ],
   "source": [
    "print(\n",
    "    'Суммарные продажи игр на топ-5 платформах Северной Америки:', \n",
    "    round(top5_platform_region['na_sales'].sum(), 2), ' млн.копий;',\n",
    "    round(top5_platform_region['na_sales'].sum() * 100 /(top5_platform_region['na_sales'].sum() + top5_platform_region['eu_sales'].sum() + top5_platform_region['jp_sales'].sum()), 2),\n",
    "    '%'\n",
    ")\n",
    "print(\n",
    "    'Суммарные продажи игр на топ-5 платформах Европы:', \n",
    "    round(top5_platform_region['eu_sales'].sum(), 2), ' млн.копий;',\n",
    "    round(top5_platform_region['eu_sales'].sum() * 100 /(top5_platform_region['na_sales'].sum() + top5_platform_region['eu_sales'].sum() + top5_platform_region['jp_sales'].sum()), 2),\n",
    "    '%'\n",
    ")\n",
    "print(\n",
    "    'Суммарные продажи игр на топ-5 платформах Японии:', \n",
    "    round(top5_platform_region['jp_sales'].sum(), 2), 'млн.копий;',\n",
    "    round(top5_platform_region['jp_sales'].sum() * 100 /(top5_platform_region['na_sales'].sum() + top5_platform_region['eu_sales'].sum() + top5_platform_region['jp_sales'].sum()), 2),\n",
    "    '%'\n",
    ")"
   ]
  },
  {
   "cell_type": "markdown",
   "metadata": {},
   "source": [
    "Ниболее популярными платформами являются:\n",
    "- в Северной Америке - X360, PS2, Wii, PS3\tи DS;\n",
    "- в Европе - PS2, PS3, X360, Wii и PS;\n",
    "- в Японии - DS, PS, PS2, SNES\tи\t3DS.\n",
    "\n",
    "Сильнее всего отличаются потребители Японии. Так если у потребителей Северной Америки и Европы совпадают 4 платформы из 5 в топ-5 платформ, то у потребителей Японии только по 2 совпадения с каждым из этих регионов и 2 платформы представлены только в топ-5 платформ пользователей Японии (SNES\tи\t3DS).\n",
    "\n",
    "Самые большие продажи игр на 5 самых популярных платформах в Северной Америке (около  2.5 млрд.копий, что составляет 54.08 % от общих продаж на топ-5 платформах Северной Америки, Европы и Японии), на втором месте - продажи в Европе (около 1.4 млрд. копий и 31.14% от общих продаж на топ-5 платформах 3 регионов) и на третьем - в Японии (около 0.7 млрд.копий и 14.77% от общих продаж на топ-5 платформах 3 регионов). \n",
    "\n"
   ]
  },
  {
   "cell_type": "markdown",
   "metadata": {},
   "source": [
    "####  Самые популярные жанры (топ-5)  у пользователей Северной Америки, Европы и Японии. "
   ]
  },
  {
   "cell_type": "code",
   "execution_count": 47,
   "metadata": {},
   "outputs": [
    {
     "name": "stdout",
     "output_type": "stream",
     "text": [
      "Топ-5 популярных жанров у пользователей Северной Америки:\n"
     ]
    },
    {
     "data": {
      "text/html": [
       "<div>\n",
       "<style scoped>\n",
       "    .dataframe tbody tr th:only-of-type {\n",
       "        vertical-align: middle;\n",
       "    }\n",
       "\n",
       "    .dataframe tbody tr th {\n",
       "        vertical-align: top;\n",
       "    }\n",
       "\n",
       "    .dataframe thead th {\n",
       "        text-align: right;\n",
       "    }\n",
       "</style>\n",
       "<table border=\"1\" class=\"dataframe\">\n",
       "  <thead>\n",
       "    <tr style=\"text-align: right;\">\n",
       "      <th></th>\n",
       "      <th>genre</th>\n",
       "      <th>na_sales</th>\n",
       "    </tr>\n",
       "  </thead>\n",
       "  <tbody>\n",
       "    <tr>\n",
       "      <th>0</th>\n",
       "      <td>Action</td>\n",
       "      <td>879.01</td>\n",
       "    </tr>\n",
       "    <tr>\n",
       "      <th>1</th>\n",
       "      <td>Sports</td>\n",
       "      <td>684.43</td>\n",
       "    </tr>\n",
       "    <tr>\n",
       "      <th>2</th>\n",
       "      <td>Shooter</td>\n",
       "      <td>592.24</td>\n",
       "    </tr>\n",
       "    <tr>\n",
       "      <th>3</th>\n",
       "      <td>Platform</td>\n",
       "      <td>445.50</td>\n",
       "    </tr>\n",
       "    <tr>\n",
       "      <th>4</th>\n",
       "      <td>Misc</td>\n",
       "      <td>407.27</td>\n",
       "    </tr>\n",
       "  </tbody>\n",
       "</table>\n",
       "</div>"
      ],
      "text/plain": [
       "      genre  na_sales\n",
       "0    Action    879.01\n",
       "1    Sports    684.43\n",
       "2   Shooter    592.24\n",
       "3  Platform    445.50\n",
       "4      Misc    407.27"
      ]
     },
     "execution_count": 47,
     "metadata": {},
     "output_type": "execute_result"
    }
   ],
   "source": [
    "print('Топ-5 популярных жанров у пользователей Северной Америки:')\n",
    "top5_genres_na = games.groupby('genre')['na_sales'].sum().sort_values(ascending=False).head().reset_index()\n",
    "top5_genres_na"
   ]
  },
  {
   "cell_type": "code",
   "execution_count": 48,
   "metadata": {},
   "outputs": [
    {
     "name": "stdout",
     "output_type": "stream",
     "text": [
      "Топ-5 популярных жанров у пользователей Европы:\n"
     ]
    },
    {
     "data": {
      "text/html": [
       "<div>\n",
       "<style scoped>\n",
       "    .dataframe tbody tr th:only-of-type {\n",
       "        vertical-align: middle;\n",
       "    }\n",
       "\n",
       "    .dataframe tbody tr th {\n",
       "        vertical-align: top;\n",
       "    }\n",
       "\n",
       "    .dataframe thead th {\n",
       "        text-align: right;\n",
       "    }\n",
       "</style>\n",
       "<table border=\"1\" class=\"dataframe\">\n",
       "  <thead>\n",
       "    <tr style=\"text-align: right;\">\n",
       "      <th></th>\n",
       "      <th>genre</th>\n",
       "      <th>eu_sales</th>\n",
       "    </tr>\n",
       "  </thead>\n",
       "  <tbody>\n",
       "    <tr>\n",
       "      <th>0</th>\n",
       "      <td>Action</td>\n",
       "      <td>519.13</td>\n",
       "    </tr>\n",
       "    <tr>\n",
       "      <th>1</th>\n",
       "      <td>Sports</td>\n",
       "      <td>376.79</td>\n",
       "    </tr>\n",
       "    <tr>\n",
       "      <th>2</th>\n",
       "      <td>Shooter</td>\n",
       "      <td>317.34</td>\n",
       "    </tr>\n",
       "    <tr>\n",
       "      <th>3</th>\n",
       "      <td>Racing</td>\n",
       "      <td>236.51</td>\n",
       "    </tr>\n",
       "    <tr>\n",
       "      <th>4</th>\n",
       "      <td>Misc</td>\n",
       "      <td>212.74</td>\n",
       "    </tr>\n",
       "  </tbody>\n",
       "</table>\n",
       "</div>"
      ],
      "text/plain": [
       "     genre  eu_sales\n",
       "0   Action    519.13\n",
       "1   Sports    376.79\n",
       "2  Shooter    317.34\n",
       "3   Racing    236.51\n",
       "4     Misc    212.74"
      ]
     },
     "execution_count": 48,
     "metadata": {},
     "output_type": "execute_result"
    }
   ],
   "source": [
    "print('Топ-5 популярных жанров у пользователей Европы:')\n",
    "top5_genres_eu = games.groupby('genre')['eu_sales'].sum().sort_values(ascending=False).head().reset_index()\n",
    "top5_genres_eu"
   ]
  },
  {
   "cell_type": "code",
   "execution_count": 49,
   "metadata": {},
   "outputs": [
    {
     "name": "stdout",
     "output_type": "stream",
     "text": [
      "Топ-5 популярных жанров у пользователей Японии:\n"
     ]
    },
    {
     "data": {
      "text/html": [
       "<div>\n",
       "<style scoped>\n",
       "    .dataframe tbody tr th:only-of-type {\n",
       "        vertical-align: middle;\n",
       "    }\n",
       "\n",
       "    .dataframe tbody tr th {\n",
       "        vertical-align: top;\n",
       "    }\n",
       "\n",
       "    .dataframe thead th {\n",
       "        text-align: right;\n",
       "    }\n",
       "</style>\n",
       "<table border=\"1\" class=\"dataframe\">\n",
       "  <thead>\n",
       "    <tr style=\"text-align: right;\">\n",
       "      <th></th>\n",
       "      <th>genre</th>\n",
       "      <th>jp_sales</th>\n",
       "    </tr>\n",
       "  </thead>\n",
       "  <tbody>\n",
       "    <tr>\n",
       "      <th>0</th>\n",
       "      <td>Role-Playing</td>\n",
       "      <td>355.41</td>\n",
       "    </tr>\n",
       "    <tr>\n",
       "      <th>1</th>\n",
       "      <td>Action</td>\n",
       "      <td>161.43</td>\n",
       "    </tr>\n",
       "    <tr>\n",
       "      <th>2</th>\n",
       "      <td>Sports</td>\n",
       "      <td>135.54</td>\n",
       "    </tr>\n",
       "    <tr>\n",
       "      <th>3</th>\n",
       "      <td>Platform</td>\n",
       "      <td>130.83</td>\n",
       "    </tr>\n",
       "    <tr>\n",
       "      <th>4</th>\n",
       "      <td>Misc</td>\n",
       "      <td>108.11</td>\n",
       "    </tr>\n",
       "  </tbody>\n",
       "</table>\n",
       "</div>"
      ],
      "text/plain": [
       "          genre  jp_sales\n",
       "0  Role-Playing    355.41\n",
       "1        Action    161.43\n",
       "2        Sports    135.54\n",
       "3      Platform    130.83\n",
       "4          Misc    108.11"
      ]
     },
     "execution_count": 49,
     "metadata": {},
     "output_type": "execute_result"
    }
   ],
   "source": [
    "print('Топ-5 популярных жанров у пользователей Японии:')\n",
    "top5_genres_jp = games.groupby('genre')['jp_sales'].sum().sort_values(ascending=False).head().reset_index()\n",
    "top5_genres_jp"
   ]
  },
  {
   "cell_type": "code",
   "execution_count": 50,
   "metadata": {},
   "outputs": [
    {
     "data": {
      "text/html": [
       "<div>\n",
       "<style scoped>\n",
       "    .dataframe tbody tr th:only-of-type {\n",
       "        vertical-align: middle;\n",
       "    }\n",
       "\n",
       "    .dataframe tbody tr th {\n",
       "        vertical-align: top;\n",
       "    }\n",
       "\n",
       "    .dataframe thead th {\n",
       "        text-align: right;\n",
       "    }\n",
       "</style>\n",
       "<table border=\"1\" class=\"dataframe\">\n",
       "  <thead>\n",
       "    <tr style=\"text-align: right;\">\n",
       "      <th></th>\n",
       "      <th>genre</th>\n",
       "      <th>na_sales</th>\n",
       "      <th>eu_sales</th>\n",
       "      <th>jp_sales</th>\n",
       "    </tr>\n",
       "  </thead>\n",
       "  <tbody>\n",
       "    <tr>\n",
       "      <th>0</th>\n",
       "      <td>Action</td>\n",
       "      <td>879.01</td>\n",
       "      <td>519.13</td>\n",
       "      <td>161.43</td>\n",
       "    </tr>\n",
       "    <tr>\n",
       "      <th>1</th>\n",
       "      <td>Sports</td>\n",
       "      <td>684.43</td>\n",
       "      <td>376.79</td>\n",
       "      <td>135.54</td>\n",
       "    </tr>\n",
       "    <tr>\n",
       "      <th>2</th>\n",
       "      <td>Shooter</td>\n",
       "      <td>592.24</td>\n",
       "      <td>317.34</td>\n",
       "      <td>NaN</td>\n",
       "    </tr>\n",
       "    <tr>\n",
       "      <th>3</th>\n",
       "      <td>Platform</td>\n",
       "      <td>445.50</td>\n",
       "      <td>NaN</td>\n",
       "      <td>130.83</td>\n",
       "    </tr>\n",
       "    <tr>\n",
       "      <th>4</th>\n",
       "      <td>Misc</td>\n",
       "      <td>407.27</td>\n",
       "      <td>212.74</td>\n",
       "      <td>108.11</td>\n",
       "    </tr>\n",
       "    <tr>\n",
       "      <th>5</th>\n",
       "      <td>Racing</td>\n",
       "      <td>NaN</td>\n",
       "      <td>236.51</td>\n",
       "      <td>NaN</td>\n",
       "    </tr>\n",
       "    <tr>\n",
       "      <th>6</th>\n",
       "      <td>Role-Playing</td>\n",
       "      <td>NaN</td>\n",
       "      <td>NaN</td>\n",
       "      <td>355.41</td>\n",
       "    </tr>\n",
       "  </tbody>\n",
       "</table>\n",
       "</div>"
      ],
      "text/plain": [
       "          genre  na_sales  eu_sales  jp_sales\n",
       "0        Action    879.01    519.13    161.43\n",
       "1        Sports    684.43    376.79    135.54\n",
       "2       Shooter    592.24    317.34       NaN\n",
       "3      Platform    445.50       NaN    130.83\n",
       "4          Misc    407.27    212.74    108.11\n",
       "5        Racing       NaN    236.51       NaN\n",
       "6  Role-Playing       NaN       NaN    355.41"
      ]
     },
     "execution_count": 50,
     "metadata": {},
     "output_type": "execute_result"
    }
   ],
   "source": [
    "#объединим таблицы:\n",
    "top5_genres_region = top5_genres_na.merge(top5_genres_eu, on='genre', how='outer')\n",
    "top5_genres_region = top5_genres_region.merge(top5_genres_jp, on='genre', how='outer')\n",
    "top5_genres_region"
   ]
  },
  {
   "cell_type": "code",
   "execution_count": 51,
   "metadata": {},
   "outputs": [
    {
     "data": {
      "image/png": "[encoded data removed]",
      "text/plain": [
       "<Figure size 576x288 with 1 Axes>"
      ]
     },
     "metadata": {
      "needs_background": "light"
     },
     "output_type": "display_data"
    }
   ],
   "source": [
    "top5_genres_region.plot (kind='bar', x='genre', figsize=(8, 4), grid=True)\n",
    "plt.title('Значения признаков')\n",
    "plt.legend(['Северная Америка', 'Европа','Япония'])\n",
    "plt.xlabel('Жанры')\n",
    "plt.ylabel('Количество проданных копий (млн.)')\n",
    "plt.show();"
   ]
  },
  {
   "cell_type": "markdown",
   "metadata": {},
   "source": [
    "Ниболее популярными жанрами игр являются:\n",
    "- в Северной Америке - Action, Sports, Shooter, Platform и Misc;\n",
    "- в Европе - Action, Sports, Shooter, Racing и Misc;\n",
    "- в Японии - Role-Playing, Action, Sports, Platform и Misc.\n",
    "\n",
    "Среди жанров различий в содержании топ-5 уже меньше. Так у потребителей Северной Америки и Европы полностью совпадают 4 жанра из 5, в том числе и по позицияи в рейтинге, за исключением 4 позиции (в Северной Америке это жанр Platform, а в Европе - Racing). У пользователей Японии больше совпадений с пользователями Северной Америки (4 позиции в рейтинге), вместе с тем у пользователей Японии наибольшую популярность имеет жанр Role-Playing, который отсутствует в топ-5 жанров игр Северной Америки и Европы. Также пользователи из Японии не проявляют интереса к играми в жанре Shooter, популярном в остальных 2 регионах, и Racing, популярном в Европе. Различия в предпочтениях пользователей из разных регионах вероятно связаны с их национальными особенностями и принятыми традиционными устоями соответствующих регионов."
   ]
  },
  {
   "cell_type": "markdown",
   "metadata": {},
   "source": [
    "####  Влияние рейтинга ESRB на продажи в Северной Америке, Европе и Японии.\n",
    "\n"
   ]
  },
  {
   "cell_type": "code",
   "execution_count": 52,
   "metadata": {},
   "outputs": [
    {
     "data": {
      "text/plain": [
       "array(['E', nan, 'M', 'T', 'E10+', 'K-A', 'AO', 'EC', 'RP'], dtype=object)"
      ]
     },
     "execution_count": 52,
     "metadata": {},
     "output_type": "execute_result"
    }
   ],
   "source": [
    "#выведем значения рейтингов ESRB\n",
    "games['rating'].unique()"
   ]
  },
  {
   "cell_type": "code",
   "execution_count": 53,
   "metadata": {},
   "outputs": [
    {
     "name": "stdout",
     "output_type": "stream",
     "text": [
      "Топ-5 рейтингов ESRB у пользователей Северной Америки:\n"
     ]
    },
    {
     "data": {
      "text/html": [
       "<div>\n",
       "<style scoped>\n",
       "    .dataframe tbody tr th:only-of-type {\n",
       "        vertical-align: middle;\n",
       "    }\n",
       "\n",
       "    .dataframe tbody tr th {\n",
       "        vertical-align: top;\n",
       "    }\n",
       "\n",
       "    .dataframe thead th {\n",
       "        text-align: right;\n",
       "    }\n",
       "</style>\n",
       "<table border=\"1\" class=\"dataframe\">\n",
       "  <thead>\n",
       "    <tr style=\"text-align: right;\">\n",
       "      <th></th>\n",
       "      <th>rating</th>\n",
       "      <th>na_sales</th>\n",
       "    </tr>\n",
       "  </thead>\n",
       "  <tbody>\n",
       "    <tr>\n",
       "      <th>0</th>\n",
       "      <td>E</td>\n",
       "      <td>1292.99</td>\n",
       "    </tr>\n",
       "    <tr>\n",
       "      <th>1</th>\n",
       "      <td>T</td>\n",
       "      <td>759.75</td>\n",
       "    </tr>\n",
       "    <tr>\n",
       "      <th>2</th>\n",
       "      <td>M</td>\n",
       "      <td>748.48</td>\n",
       "    </tr>\n",
       "    <tr>\n",
       "      <th>3</th>\n",
       "      <td>E10+</td>\n",
       "      <td>353.32</td>\n",
       "    </tr>\n",
       "    <tr>\n",
       "      <th>4</th>\n",
       "      <td>K-A</td>\n",
       "      <td>2.56</td>\n",
       "    </tr>\n",
       "  </tbody>\n",
       "</table>\n",
       "</div>"
      ],
      "text/plain": [
       "  rating  na_sales\n",
       "0      E   1292.99\n",
       "1      T    759.75\n",
       "2      M    748.48\n",
       "3   E10+    353.32\n",
       "4    K-A      2.56"
      ]
     },
     "execution_count": 53,
     "metadata": {},
     "output_type": "execute_result"
    }
   ],
   "source": [
    "print('Топ-5 рейтингов ESRB у пользователей Северной Америки:')\n",
    "top5_rating_na = games.groupby('rating')['na_sales'].sum().sort_values(ascending=False).head().reset_index()\n",
    "top5_rating_na"
   ]
  },
  {
   "cell_type": "code",
   "execution_count": 54,
   "metadata": {},
   "outputs": [
    {
     "name": "stdout",
     "output_type": "stream",
     "text": [
      "Топ-5 рейтингов ESRB у пользователей Европы:\n"
     ]
    },
    {
     "data": {
      "text/html": [
       "<div>\n",
       "<style scoped>\n",
       "    .dataframe tbody tr th:only-of-type {\n",
       "        vertical-align: middle;\n",
       "    }\n",
       "\n",
       "    .dataframe tbody tr th {\n",
       "        vertical-align: top;\n",
       "    }\n",
       "\n",
       "    .dataframe thead th {\n",
       "        text-align: right;\n",
       "    }\n",
       "</style>\n",
       "<table border=\"1\" class=\"dataframe\">\n",
       "  <thead>\n",
       "    <tr style=\"text-align: right;\">\n",
       "      <th></th>\n",
       "      <th>rating</th>\n",
       "      <th>eu_sales</th>\n",
       "    </tr>\n",
       "  </thead>\n",
       "  <tbody>\n",
       "    <tr>\n",
       "      <th>0</th>\n",
       "      <td>E</td>\n",
       "      <td>710.25</td>\n",
       "    </tr>\n",
       "    <tr>\n",
       "      <th>1</th>\n",
       "      <td>M</td>\n",
       "      <td>483.97</td>\n",
       "    </tr>\n",
       "    <tr>\n",
       "      <th>2</th>\n",
       "      <td>T</td>\n",
       "      <td>427.03</td>\n",
       "    </tr>\n",
       "    <tr>\n",
       "      <th>3</th>\n",
       "      <td>E10+</td>\n",
       "      <td>188.52</td>\n",
       "    </tr>\n",
       "    <tr>\n",
       "      <th>4</th>\n",
       "      <td>AO</td>\n",
       "      <td>0.61</td>\n",
       "    </tr>\n",
       "  </tbody>\n",
       "</table>\n",
       "</div>"
      ],
      "text/plain": [
       "  rating  eu_sales\n",
       "0      E    710.25\n",
       "1      M    483.97\n",
       "2      T    427.03\n",
       "3   E10+    188.52\n",
       "4     AO      0.61"
      ]
     },
     "execution_count": 54,
     "metadata": {},
     "output_type": "execute_result"
    }
   ],
   "source": [
    "print('Топ-5 рейтингов ESRB у пользователей Европы:')\n",
    "top5_rating_eu = games.groupby('rating')['eu_sales'].sum().sort_values(ascending=False).head().reset_index()\n",
    "top5_rating_eu"
   ]
  },
  {
   "cell_type": "code",
   "execution_count": 55,
   "metadata": {},
   "outputs": [
    {
     "name": "stdout",
     "output_type": "stream",
     "text": [
      "Топ-5 рейтингов ESRB у пользователей Японии:\n"
     ]
    },
    {
     "data": {
      "text/html": [
       "<div>\n",
       "<style scoped>\n",
       "    .dataframe tbody tr th:only-of-type {\n",
       "        vertical-align: middle;\n",
       "    }\n",
       "\n",
       "    .dataframe tbody tr th {\n",
       "        vertical-align: top;\n",
       "    }\n",
       "\n",
       "    .dataframe thead th {\n",
       "        text-align: right;\n",
       "    }\n",
       "</style>\n",
       "<table border=\"1\" class=\"dataframe\">\n",
       "  <thead>\n",
       "    <tr style=\"text-align: right;\">\n",
       "      <th></th>\n",
       "      <th>rating</th>\n",
       "      <th>jp_sales</th>\n",
       "    </tr>\n",
       "  </thead>\n",
       "  <tbody>\n",
       "    <tr>\n",
       "      <th>0</th>\n",
       "      <td>E</td>\n",
       "      <td>198.11</td>\n",
       "    </tr>\n",
       "    <tr>\n",
       "      <th>1</th>\n",
       "      <td>T</td>\n",
       "      <td>151.40</td>\n",
       "    </tr>\n",
       "    <tr>\n",
       "      <th>2</th>\n",
       "      <td>M</td>\n",
       "      <td>64.24</td>\n",
       "    </tr>\n",
       "    <tr>\n",
       "      <th>3</th>\n",
       "      <td>E10+</td>\n",
       "      <td>40.20</td>\n",
       "    </tr>\n",
       "    <tr>\n",
       "      <th>4</th>\n",
       "      <td>K-A</td>\n",
       "      <td>1.46</td>\n",
       "    </tr>\n",
       "  </tbody>\n",
       "</table>\n",
       "</div>"
      ],
      "text/plain": [
       "  rating  jp_sales\n",
       "0      E    198.11\n",
       "1      T    151.40\n",
       "2      M     64.24\n",
       "3   E10+     40.20\n",
       "4    K-A      1.46"
      ]
     },
     "execution_count": 55,
     "metadata": {},
     "output_type": "execute_result"
    }
   ],
   "source": [
    "print('Топ-5 рейтингов ESRB у пользователей Японии:')\n",
    "top5_rating_jp = games.groupby('rating')['jp_sales'].sum().sort_values(ascending=False).head().reset_index()\n",
    "top5_rating_jp"
   ]
  },
  {
   "cell_type": "code",
   "execution_count": 56,
   "metadata": {},
   "outputs": [
    {
     "data": {
      "text/html": [
       "<div>\n",
       "<style scoped>\n",
       "    .dataframe tbody tr th:only-of-type {\n",
       "        vertical-align: middle;\n",
       "    }\n",
       "\n",
       "    .dataframe tbody tr th {\n",
       "        vertical-align: top;\n",
       "    }\n",
       "\n",
       "    .dataframe thead th {\n",
       "        text-align: right;\n",
       "    }\n",
       "</style>\n",
       "<table border=\"1\" class=\"dataframe\">\n",
       "  <thead>\n",
       "    <tr style=\"text-align: right;\">\n",
       "      <th></th>\n",
       "      <th>rating</th>\n",
       "      <th>na_sales</th>\n",
       "      <th>eu_sales</th>\n",
       "      <th>jp_sales</th>\n",
       "    </tr>\n",
       "  </thead>\n",
       "  <tbody>\n",
       "    <tr>\n",
       "      <th>0</th>\n",
       "      <td>E</td>\n",
       "      <td>1292.99</td>\n",
       "      <td>710.25</td>\n",
       "      <td>198.11</td>\n",
       "    </tr>\n",
       "    <tr>\n",
       "      <th>1</th>\n",
       "      <td>T</td>\n",
       "      <td>759.75</td>\n",
       "      <td>427.03</td>\n",
       "      <td>151.40</td>\n",
       "    </tr>\n",
       "    <tr>\n",
       "      <th>2</th>\n",
       "      <td>M</td>\n",
       "      <td>748.48</td>\n",
       "      <td>483.97</td>\n",
       "      <td>64.24</td>\n",
       "    </tr>\n",
       "    <tr>\n",
       "      <th>3</th>\n",
       "      <td>E10+</td>\n",
       "      <td>353.32</td>\n",
       "      <td>188.52</td>\n",
       "      <td>40.20</td>\n",
       "    </tr>\n",
       "    <tr>\n",
       "      <th>4</th>\n",
       "      <td>K-A</td>\n",
       "      <td>2.56</td>\n",
       "      <td>NaN</td>\n",
       "      <td>1.46</td>\n",
       "    </tr>\n",
       "    <tr>\n",
       "      <th>5</th>\n",
       "      <td>AO</td>\n",
       "      <td>NaN</td>\n",
       "      <td>0.61</td>\n",
       "      <td>NaN</td>\n",
       "    </tr>\n",
       "  </tbody>\n",
       "</table>\n",
       "</div>"
      ],
      "text/plain": [
       "  rating  na_sales  eu_sales  jp_sales\n",
       "0      E   1292.99    710.25    198.11\n",
       "1      T    759.75    427.03    151.40\n",
       "2      M    748.48    483.97     64.24\n",
       "3   E10+    353.32    188.52     40.20\n",
       "4    K-A      2.56       NaN      1.46\n",
       "5     AO       NaN      0.61       NaN"
      ]
     },
     "execution_count": 56,
     "metadata": {},
     "output_type": "execute_result"
    }
   ],
   "source": [
    "#объединим таблицы:\n",
    "top5_rating_region = top5_rating_na.merge(top5_rating_eu, on='rating', how='outer')\n",
    "top5_rating_region = top5_rating_region.merge(top5_rating_jp, on='rating', how='outer')\n",
    "top5_rating_region"
   ]
  },
  {
   "cell_type": "code",
   "execution_count": 57,
   "metadata": {},
   "outputs": [
    {
     "data": {
      "image/png": "[encoded data removed]",
      "text/plain": [
       "<Figure size 576x288 with 1 Axes>"
      ]
     },
     "metadata": {
      "needs_background": "light"
     },
     "output_type": "display_data"
    }
   ],
   "source": [
    "top5_rating_region.plot (kind='bar', x='rating', figsize=(8, 4), grid=True)\n",
    "plt.title('Продажи игр топ-5 рейтингов ESRB по регионам')\n",
    "plt.legend(['Северная Америка', 'Европа','Япония'])\n",
    "plt.xlabel('Рейтинг ESRB')\n",
    "plt.ylabel('Количество проданных копий (млн.)')\n",
    "plt.show();"
   ]
  },
  {
   "cell_type": "markdown",
   "metadata": {},
   "source": [
    "Топ-5 рейтингов ESRB игр являются:\n",
    "- в Северной Америке - E, T, M, E10+ и K-A;\n",
    "- в Европе - E, M, T, E10+ и AO;\n",
    "- в Японии - E, T, M, E10+ и K-A.\n",
    "\n",
    "Во всех 3 регионах самую большую категорию составляют продажи игр с рейтингом ESRB, равным \"E\", т.е. подходящим для всех возрастных категорий. На втором месте в Северной Америке и Японии рейтинг ESRB, равный \"T\", т.е. для лиц старше 13 лет, на третьем - рейтинг ESRB, равный \"M\", т.е. для лиц старше 17 лет. В Европе, наоборот, на втором месте - игры с рейтингом ESRB, равным \"M\", на третьем - игры с рейтингом ESRB, равным \"T\". На 4 месте во всех 3 регионах - игры с рейтингом ESRB, равным E10+, т.е. для лиц старше 10 лет. На 5 месте в Северной Америке и Японии рейтинг ESRB, равный \"K-A\", т.е. для детей (аналогичен \"E\"), в Европе - рейтинг ESRB, равный \"AO\", т.е. для взрослых старше 18 лет."
   ]
  },
  {
   "cell_type": "markdown",
   "metadata": {},
   "source": [
    "### Проверка гипотез."
   ]
  },
  {
   "cell_type": "markdown",
   "metadata": {},
   "source": [
    "Перейдем к проверке гипотез."
   ]
  },
  {
   "cell_type": "markdown",
   "metadata": {},
   "source": [
    "####  **Гипотеза № 1**: средние пользовательские рейтинги платформ Xbox One и PC одинаковые.\n",
    "\n"
   ]
  },
  {
   "cell_type": "markdown",
   "metadata": {},
   "source": [
    "Сформулируем нулевую гипотезу H0 как равенство пользовательских рейтингов платформ Xbox One и PC. Альтернативную гипотезу H1 определим как пользовательские рейтинги платформы Xbox One не равны пользовательским рейтингам платформы PC (двусторонняя гипотеза). Пользовательские рейтинги 2 платформ представляют собой 2 независимые выборки, поэтому для проверки гипотезы № 1 проведем двухвыборочный t-test для независимых выборок."
   ]
  },
  {
   "cell_type": "code",
   "execution_count": 58,
   "metadata": {},
   "outputs": [
    {
     "name": "stdout",
     "output_type": "stream",
     "text": [
      "Средняя оценка пользователей платформы Xbox: 7.500511945392492\n",
      "Средняя оценка пользователей платформы PC: 7.062467532467533\n",
      "p-value: 1.7410111940926518e-07\n",
      "Отвергаем нулевую гипотезу. Гипотеза № 1 опровергнута - средние пользовательские рейтинги платформ Xbox One и PC не одинаковы.\n"
     ]
    }
   ],
   "source": [
    "# уровень статистической значимости зададим = 5%\n",
    "alpha = 0.05\n",
    "xbox = games[(games['platform'] == 'XB') & (games['user_score'] >= 0)]\n",
    "pc = games[(games['platform'] == 'PC') & (games['user_score'] >= 0)]\n",
    "xbox_users_score = xbox ['user_score']\n",
    "pc_users_score = pc ['user_score']\n",
    "print (f'Средняя оценка пользователей платформы Xbox: {np.mean(xbox_users_score)}')\n",
    "print (f'Средняя оценка пользователей платформы PC: {np.mean(pc_users_score)}')\n",
    "results = st.ttest_ind(xbox_users_score, pc_users_score)\n",
    "print('p-value:', results.pvalue)\n",
    "if results.pvalue < alpha:\n",
    "    print ('Отвергаем нулевую гипотезу. Гипотеза № 1 опровергнута - средние пользовательские рейтинги платформ Xbox One и PC не одинаковы.')\n",
    "else:\n",
    "    print ('Не получилось отвергнуть нулевую гипотезу. Cредние пользовательские рейтинги платформ Xbox One и PC одинаковые.')"
   ]
  },
  {
   "cell_type": "markdown",
   "metadata": {},
   "source": [
    "**Вывод № 1:** гипотеза № 1 отвергается - более вероятно, что средние пользовательские рейтинги платформ Xbox One и PC не одинаковые."
   ]
  },
  {
   "cell_type": "markdown",
   "metadata": {},
   "source": [
    "####  **Гипотеза № 2**: средние пользовательские рейтинги жанров Action и Sports разные.\n"
   ]
  },
  {
   "cell_type": "markdown",
   "metadata": {},
   "source": [
    "Сформулируем нулевую гипотезу H0 как равенство пользовательских рейтингов жанров Action и Sports. Альтернативную гипотезу H1 (проверяемую гипотезу № 2) определим как пользовательские рейтинги жанров Action не равны пользовательским рейтингам жанров Sports (двусторонняя гипотеза). Пользовательские рейтинги 2 жанров игр представляют собой 2 независимые выборки, поэтому для проверки гипотезы № 2 также проведем двухвыборочный t-test для независимых выборок."
   ]
  },
  {
   "cell_type": "code",
   "execution_count": 59,
   "metadata": {},
   "outputs": [
    {
     "name": "stdout",
     "output_type": "stream",
     "text": [
      "Средняя оценка пользователей игр жанра Action: 7.054043715846995\n",
      "Средняя оценка пользователей игр жанра Sports: 6.961196736174069\n",
      "p-value: 0.10406951359049141\n",
      "Не получилось отвергнуть нулевую гипотезу. Cредние пользовательские рейтинги жанров Action и Sports одинаковые.\n"
     ]
    }
   ],
   "source": [
    "# уровень статистической значимости зададим = 5%\n",
    "alpha = 0.05\n",
    "action = games[(games['genre'] == 'Action') & (games['user_score'] >= 0)]\n",
    "sports = games[(games['genre'] == 'Sports') & (games['user_score'] >= 0)]\n",
    "action_users_score = action ['user_score']\n",
    "sports_users_score = sports ['user_score']\n",
    "print (f'Средняя оценка пользователей игр жанра Action: {np.mean(action_users_score)}')\n",
    "print (f'Средняя оценка пользователей игр жанра Sports: {np.mean(sports_users_score)}')\n",
    "results = st.ttest_ind(action_users_score, sports_users_score)\n",
    "print('p-value:', results.pvalue)\n",
    "if results.pvalue < alpha:\n",
    "    print ('Отвергаем нулевую гипотезу. Гипотеза № 2 не опровергнута - средние пользовательские рейтинги жанров Action и Sports разные.')\n",
    "else:\n",
    "    print ('Не получилось отвергнуть нулевую гипотезу. Cредние пользовательские рейтинги жанров Action и Sports одинаковые.')"
   ]
  },
  {
   "cell_type": "markdown",
   "metadata": {},
   "source": [
    "**Вывод № 2:** гипотеза № 2 отвергается - более вероятно, что средние пользовательские рейтинги игр жанров Action и Sports одинаковые."
   ]
  },
  {
   "cell_type": "markdown",
   "metadata": {},
   "source": [
    "### Итоговые выводы."
   ]
  },
  {
   "cell_type": "markdown",
   "metadata": {},
   "source": [
    "**Исходные данные:** в ходе исследования был проведен анализ данных из открытых источников о продажах игр, их оценках пользователями и экспертами, жанров и платформ.\n",
    "\n",
    "Исходные данные включают в себя информацию о 16715 играх, в том числе наименование игры, наименование платформы, год выпуска, жанр игры, продажи в регионах, оценки критиков и пользователей, рейтинги от организации ESRB. В ходе предобработки данных приведены к нижнему регистру наименования столбцов для удобства их использования при написании кода, типы данных в столбцах с информацией о годе выпуска и информацией об оценках пользователей переведен в более подходящий (целочисленный в первом случае и вещественный - во втором), данные очищены от 2 неинформативных строк с пропусками в столбцах с наименованием игры и наименованием жанра, заполнена часть пропусков в столбце с информацией о годе выпуска, в результате чего их количество в данном столбце сократилось с 269 до 138, а также добавлена дополнительная информация о суммарных продажах во всех регионах для удобства последующего анализа. Также данные содержат существенное количество пропусков в столбцах с оценками пользователей, оценками критиков и рейтингами ESRB, которые не удалось устранить.\n",
    "\n",
    "**Цель исследования** - выявить определяющие успешность игры закономерности, что позволит интернет-магазину «Стримчик» сделать ставку на потенциально популярный продукт и спланировать рекламные кампании.\n",
    "    \n",
    "В ходе проведенного **исследования** выявлено, что:\n",
    "- с 1990 начался рост выпуска игр, который достиг своего пика в 2008 году, после чего начался спад;\n",
    "- активные продажи на платформах идут около 10 лет, достигая своего пика примерно через 5 лет, после чего начинается спад;\n",
    "- лидером продаж в последние 2 года является платформа PS4;\n",
    "- прослеживается слабая зависимость продаж от оценок пользователей и более выраженная зависимость продаж от оценок критиков;\n",
    "- в последние 2 года больше всего выпущено игр в жанре \"Action\" (более 400), в жанре \"Role-Playing\" и \"Adventure\" (более 100 в каждом), меньше всего выпускались игры в жанре \"Puzzle\";\n",
    "- в последние 2 года лучше всего в среднем продаются игры в жанре \"Shooter\" (в среднем около 1,3 млн. проданных копий), на втором месте - игры в жанре \"Sports\" (в среднем около 0,6 млн. проданных копий) и на третьем месте - игры в жанре \"Role-Playing\" (в среднем около 0,42 млн. проданных копий), меньше всего продаж у игр в жанрах \"Adventure\", \"Puzzle\" и \"Strategy\" (в среднем около 0,1 млн. проданных копий в каждом).\n",
    "\n",
    "**Анализ портретов пользователей** Северной Америки, Европы и Японии показал, что:\n",
    "1. Самые выгодным рынком по объему продаж на 5 самых популярных платформах является рынок Северной Америки (54.08 % от общих продаж на топ-5 платформах Северной Америки, Европы и Японии), на втором месте - продажи в Европе (31.14% от общих продаж на топ-5 платформах 3 регионов) и на третьем - продажи в Японии (14.77% от общих продаж на топ-5 платформах 3 регионов).\n",
    "2. Топ-5 популярных платформ в Северной Америке - X360, PS2, Wii, PS3 и DS; в Европе - PS2, PS3, X360, Wii и PS; в Японии -  DS, PS, PS2 и непопулярные в 2 других регионах SNES и 3DS. Топ-5 популярных платформ Японии отличается от более схожих между собой топ-5 популярнях платформ Северной Америки и Европы.\n",
    "3. Наиболее популярными жанрами в Северной Америке и Европе является жанр Action, в Японии - Role-Playing (не представлен в рейтинге 5 популярных жанров у пользователей других 2 регионов), жанр Action в Японии на втором месте по популярности. Также достатоточно популярны во всех 3 регионах жанры Sports (2 место по популярности в Северной Америке и Европе, 3 - в Японии) и Misc (5 место во всех 3 регионах). В Европе также популярен жанр Racing (не представлен в рейтинге 5 популярных жанров у пользователей других 2 регионов), в Северной Америке и Европе - жанр Shooter (не попал в топ-5 Японии), в Северной Америке и Японии - жанр Platform (не попал в топ-5 Европы).\n",
    "4. Самыми популярными играми во всех 3 регионах являются игры с рейтингом ESRB, равным \"E\", т.е. для всех возрастных категорий. Существенно отстают в рейтинге топ-5 игры с рейтингом ESRB, равным  \"T\", т.е. для лиц старше 13 лет, (2 место в рейтинге Северной Америки и Японии, 3 - в европейском рейтинге) и \"M\", т.е. для лиц старше 17 лет, (3 место в рейтинге Северной Америки и Японии, 2 - в европейском рейтинге). На 4 месте во всех 3 регионах - игры с рейтингом ESRB, равным E10+, т.е. для лиц старше 10 лет. Остальные рейтинги несущественны.\n",
    "\n",
    "**Проверка гипотез:**\n",
    "\n",
    "В ходе исследования были проверены 2 гипотезы.\n",
    "\n",
    "**Гипотеза № 1**, что средние пользовательские рейтинги платформ Xbox One и PC одинаковые, отвергнута - более вероятно, что средние пользовательские рейтинги платформ Xbox One и PC не одинаковые.\n",
    "\n",
    "**Гипотеза № 2**, что средние пользовательские рейтинги жанров Action и Sports разные отвергнута - более вероятно, средние пользовательские рейтинги жанров Action и Sports одинаковые.\n",
    "\n",
    "Проверки обеих гипотез указывают на то, что не стоит ориентироваться на оценки пользователей.\n",
    "\n",
    "***Рекомендации:***\n",
    "1. Тщательнее собирать данные для анализа для получения более точных результатов (минимизировать пропуски в данных).\n",
    "2. Направить основные усилия на продвижение в регионе Северной Америке, как наиболее прибыльном с точки зрения объемов продаж.\n",
    "3. Увеличить долю игр в жанрах \"Shooter\", \"Sports\" и \"Role-Playing\", как наиболее продаваемых, и уменьшить долю игр в жанрах \"Adventure\", \"Puzzle\" и \"Strategy\", как наименее продаваемых.\n",
    "4. Увеличить долю игр на платформе PS4, являющуюся лидером продаж в последние два года.\n",
    "5. Увеличить долю игр, подходящих для всех возрастов, как наиболее продаваемых.\n",
    "5. При формировании стратегии закупок и рекламных компаний:\n",
    "- учитывать срок активной деятельности платформ, исходя из того, что средний срок активной деятельности платформ составляет 10 лет с пиком через 5 лет и дальнейшим спадом;\n",
    "- учитывать оценки критиков (не является определяющим фактором);\n",
    "- учитывать региональные особенности: \n",
    "    - в Японии наиболее продаваемыми являются игры в жанре Role-Playing, непопулярные в других регионах;\n",
    "    - платформы SNES и 3DS также популярны в Японии и непопулярны в других регионах;\n",
    "    - в Европе наряду с жанрами Action и Sports также популярен жанр Racing и т.д. \n",
    "    "
   ]
  }
 ],
 "metadata": {
  "ExecuteTimeLog": [
   {
    "duration": 1265,
    "start_time": "2024-03-06T19:59:34.078Z"
   },
   {
    "duration": 220,
    "start_time": "2024-03-06T20:04:12.545Z"
   },
   {
    "duration": 195,
    "start_time": "2024-03-06T20:04:18.901Z"
   },
   {
    "duration": 14,
    "start_time": "2024-03-06T20:04:47.793Z"
   },
   {
    "duration": 15,
    "start_time": "2024-03-06T20:05:39.708Z"
   },
   {
    "duration": 8,
    "start_time": "2024-03-06T20:13:52.504Z"
   },
   {
    "duration": 4,
    "start_time": "2024-03-06T20:13:58.936Z"
   },
   {
    "duration": 8,
    "start_time": "2024-03-06T20:15:32.663Z"
   },
   {
    "duration": 8,
    "start_time": "2024-03-06T20:15:36.936Z"
   },
   {
    "duration": 4,
    "start_time": "2024-03-06T20:15:44.495Z"
   },
   {
    "duration": 3,
    "start_time": "2024-03-06T20:15:58.386Z"
   },
   {
    "duration": 4,
    "start_time": "2024-03-06T20:16:55.781Z"
   },
   {
    "duration": 4,
    "start_time": "2024-03-06T20:16:57.722Z"
   },
   {
    "duration": 14,
    "start_time": "2024-03-06T20:17:01.573Z"
   },
   {
    "duration": 8,
    "start_time": "2024-03-06T20:21:43.197Z"
   },
   {
    "duration": 4,
    "start_time": "2024-03-06T20:22:04.790Z"
   },
   {
    "duration": 5,
    "start_time": "2024-03-06T20:22:21.359Z"
   },
   {
    "duration": 11,
    "start_time": "2024-03-06T20:26:49.361Z"
   },
   {
    "duration": 19,
    "start_time": "2024-03-06T20:27:12.088Z"
   },
   {
    "duration": 3,
    "start_time": "2024-03-06T20:27:24.428Z"
   },
   {
    "duration": 82,
    "start_time": "2024-03-06T20:27:24.438Z"
   },
   {
    "duration": 3,
    "start_time": "2024-03-06T20:27:24.522Z"
   },
   {
    "duration": 5,
    "start_time": "2024-03-06T20:27:24.527Z"
   },
   {
    "duration": 20,
    "start_time": "2024-03-06T20:27:24.533Z"
   },
   {
    "duration": 18,
    "start_time": "2024-03-06T20:27:24.555Z"
   },
   {
    "duration": 4,
    "start_time": "2024-03-06T20:27:24.574Z"
   },
   {
    "duration": 42,
    "start_time": "2024-03-07T13:54:23.419Z"
   },
   {
    "duration": 1148,
    "start_time": "2024-03-07T13:54:30.020Z"
   },
   {
    "duration": 153,
    "start_time": "2024-03-07T13:54:31.170Z"
   },
   {
    "duration": 3,
    "start_time": "2024-03-07T13:54:31.325Z"
   },
   {
    "duration": 42,
    "start_time": "2024-03-07T13:54:31.329Z"
   },
   {
    "duration": 44,
    "start_time": "2024-03-07T13:54:31.373Z"
   },
   {
    "duration": 50,
    "start_time": "2024-03-07T13:54:31.418Z"
   },
   {
    "duration": 22,
    "start_time": "2024-03-07T13:54:31.469Z"
   },
   {
    "duration": 57,
    "start_time": "2024-03-07T14:03:44.126Z"
   },
   {
    "duration": 11,
    "start_time": "2024-03-07T14:17:40.599Z"
   },
   {
    "duration": 9,
    "start_time": "2024-03-07T14:17:44.780Z"
   },
   {
    "duration": 4,
    "start_time": "2024-03-07T14:17:59.719Z"
   },
   {
    "duration": 4,
    "start_time": "2024-03-07T14:18:19.408Z"
   },
   {
    "duration": 4,
    "start_time": "2024-03-07T14:18:36.156Z"
   },
   {
    "duration": 6,
    "start_time": "2024-03-07T14:20:22.427Z"
   },
   {
    "duration": 6,
    "start_time": "2024-03-07T14:21:12.976Z"
   },
   {
    "duration": 11,
    "start_time": "2024-03-07T14:21:28.911Z"
   },
   {
    "duration": 83,
    "start_time": "2024-03-07T14:22:28.124Z"
   },
   {
    "duration": 7,
    "start_time": "2024-03-07T14:22:32.203Z"
   },
   {
    "duration": 7,
    "start_time": "2024-03-07T14:23:23.473Z"
   },
   {
    "duration": 7,
    "start_time": "2024-03-07T14:23:58.482Z"
   },
   {
    "duration": 8,
    "start_time": "2024-03-07T14:24:17.319Z"
   },
   {
    "duration": 7,
    "start_time": "2024-03-07T14:24:22.320Z"
   },
   {
    "duration": 7,
    "start_time": "2024-03-07T14:25:03.466Z"
   },
   {
    "duration": 11,
    "start_time": "2024-03-07T14:25:20.077Z"
   },
   {
    "duration": 74,
    "start_time": "2024-03-07T14:25:24.341Z"
   },
   {
    "duration": 11,
    "start_time": "2024-03-07T14:25:31.542Z"
   },
   {
    "duration": 12,
    "start_time": "2024-03-07T14:25:46.796Z"
   },
   {
    "duration": 10,
    "start_time": "2024-03-07T14:25:54.543Z"
   },
   {
    "duration": 4,
    "start_time": "2024-03-07T14:27:36.269Z"
   },
   {
    "duration": 7,
    "start_time": "2024-03-07T14:27:57.377Z"
   },
   {
    "duration": 16,
    "start_time": "2024-03-07T14:28:10.895Z"
   },
   {
    "duration": 17,
    "start_time": "2024-03-07T14:28:43.722Z"
   },
   {
    "duration": 2,
    "start_time": "2024-03-07T14:28:55.082Z"
   },
   {
    "duration": 67,
    "start_time": "2024-03-07T14:28:55.086Z"
   },
   {
    "duration": 3,
    "start_time": "2024-03-07T14:28:55.154Z"
   },
   {
    "duration": 29,
    "start_time": "2024-03-07T14:28:55.159Z"
   },
   {
    "duration": 25,
    "start_time": "2024-03-07T14:28:55.189Z"
   },
   {
    "duration": 11,
    "start_time": "2024-03-07T14:28:55.215Z"
   },
   {
    "duration": 1152,
    "start_time": "2024-03-07T14:28:55.227Z"
   },
   {
    "duration": 0,
    "start_time": "2024-03-07T14:28:56.380Z"
   },
   {
    "duration": 0,
    "start_time": "2024-03-07T14:28:56.381Z"
   },
   {
    "duration": 1078,
    "start_time": "2024-03-07T14:29:26.452Z"
   },
   {
    "duration": 23,
    "start_time": "2024-03-07T14:29:33.183Z"
   },
   {
    "duration": 1192,
    "start_time": "2024-03-07T14:30:24.702Z"
   },
   {
    "duration": 3,
    "start_time": "2024-03-07T14:30:41.294Z"
   },
   {
    "duration": 73,
    "start_time": "2024-03-07T14:30:41.299Z"
   },
   {
    "duration": 3,
    "start_time": "2024-03-07T14:30:41.373Z"
   },
   {
    "duration": 8,
    "start_time": "2024-03-07T14:30:41.377Z"
   },
   {
    "duration": 29,
    "start_time": "2024-03-07T14:30:41.386Z"
   },
   {
    "duration": 10,
    "start_time": "2024-03-07T14:30:41.417Z"
   },
   {
    "duration": 16,
    "start_time": "2024-03-07T14:30:41.429Z"
   },
   {
    "duration": 4,
    "start_time": "2024-03-07T14:30:41.446Z"
   },
   {
    "duration": 17,
    "start_time": "2024-03-07T14:30:41.451Z"
   },
   {
    "duration": 21,
    "start_time": "2024-03-07T14:31:27.998Z"
   },
   {
    "duration": 16,
    "start_time": "2024-03-07T14:31:34.025Z"
   },
   {
    "duration": 2,
    "start_time": "2024-03-07T14:31:43.446Z"
   },
   {
    "duration": 106,
    "start_time": "2024-03-07T14:31:43.449Z"
   },
   {
    "duration": 3,
    "start_time": "2024-03-07T14:31:43.556Z"
   },
   {
    "duration": 68,
    "start_time": "2024-03-07T14:31:43.560Z"
   },
   {
    "duration": 33,
    "start_time": "2024-03-07T14:31:43.629Z"
   },
   {
    "duration": 28,
    "start_time": "2024-03-07T14:31:43.663Z"
   },
   {
    "duration": 4,
    "start_time": "2024-03-07T14:31:43.692Z"
   },
   {
    "duration": 32,
    "start_time": "2024-03-07T14:31:43.698Z"
   },
   {
    "duration": 4,
    "start_time": "2024-03-07T14:32:45.064Z"
   },
   {
    "duration": 6,
    "start_time": "2024-03-07T14:37:33.295Z"
   },
   {
    "duration": 6,
    "start_time": "2024-03-07T14:37:44.835Z"
   },
   {
    "duration": 11,
    "start_time": "2024-03-07T14:38:03.946Z"
   },
   {
    "duration": 10,
    "start_time": "2024-03-07T14:38:08.446Z"
   },
   {
    "duration": 12,
    "start_time": "2024-03-07T14:38:12.816Z"
   },
   {
    "duration": 11,
    "start_time": "2024-03-07T14:38:19.317Z"
   },
   {
    "duration": 5,
    "start_time": "2024-03-07T14:38:24.417Z"
   },
   {
    "duration": 6,
    "start_time": "2024-03-07T14:38:32.048Z"
   },
   {
    "duration": 3,
    "start_time": "2024-03-07T14:39:09.494Z"
   },
   {
    "duration": 12,
    "start_time": "2024-03-07T14:39:21.484Z"
   },
   {
    "duration": 3,
    "start_time": "2024-03-07T14:40:36.847Z"
   },
   {
    "duration": 4,
    "start_time": "2024-03-07T14:42:04.066Z"
   },
   {
    "duration": 6,
    "start_time": "2024-03-07T14:42:15.953Z"
   },
   {
    "duration": 10,
    "start_time": "2024-03-07T14:42:36.224Z"
   },
   {
    "duration": 13,
    "start_time": "2024-03-07T14:46:03.945Z"
   },
   {
    "duration": 10,
    "start_time": "2024-03-07T14:46:07.176Z"
   },
   {
    "duration": 5,
    "start_time": "2024-03-07T14:47:09.566Z"
   },
   {
    "duration": 4,
    "start_time": "2024-03-07T14:48:15.697Z"
   },
   {
    "duration": 4,
    "start_time": "2024-03-07T14:49:24.183Z"
   },
   {
    "duration": 3,
    "start_time": "2024-03-07T14:50:14.868Z"
   },
   {
    "duration": 57,
    "start_time": "2024-03-07T14:50:14.876Z"
   },
   {
    "duration": 3,
    "start_time": "2024-03-07T14:50:14.935Z"
   },
   {
    "duration": 10,
    "start_time": "2024-03-07T14:50:14.940Z"
   },
   {
    "duration": 20,
    "start_time": "2024-03-07T14:50:14.951Z"
   },
   {
    "duration": 11,
    "start_time": "2024-03-07T14:50:14.972Z"
   },
   {
    "duration": 1458,
    "start_time": "2024-03-07T14:50:14.984Z"
   },
   {
    "duration": 0,
    "start_time": "2024-03-07T14:50:16.444Z"
   },
   {
    "duration": 0,
    "start_time": "2024-03-07T14:50:16.445Z"
   },
   {
    "duration": 0,
    "start_time": "2024-03-07T14:50:16.446Z"
   },
   {
    "duration": 0,
    "start_time": "2024-03-07T14:50:16.447Z"
   },
   {
    "duration": 0,
    "start_time": "2024-03-07T14:50:16.447Z"
   },
   {
    "duration": 0,
    "start_time": "2024-03-07T14:50:16.448Z"
   },
   {
    "duration": 0,
    "start_time": "2024-03-07T14:50:16.449Z"
   },
   {
    "duration": 4,
    "start_time": "2024-03-07T14:51:07.746Z"
   },
   {
    "duration": 2,
    "start_time": "2024-03-07T14:51:10.679Z"
   },
   {
    "duration": 79,
    "start_time": "2024-03-07T14:51:10.683Z"
   },
   {
    "duration": 4,
    "start_time": "2024-03-07T14:51:10.764Z"
   },
   {
    "duration": 9,
    "start_time": "2024-03-07T14:51:10.769Z"
   },
   {
    "duration": 14,
    "start_time": "2024-03-07T14:51:10.780Z"
   },
   {
    "duration": 10,
    "start_time": "2024-03-07T14:51:10.796Z"
   },
   {
    "duration": 4,
    "start_time": "2024-03-07T14:51:10.807Z"
   },
   {
    "duration": 7,
    "start_time": "2024-03-07T14:51:10.813Z"
   },
   {
    "duration": 7,
    "start_time": "2024-03-07T14:51:10.822Z"
   },
   {
    "duration": 10,
    "start_time": "2024-03-07T14:51:10.830Z"
   },
   {
    "duration": 10,
    "start_time": "2024-03-07T14:51:10.842Z"
   },
   {
    "duration": 9,
    "start_time": "2024-03-07T14:51:10.854Z"
   },
   {
    "duration": 7,
    "start_time": "2024-03-07T14:51:10.864Z"
   },
   {
    "duration": 14,
    "start_time": "2024-03-07T14:51:10.872Z"
   },
   {
    "duration": 7,
    "start_time": "2024-03-07T14:58:58.537Z"
   },
   {
    "duration": 4,
    "start_time": "2024-03-07T14:59:03.880Z"
   },
   {
    "duration": 4,
    "start_time": "2024-03-07T14:59:21.789Z"
   },
   {
    "duration": 2,
    "start_time": "2024-03-07T14:59:30.526Z"
   },
   {
    "duration": 95,
    "start_time": "2024-03-07T14:59:30.530Z"
   },
   {
    "duration": 21,
    "start_time": "2024-03-07T14:59:30.627Z"
   },
   {
    "duration": 42,
    "start_time": "2024-03-07T14:59:30.650Z"
   },
   {
    "duration": 49,
    "start_time": "2024-03-07T14:59:30.694Z"
   },
   {
    "duration": 51,
    "start_time": "2024-03-07T14:59:30.744Z"
   },
   {
    "duration": 40,
    "start_time": "2024-03-07T14:59:30.796Z"
   },
   {
    "duration": 31,
    "start_time": "2024-03-07T14:59:30.837Z"
   },
   {
    "duration": 38,
    "start_time": "2024-03-07T14:59:30.870Z"
   },
   {
    "duration": 104,
    "start_time": "2024-03-07T14:59:30.910Z"
   },
   {
    "duration": 58,
    "start_time": "2024-03-07T14:59:31.015Z"
   },
   {
    "duration": 53,
    "start_time": "2024-03-07T14:59:31.075Z"
   },
   {
    "duration": 48,
    "start_time": "2024-03-07T14:59:31.130Z"
   },
   {
    "duration": 29,
    "start_time": "2024-03-07T14:59:31.180Z"
   },
   {
    "duration": 4,
    "start_time": "2024-03-07T15:00:38.743Z"
   },
   {
    "duration": 6,
    "start_time": "2024-03-07T15:00:56.640Z"
   },
   {
    "duration": 11,
    "start_time": "2024-03-07T15:01:02.287Z"
   },
   {
    "duration": 2,
    "start_time": "2024-03-07T15:01:12.975Z"
   },
   {
    "duration": 61,
    "start_time": "2024-03-07T15:01:12.978Z"
   },
   {
    "duration": 3,
    "start_time": "2024-03-07T15:01:13.040Z"
   },
   {
    "duration": 11,
    "start_time": "2024-03-07T15:01:13.044Z"
   },
   {
    "duration": 18,
    "start_time": "2024-03-07T15:01:13.056Z"
   },
   {
    "duration": 11,
    "start_time": "2024-03-07T15:01:13.075Z"
   },
   {
    "duration": 20,
    "start_time": "2024-03-07T15:01:13.087Z"
   },
   {
    "duration": 37,
    "start_time": "2024-03-07T15:01:13.109Z"
   },
   {
    "duration": 46,
    "start_time": "2024-03-07T15:01:13.148Z"
   },
   {
    "duration": 16,
    "start_time": "2024-03-07T15:01:13.195Z"
   },
   {
    "duration": 42,
    "start_time": "2024-03-07T15:01:13.212Z"
   },
   {
    "duration": 9,
    "start_time": "2024-03-07T15:01:13.255Z"
   },
   {
    "duration": 11,
    "start_time": "2024-03-07T15:01:13.265Z"
   },
   {
    "duration": 13,
    "start_time": "2024-03-07T15:01:13.277Z"
   },
   {
    "duration": 5,
    "start_time": "2024-03-07T15:01:39.016Z"
   },
   {
    "duration": 6,
    "start_time": "2024-03-07T15:10:56.991Z"
   },
   {
    "duration": 12,
    "start_time": "2024-03-07T15:17:51.169Z"
   },
   {
    "duration": 20,
    "start_time": "2024-03-07T15:18:25.177Z"
   },
   {
    "duration": 67,
    "start_time": "2024-03-07T15:19:01.997Z"
   },
   {
    "duration": 10,
    "start_time": "2024-03-07T15:19:07.313Z"
   },
   {
    "duration": 9,
    "start_time": "2024-03-07T15:19:19.641Z"
   },
   {
    "duration": 13,
    "start_time": "2024-03-07T15:19:41.313Z"
   },
   {
    "duration": 75,
    "start_time": "2024-03-07T15:20:03.908Z"
   },
   {
    "duration": 10,
    "start_time": "2024-03-07T15:20:11.010Z"
   },
   {
    "duration": 14,
    "start_time": "2024-03-07T15:20:14.717Z"
   },
   {
    "duration": 110,
    "start_time": "2024-03-07T15:25:04.721Z"
   },
   {
    "duration": 4,
    "start_time": "2024-03-07T15:25:14.342Z"
   },
   {
    "duration": 5,
    "start_time": "2024-03-07T15:25:30.283Z"
   },
   {
    "duration": 4,
    "start_time": "2024-03-07T15:26:18.010Z"
   },
   {
    "duration": 5,
    "start_time": "2024-03-07T15:27:22.466Z"
   },
   {
    "duration": 3,
    "start_time": "2024-03-07T15:28:50.024Z"
   },
   {
    "duration": 9,
    "start_time": "2024-03-07T15:34:58.815Z"
   },
   {
    "duration": 3,
    "start_time": "2024-03-07T15:35:26.271Z"
   },
   {
    "duration": 858,
    "start_time": "2024-03-07T15:35:36.911Z"
   },
   {
    "duration": 851,
    "start_time": "2024-03-07T15:35:43.799Z"
   },
   {
    "duration": 879,
    "start_time": "2024-03-07T15:36:02.218Z"
   },
   {
    "duration": 9,
    "start_time": "2024-03-07T15:36:56.435Z"
   },
   {
    "duration": 884,
    "start_time": "2024-03-07T15:38:30.745Z"
   },
   {
    "duration": 2,
    "start_time": "2024-03-07T15:38:47.376Z"
   },
   {
    "duration": 71,
    "start_time": "2024-03-07T15:38:47.380Z"
   },
   {
    "duration": 3,
    "start_time": "2024-03-07T15:38:47.452Z"
   },
   {
    "duration": 3,
    "start_time": "2024-03-07T15:38:47.457Z"
   },
   {
    "duration": 14,
    "start_time": "2024-03-07T15:38:47.462Z"
   },
   {
    "duration": 10,
    "start_time": "2024-03-07T15:38:47.477Z"
   },
   {
    "duration": 14,
    "start_time": "2024-03-07T15:38:47.488Z"
   },
   {
    "duration": 4,
    "start_time": "2024-03-07T15:38:47.503Z"
   },
   {
    "duration": 11,
    "start_time": "2024-03-07T15:38:47.509Z"
   },
   {
    "duration": 5,
    "start_time": "2024-03-07T15:38:47.521Z"
   },
   {
    "duration": 4,
    "start_time": "2024-03-07T15:38:47.527Z"
   },
   {
    "duration": 6,
    "start_time": "2024-03-07T15:38:47.532Z"
   },
   {
    "duration": 16,
    "start_time": "2024-03-07T15:38:47.539Z"
   },
   {
    "duration": 10,
    "start_time": "2024-03-07T15:38:47.557Z"
   },
   {
    "duration": 37,
    "start_time": "2024-03-07T15:38:47.568Z"
   },
   {
    "duration": 18,
    "start_time": "2024-03-07T15:38:47.606Z"
   },
   {
    "duration": 12,
    "start_time": "2024-03-07T15:38:47.625Z"
   },
   {
    "duration": 4,
    "start_time": "2024-03-07T15:38:47.638Z"
   },
   {
    "duration": 20,
    "start_time": "2024-03-07T15:38:47.643Z"
   },
   {
    "duration": 6,
    "start_time": "2024-03-07T15:38:58.445Z"
   },
   {
    "duration": 14,
    "start_time": "2024-03-07T15:39:34.382Z"
   },
   {
    "duration": 8,
    "start_time": "2024-03-07T15:40:51.526Z"
   },
   {
    "duration": 10,
    "start_time": "2024-03-07T15:40:59.065Z"
   },
   {
    "duration": 7,
    "start_time": "2024-03-07T15:41:04.295Z"
   },
   {
    "duration": 10,
    "start_time": "2024-03-07T15:51:48.519Z"
   },
   {
    "duration": 20,
    "start_time": "2024-03-07T15:52:01.920Z"
   },
   {
    "duration": 16,
    "start_time": "2024-03-07T15:52:10.524Z"
   },
   {
    "duration": 6,
    "start_time": "2024-03-07T15:52:29.711Z"
   },
   {
    "duration": 18,
    "start_time": "2024-03-07T15:53:17.281Z"
   },
   {
    "duration": 3,
    "start_time": "2024-03-07T15:53:57.342Z"
   },
   {
    "duration": 11,
    "start_time": "2024-03-07T15:54:42.352Z"
   },
   {
    "duration": 5,
    "start_time": "2024-03-07T15:54:47.331Z"
   },
   {
    "duration": 7,
    "start_time": "2024-03-07T15:56:54.290Z"
   },
   {
    "duration": 21,
    "start_time": "2024-03-07T15:57:48.669Z"
   },
   {
    "duration": 4,
    "start_time": "2024-03-07T16:00:24.151Z"
   },
   {
    "duration": 4,
    "start_time": "2024-03-07T16:00:36.950Z"
   },
   {
    "duration": 3,
    "start_time": "2024-03-07T16:00:49.200Z"
   },
   {
    "duration": 117,
    "start_time": "2024-03-07T16:01:10.349Z"
   },
   {
    "duration": 14,
    "start_time": "2024-03-07T16:01:26.610Z"
   },
   {
    "duration": 16,
    "start_time": "2024-03-07T16:04:11.868Z"
   },
   {
    "duration": 11,
    "start_time": "2024-03-07T16:04:57.268Z"
   },
   {
    "duration": 6,
    "start_time": "2024-03-07T16:08:19.480Z"
   },
   {
    "duration": 6,
    "start_time": "2024-03-07T16:09:55.269Z"
   },
   {
    "duration": 24334,
    "start_time": "2024-03-07T16:23:45.852Z"
   },
   {
    "duration": 30,
    "start_time": "2024-03-07T16:24:31.120Z"
   },
   {
    "duration": 31,
    "start_time": "2024-03-07T16:24:49.887Z"
   },
   {
    "duration": 24271,
    "start_time": "2024-03-07T16:24:56.326Z"
   },
   {
    "duration": 13,
    "start_time": "2024-03-07T16:25:39.207Z"
   },
   {
    "duration": 9,
    "start_time": "2024-03-07T16:28:33.827Z"
   },
   {
    "duration": 10,
    "start_time": "2024-03-07T16:29:00.667Z"
   },
   {
    "duration": 9,
    "start_time": "2024-03-07T16:32:11.726Z"
   },
   {
    "duration": 9,
    "start_time": "2024-03-07T16:32:20.207Z"
   },
   {
    "duration": 10,
    "start_time": "2024-03-07T16:32:33.408Z"
   },
   {
    "duration": 4,
    "start_time": "2024-03-07T16:32:55.245Z"
   },
   {
    "duration": 11,
    "start_time": "2024-03-07T16:33:01.483Z"
   },
   {
    "duration": 18,
    "start_time": "2024-03-07T16:41:11.302Z"
   },
   {
    "duration": 16,
    "start_time": "2024-03-07T16:41:22.223Z"
   },
   {
    "duration": 12,
    "start_time": "2024-03-07T16:41:38.169Z"
   },
   {
    "duration": 24469,
    "start_time": "2024-03-07T16:41:47.841Z"
   },
   {
    "duration": 70,
    "start_time": "2024-03-07T16:42:44.830Z"
   },
   {
    "duration": 61,
    "start_time": "2024-03-07T16:42:50.342Z"
   },
   {
    "duration": 12,
    "start_time": "2024-03-07T16:42:53.062Z"
   },
   {
    "duration": 11,
    "start_time": "2024-03-07T16:43:29.632Z"
   },
   {
    "duration": 10,
    "start_time": "2024-03-07T16:43:41.391Z"
   },
   {
    "duration": 10,
    "start_time": "2024-03-07T16:43:58.461Z"
   },
   {
    "duration": 10,
    "start_time": "2024-03-07T16:44:10.799Z"
   },
   {
    "duration": 11,
    "start_time": "2024-03-07T16:44:25.621Z"
   },
   {
    "duration": 13,
    "start_time": "2024-03-07T16:45:05.141Z"
   },
   {
    "duration": 11,
    "start_time": "2024-03-07T16:45:37.222Z"
   },
   {
    "duration": 8,
    "start_time": "2024-03-07T16:45:52.327Z"
   },
   {
    "duration": 12,
    "start_time": "2024-03-07T16:46:07.380Z"
   },
   {
    "duration": 12,
    "start_time": "2024-03-07T16:46:32.900Z"
   },
   {
    "duration": 13,
    "start_time": "2024-03-07T16:46:46.030Z"
   },
   {
    "duration": 12,
    "start_time": "2024-03-07T16:46:59.082Z"
   },
   {
    "duration": 12,
    "start_time": "2024-03-07T16:47:11.780Z"
   },
   {
    "duration": 11,
    "start_time": "2024-03-07T16:47:37.740Z"
   },
   {
    "duration": 14,
    "start_time": "2024-03-07T16:48:09.140Z"
   },
   {
    "duration": 97,
    "start_time": "2024-03-07T16:48:26.668Z"
   },
   {
    "duration": 12,
    "start_time": "2024-03-07T16:49:03.525Z"
   },
   {
    "duration": 3,
    "start_time": "2024-03-07T16:49:42.199Z"
   },
   {
    "duration": 66,
    "start_time": "2024-03-07T16:49:42.203Z"
   },
   {
    "duration": 3,
    "start_time": "2024-03-07T16:49:42.270Z"
   },
   {
    "duration": 15,
    "start_time": "2024-03-07T16:49:42.274Z"
   },
   {
    "duration": 23,
    "start_time": "2024-03-07T16:49:42.290Z"
   },
   {
    "duration": 10,
    "start_time": "2024-03-07T16:49:42.314Z"
   },
   {
    "duration": 6,
    "start_time": "2024-03-07T16:49:42.326Z"
   },
   {
    "duration": 5,
    "start_time": "2024-03-07T16:49:42.333Z"
   },
   {
    "duration": 3,
    "start_time": "2024-03-07T16:49:42.339Z"
   },
   {
    "duration": 5,
    "start_time": "2024-03-07T16:49:42.343Z"
   },
   {
    "duration": 3,
    "start_time": "2024-03-07T16:49:42.349Z"
   },
   {
    "duration": 5,
    "start_time": "2024-03-07T16:49:42.353Z"
   },
   {
    "duration": 9,
    "start_time": "2024-03-07T16:49:42.359Z"
   },
   {
    "duration": 38,
    "start_time": "2024-03-07T16:49:42.370Z"
   },
   {
    "duration": 6,
    "start_time": "2024-03-07T16:49:42.409Z"
   },
   {
    "duration": 10,
    "start_time": "2024-03-07T16:49:42.417Z"
   },
   {
    "duration": 13,
    "start_time": "2024-03-07T16:49:42.428Z"
   },
   {
    "duration": 11,
    "start_time": "2024-03-07T16:49:42.442Z"
   },
   {
    "duration": 8,
    "start_time": "2024-03-07T16:49:42.454Z"
   },
   {
    "duration": 13,
    "start_time": "2024-03-07T16:49:42.463Z"
   },
   {
    "duration": 25,
    "start_time": "2024-03-07T16:49:42.477Z"
   },
   {
    "duration": 19,
    "start_time": "2024-03-07T16:49:42.503Z"
   },
   {
    "duration": 25090,
    "start_time": "2024-03-07T16:49:42.523Z"
   },
   {
    "duration": 8,
    "start_time": "2024-03-07T16:50:38.660Z"
   },
   {
    "duration": 3,
    "start_time": "2024-03-07T16:52:11.461Z"
   },
   {
    "duration": 67,
    "start_time": "2024-03-07T16:52:11.465Z"
   },
   {
    "duration": 3,
    "start_time": "2024-03-07T16:52:11.534Z"
   },
   {
    "duration": 9,
    "start_time": "2024-03-07T16:52:11.539Z"
   },
   {
    "duration": 20,
    "start_time": "2024-03-07T16:52:11.550Z"
   },
   {
    "duration": 11,
    "start_time": "2024-03-07T16:52:11.572Z"
   },
   {
    "duration": 18,
    "start_time": "2024-03-07T16:52:11.584Z"
   },
   {
    "duration": 5,
    "start_time": "2024-03-07T16:52:11.603Z"
   },
   {
    "duration": 4,
    "start_time": "2024-03-07T16:52:11.611Z"
   },
   {
    "duration": 8,
    "start_time": "2024-03-07T16:52:11.616Z"
   },
   {
    "duration": 3,
    "start_time": "2024-03-07T16:52:11.626Z"
   },
   {
    "duration": 6,
    "start_time": "2024-03-07T16:52:11.631Z"
   },
   {
    "duration": 9,
    "start_time": "2024-03-07T16:52:11.639Z"
   },
   {
    "duration": 34,
    "start_time": "2024-03-07T16:52:11.650Z"
   },
   {
    "duration": 17,
    "start_time": "2024-03-07T16:52:11.685Z"
   },
   {
    "duration": 12,
    "start_time": "2024-03-07T16:52:11.703Z"
   },
   {
    "duration": 14,
    "start_time": "2024-03-07T16:52:11.716Z"
   },
   {
    "duration": 5,
    "start_time": "2024-03-07T16:52:11.731Z"
   },
   {
    "duration": 8,
    "start_time": "2024-03-07T16:52:11.737Z"
   },
   {
    "duration": 24928,
    "start_time": "2024-03-07T16:52:11.746Z"
   },
   {
    "duration": 11,
    "start_time": "2024-03-07T16:52:36.675Z"
   },
   {
    "duration": 43,
    "start_time": "2024-03-07T16:52:36.688Z"
   },
   {
    "duration": 5,
    "start_time": "2024-03-07T16:54:15.288Z"
   },
   {
    "duration": 24343,
    "start_time": "2024-03-07T16:54:38.399Z"
   },
   {
    "duration": 5,
    "start_time": "2024-03-07T16:55:05.519Z"
   },
   {
    "duration": 7,
    "start_time": "2024-03-07T16:55:30.430Z"
   },
   {
    "duration": 7,
    "start_time": "2024-03-07T16:55:36.361Z"
   },
   {
    "duration": 5,
    "start_time": "2024-03-07T16:56:08.582Z"
   },
   {
    "duration": 69,
    "start_time": "2024-03-07T16:56:33.454Z"
   },
   {
    "duration": 3,
    "start_time": "2024-03-07T16:56:48.781Z"
   },
   {
    "duration": 24,
    "start_time": "2024-03-07T17:01:19.617Z"
   },
   {
    "duration": 7,
    "start_time": "2024-03-07T17:02:43.377Z"
   },
   {
    "duration": 4,
    "start_time": "2024-03-07T17:02:47.237Z"
   },
   {
    "duration": 5,
    "start_time": "2024-03-07T17:03:13.217Z"
   },
   {
    "duration": 10,
    "start_time": "2024-03-07T17:08:46.051Z"
   },
   {
    "duration": 71,
    "start_time": "2024-03-07T17:09:06.142Z"
   },
   {
    "duration": 10,
    "start_time": "2024-03-07T17:09:11.632Z"
   },
   {
    "duration": 10,
    "start_time": "2024-03-07T17:09:23.141Z"
   },
   {
    "duration": 15,
    "start_time": "2024-03-07T17:12:42.348Z"
   },
   {
    "duration": 11,
    "start_time": "2024-03-07T17:12:43.395Z"
   },
   {
    "duration": 5,
    "start_time": "2024-03-07T17:13:05.154Z"
   },
   {
    "duration": 4,
    "start_time": "2024-03-07T17:14:43.447Z"
   },
   {
    "duration": 18,
    "start_time": "2024-03-07T17:15:08.408Z"
   },
   {
    "duration": 7,
    "start_time": "2024-03-07T17:15:56.581Z"
   },
   {
    "duration": 10,
    "start_time": "2024-03-07T17:25:09.253Z"
   },
   {
    "duration": 1122,
    "start_time": "2024-03-07T17:25:22.763Z"
   },
   {
    "duration": 5,
    "start_time": "2024-03-07T17:25:50.336Z"
   },
   {
    "duration": 12,
    "start_time": "2024-03-07T17:25:51.558Z"
   },
   {
    "duration": 12,
    "start_time": "2024-03-07T17:37:53.278Z"
   },
   {
    "duration": 0,
    "start_time": "2024-03-07T17:44:14.366Z"
   },
   {
    "duration": 13,
    "start_time": "2024-03-07T17:46:25.865Z"
   },
   {
    "duration": 1213,
    "start_time": "2024-03-07T17:46:52.239Z"
   },
   {
    "duration": 12,
    "start_time": "2024-03-07T17:47:04.773Z"
   },
   {
    "duration": 13,
    "start_time": "2024-03-07T17:47:31.007Z"
   },
   {
    "duration": 12,
    "start_time": "2024-03-07T17:49:43.409Z"
   },
   {
    "duration": 12,
    "start_time": "2024-03-07T17:50:09.740Z"
   },
   {
    "duration": 16,
    "start_time": "2024-03-07T17:52:08.572Z"
   },
   {
    "duration": 17,
    "start_time": "2024-03-07T17:52:27.308Z"
   },
   {
    "duration": 3,
    "start_time": "2024-03-07T17:53:05.346Z"
   },
   {
    "duration": 72,
    "start_time": "2024-03-07T17:53:05.350Z"
   },
   {
    "duration": 3,
    "start_time": "2024-03-07T17:53:05.423Z"
   },
   {
    "duration": 26,
    "start_time": "2024-03-07T17:53:05.427Z"
   },
   {
    "duration": 23,
    "start_time": "2024-03-07T17:53:05.454Z"
   },
   {
    "duration": 29,
    "start_time": "2024-03-07T17:53:05.479Z"
   },
   {
    "duration": 20,
    "start_time": "2024-03-07T17:53:05.510Z"
   },
   {
    "duration": 8,
    "start_time": "2024-03-07T17:53:05.532Z"
   },
   {
    "duration": 5,
    "start_time": "2024-03-07T17:53:05.541Z"
   },
   {
    "duration": 12,
    "start_time": "2024-03-07T17:53:05.547Z"
   },
   {
    "duration": 10,
    "start_time": "2024-03-07T17:53:05.560Z"
   },
   {
    "duration": 18,
    "start_time": "2024-03-07T17:53:05.571Z"
   },
   {
    "duration": 11,
    "start_time": "2024-03-07T17:53:05.590Z"
   },
   {
    "duration": 14,
    "start_time": "2024-03-07T17:53:05.603Z"
   },
   {
    "duration": 7,
    "start_time": "2024-03-07T17:53:05.618Z"
   },
   {
    "duration": 20,
    "start_time": "2024-03-07T17:53:05.626Z"
   },
   {
    "duration": 12,
    "start_time": "2024-03-07T17:53:05.647Z"
   },
   {
    "duration": 6,
    "start_time": "2024-03-07T17:53:05.660Z"
   },
   {
    "duration": 6,
    "start_time": "2024-03-07T17:53:05.667Z"
   },
   {
    "duration": 24323,
    "start_time": "2024-03-07T17:53:05.674Z"
   },
   {
    "duration": 5,
    "start_time": "2024-03-07T17:53:29.998Z"
   },
   {
    "duration": 43,
    "start_time": "2024-03-07T17:53:30.004Z"
   },
   {
    "duration": 74,
    "start_time": "2024-03-07T17:53:30.048Z"
   },
   {
    "duration": 48,
    "start_time": "2024-03-07T17:53:30.123Z"
   },
   {
    "duration": 38,
    "start_time": "2024-03-07T17:53:30.172Z"
   },
   {
    "duration": 39,
    "start_time": "2024-03-07T17:53:30.212Z"
   },
   {
    "duration": 34,
    "start_time": "2024-03-07T17:53:30.253Z"
   },
   {
    "duration": 49,
    "start_time": "2024-03-07T17:53:30.288Z"
   },
   {
    "duration": 66,
    "start_time": "2024-03-07T17:53:30.338Z"
   },
   {
    "duration": 10,
    "start_time": "2024-03-07T17:58:51.079Z"
   },
   {
    "duration": 7,
    "start_time": "2024-03-07T17:59:26.028Z"
   },
   {
    "duration": 12,
    "start_time": "2024-03-07T17:59:48.925Z"
   },
   {
    "duration": 12,
    "start_time": "2024-03-07T18:00:10.099Z"
   },
   {
    "duration": 11,
    "start_time": "2024-03-07T18:02:12.779Z"
   },
   {
    "duration": 11,
    "start_time": "2024-03-07T18:02:35.956Z"
   },
   {
    "duration": 1124,
    "start_time": "2024-03-07T18:02:50.581Z"
   },
   {
    "duration": 1160,
    "start_time": "2024-03-07T18:03:03.270Z"
   },
   {
    "duration": 12,
    "start_time": "2024-03-07T18:03:10.244Z"
   },
   {
    "duration": 93,
    "start_time": "2024-03-07T18:04:04.608Z"
   },
   {
    "duration": 73,
    "start_time": "2024-03-07T18:05:03.746Z"
   },
   {
    "duration": 74,
    "start_time": "2024-03-07T18:05:27.940Z"
   },
   {
    "duration": 81,
    "start_time": "2024-03-07T18:06:02.432Z"
   },
   {
    "duration": 12,
    "start_time": "2024-03-07T18:06:11.072Z"
   },
   {
    "duration": 63,
    "start_time": "2024-03-07T18:06:46.164Z"
   },
   {
    "duration": 115,
    "start_time": "2024-03-07T18:06:50.377Z"
   },
   {
    "duration": 116,
    "start_time": "2024-03-07T18:07:04.759Z"
   },
   {
    "duration": 106,
    "start_time": "2024-03-07T18:07:50.026Z"
   },
   {
    "duration": 137,
    "start_time": "2024-03-07T18:08:04.369Z"
   },
   {
    "duration": 127,
    "start_time": "2024-03-07T18:08:46.502Z"
   },
   {
    "duration": 123,
    "start_time": "2024-03-07T18:08:53.543Z"
   },
   {
    "duration": 121,
    "start_time": "2024-03-07T18:09:11.993Z"
   },
   {
    "duration": 128,
    "start_time": "2024-03-07T18:09:42.925Z"
   },
   {
    "duration": 125,
    "start_time": "2024-03-07T18:10:44.043Z"
   },
   {
    "duration": 124,
    "start_time": "2024-03-07T18:12:17.411Z"
   },
   {
    "duration": 130,
    "start_time": "2024-03-07T18:12:30.996Z"
   },
   {
    "duration": 238,
    "start_time": "2024-03-07T18:14:24.683Z"
   },
   {
    "duration": 137,
    "start_time": "2024-03-07T18:15:06.325Z"
   },
   {
    "duration": 147,
    "start_time": "2024-03-07T18:15:27.641Z"
   },
   {
    "duration": 119,
    "start_time": "2024-03-07T18:15:52.241Z"
   },
   {
    "duration": 93,
    "start_time": "2024-03-07T18:16:36.836Z"
   },
   {
    "duration": 136,
    "start_time": "2024-03-07T18:16:47.004Z"
   },
   {
    "duration": 126,
    "start_time": "2024-03-07T18:16:55.564Z"
   },
   {
    "duration": 130,
    "start_time": "2024-03-07T18:17:02.258Z"
   },
   {
    "duration": 129,
    "start_time": "2024-03-07T18:17:09.524Z"
   },
   {
    "duration": 141,
    "start_time": "2024-03-07T18:22:45.365Z"
   },
   {
    "duration": 125,
    "start_time": "2024-03-07T18:24:08.805Z"
   },
   {
    "duration": 6,
    "start_time": "2024-03-07T18:33:30.171Z"
   },
   {
    "duration": 8,
    "start_time": "2024-03-07T19:18:45.759Z"
   },
   {
    "duration": 7,
    "start_time": "2024-03-07T19:19:01.797Z"
   },
   {
    "duration": 9,
    "start_time": "2024-03-07T19:19:16.607Z"
   },
   {
    "duration": 6,
    "start_time": "2024-03-07T19:19:33.526Z"
   },
   {
    "duration": 4,
    "start_time": "2024-03-07T19:21:03.784Z"
   },
   {
    "duration": 7,
    "start_time": "2024-03-07T19:21:19.202Z"
   },
   {
    "duration": 7,
    "start_time": "2024-03-07T19:21:33.439Z"
   },
   {
    "duration": 6,
    "start_time": "2024-03-07T19:21:38.359Z"
   },
   {
    "duration": 7,
    "start_time": "2024-03-07T19:21:49.665Z"
   },
   {
    "duration": 6,
    "start_time": "2024-03-07T19:22:03.399Z"
   },
   {
    "duration": 11,
    "start_time": "2024-03-07T19:30:43.754Z"
   },
   {
    "duration": 555,
    "start_time": "2024-03-07T19:31:03.898Z"
   },
   {
    "duration": 600,
    "start_time": "2024-03-07T19:34:19.195Z"
   },
   {
    "duration": 589,
    "start_time": "2024-03-07T19:35:20.831Z"
   },
   {
    "duration": 597,
    "start_time": "2024-03-07T19:37:07.065Z"
   },
   {
    "duration": 589,
    "start_time": "2024-03-07T19:37:19.789Z"
   },
   {
    "duration": 6,
    "start_time": "2024-03-07T19:40:08.329Z"
   },
   {
    "duration": 6,
    "start_time": "2024-03-07T19:40:23.070Z"
   },
   {
    "duration": 707,
    "start_time": "2024-03-07T19:40:36.503Z"
   },
   {
    "duration": 16,
    "start_time": "2024-03-07T19:41:35.100Z"
   },
   {
    "duration": 756,
    "start_time": "2024-03-07T19:46:16.842Z"
   },
   {
    "duration": 756,
    "start_time": "2024-03-07T19:46:39.522Z"
   },
   {
    "duration": 822,
    "start_time": "2024-03-07T19:47:19.440Z"
   },
   {
    "duration": 771,
    "start_time": "2024-03-07T19:47:37.282Z"
   },
   {
    "duration": 815,
    "start_time": "2024-03-07T19:49:56.281Z"
   },
   {
    "duration": 833,
    "start_time": "2024-03-07T19:51:31.992Z"
   },
   {
    "duration": 18,
    "start_time": "2024-03-07T19:51:45.912Z"
   },
   {
    "duration": 18,
    "start_time": "2024-03-07T19:51:59.287Z"
   },
   {
    "duration": 102,
    "start_time": "2024-03-07T19:52:21.727Z"
   },
   {
    "duration": 18,
    "start_time": "2024-03-07T19:52:41.798Z"
   },
   {
    "duration": 744,
    "start_time": "2024-03-07T19:52:47.297Z"
   },
   {
    "duration": 149,
    "start_time": "2024-03-07T19:53:05.941Z"
   },
   {
    "duration": 719,
    "start_time": "2024-03-07T19:54:01.058Z"
   },
   {
    "duration": 684,
    "start_time": "2024-03-07T19:54:12.304Z"
   },
   {
    "duration": 705,
    "start_time": "2024-03-07T19:56:32.723Z"
   },
   {
    "duration": 4,
    "start_time": "2024-03-07T20:03:13.043Z"
   },
   {
    "duration": 14,
    "start_time": "2024-03-07T20:03:18.001Z"
   },
   {
    "duration": 741,
    "start_time": "2024-03-07T20:03:30.609Z"
   },
   {
    "duration": 773,
    "start_time": "2024-03-07T20:03:40.183Z"
   },
   {
    "duration": 1098,
    "start_time": "2024-03-07T20:05:12.575Z"
   },
   {
    "duration": 217,
    "start_time": "2024-03-07T20:06:30.001Z"
   },
   {
    "duration": 293,
    "start_time": "2024-03-07T20:07:12.583Z"
   },
   {
    "duration": 10,
    "start_time": "2024-03-07T20:07:47.822Z"
   },
   {
    "duration": 318,
    "start_time": "2024-03-07T20:07:57.063Z"
   },
   {
    "duration": 207,
    "start_time": "2024-03-07T20:08:22.379Z"
   },
   {
    "duration": 214,
    "start_time": "2024-03-07T20:08:38.442Z"
   },
   {
    "duration": 268,
    "start_time": "2024-03-07T20:09:09.840Z"
   },
   {
    "duration": 241,
    "start_time": "2024-03-07T20:09:21.620Z"
   },
   {
    "duration": 238,
    "start_time": "2024-03-07T20:09:38.514Z"
   },
   {
    "duration": 251,
    "start_time": "2024-03-07T20:09:47.779Z"
   },
   {
    "duration": 206,
    "start_time": "2024-03-07T20:09:55.554Z"
   },
   {
    "duration": 237,
    "start_time": "2024-03-07T20:10:42.487Z"
   },
   {
    "duration": 219,
    "start_time": "2024-03-07T20:11:13.682Z"
   },
   {
    "duration": 241,
    "start_time": "2024-03-07T20:11:19.636Z"
   },
   {
    "duration": 222,
    "start_time": "2024-03-07T20:12:54.004Z"
   },
   {
    "duration": 217,
    "start_time": "2024-03-07T20:13:20.809Z"
   },
   {
    "duration": 210,
    "start_time": "2024-03-07T20:14:40.525Z"
   },
   {
    "duration": 132,
    "start_time": "2024-03-07T20:15:36.940Z"
   },
   {
    "duration": 215,
    "start_time": "2024-03-07T20:15:51.539Z"
   },
   {
    "duration": 228,
    "start_time": "2024-03-07T20:16:49.901Z"
   },
   {
    "duration": 135,
    "start_time": "2024-03-07T20:17:51.625Z"
   },
   {
    "duration": 136,
    "start_time": "2024-03-07T20:18:02.387Z"
   },
   {
    "duration": 126,
    "start_time": "2024-03-07T20:19:00.912Z"
   },
   {
    "duration": 311,
    "start_time": "2024-03-07T20:19:16.241Z"
   },
   {
    "duration": 214,
    "start_time": "2024-03-07T20:19:25.961Z"
   },
   {
    "duration": 225,
    "start_time": "2024-03-07T20:19:51.008Z"
   },
   {
    "duration": 241,
    "start_time": "2024-03-07T20:20:19.045Z"
   },
   {
    "duration": 214,
    "start_time": "2024-03-07T20:20:25.449Z"
   },
   {
    "duration": 216,
    "start_time": "2024-03-07T20:20:32.241Z"
   },
   {
    "duration": 220,
    "start_time": "2024-03-07T20:21:25.427Z"
   },
   {
    "duration": 219,
    "start_time": "2024-03-07T20:21:54.332Z"
   },
   {
    "duration": 246,
    "start_time": "2024-03-07T20:22:26.266Z"
   },
   {
    "duration": 235,
    "start_time": "2024-03-07T20:22:36.827Z"
   },
   {
    "duration": 88,
    "start_time": "2024-03-07T20:22:54.227Z"
   },
   {
    "duration": 245,
    "start_time": "2024-03-07T20:23:04.011Z"
   },
   {
    "duration": 207,
    "start_time": "2024-03-07T20:23:19.248Z"
   },
   {
    "duration": 230,
    "start_time": "2024-03-07T20:23:57.068Z"
   },
   {
    "duration": 245,
    "start_time": "2024-03-07T20:24:03.585Z"
   },
   {
    "duration": 225,
    "start_time": "2024-03-07T20:24:57.427Z"
   },
   {
    "duration": 3,
    "start_time": "2024-03-07T20:26:08.899Z"
   },
   {
    "duration": 58,
    "start_time": "2024-03-07T20:26:08.904Z"
   },
   {
    "duration": 3,
    "start_time": "2024-03-07T20:26:08.964Z"
   },
   {
    "duration": 8,
    "start_time": "2024-03-07T20:26:08.969Z"
   },
   {
    "duration": 12,
    "start_time": "2024-03-07T20:26:08.978Z"
   },
   {
    "duration": 11,
    "start_time": "2024-03-07T20:26:08.991Z"
   },
   {
    "duration": 4,
    "start_time": "2024-03-07T20:26:09.003Z"
   },
   {
    "duration": 6,
    "start_time": "2024-03-07T20:26:09.008Z"
   },
   {
    "duration": 21,
    "start_time": "2024-03-07T20:26:09.015Z"
   },
   {
    "duration": 5,
    "start_time": "2024-03-07T20:26:09.038Z"
   },
   {
    "duration": 7,
    "start_time": "2024-03-07T20:26:09.045Z"
   },
   {
    "duration": 5,
    "start_time": "2024-03-07T20:26:09.054Z"
   },
   {
    "duration": 12,
    "start_time": "2024-03-07T20:26:09.061Z"
   },
   {
    "duration": 32,
    "start_time": "2024-03-07T20:26:09.075Z"
   },
   {
    "duration": 14,
    "start_time": "2024-03-07T20:26:09.108Z"
   },
   {
    "duration": 14,
    "start_time": "2024-03-07T20:26:09.123Z"
   },
   {
    "duration": 13,
    "start_time": "2024-03-07T20:26:09.138Z"
   },
   {
    "duration": 10,
    "start_time": "2024-03-07T20:26:09.152Z"
   },
   {
    "duration": 15,
    "start_time": "2024-03-07T20:26:09.165Z"
   },
   {
    "duration": 24557,
    "start_time": "2024-03-07T20:26:09.181Z"
   },
   {
    "duration": 4,
    "start_time": "2024-03-07T20:26:33.739Z"
   },
   {
    "duration": 10,
    "start_time": "2024-03-07T20:26:33.744Z"
   },
   {
    "duration": 14,
    "start_time": "2024-03-07T20:26:33.756Z"
   },
   {
    "duration": 3,
    "start_time": "2024-03-07T20:26:33.771Z"
   },
   {
    "duration": 32,
    "start_time": "2024-03-07T20:26:33.775Z"
   },
   {
    "duration": 7,
    "start_time": "2024-03-07T20:26:33.809Z"
   },
   {
    "duration": 7,
    "start_time": "2024-03-07T20:26:33.818Z"
   },
   {
    "duration": 22,
    "start_time": "2024-03-07T20:26:33.827Z"
   },
   {
    "duration": 134,
    "start_time": "2024-03-07T20:26:33.850Z"
   },
   {
    "duration": 16,
    "start_time": "2024-03-07T20:26:33.986Z"
   },
   {
    "duration": 252,
    "start_time": "2024-03-07T20:26:34.004Z"
   },
   {
    "duration": 237,
    "start_time": "2024-03-07T20:35:16.357Z"
   },
   {
    "duration": 147,
    "start_time": "2024-03-07T20:35:52.182Z"
   },
   {
    "duration": 219,
    "start_time": "2024-03-07T20:36:05.357Z"
   },
   {
    "duration": 74,
    "start_time": "2024-03-07T20:36:33.074Z"
   },
   {
    "duration": 206,
    "start_time": "2024-03-07T20:36:45.521Z"
   },
   {
    "duration": 207,
    "start_time": "2024-03-07T20:37:05.332Z"
   },
   {
    "duration": 243,
    "start_time": "2024-03-07T20:37:10.583Z"
   },
   {
    "duration": 130,
    "start_time": "2024-03-07T20:37:45.223Z"
   },
   {
    "duration": 125,
    "start_time": "2024-03-07T20:37:53.370Z"
   },
   {
    "duration": 126,
    "start_time": "2024-03-07T20:38:17.321Z"
   },
   {
    "duration": 258,
    "start_time": "2024-03-07T20:38:24.490Z"
   },
   {
    "duration": 143,
    "start_time": "2024-03-07T20:40:59.721Z"
   },
   {
    "duration": 239,
    "start_time": "2024-03-07T20:41:21.914Z"
   },
   {
    "duration": 239,
    "start_time": "2024-03-07T20:41:43.415Z"
   },
   {
    "duration": 131,
    "start_time": "2024-03-07T20:42:49.393Z"
   },
   {
    "duration": 146,
    "start_time": "2024-03-07T20:43:08.132Z"
   },
   {
    "duration": 67,
    "start_time": "2024-03-07T20:43:22.412Z"
   },
   {
    "duration": 234,
    "start_time": "2024-03-07T20:43:27.174Z"
   },
   {
    "duration": 230,
    "start_time": "2024-03-07T20:43:56.260Z"
   },
   {
    "duration": 219,
    "start_time": "2024-03-07T20:44:05.284Z"
   },
   {
    "duration": 232,
    "start_time": "2024-03-07T20:44:16.369Z"
   },
   {
    "duration": 239,
    "start_time": "2024-03-07T20:44:36.419Z"
   },
   {
    "duration": 240,
    "start_time": "2024-03-07T20:45:13.471Z"
   },
   {
    "duration": 251,
    "start_time": "2024-03-07T20:45:20.588Z"
   },
   {
    "duration": 238,
    "start_time": "2024-03-07T20:51:52.281Z"
   },
   {
    "duration": 266,
    "start_time": "2024-03-07T20:52:29.106Z"
   },
   {
    "duration": 245,
    "start_time": "2024-03-07T20:52:48.988Z"
   },
   {
    "duration": 219,
    "start_time": "2024-03-07T21:03:43.483Z"
   },
   {
    "duration": 246,
    "start_time": "2024-03-07T21:03:53.567Z"
   },
   {
    "duration": 222,
    "start_time": "2024-03-07T21:04:04.454Z"
   },
   {
    "duration": 243,
    "start_time": "2024-03-07T21:04:12.799Z"
   },
   {
    "duration": 230,
    "start_time": "2024-03-07T21:04:41.589Z"
   },
   {
    "duration": 230,
    "start_time": "2024-03-07T21:04:52.713Z"
   },
   {
    "duration": 226,
    "start_time": "2024-03-07T21:05:14.194Z"
   },
   {
    "duration": 233,
    "start_time": "2024-03-07T21:05:25.707Z"
   },
   {
    "duration": 222,
    "start_time": "2024-03-07T21:05:36.627Z"
   },
   {
    "duration": 240,
    "start_time": "2024-03-07T21:05:44.913Z"
   },
   {
    "duration": 245,
    "start_time": "2024-03-07T21:06:23.333Z"
   },
   {
    "duration": 142,
    "start_time": "2024-03-07T21:06:42.816Z"
   },
   {
    "duration": 214,
    "start_time": "2024-03-07T21:06:50.909Z"
   },
   {
    "duration": 147,
    "start_time": "2024-03-07T21:07:30.516Z"
   },
   {
    "duration": 134,
    "start_time": "2024-03-07T21:08:17.054Z"
   },
   {
    "duration": 132,
    "start_time": "2024-03-07T21:08:21.803Z"
   },
   {
    "duration": 256,
    "start_time": "2024-03-07T21:08:34.369Z"
   },
   {
    "duration": 236,
    "start_time": "2024-03-07T21:08:57.968Z"
   },
   {
    "duration": 171,
    "start_time": "2024-03-07T21:14:14.113Z"
   },
   {
    "duration": 325,
    "start_time": "2024-03-07T21:17:33.133Z"
   },
   {
    "duration": 428,
    "start_time": "2024-03-07T21:21:00.628Z"
   },
   {
    "duration": 227,
    "start_time": "2024-03-07T21:22:11.634Z"
   },
   {
    "duration": 123,
    "start_time": "2024-03-07T21:22:44.068Z"
   },
   {
    "duration": 27,
    "start_time": "2024-03-07T21:22:58.670Z"
   },
   {
    "duration": 28,
    "start_time": "2024-03-07T21:24:40.972Z"
   },
   {
    "duration": 109,
    "start_time": "2024-03-07T21:29:05.405Z"
   },
   {
    "duration": 63,
    "start_time": "2024-03-07T21:29:26.615Z"
   },
   {
    "duration": 101,
    "start_time": "2024-03-07T21:31:41.194Z"
   },
   {
    "duration": 275,
    "start_time": "2024-03-07T21:32:27.060Z"
   },
   {
    "duration": 207,
    "start_time": "2024-03-07T21:33:58.281Z"
   },
   {
    "duration": 8,
    "start_time": "2024-03-07T21:34:23.355Z"
   },
   {
    "duration": 1089,
    "start_time": "2024-03-07T21:34:33.240Z"
   },
   {
    "duration": 107,
    "start_time": "2024-03-07T21:36:22.440Z"
   },
   {
    "duration": 120,
    "start_time": "2024-03-07T21:36:31.160Z"
   },
   {
    "duration": 102,
    "start_time": "2024-03-07T21:36:53.810Z"
   },
   {
    "duration": 464,
    "start_time": "2024-03-07T21:37:04.018Z"
   },
   {
    "duration": 477,
    "start_time": "2024-03-07T21:37:38.429Z"
   },
   {
    "duration": 2,
    "start_time": "2024-03-07T21:38:26.416Z"
   },
   {
    "duration": 65,
    "start_time": "2024-03-07T21:38:26.420Z"
   },
   {
    "duration": 3,
    "start_time": "2024-03-07T21:38:26.486Z"
   },
   {
    "duration": 3,
    "start_time": "2024-03-07T21:38:26.491Z"
   },
   {
    "duration": 13,
    "start_time": "2024-03-07T21:38:26.495Z"
   },
   {
    "duration": 12,
    "start_time": "2024-03-07T21:38:26.509Z"
   },
   {
    "duration": 9,
    "start_time": "2024-03-07T21:38:26.522Z"
   },
   {
    "duration": 5,
    "start_time": "2024-03-07T21:38:26.533Z"
   },
   {
    "duration": 5,
    "start_time": "2024-03-07T21:38:26.539Z"
   },
   {
    "duration": 4,
    "start_time": "2024-03-07T21:38:26.546Z"
   },
   {
    "duration": 4,
    "start_time": "2024-03-07T21:38:26.551Z"
   },
   {
    "duration": 35,
    "start_time": "2024-03-07T21:38:26.556Z"
   },
   {
    "duration": 22,
    "start_time": "2024-03-07T21:38:26.592Z"
   },
   {
    "duration": 11,
    "start_time": "2024-03-07T21:38:26.615Z"
   },
   {
    "duration": 8,
    "start_time": "2024-03-07T21:38:26.626Z"
   },
   {
    "duration": 10,
    "start_time": "2024-03-07T21:38:26.635Z"
   },
   {
    "duration": 13,
    "start_time": "2024-03-07T21:38:26.646Z"
   },
   {
    "duration": 4,
    "start_time": "2024-03-07T21:38:26.660Z"
   },
   {
    "duration": 7,
    "start_time": "2024-03-07T21:38:26.665Z"
   },
   {
    "duration": 24314,
    "start_time": "2024-03-07T21:38:26.673Z"
   },
   {
    "duration": 4,
    "start_time": "2024-03-07T21:38:50.988Z"
   },
   {
    "duration": 9,
    "start_time": "2024-03-07T21:38:50.993Z"
   },
   {
    "duration": 18,
    "start_time": "2024-03-07T21:38:51.004Z"
   },
   {
    "duration": 4,
    "start_time": "2024-03-07T21:38:51.023Z"
   },
   {
    "duration": 23,
    "start_time": "2024-03-07T21:38:51.028Z"
   },
   {
    "duration": 7,
    "start_time": "2024-03-07T21:38:51.053Z"
   },
   {
    "duration": 9,
    "start_time": "2024-03-07T21:38:51.061Z"
   },
   {
    "duration": 15,
    "start_time": "2024-03-07T21:38:51.071Z"
   },
   {
    "duration": 137,
    "start_time": "2024-03-07T21:38:51.087Z"
   },
   {
    "duration": 6,
    "start_time": "2024-03-07T21:38:51.225Z"
   },
   {
    "duration": 321,
    "start_time": "2024-03-07T21:38:51.232Z"
   },
   {
    "duration": 570,
    "start_time": "2024-03-07T21:38:51.554Z"
   },
   {
    "duration": 167,
    "start_time": "2024-03-07T21:40:32.505Z"
   },
   {
    "duration": 8,
    "start_time": "2024-03-07T21:40:49.161Z"
   },
   {
    "duration": 8,
    "start_time": "2024-03-07T21:40:58.066Z"
   },
   {
    "duration": 19,
    "start_time": "2024-03-07T21:41:22.222Z"
   },
   {
    "duration": 10,
    "start_time": "2024-03-07T21:42:44.099Z"
   },
   {
    "duration": 92,
    "start_time": "2024-03-07T21:42:50.987Z"
   },
   {
    "duration": 19,
    "start_time": "2024-03-07T21:43:25.688Z"
   },
   {
    "duration": 22,
    "start_time": "2024-03-07T21:43:58.379Z"
   },
   {
    "duration": 759,
    "start_time": "2024-03-07T21:44:46.369Z"
   },
   {
    "duration": 897,
    "start_time": "2024-03-07T21:45:08.826Z"
   },
   {
    "duration": 249,
    "start_time": "2024-03-07T21:45:21.837Z"
   },
   {
    "duration": 9,
    "start_time": "2024-03-07T21:46:46.391Z"
   },
   {
    "duration": 10,
    "start_time": "2024-03-07T21:46:55.796Z"
   },
   {
    "duration": 238,
    "start_time": "2024-03-07T21:47:06.014Z"
   },
   {
    "duration": 3,
    "start_time": "2024-03-07T21:47:14.422Z"
   },
   {
    "duration": 59,
    "start_time": "2024-03-07T21:47:14.427Z"
   },
   {
    "duration": 3,
    "start_time": "2024-03-07T21:47:14.487Z"
   },
   {
    "duration": 5,
    "start_time": "2024-03-07T21:47:14.492Z"
   },
   {
    "duration": 14,
    "start_time": "2024-03-07T21:47:14.498Z"
   },
   {
    "duration": 11,
    "start_time": "2024-03-07T21:47:14.513Z"
   },
   {
    "duration": 5,
    "start_time": "2024-03-07T21:47:14.525Z"
   },
   {
    "duration": 5,
    "start_time": "2024-03-07T21:47:14.531Z"
   },
   {
    "duration": 3,
    "start_time": "2024-03-07T21:47:14.537Z"
   },
   {
    "duration": 7,
    "start_time": "2024-03-07T21:47:14.541Z"
   },
   {
    "duration": 3,
    "start_time": "2024-03-07T21:47:14.550Z"
   },
   {
    "duration": 3,
    "start_time": "2024-03-07T21:47:14.555Z"
   },
   {
    "duration": 8,
    "start_time": "2024-03-07T21:47:14.560Z"
   },
   {
    "duration": 41,
    "start_time": "2024-03-07T21:47:14.569Z"
   },
   {
    "duration": 6,
    "start_time": "2024-03-07T21:47:14.611Z"
   },
   {
    "duration": 10,
    "start_time": "2024-03-07T21:47:14.618Z"
   },
   {
    "duration": 12,
    "start_time": "2024-03-07T21:47:14.629Z"
   },
   {
    "duration": 5,
    "start_time": "2024-03-07T21:47:14.642Z"
   },
   {
    "duration": 12,
    "start_time": "2024-03-07T21:47:14.648Z"
   },
   {
    "duration": 24805,
    "start_time": "2024-03-07T21:47:14.661Z"
   },
   {
    "duration": 4,
    "start_time": "2024-03-07T21:47:39.467Z"
   },
   {
    "duration": 6,
    "start_time": "2024-03-07T21:47:39.472Z"
   },
   {
    "duration": 24,
    "start_time": "2024-03-07T21:47:39.479Z"
   },
   {
    "duration": 3,
    "start_time": "2024-03-07T21:47:39.504Z"
   },
   {
    "duration": 16,
    "start_time": "2024-03-07T21:47:39.508Z"
   },
   {
    "duration": 6,
    "start_time": "2024-03-07T21:47:39.526Z"
   },
   {
    "duration": 3,
    "start_time": "2024-03-07T21:47:39.533Z"
   },
   {
    "duration": 11,
    "start_time": "2024-03-07T21:47:39.537Z"
   },
   {
    "duration": 150,
    "start_time": "2024-03-07T21:47:39.551Z"
   },
   {
    "duration": 6,
    "start_time": "2024-03-07T21:47:39.703Z"
   },
   {
    "duration": 239,
    "start_time": "2024-03-07T21:47:39.710Z"
   },
   {
    "duration": 578,
    "start_time": "2024-03-07T21:47:39.950Z"
   },
   {
    "duration": 305,
    "start_time": "2024-03-07T21:51:30.622Z"
   },
   {
    "duration": 3,
    "start_time": "2024-03-07T21:51:53.967Z"
   },
   {
    "duration": 58,
    "start_time": "2024-03-07T21:51:53.971Z"
   },
   {
    "duration": 3,
    "start_time": "2024-03-07T21:51:54.031Z"
   },
   {
    "duration": 4,
    "start_time": "2024-03-07T21:51:54.035Z"
   },
   {
    "duration": 22,
    "start_time": "2024-03-07T21:51:54.041Z"
   },
   {
    "duration": 9,
    "start_time": "2024-03-07T21:51:54.065Z"
   },
   {
    "duration": 7,
    "start_time": "2024-03-07T21:51:54.075Z"
   },
   {
    "duration": 19,
    "start_time": "2024-03-07T21:51:54.083Z"
   },
   {
    "duration": 5,
    "start_time": "2024-03-07T21:51:54.103Z"
   },
   {
    "duration": 6,
    "start_time": "2024-03-07T21:51:54.109Z"
   },
   {
    "duration": 3,
    "start_time": "2024-03-07T21:51:54.117Z"
   },
   {
    "duration": 6,
    "start_time": "2024-03-07T21:51:54.121Z"
   },
   {
    "duration": 11,
    "start_time": "2024-03-07T21:51:54.128Z"
   },
   {
    "duration": 10,
    "start_time": "2024-03-07T21:51:54.140Z"
   },
   {
    "duration": 10,
    "start_time": "2024-03-07T21:51:54.151Z"
   },
   {
    "duration": 10,
    "start_time": "2024-03-07T21:51:54.162Z"
   },
   {
    "duration": 14,
    "start_time": "2024-03-07T21:51:54.202Z"
   },
   {
    "duration": 5,
    "start_time": "2024-03-07T21:51:54.217Z"
   },
   {
    "duration": 7,
    "start_time": "2024-03-07T21:51:54.223Z"
   },
   {
    "duration": 24635,
    "start_time": "2024-03-07T21:51:54.232Z"
   },
   {
    "duration": 4,
    "start_time": "2024-03-07T21:52:18.868Z"
   },
   {
    "duration": 8,
    "start_time": "2024-03-07T21:52:18.873Z"
   },
   {
    "duration": 24,
    "start_time": "2024-03-07T21:52:18.882Z"
   },
   {
    "duration": 4,
    "start_time": "2024-03-07T21:52:18.907Z"
   },
   {
    "duration": 18,
    "start_time": "2024-03-07T21:52:18.912Z"
   },
   {
    "duration": 8,
    "start_time": "2024-03-07T21:52:18.931Z"
   },
   {
    "duration": 6,
    "start_time": "2024-03-07T21:52:18.940Z"
   },
   {
    "duration": 12,
    "start_time": "2024-03-07T21:52:18.947Z"
   },
   {
    "duration": 150,
    "start_time": "2024-03-07T21:52:18.962Z"
   },
   {
    "duration": 7,
    "start_time": "2024-03-07T21:52:19.114Z"
   },
   {
    "duration": 289,
    "start_time": "2024-03-07T21:52:19.123Z"
   },
   {
    "duration": 608,
    "start_time": "2024-03-07T21:52:19.413Z"
   },
   {
    "duration": 8,
    "start_time": "2024-03-07T21:53:57.281Z"
   },
   {
    "duration": 7,
    "start_time": "2024-03-07T21:55:05.221Z"
   },
   {
    "duration": 1328,
    "start_time": "2024-03-07T21:55:12.769Z"
   },
   {
    "duration": 464,
    "start_time": "2024-03-07T21:55:27.142Z"
   },
   {
    "duration": 455,
    "start_time": "2024-03-07T21:56:10.492Z"
   },
   {
    "duration": 3,
    "start_time": "2024-03-07T22:00:01.924Z"
   },
   {
    "duration": 3,
    "start_time": "2024-03-07T22:00:08.200Z"
   },
   {
    "duration": 21,
    "start_time": "2024-03-07T22:00:22.094Z"
   },
   {
    "duration": 118,
    "start_time": "2024-03-07T22:01:27.702Z"
   },
   {
    "duration": 107,
    "start_time": "2024-03-07T22:01:52.999Z"
   },
   {
    "duration": 255,
    "start_time": "2024-03-07T22:02:29.839Z"
   },
   {
    "duration": 93,
    "start_time": "2024-03-07T22:03:12.679Z"
   },
   {
    "duration": 53,
    "start_time": "2024-03-08T05:21:23.131Z"
   },
   {
    "duration": 1345,
    "start_time": "2024-03-08T05:21:29.463Z"
   },
   {
    "duration": 270,
    "start_time": "2024-03-08T05:21:30.811Z"
   },
   {
    "duration": 5,
    "start_time": "2024-03-08T05:21:31.082Z"
   },
   {
    "duration": 154,
    "start_time": "2024-03-08T05:21:31.088Z"
   },
   {
    "duration": 64,
    "start_time": "2024-03-08T05:21:31.245Z"
   },
   {
    "duration": 53,
    "start_time": "2024-03-08T05:21:31.311Z"
   },
   {
    "duration": 61,
    "start_time": "2024-03-08T05:21:31.366Z"
   },
   {
    "duration": 41,
    "start_time": "2024-03-08T05:21:31.429Z"
   },
   {
    "duration": 25,
    "start_time": "2024-03-08T05:21:31.472Z"
   },
   {
    "duration": 52,
    "start_time": "2024-03-08T05:21:31.499Z"
   },
   {
    "duration": 100,
    "start_time": "2024-03-08T05:21:31.552Z"
   },
   {
    "duration": 71,
    "start_time": "2024-03-08T05:21:31.654Z"
   },
   {
    "duration": 42,
    "start_time": "2024-03-08T05:21:31.726Z"
   },
   {
    "duration": 57,
    "start_time": "2024-03-08T05:21:31.771Z"
   },
   {
    "duration": 33,
    "start_time": "2024-03-08T05:21:31.830Z"
   },
   {
    "duration": 71,
    "start_time": "2024-03-08T05:21:31.864Z"
   },
   {
    "duration": 55,
    "start_time": "2024-03-08T05:21:31.937Z"
   },
   {
    "duration": 33,
    "start_time": "2024-03-08T05:21:31.994Z"
   },
   {
    "duration": 28,
    "start_time": "2024-03-08T05:21:32.029Z"
   },
   {
    "duration": 33884,
    "start_time": "2024-03-08T05:21:32.059Z"
   },
   {
    "duration": 5,
    "start_time": "2024-03-08T05:22:05.944Z"
   },
   {
    "duration": 11,
    "start_time": "2024-03-08T05:22:05.950Z"
   },
   {
    "duration": 31,
    "start_time": "2024-03-08T05:22:05.962Z"
   },
   {
    "duration": 4,
    "start_time": "2024-03-08T05:22:05.995Z"
   },
   {
    "duration": 26,
    "start_time": "2024-03-08T05:22:06.001Z"
   },
   {
    "duration": 18,
    "start_time": "2024-03-08T05:22:06.029Z"
   },
   {
    "duration": 7,
    "start_time": "2024-03-08T05:22:06.048Z"
   },
   {
    "duration": 15,
    "start_time": "2024-03-08T05:22:06.057Z"
   },
   {
    "duration": 209,
    "start_time": "2024-03-08T05:22:06.074Z"
   },
   {
    "duration": 13,
    "start_time": "2024-03-08T05:22:06.284Z"
   },
   {
    "duration": 78,
    "start_time": "2024-03-08T05:22:06.299Z"
   },
   {
    "duration": 0,
    "start_time": "2024-03-08T05:22:06.378Z"
   },
   {
    "duration": 1050,
    "start_time": "2024-03-08T05:25:04.610Z"
   },
   {
    "duration": 11,
    "start_time": "2024-03-08T05:25:48.852Z"
   },
   {
    "duration": 1069,
    "start_time": "2024-03-08T05:26:43.532Z"
   },
   {
    "duration": 501,
    "start_time": "2024-03-08T05:27:16.533Z"
   },
   {
    "duration": 262,
    "start_time": "2024-03-08T05:31:26.079Z"
   },
   {
    "duration": 167,
    "start_time": "2024-03-08T05:32:44.887Z"
   },
   {
    "duration": 158,
    "start_time": "2024-03-08T05:32:58.799Z"
   },
   {
    "duration": 191,
    "start_time": "2024-03-08T05:35:14.312Z"
   },
   {
    "duration": 189,
    "start_time": "2024-03-08T05:36:01.205Z"
   },
   {
    "duration": 3,
    "start_time": "2024-03-08T05:36:41.272Z"
   },
   {
    "duration": 66,
    "start_time": "2024-03-08T05:36:41.304Z"
   },
   {
    "duration": 4,
    "start_time": "2024-03-08T05:36:41.372Z"
   },
   {
    "duration": 9,
    "start_time": "2024-03-08T05:36:41.378Z"
   },
   {
    "duration": 18,
    "start_time": "2024-03-08T05:36:41.389Z"
   },
   {
    "duration": 14,
    "start_time": "2024-03-08T05:36:41.409Z"
   },
   {
    "duration": 10,
    "start_time": "2024-03-08T05:36:41.425Z"
   },
   {
    "duration": 31,
    "start_time": "2024-03-08T05:36:41.437Z"
   },
   {
    "duration": 31,
    "start_time": "2024-03-08T05:36:41.469Z"
   },
   {
    "duration": 17,
    "start_time": "2024-03-08T05:36:41.502Z"
   },
   {
    "duration": 14,
    "start_time": "2024-03-08T05:36:41.522Z"
   },
   {
    "duration": 24,
    "start_time": "2024-03-08T05:36:41.538Z"
   },
   {
    "duration": 18,
    "start_time": "2024-03-08T05:36:41.564Z"
   },
   {
    "duration": 17,
    "start_time": "2024-03-08T05:36:41.584Z"
   },
   {
    "duration": 9,
    "start_time": "2024-03-08T05:36:41.603Z"
   },
   {
    "duration": 19,
    "start_time": "2024-03-08T05:36:41.614Z"
   },
   {
    "duration": 18,
    "start_time": "2024-03-08T05:36:41.634Z"
   },
   {
    "duration": 6,
    "start_time": "2024-03-08T05:36:41.654Z"
   },
   {
    "duration": 35,
    "start_time": "2024-03-08T05:36:41.661Z"
   },
   {
    "duration": 34003,
    "start_time": "2024-03-08T05:36:41.698Z"
   },
   {
    "duration": 5,
    "start_time": "2024-03-08T05:37:15.703Z"
   },
   {
    "duration": 44,
    "start_time": "2024-03-08T05:37:15.709Z"
   },
   {
    "duration": 56,
    "start_time": "2024-03-08T05:37:15.755Z"
   },
   {
    "duration": 33,
    "start_time": "2024-03-08T05:37:15.813Z"
   },
   {
    "duration": 37,
    "start_time": "2024-03-08T05:37:15.848Z"
   },
   {
    "duration": 54,
    "start_time": "2024-03-08T05:37:15.886Z"
   },
   {
    "duration": 19,
    "start_time": "2024-03-08T05:37:15.941Z"
   },
   {
    "duration": 54,
    "start_time": "2024-03-08T05:37:15.962Z"
   },
   {
    "duration": 179,
    "start_time": "2024-03-08T05:37:16.021Z"
   },
   {
    "duration": 8,
    "start_time": "2024-03-08T05:37:16.201Z"
   },
   {
    "duration": 182,
    "start_time": "2024-03-08T05:37:16.211Z"
   },
   {
    "duration": 0,
    "start_time": "2024-03-08T05:37:16.395Z"
   },
   {
    "duration": 992,
    "start_time": "2024-03-08T05:40:00.893Z"
   },
   {
    "duration": 177,
    "start_time": "2024-03-08T05:41:42.806Z"
   },
   {
    "duration": 277,
    "start_time": "2024-03-08T05:41:51.773Z"
   },
   {
    "duration": 311,
    "start_time": "2024-03-08T05:42:20.093Z"
   },
   {
    "duration": 301,
    "start_time": "2024-03-08T05:42:59.633Z"
   },
   {
    "duration": 313,
    "start_time": "2024-03-08T05:43:07.183Z"
   },
   {
    "duration": 286,
    "start_time": "2024-03-08T05:43:14.365Z"
   },
   {
    "duration": 294,
    "start_time": "2024-03-08T05:43:33.344Z"
   },
   {
    "duration": 286,
    "start_time": "2024-03-08T05:43:49.067Z"
   },
   {
    "duration": 9,
    "start_time": "2024-03-08T05:51:03.454Z"
   },
   {
    "duration": 373,
    "start_time": "2024-03-08T05:51:46.945Z"
   },
   {
    "duration": 120,
    "start_time": "2024-03-08T05:59:43.671Z"
   },
   {
    "duration": 293,
    "start_time": "2024-03-08T06:00:07.588Z"
   },
   {
    "duration": 272,
    "start_time": "2024-03-08T06:03:09.757Z"
   },
   {
    "duration": 19,
    "start_time": "2024-03-08T06:08:13.887Z"
   },
   {
    "duration": 15,
    "start_time": "2024-03-08T06:08:23.300Z"
   },
   {
    "duration": 15,
    "start_time": "2024-03-08T06:08:48.446Z"
   },
   {
    "duration": 124,
    "start_time": "2024-03-08T06:09:19.422Z"
   },
   {
    "duration": 105,
    "start_time": "2024-03-08T06:09:25.403Z"
   },
   {
    "duration": 164,
    "start_time": "2024-03-08T06:11:31.078Z"
   },
   {
    "duration": 280,
    "start_time": "2024-03-08T06:12:48.895Z"
   },
   {
    "duration": 237,
    "start_time": "2024-03-08T06:13:56.405Z"
   },
   {
    "duration": 411,
    "start_time": "2024-03-08T06:21:04.473Z"
   },
   {
    "duration": 149,
    "start_time": "2024-03-08T06:21:46.536Z"
   },
   {
    "duration": 124,
    "start_time": "2024-03-08T06:25:00.732Z"
   },
   {
    "duration": 273,
    "start_time": "2024-03-08T06:26:33.993Z"
   },
   {
    "duration": 140,
    "start_time": "2024-03-08T06:36:31.620Z"
   },
   {
    "duration": 111,
    "start_time": "2024-03-08T06:37:28.356Z"
   },
   {
    "duration": 562,
    "start_time": "2024-03-08T06:37:35.045Z"
   },
   {
    "duration": 280,
    "start_time": "2024-03-08T06:37:47.789Z"
   },
   {
    "duration": 3,
    "start_time": "2024-03-08T06:49:39.253Z"
   },
   {
    "duration": 76,
    "start_time": "2024-03-08T06:49:39.257Z"
   },
   {
    "duration": 3,
    "start_time": "2024-03-08T06:49:39.335Z"
   },
   {
    "duration": 15,
    "start_time": "2024-03-08T06:49:39.340Z"
   },
   {
    "duration": 24,
    "start_time": "2024-03-08T06:49:39.358Z"
   },
   {
    "duration": 14,
    "start_time": "2024-03-08T06:49:39.384Z"
   },
   {
    "duration": 15,
    "start_time": "2024-03-08T06:49:39.399Z"
   },
   {
    "duration": 9,
    "start_time": "2024-03-08T06:49:39.416Z"
   },
   {
    "duration": 33,
    "start_time": "2024-03-08T06:49:39.426Z"
   },
   {
    "duration": 20,
    "start_time": "2024-03-08T06:49:39.461Z"
   },
   {
    "duration": 9,
    "start_time": "2024-03-08T06:49:39.482Z"
   },
   {
    "duration": 5,
    "start_time": "2024-03-08T06:49:39.493Z"
   },
   {
    "duration": 12,
    "start_time": "2024-03-08T06:49:39.499Z"
   },
   {
    "duration": 33,
    "start_time": "2024-03-08T06:49:39.513Z"
   },
   {
    "duration": 9,
    "start_time": "2024-03-08T06:49:39.548Z"
   },
   {
    "duration": 25,
    "start_time": "2024-03-08T06:49:39.559Z"
   },
   {
    "duration": 17,
    "start_time": "2024-03-08T06:49:39.586Z"
   },
   {
    "duration": 6,
    "start_time": "2024-03-08T06:49:39.605Z"
   },
   {
    "duration": 12,
    "start_time": "2024-03-08T06:49:39.612Z"
   },
   {
    "duration": 33459,
    "start_time": "2024-03-08T06:49:39.628Z"
   },
   {
    "duration": 5,
    "start_time": "2024-03-08T06:50:13.089Z"
   },
   {
    "duration": 8,
    "start_time": "2024-03-08T06:50:13.096Z"
   },
   {
    "duration": 19,
    "start_time": "2024-03-08T06:50:13.105Z"
   },
   {
    "duration": 4,
    "start_time": "2024-03-08T06:50:13.126Z"
   },
   {
    "duration": 25,
    "start_time": "2024-03-08T06:50:13.131Z"
   },
   {
    "duration": 38,
    "start_time": "2024-03-08T06:50:13.157Z"
   },
   {
    "duration": 5,
    "start_time": "2024-03-08T06:50:13.197Z"
   },
   {
    "duration": 14,
    "start_time": "2024-03-08T06:50:13.204Z"
   },
   {
    "duration": 193,
    "start_time": "2024-03-08T06:50:13.220Z"
   },
   {
    "duration": 9,
    "start_time": "2024-03-08T06:50:13.414Z"
   },
   {
    "duration": 320,
    "start_time": "2024-03-08T06:50:13.424Z"
   },
   {
    "duration": 114,
    "start_time": "2024-03-08T06:50:13.745Z"
   },
   {
    "duration": 117,
    "start_time": "2024-03-08T06:51:22.709Z"
   },
   {
    "duration": 120,
    "start_time": "2024-03-08T06:51:39.623Z"
   },
   {
    "duration": 98,
    "start_time": "2024-03-08T06:51:51.016Z"
   },
   {
    "duration": 128,
    "start_time": "2024-03-08T06:52:36.092Z"
   },
   {
    "duration": 115,
    "start_time": "2024-03-08T06:52:52.266Z"
   },
   {
    "duration": 121,
    "start_time": "2024-03-08T06:53:00.455Z"
   },
   {
    "duration": 0,
    "start_time": "2024-03-08T07:02:53.397Z"
   },
   {
    "duration": 0,
    "start_time": "2024-03-08T07:02:53.398Z"
   },
   {
    "duration": 0,
    "start_time": "2024-03-08T07:02:53.399Z"
   },
   {
    "duration": 0,
    "start_time": "2024-03-08T07:02:53.400Z"
   },
   {
    "duration": 0,
    "start_time": "2024-03-08T07:02:53.401Z"
   },
   {
    "duration": 0,
    "start_time": "2024-03-08T07:02:53.402Z"
   },
   {
    "duration": 0,
    "start_time": "2024-03-08T07:02:53.403Z"
   },
   {
    "duration": 0,
    "start_time": "2024-03-08T07:02:53.404Z"
   },
   {
    "duration": 0,
    "start_time": "2024-03-08T07:02:53.405Z"
   },
   {
    "duration": 0,
    "start_time": "2024-03-08T07:02:53.406Z"
   },
   {
    "duration": 0,
    "start_time": "2024-03-08T07:02:53.407Z"
   },
   {
    "duration": 0,
    "start_time": "2024-03-08T07:02:53.408Z"
   },
   {
    "duration": 0,
    "start_time": "2024-03-08T07:02:53.409Z"
   },
   {
    "duration": 0,
    "start_time": "2024-03-08T07:02:53.410Z"
   },
   {
    "duration": 0,
    "start_time": "2024-03-08T07:02:53.411Z"
   },
   {
    "duration": 1,
    "start_time": "2024-03-08T07:02:53.412Z"
   },
   {
    "duration": 0,
    "start_time": "2024-03-08T07:02:53.414Z"
   },
   {
    "duration": 0,
    "start_time": "2024-03-08T07:02:53.414Z"
   },
   {
    "duration": 0,
    "start_time": "2024-03-08T07:02:53.416Z"
   },
   {
    "duration": 0,
    "start_time": "2024-03-08T07:02:53.417Z"
   },
   {
    "duration": 0,
    "start_time": "2024-03-08T07:02:53.418Z"
   },
   {
    "duration": 0,
    "start_time": "2024-03-08T07:02:53.419Z"
   },
   {
    "duration": 0,
    "start_time": "2024-03-08T07:02:53.420Z"
   },
   {
    "duration": 0,
    "start_time": "2024-03-08T07:02:53.421Z"
   },
   {
    "duration": 0,
    "start_time": "2024-03-08T07:02:53.421Z"
   },
   {
    "duration": 0,
    "start_time": "2024-03-08T07:02:53.423Z"
   },
   {
    "duration": 0,
    "start_time": "2024-03-08T07:02:53.424Z"
   },
   {
    "duration": 0,
    "start_time": "2024-03-08T07:02:53.425Z"
   },
   {
    "duration": 0,
    "start_time": "2024-03-08T07:02:53.426Z"
   },
   {
    "duration": 0,
    "start_time": "2024-03-08T07:02:53.492Z"
   },
   {
    "duration": 0,
    "start_time": "2024-03-08T07:02:53.493Z"
   },
   {
    "duration": 0,
    "start_time": "2024-03-08T07:02:53.494Z"
   },
   {
    "duration": 3,
    "start_time": "2024-03-08T07:03:06.356Z"
   },
   {
    "duration": 76,
    "start_time": "2024-03-08T07:03:06.361Z"
   },
   {
    "duration": 3,
    "start_time": "2024-03-08T07:03:06.439Z"
   },
   {
    "duration": 10,
    "start_time": "2024-03-08T07:03:06.444Z"
   },
   {
    "duration": 38,
    "start_time": "2024-03-08T07:03:06.456Z"
   },
   {
    "duration": 30,
    "start_time": "2024-03-08T07:03:06.496Z"
   },
   {
    "duration": 8,
    "start_time": "2024-03-08T07:03:06.528Z"
   },
   {
    "duration": 7,
    "start_time": "2024-03-08T07:03:06.537Z"
   },
   {
    "duration": 21,
    "start_time": "2024-03-08T07:03:06.545Z"
   },
   {
    "duration": 15,
    "start_time": "2024-03-08T07:03:06.568Z"
   },
   {
    "duration": 7,
    "start_time": "2024-03-08T07:03:06.585Z"
   },
   {
    "duration": 5,
    "start_time": "2024-03-08T07:03:06.594Z"
   },
   {
    "duration": 14,
    "start_time": "2024-03-08T07:03:06.601Z"
   },
   {
    "duration": 15,
    "start_time": "2024-03-08T07:03:06.616Z"
   },
   {
    "duration": 25,
    "start_time": "2024-03-08T07:03:06.632Z"
   },
   {
    "duration": 22,
    "start_time": "2024-03-08T07:03:06.659Z"
   },
   {
    "duration": 23,
    "start_time": "2024-03-08T07:03:06.683Z"
   },
   {
    "duration": 23,
    "start_time": "2024-03-08T07:03:06.708Z"
   },
   {
    "duration": 13,
    "start_time": "2024-03-08T07:03:06.733Z"
   },
   {
    "duration": 36538,
    "start_time": "2024-03-08T07:03:06.748Z"
   },
   {
    "duration": 5,
    "start_time": "2024-03-08T07:03:43.288Z"
   },
   {
    "duration": 16,
    "start_time": "2024-03-08T07:03:43.295Z"
   },
   {
    "duration": 55,
    "start_time": "2024-03-08T07:03:43.312Z"
   },
   {
    "duration": 5,
    "start_time": "2024-03-08T07:03:43.368Z"
   },
   {
    "duration": 25,
    "start_time": "2024-03-08T07:03:43.375Z"
   },
   {
    "duration": 17,
    "start_time": "2024-03-08T07:03:43.402Z"
   },
   {
    "duration": 5,
    "start_time": "2024-03-08T07:03:43.420Z"
   },
   {
    "duration": 16,
    "start_time": "2024-03-08T07:03:43.427Z"
   },
   {
    "duration": 183,
    "start_time": "2024-03-08T07:03:43.446Z"
   },
   {
    "duration": 8,
    "start_time": "2024-03-08T07:03:43.631Z"
   },
   {
    "duration": 311,
    "start_time": "2024-03-08T07:03:43.641Z"
   },
   {
    "duration": 7,
    "start_time": "2024-03-08T07:03:43.954Z"
   },
   {
    "duration": 132,
    "start_time": "2024-03-08T07:10:34.045Z"
   },
   {
    "duration": 122,
    "start_time": "2024-03-08T07:12:57.259Z"
   },
   {
    "duration": 118,
    "start_time": "2024-03-08T07:13:06.405Z"
   },
   {
    "duration": 123,
    "start_time": "2024-03-08T07:13:26.538Z"
   },
   {
    "duration": 21,
    "start_time": "2024-03-08T07:15:49.760Z"
   },
   {
    "duration": 18,
    "start_time": "2024-03-08T07:16:21.141Z"
   },
   {
    "duration": 24,
    "start_time": "2024-03-08T07:16:23.690Z"
   },
   {
    "duration": 18,
    "start_time": "2024-03-08T07:17:18.889Z"
   },
   {
    "duration": 158,
    "start_time": "2024-03-08T07:17:52.374Z"
   },
   {
    "duration": 161,
    "start_time": "2024-03-08T07:18:15.156Z"
   },
   {
    "duration": 407,
    "start_time": "2024-03-08T07:20:30.776Z"
   },
   {
    "duration": 388,
    "start_time": "2024-03-08T07:21:06.770Z"
   },
   {
    "duration": 113,
    "start_time": "2024-03-08T07:21:39.425Z"
   },
   {
    "duration": 417,
    "start_time": "2024-03-08T07:22:01.119Z"
   },
   {
    "duration": 209,
    "start_time": "2024-03-08T07:22:17.334Z"
   },
   {
    "duration": 388,
    "start_time": "2024-03-08T07:22:44.620Z"
   },
   {
    "duration": 155,
    "start_time": "2024-03-08T07:24:39.065Z"
   },
   {
    "duration": 379,
    "start_time": "2024-03-08T07:24:54.551Z"
   },
   {
    "duration": 116,
    "start_time": "2024-03-08T07:26:04.271Z"
   },
   {
    "duration": 440,
    "start_time": "2024-03-08T07:26:24.284Z"
   },
   {
    "duration": 454,
    "start_time": "2024-03-08T07:27:20.776Z"
   },
   {
    "duration": 472,
    "start_time": "2024-03-08T07:28:07.180Z"
   },
   {
    "duration": 472,
    "start_time": "2024-03-08T07:29:08.507Z"
   },
   {
    "duration": 457,
    "start_time": "2024-03-08T07:29:23.556Z"
   },
   {
    "duration": 116,
    "start_time": "2024-03-08T07:29:39.026Z"
   },
   {
    "duration": 467,
    "start_time": "2024-03-08T07:29:45.941Z"
   },
   {
    "duration": 7,
    "start_time": "2024-03-08T07:48:42.450Z"
   },
   {
    "duration": 6,
    "start_time": "2024-03-08T07:48:56.064Z"
   },
   {
    "duration": 17,
    "start_time": "2024-03-08T07:49:12.891Z"
   },
   {
    "duration": 134,
    "start_time": "2024-03-08T07:49:49.717Z"
   },
   {
    "duration": 187,
    "start_time": "2024-03-08T07:50:41.137Z"
   },
   {
    "duration": 471,
    "start_time": "2024-03-08T07:50:46.099Z"
   },
   {
    "duration": 465,
    "start_time": "2024-03-08T07:51:10.287Z"
   },
   {
    "duration": 124,
    "start_time": "2024-03-08T07:51:45.503Z"
   },
   {
    "duration": 5,
    "start_time": "2024-03-08T07:53:45.377Z"
   },
   {
    "duration": 154,
    "start_time": "2024-03-08T07:53:49.796Z"
   },
   {
    "duration": 479,
    "start_time": "2024-03-08T07:53:55.537Z"
   },
   {
    "duration": 454,
    "start_time": "2024-03-08T07:54:10.766Z"
   },
   {
    "duration": 616,
    "start_time": "2024-03-08T07:54:31.177Z"
   },
   {
    "duration": 524,
    "start_time": "2024-03-08T07:54:45.959Z"
   },
   {
    "duration": 511,
    "start_time": "2024-03-08T07:55:38.175Z"
   },
   {
    "duration": 529,
    "start_time": "2024-03-08T07:56:56.086Z"
   },
   {
    "duration": 516,
    "start_time": "2024-03-08T07:58:05.286Z"
   },
   {
    "duration": 136,
    "start_time": "2024-03-08T07:58:32.036Z"
   },
   {
    "duration": 129,
    "start_time": "2024-03-08T07:59:09.562Z"
   },
   {
    "duration": 575,
    "start_time": "2024-03-08T08:00:31.892Z"
   },
   {
    "duration": 538,
    "start_time": "2024-03-08T08:00:50.322Z"
   },
   {
    "duration": 566,
    "start_time": "2024-03-08T08:01:05.585Z"
   },
   {
    "duration": 531,
    "start_time": "2024-03-08T08:02:29.142Z"
   },
   {
    "duration": 547,
    "start_time": "2024-03-08T08:02:54.631Z"
   },
   {
    "duration": 537,
    "start_time": "2024-03-08T08:11:55.560Z"
   },
   {
    "duration": 139,
    "start_time": "2024-03-08T08:13:57.364Z"
   },
   {
    "duration": 575,
    "start_time": "2024-03-08T08:14:11.554Z"
   },
   {
    "duration": 162,
    "start_time": "2024-03-08T08:27:56.915Z"
   },
   {
    "duration": 166,
    "start_time": "2024-03-08T08:28:15.507Z"
   },
   {
    "duration": 100,
    "start_time": "2024-03-08T08:28:38.470Z"
   },
   {
    "duration": 161,
    "start_time": "2024-03-08T08:28:42.504Z"
   },
   {
    "duration": 173,
    "start_time": "2024-03-08T08:30:21.977Z"
   },
   {
    "duration": 10,
    "start_time": "2024-03-08T08:32:11.759Z"
   },
   {
    "duration": 182,
    "start_time": "2024-03-08T08:32:19.708Z"
   },
   {
    "duration": 148,
    "start_time": "2024-03-08T08:41:30.695Z"
   },
   {
    "duration": 143,
    "start_time": "2024-03-08T08:44:44.666Z"
   },
   {
    "duration": 144,
    "start_time": "2024-03-08T08:45:36.633Z"
   },
   {
    "duration": 26,
    "start_time": "2024-03-08T08:46:10.612Z"
   },
   {
    "duration": 7,
    "start_time": "2024-03-08T08:46:26.774Z"
   },
   {
    "duration": 6,
    "start_time": "2024-03-08T08:46:44.050Z"
   },
   {
    "duration": 144,
    "start_time": "2024-03-08T08:46:55.325Z"
   },
   {
    "duration": 5,
    "start_time": "2024-03-08T08:47:27.204Z"
   },
   {
    "duration": 145,
    "start_time": "2024-03-08T08:48:05.764Z"
   },
   {
    "duration": 171,
    "start_time": "2024-03-08T08:48:37.966Z"
   },
   {
    "duration": 159,
    "start_time": "2024-03-08T08:48:49.164Z"
   },
   {
    "duration": 255,
    "start_time": "2024-03-08T08:49:22.523Z"
   },
   {
    "duration": 240,
    "start_time": "2024-03-08T08:49:37.833Z"
   },
   {
    "duration": 241,
    "start_time": "2024-03-08T08:50:08.404Z"
   },
   {
    "duration": 266,
    "start_time": "2024-03-08T08:50:25.955Z"
   },
   {
    "duration": 100,
    "start_time": "2024-03-08T08:50:47.335Z"
   },
   {
    "duration": 234,
    "start_time": "2024-03-08T08:50:51.434Z"
   },
   {
    "duration": 229,
    "start_time": "2024-03-08T08:50:55.526Z"
   },
   {
    "duration": 5,
    "start_time": "2024-03-08T08:51:03.115Z"
   },
   {
    "duration": 222,
    "start_time": "2024-03-08T08:51:07.139Z"
   },
   {
    "duration": 255,
    "start_time": "2024-03-08T08:51:17.594Z"
   },
   {
    "duration": 227,
    "start_time": "2024-03-08T08:51:22.937Z"
   },
   {
    "duration": 238,
    "start_time": "2024-03-08T08:52:00.646Z"
   },
   {
    "duration": 235,
    "start_time": "2024-03-08T08:52:42.915Z"
   },
   {
    "duration": 222,
    "start_time": "2024-03-08T08:53:24.909Z"
   },
   {
    "duration": 241,
    "start_time": "2024-03-08T08:54:24.966Z"
   },
   {
    "duration": 236,
    "start_time": "2024-03-08T08:54:34.873Z"
   },
   {
    "duration": 253,
    "start_time": "2024-03-08T08:54:58.195Z"
   },
   {
    "duration": 246,
    "start_time": "2024-03-08T08:55:09.246Z"
   },
   {
    "duration": 6,
    "start_time": "2024-03-08T08:55:57.621Z"
   },
   {
    "duration": 4,
    "start_time": "2024-03-08T08:57:48.556Z"
   },
   {
    "duration": 6,
    "start_time": "2024-03-08T08:58:07.620Z"
   },
   {
    "duration": 270,
    "start_time": "2024-03-08T09:03:05.354Z"
   },
   {
    "duration": 172,
    "start_time": "2024-03-08T09:03:32.295Z"
   },
   {
    "duration": 5,
    "start_time": "2024-03-08T09:04:19.403Z"
   },
   {
    "duration": 267,
    "start_time": "2024-03-08T09:06:33.487Z"
   },
   {
    "duration": 233,
    "start_time": "2024-03-08T09:07:29.047Z"
   },
   {
    "duration": 5,
    "start_time": "2024-03-08T09:07:56.166Z"
   },
   {
    "duration": 250,
    "start_time": "2024-03-08T09:07:59.847Z"
   },
   {
    "duration": 232,
    "start_time": "2024-03-08T09:08:14.527Z"
   },
   {
    "duration": 271,
    "start_time": "2024-03-08T09:08:55.615Z"
   },
   {
    "duration": 253,
    "start_time": "2024-03-08T09:09:02.841Z"
   },
   {
    "duration": 239,
    "start_time": "2024-03-08T09:10:13.977Z"
   },
   {
    "duration": 232,
    "start_time": "2024-03-08T09:10:24.206Z"
   },
   {
    "duration": 249,
    "start_time": "2024-03-08T09:11:41.167Z"
   },
   {
    "duration": 243,
    "start_time": "2024-03-08T09:11:56.961Z"
   },
   {
    "duration": 5,
    "start_time": "2024-03-08T09:12:16.877Z"
   },
   {
    "duration": 6,
    "start_time": "2024-03-08T09:21:34.451Z"
   },
   {
    "duration": 108,
    "start_time": "2024-03-08T09:21:43.721Z"
   },
   {
    "duration": 8,
    "start_time": "2024-03-08T09:21:51.040Z"
   },
   {
    "duration": 6,
    "start_time": "2024-03-08T09:31:47.878Z"
   },
   {
    "duration": 7528,
    "start_time": "2024-03-08T09:32:41.397Z"
   },
   {
    "duration": 7452,
    "start_time": "2024-03-08T09:34:29.930Z"
   },
   {
    "duration": 7545,
    "start_time": "2024-03-08T09:35:09.446Z"
   },
   {
    "duration": 5284,
    "start_time": "2024-03-08T09:36:38.723Z"
   },
   {
    "duration": 18,
    "start_time": "2024-03-08T09:36:57.104Z"
   },
   {
    "duration": 20,
    "start_time": "2024-03-08T09:37:55.302Z"
   },
   {
    "duration": 18,
    "start_time": "2024-03-08T09:38:43.303Z"
   },
   {
    "duration": 31,
    "start_time": "2024-03-08T09:39:03.550Z"
   },
   {
    "duration": 22,
    "start_time": "2024-03-08T09:39:30.410Z"
   },
   {
    "duration": 131,
    "start_time": "2024-03-08T09:41:04.613Z"
   },
   {
    "duration": 24,
    "start_time": "2024-03-08T09:41:14.434Z"
   },
   {
    "duration": 23,
    "start_time": "2024-03-08T09:41:23.291Z"
   },
   {
    "duration": 100,
    "start_time": "2024-03-08T09:41:35.815Z"
   },
   {
    "duration": 24,
    "start_time": "2024-03-08T09:41:56.651Z"
   },
   {
    "duration": 19,
    "start_time": "2024-03-08T09:42:06.455Z"
   },
   {
    "duration": 24,
    "start_time": "2024-03-08T09:46:15.582Z"
   },
   {
    "duration": 22,
    "start_time": "2024-03-08T09:46:37.838Z"
   },
   {
    "duration": 22,
    "start_time": "2024-03-08T09:47:14.491Z"
   },
   {
    "duration": 25,
    "start_time": "2024-03-08T09:47:20.966Z"
   },
   {
    "duration": 22,
    "start_time": "2024-03-08T09:48:35.526Z"
   },
   {
    "duration": 24,
    "start_time": "2024-03-08T09:48:52.247Z"
   },
   {
    "duration": 3,
    "start_time": "2024-03-08T09:49:25.597Z"
   },
   {
    "duration": 119,
    "start_time": "2024-03-08T09:49:25.601Z"
   },
   {
    "duration": 4,
    "start_time": "2024-03-08T09:49:25.722Z"
   },
   {
    "duration": 24,
    "start_time": "2024-03-08T09:49:25.727Z"
   },
   {
    "duration": 57,
    "start_time": "2024-03-08T09:49:25.753Z"
   },
   {
    "duration": 15,
    "start_time": "2024-03-08T09:49:25.811Z"
   },
   {
    "duration": 9,
    "start_time": "2024-03-08T09:49:25.827Z"
   },
   {
    "duration": 30,
    "start_time": "2024-03-08T09:49:25.838Z"
   },
   {
    "duration": 73,
    "start_time": "2024-03-08T09:49:25.870Z"
   },
   {
    "duration": 17,
    "start_time": "2024-03-08T09:49:25.945Z"
   },
   {
    "duration": 12,
    "start_time": "2024-03-08T09:49:25.966Z"
   },
   {
    "duration": 11,
    "start_time": "2024-03-08T09:49:25.980Z"
   },
   {
    "duration": 19,
    "start_time": "2024-03-08T09:49:25.993Z"
   },
   {
    "duration": 17,
    "start_time": "2024-03-08T09:49:26.015Z"
   },
   {
    "duration": 14,
    "start_time": "2024-03-08T09:49:26.034Z"
   },
   {
    "duration": 45,
    "start_time": "2024-03-08T09:49:26.050Z"
   },
   {
    "duration": 28,
    "start_time": "2024-03-08T09:49:26.097Z"
   },
   {
    "duration": 8,
    "start_time": "2024-03-08T09:49:26.127Z"
   },
   {
    "duration": 10,
    "start_time": "2024-03-08T09:49:26.137Z"
   },
   {
    "duration": 34265,
    "start_time": "2024-03-08T09:49:26.149Z"
   },
   {
    "duration": 7,
    "start_time": "2024-03-08T09:50:00.416Z"
   },
   {
    "duration": 327,
    "start_time": "2024-03-08T09:50:00.424Z"
   },
   {
    "duration": 154,
    "start_time": "2024-03-08T09:50:00.752Z"
   },
   {
    "duration": 182,
    "start_time": "2024-03-08T09:50:00.907Z"
   },
   {
    "duration": 352,
    "start_time": "2024-03-08T09:50:01.091Z"
   },
   {
    "duration": 579,
    "start_time": "2024-03-08T09:50:01.445Z"
   },
   {
    "duration": 312,
    "start_time": "2024-03-08T09:50:02.026Z"
   },
   {
    "duration": 197,
    "start_time": "2024-03-08T09:50:02.339Z"
   },
   {
    "duration": 306,
    "start_time": "2024-03-08T09:50:02.539Z"
   },
   {
    "duration": 0,
    "start_time": "2024-03-08T09:50:02.847Z"
   },
   {
    "duration": 0,
    "start_time": "2024-03-08T09:50:02.848Z"
   },
   {
    "duration": 0,
    "start_time": "2024-03-08T09:50:02.849Z"
   },
   {
    "duration": 0,
    "start_time": "2024-03-08T09:50:02.851Z"
   },
   {
    "duration": 0,
    "start_time": "2024-03-08T09:50:02.852Z"
   },
   {
    "duration": 0,
    "start_time": "2024-03-08T09:50:02.853Z"
   },
   {
    "duration": 0,
    "start_time": "2024-03-08T09:50:02.855Z"
   },
   {
    "duration": 0,
    "start_time": "2024-03-08T09:50:02.856Z"
   },
   {
    "duration": 3,
    "start_time": "2024-03-08T09:52:08.174Z"
   },
   {
    "duration": 68,
    "start_time": "2024-03-08T09:52:08.179Z"
   },
   {
    "duration": 4,
    "start_time": "2024-03-08T09:52:08.248Z"
   },
   {
    "duration": 8,
    "start_time": "2024-03-08T09:52:08.254Z"
   },
   {
    "duration": 28,
    "start_time": "2024-03-08T09:52:08.263Z"
   },
   {
    "duration": 14,
    "start_time": "2024-03-08T09:52:08.293Z"
   },
   {
    "duration": 6,
    "start_time": "2024-03-08T09:52:08.308Z"
   },
   {
    "duration": 17,
    "start_time": "2024-03-08T09:52:08.315Z"
   },
   {
    "duration": 6,
    "start_time": "2024-03-08T09:52:08.334Z"
   },
   {
    "duration": 9,
    "start_time": "2024-03-08T09:52:08.341Z"
   },
   {
    "duration": 8,
    "start_time": "2024-03-08T09:52:08.352Z"
   },
   {
    "duration": 6,
    "start_time": "2024-03-08T09:52:08.362Z"
   },
   {
    "duration": 11,
    "start_time": "2024-03-08T09:52:08.390Z"
   },
   {
    "duration": 16,
    "start_time": "2024-03-08T09:52:08.403Z"
   },
   {
    "duration": 10,
    "start_time": "2024-03-08T09:52:08.421Z"
   },
   {
    "duration": 14,
    "start_time": "2024-03-08T09:52:08.433Z"
   },
   {
    "duration": 47,
    "start_time": "2024-03-08T09:52:08.448Z"
   },
   {
    "duration": 7,
    "start_time": "2024-03-08T09:52:08.496Z"
   },
   {
    "duration": 15,
    "start_time": "2024-03-08T09:52:08.505Z"
   },
   {
    "duration": 33776,
    "start_time": "2024-03-08T09:52:08.521Z"
   },
   {
    "duration": 4,
    "start_time": "2024-03-08T09:52:42.298Z"
   },
   {
    "duration": 12,
    "start_time": "2024-03-08T09:52:42.304Z"
   },
   {
    "duration": 21,
    "start_time": "2024-03-08T09:52:42.317Z"
   },
   {
    "duration": 4,
    "start_time": "2024-03-08T09:52:42.341Z"
   },
   {
    "duration": 28,
    "start_time": "2024-03-08T09:52:42.346Z"
   },
   {
    "duration": 22,
    "start_time": "2024-03-08T09:52:42.376Z"
   },
   {
    "duration": 5,
    "start_time": "2024-03-08T09:52:42.399Z"
   },
   {
    "duration": 17,
    "start_time": "2024-03-08T09:52:42.406Z"
   },
   {
    "duration": 184,
    "start_time": "2024-03-08T09:52:42.425Z"
   },
   {
    "duration": 8,
    "start_time": "2024-03-08T09:52:42.610Z"
   },
   {
    "duration": 314,
    "start_time": "2024-03-08T09:52:42.620Z"
   },
   {
    "duration": 0,
    "start_time": "2024-03-08T09:52:42.935Z"
   },
   {
    "duration": 0,
    "start_time": "2024-03-08T09:52:42.937Z"
   },
   {
    "duration": 0,
    "start_time": "2024-03-08T09:52:42.938Z"
   },
   {
    "duration": 0,
    "start_time": "2024-03-08T09:52:42.939Z"
   },
   {
    "duration": 0,
    "start_time": "2024-03-08T09:52:42.940Z"
   },
   {
    "duration": 0,
    "start_time": "2024-03-08T09:52:42.941Z"
   },
   {
    "duration": 1118,
    "start_time": "2024-03-08T10:13:45.526Z"
   },
   {
    "duration": 146,
    "start_time": "2024-03-08T10:13:46.646Z"
   },
   {
    "duration": 6,
    "start_time": "2024-03-08T10:13:46.794Z"
   },
   {
    "duration": 34,
    "start_time": "2024-03-08T10:13:46.803Z"
   },
   {
    "duration": 47,
    "start_time": "2024-03-08T10:13:46.839Z"
   },
   {
    "duration": 17,
    "start_time": "2024-03-08T10:13:46.888Z"
   },
   {
    "duration": 25,
    "start_time": "2024-03-08T10:13:46.907Z"
   },
   {
    "duration": 18,
    "start_time": "2024-03-08T10:13:46.934Z"
   },
   {
    "duration": 25,
    "start_time": "2024-03-08T10:13:46.953Z"
   },
   {
    "duration": 43,
    "start_time": "2024-03-08T10:13:46.981Z"
   },
   {
    "duration": 47,
    "start_time": "2024-03-08T10:13:47.027Z"
   },
   {
    "duration": 30,
    "start_time": "2024-03-08T10:13:47.076Z"
   },
   {
    "duration": 32,
    "start_time": "2024-03-08T10:13:47.108Z"
   },
   {
    "duration": 21,
    "start_time": "2024-03-08T10:13:47.141Z"
   },
   {
    "duration": 24,
    "start_time": "2024-03-08T10:13:47.164Z"
   },
   {
    "duration": 34,
    "start_time": "2024-03-08T10:13:47.190Z"
   },
   {
    "duration": 31,
    "start_time": "2024-03-08T10:13:47.225Z"
   },
   {
    "duration": 24,
    "start_time": "2024-03-08T10:13:47.258Z"
   },
   {
    "duration": 41,
    "start_time": "2024-03-08T10:13:47.284Z"
   },
   {
    "duration": 36144,
    "start_time": "2024-03-08T10:13:47.327Z"
   },
   {
    "duration": 4,
    "start_time": "2024-03-08T10:14:23.473Z"
   },
   {
    "duration": 34,
    "start_time": "2024-03-08T10:14:23.479Z"
   },
   {
    "duration": 21,
    "start_time": "2024-03-08T10:14:23.515Z"
   },
   {
    "duration": 6,
    "start_time": "2024-03-08T10:14:23.537Z"
   },
   {
    "duration": 48,
    "start_time": "2024-03-08T10:14:23.544Z"
   },
   {
    "duration": 29,
    "start_time": "2024-03-08T10:14:23.594Z"
   },
   {
    "duration": 22,
    "start_time": "2024-03-08T10:14:23.625Z"
   },
   {
    "duration": 22,
    "start_time": "2024-03-08T10:14:23.651Z"
   },
   {
    "duration": 204,
    "start_time": "2024-03-08T10:14:23.675Z"
   },
   {
    "duration": 13,
    "start_time": "2024-03-08T10:14:23.881Z"
   },
   {
    "duration": 348,
    "start_time": "2024-03-08T10:14:23.896Z"
   },
   {
    "duration": 576,
    "start_time": "2024-03-08T10:14:24.246Z"
   },
   {
    "duration": 295,
    "start_time": "2024-03-08T10:14:24.824Z"
   },
   {
    "duration": 9,
    "start_time": "2024-03-08T10:14:25.122Z"
   },
   {
    "duration": 324,
    "start_time": "2024-03-08T10:14:25.133Z"
   },
   {
    "duration": 6,
    "start_time": "2024-03-08T10:14:25.458Z"
   },
   {
    "duration": 81,
    "start_time": "2024-03-08T10:14:25.465Z"
   },
   {
    "duration": 4,
    "start_time": "2024-03-08T10:15:30.342Z"
   },
   {
    "duration": 225,
    "start_time": "2024-03-08T10:15:30.348Z"
   },
   {
    "duration": 111,
    "start_time": "2024-03-08T10:15:30.575Z"
   },
   {
    "duration": 68,
    "start_time": "2024-03-08T10:15:30.688Z"
   },
   {
    "duration": 319,
    "start_time": "2024-03-08T10:15:30.758Z"
   },
   {
    "duration": 528,
    "start_time": "2024-03-08T10:15:31.078Z"
   },
   {
    "duration": 253,
    "start_time": "2024-03-08T10:15:31.608Z"
   },
   {
    "duration": 293,
    "start_time": "2024-03-08T10:15:31.863Z"
   },
   {
    "duration": 98,
    "start_time": "2024-03-08T10:15:32.158Z"
   },
   {
    "duration": 72,
    "start_time": "2024-03-08T10:15:32.258Z"
   },
   {
    "duration": 43,
    "start_time": "2024-03-08T10:15:32.332Z"
   },
   {
    "duration": 38,
    "start_time": "2024-03-08T10:15:32.376Z"
   },
   {
    "duration": 24,
    "start_time": "2024-03-08T10:15:32.415Z"
   },
   {
    "duration": 227,
    "start_time": "2024-03-08T10:15:32.442Z"
   },
   {
    "duration": 15,
    "start_time": "2024-03-08T10:15:32.671Z"
   },
   {
    "duration": 25,
    "start_time": "2024-03-08T10:15:32.688Z"
   },
   {
    "duration": 84,
    "start_time": "2024-03-08T10:15:32.715Z"
   },
   {
    "duration": 42,
    "start_time": "2024-03-08T10:15:32.801Z"
   },
   {
    "duration": 16,
    "start_time": "2024-03-08T10:15:32.846Z"
   },
   {
    "duration": 35551,
    "start_time": "2024-03-08T10:15:32.863Z"
   },
   {
    "duration": 5,
    "start_time": "2024-03-08T10:16:08.417Z"
   },
   {
    "duration": 32,
    "start_time": "2024-03-08T10:16:08.424Z"
   },
   {
    "duration": 25,
    "start_time": "2024-03-08T10:16:08.457Z"
   },
   {
    "duration": 30,
    "start_time": "2024-03-08T10:16:08.484Z"
   },
   {
    "duration": 54,
    "start_time": "2024-03-08T10:16:08.516Z"
   },
   {
    "duration": 26,
    "start_time": "2024-03-08T10:16:08.572Z"
   },
   {
    "duration": 12,
    "start_time": "2024-03-08T10:16:08.601Z"
   },
   {
    "duration": 39,
    "start_time": "2024-03-08T10:16:08.617Z"
   },
   {
    "duration": 208,
    "start_time": "2024-03-08T10:16:08.658Z"
   },
   {
    "duration": 8,
    "start_time": "2024-03-08T10:16:08.867Z"
   },
   {
    "duration": 392,
    "start_time": "2024-03-08T10:16:08.876Z"
   },
   {
    "duration": 592,
    "start_time": "2024-03-08T10:16:09.270Z"
   },
   {
    "duration": 319,
    "start_time": "2024-03-08T10:16:09.865Z"
   },
   {
    "duration": 9,
    "start_time": "2024-03-08T10:16:10.186Z"
   },
   {
    "duration": 330,
    "start_time": "2024-03-08T10:16:10.198Z"
   },
   {
    "duration": 6,
    "start_time": "2024-03-08T10:16:10.530Z"
   },
   {
    "duration": 26,
    "start_time": "2024-03-08T10:16:10.539Z"
   },
   {
    "duration": 33,
    "start_time": "2024-03-08T10:17:49.283Z"
   },
   {
    "duration": 35,
    "start_time": "2024-03-08T10:19:19.198Z"
   },
   {
    "duration": 114,
    "start_time": "2024-03-08T10:19:54.571Z"
   },
   {
    "duration": 33,
    "start_time": "2024-03-08T10:19:58.900Z"
   },
   {
    "duration": 23,
    "start_time": "2024-03-08T10:20:22.648Z"
   },
   {
    "duration": 24,
    "start_time": "2024-03-08T10:20:33.500Z"
   },
   {
    "duration": 32,
    "start_time": "2024-03-08T10:22:02.961Z"
   },
   {
    "duration": 22,
    "start_time": "2024-03-08T10:22:33.553Z"
   },
   {
    "duration": 32,
    "start_time": "2024-03-08T10:23:45.187Z"
   },
   {
    "duration": 10,
    "start_time": "2024-03-08T10:47:37.241Z"
   },
   {
    "duration": 16,
    "start_time": "2024-03-08T10:47:42.163Z"
   },
   {
    "duration": 205,
    "start_time": "2024-03-08T10:48:59.893Z"
   },
   {
    "duration": 17,
    "start_time": "2024-03-08T10:49:32.533Z"
   },
   {
    "duration": 21,
    "start_time": "2024-03-08T10:49:43.123Z"
   },
   {
    "duration": 18,
    "start_time": "2024-03-08T10:49:58.231Z"
   },
   {
    "duration": 18,
    "start_time": "2024-03-08T10:50:07.283Z"
   },
   {
    "duration": 202,
    "start_time": "2024-03-08T10:50:29.570Z"
   },
   {
    "duration": 204,
    "start_time": "2024-03-08T10:51:14.670Z"
   },
   {
    "duration": 288,
    "start_time": "2024-03-08T10:51:33.640Z"
   },
   {
    "duration": 200,
    "start_time": "2024-03-08T10:52:04.630Z"
   },
   {
    "duration": 193,
    "start_time": "2024-03-08T10:52:35.388Z"
   },
   {
    "duration": 195,
    "start_time": "2024-03-08T10:53:40.847Z"
   },
   {
    "duration": 199,
    "start_time": "2024-03-08T10:53:55.452Z"
   },
   {
    "duration": 195,
    "start_time": "2024-03-08T10:56:19.108Z"
   },
   {
    "duration": 202,
    "start_time": "2024-03-08T10:56:42.207Z"
   },
   {
    "duration": 195,
    "start_time": "2024-03-08T10:59:00.136Z"
   },
   {
    "duration": 202,
    "start_time": "2024-03-08T11:14:54.644Z"
   },
   {
    "duration": 193,
    "start_time": "2024-03-08T11:19:28.194Z"
   },
   {
    "duration": 26,
    "start_time": "2024-03-08T11:20:35.984Z"
   },
   {
    "duration": 209,
    "start_time": "2024-03-08T11:21:06.884Z"
   },
   {
    "duration": 7,
    "start_time": "2024-03-08T11:22:37.561Z"
   },
   {
    "duration": 109,
    "start_time": "2024-03-08T12:04:17.446Z"
   },
   {
    "duration": 1547,
    "start_time": "2024-03-08T12:04:28.132Z"
   },
   {
    "duration": 1667,
    "start_time": "2024-03-08T12:04:45.756Z"
   },
   {
    "duration": 111,
    "start_time": "2024-03-08T12:05:13.310Z"
   },
   {
    "duration": 103,
    "start_time": "2024-03-08T12:05:52.817Z"
   },
   {
    "duration": 1552,
    "start_time": "2024-03-08T12:06:37.136Z"
   },
   {
    "duration": 6,
    "start_time": "2024-03-08T12:06:48.457Z"
   },
   {
    "duration": 25,
    "start_time": "2024-03-08T12:06:56.146Z"
   },
   {
    "duration": 8,
    "start_time": "2024-03-08T12:07:12.136Z"
   },
   {
    "duration": 102,
    "start_time": "2024-03-08T12:07:31.156Z"
   },
   {
    "duration": 9,
    "start_time": "2024-03-08T12:07:36.800Z"
   },
   {
    "duration": 9,
    "start_time": "2024-03-08T12:08:05.986Z"
   },
   {
    "duration": 12,
    "start_time": "2024-03-08T12:08:30.060Z"
   },
   {
    "duration": 9,
    "start_time": "2024-03-08T12:08:40.040Z"
   },
   {
    "duration": 12,
    "start_time": "2024-03-08T12:13:49.809Z"
   },
   {
    "duration": 7,
    "start_time": "2024-03-08T12:14:13.057Z"
   },
   {
    "duration": 8,
    "start_time": "2024-03-08T12:15:43.630Z"
   },
   {
    "duration": 8,
    "start_time": "2024-03-08T12:16:10.220Z"
   },
   {
    "duration": 9,
    "start_time": "2024-03-08T12:16:22.149Z"
   },
   {
    "duration": 9,
    "start_time": "2024-03-08T12:16:29.660Z"
   },
   {
    "duration": 9,
    "start_time": "2024-03-08T12:17:21.901Z"
   },
   {
    "duration": 6,
    "start_time": "2024-03-08T12:17:30.680Z"
   },
   {
    "duration": 10,
    "start_time": "2024-03-08T12:17:48.821Z"
   },
   {
    "duration": 9,
    "start_time": "2024-03-08T12:18:18.872Z"
   },
   {
    "duration": 247,
    "start_time": "2024-03-08T12:19:28.967Z"
   },
   {
    "duration": 135,
    "start_time": "2024-03-08T12:19:46.687Z"
   },
   {
    "duration": 12,
    "start_time": "2024-03-08T12:20:07.880Z"
   },
   {
    "duration": 12,
    "start_time": "2024-03-08T12:20:14.322Z"
   },
   {
    "duration": 126,
    "start_time": "2024-03-08T12:20:17.191Z"
   },
   {
    "duration": 13,
    "start_time": "2024-03-08T12:20:21.152Z"
   },
   {
    "duration": 138,
    "start_time": "2024-03-08T12:24:33.720Z"
   },
   {
    "duration": 137,
    "start_time": "2024-03-08T12:25:11.846Z"
   },
   {
    "duration": 151,
    "start_time": "2024-03-08T12:25:39.229Z"
   },
   {
    "duration": 153,
    "start_time": "2024-03-08T12:25:48.149Z"
   },
   {
    "duration": 150,
    "start_time": "2024-03-08T12:26:02.655Z"
   },
   {
    "duration": 153,
    "start_time": "2024-03-08T12:28:00.120Z"
   },
   {
    "duration": 119,
    "start_time": "2024-03-08T12:28:23.379Z"
   },
   {
    "duration": 118,
    "start_time": "2024-03-08T12:28:29.311Z"
   },
   {
    "duration": 10,
    "start_time": "2024-03-08T12:28:39.548Z"
   },
   {
    "duration": 11,
    "start_time": "2024-03-08T12:28:46.229Z"
   },
   {
    "duration": 9,
    "start_time": "2024-03-08T12:28:55.454Z"
   },
   {
    "duration": 9,
    "start_time": "2024-03-08T12:29:01.990Z"
   },
   {
    "duration": 220,
    "start_time": "2024-03-08T12:29:11.053Z"
   },
   {
    "duration": 150,
    "start_time": "2024-03-08T12:29:36.699Z"
   },
   {
    "duration": 148,
    "start_time": "2024-03-08T12:29:46.739Z"
   },
   {
    "duration": 12,
    "start_time": "2024-03-08T12:32:59.072Z"
   },
   {
    "duration": 10,
    "start_time": "2024-03-08T12:33:11.614Z"
   },
   {
    "duration": 13,
    "start_time": "2024-03-08T12:33:28.510Z"
   },
   {
    "duration": 12,
    "start_time": "2024-03-08T12:33:35.376Z"
   },
   {
    "duration": 16,
    "start_time": "2024-03-08T12:33:37.895Z"
   },
   {
    "duration": 12,
    "start_time": "2024-03-08T12:33:40.782Z"
   },
   {
    "duration": 14,
    "start_time": "2024-03-08T12:33:50.011Z"
   },
   {
    "duration": 18,
    "start_time": "2024-03-08T12:34:24.904Z"
   },
   {
    "duration": 11,
    "start_time": "2024-03-08T12:35:43.402Z"
   },
   {
    "duration": 13,
    "start_time": "2024-03-08T12:35:52.083Z"
   },
   {
    "duration": 11,
    "start_time": "2024-03-08T12:36:39.782Z"
   },
   {
    "duration": 19,
    "start_time": "2024-03-08T12:36:47.723Z"
   },
   {
    "duration": 43,
    "start_time": "2024-03-08T12:37:29.334Z"
   },
   {
    "duration": 194,
    "start_time": "2024-03-08T12:37:46.254Z"
   },
   {
    "duration": 191,
    "start_time": "2024-03-08T12:38:13.762Z"
   },
   {
    "duration": 194,
    "start_time": "2024-03-08T12:38:29.514Z"
   },
   {
    "duration": 201,
    "start_time": "2024-03-08T12:39:13.393Z"
   },
   {
    "duration": 12,
    "start_time": "2024-03-08T12:40:00.293Z"
   },
   {
    "duration": 20,
    "start_time": "2024-03-08T12:40:01.134Z"
   },
   {
    "duration": 232,
    "start_time": "2024-03-08T12:40:20.975Z"
   },
   {
    "duration": 231,
    "start_time": "2024-03-08T12:42:14.894Z"
   },
   {
    "duration": 214,
    "start_time": "2024-03-08T12:42:26.402Z"
   },
   {
    "duration": 332,
    "start_time": "2024-03-08T12:43:20.596Z"
   },
   {
    "duration": 210,
    "start_time": "2024-03-08T12:43:26.262Z"
   },
   {
    "duration": 4,
    "start_time": "2024-03-08T12:46:14.769Z"
   },
   {
    "duration": 4,
    "start_time": "2024-03-08T12:46:27.930Z"
   },
   {
    "duration": 120,
    "start_time": "2024-03-08T12:46:40.099Z"
   },
   {
    "duration": 96,
    "start_time": "2024-03-08T12:46:52.570Z"
   },
   {
    "duration": 4,
    "start_time": "2024-03-08T12:46:55.819Z"
   },
   {
    "duration": 4,
    "start_time": "2024-03-08T12:47:18.899Z"
   },
   {
    "duration": 6,
    "start_time": "2024-03-08T12:48:10.359Z"
   },
   {
    "duration": 5,
    "start_time": "2024-03-08T13:06:43.697Z"
   },
   {
    "duration": 12,
    "start_time": "2024-03-08T13:06:50.463Z"
   },
   {
    "duration": 6,
    "start_time": "2024-03-08T13:09:21.392Z"
   },
   {
    "duration": 9,
    "start_time": "2024-03-08T13:10:48.239Z"
   },
   {
    "duration": 8,
    "start_time": "2024-03-08T13:11:47.335Z"
   },
   {
    "duration": 7,
    "start_time": "2024-03-08T13:12:03.015Z"
   },
   {
    "duration": 8,
    "start_time": "2024-03-08T13:12:24.115Z"
   },
   {
    "duration": 101,
    "start_time": "2024-03-08T13:13:19.302Z"
   },
   {
    "duration": 10,
    "start_time": "2024-03-08T13:13:29.676Z"
   },
   {
    "duration": 4,
    "start_time": "2024-03-08T13:18:27.840Z"
   },
   {
    "duration": 73,
    "start_time": "2024-03-08T13:18:27.846Z"
   },
   {
    "duration": 4,
    "start_time": "2024-03-08T13:18:27.921Z"
   },
   {
    "duration": 24,
    "start_time": "2024-03-08T13:18:27.927Z"
   },
   {
    "duration": 24,
    "start_time": "2024-03-08T13:18:27.953Z"
   },
   {
    "duration": 15,
    "start_time": "2024-03-08T13:18:27.978Z"
   },
   {
    "duration": 6,
    "start_time": "2024-03-08T13:18:27.995Z"
   },
   {
    "duration": 7,
    "start_time": "2024-03-08T13:18:28.002Z"
   },
   {
    "duration": 5,
    "start_time": "2024-03-08T13:18:28.012Z"
   },
   {
    "duration": 8,
    "start_time": "2024-03-08T13:18:28.018Z"
   },
   {
    "duration": 4,
    "start_time": "2024-03-08T13:18:28.028Z"
   },
   {
    "duration": 7,
    "start_time": "2024-03-08T13:18:28.033Z"
   },
   {
    "duration": 54,
    "start_time": "2024-03-08T13:18:28.042Z"
   },
   {
    "duration": 15,
    "start_time": "2024-03-08T13:18:28.098Z"
   },
   {
    "duration": 11,
    "start_time": "2024-03-08T13:18:28.115Z"
   },
   {
    "duration": 15,
    "start_time": "2024-03-08T13:18:28.128Z"
   },
   {
    "duration": 53,
    "start_time": "2024-03-08T13:18:28.144Z"
   },
   {
    "duration": 6,
    "start_time": "2024-03-08T13:18:28.199Z"
   },
   {
    "duration": 11,
    "start_time": "2024-03-08T13:18:28.207Z"
   },
   {
    "duration": 34097,
    "start_time": "2024-03-08T13:18:28.219Z"
   },
   {
    "duration": 6,
    "start_time": "2024-03-08T13:19:02.318Z"
   },
   {
    "duration": 216,
    "start_time": "2024-03-08T13:19:02.325Z"
   },
   {
    "duration": 25,
    "start_time": "2024-03-08T13:19:02.542Z"
   },
   {
    "duration": 7,
    "start_time": "2024-03-08T13:19:02.570Z"
   },
   {
    "duration": 30,
    "start_time": "2024-03-08T13:19:02.579Z"
   },
   {
    "duration": 22,
    "start_time": "2024-03-08T13:19:02.611Z"
   },
   {
    "duration": 46,
    "start_time": "2024-03-08T13:19:02.634Z"
   },
   {
    "duration": 34,
    "start_time": "2024-03-08T13:19:02.682Z"
   },
   {
    "duration": 171,
    "start_time": "2024-03-08T13:19:02.718Z"
   },
   {
    "duration": 8,
    "start_time": "2024-03-08T13:19:02.891Z"
   },
   {
    "duration": 307,
    "start_time": "2024-03-08T13:19:02.901Z"
   },
   {
    "duration": 551,
    "start_time": "2024-03-08T13:19:03.209Z"
   },
   {
    "duration": 263,
    "start_time": "2024-03-08T13:19:03.761Z"
   },
   {
    "duration": 5,
    "start_time": "2024-03-08T13:19:04.026Z"
   },
   {
    "duration": 258,
    "start_time": "2024-03-08T13:19:04.033Z"
   },
   {
    "duration": 6,
    "start_time": "2024-03-08T13:19:04.293Z"
   },
   {
    "duration": 23,
    "start_time": "2024-03-08T13:19:04.301Z"
   },
   {
    "duration": 226,
    "start_time": "2024-03-08T13:19:04.326Z"
   },
   {
    "duration": 312,
    "start_time": "2024-03-08T13:19:04.554Z"
   },
   {
    "duration": 24,
    "start_time": "2024-03-08T13:19:04.868Z"
   },
   {
    "duration": 12,
    "start_time": "2024-03-08T13:19:04.893Z"
   },
   {
    "duration": 12,
    "start_time": "2024-03-08T13:19:04.907Z"
   },
   {
    "duration": 22,
    "start_time": "2024-03-08T13:19:04.921Z"
   },
   {
    "duration": 261,
    "start_time": "2024-03-08T13:19:04.945Z"
   },
   {
    "duration": 12,
    "start_time": "2024-03-08T13:19:05.208Z"
   },
   {
    "duration": 48,
    "start_time": "2024-03-08T15:25:41.101Z"
   },
   {
    "duration": 1131,
    "start_time": "2024-03-08T15:26:25.951Z"
   },
   {
    "duration": 250,
    "start_time": "2024-03-08T15:26:27.084Z"
   },
   {
    "duration": 4,
    "start_time": "2024-03-08T15:26:27.335Z"
   },
   {
    "duration": 21,
    "start_time": "2024-03-08T15:26:27.341Z"
   },
   {
    "duration": 36,
    "start_time": "2024-03-08T15:26:27.363Z"
   },
   {
    "duration": 14,
    "start_time": "2024-03-08T15:26:27.400Z"
   },
   {
    "duration": 11,
    "start_time": "2024-03-08T15:26:27.415Z"
   },
   {
    "duration": 27,
    "start_time": "2024-03-08T15:26:27.427Z"
   },
   {
    "duration": 5,
    "start_time": "2024-03-08T15:26:27.455Z"
   },
   {
    "duration": 5,
    "start_time": "2024-03-08T15:26:27.463Z"
   },
   {
    "duration": 8,
    "start_time": "2024-03-08T15:26:27.469Z"
   },
   {
    "duration": 16,
    "start_time": "2024-03-08T15:26:27.478Z"
   },
   {
    "duration": 12,
    "start_time": "2024-03-08T15:26:27.495Z"
   },
   {
    "duration": 12,
    "start_time": "2024-03-08T15:26:27.508Z"
   },
   {
    "duration": 22,
    "start_time": "2024-03-08T15:26:27.522Z"
   },
   {
    "duration": 24,
    "start_time": "2024-03-08T15:26:27.546Z"
   },
   {
    "duration": 24,
    "start_time": "2024-03-08T15:26:27.572Z"
   },
   {
    "duration": 5,
    "start_time": "2024-03-08T15:26:27.598Z"
   },
   {
    "duration": 13,
    "start_time": "2024-03-08T15:26:27.604Z"
   },
   {
    "duration": 29693,
    "start_time": "2024-03-08T15:26:27.618Z"
   },
   {
    "duration": 12,
    "start_time": "2024-03-08T15:26:57.313Z"
   },
   {
    "duration": 11,
    "start_time": "2024-03-08T15:26:57.327Z"
   },
   {
    "duration": 19,
    "start_time": "2024-03-08T15:26:57.339Z"
   },
   {
    "duration": 25,
    "start_time": "2024-03-08T15:26:57.359Z"
   },
   {
    "duration": 28,
    "start_time": "2024-03-08T15:26:57.386Z"
   },
   {
    "duration": 26,
    "start_time": "2024-03-08T15:26:57.415Z"
   },
   {
    "duration": 5,
    "start_time": "2024-03-08T15:26:57.443Z"
   },
   {
    "duration": 13,
    "start_time": "2024-03-08T15:26:57.452Z"
   },
   {
    "duration": 154,
    "start_time": "2024-03-08T15:26:57.467Z"
   },
   {
    "duration": 7,
    "start_time": "2024-03-08T15:26:57.623Z"
   },
   {
    "duration": 265,
    "start_time": "2024-03-08T15:26:57.631Z"
   },
   {
    "duration": 466,
    "start_time": "2024-03-08T15:26:57.897Z"
   },
   {
    "duration": 227,
    "start_time": "2024-03-08T15:26:58.365Z"
   },
   {
    "duration": 5,
    "start_time": "2024-03-08T15:26:58.594Z"
   },
   {
    "duration": 230,
    "start_time": "2024-03-08T15:26:58.600Z"
   },
   {
    "duration": 5,
    "start_time": "2024-03-08T15:26:58.832Z"
   },
   {
    "duration": 20,
    "start_time": "2024-03-08T15:26:58.838Z"
   },
   {
    "duration": 195,
    "start_time": "2024-03-08T15:26:58.860Z"
   },
   {
    "duration": 241,
    "start_time": "2024-03-08T15:26:59.057Z"
   },
   {
    "duration": 9,
    "start_time": "2024-03-08T15:26:59.300Z"
   },
   {
    "duration": 31,
    "start_time": "2024-03-08T15:26:59.311Z"
   },
   {
    "duration": 69,
    "start_time": "2024-03-08T15:26:59.343Z"
   },
   {
    "duration": 56,
    "start_time": "2024-03-08T15:26:59.414Z"
   },
   {
    "duration": 282,
    "start_time": "2024-03-08T15:26:59.471Z"
   },
   {
    "duration": 9,
    "start_time": "2024-03-08T15:26:59.755Z"
   },
   {
    "duration": 35,
    "start_time": "2024-03-08T15:26:59.766Z"
   },
   {
    "duration": 10,
    "start_time": "2024-03-08T15:29:01.002Z"
   },
   {
    "duration": 10,
    "start_time": "2024-03-08T15:29:19.585Z"
   },
   {
    "duration": 11,
    "start_time": "2024-03-08T15:29:47.572Z"
   },
   {
    "duration": 16,
    "start_time": "2024-03-08T15:31:27.374Z"
   },
   {
    "duration": 219,
    "start_time": "2024-03-08T15:34:29.349Z"
   },
   {
    "duration": 15,
    "start_time": "2024-03-08T15:36:18.879Z"
   },
   {
    "duration": 1660,
    "start_time": "2024-03-08T15:37:13.418Z"
   },
   {
    "duration": 188,
    "start_time": "2024-03-08T15:37:26.377Z"
   },
   {
    "duration": 7,
    "start_time": "2024-03-08T17:11:48.233Z"
   },
   {
    "duration": 7,
    "start_time": "2024-03-08T17:18:25.607Z"
   },
   {
    "duration": 11,
    "start_time": "2024-03-08T17:24:05.557Z"
   },
   {
    "duration": 13,
    "start_time": "2024-03-08T17:26:10.986Z"
   },
   {
    "duration": 12,
    "start_time": "2024-03-08T17:27:39.567Z"
   },
   {
    "duration": 4,
    "start_time": "2024-03-08T17:28:46.224Z"
   },
   {
    "duration": 12,
    "start_time": "2024-03-08T17:28:52.894Z"
   },
   {
    "duration": 12,
    "start_time": "2024-03-08T17:29:27.364Z"
   },
   {
    "duration": 13,
    "start_time": "2024-03-08T17:29:36.400Z"
   },
   {
    "duration": 14,
    "start_time": "2024-03-08T17:32:02.439Z"
   },
   {
    "duration": 176,
    "start_time": "2024-03-08T18:13:28.180Z"
   },
   {
    "duration": 74,
    "start_time": "2024-03-08T20:48:13.265Z"
   },
   {
    "duration": 1159,
    "start_time": "2024-03-08T20:48:19.127Z"
   },
   {
    "duration": 170,
    "start_time": "2024-03-08T20:48:20.288Z"
   },
   {
    "duration": 5,
    "start_time": "2024-03-08T20:48:20.460Z"
   },
   {
    "duration": 9,
    "start_time": "2024-03-08T20:48:20.467Z"
   },
   {
    "duration": 18,
    "start_time": "2024-03-08T20:48:20.479Z"
   },
   {
    "duration": 15,
    "start_time": "2024-03-08T20:48:20.499Z"
   },
   {
    "duration": 6,
    "start_time": "2024-03-08T20:48:20.516Z"
   },
   {
    "duration": 44,
    "start_time": "2024-03-08T20:48:20.524Z"
   },
   {
    "duration": 5,
    "start_time": "2024-03-08T20:48:20.570Z"
   },
   {
    "duration": 5,
    "start_time": "2024-03-08T20:48:20.576Z"
   },
   {
    "duration": 4,
    "start_time": "2024-03-08T20:48:20.583Z"
   },
   {
    "duration": 11,
    "start_time": "2024-03-08T20:48:20.588Z"
   },
   {
    "duration": 15,
    "start_time": "2024-03-08T20:48:20.600Z"
   },
   {
    "duration": 58,
    "start_time": "2024-03-08T20:48:20.618Z"
   },
   {
    "duration": 9,
    "start_time": "2024-03-08T20:48:20.678Z"
   },
   {
    "duration": 18,
    "start_time": "2024-03-08T20:48:20.688Z"
   },
   {
    "duration": 20,
    "start_time": "2024-03-08T20:48:20.708Z"
   },
   {
    "duration": 37,
    "start_time": "2024-03-08T20:48:20.730Z"
   },
   {
    "duration": 27,
    "start_time": "2024-03-08T20:48:20.769Z"
   },
   {
    "duration": 29722,
    "start_time": "2024-03-08T20:48:20.798Z"
   },
   {
    "duration": 3,
    "start_time": "2024-03-08T20:48:50.522Z"
   },
   {
    "duration": 6,
    "start_time": "2024-03-08T20:48:50.527Z"
   },
   {
    "duration": 35,
    "start_time": "2024-03-08T20:48:50.534Z"
   },
   {
    "duration": 4,
    "start_time": "2024-03-08T20:48:50.570Z"
   },
   {
    "duration": 19,
    "start_time": "2024-03-08T20:48:50.575Z"
   },
   {
    "duration": 7,
    "start_time": "2024-03-08T20:48:50.596Z"
   },
   {
    "duration": 4,
    "start_time": "2024-03-08T20:48:50.604Z"
   },
   {
    "duration": 20,
    "start_time": "2024-03-08T20:48:50.609Z"
   },
   {
    "duration": 190,
    "start_time": "2024-03-08T20:48:50.630Z"
   },
   {
    "duration": 7,
    "start_time": "2024-03-08T20:48:50.822Z"
   },
   {
    "duration": 277,
    "start_time": "2024-03-08T20:48:50.830Z"
   },
   {
    "duration": 498,
    "start_time": "2024-03-08T20:48:51.108Z"
   },
   {
    "duration": 248,
    "start_time": "2024-03-08T20:48:51.608Z"
   },
   {
    "duration": 10,
    "start_time": "2024-03-08T20:48:51.857Z"
   },
   {
    "duration": 235,
    "start_time": "2024-03-08T20:48:51.869Z"
   },
   {
    "duration": 4,
    "start_time": "2024-03-08T20:48:52.105Z"
   },
   {
    "duration": 21,
    "start_time": "2024-03-08T20:48:52.110Z"
   },
   {
    "duration": 188,
    "start_time": "2024-03-08T20:48:52.132Z"
   },
   {
    "duration": 252,
    "start_time": "2024-03-08T20:48:52.321Z"
   },
   {
    "duration": 11,
    "start_time": "2024-03-08T20:48:52.575Z"
   },
   {
    "duration": 13,
    "start_time": "2024-03-08T20:48:52.589Z"
   },
   {
    "duration": 11,
    "start_time": "2024-03-08T20:48:52.604Z"
   },
   {
    "duration": 56,
    "start_time": "2024-03-08T20:48:52.617Z"
   },
   {
    "duration": 200,
    "start_time": "2024-03-08T20:48:52.674Z"
   },
   {
    "duration": 9,
    "start_time": "2024-03-08T20:48:52.875Z"
   },
   {
    "duration": 11,
    "start_time": "2024-03-08T20:48:52.885Z"
   },
   {
    "duration": 10,
    "start_time": "2024-03-08T20:48:52.897Z"
   },
   {
    "duration": 10,
    "start_time": "2024-03-08T20:48:52.908Z"
   },
   {
    "duration": 58,
    "start_time": "2024-03-08T20:48:52.919Z"
   },
   {
    "duration": 194,
    "start_time": "2024-03-08T20:48:52.979Z"
   },
   {
    "duration": 4,
    "start_time": "2024-03-08T20:48:53.175Z"
   },
   {
    "duration": 26,
    "start_time": "2024-03-08T20:48:53.181Z"
   },
   {
    "duration": 10,
    "start_time": "2024-03-08T20:48:53.209Z"
   },
   {
    "duration": 11,
    "start_time": "2024-03-08T20:48:53.220Z"
   },
   {
    "duration": 41,
    "start_time": "2024-03-08T20:48:53.233Z"
   },
   {
    "duration": 192,
    "start_time": "2024-03-08T20:48:53.275Z"
   },
   {
    "duration": 67,
    "start_time": "2024-03-08T20:48:53.469Z"
   },
   {
    "duration": 26,
    "start_time": "2024-03-08T20:49:05.613Z"
   },
   {
    "duration": 25,
    "start_time": "2024-03-08T20:50:07.215Z"
   },
   {
    "duration": 1267,
    "start_time": "2024-03-08T20:52:15.971Z"
   },
   {
    "duration": 11,
    "start_time": "2024-03-08T20:52:25.835Z"
   },
   {
    "duration": 3,
    "start_time": "2024-03-08T20:59:23.183Z"
   },
   {
    "duration": 9,
    "start_time": "2024-03-08T21:00:21.692Z"
   },
   {
    "duration": 11,
    "start_time": "2024-03-08T21:00:58.543Z"
   },
   {
    "duration": 12,
    "start_time": "2024-03-08T21:05:09.799Z"
   },
   {
    "duration": 21,
    "start_time": "2024-03-08T21:06:55.660Z"
   },
   {
    "duration": 20,
    "start_time": "2024-03-08T21:07:03.333Z"
   },
   {
    "duration": 4,
    "start_time": "2024-03-08T21:07:27.190Z"
   },
   {
    "duration": 13,
    "start_time": "2024-03-08T21:07:38.071Z"
   },
   {
    "duration": 21,
    "start_time": "2024-03-08T21:07:43.430Z"
   },
   {
    "duration": 21,
    "start_time": "2024-03-08T21:07:56.290Z"
   },
   {
    "duration": 15,
    "start_time": "2024-03-08T21:08:42.911Z"
   },
   {
    "duration": 14,
    "start_time": "2024-03-08T21:08:50.462Z"
   },
   {
    "duration": 12,
    "start_time": "2024-03-08T21:21:36.488Z"
   },
   {
    "duration": 22,
    "start_time": "2024-03-08T21:21:54.879Z"
   },
   {
    "duration": 21,
    "start_time": "2024-03-08T21:22:06.129Z"
   },
   {
    "duration": 3,
    "start_time": "2024-03-08T21:25:25.579Z"
   },
   {
    "duration": 67,
    "start_time": "2024-03-08T21:25:25.584Z"
   },
   {
    "duration": 4,
    "start_time": "2024-03-08T21:25:25.652Z"
   },
   {
    "duration": 6,
    "start_time": "2024-03-08T21:25:25.657Z"
   },
   {
    "duration": 20,
    "start_time": "2024-03-08T21:25:25.665Z"
   },
   {
    "duration": 16,
    "start_time": "2024-03-08T21:25:25.687Z"
   },
   {
    "duration": 5,
    "start_time": "2024-03-08T21:25:25.705Z"
   },
   {
    "duration": 4,
    "start_time": "2024-03-08T21:25:25.712Z"
   },
   {
    "duration": 5,
    "start_time": "2024-03-08T21:25:25.717Z"
   },
   {
    "duration": 6,
    "start_time": "2024-03-08T21:25:25.723Z"
   },
   {
    "duration": 38,
    "start_time": "2024-03-08T21:25:25.730Z"
   },
   {
    "duration": 6,
    "start_time": "2024-03-08T21:25:25.769Z"
   },
   {
    "duration": 12,
    "start_time": "2024-03-08T21:25:25.776Z"
   },
   {
    "duration": 13,
    "start_time": "2024-03-08T21:25:25.791Z"
   },
   {
    "duration": 9,
    "start_time": "2024-03-08T21:25:25.805Z"
   },
   {
    "duration": 59,
    "start_time": "2024-03-08T21:25:25.815Z"
   },
   {
    "duration": 15,
    "start_time": "2024-03-08T21:25:25.876Z"
   },
   {
    "duration": 5,
    "start_time": "2024-03-08T21:25:25.893Z"
   },
   {
    "duration": 11,
    "start_time": "2024-03-08T21:25:25.900Z"
   },
   {
    "duration": 30363,
    "start_time": "2024-03-08T21:25:25.912Z"
   },
   {
    "duration": 4,
    "start_time": "2024-03-08T21:25:56.276Z"
   },
   {
    "duration": 6,
    "start_time": "2024-03-08T21:25:56.282Z"
   },
   {
    "duration": 18,
    "start_time": "2024-03-08T21:25:56.290Z"
   },
   {
    "duration": 4,
    "start_time": "2024-03-08T21:25:56.309Z"
   },
   {
    "duration": 52,
    "start_time": "2024-03-08T21:25:56.314Z"
   },
   {
    "duration": 8,
    "start_time": "2024-03-08T21:25:56.368Z"
   },
   {
    "duration": 7,
    "start_time": "2024-03-08T21:25:56.378Z"
   },
   {
    "duration": 15,
    "start_time": "2024-03-08T21:25:56.386Z"
   },
   {
    "duration": 179,
    "start_time": "2024-03-08T21:25:56.402Z"
   },
   {
    "duration": 7,
    "start_time": "2024-03-08T21:25:56.583Z"
   },
   {
    "duration": 269,
    "start_time": "2024-03-08T21:25:56.592Z"
   },
   {
    "duration": 471,
    "start_time": "2024-03-08T21:25:56.865Z"
   },
   {
    "duration": 320,
    "start_time": "2024-03-08T21:25:57.338Z"
   },
   {
    "duration": 4,
    "start_time": "2024-03-08T21:25:57.665Z"
   },
   {
    "duration": 245,
    "start_time": "2024-03-08T21:25:57.671Z"
   },
   {
    "duration": 5,
    "start_time": "2024-03-08T21:25:57.918Z"
   },
   {
    "duration": 42,
    "start_time": "2024-03-08T21:25:57.926Z"
   },
   {
    "duration": 173,
    "start_time": "2024-03-08T21:25:57.970Z"
   },
   {
    "duration": 192,
    "start_time": "2024-03-08T21:25:58.145Z"
   },
   {
    "duration": 11,
    "start_time": "2024-03-08T21:25:58.338Z"
   },
   {
    "duration": 10,
    "start_time": "2024-03-08T21:25:58.365Z"
   },
   {
    "duration": 10,
    "start_time": "2024-03-08T21:25:58.377Z"
   },
   {
    "duration": 14,
    "start_time": "2024-03-08T21:25:58.389Z"
   },
   {
    "duration": 240,
    "start_time": "2024-03-08T21:25:58.405Z"
   },
   {
    "duration": 19,
    "start_time": "2024-03-08T21:25:58.647Z"
   },
   {
    "duration": 11,
    "start_time": "2024-03-08T21:25:58.668Z"
   },
   {
    "duration": 10,
    "start_time": "2024-03-08T21:25:58.681Z"
   },
   {
    "duration": 10,
    "start_time": "2024-03-08T21:25:58.692Z"
   },
   {
    "duration": 15,
    "start_time": "2024-03-08T21:25:58.704Z"
   },
   {
    "duration": 245,
    "start_time": "2024-03-08T21:25:58.765Z"
   },
   {
    "duration": 5,
    "start_time": "2024-03-08T21:25:59.012Z"
   },
   {
    "duration": 17,
    "start_time": "2024-03-08T21:25:59.018Z"
   },
   {
    "duration": 33,
    "start_time": "2024-03-08T21:25:59.037Z"
   },
   {
    "duration": 11,
    "start_time": "2024-03-08T21:25:59.071Z"
   },
   {
    "duration": 13,
    "start_time": "2024-03-08T21:25:59.083Z"
   },
   {
    "duration": 216,
    "start_time": "2024-03-08T21:25:59.098Z"
   },
   {
    "duration": 13,
    "start_time": "2024-03-08T21:25:59.316Z"
   },
   {
    "duration": 39,
    "start_time": "2024-03-08T21:25:59.331Z"
   },
   {
    "duration": 14,
    "start_time": "2024-03-08T21:31:25.481Z"
   },
   {
    "duration": 13,
    "start_time": "2024-03-08T21:31:35.417Z"
   },
   {
    "duration": 14,
    "start_time": "2024-03-08T21:34:52.818Z"
   },
   {
    "duration": 11,
    "start_time": "2024-03-08T21:36:41.098Z"
   },
   {
    "duration": 11,
    "start_time": "2024-03-08T21:37:08.869Z"
   },
   {
    "duration": 12,
    "start_time": "2024-03-08T21:37:17.687Z"
   },
   {
    "duration": 12,
    "start_time": "2024-03-08T21:37:41.139Z"
   },
   {
    "duration": 71,
    "start_time": "2024-03-08T21:37:52.266Z"
   },
   {
    "duration": 12,
    "start_time": "2024-03-08T21:37:58.396Z"
   },
   {
    "duration": 12,
    "start_time": "2024-03-08T21:38:01.414Z"
   },
   {
    "duration": 12,
    "start_time": "2024-03-08T21:38:47.648Z"
   },
   {
    "duration": 12,
    "start_time": "2024-03-08T21:39:18.289Z"
   },
   {
    "duration": 4,
    "start_time": "2024-03-08T23:05:04.330Z"
   },
   {
    "duration": 76,
    "start_time": "2024-03-08T23:05:04.335Z"
   },
   {
    "duration": 4,
    "start_time": "2024-03-08T23:05:04.412Z"
   },
   {
    "duration": 18,
    "start_time": "2024-03-08T23:05:04.418Z"
   },
   {
    "duration": 30,
    "start_time": "2024-03-08T23:05:04.438Z"
   },
   {
    "duration": 14,
    "start_time": "2024-03-08T23:05:04.469Z"
   },
   {
    "duration": 7,
    "start_time": "2024-03-08T23:05:04.485Z"
   },
   {
    "duration": 9,
    "start_time": "2024-03-08T23:05:04.494Z"
   },
   {
    "duration": 19,
    "start_time": "2024-03-08T23:05:04.504Z"
   },
   {
    "duration": 20,
    "start_time": "2024-03-08T23:05:04.525Z"
   },
   {
    "duration": 20,
    "start_time": "2024-03-08T23:05:04.546Z"
   },
   {
    "duration": 5,
    "start_time": "2024-03-08T23:05:04.568Z"
   },
   {
    "duration": 11,
    "start_time": "2024-03-08T23:05:04.574Z"
   },
   {
    "duration": 13,
    "start_time": "2024-03-08T23:05:04.587Z"
   },
   {
    "duration": 9,
    "start_time": "2024-03-08T23:05:04.602Z"
   },
   {
    "duration": 53,
    "start_time": "2024-03-08T23:05:04.612Z"
   },
   {
    "duration": 16,
    "start_time": "2024-03-08T23:05:04.667Z"
   },
   {
    "duration": 10,
    "start_time": "2024-03-08T23:05:04.685Z"
   },
   {
    "duration": 12,
    "start_time": "2024-03-08T23:05:04.696Z"
   },
   {
    "duration": 30772,
    "start_time": "2024-03-08T23:05:04.709Z"
   },
   {
    "duration": 4,
    "start_time": "2024-03-08T23:05:35.483Z"
   },
   {
    "duration": 8,
    "start_time": "2024-03-08T23:05:35.488Z"
   },
   {
    "duration": 17,
    "start_time": "2024-03-08T23:05:35.498Z"
   },
   {
    "duration": 4,
    "start_time": "2024-03-08T23:05:35.516Z"
   },
   {
    "duration": 47,
    "start_time": "2024-03-08T23:05:35.522Z"
   },
   {
    "duration": 8,
    "start_time": "2024-03-08T23:05:35.571Z"
   },
   {
    "duration": 7,
    "start_time": "2024-03-08T23:05:35.580Z"
   },
   {
    "duration": 12,
    "start_time": "2024-03-08T23:05:35.588Z"
   },
   {
    "duration": 185,
    "start_time": "2024-03-08T23:05:35.601Z"
   },
   {
    "duration": 8,
    "start_time": "2024-03-08T23:05:35.787Z"
   },
   {
    "duration": 297,
    "start_time": "2024-03-08T23:05:35.797Z"
   },
   {
    "duration": 606,
    "start_time": "2024-03-08T23:05:36.096Z"
   },
   {
    "duration": 247,
    "start_time": "2024-03-08T23:05:36.704Z"
   },
   {
    "duration": 5,
    "start_time": "2024-03-08T23:05:36.952Z"
   },
   {
    "duration": 242,
    "start_time": "2024-03-08T23:05:36.964Z"
   },
   {
    "duration": 5,
    "start_time": "2024-03-08T23:05:37.207Z"
   },
   {
    "duration": 25,
    "start_time": "2024-03-08T23:05:37.213Z"
   },
   {
    "duration": 213,
    "start_time": "2024-03-08T23:05:37.240Z"
   },
   {
    "duration": 202,
    "start_time": "2024-03-08T23:05:37.454Z"
   },
   {
    "duration": 17,
    "start_time": "2024-03-08T23:05:37.657Z"
   },
   {
    "duration": 10,
    "start_time": "2024-03-08T23:05:37.678Z"
   },
   {
    "duration": 12,
    "start_time": "2024-03-08T23:05:37.689Z"
   },
   {
    "duration": 15,
    "start_time": "2024-03-08T23:05:37.702Z"
   },
   {
    "duration": 262,
    "start_time": "2024-03-08T23:05:37.719Z"
   },
   {
    "duration": 11,
    "start_time": "2024-03-08T23:05:37.982Z"
   },
   {
    "duration": 12,
    "start_time": "2024-03-08T23:05:37.995Z"
   },
   {
    "duration": 13,
    "start_time": "2024-03-08T23:05:38.009Z"
   },
   {
    "duration": 46,
    "start_time": "2024-03-08T23:05:38.023Z"
   },
   {
    "duration": 14,
    "start_time": "2024-03-08T23:05:38.071Z"
   },
   {
    "duration": 214,
    "start_time": "2024-03-08T23:05:38.086Z"
   },
   {
    "duration": 5,
    "start_time": "2024-03-08T23:05:38.302Z"
   },
   {
    "duration": 12,
    "start_time": "2024-03-08T23:05:38.308Z"
   },
   {
    "duration": 15,
    "start_time": "2024-03-08T23:05:38.322Z"
   },
   {
    "duration": 13,
    "start_time": "2024-03-08T23:05:38.364Z"
   },
   {
    "duration": 14,
    "start_time": "2024-03-08T23:05:38.379Z"
   },
   {
    "duration": 206,
    "start_time": "2024-03-08T23:05:38.394Z"
   },
   {
    "duration": 12,
    "start_time": "2024-03-08T23:05:38.601Z"
   },
   {
    "duration": 21,
    "start_time": "2024-03-08T23:05:38.615Z"
   },
   {
    "duration": 4,
    "start_time": "2024-03-08T23:12:01.219Z"
   },
   {
    "duration": 84,
    "start_time": "2024-03-08T23:12:01.224Z"
   },
   {
    "duration": 4,
    "start_time": "2024-03-08T23:12:01.309Z"
   },
   {
    "duration": 22,
    "start_time": "2024-03-08T23:12:01.315Z"
   },
   {
    "duration": 36,
    "start_time": "2024-03-08T23:12:01.339Z"
   },
   {
    "duration": 45,
    "start_time": "2024-03-08T23:12:01.377Z"
   },
   {
    "duration": 12,
    "start_time": "2024-03-08T23:12:01.424Z"
   },
   {
    "duration": 32,
    "start_time": "2024-03-08T23:12:01.438Z"
   },
   {
    "duration": 18,
    "start_time": "2024-03-08T23:12:01.472Z"
   },
   {
    "duration": 39,
    "start_time": "2024-03-08T23:12:01.491Z"
   },
   {
    "duration": 32,
    "start_time": "2024-03-08T23:12:01.532Z"
   },
   {
    "duration": 50,
    "start_time": "2024-03-08T23:12:01.566Z"
   },
   {
    "duration": 42,
    "start_time": "2024-03-08T23:12:01.618Z"
   },
   {
    "duration": 56,
    "start_time": "2024-03-08T23:12:01.664Z"
   },
   {
    "duration": 20,
    "start_time": "2024-03-08T23:12:01.722Z"
   },
   {
    "duration": 50,
    "start_time": "2024-03-08T23:12:01.744Z"
   },
   {
    "duration": 43,
    "start_time": "2024-03-08T23:12:01.795Z"
   },
   {
    "duration": 8,
    "start_time": "2024-03-08T23:12:01.840Z"
   },
   {
    "duration": 42,
    "start_time": "2024-03-08T23:12:01.850Z"
   },
   {
    "duration": 30441,
    "start_time": "2024-03-08T23:12:01.894Z"
   },
   {
    "duration": 4,
    "start_time": "2024-03-08T23:12:32.336Z"
   },
   {
    "duration": 8,
    "start_time": "2024-03-08T23:12:32.341Z"
   },
   {
    "duration": 30,
    "start_time": "2024-03-08T23:12:32.350Z"
   },
   {
    "duration": 5,
    "start_time": "2024-03-08T23:12:32.381Z"
   },
   {
    "duration": 21,
    "start_time": "2024-03-08T23:12:32.388Z"
   },
   {
    "duration": 9,
    "start_time": "2024-03-08T23:12:32.411Z"
   },
   {
    "duration": 45,
    "start_time": "2024-03-08T23:12:32.422Z"
   },
   {
    "duration": 13,
    "start_time": "2024-03-08T23:12:32.469Z"
   },
   {
    "duration": 173,
    "start_time": "2024-03-08T23:12:32.484Z"
   },
   {
    "duration": 7,
    "start_time": "2024-03-08T23:12:32.664Z"
   },
   {
    "duration": 371,
    "start_time": "2024-03-08T23:12:32.673Z"
   },
   {
    "duration": 490,
    "start_time": "2024-03-08T23:12:33.046Z"
   },
   {
    "duration": 240,
    "start_time": "2024-03-08T23:12:33.538Z"
   },
   {
    "duration": 5,
    "start_time": "2024-03-08T23:12:33.780Z"
   },
   {
    "duration": 234,
    "start_time": "2024-03-08T23:12:33.787Z"
   },
   {
    "duration": 5,
    "start_time": "2024-03-08T23:12:34.023Z"
   },
   {
    "duration": 50,
    "start_time": "2024-03-08T23:12:34.029Z"
   },
   {
    "duration": 177,
    "start_time": "2024-03-08T23:12:34.081Z"
   },
   {
    "duration": 214,
    "start_time": "2024-03-08T23:12:34.260Z"
   },
   {
    "duration": 11,
    "start_time": "2024-03-08T23:12:34.475Z"
   },
   {
    "duration": 10,
    "start_time": "2024-03-08T23:12:34.490Z"
   },
   {
    "duration": 10,
    "start_time": "2024-03-08T23:12:34.501Z"
   },
   {
    "duration": 14,
    "start_time": "2024-03-08T23:12:34.513Z"
   },
   {
    "duration": 238,
    "start_time": "2024-03-08T23:12:34.529Z"
   },
   {
    "duration": 83,
    "start_time": "2024-03-08T23:12:34.769Z"
   },
   {
    "duration": 11,
    "start_time": "2024-03-08T23:12:34.864Z"
   },
   {
    "duration": 9,
    "start_time": "2024-03-08T23:12:34.877Z"
   },
   {
    "duration": 10,
    "start_time": "2024-03-08T23:12:34.887Z"
   },
   {
    "duration": 13,
    "start_time": "2024-03-08T23:12:34.898Z"
   },
   {
    "duration": 222,
    "start_time": "2024-03-08T23:12:34.912Z"
   },
   {
    "duration": 4,
    "start_time": "2024-03-08T23:12:35.136Z"
   },
   {
    "duration": 24,
    "start_time": "2024-03-08T23:12:35.142Z"
   },
   {
    "duration": 11,
    "start_time": "2024-03-08T23:12:35.167Z"
   },
   {
    "duration": 12,
    "start_time": "2024-03-08T23:12:35.179Z"
   },
   {
    "duration": 13,
    "start_time": "2024-03-08T23:12:35.192Z"
   },
   {
    "duration": 216,
    "start_time": "2024-03-08T23:12:35.206Z"
   },
   {
    "duration": 11,
    "start_time": "2024-03-08T23:12:35.424Z"
   },
   {
    "duration": 10,
    "start_time": "2024-03-08T23:12:35.437Z"
   },
   {
    "duration": 3,
    "start_time": "2024-03-08T23:14:57.518Z"
   },
   {
    "duration": 68,
    "start_time": "2024-03-08T23:14:57.522Z"
   },
   {
    "duration": 3,
    "start_time": "2024-03-08T23:14:57.592Z"
   },
   {
    "duration": 4,
    "start_time": "2024-03-08T23:14:57.597Z"
   },
   {
    "duration": 15,
    "start_time": "2024-03-08T23:14:57.603Z"
   },
   {
    "duration": 52,
    "start_time": "2024-03-08T23:14:57.620Z"
   },
   {
    "duration": 6,
    "start_time": "2024-03-08T23:14:57.674Z"
   },
   {
    "duration": 7,
    "start_time": "2024-03-08T23:14:57.681Z"
   },
   {
    "duration": 5,
    "start_time": "2024-03-08T23:14:57.689Z"
   },
   {
    "duration": 7,
    "start_time": "2024-03-08T23:14:57.695Z"
   },
   {
    "duration": 4,
    "start_time": "2024-03-08T23:14:57.704Z"
   },
   {
    "duration": 6,
    "start_time": "2024-03-08T23:14:57.709Z"
   },
   {
    "duration": 56,
    "start_time": "2024-03-08T23:14:57.717Z"
   },
   {
    "duration": 16,
    "start_time": "2024-03-08T23:14:57.775Z"
   },
   {
    "duration": 9,
    "start_time": "2024-03-08T23:14:57.793Z"
   },
   {
    "duration": 14,
    "start_time": "2024-03-08T23:14:57.803Z"
   },
   {
    "duration": 6,
    "start_time": "2024-03-08T23:14:57.819Z"
   },
   {
    "duration": 46,
    "start_time": "2024-03-08T23:14:57.826Z"
   },
   {
    "duration": 31114,
    "start_time": "2024-03-08T23:14:57.873Z"
   },
   {
    "duration": 4,
    "start_time": "2024-03-08T23:15:28.989Z"
   },
   {
    "duration": 10,
    "start_time": "2024-03-08T23:15:28.995Z"
   },
   {
    "duration": 23,
    "start_time": "2024-03-08T23:15:29.007Z"
   },
   {
    "duration": 4,
    "start_time": "2024-03-08T23:15:29.031Z"
   },
   {
    "duration": 43,
    "start_time": "2024-03-08T23:15:29.037Z"
   },
   {
    "duration": 18,
    "start_time": "2024-03-08T23:15:29.082Z"
   },
   {
    "duration": 5,
    "start_time": "2024-03-08T23:15:29.101Z"
   },
   {
    "duration": 14,
    "start_time": "2024-03-08T23:15:29.107Z"
   },
   {
    "duration": 164,
    "start_time": "2024-03-08T23:15:29.123Z"
   },
   {
    "duration": 6,
    "start_time": "2024-03-08T23:15:29.291Z"
   },
   {
    "duration": 273,
    "start_time": "2024-03-08T23:15:29.299Z"
   },
   {
    "duration": 491,
    "start_time": "2024-03-08T23:15:29.574Z"
   },
   {
    "duration": 227,
    "start_time": "2024-03-08T23:15:30.067Z"
   },
   {
    "duration": 4,
    "start_time": "2024-03-08T23:15:30.296Z"
   },
   {
    "duration": 252,
    "start_time": "2024-03-08T23:15:30.302Z"
   },
   {
    "duration": 12,
    "start_time": "2024-03-08T23:15:30.555Z"
   },
   {
    "duration": 73,
    "start_time": "2024-03-08T23:15:30.568Z"
   },
   {
    "duration": 297,
    "start_time": "2024-03-08T23:15:30.643Z"
   },
   {
    "duration": 176,
    "start_time": "2024-03-08T23:15:30.942Z"
   },
   {
    "duration": 11,
    "start_time": "2024-03-08T23:15:31.120Z"
   },
   {
    "duration": 51,
    "start_time": "2024-03-08T23:15:31.132Z"
   },
   {
    "duration": 52,
    "start_time": "2024-03-08T23:15:31.184Z"
   },
   {
    "duration": 30,
    "start_time": "2024-03-08T23:15:31.237Z"
   },
   {
    "duration": 240,
    "start_time": "2024-03-08T23:15:31.268Z"
   },
   {
    "duration": 10,
    "start_time": "2024-03-08T23:15:31.510Z"
   },
   {
    "duration": 35,
    "start_time": "2024-03-08T23:15:31.521Z"
   },
   {
    "duration": 30,
    "start_time": "2024-03-08T23:15:31.557Z"
   },
   {
    "duration": 23,
    "start_time": "2024-03-08T23:15:31.589Z"
   },
   {
    "duration": 27,
    "start_time": "2024-03-08T23:15:31.614Z"
   },
   {
    "duration": 218,
    "start_time": "2024-03-08T23:15:31.643Z"
   },
   {
    "duration": 5,
    "start_time": "2024-03-08T23:15:31.863Z"
   },
   {
    "duration": 19,
    "start_time": "2024-03-08T23:15:31.869Z"
   },
   {
    "duration": 15,
    "start_time": "2024-03-08T23:15:31.889Z"
   },
   {
    "duration": 18,
    "start_time": "2024-03-08T23:15:31.906Z"
   },
   {
    "duration": 45,
    "start_time": "2024-03-08T23:15:31.925Z"
   },
   {
    "duration": 191,
    "start_time": "2024-03-08T23:15:31.971Z"
   },
   {
    "duration": 12,
    "start_time": "2024-03-08T23:15:32.165Z"
   },
   {
    "duration": 11,
    "start_time": "2024-03-08T23:15:32.179Z"
   },
   {
    "duration": 16,
    "start_time": "2024-03-08T23:16:59.896Z"
   },
   {
    "duration": 3,
    "start_time": "2024-03-08T23:17:05.324Z"
   },
   {
    "duration": 75,
    "start_time": "2024-03-08T23:17:05.333Z"
   },
   {
    "duration": 4,
    "start_time": "2024-03-08T23:17:05.411Z"
   },
   {
    "duration": 9,
    "start_time": "2024-03-08T23:17:05.417Z"
   },
   {
    "duration": 41,
    "start_time": "2024-03-08T23:17:05.428Z"
   },
   {
    "duration": 11,
    "start_time": "2024-03-08T23:17:05.472Z"
   },
   {
    "duration": 10,
    "start_time": "2024-03-08T23:17:05.485Z"
   },
   {
    "duration": 9,
    "start_time": "2024-03-08T23:17:05.496Z"
   },
   {
    "duration": 4,
    "start_time": "2024-03-08T23:17:05.506Z"
   },
   {
    "duration": 16,
    "start_time": "2024-03-08T23:17:05.512Z"
   },
   {
    "duration": 13,
    "start_time": "2024-03-08T23:17:05.529Z"
   },
   {
    "duration": 24,
    "start_time": "2024-03-08T23:17:05.543Z"
   },
   {
    "duration": 19,
    "start_time": "2024-03-08T23:17:05.568Z"
   },
   {
    "duration": 13,
    "start_time": "2024-03-08T23:17:05.589Z"
   },
   {
    "duration": 9,
    "start_time": "2024-03-08T23:17:05.605Z"
   },
   {
    "duration": 14,
    "start_time": "2024-03-08T23:17:05.615Z"
   },
   {
    "duration": 47,
    "start_time": "2024-03-08T23:17:05.630Z"
   },
   {
    "duration": 7,
    "start_time": "2024-03-08T23:17:05.679Z"
   },
   {
    "duration": 11,
    "start_time": "2024-03-08T23:17:05.688Z"
   },
   {
    "duration": 31191,
    "start_time": "2024-03-08T23:17:05.701Z"
   },
   {
    "duration": 4,
    "start_time": "2024-03-08T23:17:36.894Z"
   },
   {
    "duration": 5,
    "start_time": "2024-03-08T23:17:36.899Z"
   },
   {
    "duration": 17,
    "start_time": "2024-03-08T23:17:36.905Z"
   },
   {
    "duration": 3,
    "start_time": "2024-03-08T23:17:36.924Z"
   },
   {
    "duration": 48,
    "start_time": "2024-03-08T23:17:36.929Z"
   },
   {
    "duration": 8,
    "start_time": "2024-03-08T23:17:36.979Z"
   },
   {
    "duration": 4,
    "start_time": "2024-03-08T23:17:36.989Z"
   },
   {
    "duration": 21,
    "start_time": "2024-03-08T23:17:36.994Z"
   },
   {
    "duration": 160,
    "start_time": "2024-03-08T23:17:37.017Z"
   },
   {
    "duration": 7,
    "start_time": "2024-03-08T23:17:37.179Z"
   },
   {
    "duration": 264,
    "start_time": "2024-03-08T23:17:37.188Z"
   },
   {
    "duration": 575,
    "start_time": "2024-03-08T23:17:37.454Z"
   },
   {
    "duration": 231,
    "start_time": "2024-03-08T23:17:38.031Z"
   },
   {
    "duration": 5,
    "start_time": "2024-03-08T23:17:38.265Z"
   },
   {
    "duration": 226,
    "start_time": "2024-03-08T23:17:38.271Z"
   },
   {
    "duration": 5,
    "start_time": "2024-03-08T23:17:38.498Z"
   },
   {
    "duration": 20,
    "start_time": "2024-03-08T23:17:38.504Z"
   },
   {
    "duration": 191,
    "start_time": "2024-03-08T23:17:38.526Z"
   },
   {
    "duration": 186,
    "start_time": "2024-03-08T23:17:38.718Z"
   },
   {
    "duration": 14,
    "start_time": "2024-03-08T23:17:38.906Z"
   },
   {
    "duration": 14,
    "start_time": "2024-03-08T23:17:38.922Z"
   },
   {
    "duration": 14,
    "start_time": "2024-03-08T23:17:38.964Z"
   },
   {
    "duration": 15,
    "start_time": "2024-03-08T23:17:38.979Z"
   },
   {
    "duration": 248,
    "start_time": "2024-03-08T23:17:38.996Z"
   },
   {
    "duration": 9,
    "start_time": "2024-03-08T23:17:39.246Z"
   },
   {
    "duration": 13,
    "start_time": "2024-03-08T23:17:39.265Z"
   },
   {
    "duration": 13,
    "start_time": "2024-03-08T23:17:39.280Z"
   },
   {
    "duration": 14,
    "start_time": "2024-03-08T23:17:39.294Z"
   },
   {
    "duration": 15,
    "start_time": "2024-03-08T23:17:39.309Z"
   },
   {
    "duration": 192,
    "start_time": "2024-03-08T23:17:39.366Z"
   },
   {
    "duration": 8,
    "start_time": "2024-03-08T23:17:39.560Z"
   },
   {
    "duration": 12,
    "start_time": "2024-03-08T23:17:39.570Z"
   },
   {
    "duration": 13,
    "start_time": "2024-03-08T23:17:39.584Z"
   },
   {
    "duration": 12,
    "start_time": "2024-03-08T23:17:39.599Z"
   },
   {
    "duration": 66,
    "start_time": "2024-03-08T23:17:39.613Z"
   },
   {
    "duration": 191,
    "start_time": "2024-03-08T23:17:39.680Z"
   },
   {
    "duration": 11,
    "start_time": "2024-03-08T23:17:39.872Z"
   },
   {
    "duration": 11,
    "start_time": "2024-03-08T23:17:39.885Z"
   },
   {
    "duration": 103,
    "start_time": "2024-03-09T19:47:35.238Z"
   },
   {
    "duration": 45,
    "start_time": "2024-03-09T19:47:43.008Z"
   },
   {
    "duration": 1330,
    "start_time": "2024-03-09T19:47:47.825Z"
   },
   {
    "duration": 270,
    "start_time": "2024-03-09T19:47:49.157Z"
   },
   {
    "duration": 5,
    "start_time": "2024-03-09T19:47:49.429Z"
   },
   {
    "duration": 10,
    "start_time": "2024-03-09T19:47:49.436Z"
   },
   {
    "duration": 34,
    "start_time": "2024-03-09T19:47:49.448Z"
   },
   {
    "duration": 15,
    "start_time": "2024-03-09T19:47:49.484Z"
   },
   {
    "duration": 16,
    "start_time": "2024-03-09T19:47:49.501Z"
   },
   {
    "duration": 11,
    "start_time": "2024-03-09T19:47:49.518Z"
   },
   {
    "duration": 5,
    "start_time": "2024-03-09T19:47:49.531Z"
   },
   {
    "duration": 8,
    "start_time": "2024-03-09T19:47:49.538Z"
   },
   {
    "duration": 25,
    "start_time": "2024-03-09T19:47:49.548Z"
   },
   {
    "duration": 11,
    "start_time": "2024-03-09T19:47:49.575Z"
   },
   {
    "duration": 18,
    "start_time": "2024-03-09T19:47:49.588Z"
   },
   {
    "duration": 21,
    "start_time": "2024-03-09T19:47:49.608Z"
   },
   {
    "duration": 9,
    "start_time": "2024-03-09T19:47:49.631Z"
   },
   {
    "duration": 16,
    "start_time": "2024-03-09T19:47:49.642Z"
   },
   {
    "duration": 32,
    "start_time": "2024-03-09T19:47:49.660Z"
   },
   {
    "duration": 6,
    "start_time": "2024-03-09T19:47:49.694Z"
   },
   {
    "duration": 21,
    "start_time": "2024-03-09T19:47:49.701Z"
   },
   {
    "duration": 34308,
    "start_time": "2024-03-09T19:47:49.724Z"
   },
   {
    "duration": 5,
    "start_time": "2024-03-09T19:48:24.034Z"
   },
   {
    "duration": 20,
    "start_time": "2024-03-09T19:48:24.041Z"
   },
   {
    "duration": 27,
    "start_time": "2024-03-09T19:48:24.063Z"
   },
   {
    "duration": 4,
    "start_time": "2024-03-09T19:48:24.092Z"
   },
   {
    "duration": 43,
    "start_time": "2024-03-09T19:48:24.097Z"
   },
   {
    "duration": 20,
    "start_time": "2024-03-09T19:48:24.142Z"
   },
   {
    "duration": 1615,
    "start_time": "2024-03-09T19:48:24.163Z"
   },
   {
    "duration": 0,
    "start_time": "2024-03-09T19:48:25.781Z"
   },
   {
    "duration": 0,
    "start_time": "2024-03-09T19:48:25.782Z"
   },
   {
    "duration": 0,
    "start_time": "2024-03-09T19:48:25.784Z"
   },
   {
    "duration": 0,
    "start_time": "2024-03-09T19:48:25.785Z"
   },
   {
    "duration": 0,
    "start_time": "2024-03-09T19:48:25.787Z"
   },
   {
    "duration": 0,
    "start_time": "2024-03-09T19:48:25.788Z"
   },
   {
    "duration": 0,
    "start_time": "2024-03-09T19:48:25.790Z"
   },
   {
    "duration": 0,
    "start_time": "2024-03-09T19:48:25.791Z"
   },
   {
    "duration": 0,
    "start_time": "2024-03-09T19:48:25.793Z"
   },
   {
    "duration": 0,
    "start_time": "2024-03-09T19:48:25.794Z"
   },
   {
    "duration": 0,
    "start_time": "2024-03-09T19:48:25.795Z"
   },
   {
    "duration": 0,
    "start_time": "2024-03-09T19:48:25.796Z"
   },
   {
    "duration": 0,
    "start_time": "2024-03-09T19:48:25.797Z"
   },
   {
    "duration": 0,
    "start_time": "2024-03-09T19:48:25.798Z"
   },
   {
    "duration": 0,
    "start_time": "2024-03-09T19:48:25.799Z"
   },
   {
    "duration": 0,
    "start_time": "2024-03-09T19:48:25.800Z"
   },
   {
    "duration": 0,
    "start_time": "2024-03-09T19:48:25.802Z"
   },
   {
    "duration": 0,
    "start_time": "2024-03-09T19:48:25.803Z"
   },
   {
    "duration": 0,
    "start_time": "2024-03-09T19:48:25.803Z"
   },
   {
    "duration": 0,
    "start_time": "2024-03-09T19:48:25.804Z"
   },
   {
    "duration": 0,
    "start_time": "2024-03-09T19:48:25.805Z"
   },
   {
    "duration": 0,
    "start_time": "2024-03-09T19:48:25.807Z"
   },
   {
    "duration": 0,
    "start_time": "2024-03-09T19:48:25.808Z"
   },
   {
    "duration": 0,
    "start_time": "2024-03-09T19:48:25.810Z"
   },
   {
    "duration": 0,
    "start_time": "2024-03-09T19:48:25.812Z"
   },
   {
    "duration": 0,
    "start_time": "2024-03-09T19:48:25.813Z"
   },
   {
    "duration": 0,
    "start_time": "2024-03-09T19:48:25.815Z"
   },
   {
    "duration": 0,
    "start_time": "2024-03-09T19:48:25.817Z"
   },
   {
    "duration": 0,
    "start_time": "2024-03-09T19:48:25.818Z"
   },
   {
    "duration": 0,
    "start_time": "2024-03-09T19:48:25.820Z"
   },
   {
    "duration": 0,
    "start_time": "2024-03-09T19:48:25.821Z"
   },
   {
    "duration": 6,
    "start_time": "2024-03-09T19:50:24.634Z"
   },
   {
    "duration": 3,
    "start_time": "2024-03-09T19:50:35.679Z"
   },
   {
    "duration": 108,
    "start_time": "2024-03-09T19:50:35.684Z"
   },
   {
    "duration": 4,
    "start_time": "2024-03-09T19:50:35.794Z"
   },
   {
    "duration": 18,
    "start_time": "2024-03-09T19:50:35.800Z"
   },
   {
    "duration": 27,
    "start_time": "2024-03-09T19:50:35.820Z"
   },
   {
    "duration": 20,
    "start_time": "2024-03-09T19:50:35.848Z"
   },
   {
    "duration": 25,
    "start_time": "2024-03-09T19:50:35.870Z"
   },
   {
    "duration": 21,
    "start_time": "2024-03-09T19:50:35.897Z"
   },
   {
    "duration": 9,
    "start_time": "2024-03-09T19:50:35.920Z"
   },
   {
    "duration": 10,
    "start_time": "2024-03-09T19:50:35.931Z"
   },
   {
    "duration": 10,
    "start_time": "2024-03-09T19:50:35.943Z"
   },
   {
    "duration": 10,
    "start_time": "2024-03-09T19:50:35.955Z"
   },
   {
    "duration": 33,
    "start_time": "2024-03-09T19:50:35.969Z"
   },
   {
    "duration": 15,
    "start_time": "2024-03-09T19:50:36.004Z"
   },
   {
    "duration": 20,
    "start_time": "2024-03-09T19:50:36.021Z"
   },
   {
    "duration": 23,
    "start_time": "2024-03-09T19:50:36.043Z"
   },
   {
    "duration": 36,
    "start_time": "2024-03-09T19:50:36.069Z"
   },
   {
    "duration": 6,
    "start_time": "2024-03-09T19:50:36.107Z"
   },
   {
    "duration": 16,
    "start_time": "2024-03-09T19:50:36.114Z"
   },
   {
    "duration": 35047,
    "start_time": "2024-03-09T19:50:36.131Z"
   },
   {
    "duration": 5,
    "start_time": "2024-03-09T19:51:11.180Z"
   },
   {
    "duration": 34,
    "start_time": "2024-03-09T19:51:11.186Z"
   },
   {
    "duration": 26,
    "start_time": "2024-03-09T19:51:11.221Z"
   },
   {
    "duration": 6,
    "start_time": "2024-03-09T19:51:11.249Z"
   },
   {
    "duration": 27,
    "start_time": "2024-03-09T19:51:11.257Z"
   },
   {
    "duration": 15,
    "start_time": "2024-03-09T19:51:11.286Z"
   },
   {
    "duration": 8,
    "start_time": "2024-03-09T19:51:11.303Z"
   },
   {
    "duration": 27,
    "start_time": "2024-03-09T19:51:11.313Z"
   },
   {
    "duration": 188,
    "start_time": "2024-03-09T19:51:11.342Z"
   },
   {
    "duration": 9,
    "start_time": "2024-03-09T19:51:11.532Z"
   },
   {
    "duration": 310,
    "start_time": "2024-03-09T19:51:11.543Z"
   },
   {
    "duration": 578,
    "start_time": "2024-03-09T19:51:11.854Z"
   },
   {
    "duration": 261,
    "start_time": "2024-03-09T19:51:12.434Z"
   },
   {
    "duration": 5,
    "start_time": "2024-03-09T19:51:12.697Z"
   },
   {
    "duration": 272,
    "start_time": "2024-03-09T19:51:12.703Z"
   },
   {
    "duration": 6,
    "start_time": "2024-03-09T19:51:12.976Z"
   },
   {
    "duration": 22,
    "start_time": "2024-03-09T19:51:12.995Z"
   },
   {
    "duration": 283,
    "start_time": "2024-03-09T19:51:13.019Z"
   },
   {
    "duration": 200,
    "start_time": "2024-03-09T19:51:13.304Z"
   },
   {
    "duration": 12,
    "start_time": "2024-03-09T19:51:13.506Z"
   },
   {
    "duration": 12,
    "start_time": "2024-03-09T19:51:13.520Z"
   },
   {
    "duration": 12,
    "start_time": "2024-03-09T19:51:13.534Z"
   },
   {
    "duration": 52,
    "start_time": "2024-03-09T19:51:13.548Z"
   },
   {
    "duration": 229,
    "start_time": "2024-03-09T19:51:13.601Z"
   },
   {
    "duration": 11,
    "start_time": "2024-03-09T19:51:13.832Z"
   },
   {
    "duration": 13,
    "start_time": "2024-03-09T19:51:13.845Z"
   },
   {
    "duration": 40,
    "start_time": "2024-03-09T19:51:13.861Z"
   },
   {
    "duration": 12,
    "start_time": "2024-03-09T19:51:13.903Z"
   },
   {
    "duration": 17,
    "start_time": "2024-03-09T19:51:13.917Z"
   },
   {
    "duration": 254,
    "start_time": "2024-03-09T19:51:13.935Z"
   },
   {
    "duration": 5,
    "start_time": "2024-03-09T19:51:14.191Z"
   },
   {
    "duration": 14,
    "start_time": "2024-03-09T19:51:14.198Z"
   },
   {
    "duration": 15,
    "start_time": "2024-03-09T19:51:14.214Z"
   },
   {
    "duration": 13,
    "start_time": "2024-03-09T19:51:14.231Z"
   },
   {
    "duration": 48,
    "start_time": "2024-03-09T19:51:14.246Z"
   },
   {
    "duration": 235,
    "start_time": "2024-03-09T19:51:14.295Z"
   },
   {
    "duration": 13,
    "start_time": "2024-03-09T19:51:14.532Z"
   },
   {
    "duration": 17,
    "start_time": "2024-03-09T19:51:14.546Z"
   },
   {
    "duration": 11,
    "start_time": "2024-03-09T20:02:12.794Z"
   },
   {
    "duration": 11,
    "start_time": "2024-03-09T20:02:32.393Z"
   },
   {
    "duration": 9,
    "start_time": "2024-03-09T20:05:06.048Z"
   },
   {
    "duration": 12,
    "start_time": "2024-03-09T20:06:01.810Z"
   },
   {
    "duration": 646,
    "start_time": "2024-03-09T20:11:07.637Z"
   },
   {
    "duration": 501,
    "start_time": "2024-03-09T20:12:05.631Z"
   },
   {
    "duration": 14,
    "start_time": "2024-03-09T20:13:42.511Z"
   },
   {
    "duration": 14,
    "start_time": "2024-03-09T20:15:07.519Z"
   },
   {
    "duration": 670,
    "start_time": "2024-03-09T20:15:33.628Z"
   },
   {
    "duration": 239,
    "start_time": "2024-03-09T20:16:54.189Z"
   },
   {
    "duration": 231,
    "start_time": "2024-03-09T20:18:20.920Z"
   },
   {
    "duration": 20,
    "start_time": "2024-03-09T20:20:50.198Z"
   },
   {
    "duration": 21,
    "start_time": "2024-03-09T20:21:42.998Z"
   },
   {
    "duration": 19,
    "start_time": "2024-03-09T20:22:02.529Z"
   },
   {
    "duration": 673,
    "start_time": "2024-03-09T20:22:51.276Z"
   },
   {
    "duration": 796,
    "start_time": "2024-03-09T20:24:27.488Z"
   },
   {
    "duration": 653,
    "start_time": "2024-03-09T20:26:13.247Z"
   },
   {
    "duration": 19,
    "start_time": "2024-03-09T20:27:08.277Z"
   },
   {
    "duration": 19,
    "start_time": "2024-03-09T20:27:25.368Z"
   },
   {
    "duration": 673,
    "start_time": "2024-03-09T20:28:06.487Z"
   },
   {
    "duration": 19,
    "start_time": "2024-03-09T20:29:23.918Z"
   },
   {
    "duration": 21,
    "start_time": "2024-03-09T20:29:36.499Z"
   },
   {
    "duration": 108,
    "start_time": "2024-03-09T20:29:58.648Z"
   },
   {
    "duration": 102,
    "start_time": "2024-03-09T20:30:36.998Z"
   },
   {
    "duration": 21,
    "start_time": "2024-03-09T20:31:00.857Z"
   },
   {
    "duration": 18,
    "start_time": "2024-03-09T20:31:09.228Z"
   },
   {
    "duration": 15,
    "start_time": "2024-03-09T20:40:18.686Z"
   },
   {
    "duration": 227,
    "start_time": "2024-03-09T20:40:35.453Z"
   },
   {
    "duration": 267,
    "start_time": "2024-03-09T20:46:00.928Z"
   },
   {
    "duration": 122,
    "start_time": "2024-03-09T20:46:37.617Z"
   },
   {
    "duration": 13,
    "start_time": "2024-03-09T20:46:42.848Z"
   },
   {
    "duration": 123,
    "start_time": "2024-03-09T20:47:21.497Z"
   },
   {
    "duration": 23,
    "start_time": "2024-03-09T20:47:54.348Z"
   },
   {
    "duration": 147,
    "start_time": "2024-03-09T20:48:33.482Z"
   },
   {
    "duration": 21,
    "start_time": "2024-03-09T20:49:31.854Z"
   },
   {
    "duration": 19,
    "start_time": "2024-03-09T20:49:49.287Z"
   },
   {
    "duration": 104,
    "start_time": "2024-03-09T20:51:58.545Z"
   },
   {
    "duration": 104,
    "start_time": "2024-03-09T20:53:33.748Z"
   },
   {
    "duration": 21,
    "start_time": "2024-03-09T20:53:58.972Z"
   },
   {
    "duration": 21,
    "start_time": "2024-03-09T20:54:11.668Z"
   },
   {
    "duration": 142,
    "start_time": "2024-03-09T20:54:45.289Z"
   },
   {
    "duration": 3,
    "start_time": "2024-03-09T20:55:06.917Z"
   },
   {
    "duration": 79,
    "start_time": "2024-03-09T20:55:06.925Z"
   },
   {
    "duration": 4,
    "start_time": "2024-03-09T20:55:07.007Z"
   },
   {
    "duration": 6,
    "start_time": "2024-03-09T20:55:07.012Z"
   },
   {
    "duration": 21,
    "start_time": "2024-03-09T20:55:07.019Z"
   },
   {
    "duration": 16,
    "start_time": "2024-03-09T20:55:07.042Z"
   },
   {
    "duration": 10,
    "start_time": "2024-03-09T20:55:07.094Z"
   },
   {
    "duration": 6,
    "start_time": "2024-03-09T20:55:07.105Z"
   },
   {
    "duration": 6,
    "start_time": "2024-03-09T20:55:07.112Z"
   },
   {
    "duration": 8,
    "start_time": "2024-03-09T20:55:07.120Z"
   },
   {
    "duration": 4,
    "start_time": "2024-03-09T20:55:07.130Z"
   },
   {
    "duration": 8,
    "start_time": "2024-03-09T20:55:07.136Z"
   },
   {
    "duration": 51,
    "start_time": "2024-03-09T20:55:07.146Z"
   },
   {
    "duration": 15,
    "start_time": "2024-03-09T20:55:07.199Z"
   },
   {
    "duration": 10,
    "start_time": "2024-03-09T20:55:07.217Z"
   },
   {
    "duration": 17,
    "start_time": "2024-03-09T20:55:07.229Z"
   },
   {
    "duration": 45,
    "start_time": "2024-03-09T20:55:07.247Z"
   },
   {
    "duration": 6,
    "start_time": "2024-03-09T20:55:07.294Z"
   },
   {
    "duration": 16,
    "start_time": "2024-03-09T20:55:07.302Z"
   },
   {
    "duration": 34926,
    "start_time": "2024-03-09T20:55:07.319Z"
   },
   {
    "duration": 5,
    "start_time": "2024-03-09T20:55:42.246Z"
   },
   {
    "duration": 9,
    "start_time": "2024-03-09T20:55:42.253Z"
   },
   {
    "duration": 37,
    "start_time": "2024-03-09T20:55:42.264Z"
   },
   {
    "duration": 4,
    "start_time": "2024-03-09T20:55:42.303Z"
   },
   {
    "duration": 34,
    "start_time": "2024-03-09T20:55:42.308Z"
   },
   {
    "duration": 19,
    "start_time": "2024-03-09T20:55:42.344Z"
   },
   {
    "duration": 12,
    "start_time": "2024-03-09T20:55:42.365Z"
   },
   {
    "duration": 25,
    "start_time": "2024-03-09T20:55:42.379Z"
   },
   {
    "duration": 168,
    "start_time": "2024-03-09T20:55:42.406Z"
   },
   {
    "duration": 17,
    "start_time": "2024-03-09T20:55:42.575Z"
   },
   {
    "duration": 318,
    "start_time": "2024-03-09T20:55:42.594Z"
   },
   {
    "duration": 8,
    "start_time": "2024-03-09T20:55:42.914Z"
   },
   {
    "duration": 143,
    "start_time": "2024-03-09T20:55:42.923Z"
   },
   {
    "duration": 0,
    "start_time": "2024-03-09T20:55:43.068Z"
   },
   {
    "duration": 0,
    "start_time": "2024-03-09T20:55:43.069Z"
   },
   {
    "duration": 0,
    "start_time": "2024-03-09T20:55:43.070Z"
   },
   {
    "duration": 0,
    "start_time": "2024-03-09T20:55:43.071Z"
   },
   {
    "duration": 0,
    "start_time": "2024-03-09T20:55:43.073Z"
   },
   {
    "duration": 0,
    "start_time": "2024-03-09T20:55:43.073Z"
   },
   {
    "duration": 0,
    "start_time": "2024-03-09T20:55:43.074Z"
   },
   {
    "duration": 0,
    "start_time": "2024-03-09T20:55:43.091Z"
   },
   {
    "duration": 0,
    "start_time": "2024-03-09T20:55:43.093Z"
   },
   {
    "duration": 0,
    "start_time": "2024-03-09T20:55:43.093Z"
   },
   {
    "duration": 0,
    "start_time": "2024-03-09T20:55:43.094Z"
   },
   {
    "duration": 0,
    "start_time": "2024-03-09T20:55:43.096Z"
   },
   {
    "duration": 0,
    "start_time": "2024-03-09T20:55:43.097Z"
   },
   {
    "duration": 0,
    "start_time": "2024-03-09T20:55:43.098Z"
   },
   {
    "duration": 0,
    "start_time": "2024-03-09T20:55:43.099Z"
   },
   {
    "duration": 0,
    "start_time": "2024-03-09T20:55:43.099Z"
   },
   {
    "duration": 0,
    "start_time": "2024-03-09T20:55:43.100Z"
   },
   {
    "duration": 0,
    "start_time": "2024-03-09T20:55:43.101Z"
   },
   {
    "duration": 0,
    "start_time": "2024-03-09T20:55:43.102Z"
   },
   {
    "duration": 0,
    "start_time": "2024-03-09T20:55:43.103Z"
   },
   {
    "duration": 0,
    "start_time": "2024-03-09T20:55:43.104Z"
   },
   {
    "duration": 0,
    "start_time": "2024-03-09T20:55:43.105Z"
   },
   {
    "duration": 0,
    "start_time": "2024-03-09T20:55:43.106Z"
   },
   {
    "duration": 0,
    "start_time": "2024-03-09T20:55:43.107Z"
   },
   {
    "duration": 0,
    "start_time": "2024-03-09T20:55:43.108Z"
   },
   {
    "duration": 0,
    "start_time": "2024-03-09T20:55:43.108Z"
   },
   {
    "duration": 0,
    "start_time": "2024-03-09T20:55:43.109Z"
   },
   {
    "duration": 8,
    "start_time": "2024-03-09T20:56:12.327Z"
   },
   {
    "duration": 3,
    "start_time": "2024-03-09T20:56:32.677Z"
   },
   {
    "duration": 95,
    "start_time": "2024-03-09T20:56:32.682Z"
   },
   {
    "duration": 4,
    "start_time": "2024-03-09T20:56:32.779Z"
   },
   {
    "duration": 25,
    "start_time": "2024-03-09T20:56:32.785Z"
   },
   {
    "duration": 45,
    "start_time": "2024-03-09T20:56:32.813Z"
   },
   {
    "duration": 28,
    "start_time": "2024-03-09T20:56:32.860Z"
   },
   {
    "duration": 18,
    "start_time": "2024-03-09T20:56:32.889Z"
   },
   {
    "duration": 14,
    "start_time": "2024-03-09T20:56:32.909Z"
   },
   {
    "duration": 52,
    "start_time": "2024-03-09T20:56:32.925Z"
   },
   {
    "duration": 57,
    "start_time": "2024-03-09T20:56:32.979Z"
   },
   {
    "duration": 32,
    "start_time": "2024-03-09T20:56:33.038Z"
   },
   {
    "duration": 20,
    "start_time": "2024-03-09T20:56:33.071Z"
   },
   {
    "duration": 39,
    "start_time": "2024-03-09T20:56:33.092Z"
   },
   {
    "duration": 51,
    "start_time": "2024-03-09T20:56:33.132Z"
   },
   {
    "duration": 20,
    "start_time": "2024-03-09T20:56:33.185Z"
   },
   {
    "duration": 36,
    "start_time": "2024-03-09T20:56:33.207Z"
   },
   {
    "duration": 33,
    "start_time": "2024-03-09T20:56:33.244Z"
   },
   {
    "duration": 12,
    "start_time": "2024-03-09T20:56:33.279Z"
   },
   {
    "duration": 21,
    "start_time": "2024-03-09T20:56:33.292Z"
   },
   {
    "duration": 34989,
    "start_time": "2024-03-09T20:56:33.314Z"
   },
   {
    "duration": 5,
    "start_time": "2024-03-09T20:57:08.304Z"
   },
   {
    "duration": 12,
    "start_time": "2024-03-09T20:57:08.311Z"
   },
   {
    "duration": 21,
    "start_time": "2024-03-09T20:57:08.325Z"
   },
   {
    "duration": 5,
    "start_time": "2024-03-09T20:57:08.348Z"
   },
   {
    "duration": 45,
    "start_time": "2024-03-09T20:57:08.354Z"
   },
   {
    "duration": 11,
    "start_time": "2024-03-09T20:57:08.401Z"
   },
   {
    "duration": 12,
    "start_time": "2024-03-09T20:57:08.414Z"
   },
   {
    "duration": 36,
    "start_time": "2024-03-09T20:57:08.428Z"
   },
   {
    "duration": 169,
    "start_time": "2024-03-09T20:57:08.469Z"
   },
   {
    "duration": 10,
    "start_time": "2024-03-09T20:57:08.640Z"
   },
   {
    "duration": 296,
    "start_time": "2024-03-09T20:57:08.652Z"
   },
   {
    "duration": 10,
    "start_time": "2024-03-09T20:57:08.950Z"
   },
   {
    "duration": 215,
    "start_time": "2024-03-09T20:57:08.962Z"
   },
   {
    "duration": 0,
    "start_time": "2024-03-09T20:57:09.179Z"
   },
   {
    "duration": 0,
    "start_time": "2024-03-09T20:57:09.191Z"
   },
   {
    "duration": 0,
    "start_time": "2024-03-09T20:57:09.193Z"
   },
   {
    "duration": 0,
    "start_time": "2024-03-09T20:57:09.194Z"
   },
   {
    "duration": 0,
    "start_time": "2024-03-09T20:57:09.196Z"
   },
   {
    "duration": 0,
    "start_time": "2024-03-09T20:57:09.197Z"
   },
   {
    "duration": 0,
    "start_time": "2024-03-09T20:57:09.198Z"
   },
   {
    "duration": 0,
    "start_time": "2024-03-09T20:57:09.200Z"
   },
   {
    "duration": 0,
    "start_time": "2024-03-09T20:57:09.201Z"
   },
   {
    "duration": 0,
    "start_time": "2024-03-09T20:57:09.203Z"
   },
   {
    "duration": 0,
    "start_time": "2024-03-09T20:57:09.204Z"
   },
   {
    "duration": 0,
    "start_time": "2024-03-09T20:57:09.205Z"
   },
   {
    "duration": 0,
    "start_time": "2024-03-09T20:57:09.207Z"
   },
   {
    "duration": 0,
    "start_time": "2024-03-09T20:57:09.208Z"
   },
   {
    "duration": 0,
    "start_time": "2024-03-09T20:57:09.209Z"
   },
   {
    "duration": 0,
    "start_time": "2024-03-09T20:57:09.211Z"
   },
   {
    "duration": 0,
    "start_time": "2024-03-09T20:57:09.212Z"
   },
   {
    "duration": 0,
    "start_time": "2024-03-09T20:57:09.213Z"
   },
   {
    "duration": 0,
    "start_time": "2024-03-09T20:57:09.215Z"
   },
   {
    "duration": 0,
    "start_time": "2024-03-09T20:57:09.216Z"
   },
   {
    "duration": 0,
    "start_time": "2024-03-09T20:57:09.217Z"
   },
   {
    "duration": 0,
    "start_time": "2024-03-09T20:57:09.219Z"
   },
   {
    "duration": 0,
    "start_time": "2024-03-09T20:57:09.221Z"
   },
   {
    "duration": 0,
    "start_time": "2024-03-09T20:57:09.222Z"
   },
   {
    "duration": 0,
    "start_time": "2024-03-09T20:57:09.223Z"
   },
   {
    "duration": 0,
    "start_time": "2024-03-09T20:57:09.225Z"
   },
   {
    "duration": 0,
    "start_time": "2024-03-09T20:57:09.226Z"
   },
   {
    "duration": 6,
    "start_time": "2024-03-09T20:58:59.409Z"
   },
   {
    "duration": 10,
    "start_time": "2024-03-09T20:59:11.584Z"
   },
   {
    "duration": 10,
    "start_time": "2024-03-09T20:59:21.504Z"
   },
   {
    "duration": 5,
    "start_time": "2024-03-09T20:59:27.067Z"
   },
   {
    "duration": 10,
    "start_time": "2024-03-09T21:00:51.154Z"
   },
   {
    "duration": 128,
    "start_time": "2024-03-09T21:01:33.529Z"
   },
   {
    "duration": 124,
    "start_time": "2024-03-09T21:03:36.578Z"
   },
   {
    "duration": 24,
    "start_time": "2024-03-09T21:05:20.204Z"
   },
   {
    "duration": 198,
    "start_time": "2024-03-09T21:05:27.544Z"
   },
   {
    "duration": 123,
    "start_time": "2024-03-09T21:05:49.855Z"
   },
   {
    "duration": 162,
    "start_time": "2024-03-09T21:06:22.582Z"
   },
   {
    "duration": 150,
    "start_time": "2024-03-09T21:07:08.503Z"
   },
   {
    "duration": 23,
    "start_time": "2024-03-09T21:08:03.634Z"
   },
   {
    "duration": 146,
    "start_time": "2024-03-09T21:08:46.293Z"
   },
   {
    "duration": 172,
    "start_time": "2024-03-09T21:11:19.324Z"
   },
   {
    "duration": 188,
    "start_time": "2024-03-09T21:15:08.422Z"
   },
   {
    "duration": 206,
    "start_time": "2024-03-09T21:17:40.045Z"
   },
   {
    "duration": 193,
    "start_time": "2024-03-09T21:18:06.943Z"
   },
   {
    "duration": 164,
    "start_time": "2024-03-09T21:18:42.524Z"
   },
   {
    "duration": 181,
    "start_time": "2024-03-09T21:18:49.521Z"
   },
   {
    "duration": 184,
    "start_time": "2024-03-09T21:19:01.957Z"
   },
   {
    "duration": 3,
    "start_time": "2024-03-09T21:26:21.704Z"
   },
   {
    "duration": 70,
    "start_time": "2024-03-09T21:26:21.709Z"
   },
   {
    "duration": 11,
    "start_time": "2024-03-09T21:26:21.781Z"
   },
   {
    "duration": 4,
    "start_time": "2024-03-09T21:26:21.794Z"
   },
   {
    "duration": 25,
    "start_time": "2024-03-09T21:26:21.800Z"
   },
   {
    "duration": 14,
    "start_time": "2024-03-09T21:26:21.827Z"
   },
   {
    "duration": 9,
    "start_time": "2024-03-09T21:26:21.842Z"
   },
   {
    "duration": 14,
    "start_time": "2024-03-09T21:26:21.852Z"
   },
   {
    "duration": 10,
    "start_time": "2024-03-09T21:26:21.867Z"
   },
   {
    "duration": 4,
    "start_time": "2024-03-09T21:26:21.892Z"
   },
   {
    "duration": 12,
    "start_time": "2024-03-09T21:26:21.898Z"
   },
   {
    "duration": 16,
    "start_time": "2024-03-09T21:26:21.911Z"
   },
   {
    "duration": 20,
    "start_time": "2024-03-09T21:26:21.928Z"
   },
   {
    "duration": 14,
    "start_time": "2024-03-09T21:26:21.951Z"
   },
   {
    "duration": 9,
    "start_time": "2024-03-09T21:26:21.967Z"
   },
   {
    "duration": 27,
    "start_time": "2024-03-09T21:26:21.978Z"
   },
   {
    "duration": 18,
    "start_time": "2024-03-09T21:26:22.007Z"
   },
   {
    "duration": 5,
    "start_time": "2024-03-09T21:26:22.027Z"
   },
   {
    "duration": 11,
    "start_time": "2024-03-09T21:26:22.034Z"
   },
   {
    "duration": 34074,
    "start_time": "2024-03-09T21:26:22.046Z"
   },
   {
    "duration": 5,
    "start_time": "2024-03-09T21:26:56.122Z"
   },
   {
    "duration": 11,
    "start_time": "2024-03-09T21:26:56.128Z"
   },
   {
    "duration": 21,
    "start_time": "2024-03-09T21:26:56.141Z"
   },
   {
    "duration": 5,
    "start_time": "2024-03-09T21:26:56.164Z"
   },
   {
    "duration": 23,
    "start_time": "2024-03-09T21:26:56.192Z"
   },
   {
    "duration": 29,
    "start_time": "2024-03-09T21:26:56.216Z"
   },
   {
    "duration": 16,
    "start_time": "2024-03-09T21:26:56.246Z"
   },
   {
    "duration": 37,
    "start_time": "2024-03-09T21:26:56.264Z"
   },
   {
    "duration": 180,
    "start_time": "2024-03-09T21:26:56.302Z"
   },
   {
    "duration": 8,
    "start_time": "2024-03-09T21:26:56.484Z"
   },
   {
    "duration": 302,
    "start_time": "2024-03-09T21:26:56.493Z"
   },
   {
    "duration": 8,
    "start_time": "2024-03-09T21:26:56.797Z"
   },
   {
    "duration": 190,
    "start_time": "2024-03-09T21:26:56.807Z"
   },
   {
    "duration": 266,
    "start_time": "2024-03-09T21:26:56.999Z"
   },
   {
    "duration": 5,
    "start_time": "2024-03-09T21:26:57.267Z"
   },
   {
    "duration": 253,
    "start_time": "2024-03-09T21:26:57.274Z"
   },
   {
    "duration": 7,
    "start_time": "2024-03-09T21:26:57.529Z"
   },
   {
    "duration": 17,
    "start_time": "2024-03-09T21:26:57.538Z"
   },
   {
    "duration": 315,
    "start_time": "2024-03-09T21:26:57.557Z"
   },
   {
    "duration": 202,
    "start_time": "2024-03-09T21:26:57.874Z"
   },
   {
    "duration": 20,
    "start_time": "2024-03-09T21:26:58.080Z"
   },
   {
    "duration": 19,
    "start_time": "2024-03-09T21:26:58.102Z"
   },
   {
    "duration": 16,
    "start_time": "2024-03-09T21:26:58.122Z"
   },
   {
    "duration": 17,
    "start_time": "2024-03-09T21:26:58.140Z"
   },
   {
    "duration": 253,
    "start_time": "2024-03-09T21:26:58.159Z"
   },
   {
    "duration": 10,
    "start_time": "2024-03-09T21:26:58.414Z"
   },
   {
    "duration": 17,
    "start_time": "2024-03-09T21:26:58.426Z"
   },
   {
    "duration": 12,
    "start_time": "2024-03-09T21:26:58.444Z"
   },
   {
    "duration": 40,
    "start_time": "2024-03-09T21:26:58.458Z"
   },
   {
    "duration": 16,
    "start_time": "2024-03-09T21:26:58.500Z"
   },
   {
    "duration": 214,
    "start_time": "2024-03-09T21:26:58.517Z"
   },
   {
    "duration": 5,
    "start_time": "2024-03-09T21:26:58.733Z"
   },
   {
    "duration": 15,
    "start_time": "2024-03-09T21:26:58.740Z"
   },
   {
    "duration": 11,
    "start_time": "2024-03-09T21:26:58.757Z"
   },
   {
    "duration": 13,
    "start_time": "2024-03-09T21:26:58.792Z"
   },
   {
    "duration": 16,
    "start_time": "2024-03-09T21:26:58.807Z"
   },
   {
    "duration": 216,
    "start_time": "2024-03-09T21:26:58.824Z"
   },
   {
    "duration": 13,
    "start_time": "2024-03-09T21:26:59.042Z"
   },
   {
    "duration": 15,
    "start_time": "2024-03-09T21:26:59.056Z"
   },
   {
    "duration": 179,
    "start_time": "2024-03-09T21:35:29.199Z"
   },
   {
    "duration": 174,
    "start_time": "2024-03-09T21:37:11.752Z"
   },
   {
    "duration": 171,
    "start_time": "2024-03-09T21:37:22.212Z"
   },
   {
    "duration": 183,
    "start_time": "2024-03-09T21:38:38.083Z"
   },
   {
    "duration": 198,
    "start_time": "2024-03-09T21:38:50.272Z"
   },
   {
    "duration": 209,
    "start_time": "2024-03-09T21:40:30.729Z"
   },
   {
    "duration": 288,
    "start_time": "2024-03-09T21:41:27.625Z"
   },
   {
    "duration": 188,
    "start_time": "2024-03-09T21:41:46.936Z"
   },
   {
    "duration": 194,
    "start_time": "2024-03-09T21:42:47.752Z"
   },
   {
    "duration": 185,
    "start_time": "2024-03-09T21:43:19.553Z"
   },
   {
    "duration": 191,
    "start_time": "2024-03-09T21:43:46.680Z"
   },
   {
    "duration": 188,
    "start_time": "2024-03-09T21:44:22.929Z"
   },
   {
    "duration": 3,
    "start_time": "2024-03-09T21:47:20.465Z"
   },
   {
    "duration": 76,
    "start_time": "2024-03-09T21:47:20.470Z"
   },
   {
    "duration": 3,
    "start_time": "2024-03-09T21:47:20.548Z"
   },
   {
    "duration": 15,
    "start_time": "2024-03-09T21:47:20.553Z"
   },
   {
    "duration": 23,
    "start_time": "2024-03-09T21:47:20.570Z"
   },
   {
    "duration": 33,
    "start_time": "2024-03-09T21:47:20.595Z"
   },
   {
    "duration": 18,
    "start_time": "2024-03-09T21:47:20.630Z"
   },
   {
    "duration": 26,
    "start_time": "2024-03-09T21:47:20.650Z"
   },
   {
    "duration": 16,
    "start_time": "2024-03-09T21:47:20.677Z"
   },
   {
    "duration": 15,
    "start_time": "2024-03-09T21:47:20.695Z"
   },
   {
    "duration": 43,
    "start_time": "2024-03-09T21:47:20.712Z"
   },
   {
    "duration": 50,
    "start_time": "2024-03-09T21:47:20.758Z"
   },
   {
    "duration": 29,
    "start_time": "2024-03-09T21:47:20.810Z"
   },
   {
    "duration": 38,
    "start_time": "2024-03-09T21:47:20.842Z"
   },
   {
    "duration": 29,
    "start_time": "2024-03-09T21:47:20.881Z"
   },
   {
    "duration": 42,
    "start_time": "2024-03-09T21:47:20.912Z"
   },
   {
    "duration": 60,
    "start_time": "2024-03-09T21:47:20.956Z"
   },
   {
    "duration": 27,
    "start_time": "2024-03-09T21:47:21.017Z"
   },
   {
    "duration": 45,
    "start_time": "2024-03-09T21:47:21.045Z"
   },
   {
    "duration": 33841,
    "start_time": "2024-03-09T21:47:21.092Z"
   },
   {
    "duration": 5,
    "start_time": "2024-03-09T21:47:54.935Z"
   },
   {
    "duration": 10,
    "start_time": "2024-03-09T21:47:54.941Z"
   },
   {
    "duration": 21,
    "start_time": "2024-03-09T21:47:54.953Z"
   },
   {
    "duration": 16,
    "start_time": "2024-03-09T21:47:54.976Z"
   },
   {
    "duration": 32,
    "start_time": "2024-03-09T21:47:54.993Z"
   },
   {
    "duration": 20,
    "start_time": "2024-03-09T21:47:55.027Z"
   },
   {
    "duration": 34,
    "start_time": "2024-03-09T21:47:55.049Z"
   },
   {
    "duration": 22,
    "start_time": "2024-03-09T21:47:55.084Z"
   },
   {
    "duration": 183,
    "start_time": "2024-03-09T21:47:55.108Z"
   },
   {
    "duration": 8,
    "start_time": "2024-03-09T21:47:55.293Z"
   },
   {
    "duration": 307,
    "start_time": "2024-03-09T21:47:55.303Z"
   },
   {
    "duration": 9,
    "start_time": "2024-03-09T21:47:55.611Z"
   },
   {
    "duration": 212,
    "start_time": "2024-03-09T21:47:55.622Z"
   },
   {
    "duration": 254,
    "start_time": "2024-03-09T21:47:55.835Z"
   },
   {
    "duration": 4,
    "start_time": "2024-03-09T21:47:56.092Z"
   },
   {
    "duration": 357,
    "start_time": "2024-03-09T21:47:56.098Z"
   },
   {
    "duration": 4,
    "start_time": "2024-03-09T21:47:56.457Z"
   },
   {
    "duration": 29,
    "start_time": "2024-03-09T21:47:56.463Z"
   },
   {
    "duration": 200,
    "start_time": "2024-03-09T21:47:56.494Z"
   },
   {
    "duration": 196,
    "start_time": "2024-03-09T21:47:56.695Z"
   },
   {
    "duration": 12,
    "start_time": "2024-03-09T21:47:56.895Z"
   },
   {
    "duration": 22,
    "start_time": "2024-03-09T21:47:56.909Z"
   },
   {
    "duration": 12,
    "start_time": "2024-03-09T21:47:56.933Z"
   },
   {
    "duration": 16,
    "start_time": "2024-03-09T21:47:56.947Z"
   },
   {
    "duration": 264,
    "start_time": "2024-03-09T21:47:56.964Z"
   },
   {
    "duration": 10,
    "start_time": "2024-03-09T21:47:57.230Z"
   },
   {
    "duration": 96,
    "start_time": "2024-03-09T21:47:57.242Z"
   },
   {
    "duration": 26,
    "start_time": "2024-03-09T21:47:57.340Z"
   },
   {
    "duration": 14,
    "start_time": "2024-03-09T21:47:57.368Z"
   },
   {
    "duration": 35,
    "start_time": "2024-03-09T21:47:57.384Z"
   },
   {
    "duration": 240,
    "start_time": "2024-03-09T21:47:57.421Z"
   },
   {
    "duration": 5,
    "start_time": "2024-03-09T21:47:57.663Z"
   },
   {
    "duration": 43,
    "start_time": "2024-03-09T21:47:57.670Z"
   },
   {
    "duration": 35,
    "start_time": "2024-03-09T21:47:57.714Z"
   },
   {
    "duration": 43,
    "start_time": "2024-03-09T21:47:57.751Z"
   },
   {
    "duration": 29,
    "start_time": "2024-03-09T21:47:57.796Z"
   },
   {
    "duration": 210,
    "start_time": "2024-03-09T21:47:57.827Z"
   },
   {
    "duration": 14,
    "start_time": "2024-03-09T21:47:58.038Z"
   },
   {
    "duration": 32,
    "start_time": "2024-03-09T21:47:58.053Z"
   },
   {
    "duration": 238,
    "start_time": "2024-03-09T21:54:09.156Z"
   },
   {
    "duration": 165,
    "start_time": "2024-03-09T21:54:36.567Z"
   },
   {
    "duration": 168,
    "start_time": "2024-03-09T21:54:55.367Z"
   },
   {
    "duration": 4,
    "start_time": "2024-03-09T21:56:01.047Z"
   },
   {
    "duration": 156,
    "start_time": "2024-03-09T21:59:56.206Z"
   },
   {
    "duration": 5,
    "start_time": "2024-03-09T22:00:09.166Z"
   },
   {
    "duration": 165,
    "start_time": "2024-03-09T22:02:52.976Z"
   },
   {
    "duration": 256,
    "start_time": "2024-03-09T22:03:07.956Z"
   },
   {
    "duration": 162,
    "start_time": "2024-03-09T22:03:23.136Z"
   },
   {
    "duration": 4,
    "start_time": "2024-03-09T22:03:35.016Z"
   },
   {
    "duration": 229,
    "start_time": "2024-03-09T22:04:14.726Z"
   },
   {
    "duration": 184,
    "start_time": "2024-03-09T22:04:25.676Z"
   },
   {
    "duration": 4,
    "start_time": "2024-03-09T22:04:40.742Z"
   },
   {
    "duration": 162,
    "start_time": "2024-03-09T22:05:33.220Z"
   },
   {
    "duration": 12,
    "start_time": "2024-03-09T22:06:27.030Z"
   },
   {
    "duration": 148,
    "start_time": "2024-03-09T22:06:33.416Z"
   },
   {
    "duration": 4,
    "start_time": "2024-03-09T22:06:39.159Z"
   },
   {
    "duration": 171,
    "start_time": "2024-03-09T22:06:50.758Z"
   },
   {
    "duration": 4,
    "start_time": "2024-03-09T22:06:55.068Z"
   },
   {
    "duration": 4,
    "start_time": "2024-03-09T22:06:58.601Z"
   },
   {
    "duration": 4,
    "start_time": "2024-03-09T22:07:05.639Z"
   },
   {
    "duration": 153,
    "start_time": "2024-03-09T22:07:27.350Z"
   },
   {
    "duration": 6,
    "start_time": "2024-03-09T22:07:29.819Z"
   },
   {
    "duration": 171,
    "start_time": "2024-03-09T22:08:08.677Z"
   },
   {
    "duration": 4,
    "start_time": "2024-03-09T22:08:10.136Z"
   },
   {
    "duration": 110,
    "start_time": "2024-03-09T22:14:03.954Z"
   },
   {
    "duration": 34,
    "start_time": "2024-03-09T22:14:17.131Z"
   },
   {
    "duration": 37,
    "start_time": "2024-03-09T22:15:17.606Z"
   },
   {
    "duration": 36,
    "start_time": "2024-03-09T22:16:17.685Z"
   },
   {
    "duration": 4555,
    "start_time": "2024-03-09T22:17:19.379Z"
   },
   {
    "duration": 40,
    "start_time": "2024-03-09T22:17:53.044Z"
   },
   {
    "duration": 48,
    "start_time": "2024-03-09T22:18:08.548Z"
   },
   {
    "duration": 41,
    "start_time": "2024-03-09T22:18:42.109Z"
   },
   {
    "duration": 34,
    "start_time": "2024-03-09T22:18:56.593Z"
   },
   {
    "duration": 192,
    "start_time": "2024-03-09T22:28:17.518Z"
   },
   {
    "duration": 202,
    "start_time": "2024-03-09T22:33:25.221Z"
   },
   {
    "duration": 191,
    "start_time": "2024-03-09T22:33:47.438Z"
   },
   {
    "duration": 180,
    "start_time": "2024-03-09T22:34:09.286Z"
   },
   {
    "duration": 282,
    "start_time": "2024-03-09T22:34:28.087Z"
   },
   {
    "duration": 13,
    "start_time": "2024-03-09T22:34:57.481Z"
   },
   {
    "duration": 180,
    "start_time": "2024-03-09T22:35:27.151Z"
   },
   {
    "duration": 191,
    "start_time": "2024-03-09T22:35:44.429Z"
   },
   {
    "duration": 206,
    "start_time": "2024-03-09T22:37:31.531Z"
   },
   {
    "duration": 4,
    "start_time": "2024-03-09T23:00:25.707Z"
   },
   {
    "duration": 84,
    "start_time": "2024-03-09T23:00:25.713Z"
   },
   {
    "duration": 4,
    "start_time": "2024-03-09T23:00:25.799Z"
   },
   {
    "duration": 24,
    "start_time": "2024-03-09T23:00:25.806Z"
   },
   {
    "duration": 30,
    "start_time": "2024-03-09T23:00:25.832Z"
   },
   {
    "duration": 18,
    "start_time": "2024-03-09T23:00:25.864Z"
   },
   {
    "duration": 11,
    "start_time": "2024-03-09T23:00:25.884Z"
   },
   {
    "duration": 7,
    "start_time": "2024-03-09T23:00:25.896Z"
   },
   {
    "duration": 6,
    "start_time": "2024-03-09T23:00:25.905Z"
   },
   {
    "duration": 18,
    "start_time": "2024-03-09T23:00:25.913Z"
   },
   {
    "duration": 12,
    "start_time": "2024-03-09T23:00:25.932Z"
   },
   {
    "duration": 8,
    "start_time": "2024-03-09T23:00:25.945Z"
   },
   {
    "duration": 36,
    "start_time": "2024-03-09T23:00:25.956Z"
   },
   {
    "duration": 15,
    "start_time": "2024-03-09T23:00:25.994Z"
   },
   {
    "duration": 10,
    "start_time": "2024-03-09T23:00:26.010Z"
   },
   {
    "duration": 30,
    "start_time": "2024-03-09T23:00:26.022Z"
   },
   {
    "duration": 44,
    "start_time": "2024-03-09T23:00:26.053Z"
   },
   {
    "duration": 7,
    "start_time": "2024-03-09T23:00:26.098Z"
   },
   {
    "duration": 19,
    "start_time": "2024-03-09T23:00:26.107Z"
   },
   {
    "duration": 34596,
    "start_time": "2024-03-09T23:00:26.128Z"
   },
   {
    "duration": 5,
    "start_time": "2024-03-09T23:01:00.725Z"
   },
   {
    "duration": 128,
    "start_time": "2024-03-09T23:01:00.731Z"
   },
   {
    "duration": 161,
    "start_time": "2024-03-09T23:01:00.861Z"
   },
   {
    "duration": 32,
    "start_time": "2024-03-09T23:01:01.024Z"
   },
   {
    "duration": 72,
    "start_time": "2024-03-09T23:01:01.058Z"
   },
   {
    "duration": 71,
    "start_time": "2024-03-09T23:01:01.131Z"
   },
   {
    "duration": 82,
    "start_time": "2024-03-09T23:01:01.203Z"
   },
   {
    "duration": 102,
    "start_time": "2024-03-09T23:01:01.287Z"
   },
   {
    "duration": 210,
    "start_time": "2024-03-09T23:01:01.391Z"
   },
   {
    "duration": 9,
    "start_time": "2024-03-09T23:01:01.602Z"
   },
   {
    "duration": 517,
    "start_time": "2024-03-09T23:01:01.612Z"
   },
   {
    "duration": 9,
    "start_time": "2024-03-09T23:01:02.131Z"
   },
   {
    "duration": 289,
    "start_time": "2024-03-09T23:01:02.142Z"
   },
   {
    "duration": 173,
    "start_time": "2024-03-09T23:01:02.433Z"
   },
   {
    "duration": 293,
    "start_time": "2024-03-09T23:01:02.608Z"
   },
   {
    "duration": 277,
    "start_time": "2024-03-09T23:01:02.903Z"
   },
   {
    "duration": 13,
    "start_time": "2024-03-09T23:01:03.181Z"
   },
   {
    "duration": 55,
    "start_time": "2024-03-09T23:01:03.195Z"
   },
   {
    "duration": 237,
    "start_time": "2024-03-09T23:01:03.252Z"
   },
   {
    "duration": 291,
    "start_time": "2024-03-09T23:01:03.493Z"
   },
   {
    "duration": 188,
    "start_time": "2024-03-09T23:01:03.791Z"
   },
   {
    "duration": 358,
    "start_time": "2024-03-09T23:01:03.980Z"
   },
   {
    "duration": 21,
    "start_time": "2024-03-09T23:01:04.339Z"
   },
   {
    "duration": 17,
    "start_time": "2024-03-09T23:01:04.362Z"
   },
   {
    "duration": 221,
    "start_time": "2024-03-09T23:01:04.380Z"
   },
   {
    "duration": 10,
    "start_time": "2024-03-09T23:01:04.603Z"
   },
   {
    "duration": 17,
    "start_time": "2024-03-09T23:01:04.615Z"
   },
   {
    "duration": 12,
    "start_time": "2024-03-09T23:01:04.633Z"
   },
   {
    "duration": 49,
    "start_time": "2024-03-09T23:01:04.647Z"
   },
   {
    "duration": 17,
    "start_time": "2024-03-09T23:01:04.697Z"
   },
   {
    "duration": 231,
    "start_time": "2024-03-09T23:01:04.716Z"
   },
   {
    "duration": 5,
    "start_time": "2024-03-09T23:01:04.949Z"
   },
   {
    "duration": 35,
    "start_time": "2024-03-09T23:01:04.956Z"
   },
   {
    "duration": 13,
    "start_time": "2024-03-09T23:01:04.993Z"
   },
   {
    "duration": 14,
    "start_time": "2024-03-09T23:01:05.008Z"
   },
   {
    "duration": 17,
    "start_time": "2024-03-09T23:01:05.023Z"
   },
   {
    "duration": 252,
    "start_time": "2024-03-09T23:01:05.042Z"
   },
   {
    "duration": 15,
    "start_time": "2024-03-09T23:01:05.296Z"
   },
   {
    "duration": 14,
    "start_time": "2024-03-09T23:01:05.313Z"
   },
   {
    "duration": 3,
    "start_time": "2024-03-09T23:06:16.575Z"
   },
   {
    "duration": 84,
    "start_time": "2024-03-09T23:06:16.580Z"
   },
   {
    "duration": 4,
    "start_time": "2024-03-09T23:06:16.665Z"
   },
   {
    "duration": 14,
    "start_time": "2024-03-09T23:06:16.671Z"
   },
   {
    "duration": 26,
    "start_time": "2024-03-09T23:06:16.687Z"
   },
   {
    "duration": 24,
    "start_time": "2024-03-09T23:06:16.715Z"
   },
   {
    "duration": 18,
    "start_time": "2024-03-09T23:06:16.740Z"
   },
   {
    "duration": 27,
    "start_time": "2024-03-09T23:06:16.760Z"
   },
   {
    "duration": 15,
    "start_time": "2024-03-09T23:06:16.788Z"
   },
   {
    "duration": 40,
    "start_time": "2024-03-09T23:06:16.804Z"
   },
   {
    "duration": 49,
    "start_time": "2024-03-09T23:06:16.846Z"
   },
   {
    "duration": 12,
    "start_time": "2024-03-09T23:06:16.897Z"
   },
   {
    "duration": 38,
    "start_time": "2024-03-09T23:06:16.911Z"
   },
   {
    "duration": 36,
    "start_time": "2024-03-09T23:06:16.951Z"
   },
   {
    "duration": 39,
    "start_time": "2024-03-09T23:06:16.989Z"
   },
   {
    "duration": 22,
    "start_time": "2024-03-09T23:06:17.030Z"
   },
   {
    "duration": 39,
    "start_time": "2024-03-09T23:06:17.054Z"
   },
   {
    "duration": 32,
    "start_time": "2024-03-09T23:06:17.095Z"
   },
   {
    "duration": 51,
    "start_time": "2024-03-09T23:06:17.129Z"
   },
   {
    "duration": 34009,
    "start_time": "2024-03-09T23:06:17.182Z"
   },
   {
    "duration": 6,
    "start_time": "2024-03-09T23:06:51.193Z"
   },
   {
    "duration": 41,
    "start_time": "2024-03-09T23:06:51.200Z"
   },
   {
    "duration": 44,
    "start_time": "2024-03-09T23:06:51.242Z"
   },
   {
    "duration": 39,
    "start_time": "2024-03-09T23:06:51.288Z"
   },
   {
    "duration": 48,
    "start_time": "2024-03-09T23:06:51.329Z"
   },
   {
    "duration": 21,
    "start_time": "2024-03-09T23:06:51.379Z"
   },
   {
    "duration": 24,
    "start_time": "2024-03-09T23:06:51.402Z"
   },
   {
    "duration": 50,
    "start_time": "2024-03-09T23:06:51.428Z"
   },
   {
    "duration": 163,
    "start_time": "2024-03-09T23:06:51.479Z"
   },
   {
    "duration": 9,
    "start_time": "2024-03-09T23:06:51.644Z"
   },
   {
    "duration": 302,
    "start_time": "2024-03-09T23:06:51.654Z"
   },
   {
    "duration": 9,
    "start_time": "2024-03-09T23:06:51.958Z"
   },
   {
    "duration": 216,
    "start_time": "2024-03-09T23:06:51.969Z"
   },
   {
    "duration": 175,
    "start_time": "2024-03-09T23:06:52.186Z"
   },
   {
    "duration": 4,
    "start_time": "2024-03-09T23:06:52.363Z"
   },
   {
    "duration": 194,
    "start_time": "2024-03-09T23:06:52.369Z"
   },
   {
    "duration": 4,
    "start_time": "2024-03-09T23:06:52.565Z"
   },
   {
    "duration": 48,
    "start_time": "2024-03-09T23:06:52.570Z"
   },
   {
    "duration": 200,
    "start_time": "2024-03-09T23:06:52.620Z"
   },
   {
    "duration": 293,
    "start_time": "2024-03-09T23:06:52.822Z"
   },
   {
    "duration": 13,
    "start_time": "2024-03-09T23:06:53.121Z"
   },
   {
    "duration": 13,
    "start_time": "2024-03-09T23:06:53.136Z"
   },
   {
    "duration": 45,
    "start_time": "2024-03-09T23:06:53.151Z"
   },
   {
    "duration": 29,
    "start_time": "2024-03-09T23:06:53.198Z"
   },
   {
    "duration": 216,
    "start_time": "2024-03-09T23:06:53.229Z"
   },
   {
    "duration": 10,
    "start_time": "2024-03-09T23:06:53.447Z"
   },
   {
    "duration": 14,
    "start_time": "2024-03-09T23:06:53.458Z"
   },
   {
    "duration": 13,
    "start_time": "2024-03-09T23:06:53.492Z"
   },
   {
    "duration": 13,
    "start_time": "2024-03-09T23:06:53.507Z"
   },
   {
    "duration": 16,
    "start_time": "2024-03-09T23:06:53.523Z"
   },
   {
    "duration": 265,
    "start_time": "2024-03-09T23:06:53.541Z"
   },
   {
    "duration": 6,
    "start_time": "2024-03-09T23:06:53.808Z"
   },
   {
    "duration": 18,
    "start_time": "2024-03-09T23:06:53.816Z"
   },
   {
    "duration": 16,
    "start_time": "2024-03-09T23:06:53.836Z"
   },
   {
    "duration": 49,
    "start_time": "2024-03-09T23:06:53.854Z"
   },
   {
    "duration": 17,
    "start_time": "2024-03-09T23:06:53.904Z"
   },
   {
    "duration": 241,
    "start_time": "2024-03-09T23:06:53.922Z"
   },
   {
    "duration": 15,
    "start_time": "2024-03-09T23:06:54.164Z"
   },
   {
    "duration": 13,
    "start_time": "2024-03-09T23:06:54.191Z"
   },
   {
    "duration": 1144,
    "start_time": "2025-06-10T20:49:21.962Z"
   },
   {
    "duration": 127,
    "start_time": "2025-06-10T20:49:23.108Z"
   },
   {
    "duration": 5,
    "start_time": "2025-06-10T20:49:23.236Z"
   },
   {
    "duration": 22,
    "start_time": "2025-06-10T20:49:23.244Z"
   },
   {
    "duration": 21,
    "start_time": "2025-06-10T20:49:23.268Z"
   },
   {
    "duration": 18,
    "start_time": "2025-06-10T20:49:23.291Z"
   },
   {
    "duration": 6,
    "start_time": "2025-06-10T20:49:23.311Z"
   },
   {
    "duration": 26,
    "start_time": "2025-06-10T20:49:23.319Z"
   },
   {
    "duration": 18,
    "start_time": "2025-06-10T20:49:23.346Z"
   },
   {
    "duration": 54,
    "start_time": "2025-06-10T20:49:23.367Z"
   },
   {
    "duration": 32,
    "start_time": "2025-06-10T20:49:23.423Z"
   },
   {
    "duration": 6,
    "start_time": "2025-06-10T20:49:23.457Z"
   },
   {
    "duration": 20,
    "start_time": "2025-06-10T20:49:23.465Z"
   },
   {
    "duration": 80,
    "start_time": "2025-06-10T20:49:23.487Z"
   },
   {
    "duration": 10,
    "start_time": "2025-06-10T20:49:23.569Z"
   },
   {
    "duration": 82,
    "start_time": "2025-06-10T20:49:23.580Z"
   },
   {
    "duration": 18,
    "start_time": "2025-06-10T20:49:23.664Z"
   },
   {
    "duration": 7,
    "start_time": "2025-06-10T20:49:23.683Z"
   },
   {
    "duration": 12,
    "start_time": "2025-06-10T20:49:23.691Z"
   },
   {
    "duration": 34146,
    "start_time": "2025-06-10T20:49:23.704Z"
   },
   {
    "duration": 5,
    "start_time": "2025-06-10T20:49:57.851Z"
   },
   {
    "duration": 42,
    "start_time": "2025-06-10T20:49:57.861Z"
   },
   {
    "duration": 20,
    "start_time": "2025-06-10T20:49:57.905Z"
   },
   {
    "duration": 5,
    "start_time": "2025-06-10T20:49:57.927Z"
   },
   {
    "duration": 24,
    "start_time": "2025-06-10T20:49:57.933Z"
   },
   {
    "duration": 22,
    "start_time": "2025-06-10T20:49:57.958Z"
   },
   {
    "duration": 5,
    "start_time": "2025-06-10T20:49:57.982Z"
   },
   {
    "duration": 20,
    "start_time": "2025-06-10T20:49:57.991Z"
   },
   {
    "duration": 192,
    "start_time": "2025-06-10T20:49:58.013Z"
   },
   {
    "duration": 10,
    "start_time": "2025-06-10T20:49:58.207Z"
   },
   {
    "duration": 323,
    "start_time": "2025-06-10T20:49:58.219Z"
   },
   {
    "duration": 22,
    "start_time": "2025-06-10T20:49:58.543Z"
   },
   {
    "duration": 211,
    "start_time": "2025-06-10T20:49:58.567Z"
   },
   {
    "duration": 166,
    "start_time": "2025-06-10T20:49:58.780Z"
   },
   {
    "duration": 4,
    "start_time": "2025-06-10T20:49:58.948Z"
   },
   {
    "duration": 207,
    "start_time": "2025-06-10T20:49:58.961Z"
   },
   {
    "duration": 4,
    "start_time": "2025-06-10T20:49:59.170Z"
   },
   {
    "duration": 39,
    "start_time": "2025-06-10T20:49:59.176Z"
   },
   {
    "duration": 237,
    "start_time": "2025-06-10T20:49:59.217Z"
   },
   {
    "duration": 216,
    "start_time": "2025-06-10T20:49:59.456Z"
   },
   {
    "duration": 14,
    "start_time": "2025-06-10T20:49:59.675Z"
   },
   {
    "duration": 14,
    "start_time": "2025-06-10T20:49:59.691Z"
   },
   {
    "duration": 12,
    "start_time": "2025-06-10T20:49:59.708Z"
   },
   {
    "duration": 54,
    "start_time": "2025-06-10T20:49:59.722Z"
   },
   {
    "duration": 250,
    "start_time": "2025-06-10T20:49:59.777Z"
   },
   {
    "duration": 11,
    "start_time": "2025-06-10T20:50:00.029Z"
   },
   {
    "duration": 31,
    "start_time": "2025-06-10T20:50:00.041Z"
   },
   {
    "duration": 38,
    "start_time": "2025-06-10T20:50:00.073Z"
   },
   {
    "duration": 34,
    "start_time": "2025-06-10T20:50:00.113Z"
   },
   {
    "duration": 35,
    "start_time": "2025-06-10T20:50:00.149Z"
   },
   {
    "duration": 296,
    "start_time": "2025-06-10T20:50:00.185Z"
   },
   {
    "duration": 5,
    "start_time": "2025-06-10T20:50:00.483Z"
   },
   {
    "duration": 95,
    "start_time": "2025-06-10T20:50:00.490Z"
   },
   {
    "duration": 13,
    "start_time": "2025-06-10T20:50:00.586Z"
   },
   {
    "duration": 11,
    "start_time": "2025-06-10T20:50:00.601Z"
   },
   {
    "duration": 39,
    "start_time": "2025-06-10T20:50:00.614Z"
   },
   {
    "duration": 316,
    "start_time": "2025-06-10T20:50:00.655Z"
   },
   {
    "duration": 14,
    "start_time": "2025-06-10T20:50:00.973Z"
   },
   {
    "duration": 14,
    "start_time": "2025-06-10T20:50:00.989Z"
   }
  ],
  "kernelspec": {
   "display_name": "Python 3 (ipykernel)",
   "language": "python",
   "name": "python3"
  },
  "language_info": {
   "codemirror_mode": {
    "name": "ipython",
    "version": 3
   },
   "file_extension": ".py",
   "mimetype": "text/x-python",
   "name": "python",
   "nbconvert_exporter": "python",
   "pygments_lexer": "ipython3",
   "version": "3.9.5"
  },
  "toc": {
   "base_numbering": 1,
   "nav_menu": {},
   "number_sections": true,
   "sideBar": true,
   "skip_h1_title": true,
   "title_cell": "Table of Contents",
   "title_sidebar": "Contents",
   "toc_cell": false,
   "toc_position": {
    "height": "calc(100% - 180px)",
    "left": "10px",
    "top": "150px",
    "width": "194.271px"
   },
   "toc_section_display": true,
   "toc_window_display": true
  }
 },
 "nbformat": 4,
 "nbformat_minor": 2
}
