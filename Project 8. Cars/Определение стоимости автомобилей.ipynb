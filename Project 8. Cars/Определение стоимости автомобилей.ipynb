{
 "cells": [
  {
   "cell_type": "markdown",
   "metadata": {},
   "source": [
    "# Определение стоимости автомобилей"
   ]
  },
  {
   "cell_type": "markdown",
   "metadata": {},
   "source": [
    "Сервис по продаже автомобилей с пробегом разрабатывает приложение для привлечения новых клиентов. В нём можно быстро узнать рыночную стоимость своего автомобиля. В нашем распоряжении исторические данные: технические характеристики, комплектации и цены автомобилей. Требуется построить модель для определения стоимости. \n",
    "\n",
    "Заказчику важны:\n",
    "\n",
    "- качество предсказания;\n",
    "- скорость предсказания;\n",
    "- время обучения."
   ]
  },
  {
   "cell_type": "markdown",
   "metadata": {},
   "source": [
    "## Подготовка данных"
   ]
  },
  {
   "cell_type": "code",
   "execution_count": 1,
   "metadata": {},
   "outputs": [
    {
     "name": "stdout",
     "output_type": "stream",
     "text": [
      "\u001b[33mWARNING: Error parsing dependencies of ipykernel: Expected matching RIGHT_PARENTHESIS for LEFT_PARENTHESIS, after version specifier\n",
      "    matplotlib-inline (<0.2.0appnope,>=0.1.0) ; platform_system == \"Darwin\"\n",
      "                      ~~~~~~~~^\u001b[0m\u001b[33m\n",
      "\u001b[0m\u001b[33mWARNING: Error parsing dependencies of ipykernel: Expected matching RIGHT_PARENTHESIS for LEFT_PARENTHESIS, after version specifier\n",
      "    matplotlib-inline (<0.2.0appnope,>=0.1.0) ; platform_system == \"Darwin\"\n",
      "                      ~~~~~~~~^\u001b[0m\u001b[33m\n",
      "\u001b[0m\u001b[33mWARNING: Error parsing dependencies of ipykernel: Expected matching RIGHT_PARENTHESIS for LEFT_PARENTHESIS, after version specifier\n",
      "    matplotlib-inline (<0.2.0appnope,>=0.1.0) ; platform_system == \"Darwin\"\n",
      "                      ~~~~~~~~^\u001b[0m\u001b[33m\n",
      "\u001b[0m"
     ]
    }
   ],
   "source": [
    "! pip install -U scikit-learn -q\n",
    "! pip install matplotlib==3.7.3 -q\n",
    "! pip install phik -q"
   ]
  },
  {
   "cell_type": "code",
   "execution_count": 2,
   "metadata": {},
   "outputs": [],
   "source": [
    "# импортируем необходимые библиотеки:\n",
    "import pandas as pd\n",
    "import numpy as np\n",
    "import matplotlib.pyplot as plt\n",
    "import seaborn as sns\n",
    "\n",
    "from sklearn.model_selection import train_test_split\n",
    "from sklearn.pipeline import Pipeline\n",
    "# загружаем функцию для работы с метриками\n",
    "from sklearn.metrics import root_mean_squared_error\n",
    "from sklearn.preprocessing import (\n",
    "    OneHotEncoder,\n",
    "    OrdinalEncoder, \n",
    "    StandardScaler, \n",
    "    MinMaxScaler,\n",
    "    RobustScaler,\n",
    "    LabelEncoder\n",
    ")\n",
    "from sklearn.compose import ColumnTransformer\n",
    "# загружаем класс для работы с пропусками\n",
    "from sklearn.impute import SimpleImputer\n",
    "# импортируем класс:\n",
    "from sklearn.model_selection import RandomizedSearchCV, GridSearchCV\n",
    "# загружаем нужные модели\n",
    "from sklearn.linear_model import LinearRegression\n",
    "from sklearn.tree import DecisionTreeRegressor\n",
    "from phik import phik_matrix\n",
    "from phik.report import plot_correlation_matrix\n",
    "\n",
    "import time\n",
    "\n",
    "import warnings \n",
    "warnings.filterwarnings('ignore')\n",
    "\n",
    "import catboost\n",
    "from catboost import CatBoostRegressor, Pool, cv\n",
    "import lightgbm as lgb\n",
    "from lightgbm import LGBMRegressor"
   ]
  },
  {
   "cell_type": "markdown",
   "metadata": {},
   "source": [
    "### Загрузка и обработка данных"
   ]
  },
  {
   "cell_type": "code",
   "execution_count": 3,
   "metadata": {},
   "outputs": [
    {
     "data": {
      "text/html": [
       "<div>\n",
       "<style scoped>\n",
       "    .dataframe tbody tr th:only-of-type {\n",
       "        vertical-align: middle;\n",
       "    }\n",
       "\n",
       "    .dataframe tbody tr th {\n",
       "        vertical-align: top;\n",
       "    }\n",
       "\n",
       "    .dataframe thead th {\n",
       "        text-align: right;\n",
       "    }\n",
       "</style>\n",
       "<table border=\"1\" class=\"dataframe\">\n",
       "  <thead>\n",
       "    <tr style=\"text-align: right;\">\n",
       "      <th></th>\n",
       "      <th>DateCrawled</th>\n",
       "      <th>Price</th>\n",
       "      <th>VehicleType</th>\n",
       "      <th>RegistrationYear</th>\n",
       "      <th>Gearbox</th>\n",
       "      <th>Power</th>\n",
       "      <th>Model</th>\n",
       "      <th>Kilometer</th>\n",
       "      <th>RegistrationMonth</th>\n",
       "      <th>FuelType</th>\n",
       "      <th>Brand</th>\n",
       "      <th>Repaired</th>\n",
       "      <th>DateCreated</th>\n",
       "      <th>NumberOfPictures</th>\n",
       "      <th>PostalCode</th>\n",
       "      <th>LastSeen</th>\n",
       "    </tr>\n",
       "  </thead>\n",
       "  <tbody>\n",
       "    <tr>\n",
       "      <th>0</th>\n",
       "      <td>2016-03-24 11:52:17</td>\n",
       "      <td>480</td>\n",
       "      <td>NaN</td>\n",
       "      <td>1993</td>\n",
       "      <td>manual</td>\n",
       "      <td>0</td>\n",
       "      <td>golf</td>\n",
       "      <td>150000</td>\n",
       "      <td>0</td>\n",
       "      <td>petrol</td>\n",
       "      <td>volkswagen</td>\n",
       "      <td>NaN</td>\n",
       "      <td>2016-03-24 00:00:00</td>\n",
       "      <td>0</td>\n",
       "      <td>70435</td>\n",
       "      <td>2016-04-07 03:16:57</td>\n",
       "    </tr>\n",
       "    <tr>\n",
       "      <th>1</th>\n",
       "      <td>2016-03-24 10:58:45</td>\n",
       "      <td>18300</td>\n",
       "      <td>coupe</td>\n",
       "      <td>2011</td>\n",
       "      <td>manual</td>\n",
       "      <td>190</td>\n",
       "      <td>NaN</td>\n",
       "      <td>125000</td>\n",
       "      <td>5</td>\n",
       "      <td>gasoline</td>\n",
       "      <td>audi</td>\n",
       "      <td>yes</td>\n",
       "      <td>2016-03-24 00:00:00</td>\n",
       "      <td>0</td>\n",
       "      <td>66954</td>\n",
       "      <td>2016-04-07 01:46:50</td>\n",
       "    </tr>\n",
       "    <tr>\n",
       "      <th>2</th>\n",
       "      <td>2016-03-14 12:52:21</td>\n",
       "      <td>9800</td>\n",
       "      <td>suv</td>\n",
       "      <td>2004</td>\n",
       "      <td>auto</td>\n",
       "      <td>163</td>\n",
       "      <td>grand</td>\n",
       "      <td>125000</td>\n",
       "      <td>8</td>\n",
       "      <td>gasoline</td>\n",
       "      <td>jeep</td>\n",
       "      <td>NaN</td>\n",
       "      <td>2016-03-14 00:00:00</td>\n",
       "      <td>0</td>\n",
       "      <td>90480</td>\n",
       "      <td>2016-04-05 12:47:46</td>\n",
       "    </tr>\n",
       "    <tr>\n",
       "      <th>3</th>\n",
       "      <td>2016-03-17 16:54:04</td>\n",
       "      <td>1500</td>\n",
       "      <td>small</td>\n",
       "      <td>2001</td>\n",
       "      <td>manual</td>\n",
       "      <td>75</td>\n",
       "      <td>golf</td>\n",
       "      <td>150000</td>\n",
       "      <td>6</td>\n",
       "      <td>petrol</td>\n",
       "      <td>volkswagen</td>\n",
       "      <td>no</td>\n",
       "      <td>2016-03-17 00:00:00</td>\n",
       "      <td>0</td>\n",
       "      <td>91074</td>\n",
       "      <td>2016-03-17 17:40:17</td>\n",
       "    </tr>\n",
       "    <tr>\n",
       "      <th>4</th>\n",
       "      <td>2016-03-31 17:25:20</td>\n",
       "      <td>3600</td>\n",
       "      <td>small</td>\n",
       "      <td>2008</td>\n",
       "      <td>manual</td>\n",
       "      <td>69</td>\n",
       "      <td>fabia</td>\n",
       "      <td>90000</td>\n",
       "      <td>7</td>\n",
       "      <td>gasoline</td>\n",
       "      <td>skoda</td>\n",
       "      <td>no</td>\n",
       "      <td>2016-03-31 00:00:00</td>\n",
       "      <td>0</td>\n",
       "      <td>60437</td>\n",
       "      <td>2016-04-06 10:17:21</td>\n",
       "    </tr>\n",
       "  </tbody>\n",
       "</table>\n",
       "</div>"
      ],
      "text/plain": [
       "           DateCrawled  Price VehicleType  RegistrationYear Gearbox  Power  \\\n",
       "0  2016-03-24 11:52:17    480         NaN              1993  manual      0   \n",
       "1  2016-03-24 10:58:45  18300       coupe              2011  manual    190   \n",
       "2  2016-03-14 12:52:21   9800         suv              2004    auto    163   \n",
       "3  2016-03-17 16:54:04   1500       small              2001  manual     75   \n",
       "4  2016-03-31 17:25:20   3600       small              2008  manual     69   \n",
       "\n",
       "   Model  Kilometer  RegistrationMonth  FuelType       Brand Repaired  \\\n",
       "0   golf     150000                  0    petrol  volkswagen      NaN   \n",
       "1    NaN     125000                  5  gasoline        audi      yes   \n",
       "2  grand     125000                  8  gasoline        jeep      NaN   \n",
       "3   golf     150000                  6    petrol  volkswagen       no   \n",
       "4  fabia      90000                  7  gasoline       skoda       no   \n",
       "\n",
       "           DateCreated  NumberOfPictures  PostalCode             LastSeen  \n",
       "0  2016-03-24 00:00:00                 0       70435  2016-04-07 03:16:57  \n",
       "1  2016-03-24 00:00:00                 0       66954  2016-04-07 01:46:50  \n",
       "2  2016-03-14 00:00:00                 0       90480  2016-04-05 12:47:46  \n",
       "3  2016-03-17 00:00:00                 0       91074  2016-03-17 17:40:17  \n",
       "4  2016-03-31 00:00:00                 0       60437  2016-04-06 10:17:21  "
      ]
     },
     "metadata": {},
     "output_type": "display_data"
    },
    {
     "name": "stdout",
     "output_type": "stream",
     "text": [
      "<class 'pandas.core.frame.DataFrame'>\n",
      "RangeIndex: 354369 entries, 0 to 354368\n",
      "Data columns (total 16 columns):\n",
      " #   Column             Non-Null Count   Dtype \n",
      "---  ------             --------------   ----- \n",
      " 0   DateCrawled        354369 non-null  object\n",
      " 1   Price              354369 non-null  int64 \n",
      " 2   VehicleType        316879 non-null  object\n",
      " 3   RegistrationYear   354369 non-null  int64 \n",
      " 4   Gearbox            334536 non-null  object\n",
      " 5   Power              354369 non-null  int64 \n",
      " 6   Model              334664 non-null  object\n",
      " 7   Kilometer          354369 non-null  int64 \n",
      " 8   RegistrationMonth  354369 non-null  int64 \n",
      " 9   FuelType           321474 non-null  object\n",
      " 10  Brand              354369 non-null  object\n",
      " 11  Repaired           283215 non-null  object\n",
      " 12  DateCreated        354369 non-null  object\n",
      " 13  NumberOfPictures   354369 non-null  int64 \n",
      " 14  PostalCode         354369 non-null  int64 \n",
      " 15  LastSeen           354369 non-null  object\n",
      "dtypes: int64(7), object(9)\n",
      "memory usage: 43.3+ MB\n"
     ]
    }
   ],
   "source": [
    "autos = pd.read_csv ('/datasets/autos.csv')\n",
    "display(autos.head())\n",
    "autos.info()"
   ]
  },
  {
   "cell_type": "markdown",
   "metadata": {},
   "source": [
    "Всего 354 369 строк и 16 признаков. Признаки тип автомобильного кузова \"VehicleType\", тип коробки передач \"Gearbox\", модель автомобиля \"Model\", тип топлива \"FuelType\" и была машина в ремонте или нет \"Repaired\" содержат пропуски. \n",
    "\n",
    "Также признакам дата скачивания анкеты из базы \"DateCrawled\", дата создания анкеты \"DateCreated\" и дата последней активности пользователя \"LastSeen\" больше подходит тип данных дата:         "
   ]
  },
  {
   "cell_type": "code",
   "execution_count": 4,
   "metadata": {},
   "outputs": [
    {
     "data": {
      "text/plain": [
       "Index(['DateCrawled', 'Price', 'VehicleType', 'RegistrationYear', 'Gearbox',\n",
       "       'Power', 'Model', 'Kilometer', 'RegistrationMonth', 'FuelType', 'Brand',\n",
       "       'Repaired', 'DateCreated', 'NumberOfPictures', 'PostalCode',\n",
       "       'LastSeen'],\n",
       "      dtype='object')"
      ]
     },
     "execution_count": 4,
     "metadata": {},
     "output_type": "execute_result"
    }
   ],
   "source": [
    "autos.columns"
   ]
  },
  {
   "cell_type": "code",
   "execution_count": 5,
   "metadata": {},
   "outputs": [],
   "source": [
    "# изменим типы данных:\n",
    "autos [['DateCrawled', 'DateCreated', 'LastSeen']] = autos [['DateCrawled', 'DateCreated', 'LastSeen']].astype('datetime64[ns]')"
   ]
  },
  {
   "cell_type": "markdown",
   "metadata": {},
   "source": [
    "Удалим неинформативные признаки - дата скачивания анкеты из базы \"DateCrawled\" и почтовый индекс владельца анкеты (пользователя) \"PostalCode\":"
   ]
  },
  {
   "cell_type": "code",
   "execution_count": 6,
   "metadata": {},
   "outputs": [],
   "source": [
    "autos = autos.drop (['PostalCode'], axis =1)"
   ]
  },
  {
   "cell_type": "markdown",
   "metadata": {},
   "source": [
    "Отсутствие данных в признаке \"Repaired\" вероятно связан с отсутствием ремонтов у машины. Заменим пропуски в данном столбце на \"no\":"
   ]
  },
  {
   "cell_type": "code",
   "execution_count": 7,
   "metadata": {},
   "outputs": [],
   "source": [
    "autos ['Repaired'] = autos ['Repaired'].fillna ('no')"
   ]
  },
  {
   "cell_type": "markdown",
   "metadata": {},
   "source": [
    "Пропуски в признаке \"Model\" заполним заполним наиболее часто встречающейся моделью такого же бренда."
   ]
  },
  {
   "cell_type": "code",
   "execution_count": 8,
   "metadata": {},
   "outputs": [],
   "source": [
    "def mode(series):\n",
    "    return series.mode().iloc[0] if not series.mode().empty else None\n",
    "\n",
    "grouped_autos = autos.groupby('Brand')['Model'].agg(mode)\n",
    "\n",
    "for brand, model in grouped_autos.items():\n",
    "    autos.loc[((autos['Brand'] == brand) & (autos['Model'].isna())), 'Model'] = model"
   ]
  },
  {
   "cell_type": "code",
   "execution_count": 9,
   "metadata": {},
   "outputs": [
    {
     "data": {
      "text/plain": [
       "3374"
      ]
     },
     "execution_count": 9,
     "metadata": {},
     "output_type": "execute_result"
    }
   ],
   "source": [
    "#проверим остались ли пропуски в признаке  \"Model\":\n",
    "autos['Model'].isna().sum()"
   ]
  },
  {
   "cell_type": "markdown",
   "metadata": {},
   "source": [
    "Оставшиеся пропуски в признаке \"Model\" заполним на 'unknown':"
   ]
  },
  {
   "cell_type": "code",
   "execution_count": 10,
   "metadata": {},
   "outputs": [],
   "source": [
    "autos ['Model'] = autos ['Model'].fillna ('unknown')"
   ]
  },
  {
   "cell_type": "code",
   "execution_count": 11,
   "metadata": {},
   "outputs": [
    {
     "data": {
      "text/plain": [
       "0"
      ]
     },
     "execution_count": 11,
     "metadata": {},
     "output_type": "execute_result"
    }
   ],
   "source": [
    "autos ['Model'].isna().sum()"
   ]
  },
  {
   "cell_type": "markdown",
   "metadata": {},
   "source": [
    "Пропуски в остальных признаках заполним наиболее часто встречающимся значением у автомобилей той же модели:"
   ]
  },
  {
   "cell_type": "code",
   "execution_count": 12,
   "metadata": {},
   "outputs": [],
   "source": [
    "for f in ['VehicleType', 'Gearbox', 'FuelType']:\n",
    "    grouped_autos = autos.groupby('Model')[f].agg(mode)\n",
    "    for model, feat in grouped_autos.items():\n",
    "        autos.loc[((autos['Model'] == model) & (autos[f].isna())), f] = feat\n",
    "    "
   ]
  },
  {
   "cell_type": "code",
   "execution_count": 13,
   "metadata": {},
   "outputs": [
    {
     "name": "stdout",
     "output_type": "stream",
     "text": [
      "<class 'pandas.core.frame.DataFrame'>\n",
      "RangeIndex: 354369 entries, 0 to 354368\n",
      "Data columns (total 15 columns):\n",
      " #   Column             Non-Null Count   Dtype         \n",
      "---  ------             --------------   -----         \n",
      " 0   DateCrawled        354369 non-null  datetime64[ns]\n",
      " 1   Price              354369 non-null  int64         \n",
      " 2   VehicleType        354369 non-null  object        \n",
      " 3   RegistrationYear   354369 non-null  int64         \n",
      " 4   Gearbox            354369 non-null  object        \n",
      " 5   Power              354369 non-null  int64         \n",
      " 6   Model              354369 non-null  object        \n",
      " 7   Kilometer          354369 non-null  int64         \n",
      " 8   RegistrationMonth  354369 non-null  int64         \n",
      " 9   FuelType           354369 non-null  object        \n",
      " 10  Brand              354369 non-null  object        \n",
      " 11  Repaired           354369 non-null  object        \n",
      " 12  DateCreated        354369 non-null  datetime64[ns]\n",
      " 13  NumberOfPictures   354369 non-null  int64         \n",
      " 14  LastSeen           354369 non-null  datetime64[ns]\n",
      "dtypes: datetime64[ns](3), int64(6), object(6)\n",
      "memory usage: 40.6+ MB\n"
     ]
    }
   ],
   "source": [
    "autos.info()"
   ]
  },
  {
   "cell_type": "code",
   "execution_count": 14,
   "metadata": {},
   "outputs": [
    {
     "name": "stdout",
     "output_type": "stream",
     "text": [
      "Значения категориального признака VehicleType: ['sedan' 'coupe' 'suv' 'small' 'convertible' 'bus' 'wagon' 'other']\n",
      "Значения категориального признака Gearbox: ['manual' 'auto']\n",
      "Значения категориального признака Model: ['golf' 'a4' 'grand' 'fabia' '3er' '2_reihe' 'other' 'c_max' '3_reihe'\n",
      " 'passat' 'navara' 'ka' 'polo' 'twingo' 'a_klasse' 'scirocco' '5er'\n",
      " 'meriva' 'arosa' 'c4' 'civic' 'transporter' 'punto' 'e_klasse' 'clio'\n",
      " 'kadett' 'kangoo' 'corsa' 'one' 'fortwo' '1er' 'b_klasse' 'signum'\n",
      " 'astra' 'unknown' 'a8' 'jetta' 'fiesta' 'c_klasse' 'micra' 'vito'\n",
      " 'sprinter' '156' 'escort' 'forester' 'xc_reihe' 'scenic' 'a1' 'insignia'\n",
      " 'combo' 'focus' 'tt' 'a6' 'jazz' 'omega' 'slk' '7er' '80' '147' '100'\n",
      " 'z_reihe' 'sportage' 'sorento' 'v40' 'ibiza' 'mustang' 'eos' 'touran'\n",
      " 'getz' 'a3' 'almera' 'megane' 'lupo' 'r19' 'zafira' 'caddy' 'mondeo'\n",
      " 'cordoba' 'colt' 'impreza' 'vectra' 'berlingo' 'tiguan' 'i_reihe'\n",
      " 'espace' 'sharan' '6_reihe' 'panda' 'up' 'seicento' 'ceed' '5_reihe'\n",
      " 'yeti' 'octavia' 'mii' 'rx_reihe' '6er' 'modus' 'fox' 'matiz' 'beetle'\n",
      " 'c1' 'rio' 'touareg' 'logan' 'spider' 'cuore' 's_max' 'a2' 'galaxy' 'c3'\n",
      " 'viano' 's_klasse' '1_reihe' 'avensis' 'yaris' 'roomster' 'sl' 'kaefer'\n",
      " 'santa' '601' 'cooper' 'leon' '4_reihe' 'a5' '500' 'laguna' 'ptcruiser'\n",
      " 'clk' 'primera' 'x_reihe' 'exeo' '159' 'transit' 'juke' 'qashqai'\n",
      " 'carisma' 'accord' 'corolla' 'lanos' 'phaeton' 'verso' 'swift' 'rav'\n",
      " 'picanto' 'boxster' 'kalos' 'superb' 'stilo' 'alhambra' 'mx_reihe'\n",
      " 'roadster' 'ypsilon' 'cayenne' 'galant' 'justy' '90' 'sirion' 'crossfire'\n",
      " 'agila' 'duster' 'cr_reihe' 'v50' 'c_reihe' 'v_klasse' 'm_klasse' 'c5'\n",
      " 'aygo' 'cc' 'carnival' 'fusion' '911' 'bora' 'forfour' 'm_reihe' 'cl'\n",
      " 'tigra' '300c' 'spark' 'v70' 'kuga' 'x_type' 'ducato' 's_type' 'x_trail'\n",
      " 'toledo' 'altea' 'voyager' 'calibra' 'bravo' 'antara' 'tucson' 'citigo'\n",
      " 'jimny' 'wrangler' 'lybra' 'q7' 'lancer' 'captiva' 'c2' 'discovery'\n",
      " 'freelander' 'sandero' 'note' '900' 'cherokee' 'clubman' 'samara'\n",
      " 'defender' 'cx_reihe' 'legacy' 'pajero' 'auris' 'niva' 's60' 'nubira'\n",
      " 'vivaro' 'g_klasse' 'lodgy' '850' 'range_rover' 'q3' 'serie_2' 'glk'\n",
      " 'charade' 'croma' 'outlander' 'doblo' 'musa' 'move' '9000' 'v60' '145'\n",
      " 'aveo' '200' 'b_max' 'range_rover_sport' 'terios' 'rangerover' 'q5'\n",
      " 'range_rover_evoque' 'materia' 'delta' 'gl' 'kalina' 'amarok'\n",
      " 'elefantino' 'i3' 'kappa' 'serie_3' 'serie_1']\n",
      "Значения категориального признака FuelType: ['petrol' 'gasoline' 'lpg' 'other' 'hybrid' 'cng' 'electric']\n",
      "Значения категориального признака Brand: ['volkswagen' 'audi' 'jeep' 'skoda' 'bmw' 'peugeot' 'ford' 'mazda'\n",
      " 'nissan' 'renault' 'mercedes_benz' 'opel' 'seat' 'citroen' 'honda' 'fiat'\n",
      " 'mini' 'smart' 'hyundai' 'sonstige_autos' 'alfa_romeo' 'subaru' 'volvo'\n",
      " 'mitsubishi' 'kia' 'suzuki' 'lancia' 'toyota' 'chevrolet' 'dacia'\n",
      " 'daihatsu' 'trabant' 'saab' 'chrysler' 'jaguar' 'daewoo' 'porsche'\n",
      " 'rover' 'land_rover' 'lada']\n",
      "Значения категориального признака Repaired: ['no' 'yes']\n"
     ]
    }
   ],
   "source": [
    "# проверим заполнение категориальных признаков на наличие неявных дубликатов:\n",
    "cat_col = autos.select_dtypes(include=['object']).columns.to_list()\n",
    "for col in cat_col: \n",
    "    print(f'Значения категориального признака {col}: {autos[col].unique()}')"
   ]
  },
  {
   "cell_type": "markdown",
   "metadata": {},
   "source": [
    "Неявные дубликаты не выявлены."
   ]
  },
  {
   "cell_type": "markdown",
   "metadata": {},
   "source": [
    "Посмотрим на описание количественных признаков:"
   ]
  },
  {
   "cell_type": "code",
   "execution_count": 15,
   "metadata": {},
   "outputs": [
    {
     "data": {
      "text/html": [
       "<div>\n",
       "<style scoped>\n",
       "    .dataframe tbody tr th:only-of-type {\n",
       "        vertical-align: middle;\n",
       "    }\n",
       "\n",
       "    .dataframe tbody tr th {\n",
       "        vertical-align: top;\n",
       "    }\n",
       "\n",
       "    .dataframe thead th {\n",
       "        text-align: right;\n",
       "    }\n",
       "</style>\n",
       "<table border=\"1\" class=\"dataframe\">\n",
       "  <thead>\n",
       "    <tr style=\"text-align: right;\">\n",
       "      <th></th>\n",
       "      <th>DateCrawled</th>\n",
       "      <th>Price</th>\n",
       "      <th>RegistrationYear</th>\n",
       "      <th>Power</th>\n",
       "      <th>Kilometer</th>\n",
       "      <th>RegistrationMonth</th>\n",
       "      <th>DateCreated</th>\n",
       "      <th>NumberOfPictures</th>\n",
       "      <th>LastSeen</th>\n",
       "    </tr>\n",
       "  </thead>\n",
       "  <tbody>\n",
       "    <tr>\n",
       "      <th>count</th>\n",
       "      <td>354369</td>\n",
       "      <td>354369.000000</td>\n",
       "      <td>354369.000000</td>\n",
       "      <td>354369.000000</td>\n",
       "      <td>354369.000000</td>\n",
       "      <td>354369.000000</td>\n",
       "      <td>354369</td>\n",
       "      <td>354369.0</td>\n",
       "      <td>354369</td>\n",
       "    </tr>\n",
       "    <tr>\n",
       "      <th>mean</th>\n",
       "      <td>2016-03-21 12:58:10.450648320</td>\n",
       "      <td>4416.656776</td>\n",
       "      <td>2004.234448</td>\n",
       "      <td>110.094337</td>\n",
       "      <td>128211.172535</td>\n",
       "      <td>5.714645</td>\n",
       "      <td>2016-03-20 19:12:07.753274112</td>\n",
       "      <td>0.0</td>\n",
       "      <td>2016-03-29 23:51:00.667456768</td>\n",
       "    </tr>\n",
       "    <tr>\n",
       "      <th>min</th>\n",
       "      <td>2016-03-05 14:06:22</td>\n",
       "      <td>0.000000</td>\n",
       "      <td>1000.000000</td>\n",
       "      <td>0.000000</td>\n",
       "      <td>5000.000000</td>\n",
       "      <td>0.000000</td>\n",
       "      <td>2014-03-10 00:00:00</td>\n",
       "      <td>0.0</td>\n",
       "      <td>2016-03-05 14:15:08</td>\n",
       "    </tr>\n",
       "    <tr>\n",
       "      <th>25%</th>\n",
       "      <td>2016-03-13 11:52:33</td>\n",
       "      <td>1050.000000</td>\n",
       "      <td>1999.000000</td>\n",
       "      <td>69.000000</td>\n",
       "      <td>125000.000000</td>\n",
       "      <td>3.000000</td>\n",
       "      <td>2016-03-13 00:00:00</td>\n",
       "      <td>0.0</td>\n",
       "      <td>2016-03-23 02:50:03</td>\n",
       "    </tr>\n",
       "    <tr>\n",
       "      <th>50%</th>\n",
       "      <td>2016-03-21 17:50:55</td>\n",
       "      <td>2700.000000</td>\n",
       "      <td>2003.000000</td>\n",
       "      <td>105.000000</td>\n",
       "      <td>150000.000000</td>\n",
       "      <td>6.000000</td>\n",
       "      <td>2016-03-21 00:00:00</td>\n",
       "      <td>0.0</td>\n",
       "      <td>2016-04-03 15:15:51</td>\n",
       "    </tr>\n",
       "    <tr>\n",
       "      <th>75%</th>\n",
       "      <td>2016-03-29 14:37:20</td>\n",
       "      <td>6400.000000</td>\n",
       "      <td>2008.000000</td>\n",
       "      <td>143.000000</td>\n",
       "      <td>150000.000000</td>\n",
       "      <td>9.000000</td>\n",
       "      <td>2016-03-29 00:00:00</td>\n",
       "      <td>0.0</td>\n",
       "      <td>2016-04-06 10:15:19</td>\n",
       "    </tr>\n",
       "    <tr>\n",
       "      <th>max</th>\n",
       "      <td>2016-04-07 14:36:58</td>\n",
       "      <td>20000.000000</td>\n",
       "      <td>9999.000000</td>\n",
       "      <td>20000.000000</td>\n",
       "      <td>150000.000000</td>\n",
       "      <td>12.000000</td>\n",
       "      <td>2016-04-07 00:00:00</td>\n",
       "      <td>0.0</td>\n",
       "      <td>2016-04-07 14:58:51</td>\n",
       "    </tr>\n",
       "    <tr>\n",
       "      <th>std</th>\n",
       "      <td>NaN</td>\n",
       "      <td>4514.158514</td>\n",
       "      <td>90.227958</td>\n",
       "      <td>189.850405</td>\n",
       "      <td>37905.341530</td>\n",
       "      <td>3.726421</td>\n",
       "      <td>NaN</td>\n",
       "      <td>0.0</td>\n",
       "      <td>NaN</td>\n",
       "    </tr>\n",
       "  </tbody>\n",
       "</table>\n",
       "</div>"
      ],
      "text/plain": [
       "                         DateCrawled          Price  RegistrationYear  \\\n",
       "count                         354369  354369.000000     354369.000000   \n",
       "mean   2016-03-21 12:58:10.450648320    4416.656776       2004.234448   \n",
       "min              2016-03-05 14:06:22       0.000000       1000.000000   \n",
       "25%              2016-03-13 11:52:33    1050.000000       1999.000000   \n",
       "50%              2016-03-21 17:50:55    2700.000000       2003.000000   \n",
       "75%              2016-03-29 14:37:20    6400.000000       2008.000000   \n",
       "max              2016-04-07 14:36:58   20000.000000       9999.000000   \n",
       "std                              NaN    4514.158514         90.227958   \n",
       "\n",
       "               Power      Kilometer  RegistrationMonth  \\\n",
       "count  354369.000000  354369.000000      354369.000000   \n",
       "mean      110.094337  128211.172535           5.714645   \n",
       "min         0.000000    5000.000000           0.000000   \n",
       "25%        69.000000  125000.000000           3.000000   \n",
       "50%       105.000000  150000.000000           6.000000   \n",
       "75%       143.000000  150000.000000           9.000000   \n",
       "max     20000.000000  150000.000000          12.000000   \n",
       "std       189.850405   37905.341530           3.726421   \n",
       "\n",
       "                         DateCreated  NumberOfPictures  \\\n",
       "count                         354369          354369.0   \n",
       "mean   2016-03-20 19:12:07.753274112               0.0   \n",
       "min              2014-03-10 00:00:00               0.0   \n",
       "25%              2016-03-13 00:00:00               0.0   \n",
       "50%              2016-03-21 00:00:00               0.0   \n",
       "75%              2016-03-29 00:00:00               0.0   \n",
       "max              2016-04-07 00:00:00               0.0   \n",
       "std                              NaN               0.0   \n",
       "\n",
       "                            LastSeen  \n",
       "count                         354369  \n",
       "mean   2016-03-29 23:51:00.667456768  \n",
       "min              2016-03-05 14:15:08  \n",
       "25%              2016-03-23 02:50:03  \n",
       "50%              2016-04-03 15:15:51  \n",
       "75%              2016-04-06 10:15:19  \n",
       "max              2016-04-07 14:58:51  \n",
       "std                              NaN  "
      ]
     },
     "execution_count": 15,
     "metadata": {},
     "output_type": "execute_result"
    }
   ],
   "source": [
    "autos.describe()"
   ]
  },
  {
   "cell_type": "markdown",
   "metadata": {},
   "source": [
    "Признак количество фотографий автомобиля \"NumberOfPictures\" у всех строк = 0. Данный столбец также не несет никакой информации, поэтому его также удаляем."
   ]
  },
  {
   "cell_type": "code",
   "execution_count": 16,
   "metadata": {},
   "outputs": [
    {
     "data": {
      "text/plain": [
       "NumberOfPictures\n",
       "0    354369\n",
       "Name: count, dtype: int64"
      ]
     },
     "execution_count": 16,
     "metadata": {},
     "output_type": "execute_result"
    }
   ],
   "source": [
    "autos['NumberOfPictures'].value_counts()"
   ]
  },
  {
   "cell_type": "code",
   "execution_count": 17,
   "metadata": {},
   "outputs": [
    {
     "data": {
      "text/html": [
       "<div>\n",
       "<style scoped>\n",
       "    .dataframe tbody tr th:only-of-type {\n",
       "        vertical-align: middle;\n",
       "    }\n",
       "\n",
       "    .dataframe tbody tr th {\n",
       "        vertical-align: top;\n",
       "    }\n",
       "\n",
       "    .dataframe thead th {\n",
       "        text-align: right;\n",
       "    }\n",
       "</style>\n",
       "<table border=\"1\" class=\"dataframe\">\n",
       "  <thead>\n",
       "    <tr style=\"text-align: right;\">\n",
       "      <th></th>\n",
       "      <th>DateCrawled</th>\n",
       "      <th>Price</th>\n",
       "      <th>VehicleType</th>\n",
       "      <th>RegistrationYear</th>\n",
       "      <th>Gearbox</th>\n",
       "      <th>Power</th>\n",
       "      <th>Model</th>\n",
       "      <th>Kilometer</th>\n",
       "      <th>RegistrationMonth</th>\n",
       "      <th>FuelType</th>\n",
       "      <th>Brand</th>\n",
       "      <th>Repaired</th>\n",
       "      <th>DateCreated</th>\n",
       "      <th>LastSeen</th>\n",
       "    </tr>\n",
       "  </thead>\n",
       "  <tbody>\n",
       "    <tr>\n",
       "      <th>48464</th>\n",
       "      <td>2016-03-29 21:51:20</td>\n",
       "      <td>2650</td>\n",
       "      <td>small</td>\n",
       "      <td>2003</td>\n",
       "      <td>manual</td>\n",
       "      <td>83</td>\n",
       "      <td>jazz</td>\n",
       "      <td>150000</td>\n",
       "      <td>8</td>\n",
       "      <td>petrol</td>\n",
       "      <td>honda</td>\n",
       "      <td>no</td>\n",
       "      <td>2016-03-29</td>\n",
       "      <td>2016-04-02 11:15:24</td>\n",
       "    </tr>\n",
       "  </tbody>\n",
       "</table>\n",
       "</div>"
      ],
      "text/plain": [
       "              DateCrawled  Price VehicleType  RegistrationYear Gearbox  Power  \\\n",
       "48464 2016-03-29 21:51:20   2650       small              2003  manual     83   \n",
       "\n",
       "      Model  Kilometer  RegistrationMonth FuelType  Brand Repaired  \\\n",
       "48464  jazz     150000                  8   petrol  honda       no   \n",
       "\n",
       "      DateCreated            LastSeen  \n",
       "48464  2016-03-29 2016-04-02 11:15:24  "
      ]
     },
     "execution_count": 17,
     "metadata": {},
     "output_type": "execute_result"
    }
   ],
   "source": [
    "autos = autos.drop ('NumberOfPictures', axis =1)\n",
    "autos.sample()"
   ]
  },
  {
   "cell_type": "markdown",
   "metadata": {},
   "source": [
    "Признаки цена (евро) \"Price\", год регистрации автомобиля \"RegistrationYear\", мощность (л. с.) \"Power\" и месяц регистрации автомобиля \"RegistrationMonth\" имеют аномальные значения, в том числе и нулевые. Рассмотрим их по отдельности."
   ]
  },
  {
   "cell_type": "markdown",
   "metadata": {},
   "source": [
    "Посмотрим на графике распределение цен на автомобили:"
   ]
  },
  {
   "cell_type": "code",
   "execution_count": 18,
   "metadata": {},
   "outputs": [
    {
     "data": {
      "image/png": "[encoded data removed]",
      "text/plain": [
       "<Figure size 1152x288 with 2 Axes>"
      ]
     },
     "metadata": {
      "needs_background": "light"
     },
     "output_type": "display_data"
    }
   ],
   "source": [
    "def pic(features):\n",
    "    figure, axis = plt.subplots(1, 2)\n",
    "    figure.set_figheight(4)\n",
    "    figure.set_figwidth(16)\n",
    "\n",
    "    axis[0].hist(features, bins = 50)\n",
    "    axis[0].set_title(f'Гистограмма распределения значений признака {features.name}') \n",
    "    axis[0].set_xlabel(f'{features.name}') \n",
    "    axis[0].set_ylabel('Количество') \n",
    "  \n",
    "    axis[1].boxplot(features) \n",
    "    axis[1].set_title (f'Ящик с усами значений признака {features.name}') \n",
    "    axis[1].set_ylabel(f'{features.name}') \n",
    "    return plt.show() \n",
    "\n",
    "pic(autos['Price'])"
   ]
  },
  {
   "cell_type": "markdown",
   "metadata": {},
   "source": [
    "Графики показывают, что достаточно много аномально низких значений, близких к 0, а также присутствуют нестандартно высокие значения. Т.к. аномалии в дальнейшем могут исказить прогнозы, удалим их, оставив значения от 20% квантиля."
   ]
  },
  {
   "cell_type": "code",
   "execution_count": 19,
   "metadata": {},
   "outputs": [
    {
     "name": "stdout",
     "output_type": "stream",
     "text": [
      "Размер данных после удаления аномалий признака цены: (283580, 14)\n"
     ]
    }
   ],
   "source": [
    "autos = autos.query ('Price.quantile(0.20) <= Price')\n",
    "print('Размер данных после удаления аномалий признака цены:', autos.shape)"
   ]
  },
  {
   "cell_type": "markdown",
   "metadata": {},
   "source": [
    "Признак год регистрации автомобиля **\"RegistrationYear\"** также содержит нереальные значения."
   ]
  },
  {
   "cell_type": "code",
   "execution_count": 20,
   "metadata": {},
   "outputs": [
    {
     "data": {
      "text/plain": [
       "array([1000, 1001, 1039, 1234, 1400, 1500, 1600, 1800, 1910, 1923, 1925,\n",
       "       1927, 1928, 1929, 1930, 1931, 1932, 1933, 1934, 1935, 1936, 1937,\n",
       "       1938, 1940, 1941, 1942, 1943, 1944, 1945, 1946, 1947, 1948, 1949,\n",
       "       1950, 1951, 1952, 1953, 1954, 1955, 1956, 1957, 1958, 1959, 1960,\n",
       "       1961, 1962, 1963, 1964, 1965, 1966, 1967, 1968, 1969, 1970, 1971,\n",
       "       1972, 1973, 1974, 1975, 1976, 1977, 1978, 1979, 1980, 1981, 1982,\n",
       "       1983, 1984, 1985, 1986, 1987, 1988, 1989, 1990, 1991, 1992, 1993,\n",
       "       1994, 1995, 1996, 1997, 1998, 1999, 2000, 2001, 2002, 2003, 2004,\n",
       "       2005, 2006, 2007, 2008, 2009, 2010, 2011, 2012, 2013, 2014, 2015,\n",
       "       2016, 2017, 2018, 2019, 2500, 2800, 2900, 3000, 3200, 3700, 4000,\n",
       "       4100, 4500, 5000, 5555, 5911, 6000, 7000, 7100, 7800, 8500, 8888,\n",
       "       9000, 9999])"
      ]
     },
     "execution_count": 20,
     "metadata": {},
     "output_type": "execute_result"
    }
   ],
   "source": [
    "np.array(sorted(autos['RegistrationYear'].unique()))"
   ]
  },
  {
   "cell_type": "code",
   "execution_count": 21,
   "metadata": {},
   "outputs": [
    {
     "data": {
      "text/plain": [
       "1979.0"
      ]
     },
     "execution_count": 21,
     "metadata": {},
     "output_type": "execute_result"
    }
   ],
   "source": [
    "autos['RegistrationYear'].quantile(0.01)"
   ]
  },
  {
   "cell_type": "markdown",
   "metadata": {},
   "source": [
    "Автомобили, выпущенные ранее 1980 года составляют менее 1 % оставшихся данных, таким образом, можно удалить их без потери количества.  "
   ]
  },
  {
   "cell_type": "markdown",
   "metadata": {},
   "source": [
    "Посмотрим на дату выгрузки анкет:"
   ]
  },
  {
   "cell_type": "code",
   "execution_count": 22,
   "metadata": {},
   "outputs": [
    {
     "data": {
      "text/plain": [
       "array([2016])"
      ]
     },
     "execution_count": 22,
     "metadata": {},
     "output_type": "execute_result"
    }
   ],
   "source": [
    "np.array(sorted((pd.DatetimeIndex(autos['DateCrawled']).year).unique())) "
   ]
  },
  {
   "cell_type": "code",
   "execution_count": 23,
   "metadata": {},
   "outputs": [
    {
     "data": {
      "text/plain": [
       "2016.0"
      ]
     },
     "execution_count": 23,
     "metadata": {},
     "output_type": "execute_result"
    }
   ],
   "source": [
    "autos['RegistrationYear'].quantile(0.95)"
   ]
  },
  {
   "cell_type": "markdown",
   "metadata": {},
   "source": [
    "Анкеты были скачены из базы в 2016 году, соответственно в них не могло оказаться автомобилей, зарегистрированных после 2016 года, еще 5% данных придется удалить в связи с их недостоверностью."
   ]
  },
  {
   "cell_type": "code",
   "execution_count": 24,
   "metadata": {},
   "outputs": [
    {
     "name": "stdout",
     "output_type": "stream",
     "text": [
      "Размер данных после удаления аномалий признака регистрации автомобиля: (269401, 14)\n"
     ]
    }
   ],
   "source": [
    "autos = autos.query ('RegistrationYear.quantile(0.01) < RegistrationYear <= 2016')\n",
    "print('Размер данных после удаления аномалий признака регистрации автомобиля:', autos.shape)"
   ]
  },
  {
   "cell_type": "markdown",
   "metadata": {},
   "source": [
    "Признак мощности (л. с.) **\"Power\"** также имеет аномальные, в том числе и нулевые значения. Посмотрим на графике распределение мощности (л. с.) **\"Power\"** автомобилей:"
   ]
  },
  {
   "cell_type": "code",
   "execution_count": 25,
   "metadata": {},
   "outputs": [
    {
     "data": {
      "text/plain": [
       "(269205, 14)"
      ]
     },
     "execution_count": 25,
     "metadata": {},
     "output_type": "execute_result"
    }
   ],
   "source": [
    "# удалим строки с нереально высоким признаком мощности автомобиля\n",
    "autos = autos[autos['Power'] < 1000]\n",
    "autos.shape"
   ]
  },
  {
   "cell_type": "code",
   "execution_count": 26,
   "metadata": {},
   "outputs": [
    {
     "data": {
      "image/png": "[encoded data removed]",
      "text/plain": [
       "<Figure size 1152x288 with 2 Axes>"
      ]
     },
     "metadata": {
      "needs_background": "light"
     },
     "output_type": "display_data"
    }
   ],
   "source": [
    "# посмотри на распределение оставшихся данных\n",
    "pic(autos['Power'])"
   ]
  },
  {
   "cell_type": "markdown",
   "metadata": {},
   "source": [
    "Значения свыше 400 л.с. являются также редкими и выбивающимися, поэтому удалим их тоже. Мощность автомобил ниже 40 л.с. также маловероятна, строки с таким значением также удалим."
   ]
  },
  {
   "cell_type": "code",
   "execution_count": 27,
   "metadata": {},
   "outputs": [
    {
     "name": "stdout",
     "output_type": "stream",
     "text": [
      "Размер данных после аномалий признака мощности автомобиля: (248727, 14)\n"
     ]
    }
   ],
   "source": [
    "autos = autos.query('40 <= Power <= 400')\n",
    "print('Размер данных после аномалий признака мощности автомобиля:', autos.shape)"
   ]
  },
  {
   "cell_type": "markdown",
   "metadata": {},
   "source": [
    "Признак пробега (км) **\"Kilometer\"** имеет отличные от нуля значения и принимает допустимые значения от 5000 до 150000 км. Также примем допущение в виде нереального значения = 0 у признака месяц регистрации автомобиля **\"RegistrationMonth\"**, т.к. маловероятно, что он имеет значимое влияние на целевой признак цены автомобиля."
   ]
  },
  {
   "cell_type": "code",
   "execution_count": 28,
   "metadata": {},
   "outputs": [
    {
     "name": "stdout",
     "output_type": "stream",
     "text": [
      "Кол-во дубликатов: 6\n",
      "Размер данных после удаления дубликатов: (248721, 14)\n"
     ]
    }
   ],
   "source": [
    "#прoверим на наличие дубликатов и удалим их при наличии:\n",
    "print('Кол-во дубликатов:', autos.duplicated().sum())\n",
    "autos = autos.drop_duplicates()\n",
    "print('Размер данных после удаления дубликатов:', autos.shape)"
   ]
  },
  {
   "cell_type": "markdown",
   "metadata": {},
   "source": [
    "Посмотрим на итоговое распределение количественных признаков:"
   ]
  },
  {
   "cell_type": "code",
   "execution_count": 29,
   "metadata": {},
   "outputs": [
    {
     "data": {
      "image/png": "[encoded data removed]",
      "text/plain": [
       "<Figure size 864x576 with 6 Axes>"
      ]
     },
     "metadata": {
      "needs_background": "light"
     },
     "output_type": "display_data"
    }
   ],
   "source": [
    "autos.select_dtypes(include=['int']).hist(bins=10, figsize=(12, 8));"
   ]
  },
  {
   "cell_type": "markdown",
   "metadata": {},
   "source": [
    "В результате проведенной предобработки исходный размер данных уменьшился до 246 812 строк и 14 признаков."
   ]
  },
  {
   "cell_type": "markdown",
   "metadata": {},
   "source": [
    "### Корреляционный анализ данных"
   ]
  },
  {
   "cell_type": "code",
   "execution_count": 30,
   "metadata": {},
   "outputs": [
    {
     "name": "stdout",
     "output_type": "stream",
     "text": [
      "interval columns not set, guessing: ['Price', 'RegistrationYear', 'Power', 'Kilometer', 'RegistrationMonth']\n"
     ]
    },
    {
     "data": {
      "image/png": "[encoded data removed]",
      "text/plain": [
       "<Figure size 576x360 with 2 Axes>"
      ]
     },
     "metadata": {
      "needs_background": "light"
     },
     "output_type": "display_data"
    }
   ],
   "source": [
    "# посмотрим на матрицу корреляции на графике\n",
    "phik_overview = phik_matrix(autos.drop(['DateCrawled', 'LastSeen'], axis=1))\n",
    "plot_correlation_matrix(\n",
    "    phik_overview.values,\n",
    "    x_labels=phik_overview.columns,\n",
    "    y_labels=phik_overview.index,\n",
    "    vmin=0, vmax=1, color_map='Greens',\n",
    "    title=r'Матрица корреляции признаков',\n",
    "    fontsize_factor=0.8,\n",
    "    figsize=(8, 5)\n",
    ") "
   ]
  },
  {
   "cell_type": "markdown",
   "metadata": {},
   "source": [
    "Мультиколлинеарность (значения коэффициентов корреляции от 0.9 до 1.00 по модулю) оставшихся входных признаков наблюдается у признака \"Model\" с признаками \"Brand\" и \"VehicleType\". В связи с тем, что у признака \"Model\" присутсвуют отсутствующие значения, но при этом модель автомобиля может оказывать существенное влияние на цену автомобиля, удалять признаки пока не будем. \n",
    "\n",
    "На целевой признак цена (евро) (\"Price\") наибольшее влияние оказывает год регистрации автомобиля (\"RegistrationYear\"), также заметное влияние оказывают модель автомобиля (\"Model\") и мощность (л. с.) (\"Power\"). Практически не имеют влияния на целевой признак цены в евро признаки дата создания анкеты (\"DateCreated\") и месяц регистрации автомобиля (\"RegistrationMonth\")."
   ]
  },
  {
   "cell_type": "markdown",
   "metadata": {},
   "source": [
    "Удалим признаки, содержащие типы данных дата, из датасета моделирования, так как они не являются существенными признаками."
   ]
  },
  {
   "cell_type": "code",
   "execution_count": 31,
   "metadata": {},
   "outputs": [
    {
     "data": {
      "text/plain": [
       "(248721, 11)"
      ]
     },
     "execution_count": 31,
     "metadata": {},
     "output_type": "execute_result"
    }
   ],
   "source": [
    "autos_df = autos.drop(['DateCrawled', 'DateCreated', 'LastSeen'], axis =1)\n",
    "autos_df.shape"
   ]
  },
  {
   "cell_type": "markdown",
   "metadata": {},
   "source": [
    "Таким образом, данные для моделиррования состоят из 248 721 строки и 11 признаков."
   ]
  },
  {
   "cell_type": "markdown",
   "metadata": {},
   "source": [
    "## Обучение моделей"
   ]
  },
  {
   "cell_type": "markdown",
   "metadata": {},
   "source": [
    "### Подготовка данных для обучения моделей"
   ]
  },
  {
   "cell_type": "markdown",
   "metadata": {},
   "source": [
    "Создадим пайплайны для кодирования категориальных признаков и масштабирования количественных."
   ]
  },
  {
   "cell_type": "code",
   "execution_count": 32,
   "metadata": {},
   "outputs": [],
   "source": [
    "# разделим столбцы на подходящие им типы кодирования\n",
    "num_сol = autos_df.drop ('Price', axis =1).select_dtypes(include=['int64']).columns.to_list()\n",
    "ohe_col = ['Gearbox', 'Repaired']\n",
    "ord_col = ['VehicleType', 'Model', 'FuelType', 'Brand']"
   ]
  },
  {
   "cell_type": "code",
   "execution_count": 33,
   "metadata": {},
   "outputs": [],
   "source": [
    "# создаём пайплайн для подготовки признаков из списка ohe_columns: \n",
    "ohe_pipe = Pipeline(\n",
    "    [('simpleImputer_ohe', SimpleImputer(missing_values=np.nan, strategy='most_frequent')),\n",
    "     ('ohe', OneHotEncoder(drop='first', handle_unknown='ignore'))]\n",
    "\n",
    ")\n",
    "# создаём пайплайн для подготовки признаков из списка ord_columns: \n",
    "ord_pipe = Pipeline(\n",
    "    [('simpleImputer_before_ord', SimpleImputer(missing_values=np.nan, strategy='most_frequent')),\n",
    "     ('ord',  OrdinalEncoder(\n",
    "                handle_unknown='use_encoded_value', unknown_value=np.nan\n",
    "            )\n",
    "        ),\n",
    "     ('simpleImputer_after_ord', SimpleImputer(missing_values=np.nan, strategy='most_frequent'))\n",
    "    ]\n",
    ")"
   ]
  },
  {
   "cell_type": "code",
   "execution_count": 34,
   "metadata": {},
   "outputs": [],
   "source": [
    "# создаём общий пайплайн для подготовки данных\n",
    "data_preprocessor = ColumnTransformer(\n",
    "    [('ohe', ohe_pipe, ohe_col),\n",
    "     ('ord', ord_pipe, ord_col),\n",
    "     ('num', MinMaxScaler(), num_сol)\n",
    "    ], \n",
    "    remainder='passthrough'\n",
    ")"
   ]
  },
  {
   "cell_type": "code",
   "execution_count": 35,
   "metadata": {},
   "outputs": [
    {
     "name": "stdout",
     "output_type": "stream",
     "text": [
      "Размер тренировочной выборки = 149232 строк\n",
      "Размер валидационной выборки = 49744 строк\n",
      "Размер тестовой выборки = 49745 строк\n"
     ]
    }
   ],
   "source": [
    "# выделим из тренировочной и тестовой входные признаки и целевой признак:\n",
    "X = autos_df.drop ('Price', axis =1)\n",
    "y = pd.Series(autos_df['Price'])\n",
    "# разделение на тренировочную и тестовую выборки\n",
    "RANDOM_STATE = 42\n",
    "X_train, X_test, y_train, y_test = train_test_split(\n",
    "    X, y, random_state=RANDOM_STATE, test_size = 0.2)\n",
    "X_train, X_valid, y_train, y_valid = train_test_split(\n",
    "    X_train, y_train, random_state=RANDOM_STATE)\n",
    "print('Размер тренировочной выборки =', X_train.shape[0], 'строк')\n",
    "print('Размер валидационной выборки =', X_valid.shape[0], 'строк')\n",
    "print('Размер тестовой выборки =', X_test.shape[0], 'строк')"
   ]
  },
  {
   "cell_type": "markdown",
   "metadata": {},
   "source": [
    "### Обучение моделей линейной регрессии, регрессии дерева решений, LightGBM и CatBoostRegressor"
   ]
  },
  {
   "cell_type": "markdown",
   "metadata": {},
   "source": [
    "#### Модель линейной регрессии"
   ]
  },
  {
   "cell_type": "code",
   "execution_count": 36,
   "metadata": {},
   "outputs": [],
   "source": [
    "# создаём пайплайн для обучения модели линейной регрессии: \n",
    "pipe_linal = Pipeline([\n",
    "    ('preprocessor', data_preprocessor),\n",
    "    ('models', LinearRegression())\n",
    "])\n",
    "\n",
    "param_grid_linal = [\n",
    "    # словарь для модели LinearRegression()\n",
    "    {\n",
    "        'models': [LinearRegression()],\n",
    "        'preprocessor__num': [StandardScaler(), MinMaxScaler(), RobustScaler(), 'passthrough']  \n",
    "    }\n",
    "]"
   ]
  },
  {
   "cell_type": "code",
   "execution_count": 37,
   "metadata": {},
   "outputs": [],
   "source": [
    "# подберем лучшие параметры для линейной регрессии:\n",
    "r_linal = RandomizedSearchCV(\n",
    "    pipe_linal, \n",
    "    param_grid_linal, \n",
    "    cv=5,\n",
    "    scoring='neg_root_mean_squared_error',\n",
    "    random_state=RANDOM_STATE,\n",
    "    n_jobs=-1\n",
    ")"
   ]
  },
  {
   "cell_type": "code",
   "execution_count": 38,
   "metadata": {},
   "outputs": [
    {
     "name": "stdout",
     "output_type": "stream",
     "text": [
      "Лучшие параметры модели линейной регрессии:\n",
      "\n",
      " {'preprocessor__num': 'passthrough', 'models': LinearRegression()}\n",
      "\n",
      "Метрика лучшей модели линейной регрессии на тренировочной выборке: 2828.831299949893\n",
      "CPU times: user 11.7 s, sys: 2.88 s, total: 14.5 s\n",
      "Wall time: 14.6 s\n"
     ]
    }
   ],
   "source": [
    "%%time\n",
    "\n",
    "r_linal.fit(X_train, y_train)\n",
    "\n",
    "print('Лучшие параметры модели линейной регрессии:\\n\\n', r_linal.best_params_)\n",
    "print()\n",
    "print ('Метрика лучшей модели линейной регрессии на тренировочной выборке:', np.abs(r_linal.best_score_))"
   ]
  },
  {
   "cell_type": "markdown",
   "metadata": {},
   "source": [
    "Модель линейной регресии показало RMSE = 2829 при временных затратах на обучение в 14.6 секунды."
   ]
  },
  {
   "cell_type": "code",
   "execution_count": 39,
   "metadata": {},
   "outputs": [
    {
     "name": "stdout",
     "output_type": "stream",
     "text": [
      "Метрика лучшей модели линейной регрессии на валидационной выборке: 2835\n",
      "CPU times: user 127 ms, sys: 76.4 ms, total: 204 ms\n",
      "Wall time: 222 ms\n"
     ]
    }
   ],
   "source": [
    "%%time\n",
    "# на валидационной выборке\n",
    "pred_lr = r_linal.predict(X_valid)\n",
    "print ('Метрика лучшей модели линейной регрессии на валидационной выборке:', round(root_mean_squared_error(pred_lr, y_valid)))"
   ]
  },
  {
   "cell_type": "markdown",
   "metadata": {},
   "source": [
    "Метрика RMSE на валидационной выборке = 2 835, предсказание модель линейной регресии выполнило за 222 милисекунды."
   ]
  },
  {
   "cell_type": "markdown",
   "metadata": {},
   "source": [
    "#### Модель регрессии дерева решений"
   ]
  },
  {
   "cell_type": "code",
   "execution_count": 40,
   "metadata": {},
   "outputs": [],
   "source": [
    "# создаём пайплайн для обучения модели дерева регрессии: \n",
    "pipe_tree = Pipeline([\n",
    "    ('preprocessor', data_preprocessor),\n",
    "    ('models', DecisionTreeRegressor(random_state=RANDOM_STATE))\n",
    "])\n",
    "\n",
    "param_grid_tree = [\n",
    "    # словарь для модели DecisionTreeRegressor()\n",
    "    {\n",
    "        'models': [DecisionTreeRegressor(random_state=RANDOM_STATE)],\n",
    "        'models__max_depth': range(5, 15),\n",
    "        'models__max_features': range(1, 15),\n",
    "        'preprocessor__num': [StandardScaler(), MinMaxScaler(), RobustScaler(), 'passthrough']  \n",
    "    }\n",
    "]"
   ]
  },
  {
   "cell_type": "code",
   "execution_count": 41,
   "metadata": {},
   "outputs": [],
   "source": [
    "# подберем лучшие параметры для дерева регрессии:\n",
    "r_tree = RandomizedSearchCV(\n",
    "    pipe_tree, \n",
    "    param_grid_tree, \n",
    "    cv=5,\n",
    "    scoring='neg_root_mean_squared_error',\n",
    "    random_state=RANDOM_STATE,\n",
    "    n_jobs=-1\n",
    ")\n"
   ]
  },
  {
   "cell_type": "code",
   "execution_count": 42,
   "metadata": {},
   "outputs": [
    {
     "name": "stdout",
     "output_type": "stream",
     "text": [
      "Лучшие параметры модели дерева регрессии:\n",
      "\n",
      " {'preprocessor__num': RobustScaler(), 'models__max_features': 4, 'models__max_depth': 14, 'models': DecisionTreeRegressor(random_state=42)}\n",
      "\n",
      "Метрика лучшей модели дерева регрессии на тренировочной выборке: 1978.1947596930574\n",
      "CPU times: user 26.8 s, sys: 81.6 ms, total: 26.8 s\n",
      "Wall time: 27.1 s\n"
     ]
    }
   ],
   "source": [
    "%%time\n",
    "r_tree.fit(X_train, y_train)\n",
    "\n",
    "print('Лучшие параметры модели дерева регрессии:\\n\\n', r_tree.best_params_)\n",
    "print()\n",
    "print ('Метрика лучшей модели дерева регрессии на тренировочной выборке:', np.abs(r_tree.best_score_))"
   ]
  },
  {
   "cell_type": "markdown",
   "metadata": {},
   "source": [
    "Модель регресии дерева решений показало RMSE = 1978 при временных затратах на обучение около 27 секунд."
   ]
  },
  {
   "cell_type": "code",
   "execution_count": 43,
   "metadata": {},
   "outputs": [
    {
     "name": "stdout",
     "output_type": "stream",
     "text": [
      "Метрика лучшей модели дерева регрессии на валидационной выборке: 1990\n",
      "CPU times: user 95.4 ms, sys: 0 ns, total: 95.4 ms\n",
      "Wall time: 101 ms\n"
     ]
    }
   ],
   "source": [
    "%%time\n",
    "# на валидационной выборке\n",
    "pred_tr = r_tree.predict(X_valid)\n",
    "print ('Метрика лучшей модели дерева регрессии на валидационной выборке:', round(root_mean_squared_error(pred_tr, y_valid)))"
   ]
  },
  {
   "cell_type": "markdown",
   "metadata": {},
   "source": [
    "Метрика RMSE на валидационной выборке = 1990, предсказание модель регресии дерева решений выполнило за 101 милисекунду."
   ]
  },
  {
   "cell_type": "markdown",
   "metadata": {},
   "source": [
    "#### LightGBM"
   ]
  },
  {
   "cell_type": "code",
   "execution_count": 44,
   "metadata": {},
   "outputs": [],
   "source": [
    "# прямое кодирование\n",
    "encoder = OrdinalEncoder(handle_unknown='use_encoded_value', unknown_value=np.nan)\n",
    "\n",
    "X_train_GBM = X_train.select_dtypes(include=['object'])\n",
    "X_valid_GBM = X_valid.select_dtypes(include=['object'])\n",
    "X_test_GBM = X_test.select_dtypes(include=['object'])\n",
    "X_train_GBM = pd.DataFrame(encoder.fit_transform(X_train_GBM),\n",
    "                                 columns=X_train_GBM.columns, \n",
    "                                 index=X_train_GBM.index)\n",
    "X_valid_GBM = pd.DataFrame(encoder.transform(X_valid_GBM),\n",
    "                                 columns=X_valid_GBM.columns, \n",
    "                                 index=X_valid_GBM.index)\n",
    "X_test_GBM = pd.DataFrame(encoder.transform(X_test_GBM),\n",
    "                                 columns=X_test_GBM.columns, \n",
    "                                 index=X_test_GBM.index)"
   ]
  },
  {
   "cell_type": "code",
   "execution_count": 45,
   "metadata": {},
   "outputs": [],
   "source": [
    "regressor = LGBMRegressor() \n",
    "hyperparams = [{'num_leaves':[11, 50, 100], \n",
    "                'learning_rate':[0.1, 0.3, 0.5],\n",
    "                'random_state':[42]}]\n",
    "\n",
    "LGBMR = RandomizedSearchCV(regressor, hyperparams, scoring='neg_root_mean_squared_error')"
   ]
  },
  {
   "cell_type": "code",
   "execution_count": 46,
   "metadata": {},
   "outputs": [
    {
     "name": "stdout",
     "output_type": "stream",
     "text": [
      "Лучшие параметры модели LGBMRegressor:\n",
      "\n",
      " {'random_state': 42, 'num_leaves': 100, 'learning_rate': 0.3}\n",
      "\n",
      "Метрика лучшей модели LGBMRegressor на тренировочной выборке: 3580.3459987670512\n",
      "CPU times: user 2min 38s, sys: 1.65 s, total: 2min 40s\n",
      "Wall time: 2min 43s\n"
     ]
    }
   ],
   "source": [
    "%%time\n",
    "LGBMR.fit(X_train_GBM, y_train)\n",
    "\n",
    "print('Лучшие параметры модели LGBMRegressor:\\n\\n', LGBMR.best_params_)\n",
    "print()\n",
    "print ('Метрика лучшей модели LGBMRegressor на тренировочной выборке:', np.abs(LGBMR.best_score_))"
   ]
  },
  {
   "cell_type": "markdown",
   "metadata": {},
   "source": [
    "Модель LGBMRegressor показало RMSE = 3580 при временных затратах на обучение свыше 2 минут."
   ]
  },
  {
   "cell_type": "code",
   "execution_count": 47,
   "metadata": {},
   "outputs": [
    {
     "name": "stdout",
     "output_type": "stream",
     "text": [
      "Метрика лучшей модели LGBMRegressor на валидационной выборке: 3586\n",
      "CPU times: user 405 ms, sys: 3.63 ms, total: 408 ms\n",
      "Wall time: 486 ms\n"
     ]
    }
   ],
   "source": [
    "%%time\n",
    "\n",
    "pred_valid = LGBMR.predict(X_valid_GBM) \n",
    "print ('Метрика лучшей модели LGBMRegressor на валидационной выборке:', round(root_mean_squared_error(pred_valid, y_valid)))"
   ]
  },
  {
   "cell_type": "markdown",
   "metadata": {},
   "source": [
    "Метрика RMSE на валидационной выборке = 3586, предсказание модель линейной регресии выполнило за 486 милисекунды."
   ]
  },
  {
   "cell_type": "markdown",
   "metadata": {},
   "source": [
    "#### CatBoostRegressor"
   ]
  },
  {
   "cell_type": "code",
   "execution_count": 48,
   "metadata": {},
   "outputs": [
    {
     "data": {
      "text/plain": [
       "['VehicleType', 'Gearbox', 'Model', 'FuelType', 'Brand', 'Repaired']"
      ]
     },
     "execution_count": 48,
     "metadata": {},
     "output_type": "execute_result"
    }
   ],
   "source": [
    "cat_features = autos_df.select_dtypes(include=['object']).columns.to_list()\n",
    "cat_features"
   ]
  },
  {
   "cell_type": "code",
   "execution_count": 49,
   "metadata": {},
   "outputs": [],
   "source": [
    "model = CatBoostRegressor(loss_function=\"RMSE\", iterations=50)"
   ]
  },
  {
   "cell_type": "code",
   "execution_count": 54,
   "metadata": {},
   "outputs": [
    {
     "name": "stdout",
     "output_type": "stream",
     "text": [
      "Learning rate set to 0.5\n",
      "0:\tlearn: 3235.8470760\ttotal: 109ms\tremaining: 5.34s\n",
      "10:\tlearn: 1892.9931123\ttotal: 562ms\tremaining: 1.99s\n",
      "20:\tlearn: 1802.9313613\ttotal: 981ms\tremaining: 1.35s\n",
      "30:\tlearn: 1753.1587406\ttotal: 1.4s\tremaining: 859ms\n",
      "40:\tlearn: 1719.5833832\ttotal: 1.82s\tremaining: 400ms\n",
      "49:\tlearn: 1689.7845437\ttotal: 2.21s\tremaining: 0us\n",
      "CPU times: user 2.4 s, sys: 68.3 ms, total: 2.47 s\n",
      "Wall time: 3.41 s\n"
     ]
    },
    {
     "data": {
      "text/plain": [
       "<catboost.core.CatBoostRegressor at 0x7f063fc81070>"
      ]
     },
     "execution_count": 54,
     "metadata": {},
     "output_type": "execute_result"
    }
   ],
   "source": [
    "%%time\n",
    "pd.DataFrame.iteritems = pd.DataFrame.items\n",
    "model.fit(X_train, y_train, cat_features=cat_features, verbose=10) "
   ]
  },
  {
   "cell_type": "markdown",
   "metadata": {},
   "source": [
    "Модель CatBoostRegressor показало RMSE = 1690 при временных затратах на обучение в 3.41 секунды."
   ]
  },
  {
   "cell_type": "code",
   "execution_count": 55,
   "metadata": {},
   "outputs": [
    {
     "name": "stdout",
     "output_type": "stream",
     "text": [
      "Метрика лучшей модели CatBoostRegressor на валидационной выборке: 1733\n",
      "CPU times: user 71.5 ms, sys: 0 ns, total: 71.5 ms\n",
      "Wall time: 69.1 ms\n"
     ]
    }
   ],
   "source": [
    "%%time\n",
    "\n",
    "pred_valid = model.predict(X_valid) \n",
    "print ('Метрика лучшей модели CatBoostRegressor на валидационной выборке:', round(root_mean_squared_error(pred_valid, y_valid)))"
   ]
  },
  {
   "cell_type": "markdown",
   "metadata": {},
   "source": [
    "Метрика RMSE на валидационной выборке = 1733, предсказание модель CatBoostRegressor выполнило за 69 милисекунд."
   ]
  },
  {
   "cell_type": "markdown",
   "metadata": {},
   "source": [
    "## Анализ моделей"
   ]
  },
  {
   "cell_type": "markdown",
   "metadata": {},
   "source": [
    "Лучшим образом себя показали модели регрессии дерева решений и CatBoostRegressor (метрика RMSE на валидационной выборке - 1990 и 1733 соотвественно), но при этом скорость обучения и скорость предсказания у CatBoostRegressor в несколько раз выше. Таким обазом лучшей моделью для определения рыночной стоимости автомобиля является CatBoostRegressor.\n",
    "\n"
   ]
  },
  {
   "cell_type": "markdown",
   "metadata": {},
   "source": [
    "**Сравнительный анализ моделей**"
   ]
  },
  {
   "cell_type": "code",
   "execution_count": 56,
   "metadata": {},
   "outputs": [
    {
     "data": {
      "text/html": [
       "<div>\n",
       "<style scoped>\n",
       "    .dataframe tbody tr th:only-of-type {\n",
       "        vertical-align: middle;\n",
       "    }\n",
       "\n",
       "    .dataframe tbody tr th {\n",
       "        vertical-align: top;\n",
       "    }\n",
       "\n",
       "    .dataframe thead th {\n",
       "        text-align: right;\n",
       "    }\n",
       "</style>\n",
       "<table border=\"1\" class=\"dataframe\">\n",
       "  <thead>\n",
       "    <tr style=\"text-align: right;\">\n",
       "      <th></th>\n",
       "      <th>Линейная регрессия</th>\n",
       "      <th>Регрессия дерева решений</th>\n",
       "      <th>LGBMRegressor</th>\n",
       "      <th>CatBoostRegressor</th>\n",
       "    </tr>\n",
       "  </thead>\n",
       "  <tbody>\n",
       "    <tr>\n",
       "      <th>mean_fit_time</th>\n",
       "      <td>[0.4601736545562744, 0.4814775466918945, 0.534...</td>\n",
       "      <td>[0.39214463233947755, 0.3979179859161377, 0.39...</td>\n",
       "      <td>[1.5554656982421875, 3.692656230926514, 5.0366...</td>\n",
       "      <td>NaN</td>\n",
       "    </tr>\n",
       "    <tr>\n",
       "      <th>std_fit_time</th>\n",
       "      <td>[0.05542342959239783, 0.040191801466674636, 0....</td>\n",
       "      <td>[0.005916340403251921, 0.009115122020862438, 0...</td>\n",
       "      <td>[0.05101341839021646, 0.9537828718795157, 0.15...</td>\n",
       "      <td>NaN</td>\n",
       "    </tr>\n",
       "    <tr>\n",
       "      <th>mean_score_time</th>\n",
       "      <td>[0.17562322616577147, 0.18864974975585938, 0.1...</td>\n",
       "      <td>[0.06388940811157226, 0.06348938941955566, 0.0...</td>\n",
       "      <td>[0.19989724159240724, 0.20705389976501465, 0.3...</td>\n",
       "      <td>NaN</td>\n",
       "    </tr>\n",
       "    <tr>\n",
       "      <th>std_score_time</th>\n",
       "      <td>[0.009079429843445844, 0.028148424210343338, 0...</td>\n",
       "      <td>[0.002570046175852506, 0.002651659617707283, 0...</td>\n",
       "      <td>[0.0013496103072576187, 0.0017983273254929726,...</td>\n",
       "      <td>NaN</td>\n",
       "    </tr>\n",
       "    <tr>\n",
       "      <th>param_preprocessor__num</th>\n",
       "      <td>[StandardScaler(), MinMaxScaler(), RobustScale...</td>\n",
       "      <td>[MinMaxScaler(), MinMaxScaler(), MinMaxScaler(...</td>\n",
       "      <td>NaN</td>\n",
       "      <td>NaN</td>\n",
       "    </tr>\n",
       "    <tr>\n",
       "      <th>param_models</th>\n",
       "      <td>[LinearRegression(), LinearRegression(), Linea...</td>\n",
       "      <td>[DecisionTreeRegressor(random_state=42), Decis...</td>\n",
       "      <td>NaN</td>\n",
       "      <td>NaN</td>\n",
       "    </tr>\n",
       "    <tr>\n",
       "      <th>params</th>\n",
       "      <td>[{'preprocessor__num': StandardScaler(), 'mode...</td>\n",
       "      <td>[{'preprocessor__num': MinMaxScaler(), 'models...</td>\n",
       "      <td>[{'random_state': 42, 'num_leaves': 11, 'learn...</td>\n",
       "      <td>NaN</td>\n",
       "    </tr>\n",
       "    <tr>\n",
       "      <th>split0_test_score</th>\n",
       "      <td>[-2819.90523198697, -2819.90523198697, -2819.9...</td>\n",
       "      <td>[-2266.1776027469514, -2362.5834344081327, -26...</td>\n",
       "      <td>[-3780.018762376506, -3626.3521342636504, -359...</td>\n",
       "      <td>NaN</td>\n",
       "    </tr>\n",
       "    <tr>\n",
       "      <th>split1_test_score</th>\n",
       "      <td>[-2841.226373785263, -2841.226373785271, -2841...</td>\n",
       "      <td>[-2343.5774466996954, -2376.7899649044816, -24...</td>\n",
       "      <td>[-3766.2359668692065, -3604.9876503143428, -35...</td>\n",
       "      <td>NaN</td>\n",
       "    </tr>\n",
       "    <tr>\n",
       "      <th>split2_test_score</th>\n",
       "      <td>[-2828.298408747206, -2828.298408747207, -2828...</td>\n",
       "      <td>[-2257.1633739045174, -2412.8391689337354, -24...</td>\n",
       "      <td>[-3776.0988310577222, -3617.921377658093, -359...</td>\n",
       "      <td>NaN</td>\n",
       "    </tr>\n",
       "    <tr>\n",
       "      <th>split3_test_score</th>\n",
       "      <td>[-2837.933483191839, -2837.933483191841, -2837...</td>\n",
       "      <td>[-2182.024832092534, -2213.162600534046, -2434...</td>\n",
       "      <td>[-3805.1545986352444, -3640.916179260917, -361...</td>\n",
       "      <td>NaN</td>\n",
       "    </tr>\n",
       "    <tr>\n",
       "      <th>split4_test_score</th>\n",
       "      <td>[-2816.793002038202, -2816.793002038201, -2816...</td>\n",
       "      <td>[-2215.384965924418, -2260.3372649847074, -259...</td>\n",
       "      <td>[-3800.039384943727, -3641.4918068092006, -360...</td>\n",
       "      <td>NaN</td>\n",
       "    </tr>\n",
       "    <tr>\n",
       "      <th>mean_test_score</th>\n",
       "      <td>[-2828.8312999498958, -2828.831299949898, -282...</td>\n",
       "      <td>[-2252.8656442736233, -2325.142486753021, -251...</td>\n",
       "      <td>[-3785.509508776481, -3626.3338296612405, -359...</td>\n",
       "      <td>NaN</td>\n",
       "    </tr>\n",
       "    <tr>\n",
       "      <th>std_test_score</th>\n",
       "      <td>[9.605903123366245, 9.605903123368803, 9.60590...</td>\n",
       "      <td>[54.49317707338343, 75.49729308031988, 78.1121...</td>\n",
       "      <td>[14.746019298787274, 13.92004488167274, 12.403...</td>\n",
       "      <td>NaN</td>\n",
       "    </tr>\n",
       "    <tr>\n",
       "      <th>rank_test_score</th>\n",
       "      <td>[2, 4, 2, 1]</td>\n",
       "      <td>[6, 9, 10, 8, 2, 5, 3, 4, 7, 1]</td>\n",
       "      <td>[9, 6, 5, 8, 4, 1, 7, 3, 2]</td>\n",
       "      <td>NaN</td>\n",
       "    </tr>\n",
       "    <tr>\n",
       "      <th>param_models__max_features</th>\n",
       "      <td>NaN</td>\n",
       "      <td>[2, 2, 3, 8, 14, 8, 13, 5, 12, 4]</td>\n",
       "      <td>NaN</td>\n",
       "      <td>NaN</td>\n",
       "    </tr>\n",
       "    <tr>\n",
       "      <th>param_models__max_depth</th>\n",
       "      <td>NaN</td>\n",
       "      <td>[13, 11, 8, 6, 10, 7, 9, 10, 6, 14]</td>\n",
       "      <td>NaN</td>\n",
       "      <td>NaN</td>\n",
       "    </tr>\n",
       "    <tr>\n",
       "      <th>param_random_state</th>\n",
       "      <td>NaN</td>\n",
       "      <td>NaN</td>\n",
       "      <td>[42, 42, 42, 42, 42, 42, 42, 42, 42]</td>\n",
       "      <td>NaN</td>\n",
       "    </tr>\n",
       "    <tr>\n",
       "      <th>param_num_leaves</th>\n",
       "      <td>NaN</td>\n",
       "      <td>NaN</td>\n",
       "      <td>[11, 50, 100, 11, 50, 100, 11, 50, 100]</td>\n",
       "      <td>NaN</td>\n",
       "    </tr>\n",
       "    <tr>\n",
       "      <th>param_learning_rate</th>\n",
       "      <td>NaN</td>\n",
       "      <td>NaN</td>\n",
       "      <td>[0.1, 0.1, 0.1, 0.3, 0.3, 0.3, 0.5, 0.5, 0.5]</td>\n",
       "      <td>NaN</td>\n",
       "    </tr>\n",
       "    <tr>\n",
       "      <th>iterations</th>\n",
       "      <td>NaN</td>\n",
       "      <td>NaN</td>\n",
       "      <td>NaN</td>\n",
       "      <td>50</td>\n",
       "    </tr>\n",
       "    <tr>\n",
       "      <th>loss_function</th>\n",
       "      <td>NaN</td>\n",
       "      <td>NaN</td>\n",
       "      <td>NaN</td>\n",
       "      <td>RMSE</td>\n",
       "    </tr>\n",
       "  </tbody>\n",
       "</table>\n",
       "</div>"
      ],
      "text/plain": [
       "                                                           Линейная регрессия  \\\n",
       "mean_fit_time               [0.4601736545562744, 0.4814775466918945, 0.534...   \n",
       "std_fit_time                [0.05542342959239783, 0.040191801466674636, 0....   \n",
       "mean_score_time             [0.17562322616577147, 0.18864974975585938, 0.1...   \n",
       "std_score_time              [0.009079429843445844, 0.028148424210343338, 0...   \n",
       "param_preprocessor__num     [StandardScaler(), MinMaxScaler(), RobustScale...   \n",
       "param_models                [LinearRegression(), LinearRegression(), Linea...   \n",
       "params                      [{'preprocessor__num': StandardScaler(), 'mode...   \n",
       "split0_test_score           [-2819.90523198697, -2819.90523198697, -2819.9...   \n",
       "split1_test_score           [-2841.226373785263, -2841.226373785271, -2841...   \n",
       "split2_test_score           [-2828.298408747206, -2828.298408747207, -2828...   \n",
       "split3_test_score           [-2837.933483191839, -2837.933483191841, -2837...   \n",
       "split4_test_score           [-2816.793002038202, -2816.793002038201, -2816...   \n",
       "mean_test_score             [-2828.8312999498958, -2828.831299949898, -282...   \n",
       "std_test_score              [9.605903123366245, 9.605903123368803, 9.60590...   \n",
       "rank_test_score                                                  [2, 4, 2, 1]   \n",
       "param_models__max_features                                                NaN   \n",
       "param_models__max_depth                                                   NaN   \n",
       "param_random_state                                                        NaN   \n",
       "param_num_leaves                                                          NaN   \n",
       "param_learning_rate                                                       NaN   \n",
       "iterations                                                                NaN   \n",
       "loss_function                                                             NaN   \n",
       "\n",
       "                                                     Регрессия дерева решений  \\\n",
       "mean_fit_time               [0.39214463233947755, 0.3979179859161377, 0.39...   \n",
       "std_fit_time                [0.005916340403251921, 0.009115122020862438, 0...   \n",
       "mean_score_time             [0.06388940811157226, 0.06348938941955566, 0.0...   \n",
       "std_score_time              [0.002570046175852506, 0.002651659617707283, 0...   \n",
       "param_preprocessor__num     [MinMaxScaler(), MinMaxScaler(), MinMaxScaler(...   \n",
       "param_models                [DecisionTreeRegressor(random_state=42), Decis...   \n",
       "params                      [{'preprocessor__num': MinMaxScaler(), 'models...   \n",
       "split0_test_score           [-2266.1776027469514, -2362.5834344081327, -26...   \n",
       "split1_test_score           [-2343.5774466996954, -2376.7899649044816, -24...   \n",
       "split2_test_score           [-2257.1633739045174, -2412.8391689337354, -24...   \n",
       "split3_test_score           [-2182.024832092534, -2213.162600534046, -2434...   \n",
       "split4_test_score           [-2215.384965924418, -2260.3372649847074, -259...   \n",
       "mean_test_score             [-2252.8656442736233, -2325.142486753021, -251...   \n",
       "std_test_score              [54.49317707338343, 75.49729308031988, 78.1121...   \n",
       "rank_test_score                               [6, 9, 10, 8, 2, 5, 3, 4, 7, 1]   \n",
       "param_models__max_features                  [2, 2, 3, 8, 14, 8, 13, 5, 12, 4]   \n",
       "param_models__max_depth                   [13, 11, 8, 6, 10, 7, 9, 10, 6, 14]   \n",
       "param_random_state                                                        NaN   \n",
       "param_num_leaves                                                          NaN   \n",
       "param_learning_rate                                                       NaN   \n",
       "iterations                                                                NaN   \n",
       "loss_function                                                             NaN   \n",
       "\n",
       "                                                                LGBMRegressor  \\\n",
       "mean_fit_time               [1.5554656982421875, 3.692656230926514, 5.0366...   \n",
       "std_fit_time                [0.05101341839021646, 0.9537828718795157, 0.15...   \n",
       "mean_score_time             [0.19989724159240724, 0.20705389976501465, 0.3...   \n",
       "std_score_time              [0.0013496103072576187, 0.0017983273254929726,...   \n",
       "param_preprocessor__num                                                   NaN   \n",
       "param_models                                                              NaN   \n",
       "params                      [{'random_state': 42, 'num_leaves': 11, 'learn...   \n",
       "split0_test_score           [-3780.018762376506, -3626.3521342636504, -359...   \n",
       "split1_test_score           [-3766.2359668692065, -3604.9876503143428, -35...   \n",
       "split2_test_score           [-3776.0988310577222, -3617.921377658093, -359...   \n",
       "split3_test_score           [-3805.1545986352444, -3640.916179260917, -361...   \n",
       "split4_test_score           [-3800.039384943727, -3641.4918068092006, -360...   \n",
       "mean_test_score             [-3785.509508776481, -3626.3338296612405, -359...   \n",
       "std_test_score              [14.746019298787274, 13.92004488167274, 12.403...   \n",
       "rank_test_score                                   [9, 6, 5, 8, 4, 1, 7, 3, 2]   \n",
       "param_models__max_features                                                NaN   \n",
       "param_models__max_depth                                                   NaN   \n",
       "param_random_state                       [42, 42, 42, 42, 42, 42, 42, 42, 42]   \n",
       "param_num_leaves                      [11, 50, 100, 11, 50, 100, 11, 50, 100]   \n",
       "param_learning_rate             [0.1, 0.1, 0.1, 0.3, 0.3, 0.3, 0.5, 0.5, 0.5]   \n",
       "iterations                                                                NaN   \n",
       "loss_function                                                             NaN   \n",
       "\n",
       "                           CatBoostRegressor  \n",
       "mean_fit_time                            NaN  \n",
       "std_fit_time                             NaN  \n",
       "mean_score_time                          NaN  \n",
       "std_score_time                           NaN  \n",
       "param_preprocessor__num                  NaN  \n",
       "param_models                             NaN  \n",
       "params                                   NaN  \n",
       "split0_test_score                        NaN  \n",
       "split1_test_score                        NaN  \n",
       "split2_test_score                        NaN  \n",
       "split3_test_score                        NaN  \n",
       "split4_test_score                        NaN  \n",
       "mean_test_score                          NaN  \n",
       "std_test_score                           NaN  \n",
       "rank_test_score                          NaN  \n",
       "param_models__max_features               NaN  \n",
       "param_models__max_depth                  NaN  \n",
       "param_random_state                       NaN  \n",
       "param_num_leaves                         NaN  \n",
       "param_learning_rate                      NaN  \n",
       "iterations                                50  \n",
       "loss_function                           RMSE  "
      ]
     },
     "execution_count": 56,
     "metadata": {},
     "output_type": "execute_result"
    }
   ],
   "source": [
    "pd.DataFrame(\n",
    "            {'Линейная регрессия': r_linal.cv_results_,\n",
    "            'Регрессия дерева решений': r_tree.cv_results_,\n",
    "            'LGBMRegressor': LGBMR.cv_results_,\n",
    "            'CatBoostRegressor': model.get_params()\n",
    "            }\n",
    ")"
   ]
  },
  {
   "cell_type": "markdown",
   "metadata": {},
   "source": [
    "Проверим метрику RMSE у CatBoostRegressor на тестовой выборке:"
   ]
  },
  {
   "cell_type": "code",
   "execution_count": 57,
   "metadata": {},
   "outputs": [
    {
     "name": "stdout",
     "output_type": "stream",
     "text": [
      "Метрика лучшей модели CatBoostRegressor на тестовой выборке: 1695\n"
     ]
    }
   ],
   "source": [
    "print ('Метрика лучшей модели CatBoostRegressor на тестовой выборке:', \n",
    "       round(root_mean_squared_error(model.predict(X_test) , y_test)))"
   ]
  },
  {
   "cell_type": "markdown",
   "metadata": {},
   "source": [
    "Проверка на тестовой выборке подтвердила вышеуказанный вывод."
   ]
  },
  {
   "cell_type": "markdown",
   "metadata": {},
   "source": [
    "**Анализ важности признаков лучшей модели - CatBoostRegressor**"
   ]
  },
  {
   "cell_type": "code",
   "execution_count": 58,
   "metadata": {},
   "outputs": [
    {
     "data": {
      "text/html": [
       "<div>\n",
       "<style scoped>\n",
       "    .dataframe tbody tr th:only-of-type {\n",
       "        vertical-align: middle;\n",
       "    }\n",
       "\n",
       "    .dataframe tbody tr th {\n",
       "        vertical-align: top;\n",
       "    }\n",
       "\n",
       "    .dataframe thead th {\n",
       "        text-align: right;\n",
       "    }\n",
       "</style>\n",
       "<table border=\"1\" class=\"dataframe\">\n",
       "  <thead>\n",
       "    <tr style=\"text-align: right;\">\n",
       "      <th></th>\n",
       "      <th>Feature Id</th>\n",
       "      <th>Importances</th>\n",
       "    </tr>\n",
       "  </thead>\n",
       "  <tbody>\n",
       "    <tr>\n",
       "      <th>0</th>\n",
       "      <td>RegistrationYear</td>\n",
       "      <td>40.464366</td>\n",
       "    </tr>\n",
       "    <tr>\n",
       "      <th>1</th>\n",
       "      <td>Power</td>\n",
       "      <td>28.365302</td>\n",
       "    </tr>\n",
       "    <tr>\n",
       "      <th>2</th>\n",
       "      <td>Kilometer</td>\n",
       "      <td>9.764329</td>\n",
       "    </tr>\n",
       "    <tr>\n",
       "      <th>3</th>\n",
       "      <td>Brand</td>\n",
       "      <td>9.514096</td>\n",
       "    </tr>\n",
       "    <tr>\n",
       "      <th>4</th>\n",
       "      <td>VehicleType</td>\n",
       "      <td>5.073073</td>\n",
       "    </tr>\n",
       "    <tr>\n",
       "      <th>5</th>\n",
       "      <td>Model</td>\n",
       "      <td>3.274353</td>\n",
       "    </tr>\n",
       "    <tr>\n",
       "      <th>6</th>\n",
       "      <td>Repaired</td>\n",
       "      <td>1.734803</td>\n",
       "    </tr>\n",
       "    <tr>\n",
       "      <th>7</th>\n",
       "      <td>FuelType</td>\n",
       "      <td>1.236524</td>\n",
       "    </tr>\n",
       "    <tr>\n",
       "      <th>8</th>\n",
       "      <td>Gearbox</td>\n",
       "      <td>0.375701</td>\n",
       "    </tr>\n",
       "    <tr>\n",
       "      <th>9</th>\n",
       "      <td>RegistrationMonth</td>\n",
       "      <td>0.197453</td>\n",
       "    </tr>\n",
       "  </tbody>\n",
       "</table>\n",
       "</div>"
      ],
      "text/plain": [
       "          Feature Id  Importances\n",
       "0   RegistrationYear    40.464366\n",
       "1              Power    28.365302\n",
       "2          Kilometer     9.764329\n",
       "3              Brand     9.514096\n",
       "4        VehicleType     5.073073\n",
       "5              Model     3.274353\n",
       "6           Repaired     1.734803\n",
       "7           FuelType     1.236524\n",
       "8            Gearbox     0.375701\n",
       "9  RegistrationMonth     0.197453"
      ]
     },
     "execution_count": 58,
     "metadata": {},
     "output_type": "execute_result"
    }
   ],
   "source": [
    "fi = model.get_feature_importance(prettified=True)\n",
    "fi"
   ]
  },
  {
   "cell_type": "markdown",
   "metadata": {},
   "source": [
    "Наиболее значимым признаком при определении рыночной стоимости авто является год его регистрации, а также значимым является показатель мощности (л. с.) авто. "
   ]
  },
  {
   "cell_type": "code",
   "execution_count": 59,
   "metadata": {},
   "outputs": [
    {
     "data": {
      "text/plain": [
       "Text(0.5, 1.0, 'График важности признаков')"
      ]
     },
     "execution_count": 59,
     "metadata": {},
     "output_type": "execute_result"
    },
    {
     "data": {
      "image/png": "[encoded data removed]",
      "text/plain": [
       "<Figure size 432x288 with 1 Axes>"
      ]
     },
     "metadata": {
      "needs_background": "light"
     },
     "output_type": "display_data"
    }
   ],
   "source": [
    "sns.barplot(x='Importances', y='Feature Id', data=fi)\n",
    "plt.title ('График важности признаков', fontsize=16)"
   ]
  },
  {
   "cell_type": "markdown",
   "metadata": {},
   "source": [
    "**Вывод**: \n",
    "\n",
    "1. В ходе предварительной обработки данных были удалены аномалии и нестанрдартные значения в признаках, заполнены пропуски и удалены дубликаты. \n",
    "\n",
    "2. В ходе проведенного исследования на очищенных данных были обучены и оценены 4 модели регрессии (модель линейной регресии, регрессии дерева решений, LightGBM и CatBoostRegressor), лучшие результаты среди которых показала модель CatBoostRegressor со значением стандартной ошшибки в размере 1733 (1695 - не тестовой выборке). При этом наибольшее влияние на прогноз имеет признак регистрации автомобиля, также достаточно важным признаком явлется показатель мощности автомобиля в лошадиных силах."
   ]
  }
 ],
 "metadata": {
  "ExecuteTimeLog": [
   {
    "duration": 1263,
    "start_time": "2024-07-19T20:03:44.814Z"
   },
   {
    "duration": 11,
    "start_time": "2024-07-19T20:03:58.466Z"
   },
   {
    "duration": 10,
    "start_time": "2024-07-19T20:04:05.159Z"
   },
   {
    "duration": 8,
    "start_time": "2024-07-19T20:04:12.455Z"
   },
   {
    "duration": 3220,
    "start_time": "2024-07-19T20:04:55.961Z"
   },
   {
    "duration": 1120,
    "start_time": "2024-07-20T13:17:18.866Z"
   },
   {
    "duration": 3221,
    "start_time": "2024-07-20T13:17:19.988Z"
   },
   {
    "duration": 162,
    "start_time": "2024-07-20T13:17:23.210Z"
   },
   {
    "duration": 96,
    "start_time": "2024-07-20T13:17:32.822Z"
   },
   {
    "duration": 7,
    "start_time": "2024-07-20T13:17:41.907Z"
   },
   {
    "duration": 3,
    "start_time": "2024-07-20T13:25:58.940Z"
   },
   {
    "duration": 969,
    "start_time": "2024-07-20T13:27:45.397Z"
   },
   {
    "duration": 984,
    "start_time": "2024-07-20T13:28:59.452Z"
   },
   {
    "duration": 952,
    "start_time": "2024-07-20T13:29:41.742Z"
   },
   {
    "duration": 947,
    "start_time": "2024-07-20T13:29:56.810Z"
   },
   {
    "duration": 1025,
    "start_time": "2024-07-20T13:30:17.616Z"
   },
   {
    "duration": 380,
    "start_time": "2024-07-20T13:31:05.021Z"
   },
   {
    "duration": 130,
    "start_time": "2024-07-20T13:31:26.500Z"
   },
   {
    "duration": 19,
    "start_time": "2024-07-20T13:31:35.645Z"
   },
   {
    "duration": 18,
    "start_time": "2024-07-20T13:31:40.013Z"
   },
   {
    "duration": 15,
    "start_time": "2024-07-20T13:31:50.167Z"
   },
   {
    "duration": 14,
    "start_time": "2024-07-20T13:31:59.652Z"
   },
   {
    "duration": 106,
    "start_time": "2024-07-20T13:32:10.393Z"
   },
   {
    "duration": 17,
    "start_time": "2024-07-20T13:33:01.428Z"
   },
   {
    "duration": 27,
    "start_time": "2024-07-20T13:33:41.179Z"
   },
   {
    "duration": 89,
    "start_time": "2024-07-20T13:33:43.414Z"
   },
   {
    "duration": 14,
    "start_time": "2024-07-20T13:35:30.215Z"
   },
   {
    "duration": 20,
    "start_time": "2024-07-20T13:35:39.132Z"
   },
   {
    "duration": 17,
    "start_time": "2024-07-20T13:36:39.782Z"
   },
   {
    "duration": 14,
    "start_time": "2024-07-20T13:36:40.110Z"
   },
   {
    "duration": 12,
    "start_time": "2024-07-20T13:36:46.512Z"
   },
   {
    "duration": 14,
    "start_time": "2024-07-20T13:36:47.027Z"
   },
   {
    "duration": 3,
    "start_time": "2024-07-20T13:36:50.301Z"
   },
   {
    "duration": 1086,
    "start_time": "2024-07-20T13:36:50.306Z"
   },
   {
    "duration": 252,
    "start_time": "2024-07-20T13:36:51.393Z"
   },
   {
    "duration": 14,
    "start_time": "2024-07-20T13:36:51.647Z"
   },
   {
    "duration": 127,
    "start_time": "2024-07-20T13:38:49.313Z"
   },
   {
    "duration": 9,
    "start_time": "2024-07-20T13:40:01.528Z"
   },
   {
    "duration": 24,
    "start_time": "2024-07-20T13:40:06.496Z"
   },
   {
    "duration": 23,
    "start_time": "2024-07-20T13:40:18.993Z"
   },
   {
    "duration": 22,
    "start_time": "2024-07-20T13:40:35.385Z"
   },
   {
    "duration": 8,
    "start_time": "2024-07-20T13:40:47.084Z"
   },
   {
    "duration": 21,
    "start_time": "2024-07-20T13:41:33.071Z"
   },
   {
    "duration": 3,
    "start_time": "2024-07-20T13:41:49.977Z"
   },
   {
    "duration": 20,
    "start_time": "2024-07-20T13:41:52.046Z"
   },
   {
    "duration": 112,
    "start_time": "2024-07-20T13:42:02.681Z"
   },
   {
    "duration": 27,
    "start_time": "2024-07-20T13:44:43.257Z"
   },
   {
    "duration": 115,
    "start_time": "2024-07-20T13:44:43.664Z"
   },
   {
    "duration": 10,
    "start_time": "2024-07-20T13:53:40.631Z"
   },
   {
    "duration": 544,
    "start_time": "2024-07-20T13:55:01.764Z"
   },
   {
    "duration": 4,
    "start_time": "2024-07-20T13:55:04.337Z"
   },
   {
    "duration": 1126,
    "start_time": "2024-07-20T13:55:04.342Z"
   },
   {
    "duration": 288,
    "start_time": "2024-07-20T13:55:05.469Z"
   },
   {
    "duration": 25,
    "start_time": "2024-07-20T13:55:05.758Z"
   },
   {
    "duration": 30,
    "start_time": "2024-07-20T13:55:05.784Z"
   },
   {
    "duration": 0,
    "start_time": "2024-07-20T13:55:05.816Z"
   },
   {
    "duration": 0,
    "start_time": "2024-07-20T13:55:05.817Z"
   },
   {
    "duration": 264,
    "start_time": "2024-07-20T13:55:30.805Z"
   },
   {
    "duration": 22,
    "start_time": "2024-07-20T13:55:39.121Z"
   },
   {
    "duration": 112,
    "start_time": "2024-07-20T13:55:39.576Z"
   },
   {
    "duration": 10,
    "start_time": "2024-07-20T13:56:05.228Z"
   },
   {
    "duration": 14,
    "start_time": "2024-07-20T13:56:11.957Z"
   },
   {
    "duration": 10516,
    "start_time": "2024-07-20T14:00:00.712Z"
   },
   {
    "duration": 30,
    "start_time": "2024-07-20T14:00:11.230Z"
   },
   {
    "duration": 0,
    "start_time": "2024-07-20T14:00:11.262Z"
   },
   {
    "duration": 246,
    "start_time": "2024-07-20T14:02:05.241Z"
   },
   {
    "duration": 2910,
    "start_time": "2024-07-20T14:03:37.452Z"
   },
   {
    "duration": 14,
    "start_time": "2024-07-20T14:03:42.732Z"
   },
   {
    "duration": 16,
    "start_time": "2024-07-20T14:04:02.726Z"
   },
   {
    "duration": 17,
    "start_time": "2024-07-20T14:04:03.871Z"
   },
   {
    "duration": 5,
    "start_time": "2024-07-20T14:04:15.053Z"
   },
   {
    "duration": 1048,
    "start_time": "2024-07-20T14:04:15.060Z"
   },
   {
    "duration": 266,
    "start_time": "2024-07-20T14:04:16.109Z"
   },
   {
    "duration": 22,
    "start_time": "2024-07-20T14:04:16.377Z"
   },
   {
    "duration": 1757,
    "start_time": "2024-07-20T14:04:16.401Z"
   },
   {
    "duration": 0,
    "start_time": "2024-07-20T14:04:18.160Z"
   },
   {
    "duration": 0,
    "start_time": "2024-07-20T14:04:18.161Z"
   },
   {
    "duration": 124,
    "start_time": "2024-07-20T14:06:48.374Z"
   },
   {
    "duration": 5,
    "start_time": "2024-07-20T14:07:19.132Z"
   },
   {
    "duration": 4,
    "start_time": "2024-07-20T14:07:26.134Z"
   },
   {
    "duration": 9,
    "start_time": "2024-07-20T14:07:27.357Z"
   },
   {
    "duration": 4,
    "start_time": "2024-07-20T14:07:36.387Z"
   },
   {
    "duration": 1028,
    "start_time": "2024-07-20T14:07:36.393Z"
   },
   {
    "duration": 272,
    "start_time": "2024-07-20T14:07:37.422Z"
   },
   {
    "duration": 25,
    "start_time": "2024-07-20T14:07:37.696Z"
   },
   {
    "duration": 166,
    "start_time": "2024-07-20T14:07:37.723Z"
   },
   {
    "duration": 0,
    "start_time": "2024-07-20T14:07:37.891Z"
   },
   {
    "duration": 0,
    "start_time": "2024-07-20T14:07:37.892Z"
   },
   {
    "duration": 62,
    "start_time": "2024-07-20T14:07:54.112Z"
   },
   {
    "duration": 22,
    "start_time": "2024-07-20T14:08:06.355Z"
   },
   {
    "duration": 19,
    "start_time": "2024-07-20T14:08:55.608Z"
   },
   {
    "duration": 5,
    "start_time": "2024-07-20T14:09:18.243Z"
   },
   {
    "duration": 1065,
    "start_time": "2024-07-20T14:09:18.250Z"
   },
   {
    "duration": 260,
    "start_time": "2024-07-20T14:09:19.317Z"
   },
   {
    "duration": 31,
    "start_time": "2024-07-20T14:09:19.579Z"
   },
   {
    "duration": 14,
    "start_time": "2024-07-20T14:09:19.613Z"
   },
   {
    "duration": 0,
    "start_time": "2024-07-20T14:09:19.646Z"
   },
   {
    "duration": 0,
    "start_time": "2024-07-20T14:09:19.648Z"
   },
   {
    "duration": 5,
    "start_time": "2024-07-20T14:16:03.089Z"
   },
   {
    "duration": 1859,
    "start_time": "2024-07-20T14:17:28.305Z"
   },
   {
    "duration": 3508,
    "start_time": "2024-07-20T14:17:30.166Z"
   },
   {
    "duration": 370,
    "start_time": "2024-07-20T14:17:33.676Z"
   },
   {
    "duration": 27,
    "start_time": "2024-07-20T14:17:34.048Z"
   },
   {
    "duration": 1726,
    "start_time": "2024-07-20T14:17:51.674Z"
   },
   {
    "duration": 3291,
    "start_time": "2024-07-20T14:17:53.402Z"
   },
   {
    "duration": 337,
    "start_time": "2024-07-20T14:17:56.694Z"
   },
   {
    "duration": 26,
    "start_time": "2024-07-20T14:17:57.032Z"
   },
   {
    "duration": 47,
    "start_time": "2024-07-20T14:18:21.594Z"
   },
   {
    "duration": 1701,
    "start_time": "2024-07-20T14:18:25.187Z"
   },
   {
    "duration": 3298,
    "start_time": "2024-07-20T14:18:26.890Z"
   },
   {
    "duration": 359,
    "start_time": "2024-07-20T14:18:30.190Z"
   },
   {
    "duration": 153,
    "start_time": "2024-07-20T14:18:30.551Z"
   },
   {
    "duration": 52,
    "start_time": "2024-07-20T14:20:48.434Z"
   },
   {
    "duration": 1696,
    "start_time": "2024-07-20T14:20:54.905Z"
   },
   {
    "duration": 3236,
    "start_time": "2024-07-20T14:20:56.603Z"
   },
   {
    "duration": 363,
    "start_time": "2024-07-20T14:20:59.841Z"
   },
   {
    "duration": 25,
    "start_time": "2024-07-20T14:21:00.205Z"
   },
   {
    "duration": 128,
    "start_time": "2024-07-20T14:21:00.232Z"
   },
   {
    "duration": 0,
    "start_time": "2024-07-20T14:21:00.362Z"
   },
   {
    "duration": 0,
    "start_time": "2024-07-20T14:21:00.363Z"
   },
   {
    "duration": 1469,
    "start_time": "2024-07-20T14:21:02.647Z"
   },
   {
    "duration": 1148,
    "start_time": "2024-07-20T14:21:04.118Z"
   },
   {
    "duration": 340,
    "start_time": "2024-07-20T14:21:05.267Z"
   },
   {
    "duration": 24,
    "start_time": "2024-07-20T14:21:05.608Z"
   },
   {
    "duration": 150,
    "start_time": "2024-07-20T14:21:05.634Z"
   },
   {
    "duration": 0,
    "start_time": "2024-07-20T14:21:05.785Z"
   },
   {
    "duration": 0,
    "start_time": "2024-07-20T14:21:05.787Z"
   },
   {
    "duration": 1691,
    "start_time": "2024-07-20T14:21:21.286Z"
   },
   {
    "duration": 14847,
    "start_time": "2024-07-20T14:23:32.568Z"
   },
   {
    "duration": 6,
    "start_time": "2024-07-20T14:23:47.418Z"
   },
   {
    "duration": 1077,
    "start_time": "2024-07-20T14:23:47.426Z"
   },
   {
    "duration": 309,
    "start_time": "2024-07-20T14:23:48.505Z"
   },
   {
    "duration": 30,
    "start_time": "2024-07-20T14:23:48.816Z"
   },
   {
    "duration": 1689,
    "start_time": "2024-07-20T14:23:48.847Z"
   },
   {
    "duration": 528,
    "start_time": "2024-07-20T14:24:21.287Z"
   },
   {
    "duration": 1474,
    "start_time": "2024-07-20T14:25:05.979Z"
   },
   {
    "duration": 22,
    "start_time": "2024-07-20T14:25:18.950Z"
   },
   {
    "duration": 14,
    "start_time": "2024-07-20T14:25:19.500Z"
   },
   {
    "duration": 1393,
    "start_time": "2024-07-20T14:25:59.709Z"
   },
   {
    "duration": 1369,
    "start_time": "2024-07-20T14:26:20.234Z"
   },
   {
    "duration": 1438,
    "start_time": "2024-07-20T14:26:30.920Z"
   },
   {
    "duration": 1426,
    "start_time": "2024-07-20T14:27:05.523Z"
   },
   {
    "duration": 14,
    "start_time": "2024-07-20T14:27:08.561Z"
   },
   {
    "duration": 18,
    "start_time": "2024-07-20T14:27:10.525Z"
   },
   {
    "duration": 8159,
    "start_time": "2024-07-20T14:27:16.156Z"
   },
   {
    "duration": 5,
    "start_time": "2024-07-20T14:27:24.318Z"
   },
   {
    "duration": 1064,
    "start_time": "2024-07-20T14:27:24.326Z"
   },
   {
    "duration": 250,
    "start_time": "2024-07-20T14:27:25.392Z"
   },
   {
    "duration": 23,
    "start_time": "2024-07-20T14:27:25.645Z"
   },
   {
    "duration": 1422,
    "start_time": "2024-07-20T14:27:25.669Z"
   },
   {
    "duration": 0,
    "start_time": "2024-07-20T14:27:27.093Z"
   },
   {
    "duration": 0,
    "start_time": "2024-07-20T14:27:27.094Z"
   },
   {
    "duration": 1437,
    "start_time": "2024-07-20T14:27:47.362Z"
   },
   {
    "duration": 21,
    "start_time": "2024-07-20T14:27:53.092Z"
   },
   {
    "duration": 14,
    "start_time": "2024-07-20T14:27:53.763Z"
   },
   {
    "duration": 8477,
    "start_time": "2024-07-20T14:28:05.343Z"
   },
   {
    "duration": 5,
    "start_time": "2024-07-20T14:28:13.824Z"
   },
   {
    "duration": 1034,
    "start_time": "2024-07-20T14:28:13.832Z"
   },
   {
    "duration": 319,
    "start_time": "2024-07-20T14:28:14.868Z"
   },
   {
    "duration": 24,
    "start_time": "2024-07-20T14:28:15.189Z"
   },
   {
    "duration": 1428,
    "start_time": "2024-07-20T14:28:15.215Z"
   },
   {
    "duration": 0,
    "start_time": "2024-07-20T14:28:16.647Z"
   },
   {
    "duration": 0,
    "start_time": "2024-07-20T14:28:16.648Z"
   },
   {
    "duration": 61,
    "start_time": "2024-07-20T14:29:41.497Z"
   },
   {
    "duration": 1376,
    "start_time": "2024-07-20T14:30:01.112Z"
   },
   {
    "duration": 25,
    "start_time": "2024-07-20T14:30:06.143Z"
   },
   {
    "duration": 13,
    "start_time": "2024-07-20T14:30:09.374Z"
   },
   {
    "duration": 106,
    "start_time": "2024-07-20T14:30:21.167Z"
   },
   {
    "duration": 108,
    "start_time": "2024-07-20T14:30:26.342Z"
   },
   {
    "duration": 1386,
    "start_time": "2024-07-20T14:31:36.898Z"
   },
   {
    "duration": 14,
    "start_time": "2024-07-20T14:31:40.435Z"
   },
   {
    "duration": 118,
    "start_time": "2024-07-20T14:31:41.656Z"
   },
   {
    "duration": 136,
    "start_time": "2024-07-20T14:33:04.559Z"
   },
   {
    "duration": 69,
    "start_time": "2024-07-20T14:33:22.272Z"
   },
   {
    "duration": 41,
    "start_time": "2024-07-20T14:34:31.730Z"
   },
   {
    "duration": 110,
    "start_time": "2024-07-20T14:36:09.483Z"
   },
   {
    "duration": 1329,
    "start_time": "2024-07-20T14:36:46.186Z"
   },
   {
    "duration": 13,
    "start_time": "2024-07-20T14:36:57.461Z"
   },
   {
    "duration": 100,
    "start_time": "2024-07-20T14:36:58.079Z"
   },
   {
    "duration": 32,
    "start_time": "2024-07-20T14:40:33.265Z"
   },
   {
    "duration": 30,
    "start_time": "2024-07-20T14:41:01.651Z"
   },
   {
    "duration": 5,
    "start_time": "2024-07-20T14:41:54.392Z"
   },
   {
    "duration": 65,
    "start_time": "2024-07-20T14:42:02.907Z"
   },
   {
    "duration": 1325,
    "start_time": "2024-07-20T14:42:08.988Z"
   },
   {
    "duration": 107,
    "start_time": "2024-07-20T14:43:22.408Z"
   },
   {
    "duration": 140,
    "start_time": "2024-07-20T14:43:46.667Z"
   },
   {
    "duration": 4,
    "start_time": "2024-07-20T14:43:52.691Z"
   },
   {
    "duration": 14,
    "start_time": "2024-07-20T14:44:05.351Z"
   },
   {
    "duration": 9,
    "start_time": "2024-07-20T14:44:06.031Z"
   },
   {
    "duration": 4,
    "start_time": "2024-07-20T14:51:13.422Z"
   },
   {
    "duration": 4,
    "start_time": "2024-07-20T14:51:35.577Z"
   },
   {
    "duration": 20,
    "start_time": "2024-07-20T14:51:42.318Z"
   },
   {
    "duration": 10,
    "start_time": "2024-07-20T14:51:42.932Z"
   },
   {
    "duration": 4,
    "start_time": "2024-07-20T14:51:58.201Z"
   },
   {
    "duration": 1068,
    "start_time": "2024-07-20T14:51:58.207Z"
   },
   {
    "duration": 293,
    "start_time": "2024-07-20T14:51:59.277Z"
   },
   {
    "duration": 24,
    "start_time": "2024-07-20T14:51:59.571Z"
   },
   {
    "duration": 2509,
    "start_time": "2024-07-20T14:51:59.597Z"
   },
   {
    "duration": 45,
    "start_time": "2024-07-20T14:52:02.108Z"
   },
   {
    "duration": 137,
    "start_time": "2024-07-20T14:52:02.155Z"
   },
   {
    "duration": 8482,
    "start_time": "2024-07-20T14:52:22.878Z"
   },
   {
    "duration": 4,
    "start_time": "2024-07-20T14:52:31.363Z"
   },
   {
    "duration": 1104,
    "start_time": "2024-07-20T14:52:31.369Z"
   },
   {
    "duration": 267,
    "start_time": "2024-07-20T14:52:32.475Z"
   },
   {
    "duration": 22,
    "start_time": "2024-07-20T14:52:32.745Z"
   },
   {
    "duration": 2532,
    "start_time": "2024-07-20T14:52:32.768Z"
   },
   {
    "duration": 28,
    "start_time": "2024-07-20T14:52:35.302Z"
   },
   {
    "duration": 131,
    "start_time": "2024-07-20T14:52:35.332Z"
   },
   {
    "duration": 9599,
    "start_time": "2024-07-20T14:55:21.326Z"
   },
   {
    "duration": 18,
    "start_time": "2024-07-20T14:56:01.478Z"
   },
   {
    "duration": 8286,
    "start_time": "2024-07-20T14:56:08.654Z"
   },
   {
    "duration": 5,
    "start_time": "2024-07-20T14:56:16.943Z"
   },
   {
    "duration": 1081,
    "start_time": "2024-07-20T14:56:16.949Z"
   },
   {
    "duration": 255,
    "start_time": "2024-07-20T14:56:18.031Z"
   },
   {
    "duration": 23,
    "start_time": "2024-07-20T14:56:18.288Z"
   },
   {
    "duration": 9737,
    "start_time": "2024-07-20T14:56:18.313Z"
   },
   {
    "duration": 25,
    "start_time": "2024-07-20T14:56:28.051Z"
   },
   {
    "duration": 111,
    "start_time": "2024-07-20T14:56:28.078Z"
   },
   {
    "duration": 36,
    "start_time": "2024-07-20T14:57:39.279Z"
   },
   {
    "duration": 2500,
    "start_time": "2024-07-20T14:59:19.823Z"
   },
   {
    "duration": 2443,
    "start_time": "2024-07-20T14:59:25.383Z"
   },
   {
    "duration": 21,
    "start_time": "2024-07-20T14:59:27.828Z"
   },
   {
    "duration": 0,
    "start_time": "2024-07-20T14:59:27.851Z"
   },
   {
    "duration": 3,
    "start_time": "2024-07-20T14:59:38.967Z"
   },
   {
    "duration": 106,
    "start_time": "2024-07-20T14:59:39.915Z"
   },
   {
    "duration": 67,
    "start_time": "2024-07-20T15:00:25.768Z"
   },
   {
    "duration": 2495,
    "start_time": "2024-07-20T15:00:42.348Z"
   },
   {
    "duration": 2,
    "start_time": "2024-07-20T15:00:44.845Z"
   },
   {
    "duration": 131,
    "start_time": "2024-07-20T15:00:44.849Z"
   },
   {
    "duration": 8327,
    "start_time": "2024-07-20T15:00:51.680Z"
   },
   {
    "duration": 1460,
    "start_time": "2024-07-20T15:01:00.010Z"
   },
   {
    "duration": 1124,
    "start_time": "2024-07-20T15:01:01.472Z"
   },
   {
    "duration": 342,
    "start_time": "2024-07-20T15:01:02.598Z"
   },
   {
    "duration": 26,
    "start_time": "2024-07-20T15:01:02.942Z"
   },
   {
    "duration": 2496,
    "start_time": "2024-07-20T15:01:02.970Z"
   },
   {
    "duration": 2,
    "start_time": "2024-07-20T15:01:05.468Z"
   },
   {
    "duration": 125,
    "start_time": "2024-07-20T15:01:05.472Z"
   },
   {
    "duration": 1997,
    "start_time": "2024-07-20T15:02:47.981Z"
   },
   {
    "duration": 3,
    "start_time": "2024-07-20T15:03:04.654Z"
   },
   {
    "duration": 108,
    "start_time": "2024-07-20T15:03:05.077Z"
   },
   {
    "duration": 36,
    "start_time": "2024-07-20T15:04:37.106Z"
   },
   {
    "duration": 19,
    "start_time": "2024-07-20T15:04:49.579Z"
   },
   {
    "duration": 60,
    "start_time": "2024-07-20T15:05:20.891Z"
   },
   {
    "duration": 44,
    "start_time": "2024-07-20T15:05:45.643Z"
   },
   {
    "duration": 21,
    "start_time": "2024-07-20T15:06:01.636Z"
   },
   {
    "duration": 2607,
    "start_time": "2024-07-20T15:07:06.621Z"
   },
   {
    "duration": 2,
    "start_time": "2024-07-20T15:07:09.230Z"
   },
   {
    "duration": 146,
    "start_time": "2024-07-20T15:07:09.233Z"
   },
   {
    "duration": 2678,
    "start_time": "2024-07-20T15:08:59.281Z"
   },
   {
    "duration": 2,
    "start_time": "2024-07-20T15:09:01.962Z"
   },
   {
    "duration": 108,
    "start_time": "2024-07-20T15:09:02.352Z"
   },
   {
    "duration": 2637,
    "start_time": "2024-07-20T15:09:10.307Z"
   },
   {
    "duration": 198,
    "start_time": "2024-07-20T15:09:57.505Z"
   },
   {
    "duration": 2406,
    "start_time": "2024-07-20T15:12:36.850Z"
   },
   {
    "duration": 2,
    "start_time": "2024-07-20T15:12:39.258Z"
   },
   {
    "duration": 158,
    "start_time": "2024-07-20T15:12:39.262Z"
   },
   {
    "duration": 25,
    "start_time": "2024-07-20T15:13:17.022Z"
   },
   {
    "duration": 49,
    "start_time": "2024-07-20T15:13:34.879Z"
   },
   {
    "duration": 2739,
    "start_time": "2024-07-20T15:14:13.631Z"
   },
   {
    "duration": 2,
    "start_time": "2024-07-20T15:14:16.375Z"
   },
   {
    "duration": 168,
    "start_time": "2024-07-20T15:14:16.379Z"
   },
   {
    "duration": 8653,
    "start_time": "2024-07-20T15:14:25.229Z"
   },
   {
    "duration": 1373,
    "start_time": "2024-07-20T15:14:33.885Z"
   },
   {
    "duration": 1186,
    "start_time": "2024-07-20T15:14:35.260Z"
   },
   {
    "duration": 376,
    "start_time": "2024-07-20T15:14:36.449Z"
   },
   {
    "duration": 30,
    "start_time": "2024-07-20T15:14:36.826Z"
   },
   {
    "duration": 22,
    "start_time": "2024-07-20T15:14:36.859Z"
   },
   {
    "duration": 2690,
    "start_time": "2024-07-20T15:14:36.882Z"
   },
   {
    "duration": 2,
    "start_time": "2024-07-20T15:14:39.574Z"
   },
   {
    "duration": 119,
    "start_time": "2024-07-20T15:14:39.578Z"
   },
   {
    "duration": 1524,
    "start_time": "2024-07-20T15:19:07.795Z"
   },
   {
    "duration": 2,
    "start_time": "2024-07-20T15:19:12.087Z"
   },
   {
    "duration": 102,
    "start_time": "2024-07-20T15:19:12.525Z"
   },
   {
    "duration": 65,
    "start_time": "2024-07-20T15:19:38.121Z"
   },
   {
    "duration": 1311,
    "start_time": "2024-07-20T15:20:08.893Z"
   },
   {
    "duration": 3,
    "start_time": "2024-07-20T15:20:10.438Z"
   },
   {
    "duration": 102,
    "start_time": "2024-07-20T15:20:10.718Z"
   },
   {
    "duration": 878,
    "start_time": "2024-07-20T15:21:59.369Z"
   },
   {
    "duration": 901,
    "start_time": "2024-07-20T15:22:29.958Z"
   },
   {
    "duration": 885,
    "start_time": "2024-07-20T15:22:42.831Z"
   },
   {
    "duration": 175,
    "start_time": "2024-07-20T15:22:58.506Z"
   },
   {
    "duration": 66,
    "start_time": "2024-07-20T15:23:07.900Z"
   },
   {
    "duration": 60,
    "start_time": "2024-07-20T15:25:10.442Z"
   },
   {
    "duration": 880,
    "start_time": "2024-07-20T15:25:17.374Z"
   },
   {
    "duration": 6,
    "start_time": "2024-07-20T15:26:31.133Z"
   },
   {
    "duration": 16,
    "start_time": "2024-07-20T15:26:47.237Z"
   },
   {
    "duration": 16,
    "start_time": "2024-07-20T15:28:39.950Z"
   },
   {
    "duration": 13,
    "start_time": "2024-07-20T15:28:44.305Z"
   },
   {
    "duration": 7,
    "start_time": "2024-07-20T15:28:56.524Z"
   },
   {
    "duration": 18,
    "start_time": "2024-07-20T15:33:13.153Z"
   },
   {
    "duration": 14,
    "start_time": "2024-07-20T15:35:43.535Z"
   },
   {
    "duration": 6,
    "start_time": "2024-07-20T15:35:48.110Z"
   },
   {
    "duration": 9,
    "start_time": "2024-07-20T15:36:05.365Z"
   },
   {
    "duration": 8,
    "start_time": "2024-07-20T15:36:14.542Z"
   },
   {
    "duration": 6,
    "start_time": "2024-07-20T15:36:27.058Z"
   },
   {
    "duration": 6,
    "start_time": "2024-07-20T15:41:32.208Z"
   },
   {
    "duration": 4,
    "start_time": "2024-07-20T15:41:50.102Z"
   },
   {
    "duration": 1100,
    "start_time": "2024-07-20T15:41:50.108Z"
   },
   {
    "duration": 278,
    "start_time": "2024-07-20T15:41:51.209Z"
   },
   {
    "duration": 24,
    "start_time": "2024-07-20T15:41:51.489Z"
   },
   {
    "duration": 5,
    "start_time": "2024-07-20T15:41:51.515Z"
   },
   {
    "duration": 920,
    "start_time": "2024-07-20T15:41:51.521Z"
   },
   {
    "duration": 3,
    "start_time": "2024-07-20T15:41:52.443Z"
   },
   {
    "duration": 119,
    "start_time": "2024-07-20T15:41:52.448Z"
   },
   {
    "duration": 11,
    "start_time": "2024-07-20T15:46:19.948Z"
   },
   {
    "duration": 25,
    "start_time": "2024-07-20T15:46:26.807Z"
   },
   {
    "duration": 905,
    "start_time": "2024-07-20T15:46:56.637Z"
   },
   {
    "duration": 3407,
    "start_time": "2024-07-20T15:47:27.206Z"
   },
   {
    "duration": 3,
    "start_time": "2024-07-20T15:47:49.897Z"
   },
   {
    "duration": 123,
    "start_time": "2024-07-20T15:47:50.777Z"
   },
   {
    "duration": 34,
    "start_time": "2024-07-20T15:48:08.707Z"
   },
   {
    "duration": 946,
    "start_time": "2024-07-20T15:48:52.322Z"
   },
   {
    "duration": 2458,
    "start_time": "2024-07-20T15:50:31.598Z"
   },
   {
    "duration": 3,
    "start_time": "2024-07-20T15:50:36.428Z"
   },
   {
    "duration": 122,
    "start_time": "2024-07-20T15:50:37.314Z"
   },
   {
    "duration": 46,
    "start_time": "2024-07-20T15:51:34.964Z"
   },
   {
    "duration": 148,
    "start_time": "2024-07-20T15:51:45.026Z"
   },
   {
    "duration": 22,
    "start_time": "2024-07-20T15:52:27.637Z"
   },
   {
    "duration": 502,
    "start_time": "2024-07-20T15:52:37.333Z"
   },
   {
    "duration": 600,
    "start_time": "2024-07-20T15:53:02.569Z"
   },
   {
    "duration": 65,
    "start_time": "2024-07-20T15:53:21.881Z"
   },
   {
    "duration": 24,
    "start_time": "2024-07-20T15:53:24.674Z"
   },
   {
    "duration": 2518,
    "start_time": "2024-07-20T15:54:03.711Z"
   },
   {
    "duration": 84,
    "start_time": "2024-07-20T15:55:54.203Z"
   },
   {
    "duration": 1795,
    "start_time": "2024-07-20T15:56:50.777Z"
   },
   {
    "duration": 2,
    "start_time": "2024-07-20T15:56:53.218Z"
   },
   {
    "duration": 119,
    "start_time": "2024-07-20T15:56:54.790Z"
   },
   {
    "duration": 2714,
    "start_time": "2024-07-20T15:57:21.832Z"
   },
   {
    "duration": 3,
    "start_time": "2024-07-20T15:57:24.547Z"
   },
   {
    "duration": 132,
    "start_time": "2024-07-20T15:57:24.551Z"
   },
   {
    "duration": 1831,
    "start_time": "2024-07-20T15:58:16.392Z"
   },
   {
    "duration": 2,
    "start_time": "2024-07-20T15:58:18.305Z"
   },
   {
    "duration": 102,
    "start_time": "2024-07-20T15:58:19.378Z"
   },
   {
    "duration": 4,
    "start_time": "2024-07-20T15:58:26.663Z"
   },
   {
    "duration": 1059,
    "start_time": "2024-07-20T15:58:26.669Z"
   },
   {
    "duration": 256,
    "start_time": "2024-07-20T15:58:27.730Z"
   },
   {
    "duration": 23,
    "start_time": "2024-07-20T15:58:27.988Z"
   },
   {
    "duration": 1848,
    "start_time": "2024-07-20T15:58:28.013Z"
   },
   {
    "duration": 3,
    "start_time": "2024-07-20T15:58:29.862Z"
   },
   {
    "duration": 118,
    "start_time": "2024-07-20T15:58:29.866Z"
   },
   {
    "duration": 1903,
    "start_time": "2024-07-20T15:59:15.132Z"
   },
   {
    "duration": 2,
    "start_time": "2024-07-20T15:59:17.184Z"
   },
   {
    "duration": 100,
    "start_time": "2024-07-20T15:59:19.099Z"
   },
   {
    "duration": 1877,
    "start_time": "2024-07-20T16:02:18.255Z"
   },
   {
    "duration": 15,
    "start_time": "2024-07-20T16:03:02.088Z"
   },
   {
    "duration": 20,
    "start_time": "2024-07-20T16:03:11.878Z"
   },
   {
    "duration": 13,
    "start_time": "2024-07-20T16:03:23.653Z"
   },
   {
    "duration": 55,
    "start_time": "2024-07-20T16:03:39.145Z"
   },
   {
    "duration": 24,
    "start_time": "2024-07-20T16:03:45.523Z"
   },
   {
    "duration": 40,
    "start_time": "2024-07-20T16:04:03.205Z"
   },
   {
    "duration": 33,
    "start_time": "2024-07-20T16:05:27.089Z"
   },
   {
    "duration": 1806,
    "start_time": "2024-07-20T16:05:31.769Z"
   },
   {
    "duration": 3,
    "start_time": "2024-07-20T16:05:33.577Z"
   },
   {
    "duration": 102,
    "start_time": "2024-07-20T16:05:34.118Z"
   },
   {
    "duration": 30,
    "start_time": "2024-07-20T16:05:55.288Z"
   },
   {
    "duration": 1878,
    "start_time": "2024-07-20T16:05:57.123Z"
   },
   {
    "duration": 3,
    "start_time": "2024-07-20T16:05:59.002Z"
   },
   {
    "duration": 116,
    "start_time": "2024-07-20T16:05:59.006Z"
   },
   {
    "duration": 64,
    "start_time": "2024-07-20T16:06:34.745Z"
   },
   {
    "duration": 79,
    "start_time": "2024-07-20T16:06:41.722Z"
   },
   {
    "duration": 78,
    "start_time": "2024-07-20T16:07:15.866Z"
   },
   {
    "duration": 86,
    "start_time": "2024-07-20T16:07:24.886Z"
   },
   {
    "duration": 77,
    "start_time": "2024-07-20T16:07:31.778Z"
   },
   {
    "duration": 36,
    "start_time": "2024-07-20T16:09:18.969Z"
   },
   {
    "duration": 32,
    "start_time": "2024-07-20T16:10:31.499Z"
   },
   {
    "duration": 51,
    "start_time": "2024-07-20T16:10:47.889Z"
   },
   {
    "duration": 78,
    "start_time": "2024-07-20T16:11:02.112Z"
   },
   {
    "duration": 1726,
    "start_time": "2024-07-20T16:12:47.129Z"
   },
   {
    "duration": 3,
    "start_time": "2024-07-20T16:12:50.294Z"
   },
   {
    "duration": 101,
    "start_time": "2024-07-20T16:12:51.014Z"
   },
   {
    "duration": 25,
    "start_time": "2024-07-20T16:13:03.863Z"
   },
   {
    "duration": 4,
    "start_time": "2024-07-20T16:13:15.714Z"
   },
   {
    "duration": 1089,
    "start_time": "2024-07-20T16:13:15.721Z"
   },
   {
    "duration": 268,
    "start_time": "2024-07-20T16:13:16.812Z"
   },
   {
    "duration": 29,
    "start_time": "2024-07-20T16:13:17.082Z"
   },
   {
    "duration": 9,
    "start_time": "2024-07-20T16:13:17.113Z"
   },
   {
    "duration": 0,
    "start_time": "2024-07-20T16:13:17.124Z"
   },
   {
    "duration": 0,
    "start_time": "2024-07-20T16:13:17.125Z"
   },
   {
    "duration": 0,
    "start_time": "2024-07-20T16:13:17.127Z"
   },
   {
    "duration": 9,
    "start_time": "2024-07-20T16:13:50.741Z"
   },
   {
    "duration": 279,
    "start_time": "2024-07-20T16:13:55.606Z"
   },
   {
    "duration": 277,
    "start_time": "2024-07-20T16:15:20.252Z"
   },
   {
    "duration": 581,
    "start_time": "2024-07-20T16:16:28.296Z"
   },
   {
    "duration": 25,
    "start_time": "2024-07-20T16:16:33.634Z"
   },
   {
    "duration": 4,
    "start_time": "2024-07-20T16:16:54.116Z"
   },
   {
    "duration": 1082,
    "start_time": "2024-07-20T16:16:54.122Z"
   },
   {
    "duration": 263,
    "start_time": "2024-07-20T16:16:55.205Z"
   },
   {
    "duration": 29,
    "start_time": "2024-07-20T16:16:55.469Z"
   },
   {
    "duration": 495,
    "start_time": "2024-07-20T16:16:55.500Z"
   },
   {
    "duration": 24,
    "start_time": "2024-07-20T16:16:55.997Z"
   },
   {
    "duration": 1769,
    "start_time": "2024-07-20T16:16:56.023Z"
   },
   {
    "duration": 100,
    "start_time": "2024-07-20T16:16:57.794Z"
   },
   {
    "duration": 11017,
    "start_time": "2024-07-20T16:18:29.239Z"
   },
   {
    "duration": 0,
    "start_time": "2024-07-20T16:18:40.258Z"
   },
   {
    "duration": 69,
    "start_time": "2024-07-20T16:20:27.261Z"
   },
   {
    "duration": 161,
    "start_time": "2024-07-20T16:20:28.313Z"
   },
   {
    "duration": 222,
    "start_time": "2024-07-20T16:21:13.513Z"
   },
   {
    "duration": 70,
    "start_time": "2024-07-20T16:21:46.499Z"
   },
   {
    "duration": 155,
    "start_time": "2024-07-20T16:21:51.359Z"
   },
   {
    "duration": 2479,
    "start_time": "2024-07-20T16:24:43.094Z"
   },
   {
    "duration": 4,
    "start_time": "2024-07-20T16:24:52.595Z"
   },
   {
    "duration": 158,
    "start_time": "2024-07-20T16:24:53.029Z"
   },
   {
    "duration": 26,
    "start_time": "2024-07-20T16:26:00.293Z"
   },
   {
    "duration": 68,
    "start_time": "2024-07-20T16:26:31.642Z"
   },
   {
    "duration": 56,
    "start_time": "2024-07-20T16:26:45.097Z"
   },
   {
    "duration": 4,
    "start_time": "2024-07-20T16:27:06.999Z"
   },
   {
    "duration": 40,
    "start_time": "2024-07-20T16:27:09.857Z"
   },
   {
    "duration": 26,
    "start_time": "2024-07-20T16:27:25.562Z"
   },
   {
    "duration": 2433,
    "start_time": "2024-07-20T16:28:47.202Z"
   },
   {
    "duration": 26,
    "start_time": "2024-07-20T16:28:49.637Z"
   },
   {
    "duration": 5,
    "start_time": "2024-07-20T16:29:17.863Z"
   },
   {
    "duration": 81,
    "start_time": "2024-07-20T16:29:24.939Z"
   },
   {
    "duration": 7,
    "start_time": "2024-07-20T16:29:28.572Z"
   },
   {
    "duration": 68,
    "start_time": "2024-07-20T16:29:45.672Z"
   },
   {
    "duration": 4024,
    "start_time": "2024-07-20T16:29:51.707Z"
   },
   {
    "duration": 5,
    "start_time": "2024-07-20T16:30:00.744Z"
   },
   {
    "duration": 3799,
    "start_time": "2024-07-20T16:30:03.438Z"
   },
   {
    "duration": 2483,
    "start_time": "2024-07-20T16:30:14.557Z"
   },
   {
    "duration": 71,
    "start_time": "2024-07-20T16:31:24.353Z"
   },
   {
    "duration": 63,
    "start_time": "2024-07-20T16:31:32.871Z"
   },
   {
    "duration": 72,
    "start_time": "2024-07-20T16:31:38.820Z"
   },
   {
    "duration": 2506,
    "start_time": "2024-07-20T16:31:47.101Z"
   },
   {
    "duration": 27,
    "start_time": "2024-07-20T16:32:00.810Z"
   },
   {
    "duration": 3,
    "start_time": "2024-07-20T16:32:02.932Z"
   },
   {
    "duration": 154,
    "start_time": "2024-07-20T16:32:03.736Z"
   },
   {
    "duration": 21,
    "start_time": "2024-07-20T16:34:06.230Z"
   },
   {
    "duration": 2374,
    "start_time": "2024-07-20T16:34:21.617Z"
   },
   {
    "duration": 26,
    "start_time": "2024-07-20T16:34:23.993Z"
   },
   {
    "duration": 19,
    "start_time": "2024-07-20T16:34:24.021Z"
   },
   {
    "duration": 156,
    "start_time": "2024-07-20T16:34:24.042Z"
   },
   {
    "duration": 2352,
    "start_time": "2024-07-20T16:35:01.260Z"
   },
   {
    "duration": 2644,
    "start_time": "2024-07-20T16:35:37.994Z"
   },
   {
    "duration": 27,
    "start_time": "2024-07-20T16:35:40.640Z"
   },
   {
    "duration": 10,
    "start_time": "2024-07-20T16:35:40.669Z"
   },
   {
    "duration": 13,
    "start_time": "2024-07-20T16:35:44.004Z"
   },
   {
    "duration": 5,
    "start_time": "2024-07-20T16:37:08.549Z"
   },
   {
    "duration": 973,
    "start_time": "2024-07-20T16:37:08.556Z"
   },
   {
    "duration": 258,
    "start_time": "2024-07-20T16:37:09.530Z"
   },
   {
    "duration": 24,
    "start_time": "2024-07-20T16:37:09.790Z"
   },
   {
    "duration": 453,
    "start_time": "2024-07-20T16:37:09.816Z"
   },
   {
    "duration": 24,
    "start_time": "2024-07-20T16:37:10.271Z"
   },
   {
    "duration": 2657,
    "start_time": "2024-07-20T16:37:10.297Z"
   },
   {
    "duration": 2557,
    "start_time": "2024-07-20T16:37:12.955Z"
   },
   {
    "duration": 32,
    "start_time": "2024-07-20T16:37:15.513Z"
   },
   {
    "duration": 3,
    "start_time": "2024-07-20T16:37:15.547Z"
   },
   {
    "duration": 39,
    "start_time": "2024-07-20T16:37:15.551Z"
   },
   {
    "duration": 3,
    "start_time": "2024-07-20T16:37:48.280Z"
   },
   {
    "duration": 966,
    "start_time": "2024-07-20T16:37:48.285Z"
   },
   {
    "duration": 280,
    "start_time": "2024-07-20T16:37:49.253Z"
   },
   {
    "duration": 33,
    "start_time": "2024-07-20T16:37:49.535Z"
   },
   {
    "duration": 557,
    "start_time": "2024-07-20T16:37:49.569Z"
   },
   {
    "duration": 26,
    "start_time": "2024-07-20T16:37:50.127Z"
   },
   {
    "duration": 2631,
    "start_time": "2024-07-20T16:37:50.155Z"
   },
   {
    "duration": 26,
    "start_time": "2024-07-20T16:37:52.787Z"
   },
   {
    "duration": 9,
    "start_time": "2024-07-20T16:37:52.815Z"
   },
   {
    "duration": 22,
    "start_time": "2024-07-20T16:37:52.826Z"
   },
   {
    "duration": 8251,
    "start_time": "2024-07-20T16:38:46.285Z"
   },
   {
    "duration": 1462,
    "start_time": "2024-07-20T16:38:54.539Z"
   },
   {
    "duration": 1106,
    "start_time": "2024-07-20T16:38:56.003Z"
   },
   {
    "duration": 343,
    "start_time": "2024-07-20T16:38:57.111Z"
   },
   {
    "duration": 38,
    "start_time": "2024-07-20T16:38:57.456Z"
   },
   {
    "duration": 534,
    "start_time": "2024-07-20T16:38:57.496Z"
   },
   {
    "duration": 30,
    "start_time": "2024-07-20T16:38:58.032Z"
   },
   {
    "duration": 2695,
    "start_time": "2024-07-20T16:38:58.064Z"
   },
   {
    "duration": 28,
    "start_time": "2024-07-20T16:39:00.761Z"
   },
   {
    "duration": 57,
    "start_time": "2024-07-20T16:39:00.791Z"
   },
   {
    "duration": 57,
    "start_time": "2024-07-20T16:39:00.849Z"
   },
   {
    "duration": 4,
    "start_time": "2024-07-20T16:40:02.982Z"
   },
   {
    "duration": 2578,
    "start_time": "2024-07-20T16:41:11.315Z"
   },
   {
    "duration": 25,
    "start_time": "2024-07-20T16:41:13.895Z"
   },
   {
    "duration": 4,
    "start_time": "2024-07-20T16:41:14.025Z"
   },
   {
    "duration": 14,
    "start_time": "2024-07-20T16:41:14.304Z"
   },
   {
    "duration": 3,
    "start_time": "2024-07-20T16:41:32.284Z"
   },
   {
    "duration": 1032,
    "start_time": "2024-07-20T16:41:32.289Z"
   },
   {
    "duration": 4,
    "start_time": "2024-07-20T16:41:33.323Z"
   },
   {
    "duration": 253,
    "start_time": "2024-07-20T16:41:33.328Z"
   },
   {
    "duration": 24,
    "start_time": "2024-07-20T16:41:33.583Z"
   },
   {
    "duration": 479,
    "start_time": "2024-07-20T16:41:33.609Z"
   },
   {
    "duration": 22,
    "start_time": "2024-07-20T16:41:34.090Z"
   },
   {
    "duration": 2657,
    "start_time": "2024-07-20T16:41:34.113Z"
   },
   {
    "duration": 26,
    "start_time": "2024-07-20T16:41:36.772Z"
   },
   {
    "duration": 4,
    "start_time": "2024-07-20T16:41:36.800Z"
   },
   {
    "duration": 16,
    "start_time": "2024-07-20T16:41:36.805Z"
   },
   {
    "duration": 23,
    "start_time": "2024-07-20T16:42:22.973Z"
   },
   {
    "duration": 43,
    "start_time": "2024-07-20T16:42:22.998Z"
   },
   {
    "duration": 30,
    "start_time": "2024-07-20T16:42:23.043Z"
   },
   {
    "duration": 20,
    "start_time": "2024-07-20T16:42:23.075Z"
   },
   {
    "duration": 3,
    "start_time": "2024-07-20T16:43:19.080Z"
   },
   {
    "duration": 993,
    "start_time": "2024-07-20T16:43:19.086Z"
   },
   {
    "duration": 5,
    "start_time": "2024-07-20T16:43:20.081Z"
   },
   {
    "duration": 258,
    "start_time": "2024-07-20T16:43:20.087Z"
   },
   {
    "duration": 24,
    "start_time": "2024-07-20T16:43:20.348Z"
   },
   {
    "duration": 539,
    "start_time": "2024-07-20T16:43:20.373Z"
   },
   {
    "duration": 35,
    "start_time": "2024-07-20T16:43:20.913Z"
   },
   {
    "duration": 41,
    "start_time": "2024-07-20T16:43:20.950Z"
   },
   {
    "duration": 54,
    "start_time": "2024-07-20T16:43:20.992Z"
   },
   {
    "duration": 19,
    "start_time": "2024-07-20T16:43:21.048Z"
   },
   {
    "duration": 30,
    "start_time": "2024-07-20T16:43:21.069Z"
   },
   {
    "duration": 4,
    "start_time": "2024-07-20T16:44:07.734Z"
   },
   {
    "duration": 1052,
    "start_time": "2024-07-20T16:44:07.741Z"
   },
   {
    "duration": 5,
    "start_time": "2024-07-20T16:44:08.795Z"
   },
   {
    "duration": 255,
    "start_time": "2024-07-20T16:44:08.801Z"
   },
   {
    "duration": 24,
    "start_time": "2024-07-20T16:44:09.058Z"
   },
   {
    "duration": 475,
    "start_time": "2024-07-20T16:44:09.084Z"
   },
   {
    "duration": 24,
    "start_time": "2024-07-20T16:44:09.561Z"
   },
   {
    "duration": 22,
    "start_time": "2024-07-20T16:44:09.587Z"
   },
   {
    "duration": 46,
    "start_time": "2024-07-20T16:44:09.611Z"
   },
   {
    "duration": 6,
    "start_time": "2024-07-20T16:44:09.658Z"
   },
   {
    "duration": 19,
    "start_time": "2024-07-20T16:44:09.667Z"
   },
   {
    "duration": 14463,
    "start_time": "2024-07-20T16:46:14.473Z"
   },
   {
    "duration": 19,
    "start_time": "2024-07-20T16:46:28.937Z"
   },
   {
    "duration": 102,
    "start_time": "2024-07-20T16:46:52.111Z"
   },
   {
    "duration": 190,
    "start_time": "2024-07-20T16:49:18.102Z"
   },
   {
    "duration": 101,
    "start_time": "2024-07-20T16:49:19.065Z"
   },
   {
    "duration": 13,
    "start_time": "2024-07-20T16:49:27.857Z"
   },
   {
    "duration": 13502,
    "start_time": "2024-07-20T18:19:31.810Z"
   },
   {
    "duration": 1355,
    "start_time": "2024-07-20T18:19:45.314Z"
   },
   {
    "duration": 1260,
    "start_time": "2024-07-20T18:19:46.671Z"
   },
   {
    "duration": 4,
    "start_time": "2024-07-20T18:19:47.933Z"
   },
   {
    "duration": 321,
    "start_time": "2024-07-20T18:19:47.939Z"
   },
   {
    "duration": 37,
    "start_time": "2024-07-20T18:19:48.262Z"
   },
   {
    "duration": 441,
    "start_time": "2024-07-20T18:19:48.301Z"
   },
   {
    "duration": 22,
    "start_time": "2024-07-20T18:19:48.744Z"
   },
   {
    "duration": 32,
    "start_time": "2024-07-20T18:19:48.767Z"
   },
   {
    "duration": 13258,
    "start_time": "2024-07-20T18:19:48.800Z"
   },
   {
    "duration": 180,
    "start_time": "2024-07-20T18:20:02.060Z"
   },
   {
    "duration": 13,
    "start_time": "2024-07-20T18:20:02.241Z"
   },
   {
    "duration": 7342,
    "start_time": "2024-07-20T18:22:00.622Z"
   },
   {
    "duration": 5,
    "start_time": "2024-07-20T18:22:07.966Z"
   },
   {
    "duration": 894,
    "start_time": "2024-07-20T18:22:07.972Z"
   },
   {
    "duration": 3,
    "start_time": "2024-07-20T18:22:08.868Z"
   },
   {
    "duration": 235,
    "start_time": "2024-07-20T18:22:08.873Z"
   },
   {
    "duration": 22,
    "start_time": "2024-07-20T18:22:09.109Z"
   },
   {
    "duration": 439,
    "start_time": "2024-07-20T18:22:09.132Z"
   },
   {
    "duration": 25,
    "start_time": "2024-07-20T18:22:09.572Z"
   },
   {
    "duration": 3,
    "start_time": "2024-07-20T18:22:09.598Z"
   },
   {
    "duration": 2168,
    "start_time": "2024-07-20T18:22:09.602Z"
   },
   {
    "duration": 169,
    "start_time": "2024-07-20T18:22:11.771Z"
   },
   {
    "duration": 12,
    "start_time": "2024-07-20T18:22:11.941Z"
   },
   {
    "duration": 7255,
    "start_time": "2024-07-20T18:23:42.702Z"
   },
   {
    "duration": 3,
    "start_time": "2024-07-20T18:23:49.960Z"
   },
   {
    "duration": 938,
    "start_time": "2024-07-20T18:23:49.965Z"
   },
   {
    "duration": 4,
    "start_time": "2024-07-20T18:23:50.905Z"
   },
   {
    "duration": 232,
    "start_time": "2024-07-20T18:23:50.910Z"
   },
   {
    "duration": 23,
    "start_time": "2024-07-20T18:23:51.143Z"
   },
   {
    "duration": 424,
    "start_time": "2024-07-20T18:23:51.168Z"
   },
   {
    "duration": 21,
    "start_time": "2024-07-20T18:23:51.593Z"
   },
   {
    "duration": 30,
    "start_time": "2024-07-20T18:23:51.615Z"
   },
   {
    "duration": 3,
    "start_time": "2024-07-20T18:23:51.647Z"
   },
   {
    "duration": 181,
    "start_time": "2024-07-20T18:23:51.651Z"
   },
   {
    "duration": 15,
    "start_time": "2024-07-20T18:23:51.834Z"
   },
   {
    "duration": 372,
    "start_time": "2024-07-20T18:24:44.924Z"
   },
   {
    "duration": 7418,
    "start_time": "2024-07-20T18:25:36.584Z"
   },
   {
    "duration": 5,
    "start_time": "2024-07-20T18:25:44.004Z"
   },
   {
    "duration": 928,
    "start_time": "2024-07-20T18:25:44.010Z"
   },
   {
    "duration": 3,
    "start_time": "2024-07-20T18:25:44.941Z"
   },
   {
    "duration": 252,
    "start_time": "2024-07-20T18:25:44.946Z"
   },
   {
    "duration": 28,
    "start_time": "2024-07-20T18:25:45.199Z"
   },
   {
    "duration": 21,
    "start_time": "2024-07-20T18:25:45.229Z"
   },
   {
    "duration": 34,
    "start_time": "2024-07-20T18:25:45.252Z"
   },
   {
    "duration": 9,
    "start_time": "2024-07-20T18:25:45.287Z"
   },
   {
    "duration": 164,
    "start_time": "2024-07-20T18:25:45.298Z"
   },
   {
    "duration": 11,
    "start_time": "2024-07-20T18:25:45.463Z"
   },
   {
    "duration": 399,
    "start_time": "2024-07-20T18:25:45.476Z"
   },
   {
    "duration": 98,
    "start_time": "2024-07-20T18:26:23.564Z"
   },
   {
    "duration": 115,
    "start_time": "2024-07-20T18:30:05.453Z"
   },
   {
    "duration": 136,
    "start_time": "2024-07-20T18:34:55.230Z"
   },
   {
    "duration": 37,
    "start_time": "2024-07-20T18:37:03.725Z"
   },
   {
    "duration": 118,
    "start_time": "2024-07-20T18:37:08.084Z"
   },
   {
    "duration": 117,
    "start_time": "2024-07-20T18:37:20.555Z"
   },
   {
    "duration": 1207,
    "start_time": "2024-07-20T18:43:05.256Z"
   },
   {
    "duration": 673,
    "start_time": "2024-07-20T18:43:49.464Z"
   },
   {
    "duration": 84,
    "start_time": "2024-07-20T18:44:32.708Z"
   },
   {
    "duration": 78,
    "start_time": "2024-07-20T18:45:11.862Z"
   },
   {
    "duration": 9,
    "start_time": "2024-07-20T19:00:26.817Z"
   },
   {
    "duration": 7,
    "start_time": "2024-07-20T19:00:50.692Z"
   },
   {
    "duration": 7368,
    "start_time": "2024-07-20T19:02:56.217Z"
   },
   {
    "duration": 5,
    "start_time": "2024-07-20T19:03:03.588Z"
   },
   {
    "duration": 882,
    "start_time": "2024-07-20T19:03:03.594Z"
   },
   {
    "duration": 5,
    "start_time": "2024-07-20T19:03:04.478Z"
   },
   {
    "duration": 232,
    "start_time": "2024-07-20T19:03:04.484Z"
   },
   {
    "duration": 25,
    "start_time": "2024-07-20T19:03:04.718Z"
   },
   {
    "duration": 21,
    "start_time": "2024-07-20T19:03:04.745Z"
   },
   {
    "duration": 19,
    "start_time": "2024-07-20T19:03:04.781Z"
   },
   {
    "duration": 2,
    "start_time": "2024-07-20T19:03:04.801Z"
   },
   {
    "duration": 171,
    "start_time": "2024-07-20T19:03:04.805Z"
   },
   {
    "duration": 93,
    "start_time": "2024-07-20T19:03:04.977Z"
   },
   {
    "duration": 125,
    "start_time": "2024-07-20T19:03:05.071Z"
   },
   {
    "duration": 85,
    "start_time": "2024-07-20T19:03:05.197Z"
   },
   {
    "duration": 6,
    "start_time": "2024-07-20T19:03:05.284Z"
   },
   {
    "duration": 391,
    "start_time": "2024-07-20T19:03:05.291Z"
   },
   {
    "duration": 677,
    "start_time": "2024-07-20T19:03:05.683Z"
   },
   {
    "duration": 6,
    "start_time": "2024-07-20T19:04:03.691Z"
   },
   {
    "duration": 18,
    "start_time": "2024-07-20T19:04:39.572Z"
   },
   {
    "duration": 19,
    "start_time": "2024-07-20T19:04:54.108Z"
   },
   {
    "duration": 11,
    "start_time": "2024-07-20T19:05:05.067Z"
   },
   {
    "duration": 7143,
    "start_time": "2024-07-20T19:05:21.862Z"
   },
   {
    "duration": 4,
    "start_time": "2024-07-20T19:05:29.008Z"
   },
   {
    "duration": 886,
    "start_time": "2024-07-20T19:05:29.013Z"
   },
   {
    "duration": 4,
    "start_time": "2024-07-20T19:05:29.901Z"
   },
   {
    "duration": 234,
    "start_time": "2024-07-20T19:05:29.906Z"
   },
   {
    "duration": 23,
    "start_time": "2024-07-20T19:05:30.142Z"
   },
   {
    "duration": 38,
    "start_time": "2024-07-20T19:05:30.167Z"
   },
   {
    "duration": 59,
    "start_time": "2024-07-20T19:05:30.206Z"
   },
   {
    "duration": 35,
    "start_time": "2024-07-20T19:05:30.268Z"
   },
   {
    "duration": 209,
    "start_time": "2024-07-20T19:05:30.305Z"
   },
   {
    "duration": 89,
    "start_time": "2024-07-20T19:05:30.515Z"
   },
   {
    "duration": 131,
    "start_time": "2024-07-20T19:05:30.606Z"
   },
   {
    "duration": 92,
    "start_time": "2024-07-20T19:05:30.738Z"
   },
   {
    "duration": 7,
    "start_time": "2024-07-20T19:05:30.831Z"
   },
   {
    "duration": 60,
    "start_time": "2024-07-20T19:05:30.839Z"
   },
   {
    "duration": 387,
    "start_time": "2024-07-20T19:05:30.900Z"
   },
   {
    "duration": 731,
    "start_time": "2024-07-20T19:05:31.289Z"
   },
   {
    "duration": 12,
    "start_time": "2024-07-20T19:07:20.745Z"
   },
   {
    "duration": 4,
    "start_time": "2024-07-20T19:07:30.182Z"
   },
   {
    "duration": 1012,
    "start_time": "2024-07-20T19:07:30.187Z"
   },
   {
    "duration": 3,
    "start_time": "2024-07-20T19:07:31.201Z"
   },
   {
    "duration": 330,
    "start_time": "2024-07-20T19:07:31.206Z"
   },
   {
    "duration": 22,
    "start_time": "2024-07-20T19:07:31.539Z"
   },
   {
    "duration": 44,
    "start_time": "2024-07-20T19:07:31.562Z"
   },
   {
    "duration": 19,
    "start_time": "2024-07-20T19:07:31.608Z"
   },
   {
    "duration": 7,
    "start_time": "2024-07-20T19:07:31.628Z"
   },
   {
    "duration": 166,
    "start_time": "2024-07-20T19:07:31.636Z"
   },
   {
    "duration": 100,
    "start_time": "2024-07-20T19:07:31.803Z"
   },
   {
    "duration": 123,
    "start_time": "2024-07-20T19:07:31.904Z"
   },
   {
    "duration": 73,
    "start_time": "2024-07-20T19:07:32.029Z"
   },
   {
    "duration": 6,
    "start_time": "2024-07-20T19:07:32.104Z"
   },
   {
    "duration": 44,
    "start_time": "2024-07-20T19:07:32.111Z"
   },
   {
    "duration": 391,
    "start_time": "2024-07-20T19:07:32.157Z"
   },
   {
    "duration": 526,
    "start_time": "2024-07-20T19:07:32.550Z"
   },
   {
    "duration": 159,
    "start_time": "2024-07-20T19:17:11.075Z"
   },
   {
    "duration": 157,
    "start_time": "2024-07-20T19:17:43.207Z"
   },
   {
    "duration": 155,
    "start_time": "2024-07-20T19:17:55.385Z"
   },
   {
    "duration": 151,
    "start_time": "2024-07-20T19:18:12.183Z"
   },
   {
    "duration": 276,
    "start_time": "2024-07-20T19:18:30.635Z"
   },
   {
    "duration": 152,
    "start_time": "2024-07-20T19:19:53.624Z"
   },
   {
    "duration": 359,
    "start_time": "2024-07-20T19:20:29.155Z"
   },
   {
    "duration": 234,
    "start_time": "2024-07-20T19:20:47.967Z"
   },
   {
    "duration": 199,
    "start_time": "2024-07-20T19:21:09.138Z"
   },
   {
    "duration": 229,
    "start_time": "2024-07-20T19:21:28.213Z"
   },
   {
    "duration": 234,
    "start_time": "2024-07-20T19:21:33.160Z"
   },
   {
    "duration": 205,
    "start_time": "2024-07-20T19:21:55.231Z"
   },
   {
    "duration": 225,
    "start_time": "2024-07-20T19:22:04.775Z"
   },
   {
    "duration": 220,
    "start_time": "2024-07-20T19:23:44.531Z"
   },
   {
    "duration": 225,
    "start_time": "2024-07-20T19:23:48.168Z"
   },
   {
    "duration": 48,
    "start_time": "2024-07-20T19:24:11.368Z"
   },
   {
    "duration": 157,
    "start_time": "2024-07-20T19:25:14.210Z"
   },
   {
    "duration": 203,
    "start_time": "2024-07-20T19:25:21.267Z"
   },
   {
    "duration": 73,
    "start_time": "2024-07-20T19:25:36.405Z"
   },
   {
    "duration": 283,
    "start_time": "2024-07-20T19:25:48.402Z"
   },
   {
    "duration": 201,
    "start_time": "2024-07-20T19:26:00.326Z"
   },
   {
    "duration": 18,
    "start_time": "2024-07-20T19:26:10.108Z"
   },
   {
    "duration": 220,
    "start_time": "2024-07-20T19:26:15.714Z"
   },
   {
    "duration": 255,
    "start_time": "2024-07-20T19:26:53.094Z"
   },
   {
    "duration": 225,
    "start_time": "2024-07-20T19:26:57.246Z"
   },
   {
    "duration": 217,
    "start_time": "2024-07-20T19:27:04.607Z"
   },
   {
    "duration": 308,
    "start_time": "2024-07-20T19:27:50.151Z"
   },
   {
    "duration": 265,
    "start_time": "2024-07-20T19:27:53.841Z"
   },
   {
    "duration": 234,
    "start_time": "2024-07-20T19:27:58.052Z"
   },
   {
    "duration": 222,
    "start_time": "2024-07-20T19:28:05.348Z"
   },
   {
    "duration": 329,
    "start_time": "2024-07-20T19:28:13.615Z"
   },
   {
    "duration": 234,
    "start_time": "2024-07-20T19:28:19.493Z"
   },
   {
    "duration": 239,
    "start_time": "2024-07-20T19:29:25.456Z"
   },
   {
    "duration": 236,
    "start_time": "2024-07-20T19:31:15.535Z"
   },
   {
    "duration": 237,
    "start_time": "2024-07-20T19:32:53.902Z"
   },
   {
    "duration": 220,
    "start_time": "2024-07-20T19:33:15.055Z"
   },
   {
    "duration": 242,
    "start_time": "2024-07-20T19:33:25.821Z"
   },
   {
    "duration": 243,
    "start_time": "2024-07-20T19:33:47.713Z"
   },
   {
    "duration": 351,
    "start_time": "2024-07-20T19:33:57.031Z"
   },
   {
    "duration": 260,
    "start_time": "2024-07-20T19:35:45.292Z"
   },
   {
    "duration": 254,
    "start_time": "2024-07-20T19:36:35.307Z"
   },
   {
    "duration": 258,
    "start_time": "2024-07-20T19:37:08.458Z"
   },
   {
    "duration": 257,
    "start_time": "2024-07-20T19:37:18.252Z"
   },
   {
    "duration": 276,
    "start_time": "2024-07-20T19:37:25.666Z"
   },
   {
    "duration": 9,
    "start_time": "2024-07-20T19:44:24.444Z"
   },
   {
    "duration": 11,
    "start_time": "2024-07-20T19:45:08.092Z"
   },
   {
    "duration": 10,
    "start_time": "2024-07-20T19:45:17.962Z"
   },
   {
    "duration": 15,
    "start_time": "2024-07-20T19:45:57.553Z"
   },
   {
    "duration": 13,
    "start_time": "2024-07-20T19:46:15.451Z"
   },
   {
    "duration": 13,
    "start_time": "2024-07-20T19:46:20.310Z"
   },
   {
    "duration": 56,
    "start_time": "2024-07-20T19:46:51.918Z"
   },
   {
    "duration": 117,
    "start_time": "2024-07-20T19:46:59.945Z"
   },
   {
    "duration": 216,
    "start_time": "2024-07-20T19:47:16.290Z"
   },
   {
    "duration": 8,
    "start_time": "2024-07-20T19:48:03.061Z"
   },
   {
    "duration": 4,
    "start_time": "2024-07-20T19:48:08.268Z"
   },
   {
    "duration": 285,
    "start_time": "2024-07-20T19:48:15.401Z"
   },
   {
    "duration": 266,
    "start_time": "2024-07-20T19:48:39.518Z"
   },
   {
    "duration": 23,
    "start_time": "2024-07-20T19:49:07.558Z"
   },
   {
    "duration": 17,
    "start_time": "2024-07-20T19:49:32.975Z"
   },
   {
    "duration": 242,
    "start_time": "2024-07-20T19:49:35.651Z"
   },
   {
    "duration": 16,
    "start_time": "2024-07-20T19:50:50.034Z"
   },
   {
    "duration": 7210,
    "start_time": "2024-07-20T19:50:57.787Z"
   },
   {
    "duration": 4,
    "start_time": "2024-07-20T19:51:04.999Z"
   },
   {
    "duration": 869,
    "start_time": "2024-07-20T19:51:05.005Z"
   },
   {
    "duration": 8,
    "start_time": "2024-07-20T19:51:05.876Z"
   },
   {
    "duration": 233,
    "start_time": "2024-07-20T19:51:05.886Z"
   },
   {
    "duration": 22,
    "start_time": "2024-07-20T19:51:06.121Z"
   },
   {
    "duration": 21,
    "start_time": "2024-07-20T19:51:06.145Z"
   },
   {
    "duration": 27,
    "start_time": "2024-07-20T19:51:06.168Z"
   },
   {
    "duration": 2,
    "start_time": "2024-07-20T19:51:06.197Z"
   },
   {
    "duration": 185,
    "start_time": "2024-07-20T19:51:06.200Z"
   },
   {
    "duration": 95,
    "start_time": "2024-07-20T19:51:06.387Z"
   },
   {
    "duration": 127,
    "start_time": "2024-07-20T19:51:06.483Z"
   },
   {
    "duration": 70,
    "start_time": "2024-07-20T19:51:06.612Z"
   },
   {
    "duration": 6,
    "start_time": "2024-07-20T19:51:06.685Z"
   },
   {
    "duration": 35,
    "start_time": "2024-07-20T19:51:06.692Z"
   },
   {
    "duration": 314,
    "start_time": "2024-07-20T19:51:06.728Z"
   },
   {
    "duration": 28,
    "start_time": "2024-07-20T19:51:07.043Z"
   },
   {
    "duration": 3,
    "start_time": "2024-07-20T19:51:07.082Z"
   },
   {
    "duration": 283,
    "start_time": "2024-07-20T19:51:07.086Z"
   },
   {
    "duration": 546,
    "start_time": "2024-07-20T19:51:07.371Z"
   },
   {
    "duration": 369,
    "start_time": "2024-07-20T19:51:29.114Z"
   },
   {
    "duration": 254,
    "start_time": "2024-07-20T19:51:55.404Z"
   },
   {
    "duration": 34,
    "start_time": "2024-07-20T19:51:55.660Z"
   },
   {
    "duration": 4,
    "start_time": "2024-07-20T19:51:55.695Z"
   },
   {
    "duration": 265,
    "start_time": "2024-07-20T19:51:55.701Z"
   },
   {
    "duration": 515,
    "start_time": "2024-07-20T19:51:55.968Z"
   },
   {
    "duration": 3,
    "start_time": "2024-07-20T19:53:04.384Z"
   },
   {
    "duration": 867,
    "start_time": "2024-07-20T19:53:04.389Z"
   },
   {
    "duration": 4,
    "start_time": "2024-07-20T19:53:05.258Z"
   },
   {
    "duration": 235,
    "start_time": "2024-07-20T19:53:05.263Z"
   },
   {
    "duration": 22,
    "start_time": "2024-07-20T19:53:05.500Z"
   },
   {
    "duration": 20,
    "start_time": "2024-07-20T19:53:05.524Z"
   },
   {
    "duration": 36,
    "start_time": "2024-07-20T19:53:05.546Z"
   },
   {
    "duration": 2,
    "start_time": "2024-07-20T19:53:05.584Z"
   },
   {
    "duration": 174,
    "start_time": "2024-07-20T19:53:05.587Z"
   },
   {
    "duration": 90,
    "start_time": "2024-07-20T19:53:05.762Z"
   },
   {
    "duration": 139,
    "start_time": "2024-07-20T19:53:05.854Z"
   },
   {
    "duration": 64,
    "start_time": "2024-07-20T19:53:05.995Z"
   },
   {
    "duration": 22,
    "start_time": "2024-07-20T19:53:06.061Z"
   },
   {
    "duration": 33,
    "start_time": "2024-07-20T19:53:06.085Z"
   },
   {
    "duration": 295,
    "start_time": "2024-07-20T19:53:06.119Z"
   },
   {
    "duration": 30,
    "start_time": "2024-07-20T19:53:06.415Z"
   },
   {
    "duration": 4,
    "start_time": "2024-07-20T19:53:06.446Z"
   },
   {
    "duration": 295,
    "start_time": "2024-07-20T19:53:06.451Z"
   },
   {
    "duration": 645,
    "start_time": "2024-07-20T19:53:06.748Z"
   },
   {
    "duration": 24,
    "start_time": "2024-07-20T19:53:54.008Z"
   },
   {
    "duration": 3,
    "start_time": "2024-07-20T19:54:10.617Z"
   },
   {
    "duration": 841,
    "start_time": "2024-07-20T19:54:10.622Z"
   },
   {
    "duration": 3,
    "start_time": "2024-07-20T19:54:11.464Z"
   },
   {
    "duration": 232,
    "start_time": "2024-07-20T19:54:11.469Z"
   },
   {
    "duration": 23,
    "start_time": "2024-07-20T19:54:11.703Z"
   },
   {
    "duration": 21,
    "start_time": "2024-07-20T19:54:11.727Z"
   },
   {
    "duration": 37,
    "start_time": "2024-07-20T19:54:11.749Z"
   },
   {
    "duration": 10,
    "start_time": "2024-07-20T19:54:11.788Z"
   },
   {
    "duration": 164,
    "start_time": "2024-07-20T19:54:11.799Z"
   },
   {
    "duration": 91,
    "start_time": "2024-07-20T19:54:11.964Z"
   },
   {
    "duration": 118,
    "start_time": "2024-07-20T19:54:12.056Z"
   },
   {
    "duration": 61,
    "start_time": "2024-07-20T19:54:12.181Z"
   },
   {
    "duration": 5,
    "start_time": "2024-07-20T19:54:12.244Z"
   },
   {
    "duration": 43,
    "start_time": "2024-07-20T19:54:12.251Z"
   },
   {
    "duration": 291,
    "start_time": "2024-07-20T19:54:12.295Z"
   },
   {
    "duration": 29,
    "start_time": "2024-07-20T19:54:12.587Z"
   },
   {
    "duration": 4,
    "start_time": "2024-07-20T19:54:12.617Z"
   },
   {
    "duration": 287,
    "start_time": "2024-07-20T19:54:12.622Z"
   },
   {
    "duration": 551,
    "start_time": "2024-07-20T19:54:12.910Z"
   },
   {
    "duration": 50,
    "start_time": "2024-07-20T19:55:12.763Z"
   },
   {
    "duration": 56,
    "start_time": "2024-07-20T19:59:00.519Z"
   },
   {
    "duration": 4,
    "start_time": "2024-07-20T19:59:22.773Z"
   },
   {
    "duration": 48,
    "start_time": "2024-07-20T19:59:59.602Z"
   },
   {
    "duration": 43,
    "start_time": "2024-07-20T20:00:08.163Z"
   },
   {
    "duration": 63,
    "start_time": "2024-07-20T20:01:00.366Z"
   },
   {
    "duration": 249,
    "start_time": "2024-07-20T20:01:21.909Z"
   },
   {
    "duration": 4,
    "start_time": "2024-07-20T20:01:39.568Z"
   },
   {
    "duration": 900,
    "start_time": "2024-07-20T20:01:39.573Z"
   },
   {
    "duration": 8,
    "start_time": "2024-07-20T20:01:40.475Z"
   },
   {
    "duration": 236,
    "start_time": "2024-07-20T20:01:40.485Z"
   },
   {
    "duration": 23,
    "start_time": "2024-07-20T20:01:40.723Z"
   },
   {
    "duration": 35,
    "start_time": "2024-07-20T20:01:40.747Z"
   },
   {
    "duration": 20,
    "start_time": "2024-07-20T20:01:40.783Z"
   },
   {
    "duration": 24,
    "start_time": "2024-07-20T20:01:40.804Z"
   },
   {
    "duration": 167,
    "start_time": "2024-07-20T20:01:40.830Z"
   },
   {
    "duration": 95,
    "start_time": "2024-07-20T20:01:40.999Z"
   },
   {
    "duration": 122,
    "start_time": "2024-07-20T20:01:41.095Z"
   },
   {
    "duration": 72,
    "start_time": "2024-07-20T20:01:41.219Z"
   },
   {
    "duration": 6,
    "start_time": "2024-07-20T20:01:41.292Z"
   },
   {
    "duration": 41,
    "start_time": "2024-07-20T20:01:41.300Z"
   },
   {
    "duration": 281,
    "start_time": "2024-07-20T20:01:41.342Z"
   },
   {
    "duration": 0,
    "start_time": "2024-07-20T20:01:41.625Z"
   },
   {
    "duration": 0,
    "start_time": "2024-07-20T20:01:41.626Z"
   },
   {
    "duration": 0,
    "start_time": "2024-07-20T20:01:41.627Z"
   },
   {
    "duration": 393,
    "start_time": "2024-07-20T20:02:22.429Z"
   },
   {
    "duration": 345,
    "start_time": "2024-07-20T20:02:43.132Z"
   },
   {
    "duration": 285,
    "start_time": "2024-07-20T20:02:56.719Z"
   },
   {
    "duration": 289,
    "start_time": "2024-07-20T20:03:12.393Z"
   },
   {
    "duration": 326,
    "start_time": "2024-07-20T20:03:49.947Z"
   },
   {
    "duration": 322,
    "start_time": "2024-07-20T20:04:10.018Z"
   },
   {
    "duration": 424,
    "start_time": "2024-07-20T20:04:29.939Z"
   },
   {
    "duration": 37,
    "start_time": "2024-07-20T20:04:30.365Z"
   },
   {
    "duration": 314,
    "start_time": "2024-07-20T20:04:30.403Z"
   },
   {
    "duration": 537,
    "start_time": "2024-07-20T20:04:30.719Z"
   },
   {
    "duration": 248,
    "start_time": "2024-07-20T20:04:49.192Z"
   },
   {
    "duration": 6,
    "start_time": "2024-07-20T20:05:19.006Z"
   },
   {
    "duration": 1022,
    "start_time": "2024-07-20T20:06:29.637Z"
   },
   {
    "duration": 49,
    "start_time": "2024-07-20T20:06:45.877Z"
   },
   {
    "duration": 57,
    "start_time": "2024-07-20T20:07:52.059Z"
   },
   {
    "duration": 10,
    "start_time": "2024-07-20T20:09:21.226Z"
   },
   {
    "duration": 12,
    "start_time": "2024-07-20T20:09:26.911Z"
   },
   {
    "duration": 18,
    "start_time": "2024-07-20T20:09:30.218Z"
   },
   {
    "duration": 46,
    "start_time": "2024-07-20T20:09:40.086Z"
   },
   {
    "duration": 52,
    "start_time": "2024-07-20T20:09:44.045Z"
   },
   {
    "duration": 7,
    "start_time": "2024-07-20T20:11:59.814Z"
   },
   {
    "duration": 13,
    "start_time": "2024-07-20T20:12:07.533Z"
   },
   {
    "duration": 10,
    "start_time": "2024-07-20T20:12:15.218Z"
   },
   {
    "duration": 11,
    "start_time": "2024-07-20T20:12:22.603Z"
   },
   {
    "duration": 12,
    "start_time": "2024-07-20T20:12:27.827Z"
   },
   {
    "duration": 5,
    "start_time": "2024-07-20T20:13:27.966Z"
   },
   {
    "duration": 9,
    "start_time": "2024-07-20T20:13:47.088Z"
   },
   {
    "duration": 10,
    "start_time": "2024-07-20T20:13:57.963Z"
   },
   {
    "duration": 4,
    "start_time": "2024-07-20T20:14:25.455Z"
   },
   {
    "duration": 277,
    "start_time": "2024-07-20T20:14:37.233Z"
   },
   {
    "duration": 4,
    "start_time": "2024-07-20T20:14:48.101Z"
   },
   {
    "duration": 6,
    "start_time": "2024-07-20T20:14:55.713Z"
   },
   {
    "duration": 10,
    "start_time": "2024-07-20T20:15:39.201Z"
   },
   {
    "duration": 9,
    "start_time": "2024-07-20T20:15:45.653Z"
   },
   {
    "duration": 4,
    "start_time": "2024-07-20T20:15:51.995Z"
   },
   {
    "duration": 4,
    "start_time": "2024-07-20T20:16:03.124Z"
   },
   {
    "duration": 894,
    "start_time": "2024-07-20T20:16:03.129Z"
   },
   {
    "duration": 3,
    "start_time": "2024-07-20T20:16:04.025Z"
   },
   {
    "duration": 236,
    "start_time": "2024-07-20T20:16:04.030Z"
   },
   {
    "duration": 26,
    "start_time": "2024-07-20T20:16:04.268Z"
   },
   {
    "duration": 21,
    "start_time": "2024-07-20T20:16:04.296Z"
   },
   {
    "duration": 19,
    "start_time": "2024-07-20T20:16:04.319Z"
   },
   {
    "duration": 13,
    "start_time": "2024-07-20T20:16:04.339Z"
   },
   {
    "duration": 174,
    "start_time": "2024-07-20T20:16:04.353Z"
   },
   {
    "duration": 95,
    "start_time": "2024-07-20T20:16:04.529Z"
   },
   {
    "duration": 128,
    "start_time": "2024-07-20T20:16:04.626Z"
   },
   {
    "duration": 77,
    "start_time": "2024-07-20T20:16:04.755Z"
   },
   {
    "duration": 6,
    "start_time": "2024-07-20T20:16:04.833Z"
   },
   {
    "duration": 48,
    "start_time": "2024-07-20T20:16:04.841Z"
   },
   {
    "duration": 307,
    "start_time": "2024-07-20T20:16:04.891Z"
   },
   {
    "duration": 31,
    "start_time": "2024-07-20T20:16:05.199Z"
   },
   {
    "duration": 4,
    "start_time": "2024-07-20T20:16:05.231Z"
   },
   {
    "duration": 290,
    "start_time": "2024-07-20T20:16:05.237Z"
   },
   {
    "duration": 647,
    "start_time": "2024-07-20T20:16:05.529Z"
   },
   {
    "duration": 11,
    "start_time": "2024-07-20T20:18:04.292Z"
   },
   {
    "duration": 9,
    "start_time": "2024-07-20T20:18:17.166Z"
   },
   {
    "duration": 6,
    "start_time": "2024-07-20T20:19:01.530Z"
   },
   {
    "duration": 9,
    "start_time": "2024-07-20T20:22:41.183Z"
   },
   {
    "duration": 8,
    "start_time": "2024-07-20T20:23:07.855Z"
   },
   {
    "duration": 7,
    "start_time": "2024-07-20T20:23:22.223Z"
   },
   {
    "duration": 8,
    "start_time": "2024-07-20T20:24:41.366Z"
   },
   {
    "duration": 7,
    "start_time": "2024-07-20T20:24:56.375Z"
   },
   {
    "duration": 9,
    "start_time": "2024-07-20T20:25:13.426Z"
   },
   {
    "duration": 8,
    "start_time": "2024-07-20T20:25:57.965Z"
   },
   {
    "duration": 8,
    "start_time": "2024-07-20T20:27:35.760Z"
   },
   {
    "duration": 26,
    "start_time": "2024-07-20T20:29:06.986Z"
   },
   {
    "duration": 26,
    "start_time": "2024-07-20T20:29:32.678Z"
   },
   {
    "duration": 280,
    "start_time": "2024-07-20T20:31:49.728Z"
   },
   {
    "duration": 8,
    "start_time": "2024-07-20T20:36:43.086Z"
   },
   {
    "duration": 8,
    "start_time": "2024-07-20T20:36:49.167Z"
   },
   {
    "duration": 6,
    "start_time": "2024-07-20T20:37:03.888Z"
   },
   {
    "duration": 7,
    "start_time": "2024-07-20T20:37:07.373Z"
   },
   {
    "duration": 3,
    "start_time": "2024-07-20T20:37:44.248Z"
   },
   {
    "duration": 23,
    "start_time": "2024-07-20T20:37:47.310Z"
   },
   {
    "duration": 19,
    "start_time": "2024-07-20T20:37:58.426Z"
   },
   {
    "duration": 19,
    "start_time": "2024-07-20T20:38:07.041Z"
   },
   {
    "duration": 19,
    "start_time": "2024-07-20T20:38:13.747Z"
   },
   {
    "duration": 17,
    "start_time": "2024-07-20T20:38:34.181Z"
   },
   {
    "duration": 18,
    "start_time": "2024-07-20T20:38:46.109Z"
   },
   {
    "duration": 26,
    "start_time": "2024-07-20T20:40:08.944Z"
   },
   {
    "duration": 20,
    "start_time": "2024-07-20T20:40:28.147Z"
   },
   {
    "duration": 204,
    "start_time": "2024-07-20T20:41:49.415Z"
   },
   {
    "duration": 261,
    "start_time": "2024-07-20T20:42:21.523Z"
   },
   {
    "duration": 20,
    "start_time": "2024-07-20T20:45:22.002Z"
   },
   {
    "duration": 19,
    "start_time": "2024-07-20T20:45:45.228Z"
   },
   {
    "duration": 18,
    "start_time": "2024-07-20T20:47:09.098Z"
   },
   {
    "duration": 20,
    "start_time": "2024-07-20T20:47:28.999Z"
   },
   {
    "duration": 51,
    "start_time": "2024-07-20T20:50:48.579Z"
   },
   {
    "duration": 3,
    "start_time": "2024-07-20T20:50:56.840Z"
   },
   {
    "duration": 7112,
    "start_time": "2024-07-20T20:51:16.917Z"
   },
   {
    "duration": 272,
    "start_time": "2024-07-20T20:51:24.031Z"
   },
   {
    "duration": 6934,
    "start_time": "2024-07-20T20:51:48.886Z"
   },
   {
    "duration": 39,
    "start_time": "2024-07-20T20:52:13.435Z"
   },
   {
    "duration": 1388,
    "start_time": "2024-07-20T20:53:31.327Z"
   },
   {
    "duration": 65,
    "start_time": "2024-07-20T20:54:50.236Z"
   },
   {
    "duration": 1401,
    "start_time": "2024-07-20T20:55:06.217Z"
   },
   {
    "duration": 22,
    "start_time": "2024-07-20T20:55:44.217Z"
   },
   {
    "duration": 22,
    "start_time": "2024-07-20T20:55:52.657Z"
   },
   {
    "duration": 22,
    "start_time": "2024-07-20T20:58:41.259Z"
   },
   {
    "duration": 4,
    "start_time": "2024-07-20T20:59:00.687Z"
   },
   {
    "duration": 1060,
    "start_time": "2024-07-20T20:59:00.693Z"
   },
   {
    "duration": 3,
    "start_time": "2024-07-20T20:59:01.755Z"
   },
   {
    "duration": 266,
    "start_time": "2024-07-20T20:59:01.760Z"
   },
   {
    "duration": 23,
    "start_time": "2024-07-20T20:59:02.028Z"
   },
   {
    "duration": 36,
    "start_time": "2024-07-20T20:59:02.052Z"
   },
   {
    "duration": 23,
    "start_time": "2024-07-20T20:59:02.090Z"
   },
   {
    "duration": 12,
    "start_time": "2024-07-20T20:59:02.114Z"
   },
   {
    "duration": 172,
    "start_time": "2024-07-20T20:59:02.127Z"
   },
   {
    "duration": 105,
    "start_time": "2024-07-20T20:59:02.301Z"
   },
   {
    "duration": 122,
    "start_time": "2024-07-20T20:59:02.408Z"
   },
   {
    "duration": 77,
    "start_time": "2024-07-20T20:59:02.531Z"
   },
   {
    "duration": 6,
    "start_time": "2024-07-20T20:59:02.609Z"
   },
   {
    "duration": 60,
    "start_time": "2024-07-20T20:59:02.617Z"
   },
   {
    "duration": 294,
    "start_time": "2024-07-20T20:59:02.679Z"
   },
   {
    "duration": 36,
    "start_time": "2024-07-20T20:59:02.974Z"
   },
   {
    "duration": 7,
    "start_time": "2024-07-20T20:59:03.011Z"
   },
   {
    "duration": 7,
    "start_time": "2024-07-20T20:59:03.019Z"
   },
   {
    "duration": 11,
    "start_time": "2024-07-20T20:59:03.027Z"
   },
   {
    "duration": 49,
    "start_time": "2024-07-20T20:59:03.039Z"
   },
   {
    "duration": 313,
    "start_time": "2024-07-20T20:59:03.089Z"
   },
   {
    "duration": 20,
    "start_time": "2024-07-20T20:59:03.403Z"
   },
   {
    "duration": 398,
    "start_time": "2024-07-20T20:59:03.424Z"
   },
   {
    "duration": 19,
    "start_time": "2024-07-20T20:59:03.824Z"
   },
   {
    "duration": 38,
    "start_time": "2024-07-20T20:59:03.845Z"
   },
   {
    "duration": 627,
    "start_time": "2024-07-20T20:59:03.884Z"
   },
   {
    "duration": 21,
    "start_time": "2024-07-20T20:59:59.238Z"
   },
   {
    "duration": 23,
    "start_time": "2024-07-20T21:00:31.156Z"
   },
   {
    "duration": 21,
    "start_time": "2024-07-20T21:00:44.151Z"
   },
   {
    "duration": 21,
    "start_time": "2024-07-20T21:00:51.576Z"
   },
   {
    "duration": 23,
    "start_time": "2024-07-20T21:01:01.849Z"
   },
   {
    "duration": 21,
    "start_time": "2024-07-20T21:03:35.077Z"
   },
   {
    "duration": 19,
    "start_time": "2024-07-20T21:04:07.383Z"
   },
   {
    "duration": 271,
    "start_time": "2024-07-20T21:04:10.560Z"
   },
   {
    "duration": 19,
    "start_time": "2024-07-20T21:04:34.451Z"
   },
   {
    "duration": 263,
    "start_time": "2024-07-20T21:04:35.120Z"
   },
   {
    "duration": 21,
    "start_time": "2024-07-20T21:04:38.144Z"
   },
   {
    "duration": 20,
    "start_time": "2024-07-20T21:05:46.346Z"
   },
   {
    "duration": 61,
    "start_time": "2024-07-20T21:06:40.575Z"
   },
   {
    "duration": 21,
    "start_time": "2024-07-20T21:06:41.352Z"
   },
   {
    "duration": 60,
    "start_time": "2024-07-20T21:07:12.678Z"
   },
   {
    "duration": 22,
    "start_time": "2024-07-20T21:07:19.703Z"
   },
   {
    "duration": 265,
    "start_time": "2024-07-20T21:07:29.831Z"
   },
   {
    "duration": 20,
    "start_time": "2024-07-20T21:08:13.727Z"
   },
   {
    "duration": 410,
    "start_time": "2024-07-20T21:09:46.163Z"
   },
   {
    "duration": 7391,
    "start_time": "2024-07-20T21:14:17.140Z"
   },
   {
    "duration": 4,
    "start_time": "2024-07-20T21:14:24.533Z"
   },
   {
    "duration": 928,
    "start_time": "2024-07-20T21:14:24.539Z"
   },
   {
    "duration": 4,
    "start_time": "2024-07-20T21:14:25.468Z"
   },
   {
    "duration": 237,
    "start_time": "2024-07-20T21:14:25.481Z"
   },
   {
    "duration": 26,
    "start_time": "2024-07-20T21:14:25.720Z"
   },
   {
    "duration": 20,
    "start_time": "2024-07-20T21:14:25.748Z"
   },
   {
    "duration": 19,
    "start_time": "2024-07-20T21:14:25.782Z"
   },
   {
    "duration": 14,
    "start_time": "2024-07-20T21:14:25.803Z"
   },
   {
    "duration": 174,
    "start_time": "2024-07-20T21:14:25.818Z"
   },
   {
    "duration": 97,
    "start_time": "2024-07-20T21:14:25.994Z"
   },
   {
    "duration": 123,
    "start_time": "2024-07-20T21:14:26.093Z"
   },
   {
    "duration": 71,
    "start_time": "2024-07-20T21:14:26.217Z"
   },
   {
    "duration": 7,
    "start_time": "2024-07-20T21:14:26.291Z"
   },
   {
    "duration": 42,
    "start_time": "2024-07-20T21:14:26.299Z"
   },
   {
    "duration": 313,
    "start_time": "2024-07-20T21:14:26.343Z"
   },
   {
    "duration": 37,
    "start_time": "2024-07-20T21:14:26.657Z"
   },
   {
    "duration": 5,
    "start_time": "2024-07-20T21:14:26.696Z"
   },
   {
    "duration": 10,
    "start_time": "2024-07-20T21:14:26.702Z"
   },
   {
    "duration": 8,
    "start_time": "2024-07-20T21:14:26.714Z"
   },
   {
    "duration": 32,
    "start_time": "2024-07-20T21:14:26.723Z"
   },
   {
    "duration": 293,
    "start_time": "2024-07-20T21:14:26.757Z"
   },
   {
    "duration": 19,
    "start_time": "2024-07-20T21:14:27.051Z"
   },
   {
    "duration": 268,
    "start_time": "2024-07-20T21:14:27.071Z"
   },
   {
    "duration": 21,
    "start_time": "2024-07-20T21:14:27.340Z"
   },
   {
    "duration": 605,
    "start_time": "2024-07-20T21:14:27.362Z"
   },
   {
    "duration": 4,
    "start_time": "2024-07-20T21:17:33.631Z"
   },
   {
    "duration": 894,
    "start_time": "2024-07-20T21:17:33.640Z"
   },
   {
    "duration": 4,
    "start_time": "2024-07-20T21:17:34.535Z"
   },
   {
    "duration": 246,
    "start_time": "2024-07-20T21:17:34.541Z"
   },
   {
    "duration": 25,
    "start_time": "2024-07-20T21:17:34.789Z"
   },
   {
    "duration": 21,
    "start_time": "2024-07-20T21:17:34.816Z"
   },
   {
    "duration": 19,
    "start_time": "2024-07-20T21:17:34.839Z"
   },
   {
    "duration": 2,
    "start_time": "2024-07-20T21:17:34.860Z"
   },
   {
    "duration": 171,
    "start_time": "2024-07-20T21:17:34.882Z"
   },
   {
    "duration": 96,
    "start_time": "2024-07-20T21:17:35.054Z"
   },
   {
    "duration": 130,
    "start_time": "2024-07-20T21:17:35.152Z"
   },
   {
    "duration": 65,
    "start_time": "2024-07-20T21:17:35.283Z"
   },
   {
    "duration": 7,
    "start_time": "2024-07-20T21:17:35.349Z"
   },
   {
    "duration": 55,
    "start_time": "2024-07-20T21:17:35.357Z"
   },
   {
    "duration": 307,
    "start_time": "2024-07-20T21:17:35.413Z"
   },
   {
    "duration": 29,
    "start_time": "2024-07-20T21:17:35.721Z"
   },
   {
    "duration": 5,
    "start_time": "2024-07-20T21:17:35.752Z"
   },
   {
    "duration": 26,
    "start_time": "2024-07-20T21:17:35.758Z"
   },
   {
    "duration": 7,
    "start_time": "2024-07-20T21:17:35.786Z"
   },
   {
    "duration": 44,
    "start_time": "2024-07-20T21:17:35.794Z"
   },
   {
    "duration": 269,
    "start_time": "2024-07-20T21:17:35.840Z"
   },
   {
    "duration": 20,
    "start_time": "2024-07-20T21:17:36.110Z"
   },
   {
    "duration": 379,
    "start_time": "2024-07-20T21:17:36.131Z"
   },
   {
    "duration": 20,
    "start_time": "2024-07-20T21:17:36.512Z"
   },
   {
    "duration": 619,
    "start_time": "2024-07-20T21:17:36.534Z"
   },
   {
    "duration": 9,
    "start_time": "2024-07-20T21:18:23.395Z"
   },
   {
    "duration": 46,
    "start_time": "2024-07-20T21:18:51.593Z"
   },
   {
    "duration": 4,
    "start_time": "2024-07-20T21:18:55.714Z"
   },
   {
    "duration": 894,
    "start_time": "2024-07-20T21:18:55.720Z"
   },
   {
    "duration": 4,
    "start_time": "2024-07-20T21:18:56.615Z"
   },
   {
    "duration": 248,
    "start_time": "2024-07-20T21:18:56.620Z"
   },
   {
    "duration": 33,
    "start_time": "2024-07-20T21:18:56.870Z"
   },
   {
    "duration": 21,
    "start_time": "2024-07-20T21:18:56.904Z"
   },
   {
    "duration": 20,
    "start_time": "2024-07-20T21:18:56.926Z"
   },
   {
    "duration": 2,
    "start_time": "2024-07-20T21:18:56.947Z"
   },
   {
    "duration": 176,
    "start_time": "2024-07-20T21:18:56.951Z"
   },
   {
    "duration": 100,
    "start_time": "2024-07-20T21:18:57.128Z"
   },
   {
    "duration": 130,
    "start_time": "2024-07-20T21:18:57.229Z"
   },
   {
    "duration": 76,
    "start_time": "2024-07-20T21:18:57.360Z"
   },
   {
    "duration": 7,
    "start_time": "2024-07-20T21:18:57.437Z"
   },
   {
    "duration": 52,
    "start_time": "2024-07-20T21:18:57.446Z"
   },
   {
    "duration": 300,
    "start_time": "2024-07-20T21:18:57.499Z"
   },
   {
    "duration": 29,
    "start_time": "2024-07-20T21:18:57.801Z"
   },
   {
    "duration": 6,
    "start_time": "2024-07-20T21:18:57.831Z"
   },
   {
    "duration": 9,
    "start_time": "2024-07-20T21:18:57.838Z"
   },
   {
    "duration": 7,
    "start_time": "2024-07-20T21:18:57.848Z"
   },
   {
    "duration": 48,
    "start_time": "2024-07-20T21:18:57.856Z"
   },
   {
    "duration": 292,
    "start_time": "2024-07-20T21:18:57.905Z"
   },
   {
    "duration": 20,
    "start_time": "2024-07-20T21:18:58.198Z"
   },
   {
    "duration": 260,
    "start_time": "2024-07-20T21:18:58.219Z"
   },
   {
    "duration": 21,
    "start_time": "2024-07-20T21:18:58.481Z"
   },
   {
    "duration": 714,
    "start_time": "2024-07-20T21:18:58.503Z"
   },
   {
    "duration": 7301,
    "start_time": "2024-07-20T21:20:04.111Z"
   },
   {
    "duration": 1629,
    "start_time": "2024-07-20T21:20:11.414Z"
   },
   {
    "duration": 1261,
    "start_time": "2024-07-20T21:20:13.044Z"
   },
   {
    "duration": 4,
    "start_time": "2024-07-20T21:20:14.307Z"
   },
   {
    "duration": 300,
    "start_time": "2024-07-20T21:20:14.312Z"
   },
   {
    "duration": 29,
    "start_time": "2024-07-20T21:20:14.613Z"
   },
   {
    "duration": 21,
    "start_time": "2024-07-20T21:20:14.644Z"
   },
   {
    "duration": 31,
    "start_time": "2024-07-20T21:20:14.666Z"
   },
   {
    "duration": 2,
    "start_time": "2024-07-20T21:20:14.698Z"
   },
   {
    "duration": 172,
    "start_time": "2024-07-20T21:20:14.702Z"
   },
   {
    "duration": 93,
    "start_time": "2024-07-20T21:20:14.876Z"
   },
   {
    "duration": 132,
    "start_time": "2024-07-20T21:20:14.970Z"
   },
   {
    "duration": 79,
    "start_time": "2024-07-20T21:20:15.103Z"
   },
   {
    "duration": 6,
    "start_time": "2024-07-20T21:20:15.183Z"
   },
   {
    "duration": 41,
    "start_time": "2024-07-20T21:20:15.191Z"
   },
   {
    "duration": 313,
    "start_time": "2024-07-20T21:20:15.234Z"
   },
   {
    "duration": 39,
    "start_time": "2024-07-20T21:20:15.548Z"
   },
   {
    "duration": 5,
    "start_time": "2024-07-20T21:20:15.589Z"
   },
   {
    "duration": 20,
    "start_time": "2024-07-20T21:20:15.595Z"
   },
   {
    "duration": 8,
    "start_time": "2024-07-20T21:20:15.617Z"
   },
   {
    "duration": 26,
    "start_time": "2024-07-20T21:20:15.627Z"
   },
   {
    "duration": 295,
    "start_time": "2024-07-20T21:20:15.654Z"
   },
   {
    "duration": 18,
    "start_time": "2024-07-20T21:20:15.951Z"
   },
   {
    "duration": 260,
    "start_time": "2024-07-20T21:20:15.981Z"
   },
   {
    "duration": 21,
    "start_time": "2024-07-20T21:20:16.242Z"
   },
   {
    "duration": 681,
    "start_time": "2024-07-20T21:20:16.265Z"
   },
   {
    "duration": 12,
    "start_time": "2024-07-20T21:20:16.947Z"
   },
   {
    "duration": 43,
    "start_time": "2024-07-20T21:23:00.015Z"
   },
   {
    "duration": 7345,
    "start_time": "2024-07-20T21:23:09.157Z"
   },
   {
    "duration": 1632,
    "start_time": "2024-07-20T21:23:16.504Z"
   },
   {
    "duration": 1245,
    "start_time": "2024-07-20T21:23:18.137Z"
   },
   {
    "duration": 3,
    "start_time": "2024-07-20T21:23:19.384Z"
   },
   {
    "duration": 311,
    "start_time": "2024-07-20T21:23:19.389Z"
   },
   {
    "duration": 33,
    "start_time": "2024-07-20T21:23:19.702Z"
   },
   {
    "duration": 22,
    "start_time": "2024-07-20T21:23:19.736Z"
   },
   {
    "duration": 30,
    "start_time": "2024-07-20T21:23:19.760Z"
   },
   {
    "duration": 3,
    "start_time": "2024-07-20T21:23:19.792Z"
   },
   {
    "duration": 176,
    "start_time": "2024-07-20T21:23:19.796Z"
   },
   {
    "duration": 108,
    "start_time": "2024-07-20T21:23:19.974Z"
   },
   {
    "duration": 124,
    "start_time": "2024-07-20T21:23:20.083Z"
   },
   {
    "duration": 85,
    "start_time": "2024-07-20T21:23:20.210Z"
   },
   {
    "duration": 6,
    "start_time": "2024-07-20T21:23:20.298Z"
   },
   {
    "duration": 35,
    "start_time": "2024-07-20T21:23:20.306Z"
   },
   {
    "duration": 323,
    "start_time": "2024-07-20T21:23:20.342Z"
   },
   {
    "duration": 40,
    "start_time": "2024-07-20T21:23:20.667Z"
   },
   {
    "duration": 6,
    "start_time": "2024-07-20T21:23:20.709Z"
   },
   {
    "duration": 8,
    "start_time": "2024-07-20T21:23:20.716Z"
   },
   {
    "duration": 7,
    "start_time": "2024-07-20T21:23:20.725Z"
   },
   {
    "duration": 51,
    "start_time": "2024-07-20T21:23:20.734Z"
   },
   {
    "duration": 283,
    "start_time": "2024-07-20T21:23:20.787Z"
   },
   {
    "duration": 28,
    "start_time": "2024-07-20T21:23:21.072Z"
   },
   {
    "duration": 267,
    "start_time": "2024-07-20T21:23:21.102Z"
   },
   {
    "duration": 26,
    "start_time": "2024-07-20T21:23:21.370Z"
   },
   {
    "duration": 719,
    "start_time": "2024-07-20T21:23:21.398Z"
   },
   {
    "duration": 48,
    "start_time": "2024-07-20T21:29:12.943Z"
   },
   {
    "duration": 7396,
    "start_time": "2024-07-20T21:29:26.365Z"
   },
   {
    "duration": 1675,
    "start_time": "2024-07-20T21:29:33.763Z"
   },
   {
    "duration": 1266,
    "start_time": "2024-07-20T21:29:35.440Z"
   },
   {
    "duration": 4,
    "start_time": "2024-07-20T21:29:36.707Z"
   },
   {
    "duration": 317,
    "start_time": "2024-07-20T21:29:36.713Z"
   },
   {
    "duration": 33,
    "start_time": "2024-07-20T21:29:37.032Z"
   },
   {
    "duration": 29,
    "start_time": "2024-07-20T21:29:37.066Z"
   },
   {
    "duration": 19,
    "start_time": "2024-07-20T21:29:37.097Z"
   },
   {
    "duration": 12,
    "start_time": "2024-07-20T21:29:37.118Z"
   },
   {
    "duration": 178,
    "start_time": "2024-07-20T21:29:37.131Z"
   },
   {
    "duration": 96,
    "start_time": "2024-07-20T21:29:37.310Z"
   },
   {
    "duration": 127,
    "start_time": "2024-07-20T21:29:37.407Z"
   },
   {
    "duration": 74,
    "start_time": "2024-07-20T21:29:37.536Z"
   },
   {
    "duration": 7,
    "start_time": "2024-07-20T21:29:37.613Z"
   },
   {
    "duration": 36,
    "start_time": "2024-07-20T21:29:37.621Z"
   },
   {
    "duration": 324,
    "start_time": "2024-07-20T21:29:37.659Z"
   },
   {
    "duration": 30,
    "start_time": "2024-07-20T21:29:37.985Z"
   },
   {
    "duration": 5,
    "start_time": "2024-07-20T21:29:38.017Z"
   },
   {
    "duration": 7,
    "start_time": "2024-07-20T21:29:38.023Z"
   },
   {
    "duration": 6,
    "start_time": "2024-07-20T21:29:38.032Z"
   },
   {
    "duration": 55,
    "start_time": "2024-07-20T21:29:38.039Z"
   },
   {
    "duration": 288,
    "start_time": "2024-07-20T21:29:38.096Z"
   },
   {
    "duration": 19,
    "start_time": "2024-07-20T21:29:38.386Z"
   },
   {
    "duration": 259,
    "start_time": "2024-07-20T21:29:38.406Z"
   },
   {
    "duration": 29,
    "start_time": "2024-07-20T21:29:38.666Z"
   },
   {
    "duration": 689,
    "start_time": "2024-07-20T21:29:38.697Z"
   },
   {
    "duration": 6994,
    "start_time": "2024-07-20T21:29:39.388Z"
   },
   {
    "duration": 50,
    "start_time": "2024-07-20T21:46:48.150Z"
   },
   {
    "duration": 50,
    "start_time": "2024-07-20T21:46:52.900Z"
   },
   {
    "duration": 34,
    "start_time": "2024-07-20T21:46:57.441Z"
   },
   {
    "duration": 22,
    "start_time": "2024-07-20T21:48:05.836Z"
   },
   {
    "duration": 276,
    "start_time": "2024-07-20T21:48:06.664Z"
   },
   {
    "duration": 20,
    "start_time": "2024-07-20T21:48:34.050Z"
   },
   {
    "duration": 263,
    "start_time": "2024-07-20T21:48:36.947Z"
   },
   {
    "duration": 7300,
    "start_time": "2024-07-20T21:48:43.920Z"
   },
   {
    "duration": 4,
    "start_time": "2024-07-20T21:48:51.222Z"
   },
   {
    "duration": 929,
    "start_time": "2024-07-20T21:48:51.227Z"
   },
   {
    "duration": 3,
    "start_time": "2024-07-20T21:48:52.157Z"
   },
   {
    "duration": 236,
    "start_time": "2024-07-20T21:48:52.162Z"
   },
   {
    "duration": 25,
    "start_time": "2024-07-20T21:48:52.400Z"
   },
   {
    "duration": 22,
    "start_time": "2024-07-20T21:48:52.426Z"
   },
   {
    "duration": 36,
    "start_time": "2024-07-20T21:48:52.449Z"
   },
   {
    "duration": 44,
    "start_time": "2024-07-20T21:48:52.486Z"
   },
   {
    "duration": 161,
    "start_time": "2024-07-20T21:48:52.531Z"
   },
   {
    "duration": 99,
    "start_time": "2024-07-20T21:48:52.693Z"
   },
   {
    "duration": 128,
    "start_time": "2024-07-20T21:48:52.794Z"
   },
   {
    "duration": 72,
    "start_time": "2024-07-20T21:48:52.923Z"
   },
   {
    "duration": 6,
    "start_time": "2024-07-20T21:48:52.998Z"
   },
   {
    "duration": 41,
    "start_time": "2024-07-20T21:48:53.005Z"
   },
   {
    "duration": 331,
    "start_time": "2024-07-20T21:48:53.047Z"
   },
   {
    "duration": 30,
    "start_time": "2024-07-20T21:48:53.382Z"
   },
   {
    "duration": 17,
    "start_time": "2024-07-20T21:48:53.414Z"
   },
   {
    "duration": 9,
    "start_time": "2024-07-20T21:48:53.433Z"
   },
   {
    "duration": 17,
    "start_time": "2024-07-20T21:48:53.443Z"
   },
   {
    "duration": 34,
    "start_time": "2024-07-20T21:48:53.461Z"
   },
   {
    "duration": 19,
    "start_time": "2024-07-20T21:48:53.497Z"
   },
   {
    "duration": 340,
    "start_time": "2024-07-20T21:48:53.518Z"
   },
   {
    "duration": 30,
    "start_time": "2024-07-20T21:48:53.860Z"
   },
   {
    "duration": 275,
    "start_time": "2024-07-20T21:48:53.892Z"
   },
   {
    "duration": 600,
    "start_time": "2024-07-20T21:48:54.168Z"
   },
   {
    "duration": 6992,
    "start_time": "2024-07-20T21:48:54.770Z"
   },
   {
    "duration": 36,
    "start_time": "2024-07-20T21:49:01.763Z"
   },
   {
    "duration": 67,
    "start_time": "2024-07-20T22:00:37.699Z"
   },
   {
    "duration": 54,
    "start_time": "2024-07-20T22:01:56.223Z"
   },
   {
    "duration": 12,
    "start_time": "2024-07-20T22:05:21.226Z"
   },
   {
    "duration": 21,
    "start_time": "2024-07-20T22:05:49.316Z"
   },
   {
    "duration": 3,
    "start_time": "2024-07-20T22:06:46.958Z"
   },
   {
    "duration": 16,
    "start_time": "2024-07-20T22:08:33.017Z"
   },
   {
    "duration": 7,
    "start_time": "2024-07-20T22:11:49.124Z"
   },
   {
    "duration": 6,
    "start_time": "2024-07-20T22:11:56.506Z"
   },
   {
    "duration": 121,
    "start_time": "2024-07-20T22:12:51.826Z"
   },
   {
    "duration": 26,
    "start_time": "2024-07-20T22:13:31.103Z"
   },
   {
    "duration": 4,
    "start_time": "2024-07-20T22:13:37.507Z"
   },
   {
    "duration": 3,
    "start_time": "2024-07-20T22:14:27.034Z"
   },
   {
    "duration": 8,
    "start_time": "2024-07-20T22:15:13.777Z"
   },
   {
    "duration": 18,
    "start_time": "2024-07-20T22:15:45.773Z"
   },
   {
    "duration": 15,
    "start_time": "2024-07-20T22:15:51.978Z"
   },
   {
    "duration": 4,
    "start_time": "2024-07-20T22:15:53.879Z"
   },
   {
    "duration": 2,
    "start_time": "2024-07-20T22:15:54.221Z"
   },
   {
    "duration": 10,
    "start_time": "2024-07-20T22:15:54.618Z"
   },
   {
    "duration": 11,
    "start_time": "2024-07-20T22:19:00.913Z"
   },
   {
    "duration": 29,
    "start_time": "2024-07-20T22:19:04.410Z"
   },
   {
    "duration": 13,
    "start_time": "2024-07-20T22:19:12.560Z"
   },
   {
    "duration": 63,
    "start_time": "2024-07-20T22:19:16.033Z"
   },
   {
    "duration": 74,
    "start_time": "2024-07-20T22:19:50.135Z"
   },
   {
    "duration": 53,
    "start_time": "2024-07-20T22:20:19.190Z"
   },
   {
    "duration": 3,
    "start_time": "2024-07-20T22:25:07.681Z"
   },
   {
    "duration": 10,
    "start_time": "2024-07-20T22:25:35.725Z"
   },
   {
    "duration": 35,
    "start_time": "2024-07-20T22:27:08.965Z"
   },
   {
    "duration": 11,
    "start_time": "2024-07-20T22:27:19.180Z"
   },
   {
    "duration": 3995,
    "start_time": "2024-07-20T22:29:37.318Z"
   },
   {
    "duration": 4326,
    "start_time": "2024-07-20T22:30:53.695Z"
   },
   {
    "duration": 15,
    "start_time": "2024-07-20T22:36:10.522Z"
   },
   {
    "duration": 12,
    "start_time": "2024-07-20T22:36:24.243Z"
   },
   {
    "duration": 1644,
    "start_time": "2024-07-21T08:05:23.844Z"
   },
   {
    "duration": 0,
    "start_time": "2024-07-21T08:05:25.491Z"
   },
   {
    "duration": 0,
    "start_time": "2024-07-21T08:05:25.492Z"
   },
   {
    "duration": 0,
    "start_time": "2024-07-21T08:05:25.493Z"
   },
   {
    "duration": 0,
    "start_time": "2024-07-21T08:05:25.494Z"
   },
   {
    "duration": 0,
    "start_time": "2024-07-21T08:05:25.495Z"
   },
   {
    "duration": 0,
    "start_time": "2024-07-21T08:05:25.497Z"
   },
   {
    "duration": 0,
    "start_time": "2024-07-21T08:05:25.498Z"
   },
   {
    "duration": 0,
    "start_time": "2024-07-21T08:05:25.499Z"
   },
   {
    "duration": 0,
    "start_time": "2024-07-21T08:05:25.500Z"
   },
   {
    "duration": 0,
    "start_time": "2024-07-21T08:05:25.501Z"
   },
   {
    "duration": 0,
    "start_time": "2024-07-21T08:05:25.502Z"
   },
   {
    "duration": 0,
    "start_time": "2024-07-21T08:05:25.504Z"
   },
   {
    "duration": 0,
    "start_time": "2024-07-21T08:05:25.505Z"
   },
   {
    "duration": 0,
    "start_time": "2024-07-21T08:05:25.506Z"
   },
   {
    "duration": 0,
    "start_time": "2024-07-21T08:05:25.508Z"
   },
   {
    "duration": 0,
    "start_time": "2024-07-21T08:05:25.509Z"
   },
   {
    "duration": 0,
    "start_time": "2024-07-21T08:05:25.510Z"
   },
   {
    "duration": 0,
    "start_time": "2024-07-21T08:05:25.537Z"
   },
   {
    "duration": 0,
    "start_time": "2024-07-21T08:05:25.539Z"
   },
   {
    "duration": 0,
    "start_time": "2024-07-21T08:05:25.540Z"
   },
   {
    "duration": 0,
    "start_time": "2024-07-21T08:05:25.541Z"
   },
   {
    "duration": 0,
    "start_time": "2024-07-21T08:05:25.542Z"
   },
   {
    "duration": 0,
    "start_time": "2024-07-21T08:05:25.543Z"
   },
   {
    "duration": 0,
    "start_time": "2024-07-21T08:05:25.544Z"
   },
   {
    "duration": 0,
    "start_time": "2024-07-21T08:05:25.545Z"
   },
   {
    "duration": 0,
    "start_time": "2024-07-21T08:05:25.545Z"
   },
   {
    "duration": 0,
    "start_time": "2024-07-21T08:05:25.546Z"
   },
   {
    "duration": 0,
    "start_time": "2024-07-21T08:05:25.547Z"
   },
   {
    "duration": 0,
    "start_time": "2024-07-21T08:05:25.548Z"
   },
   {
    "duration": 0,
    "start_time": "2024-07-21T08:05:25.549Z"
   },
   {
    "duration": 0,
    "start_time": "2024-07-21T08:05:25.550Z"
   },
   {
    "duration": 0,
    "start_time": "2024-07-21T08:05:25.551Z"
   },
   {
    "duration": 14117,
    "start_time": "2024-07-21T08:07:31.327Z"
   },
   {
    "duration": 14,
    "start_time": "2024-07-21T08:07:45.447Z"
   },
   {
    "duration": 0,
    "start_time": "2024-07-21T08:07:45.463Z"
   },
   {
    "duration": 0,
    "start_time": "2024-07-21T08:07:45.464Z"
   },
   {
    "duration": 0,
    "start_time": "2024-07-21T08:07:45.465Z"
   },
   {
    "duration": 0,
    "start_time": "2024-07-21T08:07:45.467Z"
   },
   {
    "duration": 0,
    "start_time": "2024-07-21T08:07:45.468Z"
   },
   {
    "duration": 0,
    "start_time": "2024-07-21T08:07:45.469Z"
   },
   {
    "duration": 0,
    "start_time": "2024-07-21T08:07:45.470Z"
   },
   {
    "duration": 0,
    "start_time": "2024-07-21T08:07:45.471Z"
   },
   {
    "duration": 0,
    "start_time": "2024-07-21T08:07:45.472Z"
   },
   {
    "duration": 0,
    "start_time": "2024-07-21T08:07:45.473Z"
   },
   {
    "duration": 0,
    "start_time": "2024-07-21T08:07:45.474Z"
   },
   {
    "duration": 0,
    "start_time": "2024-07-21T08:07:45.475Z"
   },
   {
    "duration": 0,
    "start_time": "2024-07-21T08:07:45.477Z"
   },
   {
    "duration": 0,
    "start_time": "2024-07-21T08:07:45.478Z"
   },
   {
    "duration": 0,
    "start_time": "2024-07-21T08:07:45.479Z"
   },
   {
    "duration": 0,
    "start_time": "2024-07-21T08:07:45.481Z"
   },
   {
    "duration": 0,
    "start_time": "2024-07-21T08:07:45.482Z"
   },
   {
    "duration": 0,
    "start_time": "2024-07-21T08:07:45.484Z"
   },
   {
    "duration": 0,
    "start_time": "2024-07-21T08:07:45.485Z"
   },
   {
    "duration": 0,
    "start_time": "2024-07-21T08:07:45.486Z"
   },
   {
    "duration": 0,
    "start_time": "2024-07-21T08:07:45.488Z"
   },
   {
    "duration": 0,
    "start_time": "2024-07-21T08:07:45.489Z"
   },
   {
    "duration": 0,
    "start_time": "2024-07-21T08:07:45.491Z"
   },
   {
    "duration": 0,
    "start_time": "2024-07-21T08:07:45.492Z"
   },
   {
    "duration": 0,
    "start_time": "2024-07-21T08:07:45.539Z"
   },
   {
    "duration": 0,
    "start_time": "2024-07-21T08:07:45.540Z"
   },
   {
    "duration": 0,
    "start_time": "2024-07-21T08:07:45.541Z"
   },
   {
    "duration": 0,
    "start_time": "2024-07-21T08:07:45.542Z"
   },
   {
    "duration": 0,
    "start_time": "2024-07-21T08:07:45.544Z"
   },
   {
    "duration": 0,
    "start_time": "2024-07-21T08:07:45.545Z"
   },
   {
    "duration": 0,
    "start_time": "2024-07-21T08:07:45.546Z"
   },
   {
    "duration": 0,
    "start_time": "2024-07-21T08:07:45.547Z"
   },
   {
    "duration": 13,
    "start_time": "2024-07-21T08:08:14.384Z"
   },
   {
    "duration": 7777,
    "start_time": "2024-07-21T08:08:52.957Z"
   },
   {
    "duration": 15,
    "start_time": "2024-07-21T08:09:00.736Z"
   },
   {
    "duration": 9,
    "start_time": "2024-07-21T08:13:43.550Z"
   },
   {
    "duration": 7621,
    "start_time": "2024-07-21T08:14:12.737Z"
   },
   {
    "duration": 17,
    "start_time": "2024-07-21T08:14:20.360Z"
   },
   {
    "duration": 0,
    "start_time": "2024-07-21T08:14:20.378Z"
   },
   {
    "duration": 12,
    "start_time": "2024-07-21T08:15:15.263Z"
   },
   {
    "duration": 8,
    "start_time": "2024-07-21T08:15:17.328Z"
   },
   {
    "duration": 12,
    "start_time": "2024-07-21T08:15:40.376Z"
   },
   {
    "duration": 8,
    "start_time": "2024-07-21T08:15:40.992Z"
   },
   {
    "duration": 3,
    "start_time": "2024-07-21T08:17:09.634Z"
   },
   {
    "duration": 12,
    "start_time": "2024-07-21T08:19:45.975Z"
   },
   {
    "duration": 7483,
    "start_time": "2024-07-21T08:19:53.304Z"
   },
   {
    "duration": 17,
    "start_time": "2024-07-21T08:20:00.790Z"
   },
   {
    "duration": 0,
    "start_time": "2024-07-21T08:20:00.810Z"
   },
   {
    "duration": 0,
    "start_time": "2024-07-21T08:20:00.812Z"
   },
   {
    "duration": 1,
    "start_time": "2024-07-21T08:20:00.813Z"
   },
   {
    "duration": 0,
    "start_time": "2024-07-21T08:20:00.815Z"
   },
   {
    "duration": 0,
    "start_time": "2024-07-21T08:20:00.816Z"
   },
   {
    "duration": 0,
    "start_time": "2024-07-21T08:20:00.818Z"
   },
   {
    "duration": 0,
    "start_time": "2024-07-21T08:20:00.819Z"
   },
   {
    "duration": 0,
    "start_time": "2024-07-21T08:20:00.820Z"
   },
   {
    "duration": 0,
    "start_time": "2024-07-21T08:20:00.821Z"
   },
   {
    "duration": 0,
    "start_time": "2024-07-21T08:20:00.822Z"
   },
   {
    "duration": 0,
    "start_time": "2024-07-21T08:20:00.824Z"
   },
   {
    "duration": 0,
    "start_time": "2024-07-21T08:20:00.825Z"
   },
   {
    "duration": 0,
    "start_time": "2024-07-21T08:20:00.826Z"
   },
   {
    "duration": 0,
    "start_time": "2024-07-21T08:20:00.827Z"
   },
   {
    "duration": 0,
    "start_time": "2024-07-21T08:20:00.828Z"
   },
   {
    "duration": 0,
    "start_time": "2024-07-21T08:20:00.829Z"
   },
   {
    "duration": 0,
    "start_time": "2024-07-21T08:20:00.830Z"
   },
   {
    "duration": 0,
    "start_time": "2024-07-21T08:20:00.832Z"
   },
   {
    "duration": 0,
    "start_time": "2024-07-21T08:20:00.833Z"
   },
   {
    "duration": 0,
    "start_time": "2024-07-21T08:20:00.834Z"
   },
   {
    "duration": 0,
    "start_time": "2024-07-21T08:20:00.835Z"
   },
   {
    "duration": 0,
    "start_time": "2024-07-21T08:20:00.836Z"
   },
   {
    "duration": 0,
    "start_time": "2024-07-21T08:20:00.837Z"
   },
   {
    "duration": 0,
    "start_time": "2024-07-21T08:20:00.838Z"
   },
   {
    "duration": 0,
    "start_time": "2024-07-21T08:20:00.839Z"
   },
   {
    "duration": 0,
    "start_time": "2024-07-21T08:20:00.840Z"
   },
   {
    "duration": 0,
    "start_time": "2024-07-21T08:20:00.841Z"
   },
   {
    "duration": 0,
    "start_time": "2024-07-21T08:20:00.842Z"
   },
   {
    "duration": 0,
    "start_time": "2024-07-21T08:20:00.843Z"
   },
   {
    "duration": 0,
    "start_time": "2024-07-21T08:20:00.844Z"
   },
   {
    "duration": 0,
    "start_time": "2024-07-21T08:20:00.846Z"
   },
   {
    "duration": 0,
    "start_time": "2024-07-21T08:20:00.847Z"
   },
   {
    "duration": 7632,
    "start_time": "2024-07-21T08:20:33.160Z"
   },
   {
    "duration": 1161,
    "start_time": "2024-07-21T08:20:40.794Z"
   },
   {
    "duration": 3005,
    "start_time": "2024-07-21T08:20:41.957Z"
   },
   {
    "duration": 4,
    "start_time": "2024-07-21T08:20:44.964Z"
   },
   {
    "duration": 302,
    "start_time": "2024-07-21T08:20:44.970Z"
   },
   {
    "duration": 28,
    "start_time": "2024-07-21T08:20:45.274Z"
   },
   {
    "duration": 37,
    "start_time": "2024-07-21T08:20:45.304Z"
   },
   {
    "duration": 21,
    "start_time": "2024-07-21T08:20:45.343Z"
   },
   {
    "duration": 7,
    "start_time": "2024-07-21T08:20:45.365Z"
   },
   {
    "duration": 178,
    "start_time": "2024-07-21T08:20:45.375Z"
   },
   {
    "duration": 97,
    "start_time": "2024-07-21T08:20:45.555Z"
   },
   {
    "duration": 135,
    "start_time": "2024-07-21T08:20:45.654Z"
   },
   {
    "duration": 87,
    "start_time": "2024-07-21T08:20:45.791Z"
   },
   {
    "duration": 7,
    "start_time": "2024-07-21T08:20:45.880Z"
   },
   {
    "duration": 59,
    "start_time": "2024-07-21T08:20:45.888Z"
   },
   {
    "duration": 318,
    "start_time": "2024-07-21T08:20:45.949Z"
   },
   {
    "duration": 30,
    "start_time": "2024-07-21T08:20:46.269Z"
   },
   {
    "duration": 5,
    "start_time": "2024-07-21T08:20:46.300Z"
   },
   {
    "duration": 37,
    "start_time": "2024-07-21T08:20:46.307Z"
   },
   {
    "duration": 24,
    "start_time": "2024-07-21T08:20:46.345Z"
   },
   {
    "duration": 36,
    "start_time": "2024-07-21T08:20:46.370Z"
   },
   {
    "duration": 19,
    "start_time": "2024-07-21T08:20:46.408Z"
   },
   {
    "duration": 254,
    "start_time": "2024-07-21T08:20:46.428Z"
   },
   {
    "duration": 20,
    "start_time": "2024-07-21T08:20:46.683Z"
   },
   {
    "duration": 294,
    "start_time": "2024-07-21T08:20:46.704Z"
   },
   {
    "duration": 721,
    "start_time": "2024-07-21T08:20:46.999Z"
   },
   {
    "duration": 7290,
    "start_time": "2024-07-21T08:20:47.721Z"
   },
   {
    "duration": 13,
    "start_time": "2024-07-21T08:20:55.014Z"
   },
   {
    "duration": 28,
    "start_time": "2024-07-21T08:20:55.028Z"
   },
   {
    "duration": 19,
    "start_time": "2024-07-21T08:20:55.057Z"
   },
   {
    "duration": 15,
    "start_time": "2024-07-21T08:20:55.078Z"
   },
   {
    "duration": 76,
    "start_time": "2024-07-21T08:20:55.094Z"
   },
   {
    "duration": 5,
    "start_time": "2024-07-21T08:20:55.172Z"
   },
   {
    "duration": 115,
    "start_time": "2024-07-21T08:20:55.179Z"
   },
   {
    "duration": 4,
    "start_time": "2024-07-21T08:22:31.831Z"
   },
   {
    "duration": 1013,
    "start_time": "2024-07-21T08:22:31.836Z"
   },
   {
    "duration": 4,
    "start_time": "2024-07-21T08:22:32.851Z"
   },
   {
    "duration": 362,
    "start_time": "2024-07-21T08:22:32.857Z"
   },
   {
    "duration": 36,
    "start_time": "2024-07-21T08:22:33.221Z"
   },
   {
    "duration": 30,
    "start_time": "2024-07-21T08:22:33.259Z"
   },
   {
    "duration": 37,
    "start_time": "2024-07-21T08:22:33.291Z"
   },
   {
    "duration": 4,
    "start_time": "2024-07-21T08:22:33.330Z"
   },
   {
    "duration": 172,
    "start_time": "2024-07-21T08:22:33.335Z"
   },
   {
    "duration": 128,
    "start_time": "2024-07-21T08:22:33.509Z"
   },
   {
    "duration": 127,
    "start_time": "2024-07-21T08:22:33.640Z"
   },
   {
    "duration": 80,
    "start_time": "2024-07-21T08:22:33.769Z"
   },
   {
    "duration": 7,
    "start_time": "2024-07-21T08:22:33.850Z"
   },
   {
    "duration": 111,
    "start_time": "2024-07-21T08:22:33.858Z"
   },
   {
    "duration": 368,
    "start_time": "2024-07-21T08:22:33.971Z"
   },
   {
    "duration": 29,
    "start_time": "2024-07-21T08:22:34.341Z"
   },
   {
    "duration": 5,
    "start_time": "2024-07-21T08:22:34.372Z"
   },
   {
    "duration": 16,
    "start_time": "2024-07-21T08:22:34.379Z"
   },
   {
    "duration": 12,
    "start_time": "2024-07-21T08:22:34.396Z"
   },
   {
    "duration": 39,
    "start_time": "2024-07-21T08:22:34.410Z"
   },
   {
    "duration": 19,
    "start_time": "2024-07-21T08:22:34.450Z"
   },
   {
    "duration": 339,
    "start_time": "2024-07-21T08:22:34.471Z"
   },
   {
    "duration": 28,
    "start_time": "2024-07-21T08:22:34.811Z"
   },
   {
    "duration": 282,
    "start_time": "2024-07-21T08:22:34.841Z"
   },
   {
    "duration": 668,
    "start_time": "2024-07-21T08:22:35.125Z"
   },
   {
    "duration": 7146,
    "start_time": "2024-07-21T08:22:35.794Z"
   },
   {
    "duration": 15,
    "start_time": "2024-07-21T08:22:42.942Z"
   },
   {
    "duration": 30,
    "start_time": "2024-07-21T08:22:42.959Z"
   },
   {
    "duration": 27,
    "start_time": "2024-07-21T08:22:42.992Z"
   },
   {
    "duration": 49,
    "start_time": "2024-07-21T08:22:43.020Z"
   },
   {
    "duration": 71,
    "start_time": "2024-07-21T08:22:43.071Z"
   },
   {
    "duration": 4,
    "start_time": "2024-07-21T08:22:43.144Z"
   },
   {
    "duration": 43,
    "start_time": "2024-07-21T08:22:43.150Z"
   },
   {
    "duration": 4078,
    "start_time": "2024-07-21T08:23:00.762Z"
   },
   {
    "duration": 10,
    "start_time": "2024-07-21T08:23:50.591Z"
   },
   {
    "duration": 4208,
    "start_time": "2024-07-21T08:23:57.780Z"
   },
   {
    "duration": 15465,
    "start_time": "2024-07-22T17:34:00.746Z"
   },
   {
    "duration": 1530,
    "start_time": "2024-07-22T17:34:16.213Z"
   },
   {
    "duration": 1395,
    "start_time": "2024-07-22T17:34:17.745Z"
   },
   {
    "duration": 6,
    "start_time": "2024-07-22T17:34:19.143Z"
   },
   {
    "duration": 351,
    "start_time": "2024-07-22T17:34:19.151Z"
   },
   {
    "duration": 37,
    "start_time": "2024-07-22T17:34:19.503Z"
   },
   {
    "duration": 23,
    "start_time": "2024-07-22T17:34:19.542Z"
   },
   {
    "duration": 22,
    "start_time": "2024-07-22T17:34:19.567Z"
   },
   {
    "duration": 2,
    "start_time": "2024-07-22T17:34:19.607Z"
   },
   {
    "duration": 210,
    "start_time": "2024-07-22T17:34:19.612Z"
   },
   {
    "duration": 103,
    "start_time": "2024-07-22T17:34:19.824Z"
   },
   {
    "duration": 138,
    "start_time": "2024-07-22T17:34:19.928Z"
   },
   {
    "duration": 87,
    "start_time": "2024-07-22T17:34:20.068Z"
   },
   {
    "duration": 7,
    "start_time": "2024-07-22T17:34:20.157Z"
   },
   {
    "duration": 54,
    "start_time": "2024-07-22T17:34:20.165Z"
   },
   {
    "duration": 352,
    "start_time": "2024-07-22T17:34:20.221Z"
   },
   {
    "duration": 46,
    "start_time": "2024-07-22T17:34:20.575Z"
   },
   {
    "duration": 5,
    "start_time": "2024-07-22T17:34:20.623Z"
   },
   {
    "duration": 18,
    "start_time": "2024-07-22T17:34:20.630Z"
   },
   {
    "duration": 8,
    "start_time": "2024-07-22T17:34:20.650Z"
   },
   {
    "duration": 59,
    "start_time": "2024-07-22T17:34:20.659Z"
   },
   {
    "duration": 21,
    "start_time": "2024-07-22T17:34:20.720Z"
   },
   {
    "duration": 310,
    "start_time": "2024-07-22T17:34:20.744Z"
   },
   {
    "duration": 24,
    "start_time": "2024-07-22T17:34:21.056Z"
   },
   {
    "duration": 332,
    "start_time": "2024-07-22T17:34:21.081Z"
   },
   {
    "duration": 792,
    "start_time": "2024-07-22T17:34:21.415Z"
   },
   {
    "duration": 7995,
    "start_time": "2024-07-22T17:34:22.209Z"
   },
   {
    "duration": 14,
    "start_time": "2024-07-22T17:34:30.209Z"
   },
   {
    "duration": 59,
    "start_time": "2024-07-22T17:34:30.225Z"
   },
   {
    "duration": 25,
    "start_time": "2024-07-22T17:34:30.285Z"
   },
   {
    "duration": 41,
    "start_time": "2024-07-22T17:34:30.312Z"
   },
   {
    "duration": 89,
    "start_time": "2024-07-22T17:34:30.355Z"
   },
   {
    "duration": 5,
    "start_time": "2024-07-22T17:34:30.446Z"
   },
   {
    "duration": 0,
    "start_time": "2024-07-22T17:34:35.233Z"
   },
   {
    "duration": 15,
    "start_time": "2024-07-22T17:35:15.055Z"
   },
   {
    "duration": 6,
    "start_time": "2024-07-22T17:38:20.959Z"
   },
   {
    "duration": 17,
    "start_time": "2024-07-22T17:38:30.239Z"
   },
   {
    "duration": 20,
    "start_time": "2024-07-22T17:39:38.654Z"
   },
   {
    "duration": 58,
    "start_time": "2024-07-22T17:48:41.590Z"
   },
   {
    "duration": 17,
    "start_time": "2024-07-22T17:48:45.718Z"
   },
   {
    "duration": 19,
    "start_time": "2024-07-22T17:54:22.698Z"
   },
   {
    "duration": 12,
    "start_time": "2024-07-22T17:59:43.327Z"
   },
   {
    "duration": 3,
    "start_time": "2024-07-22T18:00:00.428Z"
   },
   {
    "duration": 63,
    "start_time": "2024-07-22T18:00:03.227Z"
   },
   {
    "duration": 3,
    "start_time": "2024-07-22T18:01:42.507Z"
   },
   {
    "duration": 15,
    "start_time": "2024-07-22T18:01:43.379Z"
   },
   {
    "duration": 5,
    "start_time": "2024-07-22T18:09:29.800Z"
   },
   {
    "duration": 5,
    "start_time": "2024-07-22T18:13:07.866Z"
   },
   {
    "duration": 8093,
    "start_time": "2024-07-22T18:13:17.949Z"
   },
   {
    "duration": 5,
    "start_time": "2024-07-22T18:13:26.045Z"
   },
   {
    "duration": 1064,
    "start_time": "2024-07-22T18:13:26.052Z"
   },
   {
    "duration": 5,
    "start_time": "2024-07-22T18:13:27.118Z"
   },
   {
    "duration": 287,
    "start_time": "2024-07-22T18:13:27.125Z"
   },
   {
    "duration": 27,
    "start_time": "2024-07-22T18:13:27.414Z"
   },
   {
    "duration": 25,
    "start_time": "2024-07-22T18:13:27.443Z"
   },
   {
    "duration": 44,
    "start_time": "2024-07-22T18:13:27.470Z"
   },
   {
    "duration": 2,
    "start_time": "2024-07-22T18:13:27.516Z"
   },
   {
    "duration": 218,
    "start_time": "2024-07-22T18:13:27.522Z"
   },
   {
    "duration": 112,
    "start_time": "2024-07-22T18:13:27.742Z"
   },
   {
    "duration": 154,
    "start_time": "2024-07-22T18:13:27.856Z"
   },
   {
    "duration": 82,
    "start_time": "2024-07-22T18:13:28.012Z"
   },
   {
    "duration": 9,
    "start_time": "2024-07-22T18:13:28.108Z"
   },
   {
    "duration": 49,
    "start_time": "2024-07-22T18:13:28.119Z"
   },
   {
    "duration": 356,
    "start_time": "2024-07-22T18:13:28.170Z"
   },
   {
    "duration": 36,
    "start_time": "2024-07-22T18:13:28.527Z"
   },
   {
    "duration": 7,
    "start_time": "2024-07-22T18:13:28.565Z"
   },
   {
    "duration": 35,
    "start_time": "2024-07-22T18:13:28.574Z"
   },
   {
    "duration": 9,
    "start_time": "2024-07-22T18:13:28.610Z"
   },
   {
    "duration": 45,
    "start_time": "2024-07-22T18:13:28.620Z"
   },
   {
    "duration": 22,
    "start_time": "2024-07-22T18:13:28.667Z"
   },
   {
    "duration": 408,
    "start_time": "2024-07-22T18:13:28.690Z"
   },
   {
    "duration": 31,
    "start_time": "2024-07-22T18:13:29.100Z"
   },
   {
    "duration": 340,
    "start_time": "2024-07-22T18:13:29.132Z"
   },
   {
    "duration": 716,
    "start_time": "2024-07-22T18:13:29.474Z"
   },
   {
    "duration": 7915,
    "start_time": "2024-07-22T18:13:30.192Z"
   },
   {
    "duration": 14,
    "start_time": "2024-07-22T18:13:38.110Z"
   },
   {
    "duration": 40,
    "start_time": "2024-07-22T18:13:38.125Z"
   },
   {
    "duration": 16,
    "start_time": "2024-07-22T18:13:38.167Z"
   },
   {
    "duration": 6,
    "start_time": "2024-07-22T18:13:38.185Z"
   },
   {
    "duration": 76,
    "start_time": "2024-07-22T18:13:38.193Z"
   },
   {
    "duration": 3,
    "start_time": "2024-07-22T18:13:38.271Z"
   },
   {
    "duration": 34,
    "start_time": "2024-07-22T18:13:38.276Z"
   },
   {
    "duration": 5,
    "start_time": "2024-07-22T18:15:36.854Z"
   },
   {
    "duration": 5,
    "start_time": "2024-07-22T18:15:42.866Z"
   },
   {
    "duration": 8244,
    "start_time": "2024-07-22T18:15:54.537Z"
   },
   {
    "duration": 6,
    "start_time": "2024-07-22T18:16:02.784Z"
   },
   {
    "duration": 1063,
    "start_time": "2024-07-22T18:16:02.791Z"
   },
   {
    "duration": 4,
    "start_time": "2024-07-22T18:16:03.856Z"
   },
   {
    "duration": 266,
    "start_time": "2024-07-22T18:16:03.861Z"
   },
   {
    "duration": 26,
    "start_time": "2024-07-22T18:16:04.129Z"
   },
   {
    "duration": 25,
    "start_time": "2024-07-22T18:16:04.156Z"
   },
   {
    "duration": 39,
    "start_time": "2024-07-22T18:16:04.183Z"
   },
   {
    "duration": 3,
    "start_time": "2024-07-22T18:16:04.223Z"
   },
   {
    "duration": 205,
    "start_time": "2024-07-22T18:16:04.229Z"
   },
   {
    "duration": 110,
    "start_time": "2024-07-22T18:16:04.435Z"
   },
   {
    "duration": 142,
    "start_time": "2024-07-22T18:16:04.547Z"
   },
   {
    "duration": 84,
    "start_time": "2024-07-22T18:16:04.691Z"
   },
   {
    "duration": 7,
    "start_time": "2024-07-22T18:16:04.776Z"
   },
   {
    "duration": 59,
    "start_time": "2024-07-22T18:16:04.784Z"
   },
   {
    "duration": 354,
    "start_time": "2024-07-22T18:16:04.844Z"
   },
   {
    "duration": 34,
    "start_time": "2024-07-22T18:16:05.207Z"
   },
   {
    "duration": 6,
    "start_time": "2024-07-22T18:16:05.242Z"
   },
   {
    "duration": 7,
    "start_time": "2024-07-22T18:16:05.250Z"
   },
   {
    "duration": 7,
    "start_time": "2024-07-22T18:16:05.259Z"
   },
   {
    "duration": 64,
    "start_time": "2024-07-22T18:16:05.267Z"
   },
   {
    "duration": 21,
    "start_time": "2024-07-22T18:16:05.333Z"
   },
   {
    "duration": 397,
    "start_time": "2024-07-22T18:16:05.355Z"
   },
   {
    "duration": 24,
    "start_time": "2024-07-22T18:16:05.755Z"
   },
   {
    "duration": 340,
    "start_time": "2024-07-22T18:16:05.781Z"
   },
   {
    "duration": 705,
    "start_time": "2024-07-22T18:16:06.123Z"
   },
   {
    "duration": 7811,
    "start_time": "2024-07-22T18:16:06.830Z"
   },
   {
    "duration": 14,
    "start_time": "2024-07-22T18:16:14.645Z"
   },
   {
    "duration": 23,
    "start_time": "2024-07-22T18:16:14.661Z"
   },
   {
    "duration": 28,
    "start_time": "2024-07-22T18:16:14.685Z"
   },
   {
    "duration": 7,
    "start_time": "2024-07-22T18:16:14.715Z"
   },
   {
    "duration": 62,
    "start_time": "2024-07-22T18:16:14.723Z"
   },
   {
    "duration": 4,
    "start_time": "2024-07-22T18:16:14.786Z"
   },
   {
    "duration": 5,
    "start_time": "2024-07-22T18:16:14.806Z"
   },
   {
    "duration": 16431,
    "start_time": "2024-07-22T18:17:16.411Z"
   },
   {
    "duration": 16756,
    "start_time": "2024-07-22T18:17:46.781Z"
   },
   {
    "duration": 5,
    "start_time": "2024-07-22T18:21:20.508Z"
   },
   {
    "duration": 65,
    "start_time": "2024-07-22T18:21:39.524Z"
   },
   {
    "duration": 16743,
    "start_time": "2024-07-22T18:21:45.265Z"
   },
   {
    "duration": 16357,
    "start_time": "2024-07-22T18:22:22.074Z"
   },
   {
    "duration": 16680,
    "start_time": "2024-07-22T18:22:46.429Z"
   },
   {
    "duration": 4,
    "start_time": "2024-07-22T18:25:24.367Z"
   },
   {
    "duration": 3,
    "start_time": "2024-07-22T18:26:38.853Z"
   },
   {
    "duration": 72,
    "start_time": "2024-07-22T18:26:53.312Z"
   },
   {
    "duration": 34674,
    "start_time": "2024-07-22T18:27:00.975Z"
   },
   {
    "duration": 38110,
    "start_time": "2024-07-22T18:30:22.537Z"
   },
   {
    "duration": 64,
    "start_time": "2024-07-22T18:33:23.574Z"
   },
   {
    "duration": 67,
    "start_time": "2024-07-22T18:33:30.258Z"
   },
   {
    "duration": 88,
    "start_time": "2024-07-22T18:33:46.424Z"
   },
   {
    "duration": 91,
    "start_time": "2024-07-22T18:34:25.526Z"
   },
   {
    "duration": 106,
    "start_time": "2024-07-22T18:36:17.636Z"
   },
   {
    "duration": 110,
    "start_time": "2024-07-22T18:37:34.403Z"
   },
   {
    "duration": 32,
    "start_time": "2024-07-22T18:38:19.301Z"
   },
   {
    "duration": 113,
    "start_time": "2024-07-22T18:38:26.050Z"
   },
   {
    "duration": 9026,
    "start_time": "2024-07-22T18:38:30.659Z"
   },
   {
    "duration": 5,
    "start_time": "2024-07-22T18:38:39.687Z"
   },
   {
    "duration": 1064,
    "start_time": "2024-07-22T18:38:39.694Z"
   },
   {
    "duration": 4,
    "start_time": "2024-07-22T18:38:40.760Z"
   },
   {
    "duration": 309,
    "start_time": "2024-07-22T18:38:40.766Z"
   },
   {
    "duration": 28,
    "start_time": "2024-07-22T18:38:41.076Z"
   },
   {
    "duration": 35,
    "start_time": "2024-07-22T18:38:41.106Z"
   },
   {
    "duration": 23,
    "start_time": "2024-07-22T18:38:41.143Z"
   },
   {
    "duration": 9,
    "start_time": "2024-07-22T18:38:41.167Z"
   },
   {
    "duration": 203,
    "start_time": "2024-07-22T18:38:41.179Z"
   },
   {
    "duration": 109,
    "start_time": "2024-07-22T18:38:41.383Z"
   },
   {
    "duration": 155,
    "start_time": "2024-07-22T18:38:41.494Z"
   },
   {
    "duration": 87,
    "start_time": "2024-07-22T18:38:41.650Z"
   },
   {
    "duration": 7,
    "start_time": "2024-07-22T18:38:41.739Z"
   },
   {
    "duration": 47,
    "start_time": "2024-07-22T18:38:41.747Z"
   },
   {
    "duration": 379,
    "start_time": "2024-07-22T18:38:41.795Z"
   },
   {
    "duration": 48,
    "start_time": "2024-07-22T18:38:42.175Z"
   },
   {
    "duration": 6,
    "start_time": "2024-07-22T18:38:42.225Z"
   },
   {
    "duration": 9,
    "start_time": "2024-07-22T18:38:42.232Z"
   },
   {
    "duration": 12,
    "start_time": "2024-07-22T18:38:42.243Z"
   },
   {
    "duration": 69,
    "start_time": "2024-07-22T18:38:42.257Z"
   },
   {
    "duration": 21,
    "start_time": "2024-07-22T18:38:42.328Z"
   },
   {
    "duration": 420,
    "start_time": "2024-07-22T18:38:42.351Z"
   },
   {
    "duration": 22,
    "start_time": "2024-07-22T18:38:42.773Z"
   },
   {
    "duration": 354,
    "start_time": "2024-07-22T18:38:42.807Z"
   },
   {
    "duration": 787,
    "start_time": "2024-07-22T18:38:43.163Z"
   },
   {
    "duration": 8492,
    "start_time": "2024-07-22T18:38:43.952Z"
   },
   {
    "duration": 17,
    "start_time": "2024-07-22T18:38:52.448Z"
   },
   {
    "duration": 38,
    "start_time": "2024-07-22T18:38:52.469Z"
   },
   {
    "duration": 21,
    "start_time": "2024-07-22T18:38:52.510Z"
   },
   {
    "duration": 5,
    "start_time": "2024-07-22T18:38:52.533Z"
   },
   {
    "duration": 120,
    "start_time": "2024-07-22T18:38:52.540Z"
   },
   {
    "duration": 4,
    "start_time": "2024-07-22T18:38:52.661Z"
   },
   {
    "duration": 14667,
    "start_time": "2024-07-22T18:38:52.667Z"
   },
   {
    "duration": 125,
    "start_time": "2024-07-22T18:39:07.336Z"
   },
   {
    "duration": 53,
    "start_time": "2024-07-22T18:39:07.463Z"
   },
   {
    "duration": 31533,
    "start_time": "2024-07-22T18:39:07.519Z"
   },
   {
    "duration": 111,
    "start_time": "2024-07-22T18:39:39.053Z"
   },
   {
    "duration": 50,
    "start_time": "2024-07-22T18:41:07.732Z"
   },
   {
    "duration": 306,
    "start_time": "2024-07-22T18:45:01.912Z"
   },
   {
    "duration": 244,
    "start_time": "2024-07-22T18:45:13.468Z"
   },
   {
    "duration": 245,
    "start_time": "2024-07-22T18:45:29.070Z"
   },
   {
    "duration": 44,
    "start_time": "2024-07-22T18:45:50.216Z"
   },
   {
    "duration": 295,
    "start_time": "2024-07-22T18:45:55.917Z"
   },
   {
    "duration": 95,
    "start_time": "2024-07-22T18:46:33.973Z"
   },
   {
    "duration": 32,
    "start_time": "2024-07-22T18:47:07.018Z"
   },
   {
    "duration": 114,
    "start_time": "2024-07-22T18:47:30.096Z"
   },
   {
    "duration": 102,
    "start_time": "2024-07-22T18:49:59.240Z"
   },
   {
    "duration": 179,
    "start_time": "2024-07-22T18:50:19.476Z"
   },
   {
    "duration": 104,
    "start_time": "2024-07-22T18:50:22.715Z"
   },
   {
    "duration": 6,
    "start_time": "2024-07-22T19:00:47.997Z"
   },
   {
    "duration": 110,
    "start_time": "2024-07-22T19:01:26.105Z"
   },
   {
    "duration": 103,
    "start_time": "2024-07-22T19:01:48.236Z"
   },
   {
    "duration": 99,
    "start_time": "2024-07-22T19:01:56.037Z"
   },
   {
    "duration": 5,
    "start_time": "2024-07-22T19:04:29.268Z"
   },
   {
    "duration": 10,
    "start_time": "2024-07-22T19:05:22.767Z"
   },
   {
    "duration": 12,
    "start_time": "2024-07-22T19:10:29.759Z"
   },
   {
    "duration": 10,
    "start_time": "2024-07-22T19:10:53.045Z"
   },
   {
    "duration": 3,
    "start_time": "2024-07-22T19:11:12.801Z"
   },
   {
    "duration": 4,
    "start_time": "2024-07-22T19:13:14.510Z"
   },
   {
    "duration": 20,
    "start_time": "2024-07-22T19:13:23.939Z"
   },
   {
    "duration": 9,
    "start_time": "2024-07-22T19:13:39.125Z"
   },
   {
    "duration": 10,
    "start_time": "2024-07-22T19:13:47.788Z"
   },
   {
    "duration": 19,
    "start_time": "2024-07-22T19:14:05.368Z"
   },
   {
    "duration": 3,
    "start_time": "2024-07-22T19:15:55.361Z"
   },
   {
    "duration": 14351,
    "start_time": "2024-07-22T19:17:58.165Z"
   },
   {
    "duration": 26920,
    "start_time": "2024-07-22T19:18:17.234Z"
   },
   {
    "duration": 14381,
    "start_time": "2024-07-22T19:18:44.156Z"
   },
   {
    "duration": 29856,
    "start_time": "2024-07-22T19:18:58.609Z"
   },
   {
    "duration": 26301,
    "start_time": "2024-07-22T19:20:53.928Z"
   },
   {
    "duration": 10,
    "start_time": "2024-07-22T19:23:09.316Z"
   },
   {
    "duration": 9,
    "start_time": "2024-07-22T19:23:37.346Z"
   },
   {
    "duration": 9,
    "start_time": "2024-07-22T19:23:45.546Z"
   },
   {
    "duration": 4,
    "start_time": "2024-07-22T19:24:02.457Z"
   },
   {
    "duration": 4,
    "start_time": "2024-07-22T19:25:08.307Z"
   },
   {
    "duration": 3,
    "start_time": "2024-07-22T19:25:32.096Z"
   },
   {
    "duration": 2,
    "start_time": "2024-07-22T19:25:32.636Z"
   },
   {
    "duration": 3,
    "start_time": "2024-07-22T19:25:34.348Z"
   },
   {
    "duration": 7,
    "start_time": "2024-07-22T19:26:42.109Z"
   },
   {
    "duration": 11,
    "start_time": "2024-07-22T19:27:41.731Z"
   },
   {
    "duration": 5,
    "start_time": "2024-07-22T19:32:46.611Z"
   },
   {
    "duration": 10,
    "start_time": "2024-07-22T19:38:34.564Z"
   },
   {
    "duration": 10,
    "start_time": "2024-07-22T19:39:27.479Z"
   },
   {
    "duration": 8416,
    "start_time": "2024-07-22T19:39:48.434Z"
   },
   {
    "duration": 6,
    "start_time": "2024-07-22T19:39:56.852Z"
   },
   {
    "duration": 1047,
    "start_time": "2024-07-22T19:39:56.860Z"
   },
   {
    "duration": 4,
    "start_time": "2024-07-22T19:39:57.909Z"
   },
   {
    "duration": 264,
    "start_time": "2024-07-22T19:39:57.915Z"
   },
   {
    "duration": 32,
    "start_time": "2024-07-22T19:39:58.181Z"
   },
   {
    "duration": 24,
    "start_time": "2024-07-22T19:39:58.215Z"
   },
   {
    "duration": 22,
    "start_time": "2024-07-22T19:39:58.241Z"
   },
   {
    "duration": 3,
    "start_time": "2024-07-22T19:39:58.264Z"
   },
   {
    "duration": 204,
    "start_time": "2024-07-22T19:39:58.268Z"
   },
   {
    "duration": 106,
    "start_time": "2024-07-22T19:39:58.474Z"
   },
   {
    "duration": 147,
    "start_time": "2024-07-22T19:39:58.582Z"
   },
   {
    "duration": 85,
    "start_time": "2024-07-22T19:39:58.730Z"
   },
   {
    "duration": 7,
    "start_time": "2024-07-22T19:39:58.818Z"
   },
   {
    "duration": 42,
    "start_time": "2024-07-22T19:39:58.827Z"
   },
   {
    "duration": 456,
    "start_time": "2024-07-22T19:39:58.870Z"
   },
   {
    "duration": 34,
    "start_time": "2024-07-22T19:39:59.328Z"
   },
   {
    "duration": 6,
    "start_time": "2024-07-22T19:39:59.364Z"
   },
   {
    "duration": 10,
    "start_time": "2024-07-22T19:39:59.371Z"
   },
   {
    "duration": 8,
    "start_time": "2024-07-22T19:39:59.407Z"
   },
   {
    "duration": 37,
    "start_time": "2024-07-22T19:39:59.416Z"
   },
   {
    "duration": 21,
    "start_time": "2024-07-22T19:39:59.455Z"
   },
   {
    "duration": 316,
    "start_time": "2024-07-22T19:39:59.478Z"
   },
   {
    "duration": 31,
    "start_time": "2024-07-22T19:39:59.796Z"
   },
   {
    "duration": 336,
    "start_time": "2024-07-22T19:39:59.829Z"
   },
   {
    "duration": 725,
    "start_time": "2024-07-22T19:40:00.166Z"
   },
   {
    "duration": 8015,
    "start_time": "2024-07-22T19:40:00.893Z"
   },
   {
    "duration": 18,
    "start_time": "2024-07-22T19:40:08.910Z"
   },
   {
    "duration": 22,
    "start_time": "2024-07-22T19:40:08.930Z"
   },
   {
    "duration": 12,
    "start_time": "2024-07-22T19:40:08.954Z"
   },
   {
    "duration": 8,
    "start_time": "2024-07-22T19:40:08.968Z"
   },
   {
    "duration": 131,
    "start_time": "2024-07-22T19:40:08.977Z"
   },
   {
    "duration": 4,
    "start_time": "2024-07-22T19:40:09.110Z"
   },
   {
    "duration": 14509,
    "start_time": "2024-07-22T19:40:09.116Z"
   },
   {
    "duration": 283,
    "start_time": "2024-07-22T19:40:23.626Z"
   },
   {
    "duration": 96,
    "start_time": "2024-07-22T19:40:23.912Z"
   },
   {
    "duration": 27312,
    "start_time": "2024-07-22T19:40:24.009Z"
   },
   {
    "duration": 110,
    "start_time": "2024-07-22T19:40:51.323Z"
   },
   {
    "duration": 12,
    "start_time": "2024-07-22T19:40:51.434Z"
   },
   {
    "duration": 0,
    "start_time": "2024-07-22T19:40:51.447Z"
   },
   {
    "duration": 0,
    "start_time": "2024-07-22T19:40:51.449Z"
   },
   {
    "duration": 0,
    "start_time": "2024-07-22T19:40:51.450Z"
   },
   {
    "duration": 0,
    "start_time": "2024-07-22T19:40:51.451Z"
   },
   {
    "duration": 0,
    "start_time": "2024-07-22T19:40:51.452Z"
   },
   {
    "duration": 39,
    "start_time": "2024-07-22T19:43:53.885Z"
   },
   {
    "duration": 39,
    "start_time": "2024-07-22T19:44:26.384Z"
   },
   {
    "duration": 38,
    "start_time": "2024-07-22T19:44:51.079Z"
   },
   {
    "duration": 39,
    "start_time": "2024-07-22T19:45:29.639Z"
   },
   {
    "duration": 19,
    "start_time": "2024-07-22T19:45:43.342Z"
   },
   {
    "duration": 118,
    "start_time": "2024-07-22T19:46:34.433Z"
   },
   {
    "duration": 118,
    "start_time": "2024-07-22T19:47:10.374Z"
   },
   {
    "duration": 121,
    "start_time": "2024-07-22T19:49:05.473Z"
   },
   {
    "duration": 125,
    "start_time": "2024-07-22T19:49:20.515Z"
   },
   {
    "duration": 121,
    "start_time": "2024-07-22T19:50:21.311Z"
   },
   {
    "duration": 122,
    "start_time": "2024-07-22T19:50:31.934Z"
   },
   {
    "duration": 128,
    "start_time": "2024-07-22T19:51:29.822Z"
   },
   {
    "duration": 222,
    "start_time": "2024-07-22T19:52:51.449Z"
   },
   {
    "duration": 129,
    "start_time": "2024-07-22T19:53:29.038Z"
   },
   {
    "duration": 136,
    "start_time": "2024-07-22T19:53:44.258Z"
   },
   {
    "duration": 18,
    "start_time": "2024-07-22T19:56:03.362Z"
   },
   {
    "duration": 133,
    "start_time": "2024-07-22T19:56:33.454Z"
   },
   {
    "duration": 119,
    "start_time": "2024-07-22T19:56:40.492Z"
   },
   {
    "duration": 142,
    "start_time": "2024-07-22T19:56:56.944Z"
   },
   {
    "duration": 264,
    "start_time": "2024-07-22T19:57:47.899Z"
   },
   {
    "duration": 279,
    "start_time": "2024-07-22T19:58:02.833Z"
   },
   {
    "duration": 256,
    "start_time": "2024-07-22T19:58:07.644Z"
   },
   {
    "duration": 260,
    "start_time": "2024-07-22T19:58:52.208Z"
   },
   {
    "duration": 253,
    "start_time": "2024-07-22T19:59:08.800Z"
   },
   {
    "duration": 262,
    "start_time": "2024-07-22T19:59:38.401Z"
   },
   {
    "duration": 253,
    "start_time": "2024-07-22T19:59:43.160Z"
   },
   {
    "duration": 261,
    "start_time": "2024-07-22T20:00:20.172Z"
   },
   {
    "duration": 252,
    "start_time": "2024-07-22T20:00:36.637Z"
   },
   {
    "duration": 250,
    "start_time": "2024-07-22T20:02:56.864Z"
   },
   {
    "duration": 6073,
    "start_time": "2024-07-22T20:03:04.335Z"
   },
   {
    "duration": 5987,
    "start_time": "2024-07-22T20:03:30.854Z"
   },
   {
    "duration": 255,
    "start_time": "2024-07-22T20:03:56.564Z"
   },
   {
    "duration": 0,
    "start_time": "2024-07-22T20:05:32.443Z"
   },
   {
    "duration": 29,
    "start_time": "2024-07-22T20:31:39.562Z"
   },
   {
    "duration": 179,
    "start_time": "2024-07-22T20:33:45.338Z"
   },
   {
    "duration": 171,
    "start_time": "2024-07-22T20:33:56.624Z"
   },
   {
    "duration": 274,
    "start_time": "2024-07-22T20:35:09.677Z"
   },
   {
    "duration": 281,
    "start_time": "2024-07-22T20:35:30.618Z"
   },
   {
    "duration": 294,
    "start_time": "2024-07-22T20:36:23.037Z"
   },
   {
    "duration": 299,
    "start_time": "2024-07-22T20:36:32.777Z"
   },
   {
    "duration": 269,
    "start_time": "2024-07-22T20:38:25.864Z"
   },
   {
    "duration": 303,
    "start_time": "2024-07-22T20:39:17.248Z"
   },
   {
    "duration": 291,
    "start_time": "2024-07-22T20:40:52.909Z"
   },
   {
    "duration": 250,
    "start_time": "2024-07-22T20:41:11.817Z"
   },
   {
    "duration": 257,
    "start_time": "2024-07-22T20:41:36.351Z"
   },
   {
    "duration": 202,
    "start_time": "2024-07-22T20:43:03.706Z"
   },
   {
    "duration": 183,
    "start_time": "2024-07-22T20:44:09.648Z"
   },
   {
    "duration": 290,
    "start_time": "2024-07-22T20:44:52.681Z"
   },
   {
    "duration": 266,
    "start_time": "2024-07-22T20:47:19.371Z"
   },
   {
    "duration": 268,
    "start_time": "2024-07-22T20:47:25.006Z"
   },
   {
    "duration": 171,
    "start_time": "2024-07-22T20:48:41.783Z"
   },
   {
    "duration": 219,
    "start_time": "2024-07-22T20:49:07.501Z"
   },
   {
    "duration": 234,
    "start_time": "2024-07-22T20:50:15.477Z"
   },
   {
    "duration": 230,
    "start_time": "2024-07-22T20:54:50.201Z"
   },
   {
    "duration": 237,
    "start_time": "2024-07-22T20:55:13.778Z"
   },
   {
    "duration": 286,
    "start_time": "2024-07-22T20:55:23.234Z"
   },
   {
    "duration": 287,
    "start_time": "2024-07-22T20:55:38.800Z"
   },
   {
    "duration": 15,
    "start_time": "2024-07-22T20:59:06.136Z"
   },
   {
    "duration": 14,
    "start_time": "2024-07-22T20:59:23.251Z"
   },
   {
    "duration": 13,
    "start_time": "2024-07-22T21:00:25.653Z"
   },
   {
    "duration": 5,
    "start_time": "2024-07-22T21:07:18.626Z"
   },
   {
    "duration": 6,
    "start_time": "2024-07-22T21:12:17.382Z"
   },
   {
    "duration": 5,
    "start_time": "2024-07-22T21:12:30.612Z"
   },
   {
    "duration": 4,
    "start_time": "2024-07-22T21:13:01.495Z"
   },
   {
    "duration": 727,
    "start_time": "2024-07-22T21:13:14.141Z"
   },
   {
    "duration": 736,
    "start_time": "2024-07-22T21:17:37.701Z"
   },
   {
    "duration": 29,
    "start_time": "2024-07-22T21:18:11.596Z"
   },
   {
    "duration": 35,
    "start_time": "2024-07-22T21:19:01.876Z"
   },
   {
    "duration": 29,
    "start_time": "2024-07-22T21:19:08.415Z"
   },
   {
    "duration": 6294,
    "start_time": "2024-07-22T21:19:20.454Z"
   },
   {
    "duration": 16,
    "start_time": "2024-07-22T21:25:38.539Z"
   },
   {
    "duration": 15,
    "start_time": "2024-07-22T21:26:55.389Z"
   },
   {
    "duration": 10,
    "start_time": "2024-07-22T21:27:41.538Z"
   },
   {
    "duration": 13,
    "start_time": "2024-07-22T21:27:55.583Z"
   },
   {
    "duration": 10,
    "start_time": "2024-07-22T21:28:01.303Z"
   },
   {
    "duration": 14,
    "start_time": "2024-07-22T21:30:48.933Z"
   },
   {
    "duration": 11,
    "start_time": "2024-07-22T21:31:25.537Z"
   },
   {
    "duration": 15,
    "start_time": "2024-07-22T21:32:52.585Z"
   },
   {
    "duration": 12,
    "start_time": "2024-07-22T21:32:59.064Z"
   },
   {
    "duration": 5,
    "start_time": "2024-07-22T21:33:25.019Z"
   },
   {
    "duration": 21,
    "start_time": "2024-07-22T21:34:14.904Z"
   },
   {
    "duration": 52,
    "start_time": "2024-07-22T21:39:33.903Z"
   },
   {
    "duration": 9,
    "start_time": "2024-07-22T21:39:34.305Z"
   },
   {
    "duration": 29,
    "start_time": "2024-07-22T21:39:34.831Z"
   },
   {
    "duration": 13,
    "start_time": "2024-07-22T21:39:52.248Z"
   },
   {
    "duration": 6,
    "start_time": "2024-07-22T21:40:39.811Z"
   },
   {
    "duration": 17,
    "start_time": "2024-07-22T21:40:40.359Z"
   },
   {
    "duration": 4,
    "start_time": "2024-07-22T21:40:41.071Z"
   },
   {
    "duration": 6031,
    "start_time": "2024-07-22T21:40:42.871Z"
   },
   {
    "duration": 20,
    "start_time": "2024-07-22T21:41:08.069Z"
   },
   {
    "duration": 22,
    "start_time": "2024-07-22T21:49:02.120Z"
   },
   {
    "duration": 28,
    "start_time": "2024-07-22T21:50:12.859Z"
   },
   {
    "duration": 31,
    "start_time": "2024-07-22T21:50:42.404Z"
   },
   {
    "duration": 20,
    "start_time": "2024-07-22T21:51:54.414Z"
   },
   {
    "duration": 21,
    "start_time": "2024-07-22T21:52:04.868Z"
   },
   {
    "duration": 7,
    "start_time": "2024-07-22T21:59:53.664Z"
   },
   {
    "duration": 398,
    "start_time": "2024-07-22T21:59:56.579Z"
   },
   {
    "duration": 11,
    "start_time": "2024-07-22T21:59:57.189Z"
   },
   {
    "duration": 245,
    "start_time": "2024-07-22T22:00:11.377Z"
   },
   {
    "duration": 267,
    "start_time": "2024-07-22T22:07:23.228Z"
   },
   {
    "duration": 337,
    "start_time": "2024-07-22T22:09:47.023Z"
   },
   {
    "duration": 50,
    "start_time": "2024-07-22T22:12:36.918Z"
   },
   {
    "duration": 321,
    "start_time": "2024-07-22T22:12:42.764Z"
   },
   {
    "duration": 822,
    "start_time": "2024-07-22T22:13:01.108Z"
   },
   {
    "duration": 741,
    "start_time": "2024-07-22T22:15:38.221Z"
   },
   {
    "duration": 748,
    "start_time": "2024-07-22T22:15:56.199Z"
   },
   {
    "duration": 800,
    "start_time": "2024-07-22T22:17:57.131Z"
   },
   {
    "duration": 807,
    "start_time": "2024-07-22T22:18:02.783Z"
   },
   {
    "duration": 1063,
    "start_time": "2024-07-22T22:19:04.924Z"
   },
   {
    "duration": 1084,
    "start_time": "2024-07-22T22:19:30.943Z"
   },
   {
    "duration": 253,
    "start_time": "2024-07-22T22:20:28.195Z"
   },
   {
    "duration": 1085,
    "start_time": "2024-07-22T22:20:52.488Z"
   },
   {
    "duration": 1070,
    "start_time": "2024-07-22T22:22:52.123Z"
   },
   {
    "duration": 1107,
    "start_time": "2024-07-22T22:23:06.902Z"
   },
   {
    "duration": 289,
    "start_time": "2024-07-22T22:24:01.125Z"
   },
   {
    "duration": 8519,
    "start_time": "2024-07-22T22:34:24.843Z"
   },
   {
    "duration": 1370,
    "start_time": "2024-07-22T22:34:33.364Z"
   },
   {
    "duration": 1092,
    "start_time": "2024-07-22T22:34:34.735Z"
   },
   {
    "duration": 4,
    "start_time": "2024-07-22T22:34:35.829Z"
   },
   {
    "duration": 351,
    "start_time": "2024-07-22T22:34:35.834Z"
   },
   {
    "duration": 48,
    "start_time": "2024-07-22T22:34:36.187Z"
   },
   {
    "duration": 23,
    "start_time": "2024-07-22T22:34:36.236Z"
   },
   {
    "duration": 34,
    "start_time": "2024-07-22T22:34:36.261Z"
   },
   {
    "duration": 2,
    "start_time": "2024-07-22T22:34:36.297Z"
   },
   {
    "duration": 201,
    "start_time": "2024-07-22T22:34:36.313Z"
   },
   {
    "duration": 107,
    "start_time": "2024-07-22T22:34:36.515Z"
   },
   {
    "duration": 150,
    "start_time": "2024-07-22T22:34:36.624Z"
   },
   {
    "duration": 87,
    "start_time": "2024-07-22T22:34:36.776Z"
   },
   {
    "duration": 8,
    "start_time": "2024-07-22T22:34:36.865Z"
   },
   {
    "duration": 58,
    "start_time": "2024-07-22T22:34:36.875Z"
   },
   {
    "duration": 393,
    "start_time": "2024-07-22T22:34:36.935Z"
   },
   {
    "duration": 43,
    "start_time": "2024-07-22T22:34:37.330Z"
   },
   {
    "duration": 6,
    "start_time": "2024-07-22T22:34:37.374Z"
   },
   {
    "duration": 33,
    "start_time": "2024-07-22T22:34:37.382Z"
   },
   {
    "duration": 9,
    "start_time": "2024-07-22T22:34:37.416Z"
   },
   {
    "duration": 28,
    "start_time": "2024-07-22T22:34:37.427Z"
   },
   {
    "duration": 20,
    "start_time": "2024-07-22T22:34:37.457Z"
   },
   {
    "duration": 440,
    "start_time": "2024-07-22T22:34:37.478Z"
   },
   {
    "duration": 24,
    "start_time": "2024-07-22T22:34:37.920Z"
   },
   {
    "duration": 334,
    "start_time": "2024-07-22T22:34:37.946Z"
   },
   {
    "duration": 731,
    "start_time": "2024-07-22T22:34:38.282Z"
   },
   {
    "duration": 8376,
    "start_time": "2024-07-22T22:34:39.020Z"
   },
   {
    "duration": 22,
    "start_time": "2024-07-22T22:34:47.400Z"
   },
   {
    "duration": 27,
    "start_time": "2024-07-22T22:34:47.424Z"
   },
   {
    "duration": 13,
    "start_time": "2024-07-22T22:34:47.453Z"
   },
   {
    "duration": 23,
    "start_time": "2024-07-22T22:34:47.467Z"
   },
   {
    "duration": 128,
    "start_time": "2024-07-22T22:34:47.491Z"
   },
   {
    "duration": 3,
    "start_time": "2024-07-22T22:34:47.624Z"
   },
   {
    "duration": 14612,
    "start_time": "2024-07-22T22:34:47.629Z"
   },
   {
    "duration": 274,
    "start_time": "2024-07-22T22:35:02.243Z"
   },
   {
    "duration": 9,
    "start_time": "2024-07-22T22:35:02.521Z"
   },
   {
    "duration": 28096,
    "start_time": "2024-07-22T22:35:02.534Z"
   },
   {
    "duration": 119,
    "start_time": "2024-07-22T22:35:30.632Z"
   },
   {
    "duration": 288,
    "start_time": "2024-07-22T22:35:30.752Z"
   },
   {
    "duration": 8357,
    "start_time": "2024-07-22T23:02:59.034Z"
   },
   {
    "duration": 1442,
    "start_time": "2024-07-22T23:03:07.394Z"
   },
   {
    "duration": 1118,
    "start_time": "2024-07-22T23:03:08.838Z"
   },
   {
    "duration": 4,
    "start_time": "2024-07-22T23:03:09.958Z"
   },
   {
    "duration": 371,
    "start_time": "2024-07-22T23:03:09.964Z"
   },
   {
    "duration": 36,
    "start_time": "2024-07-22T23:03:10.337Z"
   },
   {
    "duration": 45,
    "start_time": "2024-07-22T23:03:10.374Z"
   },
   {
    "duration": 23,
    "start_time": "2024-07-22T23:03:10.421Z"
   },
   {
    "duration": 3,
    "start_time": "2024-07-22T23:03:10.445Z"
   },
   {
    "duration": 208,
    "start_time": "2024-07-22T23:03:10.450Z"
   },
   {
    "duration": 121,
    "start_time": "2024-07-22T23:03:10.660Z"
   },
   {
    "duration": 159,
    "start_time": "2024-07-22T23:03:10.783Z"
   },
   {
    "duration": 86,
    "start_time": "2024-07-22T23:03:10.944Z"
   },
   {
    "duration": 7,
    "start_time": "2024-07-22T23:03:11.031Z"
   },
   {
    "duration": 36,
    "start_time": "2024-07-22T23:03:11.039Z"
   },
   {
    "duration": 386,
    "start_time": "2024-07-22T23:03:11.076Z"
   },
   {
    "duration": 54,
    "start_time": "2024-07-22T23:03:11.464Z"
   },
   {
    "duration": 6,
    "start_time": "2024-07-22T23:03:11.520Z"
   },
   {
    "duration": 8,
    "start_time": "2024-07-22T23:03:11.527Z"
   },
   {
    "duration": 7,
    "start_time": "2024-07-22T23:03:11.536Z"
   },
   {
    "duration": 42,
    "start_time": "2024-07-22T23:03:11.545Z"
   },
   {
    "duration": 35,
    "start_time": "2024-07-22T23:03:11.589Z"
   },
   {
    "duration": 366,
    "start_time": "2024-07-22T23:03:11.625Z"
   },
   {
    "duration": 32,
    "start_time": "2024-07-22T23:03:11.993Z"
   },
   {
    "duration": 332,
    "start_time": "2024-07-22T23:03:12.027Z"
   },
   {
    "duration": 740,
    "start_time": "2024-07-22T23:03:12.361Z"
   },
   {
    "duration": 8151,
    "start_time": "2024-07-22T23:03:13.102Z"
   },
   {
    "duration": 14,
    "start_time": "2024-07-22T23:03:21.256Z"
   },
   {
    "duration": 54,
    "start_time": "2024-07-22T23:03:21.272Z"
   },
   {
    "duration": 15,
    "start_time": "2024-07-22T23:03:21.328Z"
   },
   {
    "duration": 8,
    "start_time": "2024-07-22T23:03:21.345Z"
   },
   {
    "duration": 125,
    "start_time": "2024-07-22T23:03:21.355Z"
   },
   {
    "duration": 4,
    "start_time": "2024-07-22T23:03:21.482Z"
   },
   {
    "duration": 14438,
    "start_time": "2024-07-22T23:03:21.489Z"
   },
   {
    "duration": 287,
    "start_time": "2024-07-22T23:03:35.928Z"
   },
   {
    "duration": 5,
    "start_time": "2024-07-22T23:03:36.218Z"
   },
   {
    "duration": 28012,
    "start_time": "2024-07-22T23:03:36.225Z"
   },
   {
    "duration": 120,
    "start_time": "2024-07-22T23:04:04.238Z"
   },
   {
    "duration": 286,
    "start_time": "2024-07-22T23:04:04.360Z"
   },
   {
    "duration": 533668,
    "start_time": "2024-07-22T23:04:04.648Z"
   },
   {
    "duration": 169,
    "start_time": "2024-07-22T23:12:58.319Z"
   },
   {
    "duration": 14,
    "start_time": "2024-07-22T23:12:58.490Z"
   },
   {
    "duration": 72,
    "start_time": "2024-07-22T23:12:58.505Z"
   },
   {
    "duration": 66,
    "start_time": "2024-07-22T23:12:58.578Z"
   },
   {
    "duration": 383,
    "start_time": "2024-07-22T23:16:43.936Z"
   },
   {
    "duration": 13,
    "start_time": "2024-07-22T23:17:24.925Z"
   },
   {
    "duration": 82,
    "start_time": "2024-07-22T23:17:26.916Z"
   },
   {
    "duration": 67,
    "start_time": "2024-07-22T23:17:50.397Z"
   },
   {
    "duration": 5396,
    "start_time": "2024-07-22T23:18:05.916Z"
   },
   {
    "duration": 5,
    "start_time": "2024-07-22T23:21:16.908Z"
   },
   {
    "duration": 5,
    "start_time": "2024-07-22T23:23:42.439Z"
   },
   {
    "duration": 61,
    "start_time": "2024-07-22T23:24:22.361Z"
   },
   {
    "duration": 70,
    "start_time": "2024-07-22T23:25:26.209Z"
   },
   {
    "duration": 71,
    "start_time": "2024-07-22T23:25:42.764Z"
   },
   {
    "duration": 91,
    "start_time": "2024-07-22T23:25:50.598Z"
   },
   {
    "duration": 83,
    "start_time": "2024-07-22T23:26:19.405Z"
   },
   {
    "duration": 66,
    "start_time": "2024-07-22T23:28:10.219Z"
   },
   {
    "duration": 74,
    "start_time": "2024-07-22T23:30:42.460Z"
   },
   {
    "duration": 74,
    "start_time": "2024-07-22T23:31:01.359Z"
   },
   {
    "duration": 83,
    "start_time": "2024-07-22T23:31:24.400Z"
   },
   {
    "duration": 66,
    "start_time": "2024-07-22T23:31:47.074Z"
   },
   {
    "duration": 91,
    "start_time": "2024-07-22T23:33:02.964Z"
   },
   {
    "duration": 68,
    "start_time": "2024-07-22T23:37:26.244Z"
   },
   {
    "duration": 5,
    "start_time": "2024-07-22T23:38:11.531Z"
   },
   {
    "duration": 13,
    "start_time": "2024-07-22T23:38:16.209Z"
   },
   {
    "duration": 65,
    "start_time": "2024-07-22T23:38:16.745Z"
   },
   {
    "duration": 306,
    "start_time": "2024-07-22T23:38:47.956Z"
   },
   {
    "duration": 3184,
    "start_time": "2024-07-22T23:41:46.374Z"
   },
   {
    "duration": 13,
    "start_time": "2024-07-22T23:43:03.500Z"
   },
   {
    "duration": 2909,
    "start_time": "2024-07-22T23:43:04.084Z"
   },
   {
    "duration": 92,
    "start_time": "2024-07-22T23:45:25.146Z"
   },
   {
    "duration": 66,
    "start_time": "2024-07-22T23:45:43.295Z"
   },
   {
    "duration": 69,
    "start_time": "2024-07-22T23:49:59.975Z"
   },
   {
    "duration": 64,
    "start_time": "2024-07-22T23:55:12.011Z"
   },
   {
    "duration": 62,
    "start_time": "2024-07-22T23:55:51.778Z"
   },
   {
    "duration": 61,
    "start_time": "2024-07-22T23:57:21.468Z"
   },
   {
    "duration": 63,
    "start_time": "2024-07-22T23:57:48.448Z"
   },
   {
    "duration": 8125,
    "start_time": "2024-07-23T00:00:07.629Z"
   },
   {
    "duration": 6,
    "start_time": "2024-07-23T00:00:15.756Z"
   },
   {
    "duration": 1030,
    "start_time": "2024-07-23T00:00:15.763Z"
   },
   {
    "duration": 11,
    "start_time": "2024-07-23T00:00:16.796Z"
   },
   {
    "duration": 265,
    "start_time": "2024-07-23T00:00:16.809Z"
   },
   {
    "duration": 37,
    "start_time": "2024-07-23T00:00:17.075Z"
   },
   {
    "duration": 25,
    "start_time": "2024-07-23T00:00:17.113Z"
   },
   {
    "duration": 26,
    "start_time": "2024-07-23T00:00:17.140Z"
   },
   {
    "duration": 5,
    "start_time": "2024-07-23T00:00:17.168Z"
   },
   {
    "duration": 237,
    "start_time": "2024-07-23T00:00:17.176Z"
   },
   {
    "duration": 108,
    "start_time": "2024-07-23T00:00:17.415Z"
   },
   {
    "duration": 149,
    "start_time": "2024-07-23T00:00:17.524Z"
   },
   {
    "duration": 88,
    "start_time": "2024-07-23T00:00:17.675Z"
   },
   {
    "duration": 7,
    "start_time": "2024-07-23T00:00:17.764Z"
   },
   {
    "duration": 57,
    "start_time": "2024-07-23T00:00:17.773Z"
   },
   {
    "duration": 435,
    "start_time": "2024-07-23T00:00:17.831Z"
   },
   {
    "duration": 40,
    "start_time": "2024-07-23T00:00:18.268Z"
   },
   {
    "duration": 6,
    "start_time": "2024-07-23T00:00:18.310Z"
   },
   {
    "duration": 29,
    "start_time": "2024-07-23T00:00:18.317Z"
   },
   {
    "duration": 22,
    "start_time": "2024-07-23T00:00:18.348Z"
   },
   {
    "duration": 27,
    "start_time": "2024-07-23T00:00:18.372Z"
   },
   {
    "duration": 21,
    "start_time": "2024-07-23T00:00:18.401Z"
   },
   {
    "duration": 302,
    "start_time": "2024-07-23T00:00:18.423Z"
   },
   {
    "duration": 23,
    "start_time": "2024-07-23T00:00:18.726Z"
   },
   {
    "duration": 313,
    "start_time": "2024-07-23T00:00:18.751Z"
   },
   {
    "duration": 680,
    "start_time": "2024-07-23T00:00:19.066Z"
   },
   {
    "duration": 7717,
    "start_time": "2024-07-23T00:00:19.748Z"
   },
   {
    "duration": 16,
    "start_time": "2024-07-23T00:00:27.468Z"
   },
   {
    "duration": 34,
    "start_time": "2024-07-23T00:00:27.486Z"
   },
   {
    "duration": 11,
    "start_time": "2024-07-23T00:00:27.523Z"
   },
   {
    "duration": 12,
    "start_time": "2024-07-23T00:00:27.536Z"
   },
   {
    "duration": 109,
    "start_time": "2024-07-23T00:00:27.550Z"
   },
   {
    "duration": 3,
    "start_time": "2024-07-23T00:00:27.661Z"
   },
   {
    "duration": 13998,
    "start_time": "2024-07-23T00:00:27.666Z"
   },
   {
    "duration": 198,
    "start_time": "2024-07-23T00:00:41.666Z"
   },
   {
    "duration": 46,
    "start_time": "2024-07-23T00:00:41.866Z"
   },
   {
    "duration": 26098,
    "start_time": "2024-07-23T00:00:41.914Z"
   },
   {
    "duration": 109,
    "start_time": "2024-07-23T00:01:08.013Z"
   },
   {
    "duration": 273,
    "start_time": "2024-07-23T00:01:08.123Z"
   },
   {
    "duration": 49011,
    "start_time": "2024-07-23T00:01:08.398Z"
   },
   {
    "duration": 415,
    "start_time": "2024-07-23T00:01:57.411Z"
   },
   {
    "duration": 81,
    "start_time": "2024-07-23T00:01:57.827Z"
   },
   {
    "duration": 3035,
    "start_time": "2024-07-23T00:01:57.909Z"
   },
   {
    "duration": 69,
    "start_time": "2024-07-23T00:02:00.945Z"
   },
   {
    "duration": 90,
    "start_time": "2024-07-23T00:02:01.015Z"
   },
   {
    "duration": 137,
    "start_time": "2024-07-23T00:06:21.071Z"
   },
   {
    "duration": 8164,
    "start_time": "2024-07-23T00:06:25.272Z"
   },
   {
    "duration": 6,
    "start_time": "2024-07-23T00:06:33.439Z"
   },
   {
    "duration": 971,
    "start_time": "2024-07-23T00:06:33.447Z"
   },
   {
    "duration": 4,
    "start_time": "2024-07-23T00:06:34.421Z"
   },
   {
    "duration": 283,
    "start_time": "2024-07-23T00:06:34.427Z"
   },
   {
    "duration": 24,
    "start_time": "2024-07-23T00:06:34.711Z"
   },
   {
    "duration": 24,
    "start_time": "2024-07-23T00:06:34.736Z"
   },
   {
    "duration": 33,
    "start_time": "2024-07-23T00:06:34.761Z"
   },
   {
    "duration": 11,
    "start_time": "2024-07-23T00:06:34.796Z"
   },
   {
    "duration": 198,
    "start_time": "2024-07-23T00:06:34.808Z"
   },
   {
    "duration": 107,
    "start_time": "2024-07-23T00:06:35.007Z"
   },
   {
    "duration": 134,
    "start_time": "2024-07-23T00:06:35.116Z"
   },
   {
    "duration": 85,
    "start_time": "2024-07-23T00:06:35.252Z"
   },
   {
    "duration": 7,
    "start_time": "2024-07-23T00:06:35.339Z"
   },
   {
    "duration": 36,
    "start_time": "2024-07-23T00:06:35.348Z"
   },
   {
    "duration": 344,
    "start_time": "2024-07-23T00:06:35.385Z"
   },
   {
    "duration": 32,
    "start_time": "2024-07-23T00:06:35.730Z"
   },
   {
    "duration": 5,
    "start_time": "2024-07-23T00:06:35.764Z"
   },
   {
    "duration": 16,
    "start_time": "2024-07-23T00:06:35.770Z"
   },
   {
    "duration": 25,
    "start_time": "2024-07-23T00:06:35.787Z"
   },
   {
    "duration": 31,
    "start_time": "2024-07-23T00:06:35.813Z"
   },
   {
    "duration": 19,
    "start_time": "2024-07-23T00:06:35.846Z"
   },
   {
    "duration": 400,
    "start_time": "2024-07-23T00:06:35.867Z"
   },
   {
    "duration": 22,
    "start_time": "2024-07-23T00:06:36.268Z"
   },
   {
    "duration": 308,
    "start_time": "2024-07-23T00:06:36.292Z"
   },
   {
    "duration": 709,
    "start_time": "2024-07-23T00:06:36.601Z"
   },
   {
    "duration": 7731,
    "start_time": "2024-07-23T00:06:37.312Z"
   },
   {
    "duration": 16,
    "start_time": "2024-07-23T00:06:45.044Z"
   },
   {
    "duration": 32,
    "start_time": "2024-07-23T00:06:45.061Z"
   },
   {
    "duration": 14,
    "start_time": "2024-07-23T00:06:45.094Z"
   },
   {
    "duration": 27,
    "start_time": "2024-07-23T00:06:45.110Z"
   },
   {
    "duration": 124,
    "start_time": "2024-07-23T00:06:45.139Z"
   },
   {
    "duration": 3,
    "start_time": "2024-07-23T00:06:45.265Z"
   },
   {
    "duration": 14239,
    "start_time": "2024-07-23T00:06:45.270Z"
   },
   {
    "duration": 202,
    "start_time": "2024-07-23T00:06:59.511Z"
   },
   {
    "duration": 94,
    "start_time": "2024-07-23T00:06:59.715Z"
   },
   {
    "duration": 25813,
    "start_time": "2024-07-23T00:06:59.811Z"
   },
   {
    "duration": 104,
    "start_time": "2024-07-23T00:07:25.625Z"
   },
   {
    "duration": 258,
    "start_time": "2024-07-23T00:07:25.730Z"
   },
   {
    "duration": 48419,
    "start_time": "2024-07-23T00:07:25.990Z"
   },
   {
    "duration": 406,
    "start_time": "2024-07-23T00:08:14.413Z"
   },
   {
    "duration": 88,
    "start_time": "2024-07-23T00:08:14.821Z"
   },
   {
    "duration": 2986,
    "start_time": "2024-07-23T00:08:14.911Z"
   },
   {
    "duration": 64,
    "start_time": "2024-07-23T00:08:17.899Z"
   },
   {
    "duration": 77,
    "start_time": "2024-07-23T00:08:17.965Z"
   },
   {
    "duration": 65,
    "start_time": "2024-07-23T00:11:13.504Z"
   },
   {
    "duration": 64,
    "start_time": "2024-07-23T00:11:20.744Z"
   },
   {
    "duration": 14866,
    "start_time": "2024-07-23T07:09:06.284Z"
   },
   {
    "duration": 2042,
    "start_time": "2024-07-23T07:09:21.152Z"
   },
   {
    "duration": 1213,
    "start_time": "2024-07-23T07:09:23.196Z"
   },
   {
    "duration": 4,
    "start_time": "2024-07-23T07:09:24.411Z"
   },
   {
    "duration": 292,
    "start_time": "2024-07-23T07:09:24.416Z"
   },
   {
    "duration": 32,
    "start_time": "2024-07-23T07:09:24.710Z"
   },
   {
    "duration": 20,
    "start_time": "2024-07-23T07:09:24.744Z"
   },
   {
    "duration": 35,
    "start_time": "2024-07-23T07:09:24.766Z"
   },
   {
    "duration": 5,
    "start_time": "2024-07-23T07:09:41.454Z"
   },
   {
    "duration": 18,
    "start_time": "2024-07-23T07:09:47.396Z"
   },
   {
    "duration": 2113,
    "start_time": "2024-07-23T07:09:57.301Z"
   },
   {
    "duration": 878,
    "start_time": "2024-07-23T07:10:18.346Z"
   },
   {
    "duration": 2063,
    "start_time": "2024-07-23T07:10:37.281Z"
   },
   {
    "duration": 17,
    "start_time": "2024-07-23T07:10:44.694Z"
   },
   {
    "duration": 4,
    "start_time": "2024-07-23T07:10:56.558Z"
   },
   {
    "duration": 98,
    "start_time": "2024-07-23T07:11:12.778Z"
   },
   {
    "duration": 794,
    "start_time": "2024-07-23T07:11:15.824Z"
   },
   {
    "duration": 1181,
    "start_time": "2024-07-23T07:12:10.174Z"
   },
   {
    "duration": 781,
    "start_time": "2024-07-23T07:12:17.077Z"
   },
   {
    "duration": 827,
    "start_time": "2024-07-23T07:12:24.584Z"
   },
   {
    "duration": 143,
    "start_time": "2024-07-23T07:12:38.366Z"
   },
   {
    "duration": 47,
    "start_time": "2024-07-23T07:12:41.382Z"
   },
   {
    "duration": 848,
    "start_time": "2024-07-23T07:12:44.928Z"
   },
   {
    "duration": 787,
    "start_time": "2024-07-23T07:12:58.634Z"
   },
   {
    "duration": 1917,
    "start_time": "2024-07-23T07:15:49.766Z"
   },
   {
    "duration": 938,
    "start_time": "2024-07-23T07:15:51.685Z"
   },
   {
    "duration": 1242,
    "start_time": "2024-07-23T07:15:56.006Z"
   },
   {
    "duration": 86,
    "start_time": "2024-07-23T07:16:14.514Z"
   },
   {
    "duration": 71,
    "start_time": "2024-07-23T07:16:18.018Z"
   },
   {
    "duration": 5,
    "start_time": "2024-07-23T07:16:20.728Z"
   },
   {
    "duration": 5,
    "start_time": "2024-07-23T07:16:43.900Z"
   },
   {
    "duration": 7,
    "start_time": "2024-07-23T07:16:58.452Z"
   },
   {
    "duration": 9,
    "start_time": "2024-07-23T07:17:02.518Z"
   },
   {
    "duration": 1208,
    "start_time": "2024-07-23T07:17:32.021Z"
   },
   {
    "duration": 1404,
    "start_time": "2024-07-23T07:19:15.679Z"
   },
   {
    "duration": 18,
    "start_time": "2024-07-23T07:19:21.130Z"
   },
   {
    "duration": 7485,
    "start_time": "2024-07-23T07:20:36.497Z"
   },
   {
    "duration": 5,
    "start_time": "2024-07-23T07:20:43.984Z"
   },
   {
    "duration": 916,
    "start_time": "2024-07-23T07:20:43.990Z"
   },
   {
    "duration": 4,
    "start_time": "2024-07-23T07:20:44.907Z"
   },
   {
    "duration": 302,
    "start_time": "2024-07-23T07:20:44.912Z"
   },
   {
    "duration": 34,
    "start_time": "2024-07-23T07:20:45.215Z"
   },
   {
    "duration": 22,
    "start_time": "2024-07-23T07:20:45.250Z"
   },
   {
    "duration": 39,
    "start_time": "2024-07-23T07:20:45.273Z"
   },
   {
    "duration": 34,
    "start_time": "2024-07-23T07:20:45.313Z"
   },
   {
    "duration": 16,
    "start_time": "2024-07-23T07:20:45.350Z"
   },
   {
    "duration": 204,
    "start_time": "2024-07-23T07:20:45.368Z"
   },
   {
    "duration": 91,
    "start_time": "2024-07-23T07:20:45.573Z"
   },
   {
    "duration": 123,
    "start_time": "2024-07-23T07:20:45.666Z"
   },
   {
    "duration": 65,
    "start_time": "2024-07-23T07:20:45.791Z"
   },
   {
    "duration": 6,
    "start_time": "2024-07-23T07:20:45.857Z"
   },
   {
    "duration": 56,
    "start_time": "2024-07-23T07:20:45.864Z"
   },
   {
    "duration": 318,
    "start_time": "2024-07-23T07:20:45.921Z"
   },
   {
    "duration": 38,
    "start_time": "2024-07-23T07:20:46.240Z"
   },
   {
    "duration": 18,
    "start_time": "2024-07-23T07:20:46.279Z"
   },
   {
    "duration": 7,
    "start_time": "2024-07-23T07:20:46.298Z"
   },
   {
    "duration": 9,
    "start_time": "2024-07-23T07:20:46.306Z"
   },
   {
    "duration": 28,
    "start_time": "2024-07-23T07:20:46.317Z"
   },
   {
    "duration": 50,
    "start_time": "2024-07-23T07:20:55.598Z"
   },
   {
    "duration": 47,
    "start_time": "2024-07-23T07:21:31.625Z"
   },
   {
    "duration": 18,
    "start_time": "2024-07-23T07:21:36.235Z"
   },
   {
    "duration": 47,
    "start_time": "2024-07-23T07:21:39.113Z"
   },
   {
    "duration": 14033,
    "start_time": "2024-07-23T18:51:42.513Z"
   },
   {
    "duration": 1625,
    "start_time": "2024-07-23T18:51:56.549Z"
   },
   {
    "duration": 1477,
    "start_time": "2024-07-23T18:51:58.176Z"
   },
   {
    "duration": 4,
    "start_time": "2024-07-23T18:51:59.655Z"
   },
   {
    "duration": 348,
    "start_time": "2024-07-23T18:51:59.662Z"
   },
   {
    "duration": 39,
    "start_time": "2024-07-23T18:52:00.011Z"
   },
   {
    "duration": 25,
    "start_time": "2024-07-23T18:52:00.052Z"
   },
   {
    "duration": 23,
    "start_time": "2024-07-23T18:52:00.096Z"
   },
   {
    "duration": 80,
    "start_time": "2024-07-23T18:52:00.120Z"
   },
   {
    "duration": 33,
    "start_time": "2024-07-23T18:52:00.202Z"
   },
   {
    "duration": 233,
    "start_time": "2024-07-23T18:52:00.237Z"
   },
   {
    "duration": 107,
    "start_time": "2024-07-23T18:52:00.472Z"
   },
   {
    "duration": 153,
    "start_time": "2024-07-23T18:52:00.580Z"
   },
   {
    "duration": 85,
    "start_time": "2024-07-23T18:52:00.737Z"
   },
   {
    "duration": 50,
    "start_time": "2024-07-23T18:52:00.824Z"
   },
   {
    "duration": 74,
    "start_time": "2024-07-23T18:52:00.876Z"
   },
   {
    "duration": 368,
    "start_time": "2024-07-23T18:52:00.952Z"
   },
   {
    "duration": 143,
    "start_time": "2024-07-23T18:52:01.322Z"
   },
   {
    "duration": 7,
    "start_time": "2024-07-23T18:52:01.467Z"
   },
   {
    "duration": 40,
    "start_time": "2024-07-23T18:52:01.475Z"
   },
   {
    "duration": 36,
    "start_time": "2024-07-23T18:52:01.517Z"
   },
   {
    "duration": 61,
    "start_time": "2024-07-23T18:52:01.555Z"
   },
   {
    "duration": 37,
    "start_time": "2024-07-23T18:52:01.617Z"
   },
   {
    "duration": 438,
    "start_time": "2024-07-23T18:52:01.656Z"
   },
   {
    "duration": 26,
    "start_time": "2024-07-23T18:52:02.097Z"
   },
   {
    "duration": 387,
    "start_time": "2024-07-23T18:52:02.124Z"
   },
   {
    "duration": 748,
    "start_time": "2024-07-23T18:52:02.512Z"
   },
   {
    "duration": 8355,
    "start_time": "2024-07-23T18:52:03.262Z"
   },
   {
    "duration": 14,
    "start_time": "2024-07-23T18:52:11.619Z"
   },
   {
    "duration": 34,
    "start_time": "2024-07-23T18:52:11.635Z"
   },
   {
    "duration": 12,
    "start_time": "2024-07-23T18:52:11.671Z"
   },
   {
    "duration": 24,
    "start_time": "2024-07-23T18:52:11.685Z"
   },
   {
    "duration": 137,
    "start_time": "2024-07-23T18:52:11.711Z"
   },
   {
    "duration": 4,
    "start_time": "2024-07-23T18:52:11.849Z"
   },
   {
    "duration": 14367,
    "start_time": "2024-07-23T18:52:11.854Z"
   },
   {
    "duration": 223,
    "start_time": "2024-07-23T18:52:26.223Z"
   },
   {
    "duration": 9,
    "start_time": "2024-07-23T18:52:26.498Z"
   },
   {
    "duration": 27895,
    "start_time": "2024-07-23T18:52:26.595Z"
   },
   {
    "duration": 127,
    "start_time": "2024-07-23T18:52:54.496Z"
   },
   {
    "duration": 299,
    "start_time": "2024-07-23T18:52:54.624Z"
   },
   {
    "duration": 8973,
    "start_time": "2024-07-23T19:19:57.858Z"
   },
   {
    "duration": 1402,
    "start_time": "2024-07-23T19:20:06.833Z"
   },
   {
    "duration": 1083,
    "start_time": "2024-07-23T19:20:08.236Z"
   },
   {
    "duration": 4,
    "start_time": "2024-07-23T19:20:09.321Z"
   },
   {
    "duration": 338,
    "start_time": "2024-07-23T19:20:09.326Z"
   },
   {
    "duration": 44,
    "start_time": "2024-07-23T19:20:09.666Z"
   },
   {
    "duration": 24,
    "start_time": "2024-07-23T19:20:09.712Z"
   },
   {
    "duration": 112,
    "start_time": "2024-07-23T19:20:09.738Z"
   },
   {
    "duration": 121,
    "start_time": "2024-07-23T19:20:09.852Z"
   },
   {
    "duration": 0,
    "start_time": "2024-07-23T19:20:09.976Z"
   },
   {
    "duration": 0,
    "start_time": "2024-07-23T19:20:09.977Z"
   },
   {
    "duration": 0,
    "start_time": "2024-07-23T19:20:09.979Z"
   },
   {
    "duration": 0,
    "start_time": "2024-07-23T19:20:09.980Z"
   },
   {
    "duration": 0,
    "start_time": "2024-07-23T19:20:09.981Z"
   },
   {
    "duration": 0,
    "start_time": "2024-07-23T19:20:09.997Z"
   },
   {
    "duration": 0,
    "start_time": "2024-07-23T19:20:09.998Z"
   },
   {
    "duration": 0,
    "start_time": "2024-07-23T19:20:09.999Z"
   },
   {
    "duration": 0,
    "start_time": "2024-07-23T19:20:10.001Z"
   },
   {
    "duration": 0,
    "start_time": "2024-07-23T19:20:10.003Z"
   },
   {
    "duration": 0,
    "start_time": "2024-07-23T19:20:10.005Z"
   },
   {
    "duration": 0,
    "start_time": "2024-07-23T19:20:10.007Z"
   },
   {
    "duration": 0,
    "start_time": "2024-07-23T19:20:10.009Z"
   },
   {
    "duration": 0,
    "start_time": "2024-07-23T19:20:10.011Z"
   },
   {
    "duration": 0,
    "start_time": "2024-07-23T19:20:10.013Z"
   },
   {
    "duration": 0,
    "start_time": "2024-07-23T19:20:10.015Z"
   },
   {
    "duration": 0,
    "start_time": "2024-07-23T19:20:10.017Z"
   },
   {
    "duration": 0,
    "start_time": "2024-07-23T19:20:10.019Z"
   },
   {
    "duration": 0,
    "start_time": "2024-07-23T19:20:10.020Z"
   },
   {
    "duration": 0,
    "start_time": "2024-07-23T19:20:10.021Z"
   },
   {
    "duration": 0,
    "start_time": "2024-07-23T19:20:10.023Z"
   },
   {
    "duration": 0,
    "start_time": "2024-07-23T19:20:10.024Z"
   },
   {
    "duration": 0,
    "start_time": "2024-07-23T19:20:10.025Z"
   },
   {
    "duration": 0,
    "start_time": "2024-07-23T19:20:10.026Z"
   },
   {
    "duration": 0,
    "start_time": "2024-07-23T19:20:10.027Z"
   },
   {
    "duration": 0,
    "start_time": "2024-07-23T19:20:10.028Z"
   },
   {
    "duration": 0,
    "start_time": "2024-07-23T19:20:10.029Z"
   },
   {
    "duration": 0,
    "start_time": "2024-07-23T19:20:10.030Z"
   },
   {
    "duration": 0,
    "start_time": "2024-07-23T19:20:10.031Z"
   },
   {
    "duration": 0,
    "start_time": "2024-07-23T19:20:10.033Z"
   },
   {
    "duration": 0,
    "start_time": "2024-07-23T19:20:10.034Z"
   },
   {
    "duration": 0,
    "start_time": "2024-07-23T19:20:10.035Z"
   },
   {
    "duration": 0,
    "start_time": "2024-07-23T19:20:10.097Z"
   },
   {
    "duration": 0,
    "start_time": "2024-07-23T19:20:10.098Z"
   },
   {
    "duration": 0,
    "start_time": "2024-07-23T19:20:10.099Z"
   },
   {
    "duration": 0,
    "start_time": "2024-07-23T19:20:10.100Z"
   },
   {
    "duration": 0,
    "start_time": "2024-07-23T19:20:10.102Z"
   },
   {
    "duration": 0,
    "start_time": "2024-07-23T19:20:10.104Z"
   },
   {
    "duration": 0,
    "start_time": "2024-07-23T19:20:10.105Z"
   },
   {
    "duration": 6,
    "start_time": "2024-07-23T19:26:49.705Z"
   },
   {
    "duration": 1808,
    "start_time": "2024-07-23T19:27:12.749Z"
   },
   {
    "duration": 44,
    "start_time": "2024-07-23T19:29:13.522Z"
   },
   {
    "duration": 12,
    "start_time": "2024-07-23T19:30:10.841Z"
   },
   {
    "duration": 19,
    "start_time": "2024-07-23T19:30:30.481Z"
   },
   {
    "duration": 21,
    "start_time": "2024-07-23T19:31:08.257Z"
   },
   {
    "duration": 19,
    "start_time": "2024-07-23T19:31:10.541Z"
   },
   {
    "duration": 4,
    "start_time": "2024-07-23T19:31:23.499Z"
   },
   {
    "duration": 1575,
    "start_time": "2024-07-23T19:34:13.752Z"
   },
   {
    "duration": 34,
    "start_time": "2024-07-23T19:34:15.329Z"
   },
   {
    "duration": 27,
    "start_time": "2024-07-23T19:34:26.876Z"
   },
   {
    "duration": 23,
    "start_time": "2024-07-23T19:34:29.727Z"
   },
   {
    "duration": 1630,
    "start_time": "2024-07-23T19:34:44.307Z"
   },
   {
    "duration": 19,
    "start_time": "2024-07-23T19:34:45.939Z"
   },
   {
    "duration": 38,
    "start_time": "2024-07-23T19:34:45.961Z"
   },
   {
    "duration": 0,
    "start_time": "2024-07-23T19:34:46.001Z"
   },
   {
    "duration": 0,
    "start_time": "2024-07-23T19:34:46.002Z"
   },
   {
    "duration": 0,
    "start_time": "2024-07-23T19:34:46.004Z"
   },
   {
    "duration": 0,
    "start_time": "2024-07-23T19:34:46.005Z"
   },
   {
    "duration": 0,
    "start_time": "2024-07-23T19:34:46.006Z"
   },
   {
    "duration": 0,
    "start_time": "2024-07-23T19:34:46.007Z"
   },
   {
    "duration": 0,
    "start_time": "2024-07-23T19:34:46.008Z"
   },
   {
    "duration": 0,
    "start_time": "2024-07-23T19:34:46.009Z"
   },
   {
    "duration": 0,
    "start_time": "2024-07-23T19:34:46.009Z"
   },
   {
    "duration": 0,
    "start_time": "2024-07-23T19:34:46.010Z"
   },
   {
    "duration": 0,
    "start_time": "2024-07-23T19:34:46.011Z"
   },
   {
    "duration": 0,
    "start_time": "2024-07-23T19:34:46.012Z"
   },
   {
    "duration": 0,
    "start_time": "2024-07-23T19:34:46.013Z"
   },
   {
    "duration": 0,
    "start_time": "2024-07-23T19:34:46.014Z"
   },
   {
    "duration": 0,
    "start_time": "2024-07-23T19:34:46.015Z"
   },
   {
    "duration": 0,
    "start_time": "2024-07-23T19:34:46.016Z"
   },
   {
    "duration": 0,
    "start_time": "2024-07-23T19:34:46.017Z"
   },
   {
    "duration": 0,
    "start_time": "2024-07-23T19:34:46.017Z"
   },
   {
    "duration": 0,
    "start_time": "2024-07-23T19:34:46.018Z"
   },
   {
    "duration": 0,
    "start_time": "2024-07-23T19:34:46.019Z"
   },
   {
    "duration": 0,
    "start_time": "2024-07-23T19:34:46.020Z"
   },
   {
    "duration": 0,
    "start_time": "2024-07-23T19:34:46.021Z"
   },
   {
    "duration": 0,
    "start_time": "2024-07-23T19:34:46.022Z"
   },
   {
    "duration": 0,
    "start_time": "2024-07-23T19:34:46.023Z"
   },
   {
    "duration": 0,
    "start_time": "2024-07-23T19:34:46.024Z"
   },
   {
    "duration": 0,
    "start_time": "2024-07-23T19:34:46.025Z"
   },
   {
    "duration": 0,
    "start_time": "2024-07-23T19:34:46.025Z"
   },
   {
    "duration": 0,
    "start_time": "2024-07-23T19:34:46.027Z"
   },
   {
    "duration": 0,
    "start_time": "2024-07-23T19:34:46.028Z"
   },
   {
    "duration": 0,
    "start_time": "2024-07-23T19:34:46.030Z"
   },
   {
    "duration": 0,
    "start_time": "2024-07-23T19:34:46.031Z"
   },
   {
    "duration": 1,
    "start_time": "2024-07-23T19:34:46.032Z"
   },
   {
    "duration": 0,
    "start_time": "2024-07-23T19:34:46.033Z"
   },
   {
    "duration": 0,
    "start_time": "2024-07-23T19:34:46.034Z"
   },
   {
    "duration": 0,
    "start_time": "2024-07-23T19:34:46.035Z"
   },
   {
    "duration": 0,
    "start_time": "2024-07-23T19:34:46.037Z"
   },
   {
    "duration": 0,
    "start_time": "2024-07-23T19:34:46.037Z"
   },
   {
    "duration": 0,
    "start_time": "2024-07-23T19:34:46.096Z"
   },
   {
    "duration": 1016,
    "start_time": "2024-07-23T19:35:06.104Z"
   },
   {
    "duration": 4,
    "start_time": "2024-07-23T19:35:07.122Z"
   },
   {
    "duration": 254,
    "start_time": "2024-07-23T19:35:07.127Z"
   },
   {
    "duration": 33,
    "start_time": "2024-07-23T19:35:07.382Z"
   },
   {
    "duration": 23,
    "start_time": "2024-07-23T19:35:07.417Z"
   },
   {
    "duration": 2092,
    "start_time": "2024-07-23T19:35:07.442Z"
   },
   {
    "duration": 67,
    "start_time": "2024-07-23T19:35:09.536Z"
   },
   {
    "duration": 26,
    "start_time": "2024-07-23T19:35:09.604Z"
   },
   {
    "duration": 0,
    "start_time": "2024-07-23T19:35:09.632Z"
   },
   {
    "duration": 0,
    "start_time": "2024-07-23T19:35:09.634Z"
   },
   {
    "duration": 0,
    "start_time": "2024-07-23T19:35:09.635Z"
   },
   {
    "duration": 0,
    "start_time": "2024-07-23T19:35:09.636Z"
   },
   {
    "duration": 0,
    "start_time": "2024-07-23T19:35:09.637Z"
   },
   {
    "duration": 0,
    "start_time": "2024-07-23T19:35:09.638Z"
   },
   {
    "duration": 0,
    "start_time": "2024-07-23T19:35:09.639Z"
   },
   {
    "duration": 0,
    "start_time": "2024-07-23T19:35:09.640Z"
   },
   {
    "duration": 0,
    "start_time": "2024-07-23T19:35:09.641Z"
   },
   {
    "duration": 0,
    "start_time": "2024-07-23T19:35:09.696Z"
   },
   {
    "duration": 0,
    "start_time": "2024-07-23T19:35:09.698Z"
   },
   {
    "duration": 0,
    "start_time": "2024-07-23T19:35:09.699Z"
   },
   {
    "duration": 0,
    "start_time": "2024-07-23T19:35:09.700Z"
   },
   {
    "duration": 0,
    "start_time": "2024-07-23T19:35:09.701Z"
   },
   {
    "duration": 0,
    "start_time": "2024-07-23T19:35:09.702Z"
   },
   {
    "duration": 0,
    "start_time": "2024-07-23T19:35:09.703Z"
   },
   {
    "duration": 0,
    "start_time": "2024-07-23T19:35:09.704Z"
   },
   {
    "duration": 0,
    "start_time": "2024-07-23T19:35:09.705Z"
   },
   {
    "duration": 0,
    "start_time": "2024-07-23T19:35:09.706Z"
   },
   {
    "duration": 0,
    "start_time": "2024-07-23T19:35:09.707Z"
   },
   {
    "duration": 0,
    "start_time": "2024-07-23T19:35:09.708Z"
   },
   {
    "duration": 0,
    "start_time": "2024-07-23T19:35:09.710Z"
   },
   {
    "duration": 0,
    "start_time": "2024-07-23T19:35:09.711Z"
   },
   {
    "duration": 0,
    "start_time": "2024-07-23T19:35:09.712Z"
   },
   {
    "duration": 0,
    "start_time": "2024-07-23T19:35:09.713Z"
   },
   {
    "duration": 0,
    "start_time": "2024-07-23T19:35:09.714Z"
   },
   {
    "duration": 0,
    "start_time": "2024-07-23T19:35:09.715Z"
   },
   {
    "duration": 0,
    "start_time": "2024-07-23T19:35:09.716Z"
   },
   {
    "duration": 0,
    "start_time": "2024-07-23T19:35:09.717Z"
   },
   {
    "duration": 0,
    "start_time": "2024-07-23T19:35:09.718Z"
   },
   {
    "duration": 0,
    "start_time": "2024-07-23T19:35:09.719Z"
   },
   {
    "duration": 0,
    "start_time": "2024-07-23T19:35:09.720Z"
   },
   {
    "duration": 0,
    "start_time": "2024-07-23T19:35:09.721Z"
   },
   {
    "duration": 0,
    "start_time": "2024-07-23T19:35:09.722Z"
   },
   {
    "duration": 0,
    "start_time": "2024-07-23T19:35:09.723Z"
   },
   {
    "duration": 0,
    "start_time": "2024-07-23T19:35:09.724Z"
   },
   {
    "duration": 0,
    "start_time": "2024-07-23T19:35:09.725Z"
   },
   {
    "duration": 0,
    "start_time": "2024-07-23T19:35:09.726Z"
   },
   {
    "duration": 1539,
    "start_time": "2024-07-23T19:35:20.057Z"
   },
   {
    "duration": 18,
    "start_time": "2024-07-23T19:35:21.598Z"
   },
   {
    "duration": 21,
    "start_time": "2024-07-23T19:35:25.516Z"
   },
   {
    "duration": 20,
    "start_time": "2024-07-23T19:35:30.427Z"
   },
   {
    "duration": 3,
    "start_time": "2024-07-23T19:35:32.418Z"
   },
   {
    "duration": 28257,
    "start_time": "2024-07-23T19:37:41.378Z"
   },
   {
    "duration": 102,
    "start_time": "2024-07-23T19:38:33.971Z"
   },
   {
    "duration": 99,
    "start_time": "2024-07-23T19:41:17.307Z"
   },
   {
    "duration": 126,
    "start_time": "2024-07-23T19:41:23.806Z"
   },
   {
    "duration": 79,
    "start_time": "2024-07-23T19:41:28.202Z"
   },
   {
    "duration": 7,
    "start_time": "2024-07-23T19:41:32.732Z"
   },
   {
    "duration": 45,
    "start_time": "2024-07-23T19:41:54.969Z"
   },
   {
    "duration": 352,
    "start_time": "2024-07-23T19:42:19.638Z"
   },
   {
    "duration": 35,
    "start_time": "2024-07-23T19:43:13.548Z"
   },
   {
    "duration": 6,
    "start_time": "2024-07-23T19:43:35.845Z"
   },
   {
    "duration": 10,
    "start_time": "2024-07-23T19:43:38.964Z"
   },
   {
    "duration": 7,
    "start_time": "2024-07-23T19:43:43.138Z"
   },
   {
    "duration": 29,
    "start_time": "2024-07-23T19:43:58.038Z"
   },
   {
    "duration": 17,
    "start_time": "2024-07-23T19:46:41.475Z"
   },
   {
    "duration": 8123,
    "start_time": "2024-07-23T19:47:17.316Z"
   },
   {
    "duration": 11,
    "start_time": "2024-07-23T19:47:25.442Z"
   },
   {
    "duration": 1040,
    "start_time": "2024-07-23T19:47:25.455Z"
   },
   {
    "duration": 4,
    "start_time": "2024-07-23T19:47:26.497Z"
   },
   {
    "duration": 263,
    "start_time": "2024-07-23T19:47:26.503Z"
   },
   {
    "duration": 29,
    "start_time": "2024-07-23T19:47:26.768Z"
   },
   {
    "duration": 24,
    "start_time": "2024-07-23T19:47:26.799Z"
   },
   {
    "duration": 1589,
    "start_time": "2024-07-23T19:47:26.824Z"
   },
   {
    "duration": 20,
    "start_time": "2024-07-23T19:47:28.414Z"
   },
   {
    "duration": 22,
    "start_time": "2024-07-23T19:47:28.435Z"
   },
   {
    "duration": 38,
    "start_time": "2024-07-23T19:47:28.459Z"
   },
   {
    "duration": 3,
    "start_time": "2024-07-23T19:47:28.498Z"
   },
   {
    "duration": 29538,
    "start_time": "2024-07-23T19:47:28.502Z"
   },
   {
    "duration": 109,
    "start_time": "2024-07-23T19:47:58.043Z"
   },
   {
    "duration": 142,
    "start_time": "2024-07-23T19:47:58.154Z"
   },
   {
    "duration": 75,
    "start_time": "2024-07-23T19:47:58.298Z"
   },
   {
    "duration": 22,
    "start_time": "2024-07-23T19:47:58.375Z"
   },
   {
    "duration": 39,
    "start_time": "2024-07-23T19:47:58.398Z"
   },
   {
    "duration": 449,
    "start_time": "2024-07-23T19:47:58.440Z"
   },
   {
    "duration": 33,
    "start_time": "2024-07-23T19:47:58.890Z"
   },
   {
    "duration": 15,
    "start_time": "2024-07-23T19:47:58.924Z"
   },
   {
    "duration": 73,
    "start_time": "2024-07-23T19:47:58.940Z"
   },
   {
    "duration": 8,
    "start_time": "2024-07-23T19:47:59.014Z"
   },
   {
    "duration": 32,
    "start_time": "2024-07-23T19:47:59.023Z"
   },
   {
    "duration": 4,
    "start_time": "2024-07-23T19:47:59.056Z"
   },
   {
    "duration": 43,
    "start_time": "2024-07-23T19:47:59.062Z"
   },
   {
    "duration": 302,
    "start_time": "2024-07-23T19:47:59.106Z"
   },
   {
    "duration": 29,
    "start_time": "2024-07-23T19:47:59.410Z"
   },
   {
    "duration": 366,
    "start_time": "2024-07-23T19:47:59.441Z"
   },
   {
    "duration": 735,
    "start_time": "2024-07-23T19:47:59.808Z"
   },
   {
    "duration": 8148,
    "start_time": "2024-07-23T19:52:08.050Z"
   },
   {
    "duration": 2187,
    "start_time": "2024-07-23T19:52:16.201Z"
   },
   {
    "duration": 1363,
    "start_time": "2024-07-23T19:52:18.390Z"
   },
   {
    "duration": 5,
    "start_time": "2024-07-23T19:52:19.755Z"
   },
   {
    "duration": 343,
    "start_time": "2024-07-23T19:52:19.762Z"
   },
   {
    "duration": 32,
    "start_time": "2024-07-23T19:52:20.106Z"
   },
   {
    "duration": 23,
    "start_time": "2024-07-23T19:52:20.140Z"
   },
   {
    "duration": 1600,
    "start_time": "2024-07-23T19:52:20.165Z"
   },
   {
    "duration": 19,
    "start_time": "2024-07-23T19:52:21.767Z"
   },
   {
    "duration": 21,
    "start_time": "2024-07-23T19:52:21.796Z"
   },
   {
    "duration": 23,
    "start_time": "2024-07-23T19:52:21.819Z"
   },
   {
    "duration": 7,
    "start_time": "2024-07-23T19:52:21.843Z"
   },
   {
    "duration": 29383,
    "start_time": "2024-07-23T19:52:21.852Z"
   },
   {
    "duration": 114,
    "start_time": "2024-07-23T19:52:51.238Z"
   },
   {
    "duration": 144,
    "start_time": "2024-07-23T19:52:51.353Z"
   },
   {
    "duration": 79,
    "start_time": "2024-07-23T19:52:51.499Z"
   },
   {
    "duration": 20,
    "start_time": "2024-07-23T19:52:51.579Z"
   },
   {
    "duration": 51,
    "start_time": "2024-07-23T19:52:51.601Z"
   },
   {
    "duration": 367,
    "start_time": "2024-07-23T19:52:51.654Z"
   },
   {
    "duration": 36,
    "start_time": "2024-07-23T19:52:52.023Z"
   },
   {
    "duration": 6,
    "start_time": "2024-07-23T19:52:52.061Z"
   },
   {
    "duration": 32,
    "start_time": "2024-07-23T19:52:52.068Z"
   },
   {
    "duration": 8,
    "start_time": "2024-07-23T19:52:52.102Z"
   },
   {
    "duration": 37,
    "start_time": "2024-07-23T19:52:52.112Z"
   },
   {
    "duration": 5646,
    "start_time": "2024-07-23T19:52:52.151Z"
   },
   {
    "duration": 121,
    "start_time": "2024-07-23T19:52:57.798Z"
   },
   {
    "duration": 0,
    "start_time": "2024-07-23T19:52:57.920Z"
   },
   {
    "duration": 0,
    "start_time": "2024-07-23T19:52:57.922Z"
   },
   {
    "duration": 0,
    "start_time": "2024-07-23T19:52:57.923Z"
   },
   {
    "duration": 0,
    "start_time": "2024-07-23T19:52:57.924Z"
   },
   {
    "duration": 0,
    "start_time": "2024-07-23T19:52:57.925Z"
   },
   {
    "duration": 0,
    "start_time": "2024-07-23T19:52:57.926Z"
   },
   {
    "duration": 0,
    "start_time": "2024-07-23T19:52:57.927Z"
   },
   {
    "duration": 0,
    "start_time": "2024-07-23T19:52:57.929Z"
   },
   {
    "duration": 0,
    "start_time": "2024-07-23T19:52:57.930Z"
   },
   {
    "duration": 0,
    "start_time": "2024-07-23T19:52:57.931Z"
   },
   {
    "duration": 0,
    "start_time": "2024-07-23T19:52:57.933Z"
   },
   {
    "duration": 0,
    "start_time": "2024-07-23T19:52:57.934Z"
   },
   {
    "duration": 0,
    "start_time": "2024-07-23T19:52:57.935Z"
   },
   {
    "duration": 0,
    "start_time": "2024-07-23T19:52:57.936Z"
   },
   {
    "duration": 0,
    "start_time": "2024-07-23T19:52:57.937Z"
   },
   {
    "duration": 0,
    "start_time": "2024-07-23T19:52:57.938Z"
   },
   {
    "duration": 0,
    "start_time": "2024-07-23T19:52:57.939Z"
   },
   {
    "duration": 0,
    "start_time": "2024-07-23T19:52:57.940Z"
   },
   {
    "duration": 0,
    "start_time": "2024-07-23T19:52:57.941Z"
   },
   {
    "duration": 0,
    "start_time": "2024-07-23T19:52:57.942Z"
   },
   {
    "duration": 0,
    "start_time": "2024-07-23T19:52:57.943Z"
   },
   {
    "duration": 0,
    "start_time": "2024-07-23T19:52:57.944Z"
   },
   {
    "duration": 0,
    "start_time": "2024-07-23T19:52:57.945Z"
   },
   {
    "duration": 0,
    "start_time": "2024-07-23T19:52:57.946Z"
   },
   {
    "duration": 17,
    "start_time": "2024-07-23T20:01:21.183Z"
   },
   {
    "duration": 31,
    "start_time": "2024-07-23T20:02:00.398Z"
   },
   {
    "duration": 29,
    "start_time": "2024-07-23T20:03:21.976Z"
   },
   {
    "duration": 8,
    "start_time": "2024-07-23T20:03:34.610Z"
   },
   {
    "duration": 39,
    "start_time": "2024-07-23T20:04:11.877Z"
   },
   {
    "duration": 8,
    "start_time": "2024-07-23T20:04:14.646Z"
   },
   {
    "duration": 8,
    "start_time": "2024-07-23T20:05:58.631Z"
   },
   {
    "duration": 8,
    "start_time": "2024-07-23T20:06:03.217Z"
   },
   {
    "duration": 8,
    "start_time": "2024-07-23T20:06:06.899Z"
   },
   {
    "duration": 32,
    "start_time": "2024-07-23T20:08:43.802Z"
   },
   {
    "duration": 5,
    "start_time": "2024-07-23T20:09:53.330Z"
   },
   {
    "duration": 20,
    "start_time": "2024-07-23T20:10:03.938Z"
   },
   {
    "duration": 31,
    "start_time": "2024-07-23T20:10:55.749Z"
   },
   {
    "duration": 22,
    "start_time": "2024-07-23T20:11:16.289Z"
   },
   {
    "duration": 381,
    "start_time": "2024-07-23T20:11:26.909Z"
   },
   {
    "duration": 24,
    "start_time": "2024-07-23T20:11:54.140Z"
   },
   {
    "duration": 380,
    "start_time": "2024-07-23T20:12:06.617Z"
   },
   {
    "duration": 657,
    "start_time": "2024-07-23T20:12:30.299Z"
   },
   {
    "duration": 8199,
    "start_time": "2024-07-23T20:17:26.544Z"
   },
   {
    "duration": 1915,
    "start_time": "2024-07-23T20:17:34.745Z"
   },
   {
    "duration": 1396,
    "start_time": "2024-07-23T20:17:36.662Z"
   },
   {
    "duration": 4,
    "start_time": "2024-07-23T20:17:38.061Z"
   },
   {
    "duration": 338,
    "start_time": "2024-07-23T20:17:38.066Z"
   },
   {
    "duration": 37,
    "start_time": "2024-07-23T20:17:38.406Z"
   },
   {
    "duration": 24,
    "start_time": "2024-07-23T20:17:38.445Z"
   },
   {
    "duration": 1737,
    "start_time": "2024-07-23T20:17:38.471Z"
   },
   {
    "duration": 18,
    "start_time": "2024-07-23T20:17:40.210Z"
   },
   {
    "duration": 29,
    "start_time": "2024-07-23T20:17:40.231Z"
   },
   {
    "duration": 47,
    "start_time": "2024-07-23T20:17:40.262Z"
   },
   {
    "duration": 2,
    "start_time": "2024-07-23T20:17:40.311Z"
   },
   {
    "duration": 28884,
    "start_time": "2024-07-23T20:17:40.314Z"
   },
   {
    "duration": 123,
    "start_time": "2024-07-23T20:18:09.199Z"
   },
   {
    "duration": 141,
    "start_time": "2024-07-23T20:18:09.324Z"
   },
   {
    "duration": 100,
    "start_time": "2024-07-23T20:18:09.467Z"
   },
   {
    "duration": 7,
    "start_time": "2024-07-23T20:18:09.569Z"
   },
   {
    "duration": 58,
    "start_time": "2024-07-23T20:18:09.577Z"
   },
   {
    "duration": 390,
    "start_time": "2024-07-23T20:18:09.637Z"
   },
   {
    "duration": 45,
    "start_time": "2024-07-23T20:18:10.029Z"
   },
   {
    "duration": 26,
    "start_time": "2024-07-23T20:18:10.076Z"
   },
   {
    "duration": 43,
    "start_time": "2024-07-23T20:18:10.104Z"
   },
   {
    "duration": 34,
    "start_time": "2024-07-23T20:18:10.149Z"
   },
   {
    "duration": 9,
    "start_time": "2024-07-23T20:18:10.186Z"
   },
   {
    "duration": 33,
    "start_time": "2024-07-23T20:18:10.197Z"
   },
   {
    "duration": 23,
    "start_time": "2024-07-23T20:18:10.232Z"
   },
   {
    "duration": 408,
    "start_time": "2024-07-23T20:18:10.256Z"
   },
   {
    "duration": 36,
    "start_time": "2024-07-23T20:18:10.668Z"
   },
   {
    "duration": 379,
    "start_time": "2024-07-23T20:18:10.706Z"
   },
   {
    "duration": 713,
    "start_time": "2024-07-23T20:18:11.087Z"
   },
   {
    "duration": 7994,
    "start_time": "2024-07-23T20:21:45.794Z"
   },
   {
    "duration": 1985,
    "start_time": "2024-07-23T20:21:53.791Z"
   },
   {
    "duration": 1375,
    "start_time": "2024-07-23T20:21:55.778Z"
   },
   {
    "duration": 5,
    "start_time": "2024-07-23T20:21:57.155Z"
   },
   {
    "duration": 354,
    "start_time": "2024-07-23T20:21:57.161Z"
   },
   {
    "duration": 38,
    "start_time": "2024-07-23T20:21:57.516Z"
   },
   {
    "duration": 41,
    "start_time": "2024-07-23T20:21:57.556Z"
   },
   {
    "duration": 1565,
    "start_time": "2024-07-23T20:21:57.599Z"
   },
   {
    "duration": 19,
    "start_time": "2024-07-23T20:21:59.165Z"
   },
   {
    "duration": 20,
    "start_time": "2024-07-23T20:21:59.197Z"
   },
   {
    "duration": 25,
    "start_time": "2024-07-23T20:21:59.219Z"
   },
   {
    "duration": 3,
    "start_time": "2024-07-23T20:21:59.246Z"
   },
   {
    "duration": 28617,
    "start_time": "2024-07-23T20:21:59.251Z"
   },
   {
    "duration": 111,
    "start_time": "2024-07-23T20:22:27.870Z"
   },
   {
    "duration": 134,
    "start_time": "2024-07-23T20:22:27.982Z"
   },
   {
    "duration": 89,
    "start_time": "2024-07-23T20:22:28.118Z"
   },
   {
    "duration": 7,
    "start_time": "2024-07-23T20:22:28.209Z"
   },
   {
    "duration": 45,
    "start_time": "2024-07-23T20:22:28.217Z"
   },
   {
    "duration": 365,
    "start_time": "2024-07-23T20:22:28.264Z"
   },
   {
    "duration": 34,
    "start_time": "2024-07-23T20:22:28.631Z"
   },
   {
    "duration": 31,
    "start_time": "2024-07-23T20:22:28.667Z"
   },
   {
    "duration": 9,
    "start_time": "2024-07-23T20:22:28.700Z"
   },
   {
    "duration": 31,
    "start_time": "2024-07-23T20:22:28.711Z"
   },
   {
    "duration": 9,
    "start_time": "2024-07-23T20:22:28.744Z"
   },
   {
    "duration": 65,
    "start_time": "2024-07-23T20:22:28.755Z"
   },
   {
    "duration": 22,
    "start_time": "2024-07-23T20:22:28.822Z"
   },
   {
    "duration": 398,
    "start_time": "2024-07-23T20:22:28.846Z"
   },
   {
    "duration": 25,
    "start_time": "2024-07-23T20:22:29.249Z"
   },
   {
    "duration": 378,
    "start_time": "2024-07-23T20:22:29.276Z"
   },
   {
    "duration": 743,
    "start_time": "2024-07-23T20:22:29.656Z"
   },
   {
    "duration": 7996,
    "start_time": "2024-07-23T20:22:30.401Z"
   },
   {
    "duration": 134,
    "start_time": "2024-07-23T20:22:38.398Z"
   },
   {
    "duration": 0,
    "start_time": "2024-07-23T20:22:38.534Z"
   },
   {
    "duration": 0,
    "start_time": "2024-07-23T20:22:38.536Z"
   },
   {
    "duration": 0,
    "start_time": "2024-07-23T20:22:38.537Z"
   },
   {
    "duration": 0,
    "start_time": "2024-07-23T20:22:38.538Z"
   },
   {
    "duration": 0,
    "start_time": "2024-07-23T20:22:38.539Z"
   },
   {
    "duration": 0,
    "start_time": "2024-07-23T20:22:38.540Z"
   },
   {
    "duration": 0,
    "start_time": "2024-07-23T20:22:38.542Z"
   },
   {
    "duration": 0,
    "start_time": "2024-07-23T20:22:38.543Z"
   },
   {
    "duration": 0,
    "start_time": "2024-07-23T20:22:38.544Z"
   },
   {
    "duration": 0,
    "start_time": "2024-07-23T20:22:38.545Z"
   },
   {
    "duration": 0,
    "start_time": "2024-07-23T20:22:38.547Z"
   },
   {
    "duration": 0,
    "start_time": "2024-07-23T20:22:38.548Z"
   },
   {
    "duration": 0,
    "start_time": "2024-07-23T20:22:38.549Z"
   },
   {
    "duration": 0,
    "start_time": "2024-07-23T20:22:38.550Z"
   },
   {
    "duration": 0,
    "start_time": "2024-07-23T20:22:38.551Z"
   },
   {
    "duration": 0,
    "start_time": "2024-07-23T20:22:38.551Z"
   },
   {
    "duration": 0,
    "start_time": "2024-07-23T20:22:38.552Z"
   },
   {
    "duration": 23,
    "start_time": "2024-07-23T20:25:26.769Z"
   },
   {
    "duration": 18,
    "start_time": "2024-07-23T20:26:02.087Z"
   },
   {
    "duration": 6,
    "start_time": "2024-07-23T20:26:06.888Z"
   },
   {
    "duration": 3,
    "start_time": "2024-07-23T20:27:12.383Z"
   },
   {
    "duration": 108,
    "start_time": "2024-07-23T20:27:18.951Z"
   },
   {
    "duration": 4,
    "start_time": "2024-07-23T20:27:26.679Z"
   },
   {
    "duration": 3,
    "start_time": "2024-07-23T20:29:39.468Z"
   },
   {
    "duration": 14350,
    "start_time": "2024-07-23T20:29:42.064Z"
   },
   {
    "duration": 14306,
    "start_time": "2024-07-23T20:30:39.008Z"
   },
   {
    "duration": 14298,
    "start_time": "2024-07-23T20:31:43.913Z"
   },
   {
    "duration": 14457,
    "start_time": "2024-07-23T20:32:14.253Z"
   },
   {
    "duration": 133,
    "start_time": "2024-07-23T20:33:13.680Z"
   },
   {
    "duration": 4,
    "start_time": "2024-07-23T20:33:36.047Z"
   },
   {
    "duration": 86,
    "start_time": "2024-07-23T20:34:00.283Z"
   },
   {
    "duration": 8,
    "start_time": "2024-07-23T20:34:05.300Z"
   },
   {
    "duration": 3,
    "start_time": "2024-07-23T20:34:05.979Z"
   },
   {
    "duration": 26197,
    "start_time": "2024-07-23T20:34:06.689Z"
   },
   {
    "duration": 96,
    "start_time": "2024-07-23T20:35:48.252Z"
   },
   {
    "duration": 9,
    "start_time": "2024-07-23T20:50:39.121Z"
   },
   {
    "duration": 141,
    "start_time": "2024-07-23T20:51:35.545Z"
   },
   {
    "duration": 133,
    "start_time": "2024-07-23T20:51:50.623Z"
   },
   {
    "duration": 141,
    "start_time": "2024-07-23T20:51:54.615Z"
   },
   {
    "duration": 170,
    "start_time": "2024-07-23T20:52:38.840Z"
   },
   {
    "duration": 191,
    "start_time": "2024-07-23T20:52:47.622Z"
   },
   {
    "duration": 279,
    "start_time": "2024-07-23T20:53:15.291Z"
   },
   {
    "duration": 226,
    "start_time": "2024-07-23T20:53:24.971Z"
   },
   {
    "duration": 207,
    "start_time": "2024-07-23T20:53:48.761Z"
   },
   {
    "duration": 216,
    "start_time": "2024-07-23T20:53:53.971Z"
   },
   {
    "duration": 11,
    "start_time": "2024-07-23T20:58:34.125Z"
   },
   {
    "duration": 12,
    "start_time": "2024-07-23T20:59:25.674Z"
   },
   {
    "duration": 38,
    "start_time": "2024-07-23T21:10:23.706Z"
   },
   {
    "duration": 298,
    "start_time": "2024-07-23T21:11:23.601Z"
   },
   {
    "duration": 307,
    "start_time": "2024-07-23T21:11:30.114Z"
   },
   {
    "duration": 295,
    "start_time": "2024-07-23T21:11:48.240Z"
   },
   {
    "duration": 3,
    "start_time": "2024-07-23T21:16:17.079Z"
   },
   {
    "duration": 2,
    "start_time": "2024-07-23T21:16:42.579Z"
   },
   {
    "duration": 2,
    "start_time": "2024-07-23T21:18:03.217Z"
   },
   {
    "duration": 75,
    "start_time": "2024-07-23T21:18:05.718Z"
   },
   {
    "duration": 330,
    "start_time": "2024-07-23T21:18:24.488Z"
   },
   {
    "duration": 4,
    "start_time": "2024-07-23T21:19:34.486Z"
   },
   {
    "duration": 3,
    "start_time": "2024-07-23T21:19:52.305Z"
   },
   {
    "duration": 15,
    "start_time": "2024-07-23T21:24:58.000Z"
   },
   {
    "duration": 17,
    "start_time": "2024-07-23T21:25:03.260Z"
   },
   {
    "duration": 18,
    "start_time": "2024-07-23T21:25:10.218Z"
   },
   {
    "duration": 13,
    "start_time": "2024-07-23T21:25:17.420Z"
   },
   {
    "duration": 9,
    "start_time": "2024-07-23T21:25:29.020Z"
   },
   {
    "duration": 9,
    "start_time": "2024-07-23T21:25:34.683Z"
   },
   {
    "duration": 8,
    "start_time": "2024-07-23T21:25:43.972Z"
   },
   {
    "duration": 12,
    "start_time": "2024-07-23T21:25:51.623Z"
   },
   {
    "duration": 11,
    "start_time": "2024-07-23T21:29:51.109Z"
   },
   {
    "duration": 3,
    "start_time": "2024-07-23T21:30:25.461Z"
   },
   {
    "duration": 5,
    "start_time": "2024-07-23T21:30:32.149Z"
   },
   {
    "duration": 3,
    "start_time": "2024-07-23T21:30:40.271Z"
   },
   {
    "duration": 67,
    "start_time": "2024-07-23T21:30:40.710Z"
   },
   {
    "duration": 10,
    "start_time": "2024-07-23T21:33:10.917Z"
   },
   {
    "duration": 3,
    "start_time": "2024-07-23T21:35:45.732Z"
   },
   {
    "duration": 4,
    "start_time": "2024-07-23T21:35:55.703Z"
   },
   {
    "duration": 9,
    "start_time": "2024-07-23T21:36:31.248Z"
   },
   {
    "duration": 10,
    "start_time": "2024-07-23T21:36:54.159Z"
   },
   {
    "duration": 4,
    "start_time": "2024-07-23T21:37:07.558Z"
   },
   {
    "duration": 3,
    "start_time": "2024-07-23T21:37:36.472Z"
   },
   {
    "duration": 4,
    "start_time": "2024-07-23T21:37:47.904Z"
   },
   {
    "duration": 3,
    "start_time": "2024-07-23T21:38:09.878Z"
   },
   {
    "duration": 62,
    "start_time": "2024-07-23T21:38:10.338Z"
   },
   {
    "duration": 136545,
    "start_time": "2024-07-23T21:40:17.753Z"
   },
   {
    "duration": 56,
    "start_time": "2024-07-23T21:44:56.900Z"
   },
   {
    "duration": 268,
    "start_time": "2024-07-23T21:45:17.851Z"
   },
   {
    "duration": 14,
    "start_time": "2024-07-23T21:45:38.062Z"
   },
   {
    "duration": 8,
    "start_time": "2024-07-23T21:45:53.653Z"
   },
   {
    "duration": 4,
    "start_time": "2024-07-23T21:46:31.580Z"
   },
   {
    "duration": 3,
    "start_time": "2024-07-23T21:46:37.095Z"
   },
   {
    "duration": 2647,
    "start_time": "2024-07-23T21:46:38.116Z"
   },
   {
    "duration": 58,
    "start_time": "2024-07-23T21:47:34.259Z"
   },
   {
    "duration": 57,
    "start_time": "2024-07-23T21:47:59.958Z"
   },
   {
    "duration": 67,
    "start_time": "2024-07-23T21:50:07.646Z"
   },
   {
    "duration": 13866,
    "start_time": "2024-07-23T21:51:48.374Z"
   },
   {
    "duration": 26,
    "start_time": "2024-07-23T21:55:14.674Z"
   },
   {
    "duration": 31,
    "start_time": "2024-07-23T21:56:06.912Z"
   },
   {
    "duration": 113,
    "start_time": "2024-07-23T21:56:38.092Z"
   },
   {
    "duration": 8,
    "start_time": "2024-07-23T21:57:18.923Z"
   },
   {
    "duration": 8,
    "start_time": "2024-07-23T21:57:23.674Z"
   },
   {
    "duration": 11,
    "start_time": "2024-07-23T21:57:54.514Z"
   },
   {
    "duration": 32,
    "start_time": "2024-07-23T21:59:13.235Z"
   },
   {
    "duration": 25,
    "start_time": "2024-07-23T21:59:39.247Z"
   },
   {
    "duration": 3,
    "start_time": "2024-07-23T22:01:18.262Z"
   },
   {
    "duration": 217374,
    "start_time": "2024-07-23T22:01:18.828Z"
   },
   {
    "duration": 305,
    "start_time": "2024-07-23T22:04:56.203Z"
   },
   {
    "duration": 402,
    "start_time": "2024-07-23T22:04:56.509Z"
   },
   {
    "duration": 2,
    "start_time": "2024-07-23T22:08:01.497Z"
   },
   {
    "duration": 2,
    "start_time": "2024-07-23T22:08:01.979Z"
   },
   {
    "duration": 3,
    "start_time": "2024-07-23T22:08:03.820Z"
   },
   {
    "duration": 146544,
    "start_time": "2024-07-23T22:08:06.960Z"
   },
   {
    "duration": 395,
    "start_time": "2024-07-23T22:10:33.505Z"
   },
   {
    "duration": 12,
    "start_time": "2024-07-23T22:10:33.902Z"
   },
   {
    "duration": 2,
    "start_time": "2024-07-23T22:10:33.916Z"
   },
   {
    "duration": 2656,
    "start_time": "2024-07-23T22:10:33.920Z"
   },
   {
    "duration": 55,
    "start_time": "2024-07-23T22:10:36.578Z"
   },
   {
    "duration": 9,
    "start_time": "2024-07-23T22:12:34.171Z"
   },
   {
    "duration": 9,
    "start_time": "2024-07-23T22:12:41.547Z"
   },
   {
    "duration": 32,
    "start_time": "2024-07-23T22:30:33.613Z"
   },
   {
    "duration": 7,
    "start_time": "2024-07-23T22:37:56.343Z"
   },
   {
    "duration": 8,
    "start_time": "2024-07-23T22:38:16.605Z"
   },
   {
    "duration": 8,
    "start_time": "2024-07-23T22:43:13.674Z"
   },
   {
    "duration": 11,
    "start_time": "2024-07-23T22:48:15.605Z"
   },
   {
    "duration": 12,
    "start_time": "2024-07-23T22:48:27.084Z"
   },
   {
    "duration": 3,
    "start_time": "2024-07-23T22:48:27.669Z"
   },
   {
    "duration": 2,
    "start_time": "2024-07-23T22:48:28.404Z"
   },
   {
    "duration": 2190,
    "start_time": "2024-07-23T22:48:30.310Z"
   },
   {
    "duration": 1543,
    "start_time": "2024-07-23T22:49:03.946Z"
   },
   {
    "duration": 1546,
    "start_time": "2024-07-23T22:49:36.765Z"
   },
   {
    "duration": 7,
    "start_time": "2024-07-23T22:50:42.550Z"
   },
   {
    "duration": 2650,
    "start_time": "2024-07-23T22:51:13.445Z"
   },
   {
    "duration": 2582,
    "start_time": "2024-07-23T22:51:48.550Z"
   },
   {
    "duration": 33,
    "start_time": "2024-07-23T22:52:22.558Z"
   },
   {
    "duration": 33,
    "start_time": "2024-07-23T22:53:54.365Z"
   },
   {
    "duration": 15,
    "start_time": "2024-07-23T22:54:03.423Z"
   },
   {
    "duration": 32,
    "start_time": "2024-07-23T22:54:26.634Z"
   },
   {
    "duration": 32,
    "start_time": "2024-07-23T22:55:21.723Z"
   },
   {
    "duration": 54,
    "start_time": "2024-07-23T22:55:28.803Z"
   },
   {
    "duration": 8,
    "start_time": "2024-07-23T22:56:34.754Z"
   },
   {
    "duration": 7,
    "start_time": "2024-07-23T22:58:11.848Z"
   },
   {
    "duration": 8,
    "start_time": "2024-07-23T23:00:22.313Z"
   },
   {
    "duration": 47,
    "start_time": "2024-07-23T23:00:30.695Z"
   },
   {
    "duration": 12,
    "start_time": "2024-07-23T23:00:40.363Z"
   },
   {
    "duration": 9,
    "start_time": "2024-07-23T23:00:57.004Z"
   },
   {
    "duration": 169,
    "start_time": "2024-07-23T23:01:05.406Z"
   },
   {
    "duration": 163,
    "start_time": "2024-07-23T23:01:22.094Z"
   },
   {
    "duration": 146,
    "start_time": "2024-07-23T23:01:29.364Z"
   },
   {
    "duration": 153,
    "start_time": "2024-07-23T23:02:03.665Z"
   },
   {
    "duration": 234,
    "start_time": "2024-07-23T23:02:22.384Z"
   },
   {
    "duration": 140,
    "start_time": "2024-07-23T23:04:08.920Z"
   },
   {
    "duration": 142,
    "start_time": "2024-07-23T23:04:43.204Z"
   },
   {
    "duration": 149,
    "start_time": "2024-07-23T23:04:50.384Z"
   },
   {
    "duration": 140,
    "start_time": "2024-07-23T23:04:59.585Z"
   },
   {
    "duration": 144,
    "start_time": "2024-07-23T23:05:56.103Z"
   },
   {
    "duration": 146,
    "start_time": "2024-07-23T23:06:05.540Z"
   },
   {
    "duration": 159,
    "start_time": "2024-07-23T23:06:12.085Z"
   },
   {
    "duration": 150,
    "start_time": "2024-07-23T23:06:37.564Z"
   },
   {
    "duration": 147,
    "start_time": "2024-07-23T23:06:42.712Z"
   },
   {
    "duration": 143,
    "start_time": "2024-07-23T23:07:29.644Z"
   },
   {
    "duration": 280,
    "start_time": "2024-07-23T23:07:35.295Z"
   },
   {
    "duration": 148,
    "start_time": "2024-07-23T23:07:39.504Z"
   },
   {
    "duration": 7305,
    "start_time": "2024-07-23T23:20:33.938Z"
   },
   {
    "duration": 1190,
    "start_time": "2024-07-23T23:20:41.245Z"
   },
   {
    "duration": 913,
    "start_time": "2024-07-23T23:20:42.437Z"
   },
   {
    "duration": 3,
    "start_time": "2024-07-23T23:20:43.352Z"
   },
   {
    "duration": 302,
    "start_time": "2024-07-23T23:20:43.356Z"
   },
   {
    "duration": 37,
    "start_time": "2024-07-23T23:20:43.659Z"
   },
   {
    "duration": 21,
    "start_time": "2024-07-23T23:20:43.698Z"
   },
   {
    "duration": 1388,
    "start_time": "2024-07-23T23:20:43.720Z"
   },
   {
    "duration": 16,
    "start_time": "2024-07-23T23:20:45.109Z"
   },
   {
    "duration": 25,
    "start_time": "2024-07-23T23:20:45.128Z"
   },
   {
    "duration": 20,
    "start_time": "2024-07-23T23:20:45.154Z"
   },
   {
    "duration": 16,
    "start_time": "2024-07-23T23:20:45.175Z"
   },
   {
    "duration": 25020,
    "start_time": "2024-07-23T23:20:45.192Z"
   },
   {
    "duration": 99,
    "start_time": "2024-07-23T23:21:10.213Z"
   },
   {
    "duration": 120,
    "start_time": "2024-07-23T23:21:10.314Z"
   },
   {
    "duration": 74,
    "start_time": "2024-07-23T23:21:10.435Z"
   },
   {
    "duration": 6,
    "start_time": "2024-07-23T23:21:10.511Z"
   },
   {
    "duration": 40,
    "start_time": "2024-07-23T23:21:10.518Z"
   },
   {
    "duration": 307,
    "start_time": "2024-07-23T23:21:10.559Z"
   },
   {
    "duration": 38,
    "start_time": "2024-07-23T23:21:10.867Z"
   },
   {
    "duration": 6,
    "start_time": "2024-07-23T23:21:10.906Z"
   },
   {
    "duration": 13,
    "start_time": "2024-07-23T23:21:10.914Z"
   },
   {
    "duration": 26,
    "start_time": "2024-07-23T23:21:10.929Z"
   },
   {
    "duration": 8,
    "start_time": "2024-07-23T23:21:10.957Z"
   },
   {
    "duration": 56,
    "start_time": "2024-07-23T23:21:10.966Z"
   },
   {
    "duration": 20,
    "start_time": "2024-07-23T23:21:11.024Z"
   },
   {
    "duration": 317,
    "start_time": "2024-07-23T23:21:11.046Z"
   },
   {
    "duration": 30,
    "start_time": "2024-07-23T23:21:11.367Z"
   },
   {
    "duration": 309,
    "start_time": "2024-07-23T23:21:11.398Z"
   },
   {
    "duration": 587,
    "start_time": "2024-07-23T23:21:11.709Z"
   },
   {
    "duration": 6752,
    "start_time": "2024-07-23T23:21:12.297Z"
   },
   {
    "duration": 12,
    "start_time": "2024-07-23T23:21:19.050Z"
   },
   {
    "duration": 26,
    "start_time": "2024-07-23T23:21:19.063Z"
   },
   {
    "duration": 5,
    "start_time": "2024-07-23T23:21:19.090Z"
   },
   {
    "duration": 7,
    "start_time": "2024-07-23T23:21:19.097Z"
   },
   {
    "duration": 99,
    "start_time": "2024-07-23T23:21:19.105Z"
   },
   {
    "duration": 3,
    "start_time": "2024-07-23T23:21:19.205Z"
   },
   {
    "duration": 4,
    "start_time": "2024-07-23T23:21:19.209Z"
   },
   {
    "duration": 12852,
    "start_time": "2024-07-23T23:21:19.214Z"
   },
   {
    "duration": 148,
    "start_time": "2024-07-23T23:21:32.097Z"
   },
   {
    "duration": 51,
    "start_time": "2024-07-23T23:21:32.247Z"
   },
   {
    "duration": 4,
    "start_time": "2024-07-23T23:21:32.300Z"
   },
   {
    "duration": 23684,
    "start_time": "2024-07-23T23:21:32.306Z"
   },
   {
    "duration": 88,
    "start_time": "2024-07-23T23:21:55.991Z"
   },
   {
    "duration": 312,
    "start_time": "2024-07-23T23:21:56.081Z"
   },
   {
    "duration": 2,
    "start_time": "2024-07-23T23:21:56.396Z"
   },
   {
    "duration": 4,
    "start_time": "2024-07-23T23:21:56.400Z"
   },
   {
    "duration": 3,
    "start_time": "2024-07-23T23:21:56.405Z"
   },
   {
    "duration": 220404,
    "start_time": "2024-07-23T23:21:56.409Z"
   },
   {
    "duration": 291,
    "start_time": "2024-07-23T23:25:36.815Z"
   },
   {
    "duration": 89,
    "start_time": "2024-07-23T23:25:37.108Z"
   },
   {
    "duration": 3,
    "start_time": "2024-07-23T23:25:37.198Z"
   },
   {
    "duration": 2687,
    "start_time": "2024-07-23T23:25:37.202Z"
   },
   {
    "duration": 2668,
    "start_time": "2024-07-23T23:25:39.890Z"
   },
   {
    "duration": 56,
    "start_time": "2024-07-23T23:25:42.560Z"
   },
   {
    "duration": 34,
    "start_time": "2024-07-23T23:25:42.617Z"
   },
   {
    "duration": 65,
    "start_time": "2024-07-23T23:25:42.652Z"
   },
   {
    "duration": 7,
    "start_time": "2024-07-23T23:25:42.718Z"
   },
   {
    "duration": 162,
    "start_time": "2024-07-23T23:25:42.727Z"
   },
   {
    "duration": 7079,
    "start_time": "2024-07-23T23:29:55.803Z"
   },
   {
    "duration": 5,
    "start_time": "2024-07-23T23:30:02.884Z"
   },
   {
    "duration": 871,
    "start_time": "2024-07-23T23:30:02.891Z"
   },
   {
    "duration": 4,
    "start_time": "2024-07-23T23:30:03.764Z"
   },
   {
    "duration": 299,
    "start_time": "2024-07-23T23:30:03.769Z"
   },
   {
    "duration": 26,
    "start_time": "2024-07-23T23:30:04.070Z"
   },
   {
    "duration": 20,
    "start_time": "2024-07-23T23:30:04.097Z"
   },
   {
    "duration": 1387,
    "start_time": "2024-07-23T23:30:04.119Z"
   },
   {
    "duration": 16,
    "start_time": "2024-07-23T23:30:05.509Z"
   },
   {
    "duration": 23,
    "start_time": "2024-07-23T23:30:05.526Z"
   },
   {
    "duration": 27,
    "start_time": "2024-07-23T23:30:05.550Z"
   },
   {
    "duration": 2,
    "start_time": "2024-07-23T23:30:05.579Z"
   },
   {
    "duration": 24957,
    "start_time": "2024-07-23T23:30:05.582Z"
   },
   {
    "duration": 98,
    "start_time": "2024-07-23T23:30:30.540Z"
   },
   {
    "duration": 113,
    "start_time": "2024-07-23T23:30:30.639Z"
   },
   {
    "duration": 76,
    "start_time": "2024-07-23T23:30:30.753Z"
   },
   {
    "duration": 17,
    "start_time": "2024-07-23T23:30:30.830Z"
   },
   {
    "duration": 94,
    "start_time": "2024-07-23T23:30:30.848Z"
   },
   {
    "duration": 440,
    "start_time": "2024-07-23T23:30:30.944Z"
   },
   {
    "duration": 37,
    "start_time": "2024-07-23T23:30:31.385Z"
   },
   {
    "duration": 76,
    "start_time": "2024-07-23T23:30:31.423Z"
   },
   {
    "duration": 21,
    "start_time": "2024-07-23T23:30:31.500Z"
   },
   {
    "duration": 43,
    "start_time": "2024-07-23T23:30:31.522Z"
   },
   {
    "duration": 50,
    "start_time": "2024-07-23T23:30:31.566Z"
   },
   {
    "duration": 35,
    "start_time": "2024-07-23T23:30:31.617Z"
   },
   {
    "duration": 19,
    "start_time": "2024-07-23T23:30:31.654Z"
   },
   {
    "duration": 238,
    "start_time": "2024-07-23T23:30:31.676Z"
   },
   {
    "duration": 20,
    "start_time": "2024-07-23T23:30:31.916Z"
   },
   {
    "duration": 402,
    "start_time": "2024-07-23T23:30:31.937Z"
   },
   {
    "duration": 581,
    "start_time": "2024-07-23T23:30:32.341Z"
   },
   {
    "duration": 6755,
    "start_time": "2024-07-23T23:30:32.923Z"
   },
   {
    "duration": 18,
    "start_time": "2024-07-23T23:30:39.679Z"
   },
   {
    "duration": 20,
    "start_time": "2024-07-23T23:30:39.698Z"
   },
   {
    "duration": 5,
    "start_time": "2024-07-23T23:30:39.720Z"
   },
   {
    "duration": 4,
    "start_time": "2024-07-23T23:30:39.726Z"
   },
   {
    "duration": 114,
    "start_time": "2024-07-23T23:30:39.731Z"
   },
   {
    "duration": 3,
    "start_time": "2024-07-23T23:30:39.846Z"
   },
   {
    "duration": 6,
    "start_time": "2024-07-23T23:30:39.850Z"
   },
   {
    "duration": 12703,
    "start_time": "2024-07-23T23:30:39.857Z"
   },
   {
    "duration": 183,
    "start_time": "2024-07-23T23:30:52.561Z"
   },
   {
    "duration": 55,
    "start_time": "2024-07-23T23:30:52.745Z"
   },
   {
    "duration": 97,
    "start_time": "2024-07-23T23:30:52.804Z"
   },
   {
    "duration": 23994,
    "start_time": "2024-07-23T23:30:52.903Z"
   },
   {
    "duration": 85,
    "start_time": "2024-07-23T23:31:16.899Z"
   },
   {
    "duration": 311,
    "start_time": "2024-07-23T23:31:16.985Z"
   },
   {
    "duration": 2,
    "start_time": "2024-07-23T23:31:17.297Z"
   },
   {
    "duration": 14,
    "start_time": "2024-07-23T23:31:17.301Z"
   },
   {
    "duration": 13,
    "start_time": "2024-07-23T23:31:17.316Z"
   },
   {
    "duration": 137766,
    "start_time": "2024-07-23T23:31:17.330Z"
   },
   {
    "duration": 310,
    "start_time": "2024-07-23T23:33:35.098Z"
   },
   {
    "duration": 13,
    "start_time": "2024-07-23T23:33:35.409Z"
   },
   {
    "duration": 47,
    "start_time": "2024-07-23T23:33:35.424Z"
   },
   {
    "duration": 2649,
    "start_time": "2024-07-23T23:33:35.473Z"
   },
   {
    "duration": 2576,
    "start_time": "2024-07-23T23:33:38.124Z"
   },
   {
    "duration": 57,
    "start_time": "2024-07-23T23:33:40.701Z"
   },
   {
    "duration": 38,
    "start_time": "2024-07-23T23:33:40.759Z"
   },
   {
    "duration": 84,
    "start_time": "2024-07-23T23:33:40.798Z"
   },
   {
    "duration": 8,
    "start_time": "2024-07-23T23:33:40.883Z"
   },
   {
    "duration": 152,
    "start_time": "2024-07-23T23:33:40.892Z"
   },
   {
    "duration": 15191,
    "start_time": "2024-07-24T19:36:28.487Z"
   },
   {
    "duration": 1553,
    "start_time": "2024-07-24T19:36:43.680Z"
   },
   {
    "duration": 1327,
    "start_time": "2024-07-24T19:36:45.234Z"
   },
   {
    "duration": 4,
    "start_time": "2024-07-24T19:36:46.563Z"
   },
   {
    "duration": 322,
    "start_time": "2024-07-24T19:36:46.569Z"
   },
   {
    "duration": 44,
    "start_time": "2024-07-24T19:36:46.893Z"
   },
   {
    "duration": 24,
    "start_time": "2024-07-24T19:36:46.938Z"
   },
   {
    "duration": 1643,
    "start_time": "2024-07-24T19:36:46.964Z"
   },
   {
    "duration": 19,
    "start_time": "2024-07-24T19:36:48.609Z"
   },
   {
    "duration": 26,
    "start_time": "2024-07-24T19:36:48.631Z"
   },
   {
    "duration": 27,
    "start_time": "2024-07-24T19:36:48.658Z"
   },
   {
    "duration": 4,
    "start_time": "2024-07-24T19:36:48.687Z"
   },
   {
    "duration": 29244,
    "start_time": "2024-07-24T19:36:48.693Z"
   },
   {
    "duration": 108,
    "start_time": "2024-07-24T19:37:17.939Z"
   },
   {
    "duration": 141,
    "start_time": "2024-07-24T19:37:18.049Z"
   },
   {
    "duration": 80,
    "start_time": "2024-07-24T19:37:18.191Z"
   },
   {
    "duration": 7,
    "start_time": "2024-07-24T19:37:18.272Z"
   },
   {
    "duration": 57,
    "start_time": "2024-07-24T19:37:18.281Z"
   },
   {
    "duration": 356,
    "start_time": "2024-07-24T19:37:18.340Z"
   },
   {
    "duration": 37,
    "start_time": "2024-07-24T19:37:18.697Z"
   },
   {
    "duration": 6,
    "start_time": "2024-07-24T19:37:18.735Z"
   },
   {
    "duration": 9,
    "start_time": "2024-07-24T19:37:18.742Z"
   },
   {
    "duration": 56,
    "start_time": "2024-07-24T19:37:18.752Z"
   },
   {
    "duration": 8,
    "start_time": "2024-07-24T19:37:18.809Z"
   },
   {
    "duration": 28,
    "start_time": "2024-07-24T19:37:18.818Z"
   },
   {
    "duration": 38,
    "start_time": "2024-07-24T19:37:18.848Z"
   },
   {
    "duration": 373,
    "start_time": "2024-07-24T19:37:18.888Z"
   },
   {
    "duration": 24,
    "start_time": "2024-07-24T19:37:19.268Z"
   },
   {
    "duration": 371,
    "start_time": "2024-07-24T19:37:19.294Z"
   },
   {
    "duration": 698,
    "start_time": "2024-07-24T19:37:19.667Z"
   },
   {
    "duration": 7933,
    "start_time": "2024-07-24T19:37:20.367Z"
   },
   {
    "duration": 14,
    "start_time": "2024-07-24T19:37:28.302Z"
   },
   {
    "duration": 33,
    "start_time": "2024-07-24T19:37:28.318Z"
   },
   {
    "duration": 7,
    "start_time": "2024-07-24T19:37:28.353Z"
   },
   {
    "duration": 9,
    "start_time": "2024-07-24T19:37:28.361Z"
   },
   {
    "duration": 128,
    "start_time": "2024-07-24T19:37:28.371Z"
   },
   {
    "duration": 7,
    "start_time": "2024-07-24T19:37:28.501Z"
   },
   {
    "duration": 8,
    "start_time": "2024-07-24T19:37:28.509Z"
   },
   {
    "duration": 14627,
    "start_time": "2024-07-24T19:37:28.518Z"
   },
   {
    "duration": 262,
    "start_time": "2024-07-24T19:37:43.147Z"
   },
   {
    "duration": 91,
    "start_time": "2024-07-24T19:37:43.417Z"
   },
   {
    "duration": 3,
    "start_time": "2024-07-24T19:37:43.510Z"
   },
   {
    "duration": 27770,
    "start_time": "2024-07-24T19:37:43.515Z"
   },
   {
    "duration": 107,
    "start_time": "2024-07-24T19:38:11.286Z"
   },
   {
    "duration": 339,
    "start_time": "2024-07-24T19:38:11.395Z"
   },
   {
    "duration": 2,
    "start_time": "2024-07-24T19:38:11.736Z"
   },
   {
    "duration": 6,
    "start_time": "2024-07-24T19:38:11.739Z"
   },
   {
    "duration": 5,
    "start_time": "2024-07-24T19:38:11.746Z"
   },
   {
    "duration": 165665,
    "start_time": "2024-07-24T19:38:11.752Z"
   },
   {
    "duration": 489,
    "start_time": "2024-07-24T19:40:57.419Z"
   },
   {
    "duration": 14,
    "start_time": "2024-07-24T19:40:57.910Z"
   },
   {
    "duration": 8,
    "start_time": "2024-07-24T19:40:57.925Z"
   },
   {
    "duration": 3263,
    "start_time": "2024-07-24T19:40:57.935Z"
   },
   {
    "duration": 73,
    "start_time": "2024-07-24T19:41:01.200Z"
   },
   {
    "duration": 69,
    "start_time": "2024-07-24T19:41:01.275Z"
   },
   {
    "duration": 121,
    "start_time": "2024-07-24T19:41:01.346Z"
   },
   {
    "duration": 19,
    "start_time": "2024-07-24T19:41:01.468Z"
   },
   {
    "duration": 231,
    "start_time": "2024-07-24T19:41:01.488Z"
   },
   {
    "duration": 5920,
    "start_time": "2025-06-15T20:39:46.996Z"
   },
   {
    "duration": 1519,
    "start_time": "2025-06-15T20:39:52.919Z"
   },
   {
    "duration": 0,
    "start_time": "2025-06-15T20:39:54.441Z"
   },
   {
    "duration": 0,
    "start_time": "2025-06-15T20:39:54.443Z"
   },
   {
    "duration": 0,
    "start_time": "2025-06-15T20:39:54.444Z"
   },
   {
    "duration": 0,
    "start_time": "2025-06-15T20:39:54.445Z"
   },
   {
    "duration": 0,
    "start_time": "2025-06-15T20:39:54.446Z"
   },
   {
    "duration": 0,
    "start_time": "2025-06-15T20:39:54.458Z"
   },
   {
    "duration": 0,
    "start_time": "2025-06-15T20:39:54.459Z"
   },
   {
    "duration": 0,
    "start_time": "2025-06-15T20:39:54.460Z"
   },
   {
    "duration": 0,
    "start_time": "2025-06-15T20:39:54.461Z"
   },
   {
    "duration": 0,
    "start_time": "2025-06-15T20:39:54.462Z"
   },
   {
    "duration": 0,
    "start_time": "2025-06-15T20:39:54.464Z"
   },
   {
    "duration": 0,
    "start_time": "2025-06-15T20:39:54.465Z"
   },
   {
    "duration": 0,
    "start_time": "2025-06-15T20:39:54.466Z"
   },
   {
    "duration": 0,
    "start_time": "2025-06-15T20:39:54.467Z"
   },
   {
    "duration": 0,
    "start_time": "2025-06-15T20:39:54.468Z"
   },
   {
    "duration": 0,
    "start_time": "2025-06-15T20:39:54.469Z"
   },
   {
    "duration": 0,
    "start_time": "2025-06-15T20:39:54.470Z"
   },
   {
    "duration": 0,
    "start_time": "2025-06-15T20:39:54.471Z"
   },
   {
    "duration": 0,
    "start_time": "2025-06-15T20:39:54.472Z"
   },
   {
    "duration": 0,
    "start_time": "2025-06-15T20:39:54.473Z"
   },
   {
    "duration": 0,
    "start_time": "2025-06-15T20:39:54.474Z"
   },
   {
    "duration": 0,
    "start_time": "2025-06-15T20:39:54.475Z"
   },
   {
    "duration": 0,
    "start_time": "2025-06-15T20:39:54.476Z"
   },
   {
    "duration": 0,
    "start_time": "2025-06-15T20:39:54.477Z"
   },
   {
    "duration": 0,
    "start_time": "2025-06-15T20:39:54.478Z"
   },
   {
    "duration": 0,
    "start_time": "2025-06-15T20:39:54.480Z"
   },
   {
    "duration": 0,
    "start_time": "2025-06-15T20:39:54.480Z"
   },
   {
    "duration": 0,
    "start_time": "2025-06-15T20:39:54.481Z"
   },
   {
    "duration": 1,
    "start_time": "2025-06-15T20:39:54.482Z"
   },
   {
    "duration": 0,
    "start_time": "2025-06-15T20:39:54.484Z"
   },
   {
    "duration": 0,
    "start_time": "2025-06-15T20:39:54.485Z"
   },
   {
    "duration": 0,
    "start_time": "2025-06-15T20:39:54.486Z"
   },
   {
    "duration": 0,
    "start_time": "2025-06-15T20:39:54.487Z"
   },
   {
    "duration": 0,
    "start_time": "2025-06-15T20:39:54.488Z"
   },
   {
    "duration": 0,
    "start_time": "2025-06-15T20:39:54.489Z"
   },
   {
    "duration": 0,
    "start_time": "2025-06-15T20:39:54.490Z"
   },
   {
    "duration": 0,
    "start_time": "2025-06-15T20:39:54.491Z"
   },
   {
    "duration": 0,
    "start_time": "2025-06-15T20:39:54.492Z"
   },
   {
    "duration": 0,
    "start_time": "2025-06-15T20:39:54.493Z"
   },
   {
    "duration": 0,
    "start_time": "2025-06-15T20:39:54.558Z"
   },
   {
    "duration": 0,
    "start_time": "2025-06-15T20:39:54.560Z"
   },
   {
    "duration": 0,
    "start_time": "2025-06-15T20:39:54.561Z"
   },
   {
    "duration": 0,
    "start_time": "2025-06-15T20:39:54.563Z"
   },
   {
    "duration": 0,
    "start_time": "2025-06-15T20:39:54.564Z"
   },
   {
    "duration": 0,
    "start_time": "2025-06-15T20:39:54.565Z"
   },
   {
    "duration": 0,
    "start_time": "2025-06-15T20:39:54.566Z"
   },
   {
    "duration": 0,
    "start_time": "2025-06-15T20:39:54.567Z"
   },
   {
    "duration": 0,
    "start_time": "2025-06-15T20:39:54.568Z"
   },
   {
    "duration": 0,
    "start_time": "2025-06-15T20:39:54.569Z"
   },
   {
    "duration": 0,
    "start_time": "2025-06-15T20:39:54.570Z"
   },
   {
    "duration": 0,
    "start_time": "2025-06-15T20:39:54.571Z"
   },
   {
    "duration": 0,
    "start_time": "2025-06-15T20:39:54.572Z"
   },
   {
    "duration": 0,
    "start_time": "2025-06-15T20:39:54.573Z"
   },
   {
    "duration": 4101,
    "start_time": "2025-06-15T20:43:13.745Z"
   },
   {
    "duration": 1635,
    "start_time": "2025-06-15T20:43:17.849Z"
   },
   {
    "duration": 0,
    "start_time": "2025-06-15T20:43:19.487Z"
   },
   {
    "duration": 0,
    "start_time": "2025-06-15T20:43:19.488Z"
   },
   {
    "duration": 0,
    "start_time": "2025-06-15T20:43:19.489Z"
   },
   {
    "duration": 0,
    "start_time": "2025-06-15T20:43:19.491Z"
   },
   {
    "duration": 0,
    "start_time": "2025-06-15T20:43:19.492Z"
   },
   {
    "duration": 0,
    "start_time": "2025-06-15T20:43:19.493Z"
   },
   {
    "duration": 0,
    "start_time": "2025-06-15T20:43:19.494Z"
   },
   {
    "duration": 0,
    "start_time": "2025-06-15T20:43:19.495Z"
   },
   {
    "duration": 0,
    "start_time": "2025-06-15T20:43:19.496Z"
   },
   {
    "duration": 1,
    "start_time": "2025-06-15T20:43:19.497Z"
   },
   {
    "duration": 0,
    "start_time": "2025-06-15T20:43:19.499Z"
   },
   {
    "duration": 0,
    "start_time": "2025-06-15T20:43:19.500Z"
   },
   {
    "duration": 0,
    "start_time": "2025-06-15T20:43:19.500Z"
   },
   {
    "duration": 0,
    "start_time": "2025-06-15T20:43:19.502Z"
   },
   {
    "duration": 0,
    "start_time": "2025-06-15T20:43:19.503Z"
   },
   {
    "duration": 0,
    "start_time": "2025-06-15T20:43:19.504Z"
   },
   {
    "duration": 0,
    "start_time": "2025-06-15T20:43:19.505Z"
   },
   {
    "duration": 0,
    "start_time": "2025-06-15T20:43:19.506Z"
   },
   {
    "duration": 1,
    "start_time": "2025-06-15T20:43:19.507Z"
   },
   {
    "duration": 0,
    "start_time": "2025-06-15T20:43:19.509Z"
   },
   {
    "duration": 0,
    "start_time": "2025-06-15T20:43:19.510Z"
   },
   {
    "duration": 0,
    "start_time": "2025-06-15T20:43:19.511Z"
   },
   {
    "duration": 0,
    "start_time": "2025-06-15T20:43:19.558Z"
   },
   {
    "duration": 0,
    "start_time": "2025-06-15T20:43:19.559Z"
   },
   {
    "duration": 0,
    "start_time": "2025-06-15T20:43:19.560Z"
   },
   {
    "duration": 0,
    "start_time": "2025-06-15T20:43:19.561Z"
   },
   {
    "duration": 0,
    "start_time": "2025-06-15T20:43:19.562Z"
   },
   {
    "duration": 0,
    "start_time": "2025-06-15T20:43:19.563Z"
   },
   {
    "duration": 0,
    "start_time": "2025-06-15T20:43:19.564Z"
   },
   {
    "duration": 0,
    "start_time": "2025-06-15T20:43:19.565Z"
   },
   {
    "duration": 0,
    "start_time": "2025-06-15T20:43:19.566Z"
   },
   {
    "duration": 0,
    "start_time": "2025-06-15T20:43:19.567Z"
   },
   {
    "duration": 0,
    "start_time": "2025-06-15T20:43:19.568Z"
   },
   {
    "duration": 0,
    "start_time": "2025-06-15T20:43:19.570Z"
   },
   {
    "duration": 0,
    "start_time": "2025-06-15T20:43:19.571Z"
   },
   {
    "duration": 0,
    "start_time": "2025-06-15T20:43:19.572Z"
   },
   {
    "duration": 0,
    "start_time": "2025-06-15T20:43:19.573Z"
   },
   {
    "duration": 0,
    "start_time": "2025-06-15T20:43:19.574Z"
   },
   {
    "duration": 0,
    "start_time": "2025-06-15T20:43:19.575Z"
   },
   {
    "duration": 0,
    "start_time": "2025-06-15T20:43:19.576Z"
   },
   {
    "duration": 1,
    "start_time": "2025-06-15T20:43:19.577Z"
   },
   {
    "duration": 0,
    "start_time": "2025-06-15T20:43:19.579Z"
   },
   {
    "duration": 0,
    "start_time": "2025-06-15T20:43:19.580Z"
   },
   {
    "duration": 0,
    "start_time": "2025-06-15T20:43:19.581Z"
   },
   {
    "duration": 0,
    "start_time": "2025-06-15T20:43:19.582Z"
   },
   {
    "duration": 0,
    "start_time": "2025-06-15T20:43:19.583Z"
   },
   {
    "duration": 0,
    "start_time": "2025-06-15T20:43:19.584Z"
   },
   {
    "duration": 0,
    "start_time": "2025-06-15T20:43:19.585Z"
   },
   {
    "duration": 0,
    "start_time": "2025-06-15T20:43:19.587Z"
   },
   {
    "duration": 0,
    "start_time": "2025-06-15T20:43:19.588Z"
   },
   {
    "duration": 0,
    "start_time": "2025-06-15T20:43:19.589Z"
   },
   {
    "duration": 0,
    "start_time": "2025-06-15T20:43:19.590Z"
   },
   {
    "duration": 0,
    "start_time": "2025-06-15T20:43:19.591Z"
   },
   {
    "duration": 1910,
    "start_time": "2025-06-15T20:43:47.857Z"
   },
   {
    "duration": 1636,
    "start_time": "2025-06-15T20:43:49.769Z"
   },
   {
    "duration": 0,
    "start_time": "2025-06-15T20:43:51.408Z"
   },
   {
    "duration": 0,
    "start_time": "2025-06-15T20:43:51.409Z"
   },
   {
    "duration": 0,
    "start_time": "2025-06-15T20:43:51.410Z"
   },
   {
    "duration": 0,
    "start_time": "2025-06-15T20:43:51.411Z"
   },
   {
    "duration": 1,
    "start_time": "2025-06-15T20:43:51.412Z"
   },
   {
    "duration": 0,
    "start_time": "2025-06-15T20:43:51.413Z"
   },
   {
    "duration": 0,
    "start_time": "2025-06-15T20:43:51.415Z"
   },
   {
    "duration": 0,
    "start_time": "2025-06-15T20:43:51.416Z"
   },
   {
    "duration": 0,
    "start_time": "2025-06-15T20:43:51.417Z"
   },
   {
    "duration": 0,
    "start_time": "2025-06-15T20:43:51.418Z"
   },
   {
    "duration": 0,
    "start_time": "2025-06-15T20:43:51.419Z"
   },
   {
    "duration": 0,
    "start_time": "2025-06-15T20:43:51.420Z"
   },
   {
    "duration": 0,
    "start_time": "2025-06-15T20:43:51.422Z"
   },
   {
    "duration": 0,
    "start_time": "2025-06-15T20:43:51.423Z"
   },
   {
    "duration": 0,
    "start_time": "2025-06-15T20:43:51.424Z"
   },
   {
    "duration": 0,
    "start_time": "2025-06-15T20:43:51.425Z"
   },
   {
    "duration": 0,
    "start_time": "2025-06-15T20:43:51.426Z"
   },
   {
    "duration": 0,
    "start_time": "2025-06-15T20:43:51.427Z"
   },
   {
    "duration": 0,
    "start_time": "2025-06-15T20:43:51.428Z"
   },
   {
    "duration": 0,
    "start_time": "2025-06-15T20:43:51.458Z"
   },
   {
    "duration": 0,
    "start_time": "2025-06-15T20:43:51.460Z"
   },
   {
    "duration": 0,
    "start_time": "2025-06-15T20:43:51.461Z"
   },
   {
    "duration": 0,
    "start_time": "2025-06-15T20:43:51.461Z"
   },
   {
    "duration": 0,
    "start_time": "2025-06-15T20:43:51.462Z"
   },
   {
    "duration": 0,
    "start_time": "2025-06-15T20:43:51.464Z"
   },
   {
    "duration": 0,
    "start_time": "2025-06-15T20:43:51.465Z"
   },
   {
    "duration": 0,
    "start_time": "2025-06-15T20:43:51.466Z"
   },
   {
    "duration": 0,
    "start_time": "2025-06-15T20:43:51.467Z"
   },
   {
    "duration": 0,
    "start_time": "2025-06-15T20:43:51.468Z"
   },
   {
    "duration": 0,
    "start_time": "2025-06-15T20:43:51.469Z"
   },
   {
    "duration": 0,
    "start_time": "2025-06-15T20:43:51.470Z"
   },
   {
    "duration": 0,
    "start_time": "2025-06-15T20:43:51.471Z"
   },
   {
    "duration": 0,
    "start_time": "2025-06-15T20:43:51.472Z"
   },
   {
    "duration": 0,
    "start_time": "2025-06-15T20:43:51.473Z"
   },
   {
    "duration": 0,
    "start_time": "2025-06-15T20:43:51.475Z"
   },
   {
    "duration": 0,
    "start_time": "2025-06-15T20:43:51.477Z"
   },
   {
    "duration": 0,
    "start_time": "2025-06-15T20:43:51.478Z"
   },
   {
    "duration": 0,
    "start_time": "2025-06-15T20:43:51.479Z"
   },
   {
    "duration": 0,
    "start_time": "2025-06-15T20:43:51.481Z"
   },
   {
    "duration": 1,
    "start_time": "2025-06-15T20:43:51.481Z"
   },
   {
    "duration": 0,
    "start_time": "2025-06-15T20:43:51.483Z"
   },
   {
    "duration": 0,
    "start_time": "2025-06-15T20:43:51.484Z"
   },
   {
    "duration": 0,
    "start_time": "2025-06-15T20:43:51.485Z"
   },
   {
    "duration": 0,
    "start_time": "2025-06-15T20:43:51.486Z"
   },
   {
    "duration": 0,
    "start_time": "2025-06-15T20:43:51.488Z"
   },
   {
    "duration": 0,
    "start_time": "2025-06-15T20:43:51.488Z"
   },
   {
    "duration": 0,
    "start_time": "2025-06-15T20:43:51.490Z"
   },
   {
    "duration": 0,
    "start_time": "2025-06-15T20:43:51.491Z"
   },
   {
    "duration": 0,
    "start_time": "2025-06-15T20:43:51.492Z"
   },
   {
    "duration": 0,
    "start_time": "2025-06-15T20:43:51.558Z"
   },
   {
    "duration": 0,
    "start_time": "2025-06-15T20:43:51.560Z"
   },
   {
    "duration": 0,
    "start_time": "2025-06-15T20:43:51.562Z"
   },
   {
    "duration": 0,
    "start_time": "2025-06-15T20:43:51.563Z"
   },
   {
    "duration": 6535,
    "start_time": "2025-06-15T20:46:03.197Z"
   },
   {
    "duration": 1636,
    "start_time": "2025-06-15T20:46:09.735Z"
   },
   {
    "duration": 0,
    "start_time": "2025-06-15T20:46:11.374Z"
   },
   {
    "duration": 0,
    "start_time": "2025-06-15T20:46:11.375Z"
   },
   {
    "duration": 0,
    "start_time": "2025-06-15T20:46:11.377Z"
   },
   {
    "duration": 0,
    "start_time": "2025-06-15T20:46:11.378Z"
   },
   {
    "duration": 0,
    "start_time": "2025-06-15T20:46:11.379Z"
   },
   {
    "duration": 0,
    "start_time": "2025-06-15T20:46:11.380Z"
   },
   {
    "duration": 0,
    "start_time": "2025-06-15T20:46:11.381Z"
   },
   {
    "duration": 0,
    "start_time": "2025-06-15T20:46:11.382Z"
   },
   {
    "duration": 0,
    "start_time": "2025-06-15T20:46:11.383Z"
   },
   {
    "duration": 0,
    "start_time": "2025-06-15T20:46:11.384Z"
   },
   {
    "duration": 0,
    "start_time": "2025-06-15T20:46:11.385Z"
   },
   {
    "duration": 0,
    "start_time": "2025-06-15T20:46:11.386Z"
   },
   {
    "duration": 0,
    "start_time": "2025-06-15T20:46:11.387Z"
   },
   {
    "duration": 0,
    "start_time": "2025-06-15T20:46:11.388Z"
   },
   {
    "duration": 0,
    "start_time": "2025-06-15T20:46:11.389Z"
   },
   {
    "duration": 0,
    "start_time": "2025-06-15T20:46:11.390Z"
   },
   {
    "duration": 0,
    "start_time": "2025-06-15T20:46:11.391Z"
   },
   {
    "duration": 0,
    "start_time": "2025-06-15T20:46:11.392Z"
   },
   {
    "duration": 0,
    "start_time": "2025-06-15T20:46:11.393Z"
   },
   {
    "duration": 0,
    "start_time": "2025-06-15T20:46:11.394Z"
   },
   {
    "duration": 0,
    "start_time": "2025-06-15T20:46:11.395Z"
   },
   {
    "duration": 0,
    "start_time": "2025-06-15T20:46:11.396Z"
   },
   {
    "duration": 0,
    "start_time": "2025-06-15T20:46:11.398Z"
   },
   {
    "duration": 0,
    "start_time": "2025-06-15T20:46:11.398Z"
   },
   {
    "duration": 0,
    "start_time": "2025-06-15T20:46:11.400Z"
   },
   {
    "duration": 0,
    "start_time": "2025-06-15T20:46:11.402Z"
   },
   {
    "duration": 0,
    "start_time": "2025-06-15T20:46:11.403Z"
   },
   {
    "duration": 0,
    "start_time": "2025-06-15T20:46:11.404Z"
   },
   {
    "duration": 0,
    "start_time": "2025-06-15T20:46:11.458Z"
   },
   {
    "duration": 0,
    "start_time": "2025-06-15T20:46:11.460Z"
   },
   {
    "duration": 0,
    "start_time": "2025-06-15T20:46:11.461Z"
   },
   {
    "duration": 0,
    "start_time": "2025-06-15T20:46:11.462Z"
   },
   {
    "duration": 0,
    "start_time": "2025-06-15T20:46:11.462Z"
   },
   {
    "duration": 0,
    "start_time": "2025-06-15T20:46:11.464Z"
   },
   {
    "duration": 0,
    "start_time": "2025-06-15T20:46:11.465Z"
   },
   {
    "duration": 0,
    "start_time": "2025-06-15T20:46:11.466Z"
   },
   {
    "duration": 0,
    "start_time": "2025-06-15T20:46:11.467Z"
   },
   {
    "duration": 0,
    "start_time": "2025-06-15T20:46:11.468Z"
   },
   {
    "duration": 0,
    "start_time": "2025-06-15T20:46:11.469Z"
   },
   {
    "duration": 0,
    "start_time": "2025-06-15T20:46:11.470Z"
   },
   {
    "duration": 0,
    "start_time": "2025-06-15T20:46:11.471Z"
   },
   {
    "duration": 0,
    "start_time": "2025-06-15T20:46:11.472Z"
   },
   {
    "duration": 0,
    "start_time": "2025-06-15T20:46:11.474Z"
   },
   {
    "duration": 0,
    "start_time": "2025-06-15T20:46:11.475Z"
   },
   {
    "duration": 0,
    "start_time": "2025-06-15T20:46:11.476Z"
   },
   {
    "duration": 0,
    "start_time": "2025-06-15T20:46:11.477Z"
   },
   {
    "duration": 0,
    "start_time": "2025-06-15T20:46:11.478Z"
   },
   {
    "duration": 0,
    "start_time": "2025-06-15T20:46:11.480Z"
   },
   {
    "duration": 0,
    "start_time": "2025-06-15T20:46:11.481Z"
   },
   {
    "duration": 0,
    "start_time": "2025-06-15T20:46:11.482Z"
   },
   {
    "duration": 0,
    "start_time": "2025-06-15T20:46:11.483Z"
   },
   {
    "duration": 0,
    "start_time": "2025-06-15T20:46:11.484Z"
   },
   {
    "duration": 0,
    "start_time": "2025-06-15T20:46:11.485Z"
   },
   {
    "duration": 11,
    "start_time": "2025-06-15T20:47:56.698Z"
   },
   {
    "duration": 16,
    "start_time": "2025-06-15T20:48:20.075Z"
   },
   {
    "duration": 10444,
    "start_time": "2025-06-15T20:49:14.875Z"
   },
   {
    "duration": 2082,
    "start_time": "2025-06-15T20:49:25.321Z"
   },
   {
    "duration": 1192,
    "start_time": "2025-06-15T20:49:27.405Z"
   },
   {
    "duration": 5,
    "start_time": "2025-06-15T20:49:28.599Z"
   },
   {
    "duration": 475,
    "start_time": "2025-06-15T20:49:28.605Z"
   },
   {
    "duration": 49,
    "start_time": "2025-06-15T20:49:29.081Z"
   },
   {
    "duration": 36,
    "start_time": "2025-06-15T20:49:29.132Z"
   },
   {
    "duration": 1717,
    "start_time": "2025-06-15T20:49:29.171Z"
   },
   {
    "duration": 18,
    "start_time": "2025-06-15T20:49:30.890Z"
   },
   {
    "duration": 22,
    "start_time": "2025-06-15T20:49:30.911Z"
   },
   {
    "duration": 37,
    "start_time": "2025-06-15T20:49:30.934Z"
   },
   {
    "duration": 29154,
    "start_time": "2025-06-15T20:49:30.973Z"
   },
   {
    "duration": 104,
    "start_time": "2025-06-15T20:50:00.129Z"
   },
   {
    "duration": 188,
    "start_time": "2025-06-15T20:50:00.235Z"
   },
   {
    "duration": 122,
    "start_time": "2025-06-15T20:50:00.425Z"
   },
   {
    "duration": 10,
    "start_time": "2025-06-15T20:50:00.549Z"
   },
   {
    "duration": 135,
    "start_time": "2025-06-15T20:50:00.561Z"
   },
   {
    "duration": 584,
    "start_time": "2025-06-15T20:50:00.697Z"
   },
   {
    "duration": 40,
    "start_time": "2025-06-15T20:50:01.283Z"
   },
   {
    "duration": 76,
    "start_time": "2025-06-15T20:50:01.325Z"
   },
   {
    "duration": 9,
    "start_time": "2025-06-15T20:50:01.402Z"
   },
   {
    "duration": 34,
    "start_time": "2025-06-15T20:50:01.413Z"
   },
   {
    "duration": 9,
    "start_time": "2025-06-15T20:50:01.449Z"
   },
   {
    "duration": 132,
    "start_time": "2025-06-15T20:50:01.460Z"
   },
   {
    "duration": 30,
    "start_time": "2025-06-15T20:50:01.594Z"
   },
   {
    "duration": 491,
    "start_time": "2025-06-15T20:50:01.626Z"
   },
   {
    "duration": 29,
    "start_time": "2025-06-15T20:50:02.118Z"
   },
   {
    "duration": 317,
    "start_time": "2025-06-15T20:50:02.157Z"
   },
   {
    "duration": 1132,
    "start_time": "2025-06-15T20:50:02.476Z"
   },
   {
    "duration": 6349,
    "start_time": "2025-06-15T20:50:10.109Z"
   },
   {
    "duration": 1955,
    "start_time": "2025-06-15T20:50:16.461Z"
   },
   {
    "duration": 1214,
    "start_time": "2025-06-15T20:50:18.418Z"
   },
   {
    "duration": 4,
    "start_time": "2025-06-15T20:50:19.634Z"
   },
   {
    "duration": 493,
    "start_time": "2025-06-15T20:50:19.639Z"
   },
   {
    "duration": 68,
    "start_time": "2025-06-15T20:50:20.134Z"
   },
   {
    "duration": 24,
    "start_time": "2025-06-15T20:50:20.204Z"
   },
   {
    "duration": 1802,
    "start_time": "2025-06-15T20:50:20.230Z"
   },
   {
    "duration": 19,
    "start_time": "2025-06-15T20:50:22.034Z"
   },
   {
    "duration": 30,
    "start_time": "2025-06-15T20:50:22.064Z"
   },
   {
    "duration": 17,
    "start_time": "2025-06-15T20:50:22.097Z"
   },
   {
    "duration": 29268,
    "start_time": "2025-06-15T20:50:22.116Z"
   },
   {
    "duration": 100,
    "start_time": "2025-06-15T20:50:51.386Z"
   },
   {
    "duration": 206,
    "start_time": "2025-06-15T20:50:51.488Z"
   },
   {
    "duration": 134,
    "start_time": "2025-06-15T20:50:51.696Z"
   },
   {
    "duration": 6,
    "start_time": "2025-06-15T20:50:51.832Z"
   },
   {
    "duration": 82,
    "start_time": "2025-06-15T20:50:51.840Z"
   },
   {
    "duration": 524,
    "start_time": "2025-06-15T20:50:51.924Z"
   },
   {
    "duration": 47,
    "start_time": "2025-06-15T20:50:52.450Z"
   },
   {
    "duration": 7,
    "start_time": "2025-06-15T20:50:52.499Z"
   },
   {
    "duration": 9,
    "start_time": "2025-06-15T20:50:52.508Z"
   },
   {
    "duration": 54,
    "start_time": "2025-06-15T20:50:52.519Z"
   },
   {
    "duration": 9,
    "start_time": "2025-06-15T20:50:52.574Z"
   },
   {
    "duration": 75,
    "start_time": "2025-06-15T20:50:52.585Z"
   },
   {
    "duration": 31,
    "start_time": "2025-06-15T20:50:52.663Z"
   },
   {
    "duration": 484,
    "start_time": "2025-06-15T20:50:52.695Z"
   },
   {
    "duration": 28,
    "start_time": "2025-06-15T20:50:53.181Z"
   },
   {
    "duration": 341,
    "start_time": "2025-06-15T20:50:53.213Z"
   },
   {
    "duration": 1087,
    "start_time": "2025-06-15T20:50:53.559Z"
   },
   {
    "duration": 7608,
    "start_time": "2025-06-15T20:50:54.648Z"
   },
   {
    "duration": 24,
    "start_time": "2025-06-15T20:51:02.258Z"
   },
   {
    "duration": 117,
    "start_time": "2025-06-15T20:51:02.284Z"
   },
   {
    "duration": 3,
    "start_time": "2025-06-15T20:51:02.403Z"
   },
   {
    "duration": 33,
    "start_time": "2025-06-15T20:51:02.408Z"
   },
   {
    "duration": 168,
    "start_time": "2025-06-15T20:51:02.442Z"
   },
   {
    "duration": 3,
    "start_time": "2025-06-15T20:51:02.612Z"
   },
   {
    "duration": 52,
    "start_time": "2025-06-15T20:51:02.617Z"
   },
   {
    "duration": 14728,
    "start_time": "2025-06-15T20:51:02.671Z"
   },
   {
    "duration": 260,
    "start_time": "2025-06-15T20:51:17.401Z"
   },
   {
    "duration": 93,
    "start_time": "2025-06-15T20:51:17.667Z"
   },
   {
    "duration": 3,
    "start_time": "2025-06-15T20:51:17.770Z"
   },
   {
    "duration": 28461,
    "start_time": "2025-06-15T20:51:17.775Z"
   },
   {
    "duration": 112,
    "start_time": "2025-06-15T20:51:46.237Z"
   },
   {
    "duration": 336,
    "start_time": "2025-06-15T20:51:46.351Z"
   },
   {
    "duration": 3,
    "start_time": "2025-06-15T20:51:46.689Z"
   },
   {
    "duration": 5886,
    "start_time": "2025-06-15T20:59:44.519Z"
   },
   {
    "duration": 1777,
    "start_time": "2025-06-15T20:59:50.408Z"
   },
   {
    "duration": 1106,
    "start_time": "2025-06-15T20:59:52.187Z"
   },
   {
    "duration": 4,
    "start_time": "2025-06-15T20:59:53.295Z"
   },
   {
    "duration": 440,
    "start_time": "2025-06-15T20:59:53.301Z"
   },
   {
    "duration": 53,
    "start_time": "2025-06-15T20:59:53.743Z"
   },
   {
    "duration": 23,
    "start_time": "2025-06-15T20:59:53.798Z"
   },
   {
    "duration": 1519,
    "start_time": "2025-06-15T20:59:53.822Z"
   },
   {
    "duration": 21,
    "start_time": "2025-06-15T20:59:55.343Z"
   },
   {
    "duration": 89,
    "start_time": "2025-06-15T20:59:55.366Z"
   },
   {
    "duration": 19,
    "start_time": "2025-06-15T20:59:55.457Z"
   },
   {
    "duration": 27586,
    "start_time": "2025-06-15T20:59:55.478Z"
   },
   {
    "duration": 100,
    "start_time": "2025-06-15T21:00:23.067Z"
   },
   {
    "duration": 179,
    "start_time": "2025-06-15T21:00:23.169Z"
   },
   {
    "duration": 121,
    "start_time": "2025-06-15T21:00:23.357Z"
   },
   {
    "duration": 7,
    "start_time": "2025-06-15T21:00:23.480Z"
   },
   {
    "duration": 95,
    "start_time": "2025-06-15T21:00:23.488Z"
   },
   {
    "duration": 525,
    "start_time": "2025-06-15T21:00:23.585Z"
   },
   {
    "duration": 50,
    "start_time": "2025-06-15T21:00:24.112Z"
   },
   {
    "duration": 6,
    "start_time": "2025-06-15T21:00:24.164Z"
   },
   {
    "duration": 25,
    "start_time": "2025-06-15T21:00:24.172Z"
   },
   {
    "duration": 13,
    "start_time": "2025-06-15T21:00:24.199Z"
   },
   {
    "duration": 8,
    "start_time": "2025-06-15T21:00:24.214Z"
   },
   {
    "duration": 61,
    "start_time": "2025-06-15T21:00:24.223Z"
   },
   {
    "duration": 28,
    "start_time": "2025-06-15T21:00:24.286Z"
   },
   {
    "duration": 475,
    "start_time": "2025-06-15T21:00:24.316Z"
   },
   {
    "duration": 32,
    "start_time": "2025-06-15T21:00:24.792Z"
   },
   {
    "duration": 317,
    "start_time": "2025-06-15T21:00:24.828Z"
   },
   {
    "duration": 1175,
    "start_time": "2025-06-15T21:00:25.149Z"
   },
   {
    "duration": 7411,
    "start_time": "2025-06-15T21:00:26.326Z"
   },
   {
    "duration": 29,
    "start_time": "2025-06-15T21:00:33.738Z"
   },
   {
    "duration": 34,
    "start_time": "2025-06-15T21:00:33.769Z"
   },
   {
    "duration": 3,
    "start_time": "2025-06-15T21:00:33.805Z"
   },
   {
    "duration": 30,
    "start_time": "2025-06-15T21:00:33.810Z"
   },
   {
    "duration": 145,
    "start_time": "2025-06-15T21:00:33.842Z"
   },
   {
    "duration": 4,
    "start_time": "2025-06-15T21:00:33.989Z"
   },
   {
    "duration": 6,
    "start_time": "2025-06-15T21:00:33.994Z"
   },
   {
    "duration": 14570,
    "start_time": "2025-06-15T21:00:34.001Z"
   },
   {
    "duration": 226,
    "start_time": "2025-06-15T21:00:48.573Z"
   },
   {
    "duration": 99,
    "start_time": "2025-06-15T21:00:48.859Z"
   },
   {
    "duration": 2,
    "start_time": "2025-06-15T21:00:48.960Z"
   },
   {
    "duration": 27095,
    "start_time": "2025-06-15T21:00:48.964Z"
   },
   {
    "duration": 104,
    "start_time": "2025-06-15T21:01:16.060Z"
   },
   {
    "duration": 300,
    "start_time": "2025-06-15T21:01:16.166Z"
   },
   {
    "duration": 3,
    "start_time": "2025-06-15T21:01:16.468Z"
   },
   {
    "duration": 163596,
    "start_time": "2025-06-15T21:01:16.472Z"
   },
   {
    "duration": 489,
    "start_time": "2025-06-15T21:04:00.070Z"
   },
   {
    "duration": 27,
    "start_time": "2025-06-15T21:04:00.561Z"
   },
   {
    "duration": 2,
    "start_time": "2025-06-15T21:04:00.590Z"
   },
   {
    "duration": 1667,
    "start_time": "2025-06-15T21:04:00.594Z"
   },
   {
    "duration": 80,
    "start_time": "2025-06-15T21:04:02.263Z"
   },
   {
    "duration": 40,
    "start_time": "2025-06-15T21:04:02.345Z"
   },
   {
    "duration": 93,
    "start_time": "2025-06-15T21:04:02.387Z"
   },
   {
    "duration": 0,
    "start_time": "2025-06-15T21:04:02.482Z"
   },
   {
    "duration": 0,
    "start_time": "2025-06-15T21:04:02.483Z"
   },
   {
    "duration": 3413,
    "start_time": "2025-06-15T21:07:30.948Z"
   },
   {
    "duration": 73,
    "start_time": "2025-06-15T21:08:27.628Z"
   },
   {
    "duration": 39,
    "start_time": "2025-06-15T21:11:21.229Z"
   },
   {
    "duration": 61,
    "start_time": "2025-06-15T21:13:06.168Z"
   },
   {
    "duration": 9,
    "start_time": "2025-06-15T21:13:17.466Z"
   },
   {
    "duration": 366,
    "start_time": "2025-06-15T21:13:56.508Z"
   }
  ],
  "kernelspec": {
   "display_name": "Python 3 (ipykernel)",
   "language": "python",
   "name": "python3"
  },
  "language_info": {
   "codemirror_mode": {
    "name": "ipython",
    "version": 3
   },
   "file_extension": ".py",
   "mimetype": "text/x-python",
   "name": "python",
   "nbconvert_exporter": "python",
   "pygments_lexer": "ipython3",
   "version": "3.9.5"
  },
  "toc": {
   "base_numbering": 1,
   "nav_menu": {},
   "number_sections": true,
   "sideBar": true,
   "skip_h1_title": true,
   "title_cell": "Table of Contents",
   "title_sidebar": "Contents",
   "toc_cell": false,
   "toc_position": {
    "height": "calc(100% - 180px)",
    "left": "10px",
    "top": "150px",
    "width": "307.995px"
   },
   "toc_section_display": true,
   "toc_window_display": true
  }
 },
 "nbformat": 4,
 "nbformat_minor": 2
}
