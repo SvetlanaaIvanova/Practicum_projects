{
 "cells": [
  {
   "cell_type": "markdown",
   "id": "5a0881f4",
   "metadata": {},
   "source": [
    "# Модель машинного обучения для прогнозирования температуры сплавов для металлургического комбината"
   ]
  },
  {
   "cell_type": "markdown",
   "id": "322d5381",
   "metadata": {},
   "source": [
    "**Исходные данные** состоят из нескольких файлов, полученных из разных источников:\n",
    "- `data_arc_new.csv` — данные об электродах;\n",
    "- `data_bulk_new.csv` — данные о подаче сыпучих материалов (объём);\n",
    "- `data_bulk_time_new.csv` — данные о подаче сыпучих материалов (время);\n",
    "- `data_gas_new.csv` — данные о продувке сплава газом;\n",
    "- `data_temp_new.csv` — результаты измерения температуры;\n",
    "- `data_wire_new.csv` — данные о проволочных материалах (объём);\n",
    "- `data_wire_time_new.csv` — данные о проволочных материалах (время).\n",
    "\n",
    "***Цель проекта*** - построить модель, предсказывающую температуру сплава, для оптимизации производственных расходов посредством уменьшения потребления электроэнергии на этапе обработки стали. \n",
    "\n",
    "**План работы:**\n",
    "1. Загрузка данных, исследовательский анализ и предобработка данных.\n",
    "2. Объединение выделенных для последующего анализа признаков в единный датафрейм.\n",
    "3. Статистический и графических анализ объединённого датафрейма, дополнительная предобработка при необходимости.\n",
    "4. Корреляционный анализ признаков.\n",
    "5. Подготовка данных для обучения модели. \n",
    "6. Обучение моделей машинного обучения и выбор лучшей модели.\n",
    "7. Анализ важности признаков и анализ остатков.\n",
    "8. Общий вывод и рекомендации."
   ]
  },
  {
   "cell_type": "code",
   "execution_count": 1,
   "id": "935d1397",
   "metadata": {},
   "outputs": [],
   "source": [
    "! pip install -U scikit-learn -q\n",
    "! pip install shap -q\n",
    "! pip install phik -q\n",
    "! pip install matplotlib==3.5.0 -q"
   ]
  },
  {
   "cell_type": "code",
   "execution_count": 2,
   "id": "c6e81343",
   "metadata": {},
   "outputs": [],
   "source": [
    "# импортируем необходимые библиотеки:\n",
    "import pandas as pd\n",
    "import numpy as np\n",
    "import matplotlib.pyplot as plt\n",
    "import seaborn as sns\n",
    "\n",
    "from phik import phik_matrix\n",
    "from phik.report import plot_correlation_matrix\n",
    "\n",
    "from sklearn.model_selection import train_test_split\n",
    "from sklearn.pipeline import Pipeline\n",
    "# загружаем функцию для работы с метриками\n",
    "from sklearn.metrics import mean_absolute_error\n",
    "from sklearn.preprocessing import (\n",
    "    StandardScaler, \n",
    "    MinMaxScaler,\n",
    "    RobustScaler\n",
    ")\n",
    "from sklearn.compose import ColumnTransformer\n",
    "# импортируем класс:\n",
    "from sklearn.model_selection import RandomizedSearchCV\n",
    "# загружаем нужные модели и ансамбли\n",
    "from sklearn.linear_model import LinearRegression\n",
    "from sklearn.linear_model import Ridge\n",
    "from sklearn.tree import DecisionTreeRegressor\n",
    "from sklearn.ensemble import RandomForestRegressor \n",
    "import catboost\n",
    "from catboost import CatBoostRegressor\n",
    "\n",
    "import shap\n",
    "\n",
    "import warnings \n",
    "warnings.filterwarnings('ignore')"
   ]
  },
  {
   "cell_type": "markdown",
   "id": "723c891a",
   "metadata": {},
   "source": [
    "## Подготовка данных"
   ]
  },
  {
   "cell_type": "markdown",
   "id": "09798440",
   "metadata": {},
   "source": [
    "### Первичное исследование данных"
   ]
  },
  {
   "cell_type": "markdown",
   "id": "cf8f67ff",
   "metadata": {},
   "source": [
    "Общие сведения об имеющих данных: состав данных, наличие пропусков и дубликатов."
   ]
  },
  {
   "cell_type": "code",
   "execution_count": 3,
   "id": "2f7cb839",
   "metadata": {},
   "outputs": [
    {
     "name": "stdout",
     "output_type": "stream",
     "text": [
      "data_arc_new.csv\n"
     ]
    },
    {
     "data": {
      "text/html": [
       "<div>\n",
       "<style scoped>\n",
       "    .dataframe tbody tr th:only-of-type {\n",
       "        vertical-align: middle;\n",
       "    }\n",
       "\n",
       "    .dataframe tbody tr th {\n",
       "        vertical-align: top;\n",
       "    }\n",
       "\n",
       "    .dataframe thead th {\n",
       "        text-align: right;\n",
       "    }\n",
       "</style>\n",
       "<table border=\"1\" class=\"dataframe\">\n",
       "  <thead>\n",
       "    <tr style=\"text-align: right;\">\n",
       "      <th></th>\n",
       "      <th>key</th>\n",
       "      <th>Начало нагрева дугой</th>\n",
       "      <th>Конец нагрева дугой</th>\n",
       "      <th>Активная мощность</th>\n",
       "      <th>Реактивная мощность</th>\n",
       "    </tr>\n",
       "  </thead>\n",
       "  <tbody>\n",
       "    <tr>\n",
       "      <th>0</th>\n",
       "      <td>1</td>\n",
       "      <td>2019-05-03 11:02:14</td>\n",
       "      <td>2019-05-03 11:06:02</td>\n",
       "      <td>0.305130</td>\n",
       "      <td>0.211253</td>\n",
       "    </tr>\n",
       "    <tr>\n",
       "      <th>1</th>\n",
       "      <td>1</td>\n",
       "      <td>2019-05-03 11:07:28</td>\n",
       "      <td>2019-05-03 11:10:33</td>\n",
       "      <td>0.765658</td>\n",
       "      <td>0.477438</td>\n",
       "    </tr>\n",
       "    <tr>\n",
       "      <th>2</th>\n",
       "      <td>1</td>\n",
       "      <td>2019-05-03 11:11:44</td>\n",
       "      <td>2019-05-03 11:14:36</td>\n",
       "      <td>0.580313</td>\n",
       "      <td>0.430460</td>\n",
       "    </tr>\n",
       "    <tr>\n",
       "      <th>3</th>\n",
       "      <td>1</td>\n",
       "      <td>2019-05-03 11:18:14</td>\n",
       "      <td>2019-05-03 11:24:19</td>\n",
       "      <td>0.518496</td>\n",
       "      <td>0.379979</td>\n",
       "    </tr>\n",
       "    <tr>\n",
       "      <th>4</th>\n",
       "      <td>1</td>\n",
       "      <td>2019-05-03 11:26:09</td>\n",
       "      <td>2019-05-03 11:28:37</td>\n",
       "      <td>0.867133</td>\n",
       "      <td>0.643691</td>\n",
       "    </tr>\n",
       "    <tr>\n",
       "      <th>5</th>\n",
       "      <td>2</td>\n",
       "      <td>2019-05-03 11:34:14</td>\n",
       "      <td>2019-05-03 11:36:31</td>\n",
       "      <td>0.381124</td>\n",
       "      <td>0.220351</td>\n",
       "    </tr>\n",
       "    <tr>\n",
       "      <th>6</th>\n",
       "      <td>2</td>\n",
       "      <td>2019-05-03 11:38:50</td>\n",
       "      <td>2019-05-03 11:44:28</td>\n",
       "      <td>0.261665</td>\n",
       "      <td>0.205527</td>\n",
       "    </tr>\n",
       "    <tr>\n",
       "      <th>7</th>\n",
       "      <td>2</td>\n",
       "      <td>2019-05-03 11:46:19</td>\n",
       "      <td>2019-05-03 11:48:25</td>\n",
       "      <td>0.710297</td>\n",
       "      <td>0.484962</td>\n",
       "    </tr>\n",
       "    <tr>\n",
       "      <th>8</th>\n",
       "      <td>2</td>\n",
       "      <td>2019-05-03 11:49:48</td>\n",
       "      <td>2019-05-03 11:53:18</td>\n",
       "      <td>0.786322</td>\n",
       "      <td>0.542517</td>\n",
       "    </tr>\n",
       "    <tr>\n",
       "      <th>9</th>\n",
       "      <td>3</td>\n",
       "      <td>2019-05-03 12:06:54</td>\n",
       "      <td>2019-05-03 12:11:34</td>\n",
       "      <td>1.101678</td>\n",
       "      <td>0.820856</td>\n",
       "    </tr>\n",
       "  </tbody>\n",
       "</table>\n",
       "</div>"
      ],
      "text/plain": [
       "   key Начало нагрева дугой  Конец нагрева дугой  Активная мощность  \\\n",
       "0    1  2019-05-03 11:02:14  2019-05-03 11:06:02           0.305130   \n",
       "1    1  2019-05-03 11:07:28  2019-05-03 11:10:33           0.765658   \n",
       "2    1  2019-05-03 11:11:44  2019-05-03 11:14:36           0.580313   \n",
       "3    1  2019-05-03 11:18:14  2019-05-03 11:24:19           0.518496   \n",
       "4    1  2019-05-03 11:26:09  2019-05-03 11:28:37           0.867133   \n",
       "5    2  2019-05-03 11:34:14  2019-05-03 11:36:31           0.381124   \n",
       "6    2  2019-05-03 11:38:50  2019-05-03 11:44:28           0.261665   \n",
       "7    2  2019-05-03 11:46:19  2019-05-03 11:48:25           0.710297   \n",
       "8    2  2019-05-03 11:49:48  2019-05-03 11:53:18           0.786322   \n",
       "9    3  2019-05-03 12:06:54  2019-05-03 12:11:34           1.101678   \n",
       "\n",
       "   Реактивная мощность  \n",
       "0             0.211253  \n",
       "1             0.477438  \n",
       "2             0.430460  \n",
       "3             0.379979  \n",
       "4             0.643691  \n",
       "5             0.220351  \n",
       "6             0.205527  \n",
       "7             0.484962  \n",
       "8             0.542517  \n",
       "9             0.820856  "
      ]
     },
     "metadata": {},
     "output_type": "display_data"
    },
    {
     "name": "stdout",
     "output_type": "stream",
     "text": [
      "Кол-во дубликатов: 0\n",
      "<class 'pandas.core.frame.DataFrame'>\n",
      "RangeIndex: 14876 entries, 0 to 14875\n",
      "Data columns (total 5 columns):\n",
      " #   Column                Non-Null Count  Dtype  \n",
      "---  ------                --------------  -----  \n",
      " 0   key                   14876 non-null  int64  \n",
      " 1   Начало нагрева дугой  14876 non-null  object \n",
      " 2   Конец нагрева дугой   14876 non-null  object \n",
      " 3   Активная мощность     14876 non-null  float64\n",
      " 4   Реактивная мощность   14876 non-null  float64\n",
      "dtypes: float64(2), int64(1), object(2)\n",
      "memory usage: 581.2+ KB\n",
      "\n",
      "data_bulk_new.csv\n"
     ]
    },
    {
     "data": {
      "text/html": [
       "<div>\n",
       "<style scoped>\n",
       "    .dataframe tbody tr th:only-of-type {\n",
       "        vertical-align: middle;\n",
       "    }\n",
       "\n",
       "    .dataframe tbody tr th {\n",
       "        vertical-align: top;\n",
       "    }\n",
       "\n",
       "    .dataframe thead th {\n",
       "        text-align: right;\n",
       "    }\n",
       "</style>\n",
       "<table border=\"1\" class=\"dataframe\">\n",
       "  <thead>\n",
       "    <tr style=\"text-align: right;\">\n",
       "      <th></th>\n",
       "      <th>key</th>\n",
       "      <th>Bulk 1</th>\n",
       "      <th>Bulk 2</th>\n",
       "      <th>Bulk 3</th>\n",
       "      <th>Bulk 4</th>\n",
       "      <th>Bulk 5</th>\n",
       "      <th>Bulk 6</th>\n",
       "      <th>Bulk 7</th>\n",
       "      <th>Bulk 8</th>\n",
       "      <th>Bulk 9</th>\n",
       "      <th>Bulk 10</th>\n",
       "      <th>Bulk 11</th>\n",
       "      <th>Bulk 12</th>\n",
       "      <th>Bulk 13</th>\n",
       "      <th>Bulk 14</th>\n",
       "      <th>Bulk 15</th>\n",
       "    </tr>\n",
       "  </thead>\n",
       "  <tbody>\n",
       "    <tr>\n",
       "      <th>0</th>\n",
       "      <td>1</td>\n",
       "      <td>NaN</td>\n",
       "      <td>NaN</td>\n",
       "      <td>NaN</td>\n",
       "      <td>43.0</td>\n",
       "      <td>NaN</td>\n",
       "      <td>NaN</td>\n",
       "      <td>NaN</td>\n",
       "      <td>NaN</td>\n",
       "      <td>NaN</td>\n",
       "      <td>NaN</td>\n",
       "      <td>NaN</td>\n",
       "      <td>206.0</td>\n",
       "      <td>NaN</td>\n",
       "      <td>150.0</td>\n",
       "      <td>154.0</td>\n",
       "    </tr>\n",
       "    <tr>\n",
       "      <th>1</th>\n",
       "      <td>2</td>\n",
       "      <td>NaN</td>\n",
       "      <td>NaN</td>\n",
       "      <td>NaN</td>\n",
       "      <td>73.0</td>\n",
       "      <td>NaN</td>\n",
       "      <td>NaN</td>\n",
       "      <td>NaN</td>\n",
       "      <td>NaN</td>\n",
       "      <td>NaN</td>\n",
       "      <td>NaN</td>\n",
       "      <td>NaN</td>\n",
       "      <td>206.0</td>\n",
       "      <td>NaN</td>\n",
       "      <td>149.0</td>\n",
       "      <td>154.0</td>\n",
       "    </tr>\n",
       "    <tr>\n",
       "      <th>2</th>\n",
       "      <td>3</td>\n",
       "      <td>NaN</td>\n",
       "      <td>NaN</td>\n",
       "      <td>NaN</td>\n",
       "      <td>34.0</td>\n",
       "      <td>NaN</td>\n",
       "      <td>NaN</td>\n",
       "      <td>NaN</td>\n",
       "      <td>NaN</td>\n",
       "      <td>NaN</td>\n",
       "      <td>NaN</td>\n",
       "      <td>NaN</td>\n",
       "      <td>205.0</td>\n",
       "      <td>NaN</td>\n",
       "      <td>152.0</td>\n",
       "      <td>153.0</td>\n",
       "    </tr>\n",
       "    <tr>\n",
       "      <th>3</th>\n",
       "      <td>4</td>\n",
       "      <td>NaN</td>\n",
       "      <td>NaN</td>\n",
       "      <td>NaN</td>\n",
       "      <td>81.0</td>\n",
       "      <td>NaN</td>\n",
       "      <td>NaN</td>\n",
       "      <td>NaN</td>\n",
       "      <td>NaN</td>\n",
       "      <td>NaN</td>\n",
       "      <td>NaN</td>\n",
       "      <td>NaN</td>\n",
       "      <td>207.0</td>\n",
       "      <td>NaN</td>\n",
       "      <td>153.0</td>\n",
       "      <td>154.0</td>\n",
       "    </tr>\n",
       "    <tr>\n",
       "      <th>4</th>\n",
       "      <td>5</td>\n",
       "      <td>NaN</td>\n",
       "      <td>NaN</td>\n",
       "      <td>NaN</td>\n",
       "      <td>78.0</td>\n",
       "      <td>NaN</td>\n",
       "      <td>NaN</td>\n",
       "      <td>NaN</td>\n",
       "      <td>NaN</td>\n",
       "      <td>NaN</td>\n",
       "      <td>NaN</td>\n",
       "      <td>NaN</td>\n",
       "      <td>203.0</td>\n",
       "      <td>NaN</td>\n",
       "      <td>151.0</td>\n",
       "      <td>152.0</td>\n",
       "    </tr>\n",
       "    <tr>\n",
       "      <th>5</th>\n",
       "      <td>6</td>\n",
       "      <td>NaN</td>\n",
       "      <td>NaN</td>\n",
       "      <td>NaN</td>\n",
       "      <td>117.0</td>\n",
       "      <td>NaN</td>\n",
       "      <td>NaN</td>\n",
       "      <td>NaN</td>\n",
       "      <td>NaN</td>\n",
       "      <td>NaN</td>\n",
       "      <td>NaN</td>\n",
       "      <td>NaN</td>\n",
       "      <td>204.0</td>\n",
       "      <td>NaN</td>\n",
       "      <td>201.0</td>\n",
       "      <td>154.0</td>\n",
       "    </tr>\n",
       "    <tr>\n",
       "      <th>6</th>\n",
       "      <td>7</td>\n",
       "      <td>NaN</td>\n",
       "      <td>NaN</td>\n",
       "      <td>NaN</td>\n",
       "      <td>117.0</td>\n",
       "      <td>NaN</td>\n",
       "      <td>NaN</td>\n",
       "      <td>NaN</td>\n",
       "      <td>NaN</td>\n",
       "      <td>NaN</td>\n",
       "      <td>NaN</td>\n",
       "      <td>NaN</td>\n",
       "      <td>204.0</td>\n",
       "      <td>NaN</td>\n",
       "      <td>152.0</td>\n",
       "      <td>154.0</td>\n",
       "    </tr>\n",
       "    <tr>\n",
       "      <th>7</th>\n",
       "      <td>8</td>\n",
       "      <td>NaN</td>\n",
       "      <td>NaN</td>\n",
       "      <td>NaN</td>\n",
       "      <td>99.0</td>\n",
       "      <td>NaN</td>\n",
       "      <td>NaN</td>\n",
       "      <td>NaN</td>\n",
       "      <td>NaN</td>\n",
       "      <td>NaN</td>\n",
       "      <td>NaN</td>\n",
       "      <td>NaN</td>\n",
       "      <td>410.0</td>\n",
       "      <td>NaN</td>\n",
       "      <td>252.0</td>\n",
       "      <td>153.0</td>\n",
       "    </tr>\n",
       "    <tr>\n",
       "      <th>8</th>\n",
       "      <td>9</td>\n",
       "      <td>NaN</td>\n",
       "      <td>NaN</td>\n",
       "      <td>NaN</td>\n",
       "      <td>117.0</td>\n",
       "      <td>NaN</td>\n",
       "      <td>NaN</td>\n",
       "      <td>NaN</td>\n",
       "      <td>NaN</td>\n",
       "      <td>NaN</td>\n",
       "      <td>NaN</td>\n",
       "      <td>NaN</td>\n",
       "      <td>107.0</td>\n",
       "      <td>NaN</td>\n",
       "      <td>99.0</td>\n",
       "      <td>203.0</td>\n",
       "    </tr>\n",
       "    <tr>\n",
       "      <th>9</th>\n",
       "      <td>10</td>\n",
       "      <td>NaN</td>\n",
       "      <td>NaN</td>\n",
       "      <td>NaN</td>\n",
       "      <td>NaN</td>\n",
       "      <td>NaN</td>\n",
       "      <td>NaN</td>\n",
       "      <td>NaN</td>\n",
       "      <td>NaN</td>\n",
       "      <td>NaN</td>\n",
       "      <td>NaN</td>\n",
       "      <td>NaN</td>\n",
       "      <td>203.0</td>\n",
       "      <td>NaN</td>\n",
       "      <td>102.0</td>\n",
       "      <td>204.0</td>\n",
       "    </tr>\n",
       "  </tbody>\n",
       "</table>\n",
       "</div>"
      ],
      "text/plain": [
       "   key  Bulk 1  Bulk 2  Bulk 3  Bulk 4  Bulk 5  Bulk 6  Bulk 7  Bulk 8  \\\n",
       "0    1     NaN     NaN     NaN    43.0     NaN     NaN     NaN     NaN   \n",
       "1    2     NaN     NaN     NaN    73.0     NaN     NaN     NaN     NaN   \n",
       "2    3     NaN     NaN     NaN    34.0     NaN     NaN     NaN     NaN   \n",
       "3    4     NaN     NaN     NaN    81.0     NaN     NaN     NaN     NaN   \n",
       "4    5     NaN     NaN     NaN    78.0     NaN     NaN     NaN     NaN   \n",
       "5    6     NaN     NaN     NaN   117.0     NaN     NaN     NaN     NaN   \n",
       "6    7     NaN     NaN     NaN   117.0     NaN     NaN     NaN     NaN   \n",
       "7    8     NaN     NaN     NaN    99.0     NaN     NaN     NaN     NaN   \n",
       "8    9     NaN     NaN     NaN   117.0     NaN     NaN     NaN     NaN   \n",
       "9   10     NaN     NaN     NaN     NaN     NaN     NaN     NaN     NaN   \n",
       "\n",
       "   Bulk 9  Bulk 10  Bulk 11  Bulk 12  Bulk 13  Bulk 14  Bulk 15  \n",
       "0     NaN      NaN      NaN    206.0      NaN    150.0    154.0  \n",
       "1     NaN      NaN      NaN    206.0      NaN    149.0    154.0  \n",
       "2     NaN      NaN      NaN    205.0      NaN    152.0    153.0  \n",
       "3     NaN      NaN      NaN    207.0      NaN    153.0    154.0  \n",
       "4     NaN      NaN      NaN    203.0      NaN    151.0    152.0  \n",
       "5     NaN      NaN      NaN    204.0      NaN    201.0    154.0  \n",
       "6     NaN      NaN      NaN    204.0      NaN    152.0    154.0  \n",
       "7     NaN      NaN      NaN    410.0      NaN    252.0    153.0  \n",
       "8     NaN      NaN      NaN    107.0      NaN     99.0    203.0  \n",
       "9     NaN      NaN      NaN    203.0      NaN    102.0    204.0  "
      ]
     },
     "metadata": {},
     "output_type": "display_data"
    },
    {
     "name": "stdout",
     "output_type": "stream",
     "text": [
      "Кол-во дубликатов: 0\n",
      "<class 'pandas.core.frame.DataFrame'>\n",
      "RangeIndex: 3129 entries, 0 to 3128\n",
      "Data columns (total 16 columns):\n",
      " #   Column   Non-Null Count  Dtype  \n",
      "---  ------   --------------  -----  \n",
      " 0   key      3129 non-null   int64  \n",
      " 1   Bulk 1   252 non-null    float64\n",
      " 2   Bulk 2   22 non-null     float64\n",
      " 3   Bulk 3   1298 non-null   float64\n",
      " 4   Bulk 4   1014 non-null   float64\n",
      " 5   Bulk 5   77 non-null     float64\n",
      " 6   Bulk 6   576 non-null    float64\n",
      " 7   Bulk 7   25 non-null     float64\n",
      " 8   Bulk 8   1 non-null      float64\n",
      " 9   Bulk 9   19 non-null     float64\n",
      " 10  Bulk 10  176 non-null    float64\n",
      " 11  Bulk 11  177 non-null    float64\n",
      " 12  Bulk 12  2450 non-null   float64\n",
      " 13  Bulk 13  18 non-null     float64\n",
      " 14  Bulk 14  2806 non-null   float64\n",
      " 15  Bulk 15  2248 non-null   float64\n",
      "dtypes: float64(15), int64(1)\n",
      "memory usage: 391.2 KB\n",
      "\n",
      "data_bulk_time_new.csv\n"
     ]
    },
    {
     "data": {
      "text/html": [
       "<div>\n",
       "<style scoped>\n",
       "    .dataframe tbody tr th:only-of-type {\n",
       "        vertical-align: middle;\n",
       "    }\n",
       "\n",
       "    .dataframe tbody tr th {\n",
       "        vertical-align: top;\n",
       "    }\n",
       "\n",
       "    .dataframe thead th {\n",
       "        text-align: right;\n",
       "    }\n",
       "</style>\n",
       "<table border=\"1\" class=\"dataframe\">\n",
       "  <thead>\n",
       "    <tr style=\"text-align: right;\">\n",
       "      <th></th>\n",
       "      <th>key</th>\n",
       "      <th>Bulk 1</th>\n",
       "      <th>Bulk 2</th>\n",
       "      <th>Bulk 3</th>\n",
       "      <th>Bulk 4</th>\n",
       "      <th>Bulk 5</th>\n",
       "      <th>Bulk 6</th>\n",
       "      <th>Bulk 7</th>\n",
       "      <th>Bulk 8</th>\n",
       "      <th>Bulk 9</th>\n",
       "      <th>Bulk 10</th>\n",
       "      <th>Bulk 11</th>\n",
       "      <th>Bulk 12</th>\n",
       "      <th>Bulk 13</th>\n",
       "      <th>Bulk 14</th>\n",
       "      <th>Bulk 15</th>\n",
       "    </tr>\n",
       "  </thead>\n",
       "  <tbody>\n",
       "    <tr>\n",
       "      <th>0</th>\n",
       "      <td>1</td>\n",
       "      <td>NaN</td>\n",
       "      <td>NaN</td>\n",
       "      <td>NaN</td>\n",
       "      <td>2019-05-03 11:28:48</td>\n",
       "      <td>NaN</td>\n",
       "      <td>NaN</td>\n",
       "      <td>NaN</td>\n",
       "      <td>NaN</td>\n",
       "      <td>NaN</td>\n",
       "      <td>NaN</td>\n",
       "      <td>NaN</td>\n",
       "      <td>2019-05-03 11:24:31</td>\n",
       "      <td>NaN</td>\n",
       "      <td>2019-05-03 11:14:50</td>\n",
       "      <td>2019-05-03 11:10:43</td>\n",
       "    </tr>\n",
       "    <tr>\n",
       "      <th>1</th>\n",
       "      <td>2</td>\n",
       "      <td>NaN</td>\n",
       "      <td>NaN</td>\n",
       "      <td>NaN</td>\n",
       "      <td>2019-05-03 11:36:50</td>\n",
       "      <td>NaN</td>\n",
       "      <td>NaN</td>\n",
       "      <td>NaN</td>\n",
       "      <td>NaN</td>\n",
       "      <td>NaN</td>\n",
       "      <td>NaN</td>\n",
       "      <td>NaN</td>\n",
       "      <td>2019-05-03 11:53:30</td>\n",
       "      <td>NaN</td>\n",
       "      <td>2019-05-03 11:48:37</td>\n",
       "      <td>2019-05-03 11:44:39</td>\n",
       "    </tr>\n",
       "    <tr>\n",
       "      <th>2</th>\n",
       "      <td>3</td>\n",
       "      <td>NaN</td>\n",
       "      <td>NaN</td>\n",
       "      <td>NaN</td>\n",
       "      <td>2019-05-03 12:32:39</td>\n",
       "      <td>NaN</td>\n",
       "      <td>NaN</td>\n",
       "      <td>NaN</td>\n",
       "      <td>NaN</td>\n",
       "      <td>NaN</td>\n",
       "      <td>NaN</td>\n",
       "      <td>NaN</td>\n",
       "      <td>2019-05-03 12:27:13</td>\n",
       "      <td>NaN</td>\n",
       "      <td>2019-05-03 12:21:01</td>\n",
       "      <td>2019-05-03 12:16:16</td>\n",
       "    </tr>\n",
       "    <tr>\n",
       "      <th>3</th>\n",
       "      <td>4</td>\n",
       "      <td>NaN</td>\n",
       "      <td>NaN</td>\n",
       "      <td>NaN</td>\n",
       "      <td>2019-05-03 12:43:22</td>\n",
       "      <td>NaN</td>\n",
       "      <td>NaN</td>\n",
       "      <td>NaN</td>\n",
       "      <td>NaN</td>\n",
       "      <td>NaN</td>\n",
       "      <td>NaN</td>\n",
       "      <td>NaN</td>\n",
       "      <td>2019-05-03 12:58:00</td>\n",
       "      <td>NaN</td>\n",
       "      <td>2019-05-03 12:51:11</td>\n",
       "      <td>2019-05-03 12:46:36</td>\n",
       "    </tr>\n",
       "    <tr>\n",
       "      <th>4</th>\n",
       "      <td>5</td>\n",
       "      <td>NaN</td>\n",
       "      <td>NaN</td>\n",
       "      <td>NaN</td>\n",
       "      <td>2019-05-03 13:30:47</td>\n",
       "      <td>NaN</td>\n",
       "      <td>NaN</td>\n",
       "      <td>NaN</td>\n",
       "      <td>NaN</td>\n",
       "      <td>NaN</td>\n",
       "      <td>NaN</td>\n",
       "      <td>NaN</td>\n",
       "      <td>2019-05-03 13:30:47</td>\n",
       "      <td>NaN</td>\n",
       "      <td>2019-05-03 13:34:12</td>\n",
       "      <td>2019-05-03 13:30:47</td>\n",
       "    </tr>\n",
       "    <tr>\n",
       "      <th>5</th>\n",
       "      <td>6</td>\n",
       "      <td>NaN</td>\n",
       "      <td>NaN</td>\n",
       "      <td>NaN</td>\n",
       "      <td>2019-05-03 13:57:27</td>\n",
       "      <td>NaN</td>\n",
       "      <td>NaN</td>\n",
       "      <td>NaN</td>\n",
       "      <td>NaN</td>\n",
       "      <td>NaN</td>\n",
       "      <td>NaN</td>\n",
       "      <td>NaN</td>\n",
       "      <td>2019-05-03 13:48:52</td>\n",
       "      <td>NaN</td>\n",
       "      <td>2019-05-03 14:09:42</td>\n",
       "      <td>2019-05-03 14:03:15</td>\n",
       "    </tr>\n",
       "    <tr>\n",
       "      <th>6</th>\n",
       "      <td>7</td>\n",
       "      <td>NaN</td>\n",
       "      <td>NaN</td>\n",
       "      <td>NaN</td>\n",
       "      <td>2019-05-03 14:18:58</td>\n",
       "      <td>NaN</td>\n",
       "      <td>NaN</td>\n",
       "      <td>NaN</td>\n",
       "      <td>NaN</td>\n",
       "      <td>NaN</td>\n",
       "      <td>NaN</td>\n",
       "      <td>NaN</td>\n",
       "      <td>2019-05-03 14:41:26</td>\n",
       "      <td>NaN</td>\n",
       "      <td>2019-05-03 14:30:50</td>\n",
       "      <td>2019-05-03 14:27:16</td>\n",
       "    </tr>\n",
       "    <tr>\n",
       "      <th>7</th>\n",
       "      <td>8</td>\n",
       "      <td>NaN</td>\n",
       "      <td>NaN</td>\n",
       "      <td>NaN</td>\n",
       "      <td>2019-05-03 15:17:58</td>\n",
       "      <td>NaN</td>\n",
       "      <td>NaN</td>\n",
       "      <td>NaN</td>\n",
       "      <td>NaN</td>\n",
       "      <td>NaN</td>\n",
       "      <td>NaN</td>\n",
       "      <td>NaN</td>\n",
       "      <td>2019-05-03 15:17:58</td>\n",
       "      <td>NaN</td>\n",
       "      <td>2019-05-03 15:13:18</td>\n",
       "      <td>2019-05-03 15:05:33</td>\n",
       "    </tr>\n",
       "    <tr>\n",
       "      <th>8</th>\n",
       "      <td>9</td>\n",
       "      <td>NaN</td>\n",
       "      <td>NaN</td>\n",
       "      <td>NaN</td>\n",
       "      <td>2019-05-03 16:03:08</td>\n",
       "      <td>NaN</td>\n",
       "      <td>NaN</td>\n",
       "      <td>NaN</td>\n",
       "      <td>NaN</td>\n",
       "      <td>NaN</td>\n",
       "      <td>NaN</td>\n",
       "      <td>NaN</td>\n",
       "      <td>2019-05-03 16:03:08</td>\n",
       "      <td>NaN</td>\n",
       "      <td>2019-05-03 16:00:16</td>\n",
       "      <td>2019-05-03 15:52:39</td>\n",
       "    </tr>\n",
       "    <tr>\n",
       "      <th>9</th>\n",
       "      <td>10</td>\n",
       "      <td>NaN</td>\n",
       "      <td>NaN</td>\n",
       "      <td>NaN</td>\n",
       "      <td>NaN</td>\n",
       "      <td>NaN</td>\n",
       "      <td>NaN</td>\n",
       "      <td>NaN</td>\n",
       "      <td>NaN</td>\n",
       "      <td>NaN</td>\n",
       "      <td>NaN</td>\n",
       "      <td>NaN</td>\n",
       "      <td>2019-05-03 16:38:11</td>\n",
       "      <td>NaN</td>\n",
       "      <td>2019-05-03 16:34:24</td>\n",
       "      <td>2019-05-03 16:29:56</td>\n",
       "    </tr>\n",
       "  </tbody>\n",
       "</table>\n",
       "</div>"
      ],
      "text/plain": [
       "   key Bulk 1 Bulk 2 Bulk 3               Bulk 4 Bulk 5 Bulk 6 Bulk 7 Bulk 8  \\\n",
       "0    1    NaN    NaN    NaN  2019-05-03 11:28:48    NaN    NaN    NaN    NaN   \n",
       "1    2    NaN    NaN    NaN  2019-05-03 11:36:50    NaN    NaN    NaN    NaN   \n",
       "2    3    NaN    NaN    NaN  2019-05-03 12:32:39    NaN    NaN    NaN    NaN   \n",
       "3    4    NaN    NaN    NaN  2019-05-03 12:43:22    NaN    NaN    NaN    NaN   \n",
       "4    5    NaN    NaN    NaN  2019-05-03 13:30:47    NaN    NaN    NaN    NaN   \n",
       "5    6    NaN    NaN    NaN  2019-05-03 13:57:27    NaN    NaN    NaN    NaN   \n",
       "6    7    NaN    NaN    NaN  2019-05-03 14:18:58    NaN    NaN    NaN    NaN   \n",
       "7    8    NaN    NaN    NaN  2019-05-03 15:17:58    NaN    NaN    NaN    NaN   \n",
       "8    9    NaN    NaN    NaN  2019-05-03 16:03:08    NaN    NaN    NaN    NaN   \n",
       "9   10    NaN    NaN    NaN                  NaN    NaN    NaN    NaN    NaN   \n",
       "\n",
       "  Bulk 9 Bulk 10 Bulk 11              Bulk 12 Bulk 13              Bulk 14  \\\n",
       "0    NaN     NaN     NaN  2019-05-03 11:24:31     NaN  2019-05-03 11:14:50   \n",
       "1    NaN     NaN     NaN  2019-05-03 11:53:30     NaN  2019-05-03 11:48:37   \n",
       "2    NaN     NaN     NaN  2019-05-03 12:27:13     NaN  2019-05-03 12:21:01   \n",
       "3    NaN     NaN     NaN  2019-05-03 12:58:00     NaN  2019-05-03 12:51:11   \n",
       "4    NaN     NaN     NaN  2019-05-03 13:30:47     NaN  2019-05-03 13:34:12   \n",
       "5    NaN     NaN     NaN  2019-05-03 13:48:52     NaN  2019-05-03 14:09:42   \n",
       "6    NaN     NaN     NaN  2019-05-03 14:41:26     NaN  2019-05-03 14:30:50   \n",
       "7    NaN     NaN     NaN  2019-05-03 15:17:58     NaN  2019-05-03 15:13:18   \n",
       "8    NaN     NaN     NaN  2019-05-03 16:03:08     NaN  2019-05-03 16:00:16   \n",
       "9    NaN     NaN     NaN  2019-05-03 16:38:11     NaN  2019-05-03 16:34:24   \n",
       "\n",
       "               Bulk 15  \n",
       "0  2019-05-03 11:10:43  \n",
       "1  2019-05-03 11:44:39  \n",
       "2  2019-05-03 12:16:16  \n",
       "3  2019-05-03 12:46:36  \n",
       "4  2019-05-03 13:30:47  \n",
       "5  2019-05-03 14:03:15  \n",
       "6  2019-05-03 14:27:16  \n",
       "7  2019-05-03 15:05:33  \n",
       "8  2019-05-03 15:52:39  \n",
       "9  2019-05-03 16:29:56  "
      ]
     },
     "metadata": {},
     "output_type": "display_data"
    },
    {
     "name": "stdout",
     "output_type": "stream",
     "text": [
      "Кол-во дубликатов: 0\n",
      "<class 'pandas.core.frame.DataFrame'>\n",
      "RangeIndex: 3129 entries, 0 to 3128\n",
      "Data columns (total 16 columns):\n",
      " #   Column   Non-Null Count  Dtype \n",
      "---  ------   --------------  ----- \n",
      " 0   key      3129 non-null   int64 \n",
      " 1   Bulk 1   252 non-null    object\n",
      " 2   Bulk 2   22 non-null     object\n",
      " 3   Bulk 3   1298 non-null   object\n",
      " 4   Bulk 4   1014 non-null   object\n",
      " 5   Bulk 5   77 non-null     object\n",
      " 6   Bulk 6   576 non-null    object\n",
      " 7   Bulk 7   25 non-null     object\n",
      " 8   Bulk 8   1 non-null      object\n",
      " 9   Bulk 9   19 non-null     object\n",
      " 10  Bulk 10  176 non-null    object\n",
      " 11  Bulk 11  177 non-null    object\n",
      " 12  Bulk 12  2450 non-null   object\n",
      " 13  Bulk 13  18 non-null     object\n",
      " 14  Bulk 14  2806 non-null   object\n",
      " 15  Bulk 15  2248 non-null   object\n",
      "dtypes: int64(1), object(15)\n",
      "memory usage: 391.2+ KB\n",
      "\n",
      "data_gas_new.csv\n"
     ]
    },
    {
     "data": {
      "text/html": [
       "<div>\n",
       "<style scoped>\n",
       "    .dataframe tbody tr th:only-of-type {\n",
       "        vertical-align: middle;\n",
       "    }\n",
       "\n",
       "    .dataframe tbody tr th {\n",
       "        vertical-align: top;\n",
       "    }\n",
       "\n",
       "    .dataframe thead th {\n",
       "        text-align: right;\n",
       "    }\n",
       "</style>\n",
       "<table border=\"1\" class=\"dataframe\">\n",
       "  <thead>\n",
       "    <tr style=\"text-align: right;\">\n",
       "      <th></th>\n",
       "      <th>key</th>\n",
       "      <th>Газ 1</th>\n",
       "    </tr>\n",
       "  </thead>\n",
       "  <tbody>\n",
       "    <tr>\n",
       "      <th>0</th>\n",
       "      <td>1</td>\n",
       "      <td>29.749986</td>\n",
       "    </tr>\n",
       "    <tr>\n",
       "      <th>1</th>\n",
       "      <td>2</td>\n",
       "      <td>12.555561</td>\n",
       "    </tr>\n",
       "    <tr>\n",
       "      <th>2</th>\n",
       "      <td>3</td>\n",
       "      <td>28.554793</td>\n",
       "    </tr>\n",
       "    <tr>\n",
       "      <th>3</th>\n",
       "      <td>4</td>\n",
       "      <td>18.841219</td>\n",
       "    </tr>\n",
       "    <tr>\n",
       "      <th>4</th>\n",
       "      <td>5</td>\n",
       "      <td>5.413692</td>\n",
       "    </tr>\n",
       "    <tr>\n",
       "      <th>5</th>\n",
       "      <td>6</td>\n",
       "      <td>11.273392</td>\n",
       "    </tr>\n",
       "    <tr>\n",
       "      <th>6</th>\n",
       "      <td>7</td>\n",
       "      <td>9.836267</td>\n",
       "    </tr>\n",
       "    <tr>\n",
       "      <th>7</th>\n",
       "      <td>8</td>\n",
       "      <td>15.171553</td>\n",
       "    </tr>\n",
       "    <tr>\n",
       "      <th>8</th>\n",
       "      <td>9</td>\n",
       "      <td>8.216623</td>\n",
       "    </tr>\n",
       "    <tr>\n",
       "      <th>9</th>\n",
       "      <td>10</td>\n",
       "      <td>6.529891</td>\n",
       "    </tr>\n",
       "  </tbody>\n",
       "</table>\n",
       "</div>"
      ],
      "text/plain": [
       "   key      Газ 1\n",
       "0    1  29.749986\n",
       "1    2  12.555561\n",
       "2    3  28.554793\n",
       "3    4  18.841219\n",
       "4    5   5.413692\n",
       "5    6  11.273392\n",
       "6    7   9.836267\n",
       "7    8  15.171553\n",
       "8    9   8.216623\n",
       "9   10   6.529891"
      ]
     },
     "metadata": {},
     "output_type": "display_data"
    },
    {
     "name": "stdout",
     "output_type": "stream",
     "text": [
      "Кол-во дубликатов: 0\n",
      "<class 'pandas.core.frame.DataFrame'>\n",
      "RangeIndex: 3239 entries, 0 to 3238\n",
      "Data columns (total 2 columns):\n",
      " #   Column  Non-Null Count  Dtype  \n",
      "---  ------  --------------  -----  \n",
      " 0   key     3239 non-null   int64  \n",
      " 1   Газ 1   3239 non-null   float64\n",
      "dtypes: float64(1), int64(1)\n",
      "memory usage: 50.7 KB\n",
      "\n",
      "data_temp_new.csv\n"
     ]
    },
    {
     "data": {
      "text/html": [
       "<div>\n",
       "<style scoped>\n",
       "    .dataframe tbody tr th:only-of-type {\n",
       "        vertical-align: middle;\n",
       "    }\n",
       "\n",
       "    .dataframe tbody tr th {\n",
       "        vertical-align: top;\n",
       "    }\n",
       "\n",
       "    .dataframe thead th {\n",
       "        text-align: right;\n",
       "    }\n",
       "</style>\n",
       "<table border=\"1\" class=\"dataframe\">\n",
       "  <thead>\n",
       "    <tr style=\"text-align: right;\">\n",
       "      <th></th>\n",
       "      <th>key</th>\n",
       "      <th>Время замера</th>\n",
       "      <th>Температура</th>\n",
       "    </tr>\n",
       "  </thead>\n",
       "  <tbody>\n",
       "    <tr>\n",
       "      <th>0</th>\n",
       "      <td>1</td>\n",
       "      <td>2019-05-03 11:02:04</td>\n",
       "      <td>1571.0</td>\n",
       "    </tr>\n",
       "    <tr>\n",
       "      <th>1</th>\n",
       "      <td>1</td>\n",
       "      <td>2019-05-03 11:07:18</td>\n",
       "      <td>1604.0</td>\n",
       "    </tr>\n",
       "    <tr>\n",
       "      <th>2</th>\n",
       "      <td>1</td>\n",
       "      <td>2019-05-03 11:11:34</td>\n",
       "      <td>1618.0</td>\n",
       "    </tr>\n",
       "    <tr>\n",
       "      <th>3</th>\n",
       "      <td>1</td>\n",
       "      <td>2019-05-03 11:18:04</td>\n",
       "      <td>1601.0</td>\n",
       "    </tr>\n",
       "    <tr>\n",
       "      <th>4</th>\n",
       "      <td>1</td>\n",
       "      <td>2019-05-03 11:25:59</td>\n",
       "      <td>1606.0</td>\n",
       "    </tr>\n",
       "    <tr>\n",
       "      <th>5</th>\n",
       "      <td>1</td>\n",
       "      <td>2019-05-03 11:30:38</td>\n",
       "      <td>1613.0</td>\n",
       "    </tr>\n",
       "    <tr>\n",
       "      <th>6</th>\n",
       "      <td>2</td>\n",
       "      <td>2019-05-03 11:34:04</td>\n",
       "      <td>1581.0</td>\n",
       "    </tr>\n",
       "    <tr>\n",
       "      <th>7</th>\n",
       "      <td>2</td>\n",
       "      <td>2019-05-03 11:38:40</td>\n",
       "      <td>1577.0</td>\n",
       "    </tr>\n",
       "    <tr>\n",
       "      <th>8</th>\n",
       "      <td>2</td>\n",
       "      <td>2019-05-03 11:46:09</td>\n",
       "      <td>1589.0</td>\n",
       "    </tr>\n",
       "    <tr>\n",
       "      <th>9</th>\n",
       "      <td>2</td>\n",
       "      <td>2019-05-03 11:49:38</td>\n",
       "      <td>1604.0</td>\n",
       "    </tr>\n",
       "  </tbody>\n",
       "</table>\n",
       "</div>"
      ],
      "text/plain": [
       "   key         Время замера  Температура\n",
       "0    1  2019-05-03 11:02:04       1571.0\n",
       "1    1  2019-05-03 11:07:18       1604.0\n",
       "2    1  2019-05-03 11:11:34       1618.0\n",
       "3    1  2019-05-03 11:18:04       1601.0\n",
       "4    1  2019-05-03 11:25:59       1606.0\n",
       "5    1  2019-05-03 11:30:38       1613.0\n",
       "6    2  2019-05-03 11:34:04       1581.0\n",
       "7    2  2019-05-03 11:38:40       1577.0\n",
       "8    2  2019-05-03 11:46:09       1589.0\n",
       "9    2  2019-05-03 11:49:38       1604.0"
      ]
     },
     "metadata": {},
     "output_type": "display_data"
    },
    {
     "name": "stdout",
     "output_type": "stream",
     "text": [
      "Кол-во дубликатов: 0\n",
      "<class 'pandas.core.frame.DataFrame'>\n",
      "RangeIndex: 18092 entries, 0 to 18091\n",
      "Data columns (total 3 columns):\n",
      " #   Column        Non-Null Count  Dtype  \n",
      "---  ------        --------------  -----  \n",
      " 0   key           18092 non-null  int64  \n",
      " 1   Время замера  18092 non-null  object \n",
      " 2   Температура   14665 non-null  float64\n",
      "dtypes: float64(1), int64(1), object(1)\n",
      "memory usage: 424.2+ KB\n",
      "\n",
      "data_wire_new.csv\n"
     ]
    },
    {
     "data": {
      "text/html": [
       "<div>\n",
       "<style scoped>\n",
       "    .dataframe tbody tr th:only-of-type {\n",
       "        vertical-align: middle;\n",
       "    }\n",
       "\n",
       "    .dataframe tbody tr th {\n",
       "        vertical-align: top;\n",
       "    }\n",
       "\n",
       "    .dataframe thead th {\n",
       "        text-align: right;\n",
       "    }\n",
       "</style>\n",
       "<table border=\"1\" class=\"dataframe\">\n",
       "  <thead>\n",
       "    <tr style=\"text-align: right;\">\n",
       "      <th></th>\n",
       "      <th>key</th>\n",
       "      <th>Wire 1</th>\n",
       "      <th>Wire 2</th>\n",
       "      <th>Wire 3</th>\n",
       "      <th>Wire 4</th>\n",
       "      <th>Wire 5</th>\n",
       "      <th>Wire 6</th>\n",
       "      <th>Wire 7</th>\n",
       "      <th>Wire 8</th>\n",
       "      <th>Wire 9</th>\n",
       "    </tr>\n",
       "  </thead>\n",
       "  <tbody>\n",
       "    <tr>\n",
       "      <th>0</th>\n",
       "      <td>1</td>\n",
       "      <td>60.059998</td>\n",
       "      <td>NaN</td>\n",
       "      <td>NaN</td>\n",
       "      <td>NaN</td>\n",
       "      <td>NaN</td>\n",
       "      <td>NaN</td>\n",
       "      <td>NaN</td>\n",
       "      <td>NaN</td>\n",
       "      <td>NaN</td>\n",
       "    </tr>\n",
       "    <tr>\n",
       "      <th>1</th>\n",
       "      <td>2</td>\n",
       "      <td>96.052315</td>\n",
       "      <td>NaN</td>\n",
       "      <td>NaN</td>\n",
       "      <td>NaN</td>\n",
       "      <td>NaN</td>\n",
       "      <td>NaN</td>\n",
       "      <td>NaN</td>\n",
       "      <td>NaN</td>\n",
       "      <td>NaN</td>\n",
       "    </tr>\n",
       "    <tr>\n",
       "      <th>2</th>\n",
       "      <td>3</td>\n",
       "      <td>91.160157</td>\n",
       "      <td>NaN</td>\n",
       "      <td>NaN</td>\n",
       "      <td>NaN</td>\n",
       "      <td>NaN</td>\n",
       "      <td>NaN</td>\n",
       "      <td>NaN</td>\n",
       "      <td>NaN</td>\n",
       "      <td>NaN</td>\n",
       "    </tr>\n",
       "    <tr>\n",
       "      <th>3</th>\n",
       "      <td>4</td>\n",
       "      <td>89.063515</td>\n",
       "      <td>NaN</td>\n",
       "      <td>NaN</td>\n",
       "      <td>NaN</td>\n",
       "      <td>NaN</td>\n",
       "      <td>NaN</td>\n",
       "      <td>NaN</td>\n",
       "      <td>NaN</td>\n",
       "      <td>NaN</td>\n",
       "    </tr>\n",
       "    <tr>\n",
       "      <th>4</th>\n",
       "      <td>5</td>\n",
       "      <td>89.238236</td>\n",
       "      <td>9.114560</td>\n",
       "      <td>NaN</td>\n",
       "      <td>NaN</td>\n",
       "      <td>NaN</td>\n",
       "      <td>NaN</td>\n",
       "      <td>NaN</td>\n",
       "      <td>NaN</td>\n",
       "      <td>NaN</td>\n",
       "    </tr>\n",
       "    <tr>\n",
       "      <th>5</th>\n",
       "      <td>6</td>\n",
       "      <td>99.109917</td>\n",
       "      <td>9.114560</td>\n",
       "      <td>NaN</td>\n",
       "      <td>NaN</td>\n",
       "      <td>NaN</td>\n",
       "      <td>NaN</td>\n",
       "      <td>NaN</td>\n",
       "      <td>NaN</td>\n",
       "      <td>NaN</td>\n",
       "    </tr>\n",
       "    <tr>\n",
       "      <th>6</th>\n",
       "      <td>7</td>\n",
       "      <td>98.061600</td>\n",
       "      <td>NaN</td>\n",
       "      <td>NaN</td>\n",
       "      <td>NaN</td>\n",
       "      <td>NaN</td>\n",
       "      <td>NaN</td>\n",
       "      <td>NaN</td>\n",
       "      <td>NaN</td>\n",
       "      <td>NaN</td>\n",
       "    </tr>\n",
       "    <tr>\n",
       "      <th>7</th>\n",
       "      <td>8</td>\n",
       "      <td>155.282394</td>\n",
       "      <td>NaN</td>\n",
       "      <td>NaN</td>\n",
       "      <td>NaN</td>\n",
       "      <td>NaN</td>\n",
       "      <td>NaN</td>\n",
       "      <td>NaN</td>\n",
       "      <td>NaN</td>\n",
       "      <td>NaN</td>\n",
       "    </tr>\n",
       "    <tr>\n",
       "      <th>8</th>\n",
       "      <td>9</td>\n",
       "      <td>113.393279</td>\n",
       "      <td>9.143681</td>\n",
       "      <td>NaN</td>\n",
       "      <td>NaN</td>\n",
       "      <td>NaN</td>\n",
       "      <td>NaN</td>\n",
       "      <td>NaN</td>\n",
       "      <td>NaN</td>\n",
       "      <td>NaN</td>\n",
       "    </tr>\n",
       "    <tr>\n",
       "      <th>9</th>\n",
       "      <td>10</td>\n",
       "      <td>81.244796</td>\n",
       "      <td>12.376000</td>\n",
       "      <td>NaN</td>\n",
       "      <td>NaN</td>\n",
       "      <td>NaN</td>\n",
       "      <td>NaN</td>\n",
       "      <td>NaN</td>\n",
       "      <td>NaN</td>\n",
       "      <td>NaN</td>\n",
       "    </tr>\n",
       "  </tbody>\n",
       "</table>\n",
       "</div>"
      ],
      "text/plain": [
       "   key      Wire 1     Wire 2  Wire 3  Wire 4  Wire 5  Wire 6  Wire 7  Wire 8  \\\n",
       "0    1   60.059998        NaN     NaN     NaN     NaN     NaN     NaN     NaN   \n",
       "1    2   96.052315        NaN     NaN     NaN     NaN     NaN     NaN     NaN   \n",
       "2    3   91.160157        NaN     NaN     NaN     NaN     NaN     NaN     NaN   \n",
       "3    4   89.063515        NaN     NaN     NaN     NaN     NaN     NaN     NaN   \n",
       "4    5   89.238236   9.114560     NaN     NaN     NaN     NaN     NaN     NaN   \n",
       "5    6   99.109917   9.114560     NaN     NaN     NaN     NaN     NaN     NaN   \n",
       "6    7   98.061600        NaN     NaN     NaN     NaN     NaN     NaN     NaN   \n",
       "7    8  155.282394        NaN     NaN     NaN     NaN     NaN     NaN     NaN   \n",
       "8    9  113.393279   9.143681     NaN     NaN     NaN     NaN     NaN     NaN   \n",
       "9   10   81.244796  12.376000     NaN     NaN     NaN     NaN     NaN     NaN   \n",
       "\n",
       "   Wire 9  \n",
       "0     NaN  \n",
       "1     NaN  \n",
       "2     NaN  \n",
       "3     NaN  \n",
       "4     NaN  \n",
       "5     NaN  \n",
       "6     NaN  \n",
       "7     NaN  \n",
       "8     NaN  \n",
       "9     NaN  "
      ]
     },
     "metadata": {},
     "output_type": "display_data"
    },
    {
     "name": "stdout",
     "output_type": "stream",
     "text": [
      "Кол-во дубликатов: 0\n",
      "<class 'pandas.core.frame.DataFrame'>\n",
      "RangeIndex: 3081 entries, 0 to 3080\n",
      "Data columns (total 10 columns):\n",
      " #   Column  Non-Null Count  Dtype  \n",
      "---  ------  --------------  -----  \n",
      " 0   key     3081 non-null   int64  \n",
      " 1   Wire 1  3055 non-null   float64\n",
      " 2   Wire 2  1079 non-null   float64\n",
      " 3   Wire 3  63 non-null     float64\n",
      " 4   Wire 4  14 non-null     float64\n",
      " 5   Wire 5  1 non-null      float64\n",
      " 6   Wire 6  73 non-null     float64\n",
      " 7   Wire 7  11 non-null     float64\n",
      " 8   Wire 8  19 non-null     float64\n",
      " 9   Wire 9  29 non-null     float64\n",
      "dtypes: float64(9), int64(1)\n",
      "memory usage: 240.8 KB\n",
      "\n",
      "data_wire_time_new.csv\n"
     ]
    },
    {
     "data": {
      "text/html": [
       "<div>\n",
       "<style scoped>\n",
       "    .dataframe tbody tr th:only-of-type {\n",
       "        vertical-align: middle;\n",
       "    }\n",
       "\n",
       "    .dataframe tbody tr th {\n",
       "        vertical-align: top;\n",
       "    }\n",
       "\n",
       "    .dataframe thead th {\n",
       "        text-align: right;\n",
       "    }\n",
       "</style>\n",
       "<table border=\"1\" class=\"dataframe\">\n",
       "  <thead>\n",
       "    <tr style=\"text-align: right;\">\n",
       "      <th></th>\n",
       "      <th>key</th>\n",
       "      <th>Wire 1</th>\n",
       "      <th>Wire 2</th>\n",
       "      <th>Wire 3</th>\n",
       "      <th>Wire 4</th>\n",
       "      <th>Wire 5</th>\n",
       "      <th>Wire 6</th>\n",
       "      <th>Wire 7</th>\n",
       "      <th>Wire 8</th>\n",
       "      <th>Wire 9</th>\n",
       "    </tr>\n",
       "  </thead>\n",
       "  <tbody>\n",
       "    <tr>\n",
       "      <th>0</th>\n",
       "      <td>1</td>\n",
       "      <td>2019-05-03 11:06:19</td>\n",
       "      <td>NaN</td>\n",
       "      <td>NaN</td>\n",
       "      <td>NaN</td>\n",
       "      <td>NaN</td>\n",
       "      <td>NaN</td>\n",
       "      <td>NaN</td>\n",
       "      <td>NaN</td>\n",
       "      <td>NaN</td>\n",
       "    </tr>\n",
       "    <tr>\n",
       "      <th>1</th>\n",
       "      <td>2</td>\n",
       "      <td>2019-05-03 11:36:50</td>\n",
       "      <td>NaN</td>\n",
       "      <td>NaN</td>\n",
       "      <td>NaN</td>\n",
       "      <td>NaN</td>\n",
       "      <td>NaN</td>\n",
       "      <td>NaN</td>\n",
       "      <td>NaN</td>\n",
       "      <td>NaN</td>\n",
       "    </tr>\n",
       "    <tr>\n",
       "      <th>2</th>\n",
       "      <td>3</td>\n",
       "      <td>2019-05-03 12:11:46</td>\n",
       "      <td>NaN</td>\n",
       "      <td>NaN</td>\n",
       "      <td>NaN</td>\n",
       "      <td>NaN</td>\n",
       "      <td>NaN</td>\n",
       "      <td>NaN</td>\n",
       "      <td>NaN</td>\n",
       "      <td>NaN</td>\n",
       "    </tr>\n",
       "    <tr>\n",
       "      <th>3</th>\n",
       "      <td>4</td>\n",
       "      <td>2019-05-03 12:43:22</td>\n",
       "      <td>NaN</td>\n",
       "      <td>NaN</td>\n",
       "      <td>NaN</td>\n",
       "      <td>NaN</td>\n",
       "      <td>NaN</td>\n",
       "      <td>NaN</td>\n",
       "      <td>NaN</td>\n",
       "      <td>NaN</td>\n",
       "    </tr>\n",
       "    <tr>\n",
       "      <th>4</th>\n",
       "      <td>5</td>\n",
       "      <td>2019-05-03 13:20:44</td>\n",
       "      <td>2019-05-03 13:15:34</td>\n",
       "      <td>NaN</td>\n",
       "      <td>NaN</td>\n",
       "      <td>NaN</td>\n",
       "      <td>NaN</td>\n",
       "      <td>NaN</td>\n",
       "      <td>NaN</td>\n",
       "      <td>NaN</td>\n",
       "    </tr>\n",
       "    <tr>\n",
       "      <th>5</th>\n",
       "      <td>6</td>\n",
       "      <td>2019-05-03 13:57:27</td>\n",
       "      <td>2019-05-03 13:48:52</td>\n",
       "      <td>NaN</td>\n",
       "      <td>NaN</td>\n",
       "      <td>NaN</td>\n",
       "      <td>NaN</td>\n",
       "      <td>NaN</td>\n",
       "      <td>NaN</td>\n",
       "      <td>NaN</td>\n",
       "    </tr>\n",
       "    <tr>\n",
       "      <th>6</th>\n",
       "      <td>7</td>\n",
       "      <td>2019-05-03 14:18:58</td>\n",
       "      <td>NaN</td>\n",
       "      <td>NaN</td>\n",
       "      <td>NaN</td>\n",
       "      <td>NaN</td>\n",
       "      <td>NaN</td>\n",
       "      <td>NaN</td>\n",
       "      <td>NaN</td>\n",
       "      <td>NaN</td>\n",
       "    </tr>\n",
       "    <tr>\n",
       "      <th>7</th>\n",
       "      <td>8</td>\n",
       "      <td>2019-05-03 15:01:30</td>\n",
       "      <td>NaN</td>\n",
       "      <td>NaN</td>\n",
       "      <td>NaN</td>\n",
       "      <td>NaN</td>\n",
       "      <td>NaN</td>\n",
       "      <td>NaN</td>\n",
       "      <td>NaN</td>\n",
       "      <td>NaN</td>\n",
       "    </tr>\n",
       "    <tr>\n",
       "      <th>8</th>\n",
       "      <td>9</td>\n",
       "      <td>2019-05-03 15:45:44</td>\n",
       "      <td>2019-05-03 15:39:37</td>\n",
       "      <td>NaN</td>\n",
       "      <td>NaN</td>\n",
       "      <td>NaN</td>\n",
       "      <td>NaN</td>\n",
       "      <td>NaN</td>\n",
       "      <td>NaN</td>\n",
       "      <td>NaN</td>\n",
       "    </tr>\n",
       "    <tr>\n",
       "      <th>9</th>\n",
       "      <td>10</td>\n",
       "      <td>2019-05-03 16:27:00</td>\n",
       "      <td>2019-05-03 16:22:36</td>\n",
       "      <td>NaN</td>\n",
       "      <td>NaN</td>\n",
       "      <td>NaN</td>\n",
       "      <td>NaN</td>\n",
       "      <td>NaN</td>\n",
       "      <td>NaN</td>\n",
       "      <td>NaN</td>\n",
       "    </tr>\n",
       "  </tbody>\n",
       "</table>\n",
       "</div>"
      ],
      "text/plain": [
       "   key               Wire 1               Wire 2 Wire 3 Wire 4 Wire 5 Wire 6  \\\n",
       "0    1  2019-05-03 11:06:19                  NaN    NaN    NaN    NaN    NaN   \n",
       "1    2  2019-05-03 11:36:50                  NaN    NaN    NaN    NaN    NaN   \n",
       "2    3  2019-05-03 12:11:46                  NaN    NaN    NaN    NaN    NaN   \n",
       "3    4  2019-05-03 12:43:22                  NaN    NaN    NaN    NaN    NaN   \n",
       "4    5  2019-05-03 13:20:44  2019-05-03 13:15:34    NaN    NaN    NaN    NaN   \n",
       "5    6  2019-05-03 13:57:27  2019-05-03 13:48:52    NaN    NaN    NaN    NaN   \n",
       "6    7  2019-05-03 14:18:58                  NaN    NaN    NaN    NaN    NaN   \n",
       "7    8  2019-05-03 15:01:30                  NaN    NaN    NaN    NaN    NaN   \n",
       "8    9  2019-05-03 15:45:44  2019-05-03 15:39:37    NaN    NaN    NaN    NaN   \n",
       "9   10  2019-05-03 16:27:00  2019-05-03 16:22:36    NaN    NaN    NaN    NaN   \n",
       "\n",
       "  Wire 7 Wire 8 Wire 9  \n",
       "0    NaN    NaN    NaN  \n",
       "1    NaN    NaN    NaN  \n",
       "2    NaN    NaN    NaN  \n",
       "3    NaN    NaN    NaN  \n",
       "4    NaN    NaN    NaN  \n",
       "5    NaN    NaN    NaN  \n",
       "6    NaN    NaN    NaN  \n",
       "7    NaN    NaN    NaN  \n",
       "8    NaN    NaN    NaN  \n",
       "9    NaN    NaN    NaN  "
      ]
     },
     "metadata": {},
     "output_type": "display_data"
    },
    {
     "name": "stdout",
     "output_type": "stream",
     "text": [
      "Кол-во дубликатов: 0\n",
      "<class 'pandas.core.frame.DataFrame'>\n",
      "RangeIndex: 3081 entries, 0 to 3080\n",
      "Data columns (total 10 columns):\n",
      " #   Column  Non-Null Count  Dtype \n",
      "---  ------  --------------  ----- \n",
      " 0   key     3081 non-null   int64 \n",
      " 1   Wire 1  3055 non-null   object\n",
      " 2   Wire 2  1079 non-null   object\n",
      " 3   Wire 3  63 non-null     object\n",
      " 4   Wire 4  14 non-null     object\n",
      " 5   Wire 5  1 non-null      object\n",
      " 6   Wire 6  73 non-null     object\n",
      " 7   Wire 7  11 non-null     object\n",
      " 8   Wire 8  19 non-null     object\n",
      " 9   Wire 9  29 non-null     object\n",
      "dtypes: int64(1), object(9)\n",
      "memory usage: 240.8+ KB\n",
      "\n"
     ]
    }
   ],
   "source": [
    "files = ['data_arc_new.csv', 'data_bulk_new.csv', 'data_bulk_time_new.csv', 'data_gas_new.csv', 'data_temp_new.csv', 'data_wire_new.csv', \n",
    "         'data_wire_time_new.csv'] \n",
    "for i in files:\n",
    "    try:\n",
    "        print (i)\n",
    "        file = pd.read_csv ('/datasets/' + i)\n",
    "        display(file.head(10))\n",
    "        print ('Кол-во дубликатов:', file.duplicated().sum())\n",
    "        file.info()\n",
    "        print ()\n",
    "    except:\n",
    "        print (f'Данные {i} не загружены')"
   ]
  },
  {
   "cell_type": "markdown",
   "id": "426b70de",
   "metadata": {},
   "source": [
    "   Файл `data_arc_new.csv` содержит сведения об электродах: номер партии, время начала и окончания нагрева, значения активной и реактивной мощности - всего 5 столбцов и 14876 строк без пропусков и дубликатов. При этом номер партии повторяется в нескольких строках, а время начала и окончания нагрева имеет строковый тип данных, хотя по содержанию больше подходит временной тип данных. Исправим это. А также добавим столбец с информацией о длительности нагрева в секундах."
   ]
  },
  {
   "cell_type": "code",
   "execution_count": 4,
   "id": "778defb6",
   "metadata": {},
   "outputs": [
    {
     "data": {
      "text/html": [
       "<div>\n",
       "<style scoped>\n",
       "    .dataframe tbody tr th:only-of-type {\n",
       "        vertical-align: middle;\n",
       "    }\n",
       "\n",
       "    .dataframe tbody tr th {\n",
       "        vertical-align: top;\n",
       "    }\n",
       "\n",
       "    .dataframe thead th {\n",
       "        text-align: right;\n",
       "    }\n",
       "</style>\n",
       "<table border=\"1\" class=\"dataframe\">\n",
       "  <thead>\n",
       "    <tr style=\"text-align: right;\">\n",
       "      <th></th>\n",
       "      <th>key</th>\n",
       "      <th>Начало нагрева дугой</th>\n",
       "      <th>Конец нагрева дугой</th>\n",
       "      <th>Активная мощность</th>\n",
       "      <th>Реактивная мощность</th>\n",
       "      <th>Длительность нагрева, сек</th>\n",
       "      <th>Мощность нагрева</th>\n",
       "      <th>Количество нагревов</th>\n",
       "    </tr>\n",
       "  </thead>\n",
       "  <tbody>\n",
       "    <tr>\n",
       "      <th>0</th>\n",
       "      <td>1</td>\n",
       "      <td>2019-05-03 11:02:14</td>\n",
       "      <td>2019-05-03 11:06:02</td>\n",
       "      <td>0.305130</td>\n",
       "      <td>0.211253</td>\n",
       "      <td>3.80</td>\n",
       "      <td>0.371123</td>\n",
       "      <td>1</td>\n",
       "    </tr>\n",
       "    <tr>\n",
       "      <th>1</th>\n",
       "      <td>1</td>\n",
       "      <td>2019-05-03 11:07:28</td>\n",
       "      <td>2019-05-03 11:10:33</td>\n",
       "      <td>0.765658</td>\n",
       "      <td>0.477438</td>\n",
       "      <td>3.08</td>\n",
       "      <td>0.902319</td>\n",
       "      <td>1</td>\n",
       "    </tr>\n",
       "    <tr>\n",
       "      <th>2</th>\n",
       "      <td>1</td>\n",
       "      <td>2019-05-03 11:11:44</td>\n",
       "      <td>2019-05-03 11:14:36</td>\n",
       "      <td>0.580313</td>\n",
       "      <td>0.430460</td>\n",
       "      <td>2.87</td>\n",
       "      <td>0.722536</td>\n",
       "      <td>1</td>\n",
       "    </tr>\n",
       "    <tr>\n",
       "      <th>3</th>\n",
       "      <td>1</td>\n",
       "      <td>2019-05-03 11:18:14</td>\n",
       "      <td>2019-05-03 11:24:19</td>\n",
       "      <td>0.518496</td>\n",
       "      <td>0.379979</td>\n",
       "      <td>6.08</td>\n",
       "      <td>0.642824</td>\n",
       "      <td>1</td>\n",
       "    </tr>\n",
       "    <tr>\n",
       "      <th>4</th>\n",
       "      <td>1</td>\n",
       "      <td>2019-05-03 11:26:09</td>\n",
       "      <td>2019-05-03 11:28:37</td>\n",
       "      <td>0.867133</td>\n",
       "      <td>0.643691</td>\n",
       "      <td>2.47</td>\n",
       "      <td>1.079934</td>\n",
       "      <td>1</td>\n",
       "    </tr>\n",
       "  </tbody>\n",
       "</table>\n",
       "</div>"
      ],
      "text/plain": [
       "   key Начало нагрева дугой Конец нагрева дугой  Активная мощность  \\\n",
       "0    1  2019-05-03 11:02:14 2019-05-03 11:06:02           0.305130   \n",
       "1    1  2019-05-03 11:07:28 2019-05-03 11:10:33           0.765658   \n",
       "2    1  2019-05-03 11:11:44 2019-05-03 11:14:36           0.580313   \n",
       "3    1  2019-05-03 11:18:14 2019-05-03 11:24:19           0.518496   \n",
       "4    1  2019-05-03 11:26:09 2019-05-03 11:28:37           0.867133   \n",
       "\n",
       "   Реактивная мощность  Длительность нагрева, сек  Мощность нагрева  \\\n",
       "0             0.211253                       3.80          0.371123   \n",
       "1             0.477438                       3.08          0.902319   \n",
       "2             0.430460                       2.87          0.722536   \n",
       "3             0.379979                       6.08          0.642824   \n",
       "4             0.643691                       2.47          1.079934   \n",
       "\n",
       "   Количество нагревов  \n",
       "0                    1  \n",
       "1                    1  \n",
       "2                    1  \n",
       "3                    1  \n",
       "4                    1  "
      ]
     },
     "execution_count": 4,
     "metadata": {},
     "output_type": "execute_result"
    }
   ],
   "source": [
    "arc = pd.read_csv ('/datasets/data_arc_new.csv')\n",
    "# изменим тип данных:\n",
    "arc [['Начало нагрева дугой', 'Конец нагрева дугой']] = arc [['Начало нагрева дугой', 'Конец нагрева дугой']].astype('datetime64[ns]')\n",
    "# добавим столбец с информацией о длительности нагрева, установив тип данных float:\n",
    "arc ['Длительность нагрева, сек'] = arc ['Конец нагрева дугой'] - arc ['Начало нагрева дугой']\n",
    "arc ['Длительность нагрева, сек'] = arc ['Длительность нагрева, сек'].dt.total_seconds().div(60).round(2)\n",
    "# добавим столбец с информацией об общей мощности нагрева в партии:\n",
    "arc ['Мощность нагрева'] = np.sqrt(arc ['Активная мощность']**2 + arc ['Реактивная мощность']**2)\n",
    "arc ['Количество нагревов'] = 1\n",
    "arc.head()"
   ]
  },
  {
   "cell_type": "code",
   "execution_count": 5,
   "id": "3d99be2c",
   "metadata": {},
   "outputs": [
    {
     "data": {
      "text/plain": [
       "3214"
      ]
     },
     "execution_count": 5,
     "metadata": {},
     "output_type": "execute_result"
    }
   ],
   "source": [
    "len(arc ['key'].unique())"
   ]
  },
  {
   "cell_type": "markdown",
   "id": "03d590f8",
   "metadata": {},
   "source": [
    "Всего в данных об электродах содержится информация о нагревах по 3214 партиям. Некоторые партии подвергались нагреву несколько раз, сгруппируем информацию по  партиям агригировав все нагревы:"
   ]
  },
  {
   "cell_type": "code",
   "execution_count": 6,
   "id": "5e90d6f1",
   "metadata": {},
   "outputs": [],
   "source": [
    "#удалим столбцы с датами и составляющиe общей мощности: \n",
    "arc = arc.drop(columns=['Начало нагрева дугой', 'Конец нагрева дугой', 'Активная мощность', 'Реактивная мощность'])"
   ]
  },
  {
   "cell_type": "code",
   "execution_count": 7,
   "id": "85bb5b98",
   "metadata": {},
   "outputs": [
    {
     "data": {
      "text/html": [
       "<div>\n",
       "<style scoped>\n",
       "    .dataframe tbody tr th:only-of-type {\n",
       "        vertical-align: middle;\n",
       "    }\n",
       "\n",
       "    .dataframe tbody tr th {\n",
       "        vertical-align: top;\n",
       "    }\n",
       "\n",
       "    .dataframe thead th {\n",
       "        text-align: right;\n",
       "    }\n",
       "</style>\n",
       "<table border=\"1\" class=\"dataframe\">\n",
       "  <thead>\n",
       "    <tr style=\"text-align: right;\">\n",
       "      <th></th>\n",
       "      <th>key</th>\n",
       "      <th>Длительность нагрева, сек</th>\n",
       "      <th>Количество нагревов</th>\n",
       "      <th>Мощность нагрева</th>\n",
       "    </tr>\n",
       "  </thead>\n",
       "  <tbody>\n",
       "    <tr>\n",
       "      <th>0</th>\n",
       "      <td>1</td>\n",
       "      <td>18.30</td>\n",
       "      <td>5</td>\n",
       "      <td>3.718736</td>\n",
       "    </tr>\n",
       "    <tr>\n",
       "      <th>1</th>\n",
       "      <td>2</td>\n",
       "      <td>13.51</td>\n",
       "      <td>4</td>\n",
       "      <td>2.588349</td>\n",
       "    </tr>\n",
       "    <tr>\n",
       "      <th>2</th>\n",
       "      <td>3</td>\n",
       "      <td>10.92</td>\n",
       "      <td>5</td>\n",
       "      <td>5.019223</td>\n",
       "    </tr>\n",
       "    <tr>\n",
       "      <th>3</th>\n",
       "      <td>4</td>\n",
       "      <td>12.35</td>\n",
       "      <td>4</td>\n",
       "      <td>3.400038</td>\n",
       "    </tr>\n",
       "    <tr>\n",
       "      <th>4</th>\n",
       "      <td>5</td>\n",
       "      <td>14.48</td>\n",
       "      <td>4</td>\n",
       "      <td>2.816980</td>\n",
       "    </tr>\n",
       "  </tbody>\n",
       "</table>\n",
       "</div>"
      ],
      "text/plain": [
       "   key  Длительность нагрева, сек  Количество нагревов  Мощность нагрева\n",
       "0    1                      18.30                    5          3.718736\n",
       "1    2                      13.51                    4          2.588349\n",
       "2    3                      10.92                    5          5.019223\n",
       "3    4                      12.35                    4          3.400038\n",
       "4    5                      14.48                    4          2.816980"
      ]
     },
     "execution_count": 7,
     "metadata": {},
     "output_type": "execute_result"
    }
   ],
   "source": [
    "#агрегируем данные оставшихся столбцов\n",
    "arc = pd.pivot_table (arc, index=['key'], aggfunc=np.sum)\n",
    "arc = arc.reset_index()\n",
    "arc.head() "
   ]
  },
  {
   "cell_type": "markdown",
   "id": "40f96ff9",
   "metadata": {},
   "source": [
    "В итоговой таблице с информацией о нагревах из имеющихся исходных данных выделены 3 признака - суммарная длительность нагрева, количество нагревов и суммарная мощность по партиям. "
   ]
  },
  {
   "cell_type": "markdown",
   "id": "27af5416",
   "metadata": {},
   "source": [
    "Файлы `data_bulk_new.csv` и `data_bulk_time_new.csv` содержат сведения о подаче сыпучих материалов (объём и время подачи): номер партии - объём подаваемого материала и номер партии - время подачи материала. Каждый из файлов состоит из 16 признаков, первый из которых - это номер партии, а остальные соответственно - объем или время подачи. Всего 3129 строк. Данные не содержат дубликатов, но содержат много пропусков. Исходя из данных обоих файлов, которые содержат идентичные пропуски, пропуски в данном случае вероятно означают отсутствие подачи сыпучих материалов. Для последующего анализа на основе данных файлов сгенерируем 2 признака - количество подач сыпучих материалов и их общий объем."
   ]
  },
  {
   "cell_type": "code",
   "execution_count": 8,
   "id": "61440997",
   "metadata": {},
   "outputs": [
    {
     "data": {
      "text/html": [
       "<div>\n",
       "<style scoped>\n",
       "    .dataframe tbody tr th:only-of-type {\n",
       "        vertical-align: middle;\n",
       "    }\n",
       "\n",
       "    .dataframe tbody tr th {\n",
       "        vertical-align: top;\n",
       "    }\n",
       "\n",
       "    .dataframe thead th {\n",
       "        text-align: right;\n",
       "    }\n",
       "</style>\n",
       "<table border=\"1\" class=\"dataframe\">\n",
       "  <thead>\n",
       "    <tr style=\"text-align: right;\">\n",
       "      <th></th>\n",
       "      <th>key</th>\n",
       "      <th>Объем сып.мат.</th>\n",
       "      <th>Количество подач сып.мат.</th>\n",
       "    </tr>\n",
       "  </thead>\n",
       "  <tbody>\n",
       "    <tr>\n",
       "      <th>0</th>\n",
       "      <td>1</td>\n",
       "      <td>553.0</td>\n",
       "      <td>5</td>\n",
       "    </tr>\n",
       "    <tr>\n",
       "      <th>1</th>\n",
       "      <td>2</td>\n",
       "      <td>582.0</td>\n",
       "      <td>5</td>\n",
       "    </tr>\n",
       "    <tr>\n",
       "      <th>2</th>\n",
       "      <td>3</td>\n",
       "      <td>544.0</td>\n",
       "      <td>5</td>\n",
       "    </tr>\n",
       "    <tr>\n",
       "      <th>3</th>\n",
       "      <td>4</td>\n",
       "      <td>595.0</td>\n",
       "      <td>5</td>\n",
       "    </tr>\n",
       "    <tr>\n",
       "      <th>4</th>\n",
       "      <td>5</td>\n",
       "      <td>584.0</td>\n",
       "      <td>5</td>\n",
       "    </tr>\n",
       "  </tbody>\n",
       "</table>\n",
       "</div>"
      ],
      "text/plain": [
       "   key  Объем сып.мат.  Количество подач сып.мат.\n",
       "0    1           553.0                          5\n",
       "1    2           582.0                          5\n",
       "2    3           544.0                          5\n",
       "3    4           595.0                          5\n",
       "4    5           584.0                          5"
      ]
     },
     "execution_count": 8,
     "metadata": {},
     "output_type": "execute_result"
    }
   ],
   "source": [
    "bulk = pd.read_csv ('/datasets/data_bulk_new.csv')\n",
    "bulk ['Объем сып.мат.'] = bulk.sum(axis=1) - bulk ['key']\n",
    "# минус 1, чтобы в количество не вошел признак номера партии\n",
    "bulk ['Количество подач сып.мат.'] = bulk.count(axis=1) - 1\n",
    "# удалим лишние столбцы\n",
    "bulk = bulk [['key', 'Объем сып.мат.', 'Количество подач сып.мат.']]\n",
    "bulk.head()"
   ]
  },
  {
   "cell_type": "code",
   "execution_count": 9,
   "id": "20a583d4",
   "metadata": {},
   "outputs": [
    {
     "data": {
      "text/plain": [
       "3129"
      ]
     },
     "execution_count": 9,
     "metadata": {},
     "output_type": "execute_result"
    }
   ],
   "source": [
    "len(bulk ['key'].unique())"
   ]
  },
  {
   "cell_type": "markdown",
   "id": "e779a84c",
   "metadata": {},
   "source": [
    "Значения в столбце с информацией о номере партии в данном датафрейме не повторяются."
   ]
  },
  {
   "cell_type": "markdown",
   "id": "6c4a2bac",
   "metadata": {},
   "source": [
    "Файл `data_gas_new.csv` содержит сведения о продувке сплава газом: номер партии и объём подаваемого газа - всего 2 признака и 3239 строк без пропусков и дубликатов в подходящем формате данных."
   ]
  },
  {
   "cell_type": "code",
   "execution_count": 10,
   "id": "65e70126",
   "metadata": {},
   "outputs": [
    {
     "data": {
      "text/plain": [
       "3239"
      ]
     },
     "execution_count": 10,
     "metadata": {},
     "output_type": "execute_result"
    }
   ],
   "source": [
    "gas = pd.read_csv ('/datasets/data_gas_new.csv')\n",
    "len(gas ['key'].unique())"
   ]
  },
  {
   "cell_type": "markdown",
   "id": "6520c73f",
   "metadata": {},
   "source": [
    "Значения в столбце с информацией о номере партии в данном датафрейме также не повторяются."
   ]
  },
  {
   "cell_type": "markdown",
   "id": "b75c443f",
   "metadata": {},
   "source": [
    "Файл `data_temp_new.csv` содержит сведения о результатах измерения температуры: номер партии, время замера и значение температуры - всего 3 признака и 18092 строк без дубликатов, но с пропусками значений температуры. Замеры температуры производились несколько раз по 1 партии. "
   ]
  },
  {
   "cell_type": "code",
   "execution_count": 11,
   "id": "a1b9898f",
   "metadata": {},
   "outputs": [
    {
     "data": {
      "text/plain": [
       "3216"
      ]
     },
     "execution_count": 11,
     "metadata": {},
     "output_type": "execute_result"
    }
   ],
   "source": [
    "temp = pd.read_csv ('/datasets/data_temp_new.csv')\n",
    "#посчитаем количество уникальных значений в столбце с информацией о номере партии:\n",
    "len(temp ['key'].unique())"
   ]
  },
  {
   "cell_type": "code",
   "execution_count": 12,
   "id": "3f5a1b25",
   "metadata": {},
   "outputs": [],
   "source": [
    "#удаляем пропуски в данных\n",
    "temp = temp.dropna()"
   ]
  },
  {
   "cell_type": "code",
   "execution_count": 13,
   "id": "382141c5",
   "metadata": {},
   "outputs": [
    {
     "data": {
      "text/plain": [
       "Int64Index([2566, 2913, 3121, 2550, 2558, 3032, 2976, 3113, 3024, 3097,\n",
       "            ...\n",
       "            3204, 2971, 3212, 3220, 3228, 3236, 2963, 2955, 2947, 2525],\n",
       "           dtype='int64', length=741)"
      ]
     },
     "execution_count": 13,
     "metadata": {},
     "output_type": "execute_result"
    }
   ],
   "source": [
    "# посчитаем количество измерений температур по партиям:\n",
    "temp_count = temp ['key'].value_counts()\n",
    "# выделим партии с 1 измерением температуры в партии:\n",
    "temp_1 = temp_count[temp_count==1]\n",
    "temp_1.index"
   ]
  },
  {
   "cell_type": "markdown",
   "id": "67c33796",
   "metadata": {},
   "source": [
    "741 партия имеет по 1 замеру температуры - по ним отсутствует информация о конечной достигнутой температуре и, соответственно, они не будут полезны при моделировании и могут быть исключены из данных для последующего анализа:"
   ]
  },
  {
   "cell_type": "code",
   "execution_count": 14,
   "id": "21c5b433",
   "metadata": {},
   "outputs": [],
   "source": [
    "temp = temp[~(temp['key'].isin(temp_1.index))]"
   ]
  },
  {
   "cell_type": "code",
   "execution_count": 15,
   "id": "4b46e2ba",
   "metadata": {},
   "outputs": [
    {
     "data": {
      "text/plain": [
       "2475"
      ]
     },
     "execution_count": 15,
     "metadata": {},
     "output_type": "execute_result"
    }
   ],
   "source": [
    "#считаем количество уникальных значений в столбце с информацией о номере партии после удаления пропусков:\n",
    "len(temp ['key'].unique())"
   ]
  },
  {
   "cell_type": "markdown",
   "id": "435e0719",
   "metadata": {},
   "source": [
    "После удаления неинформативных партий оставшийся объем данных содержит сведения о 2 и более значениях температуры по 2475 партиям.\n",
    "\n",
    "Первый замер температуры - это исходный признак, над которым производились последующие действия для достижения необходимого результата, значение последнего замера - достигнутый результат (для разных партий при этом произведено разное количество замеров, что может быть связано с количеством произведенных действий с данной партией). Таким образом, для дальнейшего исследования выделим два признака данного датафрейма: входной признак - значение первого замера и целевой признак - значение последнего замера."
   ]
  },
  {
   "cell_type": "code",
   "execution_count": 16,
   "id": "404df1f5",
   "metadata": {},
   "outputs": [
    {
     "data": {
      "text/html": [
       "<div>\n",
       "<style scoped>\n",
       "    .dataframe tbody tr th:only-of-type {\n",
       "        vertical-align: middle;\n",
       "    }\n",
       "\n",
       "    .dataframe tbody tr th {\n",
       "        vertical-align: top;\n",
       "    }\n",
       "\n",
       "    .dataframe thead th {\n",
       "        text-align: right;\n",
       "    }\n",
       "</style>\n",
       "<table border=\"1\" class=\"dataframe\">\n",
       "  <thead>\n",
       "    <tr style=\"text-align: right;\">\n",
       "      <th></th>\n",
       "      <th>key</th>\n",
       "      <th>Первичная температура</th>\n",
       "      <th>Итоговая температура</th>\n",
       "    </tr>\n",
       "  </thead>\n",
       "  <tbody>\n",
       "    <tr>\n",
       "      <th>658</th>\n",
       "      <td>669</td>\n",
       "      <td>1589.0</td>\n",
       "      <td>1595.0</td>\n",
       "    </tr>\n",
       "    <tr>\n",
       "      <th>2194</th>\n",
       "      <td>2213</td>\n",
       "      <td>1590.0</td>\n",
       "      <td>1599.0</td>\n",
       "    </tr>\n",
       "    <tr>\n",
       "      <th>505</th>\n",
       "      <td>513</td>\n",
       "      <td>1558.0</td>\n",
       "      <td>1589.0</td>\n",
       "    </tr>\n",
       "    <tr>\n",
       "      <th>2263</th>\n",
       "      <td>2283</td>\n",
       "      <td>1594.0</td>\n",
       "      <td>1591.0</td>\n",
       "    </tr>\n",
       "    <tr>\n",
       "      <th>471</th>\n",
       "      <td>478</td>\n",
       "      <td>1616.0</td>\n",
       "      <td>1590.0</td>\n",
       "    </tr>\n",
       "  </tbody>\n",
       "</table>\n",
       "</div>"
      ],
      "text/plain": [
       "       key  Первичная температура  Итоговая температура\n",
       "658    669                 1589.0                1595.0\n",
       "2194  2213                 1590.0                1599.0\n",
       "505    513                 1558.0                1589.0\n",
       "2263  2283                 1594.0                1591.0\n",
       "471    478                 1616.0                1590.0"
      ]
     },
     "execution_count": 16,
     "metadata": {},
     "output_type": "execute_result"
    }
   ],
   "source": [
    "#переведем значения в столбце со значениями времени замеров в формат времени\n",
    "temp['Время замера'] = temp['Время замера'].astype('datetime64[ns]')\n",
    "#отсортируем по времени измерения температуры\n",
    "temp = temp.sort_values(by=['key', 'Время замера'])\n",
    "#сгенерируем признаки\n",
    "temp = pd.pivot_table (temp, index=['key'], values = ['Температура'], aggfunc=('first','last'))\n",
    "#переименуем столбцы \n",
    "temp.columns = ['Первичная температура', 'Итоговая температура']\n",
    "temp = temp.reset_index()\n",
    "temp.sample(5)"
   ]
  },
  {
   "cell_type": "code",
   "execution_count": 17,
   "id": "d9f7b027",
   "metadata": {},
   "outputs": [
    {
     "name": "stdout",
     "output_type": "stream",
     "text": [
      "<class 'pandas.core.frame.DataFrame'>\n",
      "RangeIndex: 2475 entries, 0 to 2474\n",
      "Data columns (total 3 columns):\n",
      " #   Column                 Non-Null Count  Dtype  \n",
      "---  ------                 --------------  -----  \n",
      " 0   key                    2475 non-null   int64  \n",
      " 1   Первичная температура  2475 non-null   float64\n",
      " 2   Итоговая температура   2475 non-null   float64\n",
      "dtypes: float64(2), int64(1)\n",
      "memory usage: 58.1 KB\n"
     ]
    }
   ],
   "source": [
    "temp.info()"
   ]
  },
  {
   "cell_type": "markdown",
   "id": "b9395176",
   "metadata": {},
   "source": [
    "В итоговой таблице об измерениях температуры выделены признаки со значениями первичной и итоговой температур по 2475\n",
    "партиям."
   ]
  },
  {
   "cell_type": "markdown",
   "id": "1a31efba",
   "metadata": {},
   "source": [
    "Файлы `data_wire_new.csv` и `data_wire_time_new.csv` содержат сведения о подаче проволочных материалах (объём и время подачи): номер партии - объём подаваемого материала и номер партии - время подачи материала. Каждый из файлов состоит из 10 признаков, первый из которых - это номер партии, а остальные соответственно - объем или время подачи. Всего 3081 строка. Данные не содержат дубликатов, но содержат много пропусков. Исходя из данных обоих файлов, которые содержат идентичные пропуски, пропуски в данном случае вероятно означают отсутствие подачи проволочных материалов. Для последующего анализа на основе данных файлов по аналогии с сыпучими материалами сгенерируем 2 признака - количество подач проволочных материалов и их общий объем."
   ]
  },
  {
   "cell_type": "code",
   "execution_count": 18,
   "id": "458b950f",
   "metadata": {},
   "outputs": [
    {
     "data": {
      "text/html": [
       "<div>\n",
       "<style scoped>\n",
       "    .dataframe tbody tr th:only-of-type {\n",
       "        vertical-align: middle;\n",
       "    }\n",
       "\n",
       "    .dataframe tbody tr th {\n",
       "        vertical-align: top;\n",
       "    }\n",
       "\n",
       "    .dataframe thead th {\n",
       "        text-align: right;\n",
       "    }\n",
       "</style>\n",
       "<table border=\"1\" class=\"dataframe\">\n",
       "  <thead>\n",
       "    <tr style=\"text-align: right;\">\n",
       "      <th></th>\n",
       "      <th>key</th>\n",
       "      <th>Объем провол.мат.</th>\n",
       "      <th>Количество подач провол.мат.</th>\n",
       "    </tr>\n",
       "  </thead>\n",
       "  <tbody>\n",
       "    <tr>\n",
       "      <th>0</th>\n",
       "      <td>1</td>\n",
       "      <td>60.059998</td>\n",
       "      <td>2</td>\n",
       "    </tr>\n",
       "    <tr>\n",
       "      <th>1</th>\n",
       "      <td>2</td>\n",
       "      <td>96.052315</td>\n",
       "      <td>2</td>\n",
       "    </tr>\n",
       "    <tr>\n",
       "      <th>2</th>\n",
       "      <td>3</td>\n",
       "      <td>91.160157</td>\n",
       "      <td>2</td>\n",
       "    </tr>\n",
       "    <tr>\n",
       "      <th>3</th>\n",
       "      <td>4</td>\n",
       "      <td>89.063515</td>\n",
       "      <td>2</td>\n",
       "    </tr>\n",
       "    <tr>\n",
       "      <th>4</th>\n",
       "      <td>5</td>\n",
       "      <td>98.352796</td>\n",
       "      <td>3</td>\n",
       "    </tr>\n",
       "  </tbody>\n",
       "</table>\n",
       "</div>"
      ],
      "text/plain": [
       "   key  Объем провол.мат.  Количество подач провол.мат.\n",
       "0    1          60.059998                             2\n",
       "1    2          96.052315                             2\n",
       "2    3          91.160157                             2\n",
       "3    4          89.063515                             2\n",
       "4    5          98.352796                             3"
      ]
     },
     "execution_count": 18,
     "metadata": {},
     "output_type": "execute_result"
    }
   ],
   "source": [
    "wire = pd.read_csv ('/datasets/data_wire_new.csv')\n",
    "wire ['Объем провол.мат.'] = wire.sum(axis=1) - wire ['key']\n",
    "# минус 1, чтобы в количество не вошел признак номера партии\n",
    "wire ['Количество подач провол.мат.'] = wire.count(axis=1) - 1\n",
    "# удалим лишние столбцы\n",
    "wire = wire [['key', 'Объем провол.мат.', 'Количество подач провол.мат.']]\n",
    "wire.head()"
   ]
  },
  {
   "cell_type": "code",
   "execution_count": 19,
   "id": "b35b4dae",
   "metadata": {},
   "outputs": [
    {
     "data": {
      "text/plain": [
       "3081"
      ]
     },
     "execution_count": 19,
     "metadata": {},
     "output_type": "execute_result"
    }
   ],
   "source": [
    "len(wire ['key'].unique())"
   ]
  },
  {
   "cell_type": "markdown",
   "id": "88b69ff7",
   "metadata": {},
   "source": [
    "Значения в столбце с информацией о номере партии в данном датафрейме не повторяются."
   ]
  },
  {
   "cell_type": "markdown",
   "id": "1a8b63a8",
   "metadata": {},
   "source": [
    "В ходе первичного исследования данных из 7 файлов с исходными данными получены 5 новых датасетов \n",
    "(arc - информация о нагревах,  bulk - информация о сыпучих материалах, gas - сведения о продувке газом (оставлен без изменений), temp - сведения о замерах температуры, wire -  информация о проволочных материалах) с выбранными либо сгенерированными на исходных данных входными признаками, а также выделен целевой признак (Итоговая температура). В следующих подразделах объединим данные в единный датафрейм и проведем статистический и графический анализ признаков."
   ]
  },
  {
   "cell_type": "markdown",
   "id": "d3e5eef9",
   "metadata": {},
   "source": [
    "### Объединение данных"
   ]
  },
  {
   "cell_type": "markdown",
   "id": "a4d10261",
   "metadata": {},
   "source": [
    "Объединение данных проведем по номеру партию (key), за основу объединения возьмем датасет с целевым признаком (temp). В объединеный датасет включим партии, информация о которых присутствует во всех датасетах, в целях более полного отражения признаков."
   ]
  },
  {
   "cell_type": "code",
   "execution_count": 20,
   "id": "ef74301a",
   "metadata": {},
   "outputs": [
    {
     "data": {
      "text/html": [
       "<div>\n",
       "<style scoped>\n",
       "    .dataframe tbody tr th:only-of-type {\n",
       "        vertical-align: middle;\n",
       "    }\n",
       "\n",
       "    .dataframe tbody tr th {\n",
       "        vertical-align: top;\n",
       "    }\n",
       "\n",
       "    .dataframe thead th {\n",
       "        text-align: right;\n",
       "    }\n",
       "</style>\n",
       "<table border=\"1\" class=\"dataframe\">\n",
       "  <thead>\n",
       "    <tr style=\"text-align: right;\">\n",
       "      <th></th>\n",
       "      <th>key</th>\n",
       "      <th>Первичная температура</th>\n",
       "      <th>Итоговая температура</th>\n",
       "      <th>Длительность нагрева, сек</th>\n",
       "      <th>Количество нагревов</th>\n",
       "      <th>Мощность нагрева</th>\n",
       "      <th>Объем сып.мат.</th>\n",
       "      <th>Количество подач сып.мат.</th>\n",
       "      <th>Объем провол.мат.</th>\n",
       "      <th>Количество подач провол.мат.</th>\n",
       "      <th>Газ 1</th>\n",
       "    </tr>\n",
       "  </thead>\n",
       "  <tbody>\n",
       "    <tr>\n",
       "      <th>0</th>\n",
       "      <td>1</td>\n",
       "      <td>1571.0</td>\n",
       "      <td>1613.0</td>\n",
       "      <td>18.30</td>\n",
       "      <td>5</td>\n",
       "      <td>3.718736</td>\n",
       "      <td>553.0</td>\n",
       "      <td>5</td>\n",
       "      <td>60.059998</td>\n",
       "      <td>2</td>\n",
       "      <td>29.749986</td>\n",
       "    </tr>\n",
       "    <tr>\n",
       "      <th>1</th>\n",
       "      <td>2</td>\n",
       "      <td>1581.0</td>\n",
       "      <td>1602.0</td>\n",
       "      <td>13.51</td>\n",
       "      <td>4</td>\n",
       "      <td>2.588349</td>\n",
       "      <td>582.0</td>\n",
       "      <td>5</td>\n",
       "      <td>96.052315</td>\n",
       "      <td>2</td>\n",
       "      <td>12.555561</td>\n",
       "    </tr>\n",
       "    <tr>\n",
       "      <th>2</th>\n",
       "      <td>3</td>\n",
       "      <td>1596.0</td>\n",
       "      <td>1599.0</td>\n",
       "      <td>10.92</td>\n",
       "      <td>5</td>\n",
       "      <td>5.019223</td>\n",
       "      <td>544.0</td>\n",
       "      <td>5</td>\n",
       "      <td>91.160157</td>\n",
       "      <td>2</td>\n",
       "      <td>28.554793</td>\n",
       "    </tr>\n",
       "    <tr>\n",
       "      <th>3</th>\n",
       "      <td>4</td>\n",
       "      <td>1601.0</td>\n",
       "      <td>1625.0</td>\n",
       "      <td>12.35</td>\n",
       "      <td>4</td>\n",
       "      <td>3.400038</td>\n",
       "      <td>595.0</td>\n",
       "      <td>5</td>\n",
       "      <td>89.063515</td>\n",
       "      <td>2</td>\n",
       "      <td>18.841219</td>\n",
       "    </tr>\n",
       "    <tr>\n",
       "      <th>4</th>\n",
       "      <td>5</td>\n",
       "      <td>1576.0</td>\n",
       "      <td>1602.0</td>\n",
       "      <td>14.48</td>\n",
       "      <td>4</td>\n",
       "      <td>2.816980</td>\n",
       "      <td>584.0</td>\n",
       "      <td>5</td>\n",
       "      <td>98.352796</td>\n",
       "      <td>3</td>\n",
       "      <td>5.413692</td>\n",
       "    </tr>\n",
       "  </tbody>\n",
       "</table>\n",
       "</div>"
      ],
      "text/plain": [
       "   key  Первичная температура  Итоговая температура  \\\n",
       "0    1                 1571.0                1613.0   \n",
       "1    2                 1581.0                1602.0   \n",
       "2    3                 1596.0                1599.0   \n",
       "3    4                 1601.0                1625.0   \n",
       "4    5                 1576.0                1602.0   \n",
       "\n",
       "   Длительность нагрева, сек  Количество нагревов  Мощность нагрева  \\\n",
       "0                      18.30                    5          3.718736   \n",
       "1                      13.51                    4          2.588349   \n",
       "2                      10.92                    5          5.019223   \n",
       "3                      12.35                    4          3.400038   \n",
       "4                      14.48                    4          2.816980   \n",
       "\n",
       "   Объем сып.мат.  Количество подач сып.мат.  Объем провол.мат.  \\\n",
       "0           553.0                          5          60.059998   \n",
       "1           582.0                          5          96.052315   \n",
       "2           544.0                          5          91.160157   \n",
       "3           595.0                          5          89.063515   \n",
       "4           584.0                          5          98.352796   \n",
       "\n",
       "   Количество подач провол.мат.      Газ 1  \n",
       "0                             2  29.749986  \n",
       "1                             2  12.555561  \n",
       "2                             2  28.554793  \n",
       "3                             2  18.841219  \n",
       "4                             3   5.413692  "
      ]
     },
     "execution_count": 20,
     "metadata": {},
     "output_type": "execute_result"
    }
   ],
   "source": [
    "for i in [arc, bulk, wire, gas]:\n",
    "    temp = temp.merge (i, on='key', how='inner')\n",
    "temp.head()"
   ]
  },
  {
   "cell_type": "code",
   "execution_count": 21,
   "id": "dd359b11",
   "metadata": {},
   "outputs": [
    {
     "name": "stdout",
     "output_type": "stream",
     "text": [
      "<class 'pandas.core.frame.DataFrame'>\n",
      "Int64Index: 2329 entries, 0 to 2328\n",
      "Data columns (total 11 columns):\n",
      " #   Column                        Non-Null Count  Dtype  \n",
      "---  ------                        --------------  -----  \n",
      " 0   key                           2329 non-null   int64  \n",
      " 1   Первичная температура         2329 non-null   float64\n",
      " 2   Итоговая температура          2329 non-null   float64\n",
      " 3   Длительность нагрева, сек     2329 non-null   float64\n",
      " 4   Количество нагревов           2329 non-null   int64  \n",
      " 5   Мощность нагрева              2329 non-null   float64\n",
      " 6   Объем сып.мат.                2329 non-null   float64\n",
      " 7   Количество подач сып.мат.     2329 non-null   int64  \n",
      " 8   Объем провол.мат.             2329 non-null   float64\n",
      " 9   Количество подач провол.мат.  2329 non-null   int64  \n",
      " 10  Газ 1                         2329 non-null   float64\n",
      "dtypes: float64(7), int64(4)\n",
      "memory usage: 218.3 KB\n"
     ]
    }
   ],
   "source": [
    "temp.info()"
   ]
  },
  {
   "cell_type": "markdown",
   "id": "8efba7b9",
   "metadata": {},
   "source": [
    "Объединенный датафрейм содержит 10 признаков по 2329 партиям."
   ]
  },
  {
   "cell_type": "markdown",
   "id": "3c3da121",
   "metadata": {},
   "source": [
    "## Статистический и графический анализ данных"
   ]
  },
  {
   "cell_type": "code",
   "execution_count": 22,
   "id": "b2687b79",
   "metadata": {},
   "outputs": [],
   "source": [
    "#переместим номер партиии в индекс\n",
    "temp = temp.set_index('key')"
   ]
  },
  {
   "cell_type": "markdown",
   "id": "20531323",
   "metadata": {},
   "source": [
    "**Статистическое описание данных.**"
   ]
  },
  {
   "cell_type": "code",
   "execution_count": 23,
   "id": "b0dade60",
   "metadata": {},
   "outputs": [
    {
     "data": {
      "text/html": [
       "<div>\n",
       "<style scoped>\n",
       "    .dataframe tbody tr th:only-of-type {\n",
       "        vertical-align: middle;\n",
       "    }\n",
       "\n",
       "    .dataframe tbody tr th {\n",
       "        vertical-align: top;\n",
       "    }\n",
       "\n",
       "    .dataframe thead th {\n",
       "        text-align: right;\n",
       "    }\n",
       "</style>\n",
       "<table border=\"1\" class=\"dataframe\">\n",
       "  <thead>\n",
       "    <tr style=\"text-align: right;\">\n",
       "      <th></th>\n",
       "      <th>Первичная температура</th>\n",
       "      <th>Итоговая температура</th>\n",
       "      <th>Длительность нагрева, сек</th>\n",
       "      <th>Количество нагревов</th>\n",
       "      <th>Мощность нагрева</th>\n",
       "      <th>Объем сып.мат.</th>\n",
       "      <th>Количество подач сып.мат.</th>\n",
       "      <th>Объем провол.мат.</th>\n",
       "      <th>Количество подач провол.мат.</th>\n",
       "      <th>Газ 1</th>\n",
       "    </tr>\n",
       "  </thead>\n",
       "  <tbody>\n",
       "    <tr>\n",
       "      <th>count</th>\n",
       "      <td>2329.000000</td>\n",
       "      <td>2329.000000</td>\n",
       "      <td>2329.000000</td>\n",
       "      <td>2329.000000</td>\n",
       "      <td>2329.000000</td>\n",
       "      <td>2329.000000</td>\n",
       "      <td>2329.000000</td>\n",
       "      <td>2329.000000</td>\n",
       "      <td>2329.000000</td>\n",
       "      <td>2329.000000</td>\n",
       "    </tr>\n",
       "    <tr>\n",
       "      <th>mean</th>\n",
       "      <td>1586.718763</td>\n",
       "      <td>1593.365393</td>\n",
       "      <td>13.460696</td>\n",
       "      <td>4.695578</td>\n",
       "      <td>4.191859</td>\n",
       "      <td>609.630313</td>\n",
       "      <td>4.592958</td>\n",
       "      <td>125.208530</td>\n",
       "      <td>2.397166</td>\n",
       "      <td>11.375600</td>\n",
       "    </tr>\n",
       "    <tr>\n",
       "      <th>std</th>\n",
       "      <td>28.290792</td>\n",
       "      <td>11.200915</td>\n",
       "      <td>5.680390</td>\n",
       "      <td>1.606629</td>\n",
       "      <td>14.873681</td>\n",
       "      <td>287.599678</td>\n",
       "      <td>1.224416</td>\n",
       "      <td>63.683386</td>\n",
       "      <td>0.564416</td>\n",
       "      <td>6.392041</td>\n",
       "    </tr>\n",
       "    <tr>\n",
       "      <th>min</th>\n",
       "      <td>1191.000000</td>\n",
       "      <td>1541.000000</td>\n",
       "      <td>0.950000</td>\n",
       "      <td>1.000000</td>\n",
       "      <td>0.331897</td>\n",
       "      <td>19.000000</td>\n",
       "      <td>2.000000</td>\n",
       "      <td>1.918800</td>\n",
       "      <td>2.000000</td>\n",
       "      <td>0.008399</td>\n",
       "    </tr>\n",
       "    <tr>\n",
       "      <th>25%</th>\n",
       "      <td>1571.000000</td>\n",
       "      <td>1587.000000</td>\n",
       "      <td>9.680000</td>\n",
       "      <td>4.000000</td>\n",
       "      <td>2.844193</td>\n",
       "      <td>440.000000</td>\n",
       "      <td>4.000000</td>\n",
       "      <td>89.013596</td>\n",
       "      <td>2.000000</td>\n",
       "      <td>7.282948</td>\n",
       "    </tr>\n",
       "    <tr>\n",
       "      <th>50%</th>\n",
       "      <td>1587.000000</td>\n",
       "      <td>1593.000000</td>\n",
       "      <td>12.970000</td>\n",
       "      <td>5.000000</td>\n",
       "      <td>3.769823</td>\n",
       "      <td>609.000000</td>\n",
       "      <td>5.000000</td>\n",
       "      <td>116.101440</td>\n",
       "      <td>2.000000</td>\n",
       "      <td>10.100950</td>\n",
       "    </tr>\n",
       "    <tr>\n",
       "      <th>75%</th>\n",
       "      <td>1603.000000</td>\n",
       "      <td>1598.000000</td>\n",
       "      <td>16.550000</td>\n",
       "      <td>6.000000</td>\n",
       "      <td>4.770751</td>\n",
       "      <td>795.000000</td>\n",
       "      <td>5.000000</td>\n",
       "      <td>151.568558</td>\n",
       "      <td>3.000000</td>\n",
       "      <td>14.216688</td>\n",
       "    </tr>\n",
       "    <tr>\n",
       "      <th>max</th>\n",
       "      <td>1660.000000</td>\n",
       "      <td>1653.000000</td>\n",
       "      <td>69.820000</td>\n",
       "      <td>16.000000</td>\n",
       "      <td>717.937368</td>\n",
       "      <td>3235.000000</td>\n",
       "      <td>8.000000</td>\n",
       "      <td>568.777664</td>\n",
       "      <td>6.000000</td>\n",
       "      <td>77.995040</td>\n",
       "    </tr>\n",
       "  </tbody>\n",
       "</table>\n",
       "</div>"
      ],
      "text/plain": [
       "       Первичная температура  Итоговая температура  Длительность нагрева, сек  \\\n",
       "count            2329.000000           2329.000000                2329.000000   \n",
       "mean             1586.718763           1593.365393                  13.460696   \n",
       "std                28.290792             11.200915                   5.680390   \n",
       "min              1191.000000           1541.000000                   0.950000   \n",
       "25%              1571.000000           1587.000000                   9.680000   \n",
       "50%              1587.000000           1593.000000                  12.970000   \n",
       "75%              1603.000000           1598.000000                  16.550000   \n",
       "max              1660.000000           1653.000000                  69.820000   \n",
       "\n",
       "       Количество нагревов  Мощность нагрева  Объем сып.мат.  \\\n",
       "count          2329.000000       2329.000000     2329.000000   \n",
       "mean              4.695578          4.191859      609.630313   \n",
       "std               1.606629         14.873681      287.599678   \n",
       "min               1.000000          0.331897       19.000000   \n",
       "25%               4.000000          2.844193      440.000000   \n",
       "50%               5.000000          3.769823      609.000000   \n",
       "75%               6.000000          4.770751      795.000000   \n",
       "max              16.000000        717.937368     3235.000000   \n",
       "\n",
       "       Количество подач сып.мат.  Объем провол.мат.  \\\n",
       "count                2329.000000        2329.000000   \n",
       "mean                    4.592958         125.208530   \n",
       "std                     1.224416          63.683386   \n",
       "min                     2.000000           1.918800   \n",
       "25%                     4.000000          89.013596   \n",
       "50%                     5.000000         116.101440   \n",
       "75%                     5.000000         151.568558   \n",
       "max                     8.000000         568.777664   \n",
       "\n",
       "       Количество подач провол.мат.        Газ 1  \n",
       "count                   2329.000000  2329.000000  \n",
       "mean                       2.397166    11.375600  \n",
       "std                        0.564416     6.392041  \n",
       "min                        2.000000     0.008399  \n",
       "25%                        2.000000     7.282948  \n",
       "50%                        2.000000    10.100950  \n",
       "75%                        3.000000    14.216688  \n",
       "max                        6.000000    77.995040  "
      ]
     },
     "execution_count": 23,
     "metadata": {},
     "output_type": "execute_result"
    }
   ],
   "source": [
    "temp.describe()"
   ]
  },
  {
   "cell_type": "markdown",
   "id": "91c2f234",
   "metadata": {},
   "source": [
    "**Графическое описание данных.**"
   ]
  },
  {
   "cell_type": "code",
   "execution_count": 24,
   "id": "3c2923e7",
   "metadata": {},
   "outputs": [
    {
     "data": {
      "image/png": "[encoded data removed]",
      "text/plain": [
       "<Figure size 864x288 with 2 Axes>"
      ]
     },
     "metadata": {
      "needs_background": "light"
     },
     "output_type": "display_data"
    },
    {
     "name": "stdout",
     "output_type": "stream",
     "text": [
      "\n"
     ]
    },
    {
     "data": {
      "image/png": "[encoded data removed]",
      "text/plain": [
       "<Figure size 864x288 with 2 Axes>"
      ]
     },
     "metadata": {
      "needs_background": "light"
     },
     "output_type": "display_data"
    },
    {
     "name": "stdout",
     "output_type": "stream",
     "text": [
      "\n"
     ]
    },
    {
     "data": {
      "image/png": "[encoded data removed]",
      "text/plain": [
       "<Figure size 864x288 with 2 Axes>"
      ]
     },
     "metadata": {
      "needs_background": "light"
     },
     "output_type": "display_data"
    },
    {
     "name": "stdout",
     "output_type": "stream",
     "text": [
      "\n"
     ]
    },
    {
     "data": {
      "image/png": "[encoded data removed]",
      "text/plain": [
       "<Figure size 864x288 with 2 Axes>"
      ]
     },
     "metadata": {
      "needs_background": "light"
     },
     "output_type": "display_data"
    },
    {
     "name": "stdout",
     "output_type": "stream",
     "text": [
      "\n"
     ]
    },
    {
     "data": {
      "image/png": "[encoded data removed]",
      "text/plain": [
       "<Figure size 864x288 with 2 Axes>"
      ]
     },
     "metadata": {
      "needs_background": "light"
     },
     "output_type": "display_data"
    },
    {
     "name": "stdout",
     "output_type": "stream",
     "text": [
      "\n"
     ]
    },
    {
     "data": {
      "image/png": "[encoded data removed]",
      "text/plain": [
       "<Figure size 864x288 with 2 Axes>"
      ]
     },
     "metadata": {
      "needs_background": "light"
     },
     "output_type": "display_data"
    },
    {
     "name": "stdout",
     "output_type": "stream",
     "text": [
      "\n"
     ]
    },
    {
     "data": {
      "image/png": "[encoded data removed]",
      "text/plain": [
       "<Figure size 864x288 with 2 Axes>"
      ]
     },
     "metadata": {
      "needs_background": "light"
     },
     "output_type": "display_data"
    },
    {
     "name": "stdout",
     "output_type": "stream",
     "text": [
      "\n"
     ]
    },
    {
     "data": {
      "image/png": "[encoded data removed]",
      "text/plain": [
       "<Figure size 864x288 with 2 Axes>"
      ]
     },
     "metadata": {
      "needs_background": "light"
     },
     "output_type": "display_data"
    },
    {
     "name": "stdout",
     "output_type": "stream",
     "text": [
      "\n"
     ]
    },
    {
     "data": {
      "image/png": "[encoded data removed]",
      "text/plain": [
       "<Figure size 864x288 with 2 Axes>"
      ]
     },
     "metadata": {
      "needs_background": "light"
     },
     "output_type": "display_data"
    },
    {
     "name": "stdout",
     "output_type": "stream",
     "text": [
      "\n"
     ]
    },
    {
     "data": {
      "image/png": "[encoded data removed]",
      "text/plain": [
       "<Figure size 864x288 with 2 Axes>"
      ]
     },
     "metadata": {
      "needs_background": "light"
     },
     "output_type": "display_data"
    },
    {
     "name": "stdout",
     "output_type": "stream",
     "text": [
      "\n"
     ]
    }
   ],
   "source": [
    "for i in temp.columns:\n",
    "    # cоздаем фигуру и оси с разными пропорциями высоты\n",
    "    fig, (ax1, ax2) = plt.subplots(nrows=2, ncols=1, figsize=(12, 4), gridspec_kw={'height_ratios': [4, 1]}, sharex=True)\n",
    "    plt.suptitle(f'Распределение признака \"{i}\"')\n",
    "    # построение гистограммы\n",
    "    sns.histplot(temp[i], bins=20, ax=ax1, kde=False, color='skyblue')\n",
    "    ax1.set_title(f'Гистограмма признака')\n",
    "    ax1.set_ylabel('Частота')\n",
    "    # построение диаграммы размаха с Seaborn\n",
    "    sns.boxplot(x=temp[i], ax=ax2)\n",
    "    ax2.set_title(f'Диаграмма признака')\n",
    "    ax2.set_xlabel(f' Значения признака {i}')\n",
    "    # отображение графиков\n",
    "    plt.tight_layout()\n",
    "    plt.show()\n",
    "    print();"
   ]
  },
  {
   "cell_type": "markdown",
   "id": "9a087f0b",
   "metadata": {},
   "source": [
    "Значения **признаков температуры** (первичная и итоговая) имеют показатели от 1191 до 1660, медианные значения равны 1587-1593 и схожи со средними. При этом на графиках признака \"Первичная температура\" наблюдаются явные выбросы значений - значения ниже температуры плавления стали (ок. 1400)."
   ]
  },
  {
   "cell_type": "code",
   "execution_count": 25,
   "id": "462cc051",
   "metadata": {},
   "outputs": [
    {
     "data": {
      "text/html": [
       "<div>\n",
       "<style scoped>\n",
       "    .dataframe tbody tr th:only-of-type {\n",
       "        vertical-align: middle;\n",
       "    }\n",
       "\n",
       "    .dataframe tbody tr th {\n",
       "        vertical-align: top;\n",
       "    }\n",
       "\n",
       "    .dataframe thead th {\n",
       "        text-align: right;\n",
       "    }\n",
       "</style>\n",
       "<table border=\"1\" class=\"dataframe\">\n",
       "  <thead>\n",
       "    <tr style=\"text-align: right;\">\n",
       "      <th></th>\n",
       "      <th>Первичная температура</th>\n",
       "      <th>Итоговая температура</th>\n",
       "      <th>Длительность нагрева, сек</th>\n",
       "      <th>Количество нагревов</th>\n",
       "      <th>Мощность нагрева</th>\n",
       "      <th>Объем сып.мат.</th>\n",
       "      <th>Количество подач сып.мат.</th>\n",
       "      <th>Объем провол.мат.</th>\n",
       "      <th>Количество подач провол.мат.</th>\n",
       "      <th>Газ 1</th>\n",
       "    </tr>\n",
       "    <tr>\n",
       "      <th>key</th>\n",
       "      <th></th>\n",
       "      <th></th>\n",
       "      <th></th>\n",
       "      <th></th>\n",
       "      <th></th>\n",
       "      <th></th>\n",
       "      <th></th>\n",
       "      <th></th>\n",
       "      <th></th>\n",
       "      <th></th>\n",
       "    </tr>\n",
       "  </thead>\n",
       "  <tbody>\n",
       "    <tr>\n",
       "      <th>867</th>\n",
       "      <td>1191.0</td>\n",
       "      <td>1599.0</td>\n",
       "      <td>16.14</td>\n",
       "      <td>7</td>\n",
       "      <td>6.044517</td>\n",
       "      <td>691.0</td>\n",
       "      <td>5</td>\n",
       "      <td>193.587684</td>\n",
       "      <td>3</td>\n",
       "      <td>11.616807</td>\n",
       "    </tr>\n",
       "    <tr>\n",
       "      <th>1214</th>\n",
       "      <td>1208.0</td>\n",
       "      <td>1591.0</td>\n",
       "      <td>8.01</td>\n",
       "      <td>3</td>\n",
       "      <td>2.523002</td>\n",
       "      <td>431.0</td>\n",
       "      <td>4</td>\n",
       "      <td>53.118000</td>\n",
       "      <td>2</td>\n",
       "      <td>12.933558</td>\n",
       "    </tr>\n",
       "    <tr>\n",
       "      <th>1619</th>\n",
       "      <td>1218.0</td>\n",
       "      <td>1590.0</td>\n",
       "      <td>4.10</td>\n",
       "      <td>2</td>\n",
       "      <td>1.245024</td>\n",
       "      <td>45.0</td>\n",
       "      <td>2</td>\n",
       "      <td>200.321678</td>\n",
       "      <td>3</td>\n",
       "      <td>4.542025</td>\n",
       "    </tr>\n",
       "    <tr>\n",
       "      <th>2052</th>\n",
       "      <td>1227.0</td>\n",
       "      <td>1592.0</td>\n",
       "      <td>10.54</td>\n",
       "      <td>5</td>\n",
       "      <td>3.692965</td>\n",
       "      <td>494.0</td>\n",
       "      <td>5</td>\n",
       "      <td>116.014076</td>\n",
       "      <td>2</td>\n",
       "      <td>8.639928</td>\n",
       "    </tr>\n",
       "  </tbody>\n",
       "</table>\n",
       "</div>"
      ],
      "text/plain": [
       "      Первичная температура  Итоговая температура  Длительность нагрева, сек  \\\n",
       "key                                                                            \n",
       "867                  1191.0                1599.0                      16.14   \n",
       "1214                 1208.0                1591.0                       8.01   \n",
       "1619                 1218.0                1590.0                       4.10   \n",
       "2052                 1227.0                1592.0                      10.54   \n",
       "\n",
       "      Количество нагревов  Мощность нагрева  Объем сып.мат.  \\\n",
       "key                                                           \n",
       "867                     7          6.044517           691.0   \n",
       "1214                    3          2.523002           431.0   \n",
       "1619                    2          1.245024            45.0   \n",
       "2052                    5          3.692965           494.0   \n",
       "\n",
       "      Количество подач сып.мат.  Объем провол.мат.  \\\n",
       "key                                                  \n",
       "867                           5         193.587684   \n",
       "1214                          4          53.118000   \n",
       "1619                          2         200.321678   \n",
       "2052                          5         116.014076   \n",
       "\n",
       "      Количество подач провол.мат.      Газ 1  \n",
       "key                                            \n",
       "867                              3  11.616807  \n",
       "1214                             2  12.933558  \n",
       "1619                             3   4.542025  \n",
       "2052                             2   8.639928  "
      ]
     },
     "execution_count": 25,
     "metadata": {},
     "output_type": "execute_result"
    }
   ],
   "source": [
    "temp[temp['Первичная температура'] <= 1400]"
   ]
  },
  {
   "cell_type": "markdown",
   "id": "a9bb97a2",
   "metadata": {},
   "source": [
    "Исключим данные партии из датасета:"
   ]
  },
  {
   "cell_type": "code",
   "execution_count": 26,
   "id": "81dd0155",
   "metadata": {},
   "outputs": [
    {
     "name": "stdout",
     "output_type": "stream",
     "text": [
      "Размер данных: (2325, 10)\n"
     ]
    }
   ],
   "source": [
    "temp = temp[temp['Первичная температура'] > 1400]\n",
    "print (f'Размер данных: {temp.shape}')"
   ]
  },
  {
   "cell_type": "markdown",
   "id": "67988f79",
   "metadata": {},
   "source": [
    "Признак **длительности нагрева** имеет значения от 0.95  до 69.82 секунд с медианным значением = 12.97 секунд и средним значением =13.46 сек. В основном значения распределены нормально, но присутствуют и аномалии:"
   ]
  },
  {
   "cell_type": "code",
   "execution_count": 27,
   "id": "eee0bbc2",
   "metadata": {},
   "outputs": [
    {
     "data": {
      "text/html": [
       "<div>\n",
       "<style scoped>\n",
       "    .dataframe tbody tr th:only-of-type {\n",
       "        vertical-align: middle;\n",
       "    }\n",
       "\n",
       "    .dataframe tbody tr th {\n",
       "        vertical-align: top;\n",
       "    }\n",
       "\n",
       "    .dataframe thead th {\n",
       "        text-align: right;\n",
       "    }\n",
       "</style>\n",
       "<table border=\"1\" class=\"dataframe\">\n",
       "  <thead>\n",
       "    <tr style=\"text-align: right;\">\n",
       "      <th></th>\n",
       "      <th>Первичная температура</th>\n",
       "      <th>Итоговая температура</th>\n",
       "      <th>Длительность нагрева, сек</th>\n",
       "      <th>Количество нагревов</th>\n",
       "      <th>Мощность нагрева</th>\n",
       "      <th>Объем сып.мат.</th>\n",
       "      <th>Количество подач сып.мат.</th>\n",
       "      <th>Объем провол.мат.</th>\n",
       "      <th>Количество подач провол.мат.</th>\n",
       "      <th>Газ 1</th>\n",
       "    </tr>\n",
       "    <tr>\n",
       "      <th>key</th>\n",
       "      <th></th>\n",
       "      <th></th>\n",
       "      <th></th>\n",
       "      <th></th>\n",
       "      <th></th>\n",
       "      <th></th>\n",
       "      <th></th>\n",
       "      <th></th>\n",
       "      <th></th>\n",
       "      <th></th>\n",
       "    </tr>\n",
       "  </thead>\n",
       "  <tbody>\n",
       "    <tr>\n",
       "      <th>46</th>\n",
       "      <td>1607.0</td>\n",
       "      <td>1612.0</td>\n",
       "      <td>48.64</td>\n",
       "      <td>13</td>\n",
       "      <td>11.591736</td>\n",
       "      <td>879.0</td>\n",
       "      <td>5</td>\n",
       "      <td>100.245593</td>\n",
       "      <td>2</td>\n",
       "      <td>6.118441</td>\n",
       "    </tr>\n",
       "    <tr>\n",
       "      <th>322</th>\n",
       "      <td>1619.0</td>\n",
       "      <td>1616.0</td>\n",
       "      <td>44.30</td>\n",
       "      <td>13</td>\n",
       "      <td>11.075555</td>\n",
       "      <td>3235.0</td>\n",
       "      <td>7</td>\n",
       "      <td>188.228550</td>\n",
       "      <td>2</td>\n",
       "      <td>77.995040</td>\n",
       "    </tr>\n",
       "    <tr>\n",
       "      <th>1513</th>\n",
       "      <td>1553.0</td>\n",
       "      <td>1574.0</td>\n",
       "      <td>42.10</td>\n",
       "      <td>15</td>\n",
       "      <td>14.466533</td>\n",
       "      <td>881.0</td>\n",
       "      <td>7</td>\n",
       "      <td>190.427115</td>\n",
       "      <td>3</td>\n",
       "      <td>38.471706</td>\n",
       "    </tr>\n",
       "    <tr>\n",
       "      <th>1689</th>\n",
       "      <td>1583.0</td>\n",
       "      <td>1606.0</td>\n",
       "      <td>69.82</td>\n",
       "      <td>15</td>\n",
       "      <td>15.288271</td>\n",
       "      <td>1757.0</td>\n",
       "      <td>6</td>\n",
       "      <td>187.153206</td>\n",
       "      <td>2</td>\n",
       "      <td>33.597044</td>\n",
       "    </tr>\n",
       "    <tr>\n",
       "      <th>1880</th>\n",
       "      <td>1606.0</td>\n",
       "      <td>1615.0</td>\n",
       "      <td>45.92</td>\n",
       "      <td>11</td>\n",
       "      <td>7.484913</td>\n",
       "      <td>1325.0</td>\n",
       "      <td>7</td>\n",
       "      <td>70.199997</td>\n",
       "      <td>2</td>\n",
       "      <td>26.379596</td>\n",
       "    </tr>\n",
       "    <tr>\n",
       "      <th>2108</th>\n",
       "      <td>1639.0</td>\n",
       "      <td>1541.0</td>\n",
       "      <td>45.67</td>\n",
       "      <td>16</td>\n",
       "      <td>13.134871</td>\n",
       "      <td>1004.0</td>\n",
       "      <td>6</td>\n",
       "      <td>260.934349</td>\n",
       "      <td>6</td>\n",
       "      <td>45.638999</td>\n",
       "    </tr>\n",
       "  </tbody>\n",
       "</table>\n",
       "</div>"
      ],
      "text/plain": [
       "      Первичная температура  Итоговая температура  Длительность нагрева, сек  \\\n",
       "key                                                                            \n",
       "46                   1607.0                1612.0                      48.64   \n",
       "322                  1619.0                1616.0                      44.30   \n",
       "1513                 1553.0                1574.0                      42.10   \n",
       "1689                 1583.0                1606.0                      69.82   \n",
       "1880                 1606.0                1615.0                      45.92   \n",
       "2108                 1639.0                1541.0                      45.67   \n",
       "\n",
       "      Количество нагревов  Мощность нагрева  Объем сып.мат.  \\\n",
       "key                                                           \n",
       "46                     13         11.591736           879.0   \n",
       "322                    13         11.075555          3235.0   \n",
       "1513                   15         14.466533           881.0   \n",
       "1689                   15         15.288271          1757.0   \n",
       "1880                   11          7.484913          1325.0   \n",
       "2108                   16         13.134871          1004.0   \n",
       "\n",
       "      Количество подач сып.мат.  Объем провол.мат.  \\\n",
       "key                                                  \n",
       "46                            5         100.245593   \n",
       "322                           7         188.228550   \n",
       "1513                          7         190.427115   \n",
       "1689                          6         187.153206   \n",
       "1880                          7          70.199997   \n",
       "2108                          6         260.934349   \n",
       "\n",
       "      Количество подач провол.мат.      Газ 1  \n",
       "key                                            \n",
       "46                               2   6.118441  \n",
       "322                              2  77.995040  \n",
       "1513                             3  38.471706  \n",
       "1689                             2  33.597044  \n",
       "1880                             2  26.379596  \n",
       "2108                             6  45.638999  "
      ]
     },
     "execution_count": 27,
     "metadata": {},
     "output_type": "execute_result"
    }
   ],
   "source": [
    "temp[temp['Длительность нагрева, сек'] >= 40]"
   ]
  },
  {
   "cell_type": "markdown",
   "id": "a24d9167",
   "metadata": {},
   "source": [
    "Высокое значение длительности нагревов связано также с высоким показателем количества нагревов. \n",
    "\n",
    "Признак **количества нагревов** имеет значения от 1 до 16 с медианным знначением = 5 и средним значением = 4.7. Присутствуют и выбивающиеся высокие показатели:"
   ]
  },
  {
   "cell_type": "code",
   "execution_count": 28,
   "id": "a5513ddb",
   "metadata": {},
   "outputs": [
    {
     "data": {
      "text/html": [
       "<div>\n",
       "<style scoped>\n",
       "    .dataframe tbody tr th:only-of-type {\n",
       "        vertical-align: middle;\n",
       "    }\n",
       "\n",
       "    .dataframe tbody tr th {\n",
       "        vertical-align: top;\n",
       "    }\n",
       "\n",
       "    .dataframe thead th {\n",
       "        text-align: right;\n",
       "    }\n",
       "</style>\n",
       "<table border=\"1\" class=\"dataframe\">\n",
       "  <thead>\n",
       "    <tr style=\"text-align: right;\">\n",
       "      <th></th>\n",
       "      <th>Первичная температура</th>\n",
       "      <th>Итоговая температура</th>\n",
       "      <th>Длительность нагрева, сек</th>\n",
       "      <th>Количество нагревов</th>\n",
       "      <th>Мощность нагрева</th>\n",
       "      <th>Объем сып.мат.</th>\n",
       "      <th>Количество подач сып.мат.</th>\n",
       "      <th>Объем провол.мат.</th>\n",
       "      <th>Количество подач провол.мат.</th>\n",
       "      <th>Газ 1</th>\n",
       "    </tr>\n",
       "    <tr>\n",
       "      <th>key</th>\n",
       "      <th></th>\n",
       "      <th></th>\n",
       "      <th></th>\n",
       "      <th></th>\n",
       "      <th></th>\n",
       "      <th></th>\n",
       "      <th></th>\n",
       "      <th></th>\n",
       "      <th></th>\n",
       "      <th></th>\n",
       "    </tr>\n",
       "  </thead>\n",
       "  <tbody>\n",
       "    <tr>\n",
       "      <th>44</th>\n",
       "      <td>1600.0</td>\n",
       "      <td>1603.0</td>\n",
       "      <td>34.39</td>\n",
       "      <td>12</td>\n",
       "      <td>8.981145</td>\n",
       "      <td>881.0</td>\n",
       "      <td>6</td>\n",
       "      <td>69.189123</td>\n",
       "      <td>2</td>\n",
       "      <td>21.265271</td>\n",
       "    </tr>\n",
       "    <tr>\n",
       "      <th>46</th>\n",
       "      <td>1607.0</td>\n",
       "      <td>1612.0</td>\n",
       "      <td>48.64</td>\n",
       "      <td>13</td>\n",
       "      <td>11.591736</td>\n",
       "      <td>879.0</td>\n",
       "      <td>5</td>\n",
       "      <td>100.245593</td>\n",
       "      <td>2</td>\n",
       "      <td>6.118441</td>\n",
       "    </tr>\n",
       "    <tr>\n",
       "      <th>322</th>\n",
       "      <td>1619.0</td>\n",
       "      <td>1616.0</td>\n",
       "      <td>44.30</td>\n",
       "      <td>13</td>\n",
       "      <td>11.075555</td>\n",
       "      <td>3235.0</td>\n",
       "      <td>7</td>\n",
       "      <td>188.228550</td>\n",
       "      <td>2</td>\n",
       "      <td>77.995040</td>\n",
       "    </tr>\n",
       "    <tr>\n",
       "      <th>638</th>\n",
       "      <td>1588.0</td>\n",
       "      <td>1619.0</td>\n",
       "      <td>34.46</td>\n",
       "      <td>11</td>\n",
       "      <td>8.817556</td>\n",
       "      <td>959.0</td>\n",
       "      <td>5</td>\n",
       "      <td>169.322388</td>\n",
       "      <td>2</td>\n",
       "      <td>19.798236</td>\n",
       "    </tr>\n",
       "    <tr>\n",
       "      <th>1513</th>\n",
       "      <td>1553.0</td>\n",
       "      <td>1574.0</td>\n",
       "      <td>42.10</td>\n",
       "      <td>15</td>\n",
       "      <td>14.466533</td>\n",
       "      <td>881.0</td>\n",
       "      <td>7</td>\n",
       "      <td>190.427115</td>\n",
       "      <td>3</td>\n",
       "      <td>38.471706</td>\n",
       "    </tr>\n",
       "    <tr>\n",
       "      <th>1689</th>\n",
       "      <td>1583.0</td>\n",
       "      <td>1606.0</td>\n",
       "      <td>69.82</td>\n",
       "      <td>15</td>\n",
       "      <td>15.288271</td>\n",
       "      <td>1757.0</td>\n",
       "      <td>6</td>\n",
       "      <td>187.153206</td>\n",
       "      <td>2</td>\n",
       "      <td>33.597044</td>\n",
       "    </tr>\n",
       "    <tr>\n",
       "      <th>1829</th>\n",
       "      <td>1535.0</td>\n",
       "      <td>1590.0</td>\n",
       "      <td>25.08</td>\n",
       "      <td>12</td>\n",
       "      <td>10.918670</td>\n",
       "      <td>963.0</td>\n",
       "      <td>5</td>\n",
       "      <td>36.082798</td>\n",
       "      <td>2</td>\n",
       "      <td>3.785225</td>\n",
       "    </tr>\n",
       "    <tr>\n",
       "      <th>1880</th>\n",
       "      <td>1606.0</td>\n",
       "      <td>1615.0</td>\n",
       "      <td>45.92</td>\n",
       "      <td>11</td>\n",
       "      <td>7.484913</td>\n",
       "      <td>1325.0</td>\n",
       "      <td>7</td>\n",
       "      <td>70.199997</td>\n",
       "      <td>2</td>\n",
       "      <td>26.379596</td>\n",
       "    </tr>\n",
       "    <tr>\n",
       "      <th>1958</th>\n",
       "      <td>1579.0</td>\n",
       "      <td>1570.0</td>\n",
       "      <td>30.56</td>\n",
       "      <td>11</td>\n",
       "      <td>8.811874</td>\n",
       "      <td>898.0</td>\n",
       "      <td>6</td>\n",
       "      <td>274.375926</td>\n",
       "      <td>4</td>\n",
       "      <td>32.449632</td>\n",
       "    </tr>\n",
       "    <tr>\n",
       "      <th>2108</th>\n",
       "      <td>1639.0</td>\n",
       "      <td>1541.0</td>\n",
       "      <td>45.67</td>\n",
       "      <td>16</td>\n",
       "      <td>13.134871</td>\n",
       "      <td>1004.0</td>\n",
       "      <td>6</td>\n",
       "      <td>260.934349</td>\n",
       "      <td>6</td>\n",
       "      <td>45.638999</td>\n",
       "    </tr>\n",
       "  </tbody>\n",
       "</table>\n",
       "</div>"
      ],
      "text/plain": [
       "      Первичная температура  Итоговая температура  Длительность нагрева, сек  \\\n",
       "key                                                                            \n",
       "44                   1600.0                1603.0                      34.39   \n",
       "46                   1607.0                1612.0                      48.64   \n",
       "322                  1619.0                1616.0                      44.30   \n",
       "638                  1588.0                1619.0                      34.46   \n",
       "1513                 1553.0                1574.0                      42.10   \n",
       "1689                 1583.0                1606.0                      69.82   \n",
       "1829                 1535.0                1590.0                      25.08   \n",
       "1880                 1606.0                1615.0                      45.92   \n",
       "1958                 1579.0                1570.0                      30.56   \n",
       "2108                 1639.0                1541.0                      45.67   \n",
       "\n",
       "      Количество нагревов  Мощность нагрева  Объем сып.мат.  \\\n",
       "key                                                           \n",
       "44                     12          8.981145           881.0   \n",
       "46                     13         11.591736           879.0   \n",
       "322                    13         11.075555          3235.0   \n",
       "638                    11          8.817556           959.0   \n",
       "1513                   15         14.466533           881.0   \n",
       "1689                   15         15.288271          1757.0   \n",
       "1829                   12         10.918670           963.0   \n",
       "1880                   11          7.484913          1325.0   \n",
       "1958                   11          8.811874           898.0   \n",
       "2108                   16         13.134871          1004.0   \n",
       "\n",
       "      Количество подач сып.мат.  Объем провол.мат.  \\\n",
       "key                                                  \n",
       "44                            6          69.189123   \n",
       "46                            5         100.245593   \n",
       "322                           7         188.228550   \n",
       "638                           5         169.322388   \n",
       "1513                          7         190.427115   \n",
       "1689                          6         187.153206   \n",
       "1829                          5          36.082798   \n",
       "1880                          7          70.199997   \n",
       "1958                          6         274.375926   \n",
       "2108                          6         260.934349   \n",
       "\n",
       "      Количество подач провол.мат.      Газ 1  \n",
       "key                                            \n",
       "44                               2  21.265271  \n",
       "46                               2   6.118441  \n",
       "322                              2  77.995040  \n",
       "638                              2  19.798236  \n",
       "1513                             3  38.471706  \n",
       "1689                             2  33.597044  \n",
       "1829                             2   3.785225  \n",
       "1880                             2  26.379596  \n",
       "1958                             4  32.449632  \n",
       "2108                             6  45.638999  "
      ]
     },
     "execution_count": 28,
     "metadata": {},
     "output_type": "execute_result"
    }
   ],
   "source": [
    "temp[temp['Количество нагревов'] > 10]"
   ]
  },
  {
   "cell_type": "markdown",
   "id": "4925d03f",
   "metadata": {},
   "source": [
    "Которым также характерны высокие показатели длительности нагрева.\n",
    "\n",
    "Показатель **мощности нагрева** принимает значения от 0.33 до 717.94 с медианным значением = 3.77 и средним значением = 4.19. Описательная статистика и графики показывают явные выбросы значений - значения, значительно превышающие среднее и медианное значения (более, чем в 100  раз) при стандартном отклонении = 15."
   ]
  },
  {
   "cell_type": "code",
   "execution_count": 29,
   "id": "439b8b33",
   "metadata": {},
   "outputs": [
    {
     "data": {
      "text/html": [
       "<div>\n",
       "<style scoped>\n",
       "    .dataframe tbody tr th:only-of-type {\n",
       "        vertical-align: middle;\n",
       "    }\n",
       "\n",
       "    .dataframe tbody tr th {\n",
       "        vertical-align: top;\n",
       "    }\n",
       "\n",
       "    .dataframe thead th {\n",
       "        text-align: right;\n",
       "    }\n",
       "</style>\n",
       "<table border=\"1\" class=\"dataframe\">\n",
       "  <thead>\n",
       "    <tr style=\"text-align: right;\">\n",
       "      <th></th>\n",
       "      <th>Первичная температура</th>\n",
       "      <th>Итоговая температура</th>\n",
       "      <th>Длительность нагрева, сек</th>\n",
       "      <th>Количество нагревов</th>\n",
       "      <th>Мощность нагрева</th>\n",
       "      <th>Объем сып.мат.</th>\n",
       "      <th>Количество подач сып.мат.</th>\n",
       "      <th>Объем провол.мат.</th>\n",
       "      <th>Количество подач провол.мат.</th>\n",
       "      <th>Газ 1</th>\n",
       "    </tr>\n",
       "    <tr>\n",
       "      <th>key</th>\n",
       "      <th></th>\n",
       "      <th></th>\n",
       "      <th></th>\n",
       "      <th></th>\n",
       "      <th></th>\n",
       "      <th></th>\n",
       "      <th></th>\n",
       "      <th></th>\n",
       "      <th></th>\n",
       "      <th></th>\n",
       "    </tr>\n",
       "  </thead>\n",
       "  <tbody>\n",
       "    <tr>\n",
       "      <th>2116</th>\n",
       "      <td>1579.0</td>\n",
       "      <td>1578.0</td>\n",
       "      <td>7.22</td>\n",
       "      <td>4</td>\n",
       "      <td>717.937368</td>\n",
       "      <td>335.0</td>\n",
       "      <td>3</td>\n",
       "      <td>75.216965</td>\n",
       "      <td>2</td>\n",
       "      <td>11.582547</td>\n",
       "    </tr>\n",
       "  </tbody>\n",
       "</table>\n",
       "</div>"
      ],
      "text/plain": [
       "      Первичная температура  Итоговая температура  Длительность нагрева, сек  \\\n",
       "key                                                                            \n",
       "2116                 1579.0                1578.0                       7.22   \n",
       "\n",
       "      Количество нагревов  Мощность нагрева  Объем сып.мат.  \\\n",
       "key                                                           \n",
       "2116                    4        717.937368           335.0   \n",
       "\n",
       "      Количество подач сып.мат.  Объем провол.мат.  \\\n",
       "key                                                  \n",
       "2116                          3          75.216965   \n",
       "\n",
       "      Количество подач провол.мат.      Газ 1  \n",
       "key                                            \n",
       "2116                             2  11.582547  "
      ]
     },
     "execution_count": 29,
     "metadata": {},
     "output_type": "execute_result"
    }
   ],
   "source": [
    "temp[temp['Мощность нагрева'] >= 100]"
   ]
  },
  {
   "cell_type": "markdown",
   "id": "6e1f2d98",
   "metadata": {},
   "source": [
    "Исключим данную аномалию из датасета:"
   ]
  },
  {
   "cell_type": "code",
   "execution_count": 30,
   "id": "6b7b26dc",
   "metadata": {},
   "outputs": [
    {
     "data": {
      "text/plain": [
       "(2324, 10)"
      ]
     },
     "execution_count": 30,
     "metadata": {},
     "output_type": "execute_result"
    }
   ],
   "source": [
    "temp = temp[temp['Мощность нагрева'] < 100]\n",
    "temp.shape"
   ]
  },
  {
   "cell_type": "code",
   "execution_count": 31,
   "id": "27369043",
   "metadata": {},
   "outputs": [
    {
     "name": "stdout",
     "output_type": "stream",
     "text": [
      "count    2324.000000\n",
      "mean        3.886143\n",
      "std         1.517584\n",
      "min         0.331897\n",
      "25%         2.846893\n",
      "50%         3.770584\n",
      "75%         4.769753\n",
      "max        15.288271\n",
      "Name: Мощность нагрева, dtype: float64\n"
     ]
    },
    {
     "data": {
      "image/png": "[encoded data removed]",
      "text/plain": [
       "<Figure size 864x288 with 2 Axes>"
      ]
     },
     "metadata": {
      "needs_background": "light"
     },
     "output_type": "display_data"
    }
   ],
   "source": [
    "print(temp['Мощность нагрева'].describe())\n",
    "fig, (ax1, ax2) = plt.subplots(nrows=2, ncols=1, figsize=(12, 4), gridspec_kw={'height_ratios': [4, 1]}, sharex=True)\n",
    "plt.suptitle(f'Распределение признака \"Мощность нагрева\"')\n",
    "sns.histplot(temp['Мощность нагрева'], bins=20, ax=ax1, kde=False, color='skyblue')\n",
    "ax1.set_title(f'Гистограмма признака')\n",
    "ax1.set_ylabel('Частота')\n",
    "sns.boxplot(x=temp['Мощность нагрева'], ax=ax2)\n",
    "ax2.set_title(f'Диаграмма признака')\n",
    "ax2.set_xlabel(f' Значения признака {i}')\n",
    "plt.tight_layout()\n",
    "plt.show()"
   ]
  },
  {
   "cell_type": "markdown",
   "id": "b538350b",
   "metadata": {},
   "source": [
    "После удаления выброса значения признака мощности нагрева приобрели в основном нормальное распределение с небольшим количеством аномальных значений:"
   ]
  },
  {
   "cell_type": "code",
   "execution_count": 32,
   "id": "90f9494e",
   "metadata": {},
   "outputs": [
    {
     "data": {
      "text/html": [
       "<div>\n",
       "<style scoped>\n",
       "    .dataframe tbody tr th:only-of-type {\n",
       "        vertical-align: middle;\n",
       "    }\n",
       "\n",
       "    .dataframe tbody tr th {\n",
       "        vertical-align: top;\n",
       "    }\n",
       "\n",
       "    .dataframe thead th {\n",
       "        text-align: right;\n",
       "    }\n",
       "</style>\n",
       "<table border=\"1\" class=\"dataframe\">\n",
       "  <thead>\n",
       "    <tr style=\"text-align: right;\">\n",
       "      <th></th>\n",
       "      <th>Первичная температура</th>\n",
       "      <th>Итоговая температура</th>\n",
       "      <th>Длительность нагрева, сек</th>\n",
       "      <th>Количество нагревов</th>\n",
       "      <th>Мощность нагрева</th>\n",
       "      <th>Объем сып.мат.</th>\n",
       "      <th>Количество подач сып.мат.</th>\n",
       "      <th>Объем провол.мат.</th>\n",
       "      <th>Количество подач провол.мат.</th>\n",
       "      <th>Газ 1</th>\n",
       "    </tr>\n",
       "    <tr>\n",
       "      <th>key</th>\n",
       "      <th></th>\n",
       "      <th></th>\n",
       "      <th></th>\n",
       "      <th></th>\n",
       "      <th></th>\n",
       "      <th></th>\n",
       "      <th></th>\n",
       "      <th></th>\n",
       "      <th></th>\n",
       "      <th></th>\n",
       "    </tr>\n",
       "  </thead>\n",
       "  <tbody>\n",
       "    <tr>\n",
       "      <th>46</th>\n",
       "      <td>1607.0</td>\n",
       "      <td>1612.0</td>\n",
       "      <td>48.64</td>\n",
       "      <td>13</td>\n",
       "      <td>11.591736</td>\n",
       "      <td>879.0</td>\n",
       "      <td>5</td>\n",
       "      <td>100.245593</td>\n",
       "      <td>2</td>\n",
       "      <td>6.118441</td>\n",
       "    </tr>\n",
       "    <tr>\n",
       "      <th>322</th>\n",
       "      <td>1619.0</td>\n",
       "      <td>1616.0</td>\n",
       "      <td>44.30</td>\n",
       "      <td>13</td>\n",
       "      <td>11.075555</td>\n",
       "      <td>3235.0</td>\n",
       "      <td>7</td>\n",
       "      <td>188.228550</td>\n",
       "      <td>2</td>\n",
       "      <td>77.995040</td>\n",
       "    </tr>\n",
       "    <tr>\n",
       "      <th>1513</th>\n",
       "      <td>1553.0</td>\n",
       "      <td>1574.0</td>\n",
       "      <td>42.10</td>\n",
       "      <td>15</td>\n",
       "      <td>14.466533</td>\n",
       "      <td>881.0</td>\n",
       "      <td>7</td>\n",
       "      <td>190.427115</td>\n",
       "      <td>3</td>\n",
       "      <td>38.471706</td>\n",
       "    </tr>\n",
       "    <tr>\n",
       "      <th>1689</th>\n",
       "      <td>1583.0</td>\n",
       "      <td>1606.0</td>\n",
       "      <td>69.82</td>\n",
       "      <td>15</td>\n",
       "      <td>15.288271</td>\n",
       "      <td>1757.0</td>\n",
       "      <td>6</td>\n",
       "      <td>187.153206</td>\n",
       "      <td>2</td>\n",
       "      <td>33.597044</td>\n",
       "    </tr>\n",
       "    <tr>\n",
       "      <th>1829</th>\n",
       "      <td>1535.0</td>\n",
       "      <td>1590.0</td>\n",
       "      <td>25.08</td>\n",
       "      <td>12</td>\n",
       "      <td>10.918670</td>\n",
       "      <td>963.0</td>\n",
       "      <td>5</td>\n",
       "      <td>36.082798</td>\n",
       "      <td>2</td>\n",
       "      <td>3.785225</td>\n",
       "    </tr>\n",
       "    <tr>\n",
       "      <th>2108</th>\n",
       "      <td>1639.0</td>\n",
       "      <td>1541.0</td>\n",
       "      <td>45.67</td>\n",
       "      <td>16</td>\n",
       "      <td>13.134871</td>\n",
       "      <td>1004.0</td>\n",
       "      <td>6</td>\n",
       "      <td>260.934349</td>\n",
       "      <td>6</td>\n",
       "      <td>45.638999</td>\n",
       "    </tr>\n",
       "  </tbody>\n",
       "</table>\n",
       "</div>"
      ],
      "text/plain": [
       "      Первичная температура  Итоговая температура  Длительность нагрева, сек  \\\n",
       "key                                                                            \n",
       "46                   1607.0                1612.0                      48.64   \n",
       "322                  1619.0                1616.0                      44.30   \n",
       "1513                 1553.0                1574.0                      42.10   \n",
       "1689                 1583.0                1606.0                      69.82   \n",
       "1829                 1535.0                1590.0                      25.08   \n",
       "2108                 1639.0                1541.0                      45.67   \n",
       "\n",
       "      Количество нагревов  Мощность нагрева  Объем сып.мат.  \\\n",
       "key                                                           \n",
       "46                     13         11.591736           879.0   \n",
       "322                    13         11.075555          3235.0   \n",
       "1513                   15         14.466533           881.0   \n",
       "1689                   15         15.288271          1757.0   \n",
       "1829                   12         10.918670           963.0   \n",
       "2108                   16         13.134871          1004.0   \n",
       "\n",
       "      Количество подач сып.мат.  Объем провол.мат.  \\\n",
       "key                                                  \n",
       "46                            5         100.245593   \n",
       "322                           7         188.228550   \n",
       "1513                          7         190.427115   \n",
       "1689                          6         187.153206   \n",
       "1829                          5          36.082798   \n",
       "2108                          6         260.934349   \n",
       "\n",
       "      Количество подач провол.мат.      Газ 1  \n",
       "key                                            \n",
       "46                               2   6.118441  \n",
       "322                              2  77.995040  \n",
       "1513                             3  38.471706  \n",
       "1689                             2  33.597044  \n",
       "1829                             2   3.785225  \n",
       "2108                             6  45.638999  "
      ]
     },
     "execution_count": 32,
     "metadata": {},
     "output_type": "execute_result"
    }
   ],
   "source": [
    "temp[temp['Мощность нагрева'] >= 10]"
   ]
  },
  {
   "cell_type": "markdown",
   "id": "5d2a340d",
   "metadata": {},
   "source": [
    "Которые можно объяснить также высокими показателями длительности и количества ннагревов."
   ]
  },
  {
   "cell_type": "markdown",
   "id": "160f8566",
   "metadata": {},
   "source": [
    "Показатель **объема сыпучих материалов** принимает значения от 19 до 3235 с медианным значением = 609 и схожим средним значением. Описательная статистика и графики показывают значительные аномалии значений - значения, превышающие среднее и медианное значения в 2.5 и более раз:"
   ]
  },
  {
   "cell_type": "code",
   "execution_count": 33,
   "id": "deb0fda9",
   "metadata": {},
   "outputs": [
    {
     "data": {
      "text/html": [
       "<div>\n",
       "<style scoped>\n",
       "    .dataframe tbody tr th:only-of-type {\n",
       "        vertical-align: middle;\n",
       "    }\n",
       "\n",
       "    .dataframe tbody tr th {\n",
       "        vertical-align: top;\n",
       "    }\n",
       "\n",
       "    .dataframe thead th {\n",
       "        text-align: right;\n",
       "    }\n",
       "</style>\n",
       "<table border=\"1\" class=\"dataframe\">\n",
       "  <thead>\n",
       "    <tr style=\"text-align: right;\">\n",
       "      <th></th>\n",
       "      <th>Первичная температура</th>\n",
       "      <th>Итоговая температура</th>\n",
       "      <th>Длительность нагрева, сек</th>\n",
       "      <th>Количество нагревов</th>\n",
       "      <th>Мощность нагрева</th>\n",
       "      <th>Объем сып.мат.</th>\n",
       "      <th>Количество подач сып.мат.</th>\n",
       "      <th>Объем провол.мат.</th>\n",
       "      <th>Количество подач провол.мат.</th>\n",
       "      <th>Газ 1</th>\n",
       "    </tr>\n",
       "    <tr>\n",
       "      <th>key</th>\n",
       "      <th></th>\n",
       "      <th></th>\n",
       "      <th></th>\n",
       "      <th></th>\n",
       "      <th></th>\n",
       "      <th></th>\n",
       "      <th></th>\n",
       "      <th></th>\n",
       "      <th></th>\n",
       "      <th></th>\n",
       "    </tr>\n",
       "  </thead>\n",
       "  <tbody>\n",
       "    <tr>\n",
       "      <th>322</th>\n",
       "      <td>1619.0</td>\n",
       "      <td>1616.0</td>\n",
       "      <td>44.30</td>\n",
       "      <td>13</td>\n",
       "      <td>11.075555</td>\n",
       "      <td>3235.0</td>\n",
       "      <td>7</td>\n",
       "      <td>188.228550</td>\n",
       "      <td>2</td>\n",
       "      <td>77.995040</td>\n",
       "    </tr>\n",
       "    <tr>\n",
       "      <th>327</th>\n",
       "      <td>1572.0</td>\n",
       "      <td>1586.0</td>\n",
       "      <td>20.94</td>\n",
       "      <td>6</td>\n",
       "      <td>7.154065</td>\n",
       "      <td>1569.0</td>\n",
       "      <td>6</td>\n",
       "      <td>97.016404</td>\n",
       "      <td>2</td>\n",
       "      <td>4.898431</td>\n",
       "    </tr>\n",
       "    <tr>\n",
       "      <th>1689</th>\n",
       "      <td>1583.0</td>\n",
       "      <td>1606.0</td>\n",
       "      <td>69.82</td>\n",
       "      <td>15</td>\n",
       "      <td>15.288271</td>\n",
       "      <td>1757.0</td>\n",
       "      <td>6</td>\n",
       "      <td>187.153206</td>\n",
       "      <td>2</td>\n",
       "      <td>33.597044</td>\n",
       "    </tr>\n",
       "    <tr>\n",
       "      <th>1999</th>\n",
       "      <td>1650.0</td>\n",
       "      <td>1613.0</td>\n",
       "      <td>11.74</td>\n",
       "      <td>5</td>\n",
       "      <td>4.598665</td>\n",
       "      <td>1563.0</td>\n",
       "      <td>5</td>\n",
       "      <td>100.070877</td>\n",
       "      <td>2</td>\n",
       "      <td>7.815190</td>\n",
       "    </tr>\n",
       "  </tbody>\n",
       "</table>\n",
       "</div>"
      ],
      "text/plain": [
       "      Первичная температура  Итоговая температура  Длительность нагрева, сек  \\\n",
       "key                                                                            \n",
       "322                  1619.0                1616.0                      44.30   \n",
       "327                  1572.0                1586.0                      20.94   \n",
       "1689                 1583.0                1606.0                      69.82   \n",
       "1999                 1650.0                1613.0                      11.74   \n",
       "\n",
       "      Количество нагревов  Мощность нагрева  Объем сып.мат.  \\\n",
       "key                                                           \n",
       "322                    13         11.075555          3235.0   \n",
       "327                     6          7.154065          1569.0   \n",
       "1689                   15         15.288271          1757.0   \n",
       "1999                    5          4.598665          1563.0   \n",
       "\n",
       "      Количество подач сып.мат.  Объем провол.мат.  \\\n",
       "key                                                  \n",
       "322                           7         188.228550   \n",
       "327                           6          97.016404   \n",
       "1689                          6         187.153206   \n",
       "1999                          5         100.070877   \n",
       "\n",
       "      Количество подач провол.мат.      Газ 1  \n",
       "key                                            \n",
       "322                              2  77.995040  \n",
       "327                              2   4.898431  \n",
       "1689                             2  33.597044  \n",
       "1999                             2   7.815190  "
      ]
     },
     "execution_count": 33,
     "metadata": {},
     "output_type": "execute_result"
    }
   ],
   "source": [
    "temp[temp['Объем сып.мат.'] >= 1500]"
   ]
  },
  {
   "cell_type": "markdown",
   "id": "fe2a9377",
   "metadata": {},
   "source": [
    "Данные партии также имеют высокие показатели количества подачи сыпучих материалов. Допустим, что при каждой подаче использовалось максимально возможно количество сыпучих материалов и оставим данные аномалии для дальнейшего анализа.\n",
    "\n",
    "Показатель **количества подачи сыпучих материалов** принимает значение от 2 до 8 с медианным значением = 5 и схожим средним значением, выбивающиееся аномалии не наблюдаются.\n",
    "\n",
    "Показатель **объема проволочных материалов** принимает значения от 1.92 до 568.78 с медианным значением = 116.10 и средним значением = 125.21. Графики показывают, что значения признака в основном распределены нормально, с небольшим количеством незначительных аномалий:"
   ]
  },
  {
   "cell_type": "code",
   "execution_count": 34,
   "id": "9f22e00e",
   "metadata": {},
   "outputs": [
    {
     "data": {
      "text/html": [
       "<div>\n",
       "<style scoped>\n",
       "    .dataframe tbody tr th:only-of-type {\n",
       "        vertical-align: middle;\n",
       "    }\n",
       "\n",
       "    .dataframe tbody tr th {\n",
       "        vertical-align: top;\n",
       "    }\n",
       "\n",
       "    .dataframe thead th {\n",
       "        text-align: right;\n",
       "    }\n",
       "</style>\n",
       "<table border=\"1\" class=\"dataframe\">\n",
       "  <thead>\n",
       "    <tr style=\"text-align: right;\">\n",
       "      <th></th>\n",
       "      <th>Первичная температура</th>\n",
       "      <th>Итоговая температура</th>\n",
       "      <th>Длительность нагрева, сек</th>\n",
       "      <th>Количество нагревов</th>\n",
       "      <th>Мощность нагрева</th>\n",
       "      <th>Объем сып.мат.</th>\n",
       "      <th>Количество подач сып.мат.</th>\n",
       "      <th>Объем провол.мат.</th>\n",
       "      <th>Количество подач провол.мат.</th>\n",
       "      <th>Газ 1</th>\n",
       "    </tr>\n",
       "    <tr>\n",
       "      <th>key</th>\n",
       "      <th></th>\n",
       "      <th></th>\n",
       "      <th></th>\n",
       "      <th></th>\n",
       "      <th></th>\n",
       "      <th></th>\n",
       "      <th></th>\n",
       "      <th></th>\n",
       "      <th></th>\n",
       "      <th></th>\n",
       "    </tr>\n",
       "  </thead>\n",
       "  <tbody>\n",
       "    <tr>\n",
       "      <th>407</th>\n",
       "      <td>1554.0</td>\n",
       "      <td>1589.0</td>\n",
       "      <td>16.22</td>\n",
       "      <td>5</td>\n",
       "      <td>3.317154</td>\n",
       "      <td>359.0</td>\n",
       "      <td>3</td>\n",
       "      <td>517.560783</td>\n",
       "      <td>4</td>\n",
       "      <td>16.194449</td>\n",
       "    </tr>\n",
       "    <tr>\n",
       "      <th>988</th>\n",
       "      <td>1608.0</td>\n",
       "      <td>1587.0</td>\n",
       "      <td>13.49</td>\n",
       "      <td>5</td>\n",
       "      <td>4.480755</td>\n",
       "      <td>387.0</td>\n",
       "      <td>5</td>\n",
       "      <td>528.202918</td>\n",
       "      <td>4</td>\n",
       "      <td>19.279323</td>\n",
       "    </tr>\n",
       "    <tr>\n",
       "      <th>1840</th>\n",
       "      <td>1602.0</td>\n",
       "      <td>1589.0</td>\n",
       "      <td>9.59</td>\n",
       "      <td>4</td>\n",
       "      <td>3.761492</td>\n",
       "      <td>122.0</td>\n",
       "      <td>2</td>\n",
       "      <td>568.777664</td>\n",
       "      <td>4</td>\n",
       "      <td>13.767550</td>\n",
       "    </tr>\n",
       "    <tr>\n",
       "      <th>1841</th>\n",
       "      <td>1559.0</td>\n",
       "      <td>1589.0</td>\n",
       "      <td>15.66</td>\n",
       "      <td>6</td>\n",
       "      <td>6.087450</td>\n",
       "      <td>169.0</td>\n",
       "      <td>2</td>\n",
       "      <td>504.331137</td>\n",
       "      <td>4</td>\n",
       "      <td>13.814996</td>\n",
       "    </tr>\n",
       "    <tr>\n",
       "      <th>1915</th>\n",
       "      <td>1574.0</td>\n",
       "      <td>1586.0</td>\n",
       "      <td>16.89</td>\n",
       "      <td>8</td>\n",
       "      <td>6.020171</td>\n",
       "      <td>275.0</td>\n",
       "      <td>3</td>\n",
       "      <td>568.237950</td>\n",
       "      <td>4</td>\n",
       "      <td>12.918119</td>\n",
       "    </tr>\n",
       "    <tr>\n",
       "      <th>1916</th>\n",
       "      <td>1614.0</td>\n",
       "      <td>1590.0</td>\n",
       "      <td>9.89</td>\n",
       "      <td>5</td>\n",
       "      <td>5.406926</td>\n",
       "      <td>231.0</td>\n",
       "      <td>3</td>\n",
       "      <td>506.304676</td>\n",
       "      <td>4</td>\n",
       "      <td>18.867788</td>\n",
       "    </tr>\n",
       "  </tbody>\n",
       "</table>\n",
       "</div>"
      ],
      "text/plain": [
       "      Первичная температура  Итоговая температура  Длительность нагрева, сек  \\\n",
       "key                                                                            \n",
       "407                  1554.0                1589.0                      16.22   \n",
       "988                  1608.0                1587.0                      13.49   \n",
       "1840                 1602.0                1589.0                       9.59   \n",
       "1841                 1559.0                1589.0                      15.66   \n",
       "1915                 1574.0                1586.0                      16.89   \n",
       "1916                 1614.0                1590.0                       9.89   \n",
       "\n",
       "      Количество нагревов  Мощность нагрева  Объем сып.мат.  \\\n",
       "key                                                           \n",
       "407                     5          3.317154           359.0   \n",
       "988                     5          4.480755           387.0   \n",
       "1840                    4          3.761492           122.0   \n",
       "1841                    6          6.087450           169.0   \n",
       "1915                    8          6.020171           275.0   \n",
       "1916                    5          5.406926           231.0   \n",
       "\n",
       "      Количество подач сып.мат.  Объем провол.мат.  \\\n",
       "key                                                  \n",
       "407                           3         517.560783   \n",
       "988                           5         528.202918   \n",
       "1840                          2         568.777664   \n",
       "1841                          2         504.331137   \n",
       "1915                          3         568.237950   \n",
       "1916                          3         506.304676   \n",
       "\n",
       "      Количество подач провол.мат.      Газ 1  \n",
       "key                                            \n",
       "407                              4  16.194449  \n",
       "988                              4  19.279323  \n",
       "1840                             4  13.767550  \n",
       "1841                             4  13.814996  \n",
       "1915                             4  12.918119  \n",
       "1916                             4  18.867788  "
      ]
     },
     "execution_count": 34,
     "metadata": {},
     "output_type": "execute_result"
    }
   ],
   "source": [
    "temp[temp['Объем провол.мат.'] >= 500]"
   ]
  },
  {
   "cell_type": "markdown",
   "id": "c21446f7",
   "metadata": {},
   "source": [
    "Данные партии также имеют значение признака количества подачи проволочных материалов выше среднего значения (4 при среднем = 2.4).\n",
    "\n",
    "Признак **количества подач проволочных материалов** имеет значения от 2 до 6 с медианным знначением = 2 и схожим средним значением = 2.4, сильно выбивающиееся аномалии не наблюдаются.\n",
    "\n",
    "Признак **объёма подаваемого газа** принимает значения от 0.01 до 78 с медианным знначением = 10.1 и средним значением = 11.4. Присутствуют и выбивающиеся высокие показатели:"
   ]
  },
  {
   "cell_type": "code",
   "execution_count": 35,
   "id": "896f70a2",
   "metadata": {},
   "outputs": [
    {
     "data": {
      "text/html": [
       "<div>\n",
       "<style scoped>\n",
       "    .dataframe tbody tr th:only-of-type {\n",
       "        vertical-align: middle;\n",
       "    }\n",
       "\n",
       "    .dataframe tbody tr th {\n",
       "        vertical-align: top;\n",
       "    }\n",
       "\n",
       "    .dataframe thead th {\n",
       "        text-align: right;\n",
       "    }\n",
       "</style>\n",
       "<table border=\"1\" class=\"dataframe\">\n",
       "  <thead>\n",
       "    <tr style=\"text-align: right;\">\n",
       "      <th></th>\n",
       "      <th>Первичная температура</th>\n",
       "      <th>Итоговая температура</th>\n",
       "      <th>Длительность нагрева, сек</th>\n",
       "      <th>Количество нагревов</th>\n",
       "      <th>Мощность нагрева</th>\n",
       "      <th>Объем сып.мат.</th>\n",
       "      <th>Количество подач сып.мат.</th>\n",
       "      <th>Объем провол.мат.</th>\n",
       "      <th>Количество подач провол.мат.</th>\n",
       "      <th>Газ 1</th>\n",
       "    </tr>\n",
       "    <tr>\n",
       "      <th>key</th>\n",
       "      <th></th>\n",
       "      <th></th>\n",
       "      <th></th>\n",
       "      <th></th>\n",
       "      <th></th>\n",
       "      <th></th>\n",
       "      <th></th>\n",
       "      <th></th>\n",
       "      <th></th>\n",
       "      <th></th>\n",
       "    </tr>\n",
       "  </thead>\n",
       "  <tbody>\n",
       "    <tr>\n",
       "      <th>117</th>\n",
       "      <td>1625.0</td>\n",
       "      <td>1604.0</td>\n",
       "      <td>13.39</td>\n",
       "      <td>6</td>\n",
       "      <td>5.102765</td>\n",
       "      <td>557.0</td>\n",
       "      <td>5</td>\n",
       "      <td>120.044500</td>\n",
       "      <td>3</td>\n",
       "      <td>50.581035</td>\n",
       "    </tr>\n",
       "    <tr>\n",
       "      <th>280</th>\n",
       "      <td>1532.0</td>\n",
       "      <td>1600.0</td>\n",
       "      <td>30.13</td>\n",
       "      <td>9</td>\n",
       "      <td>5.191116</td>\n",
       "      <td>560.0</td>\n",
       "      <td>5</td>\n",
       "      <td>282.413042</td>\n",
       "      <td>4</td>\n",
       "      <td>60.935689</td>\n",
       "    </tr>\n",
       "    <tr>\n",
       "      <th>322</th>\n",
       "      <td>1619.0</td>\n",
       "      <td>1616.0</td>\n",
       "      <td>44.30</td>\n",
       "      <td>13</td>\n",
       "      <td>11.075555</td>\n",
       "      <td>3235.0</td>\n",
       "      <td>7</td>\n",
       "      <td>188.228550</td>\n",
       "      <td>2</td>\n",
       "      <td>77.995040</td>\n",
       "    </tr>\n",
       "    <tr>\n",
       "      <th>663</th>\n",
       "      <td>1593.0</td>\n",
       "      <td>1620.0</td>\n",
       "      <td>27.55</td>\n",
       "      <td>8</td>\n",
       "      <td>5.283477</td>\n",
       "      <td>1170.0</td>\n",
       "      <td>7</td>\n",
       "      <td>130.244400</td>\n",
       "      <td>2</td>\n",
       "      <td>41.854643</td>\n",
       "    </tr>\n",
       "    <tr>\n",
       "      <th>1464</th>\n",
       "      <td>1567.0</td>\n",
       "      <td>1585.0</td>\n",
       "      <td>19.95</td>\n",
       "      <td>4</td>\n",
       "      <td>2.002527</td>\n",
       "      <td>1316.0</td>\n",
       "      <td>6</td>\n",
       "      <td>280.987214</td>\n",
       "      <td>2</td>\n",
       "      <td>43.655411</td>\n",
       "    </tr>\n",
       "    <tr>\n",
       "      <th>2108</th>\n",
       "      <td>1639.0</td>\n",
       "      <td>1541.0</td>\n",
       "      <td>45.67</td>\n",
       "      <td>16</td>\n",
       "      <td>13.134871</td>\n",
       "      <td>1004.0</td>\n",
       "      <td>6</td>\n",
       "      <td>260.934349</td>\n",
       "      <td>6</td>\n",
       "      <td>45.638999</td>\n",
       "    </tr>\n",
       "    <tr>\n",
       "      <th>2110</th>\n",
       "      <td>1645.0</td>\n",
       "      <td>1551.0</td>\n",
       "      <td>9.12</td>\n",
       "      <td>5</td>\n",
       "      <td>2.429767</td>\n",
       "      <td>930.0</td>\n",
       "      <td>6</td>\n",
       "      <td>244.007932</td>\n",
       "      <td>6</td>\n",
       "      <td>52.142373</td>\n",
       "    </tr>\n",
       "  </tbody>\n",
       "</table>\n",
       "</div>"
      ],
      "text/plain": [
       "      Первичная температура  Итоговая температура  Длительность нагрева, сек  \\\n",
       "key                                                                            \n",
       "117                  1625.0                1604.0                      13.39   \n",
       "280                  1532.0                1600.0                      30.13   \n",
       "322                  1619.0                1616.0                      44.30   \n",
       "663                  1593.0                1620.0                      27.55   \n",
       "1464                 1567.0                1585.0                      19.95   \n",
       "2108                 1639.0                1541.0                      45.67   \n",
       "2110                 1645.0                1551.0                       9.12   \n",
       "\n",
       "      Количество нагревов  Мощность нагрева  Объем сып.мат.  \\\n",
       "key                                                           \n",
       "117                     6          5.102765           557.0   \n",
       "280                     9          5.191116           560.0   \n",
       "322                    13         11.075555          3235.0   \n",
       "663                     8          5.283477          1170.0   \n",
       "1464                    4          2.002527          1316.0   \n",
       "2108                   16         13.134871          1004.0   \n",
       "2110                    5          2.429767           930.0   \n",
       "\n",
       "      Количество подач сып.мат.  Объем провол.мат.  \\\n",
       "key                                                  \n",
       "117                           5         120.044500   \n",
       "280                           5         282.413042   \n",
       "322                           7         188.228550   \n",
       "663                           7         130.244400   \n",
       "1464                          6         280.987214   \n",
       "2108                          6         260.934349   \n",
       "2110                          6         244.007932   \n",
       "\n",
       "      Количество подач провол.мат.      Газ 1  \n",
       "key                                            \n",
       "117                              3  50.581035  \n",
       "280                              4  60.935689  \n",
       "322                              2  77.995040  \n",
       "663                              2  41.854643  \n",
       "1464                             2  43.655411  \n",
       "2108                             6  45.638999  \n",
       "2110                             6  52.142373  "
      ]
     },
     "execution_count": 35,
     "metadata": {},
     "output_type": "execute_result"
    }
   ],
   "source": [
    "temp[temp['Газ 1'] >= 40]"
   ]
  },
  {
   "cell_type": "markdown",
   "id": "98898fd5",
   "metadata": {},
   "source": [
    "Данные партии также имеют высокие показатели количества подачи материалов, что может объяснять и высокие объемы подаваемого газа для продува сплава в партиях."
   ]
  },
  {
   "cell_type": "code",
   "execution_count": 36,
   "id": "8e4aa6a1",
   "metadata": {},
   "outputs": [
    {
     "data": {
      "text/plain": [
       "(2324, 10)"
      ]
     },
     "execution_count": 36,
     "metadata": {},
     "output_type": "execute_result"
    }
   ],
   "source": [
    "temp.shape"
   ]
  },
  {
   "cell_type": "markdown",
   "id": "86e2a435",
   "metadata": {},
   "source": [
    "**Итог:** в ходе предобработки удалены 4 выброса в значениях температур (ниже температуры плавления стали) и 1 выброс в значениях мощности нагрева (значение, более чем в 100 раз превышающее средний показатель). Выборка после удаления выбросов содержит информацию по 2324 партиям."
   ]
  },
  {
   "cell_type": "markdown",
   "id": "901cabf2",
   "metadata": {},
   "source": [
    "## Корреляционный анализ признаков"
   ]
  },
  {
   "cell_type": "code",
   "execution_count": 37,
   "id": "d0278e62",
   "metadata": {},
   "outputs": [
    {
     "name": "stdout",
     "output_type": "stream",
     "text": [
      "interval columns not set, guessing: ['Первичная температура', 'Итоговая температура', 'Длительность нагрева, сек', 'Количество нагревов', 'Мощность нагрева', 'Объем сып.мат.', 'Количество подач сып.мат.', 'Объем провол.мат.', 'Количество подач провол.мат.', 'Газ 1']\n"
     ]
    },
    {
     "data": {
      "image/png": "[encoded data removed]",
      "text/plain": [
       "<Figure size 720x432 with 2 Axes>"
      ]
     },
     "metadata": {
      "needs_background": "light"
     },
     "output_type": "display_data"
    }
   ],
   "source": [
    "# посмотрим на матрицу корреляции на графике\n",
    "phik_overview = phik_matrix(temp)\n",
    "plot_correlation_matrix(\n",
    "    phik_overview.values,\n",
    "    x_labels=phik_overview.columns,\n",
    "    y_labels=phik_overview.index,\n",
    "    vmin=0, vmax=1, color_map='Greens',\n",
    "    title=r'Матрица корреляции признаков',\n",
    "    fontsize_factor=0.8,\n",
    "    figsize=(10, 6)\n",
    ");"
   ]
  },
  {
   "cell_type": "markdown",
   "id": "6ac98850",
   "metadata": {},
   "source": [
    "Мультиколлинеарность (значения коэффициентов корреляции от 0.9 до 1.0 по модулю) входных признаков наблюдается у признаков \"Количество нагревов\" и \"Мощность нагрева\", при этом с целевым признаком выше корреляция у признака \"Мощность нагрева\" (0.49 против 0.36 у признака \"Количество нагревов\"). Удалим признак с наименьшей корреляцией с целевым признаком (\"Количество нагревов\") из датасета перед обучением модели. "
   ]
  },
  {
   "cell_type": "code",
   "execution_count": 38,
   "id": "454b199d",
   "metadata": {},
   "outputs": [],
   "source": [
    "temp = temp.drop('Количество нагревов', axis = 1)"
   ]
  },
  {
   "cell_type": "code",
   "execution_count": 39,
   "id": "83df91f1",
   "metadata": {},
   "outputs": [
    {
     "name": "stdout",
     "output_type": "stream",
     "text": [
      "Размер выборки составляет: 9 признаков по 2324 партиям\n"
     ]
    }
   ],
   "source": [
    "print(f'Размер выборки составляет: {temp.shape[1]} признаков по {temp.shape[0]} партиям')"
   ]
  },
  {
   "cell_type": "markdown",
   "id": "2b3af6eb",
   "metadata": {},
   "source": [
    "Согласно матрице корреляции на целевой признак \"Итоговая температура\" наибольшее влияние оказывает входной признак \"Количество подач проволочного материала\" (коэффициент корреляции = 0.82), значительное влияние также оказывают признаки \"Мощность нагрева\" (коэффициент корреляции = 0.49) и \"Первичная температура\" (коэффициент корреляции = 0.43), самое слабое же влияние с коэффициентами корреляции 0.17 и 0.18 имеют признаки \"Количество подач сыпучих материалов\" и \"Объем сыпучих материалов\" соответственно."
   ]
  },
  {
   "cell_type": "markdown",
   "id": "eb4ffbca",
   "metadata": {},
   "source": [
    "## Машинное обучение"
   ]
  },
  {
   "cell_type": "markdown",
   "id": "d7d6eebc",
   "metadata": {},
   "source": [
    "### Подготовка данных для обучения модели"
   ]
  },
  {
   "cell_type": "markdown",
   "id": "a7e52642",
   "metadata": {},
   "source": [
    "Выделим целевой признак и разделим данные на обучающую и тестовую выборки в пропорции 3:1:"
   ]
  },
  {
   "cell_type": "code",
   "execution_count": 40,
   "id": "db66f07b",
   "metadata": {},
   "outputs": [
    {
     "name": "stdout",
     "output_type": "stream",
     "text": [
      "Размер тренировочной выборки = 1743 партий\n",
      "Размер тестовой выборки = 581 партий\n"
     ]
    }
   ],
   "source": [
    "# выделим из тренировочной и тестовой входные признаки и целевой признак:\n",
    "X = temp.drop('Итоговая температура', axis =1)\n",
    "y = temp['Итоговая температура']\n",
    "# разделение на тренировочную и тестовую выборки\n",
    "RANDOM_STATE = 291024\n",
    "X_train, X_test, y_train, y_test = train_test_split(\n",
    "    X, y, random_state=RANDOM_STATE, test_size = 0.25)\n",
    "print('Размер тренировочной выборки =', X_train.shape[0], 'партий')\n",
    "print('Размер тестовой выборки =', X_test.shape[0], 'партий')"
   ]
  },
  {
   "cell_type": "code",
   "execution_count": 41,
   "id": "6f44e0c8",
   "metadata": {},
   "outputs": [],
   "source": [
    "# создаём препроцессор для подготовки данных\n",
    "data_preprocessor = ColumnTransformer(MinMaxScaler(), remainder='passthrough')"
   ]
  },
  {
   "cell_type": "markdown",
   "id": "21bc2664",
   "metadata": {},
   "source": [
    "### Обучение моделей машинного обучения и выбор лучшей модели\n",
    "\n",
    "Для предсказания температуры сплавов обучим пять моделей/ансамлей моделей: модель линейной регрессии, Ridge, модель дерева регрессии, регрессию случайного леса и CatBoostRegressor.\n"
   ]
  },
  {
   "cell_type": "code",
   "execution_count": 42,
   "id": "0ad82dfb",
   "metadata": {},
   "outputs": [],
   "source": [
    "# создаём итоговый пайплайн: подготовка данных и модель\n",
    "pipe_final = Pipeline([\n",
    "    ('preprocessor', data_preprocessor),\n",
    "    ('models', CatBoostRegressor())\n",
    "])\n",
    "\n",
    "param_grid = [\n",
    "    # словарь для модели CatBoostRegressor()\n",
    "    {\n",
    "        'models': [CatBoostRegressor(loss_function=\"MAE\", iterations=50)],\n",
    "        'models__n_estimators': [50, 100, 150, 200], \n",
    "        'models__learning_rate': [0.001, 0.01, 0.1], \n",
    "        'preprocessor': [StandardScaler(), MinMaxScaler(), RobustScaler(), 'passthrough']  \n",
    "    },\n",
    "    # словарь для модели LinearRegression()\n",
    "    {\n",
    "        'models': [LinearRegression()],\n",
    "        'preprocessor': [StandardScaler(), MinMaxScaler(), RobustScaler(), 'passthrough']  \n",
    "    },\n",
    "     # словарь для модели Ridge()\n",
    "    {\n",
    "        'models': [Ridge()],\n",
    "        'models__alpha': [0.1, 1.0, 10.0, 100.0],\n",
    "        'preprocessor': [StandardScaler(), MinMaxScaler(), RobustScaler(), 'passthrough']  \n",
    "    },\n",
    "    # словарь для модели RandomForestRegressor() \n",
    "    {\n",
    "        'models': [RandomForestRegressor(random_state=RANDOM_STATE)],\n",
    "        'models__n_estimators': [50, 100, 150, 200, 250], \n",
    "        'models__max_features': ['sqrt', 'log2', None], \n",
    "        'models__max_depth': range(5, 30), \n",
    "        'models__max_leaf_nodes': range(10, 100), \n",
    "        'preprocessor': [StandardScaler(), MinMaxScaler(), RobustScaler(), 'passthrough']   \n",
    "    },\n",
    "    # словарь для модели DecisionTreeRegressor()\n",
    "    {\n",
    "        'models': [DecisionTreeRegressor(random_state=RANDOM_STATE)],\n",
    "        'models__max_depth': range(5, 30),\n",
    "        'models__max_leaf_nodes': range(10, 100),\n",
    "        'preprocessor': [StandardScaler(), MinMaxScaler(), RobustScaler(), 'passthrough']  \n",
    "    }\n",
    "]"
   ]
  },
  {
   "cell_type": "markdown",
   "id": "0e409293",
   "metadata": {},
   "source": [
    "Выберем лучшую модель и проверим её качество на тестовой выборке."
   ]
  },
  {
   "cell_type": "code",
   "execution_count": 43,
   "id": "6f98158f",
   "metadata": {},
   "outputs": [
    {
     "name": "stdout",
     "output_type": "stream",
     "text": [
      "Лучшая модель и её параметры:\n",
      "\n",
      " Pipeline(steps=[('preprocessor', StandardScaler()),\n",
      "                ('models',\n",
      "                 RandomForestRegressor(max_depth=15, max_features=None,\n",
      "                                       max_leaf_nodes=77, n_estimators=250,\n",
      "                                       random_state=291024))])\n",
      "Метрика лучшей модели на тренировочной выборке: 6.71\n"
     ]
    }
   ],
   "source": [
    "randomized_search = RandomizedSearchCV(\n",
    "    pipe_final, \n",
    "    param_grid, \n",
    "    cv=5,\n",
    "    scoring= 'neg_mean_absolute_error',\n",
    "    random_state=RANDOM_STATE,\n",
    "    n_jobs=-1\n",
    ")\n",
    "randomized_search.fit(X_train, y_train)\n",
    "\n",
    "print('Лучшая модель и её параметры:\\n\\n', randomized_search.best_estimator_)\n",
    "print ('Метрика лучшей модели на тренировочной выборке:', np.abs(round(randomized_search.best_score_,2)))"
   ]
  },
  {
   "cell_type": "code",
   "execution_count": 44,
   "id": "e0a98a02",
   "metadata": {},
   "outputs": [
    {
     "name": "stdout",
     "output_type": "stream",
     "text": [
      "Средняя абсолютная ошибка на тестовых данных: 6.64\n"
     ]
    }
   ],
   "source": [
    "predictions = randomized_search.predict(X_test)\n",
    "print(f'Средняя абсолютная ошибка на тестовых данных: {round(mean_absolute_error(y_test, predictions), 2)}');"
   ]
  },
  {
   "cell_type": "markdown",
   "id": "120365b4",
   "metadata": {},
   "source": [
    "Из 5 обученных моделей регрессии и ансамблей моделей (модель линейной регрессии, модель Ridge, модель дерева регрессии, регрессия случайного леса и CatBoostRegressor) лучшие результаты показала регрессия случайного леса с глубиной, равной 15, максимальным количеством для деления, равным 77, и количеством оценщиков, равным 250. Метрика качества лучшей модели (средняя абсолютная ошибка) на обучающих данных показала значение, равное 6.71, на тестовых = 6.64."
   ]
  },
  {
   "cell_type": "markdown",
   "id": "327d71da",
   "metadata": {},
   "source": [
    "### Анализ важности признаков"
   ]
  },
  {
   "cell_type": "markdown",
   "id": "28838c36",
   "metadata": {},
   "source": [
    "Оценим важность признаков для лучшей модели по коэффициентам значимости модели."
   ]
  },
  {
   "cell_type": "code",
   "execution_count": 45,
   "id": "6ad31917",
   "metadata": {},
   "outputs": [
    {
     "data": {
      "image/png": "[encoded data removed]",
      "text/plain": [
       "<Figure size 576x288 with 1 Axes>"
      ]
     },
     "metadata": {},
     "output_type": "display_data"
    }
   ],
   "source": [
    "# строим график важности признаков по величине коэффициентов\n",
    "coefficients = randomized_search.best_estimator_.named_steps['models'].feature_importances_\n",
    "sns.set_style('white')\n",
    "feature_importance = pd.DataFrame({'Признак': X_test.columns, 'Важность': np.abs(coefficients)})\n",
    "feature_importance = feature_importance.sort_values('Важность', ascending=True)\n",
    "feature_importance.plot(x='Признак', y='Важность', kind='barh', figsize=(8, 4), title='График важности признаков', color = 'skyblue'); "
   ]
  },
  {
   "cell_type": "markdown",
   "id": "ad220a42",
   "metadata": {},
   "source": [
    "График важности признаков наглядно показывает, что наибольшее влияние имеет признак \"Первичная температура\", а также сильное влияние оказывает признак длительности нагрева в секундах.\n",
    "\n",
    "Посмотрим на вклад признаков в решения модели при помощи метода SHAP."
   ]
  },
  {
   "cell_type": "code",
   "execution_count": 46,
   "id": "79a16347",
   "metadata": {},
   "outputs": [
    {
     "name": "stderr",
     "output_type": "stream",
     "text": [
      " 94%|=================== | 548/581 [00:11<00:00]       "
     ]
    },
    {
     "data": {
      "image/png": "[encoded data removed]",
      "text/plain": [
       "<Figure size 576x338.4 with 2 Axes>"
      ]
     },
     "metadata": {},
     "output_type": "display_data"
    }
   ],
   "source": [
    "X = pd.DataFrame(randomized_search.best_estimator_.named_steps['preprocessor'].transform(X_test), \n",
    "                 columns = randomized_search.best_estimator_.named_steps['preprocessor'].get_feature_names_out())\n",
    "best_model = randomized_search.best_estimator_.named_steps['models']\n",
    "explainer = shap.Explainer(best_model, X)\n",
    "shap_values = explainer(X)\n",
    "shap.plots.beeswarm(shap_values) "
   ]
  },
  {
   "cell_type": "markdown",
   "id": "6d08875e",
   "metadata": {},
   "source": [
    "График показывает, что чем выше первичная температура и длительность нагрева, тем выше итоговая температура, в меньшей степени, но также увеличивают итоговую температуру объемы материалов. Объем газа для продува, количество подач материалов и мощность нагрева, наоборот, снижают итоговую температуру, но незначительно.\n",
    "\n",
    "Таким образом, помимо увеличения длительности нагрева, уменьшение количества подач материалов при увеличении их объема в 1 подаче также будет способствовать более быстрому нагреву сплава до необходимой температуры."
   ]
  },
  {
   "cell_type": "markdown",
   "id": "4aed5782",
   "metadata": {},
   "source": [
    "### Анализ остатков"
   ]
  },
  {
   "cell_type": "code",
   "execution_count": 47,
   "id": "09334c55",
   "metadata": {},
   "outputs": [
    {
     "data": {
      "image/png": "[encoded data removed]",
      "text/plain": [
       "<Figure size 864x288 with 2 Axes>"
      ]
     },
     "metadata": {},
     "output_type": "display_data"
    }
   ],
   "source": [
    "# рассчитаем остатки:\n",
    "residuals = y_test - predictions\n",
    "# построим гистограмму частотности распределения и диаграмму рассеяния\n",
    "fig, axes = plt.subplots(nrows=1, ncols=2, figsize=(12,4))\n",
    "axes[0].hist(residuals)\n",
    "axes[0].set_title('Гистограмма распределения остатков')\n",
    "axes[0].set_xlabel('Остатки')\n",
    "\n",
    "axes[1].scatter(predictions, residuals)\n",
    "axes[1].set_xlabel('Предсказания модели')\n",
    "axes[1].set_ylabel('Остатки')\n",
    "axes[1].set_title('Анализ дисперсии')\n",
    "plt.show()"
   ]
  },
  {
   "cell_type": "markdown",
   "id": "55fea2d1",
   "metadata": {},
   "source": [
    "Гистограмма распределения остатков показывает относительно равномерное распределение, что говорит о том, что у модели стабильная ошибка на предсказаниях. Анализ дисперсии указывает на увеличение разброса ошибки при предсказании более высоких температур (от 1600), что связано с малым количеством таких признаков в предоставленных данных и, как следствие, модель недообучилась предсказывать подобные значения температур."
   ]
  },
  {
   "cell_type": "markdown",
   "id": "921f5e00",
   "metadata": {},
   "source": [
    "## Общий вывод и рекомендации заказчику"
   ]
  },
  {
   "cell_type": "markdown",
   "id": "84aa7e02",
   "metadata": {},
   "source": [
    "***Исходные данные***, предоставленные для моделирования, состоят из 7 файлов разной наполненности с общим признаком, соответствующим номеру партии сплава. Из данных исходных файлов сгенерирован новый датасет, в который включены партии, сведения по которым содержатся в каждом из 7 файлов, а также отобраны подходящие признаки или сгенерированы новые на основе предоставленных. Удалены пропуски в данных и партии, содержащие только 1 измерение температуры сплава (т.к. в них отсутствует целевой признак). Таким образом, сформирован для дальнейшего анализа датасет, состоящий из 10 признаков по 2329 партиям (исходные файлы содержали информацию по 3129-3239): первичная температура, длительность нагрева в секундах, количество нагревов, мощность нагрева, объем сыпучих материалов, количество подач сыпучих материалов, объем проволочных материалов, количество подач проволочных материалов, объема газа для продува. Также выделен целевой признак - итоговая температура.\n",
    "\n",
    "***Статистический и графический анализы*** данных объединенного датасета показал, что:\n",
    "- первичная температура принимает значения от 1191 от 1660, медианные значения равны 1587-1593 и схожи со средними, присутствуют выбросы;\n",
    "- длительность нагрева в секундах принимает значения от 0.95 до 69.82 секунд с медианным значением = 12.97 секунд и средним значением = 13.46 сек., присутствуют аномальные значения;\n",
    "- количество нагревов принимает значения от 1 до 16 с медианным знначением = 5 и средним значением = 4.7, присутствуют аномальные значения; \n",
    "- мощность нагрева принимает значения от 0.33 до 717.94 с медианным значением = 3.77 и средним значением = 4.19, присутствуют аномальные значения и выброс;\n",
    "- объем сыпучих материалов принимает значения от 19 до 3235 с медианным значением = 609 и схожим средним значением, присутствуют аномальные значения;\n",
    "- количество подач сыпучих материалов принимает значения от 2 до 8 с медианным значением = 5 и схожим средним значением, аномалии не наблюдаются;  \n",
    "- объем проволочных материалов принимает значения 1.92 до 568.78 с медианным значением = 116.10 и средним значением = 125.21, присутствуют аномальные значения;\n",
    "- количество подач проволочных материалов принимает значения от 2 до 6 с медианным знначением = 2 и схожим средним значением = 2.4, аномалии не наблюдаются; \n",
    "- объема газа для продува принимает значения от 0.01 до 78 с медианным знначением = 10.1 и средним значением = 11.4, присутствуют аномальные значения.\n",
    "\n",
    "В ходе статистического и графического анализа выявлены 4 выброса в значениях температур (ниже температуры плавления стали) и 1 выброс в значениях мощности нагрева (значение, более чем в 100 раз превышающее средний показатель), которые были удалены из дальнешего анализа.\n",
    "\n",
    "***Корреляционный анализ*** признаков выявил мультиколлинеарность входных признаков \"Количество нагревов\" и \"Мощность нагрева\", в результате чего из дальнейшего анализа удален признак с наименьшей корреляцией с целевым признаком - \"Количество нагревов\". Также корреляционный анализ показал высокую связь целевого признака \"Итоговая температура\" с входным признаком  \"Количество подач проволочного материала\", умеренную связь с признаками \"Мощность нагрева\" и \"Первичная температура\", но слабую связь с признаками \"Количество подач сыпучих материалов\" и \"Объем сыпучих материалов\".  \n",
    "\n",
    "**Цель проекта** - разработка модели, предсказывающую температуру сплава, для оптимизации производственных расходов посредством уменьшения потребления электроэнергии на этапе обработки стали.\n",
    "\n",
    "Для ***определения лучшей модели машинного обучения*** проведено обучение 5 моделей регрессии и ансамблей моделей (модель линейной регрессии, модель Ridge, модель дерева регрессии, регрессия случайного леса и CatBoostRegressor). Лучшие результаты показала ***регрессия случайного леса*** с глубиной, равной 15, максимальным количеством для деления, равным 77, и количестовм оценщиков, равным 250. Метрика качества модели (средняя абсолютная ошибка) на обучающих данных = 6.71, на тестовых = 6.64.\n",
    "\n",
    "***Анализ важности признаков*** лучшей модели показал, что на решение модели наибольшее влияние оказали признаки первичной температуры и длительности нагрева в секундах: чем выше первичная температура и длительность нагрева, тем выше итоговая температура. В меньшей степени, но также увеличивают итоговую температуру и объемы материалов. Объем газа для продува, количество подач материалов и мощность нагрева, наоборот, снижают итоговую температуру, хоть и незначительно.\n",
    "\n",
    "***Анализ остатков*** показал относительно равномерное распределение, то есть стабильность ошибок на предсказаниях. При анализе дисперсии обнаружено увеличение разброса ошибки при предсказании более высоких температур (от 1600), что связано с малым количеством таких признаков в предоставленных данных и, как следствие, модель недообучена предсказывать подобные значения температур.\n",
    "\n",
    "**Рекомендации**:\n",
    "\n",
    "1. Улучшить заполняемость данных в связи с наличием большого количеста пропусков в значениях, в том числе и целевого признака - температуры сплава.\n",
    "2. Провести дополнительную проверку модели на новых качественно собранных данных. \n",
    "3. В случае подтверждения качества модели использовать обученую модель регрессии случайного леса для прогнозировнания температуры сплава в целях оптимизации производственных расходов посредством уменьшения потребления электроэнергии на этапе обработки стали.\n",
    "4. Рассмотреть возможность увеличения длительности нагрева для более быстрого достижения необходимой температуры сплава.\n",
    "5. Рассмотреть возможность уменьшения количества подач материалов при увеличении их объема в 1 подаче, что также будет способствовать более быстрому нагреву сплава до необходимой температуры и снижению износа оборудования.\n",
    "6. В случае появления новых признаков (например, границы допустимых температур) либо существенных изменений в данных текущих признаков обратиться за обновлением модели машинного обучения, предсказывающей температуру сплава, в том числе, при необходимости предсказания высоких температур (от 1600)."
   ]
  }
 ],
 "metadata": {
  "ExecuteTimeLog": [
   {
    "duration": 1086,
    "start_time": "2024-10-30T20:22:04.459Z"
   },
   {
    "duration": 15939,
    "start_time": "2024-10-30T20:23:00.489Z"
   },
   {
    "duration": 1031,
    "start_time": "2024-10-30T20:23:30.444Z"
   },
   {
    "duration": 8,
    "start_time": "2024-10-30T20:23:46.832Z"
   },
   {
    "duration": 170,
    "start_time": "2024-10-30T20:26:10.127Z"
   },
   {
    "duration": 59,
    "start_time": "2024-10-30T20:26:53.896Z"
   },
   {
    "duration": 53,
    "start_time": "2024-10-30T20:27:14.823Z"
   },
   {
    "duration": 224,
    "start_time": "2024-10-30T20:27:31.686Z"
   },
   {
    "duration": 73,
    "start_time": "2024-10-30T20:28:38.809Z"
   },
   {
    "duration": 70,
    "start_time": "2024-10-30T20:28:50.387Z"
   },
   {
    "duration": 14068,
    "start_time": "2024-10-31T19:23:44.493Z"
   },
   {
    "duration": 1443,
    "start_time": "2024-10-31T19:23:58.563Z"
   },
   {
    "duration": 71,
    "start_time": "2024-10-31T19:24:00.008Z"
   },
   {
    "duration": 111,
    "start_time": "2024-10-31T19:24:36.219Z"
   },
   {
    "duration": 10,
    "start_time": "2024-10-31T19:24:59.692Z"
   },
   {
    "duration": 12,
    "start_time": "2024-10-31T19:25:32.565Z"
   },
   {
    "duration": 817,
    "start_time": "2024-10-31T19:26:19.533Z"
   },
   {
    "duration": 302,
    "start_time": "2024-10-31T19:26:32.181Z"
   },
   {
    "duration": 316,
    "start_time": "2024-10-31T19:27:17.213Z"
   },
   {
    "duration": 305,
    "start_time": "2024-10-31T19:27:54.661Z"
   },
   {
    "duration": 329,
    "start_time": "2024-10-31T19:39:48.644Z"
   },
   {
    "duration": 49,
    "start_time": "2024-10-31T19:51:29.870Z"
   },
   {
    "duration": 56,
    "start_time": "2024-10-31T19:54:33.312Z"
   },
   {
    "duration": 59,
    "start_time": "2024-10-31T19:54:41.718Z"
   },
   {
    "duration": 70,
    "start_time": "2024-10-31T19:56:29.386Z"
   },
   {
    "duration": 64,
    "start_time": "2024-10-31T19:56:43.311Z"
   },
   {
    "duration": 64,
    "start_time": "2024-10-31T19:56:53.771Z"
   },
   {
    "duration": 63,
    "start_time": "2024-10-31T19:58:47.339Z"
   },
   {
    "duration": 64,
    "start_time": "2024-10-31T19:59:08.284Z"
   },
   {
    "duration": 65,
    "start_time": "2024-10-31T20:01:13.376Z"
   },
   {
    "duration": 63,
    "start_time": "2024-10-31T20:01:39.608Z"
   },
   {
    "duration": 64,
    "start_time": "2024-10-31T20:03:14.568Z"
   },
   {
    "duration": 63,
    "start_time": "2024-10-31T20:04:54.560Z"
   },
   {
    "duration": 63,
    "start_time": "2024-10-31T20:06:22.496Z"
   },
   {
    "duration": 65,
    "start_time": "2024-10-31T20:06:27.324Z"
   },
   {
    "duration": 64,
    "start_time": "2024-10-31T20:06:47.466Z"
   },
   {
    "duration": 64,
    "start_time": "2024-10-31T20:06:54.007Z"
   },
   {
    "duration": 63,
    "start_time": "2024-10-31T20:07:10.227Z"
   },
   {
    "duration": 64,
    "start_time": "2024-10-31T20:07:17.035Z"
   },
   {
    "duration": 67,
    "start_time": "2024-10-31T20:07:34.247Z"
   },
   {
    "duration": 62,
    "start_time": "2024-10-31T20:07:51.526Z"
   },
   {
    "duration": 63,
    "start_time": "2024-10-31T20:08:11.523Z"
   },
   {
    "duration": 63,
    "start_time": "2024-10-31T20:08:32.754Z"
   },
   {
    "duration": 68,
    "start_time": "2024-10-31T20:10:08.210Z"
   },
   {
    "duration": 323,
    "start_time": "2024-10-31T20:12:01.919Z"
   },
   {
    "duration": 65,
    "start_time": "2024-10-31T20:12:46.041Z"
   },
   {
    "duration": 76,
    "start_time": "2024-10-31T20:13:15.191Z"
   },
   {
    "duration": 31,
    "start_time": "2024-10-31T20:36:33.024Z"
   },
   {
    "duration": 47,
    "start_time": "2024-10-31T20:36:49.278Z"
   },
   {
    "duration": 53,
    "start_time": "2024-10-31T20:38:56.115Z"
   },
   {
    "duration": 52,
    "start_time": "2024-10-31T20:39:16.756Z"
   },
   {
    "duration": 37,
    "start_time": "2024-10-31T20:40:45.483Z"
   },
   {
    "duration": 55,
    "start_time": "2024-10-31T20:40:54.034Z"
   },
   {
    "duration": 53,
    "start_time": "2024-10-31T20:41:32.463Z"
   },
   {
    "duration": 43,
    "start_time": "2024-10-31T20:42:44.743Z"
   },
   {
    "duration": 4,
    "start_time": "2024-10-31T20:47:44.202Z"
   },
   {
    "duration": 42,
    "start_time": "2024-10-31T20:48:08.446Z"
   },
   {
    "duration": 64,
    "start_time": "2024-10-31T20:48:12.571Z"
   },
   {
    "duration": 42,
    "start_time": "2024-10-31T20:48:16.814Z"
   },
   {
    "duration": 55,
    "start_time": "2024-10-31T20:58:58.894Z"
   },
   {
    "duration": 55,
    "start_time": "2024-10-31T20:59:04.138Z"
   },
   {
    "duration": 60,
    "start_time": "2024-10-31T20:59:16.149Z"
   },
   {
    "duration": 58,
    "start_time": "2024-10-31T20:59:27.069Z"
   },
   {
    "duration": 59,
    "start_time": "2024-10-31T21:00:21.190Z"
   },
   {
    "duration": 54,
    "start_time": "2024-10-31T21:00:26.510Z"
   },
   {
    "duration": 42,
    "start_time": "2024-10-31T21:01:20.860Z"
   },
   {
    "duration": 4,
    "start_time": "2024-10-31T21:01:31.510Z"
   },
   {
    "duration": 42,
    "start_time": "2024-10-31T21:09:56.504Z"
   },
   {
    "duration": 44,
    "start_time": "2024-10-31T21:11:22.116Z"
   },
   {
    "duration": 4,
    "start_time": "2024-10-31T21:12:17.372Z"
   },
   {
    "duration": 42,
    "start_time": "2024-10-31T21:14:46.091Z"
   },
   {
    "duration": 7,
    "start_time": "2024-10-31T21:15:20.262Z"
   },
   {
    "duration": 8,
    "start_time": "2024-10-31T21:15:26.113Z"
   },
   {
    "duration": 8,
    "start_time": "2024-10-31T21:16:26.462Z"
   },
   {
    "duration": 45,
    "start_time": "2024-10-31T21:28:44.578Z"
   },
   {
    "duration": 42,
    "start_time": "2024-10-31T21:28:48.577Z"
   },
   {
    "duration": 43,
    "start_time": "2024-10-31T21:29:02.312Z"
   },
   {
    "duration": 38,
    "start_time": "2024-10-31T21:29:08.697Z"
   },
   {
    "duration": 4,
    "start_time": "2024-10-31T21:29:24.380Z"
   },
   {
    "duration": 46,
    "start_time": "2024-10-31T21:29:39.705Z"
   },
   {
    "duration": 5,
    "start_time": "2024-10-31T21:29:51.616Z"
   },
   {
    "duration": 14329,
    "start_time": "2024-11-01T20:41:42.370Z"
   },
   {
    "duration": 1410,
    "start_time": "2024-11-01T20:41:56.701Z"
   },
   {
    "duration": 706,
    "start_time": "2024-11-01T20:41:58.113Z"
   },
   {
    "duration": 41,
    "start_time": "2024-11-01T20:41:58.821Z"
   },
   {
    "duration": 5,
    "start_time": "2024-11-01T20:41:58.863Z"
   },
   {
    "duration": 18,
    "start_time": "2024-11-01T20:41:58.869Z"
   },
   {
    "duration": 3,
    "start_time": "2024-11-01T20:41:58.888Z"
   },
   {
    "duration": 22,
    "start_time": "2024-11-01T20:41:58.893Z"
   },
   {
    "duration": 17,
    "start_time": "2024-11-01T20:41:58.917Z"
   },
   {
    "duration": 6,
    "start_time": "2024-11-01T20:41:58.936Z"
   },
   {
    "duration": 18,
    "start_time": "2024-11-01T20:41:58.944Z"
   },
   {
    "duration": 4,
    "start_time": "2024-11-01T20:41:58.964Z"
   },
   {
    "duration": 14768,
    "start_time": "2024-11-04T07:46:27.324Z"
   },
   {
    "duration": 1526,
    "start_time": "2024-11-04T07:46:42.094Z"
   },
   {
    "duration": 714,
    "start_time": "2024-11-04T07:46:43.622Z"
   },
   {
    "duration": 46,
    "start_time": "2024-11-04T07:46:44.337Z"
   },
   {
    "duration": 4,
    "start_time": "2024-11-04T07:46:44.385Z"
   },
   {
    "duration": 39,
    "start_time": "2024-11-04T07:46:44.391Z"
   },
   {
    "duration": 4,
    "start_time": "2024-11-04T07:46:44.431Z"
   },
   {
    "duration": 12,
    "start_time": "2024-11-04T07:46:44.436Z"
   },
   {
    "duration": 18,
    "start_time": "2024-11-04T07:46:44.450Z"
   },
   {
    "duration": 8,
    "start_time": "2024-11-04T07:46:44.470Z"
   },
   {
    "duration": 40,
    "start_time": "2024-11-04T07:46:44.479Z"
   },
   {
    "duration": 5,
    "start_time": "2024-11-04T07:46:44.520Z"
   },
   {
    "duration": 328,
    "start_time": "2024-11-04T07:50:22.236Z"
   },
   {
    "duration": 363,
    "start_time": "2024-11-04T07:50:39.089Z"
   },
   {
    "duration": 321,
    "start_time": "2024-11-04T07:50:50.768Z"
   },
   {
    "duration": 123,
    "start_time": "2024-11-04T08:05:48.728Z"
   },
   {
    "duration": 18,
    "start_time": "2024-11-04T08:10:57.869Z"
   },
   {
    "duration": 14,
    "start_time": "2024-11-04T08:11:11.040Z"
   },
   {
    "duration": 9,
    "start_time": "2024-11-04T08:11:38.270Z"
   },
   {
    "duration": 14,
    "start_time": "2024-11-04T08:11:51.871Z"
   },
   {
    "duration": 14,
    "start_time": "2024-11-04T08:12:04.121Z"
   },
   {
    "duration": 8103,
    "start_time": "2024-11-04T08:12:29.189Z"
   },
   {
    "duration": 8,
    "start_time": "2024-11-04T08:12:37.294Z"
   },
   {
    "duration": 359,
    "start_time": "2024-11-04T08:12:37.304Z"
   },
   {
    "duration": 45,
    "start_time": "2024-11-04T08:12:37.665Z"
   },
   {
    "duration": 9,
    "start_time": "2024-11-04T08:12:37.711Z"
   },
   {
    "duration": 29,
    "start_time": "2024-11-04T08:12:37.722Z"
   },
   {
    "duration": 0,
    "start_time": "2024-11-04T08:12:37.753Z"
   },
   {
    "duration": 0,
    "start_time": "2024-11-04T08:12:37.754Z"
   },
   {
    "duration": 0,
    "start_time": "2024-11-04T08:12:37.755Z"
   },
   {
    "duration": 0,
    "start_time": "2024-11-04T08:12:37.756Z"
   },
   {
    "duration": 0,
    "start_time": "2024-11-04T08:12:37.758Z"
   },
   {
    "duration": 0,
    "start_time": "2024-11-04T08:12:37.759Z"
   },
   {
    "duration": 0,
    "start_time": "2024-11-04T08:12:37.760Z"
   },
   {
    "duration": 19,
    "start_time": "2024-11-04T08:13:57.360Z"
   },
   {
    "duration": 16,
    "start_time": "2024-11-04T08:15:03.276Z"
   },
   {
    "duration": 15,
    "start_time": "2024-11-04T08:15:28.268Z"
   },
   {
    "duration": 8017,
    "start_time": "2024-11-04T08:15:31.557Z"
   },
   {
    "duration": 6,
    "start_time": "2024-11-04T08:15:39.576Z"
   },
   {
    "duration": 329,
    "start_time": "2024-11-04T08:15:39.583Z"
   },
   {
    "duration": 45,
    "start_time": "2024-11-04T08:15:39.915Z"
   },
   {
    "duration": 4,
    "start_time": "2024-11-04T08:15:39.961Z"
   },
   {
    "duration": 18,
    "start_time": "2024-11-04T08:15:39.966Z"
   },
   {
    "duration": 41,
    "start_time": "2024-11-04T08:15:39.986Z"
   },
   {
    "duration": 4,
    "start_time": "2024-11-04T08:15:40.028Z"
   },
   {
    "duration": 32,
    "start_time": "2024-11-04T08:15:40.034Z"
   },
   {
    "duration": 20,
    "start_time": "2024-11-04T08:15:40.068Z"
   },
   {
    "duration": 9,
    "start_time": "2024-11-04T08:15:40.089Z"
   },
   {
    "duration": 20,
    "start_time": "2024-11-04T08:15:40.099Z"
   },
   {
    "duration": 4,
    "start_time": "2024-11-04T08:15:40.120Z"
   },
   {
    "duration": 21,
    "start_time": "2024-11-04T08:17:19.839Z"
   },
   {
    "duration": 8212,
    "start_time": "2024-11-04T08:17:38.720Z"
   },
   {
    "duration": 6,
    "start_time": "2024-11-04T08:17:46.935Z"
   },
   {
    "duration": 355,
    "start_time": "2024-11-04T08:17:46.942Z"
   },
   {
    "duration": 43,
    "start_time": "2024-11-04T08:17:47.299Z"
   },
   {
    "duration": 4,
    "start_time": "2024-11-04T08:17:47.344Z"
   },
   {
    "duration": 33,
    "start_time": "2024-11-04T08:17:47.349Z"
   },
   {
    "duration": 19,
    "start_time": "2024-11-04T08:17:47.383Z"
   },
   {
    "duration": 15,
    "start_time": "2024-11-04T08:17:47.403Z"
   },
   {
    "duration": 7,
    "start_time": "2024-11-04T08:17:47.420Z"
   },
   {
    "duration": 19,
    "start_time": "2024-11-04T08:17:47.430Z"
   },
   {
    "duration": 9,
    "start_time": "2024-11-04T08:17:47.451Z"
   },
   {
    "duration": 15,
    "start_time": "2024-11-04T08:17:47.461Z"
   },
   {
    "duration": 4,
    "start_time": "2024-11-04T08:17:47.478Z"
   },
   {
    "duration": 72,
    "start_time": "2024-11-04T08:30:05.227Z"
   },
   {
    "duration": 64,
    "start_time": "2024-11-04T08:30:35.317Z"
   },
   {
    "duration": 82,
    "start_time": "2024-11-04T08:31:18.299Z"
   },
   {
    "duration": 4,
    "start_time": "2024-11-04T08:31:23.809Z"
   },
   {
    "duration": 3,
    "start_time": "2024-11-04T08:31:34.090Z"
   },
   {
    "duration": 4,
    "start_time": "2024-11-04T08:31:36.894Z"
   },
   {
    "duration": 3,
    "start_time": "2024-11-04T08:31:51.375Z"
   },
   {
    "duration": 4,
    "start_time": "2024-11-04T08:31:57.609Z"
   },
   {
    "duration": 4,
    "start_time": "2024-11-04T08:32:31.130Z"
   },
   {
    "duration": 63,
    "start_time": "2024-11-04T08:32:52.566Z"
   },
   {
    "duration": 63,
    "start_time": "2024-11-04T08:33:18.720Z"
   },
   {
    "duration": 4,
    "start_time": "2024-11-04T08:33:20.798Z"
   },
   {
    "duration": 4,
    "start_time": "2024-11-04T08:34:22.089Z"
   },
   {
    "duration": 72,
    "start_time": "2024-11-04T08:34:26.029Z"
   },
   {
    "duration": 4,
    "start_time": "2024-11-04T08:34:39.219Z"
   },
   {
    "duration": 4,
    "start_time": "2024-11-04T08:34:54.329Z"
   },
   {
    "duration": 17,
    "start_time": "2024-11-04T08:35:02.184Z"
   },
   {
    "duration": 18,
    "start_time": "2024-11-04T08:35:23.621Z"
   },
   {
    "duration": 14,
    "start_time": "2024-11-04T08:35:31.959Z"
   },
   {
    "duration": 7918,
    "start_time": "2024-11-04T08:35:36.729Z"
   },
   {
    "duration": 6,
    "start_time": "2024-11-04T08:35:44.650Z"
   },
   {
    "duration": 329,
    "start_time": "2024-11-04T08:35:44.658Z"
   },
   {
    "duration": 48,
    "start_time": "2024-11-04T08:35:44.990Z"
   },
   {
    "duration": 4,
    "start_time": "2024-11-04T08:35:45.040Z"
   },
   {
    "duration": 5,
    "start_time": "2024-11-04T08:39:02.810Z"
   },
   {
    "duration": 13,
    "start_time": "2024-11-04T08:39:12.579Z"
   },
   {
    "duration": 1016,
    "start_time": "2024-11-04T08:40:18.520Z"
   },
   {
    "duration": 10,
    "start_time": "2024-11-04T08:40:57.729Z"
   },
   {
    "duration": 16,
    "start_time": "2024-11-04T09:05:35.395Z"
   },
   {
    "duration": 20,
    "start_time": "2024-11-04T09:07:41.843Z"
   },
   {
    "duration": 34,
    "start_time": "2024-11-04T09:07:56.362Z"
   },
   {
    "duration": 38,
    "start_time": "2024-11-04T09:08:22.763Z"
   },
   {
    "duration": 17,
    "start_time": "2024-11-04T09:08:52.472Z"
   },
   {
    "duration": 9,
    "start_time": "2024-11-04T09:08:58.033Z"
   },
   {
    "duration": 18,
    "start_time": "2024-11-04T09:09:01.554Z"
   },
   {
    "duration": 61,
    "start_time": "2024-11-04T09:09:10.842Z"
   },
   {
    "duration": 8232,
    "start_time": "2024-11-04T09:09:40.062Z"
   },
   {
    "duration": 6,
    "start_time": "2024-11-04T09:09:48.297Z"
   },
   {
    "duration": 350,
    "start_time": "2024-11-04T09:09:48.305Z"
   },
   {
    "duration": 43,
    "start_time": "2024-11-04T09:09:48.658Z"
   },
   {
    "duration": 5,
    "start_time": "2024-11-04T09:09:48.702Z"
   },
   {
    "duration": 21,
    "start_time": "2024-11-04T09:09:48.708Z"
   },
   {
    "duration": 14,
    "start_time": "2024-11-04T09:09:48.732Z"
   },
   {
    "duration": 18,
    "start_time": "2024-11-04T09:09:48.747Z"
   },
   {
    "duration": 4,
    "start_time": "2024-11-04T09:09:48.767Z"
   },
   {
    "duration": 8,
    "start_time": "2024-11-04T09:09:48.773Z"
   },
   {
    "duration": 50,
    "start_time": "2024-11-04T09:09:48.783Z"
   },
   {
    "duration": 8,
    "start_time": "2024-11-04T09:09:48.834Z"
   },
   {
    "duration": 17,
    "start_time": "2024-11-04T09:09:48.843Z"
   },
   {
    "duration": 14,
    "start_time": "2024-11-04T09:09:48.862Z"
   },
   {
    "duration": 4,
    "start_time": "2024-11-04T09:09:48.877Z"
   },
   {
    "duration": 11,
    "start_time": "2024-11-04T09:11:16.885Z"
   },
   {
    "duration": 72,
    "start_time": "2024-11-04T09:14:08.876Z"
   },
   {
    "duration": 17,
    "start_time": "2024-11-04T09:14:12.745Z"
   },
   {
    "duration": 1080,
    "start_time": "2024-11-04T09:15:46.936Z"
   },
   {
    "duration": 1057,
    "start_time": "2024-11-04T09:15:59.266Z"
   },
   {
    "duration": 8347,
    "start_time": "2024-11-04T09:16:20.985Z"
   },
   {
    "duration": 7,
    "start_time": "2024-11-04T09:16:29.334Z"
   },
   {
    "duration": 332,
    "start_time": "2024-11-04T09:16:29.343Z"
   },
   {
    "duration": 60,
    "start_time": "2024-11-04T09:16:29.677Z"
   },
   {
    "duration": 5,
    "start_time": "2024-11-04T09:16:29.738Z"
   },
   {
    "duration": 8,
    "start_time": "2024-11-04T09:16:29.744Z"
   },
   {
    "duration": 17,
    "start_time": "2024-11-04T09:16:29.754Z"
   },
   {
    "duration": 19,
    "start_time": "2024-11-04T09:16:29.773Z"
   },
   {
    "duration": 5,
    "start_time": "2024-11-04T09:16:29.794Z"
   },
   {
    "duration": 10,
    "start_time": "2024-11-04T09:16:29.826Z"
   },
   {
    "duration": 19,
    "start_time": "2024-11-04T09:16:29.838Z"
   },
   {
    "duration": 8,
    "start_time": "2024-11-04T09:16:29.859Z"
   },
   {
    "duration": 21,
    "start_time": "2024-11-04T09:16:29.869Z"
   },
   {
    "duration": 43,
    "start_time": "2024-11-04T09:16:29.891Z"
   },
   {
    "duration": 19,
    "start_time": "2024-11-04T09:16:29.936Z"
   },
   {
    "duration": 16,
    "start_time": "2024-11-04T09:16:29.956Z"
   },
   {
    "duration": 5,
    "start_time": "2024-11-04T09:16:29.974Z"
   },
   {
    "duration": 1172,
    "start_time": "2024-11-04T09:18:10.475Z"
   },
   {
    "duration": 8255,
    "start_time": "2024-11-04T09:18:19.345Z"
   },
   {
    "duration": 6,
    "start_time": "2024-11-04T09:18:27.602Z"
   },
   {
    "duration": 370,
    "start_time": "2024-11-04T09:18:27.610Z"
   },
   {
    "duration": 53,
    "start_time": "2024-11-04T09:18:27.983Z"
   },
   {
    "duration": 5,
    "start_time": "2024-11-04T09:18:28.038Z"
   },
   {
    "duration": 22,
    "start_time": "2024-11-04T09:18:28.045Z"
   },
   {
    "duration": 26,
    "start_time": "2024-11-04T09:18:28.069Z"
   },
   {
    "duration": 31,
    "start_time": "2024-11-04T09:18:28.096Z"
   },
   {
    "duration": 7,
    "start_time": "2024-11-04T09:18:28.129Z"
   },
   {
    "duration": 15,
    "start_time": "2024-11-04T09:18:28.139Z"
   },
   {
    "duration": 30,
    "start_time": "2024-11-04T09:18:28.155Z"
   },
   {
    "duration": 17,
    "start_time": "2024-11-04T09:18:28.187Z"
   },
   {
    "duration": 53,
    "start_time": "2024-11-04T09:18:28.205Z"
   },
   {
    "duration": 11,
    "start_time": "2024-11-04T09:18:28.260Z"
   },
   {
    "duration": 57,
    "start_time": "2024-11-04T09:18:28.272Z"
   },
   {
    "duration": 7,
    "start_time": "2024-11-04T09:18:28.338Z"
   },
   {
    "duration": 100,
    "start_time": "2024-11-04T09:18:34.315Z"
   },
   {
    "duration": 1238,
    "start_time": "2024-11-04T09:18:40.658Z"
   },
   {
    "duration": 8311,
    "start_time": "2024-11-04T09:18:45.065Z"
   },
   {
    "duration": 6,
    "start_time": "2024-11-04T09:18:53.378Z"
   },
   {
    "duration": 360,
    "start_time": "2024-11-04T09:18:53.386Z"
   },
   {
    "duration": 45,
    "start_time": "2024-11-04T09:18:53.748Z"
   },
   {
    "duration": 6,
    "start_time": "2024-11-04T09:18:53.795Z"
   },
   {
    "duration": 26,
    "start_time": "2024-11-04T09:18:53.803Z"
   },
   {
    "duration": 26,
    "start_time": "2024-11-04T09:18:53.832Z"
   },
   {
    "duration": 18,
    "start_time": "2024-11-04T09:18:53.860Z"
   },
   {
    "duration": 8,
    "start_time": "2024-11-04T09:18:53.879Z"
   },
   {
    "duration": 42,
    "start_time": "2024-11-04T09:18:53.890Z"
   },
   {
    "duration": 18,
    "start_time": "2024-11-04T09:18:53.934Z"
   },
   {
    "duration": 8,
    "start_time": "2024-11-04T09:18:53.954Z"
   },
   {
    "duration": 67,
    "start_time": "2024-11-04T09:18:53.963Z"
   },
   {
    "duration": 12,
    "start_time": "2024-11-04T09:18:54.033Z"
   },
   {
    "duration": 19,
    "start_time": "2024-11-04T09:18:54.047Z"
   },
   {
    "duration": 4,
    "start_time": "2024-11-04T09:18:54.067Z"
   },
   {
    "duration": 30,
    "start_time": "2024-11-04T09:21:14.603Z"
   },
   {
    "duration": 8533,
    "start_time": "2024-11-04T09:21:26.675Z"
   },
   {
    "duration": 6,
    "start_time": "2024-11-04T09:21:35.211Z"
   },
   {
    "duration": 374,
    "start_time": "2024-11-04T09:21:35.218Z"
   },
   {
    "duration": 54,
    "start_time": "2024-11-04T09:21:35.594Z"
   },
   {
    "duration": 5,
    "start_time": "2024-11-04T09:21:35.649Z"
   },
   {
    "duration": 9,
    "start_time": "2024-11-04T09:21:35.655Z"
   },
   {
    "duration": 32,
    "start_time": "2024-11-04T09:21:35.665Z"
   },
   {
    "duration": 48,
    "start_time": "2024-11-04T09:21:35.699Z"
   },
   {
    "duration": 4,
    "start_time": "2024-11-04T09:21:35.749Z"
   },
   {
    "duration": 10,
    "start_time": "2024-11-04T09:21:35.755Z"
   },
   {
    "duration": 40,
    "start_time": "2024-11-04T09:21:35.767Z"
   },
   {
    "duration": 22,
    "start_time": "2024-11-04T09:21:35.809Z"
   },
   {
    "duration": 33,
    "start_time": "2024-11-04T09:21:35.833Z"
   },
   {
    "duration": 12,
    "start_time": "2024-11-04T09:21:35.868Z"
   },
   {
    "duration": 27,
    "start_time": "2024-11-04T09:21:35.881Z"
   },
   {
    "duration": 38,
    "start_time": "2024-11-04T09:21:35.909Z"
   },
   {
    "duration": 68,
    "start_time": "2024-11-04T09:23:54.435Z"
   },
   {
    "duration": 801,
    "start_time": "2024-11-04T09:24:03.805Z"
   },
   {
    "duration": 346,
    "start_time": "2024-11-04T09:24:20.227Z"
   },
   {
    "duration": 8438,
    "start_time": "2024-11-04T09:24:24.508Z"
   },
   {
    "duration": 6,
    "start_time": "2024-11-04T09:24:32.949Z"
   },
   {
    "duration": 402,
    "start_time": "2024-11-04T09:24:32.957Z"
   },
   {
    "duration": 44,
    "start_time": "2024-11-04T09:24:33.360Z"
   },
   {
    "duration": 4,
    "start_time": "2024-11-04T09:24:33.407Z"
   },
   {
    "duration": 18,
    "start_time": "2024-11-04T09:24:33.413Z"
   },
   {
    "duration": 28,
    "start_time": "2024-11-04T09:24:33.435Z"
   },
   {
    "duration": 18,
    "start_time": "2024-11-04T09:24:33.464Z"
   },
   {
    "duration": 4,
    "start_time": "2024-11-04T09:24:33.484Z"
   },
   {
    "duration": 24,
    "start_time": "2024-11-04T09:24:33.490Z"
   },
   {
    "duration": 30,
    "start_time": "2024-11-04T09:24:33.515Z"
   },
   {
    "duration": 13,
    "start_time": "2024-11-04T09:24:33.547Z"
   },
   {
    "duration": 413,
    "start_time": "2024-11-04T09:24:33.562Z"
   },
   {
    "duration": 0,
    "start_time": "2024-11-04T09:24:33.976Z"
   },
   {
    "duration": 0,
    "start_time": "2024-11-04T09:24:33.977Z"
   },
   {
    "duration": 0,
    "start_time": "2024-11-04T09:24:33.978Z"
   },
   {
    "duration": 70,
    "start_time": "2024-11-04T09:24:55.469Z"
   },
   {
    "duration": 282,
    "start_time": "2024-11-04T09:25:00.209Z"
   },
   {
    "duration": 8722,
    "start_time": "2024-11-04T09:25:03.330Z"
   },
   {
    "duration": 6,
    "start_time": "2024-11-04T09:25:12.055Z"
   },
   {
    "duration": 377,
    "start_time": "2024-11-04T09:25:12.062Z"
   },
   {
    "duration": 43,
    "start_time": "2024-11-04T09:25:12.441Z"
   },
   {
    "duration": 4,
    "start_time": "2024-11-04T09:25:12.485Z"
   },
   {
    "duration": 4,
    "start_time": "2024-11-04T09:25:12.491Z"
   },
   {
    "duration": 39,
    "start_time": "2024-11-04T09:25:12.496Z"
   },
   {
    "duration": 16,
    "start_time": "2024-11-04T09:25:12.537Z"
   },
   {
    "duration": 4,
    "start_time": "2024-11-04T09:25:12.554Z"
   },
   {
    "duration": 9,
    "start_time": "2024-11-04T09:25:12.560Z"
   },
   {
    "duration": 17,
    "start_time": "2024-11-04T09:25:12.570Z"
   },
   {
    "duration": 44,
    "start_time": "2024-11-04T09:25:12.589Z"
   },
   {
    "duration": 17,
    "start_time": "2024-11-04T09:25:12.635Z"
   },
   {
    "duration": 8,
    "start_time": "2024-11-04T09:25:12.653Z"
   },
   {
    "duration": 19,
    "start_time": "2024-11-04T09:25:12.663Z"
   },
   {
    "duration": 4,
    "start_time": "2024-11-04T09:25:12.683Z"
   },
   {
    "duration": 17,
    "start_time": "2024-11-04T09:27:46.456Z"
   },
   {
    "duration": 16,
    "start_time": "2024-11-04T09:28:11.269Z"
   },
   {
    "duration": 8049,
    "start_time": "2024-11-04T09:28:26.525Z"
   },
   {
    "duration": 7,
    "start_time": "2024-11-04T09:28:34.577Z"
   },
   {
    "duration": 352,
    "start_time": "2024-11-04T09:28:34.586Z"
   },
   {
    "duration": 45,
    "start_time": "2024-11-04T09:28:34.940Z"
   },
   {
    "duration": 4,
    "start_time": "2024-11-04T09:28:34.986Z"
   },
   {
    "duration": 26,
    "start_time": "2024-11-04T09:28:34.992Z"
   },
   {
    "duration": 23,
    "start_time": "2024-11-04T09:28:35.020Z"
   },
   {
    "duration": 21,
    "start_time": "2024-11-04T09:28:35.044Z"
   },
   {
    "duration": 6,
    "start_time": "2024-11-04T09:28:35.066Z"
   },
   {
    "duration": 31,
    "start_time": "2024-11-04T09:28:35.075Z"
   },
   {
    "duration": 31,
    "start_time": "2024-11-04T09:28:35.107Z"
   },
   {
    "duration": 17,
    "start_time": "2024-11-04T09:28:35.140Z"
   },
   {
    "duration": 38,
    "start_time": "2024-11-04T09:28:35.160Z"
   },
   {
    "duration": 0,
    "start_time": "2024-11-04T09:28:35.200Z"
   },
   {
    "duration": 0,
    "start_time": "2024-11-04T09:28:35.201Z"
   },
   {
    "duration": 0,
    "start_time": "2024-11-04T09:28:35.203Z"
   },
   {
    "duration": 11,
    "start_time": "2024-11-04T09:29:56.658Z"
   },
   {
    "duration": 8102,
    "start_time": "2024-11-04T09:30:31.132Z"
   },
   {
    "duration": 6,
    "start_time": "2024-11-04T09:30:39.237Z"
   },
   {
    "duration": 390,
    "start_time": "2024-11-04T09:30:39.244Z"
   },
   {
    "duration": 72,
    "start_time": "2024-11-04T09:30:39.637Z"
   },
   {
    "duration": 7,
    "start_time": "2024-11-04T09:30:39.717Z"
   },
   {
    "duration": 5,
    "start_time": "2024-11-04T09:30:39.726Z"
   },
   {
    "duration": 15,
    "start_time": "2024-11-04T09:30:39.734Z"
   },
   {
    "duration": 25,
    "start_time": "2024-11-04T09:30:39.751Z"
   },
   {
    "duration": 41,
    "start_time": "2024-11-04T09:30:39.778Z"
   },
   {
    "duration": 10,
    "start_time": "2024-11-04T09:30:39.822Z"
   },
   {
    "duration": 24,
    "start_time": "2024-11-04T09:30:39.834Z"
   },
   {
    "duration": 12,
    "start_time": "2024-11-04T09:30:39.861Z"
   },
   {
    "duration": 54,
    "start_time": "2024-11-04T09:30:39.875Z"
   },
   {
    "duration": 11,
    "start_time": "2024-11-04T09:30:39.930Z"
   },
   {
    "duration": 28,
    "start_time": "2024-11-04T09:30:39.942Z"
   },
   {
    "duration": 4,
    "start_time": "2024-11-04T09:30:39.972Z"
   },
   {
    "duration": 47,
    "start_time": "2024-11-04T09:35:07.539Z"
   },
   {
    "duration": 8403,
    "start_time": "2024-11-04T09:35:12.126Z"
   },
   {
    "duration": 6,
    "start_time": "2024-11-04T09:35:20.532Z"
   },
   {
    "duration": 363,
    "start_time": "2024-11-04T09:35:20.540Z"
   },
   {
    "duration": 50,
    "start_time": "2024-11-04T09:35:20.905Z"
   },
   {
    "duration": 5,
    "start_time": "2024-11-04T09:35:20.957Z"
   },
   {
    "duration": 13,
    "start_time": "2024-11-04T09:35:20.963Z"
   },
   {
    "duration": 15,
    "start_time": "2024-11-04T09:35:20.978Z"
   },
   {
    "duration": 45,
    "start_time": "2024-11-04T09:35:20.995Z"
   },
   {
    "duration": 0,
    "start_time": "2024-11-04T09:35:21.042Z"
   },
   {
    "duration": 0,
    "start_time": "2024-11-04T09:35:21.043Z"
   },
   {
    "duration": 0,
    "start_time": "2024-11-04T09:35:21.044Z"
   },
   {
    "duration": 0,
    "start_time": "2024-11-04T09:35:21.046Z"
   },
   {
    "duration": 0,
    "start_time": "2024-11-04T09:35:21.047Z"
   },
   {
    "duration": 0,
    "start_time": "2024-11-04T09:35:21.048Z"
   },
   {
    "duration": 0,
    "start_time": "2024-11-04T09:35:21.049Z"
   },
   {
    "duration": 0,
    "start_time": "2024-11-04T09:35:21.051Z"
   },
   {
    "duration": 9278,
    "start_time": "2024-11-04T09:48:34.280Z"
   },
   {
    "duration": 6,
    "start_time": "2024-11-04T09:48:43.561Z"
   },
   {
    "duration": 389,
    "start_time": "2024-11-04T09:48:43.568Z"
   },
   {
    "duration": 43,
    "start_time": "2024-11-04T09:48:43.959Z"
   },
   {
    "duration": 4,
    "start_time": "2024-11-04T09:48:44.004Z"
   },
   {
    "duration": 23,
    "start_time": "2024-11-04T09:48:44.010Z"
   },
   {
    "duration": 26,
    "start_time": "2024-11-04T09:48:44.036Z"
   },
   {
    "duration": 18,
    "start_time": "2024-11-04T09:48:44.064Z"
   },
   {
    "duration": 5,
    "start_time": "2024-11-04T09:48:44.084Z"
   },
   {
    "duration": 9,
    "start_time": "2024-11-04T09:48:44.092Z"
   },
   {
    "duration": 54,
    "start_time": "2024-11-04T09:48:44.103Z"
   },
   {
    "duration": 14,
    "start_time": "2024-11-04T09:48:44.158Z"
   },
   {
    "duration": 24,
    "start_time": "2024-11-04T09:48:44.175Z"
   },
   {
    "duration": 27,
    "start_time": "2024-11-04T09:48:44.201Z"
   },
   {
    "duration": 25,
    "start_time": "2024-11-04T09:48:44.230Z"
   },
   {
    "duration": 4,
    "start_time": "2024-11-04T09:48:44.257Z"
   },
   {
    "duration": 17,
    "start_time": "2024-11-04T10:08:06.247Z"
   },
   {
    "duration": 10,
    "start_time": "2024-11-04T10:08:48.923Z"
   },
   {
    "duration": 15,
    "start_time": "2024-11-04T10:09:01.672Z"
   },
   {
    "duration": 10,
    "start_time": "2024-11-04T10:09:13.151Z"
   },
   {
    "duration": 8690,
    "start_time": "2024-11-04T10:09:15.795Z"
   },
   {
    "duration": 6,
    "start_time": "2024-11-04T10:09:24.488Z"
   },
   {
    "duration": 374,
    "start_time": "2024-11-04T10:09:24.496Z"
   },
   {
    "duration": 47,
    "start_time": "2024-11-04T10:09:24.872Z"
   },
   {
    "duration": 6,
    "start_time": "2024-11-04T10:09:24.921Z"
   },
   {
    "duration": 6,
    "start_time": "2024-11-04T10:09:24.929Z"
   },
   {
    "duration": 16,
    "start_time": "2024-11-04T10:09:24.937Z"
   },
   {
    "duration": 19,
    "start_time": "2024-11-04T10:09:24.954Z"
   },
   {
    "duration": 4,
    "start_time": "2024-11-04T10:09:24.975Z"
   },
   {
    "duration": 11,
    "start_time": "2024-11-04T10:09:25.017Z"
   },
   {
    "duration": 24,
    "start_time": "2024-11-04T10:09:25.030Z"
   },
   {
    "duration": 8,
    "start_time": "2024-11-04T10:09:25.056Z"
   },
   {
    "duration": 20,
    "start_time": "2024-11-04T10:09:25.065Z"
   },
   {
    "duration": 42,
    "start_time": "2024-11-04T10:09:25.087Z"
   },
   {
    "duration": 23,
    "start_time": "2024-11-04T10:09:25.131Z"
   },
   {
    "duration": 5,
    "start_time": "2024-11-04T10:09:25.155Z"
   },
   {
    "duration": 17,
    "start_time": "2024-11-04T10:09:25.161Z"
   },
   {
    "duration": 14,
    "start_time": "2024-11-04T10:09:56.037Z"
   },
   {
    "duration": 13,
    "start_time": "2024-11-04T10:10:40.018Z"
   },
   {
    "duration": 11,
    "start_time": "2024-11-04T10:10:50.230Z"
   },
   {
    "duration": 10,
    "start_time": "2024-11-04T10:10:56.027Z"
   },
   {
    "duration": 9,
    "start_time": "2024-11-04T10:11:02.279Z"
   },
   {
    "duration": 11,
    "start_time": "2024-11-04T10:11:11.619Z"
   },
   {
    "duration": 27,
    "start_time": "2024-11-04T10:11:42.627Z"
   },
   {
    "duration": 68,
    "start_time": "2024-11-04T10:14:10.695Z"
   },
   {
    "duration": 13,
    "start_time": "2024-11-04T10:14:14.575Z"
   },
   {
    "duration": 8247,
    "start_time": "2024-11-04T10:14:26.483Z"
   },
   {
    "duration": 6,
    "start_time": "2024-11-04T10:14:34.733Z"
   },
   {
    "duration": 331,
    "start_time": "2024-11-04T10:14:34.741Z"
   },
   {
    "duration": 46,
    "start_time": "2024-11-04T10:14:35.074Z"
   },
   {
    "duration": 5,
    "start_time": "2024-11-04T10:14:35.121Z"
   },
   {
    "duration": 10,
    "start_time": "2024-11-04T10:14:35.127Z"
   },
   {
    "duration": 22,
    "start_time": "2024-11-04T10:14:35.138Z"
   },
   {
    "duration": 17,
    "start_time": "2024-11-04T10:14:35.162Z"
   },
   {
    "duration": 4,
    "start_time": "2024-11-04T10:14:35.180Z"
   },
   {
    "duration": 30,
    "start_time": "2024-11-04T10:14:35.186Z"
   },
   {
    "duration": 28,
    "start_time": "2024-11-04T10:14:35.218Z"
   },
   {
    "duration": 9,
    "start_time": "2024-11-04T10:14:35.247Z"
   },
   {
    "duration": 35,
    "start_time": "2024-11-04T10:14:35.257Z"
   },
   {
    "duration": 11,
    "start_time": "2024-11-04T10:14:35.294Z"
   },
   {
    "duration": 36,
    "start_time": "2024-11-04T10:14:35.307Z"
   },
   {
    "duration": 10,
    "start_time": "2024-11-04T10:14:35.345Z"
   },
   {
    "duration": 26,
    "start_time": "2024-11-04T10:14:35.357Z"
   },
   {
    "duration": 19,
    "start_time": "2024-11-04T10:14:59.683Z"
   },
   {
    "duration": 8,
    "start_time": "2024-11-04T10:15:06.921Z"
   },
   {
    "duration": 8151,
    "start_time": "2024-11-04T10:15:09.673Z"
   },
   {
    "duration": 5,
    "start_time": "2024-11-04T10:15:17.827Z"
   },
   {
    "duration": 370,
    "start_time": "2024-11-04T10:15:17.834Z"
   },
   {
    "duration": 43,
    "start_time": "2024-11-04T10:15:18.206Z"
   },
   {
    "duration": 4,
    "start_time": "2024-11-04T10:15:18.251Z"
   },
   {
    "duration": 4,
    "start_time": "2024-11-04T10:15:18.257Z"
   },
   {
    "duration": 15,
    "start_time": "2024-11-04T10:15:18.262Z"
   },
   {
    "duration": 17,
    "start_time": "2024-11-04T10:15:18.278Z"
   },
   {
    "duration": 5,
    "start_time": "2024-11-04T10:15:18.318Z"
   },
   {
    "duration": 23,
    "start_time": "2024-11-04T10:15:18.325Z"
   },
   {
    "duration": 22,
    "start_time": "2024-11-04T10:15:18.349Z"
   },
   {
    "duration": 8,
    "start_time": "2024-11-04T10:15:18.373Z"
   },
   {
    "duration": 10,
    "start_time": "2024-11-04T10:15:18.382Z"
   },
   {
    "duration": 30,
    "start_time": "2024-11-04T10:15:18.394Z"
   },
   {
    "duration": 0,
    "start_time": "2024-11-04T10:15:18.425Z"
   },
   {
    "duration": 0,
    "start_time": "2024-11-04T10:15:18.427Z"
   },
   {
    "duration": 0,
    "start_time": "2024-11-04T10:15:18.428Z"
   },
   {
    "duration": 0,
    "start_time": "2024-11-04T10:15:18.429Z"
   },
   {
    "duration": 0,
    "start_time": "2024-11-04T10:15:18.430Z"
   },
   {
    "duration": 18,
    "start_time": "2024-11-04T10:15:22.302Z"
   },
   {
    "duration": 7979,
    "start_time": "2024-11-04T10:34:14.508Z"
   },
   {
    "duration": 6,
    "start_time": "2024-11-04T10:34:22.489Z"
   },
   {
    "duration": 356,
    "start_time": "2024-11-04T10:34:22.497Z"
   },
   {
    "duration": 49,
    "start_time": "2024-11-04T10:34:22.855Z"
   },
   {
    "duration": 4,
    "start_time": "2024-11-04T10:34:22.906Z"
   },
   {
    "duration": 4,
    "start_time": "2024-11-04T10:34:22.918Z"
   },
   {
    "duration": 16,
    "start_time": "2024-11-04T10:34:22.923Z"
   },
   {
    "duration": 19,
    "start_time": "2024-11-04T10:34:22.940Z"
   },
   {
    "duration": 5,
    "start_time": "2024-11-04T10:34:22.961Z"
   },
   {
    "duration": 9,
    "start_time": "2024-11-04T10:34:22.969Z"
   },
   {
    "duration": 58,
    "start_time": "2024-11-04T10:34:22.980Z"
   },
   {
    "duration": 10,
    "start_time": "2024-11-04T10:34:23.040Z"
   },
   {
    "duration": 21,
    "start_time": "2024-11-04T10:34:23.052Z"
   },
   {
    "duration": 13,
    "start_time": "2024-11-04T10:34:23.075Z"
   },
   {
    "duration": 0,
    "start_time": "2024-11-04T10:34:23.090Z"
   },
   {
    "duration": 0,
    "start_time": "2024-11-04T10:34:23.091Z"
   },
   {
    "duration": 0,
    "start_time": "2024-11-04T10:34:23.118Z"
   },
   {
    "duration": 0,
    "start_time": "2024-11-04T10:34:23.119Z"
   },
   {
    "duration": 0,
    "start_time": "2024-11-04T10:34:23.120Z"
   },
   {
    "duration": 17,
    "start_time": "2024-11-04T10:38:18.871Z"
   },
   {
    "duration": 26,
    "start_time": "2024-11-04T10:39:09.169Z"
   },
   {
    "duration": 10,
    "start_time": "2024-11-04T10:39:17.231Z"
   },
   {
    "duration": 7979,
    "start_time": "2024-11-04T10:39:25.591Z"
   },
   {
    "duration": 6,
    "start_time": "2024-11-04T10:39:33.573Z"
   },
   {
    "duration": 374,
    "start_time": "2024-11-04T10:39:33.581Z"
   },
   {
    "duration": 45,
    "start_time": "2024-11-04T10:39:33.957Z"
   },
   {
    "duration": 4,
    "start_time": "2024-11-04T10:39:34.004Z"
   },
   {
    "duration": 18,
    "start_time": "2024-11-04T10:39:34.010Z"
   },
   {
    "duration": 19,
    "start_time": "2024-11-04T10:39:34.030Z"
   },
   {
    "duration": 19,
    "start_time": "2024-11-04T10:39:34.050Z"
   },
   {
    "duration": 4,
    "start_time": "2024-11-04T10:39:34.071Z"
   },
   {
    "duration": 22,
    "start_time": "2024-11-04T10:39:34.077Z"
   },
   {
    "duration": 30,
    "start_time": "2024-11-04T10:39:34.101Z"
   },
   {
    "duration": 9,
    "start_time": "2024-11-04T10:39:34.132Z"
   },
   {
    "duration": 39,
    "start_time": "2024-11-04T10:39:34.142Z"
   },
   {
    "duration": 9,
    "start_time": "2024-11-04T10:39:34.183Z"
   },
   {
    "duration": 32,
    "start_time": "2024-11-04T10:39:34.193Z"
   },
   {
    "duration": 4,
    "start_time": "2024-11-04T10:39:34.227Z"
   },
   {
    "duration": 37,
    "start_time": "2024-11-04T10:39:34.232Z"
   },
   {
    "duration": 11,
    "start_time": "2024-11-04T10:40:18.435Z"
   },
   {
    "duration": 22,
    "start_time": "2024-11-04T10:42:06.618Z"
   },
   {
    "duration": 3,
    "start_time": "2024-11-04T10:43:36.230Z"
   },
   {
    "duration": 21,
    "start_time": "2024-11-04T10:45:40.714Z"
   },
   {
    "duration": 15,
    "start_time": "2024-11-04T10:46:14.534Z"
   },
   {
    "duration": 6,
    "start_time": "2024-11-04T10:48:33.961Z"
   },
   {
    "duration": 13,
    "start_time": "2024-11-04T10:48:42.566Z"
   },
   {
    "duration": 4,
    "start_time": "2024-11-04T10:48:57.949Z"
   },
   {
    "duration": 1076,
    "start_time": "2024-11-04T10:54:24.930Z"
   },
   {
    "duration": 8,
    "start_time": "2024-11-04T10:55:17.839Z"
   },
   {
    "duration": 31,
    "start_time": "2024-11-04T10:55:33.098Z"
   },
   {
    "duration": 23,
    "start_time": "2024-11-04T10:55:33.131Z"
   },
   {
    "duration": 1023,
    "start_time": "2024-11-04T10:55:33.156Z"
   },
   {
    "duration": 0,
    "start_time": "2024-11-04T10:55:34.180Z"
   },
   {
    "duration": 0,
    "start_time": "2024-11-04T10:55:34.181Z"
   },
   {
    "duration": 0,
    "start_time": "2024-11-04T10:55:34.182Z"
   },
   {
    "duration": 0,
    "start_time": "2024-11-04T10:55:34.183Z"
   },
   {
    "duration": 0,
    "start_time": "2024-11-04T10:55:34.184Z"
   },
   {
    "duration": 0,
    "start_time": "2024-11-04T10:55:34.185Z"
   },
   {
    "duration": 7892,
    "start_time": "2024-11-04T10:55:44.721Z"
   },
   {
    "duration": 6,
    "start_time": "2024-11-04T10:55:52.615Z"
   },
   {
    "duration": 335,
    "start_time": "2024-11-04T10:55:52.622Z"
   },
   {
    "duration": 49,
    "start_time": "2024-11-04T10:55:52.960Z"
   },
   {
    "duration": 5,
    "start_time": "2024-11-04T10:55:53.022Z"
   },
   {
    "duration": 5,
    "start_time": "2024-11-04T10:55:53.029Z"
   },
   {
    "duration": 17,
    "start_time": "2024-11-04T10:55:53.035Z"
   },
   {
    "duration": 19,
    "start_time": "2024-11-04T10:55:53.053Z"
   },
   {
    "duration": 4,
    "start_time": "2024-11-04T10:55:53.074Z"
   },
   {
    "duration": 41,
    "start_time": "2024-11-04T10:55:53.079Z"
   },
   {
    "duration": 18,
    "start_time": "2024-11-04T10:55:53.122Z"
   },
   {
    "duration": 8,
    "start_time": "2024-11-04T10:55:53.142Z"
   },
   {
    "duration": 26,
    "start_time": "2024-11-04T10:55:53.151Z"
   },
   {
    "duration": 9,
    "start_time": "2024-11-04T10:55:53.180Z"
   },
   {
    "duration": 16,
    "start_time": "2024-11-04T10:55:53.217Z"
   },
   {
    "duration": 4,
    "start_time": "2024-11-04T10:55:53.234Z"
   },
   {
    "duration": 26,
    "start_time": "2024-11-04T10:55:53.240Z"
   },
   {
    "duration": 10,
    "start_time": "2024-11-04T10:55:53.268Z"
   },
   {
    "duration": 42,
    "start_time": "2024-11-04T10:55:53.280Z"
   },
   {
    "duration": 13,
    "start_time": "2024-11-04T10:55:53.324Z"
   },
   {
    "duration": 1008,
    "start_time": "2024-11-04T10:55:53.339Z"
   },
   {
    "duration": 0,
    "start_time": "2024-11-04T10:55:54.348Z"
   },
   {
    "duration": 0,
    "start_time": "2024-11-04T10:55:54.350Z"
   },
   {
    "duration": 0,
    "start_time": "2024-11-04T10:55:54.351Z"
   },
   {
    "duration": 0,
    "start_time": "2024-11-04T10:55:54.351Z"
   },
   {
    "duration": 12,
    "start_time": "2024-11-04T10:59:04.041Z"
   },
   {
    "duration": 3,
    "start_time": "2024-11-04T10:59:19.851Z"
   },
   {
    "duration": 8,
    "start_time": "2024-11-04T10:59:25.881Z"
   },
   {
    "duration": 7874,
    "start_time": "2024-11-04T10:59:37.331Z"
   },
   {
    "duration": 7,
    "start_time": "2024-11-04T10:59:45.207Z"
   },
   {
    "duration": 333,
    "start_time": "2024-11-04T10:59:45.215Z"
   },
   {
    "duration": 47,
    "start_time": "2024-11-04T10:59:45.550Z"
   },
   {
    "duration": 19,
    "start_time": "2024-11-04T10:59:45.599Z"
   },
   {
    "duration": 5,
    "start_time": "2024-11-04T10:59:45.619Z"
   },
   {
    "duration": 29,
    "start_time": "2024-11-04T10:59:45.625Z"
   },
   {
    "duration": 24,
    "start_time": "2024-11-04T10:59:45.656Z"
   },
   {
    "duration": 5,
    "start_time": "2024-11-04T10:59:45.682Z"
   },
   {
    "duration": 33,
    "start_time": "2024-11-04T10:59:45.690Z"
   },
   {
    "duration": 20,
    "start_time": "2024-11-04T10:59:45.725Z"
   },
   {
    "duration": 9,
    "start_time": "2024-11-04T10:59:45.747Z"
   },
   {
    "duration": 30,
    "start_time": "2024-11-04T10:59:45.758Z"
   },
   {
    "duration": 10,
    "start_time": "2024-11-04T10:59:45.817Z"
   },
   {
    "duration": 18,
    "start_time": "2024-11-04T10:59:45.829Z"
   },
   {
    "duration": 4,
    "start_time": "2024-11-04T10:59:45.849Z"
   },
   {
    "duration": 29,
    "start_time": "2024-11-04T10:59:45.854Z"
   },
   {
    "duration": 35,
    "start_time": "2024-11-04T10:59:45.884Z"
   },
   {
    "duration": 12,
    "start_time": "2024-11-04T10:59:45.920Z"
   },
   {
    "duration": 3,
    "start_time": "2024-11-04T10:59:45.934Z"
   },
   {
    "duration": 7,
    "start_time": "2024-11-04T10:59:45.939Z"
   },
   {
    "duration": 959,
    "start_time": "2024-11-04T10:59:45.947Z"
   },
   {
    "duration": 0,
    "start_time": "2024-11-04T10:59:46.908Z"
   },
   {
    "duration": 0,
    "start_time": "2024-11-04T10:59:46.909Z"
   },
   {
    "duration": 0,
    "start_time": "2024-11-04T10:59:46.910Z"
   },
   {
    "duration": 0,
    "start_time": "2024-11-04T10:59:46.911Z"
   },
   {
    "duration": 12,
    "start_time": "2024-11-04T11:00:09.789Z"
   },
   {
    "duration": 3,
    "start_time": "2024-11-04T11:00:38.251Z"
   },
   {
    "duration": 10,
    "start_time": "2024-11-04T11:00:39.093Z"
   },
   {
    "duration": 18,
    "start_time": "2024-11-04T11:01:24.650Z"
   },
   {
    "duration": 8065,
    "start_time": "2024-11-04T11:05:28.688Z"
   },
   {
    "duration": 5,
    "start_time": "2024-11-04T11:05:36.756Z"
   },
   {
    "duration": 417,
    "start_time": "2024-11-04T11:05:36.763Z"
   },
   {
    "duration": 51,
    "start_time": "2024-11-04T11:05:37.182Z"
   },
   {
    "duration": 5,
    "start_time": "2024-11-04T11:05:37.234Z"
   },
   {
    "duration": 27,
    "start_time": "2024-11-04T11:05:37.240Z"
   },
   {
    "duration": 39,
    "start_time": "2024-11-04T11:05:37.268Z"
   },
   {
    "duration": 18,
    "start_time": "2024-11-04T11:05:37.309Z"
   },
   {
    "duration": 4,
    "start_time": "2024-11-04T11:05:37.329Z"
   },
   {
    "duration": 24,
    "start_time": "2024-11-04T11:05:37.335Z"
   },
   {
    "duration": 23,
    "start_time": "2024-11-04T11:05:37.360Z"
   },
   {
    "duration": 11,
    "start_time": "2024-11-04T11:05:37.385Z"
   },
   {
    "duration": 44,
    "start_time": "2024-11-04T11:05:37.398Z"
   },
   {
    "duration": 12,
    "start_time": "2024-11-04T11:05:37.443Z"
   },
   {
    "duration": 32,
    "start_time": "2024-11-04T11:05:37.456Z"
   },
   {
    "duration": 6,
    "start_time": "2024-11-04T11:05:37.490Z"
   },
   {
    "duration": 42,
    "start_time": "2024-11-04T11:05:37.497Z"
   },
   {
    "duration": 11,
    "start_time": "2024-11-04T11:05:37.541Z"
   },
   {
    "duration": 29,
    "start_time": "2024-11-04T11:05:37.553Z"
   },
   {
    "duration": 27,
    "start_time": "2024-11-04T11:05:37.583Z"
   },
   {
    "duration": 21,
    "start_time": "2024-11-04T11:05:37.611Z"
   },
   {
    "duration": 26,
    "start_time": "2024-11-04T11:05:37.634Z"
   },
   {
    "duration": 22,
    "start_time": "2024-11-04T11:05:37.662Z"
   },
   {
    "duration": 16,
    "start_time": "2024-11-04T11:05:37.685Z"
   },
   {
    "duration": 21,
    "start_time": "2024-11-04T11:05:37.703Z"
   },
   {
    "duration": 4,
    "start_time": "2024-11-04T11:05:37.725Z"
   },
   {
    "duration": 4,
    "start_time": "2024-11-04T11:06:23.557Z"
   },
   {
    "duration": 11,
    "start_time": "2024-11-04T11:06:26.042Z"
   },
   {
    "duration": 9,
    "start_time": "2024-11-04T11:08:05.561Z"
   },
   {
    "duration": 8200,
    "start_time": "2024-11-04T11:08:21.249Z"
   },
   {
    "duration": 8,
    "start_time": "2024-11-04T11:08:29.451Z"
   },
   {
    "duration": 349,
    "start_time": "2024-11-04T11:08:29.460Z"
   },
   {
    "duration": 61,
    "start_time": "2024-11-04T11:08:29.810Z"
   },
   {
    "duration": 5,
    "start_time": "2024-11-04T11:08:29.874Z"
   },
   {
    "duration": 15,
    "start_time": "2024-11-04T11:08:29.881Z"
   },
   {
    "duration": 29,
    "start_time": "2024-11-04T11:08:29.898Z"
   },
   {
    "duration": 20,
    "start_time": "2024-11-04T11:08:29.928Z"
   },
   {
    "duration": 5,
    "start_time": "2024-11-04T11:08:29.950Z"
   },
   {
    "duration": 7,
    "start_time": "2024-11-04T11:08:29.956Z"
   },
   {
    "duration": 18,
    "start_time": "2024-11-04T11:08:29.965Z"
   },
   {
    "duration": 39,
    "start_time": "2024-11-04T11:08:29.985Z"
   },
   {
    "duration": 29,
    "start_time": "2024-11-04T11:08:30.026Z"
   },
   {
    "duration": 10,
    "start_time": "2024-11-04T11:08:30.059Z"
   },
   {
    "duration": 46,
    "start_time": "2024-11-04T11:08:30.071Z"
   },
   {
    "duration": 37,
    "start_time": "2024-11-04T11:08:30.119Z"
   },
   {
    "duration": 39,
    "start_time": "2024-11-04T11:08:30.158Z"
   },
   {
    "duration": 13,
    "start_time": "2024-11-04T11:08:30.198Z"
   },
   {
    "duration": 20,
    "start_time": "2024-11-04T11:08:30.213Z"
   },
   {
    "duration": 30,
    "start_time": "2024-11-04T11:08:30.234Z"
   },
   {
    "duration": 54,
    "start_time": "2024-11-04T11:08:30.266Z"
   },
   {
    "duration": 40,
    "start_time": "2024-11-04T11:08:30.322Z"
   },
   {
    "duration": 29,
    "start_time": "2024-11-04T11:08:30.364Z"
   },
   {
    "duration": 12,
    "start_time": "2024-11-04T11:08:30.394Z"
   },
   {
    "duration": 16,
    "start_time": "2024-11-04T11:08:30.407Z"
   },
   {
    "duration": 8,
    "start_time": "2024-11-04T11:08:30.424Z"
   },
   {
    "duration": 4,
    "start_time": "2024-11-04T11:12:27.492Z"
   },
   {
    "duration": 11,
    "start_time": "2024-11-04T11:12:42.742Z"
   },
   {
    "duration": 2,
    "start_time": "2024-11-04T11:13:10.208Z"
   },
   {
    "duration": 10,
    "start_time": "2024-11-04T11:13:13.989Z"
   },
   {
    "duration": 8056,
    "start_time": "2024-11-04T11:58:41.812Z"
   },
   {
    "duration": 1352,
    "start_time": "2024-11-04T11:58:49.870Z"
   },
   {
    "duration": 330,
    "start_time": "2024-11-04T11:58:51.224Z"
   },
   {
    "duration": 51,
    "start_time": "2024-11-04T11:58:51.556Z"
   },
   {
    "duration": 4,
    "start_time": "2024-11-04T11:58:51.609Z"
   },
   {
    "duration": 6,
    "start_time": "2024-11-04T11:58:51.618Z"
   },
   {
    "duration": 18,
    "start_time": "2024-11-04T11:58:51.625Z"
   },
   {
    "duration": 19,
    "start_time": "2024-11-04T11:58:51.645Z"
   },
   {
    "duration": 5,
    "start_time": "2024-11-04T11:58:51.666Z"
   },
   {
    "duration": 45,
    "start_time": "2024-11-04T11:58:51.674Z"
   },
   {
    "duration": 25,
    "start_time": "2024-11-04T11:58:51.721Z"
   },
   {
    "duration": 8,
    "start_time": "2024-11-04T11:58:51.748Z"
   },
   {
    "duration": 39,
    "start_time": "2024-11-04T11:58:51.758Z"
   },
   {
    "duration": 23,
    "start_time": "2024-11-04T11:58:51.798Z"
   },
   {
    "duration": 28,
    "start_time": "2024-11-04T11:58:51.823Z"
   },
   {
    "duration": 5,
    "start_time": "2024-11-04T11:58:51.853Z"
   },
   {
    "duration": 27,
    "start_time": "2024-11-04T11:58:51.860Z"
   },
   {
    "duration": 33,
    "start_time": "2024-11-04T11:58:51.889Z"
   },
   {
    "duration": 13,
    "start_time": "2024-11-04T11:58:51.924Z"
   },
   {
    "duration": 17,
    "start_time": "2024-11-04T11:58:51.939Z"
   },
   {
    "duration": 16,
    "start_time": "2024-11-04T11:58:51.958Z"
   },
   {
    "duration": 4,
    "start_time": "2024-11-04T11:58:51.976Z"
   },
   {
    "duration": 16,
    "start_time": "2024-11-04T11:58:51.981Z"
   },
   {
    "duration": 24,
    "start_time": "2024-11-04T11:58:51.999Z"
   },
   {
    "duration": 15,
    "start_time": "2024-11-04T11:58:52.024Z"
   },
   {
    "duration": 5,
    "start_time": "2024-11-04T11:58:52.041Z"
   },
   {
    "duration": 5,
    "start_time": "2024-11-04T11:58:52.048Z"
   },
   {
    "duration": 22,
    "start_time": "2024-11-04T12:04:51.094Z"
   },
   {
    "duration": 19,
    "start_time": "2024-11-04T12:05:02.593Z"
   },
   {
    "duration": 27,
    "start_time": "2024-11-04T12:05:15.857Z"
   },
   {
    "duration": 25,
    "start_time": "2024-11-04T12:07:59.355Z"
   },
   {
    "duration": 8,
    "start_time": "2024-11-04T12:08:40.947Z"
   },
   {
    "duration": 113,
    "start_time": "2024-11-04T12:10:44.869Z"
   },
   {
    "duration": 5,
    "start_time": "2024-11-04T12:10:48.095Z"
   },
   {
    "duration": 5,
    "start_time": "2024-11-04T12:10:57.256Z"
   },
   {
    "duration": 4,
    "start_time": "2024-11-04T12:11:33.414Z"
   },
   {
    "duration": 69,
    "start_time": "2024-11-04T12:12:27.293Z"
   },
   {
    "duration": 6,
    "start_time": "2024-11-04T12:13:49.621Z"
   },
   {
    "duration": 6,
    "start_time": "2024-11-04T12:14:01.350Z"
   },
   {
    "duration": 69,
    "start_time": "2024-11-04T12:14:48.572Z"
   },
   {
    "duration": 6,
    "start_time": "2024-11-04T12:15:11.398Z"
   },
   {
    "duration": 65,
    "start_time": "2024-11-04T12:15:17.783Z"
   },
   {
    "duration": 3,
    "start_time": "2024-11-04T12:15:45.314Z"
   },
   {
    "duration": 88,
    "start_time": "2024-11-04T12:15:55.664Z"
   },
   {
    "duration": 4,
    "start_time": "2024-11-04T12:16:31.890Z"
   },
   {
    "duration": 70,
    "start_time": "2024-11-04T12:16:46.938Z"
   },
   {
    "duration": 70,
    "start_time": "2024-11-04T12:16:54.052Z"
   },
   {
    "duration": 66,
    "start_time": "2024-11-04T12:17:35.171Z"
   },
   {
    "duration": 65,
    "start_time": "2024-11-04T12:18:02.680Z"
   },
   {
    "duration": 4,
    "start_time": "2024-11-04T12:18:15.818Z"
   },
   {
    "duration": 11,
    "start_time": "2024-11-04T12:21:30.216Z"
   },
   {
    "duration": 5,
    "start_time": "2024-11-04T12:21:47.791Z"
   },
   {
    "duration": 5,
    "start_time": "2024-11-04T12:22:05.802Z"
   },
   {
    "duration": 5,
    "start_time": "2024-11-04T12:22:23.242Z"
   },
   {
    "duration": 5,
    "start_time": "2024-11-04T12:22:38.762Z"
   },
   {
    "duration": 4,
    "start_time": "2024-11-04T12:22:59.171Z"
   },
   {
    "duration": 4,
    "start_time": "2024-11-04T12:23:06.591Z"
   },
   {
    "duration": 5,
    "start_time": "2024-11-04T12:26:31.653Z"
   },
   {
    "duration": 5,
    "start_time": "2024-11-04T12:26:35.832Z"
   },
   {
    "duration": 5,
    "start_time": "2024-11-04T12:26:40.172Z"
   },
   {
    "duration": 4,
    "start_time": "2024-11-04T12:26:46.549Z"
   },
   {
    "duration": 17,
    "start_time": "2024-11-04T12:27:50.493Z"
   },
   {
    "duration": 14,
    "start_time": "2024-11-04T12:28:04.363Z"
   },
   {
    "duration": 68,
    "start_time": "2024-11-04T12:28:44.703Z"
   },
   {
    "duration": 5,
    "start_time": "2024-11-04T12:29:04.143Z"
   },
   {
    "duration": 6,
    "start_time": "2024-11-04T12:29:35.243Z"
   },
   {
    "duration": 5,
    "start_time": "2024-11-04T12:29:35.890Z"
   },
   {
    "duration": 84,
    "start_time": "2024-11-04T12:31:28.437Z"
   },
   {
    "duration": 11,
    "start_time": "2024-11-04T12:31:30.535Z"
   },
   {
    "duration": 6,
    "start_time": "2024-11-04T12:31:42.974Z"
   },
   {
    "duration": 9,
    "start_time": "2024-11-04T12:31:44.340Z"
   },
   {
    "duration": 10,
    "start_time": "2024-11-04T12:32:06.986Z"
   },
   {
    "duration": 10,
    "start_time": "2024-11-04T12:32:10.416Z"
   },
   {
    "duration": 90,
    "start_time": "2024-11-04T12:32:22.307Z"
   },
   {
    "duration": 10,
    "start_time": "2024-11-04T12:32:39.087Z"
   },
   {
    "duration": 11,
    "start_time": "2024-11-04T12:36:06.357Z"
   },
   {
    "duration": 9,
    "start_time": "2024-11-04T12:36:15.455Z"
   },
   {
    "duration": 7940,
    "start_time": "2024-11-04T12:36:45.716Z"
   },
   {
    "duration": 8,
    "start_time": "2024-11-04T12:36:53.659Z"
   },
   {
    "duration": 343,
    "start_time": "2024-11-04T12:36:53.669Z"
   },
   {
    "duration": 53,
    "start_time": "2024-11-04T12:36:54.013Z"
   },
   {
    "duration": 4,
    "start_time": "2024-11-04T12:36:54.068Z"
   },
   {
    "duration": 5,
    "start_time": "2024-11-04T12:36:54.074Z"
   },
   {
    "duration": 42,
    "start_time": "2024-11-04T12:36:54.080Z"
   },
   {
    "duration": 20,
    "start_time": "2024-11-04T12:36:54.124Z"
   },
   {
    "duration": 5,
    "start_time": "2024-11-04T12:36:54.145Z"
   },
   {
    "duration": 21,
    "start_time": "2024-11-04T12:36:54.153Z"
   },
   {
    "duration": 22,
    "start_time": "2024-11-04T12:36:54.176Z"
   },
   {
    "duration": 11,
    "start_time": "2024-11-04T12:36:54.219Z"
   },
   {
    "duration": 36,
    "start_time": "2024-11-04T12:36:54.231Z"
   },
   {
    "duration": 9,
    "start_time": "2024-11-04T12:36:54.269Z"
   },
   {
    "duration": 17,
    "start_time": "2024-11-04T12:36:54.279Z"
   },
   {
    "duration": 5,
    "start_time": "2024-11-04T12:36:54.317Z"
   },
   {
    "duration": 32,
    "start_time": "2024-11-04T12:36:54.323Z"
   },
   {
    "duration": 11,
    "start_time": "2024-11-04T12:36:54.356Z"
   },
   {
    "duration": 13,
    "start_time": "2024-11-04T12:36:54.368Z"
   },
   {
    "duration": 4,
    "start_time": "2024-11-04T12:36:54.383Z"
   },
   {
    "duration": 36,
    "start_time": "2024-11-04T12:36:54.388Z"
   },
   {
    "duration": 3,
    "start_time": "2024-11-04T12:36:54.426Z"
   },
   {
    "duration": 24,
    "start_time": "2024-11-04T12:36:54.430Z"
   },
   {
    "duration": 5,
    "start_time": "2024-11-04T12:36:54.455Z"
   },
   {
    "duration": 5,
    "start_time": "2024-11-04T12:36:54.461Z"
   },
   {
    "duration": 5,
    "start_time": "2024-11-04T12:36:54.467Z"
   },
   {
    "duration": 46,
    "start_time": "2024-11-04T12:36:54.474Z"
   },
   {
    "duration": 7,
    "start_time": "2024-11-04T12:36:54.523Z"
   },
   {
    "duration": 10,
    "start_time": "2024-11-04T12:36:54.532Z"
   },
   {
    "duration": 2,
    "start_time": "2024-11-04T12:36:54.544Z"
   },
   {
    "duration": 17,
    "start_time": "2024-11-04T12:36:54.547Z"
   },
   {
    "duration": 1067,
    "start_time": "2024-11-04T12:40:34.608Z"
   },
   {
    "duration": 9,
    "start_time": "2024-11-04T12:40:50.492Z"
   },
   {
    "duration": 12,
    "start_time": "2024-11-04T12:40:53.161Z"
   },
   {
    "duration": 9,
    "start_time": "2024-11-04T12:41:02.253Z"
   },
   {
    "duration": 10,
    "start_time": "2024-11-04T12:41:02.925Z"
   },
   {
    "duration": 571,
    "start_time": "2024-11-04T12:52:54.749Z"
   },
   {
    "duration": 576,
    "start_time": "2024-11-04T12:53:37.170Z"
   },
   {
    "duration": 6293,
    "start_time": "2024-11-04T12:54:04.179Z"
   },
   {
    "duration": 4,
    "start_time": "2024-11-04T12:56:31.222Z"
   },
   {
    "duration": 10,
    "start_time": "2024-11-04T12:56:37.796Z"
   },
   {
    "duration": 9,
    "start_time": "2024-11-04T12:56:57.021Z"
   },
   {
    "duration": 4,
    "start_time": "2024-11-04T12:57:02.569Z"
   },
   {
    "duration": 4,
    "start_time": "2024-11-04T12:57:15.836Z"
   },
   {
    "duration": 8997,
    "start_time": "2024-11-04T12:57:53.888Z"
   },
   {
    "duration": 6,
    "start_time": "2024-11-04T12:58:02.888Z"
   },
   {
    "duration": 365,
    "start_time": "2024-11-04T12:58:02.896Z"
   },
   {
    "duration": 49,
    "start_time": "2024-11-04T12:58:03.263Z"
   },
   {
    "duration": 5,
    "start_time": "2024-11-04T12:58:03.317Z"
   },
   {
    "duration": 16,
    "start_time": "2024-11-04T12:58:03.323Z"
   },
   {
    "duration": 25,
    "start_time": "2024-11-04T12:58:03.341Z"
   },
   {
    "duration": 19,
    "start_time": "2024-11-04T12:58:03.367Z"
   },
   {
    "duration": 4,
    "start_time": "2024-11-04T12:58:03.388Z"
   },
   {
    "duration": 8,
    "start_time": "2024-11-04T12:58:03.395Z"
   },
   {
    "duration": 19,
    "start_time": "2024-11-04T12:58:03.417Z"
   },
   {
    "duration": 9,
    "start_time": "2024-11-04T12:58:03.437Z"
   },
   {
    "duration": 35,
    "start_time": "2024-11-04T12:58:03.447Z"
   },
   {
    "duration": 9,
    "start_time": "2024-11-04T12:58:03.483Z"
   },
   {
    "duration": 39,
    "start_time": "2024-11-04T12:58:03.494Z"
   },
   {
    "duration": 5,
    "start_time": "2024-11-04T12:58:03.534Z"
   },
   {
    "duration": 42,
    "start_time": "2024-11-04T12:58:03.540Z"
   },
   {
    "duration": 12,
    "start_time": "2024-11-04T12:58:03.583Z"
   },
   {
    "duration": 29,
    "start_time": "2024-11-04T12:58:03.597Z"
   },
   {
    "duration": 19,
    "start_time": "2024-11-04T12:58:03.628Z"
   },
   {
    "duration": 30,
    "start_time": "2024-11-04T12:58:03.649Z"
   },
   {
    "duration": 12,
    "start_time": "2024-11-04T12:58:03.681Z"
   },
   {
    "duration": 39,
    "start_time": "2024-11-04T12:58:03.695Z"
   },
   {
    "duration": 12,
    "start_time": "2024-11-04T12:58:03.736Z"
   },
   {
    "duration": 8,
    "start_time": "2024-11-04T12:58:03.750Z"
   },
   {
    "duration": 28,
    "start_time": "2024-11-04T12:58:03.759Z"
   },
   {
    "duration": 17,
    "start_time": "2024-11-04T12:58:03.789Z"
   },
   {
    "duration": 4,
    "start_time": "2024-11-04T12:58:03.810Z"
   },
   {
    "duration": 19,
    "start_time": "2024-11-04T12:58:29.298Z"
   },
   {
    "duration": 15,
    "start_time": "2024-11-04T12:59:45.443Z"
   },
   {
    "duration": 7996,
    "start_time": "2024-11-04T12:59:57.058Z"
   },
   {
    "duration": 6,
    "start_time": "2024-11-04T13:00:05.057Z"
   },
   {
    "duration": 352,
    "start_time": "2024-11-04T13:00:05.065Z"
   },
   {
    "duration": 47,
    "start_time": "2024-11-04T13:00:05.419Z"
   },
   {
    "duration": 4,
    "start_time": "2024-11-04T13:00:05.468Z"
   },
   {
    "duration": 25,
    "start_time": "2024-11-04T13:00:05.474Z"
   },
   {
    "duration": 36,
    "start_time": "2024-11-04T13:00:05.500Z"
   },
   {
    "duration": 35,
    "start_time": "2024-11-04T13:00:05.538Z"
   },
   {
    "duration": 15,
    "start_time": "2024-11-04T13:00:05.574Z"
   },
   {
    "duration": 10,
    "start_time": "2024-11-04T13:00:05.592Z"
   },
   {
    "duration": 27,
    "start_time": "2024-11-04T13:00:05.604Z"
   },
   {
    "duration": 15,
    "start_time": "2024-11-04T13:00:05.632Z"
   },
   {
    "duration": 38,
    "start_time": "2024-11-04T13:00:05.650Z"
   },
   {
    "duration": 11,
    "start_time": "2024-11-04T13:00:05.690Z"
   },
   {
    "duration": 17,
    "start_time": "2024-11-04T13:00:05.718Z"
   },
   {
    "duration": 16,
    "start_time": "2024-11-04T13:00:05.736Z"
   },
   {
    "duration": 34,
    "start_time": "2024-11-04T13:00:05.754Z"
   },
   {
    "duration": 13,
    "start_time": "2024-11-04T13:00:05.789Z"
   },
   {
    "duration": 26,
    "start_time": "2024-11-04T13:00:05.804Z"
   },
   {
    "duration": 12,
    "start_time": "2024-11-04T13:00:05.832Z"
   },
   {
    "duration": 54,
    "start_time": "2024-11-04T13:00:05.845Z"
   },
   {
    "duration": 36,
    "start_time": "2024-11-04T13:00:05.900Z"
   },
   {
    "duration": 44,
    "start_time": "2024-11-04T13:00:05.938Z"
   },
   {
    "duration": 21,
    "start_time": "2024-11-04T13:00:05.984Z"
   },
   {
    "duration": 24,
    "start_time": "2024-11-04T13:00:06.007Z"
   },
   {
    "duration": 35,
    "start_time": "2024-11-04T13:00:06.032Z"
   },
   {
    "duration": 49,
    "start_time": "2024-11-04T13:00:06.069Z"
   },
   {
    "duration": 12,
    "start_time": "2024-11-04T13:00:06.120Z"
   },
   {
    "duration": 5351,
    "start_time": "2024-11-04T13:01:07.799Z"
   },
   {
    "duration": 11,
    "start_time": "2024-11-04T13:03:44.941Z"
   },
   {
    "duration": 41,
    "start_time": "2024-11-04T13:04:41.646Z"
   },
   {
    "duration": 66,
    "start_time": "2024-11-04T13:05:17.401Z"
   },
   {
    "duration": 5081,
    "start_time": "2024-11-04T13:05:52.989Z"
   },
   {
    "duration": 5382,
    "start_time": "2024-11-04T13:06:35.699Z"
   },
   {
    "duration": 17,
    "start_time": "2024-11-04T13:12:11.845Z"
   },
   {
    "duration": 16,
    "start_time": "2024-11-04T13:12:26.660Z"
   },
   {
    "duration": 24,
    "start_time": "2024-11-04T13:12:42.192Z"
   },
   {
    "duration": 8001,
    "start_time": "2024-11-04T13:12:53.371Z"
   },
   {
    "duration": 6,
    "start_time": "2024-11-04T13:13:01.375Z"
   },
   {
    "duration": 344,
    "start_time": "2024-11-04T13:13:01.382Z"
   },
   {
    "duration": 48,
    "start_time": "2024-11-04T13:13:01.728Z"
   },
   {
    "duration": 4,
    "start_time": "2024-11-04T13:13:01.778Z"
   },
   {
    "duration": 18,
    "start_time": "2024-11-04T13:13:01.784Z"
   },
   {
    "duration": 35,
    "start_time": "2024-11-04T13:13:01.803Z"
   },
   {
    "duration": 24,
    "start_time": "2024-11-04T13:13:01.840Z"
   },
   {
    "duration": 6,
    "start_time": "2024-11-04T13:13:01.865Z"
   },
   {
    "duration": 18,
    "start_time": "2024-11-04T13:13:01.872Z"
   },
   {
    "duration": 17,
    "start_time": "2024-11-04T13:13:01.891Z"
   },
   {
    "duration": 15,
    "start_time": "2024-11-04T13:13:01.910Z"
   },
   {
    "duration": 53,
    "start_time": "2024-11-04T13:13:01.927Z"
   },
   {
    "duration": 9,
    "start_time": "2024-11-04T13:13:01.983Z"
   },
   {
    "duration": 45,
    "start_time": "2024-11-04T13:13:01.993Z"
   },
   {
    "duration": 27,
    "start_time": "2024-11-04T13:13:02.039Z"
   },
   {
    "duration": 41,
    "start_time": "2024-11-04T13:13:02.068Z"
   },
   {
    "duration": 11,
    "start_time": "2024-11-04T13:13:02.111Z"
   },
   {
    "duration": 12,
    "start_time": "2024-11-04T13:13:02.123Z"
   },
   {
    "duration": 12,
    "start_time": "2024-11-04T13:13:02.136Z"
   },
   {
    "duration": 23,
    "start_time": "2024-11-04T13:13:02.150Z"
   },
   {
    "duration": 13,
    "start_time": "2024-11-04T13:13:02.175Z"
   },
   {
    "duration": 27,
    "start_time": "2024-11-04T13:13:02.190Z"
   },
   {
    "duration": 5,
    "start_time": "2024-11-04T13:13:02.219Z"
   },
   {
    "duration": 5,
    "start_time": "2024-11-04T13:13:02.225Z"
   },
   {
    "duration": 10,
    "start_time": "2024-11-04T13:13:02.231Z"
   },
   {
    "duration": 22,
    "start_time": "2024-11-04T13:13:02.243Z"
   },
   {
    "duration": 3,
    "start_time": "2024-11-04T13:13:02.267Z"
   },
   {
    "duration": 51,
    "start_time": "2024-11-04T13:13:02.272Z"
   },
   {
    "duration": 28,
    "start_time": "2024-11-04T13:13:02.324Z"
   },
   {
    "duration": 4507,
    "start_time": "2024-11-04T13:14:11.669Z"
   },
   {
    "duration": 8337,
    "start_time": "2024-11-04T13:30:31.421Z"
   },
   {
    "duration": 6,
    "start_time": "2024-11-04T13:30:39.761Z"
   },
   {
    "duration": 348,
    "start_time": "2024-11-04T13:30:39.769Z"
   },
   {
    "duration": 50,
    "start_time": "2024-11-04T13:30:40.119Z"
   },
   {
    "duration": 5,
    "start_time": "2024-11-04T13:30:40.172Z"
   },
   {
    "duration": 10,
    "start_time": "2024-11-04T13:30:40.178Z"
   },
   {
    "duration": 39,
    "start_time": "2024-11-04T13:30:40.189Z"
   },
   {
    "duration": 17,
    "start_time": "2024-11-04T13:30:40.230Z"
   },
   {
    "duration": 4,
    "start_time": "2024-11-04T13:30:40.248Z"
   },
   {
    "duration": 7,
    "start_time": "2024-11-04T13:30:40.254Z"
   },
   {
    "duration": 21,
    "start_time": "2024-11-04T13:30:40.262Z"
   },
   {
    "duration": 39,
    "start_time": "2024-11-04T13:30:40.284Z"
   },
   {
    "duration": 30,
    "start_time": "2024-11-04T13:30:40.325Z"
   },
   {
    "duration": 10,
    "start_time": "2024-11-04T13:30:40.358Z"
   },
   {
    "duration": 22,
    "start_time": "2024-11-04T13:30:40.370Z"
   },
   {
    "duration": 27,
    "start_time": "2024-11-04T13:30:40.393Z"
   },
   {
    "duration": 33,
    "start_time": "2024-11-04T13:30:40.422Z"
   },
   {
    "duration": 11,
    "start_time": "2024-11-04T13:30:40.457Z"
   },
   {
    "duration": 13,
    "start_time": "2024-11-04T13:30:40.470Z"
   },
   {
    "duration": 34,
    "start_time": "2024-11-04T13:30:40.484Z"
   },
   {
    "duration": 13,
    "start_time": "2024-11-04T13:30:40.519Z"
   },
   {
    "duration": 3,
    "start_time": "2024-11-04T13:30:40.533Z"
   },
   {
    "duration": 31,
    "start_time": "2024-11-04T13:30:40.537Z"
   },
   {
    "duration": 5,
    "start_time": "2024-11-04T13:30:40.570Z"
   },
   {
    "duration": 8,
    "start_time": "2024-11-04T13:30:40.576Z"
   },
   {
    "duration": 33,
    "start_time": "2024-11-04T13:30:40.586Z"
   },
   {
    "duration": 11,
    "start_time": "2024-11-04T13:30:40.621Z"
   },
   {
    "duration": 8,
    "start_time": "2024-11-04T13:30:40.633Z"
   },
   {
    "duration": 37,
    "start_time": "2024-11-04T13:30:40.642Z"
   },
   {
    "duration": 4174,
    "start_time": "2024-11-04T13:30:40.681Z"
   },
   {
    "duration": 3944,
    "start_time": "2024-11-04T13:39:40.198Z"
   },
   {
    "duration": 4146,
    "start_time": "2024-11-04T13:40:20.290Z"
   },
   {
    "duration": 326,
    "start_time": "2024-11-04T13:42:19.859Z"
   },
   {
    "duration": 174,
    "start_time": "2024-11-04T13:44:07.619Z"
   },
   {
    "duration": 283,
    "start_time": "2024-11-04T13:44:32.887Z"
   },
   {
    "duration": 4226,
    "start_time": "2024-11-04T13:44:49.471Z"
   },
   {
    "duration": 190,
    "start_time": "2024-11-04T13:45:44.617Z"
   },
   {
    "duration": 4202,
    "start_time": "2024-11-04T13:45:59.184Z"
   },
   {
    "duration": 4332,
    "start_time": "2024-11-04T13:46:29.722Z"
   },
   {
    "duration": 4058,
    "start_time": "2024-11-04T13:46:54.542Z"
   },
   {
    "duration": 3899,
    "start_time": "2024-11-04T13:47:48.272Z"
   },
   {
    "duration": 4088,
    "start_time": "2024-11-04T13:48:04.773Z"
   },
   {
    "duration": 11,
    "start_time": "2024-11-04T14:02:37.395Z"
   },
   {
    "duration": 4,
    "start_time": "2024-11-04T14:02:55.883Z"
   },
   {
    "duration": 9,
    "start_time": "2024-11-04T14:03:00.625Z"
   },
   {
    "duration": 8,
    "start_time": "2024-11-04T14:03:10.263Z"
   },
   {
    "duration": 8453,
    "start_time": "2024-11-04T14:03:22.925Z"
   },
   {
    "duration": 6,
    "start_time": "2024-11-04T14:03:31.381Z"
   },
   {
    "duration": 360,
    "start_time": "2024-11-04T14:03:31.388Z"
   },
   {
    "duration": 68,
    "start_time": "2024-11-04T14:03:31.751Z"
   },
   {
    "duration": 5,
    "start_time": "2024-11-04T14:03:31.821Z"
   },
   {
    "duration": 19,
    "start_time": "2024-11-04T14:03:31.828Z"
   },
   {
    "duration": 25,
    "start_time": "2024-11-04T14:03:31.849Z"
   },
   {
    "duration": 22,
    "start_time": "2024-11-04T14:03:31.876Z"
   },
   {
    "duration": 4,
    "start_time": "2024-11-04T14:03:31.900Z"
   },
   {
    "duration": 9,
    "start_time": "2024-11-04T14:03:31.918Z"
   },
   {
    "duration": 20,
    "start_time": "2024-11-04T14:03:31.928Z"
   },
   {
    "duration": 11,
    "start_time": "2024-11-04T14:03:31.950Z"
   },
   {
    "duration": 43,
    "start_time": "2024-11-04T14:03:31.962Z"
   },
   {
    "duration": 21,
    "start_time": "2024-11-04T14:03:32.006Z"
   },
   {
    "duration": 41,
    "start_time": "2024-11-04T14:03:32.029Z"
   },
   {
    "duration": 5,
    "start_time": "2024-11-04T14:03:32.072Z"
   },
   {
    "duration": 41,
    "start_time": "2024-11-04T14:03:32.079Z"
   },
   {
    "duration": 15,
    "start_time": "2024-11-04T14:03:32.122Z"
   },
   {
    "duration": 23,
    "start_time": "2024-11-04T14:03:32.139Z"
   },
   {
    "duration": 5,
    "start_time": "2024-11-04T14:03:32.164Z"
   },
   {
    "duration": 24,
    "start_time": "2024-11-04T14:03:32.171Z"
   },
   {
    "duration": 23,
    "start_time": "2024-11-04T14:03:32.197Z"
   },
   {
    "duration": 31,
    "start_time": "2024-11-04T14:03:32.221Z"
   },
   {
    "duration": 15,
    "start_time": "2024-11-04T14:03:32.254Z"
   },
   {
    "duration": 21,
    "start_time": "2024-11-04T14:03:32.271Z"
   },
   {
    "duration": 15,
    "start_time": "2024-11-04T14:03:32.294Z"
   },
   {
    "duration": 29,
    "start_time": "2024-11-04T14:03:32.311Z"
   },
   {
    "duration": 7,
    "start_time": "2024-11-04T14:03:32.344Z"
   },
   {
    "duration": 49,
    "start_time": "2024-11-04T14:03:32.353Z"
   },
   {
    "duration": 4308,
    "start_time": "2024-11-04T14:03:32.403Z"
   },
   {
    "duration": 17,
    "start_time": "2024-11-04T14:03:36.713Z"
   },
   {
    "duration": 16,
    "start_time": "2024-11-04T14:03:55.575Z"
   },
   {
    "duration": 15,
    "start_time": "2024-11-04T14:04:49.342Z"
   },
   {
    "duration": 12,
    "start_time": "2024-11-04T14:04:52.504Z"
   },
   {
    "duration": 83,
    "start_time": "2024-11-04T14:06:14.383Z"
   },
   {
    "duration": 11,
    "start_time": "2024-11-04T14:06:18.413Z"
   },
   {
    "duration": 7,
    "start_time": "2024-11-04T14:06:24.593Z"
   },
   {
    "duration": 14,
    "start_time": "2024-11-04T14:06:34.013Z"
   },
   {
    "duration": 15,
    "start_time": "2024-11-04T14:06:38.704Z"
   },
   {
    "duration": 4,
    "start_time": "2024-11-04T14:07:10.225Z"
   },
   {
    "duration": 5,
    "start_time": "2024-11-04T14:07:48.159Z"
   },
   {
    "duration": 20,
    "start_time": "2024-11-04T14:15:39.591Z"
   },
   {
    "duration": 15,
    "start_time": "2024-11-04T14:15:58.012Z"
   },
   {
    "duration": 19,
    "start_time": "2024-11-04T14:20:34.679Z"
   },
   {
    "duration": 20,
    "start_time": "2024-11-04T14:27:39.648Z"
   },
   {
    "duration": 19,
    "start_time": "2024-11-04T14:27:55.725Z"
   },
   {
    "duration": 12,
    "start_time": "2024-11-04T14:28:46.806Z"
   },
   {
    "duration": 4,
    "start_time": "2024-11-04T14:29:11.285Z"
   },
   {
    "duration": 5,
    "start_time": "2024-11-04T14:29:21.646Z"
   },
   {
    "duration": 403,
    "start_time": "2024-11-04T14:31:40.929Z"
   },
   {
    "duration": 17,
    "start_time": "2024-11-04T14:34:47.558Z"
   },
   {
    "duration": 87,
    "start_time": "2024-11-04T14:48:12.310Z"
   },
   {
    "duration": 3,
    "start_time": "2024-11-04T14:49:57.718Z"
   },
   {
    "duration": 6,
    "start_time": "2024-11-04T14:59:51.499Z"
   },
   {
    "duration": 4,
    "start_time": "2024-11-04T14:59:56.688Z"
   },
   {
    "duration": 1977,
    "start_time": "2024-11-04T15:00:06.635Z"
   },
   {
    "duration": 15,
    "start_time": "2024-11-04T15:04:57.929Z"
   },
   {
    "duration": 15,
    "start_time": "2024-11-04T15:06:14.108Z"
   },
   {
    "duration": 14,
    "start_time": "2024-11-04T15:07:28.198Z"
   },
   {
    "duration": 19,
    "start_time": "2024-11-04T15:17:38.942Z"
   },
   {
    "duration": 18,
    "start_time": "2024-11-04T15:18:09.613Z"
   },
   {
    "duration": 9,
    "start_time": "2024-11-04T15:20:20.265Z"
   },
   {
    "duration": 19,
    "start_time": "2024-11-04T15:23:54.564Z"
   },
   {
    "duration": 16,
    "start_time": "2024-11-04T15:29:50.403Z"
   },
   {
    "duration": 13985,
    "start_time": "2024-11-04T20:55:02.726Z"
   },
   {
    "duration": 1368,
    "start_time": "2024-11-04T20:55:16.713Z"
   },
   {
    "duration": 696,
    "start_time": "2024-11-04T20:55:18.083Z"
   },
   {
    "duration": 42,
    "start_time": "2024-11-04T20:55:18.783Z"
   },
   {
    "duration": 4,
    "start_time": "2024-11-04T20:55:18.827Z"
   },
   {
    "duration": 5,
    "start_time": "2024-11-04T20:55:18.832Z"
   },
   {
    "duration": 28,
    "start_time": "2024-11-04T20:55:18.838Z"
   },
   {
    "duration": 16,
    "start_time": "2024-11-04T20:55:18.868Z"
   },
   {
    "duration": 3,
    "start_time": "2024-11-04T20:55:18.886Z"
   },
   {
    "duration": 9,
    "start_time": "2024-11-04T20:55:18.891Z"
   },
   {
    "duration": 18,
    "start_time": "2024-11-04T20:55:18.901Z"
   },
   {
    "duration": 38,
    "start_time": "2024-11-04T20:55:18.920Z"
   },
   {
    "duration": 25,
    "start_time": "2024-11-04T20:55:18.959Z"
   },
   {
    "duration": 10,
    "start_time": "2024-11-04T20:55:18.986Z"
   },
   {
    "duration": 16,
    "start_time": "2024-11-04T20:55:18.997Z"
   },
   {
    "duration": 4,
    "start_time": "2024-11-04T20:55:19.015Z"
   },
   {
    "duration": 54,
    "start_time": "2024-11-04T20:55:19.021Z"
   },
   {
    "duration": 11,
    "start_time": "2024-11-04T20:55:19.077Z"
   },
   {
    "duration": 11,
    "start_time": "2024-11-04T20:55:19.089Z"
   },
   {
    "duration": 4,
    "start_time": "2024-11-04T20:55:19.102Z"
   },
   {
    "duration": 33,
    "start_time": "2024-11-04T20:55:19.107Z"
   },
   {
    "duration": 26,
    "start_time": "2024-11-04T20:55:19.141Z"
   },
   {
    "duration": 46,
    "start_time": "2024-11-04T20:55:19.168Z"
   },
   {
    "duration": 6,
    "start_time": "2024-11-04T20:55:19.216Z"
   },
   {
    "duration": 4,
    "start_time": "2024-11-04T20:55:19.224Z"
   },
   {
    "duration": 9,
    "start_time": "2024-11-04T20:55:19.230Z"
   },
   {
    "duration": 9,
    "start_time": "2024-11-04T20:55:19.241Z"
   },
   {
    "duration": 3,
    "start_time": "2024-11-04T20:55:19.253Z"
   },
   {
    "duration": 30,
    "start_time": "2024-11-04T20:55:19.257Z"
   },
   {
    "duration": 3686,
    "start_time": "2024-11-04T20:55:19.288Z"
   },
   {
    "duration": 12,
    "start_time": "2024-11-04T20:55:22.976Z"
   },
   {
    "duration": 11,
    "start_time": "2024-11-04T20:55:22.990Z"
   },
   {
    "duration": 4,
    "start_time": "2024-11-04T20:55:23.003Z"
   },
   {
    "duration": 13,
    "start_time": "2024-11-04T20:55:23.009Z"
   },
   {
    "duration": 43,
    "start_time": "2024-11-04T20:55:23.024Z"
   },
   {
    "duration": 16,
    "start_time": "2024-11-04T20:55:23.069Z"
   },
   {
    "duration": 8,
    "start_time": "2024-11-04T20:55:23.086Z"
   },
   {
    "duration": 357,
    "start_time": "2024-11-04T20:55:23.095Z"
   },
   {
    "duration": 19,
    "start_time": "2024-11-04T20:55:23.457Z"
   },
   {
    "duration": 63,
    "start_time": "2024-11-04T20:55:23.478Z"
   },
   {
    "duration": 15,
    "start_time": "2024-11-04T20:55:23.542Z"
   },
   {
    "duration": 21,
    "start_time": "2024-11-04T20:55:23.558Z"
   },
   {
    "duration": 112,
    "start_time": "2024-11-04T21:04:07.493Z"
   },
   {
    "duration": 4,
    "start_time": "2024-11-04T21:04:10.525Z"
   },
   {
    "duration": 1342,
    "start_time": "2024-11-04T21:07:40.306Z"
   },
   {
    "duration": 16,
    "start_time": "2024-11-04T21:14:13.112Z"
   },
   {
    "duration": 18,
    "start_time": "2024-11-04T21:15:35.853Z"
   },
   {
    "duration": 15,
    "start_time": "2024-11-04T21:15:55.034Z"
   },
   {
    "duration": 8747,
    "start_time": "2024-11-04T21:16:07.129Z"
   },
   {
    "duration": 6,
    "start_time": "2024-11-04T21:16:15.878Z"
   },
   {
    "duration": 309,
    "start_time": "2024-11-04T21:16:15.885Z"
   },
   {
    "duration": 39,
    "start_time": "2024-11-04T21:16:16.197Z"
   },
   {
    "duration": 4,
    "start_time": "2024-11-04T21:16:16.238Z"
   },
   {
    "duration": 24,
    "start_time": "2024-11-04T21:16:16.243Z"
   },
   {
    "duration": 16,
    "start_time": "2024-11-04T21:16:16.269Z"
   },
   {
    "duration": 20,
    "start_time": "2024-11-04T21:16:16.287Z"
   },
   {
    "duration": 5,
    "start_time": "2024-11-04T21:16:16.308Z"
   },
   {
    "duration": 29,
    "start_time": "2024-11-04T21:16:16.315Z"
   },
   {
    "duration": 39,
    "start_time": "2024-11-04T21:16:16.346Z"
   },
   {
    "duration": 7,
    "start_time": "2024-11-04T21:16:16.386Z"
   },
   {
    "duration": 25,
    "start_time": "2024-11-04T21:16:16.394Z"
   },
   {
    "duration": 8,
    "start_time": "2024-11-04T21:16:16.420Z"
   },
   {
    "duration": 19,
    "start_time": "2024-11-04T21:16:16.429Z"
   },
   {
    "duration": 22,
    "start_time": "2024-11-04T21:16:16.449Z"
   },
   {
    "duration": 24,
    "start_time": "2024-11-04T21:16:16.473Z"
   },
   {
    "duration": 18,
    "start_time": "2024-11-04T21:16:16.499Z"
   },
   {
    "duration": 15,
    "start_time": "2024-11-04T21:16:16.519Z"
   },
   {
    "duration": 5,
    "start_time": "2024-11-04T21:16:16.536Z"
   },
   {
    "duration": 32,
    "start_time": "2024-11-04T21:16:16.542Z"
   },
   {
    "duration": 7,
    "start_time": "2024-11-04T21:16:16.575Z"
   },
   {
    "duration": 22,
    "start_time": "2024-11-04T21:16:16.583Z"
   },
   {
    "duration": 5,
    "start_time": "2024-11-04T21:16:16.607Z"
   },
   {
    "duration": 17,
    "start_time": "2024-11-04T21:16:16.613Z"
   },
   {
    "duration": 13,
    "start_time": "2024-11-04T21:16:16.631Z"
   },
   {
    "duration": 24,
    "start_time": "2024-11-04T21:16:16.645Z"
   },
   {
    "duration": 3,
    "start_time": "2024-11-04T21:16:16.672Z"
   },
   {
    "duration": 31,
    "start_time": "2024-11-04T21:16:16.676Z"
   },
   {
    "duration": 3743,
    "start_time": "2024-11-04T21:16:16.709Z"
   },
   {
    "duration": 27,
    "start_time": "2024-11-04T21:16:20.454Z"
   },
   {
    "duration": 16,
    "start_time": "2024-11-04T21:16:20.482Z"
   },
   {
    "duration": 8,
    "start_time": "2024-11-04T21:16:20.499Z"
   },
   {
    "duration": 20,
    "start_time": "2024-11-04T21:16:20.508Z"
   },
   {
    "duration": 40,
    "start_time": "2024-11-04T21:16:20.529Z"
   },
   {
    "duration": 9,
    "start_time": "2024-11-04T21:16:20.570Z"
   },
   {
    "duration": 21,
    "start_time": "2024-11-04T21:16:20.581Z"
   },
   {
    "duration": 365,
    "start_time": "2024-11-04T21:16:20.603Z"
   },
   {
    "duration": 14,
    "start_time": "2024-11-04T21:16:20.969Z"
   },
   {
    "duration": 12,
    "start_time": "2024-11-04T21:16:20.984Z"
   },
   {
    "duration": 15,
    "start_time": "2024-11-04T21:16:20.997Z"
   },
   {
    "duration": 22,
    "start_time": "2024-11-04T21:16:21.014Z"
   },
   {
    "duration": 5,
    "start_time": "2024-11-04T21:16:21.037Z"
   },
   {
    "duration": 1197,
    "start_time": "2024-11-04T21:16:21.043Z"
   },
   {
    "duration": 14,
    "start_time": "2024-11-04T21:16:22.241Z"
   },
   {
    "duration": 1049,
    "start_time": "2024-11-04T21:16:41.091Z"
   },
   {
    "duration": 12,
    "start_time": "2024-11-04T21:17:19.142Z"
   },
   {
    "duration": 8762,
    "start_time": "2024-11-04T21:17:32.968Z"
   },
   {
    "duration": 5,
    "start_time": "2024-11-04T21:17:41.732Z"
   },
   {
    "duration": 332,
    "start_time": "2024-11-04T21:17:41.739Z"
   },
   {
    "duration": 39,
    "start_time": "2024-11-04T21:17:42.073Z"
   },
   {
    "duration": 4,
    "start_time": "2024-11-04T21:17:42.114Z"
   },
   {
    "duration": 7,
    "start_time": "2024-11-04T21:17:42.119Z"
   },
   {
    "duration": 16,
    "start_time": "2024-11-04T21:17:42.128Z"
   },
   {
    "duration": 26,
    "start_time": "2024-11-04T21:17:42.145Z"
   },
   {
    "duration": 5,
    "start_time": "2024-11-04T21:17:42.172Z"
   },
   {
    "duration": 11,
    "start_time": "2024-11-04T21:17:42.179Z"
   },
   {
    "duration": 23,
    "start_time": "2024-11-04T21:17:42.191Z"
   },
   {
    "duration": 17,
    "start_time": "2024-11-04T21:17:42.215Z"
   },
   {
    "duration": 55,
    "start_time": "2024-11-04T21:17:42.234Z"
   },
   {
    "duration": 8,
    "start_time": "2024-11-04T21:17:42.291Z"
   },
   {
    "duration": 19,
    "start_time": "2024-11-04T21:17:42.301Z"
   },
   {
    "duration": 4,
    "start_time": "2024-11-04T21:17:42.322Z"
   },
   {
    "duration": 51,
    "start_time": "2024-11-04T21:17:42.328Z"
   },
   {
    "duration": 15,
    "start_time": "2024-11-04T21:17:42.381Z"
   },
   {
    "duration": 11,
    "start_time": "2024-11-04T21:17:42.397Z"
   },
   {
    "duration": 10,
    "start_time": "2024-11-04T21:17:42.410Z"
   },
   {
    "duration": 16,
    "start_time": "2024-11-04T21:17:42.421Z"
   },
   {
    "duration": 3,
    "start_time": "2024-11-04T21:17:42.439Z"
   },
   {
    "duration": 34,
    "start_time": "2024-11-04T21:17:42.443Z"
   },
   {
    "duration": 17,
    "start_time": "2024-11-04T21:17:42.478Z"
   },
   {
    "duration": 4,
    "start_time": "2024-11-04T21:17:42.497Z"
   },
   {
    "duration": 6,
    "start_time": "2024-11-04T21:17:42.502Z"
   },
   {
    "duration": 9,
    "start_time": "2024-11-04T21:17:42.509Z"
   },
   {
    "duration": 7,
    "start_time": "2024-11-04T21:17:42.521Z"
   },
   {
    "duration": 55,
    "start_time": "2024-11-04T21:17:42.530Z"
   },
   {
    "duration": 3788,
    "start_time": "2024-11-04T21:17:42.587Z"
   },
   {
    "duration": 13,
    "start_time": "2024-11-04T21:17:46.377Z"
   },
   {
    "duration": 17,
    "start_time": "2024-11-04T21:17:46.392Z"
   },
   {
    "duration": 13,
    "start_time": "2024-11-04T21:17:46.411Z"
   },
   {
    "duration": 13,
    "start_time": "2024-11-04T21:17:46.426Z"
   },
   {
    "duration": 41,
    "start_time": "2024-11-04T21:17:46.440Z"
   },
   {
    "duration": 22,
    "start_time": "2024-11-04T21:17:46.482Z"
   },
   {
    "duration": 7,
    "start_time": "2024-11-04T21:17:46.506Z"
   },
   {
    "duration": 355,
    "start_time": "2024-11-04T21:17:46.514Z"
   },
   {
    "duration": 14,
    "start_time": "2024-11-04T21:17:46.871Z"
   },
   {
    "duration": 11,
    "start_time": "2024-11-04T21:17:46.887Z"
   },
   {
    "duration": 16,
    "start_time": "2024-11-04T21:17:46.899Z"
   },
   {
    "duration": 13,
    "start_time": "2024-11-04T21:17:46.916Z"
   },
   {
    "duration": 12,
    "start_time": "2024-11-04T21:17:46.930Z"
   },
   {
    "duration": 1300,
    "start_time": "2024-11-04T21:17:46.944Z"
   },
   {
    "duration": 21,
    "start_time": "2024-11-04T21:17:48.246Z"
   },
   {
    "duration": 16,
    "start_time": "2024-11-04T21:18:13.954Z"
   },
   {
    "duration": 8647,
    "start_time": "2024-11-04T21:18:16.148Z"
   },
   {
    "duration": 6,
    "start_time": "2024-11-04T21:18:24.797Z"
   },
   {
    "duration": 325,
    "start_time": "2024-11-04T21:18:24.804Z"
   },
   {
    "duration": 44,
    "start_time": "2024-11-04T21:18:25.131Z"
   },
   {
    "duration": 5,
    "start_time": "2024-11-04T21:18:25.177Z"
   },
   {
    "duration": 10,
    "start_time": "2024-11-04T21:18:25.183Z"
   },
   {
    "duration": 14,
    "start_time": "2024-11-04T21:18:25.195Z"
   },
   {
    "duration": 17,
    "start_time": "2024-11-04T21:18:25.210Z"
   },
   {
    "duration": 8,
    "start_time": "2024-11-04T21:18:25.228Z"
   },
   {
    "duration": 13,
    "start_time": "2024-11-04T21:18:25.257Z"
   },
   {
    "duration": 18,
    "start_time": "2024-11-04T21:18:25.271Z"
   },
   {
    "duration": 7,
    "start_time": "2024-11-04T21:18:25.290Z"
   },
   {
    "duration": 30,
    "start_time": "2024-11-04T21:18:25.298Z"
   },
   {
    "duration": 44,
    "start_time": "2024-11-04T21:18:25.329Z"
   },
   {
    "duration": 15,
    "start_time": "2024-11-04T21:18:25.374Z"
   },
   {
    "duration": 4,
    "start_time": "2024-11-04T21:18:25.390Z"
   },
   {
    "duration": 27,
    "start_time": "2024-11-04T21:18:25.395Z"
   },
   {
    "duration": 10,
    "start_time": "2024-11-04T21:18:25.424Z"
   },
   {
    "duration": 34,
    "start_time": "2024-11-04T21:18:25.435Z"
   },
   {
    "duration": 6,
    "start_time": "2024-11-04T21:18:25.470Z"
   },
   {
    "duration": 14,
    "start_time": "2024-11-04T21:18:25.477Z"
   },
   {
    "duration": 4,
    "start_time": "2024-11-04T21:18:25.493Z"
   },
   {
    "duration": 21,
    "start_time": "2024-11-04T21:18:25.498Z"
   },
   {
    "duration": 21,
    "start_time": "2024-11-04T21:18:25.520Z"
   },
   {
    "duration": 31,
    "start_time": "2024-11-04T21:18:25.543Z"
   },
   {
    "duration": 17,
    "start_time": "2024-11-04T21:18:25.576Z"
   },
   {
    "duration": 9,
    "start_time": "2024-11-04T21:18:25.594Z"
   },
   {
    "duration": 3,
    "start_time": "2024-11-04T21:18:25.606Z"
   },
   {
    "duration": 36,
    "start_time": "2024-11-04T21:18:25.610Z"
   },
   {
    "duration": 3677,
    "start_time": "2024-11-04T21:18:25.647Z"
   },
   {
    "duration": 11,
    "start_time": "2024-11-04T21:18:29.325Z"
   },
   {
    "duration": 22,
    "start_time": "2024-11-04T21:18:29.338Z"
   },
   {
    "duration": 5,
    "start_time": "2024-11-04T21:18:29.362Z"
   },
   {
    "duration": 12,
    "start_time": "2024-11-04T21:18:29.369Z"
   },
   {
    "duration": 22,
    "start_time": "2024-11-04T21:18:29.382Z"
   },
   {
    "duration": 13,
    "start_time": "2024-11-04T21:18:29.405Z"
   },
   {
    "duration": 4,
    "start_time": "2024-11-04T21:18:29.419Z"
   },
   {
    "duration": 368,
    "start_time": "2024-11-04T21:18:29.424Z"
   },
   {
    "duration": 14,
    "start_time": "2024-11-04T21:18:29.793Z"
   },
   {
    "duration": 12,
    "start_time": "2024-11-04T21:18:29.808Z"
   },
   {
    "duration": 15,
    "start_time": "2024-11-04T21:18:29.821Z"
   },
   {
    "duration": 32,
    "start_time": "2024-11-04T21:18:29.838Z"
   },
   {
    "duration": 3,
    "start_time": "2024-11-04T21:18:29.871Z"
   },
   {
    "duration": 1269,
    "start_time": "2024-11-04T21:18:29.875Z"
   },
   {
    "duration": 4,
    "start_time": "2024-11-04T21:18:31.145Z"
   },
   {
    "duration": 3,
    "start_time": "2024-11-04T21:19:13.225Z"
   },
   {
    "duration": 3,
    "start_time": "2024-11-04T21:20:10.349Z"
   },
   {
    "duration": 7,
    "start_time": "2024-11-04T21:35:28.522Z"
   },
   {
    "duration": 3,
    "start_time": "2024-11-04T21:52:39.319Z"
   },
   {
    "duration": 22,
    "start_time": "2024-11-04T21:58:56.404Z"
   },
   {
    "duration": 14,
    "start_time": "2024-11-04T22:09:35.408Z"
   },
   {
    "duration": 4,
    "start_time": "2024-11-04T22:09:59.203Z"
   },
   {
    "duration": 4,
    "start_time": "2024-11-04T22:22:33.679Z"
   },
   {
    "duration": 3,
    "start_time": "2024-11-04T22:22:52.496Z"
   },
   {
    "duration": 4,
    "start_time": "2024-11-04T22:22:54.648Z"
   },
   {
    "duration": 4,
    "start_time": "2024-11-04T22:27:01.352Z"
   },
   {
    "duration": 12284,
    "start_time": "2024-11-04T22:27:03.290Z"
   },
   {
    "duration": 5,
    "start_time": "2024-11-04T22:29:41.466Z"
   },
   {
    "duration": 11,
    "start_time": "2024-11-04T22:29:46.326Z"
   },
   {
    "duration": 18,
    "start_time": "2024-11-04T22:30:03.155Z"
   },
   {
    "duration": 12223,
    "start_time": "2024-11-04T22:31:36.028Z"
   },
   {
    "duration": 11,
    "start_time": "2024-11-04T22:39:01.787Z"
   },
   {
    "duration": 5,
    "start_time": "2024-11-04T22:39:11.980Z"
   },
   {
    "duration": 13727,
    "start_time": "2024-11-04T22:39:13.868Z"
   },
   {
    "duration": 4,
    "start_time": "2024-11-04T22:40:42.842Z"
   },
   {
    "duration": 5,
    "start_time": "2024-11-04T22:41:46.336Z"
   },
   {
    "duration": 12953,
    "start_time": "2024-11-04T22:42:01.816Z"
   },
   {
    "duration": 4,
    "start_time": "2024-11-04T22:55:23.774Z"
   },
   {
    "duration": 20261,
    "start_time": "2024-11-04T22:55:24.633Z"
   },
   {
    "duration": 15131,
    "start_time": "2024-11-05T18:32:27.529Z"
   },
   {
    "duration": 1822,
    "start_time": "2024-11-05T18:32:42.663Z"
   },
   {
    "duration": 800,
    "start_time": "2024-11-05T18:32:44.487Z"
   },
   {
    "duration": 75,
    "start_time": "2024-11-05T18:32:45.290Z"
   },
   {
    "duration": 5,
    "start_time": "2024-11-05T18:32:45.367Z"
   },
   {
    "duration": 46,
    "start_time": "2024-11-05T18:32:45.374Z"
   },
   {
    "duration": 52,
    "start_time": "2024-11-05T18:32:45.422Z"
   },
   {
    "duration": 26,
    "start_time": "2024-11-05T18:32:45.476Z"
   },
   {
    "duration": 7,
    "start_time": "2024-11-05T18:32:45.504Z"
   },
   {
    "duration": 44,
    "start_time": "2024-11-05T18:32:45.515Z"
   },
   {
    "duration": 42,
    "start_time": "2024-11-05T18:32:45.561Z"
   },
   {
    "duration": 12,
    "start_time": "2024-11-05T18:32:45.605Z"
   },
   {
    "duration": 56,
    "start_time": "2024-11-05T18:32:45.619Z"
   },
   {
    "duration": 14,
    "start_time": "2024-11-05T18:32:45.677Z"
   },
   {
    "duration": 52,
    "start_time": "2024-11-05T18:32:45.693Z"
   },
   {
    "duration": 19,
    "start_time": "2024-11-05T18:32:45.747Z"
   },
   {
    "duration": 70,
    "start_time": "2024-11-05T18:32:45.768Z"
   },
   {
    "duration": 12,
    "start_time": "2024-11-05T18:32:45.840Z"
   },
   {
    "duration": 45,
    "start_time": "2024-11-05T18:32:45.854Z"
   },
   {
    "duration": 28,
    "start_time": "2024-11-05T18:32:45.901Z"
   },
   {
    "duration": 33,
    "start_time": "2024-11-05T18:32:45.931Z"
   },
   {
    "duration": 25,
    "start_time": "2024-11-05T18:32:45.967Z"
   },
   {
    "duration": 53,
    "start_time": "2024-11-05T18:32:45.994Z"
   },
   {
    "duration": 25,
    "start_time": "2024-11-05T18:32:46.049Z"
   },
   {
    "duration": 18,
    "start_time": "2024-11-05T18:32:46.076Z"
   },
   {
    "duration": 35,
    "start_time": "2024-11-05T18:32:46.096Z"
   },
   {
    "duration": 26,
    "start_time": "2024-11-05T18:32:46.133Z"
   },
   {
    "duration": 7,
    "start_time": "2024-11-05T18:32:46.164Z"
   },
   {
    "duration": 48,
    "start_time": "2024-11-05T18:32:46.173Z"
   },
   {
    "duration": 4198,
    "start_time": "2024-11-05T18:32:46.223Z"
   },
   {
    "duration": 16,
    "start_time": "2024-11-05T18:32:50.422Z"
   },
   {
    "duration": 30,
    "start_time": "2024-11-05T18:32:50.439Z"
   },
   {
    "duration": 9,
    "start_time": "2024-11-05T18:32:50.471Z"
   },
   {
    "duration": 20,
    "start_time": "2024-11-05T18:32:50.482Z"
   },
   {
    "duration": 25,
    "start_time": "2024-11-05T18:32:50.504Z"
   },
   {
    "duration": 34,
    "start_time": "2024-11-05T18:32:50.531Z"
   },
   {
    "duration": 7,
    "start_time": "2024-11-05T18:32:50.567Z"
   },
   {
    "duration": 452,
    "start_time": "2024-11-05T18:32:50.576Z"
   },
   {
    "duration": 17,
    "start_time": "2024-11-05T18:32:51.029Z"
   },
   {
    "duration": 26,
    "start_time": "2024-11-05T18:32:51.047Z"
   },
   {
    "duration": 28,
    "start_time": "2024-11-05T18:32:51.074Z"
   },
   {
    "duration": 16,
    "start_time": "2024-11-05T18:32:51.104Z"
   },
   {
    "duration": 21,
    "start_time": "2024-11-05T18:32:51.122Z"
   },
   {
    "duration": 1695,
    "start_time": "2024-11-05T18:32:51.145Z"
   },
   {
    "duration": 4,
    "start_time": "2024-11-05T18:32:52.842Z"
   },
   {
    "duration": 5,
    "start_time": "2024-11-05T18:32:52.847Z"
   },
   {
    "duration": 7,
    "start_time": "2024-11-05T18:32:52.854Z"
   },
   {
    "duration": 3,
    "start_time": "2024-11-05T18:32:52.863Z"
   },
   {
    "duration": 7,
    "start_time": "2024-11-05T18:32:52.868Z"
   },
   {
    "duration": 23723,
    "start_time": "2024-11-05T18:32:52.877Z"
   },
   {
    "duration": 2,
    "start_time": "2024-11-05T18:36:37.389Z"
   },
   {
    "duration": 6,
    "start_time": "2024-11-05T18:36:39.058Z"
   },
   {
    "duration": 157,
    "start_time": "2024-11-05T18:36:40.249Z"
   },
   {
    "duration": 7,
    "start_time": "2024-11-05T18:37:07.058Z"
   },
   {
    "duration": 14417,
    "start_time": "2024-11-05T18:37:08.001Z"
   },
   {
    "duration": 6,
    "start_time": "2024-11-05T18:38:28.703Z"
   },
   {
    "duration": 32550,
    "start_time": "2024-11-05T18:38:31.624Z"
   },
   {
    "duration": 7,
    "start_time": "2024-11-05T18:40:15.928Z"
   },
   {
    "duration": 80310,
    "start_time": "2024-11-05T18:40:16.776Z"
   },
   {
    "duration": 70,
    "start_time": "2024-11-05T18:43:33.270Z"
   },
   {
    "duration": 8,
    "start_time": "2024-11-05T18:44:32.904Z"
   },
   {
    "duration": 86163,
    "start_time": "2024-11-05T18:44:53.050Z"
   },
   {
    "duration": 14,
    "start_time": "2024-11-05T18:47:41.373Z"
   },
   {
    "duration": 5,
    "start_time": "2024-11-05T18:47:54.241Z"
   },
   {
    "duration": 7,
    "start_time": "2024-11-05T18:48:02.770Z"
   },
   {
    "duration": 9,
    "start_time": "2024-11-05T18:48:09.314Z"
   },
   {
    "duration": 6,
    "start_time": "2024-11-05T18:49:02.420Z"
   },
   {
    "duration": 40952,
    "start_time": "2024-11-05T18:49:03.697Z"
   },
   {
    "duration": 34,
    "start_time": "2024-11-05T18:55:40.223Z"
   },
   {
    "duration": 8551,
    "start_time": "2024-11-05T18:55:44.229Z"
   },
   {
    "duration": 8,
    "start_time": "2024-11-05T18:55:52.783Z"
   },
   {
    "duration": 355,
    "start_time": "2024-11-05T18:55:52.793Z"
   },
   {
    "duration": 63,
    "start_time": "2024-11-05T18:55:53.150Z"
   },
   {
    "duration": 5,
    "start_time": "2024-11-05T18:55:53.214Z"
   },
   {
    "duration": 7,
    "start_time": "2024-11-05T18:55:53.221Z"
   },
   {
    "duration": 16,
    "start_time": "2024-11-05T18:55:53.229Z"
   },
   {
    "duration": 18,
    "start_time": "2024-11-05T18:55:53.265Z"
   },
   {
    "duration": 5,
    "start_time": "2024-11-05T18:55:53.284Z"
   },
   {
    "duration": 8,
    "start_time": "2024-11-05T18:55:53.293Z"
   },
   {
    "duration": 28,
    "start_time": "2024-11-05T18:55:53.302Z"
   },
   {
    "duration": 12,
    "start_time": "2024-11-05T18:55:53.366Z"
   },
   {
    "duration": 35,
    "start_time": "2024-11-05T18:55:53.380Z"
   },
   {
    "duration": 10,
    "start_time": "2024-11-05T18:55:53.417Z"
   },
   {
    "duration": 54,
    "start_time": "2024-11-05T18:55:53.429Z"
   },
   {
    "duration": 6,
    "start_time": "2024-11-05T18:55:53.485Z"
   },
   {
    "duration": 51,
    "start_time": "2024-11-05T18:55:53.492Z"
   },
   {
    "duration": 14,
    "start_time": "2024-11-05T18:55:53.545Z"
   },
   {
    "duration": 10,
    "start_time": "2024-11-05T18:55:53.561Z"
   },
   {
    "duration": 4,
    "start_time": "2024-11-05T18:55:53.573Z"
   },
   {
    "duration": 16,
    "start_time": "2024-11-05T18:55:53.579Z"
   },
   {
    "duration": 4,
    "start_time": "2024-11-05T18:55:53.597Z"
   },
   {
    "duration": 11,
    "start_time": "2024-11-05T18:55:53.603Z"
   },
   {
    "duration": 11,
    "start_time": "2024-11-05T18:55:53.616Z"
   },
   {
    "duration": 37,
    "start_time": "2024-11-05T18:55:53.628Z"
   },
   {
    "duration": 11,
    "start_time": "2024-11-05T18:55:53.668Z"
   },
   {
    "duration": 14,
    "start_time": "2024-11-05T18:55:53.681Z"
   },
   {
    "duration": 3,
    "start_time": "2024-11-05T18:55:53.700Z"
   },
   {
    "duration": 65,
    "start_time": "2024-11-05T18:55:53.705Z"
   },
   {
    "duration": 4293,
    "start_time": "2024-11-05T18:55:53.772Z"
   },
   {
    "duration": 16,
    "start_time": "2024-11-05T18:55:58.067Z"
   },
   {
    "duration": 17,
    "start_time": "2024-11-05T18:55:58.086Z"
   },
   {
    "duration": 5,
    "start_time": "2024-11-05T18:55:58.105Z"
   },
   {
    "duration": 19,
    "start_time": "2024-11-05T18:55:58.113Z"
   },
   {
    "duration": 43,
    "start_time": "2024-11-05T18:55:58.133Z"
   },
   {
    "duration": 12,
    "start_time": "2024-11-05T18:55:58.177Z"
   },
   {
    "duration": 6,
    "start_time": "2024-11-05T18:55:58.191Z"
   },
   {
    "duration": 442,
    "start_time": "2024-11-05T18:55:58.199Z"
   },
   {
    "duration": 23,
    "start_time": "2024-11-05T18:55:58.643Z"
   },
   {
    "duration": 14,
    "start_time": "2024-11-05T18:55:58.668Z"
   },
   {
    "duration": 15,
    "start_time": "2024-11-05T18:55:58.684Z"
   },
   {
    "duration": 20,
    "start_time": "2024-11-05T18:55:58.701Z"
   },
   {
    "duration": 6,
    "start_time": "2024-11-05T18:55:58.723Z"
   },
   {
    "duration": 1578,
    "start_time": "2024-11-05T18:55:58.764Z"
   },
   {
    "duration": 5,
    "start_time": "2024-11-05T18:56:00.344Z"
   },
   {
    "duration": 25,
    "start_time": "2024-11-05T18:56:00.350Z"
   },
   {
    "duration": 19,
    "start_time": "2024-11-05T18:56:00.377Z"
   },
   {
    "duration": 11,
    "start_time": "2024-11-05T18:56:00.397Z"
   },
   {
    "duration": 105,
    "start_time": "2024-11-05T18:56:00.409Z"
   },
   {
    "duration": 36777,
    "start_time": "2024-11-05T18:56:00.515Z"
   },
   {
    "duration": 4,
    "start_time": "2024-11-05T19:00:43.405Z"
   },
   {
    "duration": 15,
    "start_time": "2024-11-05T19:00:48.426Z"
   },
   {
    "duration": 9384,
    "start_time": "2024-11-05T19:01:00.907Z"
   },
   {
    "duration": 8,
    "start_time": "2024-11-05T19:01:10.294Z"
   },
   {
    "duration": 383,
    "start_time": "2024-11-05T19:01:10.305Z"
   },
   {
    "duration": 80,
    "start_time": "2024-11-05T19:01:10.691Z"
   },
   {
    "duration": 13,
    "start_time": "2024-11-05T19:01:10.773Z"
   },
   {
    "duration": 12,
    "start_time": "2024-11-05T19:01:10.788Z"
   },
   {
    "duration": 33,
    "start_time": "2024-11-05T19:01:10.802Z"
   },
   {
    "duration": 29,
    "start_time": "2024-11-05T19:01:10.837Z"
   },
   {
    "duration": 5,
    "start_time": "2024-11-05T19:01:10.868Z"
   },
   {
    "duration": 14,
    "start_time": "2024-11-05T19:01:10.875Z"
   },
   {
    "duration": 22,
    "start_time": "2024-11-05T19:01:10.891Z"
   },
   {
    "duration": 11,
    "start_time": "2024-11-05T19:01:10.915Z"
   },
   {
    "duration": 63,
    "start_time": "2024-11-05T19:01:10.928Z"
   },
   {
    "duration": 5,
    "start_time": "2024-11-05T19:01:10.994Z"
   },
   {
    "duration": 30,
    "start_time": "2024-11-05T19:01:11.002Z"
   },
   {
    "duration": 30,
    "start_time": "2024-11-05T19:01:11.034Z"
   },
   {
    "duration": 6,
    "start_time": "2024-11-05T19:01:11.070Z"
   },
   {
    "duration": 44,
    "start_time": "2024-11-05T19:01:11.078Z"
   },
   {
    "duration": 17,
    "start_time": "2024-11-05T19:01:11.125Z"
   },
   {
    "duration": 11,
    "start_time": "2024-11-05T19:01:11.166Z"
   },
   {
    "duration": 8,
    "start_time": "2024-11-05T19:01:11.179Z"
   },
   {
    "duration": 10,
    "start_time": "2024-11-05T19:01:11.190Z"
   },
   {
    "duration": 3,
    "start_time": "2024-11-05T19:01:11.210Z"
   },
   {
    "duration": 12,
    "start_time": "2024-11-05T19:01:11.215Z"
   },
   {
    "duration": 7,
    "start_time": "2024-11-05T19:01:11.228Z"
   },
   {
    "duration": 5,
    "start_time": "2024-11-05T19:01:11.264Z"
   },
   {
    "duration": 11,
    "start_time": "2024-11-05T19:01:11.272Z"
   },
   {
    "duration": 14,
    "start_time": "2024-11-05T19:01:11.289Z"
   },
   {
    "duration": 9,
    "start_time": "2024-11-05T19:01:11.305Z"
   },
   {
    "duration": 60,
    "start_time": "2024-11-05T19:01:11.315Z"
   },
   {
    "duration": 4414,
    "start_time": "2024-11-05T19:01:11.377Z"
   },
   {
    "duration": 18,
    "start_time": "2024-11-05T19:01:15.793Z"
   },
   {
    "duration": 13,
    "start_time": "2024-11-05T19:01:15.813Z"
   },
   {
    "duration": 9,
    "start_time": "2024-11-05T19:01:15.828Z"
   },
   {
    "duration": 36,
    "start_time": "2024-11-05T19:01:15.839Z"
   },
   {
    "duration": 27,
    "start_time": "2024-11-05T19:01:15.877Z"
   },
   {
    "duration": 17,
    "start_time": "2024-11-05T19:01:15.906Z"
   },
   {
    "duration": 21,
    "start_time": "2024-11-05T19:01:15.925Z"
   },
   {
    "duration": 478,
    "start_time": "2024-11-05T19:01:15.948Z"
   },
   {
    "duration": 43,
    "start_time": "2024-11-05T19:01:16.429Z"
   },
   {
    "duration": 20,
    "start_time": "2024-11-05T19:01:16.474Z"
   },
   {
    "duration": 17,
    "start_time": "2024-11-05T19:01:16.496Z"
   },
   {
    "duration": 16,
    "start_time": "2024-11-05T19:01:16.515Z"
   },
   {
    "duration": 7,
    "start_time": "2024-11-05T19:01:16.533Z"
   },
   {
    "duration": 1460,
    "start_time": "2024-11-05T19:01:16.542Z"
   },
   {
    "duration": 4,
    "start_time": "2024-11-05T19:01:18.004Z"
   },
   {
    "duration": 8,
    "start_time": "2024-11-05T19:01:18.009Z"
   },
   {
    "duration": 10,
    "start_time": "2024-11-05T19:01:18.019Z"
   },
   {
    "duration": 15,
    "start_time": "2024-11-05T19:01:18.031Z"
   },
   {
    "duration": 18,
    "start_time": "2024-11-05T19:01:18.047Z"
   },
   {
    "duration": 33130,
    "start_time": "2024-11-05T19:01:18.067Z"
   },
   {
    "duration": 6,
    "start_time": "2024-11-05T19:13:04.568Z"
   },
   {
    "duration": 31273,
    "start_time": "2024-11-05T19:13:06.643Z"
   },
   {
    "duration": 6,
    "start_time": "2024-11-05T19:15:42.137Z"
   },
   {
    "duration": 8,
    "start_time": "2024-11-05T19:16:39.381Z"
   },
   {
    "duration": 33562,
    "start_time": "2024-11-05T19:16:40.979Z"
   },
   {
    "duration": 9391,
    "start_time": "2024-11-05T19:19:23.697Z"
   },
   {
    "duration": 7,
    "start_time": "2024-11-05T19:19:33.090Z"
   },
   {
    "duration": 411,
    "start_time": "2024-11-05T19:19:33.099Z"
   },
   {
    "duration": 64,
    "start_time": "2024-11-05T19:19:33.512Z"
   },
   {
    "duration": 6,
    "start_time": "2024-11-05T19:19:33.578Z"
   },
   {
    "duration": 13,
    "start_time": "2024-11-05T19:19:33.586Z"
   },
   {
    "duration": 19,
    "start_time": "2024-11-05T19:19:33.601Z"
   },
   {
    "duration": 52,
    "start_time": "2024-11-05T19:19:33.622Z"
   },
   {
    "duration": 5,
    "start_time": "2024-11-05T19:19:33.677Z"
   },
   {
    "duration": 13,
    "start_time": "2024-11-05T19:19:33.688Z"
   },
   {
    "duration": 30,
    "start_time": "2024-11-05T19:19:33.703Z"
   },
   {
    "duration": 36,
    "start_time": "2024-11-05T19:19:33.735Z"
   },
   {
    "duration": 40,
    "start_time": "2024-11-05T19:19:33.774Z"
   },
   {
    "duration": 5,
    "start_time": "2024-11-05T19:19:33.816Z"
   },
   {
    "duration": 15,
    "start_time": "2024-11-05T19:19:33.823Z"
   },
   {
    "duration": 49,
    "start_time": "2024-11-05T19:19:33.840Z"
   },
   {
    "duration": 6,
    "start_time": "2024-11-05T19:19:33.891Z"
   },
   {
    "duration": 52,
    "start_time": "2024-11-05T19:19:33.899Z"
   },
   {
    "duration": 16,
    "start_time": "2024-11-05T19:19:33.966Z"
   },
   {
    "duration": 9,
    "start_time": "2024-11-05T19:19:33.985Z"
   },
   {
    "duration": 23,
    "start_time": "2024-11-05T19:19:33.996Z"
   },
   {
    "duration": 22,
    "start_time": "2024-11-05T19:19:34.021Z"
   },
   {
    "duration": 19,
    "start_time": "2024-11-05T19:19:34.045Z"
   },
   {
    "duration": 32,
    "start_time": "2024-11-05T19:19:34.067Z"
   },
   {
    "duration": 17,
    "start_time": "2024-11-05T19:19:34.101Z"
   },
   {
    "duration": 9,
    "start_time": "2024-11-05T19:19:34.120Z"
   },
   {
    "duration": 11,
    "start_time": "2024-11-05T19:19:34.131Z"
   },
   {
    "duration": 30,
    "start_time": "2024-11-05T19:19:34.146Z"
   },
   {
    "duration": 4,
    "start_time": "2024-11-05T19:19:34.178Z"
   },
   {
    "duration": 45,
    "start_time": "2024-11-05T19:19:34.184Z"
   },
   {
    "duration": 4413,
    "start_time": "2024-11-05T19:19:34.231Z"
   },
   {
    "duration": 21,
    "start_time": "2024-11-05T19:19:38.645Z"
   },
   {
    "duration": 17,
    "start_time": "2024-11-05T19:19:38.668Z"
   },
   {
    "duration": 8,
    "start_time": "2024-11-05T19:19:38.686Z"
   },
   {
    "duration": 17,
    "start_time": "2024-11-05T19:19:38.696Z"
   },
   {
    "duration": 22,
    "start_time": "2024-11-05T19:19:38.715Z"
   },
   {
    "duration": 39,
    "start_time": "2024-11-05T19:19:38.739Z"
   },
   {
    "duration": 7,
    "start_time": "2024-11-05T19:19:38.780Z"
   },
   {
    "duration": 508,
    "start_time": "2024-11-05T19:19:38.788Z"
   },
   {
    "duration": 16,
    "start_time": "2024-11-05T19:19:39.298Z"
   },
   {
    "duration": 30,
    "start_time": "2024-11-05T19:19:39.316Z"
   },
   {
    "duration": 37,
    "start_time": "2024-11-05T19:19:39.349Z"
   },
   {
    "duration": 29,
    "start_time": "2024-11-05T19:19:39.396Z"
   },
   {
    "duration": 6,
    "start_time": "2024-11-05T19:19:39.427Z"
   },
   {
    "duration": 1489,
    "start_time": "2024-11-05T19:19:39.435Z"
   },
   {
    "duration": 4,
    "start_time": "2024-11-05T19:19:40.925Z"
   },
   {
    "duration": 5,
    "start_time": "2024-11-05T19:19:40.931Z"
   },
   {
    "duration": 28,
    "start_time": "2024-11-05T19:19:40.937Z"
   },
   {
    "duration": 3,
    "start_time": "2024-11-05T19:19:40.966Z"
   },
   {
    "duration": 110,
    "start_time": "2024-11-05T19:19:40.970Z"
   },
   {
    "duration": 34936,
    "start_time": "2024-11-05T19:19:41.082Z"
   },
   {
    "duration": 21,
    "start_time": "2024-11-05T19:23:25.766Z"
   },
   {
    "duration": 8,
    "start_time": "2024-11-05T19:28:18.214Z"
   },
   {
    "duration": 72,
    "start_time": "2024-11-05T19:29:33.065Z"
   },
   {
    "duration": 10,
    "start_time": "2024-11-05T19:29:46.225Z"
   },
   {
    "duration": 31724,
    "start_time": "2024-11-05T19:29:48.441Z"
   },
   {
    "duration": 8774,
    "start_time": "2024-11-05T19:31:06.023Z"
   },
   {
    "duration": 9,
    "start_time": "2024-11-05T19:31:14.800Z"
   },
   {
    "duration": 386,
    "start_time": "2024-11-05T19:31:14.811Z"
   },
   {
    "duration": 50,
    "start_time": "2024-11-05T19:31:15.200Z"
   },
   {
    "duration": 7,
    "start_time": "2024-11-05T19:31:15.264Z"
   },
   {
    "duration": 17,
    "start_time": "2024-11-05T19:31:15.273Z"
   },
   {
    "duration": 25,
    "start_time": "2024-11-05T19:31:15.292Z"
   },
   {
    "duration": 23,
    "start_time": "2024-11-05T19:31:15.319Z"
   },
   {
    "duration": 25,
    "start_time": "2024-11-05T19:31:15.343Z"
   },
   {
    "duration": 12,
    "start_time": "2024-11-05T19:31:15.371Z"
   },
   {
    "duration": 20,
    "start_time": "2024-11-05T19:31:15.385Z"
   },
   {
    "duration": 10,
    "start_time": "2024-11-05T19:31:15.407Z"
   },
   {
    "duration": 64,
    "start_time": "2024-11-05T19:31:15.419Z"
   },
   {
    "duration": 5,
    "start_time": "2024-11-05T19:31:15.485Z"
   },
   {
    "duration": 13,
    "start_time": "2024-11-05T19:31:15.492Z"
   },
   {
    "duration": 21,
    "start_time": "2024-11-05T19:31:15.507Z"
   },
   {
    "duration": 5,
    "start_time": "2024-11-05T19:31:15.530Z"
   },
   {
    "duration": 53,
    "start_time": "2024-11-05T19:31:15.536Z"
   },
   {
    "duration": 14,
    "start_time": "2024-11-05T19:31:15.591Z"
   },
   {
    "duration": 19,
    "start_time": "2024-11-05T19:31:15.607Z"
   },
   {
    "duration": 4,
    "start_time": "2024-11-05T19:31:15.629Z"
   },
   {
    "duration": 32,
    "start_time": "2024-11-05T19:31:15.634Z"
   },
   {
    "duration": 4,
    "start_time": "2024-11-05T19:31:15.668Z"
   },
   {
    "duration": 9,
    "start_time": "2024-11-05T19:31:15.674Z"
   },
   {
    "duration": 22,
    "start_time": "2024-11-05T19:31:15.685Z"
   },
   {
    "duration": 5,
    "start_time": "2024-11-05T19:31:15.709Z"
   },
   {
    "duration": 14,
    "start_time": "2024-11-05T19:31:15.716Z"
   },
   {
    "duration": 35,
    "start_time": "2024-11-05T19:31:15.734Z"
   },
   {
    "duration": 5,
    "start_time": "2024-11-05T19:31:15.771Z"
   },
   {
    "duration": 42,
    "start_time": "2024-11-05T19:31:15.778Z"
   },
   {
    "duration": 4607,
    "start_time": "2024-11-05T19:31:15.822Z"
   },
   {
    "duration": 13,
    "start_time": "2024-11-05T19:31:20.431Z"
   },
   {
    "duration": 25,
    "start_time": "2024-11-05T19:31:20.445Z"
   },
   {
    "duration": 5,
    "start_time": "2024-11-05T19:31:20.472Z"
   },
   {
    "duration": 18,
    "start_time": "2024-11-05T19:31:20.479Z"
   },
   {
    "duration": 22,
    "start_time": "2024-11-05T19:31:20.499Z"
   },
   {
    "duration": 43,
    "start_time": "2024-11-05T19:31:20.523Z"
   },
   {
    "duration": 6,
    "start_time": "2024-11-05T19:31:20.568Z"
   },
   {
    "duration": 493,
    "start_time": "2024-11-05T19:31:20.575Z"
   },
   {
    "duration": 18,
    "start_time": "2024-11-05T19:31:21.070Z"
   },
   {
    "duration": 15,
    "start_time": "2024-11-05T19:31:21.090Z"
   },
   {
    "duration": 20,
    "start_time": "2024-11-05T19:31:21.106Z"
   },
   {
    "duration": 44,
    "start_time": "2024-11-05T19:31:21.128Z"
   },
   {
    "duration": 5,
    "start_time": "2024-11-05T19:31:21.174Z"
   },
   {
    "duration": 1531,
    "start_time": "2024-11-05T19:31:21.181Z"
   },
   {
    "duration": 4,
    "start_time": "2024-11-05T19:31:22.715Z"
   },
   {
    "duration": 5,
    "start_time": "2024-11-05T19:31:22.721Z"
   },
   {
    "duration": 9,
    "start_time": "2024-11-05T19:31:22.727Z"
   },
   {
    "duration": 13,
    "start_time": "2024-11-05T19:31:22.737Z"
   },
   {
    "duration": 18,
    "start_time": "2024-11-05T19:31:22.751Z"
   },
   {
    "duration": 28676,
    "start_time": "2024-11-05T19:31:22.771Z"
   },
   {
    "duration": 7,
    "start_time": "2024-11-05T19:34:39.625Z"
   },
   {
    "duration": 40154,
    "start_time": "2024-11-05T19:34:41.032Z"
   },
   {
    "duration": 8,
    "start_time": "2024-11-05T19:35:57.261Z"
   },
   {
    "duration": 27575,
    "start_time": "2024-11-05T19:35:59.544Z"
   },
   {
    "duration": 7,
    "start_time": "2024-11-05T19:37:36.594Z"
   },
   {
    "duration": 37107,
    "start_time": "2024-11-05T19:37:37.184Z"
   },
   {
    "duration": 23,
    "start_time": "2024-11-05T19:41:48.690Z"
   },
   {
    "duration": 8,
    "start_time": "2024-11-05T19:50:24.595Z"
   },
   {
    "duration": 39405,
    "start_time": "2024-11-05T19:50:25.866Z"
   },
   {
    "duration": 8,
    "start_time": "2024-11-05T19:51:31.068Z"
   },
   {
    "duration": 5323,
    "start_time": "2024-11-05T19:51:31.764Z"
   },
   {
    "duration": 7,
    "start_time": "2024-11-05T19:53:21.273Z"
   },
   {
    "duration": 5243,
    "start_time": "2024-11-05T19:53:21.944Z"
   },
   {
    "duration": 7,
    "start_time": "2024-11-05T19:54:10.553Z"
   },
   {
    "duration": 14431,
    "start_time": "2024-11-05T19:54:11.254Z"
   },
   {
    "duration": 14,
    "start_time": "2024-11-05T19:54:30.113Z"
   },
   {
    "duration": 8711,
    "start_time": "2024-11-05T19:54:52.189Z"
   },
   {
    "duration": 9,
    "start_time": "2024-11-05T19:55:00.904Z"
   },
   {
    "duration": 409,
    "start_time": "2024-11-05T19:55:00.915Z"
   },
   {
    "duration": 50,
    "start_time": "2024-11-05T19:55:01.326Z"
   },
   {
    "duration": 5,
    "start_time": "2024-11-05T19:55:01.379Z"
   },
   {
    "duration": 7,
    "start_time": "2024-11-05T19:55:01.386Z"
   },
   {
    "duration": 33,
    "start_time": "2024-11-05T19:55:01.395Z"
   },
   {
    "duration": 37,
    "start_time": "2024-11-05T19:55:01.430Z"
   },
   {
    "duration": 6,
    "start_time": "2024-11-05T19:55:01.469Z"
   },
   {
    "duration": 9,
    "start_time": "2024-11-05T19:55:01.476Z"
   },
   {
    "duration": 29,
    "start_time": "2024-11-05T19:55:01.487Z"
   },
   {
    "duration": 13,
    "start_time": "2024-11-05T19:55:01.518Z"
   },
   {
    "duration": 59,
    "start_time": "2024-11-05T19:55:01.533Z"
   },
   {
    "duration": 4,
    "start_time": "2024-11-05T19:55:01.596Z"
   },
   {
    "duration": 33,
    "start_time": "2024-11-05T19:55:01.602Z"
   },
   {
    "duration": 31,
    "start_time": "2024-11-05T19:55:01.637Z"
   },
   {
    "duration": 10,
    "start_time": "2024-11-05T19:55:01.669Z"
   },
   {
    "duration": 47,
    "start_time": "2024-11-05T19:55:01.681Z"
   },
   {
    "duration": 14,
    "start_time": "2024-11-05T19:55:01.730Z"
   },
   {
    "duration": 15,
    "start_time": "2024-11-05T19:55:01.746Z"
   },
   {
    "duration": 22,
    "start_time": "2024-11-05T19:55:01.764Z"
   },
   {
    "duration": 10,
    "start_time": "2024-11-05T19:55:01.787Z"
   },
   {
    "duration": 11,
    "start_time": "2024-11-05T19:55:01.799Z"
   },
   {
    "duration": 21,
    "start_time": "2024-11-05T19:55:01.811Z"
   },
   {
    "duration": 8,
    "start_time": "2024-11-05T19:55:01.834Z"
   },
   {
    "duration": 36,
    "start_time": "2024-11-05T19:55:01.844Z"
   },
   {
    "duration": 18,
    "start_time": "2024-11-05T19:55:01.882Z"
   },
   {
    "duration": 36,
    "start_time": "2024-11-05T19:55:01.902Z"
   },
   {
    "duration": 15,
    "start_time": "2024-11-05T19:55:01.939Z"
   },
   {
    "duration": 55,
    "start_time": "2024-11-05T19:55:01.956Z"
   },
   {
    "duration": 4389,
    "start_time": "2024-11-05T19:55:02.013Z"
   },
   {
    "duration": 14,
    "start_time": "2024-11-05T19:55:06.404Z"
   },
   {
    "duration": 8,
    "start_time": "2024-11-05T19:55:06.420Z"
   },
   {
    "duration": 5,
    "start_time": "2024-11-05T19:55:06.429Z"
   },
   {
    "duration": 41,
    "start_time": "2024-11-05T19:55:06.435Z"
   },
   {
    "duration": 52,
    "start_time": "2024-11-05T19:55:06.479Z"
   },
   {
    "duration": 18,
    "start_time": "2024-11-05T19:55:06.533Z"
   },
   {
    "duration": 20,
    "start_time": "2024-11-05T19:55:06.552Z"
   },
   {
    "duration": 495,
    "start_time": "2024-11-05T19:55:06.574Z"
   },
   {
    "duration": 20,
    "start_time": "2024-11-05T19:55:07.071Z"
   },
   {
    "duration": 17,
    "start_time": "2024-11-05T19:55:07.096Z"
   },
   {
    "duration": 17,
    "start_time": "2024-11-05T19:55:07.114Z"
   },
   {
    "duration": 44,
    "start_time": "2024-11-05T19:55:07.132Z"
   },
   {
    "duration": 4,
    "start_time": "2024-11-05T19:55:07.178Z"
   },
   {
    "duration": 1596,
    "start_time": "2024-11-05T19:55:07.184Z"
   },
   {
    "duration": 5,
    "start_time": "2024-11-05T19:55:08.782Z"
   },
   {
    "duration": 9,
    "start_time": "2024-11-05T19:55:08.788Z"
   },
   {
    "duration": 15,
    "start_time": "2024-11-05T19:55:08.799Z"
   },
   {
    "duration": 6,
    "start_time": "2024-11-05T19:55:08.816Z"
   },
   {
    "duration": 7,
    "start_time": "2024-11-05T19:55:08.824Z"
   },
   {
    "duration": 15587,
    "start_time": "2024-11-05T19:55:08.833Z"
   },
   {
    "duration": 0,
    "start_time": "2024-11-05T19:55:24.422Z"
   },
   {
    "duration": 7,
    "start_time": "2024-11-05T19:57:57.499Z"
   },
   {
    "duration": 33967,
    "start_time": "2024-11-05T19:57:59.023Z"
   },
   {
    "duration": 33253,
    "start_time": "2024-11-05T19:58:57.614Z"
   },
   {
    "duration": 27,
    "start_time": "2024-11-05T19:59:48.890Z"
   },
   {
    "duration": 7,
    "start_time": "2024-11-05T20:00:01.359Z"
   },
   {
    "duration": 38244,
    "start_time": "2024-11-05T20:00:02.310Z"
   },
   {
    "duration": 32,
    "start_time": "2024-11-05T20:00:40.556Z"
   },
   {
    "duration": 76,
    "start_time": "2024-11-05T20:01:22.092Z"
   },
   {
    "duration": 36675,
    "start_time": "2024-11-05T20:01:27.109Z"
   },
   {
    "duration": 7,
    "start_time": "2024-11-05T20:03:20.137Z"
   },
   {
    "duration": 24460,
    "start_time": "2024-11-05T20:03:21.219Z"
   },
   {
    "duration": 34,
    "start_time": "2024-11-05T20:15:14.941Z"
   },
   {
    "duration": 8,
    "start_time": "2024-11-05T20:23:51.722Z"
   },
   {
    "duration": 8608,
    "start_time": "2024-11-05T20:24:02.652Z"
   },
   {
    "duration": 7,
    "start_time": "2024-11-05T20:24:11.262Z"
   },
   {
    "duration": 360,
    "start_time": "2024-11-05T20:24:11.270Z"
   },
   {
    "duration": 57,
    "start_time": "2024-11-05T20:24:11.632Z"
   },
   {
    "duration": 5,
    "start_time": "2024-11-05T20:24:11.691Z"
   },
   {
    "duration": 6,
    "start_time": "2024-11-05T20:24:11.698Z"
   },
   {
    "duration": 19,
    "start_time": "2024-11-05T20:24:11.706Z"
   },
   {
    "duration": 48,
    "start_time": "2024-11-05T20:24:11.727Z"
   },
   {
    "duration": 6,
    "start_time": "2024-11-05T20:24:11.777Z"
   },
   {
    "duration": 9,
    "start_time": "2024-11-05T20:24:11.785Z"
   },
   {
    "duration": 21,
    "start_time": "2024-11-05T20:24:11.795Z"
   },
   {
    "duration": 12,
    "start_time": "2024-11-05T20:24:11.817Z"
   },
   {
    "duration": 63,
    "start_time": "2024-11-05T20:24:11.830Z"
   },
   {
    "duration": 4,
    "start_time": "2024-11-05T20:24:11.895Z"
   },
   {
    "duration": 16,
    "start_time": "2024-11-05T20:24:11.901Z"
   },
   {
    "duration": 16,
    "start_time": "2024-11-05T20:24:11.919Z"
   },
   {
    "duration": 6,
    "start_time": "2024-11-05T20:24:11.965Z"
   },
   {
    "duration": 36,
    "start_time": "2024-11-05T20:24:11.973Z"
   },
   {
    "duration": 13,
    "start_time": "2024-11-05T20:24:12.011Z"
   },
   {
    "duration": 6,
    "start_time": "2024-11-05T20:24:12.027Z"
   },
   {
    "duration": 57,
    "start_time": "2024-11-05T20:24:12.035Z"
   },
   {
    "duration": 4350,
    "start_time": "2024-11-05T20:24:12.094Z"
   },
   {
    "duration": 20,
    "start_time": "2024-11-05T20:24:16.446Z"
   },
   {
    "duration": 8,
    "start_time": "2024-11-05T20:24:16.468Z"
   },
   {
    "duration": 6,
    "start_time": "2024-11-05T20:24:16.477Z"
   },
   {
    "duration": 15,
    "start_time": "2024-11-05T20:24:16.484Z"
   },
   {
    "duration": 17,
    "start_time": "2024-11-05T20:24:16.501Z"
   },
   {
    "duration": 12,
    "start_time": "2024-11-05T20:24:16.521Z"
   },
   {
    "duration": 5,
    "start_time": "2024-11-05T20:24:16.565Z"
   },
   {
    "duration": 443,
    "start_time": "2024-11-05T20:24:16.572Z"
   },
   {
    "duration": 14,
    "start_time": "2024-11-05T20:24:17.017Z"
   },
   {
    "duration": 12,
    "start_time": "2024-11-05T20:24:17.033Z"
   },
   {
    "duration": 29,
    "start_time": "2024-11-05T20:24:17.046Z"
   },
   {
    "duration": 14,
    "start_time": "2024-11-05T20:24:17.079Z"
   },
   {
    "duration": 7,
    "start_time": "2024-11-05T20:24:17.095Z"
   },
   {
    "duration": 1564,
    "start_time": "2024-11-05T20:24:17.104Z"
   },
   {
    "duration": 3,
    "start_time": "2024-11-05T20:24:18.670Z"
   },
   {
    "duration": 6,
    "start_time": "2024-11-05T20:24:18.675Z"
   },
   {
    "duration": 10,
    "start_time": "2024-11-05T20:24:18.682Z"
   },
   {
    "duration": 3,
    "start_time": "2024-11-05T20:24:18.693Z"
   },
   {
    "duration": 7,
    "start_time": "2024-11-05T20:24:18.698Z"
   },
   {
    "duration": 25378,
    "start_time": "2024-11-05T20:24:18.707Z"
   },
   {
    "duration": 34,
    "start_time": "2024-11-05T20:24:44.087Z"
   },
   {
    "duration": 16,
    "start_time": "2024-11-05T21:00:24.241Z"
   },
   {
    "duration": 13,
    "start_time": "2024-11-05T21:02:10.298Z"
   },
   {
    "duration": 304,
    "start_time": "2024-11-05T21:02:32.199Z"
   },
   {
    "duration": 1123,
    "start_time": "2024-11-05T21:02:55.491Z"
   },
   {
    "duration": 40,
    "start_time": "2024-11-05T21:03:32.255Z"
   },
   {
    "duration": 307,
    "start_time": "2024-11-05T21:03:42.786Z"
   },
   {
    "duration": 240,
    "start_time": "2024-11-05T21:04:18.984Z"
   },
   {
    "duration": 254,
    "start_time": "2024-11-05T21:04:34.034Z"
   },
   {
    "duration": 15,
    "start_time": "2024-11-05T21:07:52.722Z"
   },
   {
    "duration": 532,
    "start_time": "2024-11-05T21:08:13.895Z"
   },
   {
    "duration": 47,
    "start_time": "2024-11-05T21:08:19.475Z"
   },
   {
    "duration": 34,
    "start_time": "2024-11-05T21:09:08.669Z"
   },
   {
    "duration": 18,
    "start_time": "2024-11-05T21:10:02.626Z"
   },
   {
    "duration": 13231,
    "start_time": "2024-11-05T21:12:54.997Z"
   },
   {
    "duration": 322,
    "start_time": "2024-11-05T21:29:01.183Z"
   },
   {
    "duration": 8519,
    "start_time": "2024-11-05T22:54:45.717Z"
   },
   {
    "duration": 6,
    "start_time": "2024-11-05T22:54:54.238Z"
   },
   {
    "duration": 396,
    "start_time": "2024-11-05T22:54:54.246Z"
   },
   {
    "duration": 50,
    "start_time": "2024-11-05T22:54:54.645Z"
   },
   {
    "duration": 5,
    "start_time": "2024-11-05T22:54:54.697Z"
   },
   {
    "duration": 5,
    "start_time": "2024-11-05T22:54:54.705Z"
   },
   {
    "duration": 18,
    "start_time": "2024-11-05T22:54:54.712Z"
   },
   {
    "duration": 50,
    "start_time": "2024-11-05T22:54:54.731Z"
   },
   {
    "duration": 5,
    "start_time": "2024-11-05T22:54:54.783Z"
   },
   {
    "duration": 10,
    "start_time": "2024-11-05T22:54:54.790Z"
   },
   {
    "duration": 22,
    "start_time": "2024-11-05T22:54:54.802Z"
   },
   {
    "duration": 45,
    "start_time": "2024-11-05T22:54:54.826Z"
   },
   {
    "duration": 31,
    "start_time": "2024-11-05T22:54:54.873Z"
   },
   {
    "duration": 5,
    "start_time": "2024-11-05T22:54:54.906Z"
   },
   {
    "duration": 14,
    "start_time": "2024-11-05T22:54:54.913Z"
   },
   {
    "duration": 18,
    "start_time": "2024-11-05T22:54:54.966Z"
   },
   {
    "duration": 4,
    "start_time": "2024-11-05T22:54:54.985Z"
   },
   {
    "duration": 26,
    "start_time": "2024-11-05T22:54:54.991Z"
   },
   {
    "duration": 12,
    "start_time": "2024-11-05T22:54:55.019Z"
   },
   {
    "duration": 35,
    "start_time": "2024-11-05T22:54:55.032Z"
   },
   {
    "duration": 34,
    "start_time": "2024-11-05T22:54:55.069Z"
   },
   {
    "duration": 4743,
    "start_time": "2024-11-05T22:54:55.105Z"
   },
   {
    "duration": 21,
    "start_time": "2024-11-05T22:54:59.849Z"
   },
   {
    "duration": 6,
    "start_time": "2024-11-05T22:54:59.872Z"
   },
   {
    "duration": 20,
    "start_time": "2024-11-05T22:54:59.880Z"
   },
   {
    "duration": 17,
    "start_time": "2024-11-05T22:54:59.902Z"
   },
   {
    "duration": 45,
    "start_time": "2024-11-05T22:54:59.921Z"
   },
   {
    "duration": 7,
    "start_time": "2024-11-05T22:54:59.971Z"
   },
   {
    "duration": 510,
    "start_time": "2024-11-05T22:54:59.980Z"
   },
   {
    "duration": 15,
    "start_time": "2024-11-05T22:55:00.492Z"
   },
   {
    "duration": 26,
    "start_time": "2024-11-05T22:55:00.508Z"
   },
   {
    "duration": 35,
    "start_time": "2024-11-05T22:55:00.535Z"
   },
   {
    "duration": 45,
    "start_time": "2024-11-05T22:55:00.572Z"
   },
   {
    "duration": 20,
    "start_time": "2024-11-05T22:55:00.619Z"
   },
   {
    "duration": 1493,
    "start_time": "2024-11-05T22:55:00.641Z"
   },
   {
    "duration": 4,
    "start_time": "2024-11-05T22:55:02.136Z"
   },
   {
    "duration": 29,
    "start_time": "2024-11-05T22:55:02.141Z"
   },
   {
    "duration": 19,
    "start_time": "2024-11-05T22:55:02.172Z"
   },
   {
    "duration": 34,
    "start_time": "2024-11-05T22:55:02.193Z"
   },
   {
    "duration": 157,
    "start_time": "2024-11-05T22:55:02.228Z"
   },
   {
    "duration": 24599,
    "start_time": "2024-11-05T22:55:02.387Z"
   },
   {
    "duration": 32,
    "start_time": "2024-11-05T22:55:26.988Z"
   },
   {
    "duration": 232,
    "start_time": "2024-11-05T22:55:27.022Z"
   },
   {
    "duration": 14721,
    "start_time": "2024-11-05T22:55:27.256Z"
   },
   {
    "duration": 292,
    "start_time": "2024-11-05T22:55:41.979Z"
   },
   {
    "duration": 8644,
    "start_time": "2024-11-05T23:17:37.434Z"
   },
   {
    "duration": 1902,
    "start_time": "2024-11-05T23:17:46.081Z"
   },
   {
    "duration": 354,
    "start_time": "2024-11-05T23:17:47.985Z"
   },
   {
    "duration": 51,
    "start_time": "2024-11-05T23:17:48.341Z"
   },
   {
    "duration": 5,
    "start_time": "2024-11-05T23:17:48.393Z"
   },
   {
    "duration": 7,
    "start_time": "2024-11-05T23:17:48.399Z"
   },
   {
    "duration": 18,
    "start_time": "2024-11-05T23:17:48.408Z"
   },
   {
    "duration": 54,
    "start_time": "2024-11-05T23:17:48.428Z"
   },
   {
    "duration": 5,
    "start_time": "2024-11-05T23:17:48.483Z"
   },
   {
    "duration": 9,
    "start_time": "2024-11-05T23:17:48.490Z"
   },
   {
    "duration": 67,
    "start_time": "2024-11-05T23:17:48.501Z"
   },
   {
    "duration": 10,
    "start_time": "2024-11-05T23:17:48.570Z"
   },
   {
    "duration": 29,
    "start_time": "2024-11-05T23:17:48.582Z"
   },
   {
    "duration": 5,
    "start_time": "2024-11-05T23:17:48.613Z"
   },
   {
    "duration": 47,
    "start_time": "2024-11-05T23:17:48.620Z"
   },
   {
    "duration": 26,
    "start_time": "2024-11-05T23:17:48.669Z"
   },
   {
    "duration": 5,
    "start_time": "2024-11-05T23:17:48.697Z"
   },
   {
    "duration": 28,
    "start_time": "2024-11-05T23:17:48.704Z"
   },
   {
    "duration": 45,
    "start_time": "2024-11-05T23:17:48.733Z"
   },
   {
    "duration": 4,
    "start_time": "2024-11-05T23:17:48.780Z"
   },
   {
    "duration": 80,
    "start_time": "2024-11-05T23:17:48.786Z"
   },
   {
    "duration": 4493,
    "start_time": "2024-11-05T23:17:48.868Z"
   },
   {
    "duration": 15,
    "start_time": "2024-11-05T23:17:53.365Z"
   },
   {
    "duration": 9,
    "start_time": "2024-11-05T23:17:53.381Z"
   },
   {
    "duration": 17,
    "start_time": "2024-11-05T23:17:53.392Z"
   },
   {
    "duration": 25,
    "start_time": "2024-11-05T23:17:53.411Z"
   },
   {
    "duration": 41,
    "start_time": "2024-11-05T23:17:53.437Z"
   },
   {
    "duration": 5,
    "start_time": "2024-11-05T23:17:53.481Z"
   },
   {
    "duration": 553,
    "start_time": "2024-11-05T23:17:53.488Z"
   },
   {
    "duration": 25,
    "start_time": "2024-11-05T23:17:54.043Z"
   },
   {
    "duration": 16,
    "start_time": "2024-11-05T23:17:54.069Z"
   },
   {
    "duration": 20,
    "start_time": "2024-11-05T23:17:54.087Z"
   },
   {
    "duration": 56,
    "start_time": "2024-11-05T23:17:54.109Z"
   },
   {
    "duration": 5,
    "start_time": "2024-11-05T23:17:54.167Z"
   },
   {
    "duration": 1531,
    "start_time": "2024-11-05T23:17:54.174Z"
   },
   {
    "duration": 5,
    "start_time": "2024-11-05T23:17:55.707Z"
   },
   {
    "duration": 7,
    "start_time": "2024-11-05T23:17:55.713Z"
   },
   {
    "duration": 9,
    "start_time": "2024-11-05T23:17:55.721Z"
   },
   {
    "duration": 12,
    "start_time": "2024-11-05T23:17:55.732Z"
   },
   {
    "duration": 9,
    "start_time": "2024-11-05T23:17:55.764Z"
   },
   {
    "duration": 24188,
    "start_time": "2024-11-05T23:17:55.775Z"
   },
   {
    "duration": 34,
    "start_time": "2024-11-05T23:18:19.965Z"
   },
   {
    "duration": 264,
    "start_time": "2024-11-05T23:18:20.001Z"
   },
   {
    "duration": 11510,
    "start_time": "2024-11-05T23:18:20.267Z"
   },
   {
    "duration": 346,
    "start_time": "2024-11-05T23:18:31.779Z"
   },
   {
    "duration": 289,
    "start_time": "2024-11-05T23:22:05.081Z"
   },
   {
    "duration": 343,
    "start_time": "2024-11-05T23:22:12.269Z"
   },
   {
    "duration": 15367,
    "start_time": "2024-11-06T04:25:05.468Z"
   },
   {
    "duration": 2421,
    "start_time": "2024-11-06T04:25:20.838Z"
   },
   {
    "duration": 740,
    "start_time": "2024-11-06T04:25:23.261Z"
   },
   {
    "duration": 74,
    "start_time": "2024-11-06T04:26:11.403Z"
   },
   {
    "duration": 6,
    "start_time": "2024-11-06T04:27:12.971Z"
   },
   {
    "duration": 5,
    "start_time": "2024-11-06T04:27:14.138Z"
   },
   {
    "duration": 27,
    "start_time": "2024-11-06T04:27:19.716Z"
   },
   {
    "duration": 43,
    "start_time": "2024-11-06T04:28:17.857Z"
   },
   {
    "duration": 4,
    "start_time": "2024-11-06T04:28:46.969Z"
   },
   {
    "duration": 53,
    "start_time": "2024-11-06T04:29:09.608Z"
   },
   {
    "duration": 44,
    "start_time": "2024-11-06T04:29:12.585Z"
   },
   {
    "duration": 9,
    "start_time": "2024-11-06T04:29:13.412Z"
   },
   {
    "duration": 41,
    "start_time": "2024-11-06T04:31:45.281Z"
   },
   {
    "duration": 4,
    "start_time": "2024-11-06T04:33:26.648Z"
   },
   {
    "duration": 12,
    "start_time": "2024-11-06T04:37:04.204Z"
   },
   {
    "duration": 40,
    "start_time": "2024-11-06T04:37:18.459Z"
   },
   {
    "duration": 4,
    "start_time": "2024-11-06T04:37:36.711Z"
   },
   {
    "duration": 27,
    "start_time": "2024-11-06T04:39:00.012Z"
   },
   {
    "duration": 14,
    "start_time": "2024-11-06T04:40:45.232Z"
   },
   {
    "duration": 13,
    "start_time": "2024-11-06T04:41:06.218Z"
   },
   {
    "duration": 4,
    "start_time": "2024-11-06T04:42:04.531Z"
   },
   {
    "duration": 36,
    "start_time": "2024-11-06T04:42:05.919Z"
   },
   {
    "duration": 4299,
    "start_time": "2024-11-06T04:42:11.400Z"
   },
   {
    "duration": 14,
    "start_time": "2024-11-06T04:42:32.400Z"
   },
   {
    "duration": 5,
    "start_time": "2024-11-06T04:42:38.094Z"
   },
   {
    "duration": 15,
    "start_time": "2024-11-06T04:42:59.494Z"
   },
   {
    "duration": 20,
    "start_time": "2024-11-06T04:43:00.749Z"
   },
   {
    "duration": 13,
    "start_time": "2024-11-06T04:43:07.062Z"
   },
   {
    "duration": 5,
    "start_time": "2024-11-06T04:43:09.914Z"
   },
   {
    "duration": 431,
    "start_time": "2024-11-06T04:44:25.866Z"
   },
   {
    "duration": 16,
    "start_time": "2024-11-06T04:44:39.769Z"
   },
   {
    "duration": 14,
    "start_time": "2024-11-06T04:44:46.588Z"
   },
   {
    "duration": 13,
    "start_time": "2024-11-06T04:44:54.053Z"
   },
   {
    "duration": 14,
    "start_time": "2024-11-06T04:44:54.976Z"
   },
   {
    "duration": 4,
    "start_time": "2024-11-06T04:44:56.484Z"
   },
   {
    "duration": 1533,
    "start_time": "2024-11-06T04:45:34.154Z"
   },
   {
    "duration": 4,
    "start_time": "2024-11-06T04:45:54.660Z"
   },
   {
    "duration": 4,
    "start_time": "2024-11-06T04:45:55.340Z"
   },
   {
    "duration": 9,
    "start_time": "2024-11-06T04:48:26.354Z"
   },
   {
    "duration": 3,
    "start_time": "2024-11-06T04:48:26.876Z"
   },
   {
    "duration": 6,
    "start_time": "2024-11-06T04:49:06.986Z"
   },
   {
    "duration": 154,
    "start_time": "2024-11-06T04:55:01.472Z"
   },
   {
    "duration": 23419,
    "start_time": "2024-11-06T04:55:09.515Z"
   },
   {
    "duration": 39,
    "start_time": "2024-11-06T04:55:32.936Z"
   },
   {
    "duration": 256,
    "start_time": "2024-11-06T04:55:56.706Z"
   },
   {
    "duration": 4,
    "start_time": "2024-11-06T19:59:39.244Z"
   },
   {
    "duration": 48,
    "start_time": "2024-11-06T20:00:02.491Z"
   },
   {
    "duration": 2,
    "start_time": "2024-11-06T20:03:26.201Z"
   },
   {
    "duration": 6,
    "start_time": "2024-11-06T20:04:45.941Z"
   },
   {
    "duration": 13958,
    "start_time": "2024-11-06T20:04:50.011Z"
   },
   {
    "duration": 1830,
    "start_time": "2024-11-06T20:05:03.972Z"
   },
   {
    "duration": 659,
    "start_time": "2024-11-06T20:05:05.804Z"
   },
   {
    "duration": 42,
    "start_time": "2024-11-06T20:05:06.465Z"
   },
   {
    "duration": 4,
    "start_time": "2024-11-06T20:05:06.508Z"
   },
   {
    "duration": 4,
    "start_time": "2024-11-06T20:05:06.514Z"
   },
   {
    "duration": 14,
    "start_time": "2024-11-06T20:05:06.519Z"
   },
   {
    "duration": 16,
    "start_time": "2024-11-06T20:05:06.534Z"
   },
   {
    "duration": 16,
    "start_time": "2024-11-06T20:05:06.551Z"
   },
   {
    "duration": 38,
    "start_time": "2024-11-06T20:05:06.569Z"
   },
   {
    "duration": 85,
    "start_time": "2024-11-06T20:05:06.608Z"
   },
   {
    "duration": 2,
    "start_time": "2024-11-06T20:05:06.694Z"
   },
   {
    "duration": 8,
    "start_time": "2024-11-06T20:05:06.698Z"
   },
   {
    "duration": 24,
    "start_time": "2024-11-06T20:05:06.707Z"
   },
   {
    "duration": 2,
    "start_time": "2024-11-06T20:05:06.732Z"
   },
   {
    "duration": 20,
    "start_time": "2024-11-06T20:05:06.735Z"
   },
   {
    "duration": 22,
    "start_time": "2024-11-06T20:05:06.757Z"
   },
   {
    "duration": 9,
    "start_time": "2024-11-06T20:05:06.781Z"
   },
   {
    "duration": 26,
    "start_time": "2024-11-06T20:05:06.791Z"
   },
   {
    "duration": 9,
    "start_time": "2024-11-06T20:05:06.819Z"
   },
   {
    "duration": 8,
    "start_time": "2024-11-06T20:05:06.829Z"
   },
   {
    "duration": 33,
    "start_time": "2024-11-06T20:05:06.839Z"
   },
   {
    "duration": 3444,
    "start_time": "2024-11-06T20:05:06.874Z"
   },
   {
    "duration": 11,
    "start_time": "2024-11-06T20:05:10.319Z"
   },
   {
    "duration": 14,
    "start_time": "2024-11-06T20:05:10.331Z"
   },
   {
    "duration": 11,
    "start_time": "2024-11-06T20:05:10.346Z"
   },
   {
    "duration": 14,
    "start_time": "2024-11-06T20:05:10.358Z"
   },
   {
    "duration": 10,
    "start_time": "2024-11-06T20:05:10.375Z"
   },
   {
    "duration": 23,
    "start_time": "2024-11-06T20:05:10.386Z"
   },
   {
    "duration": 361,
    "start_time": "2024-11-06T20:05:10.410Z"
   },
   {
    "duration": 20,
    "start_time": "2024-11-06T20:05:10.772Z"
   },
   {
    "duration": 17,
    "start_time": "2024-11-06T20:05:10.794Z"
   },
   {
    "duration": 29,
    "start_time": "2024-11-06T20:05:10.813Z"
   },
   {
    "duration": 21,
    "start_time": "2024-11-06T20:05:10.844Z"
   },
   {
    "duration": 5,
    "start_time": "2024-11-06T20:05:10.867Z"
   },
   {
    "duration": 1352,
    "start_time": "2024-11-06T20:05:10.873Z"
   },
   {
    "duration": 4,
    "start_time": "2024-11-06T20:05:12.227Z"
   },
   {
    "duration": 4,
    "start_time": "2024-11-06T20:05:12.232Z"
   },
   {
    "duration": 8,
    "start_time": "2024-11-06T20:05:12.237Z"
   },
   {
    "duration": 3,
    "start_time": "2024-11-06T20:05:12.246Z"
   },
   {
    "duration": 16,
    "start_time": "2024-11-06T20:05:12.250Z"
   },
   {
    "duration": 24574,
    "start_time": "2024-11-06T20:05:12.268Z"
   },
   {
    "duration": 29,
    "start_time": "2024-11-06T20:05:36.844Z"
   },
   {
    "duration": 213,
    "start_time": "2024-11-06T20:05:36.875Z"
   },
   {
    "duration": 9096,
    "start_time": "2024-11-06T20:05:37.089Z"
   },
   {
    "duration": 252,
    "start_time": "2024-11-06T20:05:46.186Z"
   },
   {
    "duration": 15,
    "start_time": "2024-11-06T20:08:41.539Z"
   },
   {
    "duration": 96,
    "start_time": "2024-11-06T20:08:47.029Z"
   },
   {
    "duration": 8216,
    "start_time": "2024-11-06T20:08:52.165Z"
   },
   {
    "duration": 6,
    "start_time": "2024-11-06T20:09:00.383Z"
   },
   {
    "duration": 361,
    "start_time": "2024-11-06T20:09:00.390Z"
   },
   {
    "duration": 42,
    "start_time": "2024-11-06T20:09:00.753Z"
   },
   {
    "duration": 19,
    "start_time": "2024-11-06T20:09:00.796Z"
   },
   {
    "duration": 35,
    "start_time": "2024-11-06T20:09:00.817Z"
   },
   {
    "duration": 34,
    "start_time": "2024-11-06T20:09:00.853Z"
   },
   {
    "duration": 35,
    "start_time": "2024-11-06T20:09:00.888Z"
   },
   {
    "duration": 3,
    "start_time": "2024-11-06T20:09:00.925Z"
   },
   {
    "duration": 23,
    "start_time": "2024-11-06T20:09:00.930Z"
   },
   {
    "duration": 56,
    "start_time": "2024-11-06T20:09:00.954Z"
   },
   {
    "duration": 2,
    "start_time": "2024-11-06T20:09:01.011Z"
   },
   {
    "duration": 13,
    "start_time": "2024-11-06T20:09:01.014Z"
   },
   {
    "duration": 16,
    "start_time": "2024-11-06T20:09:01.029Z"
   },
   {
    "duration": 0,
    "start_time": "2024-11-06T20:09:01.047Z"
   },
   {
    "duration": 0,
    "start_time": "2024-11-06T20:09:01.048Z"
   },
   {
    "duration": 0,
    "start_time": "2024-11-06T20:09:01.049Z"
   },
   {
    "duration": 0,
    "start_time": "2024-11-06T20:09:01.050Z"
   },
   {
    "duration": 0,
    "start_time": "2024-11-06T20:09:01.051Z"
   },
   {
    "duration": 0,
    "start_time": "2024-11-06T20:09:01.052Z"
   },
   {
    "duration": 0,
    "start_time": "2024-11-06T20:09:01.054Z"
   },
   {
    "duration": 0,
    "start_time": "2024-11-06T20:09:01.054Z"
   },
   {
    "duration": 0,
    "start_time": "2024-11-06T20:09:01.056Z"
   },
   {
    "duration": 0,
    "start_time": "2024-11-06T20:09:01.057Z"
   },
   {
    "duration": 0,
    "start_time": "2024-11-06T20:09:01.058Z"
   },
   {
    "duration": 0,
    "start_time": "2024-11-06T20:09:01.059Z"
   },
   {
    "duration": 0,
    "start_time": "2024-11-06T20:09:01.060Z"
   },
   {
    "duration": 0,
    "start_time": "2024-11-06T20:09:01.061Z"
   },
   {
    "duration": 0,
    "start_time": "2024-11-06T20:09:01.063Z"
   },
   {
    "duration": 0,
    "start_time": "2024-11-06T20:09:01.064Z"
   },
   {
    "duration": 0,
    "start_time": "2024-11-06T20:09:01.065Z"
   },
   {
    "duration": 0,
    "start_time": "2024-11-06T20:09:01.066Z"
   },
   {
    "duration": 0,
    "start_time": "2024-11-06T20:09:01.067Z"
   },
   {
    "duration": 0,
    "start_time": "2024-11-06T20:09:01.107Z"
   },
   {
    "duration": 0,
    "start_time": "2024-11-06T20:09:01.109Z"
   },
   {
    "duration": 0,
    "start_time": "2024-11-06T20:09:01.109Z"
   },
   {
    "duration": 0,
    "start_time": "2024-11-06T20:09:01.110Z"
   },
   {
    "duration": 0,
    "start_time": "2024-11-06T20:09:01.111Z"
   },
   {
    "duration": 0,
    "start_time": "2024-11-06T20:09:01.112Z"
   },
   {
    "duration": 0,
    "start_time": "2024-11-06T20:09:01.113Z"
   },
   {
    "duration": 0,
    "start_time": "2024-11-06T20:09:01.114Z"
   },
   {
    "duration": 0,
    "start_time": "2024-11-06T20:09:01.115Z"
   },
   {
    "duration": 0,
    "start_time": "2024-11-06T20:09:01.116Z"
   },
   {
    "duration": 0,
    "start_time": "2024-11-06T20:09:01.117Z"
   },
   {
    "duration": 0,
    "start_time": "2024-11-06T20:09:01.118Z"
   },
   {
    "duration": 0,
    "start_time": "2024-11-06T20:09:01.119Z"
   },
   {
    "duration": 0,
    "start_time": "2024-11-06T20:09:01.120Z"
   },
   {
    "duration": 8,
    "start_time": "2024-11-06T20:09:46.216Z"
   },
   {
    "duration": 9,
    "start_time": "2024-11-06T20:10:28.458Z"
   },
   {
    "duration": 6,
    "start_time": "2024-11-06T20:11:36.665Z"
   },
   {
    "duration": 9,
    "start_time": "2024-11-06T20:11:44.824Z"
   },
   {
    "duration": 9,
    "start_time": "2024-11-06T20:11:52.433Z"
   },
   {
    "duration": 7,
    "start_time": "2024-11-06T20:13:38.078Z"
   },
   {
    "duration": 8,
    "start_time": "2024-11-06T20:13:47.191Z"
   },
   {
    "duration": 7,
    "start_time": "2024-11-06T20:13:52.320Z"
   },
   {
    "duration": 11,
    "start_time": "2024-11-06T20:15:07.518Z"
   },
   {
    "duration": 13,
    "start_time": "2024-11-06T20:15:20.343Z"
   },
   {
    "duration": 13,
    "start_time": "2024-11-06T20:15:40.954Z"
   },
   {
    "duration": 11,
    "start_time": "2024-11-06T20:15:58.794Z"
   },
   {
    "duration": 8,
    "start_time": "2024-11-06T20:16:04.323Z"
   },
   {
    "duration": 10,
    "start_time": "2024-11-06T20:16:20.584Z"
   },
   {
    "duration": 86,
    "start_time": "2024-11-06T20:16:36.036Z"
   },
   {
    "duration": 12,
    "start_time": "2024-11-06T20:16:38.844Z"
   },
   {
    "duration": 12,
    "start_time": "2024-11-06T20:16:45.374Z"
   },
   {
    "duration": 87,
    "start_time": "2024-11-06T20:19:23.054Z"
   },
   {
    "duration": 8,
    "start_time": "2024-11-06T20:19:37.724Z"
   },
   {
    "duration": 8,
    "start_time": "2024-11-06T20:20:32.275Z"
   },
   {
    "duration": 40,
    "start_time": "2024-11-06T20:21:58.124Z"
   },
   {
    "duration": 55,
    "start_time": "2024-11-06T20:22:49.305Z"
   },
   {
    "duration": 82,
    "start_time": "2024-11-06T20:30:36.448Z"
   },
   {
    "duration": 5,
    "start_time": "2024-11-06T20:30:56.042Z"
   },
   {
    "duration": 5,
    "start_time": "2024-11-06T20:30:57.658Z"
   },
   {
    "duration": 4,
    "start_time": "2024-11-06T20:31:20.752Z"
   },
   {
    "duration": 4,
    "start_time": "2024-11-06T20:31:22.440Z"
   },
   {
    "duration": 3,
    "start_time": "2024-11-06T20:31:50.506Z"
   },
   {
    "duration": 4,
    "start_time": "2024-11-06T20:31:51.092Z"
   },
   {
    "duration": 4,
    "start_time": "2024-11-06T20:33:03.706Z"
   },
   {
    "duration": 5,
    "start_time": "2024-11-06T20:33:05.089Z"
   },
   {
    "duration": 8122,
    "start_time": "2024-11-06T20:33:22.916Z"
   },
   {
    "duration": 6,
    "start_time": "2024-11-06T20:33:31.040Z"
   },
   {
    "duration": 354,
    "start_time": "2024-11-06T20:33:31.047Z"
   },
   {
    "duration": 57,
    "start_time": "2024-11-06T20:33:31.403Z"
   },
   {
    "duration": 4,
    "start_time": "2024-11-06T20:33:31.462Z"
   },
   {
    "duration": 56,
    "start_time": "2024-11-06T20:33:31.468Z"
   },
   {
    "duration": 22,
    "start_time": "2024-11-06T20:33:31.525Z"
   },
   {
    "duration": 14,
    "start_time": "2024-11-06T20:33:31.549Z"
   },
   {
    "duration": 9,
    "start_time": "2024-11-06T20:33:31.565Z"
   },
   {
    "duration": 47,
    "start_time": "2024-11-06T20:33:31.576Z"
   },
   {
    "duration": 19,
    "start_time": "2024-11-06T20:33:31.624Z"
   },
   {
    "duration": 5,
    "start_time": "2024-11-06T20:33:31.645Z"
   },
   {
    "duration": 39,
    "start_time": "2024-11-06T20:33:31.651Z"
   },
   {
    "duration": 10,
    "start_time": "2024-11-06T20:33:31.692Z"
   },
   {
    "duration": 41,
    "start_time": "2024-11-06T20:33:31.704Z"
   },
   {
    "duration": 74,
    "start_time": "2024-11-06T20:33:31.746Z"
   },
   {
    "duration": 2,
    "start_time": "2024-11-06T20:33:31.822Z"
   },
   {
    "duration": 11,
    "start_time": "2024-11-06T20:33:31.825Z"
   },
   {
    "duration": 22,
    "start_time": "2024-11-06T20:33:31.838Z"
   },
   {
    "duration": 34,
    "start_time": "2024-11-06T20:33:31.861Z"
   },
   {
    "duration": 36,
    "start_time": "2024-11-06T20:33:31.896Z"
   },
   {
    "duration": 20,
    "start_time": "2024-11-06T20:33:31.933Z"
   },
   {
    "duration": 9,
    "start_time": "2024-11-06T20:33:31.954Z"
   },
   {
    "duration": 63,
    "start_time": "2024-11-06T20:33:31.964Z"
   },
   {
    "duration": 3902,
    "start_time": "2024-11-06T20:33:32.029Z"
   },
   {
    "duration": 11,
    "start_time": "2024-11-06T20:33:35.932Z"
   },
   {
    "duration": 33,
    "start_time": "2024-11-06T20:33:35.945Z"
   },
   {
    "duration": 51,
    "start_time": "2024-11-06T20:33:35.982Z"
   },
   {
    "duration": 47,
    "start_time": "2024-11-06T20:33:36.035Z"
   },
   {
    "duration": 35,
    "start_time": "2024-11-06T20:33:36.083Z"
   },
   {
    "duration": 5,
    "start_time": "2024-11-06T20:33:36.121Z"
   },
   {
    "duration": 407,
    "start_time": "2024-11-06T20:33:36.127Z"
   },
   {
    "duration": 11,
    "start_time": "2024-11-06T20:33:36.536Z"
   },
   {
    "duration": 34,
    "start_time": "2024-11-06T20:33:36.548Z"
   },
   {
    "duration": 31,
    "start_time": "2024-11-06T20:33:36.583Z"
   },
   {
    "duration": 19,
    "start_time": "2024-11-06T20:33:36.615Z"
   },
   {
    "duration": 55,
    "start_time": "2024-11-06T20:33:36.636Z"
   },
   {
    "duration": 1276,
    "start_time": "2024-11-06T20:33:36.693Z"
   },
   {
    "duration": 4,
    "start_time": "2024-11-06T20:33:37.970Z"
   },
   {
    "duration": 20,
    "start_time": "2024-11-06T20:33:37.975Z"
   },
   {
    "duration": 16,
    "start_time": "2024-11-06T20:33:37.996Z"
   },
   {
    "duration": 19,
    "start_time": "2024-11-06T20:33:38.013Z"
   },
   {
    "duration": 99,
    "start_time": "2024-11-06T20:33:38.033Z"
   },
   {
    "duration": 24552,
    "start_time": "2024-11-06T20:33:38.133Z"
   },
   {
    "duration": 37,
    "start_time": "2024-11-06T20:34:02.687Z"
   },
   {
    "duration": 265,
    "start_time": "2024-11-06T20:34:02.725Z"
   },
   {
    "duration": 8877,
    "start_time": "2024-11-06T20:34:02.991Z"
   },
   {
    "duration": 250,
    "start_time": "2024-11-06T20:34:11.870Z"
   },
   {
    "duration": 65,
    "start_time": "2024-11-06T20:44:11.801Z"
   },
   {
    "duration": 16,
    "start_time": "2024-11-06T20:44:16.214Z"
   },
   {
    "duration": 16,
    "start_time": "2024-11-06T20:45:01.920Z"
   },
   {
    "duration": 41,
    "start_time": "2024-11-06T20:46:10.502Z"
   },
   {
    "duration": 40,
    "start_time": "2024-11-06T20:46:33.554Z"
   },
   {
    "duration": 44,
    "start_time": "2024-11-06T20:46:44.151Z"
   },
   {
    "duration": 8822,
    "start_time": "2024-11-06T20:47:59.803Z"
   },
   {
    "duration": 5,
    "start_time": "2024-11-06T20:48:08.628Z"
   },
   {
    "duration": 323,
    "start_time": "2024-11-06T20:48:08.634Z"
   },
   {
    "duration": 38,
    "start_time": "2024-11-06T20:48:08.959Z"
   },
   {
    "duration": 4,
    "start_time": "2024-11-06T20:48:09.007Z"
   },
   {
    "duration": 9,
    "start_time": "2024-11-06T20:48:09.012Z"
   },
   {
    "duration": 15,
    "start_time": "2024-11-06T20:48:09.023Z"
   },
   {
    "duration": 15,
    "start_time": "2024-11-06T20:48:09.039Z"
   },
   {
    "duration": 4,
    "start_time": "2024-11-06T20:48:09.056Z"
   },
   {
    "duration": 8,
    "start_time": "2024-11-06T20:48:09.062Z"
   },
   {
    "duration": 52,
    "start_time": "2024-11-06T20:48:09.071Z"
   },
   {
    "duration": 7,
    "start_time": "2024-11-06T20:48:09.125Z"
   },
   {
    "duration": 8,
    "start_time": "2024-11-06T20:48:09.133Z"
   },
   {
    "duration": 7,
    "start_time": "2024-11-06T20:48:09.142Z"
   },
   {
    "duration": 14,
    "start_time": "2024-11-06T20:48:09.150Z"
   },
   {
    "duration": 9,
    "start_time": "2024-11-06T20:48:09.166Z"
   },
   {
    "duration": 51,
    "start_time": "2024-11-06T20:48:09.177Z"
   },
   {
    "duration": 3,
    "start_time": "2024-11-06T20:48:09.230Z"
   },
   {
    "duration": 12,
    "start_time": "2024-11-06T20:48:09.235Z"
   },
   {
    "duration": 22,
    "start_time": "2024-11-06T20:48:09.249Z"
   },
   {
    "duration": 35,
    "start_time": "2024-11-06T20:48:09.273Z"
   },
   {
    "duration": 17,
    "start_time": "2024-11-06T20:48:09.310Z"
   },
   {
    "duration": 5,
    "start_time": "2024-11-06T20:48:09.328Z"
   },
   {
    "duration": 30,
    "start_time": "2024-11-06T20:48:09.335Z"
   },
   {
    "duration": 12,
    "start_time": "2024-11-06T20:48:09.367Z"
   },
   {
    "duration": 4,
    "start_time": "2024-11-06T20:48:09.406Z"
   },
   {
    "duration": 38,
    "start_time": "2024-11-06T20:48:09.411Z"
   },
   {
    "duration": 3811,
    "start_time": "2024-11-06T20:48:09.452Z"
   },
   {
    "duration": 12,
    "start_time": "2024-11-06T20:48:13.264Z"
   },
   {
    "duration": 6,
    "start_time": "2024-11-06T20:48:13.278Z"
   },
   {
    "duration": 26,
    "start_time": "2024-11-06T20:48:13.285Z"
   },
   {
    "duration": 15,
    "start_time": "2024-11-06T20:48:13.313Z"
   },
   {
    "duration": 9,
    "start_time": "2024-11-06T20:48:13.330Z"
   },
   {
    "duration": 5,
    "start_time": "2024-11-06T20:48:13.341Z"
   },
   {
    "duration": 406,
    "start_time": "2024-11-06T20:48:13.348Z"
   },
   {
    "duration": 11,
    "start_time": "2024-11-06T20:48:13.755Z"
   },
   {
    "duration": 38,
    "start_time": "2024-11-06T20:48:13.768Z"
   },
   {
    "duration": 16,
    "start_time": "2024-11-06T20:48:13.807Z"
   },
   {
    "duration": 18,
    "start_time": "2024-11-06T20:48:13.825Z"
   },
   {
    "duration": 5,
    "start_time": "2024-11-06T20:48:13.844Z"
   },
   {
    "duration": 1130,
    "start_time": "2024-11-06T20:48:13.851Z"
   },
   {
    "duration": 3,
    "start_time": "2024-11-06T20:48:14.982Z"
   },
   {
    "duration": 125,
    "start_time": "2024-11-06T20:48:14.987Z"
   },
   {
    "duration": 65,
    "start_time": "2024-11-06T20:48:15.113Z"
   },
   {
    "duration": 63,
    "start_time": "2024-11-06T20:48:15.179Z"
   },
   {
    "duration": 41,
    "start_time": "2024-11-06T20:48:15.243Z"
   },
   {
    "duration": 24715,
    "start_time": "2024-11-06T20:48:15.285Z"
   },
   {
    "duration": 26,
    "start_time": "2024-11-06T20:48:40.001Z"
   },
   {
    "duration": 212,
    "start_time": "2024-11-06T20:48:40.028Z"
   },
   {
    "duration": 8749,
    "start_time": "2024-11-06T20:48:40.242Z"
   },
   {
    "duration": 378,
    "start_time": "2024-11-06T20:48:48.993Z"
   },
   {
    "duration": 1096,
    "start_time": "2024-11-06T20:50:15.629Z"
   },
   {
    "duration": 8270,
    "start_time": "2024-11-06T20:50:41.196Z"
   },
   {
    "duration": 5,
    "start_time": "2024-11-06T20:50:49.468Z"
   },
   {
    "duration": 308,
    "start_time": "2024-11-06T20:50:49.474Z"
   },
   {
    "duration": 41,
    "start_time": "2024-11-06T20:50:49.784Z"
   },
   {
    "duration": 11,
    "start_time": "2024-11-06T20:50:49.826Z"
   },
   {
    "duration": 15,
    "start_time": "2024-11-06T20:50:49.838Z"
   },
   {
    "duration": 21,
    "start_time": "2024-11-06T20:50:49.855Z"
   },
   {
    "duration": 18,
    "start_time": "2024-11-06T20:50:49.878Z"
   },
   {
    "duration": 10,
    "start_time": "2024-11-06T20:50:49.898Z"
   },
   {
    "duration": 13,
    "start_time": "2024-11-06T20:50:49.911Z"
   },
   {
    "duration": 31,
    "start_time": "2024-11-06T20:50:49.926Z"
   },
   {
    "duration": 5,
    "start_time": "2024-11-06T20:50:49.959Z"
   },
   {
    "duration": 8,
    "start_time": "2024-11-06T20:50:49.965Z"
   },
   {
    "duration": 15,
    "start_time": "2024-11-06T20:50:49.974Z"
   },
   {
    "duration": 0,
    "start_time": "2024-11-06T20:50:50.007Z"
   },
   {
    "duration": 0,
    "start_time": "2024-11-06T20:50:50.008Z"
   },
   {
    "duration": 0,
    "start_time": "2024-11-06T20:50:50.009Z"
   },
   {
    "duration": 0,
    "start_time": "2024-11-06T20:50:50.011Z"
   },
   {
    "duration": 0,
    "start_time": "2024-11-06T20:50:50.011Z"
   },
   {
    "duration": 0,
    "start_time": "2024-11-06T20:50:50.012Z"
   },
   {
    "duration": 0,
    "start_time": "2024-11-06T20:50:50.013Z"
   },
   {
    "duration": 0,
    "start_time": "2024-11-06T20:50:50.014Z"
   },
   {
    "duration": 0,
    "start_time": "2024-11-06T20:50:50.015Z"
   },
   {
    "duration": 0,
    "start_time": "2024-11-06T20:50:50.016Z"
   },
   {
    "duration": 0,
    "start_time": "2024-11-06T20:50:50.017Z"
   },
   {
    "duration": 0,
    "start_time": "2024-11-06T20:50:50.018Z"
   },
   {
    "duration": 0,
    "start_time": "2024-11-06T20:50:50.019Z"
   },
   {
    "duration": 0,
    "start_time": "2024-11-06T20:50:50.021Z"
   },
   {
    "duration": 0,
    "start_time": "2024-11-06T20:50:50.021Z"
   },
   {
    "duration": 0,
    "start_time": "2024-11-06T20:50:50.023Z"
   },
   {
    "duration": 0,
    "start_time": "2024-11-06T20:50:50.023Z"
   },
   {
    "duration": 0,
    "start_time": "2024-11-06T20:50:50.024Z"
   },
   {
    "duration": 0,
    "start_time": "2024-11-06T20:50:50.025Z"
   },
   {
    "duration": 0,
    "start_time": "2024-11-06T20:50:50.026Z"
   },
   {
    "duration": 0,
    "start_time": "2024-11-06T20:50:50.027Z"
   },
   {
    "duration": 0,
    "start_time": "2024-11-06T20:50:50.028Z"
   },
   {
    "duration": 0,
    "start_time": "2024-11-06T20:50:50.029Z"
   },
   {
    "duration": 0,
    "start_time": "2024-11-06T20:50:50.030Z"
   },
   {
    "duration": 0,
    "start_time": "2024-11-06T20:50:50.031Z"
   },
   {
    "duration": 0,
    "start_time": "2024-11-06T20:50:50.033Z"
   },
   {
    "duration": 0,
    "start_time": "2024-11-06T20:50:50.034Z"
   },
   {
    "duration": 0,
    "start_time": "2024-11-06T20:50:50.035Z"
   },
   {
    "duration": 0,
    "start_time": "2024-11-06T20:50:50.036Z"
   },
   {
    "duration": 0,
    "start_time": "2024-11-06T20:50:50.037Z"
   },
   {
    "duration": 0,
    "start_time": "2024-11-06T20:50:50.038Z"
   },
   {
    "duration": 0,
    "start_time": "2024-11-06T20:50:50.039Z"
   },
   {
    "duration": 0,
    "start_time": "2024-11-06T20:50:50.040Z"
   },
   {
    "duration": 0,
    "start_time": "2024-11-06T20:50:50.041Z"
   },
   {
    "duration": 0,
    "start_time": "2024-11-06T20:50:50.042Z"
   },
   {
    "duration": 0,
    "start_time": "2024-11-06T20:50:50.043Z"
   },
   {
    "duration": 0,
    "start_time": "2024-11-06T20:50:50.044Z"
   },
   {
    "duration": 0,
    "start_time": "2024-11-06T20:50:50.109Z"
   },
   {
    "duration": 6,
    "start_time": "2024-11-06T20:52:35.973Z"
   },
   {
    "duration": 5,
    "start_time": "2024-11-06T20:54:13.431Z"
   },
   {
    "duration": 9,
    "start_time": "2024-11-06T20:56:47.683Z"
   },
   {
    "duration": 12,
    "start_time": "2024-11-06T20:58:01.263Z"
   },
   {
    "duration": 6,
    "start_time": "2024-11-06T20:58:32.663Z"
   },
   {
    "duration": 8,
    "start_time": "2024-11-06T21:00:42.118Z"
   },
   {
    "duration": 6,
    "start_time": "2024-11-06T21:06:21.391Z"
   },
   {
    "duration": 10,
    "start_time": "2024-11-06T21:06:27.303Z"
   },
   {
    "duration": 9,
    "start_time": "2024-11-06T21:07:32.395Z"
   },
   {
    "duration": 11,
    "start_time": "2024-11-06T21:07:48.905Z"
   },
   {
    "duration": 9,
    "start_time": "2024-11-06T21:08:04.125Z"
   },
   {
    "duration": 11,
    "start_time": "2024-11-06T21:12:32.228Z"
   },
   {
    "duration": 11,
    "start_time": "2024-11-06T21:13:17.469Z"
   },
   {
    "duration": 10,
    "start_time": "2024-11-06T21:13:52.607Z"
   },
   {
    "duration": 5,
    "start_time": "2024-11-06T21:14:06.827Z"
   },
   {
    "duration": 9,
    "start_time": "2024-11-06T21:14:44.467Z"
   },
   {
    "duration": 12,
    "start_time": "2024-11-06T21:15:06.266Z"
   },
   {
    "duration": 9,
    "start_time": "2024-11-06T21:19:08.651Z"
   },
   {
    "duration": 13,
    "start_time": "2024-11-06T21:19:21.878Z"
   },
   {
    "duration": 3,
    "start_time": "2024-11-06T21:23:26.022Z"
   },
   {
    "duration": 19,
    "start_time": "2024-11-06T21:23:31.304Z"
   },
   {
    "duration": 9,
    "start_time": "2024-11-06T21:23:58.118Z"
   },
   {
    "duration": 9,
    "start_time": "2024-11-06T21:25:57.124Z"
   },
   {
    "duration": 4,
    "start_time": "2024-11-06T21:26:57.974Z"
   },
   {
    "duration": 5,
    "start_time": "2024-11-06T21:27:21.342Z"
   },
   {
    "duration": 6,
    "start_time": "2024-11-06T21:27:31.884Z"
   },
   {
    "duration": 4,
    "start_time": "2024-11-06T21:31:39.887Z"
   },
   {
    "duration": 1126,
    "start_time": "2024-11-06T21:31:42.586Z"
   },
   {
    "duration": 1028,
    "start_time": "2024-11-06T21:34:04.673Z"
   },
   {
    "duration": 8268,
    "start_time": "2024-11-06T21:34:21.246Z"
   },
   {
    "duration": 6,
    "start_time": "2024-11-06T21:34:29.516Z"
   },
   {
    "duration": 352,
    "start_time": "2024-11-06T21:34:29.523Z"
   },
   {
    "duration": 42,
    "start_time": "2024-11-06T21:34:29.877Z"
   },
   {
    "duration": 4,
    "start_time": "2024-11-06T21:34:29.920Z"
   },
   {
    "duration": 32,
    "start_time": "2024-11-06T21:34:29.926Z"
   },
   {
    "duration": 19,
    "start_time": "2024-11-06T21:34:29.959Z"
   },
   {
    "duration": 15,
    "start_time": "2024-11-06T21:34:29.979Z"
   },
   {
    "duration": 19,
    "start_time": "2024-11-06T21:34:29.996Z"
   },
   {
    "duration": 32,
    "start_time": "2024-11-06T21:34:30.017Z"
   },
   {
    "duration": 57,
    "start_time": "2024-11-06T21:34:30.050Z"
   },
   {
    "duration": 33,
    "start_time": "2024-11-06T21:34:30.108Z"
   },
   {
    "duration": 22,
    "start_time": "2024-11-06T21:34:30.143Z"
   },
   {
    "duration": 42,
    "start_time": "2024-11-06T21:34:30.166Z"
   },
   {
    "duration": 25,
    "start_time": "2024-11-06T21:34:30.210Z"
   },
   {
    "duration": 56,
    "start_time": "2024-11-06T21:34:30.236Z"
   },
   {
    "duration": 21,
    "start_time": "2024-11-06T21:34:30.294Z"
   },
   {
    "duration": 31,
    "start_time": "2024-11-06T21:34:30.317Z"
   },
   {
    "duration": 54,
    "start_time": "2024-11-06T21:34:30.350Z"
   },
   {
    "duration": 24,
    "start_time": "2024-11-06T21:34:30.405Z"
   },
   {
    "duration": 32,
    "start_time": "2024-11-06T21:34:30.430Z"
   },
   {
    "duration": 21,
    "start_time": "2024-11-06T21:34:30.464Z"
   },
   {
    "duration": 38,
    "start_time": "2024-11-06T21:34:30.487Z"
   },
   {
    "duration": 16,
    "start_time": "2024-11-06T21:34:30.527Z"
   },
   {
    "duration": 4,
    "start_time": "2024-11-06T21:34:30.545Z"
   },
   {
    "duration": 31,
    "start_time": "2024-11-06T21:34:30.550Z"
   },
   {
    "duration": 3841,
    "start_time": "2024-11-06T21:34:30.583Z"
   },
   {
    "duration": 11,
    "start_time": "2024-11-06T21:34:34.429Z"
   },
   {
    "duration": 44,
    "start_time": "2024-11-06T21:34:34.442Z"
   },
   {
    "duration": 24,
    "start_time": "2024-11-06T21:34:34.487Z"
   },
   {
    "duration": 33,
    "start_time": "2024-11-06T21:34:34.513Z"
   },
   {
    "duration": 33,
    "start_time": "2024-11-06T21:34:34.548Z"
   },
   {
    "duration": 28,
    "start_time": "2024-11-06T21:34:34.583Z"
   },
   {
    "duration": 485,
    "start_time": "2024-11-06T21:34:34.613Z"
   },
   {
    "duration": 15,
    "start_time": "2024-11-06T21:34:35.100Z"
   },
   {
    "duration": 84,
    "start_time": "2024-11-06T21:34:35.117Z"
   },
   {
    "duration": 16,
    "start_time": "2024-11-06T21:34:35.202Z"
   },
   {
    "duration": 25,
    "start_time": "2024-11-06T21:34:35.219Z"
   },
   {
    "duration": 7,
    "start_time": "2024-11-06T21:34:35.246Z"
   },
   {
    "duration": 1215,
    "start_time": "2024-11-06T21:34:35.254Z"
   },
   {
    "duration": 4,
    "start_time": "2024-11-06T21:34:36.471Z"
   },
   {
    "duration": 19,
    "start_time": "2024-11-06T21:34:36.476Z"
   },
   {
    "duration": 19,
    "start_time": "2024-11-06T21:34:36.497Z"
   },
   {
    "duration": 3,
    "start_time": "2024-11-06T21:34:36.518Z"
   },
   {
    "duration": 10,
    "start_time": "2024-11-06T21:34:36.522Z"
   },
   {
    "duration": 22527,
    "start_time": "2024-11-06T21:34:36.533Z"
   },
   {
    "duration": 25,
    "start_time": "2024-11-06T21:34:59.062Z"
   },
   {
    "duration": 220,
    "start_time": "2024-11-06T21:34:59.088Z"
   },
   {
    "duration": 11392,
    "start_time": "2024-11-06T21:34:59.309Z"
   },
   {
    "duration": 280,
    "start_time": "2024-11-06T21:35:10.702Z"
   },
   {
    "duration": 4,
    "start_time": "2024-11-06T21:36:49.864Z"
   },
   {
    "duration": 986,
    "start_time": "2024-11-06T21:39:16.376Z"
   },
   {
    "duration": 8343,
    "start_time": "2024-11-06T21:39:20.328Z"
   },
   {
    "duration": 6,
    "start_time": "2024-11-06T21:39:28.673Z"
   },
   {
    "duration": 438,
    "start_time": "2024-11-06T21:39:28.681Z"
   },
   {
    "duration": 40,
    "start_time": "2024-11-06T21:39:29.121Z"
   },
   {
    "duration": 4,
    "start_time": "2024-11-06T21:39:29.164Z"
   },
   {
    "duration": 16,
    "start_time": "2024-11-06T21:39:29.169Z"
   },
   {
    "duration": 33,
    "start_time": "2024-11-06T21:39:29.186Z"
   },
   {
    "duration": 19,
    "start_time": "2024-11-06T21:39:29.221Z"
   },
   {
    "duration": 4,
    "start_time": "2024-11-06T21:39:29.242Z"
   },
   {
    "duration": 11,
    "start_time": "2024-11-06T21:39:29.248Z"
   },
   {
    "duration": 15,
    "start_time": "2024-11-06T21:39:29.260Z"
   },
   {
    "duration": 5,
    "start_time": "2024-11-06T21:39:29.277Z"
   },
   {
    "duration": 27,
    "start_time": "2024-11-06T21:39:29.283Z"
   },
   {
    "duration": 8,
    "start_time": "2024-11-06T21:39:29.314Z"
   },
   {
    "duration": 10,
    "start_time": "2024-11-06T21:39:29.324Z"
   },
   {
    "duration": 27,
    "start_time": "2024-11-06T21:39:29.336Z"
   },
   {
    "duration": 2,
    "start_time": "2024-11-06T21:39:29.365Z"
   },
   {
    "duration": 21,
    "start_time": "2024-11-06T21:39:29.368Z"
   },
   {
    "duration": 30,
    "start_time": "2024-11-06T21:39:29.391Z"
   },
   {
    "duration": 8,
    "start_time": "2024-11-06T21:39:29.422Z"
   },
   {
    "duration": 13,
    "start_time": "2024-11-06T21:39:29.431Z"
   },
   {
    "duration": 4,
    "start_time": "2024-11-06T21:39:29.445Z"
   },
   {
    "duration": 28,
    "start_time": "2024-11-06T21:39:29.450Z"
   },
   {
    "duration": 28,
    "start_time": "2024-11-06T21:39:29.479Z"
   },
   {
    "duration": 11,
    "start_time": "2024-11-06T21:39:29.509Z"
   },
   {
    "duration": 32,
    "start_time": "2024-11-06T21:39:29.521Z"
   },
   {
    "duration": 3881,
    "start_time": "2024-11-06T21:39:29.554Z"
   },
   {
    "duration": 10,
    "start_time": "2024-11-06T21:39:33.437Z"
   },
   {
    "duration": 14,
    "start_time": "2024-11-06T21:39:33.448Z"
   },
   {
    "duration": 23,
    "start_time": "2024-11-06T21:39:33.463Z"
   },
   {
    "duration": 36,
    "start_time": "2024-11-06T21:39:33.487Z"
   },
   {
    "duration": 39,
    "start_time": "2024-11-06T21:39:33.524Z"
   },
   {
    "duration": 30,
    "start_time": "2024-11-06T21:39:33.564Z"
   },
   {
    "duration": 401,
    "start_time": "2024-11-06T21:39:33.596Z"
   },
   {
    "duration": 13,
    "start_time": "2024-11-06T21:39:33.999Z"
   },
   {
    "duration": 55,
    "start_time": "2024-11-06T21:39:34.014Z"
   },
   {
    "duration": 29,
    "start_time": "2024-11-06T21:39:34.070Z"
   },
   {
    "duration": 21,
    "start_time": "2024-11-06T21:39:34.100Z"
   },
   {
    "duration": 9,
    "start_time": "2024-11-06T21:39:34.122Z"
   },
   {
    "duration": 1149,
    "start_time": "2024-11-06T21:39:34.133Z"
   },
   {
    "duration": 3,
    "start_time": "2024-11-06T21:39:35.285Z"
   },
   {
    "duration": 6,
    "start_time": "2024-11-06T21:39:35.289Z"
   },
   {
    "duration": 19,
    "start_time": "2024-11-06T21:39:35.306Z"
   },
   {
    "duration": 14,
    "start_time": "2024-11-06T21:39:35.326Z"
   },
   {
    "duration": 12,
    "start_time": "2024-11-06T21:39:35.342Z"
   },
   {
    "duration": 22108,
    "start_time": "2024-11-06T21:39:35.355Z"
   },
   {
    "duration": 63,
    "start_time": "2024-11-06T21:39:57.464Z"
   },
   {
    "duration": 247,
    "start_time": "2024-11-06T21:39:57.528Z"
   },
   {
    "duration": 11204,
    "start_time": "2024-11-06T21:39:57.776Z"
   },
   {
    "duration": 269,
    "start_time": "2024-11-06T21:40:08.981Z"
   },
   {
    "duration": 43,
    "start_time": "2024-11-06T21:42:48.784Z"
   },
   {
    "duration": 41,
    "start_time": "2024-11-06T21:42:59.557Z"
   },
   {
    "duration": 8217,
    "start_time": "2024-11-06T23:05:12.713Z"
   },
   {
    "duration": 6,
    "start_time": "2024-11-06T23:05:20.932Z"
   },
   {
    "duration": 353,
    "start_time": "2024-11-06T23:05:20.939Z"
   },
   {
    "duration": 51,
    "start_time": "2024-11-06T23:05:21.294Z"
   },
   {
    "duration": 5,
    "start_time": "2024-11-06T23:05:21.346Z"
   },
   {
    "duration": 56,
    "start_time": "2024-11-06T23:05:21.353Z"
   },
   {
    "duration": 20,
    "start_time": "2024-11-06T23:05:21.411Z"
   },
   {
    "duration": 113,
    "start_time": "2024-11-06T23:05:21.432Z"
   },
   {
    "duration": 146,
    "start_time": "2024-11-06T23:05:21.546Z"
   },
   {
    "duration": 89,
    "start_time": "2024-11-06T23:05:21.695Z"
   },
   {
    "duration": 36,
    "start_time": "2024-11-06T23:05:21.786Z"
   },
   {
    "duration": 6,
    "start_time": "2024-11-06T23:05:21.824Z"
   },
   {
    "duration": 25,
    "start_time": "2024-11-06T23:05:21.832Z"
   },
   {
    "duration": 24,
    "start_time": "2024-11-06T23:05:21.858Z"
   },
   {
    "duration": 12,
    "start_time": "2024-11-06T23:05:21.883Z"
   },
   {
    "duration": 52,
    "start_time": "2024-11-06T23:05:21.897Z"
   },
   {
    "duration": 27,
    "start_time": "2024-11-06T23:05:21.950Z"
   },
   {
    "duration": 18,
    "start_time": "2024-11-06T23:05:21.979Z"
   },
   {
    "duration": 33,
    "start_time": "2024-11-06T23:05:21.998Z"
   },
   {
    "duration": 11,
    "start_time": "2024-11-06T23:05:22.033Z"
   },
   {
    "duration": 73,
    "start_time": "2024-11-06T23:05:22.046Z"
   },
   {
    "duration": 40,
    "start_time": "2024-11-06T23:05:22.121Z"
   },
   {
    "duration": 10,
    "start_time": "2024-11-06T23:05:22.163Z"
   },
   {
    "duration": 48,
    "start_time": "2024-11-06T23:05:22.175Z"
   },
   {
    "duration": 4638,
    "start_time": "2024-11-06T23:05:22.224Z"
   },
   {
    "duration": 53,
    "start_time": "2024-11-06T23:05:26.863Z"
   },
   {
    "duration": 23,
    "start_time": "2024-11-06T23:05:26.917Z"
   },
   {
    "duration": 12,
    "start_time": "2024-11-06T23:05:26.943Z"
   },
   {
    "duration": 16,
    "start_time": "2024-11-06T23:05:26.956Z"
   },
   {
    "duration": 41,
    "start_time": "2024-11-06T23:05:26.973Z"
   },
   {
    "duration": 42,
    "start_time": "2024-11-06T23:05:27.016Z"
   },
   {
    "duration": 469,
    "start_time": "2024-11-06T23:05:27.059Z"
   },
   {
    "duration": 11,
    "start_time": "2024-11-06T23:05:27.529Z"
   },
   {
    "duration": 67,
    "start_time": "2024-11-06T23:05:27.541Z"
   },
   {
    "duration": 14,
    "start_time": "2024-11-06T23:05:27.609Z"
   },
   {
    "duration": 14,
    "start_time": "2024-11-06T23:05:27.624Z"
   },
   {
    "duration": 98,
    "start_time": "2024-11-06T23:05:27.639Z"
   },
   {
    "duration": 1314,
    "start_time": "2024-11-06T23:05:27.738Z"
   },
   {
    "duration": 5,
    "start_time": "2024-11-06T23:05:29.054Z"
   },
   {
    "duration": 5,
    "start_time": "2024-11-06T23:05:29.060Z"
   },
   {
    "duration": 8,
    "start_time": "2024-11-06T23:05:29.066Z"
   },
   {
    "duration": 32,
    "start_time": "2024-11-06T23:05:29.075Z"
   },
   {
    "duration": 8,
    "start_time": "2024-11-06T23:05:29.108Z"
   },
   {
    "duration": 22563,
    "start_time": "2024-11-06T23:05:29.117Z"
   },
   {
    "duration": 35,
    "start_time": "2024-11-06T23:05:51.682Z"
   },
   {
    "duration": 186,
    "start_time": "2024-11-06T23:05:51.719Z"
   },
   {
    "duration": 11261,
    "start_time": "2024-11-06T23:05:51.906Z"
   },
   {
    "duration": 298,
    "start_time": "2024-11-06T23:06:03.169Z"
   },
   {
    "duration": 13658,
    "start_time": "2024-11-07T05:10:04.545Z"
   },
   {
    "duration": 2316,
    "start_time": "2024-11-07T05:10:18.205Z"
   },
   {
    "duration": 712,
    "start_time": "2024-11-07T05:10:20.523Z"
   },
   {
    "duration": 51,
    "start_time": "2024-11-07T05:10:21.238Z"
   },
   {
    "duration": 10,
    "start_time": "2024-11-07T05:10:21.291Z"
   },
   {
    "duration": 5,
    "start_time": "2024-11-07T05:10:21.303Z"
   },
   {
    "duration": 18,
    "start_time": "2024-11-07T05:10:21.309Z"
   },
   {
    "duration": 19,
    "start_time": "2024-11-07T05:10:21.329Z"
   },
   {
    "duration": 4,
    "start_time": "2024-11-07T05:10:21.350Z"
   },
   {
    "duration": 49,
    "start_time": "2024-11-07T05:10:21.356Z"
   },
   {
    "duration": 21,
    "start_time": "2024-11-07T05:10:21.407Z"
   },
   {
    "duration": 7,
    "start_time": "2024-11-07T05:10:21.429Z"
   },
   {
    "duration": 31,
    "start_time": "2024-11-07T05:10:21.437Z"
   },
   {
    "duration": 5,
    "start_time": "2024-11-07T05:10:31.564Z"
   },
   {
    "duration": 5,
    "start_time": "2024-11-07T05:10:43.000Z"
   },
   {
    "duration": 29,
    "start_time": "2024-11-07T05:10:49.732Z"
   },
   {
    "duration": 10,
    "start_time": "2024-11-07T05:21:26.995Z"
   },
   {
    "duration": 36,
    "start_time": "2024-11-07T05:21:28.385Z"
   },
   {
    "duration": 4,
    "start_time": "2024-11-07T05:21:29.464Z"
   },
   {
    "duration": 25,
    "start_time": "2024-11-07T05:21:33.756Z"
   },
   {
    "duration": 12,
    "start_time": "2024-11-07T05:21:35.133Z"
   },
   {
    "duration": 5,
    "start_time": "2024-11-07T05:21:41.137Z"
   },
   {
    "duration": 34,
    "start_time": "2024-11-07T05:21:41.963Z"
   },
   {
    "duration": 4147,
    "start_time": "2024-11-07T05:21:43.301Z"
   },
   {
    "duration": 12,
    "start_time": "2024-11-07T05:21:47.450Z"
   },
   {
    "duration": 17,
    "start_time": "2024-11-07T05:21:47.464Z"
   },
   {
    "duration": 20,
    "start_time": "2024-11-07T05:21:47.483Z"
   },
   {
    "duration": 13,
    "start_time": "2024-11-07T05:21:47.505Z"
   },
   {
    "duration": 28,
    "start_time": "2024-11-07T05:21:47.520Z"
   },
   {
    "duration": 5,
    "start_time": "2024-11-07T05:21:48.952Z"
   },
   {
    "duration": 407,
    "start_time": "2024-11-07T05:21:51.519Z"
   },
   {
    "duration": 13,
    "start_time": "2024-11-07T05:21:52.150Z"
   },
   {
    "duration": 12,
    "start_time": "2024-11-07T05:21:53.380Z"
   },
   {
    "duration": 13,
    "start_time": "2024-11-07T05:21:53.424Z"
   },
   {
    "duration": 14,
    "start_time": "2024-11-07T05:21:55.767Z"
   },
   {
    "duration": 4,
    "start_time": "2024-11-07T05:21:56.568Z"
   },
   {
    "duration": 1452,
    "start_time": "2024-11-07T05:21:57.450Z"
   },
   {
    "duration": 4,
    "start_time": "2024-11-07T05:22:01.619Z"
   },
   {
    "duration": 4,
    "start_time": "2024-11-07T05:22:01.841Z"
   },
   {
    "duration": 9,
    "start_time": "2024-11-07T05:30:29.169Z"
   },
   {
    "duration": 3,
    "start_time": "2024-11-07T05:30:29.800Z"
   },
   {
    "duration": 7,
    "start_time": "2024-11-07T05:30:32.675Z"
   },
   {
    "duration": 22286,
    "start_time": "2024-11-07T05:30:42.415Z"
   },
   {
    "duration": 39,
    "start_time": "2024-11-07T05:31:04.703Z"
   },
   {
    "duration": 201,
    "start_time": "2024-11-07T05:31:37.668Z"
   },
   {
    "duration": 10661,
    "start_time": "2024-11-07T05:31:38.856Z"
   },
   {
    "duration": 14019,
    "start_time": "2025-06-18T21:51:45.245Z"
   },
   {
    "duration": 1899,
    "start_time": "2025-06-18T21:51:59.268Z"
   },
   {
    "duration": 357,
    "start_time": "2025-06-18T21:52:01.169Z"
   },
   {
    "duration": 52,
    "start_time": "2025-06-18T21:52:01.528Z"
   },
   {
    "duration": 5,
    "start_time": "2025-06-18T21:52:01.581Z"
   },
   {
    "duration": 39,
    "start_time": "2025-06-18T21:52:01.587Z"
   },
   {
    "duration": 36,
    "start_time": "2025-06-18T21:52:01.628Z"
   },
   {
    "duration": 38,
    "start_time": "2025-06-18T21:52:01.666Z"
   },
   {
    "duration": 33,
    "start_time": "2025-06-18T21:52:01.706Z"
   },
   {
    "duration": 17,
    "start_time": "2025-06-18T21:52:01.743Z"
   },
   {
    "duration": 54,
    "start_time": "2025-06-18T21:52:01.762Z"
   },
   {
    "duration": 268,
    "start_time": "2025-06-18T21:52:01.817Z"
   },
   {
    "duration": 56,
    "start_time": "2025-06-18T21:52:02.087Z"
   },
   {
    "duration": 43,
    "start_time": "2025-06-18T21:52:02.145Z"
   },
   {
    "duration": 48,
    "start_time": "2025-06-18T21:52:02.190Z"
   },
   {
    "duration": 78,
    "start_time": "2025-06-18T21:52:02.240Z"
   },
   {
    "duration": 14,
    "start_time": "2025-06-18T21:52:02.320Z"
   },
   {
    "duration": 20,
    "start_time": "2025-06-18T21:52:02.336Z"
   },
   {
    "duration": 14,
    "start_time": "2025-06-18T21:52:02.358Z"
   },
   {
    "duration": 55,
    "start_time": "2025-06-18T21:52:02.374Z"
   },
   {
    "duration": 140,
    "start_time": "2025-06-18T21:52:02.430Z"
   },
   {
    "duration": 20,
    "start_time": "2025-06-18T21:52:02.572Z"
   },
   {
    "duration": 70,
    "start_time": "2025-06-18T21:52:02.593Z"
   },
   {
    "duration": 4145,
    "start_time": "2025-06-18T21:52:02.665Z"
   },
   {
    "duration": 13,
    "start_time": "2025-06-18T21:52:06.812Z"
   },
   {
    "duration": 10,
    "start_time": "2025-06-18T21:52:06.827Z"
   },
   {
    "duration": 35,
    "start_time": "2025-06-18T21:52:06.838Z"
   },
   {
    "duration": 43,
    "start_time": "2025-06-18T21:52:06.877Z"
   },
   {
    "duration": 51,
    "start_time": "2025-06-18T21:52:06.921Z"
   },
   {
    "duration": 29,
    "start_time": "2025-06-18T21:52:06.974Z"
   },
   {
    "duration": 590,
    "start_time": "2025-06-18T21:52:07.004Z"
   },
   {
    "duration": 14,
    "start_time": "2025-06-18T21:52:07.596Z"
   },
   {
    "duration": 59,
    "start_time": "2025-06-18T21:52:07.611Z"
   },
   {
    "duration": 16,
    "start_time": "2025-06-18T21:52:07.672Z"
   },
   {
    "duration": 26,
    "start_time": "2025-06-18T21:52:07.689Z"
   },
   {
    "duration": 5,
    "start_time": "2025-06-18T21:52:07.717Z"
   },
   {
    "duration": 1556,
    "start_time": "2025-06-18T21:52:07.723Z"
   },
   {
    "duration": 4,
    "start_time": "2025-06-18T21:52:09.281Z"
   },
   {
    "duration": 7,
    "start_time": "2025-06-18T21:52:09.286Z"
   },
   {
    "duration": 9,
    "start_time": "2025-06-18T21:52:09.294Z"
   },
   {
    "duration": 3,
    "start_time": "2025-06-18T21:52:09.304Z"
   },
   {
    "duration": 52,
    "start_time": "2025-06-18T21:52:09.308Z"
   },
   {
    "duration": 25079,
    "start_time": "2025-06-18T21:52:09.361Z"
   },
   {
    "duration": 49,
    "start_time": "2025-06-18T21:52:34.442Z"
   },
   {
    "duration": 247,
    "start_time": "2025-06-18T21:52:34.493Z"
   },
   {
    "duration": 12085,
    "start_time": "2025-06-18T21:52:34.742Z"
   },
   {
    "duration": 0,
    "start_time": "2025-06-18T21:52:46.837Z"
   },
   {
    "duration": 10756,
    "start_time": "2025-06-18T22:04:20.702Z"
   },
   {
    "duration": 1844,
    "start_time": "2025-06-18T22:04:31.461Z"
   },
   {
    "duration": 338,
    "start_time": "2025-06-18T22:04:33.306Z"
   },
   {
    "duration": 53,
    "start_time": "2025-06-18T22:04:33.646Z"
   },
   {
    "duration": 5,
    "start_time": "2025-06-18T22:04:33.701Z"
   },
   {
    "duration": 29,
    "start_time": "2025-06-18T22:04:33.707Z"
   },
   {
    "duration": 17,
    "start_time": "2025-06-18T22:04:33.738Z"
   },
   {
    "duration": 18,
    "start_time": "2025-06-18T22:04:33.757Z"
   },
   {
    "duration": 27,
    "start_time": "2025-06-18T22:04:33.777Z"
   },
   {
    "duration": 15,
    "start_time": "2025-06-18T22:04:33.807Z"
   },
   {
    "duration": 29,
    "start_time": "2025-06-18T22:04:33.823Z"
   },
   {
    "duration": 6,
    "start_time": "2025-06-18T22:04:33.854Z"
   },
   {
    "duration": 8,
    "start_time": "2025-06-18T22:04:33.862Z"
   },
   {
    "duration": 68,
    "start_time": "2025-06-18T22:04:33.872Z"
   },
   {
    "duration": 5,
    "start_time": "2025-06-18T22:04:33.942Z"
   },
   {
    "duration": 32,
    "start_time": "2025-06-18T22:04:33.948Z"
   },
   {
    "duration": 25,
    "start_time": "2025-06-18T22:04:33.982Z"
   },
   {
    "duration": 140,
    "start_time": "2025-06-18T22:04:34.009Z"
   },
   {
    "duration": 4,
    "start_time": "2025-06-18T22:04:34.151Z"
   },
   {
    "duration": 45,
    "start_time": "2025-06-18T22:04:34.156Z"
   },
   {
    "duration": 13,
    "start_time": "2025-06-18T22:04:34.202Z"
   },
   {
    "duration": 18,
    "start_time": "2025-06-18T22:04:34.217Z"
   },
   {
    "duration": 39,
    "start_time": "2025-06-18T22:04:34.237Z"
   },
   {
    "duration": 4107,
    "start_time": "2025-06-18T22:04:34.278Z"
   },
   {
    "duration": 12,
    "start_time": "2025-06-18T22:04:38.387Z"
   },
   {
    "duration": 30,
    "start_time": "2025-06-18T22:04:38.401Z"
   },
   {
    "duration": 14,
    "start_time": "2025-06-18T22:04:38.432Z"
   },
   {
    "duration": 15,
    "start_time": "2025-06-18T22:04:38.449Z"
   },
   {
    "duration": 122,
    "start_time": "2025-06-18T22:04:38.465Z"
   },
   {
    "duration": 6,
    "start_time": "2025-06-18T22:04:38.588Z"
   },
   {
    "duration": 520,
    "start_time": "2025-06-18T22:04:38.595Z"
   },
   {
    "duration": 13,
    "start_time": "2025-06-18T22:04:39.117Z"
   },
   {
    "duration": 14,
    "start_time": "2025-06-18T22:04:39.136Z"
   },
   {
    "duration": 15,
    "start_time": "2025-06-18T22:04:39.152Z"
   },
   {
    "duration": 14,
    "start_time": "2025-06-18T22:04:39.169Z"
   },
   {
    "duration": 10,
    "start_time": "2025-06-18T22:04:39.185Z"
   },
   {
    "duration": 1427,
    "start_time": "2025-06-18T22:04:39.197Z"
   },
   {
    "duration": 10,
    "start_time": "2025-06-18T22:04:40.627Z"
   },
   {
    "duration": 13,
    "start_time": "2025-06-18T22:04:40.638Z"
   },
   {
    "duration": 24,
    "start_time": "2025-06-18T22:04:40.653Z"
   },
   {
    "duration": 8,
    "start_time": "2025-06-18T22:04:40.679Z"
   },
   {
    "duration": 19,
    "start_time": "2025-06-18T22:04:40.689Z"
   },
   {
    "duration": 25081,
    "start_time": "2025-06-18T22:04:40.710Z"
   },
   {
    "duration": 57,
    "start_time": "2025-06-18T22:05:05.793Z"
   },
   {
    "duration": 246,
    "start_time": "2025-06-18T22:05:05.852Z"
   },
   {
    "duration": 12070,
    "start_time": "2025-06-18T22:05:06.100Z"
   },
   {
    "duration": 0,
    "start_time": "2025-06-18T22:05:18.172Z"
   },
   {
    "duration": 1200,
    "start_time": "2025-06-18T22:10:12.553Z"
   },
   {
    "duration": 1209,
    "start_time": "2025-06-18T22:10:36.646Z"
   },
   {
    "duration": 11,
    "start_time": "2025-06-18T22:16:56.943Z"
   },
   {
    "duration": 2286,
    "start_time": "2025-06-18T22:17:42.992Z"
   },
   {
    "duration": 9488,
    "start_time": "2025-06-18T22:18:55.303Z"
   },
   {
    "duration": 17106,
    "start_time": "2025-06-18T22:19:13.504Z"
   },
   {
    "duration": 2312,
    "start_time": "2025-06-18T22:20:45.598Z"
   },
   {
    "duration": 10751,
    "start_time": "2025-06-18T22:21:02.363Z"
   },
   {
    "duration": 2285,
    "start_time": "2025-06-18T22:21:13.117Z"
   },
   {
    "duration": 338,
    "start_time": "2025-06-18T22:21:15.404Z"
   },
   {
    "duration": 55,
    "start_time": "2025-06-18T22:21:15.744Z"
   },
   {
    "duration": 5,
    "start_time": "2025-06-18T22:21:15.800Z"
   },
   {
    "duration": 6,
    "start_time": "2025-06-18T22:21:15.806Z"
   },
   {
    "duration": 41,
    "start_time": "2025-06-18T22:21:15.813Z"
   },
   {
    "duration": 19,
    "start_time": "2025-06-18T22:21:15.855Z"
   },
   {
    "duration": 4,
    "start_time": "2025-06-18T22:21:15.876Z"
   },
   {
    "duration": 14,
    "start_time": "2025-06-18T22:21:15.882Z"
   },
   {
    "duration": 49,
    "start_time": "2025-06-18T22:21:15.898Z"
   },
   {
    "duration": 6,
    "start_time": "2025-06-18T22:21:15.949Z"
   },
   {
    "duration": 7,
    "start_time": "2025-06-18T22:21:15.957Z"
   },
   {
    "duration": 9,
    "start_time": "2025-06-18T22:21:15.965Z"
   },
   {
    "duration": 6,
    "start_time": "2025-06-18T22:21:15.976Z"
   },
   {
    "duration": 39,
    "start_time": "2025-06-18T22:21:15.984Z"
   },
   {
    "duration": 15,
    "start_time": "2025-06-18T22:21:16.037Z"
   },
   {
    "duration": 17,
    "start_time": "2025-06-18T22:21:16.053Z"
   },
   {
    "duration": 4,
    "start_time": "2025-06-18T22:21:16.072Z"
   },
   {
    "duration": 34,
    "start_time": "2025-06-18T22:21:16.078Z"
   },
   {
    "duration": 31,
    "start_time": "2025-06-18T22:21:16.114Z"
   },
   {
    "duration": 88,
    "start_time": "2025-06-18T22:21:16.147Z"
   },
   {
    "duration": 35,
    "start_time": "2025-06-18T22:21:16.237Z"
   },
   {
    "duration": 4796,
    "start_time": "2025-06-18T22:21:16.274Z"
   },
   {
    "duration": 14,
    "start_time": "2025-06-18T22:21:21.072Z"
   },
   {
    "duration": 22,
    "start_time": "2025-06-18T22:21:21.088Z"
   },
   {
    "duration": 16,
    "start_time": "2025-06-18T22:21:21.112Z"
   },
   {
    "duration": 35,
    "start_time": "2025-06-18T22:21:21.138Z"
   },
   {
    "duration": 19,
    "start_time": "2025-06-18T22:21:21.175Z"
   },
   {
    "duration": 7,
    "start_time": "2025-06-18T22:21:21.196Z"
   },
   {
    "duration": 487,
    "start_time": "2025-06-18T22:21:21.205Z"
   },
   {
    "duration": 14,
    "start_time": "2025-06-18T22:21:21.693Z"
   },
   {
    "duration": 27,
    "start_time": "2025-06-18T22:21:21.709Z"
   },
   {
    "duration": 23,
    "start_time": "2025-06-18T22:21:21.738Z"
   },
   {
    "duration": 23,
    "start_time": "2025-06-18T22:21:21.763Z"
   },
   {
    "duration": 21,
    "start_time": "2025-06-18T22:21:21.788Z"
   },
   {
    "duration": 1307,
    "start_time": "2025-06-18T22:21:21.811Z"
   },
   {
    "duration": 4,
    "start_time": "2025-06-18T22:21:23.119Z"
   },
   {
    "duration": 62,
    "start_time": "2025-06-18T22:21:23.125Z"
   },
   {
    "duration": 33,
    "start_time": "2025-06-18T22:21:23.188Z"
   },
   {
    "duration": 23,
    "start_time": "2025-06-18T22:21:23.222Z"
   },
   {
    "duration": 30,
    "start_time": "2025-06-18T22:21:23.247Z"
   },
   {
    "duration": 25397,
    "start_time": "2025-06-18T22:21:23.279Z"
   },
   {
    "duration": 59,
    "start_time": "2025-06-18T22:21:48.677Z"
   },
   {
    "duration": 341,
    "start_time": "2025-06-18T22:21:48.738Z"
   },
   {
    "duration": 12209,
    "start_time": "2025-06-18T22:21:49.081Z"
   },
   {
    "duration": 464,
    "start_time": "2025-06-18T22:22:01.291Z"
   }
  ],
  "kernelspec": {
   "display_name": "Python 3 (ipykernel)",
   "language": "python",
   "name": "python3"
  },
  "language_info": {
   "codemirror_mode": {
    "name": "ipython",
    "version": 3
   },
   "file_extension": ".py",
   "mimetype": "text/x-python",
   "name": "python",
   "nbconvert_exporter": "python",
   "pygments_lexer": "ipython3",
   "version": "3.9.5"
  },
  "toc": {
   "base_numbering": 1,
   "nav_menu": {},
   "number_sections": true,
   "sideBar": true,
   "skip_h1_title": true,
   "title_cell": "Table of Contents",
   "title_sidebar": "Contents",
   "toc_cell": false,
   "toc_position": {
    "height": "calc(100% - 180px)",
    "left": "10px",
    "top": "150px",
    "width": "317.986px"
   },
   "toc_section_display": true,
   "toc_window_display": true
  }
 },
 "nbformat": 4,
 "nbformat_minor": 5
}
